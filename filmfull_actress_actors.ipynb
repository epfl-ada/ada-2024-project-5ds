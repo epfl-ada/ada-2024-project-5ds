{
 "cells": [
  {
   "cell_type": "code",
   "execution_count": 2,
   "metadata": {},
   "outputs": [],
   "source": [
    "from src.utils.data_utils import load_dataframe_from_csv\n",
    "from src.data.dataloader import load_initial_dataset\n",
    "from src.utils.clean_cmu import clean_movies_cmu\n",
    "from config import *\n",
    "\n",
    "import plotly.express as px\n",
    "import pandas as pd\n",
    "import plotly\n",
    "import seaborn as sns\n",
    "import matplotlib.pyplot as plt\n",
    "import numpy as np\n",
    "import plotly.graph_objects as go\n",
    "\n",
    "%load_ext autoreload\n",
    "%autoreload 2"
   ]
  },
  {
   "cell_type": "code",
   "execution_count": 3,
   "metadata": {},
   "outputs": [
    {
     "name": "stderr",
     "output_type": "stream",
     "text": [
      "d:\\UNIV\\MASTER-EPFL\\ADA\\applied-project\\ada-2024-project-5ds\\src\\utils\\data_utils.py:27: DtypeWarning: Columns (16) have mixed types. Specify dtype option on import or set low_memory=False.\n",
      "  df_loaded = pd.read_csv(csv_file_path)\n"
     ]
    }
   ],
   "source": [
    "movie_cmu = load_dataframe_from_csv('movie_cmu.csv')\n",
    "character = load_dataframe_from_csv('character.csv')\n",
    "plot_summaries = load_dataframe_from_csv('plot_summaries.csv')\n",
    "tvtropes = load_dataframe_from_csv('tvtropes.csv')\n",
    "name_clusters = load_dataframe_from_csv('name_clusters.csv')\n",
    "oscar_winning_films = load_dataframe_from_csv('oscar_winning_films_ids.csv')\n",
    "oscar_winning_actors = load_dataframe_from_csv('oscar_winning_actors.csv')\n",
    "oscar_winning_actresses = load_dataframe_from_csv('oscar_winning_actresses.csv')\n",
    "oscar_supporting_actors = load_dataframe_from_csv('oscar_winning_supporting_actors.csv')\n",
    "oscar_supporting_actresses = load_dataframe_from_csv('oscar_winning_supporting_actresses.csv')\n",
    "extended_films = load_dataframe_from_csv('film_2015_2024.csv')\n",
    "academy_award_winning_films = load_dataframe_from_csv('acedemy_award_winning_films')\n",
    "winning_actors_info = load_dataframe_from_csv('winning_actors_information.csv')\n",
    "imdb_ratings = load_dataframe_from_csv('imdb_ratings.csv')\n",
    "oscar_actors_info = load_dataframe_from_csv('oscar_actors_info.csv')\n",
    "oscar_actress_info = load_dataframe_from_csv('oscar_actress_info.csv')\n",
    "new_film_dataset = load_dataframe_from_csv('film_full_2.csv')"
   ]
  },
  {
   "cell_type": "code",
   "execution_count": 4,
   "metadata": {},
   "outputs": [
    {
     "data": {
      "text/plain": [
       "Index(['wikipedia_id', 'dataset_id', 'title', 'release_date', 'box_office',\n",
       "       'runtime', 'languages', 'countries', 'genres', 'reviewScores',\n",
       "       'awardsReceived', 'awardsNominated', 'capitalCost', 'release date',\n",
       "       'categories', 'nbOscarReceived', 'nbOscarNominated'],\n",
       "      dtype='object')"
      ]
     },
     "execution_count": 4,
     "metadata": {},
     "output_type": "execute_result"
    }
   ],
   "source": [
    "new_film_dataset.columns"
   ]
  },
  {
   "cell_type": "code",
   "execution_count": 5,
   "metadata": {},
   "outputs": [],
   "source": [
    "extended_films[\"Movie genres\"] = extended_films[\"genres\"]\n",
    "extended_films[\"Movie release date\"] = extended_films[\"release_date\"]\n",
    "extended_films[\"Movie languages\"] = extended_films[\"languages\"]\n",
    "extended_films[\"Movie countries\"] = extended_films[\"countries\"]\n",
    "extended_films[\"Movie name\"] = extended_films[\"film\"]\n",
    "extended_films[\"Movie box office revenue\"] = extended_films[\"box_office\"]\n",
    "extended_films[\"Movie runtime\"] = extended_films[\"runtime\"]\n",
    "extended_films[\"Wikipedia movie ID\"] = extended_films[\"page_id\"]\n",
    "extended_films = extended_films.drop(columns=[\"genres\", \"release_date\", \"languages\", \"countries\", \"release date\", \"film\", \"box_office\", \"runtime\", \"page_id\"])\n",
    "\n",
    "winning_actors_info[\"Actor name\"] = winning_actors_info[\"actor\"]\n",
    "winning_actors_info = winning_actors_info.drop(columns=[\"actor\"])\n",
    "\n",
    "imdb_ratings['Movie release date'] = imdb_ratings['title_year']  \n",
    "imdb_ratings['Movie name'] = imdb_ratings['movie_title'] \n",
    "imdb_ratings = imdb_ratings.drop(columns=['title_year', 'movie_title'])\n",
    "\n",
    "new_film_dataset['Wikipedia movie ID'] = new_film_dataset['wikipedia_id']\n",
    "new_film_dataset['Movie name'] = new_film_dataset['title']\n",
    "new_film_dataset['Movie release date'] = new_film_dataset['release_date']\n",
    "new_film_dataset['Movie genres'] = new_film_dataset['categories']\n",
    "new_film_dataset['Movie box office revenue'] = new_film_dataset['box_office']\n",
    "\n",
    "new_film_dataset.drop(columns=['wikipedia_id', 'title', 'release_date', 'categories', 'box_office'], inplace=True)\n",
    "\n"
   ]
  },
  {
   "cell_type": "code",
   "execution_count": 6,
   "metadata": {},
   "outputs": [
    {
     "name": "stdout",
     "output_type": "stream",
     "text": [
      "CMU: \n",
      "(174, 11)\n",
      "1928.0\n",
      "2012.0\n"
     ]
    }
   ],
   "source": [
    "oscar_act = pd.concat([oscar_winning_actors, oscar_winning_actresses], axis=0)\n",
    "oscar_act_movies_cmu  = pd.merge(oscar_act, movie_cmu, left_on='film_id', right_on='Wikipedia movie ID')\n",
    "oscar_act_movies_cmu.drop(columns=['film_id'], inplace=True) \n",
    "\n",
    "print(\"CMU: \")\n",
    "print(oscar_act_movies_cmu.shape)\n",
    "print(oscar_act_movies_cmu['Movie release date'].min())\n",
    "print(oscar_act_movies_cmu['Movie release date'].max())\n"
   ]
  },
  {
   "cell_type": "code",
   "execution_count": 7,
   "metadata": {},
   "outputs": [
    {
     "name": "stdout",
     "output_type": "stream",
     "text": [
      "Extended DS\n",
      "(16, 15)\n",
      "2015-09-04\n",
      "2023-09-01\n"
     ]
    }
   ],
   "source": [
    "oscar_act_movies_extendedDS  = pd.merge(oscar_act, extended_films, left_on='film_id', right_on='Wikipedia movie ID')\n",
    "oscar_act_movies_extendedDS.drop(columns=['film_id'], inplace=True) \n",
    "\n",
    "# Convert the 'Movie release date' column to datetime\n",
    "oscar_act_movies_extendedDS['Movie release date'] = pd.to_datetime(oscar_act_movies_extendedDS['Movie release date'])\n",
    "# Format the column to only show Year-Month-Day\n",
    "oscar_act_movies_extendedDS['Movie release date'] = oscar_act_movies_extendedDS['Movie release date'].dt.strftime('%Y-%m-%d')\n",
    "\n",
    "print(\"Extended DS\")\n",
    "print(oscar_act_movies_extendedDS.shape)\n",
    "print(oscar_act_movies_extendedDS['Movie release date'].min())\n",
    "print(oscar_act_movies_extendedDS['Movie release date'].max())"
   ]
  },
  {
   "cell_type": "code",
   "execution_count": 8,
   "metadata": {},
   "outputs": [
    {
     "name": "stdout",
     "output_type": "stream",
     "text": [
      "(190, 15)\n",
      "Index(['Actors id', 'Actress id', 'Wikipedia movie ID', 'Freebase movie ID',\n",
      "       'Movie name', 'Movie release date', 'Movie box office revenue',\n",
      "       'Movie runtime', 'Movie languages', 'Movie countries', 'Movie genres',\n",
      "       'reviewScores', 'awardsReceived', 'awardsNominated', 'capitalCost'],\n",
      "      dtype='object')\n"
     ]
    }
   ],
   "source": [
    "oscar_act_movies = pd.concat([oscar_act_movies_cmu, oscar_act_movies_extendedDS], axis=0)\n",
    "oscar_act_movies.drop(columns=['wikidata_id'], inplace=True)\n",
    "print(oscar_act_movies.shape)\n",
    "print(oscar_act_movies.columns)"
   ]
  },
  {
   "cell_type": "code",
   "execution_count": 9,
   "metadata": {},
   "outputs": [
    {
     "name": "stdout",
     "output_type": "stream",
     "text": [
      "film_full\n",
      "(190, 19)\n",
      "1927-01-01\n",
      "2023-09-01\n"
     ]
    },
    {
     "data": {
      "text/plain": [
       "Index(['Actors id', 'Actress id', 'dataset_id', 'runtime', 'languages',\n",
       "       'countries', 'genres', 'reviewScores', 'awardsReceived',\n",
       "       'awardsNominated', 'capitalCost', 'release date', 'nbOscarReceived',\n",
       "       'nbOscarNominated', 'Wikipedia movie ID', 'Movie name',\n",
       "       'Movie release date', 'Movie genres', 'Movie box office revenue'],\n",
       "      dtype='object')"
      ]
     },
     "execution_count": 9,
     "metadata": {},
     "output_type": "execute_result"
    }
   ],
   "source": [
    "oscar_act_movies_new = pd.merge(oscar_act, new_film_dataset, left_on='film_id', right_on='Wikipedia movie ID')\n",
    "oscar_act_movies_new.drop(columns=['film_id'], inplace=True)\n",
    "\n",
    "\n",
    "print(\"film_full\")\n",
    "print(oscar_act_movies_new.shape)\n",
    "print(oscar_act_movies_new['Movie release date'].min())\n",
    "print(oscar_act_movies_new['Movie release date'].max())\n",
    "oscar_act_movies_new.columns"
   ]
  },
  {
   "cell_type": "code",
   "execution_count": 10,
   "metadata": {},
   "outputs": [],
   "source": [
    "oscar_actress_info_copy = pd.merge(winning_actors_info, oscar_act_movies_new, left_on='page_id', right_on='Actress id')\n",
    "oscar_actors_info_copy = pd.merge(winning_actors_info, oscar_act_movies_new, left_on='page_id', right_on='Actors id')\n",
    "oscar_act_info = pd.concat([oscar_actors_info_copy, oscar_actress_info_copy], axis=0)\n",
    "# Check the type and standardize the date format\n",
    "def standardize_date_format(date):\n",
    "    if pd.isna(date):  # Handle NaN values explicitly\n",
    "        return None  # Or return a default value, e.g., -1 or an empty string\n",
    "    if isinstance(date, str):  # If it's a string (datetime-like), process it\n",
    "        return pd.to_datetime(date).year  # Extract just the year from the datetime\n",
    "    elif isinstance(date, float):  # If it's a float, treat it as a year\n",
    "        return int(date)  # Convert float year to integer year\n",
    "    return None  # Handle missing or invalid data\n",
    "\n",
    "# Apply the function to create a new column with unified format\n",
    "oscar_act_info['Movie release year'] = oscar_act_info['Movie release date'].apply(standardize_date_format)"
   ]
  },
  {
   "cell_type": "code",
   "execution_count": 11,
   "metadata": {},
   "outputs": [
    {
     "name": "stdout",
     "output_type": "stream",
     "text": [
      "Index(['page_id', 'wikidata_id', 'sexLabel', 'nativeLanguageLabel',\n",
      "       'countryOfCitizenshipLabel', 'ethnicGroupLabel', 'Actor name',\n",
      "       'Actors id', 'Actress id', 'dataset_id', 'runtime', 'languages',\n",
      "       'countries', 'genres', 'reviewScores', 'awardsReceived',\n",
      "       'awardsNominated', 'capitalCost', 'release date', 'nbOscarReceived',\n",
      "       'nbOscarNominated', 'Wikipedia movie ID', 'Movie name',\n",
      "       'Movie release date', 'Movie genres', 'Movie box office revenue',\n",
      "       'Movie release year'],\n",
      "      dtype='object')\n",
      "(190, 26)\n"
     ]
    }
   ],
   "source": [
    "print(oscar_act_info.columns)\n",
    "oscar_act_info.drop(columns=['sexLabel'], inplace=True)  #Remove the columns that are in character.csv\n",
    "oscar_act_info.head(2)\n",
    "print(oscar_act_info.shape)"
   ]
  },
  {
   "cell_type": "code",
   "execution_count": 12,
   "metadata": {},
   "outputs": [
    {
     "name": "stdout",
     "output_type": "stream",
     "text": [
      "No duplicate names with different Actor/Actress ids found.\n"
     ]
    }
   ],
   "source": [
    "duplicates_with_different_ages = oscar_act_info.groupby('Actor name').filter(lambda x: x['page_id'].nunique() > 1)\n",
    "\n",
    "if not duplicates_with_different_ages.empty:\n",
    "    print(\"Duplicate names with different ids found:\")\n",
    "    print(duplicates_with_different_ages)\n",
    "else:\n",
    "    print(\"No duplicate names with different Actor/Actress ids found.\")\n",
    "\n",
    "\n",
    "\n"
   ]
  },
  {
   "cell_type": "code",
   "execution_count": 13,
   "metadata": {},
   "outputs": [
    {
     "data": {
      "application/vnd.plotly.v1+json": {
       "config": {
        "plotlyServerURL": "https://plot.ly"
       },
       "data": [
        {
         "hovertemplate": "Year=%{x}<br>Box Office Revenue ($)=%{y}<extra></extra>",
         "legendgroup": "",
         "line": {
          "color": "#636efa",
          "dash": "solid",
          "shape": "spline"
         },
         "marker": {
          "symbol": "circle"
         },
         "mode": "lines",
         "name": "",
         "orientation": "v",
         "showlegend": false,
         "type": "scatter",
         "x": [
          1927,
          1928,
          1930,
          1933,
          1934,
          1935,
          1939,
          1940,
          1941,
          1942,
          1944,
          1946,
          1949,
          1950,
          1951,
          1952,
          1953,
          1954,
          1955,
          1956,
          1957,
          1958,
          1959,
          1960,
          1961,
          1962,
          1964,
          1965,
          1966,
          1967,
          1968,
          1969,
          1970,
          1971,
          1972,
          1973,
          1974,
          1975,
          1977,
          1978,
          1979,
          1980,
          1981,
          1982,
          1983,
          1984,
          1985,
          1986,
          1987,
          1988,
          1989,
          1990,
          1991,
          1992,
          1993,
          1994,
          1995,
          1996,
          1997,
          1998,
          1999,
          2000,
          2001,
          2002,
          2003,
          2004,
          2005,
          2006,
          2007,
          2008,
          2009,
          2010,
          2011,
          2015,
          2016,
          2017,
          2018,
          2019,
          2020,
          2022,
          2023
         ],
         "xaxis": "x",
         "y": [
          1750000,
          1700000,
          2000000,
          582000,
          5000000,
          950000,
          403252000,
          5385000,
          8500000,
          12878000,
          4613000,
          23650000,
          2300000,
          8450000,
          8000000,
          11500000,
          15300000,
          16500000,
          6200000,
          8500000,
          34700000,
          5641711,
          146900000,
          7552000,
          10000000,
          20629846,
          174272727,
          20000000,
          40000000,
          81046645,
          88036975,
          31132592,
          61749765,
          64212637,
          311265000,
          16800000,
          18600000,
          217962550,
          121951425,
          65307810,
          128488000,
          90562990,
          238570864,
          82803889,
          116863489,
          86874643,
          17005229,
          84147062,
          200087900,
          386903753,
          160536687,
          76722003,
          545485844,
          25966555,
          246836296,
          680747181,
          115118223,
          96504305,
          857519286,
          289317794,
          367830546,
          713911713,
          149785719,
          228918649,
          217200604,
          341495180,
          235672044,
          48362207,
          162456338,
          163403350,
          356613875,
          329398046,
          248376487,
          532950503,
          510947316,
          309620701,
          903655259,
          1074458282,
          33777948,
          114970200,
          1048799622
         ],
         "yaxis": "y"
        }
       ],
       "layout": {
        "height": 600,
        "legend": {
         "tracegroupgap": 0
        },
        "template": {
         "data": {
          "bar": [
           {
            "error_x": {
             "color": "#2a3f5f"
            },
            "error_y": {
             "color": "#2a3f5f"
            },
            "marker": {
             "line": {
              "color": "#E5ECF6",
              "width": 0.5
             },
             "pattern": {
              "fillmode": "overlay",
              "size": 10,
              "solidity": 0.2
             }
            },
            "type": "bar"
           }
          ],
          "barpolar": [
           {
            "marker": {
             "line": {
              "color": "#E5ECF6",
              "width": 0.5
             },
             "pattern": {
              "fillmode": "overlay",
              "size": 10,
              "solidity": 0.2
             }
            },
            "type": "barpolar"
           }
          ],
          "carpet": [
           {
            "aaxis": {
             "endlinecolor": "#2a3f5f",
             "gridcolor": "white",
             "linecolor": "white",
             "minorgridcolor": "white",
             "startlinecolor": "#2a3f5f"
            },
            "baxis": {
             "endlinecolor": "#2a3f5f",
             "gridcolor": "white",
             "linecolor": "white",
             "minorgridcolor": "white",
             "startlinecolor": "#2a3f5f"
            },
            "type": "carpet"
           }
          ],
          "choropleth": [
           {
            "colorbar": {
             "outlinewidth": 0,
             "ticks": ""
            },
            "type": "choropleth"
           }
          ],
          "contour": [
           {
            "colorbar": {
             "outlinewidth": 0,
             "ticks": ""
            },
            "colorscale": [
             [
              0,
              "#0d0887"
             ],
             [
              0.1111111111111111,
              "#46039f"
             ],
             [
              0.2222222222222222,
              "#7201a8"
             ],
             [
              0.3333333333333333,
              "#9c179e"
             ],
             [
              0.4444444444444444,
              "#bd3786"
             ],
             [
              0.5555555555555556,
              "#d8576b"
             ],
             [
              0.6666666666666666,
              "#ed7953"
             ],
             [
              0.7777777777777778,
              "#fb9f3a"
             ],
             [
              0.8888888888888888,
              "#fdca26"
             ],
             [
              1,
              "#f0f921"
             ]
            ],
            "type": "contour"
           }
          ],
          "contourcarpet": [
           {
            "colorbar": {
             "outlinewidth": 0,
             "ticks": ""
            },
            "type": "contourcarpet"
           }
          ],
          "heatmap": [
           {
            "colorbar": {
             "outlinewidth": 0,
             "ticks": ""
            },
            "colorscale": [
             [
              0,
              "#0d0887"
             ],
             [
              0.1111111111111111,
              "#46039f"
             ],
             [
              0.2222222222222222,
              "#7201a8"
             ],
             [
              0.3333333333333333,
              "#9c179e"
             ],
             [
              0.4444444444444444,
              "#bd3786"
             ],
             [
              0.5555555555555556,
              "#d8576b"
             ],
             [
              0.6666666666666666,
              "#ed7953"
             ],
             [
              0.7777777777777778,
              "#fb9f3a"
             ],
             [
              0.8888888888888888,
              "#fdca26"
             ],
             [
              1,
              "#f0f921"
             ]
            ],
            "type": "heatmap"
           }
          ],
          "heatmapgl": [
           {
            "colorbar": {
             "outlinewidth": 0,
             "ticks": ""
            },
            "colorscale": [
             [
              0,
              "#0d0887"
             ],
             [
              0.1111111111111111,
              "#46039f"
             ],
             [
              0.2222222222222222,
              "#7201a8"
             ],
             [
              0.3333333333333333,
              "#9c179e"
             ],
             [
              0.4444444444444444,
              "#bd3786"
             ],
             [
              0.5555555555555556,
              "#d8576b"
             ],
             [
              0.6666666666666666,
              "#ed7953"
             ],
             [
              0.7777777777777778,
              "#fb9f3a"
             ],
             [
              0.8888888888888888,
              "#fdca26"
             ],
             [
              1,
              "#f0f921"
             ]
            ],
            "type": "heatmapgl"
           }
          ],
          "histogram": [
           {
            "marker": {
             "pattern": {
              "fillmode": "overlay",
              "size": 10,
              "solidity": 0.2
             }
            },
            "type": "histogram"
           }
          ],
          "histogram2d": [
           {
            "colorbar": {
             "outlinewidth": 0,
             "ticks": ""
            },
            "colorscale": [
             [
              0,
              "#0d0887"
             ],
             [
              0.1111111111111111,
              "#46039f"
             ],
             [
              0.2222222222222222,
              "#7201a8"
             ],
             [
              0.3333333333333333,
              "#9c179e"
             ],
             [
              0.4444444444444444,
              "#bd3786"
             ],
             [
              0.5555555555555556,
              "#d8576b"
             ],
             [
              0.6666666666666666,
              "#ed7953"
             ],
             [
              0.7777777777777778,
              "#fb9f3a"
             ],
             [
              0.8888888888888888,
              "#fdca26"
             ],
             [
              1,
              "#f0f921"
             ]
            ],
            "type": "histogram2d"
           }
          ],
          "histogram2dcontour": [
           {
            "colorbar": {
             "outlinewidth": 0,
             "ticks": ""
            },
            "colorscale": [
             [
              0,
              "#0d0887"
             ],
             [
              0.1111111111111111,
              "#46039f"
             ],
             [
              0.2222222222222222,
              "#7201a8"
             ],
             [
              0.3333333333333333,
              "#9c179e"
             ],
             [
              0.4444444444444444,
              "#bd3786"
             ],
             [
              0.5555555555555556,
              "#d8576b"
             ],
             [
              0.6666666666666666,
              "#ed7953"
             ],
             [
              0.7777777777777778,
              "#fb9f3a"
             ],
             [
              0.8888888888888888,
              "#fdca26"
             ],
             [
              1,
              "#f0f921"
             ]
            ],
            "type": "histogram2dcontour"
           }
          ],
          "mesh3d": [
           {
            "colorbar": {
             "outlinewidth": 0,
             "ticks": ""
            },
            "type": "mesh3d"
           }
          ],
          "parcoords": [
           {
            "line": {
             "colorbar": {
              "outlinewidth": 0,
              "ticks": ""
             }
            },
            "type": "parcoords"
           }
          ],
          "pie": [
           {
            "automargin": true,
            "type": "pie"
           }
          ],
          "scatter": [
           {
            "fillpattern": {
             "fillmode": "overlay",
             "size": 10,
             "solidity": 0.2
            },
            "type": "scatter"
           }
          ],
          "scatter3d": [
           {
            "line": {
             "colorbar": {
              "outlinewidth": 0,
              "ticks": ""
             }
            },
            "marker": {
             "colorbar": {
              "outlinewidth": 0,
              "ticks": ""
             }
            },
            "type": "scatter3d"
           }
          ],
          "scattercarpet": [
           {
            "marker": {
             "colorbar": {
              "outlinewidth": 0,
              "ticks": ""
             }
            },
            "type": "scattercarpet"
           }
          ],
          "scattergeo": [
           {
            "marker": {
             "colorbar": {
              "outlinewidth": 0,
              "ticks": ""
             }
            },
            "type": "scattergeo"
           }
          ],
          "scattergl": [
           {
            "marker": {
             "colorbar": {
              "outlinewidth": 0,
              "ticks": ""
             }
            },
            "type": "scattergl"
           }
          ],
          "scattermapbox": [
           {
            "marker": {
             "colorbar": {
              "outlinewidth": 0,
              "ticks": ""
             }
            },
            "type": "scattermapbox"
           }
          ],
          "scatterpolar": [
           {
            "marker": {
             "colorbar": {
              "outlinewidth": 0,
              "ticks": ""
             }
            },
            "type": "scatterpolar"
           }
          ],
          "scatterpolargl": [
           {
            "marker": {
             "colorbar": {
              "outlinewidth": 0,
              "ticks": ""
             }
            },
            "type": "scatterpolargl"
           }
          ],
          "scatterternary": [
           {
            "marker": {
             "colorbar": {
              "outlinewidth": 0,
              "ticks": ""
             }
            },
            "type": "scatterternary"
           }
          ],
          "surface": [
           {
            "colorbar": {
             "outlinewidth": 0,
             "ticks": ""
            },
            "colorscale": [
             [
              0,
              "#0d0887"
             ],
             [
              0.1111111111111111,
              "#46039f"
             ],
             [
              0.2222222222222222,
              "#7201a8"
             ],
             [
              0.3333333333333333,
              "#9c179e"
             ],
             [
              0.4444444444444444,
              "#bd3786"
             ],
             [
              0.5555555555555556,
              "#d8576b"
             ],
             [
              0.6666666666666666,
              "#ed7953"
             ],
             [
              0.7777777777777778,
              "#fb9f3a"
             ],
             [
              0.8888888888888888,
              "#fdca26"
             ],
             [
              1,
              "#f0f921"
             ]
            ],
            "type": "surface"
           }
          ],
          "table": [
           {
            "cells": {
             "fill": {
              "color": "#EBF0F8"
             },
             "line": {
              "color": "white"
             }
            },
            "header": {
             "fill": {
              "color": "#C8D4E3"
             },
             "line": {
              "color": "white"
             }
            },
            "type": "table"
           }
          ]
         },
         "layout": {
          "annotationdefaults": {
           "arrowcolor": "#2a3f5f",
           "arrowhead": 0,
           "arrowwidth": 1
          },
          "autotypenumbers": "strict",
          "coloraxis": {
           "colorbar": {
            "outlinewidth": 0,
            "ticks": ""
           }
          },
          "colorscale": {
           "diverging": [
            [
             0,
             "#8e0152"
            ],
            [
             0.1,
             "#c51b7d"
            ],
            [
             0.2,
             "#de77ae"
            ],
            [
             0.3,
             "#f1b6da"
            ],
            [
             0.4,
             "#fde0ef"
            ],
            [
             0.5,
             "#f7f7f7"
            ],
            [
             0.6,
             "#e6f5d0"
            ],
            [
             0.7,
             "#b8e186"
            ],
            [
             0.8,
             "#7fbc41"
            ],
            [
             0.9,
             "#4d9221"
            ],
            [
             1,
             "#276419"
            ]
           ],
           "sequential": [
            [
             0,
             "#0d0887"
            ],
            [
             0.1111111111111111,
             "#46039f"
            ],
            [
             0.2222222222222222,
             "#7201a8"
            ],
            [
             0.3333333333333333,
             "#9c179e"
            ],
            [
             0.4444444444444444,
             "#bd3786"
            ],
            [
             0.5555555555555556,
             "#d8576b"
            ],
            [
             0.6666666666666666,
             "#ed7953"
            ],
            [
             0.7777777777777778,
             "#fb9f3a"
            ],
            [
             0.8888888888888888,
             "#fdca26"
            ],
            [
             1,
             "#f0f921"
            ]
           ],
           "sequentialminus": [
            [
             0,
             "#0d0887"
            ],
            [
             0.1111111111111111,
             "#46039f"
            ],
            [
             0.2222222222222222,
             "#7201a8"
            ],
            [
             0.3333333333333333,
             "#9c179e"
            ],
            [
             0.4444444444444444,
             "#bd3786"
            ],
            [
             0.5555555555555556,
             "#d8576b"
            ],
            [
             0.6666666666666666,
             "#ed7953"
            ],
            [
             0.7777777777777778,
             "#fb9f3a"
            ],
            [
             0.8888888888888888,
             "#fdca26"
            ],
            [
             1,
             "#f0f921"
            ]
           ]
          },
          "colorway": [
           "#636efa",
           "#EF553B",
           "#00cc96",
           "#ab63fa",
           "#FFA15A",
           "#19d3f3",
           "#FF6692",
           "#B6E880",
           "#FF97FF",
           "#FECB52"
          ],
          "font": {
           "color": "#2a3f5f"
          },
          "geo": {
           "bgcolor": "white",
           "lakecolor": "white",
           "landcolor": "#E5ECF6",
           "showlakes": true,
           "showland": true,
           "subunitcolor": "white"
          },
          "hoverlabel": {
           "align": "left"
          },
          "hovermode": "closest",
          "mapbox": {
           "style": "light"
          },
          "paper_bgcolor": "white",
          "plot_bgcolor": "#E5ECF6",
          "polar": {
           "angularaxis": {
            "gridcolor": "white",
            "linecolor": "white",
            "ticks": ""
           },
           "bgcolor": "#E5ECF6",
           "radialaxis": {
            "gridcolor": "white",
            "linecolor": "white",
            "ticks": ""
           }
          },
          "scene": {
           "xaxis": {
            "backgroundcolor": "#E5ECF6",
            "gridcolor": "white",
            "gridwidth": 2,
            "linecolor": "white",
            "showbackground": true,
            "ticks": "",
            "zerolinecolor": "white"
           },
           "yaxis": {
            "backgroundcolor": "#E5ECF6",
            "gridcolor": "white",
            "gridwidth": 2,
            "linecolor": "white",
            "showbackground": true,
            "ticks": "",
            "zerolinecolor": "white"
           },
           "zaxis": {
            "backgroundcolor": "#E5ECF6",
            "gridcolor": "white",
            "gridwidth": 2,
            "linecolor": "white",
            "showbackground": true,
            "ticks": "",
            "zerolinecolor": "white"
           }
          },
          "shapedefaults": {
           "line": {
            "color": "#2a3f5f"
           }
          },
          "ternary": {
           "aaxis": {
            "gridcolor": "white",
            "linecolor": "white",
            "ticks": ""
           },
           "baxis": {
            "gridcolor": "white",
            "linecolor": "white",
            "ticks": ""
           },
           "bgcolor": "#E5ECF6",
           "caxis": {
            "gridcolor": "white",
            "linecolor": "white",
            "ticks": ""
           }
          },
          "title": {
           "x": 0.05
          },
          "xaxis": {
           "automargin": true,
           "gridcolor": "white",
           "linecolor": "white",
           "ticks": "",
           "title": {
            "standoff": 15
           },
           "zerolinecolor": "white",
           "zerolinewidth": 2
          },
          "yaxis": {
           "automargin": true,
           "gridcolor": "white",
           "linecolor": "white",
           "ticks": "",
           "title": {
            "standoff": 15
           },
           "zerolinecolor": "white",
           "zerolinewidth": 2
          }
         }
        },
        "title": {
         "text": "Evolution of Movie Box Office Revenue Over the Years"
        },
        "width": 1400,
        "xaxis": {
         "anchor": "y",
         "domain": [
          0,
          1
         ],
         "title": {
          "text": "Year"
         }
        },
        "yaxis": {
         "anchor": "x",
         "domain": [
          0,
          1
         ],
         "tickformat": "$,.0f",
         "title": {
          "text": "Total Box Office Revenue ($)"
         }
        }
       }
      }
     },
     "metadata": {},
     "output_type": "display_data"
    }
   ],
   "source": [
    "# Prepare data for box office revenue evolution\n",
    "oscar_revenue_data_corrected = oscar_act_info[['Movie box office revenue', 'Movie release year']].dropna()\n",
    "oscar_revenue_data_corrected = oscar_revenue_data_corrected.dropna(subset=['Movie release year'])\n",
    "\n",
    "# Group by year and calculate total box office revenue\n",
    "oscar_revenue_data_corrected['Year'] = oscar_revenue_data_corrected['Movie release year']\n",
    "revenue_by_year_corrected = oscar_revenue_data_corrected.groupby('Year')['Movie box office revenue'].sum().reset_index()\n",
    "\n",
    "# Create a line chart\n",
    "fig = px.line(\n",
    "    revenue_by_year_corrected,\n",
    "    x='Year',\n",
    "    y='Movie box office revenue',\n",
    "    title='Evolution of Movie Box Office Revenue Over the Years',\n",
    "    labels={'Year': 'Year', 'Movie box office revenue': 'Box Office Revenue ($)'},\n",
    "    line_shape='spline'\n",
    ")\n",
    "\n",
    "# Update layout for better readability\n",
    "fig.update_layout(\n",
    "    xaxis=dict(title='Year'),\n",
    "    yaxis=dict(title='Total Box Office Revenue ($)', tickformat='$,.0f'),\n",
    "    width=1400, \n",
    "    height=600  \n",
    ")\n",
    "\n",
    "fig.show()"
   ]
  },
  {
   "cell_type": "code",
   "execution_count": 14,
   "metadata": {},
   "outputs": [],
   "source": [
    "oscar_act_info = pd.merge(oscar_act_info, character[['Wikipedia movie ID', 'Actor name', 'Actor age at movie release', 'Actor date of birth', 'Actor ethnicity','Character name', 'Freebase actor ID']], on=['Wikipedia movie ID', 'Actor name'])\n"
   ]
  },
  {
   "cell_type": "code",
   "execution_count": 15,
   "metadata": {},
   "outputs": [
    {
     "name": "stdout",
     "output_type": "stream",
     "text": [
      "Shape: (177, 31)\n",
      "Columns: Index(['page_id', 'wikidata_id', 'nativeLanguageLabel',\n",
      "       'countryOfCitizenshipLabel', 'ethnicGroupLabel', 'Actor name',\n",
      "       'Actors id', 'Actress id', 'dataset_id', 'runtime', 'languages',\n",
      "       'countries', 'genres', 'reviewScores', 'awardsReceived',\n",
      "       'awardsNominated', 'capitalCost', 'release date', 'nbOscarReceived',\n",
      "       'nbOscarNominated', 'Wikipedia movie ID', 'Movie name',\n",
      "       'Movie release date', 'Movie genres', 'Movie box office revenue',\n",
      "       'Movie release year', 'Actor age at movie release',\n",
      "       'Actor date of birth', 'Actor ethnicity', 'Character name',\n",
      "       'Freebase actor ID'],\n",
      "      dtype='object')\n"
     ]
    }
   ],
   "source": [
    "print('Shape:', oscar_act_info.shape)\n",
    "print('Columns:', oscar_act_info.columns)\n",
    "missing_values = oscar_winning_actresses['Actress id'][~oscar_winning_actresses['Actress id'].isin(oscar_act_info['Actress id'])]"
   ]
  },
  {
   "cell_type": "code",
   "execution_count": 16,
   "metadata": {},
   "outputs": [
    {
     "data": {
      "application/vnd.plotly.v1+json": {
       "config": {
        "plotlyServerURL": "https://plot.ly"
       },
       "data": [
        {
         "alignmentgroup": "True",
         "hovertemplate": "Actor age at movie release=%{x}<br>Count=%{y}<extra></extra>",
         "legendgroup": "",
         "marker": {
          "color": "#636efa",
          "pattern": {
           "shape": ""
          }
         },
         "name": "",
         "offsetgroup": "",
         "orientation": "v",
         "showlegend": false,
         "textposition": "auto",
         "type": "bar",
         "x": [
          20,
          21,
          22,
          24,
          25,
          26,
          27,
          28,
          29,
          30,
          31,
          32,
          33,
          34,
          35,
          36,
          37,
          38,
          39,
          40,
          41,
          42,
          43,
          44,
          45,
          46,
          47,
          48,
          49,
          50,
          51,
          52,
          53,
          55,
          56,
          60,
          61,
          62,
          74,
          76,
          80
         ],
         "xaxis": "x",
         "y": [
          2,
          2,
          1,
          4,
          4,
          6,
          4,
          5,
          7,
          7,
          5,
          5,
          6,
          5,
          6,
          7,
          8,
          8,
          2,
          5,
          10,
          5,
          2,
          3,
          5,
          3,
          2,
          2,
          2,
          2,
          2,
          2,
          1,
          2,
          1,
          5,
          3,
          2,
          1,
          1,
          1
         ],
         "yaxis": "y"
        }
       ],
       "layout": {
        "barmode": "relative",
        "legend": {
         "tracegroupgap": 0
        },
        "template": {
         "data": {
          "bar": [
           {
            "error_x": {
             "color": "#2a3f5f"
            },
            "error_y": {
             "color": "#2a3f5f"
            },
            "marker": {
             "line": {
              "color": "#E5ECF6",
              "width": 0.5
             },
             "pattern": {
              "fillmode": "overlay",
              "size": 10,
              "solidity": 0.2
             }
            },
            "type": "bar"
           }
          ],
          "barpolar": [
           {
            "marker": {
             "line": {
              "color": "#E5ECF6",
              "width": 0.5
             },
             "pattern": {
              "fillmode": "overlay",
              "size": 10,
              "solidity": 0.2
             }
            },
            "type": "barpolar"
           }
          ],
          "carpet": [
           {
            "aaxis": {
             "endlinecolor": "#2a3f5f",
             "gridcolor": "white",
             "linecolor": "white",
             "minorgridcolor": "white",
             "startlinecolor": "#2a3f5f"
            },
            "baxis": {
             "endlinecolor": "#2a3f5f",
             "gridcolor": "white",
             "linecolor": "white",
             "minorgridcolor": "white",
             "startlinecolor": "#2a3f5f"
            },
            "type": "carpet"
           }
          ],
          "choropleth": [
           {
            "colorbar": {
             "outlinewidth": 0,
             "ticks": ""
            },
            "type": "choropleth"
           }
          ],
          "contour": [
           {
            "colorbar": {
             "outlinewidth": 0,
             "ticks": ""
            },
            "colorscale": [
             [
              0,
              "#0d0887"
             ],
             [
              0.1111111111111111,
              "#46039f"
             ],
             [
              0.2222222222222222,
              "#7201a8"
             ],
             [
              0.3333333333333333,
              "#9c179e"
             ],
             [
              0.4444444444444444,
              "#bd3786"
             ],
             [
              0.5555555555555556,
              "#d8576b"
             ],
             [
              0.6666666666666666,
              "#ed7953"
             ],
             [
              0.7777777777777778,
              "#fb9f3a"
             ],
             [
              0.8888888888888888,
              "#fdca26"
             ],
             [
              1,
              "#f0f921"
             ]
            ],
            "type": "contour"
           }
          ],
          "contourcarpet": [
           {
            "colorbar": {
             "outlinewidth": 0,
             "ticks": ""
            },
            "type": "contourcarpet"
           }
          ],
          "heatmap": [
           {
            "colorbar": {
             "outlinewidth": 0,
             "ticks": ""
            },
            "colorscale": [
             [
              0,
              "#0d0887"
             ],
             [
              0.1111111111111111,
              "#46039f"
             ],
             [
              0.2222222222222222,
              "#7201a8"
             ],
             [
              0.3333333333333333,
              "#9c179e"
             ],
             [
              0.4444444444444444,
              "#bd3786"
             ],
             [
              0.5555555555555556,
              "#d8576b"
             ],
             [
              0.6666666666666666,
              "#ed7953"
             ],
             [
              0.7777777777777778,
              "#fb9f3a"
             ],
             [
              0.8888888888888888,
              "#fdca26"
             ],
             [
              1,
              "#f0f921"
             ]
            ],
            "type": "heatmap"
           }
          ],
          "heatmapgl": [
           {
            "colorbar": {
             "outlinewidth": 0,
             "ticks": ""
            },
            "colorscale": [
             [
              0,
              "#0d0887"
             ],
             [
              0.1111111111111111,
              "#46039f"
             ],
             [
              0.2222222222222222,
              "#7201a8"
             ],
             [
              0.3333333333333333,
              "#9c179e"
             ],
             [
              0.4444444444444444,
              "#bd3786"
             ],
             [
              0.5555555555555556,
              "#d8576b"
             ],
             [
              0.6666666666666666,
              "#ed7953"
             ],
             [
              0.7777777777777778,
              "#fb9f3a"
             ],
             [
              0.8888888888888888,
              "#fdca26"
             ],
             [
              1,
              "#f0f921"
             ]
            ],
            "type": "heatmapgl"
           }
          ],
          "histogram": [
           {
            "marker": {
             "pattern": {
              "fillmode": "overlay",
              "size": 10,
              "solidity": 0.2
             }
            },
            "type": "histogram"
           }
          ],
          "histogram2d": [
           {
            "colorbar": {
             "outlinewidth": 0,
             "ticks": ""
            },
            "colorscale": [
             [
              0,
              "#0d0887"
             ],
             [
              0.1111111111111111,
              "#46039f"
             ],
             [
              0.2222222222222222,
              "#7201a8"
             ],
             [
              0.3333333333333333,
              "#9c179e"
             ],
             [
              0.4444444444444444,
              "#bd3786"
             ],
             [
              0.5555555555555556,
              "#d8576b"
             ],
             [
              0.6666666666666666,
              "#ed7953"
             ],
             [
              0.7777777777777778,
              "#fb9f3a"
             ],
             [
              0.8888888888888888,
              "#fdca26"
             ],
             [
              1,
              "#f0f921"
             ]
            ],
            "type": "histogram2d"
           }
          ],
          "histogram2dcontour": [
           {
            "colorbar": {
             "outlinewidth": 0,
             "ticks": ""
            },
            "colorscale": [
             [
              0,
              "#0d0887"
             ],
             [
              0.1111111111111111,
              "#46039f"
             ],
             [
              0.2222222222222222,
              "#7201a8"
             ],
             [
              0.3333333333333333,
              "#9c179e"
             ],
             [
              0.4444444444444444,
              "#bd3786"
             ],
             [
              0.5555555555555556,
              "#d8576b"
             ],
             [
              0.6666666666666666,
              "#ed7953"
             ],
             [
              0.7777777777777778,
              "#fb9f3a"
             ],
             [
              0.8888888888888888,
              "#fdca26"
             ],
             [
              1,
              "#f0f921"
             ]
            ],
            "type": "histogram2dcontour"
           }
          ],
          "mesh3d": [
           {
            "colorbar": {
             "outlinewidth": 0,
             "ticks": ""
            },
            "type": "mesh3d"
           }
          ],
          "parcoords": [
           {
            "line": {
             "colorbar": {
              "outlinewidth": 0,
              "ticks": ""
             }
            },
            "type": "parcoords"
           }
          ],
          "pie": [
           {
            "automargin": true,
            "type": "pie"
           }
          ],
          "scatter": [
           {
            "fillpattern": {
             "fillmode": "overlay",
             "size": 10,
             "solidity": 0.2
            },
            "type": "scatter"
           }
          ],
          "scatter3d": [
           {
            "line": {
             "colorbar": {
              "outlinewidth": 0,
              "ticks": ""
             }
            },
            "marker": {
             "colorbar": {
              "outlinewidth": 0,
              "ticks": ""
             }
            },
            "type": "scatter3d"
           }
          ],
          "scattercarpet": [
           {
            "marker": {
             "colorbar": {
              "outlinewidth": 0,
              "ticks": ""
             }
            },
            "type": "scattercarpet"
           }
          ],
          "scattergeo": [
           {
            "marker": {
             "colorbar": {
              "outlinewidth": 0,
              "ticks": ""
             }
            },
            "type": "scattergeo"
           }
          ],
          "scattergl": [
           {
            "marker": {
             "colorbar": {
              "outlinewidth": 0,
              "ticks": ""
             }
            },
            "type": "scattergl"
           }
          ],
          "scattermapbox": [
           {
            "marker": {
             "colorbar": {
              "outlinewidth": 0,
              "ticks": ""
             }
            },
            "type": "scattermapbox"
           }
          ],
          "scatterpolar": [
           {
            "marker": {
             "colorbar": {
              "outlinewidth": 0,
              "ticks": ""
             }
            },
            "type": "scatterpolar"
           }
          ],
          "scatterpolargl": [
           {
            "marker": {
             "colorbar": {
              "outlinewidth": 0,
              "ticks": ""
             }
            },
            "type": "scatterpolargl"
           }
          ],
          "scatterternary": [
           {
            "marker": {
             "colorbar": {
              "outlinewidth": 0,
              "ticks": ""
             }
            },
            "type": "scatterternary"
           }
          ],
          "surface": [
           {
            "colorbar": {
             "outlinewidth": 0,
             "ticks": ""
            },
            "colorscale": [
             [
              0,
              "#0d0887"
             ],
             [
              0.1111111111111111,
              "#46039f"
             ],
             [
              0.2222222222222222,
              "#7201a8"
             ],
             [
              0.3333333333333333,
              "#9c179e"
             ],
             [
              0.4444444444444444,
              "#bd3786"
             ],
             [
              0.5555555555555556,
              "#d8576b"
             ],
             [
              0.6666666666666666,
              "#ed7953"
             ],
             [
              0.7777777777777778,
              "#fb9f3a"
             ],
             [
              0.8888888888888888,
              "#fdca26"
             ],
             [
              1,
              "#f0f921"
             ]
            ],
            "type": "surface"
           }
          ],
          "table": [
           {
            "cells": {
             "fill": {
              "color": "#EBF0F8"
             },
             "line": {
              "color": "white"
             }
            },
            "header": {
             "fill": {
              "color": "#C8D4E3"
             },
             "line": {
              "color": "white"
             }
            },
            "type": "table"
           }
          ]
         },
         "layout": {
          "annotationdefaults": {
           "arrowcolor": "#2a3f5f",
           "arrowhead": 0,
           "arrowwidth": 1
          },
          "autotypenumbers": "strict",
          "coloraxis": {
           "colorbar": {
            "outlinewidth": 0,
            "ticks": ""
           }
          },
          "colorscale": {
           "diverging": [
            [
             0,
             "#8e0152"
            ],
            [
             0.1,
             "#c51b7d"
            ],
            [
             0.2,
             "#de77ae"
            ],
            [
             0.3,
             "#f1b6da"
            ],
            [
             0.4,
             "#fde0ef"
            ],
            [
             0.5,
             "#f7f7f7"
            ],
            [
             0.6,
             "#e6f5d0"
            ],
            [
             0.7,
             "#b8e186"
            ],
            [
             0.8,
             "#7fbc41"
            ],
            [
             0.9,
             "#4d9221"
            ],
            [
             1,
             "#276419"
            ]
           ],
           "sequential": [
            [
             0,
             "#0d0887"
            ],
            [
             0.1111111111111111,
             "#46039f"
            ],
            [
             0.2222222222222222,
             "#7201a8"
            ],
            [
             0.3333333333333333,
             "#9c179e"
            ],
            [
             0.4444444444444444,
             "#bd3786"
            ],
            [
             0.5555555555555556,
             "#d8576b"
            ],
            [
             0.6666666666666666,
             "#ed7953"
            ],
            [
             0.7777777777777778,
             "#fb9f3a"
            ],
            [
             0.8888888888888888,
             "#fdca26"
            ],
            [
             1,
             "#f0f921"
            ]
           ],
           "sequentialminus": [
            [
             0,
             "#0d0887"
            ],
            [
             0.1111111111111111,
             "#46039f"
            ],
            [
             0.2222222222222222,
             "#7201a8"
            ],
            [
             0.3333333333333333,
             "#9c179e"
            ],
            [
             0.4444444444444444,
             "#bd3786"
            ],
            [
             0.5555555555555556,
             "#d8576b"
            ],
            [
             0.6666666666666666,
             "#ed7953"
            ],
            [
             0.7777777777777778,
             "#fb9f3a"
            ],
            [
             0.8888888888888888,
             "#fdca26"
            ],
            [
             1,
             "#f0f921"
            ]
           ]
          },
          "colorway": [
           "#636efa",
           "#EF553B",
           "#00cc96",
           "#ab63fa",
           "#FFA15A",
           "#19d3f3",
           "#FF6692",
           "#B6E880",
           "#FF97FF",
           "#FECB52"
          ],
          "font": {
           "color": "#2a3f5f"
          },
          "geo": {
           "bgcolor": "white",
           "lakecolor": "white",
           "landcolor": "#E5ECF6",
           "showlakes": true,
           "showland": true,
           "subunitcolor": "white"
          },
          "hoverlabel": {
           "align": "left"
          },
          "hovermode": "closest",
          "mapbox": {
           "style": "light"
          },
          "paper_bgcolor": "white",
          "plot_bgcolor": "#E5ECF6",
          "polar": {
           "angularaxis": {
            "gridcolor": "white",
            "linecolor": "white",
            "ticks": ""
           },
           "bgcolor": "#E5ECF6",
           "radialaxis": {
            "gridcolor": "white",
            "linecolor": "white",
            "ticks": ""
           }
          },
          "scene": {
           "xaxis": {
            "backgroundcolor": "#E5ECF6",
            "gridcolor": "white",
            "gridwidth": 2,
            "linecolor": "white",
            "showbackground": true,
            "ticks": "",
            "zerolinecolor": "white"
           },
           "yaxis": {
            "backgroundcolor": "#E5ECF6",
            "gridcolor": "white",
            "gridwidth": 2,
            "linecolor": "white",
            "showbackground": true,
            "ticks": "",
            "zerolinecolor": "white"
           },
           "zaxis": {
            "backgroundcolor": "#E5ECF6",
            "gridcolor": "white",
            "gridwidth": 2,
            "linecolor": "white",
            "showbackground": true,
            "ticks": "",
            "zerolinecolor": "white"
           }
          },
          "shapedefaults": {
           "line": {
            "color": "#2a3f5f"
           }
          },
          "ternary": {
           "aaxis": {
            "gridcolor": "white",
            "linecolor": "white",
            "ticks": ""
           },
           "baxis": {
            "gridcolor": "white",
            "linecolor": "white",
            "ticks": ""
           },
           "bgcolor": "#E5ECF6",
           "caxis": {
            "gridcolor": "white",
            "linecolor": "white",
            "ticks": ""
           }
          },
          "title": {
           "x": 0.05
          },
          "xaxis": {
           "automargin": true,
           "gridcolor": "white",
           "linecolor": "white",
           "ticks": "",
           "title": {
            "standoff": 15
           },
           "zerolinecolor": "white",
           "zerolinewidth": 2
          },
          "yaxis": {
           "automargin": true,
           "gridcolor": "white",
           "linecolor": "white",
           "ticks": "",
           "title": {
            "standoff": 15
           },
           "zerolinecolor": "white",
           "zerolinewidth": 2
          }
         }
        },
        "title": {
         "text": "Age Distribution"
        },
        "xaxis": {
         "anchor": "y",
         "domain": [
          0,
          1
         ],
         "title": {
          "text": "Actor age at movie release"
         }
        },
        "yaxis": {
         "anchor": "x",
         "domain": [
          0,
          1
         ],
         "title": {
          "text": "Count"
         }
        }
       }
      }
     },
     "metadata": {},
     "output_type": "display_data"
    }
   ],
   "source": [
    "if 'Actor age at movie release' in oscar_act_info.columns:\n",
    "    # Count occurrences of each age\n",
    "    age_distribution = oscar_act_info['Actor age at movie release'].value_counts().reset_index()\n",
    "    age_distribution.columns = ['Actor age at movie release', 'count']\n",
    "    \n",
    "    # Sort by age for better visualization\n",
    "    age_distribution = age_distribution.sort_values(by='Actor age at movie release')\n",
    "\n",
    "    # Create the bar plot\n",
    "    fig = px.bar(age_distribution, x='Actor age at movie release', y='count', title='Age Distribution', labels={'age': 'Age', 'count': 'Count'})\n",
    "    fig.show()\n",
    "else:\n",
    "    print(\"The column 'age' does not exist in the provided file.\")"
   ]
  },
  {
   "cell_type": "code",
   "execution_count": 17,
   "metadata": {},
   "outputs": [
    {
     "data": {
      "application/vnd.plotly.v1+json": {
       "config": {
        "plotlyServerURL": "https://plot.ly"
       },
       "data": [
        {
         "alignmentgroup": "True",
         "hovertemplate": "Group=Actors<br>Age=%{x}<br>Count=%{y}<extra></extra>",
         "legendgroup": "Actors",
         "marker": {
          "color": "#636efa",
          "pattern": {
           "shape": ""
          }
         },
         "name": "Actors",
         "offsetgroup": "Actors",
         "orientation": "v",
         "showlegend": true,
         "textposition": "auto",
         "type": "bar",
         "x": [
          20,
          21,
          22,
          24,
          25,
          26,
          27,
          28,
          29,
          30,
          31,
          32,
          33,
          34,
          35,
          36,
          37,
          38,
          39,
          40,
          41,
          42,
          43,
          44,
          45,
          46,
          47,
          48,
          49,
          50,
          51,
          52,
          53,
          55,
          56,
          60,
          61,
          62,
          74,
          76,
          80
         ],
         "xaxis": "x",
         "y": [
          0,
          0,
          0,
          0,
          0,
          0,
          0,
          0,
          1,
          2,
          2,
          2,
          2,
          1,
          2,
          6,
          5,
          5,
          2,
          2,
          6,
          3,
          2,
          3,
          3,
          3,
          1,
          2,
          0,
          2,
          2,
          2,
          1,
          2,
          1,
          3,
          1,
          1,
          0,
          1,
          0
         ],
         "yaxis": "y"
        },
        {
         "alignmentgroup": "True",
         "hovertemplate": "Group=Actresses<br>Age=%{x}<br>Count=%{y}<extra></extra>",
         "legendgroup": "Actresses",
         "marker": {
          "color": "#EF553B",
          "pattern": {
           "shape": ""
          }
         },
         "name": "Actresses",
         "offsetgroup": "Actresses",
         "orientation": "v",
         "showlegend": true,
         "textposition": "auto",
         "type": "bar",
         "x": [
          20,
          21,
          22,
          24,
          25,
          26,
          27,
          28,
          29,
          30,
          31,
          32,
          33,
          34,
          35,
          36,
          37,
          38,
          39,
          40,
          41,
          42,
          43,
          44,
          45,
          46,
          47,
          48,
          49,
          50,
          51,
          52,
          53,
          55,
          56,
          60,
          61,
          62,
          74,
          76,
          80
         ],
         "xaxis": "x",
         "y": [
          2,
          2,
          1,
          4,
          4,
          6,
          4,
          5,
          6,
          5,
          3,
          3,
          4,
          4,
          4,
          1,
          3,
          3,
          0,
          3,
          4,
          2,
          0,
          0,
          2,
          0,
          1,
          0,
          2,
          0,
          0,
          0,
          0,
          0,
          0,
          2,
          2,
          1,
          1,
          0,
          1
         ],
         "yaxis": "y"
        }
       ],
       "layout": {
        "barmode": "group",
        "legend": {
         "title": {
          "text": "Group"
         },
         "tracegroupgap": 0
        },
        "template": {
         "data": {
          "bar": [
           {
            "error_x": {
             "color": "#2a3f5f"
            },
            "error_y": {
             "color": "#2a3f5f"
            },
            "marker": {
             "line": {
              "color": "#E5ECF6",
              "width": 0.5
             },
             "pattern": {
              "fillmode": "overlay",
              "size": 10,
              "solidity": 0.2
             }
            },
            "type": "bar"
           }
          ],
          "barpolar": [
           {
            "marker": {
             "line": {
              "color": "#E5ECF6",
              "width": 0.5
             },
             "pattern": {
              "fillmode": "overlay",
              "size": 10,
              "solidity": 0.2
             }
            },
            "type": "barpolar"
           }
          ],
          "carpet": [
           {
            "aaxis": {
             "endlinecolor": "#2a3f5f",
             "gridcolor": "white",
             "linecolor": "white",
             "minorgridcolor": "white",
             "startlinecolor": "#2a3f5f"
            },
            "baxis": {
             "endlinecolor": "#2a3f5f",
             "gridcolor": "white",
             "linecolor": "white",
             "minorgridcolor": "white",
             "startlinecolor": "#2a3f5f"
            },
            "type": "carpet"
           }
          ],
          "choropleth": [
           {
            "colorbar": {
             "outlinewidth": 0,
             "ticks": ""
            },
            "type": "choropleth"
           }
          ],
          "contour": [
           {
            "colorbar": {
             "outlinewidth": 0,
             "ticks": ""
            },
            "colorscale": [
             [
              0,
              "#0d0887"
             ],
             [
              0.1111111111111111,
              "#46039f"
             ],
             [
              0.2222222222222222,
              "#7201a8"
             ],
             [
              0.3333333333333333,
              "#9c179e"
             ],
             [
              0.4444444444444444,
              "#bd3786"
             ],
             [
              0.5555555555555556,
              "#d8576b"
             ],
             [
              0.6666666666666666,
              "#ed7953"
             ],
             [
              0.7777777777777778,
              "#fb9f3a"
             ],
             [
              0.8888888888888888,
              "#fdca26"
             ],
             [
              1,
              "#f0f921"
             ]
            ],
            "type": "contour"
           }
          ],
          "contourcarpet": [
           {
            "colorbar": {
             "outlinewidth": 0,
             "ticks": ""
            },
            "type": "contourcarpet"
           }
          ],
          "heatmap": [
           {
            "colorbar": {
             "outlinewidth": 0,
             "ticks": ""
            },
            "colorscale": [
             [
              0,
              "#0d0887"
             ],
             [
              0.1111111111111111,
              "#46039f"
             ],
             [
              0.2222222222222222,
              "#7201a8"
             ],
             [
              0.3333333333333333,
              "#9c179e"
             ],
             [
              0.4444444444444444,
              "#bd3786"
             ],
             [
              0.5555555555555556,
              "#d8576b"
             ],
             [
              0.6666666666666666,
              "#ed7953"
             ],
             [
              0.7777777777777778,
              "#fb9f3a"
             ],
             [
              0.8888888888888888,
              "#fdca26"
             ],
             [
              1,
              "#f0f921"
             ]
            ],
            "type": "heatmap"
           }
          ],
          "heatmapgl": [
           {
            "colorbar": {
             "outlinewidth": 0,
             "ticks": ""
            },
            "colorscale": [
             [
              0,
              "#0d0887"
             ],
             [
              0.1111111111111111,
              "#46039f"
             ],
             [
              0.2222222222222222,
              "#7201a8"
             ],
             [
              0.3333333333333333,
              "#9c179e"
             ],
             [
              0.4444444444444444,
              "#bd3786"
             ],
             [
              0.5555555555555556,
              "#d8576b"
             ],
             [
              0.6666666666666666,
              "#ed7953"
             ],
             [
              0.7777777777777778,
              "#fb9f3a"
             ],
             [
              0.8888888888888888,
              "#fdca26"
             ],
             [
              1,
              "#f0f921"
             ]
            ],
            "type": "heatmapgl"
           }
          ],
          "histogram": [
           {
            "marker": {
             "pattern": {
              "fillmode": "overlay",
              "size": 10,
              "solidity": 0.2
             }
            },
            "type": "histogram"
           }
          ],
          "histogram2d": [
           {
            "colorbar": {
             "outlinewidth": 0,
             "ticks": ""
            },
            "colorscale": [
             [
              0,
              "#0d0887"
             ],
             [
              0.1111111111111111,
              "#46039f"
             ],
             [
              0.2222222222222222,
              "#7201a8"
             ],
             [
              0.3333333333333333,
              "#9c179e"
             ],
             [
              0.4444444444444444,
              "#bd3786"
             ],
             [
              0.5555555555555556,
              "#d8576b"
             ],
             [
              0.6666666666666666,
              "#ed7953"
             ],
             [
              0.7777777777777778,
              "#fb9f3a"
             ],
             [
              0.8888888888888888,
              "#fdca26"
             ],
             [
              1,
              "#f0f921"
             ]
            ],
            "type": "histogram2d"
           }
          ],
          "histogram2dcontour": [
           {
            "colorbar": {
             "outlinewidth": 0,
             "ticks": ""
            },
            "colorscale": [
             [
              0,
              "#0d0887"
             ],
             [
              0.1111111111111111,
              "#46039f"
             ],
             [
              0.2222222222222222,
              "#7201a8"
             ],
             [
              0.3333333333333333,
              "#9c179e"
             ],
             [
              0.4444444444444444,
              "#bd3786"
             ],
             [
              0.5555555555555556,
              "#d8576b"
             ],
             [
              0.6666666666666666,
              "#ed7953"
             ],
             [
              0.7777777777777778,
              "#fb9f3a"
             ],
             [
              0.8888888888888888,
              "#fdca26"
             ],
             [
              1,
              "#f0f921"
             ]
            ],
            "type": "histogram2dcontour"
           }
          ],
          "mesh3d": [
           {
            "colorbar": {
             "outlinewidth": 0,
             "ticks": ""
            },
            "type": "mesh3d"
           }
          ],
          "parcoords": [
           {
            "line": {
             "colorbar": {
              "outlinewidth": 0,
              "ticks": ""
             }
            },
            "type": "parcoords"
           }
          ],
          "pie": [
           {
            "automargin": true,
            "type": "pie"
           }
          ],
          "scatter": [
           {
            "fillpattern": {
             "fillmode": "overlay",
             "size": 10,
             "solidity": 0.2
            },
            "type": "scatter"
           }
          ],
          "scatter3d": [
           {
            "line": {
             "colorbar": {
              "outlinewidth": 0,
              "ticks": ""
             }
            },
            "marker": {
             "colorbar": {
              "outlinewidth": 0,
              "ticks": ""
             }
            },
            "type": "scatter3d"
           }
          ],
          "scattercarpet": [
           {
            "marker": {
             "colorbar": {
              "outlinewidth": 0,
              "ticks": ""
             }
            },
            "type": "scattercarpet"
           }
          ],
          "scattergeo": [
           {
            "marker": {
             "colorbar": {
              "outlinewidth": 0,
              "ticks": ""
             }
            },
            "type": "scattergeo"
           }
          ],
          "scattergl": [
           {
            "marker": {
             "colorbar": {
              "outlinewidth": 0,
              "ticks": ""
             }
            },
            "type": "scattergl"
           }
          ],
          "scattermapbox": [
           {
            "marker": {
             "colorbar": {
              "outlinewidth": 0,
              "ticks": ""
             }
            },
            "type": "scattermapbox"
           }
          ],
          "scatterpolar": [
           {
            "marker": {
             "colorbar": {
              "outlinewidth": 0,
              "ticks": ""
             }
            },
            "type": "scatterpolar"
           }
          ],
          "scatterpolargl": [
           {
            "marker": {
             "colorbar": {
              "outlinewidth": 0,
              "ticks": ""
             }
            },
            "type": "scatterpolargl"
           }
          ],
          "scatterternary": [
           {
            "marker": {
             "colorbar": {
              "outlinewidth": 0,
              "ticks": ""
             }
            },
            "type": "scatterternary"
           }
          ],
          "surface": [
           {
            "colorbar": {
             "outlinewidth": 0,
             "ticks": ""
            },
            "colorscale": [
             [
              0,
              "#0d0887"
             ],
             [
              0.1111111111111111,
              "#46039f"
             ],
             [
              0.2222222222222222,
              "#7201a8"
             ],
             [
              0.3333333333333333,
              "#9c179e"
             ],
             [
              0.4444444444444444,
              "#bd3786"
             ],
             [
              0.5555555555555556,
              "#d8576b"
             ],
             [
              0.6666666666666666,
              "#ed7953"
             ],
             [
              0.7777777777777778,
              "#fb9f3a"
             ],
             [
              0.8888888888888888,
              "#fdca26"
             ],
             [
              1,
              "#f0f921"
             ]
            ],
            "type": "surface"
           }
          ],
          "table": [
           {
            "cells": {
             "fill": {
              "color": "#EBF0F8"
             },
             "line": {
              "color": "white"
             }
            },
            "header": {
             "fill": {
              "color": "#C8D4E3"
             },
             "line": {
              "color": "white"
             }
            },
            "type": "table"
           }
          ]
         },
         "layout": {
          "annotationdefaults": {
           "arrowcolor": "#2a3f5f",
           "arrowhead": 0,
           "arrowwidth": 1
          },
          "autotypenumbers": "strict",
          "coloraxis": {
           "colorbar": {
            "outlinewidth": 0,
            "ticks": ""
           }
          },
          "colorscale": {
           "diverging": [
            [
             0,
             "#8e0152"
            ],
            [
             0.1,
             "#c51b7d"
            ],
            [
             0.2,
             "#de77ae"
            ],
            [
             0.3,
             "#f1b6da"
            ],
            [
             0.4,
             "#fde0ef"
            ],
            [
             0.5,
             "#f7f7f7"
            ],
            [
             0.6,
             "#e6f5d0"
            ],
            [
             0.7,
             "#b8e186"
            ],
            [
             0.8,
             "#7fbc41"
            ],
            [
             0.9,
             "#4d9221"
            ],
            [
             1,
             "#276419"
            ]
           ],
           "sequential": [
            [
             0,
             "#0d0887"
            ],
            [
             0.1111111111111111,
             "#46039f"
            ],
            [
             0.2222222222222222,
             "#7201a8"
            ],
            [
             0.3333333333333333,
             "#9c179e"
            ],
            [
             0.4444444444444444,
             "#bd3786"
            ],
            [
             0.5555555555555556,
             "#d8576b"
            ],
            [
             0.6666666666666666,
             "#ed7953"
            ],
            [
             0.7777777777777778,
             "#fb9f3a"
            ],
            [
             0.8888888888888888,
             "#fdca26"
            ],
            [
             1,
             "#f0f921"
            ]
           ],
           "sequentialminus": [
            [
             0,
             "#0d0887"
            ],
            [
             0.1111111111111111,
             "#46039f"
            ],
            [
             0.2222222222222222,
             "#7201a8"
            ],
            [
             0.3333333333333333,
             "#9c179e"
            ],
            [
             0.4444444444444444,
             "#bd3786"
            ],
            [
             0.5555555555555556,
             "#d8576b"
            ],
            [
             0.6666666666666666,
             "#ed7953"
            ],
            [
             0.7777777777777778,
             "#fb9f3a"
            ],
            [
             0.8888888888888888,
             "#fdca26"
            ],
            [
             1,
             "#f0f921"
            ]
           ]
          },
          "colorway": [
           "#636efa",
           "#EF553B",
           "#00cc96",
           "#ab63fa",
           "#FFA15A",
           "#19d3f3",
           "#FF6692",
           "#B6E880",
           "#FF97FF",
           "#FECB52"
          ],
          "font": {
           "color": "#2a3f5f"
          },
          "geo": {
           "bgcolor": "white",
           "lakecolor": "white",
           "landcolor": "#E5ECF6",
           "showlakes": true,
           "showland": true,
           "subunitcolor": "white"
          },
          "hoverlabel": {
           "align": "left"
          },
          "hovermode": "closest",
          "mapbox": {
           "style": "light"
          },
          "paper_bgcolor": "white",
          "plot_bgcolor": "#E5ECF6",
          "polar": {
           "angularaxis": {
            "gridcolor": "white",
            "linecolor": "white",
            "ticks": ""
           },
           "bgcolor": "#E5ECF6",
           "radialaxis": {
            "gridcolor": "white",
            "linecolor": "white",
            "ticks": ""
           }
          },
          "scene": {
           "xaxis": {
            "backgroundcolor": "#E5ECF6",
            "gridcolor": "white",
            "gridwidth": 2,
            "linecolor": "white",
            "showbackground": true,
            "ticks": "",
            "zerolinecolor": "white"
           },
           "yaxis": {
            "backgroundcolor": "#E5ECF6",
            "gridcolor": "white",
            "gridwidth": 2,
            "linecolor": "white",
            "showbackground": true,
            "ticks": "",
            "zerolinecolor": "white"
           },
           "zaxis": {
            "backgroundcolor": "#E5ECF6",
            "gridcolor": "white",
            "gridwidth": 2,
            "linecolor": "white",
            "showbackground": true,
            "ticks": "",
            "zerolinecolor": "white"
           }
          },
          "shapedefaults": {
           "line": {
            "color": "#2a3f5f"
           }
          },
          "ternary": {
           "aaxis": {
            "gridcolor": "white",
            "linecolor": "white",
            "ticks": ""
           },
           "baxis": {
            "gridcolor": "white",
            "linecolor": "white",
            "ticks": ""
           },
           "bgcolor": "#E5ECF6",
           "caxis": {
            "gridcolor": "white",
            "linecolor": "white",
            "ticks": ""
           }
          },
          "title": {
           "x": 0.05
          },
          "xaxis": {
           "automargin": true,
           "gridcolor": "white",
           "linecolor": "white",
           "ticks": "",
           "title": {
            "standoff": 15
           },
           "zerolinecolor": "white",
           "zerolinewidth": 2
          },
          "yaxis": {
           "automargin": true,
           "gridcolor": "white",
           "linecolor": "white",
           "ticks": "",
           "title": {
            "standoff": 15
           },
           "zerolinecolor": "white",
           "zerolinewidth": 2
          }
         }
        },
        "title": {
         "text": "Age Distribution"
        },
        "xaxis": {
         "anchor": "y",
         "domain": [
          0,
          1
         ],
         "title": {
          "text": "Age"
         }
        },
        "yaxis": {
         "anchor": "x",
         "domain": [
          0,
          1
         ],
         "title": {
          "text": "Count"
         }
        }
       }
      }
     },
     "metadata": {},
     "output_type": "display_data"
    }
   ],
   "source": [
    "# Prepare data for men, women, and both\n",
    "# Assuming `age_distribution` contains combined data, and separate dataframes exist for men and women\n",
    "men = oscar_actors_info['Actor age at movie release'].value_counts().reset_index()\n",
    "women = oscar_actress_info['Actor age at movie release'].value_counts().reset_index()\n",
    "\n",
    "# Rename columns for consistency\n",
    "men.columns = ['Age', 'Actors']\n",
    "women.columns = ['Age', 'Actresses']\n",
    "\n",
    "# Merge all into a single dataframe for plotting\n",
    "merged = men.merge(women, on='Age', how='outer').fillna(0)\n",
    "\n",
    "# Melt the data for easier plotting with Plotly\n",
    "melted = merged.melt(id_vars='Age', value_vars=['Actors', 'Actresses'], \n",
    "                     var_name='Group', value_name='Count')\n",
    "\n",
    "# Plot grouped bar chart\n",
    "fig = px.bar(melted, x='Age', y='Count', color='Group', barmode='group',\n",
    "             labels={'Age': 'Age', 'Count': 'Count', 'Group': 'Group'},\n",
    "             title='Age Distribution')\n",
    "fig.show()"
   ]
  },
  {
   "cell_type": "code",
   "execution_count": 18,
   "metadata": {},
   "outputs": [
    {
     "name": "stdout",
     "output_type": "stream",
     "text": [
      "[nan 'Jewish people' 'Irish Americans' 'Scottish Americans'\n",
      " 'Puerto Ricans' 'Dutch Americans' 'Swiss' 'African Americans'\n",
      " 'Scotch-Irish Americans' 'White people' 'White Americans'\n",
      " 'Italian Americans' 'Slovak Americans' 'Indians' 'English people'\n",
      " 'Irish migration to Great Britain' 'Portuguese Americans'\n",
      " 'German Americans' 'Italians' 'Māori' 'Hungarian Americans' 'Akan people'\n",
      " 'British' 'Canadian Americans' 'British Americans' 'Swedish Americans'\n",
      " 'Irish people' 'American Jews' 'White British' 'Germans'\n",
      " 'Czech Americans' 'Armenians' 'English Americans' 'Spanish Americans'\n",
      " 'White Africans of European ancestry' 'French' 'Israeli Americans']\n"
     ]
    }
   ],
   "source": [
    "# Print all unique values in the 'Actor ethnicity' column\n",
    "unique_ethnicities = oscar_act_info['Actor ethnicity'].unique()\n",
    "\n",
    "# Display the unique values\n",
    "print(unique_ethnicities)"
   ]
  },
  {
   "cell_type": "code",
   "execution_count": 19,
   "metadata": {},
   "outputs": [
    {
     "data": {
      "application/vnd.plotly.v1+json": {
       "config": {
        "plotlyServerURL": "https://plot.ly"
       },
       "data": [
        {
         "coloraxis": "coloraxis",
         "geo": "geo",
         "hovertemplate": "<b>%{hovertext}</b><br><br>Country=%{location}<br>Count=%{z}<extra></extra>",
         "hovertext": [
          "United States of America",
          "United Kingdom",
          "Germany",
          "Italy",
          "France",
          "Sweden",
          "Far Eastern Republic",
          "Switzerland",
          "Australia",
          "New Zealand",
          "Canada"
         ],
         "locationmode": "country names",
         "locations": [
          "United States of America",
          "United Kingdom",
          "Germany",
          "Italy",
          "France",
          "Sweden",
          "Far Eastern Republic",
          "Switzerland",
          "Australia",
          "New Zealand",
          "Canada"
         ],
         "name": "",
         "type": "choropleth",
         "z": [
          122,
          36,
          5,
          3,
          3,
          3,
          1,
          1,
          1,
          1,
          1
         ]
        }
       ],
       "layout": {
        "coloraxis": {
         "colorbar": {
          "title": {
           "text": "Count"
          }
         },
         "colorscale": [
          [
           0,
           "#0d0887"
          ],
          [
           0.1111111111111111,
           "#46039f"
          ],
          [
           0.2222222222222222,
           "#7201a8"
          ],
          [
           0.3333333333333333,
           "#9c179e"
          ],
          [
           0.4444444444444444,
           "#bd3786"
          ],
          [
           0.5555555555555556,
           "#d8576b"
          ],
          [
           0.6666666666666666,
           "#ed7953"
          ],
          [
           0.7777777777777778,
           "#fb9f3a"
          ],
          [
           0.8888888888888888,
           "#fdca26"
          ],
          [
           1,
           "#f0f921"
          ]
         ]
        },
        "geo": {
         "center": {},
         "domain": {
          "x": [
           0,
           1
          ],
          "y": [
           0,
           1
          ]
         },
         "showcountries": true
        },
        "legend": {
         "tracegroupgap": 0
        },
        "template": {
         "data": {
          "bar": [
           {
            "error_x": {
             "color": "#2a3f5f"
            },
            "error_y": {
             "color": "#2a3f5f"
            },
            "marker": {
             "line": {
              "color": "#E5ECF6",
              "width": 0.5
             },
             "pattern": {
              "fillmode": "overlay",
              "size": 10,
              "solidity": 0.2
             }
            },
            "type": "bar"
           }
          ],
          "barpolar": [
           {
            "marker": {
             "line": {
              "color": "#E5ECF6",
              "width": 0.5
             },
             "pattern": {
              "fillmode": "overlay",
              "size": 10,
              "solidity": 0.2
             }
            },
            "type": "barpolar"
           }
          ],
          "carpet": [
           {
            "aaxis": {
             "endlinecolor": "#2a3f5f",
             "gridcolor": "white",
             "linecolor": "white",
             "minorgridcolor": "white",
             "startlinecolor": "#2a3f5f"
            },
            "baxis": {
             "endlinecolor": "#2a3f5f",
             "gridcolor": "white",
             "linecolor": "white",
             "minorgridcolor": "white",
             "startlinecolor": "#2a3f5f"
            },
            "type": "carpet"
           }
          ],
          "choropleth": [
           {
            "colorbar": {
             "outlinewidth": 0,
             "ticks": ""
            },
            "type": "choropleth"
           }
          ],
          "contour": [
           {
            "colorbar": {
             "outlinewidth": 0,
             "ticks": ""
            },
            "colorscale": [
             [
              0,
              "#0d0887"
             ],
             [
              0.1111111111111111,
              "#46039f"
             ],
             [
              0.2222222222222222,
              "#7201a8"
             ],
             [
              0.3333333333333333,
              "#9c179e"
             ],
             [
              0.4444444444444444,
              "#bd3786"
             ],
             [
              0.5555555555555556,
              "#d8576b"
             ],
             [
              0.6666666666666666,
              "#ed7953"
             ],
             [
              0.7777777777777778,
              "#fb9f3a"
             ],
             [
              0.8888888888888888,
              "#fdca26"
             ],
             [
              1,
              "#f0f921"
             ]
            ],
            "type": "contour"
           }
          ],
          "contourcarpet": [
           {
            "colorbar": {
             "outlinewidth": 0,
             "ticks": ""
            },
            "type": "contourcarpet"
           }
          ],
          "heatmap": [
           {
            "colorbar": {
             "outlinewidth": 0,
             "ticks": ""
            },
            "colorscale": [
             [
              0,
              "#0d0887"
             ],
             [
              0.1111111111111111,
              "#46039f"
             ],
             [
              0.2222222222222222,
              "#7201a8"
             ],
             [
              0.3333333333333333,
              "#9c179e"
             ],
             [
              0.4444444444444444,
              "#bd3786"
             ],
             [
              0.5555555555555556,
              "#d8576b"
             ],
             [
              0.6666666666666666,
              "#ed7953"
             ],
             [
              0.7777777777777778,
              "#fb9f3a"
             ],
             [
              0.8888888888888888,
              "#fdca26"
             ],
             [
              1,
              "#f0f921"
             ]
            ],
            "type": "heatmap"
           }
          ],
          "heatmapgl": [
           {
            "colorbar": {
             "outlinewidth": 0,
             "ticks": ""
            },
            "colorscale": [
             [
              0,
              "#0d0887"
             ],
             [
              0.1111111111111111,
              "#46039f"
             ],
             [
              0.2222222222222222,
              "#7201a8"
             ],
             [
              0.3333333333333333,
              "#9c179e"
             ],
             [
              0.4444444444444444,
              "#bd3786"
             ],
             [
              0.5555555555555556,
              "#d8576b"
             ],
             [
              0.6666666666666666,
              "#ed7953"
             ],
             [
              0.7777777777777778,
              "#fb9f3a"
             ],
             [
              0.8888888888888888,
              "#fdca26"
             ],
             [
              1,
              "#f0f921"
             ]
            ],
            "type": "heatmapgl"
           }
          ],
          "histogram": [
           {
            "marker": {
             "pattern": {
              "fillmode": "overlay",
              "size": 10,
              "solidity": 0.2
             }
            },
            "type": "histogram"
           }
          ],
          "histogram2d": [
           {
            "colorbar": {
             "outlinewidth": 0,
             "ticks": ""
            },
            "colorscale": [
             [
              0,
              "#0d0887"
             ],
             [
              0.1111111111111111,
              "#46039f"
             ],
             [
              0.2222222222222222,
              "#7201a8"
             ],
             [
              0.3333333333333333,
              "#9c179e"
             ],
             [
              0.4444444444444444,
              "#bd3786"
             ],
             [
              0.5555555555555556,
              "#d8576b"
             ],
             [
              0.6666666666666666,
              "#ed7953"
             ],
             [
              0.7777777777777778,
              "#fb9f3a"
             ],
             [
              0.8888888888888888,
              "#fdca26"
             ],
             [
              1,
              "#f0f921"
             ]
            ],
            "type": "histogram2d"
           }
          ],
          "histogram2dcontour": [
           {
            "colorbar": {
             "outlinewidth": 0,
             "ticks": ""
            },
            "colorscale": [
             [
              0,
              "#0d0887"
             ],
             [
              0.1111111111111111,
              "#46039f"
             ],
             [
              0.2222222222222222,
              "#7201a8"
             ],
             [
              0.3333333333333333,
              "#9c179e"
             ],
             [
              0.4444444444444444,
              "#bd3786"
             ],
             [
              0.5555555555555556,
              "#d8576b"
             ],
             [
              0.6666666666666666,
              "#ed7953"
             ],
             [
              0.7777777777777778,
              "#fb9f3a"
             ],
             [
              0.8888888888888888,
              "#fdca26"
             ],
             [
              1,
              "#f0f921"
             ]
            ],
            "type": "histogram2dcontour"
           }
          ],
          "mesh3d": [
           {
            "colorbar": {
             "outlinewidth": 0,
             "ticks": ""
            },
            "type": "mesh3d"
           }
          ],
          "parcoords": [
           {
            "line": {
             "colorbar": {
              "outlinewidth": 0,
              "ticks": ""
             }
            },
            "type": "parcoords"
           }
          ],
          "pie": [
           {
            "automargin": true,
            "type": "pie"
           }
          ],
          "scatter": [
           {
            "fillpattern": {
             "fillmode": "overlay",
             "size": 10,
             "solidity": 0.2
            },
            "type": "scatter"
           }
          ],
          "scatter3d": [
           {
            "line": {
             "colorbar": {
              "outlinewidth": 0,
              "ticks": ""
             }
            },
            "marker": {
             "colorbar": {
              "outlinewidth": 0,
              "ticks": ""
             }
            },
            "type": "scatter3d"
           }
          ],
          "scattercarpet": [
           {
            "marker": {
             "colorbar": {
              "outlinewidth": 0,
              "ticks": ""
             }
            },
            "type": "scattercarpet"
           }
          ],
          "scattergeo": [
           {
            "marker": {
             "colorbar": {
              "outlinewidth": 0,
              "ticks": ""
             }
            },
            "type": "scattergeo"
           }
          ],
          "scattergl": [
           {
            "marker": {
             "colorbar": {
              "outlinewidth": 0,
              "ticks": ""
             }
            },
            "type": "scattergl"
           }
          ],
          "scattermapbox": [
           {
            "marker": {
             "colorbar": {
              "outlinewidth": 0,
              "ticks": ""
             }
            },
            "type": "scattermapbox"
           }
          ],
          "scatterpolar": [
           {
            "marker": {
             "colorbar": {
              "outlinewidth": 0,
              "ticks": ""
             }
            },
            "type": "scatterpolar"
           }
          ],
          "scatterpolargl": [
           {
            "marker": {
             "colorbar": {
              "outlinewidth": 0,
              "ticks": ""
             }
            },
            "type": "scatterpolargl"
           }
          ],
          "scatterternary": [
           {
            "marker": {
             "colorbar": {
              "outlinewidth": 0,
              "ticks": ""
             }
            },
            "type": "scatterternary"
           }
          ],
          "surface": [
           {
            "colorbar": {
             "outlinewidth": 0,
             "ticks": ""
            },
            "colorscale": [
             [
              0,
              "#0d0887"
             ],
             [
              0.1111111111111111,
              "#46039f"
             ],
             [
              0.2222222222222222,
              "#7201a8"
             ],
             [
              0.3333333333333333,
              "#9c179e"
             ],
             [
              0.4444444444444444,
              "#bd3786"
             ],
             [
              0.5555555555555556,
              "#d8576b"
             ],
             [
              0.6666666666666666,
              "#ed7953"
             ],
             [
              0.7777777777777778,
              "#fb9f3a"
             ],
             [
              0.8888888888888888,
              "#fdca26"
             ],
             [
              1,
              "#f0f921"
             ]
            ],
            "type": "surface"
           }
          ],
          "table": [
           {
            "cells": {
             "fill": {
              "color": "#EBF0F8"
             },
             "line": {
              "color": "white"
             }
            },
            "header": {
             "fill": {
              "color": "#C8D4E3"
             },
             "line": {
              "color": "white"
             }
            },
            "type": "table"
           }
          ]
         },
         "layout": {
          "annotationdefaults": {
           "arrowcolor": "#2a3f5f",
           "arrowhead": 0,
           "arrowwidth": 1
          },
          "autotypenumbers": "strict",
          "coloraxis": {
           "colorbar": {
            "outlinewidth": 0,
            "ticks": ""
           }
          },
          "colorscale": {
           "diverging": [
            [
             0,
             "#8e0152"
            ],
            [
             0.1,
             "#c51b7d"
            ],
            [
             0.2,
             "#de77ae"
            ],
            [
             0.3,
             "#f1b6da"
            ],
            [
             0.4,
             "#fde0ef"
            ],
            [
             0.5,
             "#f7f7f7"
            ],
            [
             0.6,
             "#e6f5d0"
            ],
            [
             0.7,
             "#b8e186"
            ],
            [
             0.8,
             "#7fbc41"
            ],
            [
             0.9,
             "#4d9221"
            ],
            [
             1,
             "#276419"
            ]
           ],
           "sequential": [
            [
             0,
             "#0d0887"
            ],
            [
             0.1111111111111111,
             "#46039f"
            ],
            [
             0.2222222222222222,
             "#7201a8"
            ],
            [
             0.3333333333333333,
             "#9c179e"
            ],
            [
             0.4444444444444444,
             "#bd3786"
            ],
            [
             0.5555555555555556,
             "#d8576b"
            ],
            [
             0.6666666666666666,
             "#ed7953"
            ],
            [
             0.7777777777777778,
             "#fb9f3a"
            ],
            [
             0.8888888888888888,
             "#fdca26"
            ],
            [
             1,
             "#f0f921"
            ]
           ],
           "sequentialminus": [
            [
             0,
             "#0d0887"
            ],
            [
             0.1111111111111111,
             "#46039f"
            ],
            [
             0.2222222222222222,
             "#7201a8"
            ],
            [
             0.3333333333333333,
             "#9c179e"
            ],
            [
             0.4444444444444444,
             "#bd3786"
            ],
            [
             0.5555555555555556,
             "#d8576b"
            ],
            [
             0.6666666666666666,
             "#ed7953"
            ],
            [
             0.7777777777777778,
             "#fb9f3a"
            ],
            [
             0.8888888888888888,
             "#fdca26"
            ],
            [
             1,
             "#f0f921"
            ]
           ]
          },
          "colorway": [
           "#636efa",
           "#EF553B",
           "#00cc96",
           "#ab63fa",
           "#FFA15A",
           "#19d3f3",
           "#FF6692",
           "#B6E880",
           "#FF97FF",
           "#FECB52"
          ],
          "font": {
           "color": "#2a3f5f"
          },
          "geo": {
           "bgcolor": "white",
           "lakecolor": "white",
           "landcolor": "#E5ECF6",
           "showlakes": true,
           "showland": true,
           "subunitcolor": "white"
          },
          "hoverlabel": {
           "align": "left"
          },
          "hovermode": "closest",
          "mapbox": {
           "style": "light"
          },
          "paper_bgcolor": "white",
          "plot_bgcolor": "#E5ECF6",
          "polar": {
           "angularaxis": {
            "gridcolor": "white",
            "linecolor": "white",
            "ticks": ""
           },
           "bgcolor": "#E5ECF6",
           "radialaxis": {
            "gridcolor": "white",
            "linecolor": "white",
            "ticks": ""
           }
          },
          "scene": {
           "xaxis": {
            "backgroundcolor": "#E5ECF6",
            "gridcolor": "white",
            "gridwidth": 2,
            "linecolor": "white",
            "showbackground": true,
            "ticks": "",
            "zerolinecolor": "white"
           },
           "yaxis": {
            "backgroundcolor": "#E5ECF6",
            "gridcolor": "white",
            "gridwidth": 2,
            "linecolor": "white",
            "showbackground": true,
            "ticks": "",
            "zerolinecolor": "white"
           },
           "zaxis": {
            "backgroundcolor": "#E5ECF6",
            "gridcolor": "white",
            "gridwidth": 2,
            "linecolor": "white",
            "showbackground": true,
            "ticks": "",
            "zerolinecolor": "white"
           }
          },
          "shapedefaults": {
           "line": {
            "color": "#2a3f5f"
           }
          },
          "ternary": {
           "aaxis": {
            "gridcolor": "white",
            "linecolor": "white",
            "ticks": ""
           },
           "baxis": {
            "gridcolor": "white",
            "linecolor": "white",
            "ticks": ""
           },
           "bgcolor": "#E5ECF6",
           "caxis": {
            "gridcolor": "white",
            "linecolor": "white",
            "ticks": ""
           }
          },
          "title": {
           "x": 0.05
          },
          "xaxis": {
           "automargin": true,
           "gridcolor": "white",
           "linecolor": "white",
           "ticks": "",
           "title": {
            "standoff": 15
           },
           "zerolinecolor": "white",
           "zerolinewidth": 2
          },
          "yaxis": {
           "automargin": true,
           "gridcolor": "white",
           "linecolor": "white",
           "ticks": "",
           "title": {
            "standoff": 15
           },
           "zerolinecolor": "white",
           "zerolinewidth": 2
          }
         }
        },
        "title": {
         "text": "Heatmap of Oscar Winning Actors by Country"
        }
       }
      }
     },
     "metadata": {},
     "output_type": "display_data"
    }
   ],
   "source": [
    "country_counts = oscar_act_info['countryOfCitizenshipLabel'].value_counts()\n",
    "country_counts = country_counts.reset_index()\n",
    "country_counts.columns = ['Country', 'Count']\n",
    "\n",
    "fig = px.choropleth(country_counts, \n",
    "                    locations=\"Country\", \n",
    "                    locationmode='country names', \n",
    "                    color=\"Count\", \n",
    "                    hover_name=\"Country\", \n",
    "                    title=\"Heatmap of Oscar Winning Actors by Country\")\n",
    "fig.update_geos(showcountries=True)\n",
    "fig.show()"
   ]
  },
  {
   "cell_type": "code",
   "execution_count": 20,
   "metadata": {},
   "outputs": [
    {
     "data": {
      "application/vnd.plotly.v1+json": {
       "config": {
        "plotlyServerURL": "https://plot.ly"
       },
       "data": [
        {
         "coloraxis": "coloraxis",
         "geo": "geo",
         "hovertemplate": "<b>%{hovertext}</b><br><br>Country=%{location}<br>Count=%{z}<extra></extra>",
         "hovertext": [
          "United States of America",
          "United Kingdom",
          "Germany",
          "Italy",
          "France",
          "Sweden",
          "Far Eastern Republic",
          "Switzerland",
          "Australia",
          "New Zealand",
          "Canada"
         ],
         "locationmode": "country names",
         "locations": [
          "United States of America",
          "United Kingdom",
          "Germany",
          "Italy",
          "France",
          "Sweden",
          "Far Eastern Republic",
          "Switzerland",
          "Australia",
          "New Zealand",
          "Canada"
         ],
         "name": "",
         "type": "choropleth",
         "z": [
          122,
          36,
          5,
          3,
          3,
          3,
          1,
          1,
          1,
          1,
          1
         ]
        }
       ],
       "layout": {
        "coloraxis": {
         "colorbar": {
          "title": {
           "text": "Count"
          }
         },
         "colorscale": [
          [
           0,
           "#0d0887"
          ],
          [
           0.1111111111111111,
           "#46039f"
          ],
          [
           0.2222222222222222,
           "#7201a8"
          ],
          [
           0.3333333333333333,
           "#9c179e"
          ],
          [
           0.4444444444444444,
           "#bd3786"
          ],
          [
           0.5555555555555556,
           "#d8576b"
          ],
          [
           0.6666666666666666,
           "#ed7953"
          ],
          [
           0.7777777777777778,
           "#fb9f3a"
          ],
          [
           0.8888888888888888,
           "#fdca26"
          ],
          [
           1,
           "#f0f921"
          ]
         ]
        },
        "geo": {
         "center": {},
         "domain": {
          "x": [
           0,
           1
          ],
          "y": [
           0,
           1
          ]
         },
         "lataxis": {
          "range": [
           35,
           70
          ]
         },
         "lonaxis": {
          "range": [
           -10,
           40
          ]
         },
         "showcountries": true,
         "visible": true
        },
        "legend": {
         "tracegroupgap": 0
        },
        "template": {
         "data": {
          "bar": [
           {
            "error_x": {
             "color": "#2a3f5f"
            },
            "error_y": {
             "color": "#2a3f5f"
            },
            "marker": {
             "line": {
              "color": "#E5ECF6",
              "width": 0.5
             },
             "pattern": {
              "fillmode": "overlay",
              "size": 10,
              "solidity": 0.2
             }
            },
            "type": "bar"
           }
          ],
          "barpolar": [
           {
            "marker": {
             "line": {
              "color": "#E5ECF6",
              "width": 0.5
             },
             "pattern": {
              "fillmode": "overlay",
              "size": 10,
              "solidity": 0.2
             }
            },
            "type": "barpolar"
           }
          ],
          "carpet": [
           {
            "aaxis": {
             "endlinecolor": "#2a3f5f",
             "gridcolor": "white",
             "linecolor": "white",
             "minorgridcolor": "white",
             "startlinecolor": "#2a3f5f"
            },
            "baxis": {
             "endlinecolor": "#2a3f5f",
             "gridcolor": "white",
             "linecolor": "white",
             "minorgridcolor": "white",
             "startlinecolor": "#2a3f5f"
            },
            "type": "carpet"
           }
          ],
          "choropleth": [
           {
            "colorbar": {
             "outlinewidth": 0,
             "ticks": ""
            },
            "type": "choropleth"
           }
          ],
          "contour": [
           {
            "colorbar": {
             "outlinewidth": 0,
             "ticks": ""
            },
            "colorscale": [
             [
              0,
              "#0d0887"
             ],
             [
              0.1111111111111111,
              "#46039f"
             ],
             [
              0.2222222222222222,
              "#7201a8"
             ],
             [
              0.3333333333333333,
              "#9c179e"
             ],
             [
              0.4444444444444444,
              "#bd3786"
             ],
             [
              0.5555555555555556,
              "#d8576b"
             ],
             [
              0.6666666666666666,
              "#ed7953"
             ],
             [
              0.7777777777777778,
              "#fb9f3a"
             ],
             [
              0.8888888888888888,
              "#fdca26"
             ],
             [
              1,
              "#f0f921"
             ]
            ],
            "type": "contour"
           }
          ],
          "contourcarpet": [
           {
            "colorbar": {
             "outlinewidth": 0,
             "ticks": ""
            },
            "type": "contourcarpet"
           }
          ],
          "heatmap": [
           {
            "colorbar": {
             "outlinewidth": 0,
             "ticks": ""
            },
            "colorscale": [
             [
              0,
              "#0d0887"
             ],
             [
              0.1111111111111111,
              "#46039f"
             ],
             [
              0.2222222222222222,
              "#7201a8"
             ],
             [
              0.3333333333333333,
              "#9c179e"
             ],
             [
              0.4444444444444444,
              "#bd3786"
             ],
             [
              0.5555555555555556,
              "#d8576b"
             ],
             [
              0.6666666666666666,
              "#ed7953"
             ],
             [
              0.7777777777777778,
              "#fb9f3a"
             ],
             [
              0.8888888888888888,
              "#fdca26"
             ],
             [
              1,
              "#f0f921"
             ]
            ],
            "type": "heatmap"
           }
          ],
          "heatmapgl": [
           {
            "colorbar": {
             "outlinewidth": 0,
             "ticks": ""
            },
            "colorscale": [
             [
              0,
              "#0d0887"
             ],
             [
              0.1111111111111111,
              "#46039f"
             ],
             [
              0.2222222222222222,
              "#7201a8"
             ],
             [
              0.3333333333333333,
              "#9c179e"
             ],
             [
              0.4444444444444444,
              "#bd3786"
             ],
             [
              0.5555555555555556,
              "#d8576b"
             ],
             [
              0.6666666666666666,
              "#ed7953"
             ],
             [
              0.7777777777777778,
              "#fb9f3a"
             ],
             [
              0.8888888888888888,
              "#fdca26"
             ],
             [
              1,
              "#f0f921"
             ]
            ],
            "type": "heatmapgl"
           }
          ],
          "histogram": [
           {
            "marker": {
             "pattern": {
              "fillmode": "overlay",
              "size": 10,
              "solidity": 0.2
             }
            },
            "type": "histogram"
           }
          ],
          "histogram2d": [
           {
            "colorbar": {
             "outlinewidth": 0,
             "ticks": ""
            },
            "colorscale": [
             [
              0,
              "#0d0887"
             ],
             [
              0.1111111111111111,
              "#46039f"
             ],
             [
              0.2222222222222222,
              "#7201a8"
             ],
             [
              0.3333333333333333,
              "#9c179e"
             ],
             [
              0.4444444444444444,
              "#bd3786"
             ],
             [
              0.5555555555555556,
              "#d8576b"
             ],
             [
              0.6666666666666666,
              "#ed7953"
             ],
             [
              0.7777777777777778,
              "#fb9f3a"
             ],
             [
              0.8888888888888888,
              "#fdca26"
             ],
             [
              1,
              "#f0f921"
             ]
            ],
            "type": "histogram2d"
           }
          ],
          "histogram2dcontour": [
           {
            "colorbar": {
             "outlinewidth": 0,
             "ticks": ""
            },
            "colorscale": [
             [
              0,
              "#0d0887"
             ],
             [
              0.1111111111111111,
              "#46039f"
             ],
             [
              0.2222222222222222,
              "#7201a8"
             ],
             [
              0.3333333333333333,
              "#9c179e"
             ],
             [
              0.4444444444444444,
              "#bd3786"
             ],
             [
              0.5555555555555556,
              "#d8576b"
             ],
             [
              0.6666666666666666,
              "#ed7953"
             ],
             [
              0.7777777777777778,
              "#fb9f3a"
             ],
             [
              0.8888888888888888,
              "#fdca26"
             ],
             [
              1,
              "#f0f921"
             ]
            ],
            "type": "histogram2dcontour"
           }
          ],
          "mesh3d": [
           {
            "colorbar": {
             "outlinewidth": 0,
             "ticks": ""
            },
            "type": "mesh3d"
           }
          ],
          "parcoords": [
           {
            "line": {
             "colorbar": {
              "outlinewidth": 0,
              "ticks": ""
             }
            },
            "type": "parcoords"
           }
          ],
          "pie": [
           {
            "automargin": true,
            "type": "pie"
           }
          ],
          "scatter": [
           {
            "fillpattern": {
             "fillmode": "overlay",
             "size": 10,
             "solidity": 0.2
            },
            "type": "scatter"
           }
          ],
          "scatter3d": [
           {
            "line": {
             "colorbar": {
              "outlinewidth": 0,
              "ticks": ""
             }
            },
            "marker": {
             "colorbar": {
              "outlinewidth": 0,
              "ticks": ""
             }
            },
            "type": "scatter3d"
           }
          ],
          "scattercarpet": [
           {
            "marker": {
             "colorbar": {
              "outlinewidth": 0,
              "ticks": ""
             }
            },
            "type": "scattercarpet"
           }
          ],
          "scattergeo": [
           {
            "marker": {
             "colorbar": {
              "outlinewidth": 0,
              "ticks": ""
             }
            },
            "type": "scattergeo"
           }
          ],
          "scattergl": [
           {
            "marker": {
             "colorbar": {
              "outlinewidth": 0,
              "ticks": ""
             }
            },
            "type": "scattergl"
           }
          ],
          "scattermapbox": [
           {
            "marker": {
             "colorbar": {
              "outlinewidth": 0,
              "ticks": ""
             }
            },
            "type": "scattermapbox"
           }
          ],
          "scatterpolar": [
           {
            "marker": {
             "colorbar": {
              "outlinewidth": 0,
              "ticks": ""
             }
            },
            "type": "scatterpolar"
           }
          ],
          "scatterpolargl": [
           {
            "marker": {
             "colorbar": {
              "outlinewidth": 0,
              "ticks": ""
             }
            },
            "type": "scatterpolargl"
           }
          ],
          "scatterternary": [
           {
            "marker": {
             "colorbar": {
              "outlinewidth": 0,
              "ticks": ""
             }
            },
            "type": "scatterternary"
           }
          ],
          "surface": [
           {
            "colorbar": {
             "outlinewidth": 0,
             "ticks": ""
            },
            "colorscale": [
             [
              0,
              "#0d0887"
             ],
             [
              0.1111111111111111,
              "#46039f"
             ],
             [
              0.2222222222222222,
              "#7201a8"
             ],
             [
              0.3333333333333333,
              "#9c179e"
             ],
             [
              0.4444444444444444,
              "#bd3786"
             ],
             [
              0.5555555555555556,
              "#d8576b"
             ],
             [
              0.6666666666666666,
              "#ed7953"
             ],
             [
              0.7777777777777778,
              "#fb9f3a"
             ],
             [
              0.8888888888888888,
              "#fdca26"
             ],
             [
              1,
              "#f0f921"
             ]
            ],
            "type": "surface"
           }
          ],
          "table": [
           {
            "cells": {
             "fill": {
              "color": "#EBF0F8"
             },
             "line": {
              "color": "white"
             }
            },
            "header": {
             "fill": {
              "color": "#C8D4E3"
             },
             "line": {
              "color": "white"
             }
            },
            "type": "table"
           }
          ]
         },
         "layout": {
          "annotationdefaults": {
           "arrowcolor": "#2a3f5f",
           "arrowhead": 0,
           "arrowwidth": 1
          },
          "autotypenumbers": "strict",
          "coloraxis": {
           "colorbar": {
            "outlinewidth": 0,
            "ticks": ""
           }
          },
          "colorscale": {
           "diverging": [
            [
             0,
             "#8e0152"
            ],
            [
             0.1,
             "#c51b7d"
            ],
            [
             0.2,
             "#de77ae"
            ],
            [
             0.3,
             "#f1b6da"
            ],
            [
             0.4,
             "#fde0ef"
            ],
            [
             0.5,
             "#f7f7f7"
            ],
            [
             0.6,
             "#e6f5d0"
            ],
            [
             0.7,
             "#b8e186"
            ],
            [
             0.8,
             "#7fbc41"
            ],
            [
             0.9,
             "#4d9221"
            ],
            [
             1,
             "#276419"
            ]
           ],
           "sequential": [
            [
             0,
             "#0d0887"
            ],
            [
             0.1111111111111111,
             "#46039f"
            ],
            [
             0.2222222222222222,
             "#7201a8"
            ],
            [
             0.3333333333333333,
             "#9c179e"
            ],
            [
             0.4444444444444444,
             "#bd3786"
            ],
            [
             0.5555555555555556,
             "#d8576b"
            ],
            [
             0.6666666666666666,
             "#ed7953"
            ],
            [
             0.7777777777777778,
             "#fb9f3a"
            ],
            [
             0.8888888888888888,
             "#fdca26"
            ],
            [
             1,
             "#f0f921"
            ]
           ],
           "sequentialminus": [
            [
             0,
             "#0d0887"
            ],
            [
             0.1111111111111111,
             "#46039f"
            ],
            [
             0.2222222222222222,
             "#7201a8"
            ],
            [
             0.3333333333333333,
             "#9c179e"
            ],
            [
             0.4444444444444444,
             "#bd3786"
            ],
            [
             0.5555555555555556,
             "#d8576b"
            ],
            [
             0.6666666666666666,
             "#ed7953"
            ],
            [
             0.7777777777777778,
             "#fb9f3a"
            ],
            [
             0.8888888888888888,
             "#fdca26"
            ],
            [
             1,
             "#f0f921"
            ]
           ]
          },
          "colorway": [
           "#636efa",
           "#EF553B",
           "#00cc96",
           "#ab63fa",
           "#FFA15A",
           "#19d3f3",
           "#FF6692",
           "#B6E880",
           "#FF97FF",
           "#FECB52"
          ],
          "font": {
           "color": "#2a3f5f"
          },
          "geo": {
           "bgcolor": "white",
           "lakecolor": "white",
           "landcolor": "#E5ECF6",
           "showlakes": true,
           "showland": true,
           "subunitcolor": "white"
          },
          "hoverlabel": {
           "align": "left"
          },
          "hovermode": "closest",
          "mapbox": {
           "style": "light"
          },
          "paper_bgcolor": "white",
          "plot_bgcolor": "#E5ECF6",
          "polar": {
           "angularaxis": {
            "gridcolor": "white",
            "linecolor": "white",
            "ticks": ""
           },
           "bgcolor": "#E5ECF6",
           "radialaxis": {
            "gridcolor": "white",
            "linecolor": "white",
            "ticks": ""
           }
          },
          "scene": {
           "xaxis": {
            "backgroundcolor": "#E5ECF6",
            "gridcolor": "white",
            "gridwidth": 2,
            "linecolor": "white",
            "showbackground": true,
            "ticks": "",
            "zerolinecolor": "white"
           },
           "yaxis": {
            "backgroundcolor": "#E5ECF6",
            "gridcolor": "white",
            "gridwidth": 2,
            "linecolor": "white",
            "showbackground": true,
            "ticks": "",
            "zerolinecolor": "white"
           },
           "zaxis": {
            "backgroundcolor": "#E5ECF6",
            "gridcolor": "white",
            "gridwidth": 2,
            "linecolor": "white",
            "showbackground": true,
            "ticks": "",
            "zerolinecolor": "white"
           }
          },
          "shapedefaults": {
           "line": {
            "color": "#2a3f5f"
           }
          },
          "ternary": {
           "aaxis": {
            "gridcolor": "white",
            "linecolor": "white",
            "ticks": ""
           },
           "baxis": {
            "gridcolor": "white",
            "linecolor": "white",
            "ticks": ""
           },
           "bgcolor": "#E5ECF6",
           "caxis": {
            "gridcolor": "white",
            "linecolor": "white",
            "ticks": ""
           }
          },
          "title": {
           "x": 0.05
          },
          "xaxis": {
           "automargin": true,
           "gridcolor": "white",
           "linecolor": "white",
           "ticks": "",
           "title": {
            "standoff": 15
           },
           "zerolinecolor": "white",
           "zerolinewidth": 2
          },
          "yaxis": {
           "automargin": true,
           "gridcolor": "white",
           "linecolor": "white",
           "ticks": "",
           "title": {
            "standoff": 15
           },
           "zerolinecolor": "white",
           "zerolinewidth": 2
          }
         }
        },
        "title": {
         "text": "Heatmap of Oscar Winning Actors by Country"
        }
       }
      }
     },
     "metadata": {},
     "output_type": "display_data"
    }
   ],
   "source": [
    "country_counts = oscar_act_info['countryOfCitizenshipLabel'].value_counts()\n",
    "country_counts = country_counts.reset_index()\n",
    "country_counts.columns = ['Country', 'Count']\n",
    "\n",
    "fig = px.choropleth(country_counts, \n",
    "                    locations=\"Country\", \n",
    "                    locationmode='country names', \n",
    "                    color=\"Count\", \n",
    "                    hover_name=\"Country\", \n",
    "                    title=\"Heatmap of Oscar Winning Actors by Country\")\n",
    "fig.update_geos(showcountries=True, visible=True)\n",
    "fig.update_geos(lonaxis_range=[-10, 40], lataxis_range=[35, 70])\n",
    "fig.show()"
   ]
  },
  {
   "cell_type": "code",
   "execution_count": 21,
   "metadata": {},
   "outputs": [
    {
     "name": "stdout",
     "output_type": "stream",
     "text": [
      "Average Capital Cost of the movies starring the actresses: 25000000.0\n",
      "Average Box Office revenue of the movies starring the actresses: 41461428.0\n",
      "Average Benefits of the movies starring the actresses: 96792237.0\n"
     ]
    }
   ],
   "source": [
    "print('Average Capital Cost of the movies starring the actresses:', oscar_act_movies['capitalCost'].median()) \n",
    "print('Average Box Office revenue of the movies starring the actresses:', oscar_act_movies['Movie box office revenue'].median())\n",
    "print('Average Benefits of the movies starring the actresses:', (oscar_act_movies['Movie box office revenue'] - oscar_act_movies['capitalCost']).median())\n"
   ]
  },
  {
   "cell_type": "code",
   "execution_count": 22,
   "metadata": {},
   "outputs": [
    {
     "name": "stdout",
     "output_type": "stream",
     "text": [
      "Shape: (6867, 19)\n",
      "Columns: Index(['Wikipedia movie ID', 'Character name', 'Actor date of birth',\n",
      "       ' Actor gender', 'Actor height)', 'Actor ethnicity', 'Actor name',\n",
      "       'Actor age at movie release', 'Freebase character',\n",
      "       'Freebase character ID', 'Freebase actor ID', 'Freebase movie ID',\n",
      "       'Movie name', 'Movie release date', 'Movie box office revenue',\n",
      "       'Movie runtime', 'Movie languages', 'Movie countries', 'Movie genres'],\n",
      "      dtype='object')\n",
      "Date boundary: 1909.0 - 2014.0\n"
     ]
    }
   ],
   "source": [
    "oscar_act_movies_all = character[character['Freebase actor ID'].isin(oscar_act_info['Freebase actor ID'])]\n",
    "oscar_act_movies_all = oscar_act_movies_all.drop(columns=['Freebase movie ID', 'Movie release date'])\n",
    "oscar_act_movies_all = oscar_act_movies_all.merge(movie_cmu, on='Wikipedia movie ID', how='left')\n",
    "print('Shape:', oscar_act_movies_all.shape)\n",
    "print('Columns:', oscar_act_movies_all.columns)\n",
    "print('Date boundary:', oscar_act_movies_all['Movie release date'].min(), '-', oscar_act_movies_all['Movie release date'].max())"
   ]
  },
  {
   "cell_type": "code",
   "execution_count": 23,
   "metadata": {},
   "outputs": [],
   "source": [
    "# Create a set of unique (Actor name, Wikipedia movie ID) combinations for rewards\n",
    "best_act_movies = set(\n",
    "    zip(oscar_act_info['Actor name'], oscar_act_info['Wikipedia movie ID'])\n",
    ")\n",
    "\n",
    "# Add a new column indicating if the movie is a Best Actress Reward\n",
    "oscar_act_movies_all['Best Actress Reward'] = oscar_act_movies_all.apply(\n",
    "    lambda row: (row['Actor name'], row['Wikipedia movie ID']) in best_act_movies,\n",
    "    axis=1\n",
    ")"
   ]
  },
  {
   "cell_type": "code",
   "execution_count": 24,
   "metadata": {},
   "outputs": [
    {
     "data": {
      "application/vnd.plotly.v1+json": {
       "config": {
        "plotlyServerURL": "https://plot.ly"
       },
       "data": [
        {
         "alignmentgroup": "True",
         "hovertemplate": "Best Actress Reward=Non-Oscar-Winning<br>Movie Genre=%{x}<br>Number of Movies=%{y}<extra></extra>",
         "legendgroup": "Non-Oscar-Winning",
         "marker": {
          "color": "#636efa",
          "pattern": {
           "shape": ""
          }
         },
         "name": "Non-Oscar-Winning",
         "offsetgroup": "Non-Oscar-Winning",
         "orientation": "v",
         "showlegend": true,
         "textposition": "auto",
         "type": "bar",
         "x": [
          "Drama",
          "Comedy",
          "Romance Film",
          "Black-and-white",
          "Thriller",
          "Action",
          "Crime Fiction",
          "Action/Adventure",
          "Adventure",
          "Romantic drama",
          "Romantic comedy",
          "Film adaptation",
          "Period piece",
          "Indie",
          "War film"
         ],
         "xaxis": "x",
         "y": [
          4228,
          1907,
          1657,
          1341,
          1169,
          989,
          921,
          867,
          717,
          660,
          633,
          604,
          585,
          536,
          498
         ],
         "yaxis": "y"
        },
        {
         "alignmentgroup": "True",
         "hovertemplate": "Best Actress Reward=Oscar-Winning<br>Movie Genre=%{x}<br>Number of Movies=%{y}<extra></extra>",
         "legendgroup": "Oscar-Winning",
         "marker": {
          "color": "#EF553B",
          "pattern": {
           "shape": ""
          }
         },
         "name": "Oscar-Winning",
         "offsetgroup": "Oscar-Winning",
         "orientation": "v",
         "showlegend": true,
         "textposition": "auto",
         "type": "bar",
         "x": [
          "Drama",
          "Romance Film",
          "Black-and-white",
          "Film adaptation",
          "Romantic drama",
          "Period piece",
          "Comedy",
          "Crime Fiction",
          "War film",
          "Indie",
          "Thriller",
          "Romantic comedy",
          "Action/Adventure",
          "Action",
          "Adventure"
         ],
         "xaxis": "x",
         "y": [
          166,
          65,
          51,
          36,
          35,
          34,
          28,
          22,
          20,
          16,
          16,
          14,
          9,
          8,
          8
         ],
         "yaxis": "y"
        }
       ],
       "layout": {
        "barmode": "group",
        "height": 500,
        "legend": {
         "title": {
          "text": "Best Actress Reward"
         },
         "tracegroupgap": 0
        },
        "template": {
         "data": {
          "bar": [
           {
            "error_x": {
             "color": "#2a3f5f"
            },
            "error_y": {
             "color": "#2a3f5f"
            },
            "marker": {
             "line": {
              "color": "#E5ECF6",
              "width": 0.5
             },
             "pattern": {
              "fillmode": "overlay",
              "size": 10,
              "solidity": 0.2
             }
            },
            "type": "bar"
           }
          ],
          "barpolar": [
           {
            "marker": {
             "line": {
              "color": "#E5ECF6",
              "width": 0.5
             },
             "pattern": {
              "fillmode": "overlay",
              "size": 10,
              "solidity": 0.2
             }
            },
            "type": "barpolar"
           }
          ],
          "carpet": [
           {
            "aaxis": {
             "endlinecolor": "#2a3f5f",
             "gridcolor": "white",
             "linecolor": "white",
             "minorgridcolor": "white",
             "startlinecolor": "#2a3f5f"
            },
            "baxis": {
             "endlinecolor": "#2a3f5f",
             "gridcolor": "white",
             "linecolor": "white",
             "minorgridcolor": "white",
             "startlinecolor": "#2a3f5f"
            },
            "type": "carpet"
           }
          ],
          "choropleth": [
           {
            "colorbar": {
             "outlinewidth": 0,
             "ticks": ""
            },
            "type": "choropleth"
           }
          ],
          "contour": [
           {
            "colorbar": {
             "outlinewidth": 0,
             "ticks": ""
            },
            "colorscale": [
             [
              0,
              "#0d0887"
             ],
             [
              0.1111111111111111,
              "#46039f"
             ],
             [
              0.2222222222222222,
              "#7201a8"
             ],
             [
              0.3333333333333333,
              "#9c179e"
             ],
             [
              0.4444444444444444,
              "#bd3786"
             ],
             [
              0.5555555555555556,
              "#d8576b"
             ],
             [
              0.6666666666666666,
              "#ed7953"
             ],
             [
              0.7777777777777778,
              "#fb9f3a"
             ],
             [
              0.8888888888888888,
              "#fdca26"
             ],
             [
              1,
              "#f0f921"
             ]
            ],
            "type": "contour"
           }
          ],
          "contourcarpet": [
           {
            "colorbar": {
             "outlinewidth": 0,
             "ticks": ""
            },
            "type": "contourcarpet"
           }
          ],
          "heatmap": [
           {
            "colorbar": {
             "outlinewidth": 0,
             "ticks": ""
            },
            "colorscale": [
             [
              0,
              "#0d0887"
             ],
             [
              0.1111111111111111,
              "#46039f"
             ],
             [
              0.2222222222222222,
              "#7201a8"
             ],
             [
              0.3333333333333333,
              "#9c179e"
             ],
             [
              0.4444444444444444,
              "#bd3786"
             ],
             [
              0.5555555555555556,
              "#d8576b"
             ],
             [
              0.6666666666666666,
              "#ed7953"
             ],
             [
              0.7777777777777778,
              "#fb9f3a"
             ],
             [
              0.8888888888888888,
              "#fdca26"
             ],
             [
              1,
              "#f0f921"
             ]
            ],
            "type": "heatmap"
           }
          ],
          "heatmapgl": [
           {
            "colorbar": {
             "outlinewidth": 0,
             "ticks": ""
            },
            "colorscale": [
             [
              0,
              "#0d0887"
             ],
             [
              0.1111111111111111,
              "#46039f"
             ],
             [
              0.2222222222222222,
              "#7201a8"
             ],
             [
              0.3333333333333333,
              "#9c179e"
             ],
             [
              0.4444444444444444,
              "#bd3786"
             ],
             [
              0.5555555555555556,
              "#d8576b"
             ],
             [
              0.6666666666666666,
              "#ed7953"
             ],
             [
              0.7777777777777778,
              "#fb9f3a"
             ],
             [
              0.8888888888888888,
              "#fdca26"
             ],
             [
              1,
              "#f0f921"
             ]
            ],
            "type": "heatmapgl"
           }
          ],
          "histogram": [
           {
            "marker": {
             "pattern": {
              "fillmode": "overlay",
              "size": 10,
              "solidity": 0.2
             }
            },
            "type": "histogram"
           }
          ],
          "histogram2d": [
           {
            "colorbar": {
             "outlinewidth": 0,
             "ticks": ""
            },
            "colorscale": [
             [
              0,
              "#0d0887"
             ],
             [
              0.1111111111111111,
              "#46039f"
             ],
             [
              0.2222222222222222,
              "#7201a8"
             ],
             [
              0.3333333333333333,
              "#9c179e"
             ],
             [
              0.4444444444444444,
              "#bd3786"
             ],
             [
              0.5555555555555556,
              "#d8576b"
             ],
             [
              0.6666666666666666,
              "#ed7953"
             ],
             [
              0.7777777777777778,
              "#fb9f3a"
             ],
             [
              0.8888888888888888,
              "#fdca26"
             ],
             [
              1,
              "#f0f921"
             ]
            ],
            "type": "histogram2d"
           }
          ],
          "histogram2dcontour": [
           {
            "colorbar": {
             "outlinewidth": 0,
             "ticks": ""
            },
            "colorscale": [
             [
              0,
              "#0d0887"
             ],
             [
              0.1111111111111111,
              "#46039f"
             ],
             [
              0.2222222222222222,
              "#7201a8"
             ],
             [
              0.3333333333333333,
              "#9c179e"
             ],
             [
              0.4444444444444444,
              "#bd3786"
             ],
             [
              0.5555555555555556,
              "#d8576b"
             ],
             [
              0.6666666666666666,
              "#ed7953"
             ],
             [
              0.7777777777777778,
              "#fb9f3a"
             ],
             [
              0.8888888888888888,
              "#fdca26"
             ],
             [
              1,
              "#f0f921"
             ]
            ],
            "type": "histogram2dcontour"
           }
          ],
          "mesh3d": [
           {
            "colorbar": {
             "outlinewidth": 0,
             "ticks": ""
            },
            "type": "mesh3d"
           }
          ],
          "parcoords": [
           {
            "line": {
             "colorbar": {
              "outlinewidth": 0,
              "ticks": ""
             }
            },
            "type": "parcoords"
           }
          ],
          "pie": [
           {
            "automargin": true,
            "type": "pie"
           }
          ],
          "scatter": [
           {
            "fillpattern": {
             "fillmode": "overlay",
             "size": 10,
             "solidity": 0.2
            },
            "type": "scatter"
           }
          ],
          "scatter3d": [
           {
            "line": {
             "colorbar": {
              "outlinewidth": 0,
              "ticks": ""
             }
            },
            "marker": {
             "colorbar": {
              "outlinewidth": 0,
              "ticks": ""
             }
            },
            "type": "scatter3d"
           }
          ],
          "scattercarpet": [
           {
            "marker": {
             "colorbar": {
              "outlinewidth": 0,
              "ticks": ""
             }
            },
            "type": "scattercarpet"
           }
          ],
          "scattergeo": [
           {
            "marker": {
             "colorbar": {
              "outlinewidth": 0,
              "ticks": ""
             }
            },
            "type": "scattergeo"
           }
          ],
          "scattergl": [
           {
            "marker": {
             "colorbar": {
              "outlinewidth": 0,
              "ticks": ""
             }
            },
            "type": "scattergl"
           }
          ],
          "scattermapbox": [
           {
            "marker": {
             "colorbar": {
              "outlinewidth": 0,
              "ticks": ""
             }
            },
            "type": "scattermapbox"
           }
          ],
          "scatterpolar": [
           {
            "marker": {
             "colorbar": {
              "outlinewidth": 0,
              "ticks": ""
             }
            },
            "type": "scatterpolar"
           }
          ],
          "scatterpolargl": [
           {
            "marker": {
             "colorbar": {
              "outlinewidth": 0,
              "ticks": ""
             }
            },
            "type": "scatterpolargl"
           }
          ],
          "scatterternary": [
           {
            "marker": {
             "colorbar": {
              "outlinewidth": 0,
              "ticks": ""
             }
            },
            "type": "scatterternary"
           }
          ],
          "surface": [
           {
            "colorbar": {
             "outlinewidth": 0,
             "ticks": ""
            },
            "colorscale": [
             [
              0,
              "#0d0887"
             ],
             [
              0.1111111111111111,
              "#46039f"
             ],
             [
              0.2222222222222222,
              "#7201a8"
             ],
             [
              0.3333333333333333,
              "#9c179e"
             ],
             [
              0.4444444444444444,
              "#bd3786"
             ],
             [
              0.5555555555555556,
              "#d8576b"
             ],
             [
              0.6666666666666666,
              "#ed7953"
             ],
             [
              0.7777777777777778,
              "#fb9f3a"
             ],
             [
              0.8888888888888888,
              "#fdca26"
             ],
             [
              1,
              "#f0f921"
             ]
            ],
            "type": "surface"
           }
          ],
          "table": [
           {
            "cells": {
             "fill": {
              "color": "#EBF0F8"
             },
             "line": {
              "color": "white"
             }
            },
            "header": {
             "fill": {
              "color": "#C8D4E3"
             },
             "line": {
              "color": "white"
             }
            },
            "type": "table"
           }
          ]
         },
         "layout": {
          "annotationdefaults": {
           "arrowcolor": "#2a3f5f",
           "arrowhead": 0,
           "arrowwidth": 1
          },
          "autotypenumbers": "strict",
          "coloraxis": {
           "colorbar": {
            "outlinewidth": 0,
            "ticks": ""
           }
          },
          "colorscale": {
           "diverging": [
            [
             0,
             "#8e0152"
            ],
            [
             0.1,
             "#c51b7d"
            ],
            [
             0.2,
             "#de77ae"
            ],
            [
             0.3,
             "#f1b6da"
            ],
            [
             0.4,
             "#fde0ef"
            ],
            [
             0.5,
             "#f7f7f7"
            ],
            [
             0.6,
             "#e6f5d0"
            ],
            [
             0.7,
             "#b8e186"
            ],
            [
             0.8,
             "#7fbc41"
            ],
            [
             0.9,
             "#4d9221"
            ],
            [
             1,
             "#276419"
            ]
           ],
           "sequential": [
            [
             0,
             "#0d0887"
            ],
            [
             0.1111111111111111,
             "#46039f"
            ],
            [
             0.2222222222222222,
             "#7201a8"
            ],
            [
             0.3333333333333333,
             "#9c179e"
            ],
            [
             0.4444444444444444,
             "#bd3786"
            ],
            [
             0.5555555555555556,
             "#d8576b"
            ],
            [
             0.6666666666666666,
             "#ed7953"
            ],
            [
             0.7777777777777778,
             "#fb9f3a"
            ],
            [
             0.8888888888888888,
             "#fdca26"
            ],
            [
             1,
             "#f0f921"
            ]
           ],
           "sequentialminus": [
            [
             0,
             "#0d0887"
            ],
            [
             0.1111111111111111,
             "#46039f"
            ],
            [
             0.2222222222222222,
             "#7201a8"
            ],
            [
             0.3333333333333333,
             "#9c179e"
            ],
            [
             0.4444444444444444,
             "#bd3786"
            ],
            [
             0.5555555555555556,
             "#d8576b"
            ],
            [
             0.6666666666666666,
             "#ed7953"
            ],
            [
             0.7777777777777778,
             "#fb9f3a"
            ],
            [
             0.8888888888888888,
             "#fdca26"
            ],
            [
             1,
             "#f0f921"
            ]
           ]
          },
          "colorway": [
           "#636efa",
           "#EF553B",
           "#00cc96",
           "#ab63fa",
           "#FFA15A",
           "#19d3f3",
           "#FF6692",
           "#B6E880",
           "#FF97FF",
           "#FECB52"
          ],
          "font": {
           "color": "#2a3f5f"
          },
          "geo": {
           "bgcolor": "white",
           "lakecolor": "white",
           "landcolor": "#E5ECF6",
           "showlakes": true,
           "showland": true,
           "subunitcolor": "white"
          },
          "hoverlabel": {
           "align": "left"
          },
          "hovermode": "closest",
          "mapbox": {
           "style": "light"
          },
          "paper_bgcolor": "white",
          "plot_bgcolor": "#E5ECF6",
          "polar": {
           "angularaxis": {
            "gridcolor": "white",
            "linecolor": "white",
            "ticks": ""
           },
           "bgcolor": "#E5ECF6",
           "radialaxis": {
            "gridcolor": "white",
            "linecolor": "white",
            "ticks": ""
           }
          },
          "scene": {
           "xaxis": {
            "backgroundcolor": "#E5ECF6",
            "gridcolor": "white",
            "gridwidth": 2,
            "linecolor": "white",
            "showbackground": true,
            "ticks": "",
            "zerolinecolor": "white"
           },
           "yaxis": {
            "backgroundcolor": "#E5ECF6",
            "gridcolor": "white",
            "gridwidth": 2,
            "linecolor": "white",
            "showbackground": true,
            "ticks": "",
            "zerolinecolor": "white"
           },
           "zaxis": {
            "backgroundcolor": "#E5ECF6",
            "gridcolor": "white",
            "gridwidth": 2,
            "linecolor": "white",
            "showbackground": true,
            "ticks": "",
            "zerolinecolor": "white"
           }
          },
          "shapedefaults": {
           "line": {
            "color": "#2a3f5f"
           }
          },
          "ternary": {
           "aaxis": {
            "gridcolor": "white",
            "linecolor": "white",
            "ticks": ""
           },
           "baxis": {
            "gridcolor": "white",
            "linecolor": "white",
            "ticks": ""
           },
           "bgcolor": "#E5ECF6",
           "caxis": {
            "gridcolor": "white",
            "linecolor": "white",
            "ticks": ""
           }
          },
          "title": {
           "x": 0.05
          },
          "xaxis": {
           "automargin": true,
           "gridcolor": "white",
           "linecolor": "white",
           "ticks": "",
           "title": {
            "standoff": 15
           },
           "zerolinecolor": "white",
           "zerolinewidth": 2
          },
          "yaxis": {
           "automargin": true,
           "gridcolor": "white",
           "linecolor": "white",
           "ticks": "",
           "title": {
            "standoff": 15
           },
           "zerolinecolor": "white",
           "zerolinewidth": 2
          }
         }
        },
        "title": {
         "text": "Top 15 Movie Genres (Oscar-Winning vs Non-Oscar-Winning)"
        },
        "width": 1000,
        "xaxis": {
         "anchor": "y",
         "domain": [
          0,
          1
         ],
         "tickangle": 45,
         "title": {
          "text": "Movie Genre"
         }
        },
        "yaxis": {
         "anchor": "x",
         "domain": [
          0,
          1
         ],
         "title": {
          "text": "Number of Movies (Log Scale)"
         },
         "type": "log"
        }
       }
      }
     },
     "metadata": {},
     "output_type": "display_data"
    }
   ],
   "source": [
    "# Prepare the data for the bar chart\n",
    "oscar_movies_all = oscar_act_movies_all.copy()\n",
    "oscar_movies_all['Movie genres'] = oscar_movies_all['Movie genres'].fillna('Unknown')\n",
    "oscar_movies_all['Best Actress Reward'] = oscar_movies_all['Best Actress Reward'].map({True: 'Oscar-Winning', False: 'Non-Oscar-Winning'})\n",
    "\n",
    "# Split the genres into individual rows for analysis\n",
    "genres_split = oscar_movies_all.assign(Movie_genres_split=oscar_movies_all['Movie genres'].str.split(', ')).explode('Movie_genres_split')\n",
    "\n",
    "# Group and count movies by genre and whether they won an Oscar\n",
    "genre_counts = genres_split.groupby(['Movie_genres_split', 'Best Actress Reward']).size().reset_index(name='Count')\n",
    "\n",
    "# Limit to the top 15 genres with the highest total count\n",
    "top_genres = genre_counts.groupby('Movie_genres_split')['Count'].sum().nlargest(15).index\n",
    "filtered_genre_counts = genre_counts[genre_counts['Movie_genres_split'].isin(top_genres)]\n",
    "\n",
    "# Create the improved bar chart with log scale\n",
    "fig = px.bar(\n",
    "    filtered_genre_counts.sort_values('Count', ascending=False),\n",
    "    x='Movie_genres_split',\n",
    "    y='Count',\n",
    "    color='Best Actress Reward',\n",
    "    title='Top 15 Movie Genres (Oscar-Winning vs Non-Oscar-Winning)',\n",
    "    labels={'Movie_genres_split': 'Movie Genre', 'Count': 'Number of Movies'},\n",
    "    barmode='group',\n",
    "    log_y=True  # Set y-axis to log scale\n",
    ")\n",
    "\n",
    "# Update layout for better readability\n",
    "fig.update_layout(\n",
    "    xaxis=dict(tickangle=45, title='Movie Genre'),\n",
    "    yaxis=dict(title='Number of Movies (Log Scale)'),\n",
    "    width=1000,  # Increase figure width\n",
    "    height=500   # Adjust height\n",
    ")\n",
    "\n",
    "# Uncomment this to visualize\n",
    "# fig.show()"
   ]
  },
  {
   "cell_type": "code",
   "execution_count": 25,
   "metadata": {},
   "outputs": [
    {
     "name": "stdout",
     "output_type": "stream",
     "text": [
      "Index(['Wikipedia movie ID', 'Character name', 'Actor date of birth',\n",
      "       ' Actor gender', 'Actor height)', 'Actor ethnicity', 'Actor name',\n",
      "       'Actor age at movie release', 'Freebase character',\n",
      "       'Freebase character ID', 'Freebase actor ID', 'Freebase movie ID',\n",
      "       'Movie name', 'Movie release date', 'Movie box office revenue',\n",
      "       'Movie runtime', 'Movie languages', 'Movie countries', 'Movie genres',\n",
      "       'Best Actress Reward'],\n",
      "      dtype='object')\n"
     ]
    },
    {
     "data": {
      "application/vnd.plotly.v1+json": {
       "config": {
        "plotlyServerURL": "https://plot.ly"
       },
       "data": [
        {
         "alignmentgroup": "True",
         "hovertemplate": "Movie Type=%{x}<br>Box Office Revenue ($)=%{y}<extra></extra>",
         "legendgroup": "False",
         "marker": {
          "color": "#636efa"
         },
         "name": "False",
         "notched": false,
         "offsetgroup": "False",
         "orientation": "v",
         "showlegend": true,
         "type": "box",
         "x": [
          false,
          false,
          false,
          false,
          false,
          false,
          false,
          false,
          false,
          false,
          false,
          false,
          false,
          false,
          false,
          false,
          false,
          false,
          false,
          false,
          false,
          false,
          false,
          false,
          false,
          false,
          false,
          false,
          false,
          false,
          false,
          false,
          false,
          false,
          false,
          false,
          false,
          false,
          false,
          false,
          false,
          false,
          false,
          false,
          false,
          false,
          false,
          false,
          false,
          false,
          false,
          false,
          false,
          false,
          false,
          false,
          false,
          false,
          false,
          false,
          false,
          false,
          false,
          false,
          false,
          false,
          false,
          false,
          false,
          false,
          false,
          false,
          false,
          false,
          false,
          false,
          false,
          false,
          false,
          false,
          false,
          false,
          false,
          false,
          false,
          false,
          false,
          false,
          false,
          false,
          false,
          false,
          false,
          false,
          false,
          false,
          false,
          false,
          false,
          false,
          false,
          false,
          false,
          false,
          false,
          false,
          false,
          false,
          false,
          false,
          false,
          false,
          false,
          false,
          false,
          false,
          false,
          false,
          false,
          false,
          false,
          false,
          false,
          false,
          false,
          false,
          false,
          false,
          false,
          false,
          false,
          false,
          false,
          false,
          false,
          false,
          false,
          false,
          false,
          false,
          false,
          false,
          false,
          false,
          false,
          false,
          false,
          false,
          false,
          false,
          false,
          false,
          false,
          false,
          false,
          false,
          false,
          false,
          false,
          false,
          false,
          false,
          false,
          false,
          false,
          false,
          false,
          false,
          false,
          false,
          false,
          false,
          false,
          false,
          false,
          false,
          false,
          false,
          false,
          false,
          false,
          false,
          false,
          false,
          false,
          false,
          false,
          false,
          false,
          false,
          false,
          false,
          false,
          false,
          false,
          false,
          false,
          false,
          false,
          false,
          false,
          false,
          false,
          false,
          false,
          false,
          false,
          false,
          false,
          false,
          false,
          false,
          false,
          false,
          false,
          false,
          false,
          false,
          false,
          false,
          false,
          false,
          false,
          false,
          false,
          false,
          false,
          false,
          false,
          false,
          false,
          false,
          false,
          false,
          false,
          false,
          false,
          false,
          false,
          false,
          false,
          false,
          false,
          false,
          false,
          false,
          false,
          false,
          false,
          false,
          false,
          false,
          false,
          false,
          false,
          false,
          false,
          false,
          false,
          false,
          false,
          false,
          false,
          false,
          false,
          false,
          false,
          false,
          false,
          false,
          false,
          false,
          false,
          false,
          false,
          false,
          false,
          false,
          false,
          false,
          false,
          false,
          false,
          false,
          false,
          false,
          false,
          false,
          false,
          false,
          false,
          false,
          false,
          false,
          false,
          false,
          false,
          false,
          false,
          false,
          false,
          false,
          false,
          false,
          false,
          false,
          false,
          false,
          false,
          false,
          false,
          false,
          false,
          false,
          false,
          false,
          false,
          false,
          false,
          false,
          false,
          false,
          false,
          false,
          false,
          false,
          false,
          false,
          false,
          false,
          false,
          false,
          false,
          false,
          false,
          false,
          false,
          false,
          false,
          false,
          false,
          false,
          false,
          false,
          false,
          false,
          false,
          false,
          false,
          false,
          false,
          false,
          false,
          false,
          false,
          false,
          false,
          false,
          false,
          false,
          false,
          false,
          false,
          false,
          false,
          false,
          false,
          false,
          false,
          false,
          false,
          false,
          false,
          false,
          false,
          false,
          false,
          false,
          false,
          false,
          false,
          false,
          false,
          false,
          false,
          false,
          false,
          false,
          false,
          false,
          false,
          false,
          false,
          false,
          false,
          false,
          false,
          false,
          false,
          false,
          false,
          false,
          false,
          false,
          false,
          false,
          false,
          false,
          false,
          false,
          false,
          false,
          false,
          false,
          false,
          false,
          false,
          false,
          false,
          false,
          false,
          false,
          false,
          false,
          false,
          false,
          false,
          false,
          false,
          false,
          false,
          false,
          false,
          false,
          false,
          false,
          false,
          false,
          false,
          false,
          false,
          false,
          false,
          false,
          false,
          false,
          false,
          false,
          false,
          false,
          false,
          false,
          false,
          false,
          false,
          false,
          false,
          false,
          false,
          false,
          false,
          false,
          false,
          false,
          false,
          false,
          false,
          false,
          false,
          false,
          false,
          false,
          false,
          false,
          false,
          false,
          false,
          false,
          false,
          false,
          false,
          false,
          false,
          false,
          false,
          false,
          false,
          false,
          false,
          false,
          false,
          false,
          false,
          false,
          false,
          false,
          false,
          false,
          false,
          false,
          false,
          false,
          false,
          false,
          false,
          false,
          false,
          false,
          false,
          false,
          false,
          false,
          false,
          false,
          false,
          false,
          false,
          false,
          false,
          false,
          false,
          false,
          false,
          false,
          false,
          false,
          false,
          false,
          false,
          false,
          false,
          false,
          false,
          false,
          false,
          false,
          false,
          false,
          false,
          false,
          false,
          false,
          false,
          false,
          false,
          false,
          false,
          false,
          false,
          false,
          false,
          false,
          false,
          false,
          false,
          false,
          false,
          false,
          false,
          false,
          false,
          false,
          false,
          false,
          false,
          false,
          false,
          false,
          false,
          false,
          false,
          false,
          false,
          false,
          false,
          false,
          false,
          false,
          false,
          false,
          false,
          false,
          false,
          false,
          false,
          false,
          false,
          false,
          false,
          false,
          false,
          false,
          false,
          false,
          false,
          false,
          false,
          false,
          false,
          false,
          false,
          false,
          false,
          false,
          false,
          false,
          false,
          false,
          false,
          false,
          false,
          false,
          false,
          false,
          false,
          false,
          false,
          false,
          false,
          false,
          false,
          false,
          false,
          false,
          false,
          false,
          false,
          false,
          false,
          false,
          false,
          false,
          false,
          false,
          false,
          false,
          false,
          false,
          false,
          false,
          false,
          false,
          false,
          false,
          false,
          false,
          false,
          false,
          false,
          false,
          false,
          false,
          false,
          false,
          false,
          false,
          false,
          false,
          false,
          false,
          false,
          false,
          false,
          false,
          false,
          false,
          false,
          false,
          false,
          false,
          false,
          false,
          false,
          false,
          false,
          false,
          false,
          false,
          false,
          false,
          false,
          false,
          false,
          false,
          false,
          false,
          false,
          false,
          false,
          false,
          false,
          false,
          false,
          false,
          false,
          false,
          false,
          false,
          false,
          false,
          false,
          false,
          false,
          false,
          false,
          false,
          false,
          false,
          false,
          false,
          false,
          false,
          false,
          false,
          false,
          false,
          false,
          false,
          false,
          false,
          false,
          false,
          false,
          false,
          false,
          false,
          false,
          false,
          false,
          false,
          false,
          false,
          false,
          false,
          false,
          false,
          false,
          false,
          false,
          false,
          false,
          false,
          false,
          false,
          false,
          false,
          false,
          false,
          false,
          false,
          false,
          false,
          false,
          false,
          false,
          false,
          false,
          false,
          false,
          false,
          false,
          false,
          false,
          false,
          false,
          false,
          false,
          false,
          false,
          false,
          false,
          false,
          false,
          false,
          false,
          false,
          false,
          false,
          false,
          false,
          false,
          false,
          false,
          false,
          false,
          false,
          false,
          false,
          false,
          false,
          false,
          false,
          false,
          false,
          false,
          false,
          false,
          false,
          false,
          false,
          false,
          false,
          false,
          false,
          false,
          false,
          false,
          false,
          false,
          false,
          false,
          false,
          false,
          false,
          false,
          false,
          false,
          false,
          false,
          false,
          false,
          false,
          false,
          false,
          false,
          false,
          false,
          false,
          false,
          false,
          false,
          false,
          false,
          false,
          false,
          false,
          false,
          false,
          false,
          false,
          false,
          false,
          false,
          false,
          false,
          false,
          false,
          false,
          false,
          false,
          false,
          false,
          false,
          false,
          false,
          false,
          false,
          false,
          false,
          false,
          false,
          false,
          false,
          false,
          false,
          false,
          false,
          false,
          false,
          false,
          false,
          false,
          false,
          false,
          false,
          false,
          false,
          false,
          false,
          false,
          false,
          false,
          false,
          false,
          false,
          false,
          false,
          false,
          false,
          false,
          false,
          false,
          false,
          false,
          false,
          false,
          false,
          false,
          false,
          false,
          false,
          false,
          false,
          false,
          false,
          false,
          false,
          false,
          false,
          false,
          false,
          false,
          false,
          false,
          false,
          false,
          false,
          false,
          false,
          false,
          false,
          false,
          false,
          false,
          false,
          false,
          false,
          false,
          false,
          false,
          false,
          false,
          false,
          false,
          false,
          false,
          false,
          false,
          false,
          false,
          false,
          false,
          false,
          false,
          false,
          false,
          false,
          false,
          false,
          false,
          false,
          false,
          false,
          false,
          false,
          false,
          false,
          false,
          false,
          false,
          false,
          false,
          false,
          false,
          false,
          false,
          false,
          false,
          false,
          false,
          false,
          false,
          false,
          false,
          false,
          false,
          false,
          false,
          false,
          false,
          false,
          false,
          false,
          false,
          false,
          false,
          false,
          false,
          false,
          false,
          false,
          false,
          false,
          false,
          false,
          false,
          false,
          false,
          false,
          false,
          false,
          false,
          false,
          false,
          false,
          false,
          false,
          false,
          false,
          false,
          false,
          false,
          false,
          false,
          false,
          false,
          false,
          false,
          false,
          false,
          false,
          false,
          false,
          false,
          false,
          false,
          false,
          false,
          false,
          false,
          false,
          false,
          false,
          false,
          false,
          false,
          false,
          false,
          false,
          false,
          false,
          false,
          false,
          false,
          false,
          false,
          false,
          false,
          false,
          false,
          false,
          false,
          false,
          false,
          false,
          false,
          false,
          false,
          false,
          false,
          false,
          false,
          false,
          false,
          false,
          false,
          false,
          false,
          false,
          false,
          false,
          false,
          false,
          false,
          false,
          false,
          false,
          false,
          false,
          false,
          false,
          false,
          false,
          false,
          false,
          false,
          false,
          false,
          false,
          false,
          false,
          false,
          false,
          false,
          false,
          false,
          false,
          false,
          false,
          false,
          false,
          false,
          false,
          false,
          false,
          false,
          false,
          false,
          false,
          false,
          false,
          false,
          false,
          false,
          false,
          false,
          false,
          false,
          false,
          false,
          false,
          false,
          false,
          false,
          false,
          false,
          false,
          false,
          false,
          false,
          false,
          false,
          false,
          false,
          false,
          false,
          false,
          false,
          false,
          false,
          false,
          false,
          false,
          false,
          false,
          false,
          false,
          false,
          false,
          false,
          false,
          false,
          false,
          false,
          false,
          false,
          false,
          false,
          false,
          false,
          false,
          false,
          false,
          false,
          false,
          false,
          false,
          false,
          false,
          false,
          false,
          false,
          false,
          false,
          false,
          false,
          false,
          false,
          false,
          false,
          false,
          false,
          false,
          false,
          false,
          false,
          false,
          false,
          false,
          false,
          false,
          false,
          false,
          false,
          false,
          false,
          false,
          false,
          false,
          false,
          false,
          false,
          false,
          false,
          false,
          false,
          false,
          false,
          false,
          false,
          false,
          false,
          false,
          false,
          false,
          false,
          false,
          false,
          false,
          false,
          false,
          false,
          false,
          false,
          false,
          false,
          false,
          false,
          false,
          false,
          false,
          false,
          false,
          false,
          false,
          false,
          false,
          false,
          false,
          false,
          false,
          false,
          false,
          false,
          false,
          false,
          false,
          false,
          false,
          false,
          false,
          false,
          false,
          false,
          false,
          false,
          false,
          false,
          false,
          false,
          false,
          false,
          false,
          false,
          false,
          false,
          false,
          false,
          false,
          false,
          false,
          false,
          false,
          false,
          false,
          false,
          false,
          false,
          false,
          false,
          false,
          false,
          false,
          false,
          false,
          false,
          false,
          false,
          false,
          false,
          false,
          false,
          false,
          false,
          false,
          false,
          false,
          false,
          false,
          false,
          false,
          false,
          false,
          false,
          false,
          false,
          false,
          false,
          false,
          false,
          false,
          false,
          false,
          false,
          false,
          false,
          false,
          false,
          false,
          false,
          false,
          false,
          false,
          false,
          false,
          false,
          false,
          false,
          false,
          false,
          false,
          false,
          false,
          false,
          false,
          false,
          false,
          false,
          false,
          false,
          false,
          false,
          false,
          false,
          false,
          false,
          false,
          false,
          false,
          false,
          false,
          false,
          false,
          false,
          false,
          false,
          false,
          false,
          false,
          false,
          false,
          false,
          false,
          false,
          false,
          false,
          false,
          false,
          false,
          false,
          false,
          false,
          false,
          false,
          false,
          false,
          false,
          false,
          false,
          false,
          false,
          false,
          false,
          false,
          false,
          false,
          false,
          false,
          false,
          false,
          false,
          false,
          false,
          false,
          false,
          false,
          false,
          false,
          false,
          false,
          false,
          false,
          false,
          false,
          false,
          false,
          false,
          false,
          false,
          false,
          false,
          false,
          false,
          false,
          false,
          false,
          false,
          false,
          false,
          false,
          false,
          false,
          false,
          false,
          false,
          false,
          false,
          false,
          false,
          false,
          false,
          false,
          false,
          false,
          false,
          false,
          false,
          false,
          false,
          false,
          false,
          false,
          false,
          false,
          false,
          false,
          false,
          false,
          false,
          false,
          false,
          false,
          false,
          false,
          false,
          false,
          false,
          false,
          false,
          false,
          false,
          false,
          false,
          false,
          false,
          false,
          false,
          false,
          false,
          false,
          false,
          false,
          false,
          false,
          false,
          false,
          false,
          false,
          false,
          false,
          false,
          false,
          false,
          false,
          false,
          false,
          false,
          false,
          false,
          false,
          false,
          false,
          false,
          false,
          false,
          false,
          false,
          false,
          false,
          false,
          false,
          false,
          false,
          false,
          false,
          false,
          false,
          false,
          false,
          false,
          false,
          false,
          false,
          false,
          false,
          false,
          false,
          false,
          false,
          false,
          false,
          false,
          false,
          false,
          false,
          false,
          false,
          false,
          false,
          false,
          false,
          false,
          false,
          false,
          false,
          false,
          false,
          false,
          false,
          false,
          false,
          false,
          false,
          false,
          false,
          false,
          false,
          false,
          false,
          false,
          false,
          false,
          false,
          false,
          false,
          false,
          false,
          false,
          false,
          false,
          false,
          false,
          false,
          false,
          false,
          false,
          false,
          false,
          false,
          false,
          false,
          false,
          false,
          false,
          false,
          false,
          false,
          false,
          false,
          false,
          false,
          false,
          false,
          false,
          false,
          false,
          false,
          false,
          false,
          false,
          false,
          false,
          false,
          false,
          false,
          false,
          false,
          false,
          false,
          false,
          false,
          false,
          false,
          false,
          false,
          false,
          false,
          false,
          false,
          false,
          false,
          false,
          false,
          false,
          false,
          false,
          false,
          false,
          false,
          false,
          false,
          false,
          false,
          false,
          false,
          false,
          false,
          false,
          false,
          false,
          false,
          false,
          false,
          false,
          false,
          false,
          false,
          false,
          false,
          false,
          false,
          false,
          false,
          false,
          false,
          false,
          false,
          false,
          false,
          false,
          false,
          false,
          false,
          false,
          false,
          false,
          false,
          false,
          false,
          false,
          false,
          false,
          false,
          false,
          false,
          false,
          false,
          false,
          false,
          false,
          false,
          false,
          false,
          false,
          false,
          false,
          false,
          false,
          false,
          false,
          false,
          false,
          false,
          false,
          false,
          false,
          false,
          false,
          false,
          false,
          false,
          false,
          false,
          false,
          false,
          false,
          false,
          false,
          false,
          false,
          false,
          false,
          false,
          false,
          false,
          false,
          false,
          false,
          false,
          false,
          false,
          false,
          false,
          false,
          false,
          false,
          false,
          false,
          false,
          false,
          false,
          false,
          false,
          false,
          false,
          false,
          false,
          false,
          false,
          false,
          false,
          false,
          false,
          false,
          false,
          false,
          false,
          false,
          false,
          false,
          false,
          false,
          false,
          false,
          false,
          false,
          false,
          false,
          false,
          false,
          false,
          false,
          false,
          false,
          false,
          false,
          false,
          false,
          false,
          false,
          false,
          false,
          false,
          false,
          false,
          false,
          false,
          false,
          false,
          false,
          false,
          false,
          false,
          false,
          false,
          false,
          false,
          false,
          false,
          false,
          false,
          false,
          false,
          false,
          false,
          false,
          false,
          false,
          false,
          false,
          false,
          false,
          false,
          false,
          false,
          false,
          false,
          false,
          false,
          false,
          false,
          false,
          false,
          false,
          false,
          false,
          false,
          false,
          false,
          false,
          false,
          false,
          false,
          false,
          false,
          false,
          false,
          false,
          false,
          false,
          false,
          false,
          false,
          false,
          false,
          false,
          false,
          false,
          false,
          false,
          false,
          false,
          false,
          false,
          false,
          false,
          false,
          false,
          false,
          false,
          false,
          false,
          false,
          false,
          false,
          false,
          false,
          false,
          false,
          false,
          false,
          false,
          false,
          false,
          false,
          false,
          false,
          false,
          false,
          false,
          false,
          false,
          false,
          false,
          false,
          false,
          false,
          false,
          false,
          false,
          false,
          false,
          false,
          false,
          false,
          false,
          false,
          false,
          false,
          false,
          false,
          false,
          false,
          false,
          false,
          false,
          false,
          false,
          false,
          false,
          false,
          false,
          false,
          false,
          false,
          false,
          false,
          false,
          false,
          false,
          false,
          false,
          false,
          false,
          false,
          false,
          false,
          false,
          false,
          false,
          false,
          false,
          false,
          false,
          false,
          false,
          false,
          false,
          false,
          false,
          false,
          false,
          false,
          false,
          false,
          false,
          false,
          false,
          false,
          false,
          false,
          false,
          false,
          false,
          false,
          false,
          false,
          false,
          false,
          false,
          false,
          false,
          false,
          false,
          false,
          false,
          false,
          false,
          false,
          false,
          false,
          false,
          false,
          false,
          false,
          false,
          false,
          false,
          false,
          false,
          false,
          false,
          false,
          false,
          false,
          false,
          false,
          false,
          false,
          false,
          false,
          false,
          false,
          false,
          false,
          false,
          false,
          false,
          false,
          false,
          false,
          false,
          false,
          false,
          false,
          false,
          false,
          false,
          false,
          false,
          false,
          false,
          false,
          false,
          false,
          false,
          false,
          false,
          false,
          false,
          false,
          false,
          false,
          false,
          false,
          false,
          false,
          false,
          false,
          false,
          false,
          false,
          false,
          false,
          false,
          false,
          false,
          false,
          false,
          false,
          false,
          false,
          false,
          false,
          false,
          false,
          false,
          false,
          false,
          false,
          false,
          false,
          false,
          false,
          false,
          false,
          false,
          false,
          false,
          false,
          false,
          false,
          false,
          false,
          false,
          false,
          false,
          false,
          false,
          false,
          false,
          false,
          false,
          false,
          false,
          false,
          false,
          false,
          false,
          false,
          false,
          false,
          false,
          false,
          false,
          false,
          false,
          false,
          false,
          false,
          false,
          false,
          false,
          false,
          false,
          false,
          false,
          false,
          false,
          false,
          false,
          false,
          false,
          false,
          false,
          false,
          false,
          false,
          false,
          false,
          false,
          false,
          false,
          false,
          false,
          false,
          false,
          false,
          false,
          false,
          false,
          false,
          false,
          false,
          false,
          false,
          false,
          false,
          false,
          false,
          false,
          false,
          false,
          false,
          false,
          false,
          false,
          false,
          false,
          false,
          false,
          false,
          false,
          false,
          false,
          false,
          false,
          false,
          false,
          false,
          false,
          false,
          false,
          false,
          false,
          false,
          false,
          false,
          false,
          false,
          false,
          false,
          false,
          false,
          false,
          false,
          false,
          false,
          false,
          false,
          false,
          false,
          false,
          false,
          false,
          false,
          false,
          false,
          false,
          false,
          false,
          false,
          false,
          false,
          false,
          false,
          false,
          false,
          false,
          false,
          false,
          false,
          false,
          false,
          false,
          false,
          false,
          false,
          false,
          false,
          false,
          false,
          false,
          false,
          false,
          false,
          false,
          false,
          false,
          false,
          false,
          false,
          false,
          false,
          false,
          false,
          false,
          false,
          false,
          false,
          false,
          false,
          false,
          false,
          false,
          false,
          false,
          false,
          false,
          false,
          false,
          false,
          false,
          false,
          false,
          false,
          false,
          false,
          false,
          false,
          false,
          false,
          false,
          false,
          false,
          false,
          false,
          false,
          false,
          false,
          false,
          false,
          false,
          false,
          false,
          false,
          false,
          false,
          false,
          false,
          false,
          false,
          false,
          false,
          false,
          false,
          false,
          false,
          false,
          false,
          false,
          false,
          false,
          false,
          false,
          false,
          false,
          false,
          false,
          false,
          false,
          false,
          false,
          false,
          false,
          false,
          false,
          false,
          false,
          false,
          false,
          false,
          false,
          false,
          false,
          false,
          false,
          false,
          false,
          false,
          false,
          false,
          false,
          false,
          false,
          false,
          false,
          false,
          false,
          false,
          false,
          false,
          false,
          false,
          false,
          false,
          false,
          false,
          false,
          false,
          false,
          false,
          false,
          false,
          false,
          false,
          false,
          false,
          false,
          false,
          false,
          false,
          false,
          false,
          false,
          false,
          false,
          false,
          false,
          false,
          false,
          false,
          false,
          false,
          false,
          false,
          false,
          false,
          false,
          false,
          false,
          false,
          false,
          false,
          false,
          false,
          false,
          false,
          false,
          false,
          false,
          false,
          false,
          false,
          false,
          false,
          false,
          false,
          false,
          false,
          false,
          false,
          false,
          false,
          false,
          false,
          false,
          false,
          false,
          false,
          false,
          false,
          false,
          false,
          false,
          false,
          false,
          false,
          false,
          false,
          false,
          false,
          false,
          false,
          false,
          false,
          false,
          false,
          false,
          false,
          false,
          false,
          false,
          false,
          false,
          false,
          false,
          false,
          false,
          false,
          false,
          false,
          false,
          false,
          false,
          false,
          false,
          false,
          false,
          false,
          false,
          false,
          false,
          false,
          false,
          false,
          false,
          false,
          false,
          false,
          false,
          false,
          false,
          false,
          false,
          false,
          false,
          false,
          false,
          false,
          false,
          false,
          false,
          false,
          false,
          false,
          false,
          false,
          false,
          false,
          false,
          false,
          false,
          false,
          false,
          false,
          false,
          false,
          false,
          false,
          false,
          false,
          false,
          false,
          false,
          false,
          false,
          false,
          false,
          false,
          false,
          false,
          false,
          false,
          false,
          false,
          false,
          false,
          false,
          false,
          false,
          false,
          false,
          false,
          false,
          false,
          false,
          false,
          false,
          false,
          false,
          false,
          false,
          false,
          false,
          false,
          false,
          false,
          false,
          false,
          false,
          false,
          false,
          false,
          false,
          false,
          false,
          false,
          false,
          false,
          false,
          false,
          false,
          false,
          false,
          false,
          false,
          false,
          false,
          false,
          false,
          false,
          false,
          false,
          false,
          false,
          false,
          false,
          false,
          false,
          false,
          false,
          false,
          false,
          false,
          false,
          false,
          false,
          false,
          false,
          false,
          false,
          false,
          false,
          false,
          false,
          false,
          false,
          false,
          false,
          false,
          false,
          false,
          false,
          false,
          false,
          false,
          false,
          false,
          false,
          false,
          false,
          false,
          false,
          false,
          false,
          false,
          false,
          false,
          false,
          false,
          false,
          false,
          false,
          false,
          false,
          false,
          false,
          false,
          false,
          false,
          false,
          false,
          false,
          false,
          false,
          false,
          false,
          false,
          false,
          false,
          false,
          false,
          false,
          false,
          false,
          false,
          false,
          false,
          false,
          false,
          false,
          false,
          false,
          false,
          false,
          false,
          false,
          false,
          false,
          false,
          false,
          false,
          false,
          false,
          false,
          false,
          false,
          false,
          false,
          false,
          false,
          false,
          false,
          false,
          false,
          false,
          false,
          false,
          false,
          false,
          false,
          false,
          false,
          false,
          false,
          false,
          false,
          false,
          false,
          false,
          false,
          false,
          false,
          false,
          false,
          false,
          false,
          false,
          false,
          false,
          false,
          false,
          false,
          false,
          false,
          false,
          false,
          false,
          false,
          false,
          false,
          false,
          false,
          false,
          false,
          false,
          false,
          false,
          false,
          false,
          false,
          false,
          false,
          false,
          false,
          false,
          false,
          false,
          false,
          false
         ],
         "x0": " ",
         "xaxis": "x",
         "y": [
          23272306,
          33300000,
          4702575,
          11148828,
          2400000,
          300218018,
          300218018,
          14598571,
          171757863,
          171757863,
          2473668,
          76066841,
          30114487,
          24964890,
          82486154,
          6715067,
          1200000,
          4028293,
          14000000,
          4096030,
          4350000,
          4350000,
          4350000,
          12000000,
          12000000,
          12000000,
          12000000,
          30749142,
          6203044,
          65435625,
          42064105,
          42064105,
          9085049,
          374111707,
          2000000,
          2000000,
          2000000,
          623933331,
          1700000,
          1700000,
          126216940,
          126216940,
          60922980,
          1600000,
          227799884,
          3335984,
          23278931,
          33807409,
          102616183,
          18012,
          15998178,
          12461773,
          2750000,
          459824,
          14867086,
          14867086,
          115097286,
          96618699,
          33500000,
          1425000,
          2000000,
          734357,
          8539181,
          19576023,
          37105289,
          28607524,
          4468000,
          3547684,
          3000000,
          3000000,
          101308161,
          6250000,
          6250000,
          81600000,
          8891623,
          11000000,
          11000000,
          11000000,
          23371905,
          848754768,
          33013805,
          13800000,
          13800000,
          33426588,
          33426588,
          4700000,
          4700000,
          4700000,
          2000000,
          4500000,
          1600000,
          35419397,
          218947037,
          5250000,
          4389522,
          4143414,
          49805462,
          2490000,
          51718367,
          51718367,
          51718367,
          181490000,
          181490000,
          1370000,
          28000000,
          167805466,
          6330054,
          2038450,
          77982,
          28744356,
          38400000,
          69787663,
          3563162,
          96773200,
          39673162,
          934416487,
          142940100,
          19463185,
          1950000,
          8382477,
          3700000,
          1250000,
          6562513,
          1250000,
          50632037,
          5899797,
          15132763,
          83188165,
          30005,
          48424341,
          5555305,
          20439793,
          93300000,
          93300000,
          5000000,
          9079402,
          135458097,
          135458097,
          135458097,
          2600000,
          26890068,
          26890068,
          26890068,
          27520098,
          27520098,
          10400000,
          3473905,
          62198945,
          4100000,
          10082005,
          2783840,
          2618000,
          250288523,
          250288523,
          75868,
          896911078,
          27945225,
          27945225,
          19598588,
          50888729,
          1741435,
          25942000,
          5669831,
          463407268,
          16724933,
          13330,
          3386698,
          32632093,
          25372294,
          666922,
          102622,
          267109,
          44567606,
          1119368,
          18626419,
          89162162,
          107879496,
          107879496,
          3000000,
          5895761,
          55003135,
          22361811,
          78146652,
          45636368,
          4150000,
          4150000,
          21409028,
          270248367,
          270248367,
          13015688,
          89657398,
          600000,
          921111197,
          185260553,
          1800000,
          1800000,
          178120010,
          20714400,
          20714400,
          20714400,
          2400000,
          86947965,
          6455000,
          82343495,
          82343495,
          3418141,
          39000000,
          25928721,
          6455330,
          1897404,
          102001626,
          70692101,
          112587658,
          22549338,
          22549338,
          73052428,
          73052428,
          93945766,
          30000000,
          30000000,
          30000000,
          352927224,
          4095000,
          2502551,
          33461011,
          716891482,
          2900000,
          6500000,
          317375031,
          2148212,
          1066555,
          149044513,
          2897757,
          53653224,
          53653224,
          337174,
          142044638,
          142044638,
          142044638,
          14142409,
          35000000,
          35000000,
          35000000,
          35000000,
          35000000,
          111974,
          22034832,
          22034832,
          2710161,
          9000000,
          11416075,
          14815898,
          367275019,
          2986932,
          15471969,
          9000000,
          1500000,
          128798265,
          128798265,
          5200000,
          609841637,
          609841637,
          2842000,
          50054511,
          2868000,
          2868000,
          3574256,
          3574256,
          18575768,
          47431461,
          939885929,
          939885929,
          26412163,
          1547397,
          2000000,
          1300000,
          151119219,
          151119219,
          151119219,
          19642013,
          128038368,
          128038368,
          459359555,
          2900000,
          8000000,
          8000000,
          1123746996,
          3000000,
          3000000,
          8000000,
          46332858,
          30441738,
          30441738,
          631442092,
          32573503,
          8454301,
          9000000,
          3000000,
          452191,
          1650000,
          15705007,
          1104000,
          156239800,
          10432366,
          10432366,
          65673233,
          65673233,
          1900000,
          31466789,
          13351357,
          3550000,
          6070725,
          6070725,
          2650000,
          20710451,
          3221280,
          4708156,
          4708156,
          4708156,
          4708156,
          2000000,
          43101594,
          550500000,
          34633353,
          34633353,
          23631929,
          23631929,
          632054,
          8000000,
          33035397,
          55707411,
          55707411,
          37939757,
          111721910,
          111721910,
          111721910,
          2600000,
          40170568,
          351692268,
          2200000,
          68336997,
          68336997,
          10697276,
          12421181,
          29524289,
          29524289,
          28204261,
          28204261,
          53977250,
          6153939,
          2106557,
          2000000,
          1300000,
          124305181,
          12793213,
          8797839,
          1078008948,
          22905522,
          22905522,
          22905522,
          1050000,
          15691192,
          15691192,
          7000000,
          7000000,
          2315683,
          1206000,
          1206000,
          17487531,
          17487531,
          67348218,
          67348218,
          3000000,
          3000000,
          14096322,
          2750000,
          2301555,
          6118683,
          2600000,
          9285189,
          20408163,
          20408163,
          20408163,
          75019405,
          1750000,
          8488000,
          40716963,
          40716963,
          481840909,
          3500000,
          443524,
          157927340,
          6017509,
          35208854,
          35208854,
          52090187,
          52090187,
          10006806,
          3225000,
          206678440,
          206678440,
          23032565,
          1200000,
          1800000,
          695000,
          24379978,
          134212055,
          60000000,
          60000000,
          592000,
          2350000,
          583232,
          132511035,
          8253123,
          484635760,
          6836201,
          7027290,
          116112375,
          120217409,
          1167000,
          1167000,
          132440069,
          1200000,
          2600000,
          42800000,
          5985690,
          140081992,
          1300000,
          278623,
          134361879,
          3790493,
          157091718,
          1500000,
          25232289,
          40491165,
          457364600,
          457364600,
          457364600,
          40218899,
          40218899,
          52034889,
          449300000,
          449300000,
          50865589,
          50865589,
          2819485,
          1000000,
          20158970,
          44785053,
          44785053,
          1111000,
          39323027,
          7600000,
          7600000,
          15151736,
          3992844,
          218613188,
          218613188,
          868979,
          1000000,
          20031211,
          10372291,
          10372291,
          2250000,
          156835339,
          156835339,
          10500000,
          10500000,
          17569030,
          22697691,
          32556175,
          32556175,
          21706100,
          5979947,
          5979947,
          1328111219,
          1328111219,
          94935764,
          313542341,
          956399711,
          65573198,
          81640278,
          900000,
          25422088,
          2015810,
          8700000,
          8700000,
          8700000,
          5000000,
          59619,
          583000,
          52293982,
          1100218,
          187858642,
          24441725,
          24441725,
          617521,
          32255440,
          32255440,
          350448145,
          2050000,
          5000000,
          199043242,
          187694327,
          40105542,
          4517000,
          137885,
          109578115,
          80701064,
          3000000,
          940000,
          196114570,
          890871626,
          2000000,
          21126225,
          4651977,
          9929135,
          182057016,
          1851761,
          185991646,
          88933562,
          88933562,
          30500000,
          30500000,
          1665838,
          299288605,
          14999969,
          100076342,
          10382407,
          18636537,
          18636537,
          783000,
          180557550,
          4420000,
          4420000,
          50068310,
          108539911,
          71441250,
          71441250,
          4079895,
          4079895,
          2250000,
          2250000,
          2250000,
          336529844,
          2500000,
          4821759,
          4821759,
          102854431,
          604491,
          30950002,
          30950002,
          56505065,
          14202899,
          96542059,
          14851083,
          14851083,
          7286310,
          4263651,
          3000000,
          182016617,
          3250000,
          9366227,
          3000000,
          86273333,
          1075000,
          50907234,
          50907234,
          8400000,
          25966555,
          305153249,
          72258126,
          17760000,
          21591800,
          21591800,
          283081,
          27635236,
          27635236,
          497000,
          497000,
          1250000,
          1250000,
          49718611,
          2200000,
          152368585,
          3500000,
          1390000,
          1390000,
          4500000,
          275000,
          115505027,
          115505027,
          3060858,
          400000000,
          400000000,
          19650000,
          1350000,
          1350000,
          159616327,
          15942628,
          150166126,
          219069702,
          10143618,
          117615211,
          31853080,
          124914842,
          124914842,
          7724701,
          16408286,
          12000000,
          12000000,
          64466140,
          199006387,
          199006387,
          199006387,
          6908797,
          27484464,
          900689,
          7532911,
          793815,
          1600000,
          2250000,
          53457,
          7000000,
          1621000,
          144877632,
          144877632,
          8038508,
          8038508,
          180622424,
          37823676,
          9600000,
          3202000,
          8279042,
          116672912,
          43318349,
          73498611,
          2000000,
          3650275,
          18344729,
          2500000,
          2500000,
          2500000,
          2500000,
          75226021,
          75226021,
          1250000,
          1000000,
          73090611,
          181001478,
          181001478,
          207515725,
          2005840,
          4557214,
          1018753,
          1018753,
          134748021,
          134748021,
          878979634,
          796688549,
          796688549,
          796688549,
          17749000,
          38955598,
          38955598,
          2100000,
          8620678,
          50000000,
          50000000,
          6000000,
          798958162,
          3250000,
          2400000,
          12531831,
          211780824,
          361958736,
          74134790,
          74134790,
          74134790,
          2000000,
          21042667,
          21042667,
          1164000,
          1164000,
          2807000,
          2807000,
          2742912,
          31596911,
          46616067,
          46616067,
          10340263,
          3710000,
          18428904,
          8218695,
          1700000,
          20629846,
          278720,
          278720,
          278720,
          57958696,
          3100000,
          3100000,
          2500000,
          2200000,
          543113985,
          14644335,
          14644335,
          29066483,
          25010896,
          3200000,
          76594107,
          10004817,
          10004817,
          10004817,
          10004817,
          10004817,
          10004817,
          10004817,
          10004817,
          10004817,
          1100000,
          36348784,
          36348784,
          1850000,
          7500000,
          263427551,
          12161038,
          12161038,
          12161038,
          12161038,
          12161038,
          12161038,
          12161038,
          12161038,
          25480490,
          42277365,
          8000000,
          45916769,
          20000000,
          8645411,
          418689,
          1600000,
          7206220,
          65088797,
          35841901,
          35841901,
          76747202,
          76747202,
          36967750,
          136706683,
          29200000,
          29200000,
          21284514,
          3000000,
          46122355,
          14560084,
          14560084,
          26877589,
          41728598,
          222559,
          222559,
          24600000,
          24600000,
          14000000,
          14000000,
          55181129,
          55181129,
          55181129,
          66673516,
          21458229,
          5321508,
          41833324,
          2850000,
          162835167,
          41600020,
          41600020,
          19379387,
          19379387,
          1250000,
          2270000,
          2270000,
          2270000,
          2451545,
          94216343,
          46720491,
          296339527,
          29725663,
          6000000,
          9194283,
          50000000,
          10000000,
          16140822,
          29712172,
          8125000,
          8125000,
          66132626,
          5200000,
          5200000,
          25534703,
          25534703,
          1000000,
          50732139,
          752600867,
          628138,
          4722310,
          54999651,
          2950000,
          215283742,
          25303038,
          25303038,
          25303038,
          22847564,
          22847564,
          22847564,
          23928503,
          16627188,
          89325780,
          61615296,
          159157447,
          14681192,
          14681192,
          50700000,
          50700000,
          12993175,
          25978442,
          14894347,
          28221552,
          7013191,
          916051,
          52304001,
          52304001,
          1500000,
          71079915,
          86432520,
          268500000,
          268500000,
          268500000,
          193772504,
          171120329,
          409144,
          459098,
          27200316,
          2250000,
          2250000,
          4611062,
          4611062,
          86572238,
          16153953,
          20000000,
          4412203,
          14145677,
          14700000,
          81600000,
          2100000,
          2100000,
          784181,
          2500000,
          1532649,
          5628000,
          15681020,
          29202884,
          1700000,
          49332692,
          267249,
          79666653,
          1499275,
          3155000,
          5008276,
          1100000,
          1100000,
          7331647,
          4479470,
          4479470,
          291390,
          5080409,
          2536242,
          25697647,
          35825316,
          106683817,
          10561038,
          363398565,
          71026631,
          71026631,
          24946533,
          252706,
          112462508,
          100489151,
          100489151,
          21756163,
          3300000,
          20246790,
          17380126,
          9190819,
          4364843,
          11087569,
          20123742,
          2500000,
          14296438,
          2816518,
          139700000,
          139700000,
          139700000,
          139700000,
          33000000,
          33000000,
          33000000,
          38120905,
          24361867,
          16797191,
          18272894,
          198685114,
          26712476,
          6877842,
          1350000,
          1350000,
          141337989,
          15610299,
          135553760,
          8547733,
          292810686,
          292810686,
          292810686,
          8049666,
          8049666,
          16000000,
          9450897,
          9450897,
          9450897,
          27816,
          31143859,
          19319254,
          3300000,
          2750000,
          19344615,
          19344615,
          19344615,
          2007290,
          2007290,
          2000000,
          1089956,
          1493782,
          347512318,
          347512318,
          28215453,
          39071603,
          39071603,
          39071603,
          39071603,
          5000000,
          71868327,
          151668774,
          36764313,
          36764313,
          765000,
          765000,
          49101993,
          118676606,
          118676606,
          118676606,
          15782759,
          15782759,
          831000,
          326551094,
          50000000,
          52287414,
          57777778,
          57777778,
          119418501,
          119418501,
          78084827,
          287594577,
          3800000,
          62548947,
          6939946,
          14000000,
          14000000,
          2550000,
          2550000,
          2727000,
          16371128,
          16371128,
          202292902,
          262520724,
          15219000,
          68204193,
          452152,
          1008000,
          2411145,
          7500000,
          257043,
          48351036,
          48351036,
          168335153,
          10763469,
          604000,
          9640000,
          9023199,
          3340374,
          318623,
          36145695,
          36145695,
          36145695,
          752216557,
          21289826,
          29413966,
          29413966,
          1279000,
          1279000,
          205400000,
          205400000,
          335062320,
          209196298,
          209196298,
          103891409,
          50750000,
          50750000,
          50750000,
          50750000,
          1852655,
          3200000,
          55701900,
          417663,
          46908987,
          17129000,
          5200986,
          16217773,
          35078918,
          35078918,
          36000000,
          181674817,
          77153487,
          677387716,
          96301534,
          103291131,
          2346150,
          1800000,
          66845033,
          66845033,
          58946,
          1400000,
          400062763,
          214918407,
          2613717,
          2613717,
          3550000,
          3550000,
          3000000,
          2850000,
          140073390,
          140073390,
          8000000,
          35509515,
          126737428,
          42938449,
          162970275,
          98410061,
          11000000,
          11000000,
          640000,
          10000000,
          10000000,
          1043871802,
          4150000,
          4150000,
          61801971,
          16320000,
          23367586,
          2400000,
          51803305,
          51803305,
          51803305,
          47405566,
          33833201,
          932000,
          17471727,
          1000000,
          1000000,
          185770160,
          1900000,
          1900000,
          215862692,
          1296937,
          78784010,
          78784010,
          25052000,
          63513,
          1300000,
          92283851,
          51880044,
          25842377,
          289317794,
          289317794,
          21689062,
          25000000,
          2484226,
          15856028,
          15856028,
          12000000,
          193000000,
          193000000,
          193000000,
          193000000,
          2437000,
          70600000,
          70600000,
          11444204,
          50000000,
          21508,
          1083486,
          1083486,
          1302067,
          22654650,
          13474588,
          17343596,
          3981000,
          12923936,
          4366722,
          1039824,
          974755371,
          1250000,
          110627965,
          31976848,
          48878502,
          65977295,
          16086247,
          16086247,
          3100000,
          619570,
          34266564,
          15565363,
          15565363,
          21333333,
          21333333,
          43838238,
          34967437,
          1276000,
          1276000,
          4739023,
          217764291,
          7828841,
          2500000,
          30177511,
          3900000,
          726354,
          137783840,
          24665649,
          2167808,
          176070171,
          14334401,
          294804195,
          963420425,
          7467504,
          7467504,
          1300000,
          23472449,
          3184348,
          154749918,
          147780440,
          211989043,
          32054454,
          3475000,
          1342903,
          382946,
          2250000,
          2500000,
          9566593,
          2150000,
          100230832,
          100230832,
          100230832,
          126690726,
          102953112,
          4650000,
          4650000,
          819118,
          9871065,
          43440721,
          38016380,
          5129058,
          149673788,
          4250000,
          15747450,
          44083657,
          193967670,
          26013153,
          56342711,
          249488115,
          10000000,
          96889998,
          366101666,
          224012234,
          33035245,
          46471023,
          46471023,
          35000000,
          50000000,
          50000000,
          50000000,
          67331309,
          67331309,
          67331309,
          12195695,
          159710793,
          159710793,
          505675,
          11439193,
          40863344,
          70115868,
          70115868,
          25682090,
          196393745,
          6011745,
          25032129,
          372234864,
          372234864,
          3700000,
          3700000,
          8345845,
          5024782,
          5024782,
          73956241,
          73956241,
          3700000,
          432274,
          154852975,
          11819244,
          62761005,
          20208496,
          6370816,
          6370816,
          1027044677,
          12532777,
          1500000,
          105834556,
          105834556,
          7400000,
          20563362,
          80214198,
          1253985,
          1253985,
          235926552,
          235926552,
          235926552,
          26000000,
          63000000,
          34335025,
          6000000,
          108431355,
          4373074,
          52767889,
          62112895,
          84431625,
          2500000,
          6326051,
          13046465,
          13046465,
          34073143,
          195268056,
          195268056,
          14545941,
          18999718,
          6919198,
          12000000,
          624386746,
          2750000,
          2268000,
          266728738,
          266728738,
          266728738,
          93974620,
          7000000,
          7000000,
          1300000,
          1300000,
          8008255,
          20050376,
          237202298,
          237202298,
          1214231,
          494471524,
          494471524,
          6944471,
          10161099,
          10161099,
          17810894,
          4000000,
          37311672,
          9493259,
          2000000,
          7281450,
          531957538,
          11300653,
          11300653,
          11300653,
          97169156,
          1000000,
          3242342,
          72000000,
          28931401,
          4000000,
          91411255,
          62450361,
          533569,
          533569,
          151493655,
          320145693,
          33208099,
          30680,
          2735731,
          2735731,
          15351421,
          9164370,
          141069860,
          2450000,
          69485490,
          138530565,
          5661798,
          34585416,
          34585416,
          6375000,
          6375000,
          57756408,
          57756408,
          57756408,
          821708551,
          1600000,
          31181347,
          461983149,
          461983149,
          27807627,
          4134992,
          3300000,
          3300000,
          3900000,
          5530764,
          5530764,
          71215869,
          19853892,
          1534569,
          23438120,
          71646,
          3325651,
          1820049,
          1820049,
          14821658,
          128406887,
          9479718,
          245676146,
          245676146,
          12767815,
          12767815,
          325286646,
          2049769,
          497409852,
          48451803,
          20837000,
          70124099,
          22313201,
          28283637,
          37691644,
          310650585,
          310650585,
          310650585,
          110879513,
          44268170,
          47285152,
          136159423,
          649398328,
          49782400,
          36489888,
          5200000,
          5200000,
          113714830,
          113714830,
          128499205,
          47383689,
          47383689,
          4803039,
          44917151,
          44917151,
          77741732,
          140000000,
          58785180,
          60427839,
          54579,
          10332256,
          137298489,
          137298489,
          14760451,
          1109000,
          1800000,
          100020092,
          6500000,
          6500000,
          516642939,
          516642939,
          516642939,
          41700000,
          1550000,
          1550000,
          31815,
          2500000,
          2500000,
          1600000,
          142634358,
          96047633,
          7237794,
          2401743,
          450717150,
          1765545,
          18369,
          113996937,
          6375979,
          73200000,
          1000000,
          1798862,
          1798862,
          34275987,
          21302121,
          200687492,
          200687492,
          34175000,
          4100000,
          4100000,
          106260000,
          25000000,
          9448644,
          9448644,
          102202,
          108144200,
          10005969,
          2000000,
          2000000,
          22752488,
          1102469,
          43749,
          13560960,
          7294835,
          157387195,
          157387195,
          25147055,
          25147055,
          25147055,
          175000000,
          566611,
          274703340,
          27118000,
          54682547,
          11494838,
          26828365,
          161128228,
          585349010,
          32589624,
          24406761,
          49919870,
          204594016,
          108185706,
          2700000,
          1500000,
          4500000,
          1562923,
          1562923,
          84146832,
          3692836,
          39459427,
          39459427,
          311312624,
          30038362,
          4218701,
          4218701,
          256697520,
          256697520,
          1100000,
          30925690,
          4500000,
          55494066,
          55494066,
          55494066,
          13982357,
          2276900,
          2276900,
          6650206,
          74000000,
          74000000,
          60000000,
          68467960,
          2100000,
          2500000,
          635620,
          1200000,
          5200601,
          2750000,
          2750000,
          473993,
          15055091,
          15055091,
          15055091,
          15055091,
          618017,
          131052444,
          1800000,
          177547352,
          7390108,
          44527234,
          90614445,
          90614445,
          783766341,
          2240000,
          2240000,
          1465000,
          407711549,
          3500000,
          21589395,
          24332324,
          52096475,
          2100000,
          441286195,
          91445389,
          91445389,
          2036599,
          2600000,
          3180674,
          4864980,
          4864980,
          84748651,
          109423648,
          109423648,
          56714147,
          78000000,
          101393569,
          13583690,
          13583690,
          475106177,
          9191638,
          25627836,
          25627836,
          10292300,
          20016753,
          391081192,
          391081192,
          22844291,
          118880016,
          22231658,
          49114016,
          29300090,
          13000000,
          13000000,
          28277918,
          4750000,
          75993061,
          216485654,
          216485654,
          216485654,
          216485654,
          85313124,
          19151797,
          5924914,
          1900000,
          5786368,
          20831000,
          65754228,
          113374103,
          113374103,
          25885000,
          162944923,
          162944923,
          2181286,
          102223269,
          7500000,
          41509797,
          41509797,
          920000,
          396397203,
          5979292,
          24652021,
          1147784,
          10429451,
          2004742,
          2004742,
          48169910,
          1100000,
          107874,
          141774679,
          654264015,
          205135175,
          205135175,
          580129,
          47902566,
          1400591,
          11092559,
          10725228,
          10725228,
          10725228,
          1762000,
          1762000,
          1900000,
          23925492,
          7393346,
          7393346,
          9380473,
          250821495,
          10011050,
          10011050,
          10011050,
          9077269,
          37734758,
          37734758,
          44229441,
          1100000,
          59945183,
          21006361,
          889352,
          889352,
          889352,
          25912624,
          44432255,
          44432255,
          5768142,
          5768142,
          750000,
          82102379,
          82102379,
          82102379,
          12729675,
          12729675,
          11000000,
          16534578,
          3800000,
          3800000,
          3800000,
          683131,
          683131,
          3000000,
          363889700,
          56308881,
          355237933,
          246942017,
          246942017,
          309457509,
          129538392,
          195745823,
          1150000,
          147080413,
          2200000,
          2200000,
          2200000,
          2200000,
          170362582,
          1500000,
          26657534,
          42913571,
          42913571,
          20308772,
          175372502,
          30919415,
          18600000,
          38332994,
          103290500,
          6000000,
          490000,
          30526509,
          6263883,
          13130349,
          624026776,
          2340336,
          12320393,
          80000000,
          80000000,
          2935242,
          2935242,
          2185372302,
          2185372302,
          42300873,
          8415112,
          23681338,
          9610042,
          3393161,
          3125424,
          2000000,
          2000000,
          54926886,
          122650962,
          73839240,
          73839240,
          73839240,
          43220000,
          43220000,
          43220000,
          5111000,
          25000000,
          72178895,
          41000000,
          41000000,
          9745803,
          4875436,
          98126565,
          98126565,
          441071011,
          511225,
          1455045,
          1200000,
          3293658,
          758239851,
          266465037,
          266465037,
          16624456,
          886461,
          57319029,
          4250000,
          4250000,
          4250000,
          8500000,
          8500000,
          8500000,
          1498795,
          115267375,
          159330280,
          26616840,
          26616840,
          739104,
          32051917,
          162091208,
          148336445,
          4000000,
          4000000,
          4000000,
          2600000,
          6266671,
          362211740,
          14375181,
          24058838,
          321306305,
          72617068,
          471210,
          471210,
          74237563,
          87713825,
          87713825,
          45284974,
          54294169,
          1250000,
          12200000,
          2000000,
          2000000,
          40400657,
          1200000,
          22000115,
          30057974,
          4529843,
          260718330,
          2335000,
          12000000,
          29506464,
          29506464,
          121969216,
          46836394,
          5321508,
          335154643,
          29133000,
          29133000,
          2900000,
          9000000,
          9000000,
          23397365,
          80630608,
          161451538,
          546388200,
          3438804,
          3438804,
          45000000,
          31559552,
          31559552,
          31559552,
          11403529,
          16942795,
          11267000,
          3484331,
          1740000,
          2500000,
          2500000,
          30762621,
          130358911,
          2000000,
          9000000,
          9000000,
          187436818,
          187436818,
          187436818,
          187436818,
          105232691,
          105232691,
          21156270,
          15978422,
          3000000,
          88545092,
          41067311,
          770000,
          2000000,
          3000000,
          3000000,
          8000000,
          231605150,
          101370000,
          101370000,
          101370000,
          101370000,
          112215759,
          112215759,
          53267000,
          209600000,
          209600000,
          3477678,
          1027699,
          30000000,
          30000000,
          1263279,
          71406573,
          2900000,
          2900000,
          330444045,
          9612469,
          9612469,
          135039943,
          9056073,
          3736868,
          2200000,
          7325177,
          16153600,
          24405825,
          164508066,
          1825000,
          2105000,
          4100000,
          41895491,
          9230769,
          6110979,
          6110979,
          2400000,
          2400000,
          2400000,
          91753202,
          97838349,
          97838349,
          8543587,
          29612137,
          46029,
          1800000,
          1800000,
          119718203,
          1800000,
          1800000,
          19131246,
          19039770,
          8527517,
          4460000,
          4460000,
          4460000,
          55495563,
          26355483,
          26355483,
          26355483,
          4700000,
          122046,
          6202756,
          6202756,
          485930816,
          9012000,
          335976,
          63766510,
          63766510,
          63766510,
          4900000,
          8500000,
          44547681,
          182968902,
          136397186,
          4615255,
          12096881,
          321669730,
          321669730,
          4100000,
          5656388,
          159055768,
          665523,
          2807390,
          90754475,
          4197729,
          177200000,
          177200000,
          1900000,
          1900000,
          43368779,
          2250000,
          624643,
          353624124,
          123922370,
          6000000,
          6000000,
          585174222,
          585174222,
          8000000,
          337700000,
          20340204,
          260562,
          214104620,
          162738726,
          162738726,
          162738726,
          38901218,
          56666667,
          56666667,
          32655,
          11838218,
          11838218,
          170128460,
          1628000,
          431900000,
          29800000,
          29800000,
          10353438,
          26891849,
          900000,
          24047675,
          24047675,
          24047675,
          22512655,
          45360915,
          2200000,
          179213434,
          533479,
          11829959,
          2000000,
          12890752,
          12890752,
          119285432,
          25889208,
          100860818,
          2600000,
          32801173,
          32801173,
          32801173,
          6110000,
          33300000,
          3542353,
          17130087,
          20072172,
          449220945,
          1945658,
          131002597,
          4000000,
          54303319,
          50236831,
          136766062,
          136766062,
          17218023,
          17218023,
          10000000,
          10000000,
          10000000,
          31678778,
          954046,
          825532764,
          1103757,
          300854823,
          300854823,
          300854823,
          300854823,
          31132592,
          28623000,
          4197015,
          44017374,
          1063171911,
          6000000,
          101191884,
          10851261,
          1000000,
          4456346,
          4456346,
          12643776,
          524668,
          59509925,
          13406717,
          56255142,
          1850000,
          13030214,
          13030214,
          7928412,
          7928412,
          28510652,
          100086793,
          27503037,
          27503037,
          12200000,
          12200000,
          1890437,
          19868354,
          3100000,
          3100000,
          11665465,
          76270454,
          3382515,
          6045657,
          6045657,
          14789113,
          17290970,
          17290970,
          29419291,
          29419291,
          211342221,
          14902041,
          19994515,
          512451,
          33800000,
          156491279,
          468684,
          2000000,
          2000000,
          41382841,
          41382841,
          14473370,
          14473370,
          115101622,
          80000000,
          2254124,
          10576604,
          27187653,
          4000000,
          47951979,
          39404261,
          160188546,
          2000000,
          6000000,
          45300000,
          45300000,
          211652051,
          106269971,
          65001485,
          65001485,
          34562222,
          34562222,
          7310000,
          16171098,
          915840,
          631744560,
          183031272,
          95904091,
          95904091,
          95904091,
          7571115,
          286214286,
          27038732,
          27038732,
          7000000,
          724912,
          21968877,
          47847881,
          47847881,
          2200000,
          39171,
          7000000,
          243240178,
          20966644,
          20966644,
          15986449,
          58292295,
          3250000,
          9889670,
          18099091,
          542762,
          19288130,
          3000000,
          3000000,
          2250000,
          8613462,
          8613462,
          8613462,
          3728888,
          34603943,
          34603943,
          11132900,
          11132900,
          5142858,
          17518220,
          17518220,
          1723319,
          563358,
          14339171,
          96188903,
          96188903,
          1362303,
          2119000,
          2119000,
          857000,
          951583777,
          112547,
          1350000,
          96000,
          189859560,
          189859560,
          139796,
          18924919,
          289847354,
          6995302,
          531000,
          11647000,
          11647000,
          219417255,
          169852759,
          17957265,
          17957265,
          17957265,
          93621340,
          35150546,
          346594,
          46189568,
          46189568,
          18914307,
          18914307,
          24164,
          24164,
          13831503,
          26518355,
          71518503,
          71518503,
          296655431,
          296655431,
          296655431,
          378882411,
          6410058,
          45566200,
          45566200,
          5696391,
          709709780,
          17080167,
          17080167,
          17080167,
          44722,
          1600000,
          14543394,
          14543394,
          81471882,
          38068353,
          38068353,
          28078073,
          686533290,
          12224450,
          397850012,
          39024251,
          141181969,
          12600000,
          131426169,
          131426169,
          131426169,
          131426169,
          1250000,
          2100000,
          2100000,
          15510,
          163733697,
          163733697,
          163733697,
          163733697,
          5816000,
          5816000,
          2150000,
          1550000,
          1000000,
          77628265,
          9689816,
          1750000,
          93888185,
          752856,
          28262574,
          28262574,
          8450000,
          13342790,
          309208309,
          77713866,
          23624242,
          23624242,
          23624242,
          74865517,
          1083000,
          16530578,
          1200000,
          60740827,
          30236407,
          30236407,
          72689,
          5000000,
          583000,
          21417725,
          21417725,
          187349,
          187349,
          1511757910,
          48668907,
          48668907,
          34900023,
          15614000,
          470653000,
          349464665,
          349464665,
          1400000,
          13414416,
          4454295,
          4454295,
          16680836,
          32324557,
          381509870,
          22323612,
          900000,
          485015179,
          82150642,
          223387299,
          2507995,
          91354215,
          76747441,
          1051907,
          65884703,
          65884703,
          540152,
          6000000,
          6000000,
          6000000,
          411348924,
          83073883,
          110463140,
          6000000,
          6000000,
          2900000,
          10647219,
          86579130,
          20529194,
          8200000,
          44093014,
          44093014,
          4104962,
          11285588,
          27500,
          27500,
          8142237,
          8142237,
          115842,
          17989227,
          17989227,
          10670,
          10670,
          13102025,
          362744280,
          1800000,
          75902208,
          75902208,
          1525000,
          1731000,
          26010864,
          26010864,
          7258543,
          345141403,
          121548,
          40846082,
          173013509,
          173013509,
          173013509,
          50000000,
          50000000,
          50000000,
          1070000,
          15000000,
          15000000,
          22276975,
          1300000,
          26857459,
          613285,
          22773535,
          538375067,
          12000000,
          13204291,
          102308889,
          919838758,
          196400000,
          196400000,
          196400000,
          34105207,
          136982834,
          457696359,
          580862,
          580862,
          2000000,
          9480198,
          10873237,
          1000000,
          14859394,
          1250000,
          4984663,
          152944660,
          152944660,
          7460797,
          70016220,
          7343114,
          7343114,
          4200000,
          9685976,
          23369283,
          4764606,
          3000000,
          12686,
          3600000,
          7603766,
          7603766,
          13019253,
          110000000,
          5249881,
          2250000,
          85498534,
          64256513,
          64256513,
          2000000,
          1750000,
          332597,
          3800000,
          384335608,
          149022650,
          17550741,
          4269426,
          27058304,
          27058304,
          11099118,
          11099118,
          1200000,
          96105964,
          96105964,
          96105964,
          127234389,
          563323,
          2300000,
          306431864,
          306431864,
          306431864,
          306431864,
          66502573,
          402480000,
          674000,
          306319,
          228738393,
          1975000,
          3500000,
          20597806,
          20597806,
          17100369,
          37020277,
          1300000,
          63270710,
          130431368,
          211608112,
          14560247,
          5078660,
          10000000,
          30716901,
          38755073,
          38755073,
          281929795,
          1725381,
          108846072,
          126793,
          1945552,
          87754044,
          87754044,
          238534,
          1161063,
          110206216,
          122489822,
          122489822,
          2000000,
          117094902,
          65784503,
          2500000,
          66976317,
          66976317,
          1300000,
          97818139,
          27092880,
          27092880,
          27092880,
          10700000,
          622503,
          1660000,
          1660000,
          65572887,
          10128960,
          5500000,
          6472990,
          182291969,
          182291969,
          182291969,
          40055897,
          82264675,
          82264675,
          6900000,
          6900000,
          2100000,
          2000000,
          2000000,
          4626290,
          12000000,
          24188922,
          1545000,
          623112,
          6419876,
          12484444,
          18297790,
          18916623,
          188072649,
          295493,
          9800000,
          75505856,
          14000000,
          27769,
          56070433,
          44862187,
          429632142,
          429632142,
          7690013,
          1132112,
          8880045,
          2250000,
          165615285,
          165615285,
          10500000,
          10500000,
          1001000,
          1001000,
          99480480,
          99480480,
          5963000,
          5963000,
          122919055,
          122919055,
          4013506,
          21567853,
          53998806,
          53998806,
          53998806,
          53998806,
          4000000,
          163794509,
          9488998,
          14189860,
          14189860,
          21460601,
          21460601,
          24856478,
          18409891,
          151161491,
          151161491,
          10555348,
          10555348,
          40263020,
          9710055,
          14942422,
          14942422,
          28008462,
          8217997,
          1300000,
          141591324,
          35003235,
          35003235,
          16186793,
          1029721,
          15826984,
          212011111,
          1729274,
          69821334,
          63848322,
          63848322,
          134993774,
          134993774,
          3252000,
          3200000,
          3200000,
          386116,
          29000000,
          29000000,
          9760104,
          19000000,
          19000000,
          68792531,
          68792531,
          6500000,
          8328666,
          20642922,
          7435671,
          8946600,
          17793000,
          20000000,
          1425000,
          1425000,
          5519569,
          124745083,
          171963390,
          44090741,
          39491975,
          39491975,
          39491975,
          2500000,
          4795009,
          108423489,
          18663238,
          22540359,
          22540359,
          3510605,
          1258000,
          1258000,
          1258000,
          2750000,
          2750000,
          3800000,
          6971777,
          2438304,
          1083683,
          27641569,
          14000000,
          18635620,
          18635620,
          18245244,
          2168000,
          18196170,
          18196170,
          35143820,
          9789900,
          1562749,
          340487652,
          340487652,
          25000000,
          32168970,
          130293714,
          12638294,
          122035,
          1352000,
          25775,
          1384395,
          10738000,
          10738000,
          104478416,
          1229000,
          1229000,
          204000,
          290701374,
          716000,
          233093859,
          1800000,
          352114312,
          119000410,
          119000410,
          119000410,
          4485485,
          4485485,
          75946615,
          3300000,
          9217530,
          76932872,
          31096918,
          104901839,
          104901839,
          104901839,
          1250000,
          18671317,
          20000000,
          6964734,
          62771059,
          887000,
          887000,
          174999005,
          38000000,
          66000000,
          12355798,
          12355798,
          6500000,
          49627779,
          39946780,
          39946780,
          2600000,
          2450000,
          2450000,
          1750000,
          1750000,
          152266007,
          152266007,
          63954968,
          63954968,
          1800000,
          5145823,
          1500000,
          1750000,
          25000,
          202482728,
          97085477,
          8894289,
          8894289,
          19875740,
          32511047,
          32511047,
          66500000,
          209073645,
          11800000,
          7266209,
          231976425,
          13000000,
          13000000,
          1400000,
          12000000,
          12000000,
          3600000,
          2500000,
          157920733,
          157920733,
          97837138,
          132563930,
          132563930,
          132563930,
          1500000,
          1500000,
          1950000,
          2700000,
          30155037,
          30155037,
          17185632,
          3261638,
          1357000,
          341631208,
          341631208,
          167298192,
          775398007,
          1774000,
          112006296,
          69474661,
          69474661,
          5000000,
          95461682,
          123729176,
          3330352,
          4865997,
          139034,
          358574,
          21707027,
          19537346,
          19537346,
          5107669,
          40903593,
          40903593,
          1800141,
          1800141,
          1800141,
          83088295,
          43312294,
          588621,
          5400000,
          5400000,
          5400000,
          5400000,
          5400000
         ],
         "y0": " ",
         "yaxis": "y"
        },
        {
         "alignmentgroup": "True",
         "hovertemplate": "Movie Type=%{x}<br>Box Office Revenue ($)=%{y}<extra></extra>",
         "legendgroup": "True",
         "marker": {
          "color": "#EF553B"
         },
         "name": "True",
         "notched": false,
         "offsetgroup": "True",
         "orientation": "v",
         "showlegend": true,
         "type": "box",
         "x": [
          true,
          true,
          true,
          true,
          true,
          true,
          true,
          true,
          true,
          true,
          true,
          true,
          true,
          true,
          true,
          true,
          true,
          true,
          true,
          true,
          true,
          true,
          true,
          true,
          true,
          true,
          true,
          true,
          true,
          true,
          true,
          true,
          true,
          true,
          true,
          true,
          true,
          true,
          true,
          true,
          true,
          true,
          true,
          true,
          true,
          true,
          true,
          true,
          true,
          true,
          true,
          true,
          true,
          true,
          true,
          true,
          true,
          true,
          true,
          true,
          true,
          true,
          true,
          true,
          true,
          true,
          true,
          true,
          true,
          true,
          true,
          true,
          true,
          true,
          true,
          true,
          true,
          true,
          true,
          true,
          true,
          true,
          true,
          true,
          true,
          true,
          true,
          true,
          true,
          true,
          true,
          true,
          true,
          true,
          true,
          true,
          true,
          true,
          true,
          true,
          true,
          true,
          true,
          true,
          true,
          true,
          true,
          true,
          true,
          true,
          true,
          true,
          true,
          true,
          true,
          true,
          true,
          true,
          true,
          true,
          true,
          true,
          true,
          true
         ],
         "x0": " ",
         "xaxis": "x",
         "y": [
          35892330,
          48362207,
          60378584,
          2000000,
          354825435,
          86274793,
          1750000,
          120072577,
          108901967,
          133432856,
          124731534,
          156239800,
          8000000,
          146900000,
          206678440,
          24379978,
          102272727,
          54501383,
          3359465,
          1400000,
          52293982,
          43848100,
          4000000,
          356296601,
          25966555,
          61276872,
          61749765,
          400000000,
          31853080,
          9600000,
          2000000,
          114943631,
          20629846,
          1900000,
          17005229,
          268500000,
          20000000,
          20000000,
          42765000,
          51973029,
          16800000,
          677387716,
          8000000,
          30036000,
          40157856,
          272742922,
          272742922,
          10000000,
          4150000,
          47405566,
          289317794,
          23650000,
          58500000,
          23380203,
          2400000,
          14743391,
          1700000,
          52767889,
          34901614,
          72000000,
          44909486,
          7552000,
          106260000,
          40000000,
          5641711,
          22228000,
          329398046,
          3500000,
          2385000,
          457640427,
          32653905,
          32653905,
          18600000,
          314178011,
          314178011,
          950000,
          582000,
          12000000,
          256271286,
          3000000,
          3300000,
          15445131,
          2500000,
          2500000,
          56666667,
          216763646,
          4613000,
          119285432,
          119285432,
          8500000,
          33300000,
          31132592,
          51700000,
          60611975,
          4500000,
          32078318,
          108981275,
          108981275,
          83700000,
          4000000,
          309208309,
          186438883,
          229163264,
          67182787,
          104876233,
          38251425,
          22276975,
          8440000,
          4200000,
          11533945,
          12512637,
          156822020,
          108846072,
          2300000,
          6900000,
          145793296,
          49233161,
          3252000,
          7260000,
          108423489,
          8878000,
          32029928,
          76181545,
          83088295
         ],
         "y0": " ",
         "yaxis": "y"
        }
       ],
       "layout": {
        "boxmode": "overlay",
        "height": 600,
        "legend": {
         "title": {
          "text": "Movie Type"
         },
         "tracegroupgap": 0
        },
        "template": {
         "data": {
          "bar": [
           {
            "error_x": {
             "color": "#2a3f5f"
            },
            "error_y": {
             "color": "#2a3f5f"
            },
            "marker": {
             "line": {
              "color": "#E5ECF6",
              "width": 0.5
             },
             "pattern": {
              "fillmode": "overlay",
              "size": 10,
              "solidity": 0.2
             }
            },
            "type": "bar"
           }
          ],
          "barpolar": [
           {
            "marker": {
             "line": {
              "color": "#E5ECF6",
              "width": 0.5
             },
             "pattern": {
              "fillmode": "overlay",
              "size": 10,
              "solidity": 0.2
             }
            },
            "type": "barpolar"
           }
          ],
          "carpet": [
           {
            "aaxis": {
             "endlinecolor": "#2a3f5f",
             "gridcolor": "white",
             "linecolor": "white",
             "minorgridcolor": "white",
             "startlinecolor": "#2a3f5f"
            },
            "baxis": {
             "endlinecolor": "#2a3f5f",
             "gridcolor": "white",
             "linecolor": "white",
             "minorgridcolor": "white",
             "startlinecolor": "#2a3f5f"
            },
            "type": "carpet"
           }
          ],
          "choropleth": [
           {
            "colorbar": {
             "outlinewidth": 0,
             "ticks": ""
            },
            "type": "choropleth"
           }
          ],
          "contour": [
           {
            "colorbar": {
             "outlinewidth": 0,
             "ticks": ""
            },
            "colorscale": [
             [
              0,
              "#0d0887"
             ],
             [
              0.1111111111111111,
              "#46039f"
             ],
             [
              0.2222222222222222,
              "#7201a8"
             ],
             [
              0.3333333333333333,
              "#9c179e"
             ],
             [
              0.4444444444444444,
              "#bd3786"
             ],
             [
              0.5555555555555556,
              "#d8576b"
             ],
             [
              0.6666666666666666,
              "#ed7953"
             ],
             [
              0.7777777777777778,
              "#fb9f3a"
             ],
             [
              0.8888888888888888,
              "#fdca26"
             ],
             [
              1,
              "#f0f921"
             ]
            ],
            "type": "contour"
           }
          ],
          "contourcarpet": [
           {
            "colorbar": {
             "outlinewidth": 0,
             "ticks": ""
            },
            "type": "contourcarpet"
           }
          ],
          "heatmap": [
           {
            "colorbar": {
             "outlinewidth": 0,
             "ticks": ""
            },
            "colorscale": [
             [
              0,
              "#0d0887"
             ],
             [
              0.1111111111111111,
              "#46039f"
             ],
             [
              0.2222222222222222,
              "#7201a8"
             ],
             [
              0.3333333333333333,
              "#9c179e"
             ],
             [
              0.4444444444444444,
              "#bd3786"
             ],
             [
              0.5555555555555556,
              "#d8576b"
             ],
             [
              0.6666666666666666,
              "#ed7953"
             ],
             [
              0.7777777777777778,
              "#fb9f3a"
             ],
             [
              0.8888888888888888,
              "#fdca26"
             ],
             [
              1,
              "#f0f921"
             ]
            ],
            "type": "heatmap"
           }
          ],
          "heatmapgl": [
           {
            "colorbar": {
             "outlinewidth": 0,
             "ticks": ""
            },
            "colorscale": [
             [
              0,
              "#0d0887"
             ],
             [
              0.1111111111111111,
              "#46039f"
             ],
             [
              0.2222222222222222,
              "#7201a8"
             ],
             [
              0.3333333333333333,
              "#9c179e"
             ],
             [
              0.4444444444444444,
              "#bd3786"
             ],
             [
              0.5555555555555556,
              "#d8576b"
             ],
             [
              0.6666666666666666,
              "#ed7953"
             ],
             [
              0.7777777777777778,
              "#fb9f3a"
             ],
             [
              0.8888888888888888,
              "#fdca26"
             ],
             [
              1,
              "#f0f921"
             ]
            ],
            "type": "heatmapgl"
           }
          ],
          "histogram": [
           {
            "marker": {
             "pattern": {
              "fillmode": "overlay",
              "size": 10,
              "solidity": 0.2
             }
            },
            "type": "histogram"
           }
          ],
          "histogram2d": [
           {
            "colorbar": {
             "outlinewidth": 0,
             "ticks": ""
            },
            "colorscale": [
             [
              0,
              "#0d0887"
             ],
             [
              0.1111111111111111,
              "#46039f"
             ],
             [
              0.2222222222222222,
              "#7201a8"
             ],
             [
              0.3333333333333333,
              "#9c179e"
             ],
             [
              0.4444444444444444,
              "#bd3786"
             ],
             [
              0.5555555555555556,
              "#d8576b"
             ],
             [
              0.6666666666666666,
              "#ed7953"
             ],
             [
              0.7777777777777778,
              "#fb9f3a"
             ],
             [
              0.8888888888888888,
              "#fdca26"
             ],
             [
              1,
              "#f0f921"
             ]
            ],
            "type": "histogram2d"
           }
          ],
          "histogram2dcontour": [
           {
            "colorbar": {
             "outlinewidth": 0,
             "ticks": ""
            },
            "colorscale": [
             [
              0,
              "#0d0887"
             ],
             [
              0.1111111111111111,
              "#46039f"
             ],
             [
              0.2222222222222222,
              "#7201a8"
             ],
             [
              0.3333333333333333,
              "#9c179e"
             ],
             [
              0.4444444444444444,
              "#bd3786"
             ],
             [
              0.5555555555555556,
              "#d8576b"
             ],
             [
              0.6666666666666666,
              "#ed7953"
             ],
             [
              0.7777777777777778,
              "#fb9f3a"
             ],
             [
              0.8888888888888888,
              "#fdca26"
             ],
             [
              1,
              "#f0f921"
             ]
            ],
            "type": "histogram2dcontour"
           }
          ],
          "mesh3d": [
           {
            "colorbar": {
             "outlinewidth": 0,
             "ticks": ""
            },
            "type": "mesh3d"
           }
          ],
          "parcoords": [
           {
            "line": {
             "colorbar": {
              "outlinewidth": 0,
              "ticks": ""
             }
            },
            "type": "parcoords"
           }
          ],
          "pie": [
           {
            "automargin": true,
            "type": "pie"
           }
          ],
          "scatter": [
           {
            "fillpattern": {
             "fillmode": "overlay",
             "size": 10,
             "solidity": 0.2
            },
            "type": "scatter"
           }
          ],
          "scatter3d": [
           {
            "line": {
             "colorbar": {
              "outlinewidth": 0,
              "ticks": ""
             }
            },
            "marker": {
             "colorbar": {
              "outlinewidth": 0,
              "ticks": ""
             }
            },
            "type": "scatter3d"
           }
          ],
          "scattercarpet": [
           {
            "marker": {
             "colorbar": {
              "outlinewidth": 0,
              "ticks": ""
             }
            },
            "type": "scattercarpet"
           }
          ],
          "scattergeo": [
           {
            "marker": {
             "colorbar": {
              "outlinewidth": 0,
              "ticks": ""
             }
            },
            "type": "scattergeo"
           }
          ],
          "scattergl": [
           {
            "marker": {
             "colorbar": {
              "outlinewidth": 0,
              "ticks": ""
             }
            },
            "type": "scattergl"
           }
          ],
          "scattermapbox": [
           {
            "marker": {
             "colorbar": {
              "outlinewidth": 0,
              "ticks": ""
             }
            },
            "type": "scattermapbox"
           }
          ],
          "scatterpolar": [
           {
            "marker": {
             "colorbar": {
              "outlinewidth": 0,
              "ticks": ""
             }
            },
            "type": "scatterpolar"
           }
          ],
          "scatterpolargl": [
           {
            "marker": {
             "colorbar": {
              "outlinewidth": 0,
              "ticks": ""
             }
            },
            "type": "scatterpolargl"
           }
          ],
          "scatterternary": [
           {
            "marker": {
             "colorbar": {
              "outlinewidth": 0,
              "ticks": ""
             }
            },
            "type": "scatterternary"
           }
          ],
          "surface": [
           {
            "colorbar": {
             "outlinewidth": 0,
             "ticks": ""
            },
            "colorscale": [
             [
              0,
              "#0d0887"
             ],
             [
              0.1111111111111111,
              "#46039f"
             ],
             [
              0.2222222222222222,
              "#7201a8"
             ],
             [
              0.3333333333333333,
              "#9c179e"
             ],
             [
              0.4444444444444444,
              "#bd3786"
             ],
             [
              0.5555555555555556,
              "#d8576b"
             ],
             [
              0.6666666666666666,
              "#ed7953"
             ],
             [
              0.7777777777777778,
              "#fb9f3a"
             ],
             [
              0.8888888888888888,
              "#fdca26"
             ],
             [
              1,
              "#f0f921"
             ]
            ],
            "type": "surface"
           }
          ],
          "table": [
           {
            "cells": {
             "fill": {
              "color": "#EBF0F8"
             },
             "line": {
              "color": "white"
             }
            },
            "header": {
             "fill": {
              "color": "#C8D4E3"
             },
             "line": {
              "color": "white"
             }
            },
            "type": "table"
           }
          ]
         },
         "layout": {
          "annotationdefaults": {
           "arrowcolor": "#2a3f5f",
           "arrowhead": 0,
           "arrowwidth": 1
          },
          "autotypenumbers": "strict",
          "coloraxis": {
           "colorbar": {
            "outlinewidth": 0,
            "ticks": ""
           }
          },
          "colorscale": {
           "diverging": [
            [
             0,
             "#8e0152"
            ],
            [
             0.1,
             "#c51b7d"
            ],
            [
             0.2,
             "#de77ae"
            ],
            [
             0.3,
             "#f1b6da"
            ],
            [
             0.4,
             "#fde0ef"
            ],
            [
             0.5,
             "#f7f7f7"
            ],
            [
             0.6,
             "#e6f5d0"
            ],
            [
             0.7,
             "#b8e186"
            ],
            [
             0.8,
             "#7fbc41"
            ],
            [
             0.9,
             "#4d9221"
            ],
            [
             1,
             "#276419"
            ]
           ],
           "sequential": [
            [
             0,
             "#0d0887"
            ],
            [
             0.1111111111111111,
             "#46039f"
            ],
            [
             0.2222222222222222,
             "#7201a8"
            ],
            [
             0.3333333333333333,
             "#9c179e"
            ],
            [
             0.4444444444444444,
             "#bd3786"
            ],
            [
             0.5555555555555556,
             "#d8576b"
            ],
            [
             0.6666666666666666,
             "#ed7953"
            ],
            [
             0.7777777777777778,
             "#fb9f3a"
            ],
            [
             0.8888888888888888,
             "#fdca26"
            ],
            [
             1,
             "#f0f921"
            ]
           ],
           "sequentialminus": [
            [
             0,
             "#0d0887"
            ],
            [
             0.1111111111111111,
             "#46039f"
            ],
            [
             0.2222222222222222,
             "#7201a8"
            ],
            [
             0.3333333333333333,
             "#9c179e"
            ],
            [
             0.4444444444444444,
             "#bd3786"
            ],
            [
             0.5555555555555556,
             "#d8576b"
            ],
            [
             0.6666666666666666,
             "#ed7953"
            ],
            [
             0.7777777777777778,
             "#fb9f3a"
            ],
            [
             0.8888888888888888,
             "#fdca26"
            ],
            [
             1,
             "#f0f921"
            ]
           ]
          },
          "colorway": [
           "#636efa",
           "#EF553B",
           "#00cc96",
           "#ab63fa",
           "#FFA15A",
           "#19d3f3",
           "#FF6692",
           "#B6E880",
           "#FF97FF",
           "#FECB52"
          ],
          "font": {
           "color": "#2a3f5f"
          },
          "geo": {
           "bgcolor": "white",
           "lakecolor": "white",
           "landcolor": "#E5ECF6",
           "showlakes": true,
           "showland": true,
           "subunitcolor": "white"
          },
          "hoverlabel": {
           "align": "left"
          },
          "hovermode": "closest",
          "mapbox": {
           "style": "light"
          },
          "paper_bgcolor": "white",
          "plot_bgcolor": "#E5ECF6",
          "polar": {
           "angularaxis": {
            "gridcolor": "white",
            "linecolor": "white",
            "ticks": ""
           },
           "bgcolor": "#E5ECF6",
           "radialaxis": {
            "gridcolor": "white",
            "linecolor": "white",
            "ticks": ""
           }
          },
          "scene": {
           "xaxis": {
            "backgroundcolor": "#E5ECF6",
            "gridcolor": "white",
            "gridwidth": 2,
            "linecolor": "white",
            "showbackground": true,
            "ticks": "",
            "zerolinecolor": "white"
           },
           "yaxis": {
            "backgroundcolor": "#E5ECF6",
            "gridcolor": "white",
            "gridwidth": 2,
            "linecolor": "white",
            "showbackground": true,
            "ticks": "",
            "zerolinecolor": "white"
           },
           "zaxis": {
            "backgroundcolor": "#E5ECF6",
            "gridcolor": "white",
            "gridwidth": 2,
            "linecolor": "white",
            "showbackground": true,
            "ticks": "",
            "zerolinecolor": "white"
           }
          },
          "shapedefaults": {
           "line": {
            "color": "#2a3f5f"
           }
          },
          "ternary": {
           "aaxis": {
            "gridcolor": "white",
            "linecolor": "white",
            "ticks": ""
           },
           "baxis": {
            "gridcolor": "white",
            "linecolor": "white",
            "ticks": ""
           },
           "bgcolor": "#E5ECF6",
           "caxis": {
            "gridcolor": "white",
            "linecolor": "white",
            "ticks": ""
           }
          },
          "title": {
           "x": 0.05
          },
          "xaxis": {
           "automargin": true,
           "gridcolor": "white",
           "linecolor": "white",
           "ticks": "",
           "title": {
            "standoff": 15
           },
           "zerolinecolor": "white",
           "zerolinewidth": 2
          },
          "yaxis": {
           "automargin": true,
           "gridcolor": "white",
           "linecolor": "white",
           "ticks": "",
           "title": {
            "standoff": 15
           },
           "zerolinecolor": "white",
           "zerolinewidth": 2
          }
         }
        },
        "title": {
         "text": "Box Office Revenue Distribution (Oscar-Winning vs Non-Oscar-Winning)"
        },
        "width": 800,
        "xaxis": {
         "anchor": "y",
         "categoryarray": [
          false,
          true
         ],
         "categoryorder": "array",
         "domain": [
          0,
          1
         ],
         "title": {
          "text": "Best Actress Reward"
         }
        },
        "yaxis": {
         "anchor": "x",
         "domain": [
          0,
          1
         ],
         "tickformat": "$,.0f",
         "title": {
          "text": "Box Office Revenue ($)"
         }
        }
       }
      }
     },
     "metadata": {},
     "output_type": "display_data"
    }
   ],
   "source": [
    "# Prepare data for box office revenue comparison\n",
    "print(oscar_movies_all.columns)\n",
    "box_office_data = oscar_act_movies_all[['Movie box office revenue', 'Best Actress Reward']].dropna()\n",
    "\n",
    "# Create a box plot to show the distribution of box office revenue\n",
    "fig = px.box(\n",
    "    box_office_data,\n",
    "    x='Best Actress Reward',\n",
    "    y='Movie box office revenue',\n",
    "    title='Box Office Revenue Distribution (Oscar-Winning vs Non-Oscar-Winning)',\n",
    "    labels={'Best Actress Reward': 'Movie Type', 'Movie box office revenue': 'Box Office Revenue ($)'},\n",
    "    color='Best Actress Reward'\n",
    ")\n",
    "\n",
    "# Update layout for better readability⁄\n",
    "fig.update_layout(\n",
    "    xaxis=dict(title='Best Actress Reward'),\n",
    "    yaxis=dict(title='Box Office Revenue ($)', tickformat='$,.0f'),\n",
    "    width=800,  # Adjust figure width\n",
    "    height=600  # Adjust figure height\n",
    ")\n",
    "\n",
    "# Uncomment this to visualize\n",
    "fig.show()"
   ]
  },
  {
   "cell_type": "code",
   "execution_count": 26,
   "metadata": {},
   "outputs": [
    {
     "data": {
      "application/vnd.plotly.v1+json": {
       "config": {
        "plotlyServerURL": "https://plot.ly"
       },
       "data": [
        {
         "hovertemplate": "Age at Movie Release=%{x}<br>Box Office Revenue ($)=%{marker.size}<extra></extra>",
         "legendgroup": "",
         "marker": {
          "color": "purple",
          "size": [
           2500000,
           3252000,
           3000000,
           4000000,
           8000000,
           1900000,
           3300000,
           9600000,
           268500000,
           2000000,
           8500000,
           33300000,
           146900000,
           10000000,
           20629846,
           72000000,
           20000000,
           20000000,
           24379978,
           7260000,
           31132592,
           61749765,
           51700000,
           108981275,
           314178011,
           83700000,
           32653905,
           106260000,
           354825435,
           23380203,
           119285432,
           52767889,
           8440000,
           51973029,
           17005229,
           52293982,
           43848100,
           14743391,
           76181545,
           15445131,
           272742922,
           206678440,
           677387716,
           32029928,
           35892330,
           229163264,
           356296601,
           457640427,
           104876233,
           120072577,
           156822020,
           54501383,
           124731534,
           49233161,
           48362207,
           47405566,
           133432856,
           1750000,
           1700000,
           582000,
           56666667,
           22276975,
           119285432,
           2500000,
           400000000,
           8000000,
           2385000,
           4500000,
           8878000,
           4613000,
           2300000,
           4150000,
           12000000,
           6900000,
           4200000,
           1400000,
           5641711,
           7552000,
           40000000,
           102272727,
           58500000,
           16800000,
           12512637,
           32653905,
           42765000,
           18600000,
           108981275,
           38251425,
           22228000,
           34901614,
           67182787,
           30036000,
           114943631,
           108423489,
           31853080,
           156239800,
           32078318,
           272742922,
           145793296,
           61276872,
           25966555,
           40157856,
           3359465,
           83088295,
           60611975,
           314178011,
           289317794,
           11533945,
           216763646,
           256271286,
           44909486,
           108846072,
           60378584,
           186438883,
           86274793,
           108901967,
           309208309,
           329398046
          ],
          "sizemode": "area",
          "sizeref": 1693469.29,
          "symbol": "circle"
         },
         "mode": "markers",
         "name": "",
         "orientation": "v",
         "showlegend": false,
         "type": "scatter",
         "x": [
          33,
          33,
          32,
          39,
          51,
          37,
          34,
          30,
          47,
          38,
          35,
          43,
          36,
          31,
          46,
          56,
          41,
          41,
          42,
          45,
          62,
          42,
          41,
          38,
          60,
          30,
          39,
          41,
          51,
          37,
          76,
          38,
          52,
          44,
          35,
          61,
          43,
          32,
          50,
          41,
          53,
          36,
          37,
          31,
          44,
          45,
          40,
          36,
          46,
          29,
          42,
          48,
          36,
          38,
          45,
          60,
          38,
          20,
          21,
          26,
          60,
          61,
          74,
          30,
          26,
          38,
          29,
          24,
          37,
          28,
          33,
          29,
          24,
          25,
          47,
          27,
          41,
          28,
          34,
          28,
          26,
          37,
          33,
          40,
          25,
          42,
          41,
          31,
          32,
          37,
          30,
          33,
          62,
          49,
          21,
          40,
          25,
          28,
          80,
          42,
          32,
          35,
          45,
          49,
          38,
          34,
          26,
          25,
          30,
          32,
          35,
          35,
          28,
          29,
          31,
          33,
          45,
          29
         ],
         "xaxis": "x",
         "y": [
          2500000,
          3252000,
          3000000,
          4000000,
          8000000,
          1900000,
          3300000,
          9600000,
          268500000,
          2000000,
          8500000,
          33300000,
          146900000,
          10000000,
          20629846,
          72000000,
          20000000,
          20000000,
          24379978,
          7260000,
          31132592,
          61749765,
          51700000,
          108981275,
          314178011,
          83700000,
          32653905,
          106260000,
          354825435,
          23380203,
          119285432,
          52767889,
          8440000,
          51973029,
          17005229,
          52293982,
          43848100,
          14743391,
          76181545,
          15445131,
          272742922,
          206678440,
          677387716,
          32029928,
          35892330,
          229163264,
          356296601,
          457640427,
          104876233,
          120072577,
          156822020,
          54501383,
          124731534,
          49233161,
          48362207,
          47405566,
          133432856,
          1750000,
          1700000,
          582000,
          56666667,
          22276975,
          119285432,
          2500000,
          400000000,
          8000000,
          2385000,
          4500000,
          8878000,
          4613000,
          2300000,
          4150000,
          12000000,
          6900000,
          4200000,
          1400000,
          5641711,
          7552000,
          40000000,
          102272727,
          58500000,
          16800000,
          12512637,
          32653905,
          42765000,
          18600000,
          108981275,
          38251425,
          22228000,
          34901614,
          67182787,
          30036000,
          114943631,
          108423489,
          31853080,
          156239800,
          32078318,
          272742922,
          145793296,
          61276872,
          25966555,
          40157856,
          3359465,
          83088295,
          60611975,
          314178011,
          289317794,
          11533945,
          216763646,
          256271286,
          44909486,
          108846072,
          60378584,
          186438883,
          86274793,
          108901967,
          309208309,
          329398046
         ],
         "yaxis": "y"
        }
       ],
       "layout": {
        "height": 600,
        "legend": {
         "itemsizing": "constant",
         "tracegroupgap": 0
        },
        "template": {
         "data": {
          "bar": [
           {
            "error_x": {
             "color": "#2a3f5f"
            },
            "error_y": {
             "color": "#2a3f5f"
            },
            "marker": {
             "line": {
              "color": "#E5ECF6",
              "width": 0.5
             },
             "pattern": {
              "fillmode": "overlay",
              "size": 10,
              "solidity": 0.2
             }
            },
            "type": "bar"
           }
          ],
          "barpolar": [
           {
            "marker": {
             "line": {
              "color": "#E5ECF6",
              "width": 0.5
             },
             "pattern": {
              "fillmode": "overlay",
              "size": 10,
              "solidity": 0.2
             }
            },
            "type": "barpolar"
           }
          ],
          "carpet": [
           {
            "aaxis": {
             "endlinecolor": "#2a3f5f",
             "gridcolor": "white",
             "linecolor": "white",
             "minorgridcolor": "white",
             "startlinecolor": "#2a3f5f"
            },
            "baxis": {
             "endlinecolor": "#2a3f5f",
             "gridcolor": "white",
             "linecolor": "white",
             "minorgridcolor": "white",
             "startlinecolor": "#2a3f5f"
            },
            "type": "carpet"
           }
          ],
          "choropleth": [
           {
            "colorbar": {
             "outlinewidth": 0,
             "ticks": ""
            },
            "type": "choropleth"
           }
          ],
          "contour": [
           {
            "colorbar": {
             "outlinewidth": 0,
             "ticks": ""
            },
            "colorscale": [
             [
              0,
              "#0d0887"
             ],
             [
              0.1111111111111111,
              "#46039f"
             ],
             [
              0.2222222222222222,
              "#7201a8"
             ],
             [
              0.3333333333333333,
              "#9c179e"
             ],
             [
              0.4444444444444444,
              "#bd3786"
             ],
             [
              0.5555555555555556,
              "#d8576b"
             ],
             [
              0.6666666666666666,
              "#ed7953"
             ],
             [
              0.7777777777777778,
              "#fb9f3a"
             ],
             [
              0.8888888888888888,
              "#fdca26"
             ],
             [
              1,
              "#f0f921"
             ]
            ],
            "type": "contour"
           }
          ],
          "contourcarpet": [
           {
            "colorbar": {
             "outlinewidth": 0,
             "ticks": ""
            },
            "type": "contourcarpet"
           }
          ],
          "heatmap": [
           {
            "colorbar": {
             "outlinewidth": 0,
             "ticks": ""
            },
            "colorscale": [
             [
              0,
              "#0d0887"
             ],
             [
              0.1111111111111111,
              "#46039f"
             ],
             [
              0.2222222222222222,
              "#7201a8"
             ],
             [
              0.3333333333333333,
              "#9c179e"
             ],
             [
              0.4444444444444444,
              "#bd3786"
             ],
             [
              0.5555555555555556,
              "#d8576b"
             ],
             [
              0.6666666666666666,
              "#ed7953"
             ],
             [
              0.7777777777777778,
              "#fb9f3a"
             ],
             [
              0.8888888888888888,
              "#fdca26"
             ],
             [
              1,
              "#f0f921"
             ]
            ],
            "type": "heatmap"
           }
          ],
          "heatmapgl": [
           {
            "colorbar": {
             "outlinewidth": 0,
             "ticks": ""
            },
            "colorscale": [
             [
              0,
              "#0d0887"
             ],
             [
              0.1111111111111111,
              "#46039f"
             ],
             [
              0.2222222222222222,
              "#7201a8"
             ],
             [
              0.3333333333333333,
              "#9c179e"
             ],
             [
              0.4444444444444444,
              "#bd3786"
             ],
             [
              0.5555555555555556,
              "#d8576b"
             ],
             [
              0.6666666666666666,
              "#ed7953"
             ],
             [
              0.7777777777777778,
              "#fb9f3a"
             ],
             [
              0.8888888888888888,
              "#fdca26"
             ],
             [
              1,
              "#f0f921"
             ]
            ],
            "type": "heatmapgl"
           }
          ],
          "histogram": [
           {
            "marker": {
             "pattern": {
              "fillmode": "overlay",
              "size": 10,
              "solidity": 0.2
             }
            },
            "type": "histogram"
           }
          ],
          "histogram2d": [
           {
            "colorbar": {
             "outlinewidth": 0,
             "ticks": ""
            },
            "colorscale": [
             [
              0,
              "#0d0887"
             ],
             [
              0.1111111111111111,
              "#46039f"
             ],
             [
              0.2222222222222222,
              "#7201a8"
             ],
             [
              0.3333333333333333,
              "#9c179e"
             ],
             [
              0.4444444444444444,
              "#bd3786"
             ],
             [
              0.5555555555555556,
              "#d8576b"
             ],
             [
              0.6666666666666666,
              "#ed7953"
             ],
             [
              0.7777777777777778,
              "#fb9f3a"
             ],
             [
              0.8888888888888888,
              "#fdca26"
             ],
             [
              1,
              "#f0f921"
             ]
            ],
            "type": "histogram2d"
           }
          ],
          "histogram2dcontour": [
           {
            "colorbar": {
             "outlinewidth": 0,
             "ticks": ""
            },
            "colorscale": [
             [
              0,
              "#0d0887"
             ],
             [
              0.1111111111111111,
              "#46039f"
             ],
             [
              0.2222222222222222,
              "#7201a8"
             ],
             [
              0.3333333333333333,
              "#9c179e"
             ],
             [
              0.4444444444444444,
              "#bd3786"
             ],
             [
              0.5555555555555556,
              "#d8576b"
             ],
             [
              0.6666666666666666,
              "#ed7953"
             ],
             [
              0.7777777777777778,
              "#fb9f3a"
             ],
             [
              0.8888888888888888,
              "#fdca26"
             ],
             [
              1,
              "#f0f921"
             ]
            ],
            "type": "histogram2dcontour"
           }
          ],
          "mesh3d": [
           {
            "colorbar": {
             "outlinewidth": 0,
             "ticks": ""
            },
            "type": "mesh3d"
           }
          ],
          "parcoords": [
           {
            "line": {
             "colorbar": {
              "outlinewidth": 0,
              "ticks": ""
             }
            },
            "type": "parcoords"
           }
          ],
          "pie": [
           {
            "automargin": true,
            "type": "pie"
           }
          ],
          "scatter": [
           {
            "fillpattern": {
             "fillmode": "overlay",
             "size": 10,
             "solidity": 0.2
            },
            "type": "scatter"
           }
          ],
          "scatter3d": [
           {
            "line": {
             "colorbar": {
              "outlinewidth": 0,
              "ticks": ""
             }
            },
            "marker": {
             "colorbar": {
              "outlinewidth": 0,
              "ticks": ""
             }
            },
            "type": "scatter3d"
           }
          ],
          "scattercarpet": [
           {
            "marker": {
             "colorbar": {
              "outlinewidth": 0,
              "ticks": ""
             }
            },
            "type": "scattercarpet"
           }
          ],
          "scattergeo": [
           {
            "marker": {
             "colorbar": {
              "outlinewidth": 0,
              "ticks": ""
             }
            },
            "type": "scattergeo"
           }
          ],
          "scattergl": [
           {
            "marker": {
             "colorbar": {
              "outlinewidth": 0,
              "ticks": ""
             }
            },
            "type": "scattergl"
           }
          ],
          "scattermapbox": [
           {
            "marker": {
             "colorbar": {
              "outlinewidth": 0,
              "ticks": ""
             }
            },
            "type": "scattermapbox"
           }
          ],
          "scatterpolar": [
           {
            "marker": {
             "colorbar": {
              "outlinewidth": 0,
              "ticks": ""
             }
            },
            "type": "scatterpolar"
           }
          ],
          "scatterpolargl": [
           {
            "marker": {
             "colorbar": {
              "outlinewidth": 0,
              "ticks": ""
             }
            },
            "type": "scatterpolargl"
           }
          ],
          "scatterternary": [
           {
            "marker": {
             "colorbar": {
              "outlinewidth": 0,
              "ticks": ""
             }
            },
            "type": "scatterternary"
           }
          ],
          "surface": [
           {
            "colorbar": {
             "outlinewidth": 0,
             "ticks": ""
            },
            "colorscale": [
             [
              0,
              "#0d0887"
             ],
             [
              0.1111111111111111,
              "#46039f"
             ],
             [
              0.2222222222222222,
              "#7201a8"
             ],
             [
              0.3333333333333333,
              "#9c179e"
             ],
             [
              0.4444444444444444,
              "#bd3786"
             ],
             [
              0.5555555555555556,
              "#d8576b"
             ],
             [
              0.6666666666666666,
              "#ed7953"
             ],
             [
              0.7777777777777778,
              "#fb9f3a"
             ],
             [
              0.8888888888888888,
              "#fdca26"
             ],
             [
              1,
              "#f0f921"
             ]
            ],
            "type": "surface"
           }
          ],
          "table": [
           {
            "cells": {
             "fill": {
              "color": "#EBF0F8"
             },
             "line": {
              "color": "white"
             }
            },
            "header": {
             "fill": {
              "color": "#C8D4E3"
             },
             "line": {
              "color": "white"
             }
            },
            "type": "table"
           }
          ]
         },
         "layout": {
          "annotationdefaults": {
           "arrowcolor": "#2a3f5f",
           "arrowhead": 0,
           "arrowwidth": 1
          },
          "autotypenumbers": "strict",
          "coloraxis": {
           "colorbar": {
            "outlinewidth": 0,
            "ticks": ""
           }
          },
          "colorscale": {
           "diverging": [
            [
             0,
             "#8e0152"
            ],
            [
             0.1,
             "#c51b7d"
            ],
            [
             0.2,
             "#de77ae"
            ],
            [
             0.3,
             "#f1b6da"
            ],
            [
             0.4,
             "#fde0ef"
            ],
            [
             0.5,
             "#f7f7f7"
            ],
            [
             0.6,
             "#e6f5d0"
            ],
            [
             0.7,
             "#b8e186"
            ],
            [
             0.8,
             "#7fbc41"
            ],
            [
             0.9,
             "#4d9221"
            ],
            [
             1,
             "#276419"
            ]
           ],
           "sequential": [
            [
             0,
             "#0d0887"
            ],
            [
             0.1111111111111111,
             "#46039f"
            ],
            [
             0.2222222222222222,
             "#7201a8"
            ],
            [
             0.3333333333333333,
             "#9c179e"
            ],
            [
             0.4444444444444444,
             "#bd3786"
            ],
            [
             0.5555555555555556,
             "#d8576b"
            ],
            [
             0.6666666666666666,
             "#ed7953"
            ],
            [
             0.7777777777777778,
             "#fb9f3a"
            ],
            [
             0.8888888888888888,
             "#fdca26"
            ],
            [
             1,
             "#f0f921"
            ]
           ],
           "sequentialminus": [
            [
             0,
             "#0d0887"
            ],
            [
             0.1111111111111111,
             "#46039f"
            ],
            [
             0.2222222222222222,
             "#7201a8"
            ],
            [
             0.3333333333333333,
             "#9c179e"
            ],
            [
             0.4444444444444444,
             "#bd3786"
            ],
            [
             0.5555555555555556,
             "#d8576b"
            ],
            [
             0.6666666666666666,
             "#ed7953"
            ],
            [
             0.7777777777777778,
             "#fb9f3a"
            ],
            [
             0.8888888888888888,
             "#fdca26"
            ],
            [
             1,
             "#f0f921"
            ]
           ]
          },
          "colorway": [
           "#636efa",
           "#EF553B",
           "#00cc96",
           "#ab63fa",
           "#FFA15A",
           "#19d3f3",
           "#FF6692",
           "#B6E880",
           "#FF97FF",
           "#FECB52"
          ],
          "font": {
           "color": "#2a3f5f"
          },
          "geo": {
           "bgcolor": "white",
           "lakecolor": "white",
           "landcolor": "#E5ECF6",
           "showlakes": true,
           "showland": true,
           "subunitcolor": "white"
          },
          "hoverlabel": {
           "align": "left"
          },
          "hovermode": "closest",
          "mapbox": {
           "style": "light"
          },
          "paper_bgcolor": "white",
          "plot_bgcolor": "#E5ECF6",
          "polar": {
           "angularaxis": {
            "gridcolor": "white",
            "linecolor": "white",
            "ticks": ""
           },
           "bgcolor": "#E5ECF6",
           "radialaxis": {
            "gridcolor": "white",
            "linecolor": "white",
            "ticks": ""
           }
          },
          "scene": {
           "xaxis": {
            "backgroundcolor": "#E5ECF6",
            "gridcolor": "white",
            "gridwidth": 2,
            "linecolor": "white",
            "showbackground": true,
            "ticks": "",
            "zerolinecolor": "white"
           },
           "yaxis": {
            "backgroundcolor": "#E5ECF6",
            "gridcolor": "white",
            "gridwidth": 2,
            "linecolor": "white",
            "showbackground": true,
            "ticks": "",
            "zerolinecolor": "white"
           },
           "zaxis": {
            "backgroundcolor": "#E5ECF6",
            "gridcolor": "white",
            "gridwidth": 2,
            "linecolor": "white",
            "showbackground": true,
            "ticks": "",
            "zerolinecolor": "white"
           }
          },
          "shapedefaults": {
           "line": {
            "color": "#2a3f5f"
           }
          },
          "ternary": {
           "aaxis": {
            "gridcolor": "white",
            "linecolor": "white",
            "ticks": ""
           },
           "baxis": {
            "gridcolor": "white",
            "linecolor": "white",
            "ticks": ""
           },
           "bgcolor": "#E5ECF6",
           "caxis": {
            "gridcolor": "white",
            "linecolor": "white",
            "ticks": ""
           }
          },
          "title": {
           "x": 0.05
          },
          "xaxis": {
           "automargin": true,
           "gridcolor": "white",
           "linecolor": "white",
           "ticks": "",
           "title": {
            "standoff": 15
           },
           "zerolinecolor": "white",
           "zerolinewidth": 2
          },
          "yaxis": {
           "automargin": true,
           "gridcolor": "white",
           "linecolor": "white",
           "ticks": "",
           "title": {
            "standoff": 15
           },
           "zerolinecolor": "white",
           "zerolinewidth": 2
          }
         }
        },
        "title": {
         "text": "Actors Age vs. Movie Box Office Revenue (Oscar-Winning Movies)"
        },
        "width": 800,
        "xaxis": {
         "anchor": "y",
         "domain": [
          0,
          1
         ],
         "title": {
          "text": "Age at Movie Release"
         }
        },
        "yaxis": {
         "anchor": "x",
         "domain": [
          0,
          1
         ],
         "tickformat": "$,.0f",
         "title": {
          "text": "Box Office Revenue ($)"
         }
        }
       }
      }
     },
     "metadata": {},
     "output_type": "display_data"
    }
   ],
   "source": [
    "scatter_data = oscar_act_info[['Actor age at movie release', 'Movie box office revenue']].dropna()\n",
    "\n",
    "\n",
    "fig = px.scatter(\n",
    "    scatter_data,\n",
    "    x='Actor age at movie release',\n",
    "    y='Movie box office revenue',\n",
    "    title='Actors Age vs. Movie Box Office Revenue (Oscar-Winning Movies)',\n",
    "    labels={\n",
    "        'Actor age at movie release': 'Age at Movie Release',\n",
    "        'Movie box office revenue': 'Box Office Revenue ($)'\n",
    "    },\n",
    "    size='Movie box office revenue',\n",
    "    hover_data=['Actor age at movie release'],\n",
    "    color_discrete_sequence=['purple']\n",
    ")\n",
    "\n",
    "\n",
    "fig.update_layout(\n",
    "    xaxis=dict(title='Age at Movie Release'),\n",
    "    yaxis=dict(title='Box Office Revenue ($)', tickformat='$,.0f'),\n",
    "    width=800,  \n",
    "    height=600  \n",
    ")\n",
    "\n",
    "fig.show()"
   ]
  },
  {
   "cell_type": "code",
   "execution_count": 27,
   "metadata": {},
   "outputs": [
    {
     "name": "stdout",
     "output_type": "stream",
     "text": [
      "                   Genre  Count\n",
      "0                  Drama   4394\n",
      "1                 Comedy   1935\n",
      "2           Romance Film   1722\n",
      "3        Black-and-white   1392\n",
      "4               Thriller   1185\n",
      "..                   ...    ...\n",
      "269       Singing cowboy      1\n",
      "270        Media Studies      1\n",
      "271          Law & Crime      1\n",
      "272  Finance & Investing      1\n",
      "273        Space western      1\n",
      "\n",
      "[274 rows x 2 columns]\n"
     ]
    },
    {
     "data": {
      "application/vnd.plotly.v1+json": {
       "config": {
        "plotlyServerURL": "https://plot.ly"
       },
       "data": [
        {
         "customdata": [
          [
           "Drama"
          ],
          [
           "Comedy"
          ],
          [
           "Romance Film"
          ],
          [
           "Black-and-white"
          ],
          [
           "Thriller"
          ],
          [
           "Action"
          ],
          [
           "Crime Fiction"
          ],
          [
           "Action/Adventure"
          ],
          [
           "Adventure"
          ],
          [
           "Romantic drama"
          ]
         ],
         "domain": {
          "x": [
           0,
           1
          ],
          "y": [
           0,
           1
          ]
         },
         "hovertemplate": "Movie Genre=%{customdata[0]}<br>Number of Movies=%{value}<extra></extra>",
         "labels": [
          "Drama",
          "Comedy",
          "Romance Film",
          "Black-and-white",
          "Thriller",
          "Action",
          "Crime Fiction",
          "Action/Adventure",
          "Adventure",
          "Romantic drama"
         ],
         "legendgroup": "",
         "marker": {
          "colors": [
           "#636efa",
           "#EF553B",
           "#00cc96",
           "#ab63fa",
           "#FFA15A",
           "#19d3f3",
           "#FF6692",
           "#B6E880",
           "#FF97FF",
           "#FECB52"
          ]
         },
         "name": "",
         "showlegend": true,
         "type": "pie",
         "values": [
          4394,
          1935,
          1722,
          1392,
          1185,
          997,
          943,
          876,
          725,
          695
         ]
        }
       ],
       "layout": {
        "height": 600,
        "legend": {
         "tracegroupgap": 0
        },
        "template": {
         "data": {
          "bar": [
           {
            "error_x": {
             "color": "#2a3f5f"
            },
            "error_y": {
             "color": "#2a3f5f"
            },
            "marker": {
             "line": {
              "color": "#E5ECF6",
              "width": 0.5
             },
             "pattern": {
              "fillmode": "overlay",
              "size": 10,
              "solidity": 0.2
             }
            },
            "type": "bar"
           }
          ],
          "barpolar": [
           {
            "marker": {
             "line": {
              "color": "#E5ECF6",
              "width": 0.5
             },
             "pattern": {
              "fillmode": "overlay",
              "size": 10,
              "solidity": 0.2
             }
            },
            "type": "barpolar"
           }
          ],
          "carpet": [
           {
            "aaxis": {
             "endlinecolor": "#2a3f5f",
             "gridcolor": "white",
             "linecolor": "white",
             "minorgridcolor": "white",
             "startlinecolor": "#2a3f5f"
            },
            "baxis": {
             "endlinecolor": "#2a3f5f",
             "gridcolor": "white",
             "linecolor": "white",
             "minorgridcolor": "white",
             "startlinecolor": "#2a3f5f"
            },
            "type": "carpet"
           }
          ],
          "choropleth": [
           {
            "colorbar": {
             "outlinewidth": 0,
             "ticks": ""
            },
            "type": "choropleth"
           }
          ],
          "contour": [
           {
            "colorbar": {
             "outlinewidth": 0,
             "ticks": ""
            },
            "colorscale": [
             [
              0,
              "#0d0887"
             ],
             [
              0.1111111111111111,
              "#46039f"
             ],
             [
              0.2222222222222222,
              "#7201a8"
             ],
             [
              0.3333333333333333,
              "#9c179e"
             ],
             [
              0.4444444444444444,
              "#bd3786"
             ],
             [
              0.5555555555555556,
              "#d8576b"
             ],
             [
              0.6666666666666666,
              "#ed7953"
             ],
             [
              0.7777777777777778,
              "#fb9f3a"
             ],
             [
              0.8888888888888888,
              "#fdca26"
             ],
             [
              1,
              "#f0f921"
             ]
            ],
            "type": "contour"
           }
          ],
          "contourcarpet": [
           {
            "colorbar": {
             "outlinewidth": 0,
             "ticks": ""
            },
            "type": "contourcarpet"
           }
          ],
          "heatmap": [
           {
            "colorbar": {
             "outlinewidth": 0,
             "ticks": ""
            },
            "colorscale": [
             [
              0,
              "#0d0887"
             ],
             [
              0.1111111111111111,
              "#46039f"
             ],
             [
              0.2222222222222222,
              "#7201a8"
             ],
             [
              0.3333333333333333,
              "#9c179e"
             ],
             [
              0.4444444444444444,
              "#bd3786"
             ],
             [
              0.5555555555555556,
              "#d8576b"
             ],
             [
              0.6666666666666666,
              "#ed7953"
             ],
             [
              0.7777777777777778,
              "#fb9f3a"
             ],
             [
              0.8888888888888888,
              "#fdca26"
             ],
             [
              1,
              "#f0f921"
             ]
            ],
            "type": "heatmap"
           }
          ],
          "heatmapgl": [
           {
            "colorbar": {
             "outlinewidth": 0,
             "ticks": ""
            },
            "colorscale": [
             [
              0,
              "#0d0887"
             ],
             [
              0.1111111111111111,
              "#46039f"
             ],
             [
              0.2222222222222222,
              "#7201a8"
             ],
             [
              0.3333333333333333,
              "#9c179e"
             ],
             [
              0.4444444444444444,
              "#bd3786"
             ],
             [
              0.5555555555555556,
              "#d8576b"
             ],
             [
              0.6666666666666666,
              "#ed7953"
             ],
             [
              0.7777777777777778,
              "#fb9f3a"
             ],
             [
              0.8888888888888888,
              "#fdca26"
             ],
             [
              1,
              "#f0f921"
             ]
            ],
            "type": "heatmapgl"
           }
          ],
          "histogram": [
           {
            "marker": {
             "pattern": {
              "fillmode": "overlay",
              "size": 10,
              "solidity": 0.2
             }
            },
            "type": "histogram"
           }
          ],
          "histogram2d": [
           {
            "colorbar": {
             "outlinewidth": 0,
             "ticks": ""
            },
            "colorscale": [
             [
              0,
              "#0d0887"
             ],
             [
              0.1111111111111111,
              "#46039f"
             ],
             [
              0.2222222222222222,
              "#7201a8"
             ],
             [
              0.3333333333333333,
              "#9c179e"
             ],
             [
              0.4444444444444444,
              "#bd3786"
             ],
             [
              0.5555555555555556,
              "#d8576b"
             ],
             [
              0.6666666666666666,
              "#ed7953"
             ],
             [
              0.7777777777777778,
              "#fb9f3a"
             ],
             [
              0.8888888888888888,
              "#fdca26"
             ],
             [
              1,
              "#f0f921"
             ]
            ],
            "type": "histogram2d"
           }
          ],
          "histogram2dcontour": [
           {
            "colorbar": {
             "outlinewidth": 0,
             "ticks": ""
            },
            "colorscale": [
             [
              0,
              "#0d0887"
             ],
             [
              0.1111111111111111,
              "#46039f"
             ],
             [
              0.2222222222222222,
              "#7201a8"
             ],
             [
              0.3333333333333333,
              "#9c179e"
             ],
             [
              0.4444444444444444,
              "#bd3786"
             ],
             [
              0.5555555555555556,
              "#d8576b"
             ],
             [
              0.6666666666666666,
              "#ed7953"
             ],
             [
              0.7777777777777778,
              "#fb9f3a"
             ],
             [
              0.8888888888888888,
              "#fdca26"
             ],
             [
              1,
              "#f0f921"
             ]
            ],
            "type": "histogram2dcontour"
           }
          ],
          "mesh3d": [
           {
            "colorbar": {
             "outlinewidth": 0,
             "ticks": ""
            },
            "type": "mesh3d"
           }
          ],
          "parcoords": [
           {
            "line": {
             "colorbar": {
              "outlinewidth": 0,
              "ticks": ""
             }
            },
            "type": "parcoords"
           }
          ],
          "pie": [
           {
            "automargin": true,
            "type": "pie"
           }
          ],
          "scatter": [
           {
            "fillpattern": {
             "fillmode": "overlay",
             "size": 10,
             "solidity": 0.2
            },
            "type": "scatter"
           }
          ],
          "scatter3d": [
           {
            "line": {
             "colorbar": {
              "outlinewidth": 0,
              "ticks": ""
             }
            },
            "marker": {
             "colorbar": {
              "outlinewidth": 0,
              "ticks": ""
             }
            },
            "type": "scatter3d"
           }
          ],
          "scattercarpet": [
           {
            "marker": {
             "colorbar": {
              "outlinewidth": 0,
              "ticks": ""
             }
            },
            "type": "scattercarpet"
           }
          ],
          "scattergeo": [
           {
            "marker": {
             "colorbar": {
              "outlinewidth": 0,
              "ticks": ""
             }
            },
            "type": "scattergeo"
           }
          ],
          "scattergl": [
           {
            "marker": {
             "colorbar": {
              "outlinewidth": 0,
              "ticks": ""
             }
            },
            "type": "scattergl"
           }
          ],
          "scattermapbox": [
           {
            "marker": {
             "colorbar": {
              "outlinewidth": 0,
              "ticks": ""
             }
            },
            "type": "scattermapbox"
           }
          ],
          "scatterpolar": [
           {
            "marker": {
             "colorbar": {
              "outlinewidth": 0,
              "ticks": ""
             }
            },
            "type": "scatterpolar"
           }
          ],
          "scatterpolargl": [
           {
            "marker": {
             "colorbar": {
              "outlinewidth": 0,
              "ticks": ""
             }
            },
            "type": "scatterpolargl"
           }
          ],
          "scatterternary": [
           {
            "marker": {
             "colorbar": {
              "outlinewidth": 0,
              "ticks": ""
             }
            },
            "type": "scatterternary"
           }
          ],
          "surface": [
           {
            "colorbar": {
             "outlinewidth": 0,
             "ticks": ""
            },
            "colorscale": [
             [
              0,
              "#0d0887"
             ],
             [
              0.1111111111111111,
              "#46039f"
             ],
             [
              0.2222222222222222,
              "#7201a8"
             ],
             [
              0.3333333333333333,
              "#9c179e"
             ],
             [
              0.4444444444444444,
              "#bd3786"
             ],
             [
              0.5555555555555556,
              "#d8576b"
             ],
             [
              0.6666666666666666,
              "#ed7953"
             ],
             [
              0.7777777777777778,
              "#fb9f3a"
             ],
             [
              0.8888888888888888,
              "#fdca26"
             ],
             [
              1,
              "#f0f921"
             ]
            ],
            "type": "surface"
           }
          ],
          "table": [
           {
            "cells": {
             "fill": {
              "color": "#EBF0F8"
             },
             "line": {
              "color": "white"
             }
            },
            "header": {
             "fill": {
              "color": "#C8D4E3"
             },
             "line": {
              "color": "white"
             }
            },
            "type": "table"
           }
          ]
         },
         "layout": {
          "annotationdefaults": {
           "arrowcolor": "#2a3f5f",
           "arrowhead": 0,
           "arrowwidth": 1
          },
          "autotypenumbers": "strict",
          "coloraxis": {
           "colorbar": {
            "outlinewidth": 0,
            "ticks": ""
           }
          },
          "colorscale": {
           "diverging": [
            [
             0,
             "#8e0152"
            ],
            [
             0.1,
             "#c51b7d"
            ],
            [
             0.2,
             "#de77ae"
            ],
            [
             0.3,
             "#f1b6da"
            ],
            [
             0.4,
             "#fde0ef"
            ],
            [
             0.5,
             "#f7f7f7"
            ],
            [
             0.6,
             "#e6f5d0"
            ],
            [
             0.7,
             "#b8e186"
            ],
            [
             0.8,
             "#7fbc41"
            ],
            [
             0.9,
             "#4d9221"
            ],
            [
             1,
             "#276419"
            ]
           ],
           "sequential": [
            [
             0,
             "#0d0887"
            ],
            [
             0.1111111111111111,
             "#46039f"
            ],
            [
             0.2222222222222222,
             "#7201a8"
            ],
            [
             0.3333333333333333,
             "#9c179e"
            ],
            [
             0.4444444444444444,
             "#bd3786"
            ],
            [
             0.5555555555555556,
             "#d8576b"
            ],
            [
             0.6666666666666666,
             "#ed7953"
            ],
            [
             0.7777777777777778,
             "#fb9f3a"
            ],
            [
             0.8888888888888888,
             "#fdca26"
            ],
            [
             1,
             "#f0f921"
            ]
           ],
           "sequentialminus": [
            [
             0,
             "#0d0887"
            ],
            [
             0.1111111111111111,
             "#46039f"
            ],
            [
             0.2222222222222222,
             "#7201a8"
            ],
            [
             0.3333333333333333,
             "#9c179e"
            ],
            [
             0.4444444444444444,
             "#bd3786"
            ],
            [
             0.5555555555555556,
             "#d8576b"
            ],
            [
             0.6666666666666666,
             "#ed7953"
            ],
            [
             0.7777777777777778,
             "#fb9f3a"
            ],
            [
             0.8888888888888888,
             "#fdca26"
            ],
            [
             1,
             "#f0f921"
            ]
           ]
          },
          "colorway": [
           "#636efa",
           "#EF553B",
           "#00cc96",
           "#ab63fa",
           "#FFA15A",
           "#19d3f3",
           "#FF6692",
           "#B6E880",
           "#FF97FF",
           "#FECB52"
          ],
          "font": {
           "color": "#2a3f5f"
          },
          "geo": {
           "bgcolor": "white",
           "lakecolor": "white",
           "landcolor": "#E5ECF6",
           "showlakes": true,
           "showland": true,
           "subunitcolor": "white"
          },
          "hoverlabel": {
           "align": "left"
          },
          "hovermode": "closest",
          "mapbox": {
           "style": "light"
          },
          "paper_bgcolor": "white",
          "plot_bgcolor": "#E5ECF6",
          "polar": {
           "angularaxis": {
            "gridcolor": "white",
            "linecolor": "white",
            "ticks": ""
           },
           "bgcolor": "#E5ECF6",
           "radialaxis": {
            "gridcolor": "white",
            "linecolor": "white",
            "ticks": ""
           }
          },
          "scene": {
           "xaxis": {
            "backgroundcolor": "#E5ECF6",
            "gridcolor": "white",
            "gridwidth": 2,
            "linecolor": "white",
            "showbackground": true,
            "ticks": "",
            "zerolinecolor": "white"
           },
           "yaxis": {
            "backgroundcolor": "#E5ECF6",
            "gridcolor": "white",
            "gridwidth": 2,
            "linecolor": "white",
            "showbackground": true,
            "ticks": "",
            "zerolinecolor": "white"
           },
           "zaxis": {
            "backgroundcolor": "#E5ECF6",
            "gridcolor": "white",
            "gridwidth": 2,
            "linecolor": "white",
            "showbackground": true,
            "ticks": "",
            "zerolinecolor": "white"
           }
          },
          "shapedefaults": {
           "line": {
            "color": "#2a3f5f"
           }
          },
          "ternary": {
           "aaxis": {
            "gridcolor": "white",
            "linecolor": "white",
            "ticks": ""
           },
           "baxis": {
            "gridcolor": "white",
            "linecolor": "white",
            "ticks": ""
           },
           "bgcolor": "#E5ECF6",
           "caxis": {
            "gridcolor": "white",
            "linecolor": "white",
            "ticks": ""
           }
          },
          "title": {
           "x": 0.05
          },
          "xaxis": {
           "automargin": true,
           "gridcolor": "white",
           "linecolor": "white",
           "ticks": "",
           "title": {
            "standoff": 15
           },
           "zerolinecolor": "white",
           "zerolinewidth": 2
          },
          "yaxis": {
           "automargin": true,
           "gridcolor": "white",
           "linecolor": "white",
           "ticks": "",
           "title": {
            "standoff": 15
           },
           "zerolinecolor": "white",
           "zerolinewidth": 2
          }
         }
        },
        "title": {
         "text": "Top 10 Genres in Best Actor/Actress Academy Award Movies"
        },
        "width": 800,
        "xaxis": {
         "tickangle": 45,
         "title": {
          "text": "Movie Genre"
         }
        },
        "yaxis": {
         "title": {
          "text": "Number of Movies"
         }
        }
       }
      }
     },
     "metadata": {},
     "output_type": "display_data"
    }
   ],
   "source": [
    "import re\n",
    "\n",
    "# Extract and clean the genres\n",
    "genres_data = oscar_movies_all[['Movie genres']].dropna()\n",
    "genres_data = genres_data.assign(Movie_genres_split=genres_data['Movie genres'].str.split(', ')).explode('Movie_genres_split')\n",
    "\n",
    "# Use regex to remove any empty strings, square brackets, and extra spaces\n",
    "genres_data['Movie_genres_split'] = genres_data['Movie_genres_split'].apply(lambda x: re.sub(r\"[\\[\\]']\", '', x).strip())\n",
    "\n",
    "# Count the occurrences of each genre\n",
    "genre_counts = genres_data['Movie_genres_split'].value_counts().reset_index()\n",
    "genre_counts.columns = ['Genre', 'Count']\n",
    "print(genre_counts)\n",
    "\n",
    "# Plot the top 10 genres\n",
    "fig = px.pie(\n",
    "    genre_counts.head(10), \n",
    "    values='Count',\n",
    "    title='Top 10 Genres in Best Actor/Actress Academy Award Movies',\n",
    "    labels={'Genre': 'Movie Genre', 'Count': 'Number of Movies'},\n",
    "    names='Genre',\n",
    "    color='Genre'\n",
    ")\n",
    "\n",
    "# Update layout for better readability\n",
    "fig.update_layout(\n",
    "    xaxis=dict(title='Movie Genre', tickangle=45),\n",
    "    yaxis=dict(title='Number of Movies'),\n",
    "    width=800,\n",
    "    height=600 \n",
    ")\n",
    "\n",
    "fig.show()"
   ]
  },
  {
   "cell_type": "code",
   "execution_count": 38,
   "metadata": {},
   "outputs": [
    {
     "name": "stdout",
     "output_type": "stream",
     "text": [
      "         Actor name  Movies Before First Oscar  First Oscar Date\n",
      "0      Adrien Brody                       15.0            2002.0\n",
      "1         Al Pacino                       15.0            1992.0\n",
      "2     Alec Guinness                        5.0            1957.0\n",
      "3      Anna Magnani                        1.0            1955.0\n",
      "4     Anne Bancroft                        3.0            1962.0\n",
      "5   Anthony Hopkins                       20.0            1991.0\n",
      "6        Art Carney                        2.0            1974.0\n",
      "7    Audrey Hepburn                        0.0            1953.0\n",
      "8  Barbra Streisand                        0.0            1968.0\n",
      "9      Ben Kingsley                        0.0            1982.0\n",
      "(36, 3)\n"
     ]
    },
    {
     "name": "stderr",
     "output_type": "stream",
     "text": [
      "C:\\Users\\thier\\AppData\\Local\\Temp\\ipykernel_7108\\2767893020.py:19: DeprecationWarning:\n",
      "\n",
      "DataFrameGroupBy.apply operated on the grouping columns. This behavior is deprecated, and in a future version of pandas the grouping columns will be excluded from the operation. Either pass `include_groups=False` to exclude the groupings or explicitly select the grouping columns after groupby to silence this warning.\n",
      "\n"
     ]
    },
    {
     "data": {
      "application/vnd.plotly.v1+json": {
       "config": {
        "plotlyServerURL": "https://plot.ly"
       },
       "data": [
        {
         "alignmentgroup": "True",
         "customdata": [
          [
           1969
          ],
          [
           1945
          ],
          [
           null
          ],
          [
           null
          ],
          [
           1981
          ],
          [
           2009
          ],
          [
           1952
          ],
          [
           null
          ],
          [
           null
          ],
          [
           1931
          ],
          [
           null
          ],
          [
           null
          ],
          [
           null
          ],
          [
           1951
          ],
          [
           null
          ],
          [
           1947
          ],
          [
           null
          ],
          [
           1986
          ],
          [
           null
          ],
          [
           2009
          ],
          [
           2006
          ],
          [
           null
          ],
          [
           2010
          ],
          [
           2005
          ],
          [
           1940
          ],
          [
           2001
          ],
          [
           null
          ],
          [
           null
          ],
          [
           1947
          ],
          [
           null
          ],
          [
           2003
          ],
          [
           2010
          ],
          [
           1995
          ],
          [
           2008
          ],
          [
           1976
          ],
          [
           1973
          ],
          [
           1991
          ],
          [
           1958
          ],
          [
           1999
          ],
          [
           1983
          ],
          [
           1960
          ],
          [
           null
          ],
          [
           1995
          ],
          [
           2000
          ],
          [
           2003
          ],
          [
           1934
          ],
          [
           1994
          ],
          [
           1943
          ],
          [
           2001
          ],
          [
           1997
          ],
          [
           1962
          ],
          [
           1989
          ],
          [
           2005
          ],
          [
           1930
          ],
          [
           1944
          ],
          [
           1934
          ],
          [
           1960
          ],
          [
           1992
          ],
          [
           1964
          ],
          [
           2002
          ],
          [
           1935
          ],
          [
           1975
          ],
          [
           1988
          ],
          [
           1978
          ],
          [
           1988
          ],
          [
           1998
          ],
          [
           1994
          ],
          [
           1946
          ],
          [
           1960
          ],
          [
           1983
          ],
          [
           1967
          ],
          [
           1965
          ],
          [
           1987
          ],
          [
           null
          ],
          [
           null
          ],
          [
           2002
          ],
          [
           1980
          ],
          [
           1959
          ],
          [
           null
          ],
          [
           1956
          ],
          [
           1940
          ],
          [
           1985
          ],
          [
           1976
          ],
          [
           2004
          ],
          [
           2000
          ],
          [
           1996
          ],
          [
           1963
          ],
          [
           null
          ],
          [
           1993
          ],
          [
           2007
          ],
          [
           1979
          ],
          [
           1970
          ],
          [
           null
          ],
          [
           1968
          ],
          [
           1977
          ],
          [
           1997
          ],
          [
           1980
          ],
          [
           1989
          ],
          [
           null
          ],
          [
           1959
          ],
          [
           1977
          ],
          [
           1985
          ],
          [
           1941
          ],
          [
           1957
          ],
          [
           1931
          ],
          [
           1990
          ],
          [
           1984
          ],
          [
           1971
          ],
          [
           2012
          ],
          [
           1982
          ],
          [
           1939
          ],
          [
           1954
          ],
          [
           1939
          ],
          [
           1928
          ],
          [
           2011
          ],
          [
           1992
          ],
          [
           1954
          ],
          [
           1942
          ],
          [
           1999
          ],
          [
           1978
          ],
          [
           1974
          ],
          [
           1933
          ],
          [
           1972
          ],
          [
           1962
          ],
          [
           1955
          ],
          [
           1966
          ],
          [
           1974
          ],
          [
           1996
          ],
          [
           1955
          ],
          [
           1931
          ],
          [
           1973
          ],
          [
           1961
          ],
          [
           1943
          ],
          [
           1957
          ],
          [
           1950
          ],
          [
           1964
          ],
          [
           1933
          ],
          [
           1975
          ],
          [
           1936
          ],
          [
           1956
          ],
          [
           1952
          ],
          [
           1982
          ],
          [
           1968
          ],
          [
           1953
          ],
          [
           1965
          ],
          [
           1986
          ]
         ],
         "hovertemplate": "Actress=%{x}<br>Movies Before First Oscar=%{marker.color}<br>First Oscar Date=%{customdata[0]}<extra></extra>",
         "legendgroup": "",
         "marker": {
          "color": [
           95,
           52,
           47,
           44,
           44,
           43,
           42,
           42,
           42,
           41,
           40,
           38,
           37,
           36,
           34,
           33,
           31,
           31,
           30,
           29,
           28,
           27,
           27,
           25,
           24,
           23,
           23,
           23,
           22,
           22,
           22,
           22,
           22,
           21,
           21,
           21,
           20,
           20,
           20,
           20,
           19,
           19,
           19,
           19,
           18,
           18,
           18,
           18,
           18,
           17,
           17,
           17,
           17,
           17,
           16,
           15,
           15,
           15,
           15,
           15,
           15,
           15,
           15,
           14,
           14,
           14,
           14,
           14,
           14,
           14,
           13,
           13,
           13,
           13,
           12,
           12,
           12,
           12,
           12,
           12,
           11,
           11,
           11,
           11,
           9,
           9,
           9,
           9,
           8,
           8,
           8,
           7,
           7,
           7,
           7,
           6,
           6,
           6,
           6,
           6,
           5,
           5,
           5,
           5,
           5,
           5,
           5,
           5,
           5,
           4,
           4,
           4,
           4,
           4,
           4,
           4,
           3,
           3,
           3,
           3,
           3,
           3,
           3,
           3,
           2,
           2,
           2,
           2,
           1,
           1,
           1,
           1,
           1,
           1,
           1,
           1,
           1,
           1,
           1,
           1,
           0,
           0,
           0,
           0,
           0,
           0
          ],
          "coloraxis": "coloraxis",
          "pattern": {
           "shape": ""
          }
         },
         "name": "",
         "offsetgroup": "",
         "orientation": "v",
         "showlegend": false,
         "text": [
          95,
          52,
          47,
          44,
          44,
          43,
          42,
          42,
          42,
          41,
          40,
          38,
          37,
          36,
          34,
          33,
          31,
          31,
          30,
          29,
          28,
          27,
          27,
          25,
          24,
          23,
          23,
          23,
          22,
          22,
          22,
          22,
          22,
          21,
          21,
          21,
          20,
          20,
          20,
          20,
          19,
          19,
          19,
          19,
          18,
          18,
          18,
          18,
          18,
          17,
          17,
          17,
          17,
          17,
          16,
          15,
          15,
          15,
          15,
          15,
          15,
          15,
          15,
          14,
          14,
          14,
          14,
          14,
          14,
          14,
          13,
          13,
          13,
          13,
          12,
          12,
          12,
          12,
          12,
          12,
          11,
          11,
          11,
          11,
          9,
          9,
          9,
          9,
          8,
          8,
          8,
          7,
          7,
          7,
          7,
          6,
          6,
          6,
          6,
          6,
          5,
          5,
          5,
          5,
          5,
          5,
          5,
          5,
          5,
          4,
          4,
          4,
          4,
          4,
          4,
          4,
          3,
          3,
          3,
          3,
          3,
          3,
          3,
          3,
          2,
          2,
          2,
          2,
          1,
          1,
          1,
          1,
          1,
          1,
          1,
          1,
          1,
          1,
          1,
          1,
          0,
          0,
          0,
          0,
          0,
          0
         ],
         "textposition": "auto",
         "type": "bar",
         "x": [
          "John Wayne",
          "Joan Crawford",
          "Mary Pickford",
          "Ray Milland",
          "Henry Fonda",
          "Jeff Bridges",
          "Gary Cooper",
          "Maggie Smith",
          "William Holden",
          "Lionel Barrymore",
          "Helen Mirren",
          "Wallace Beery",
          "Spencer Tracy",
          "Humphrey Bogart",
          "Jeremy Irons",
          "Loretta Young",
          "Laurence Olivier",
          "Paul Newman",
          "James Cagney",
          "Sandra Bullock",
          "Forest Whitaker",
          "Victor McLaglen",
          "Colin Firth",
          "Philip Seymour Hoffman",
          "Ginger Rogers",
          "Denzel Washington",
          "Warner Baxter",
          "Jane Wyman",
          "Ronald Colman",
          "José Ferrer",
          "Sean Penn",
          "Natalie Portman",
          "Susan Sarandon",
          "Kate Winslet",
          "Peter Finch",
          "Jack Lemmon",
          "Anthony Hopkins",
          "Susan Hayward",
          "Kevin Spacey",
          "Robert Duvall",
          "Elizabeth Taylor",
          "Broderick Crawford",
          "Nicolas Cage",
          "Julia Roberts",
          "Charlize Theron",
          "Claudette Colbert",
          "Tom Hanks",
          "Paul Lukas",
          "Halle Berry",
          "Helen Hunt",
          "Gregory Peck",
          "Jessica Tandy",
          "Reese Witherspoon",
          "Norma Shearer",
          "Bing Crosby",
          "Clark Gable",
          "Burt Lancaster",
          "Al Pacino",
          "Rex Harrison",
          "Adrien Brody",
          "Bette Davis",
          "Jack Nicholson",
          "Jodie Foster",
          "Jane Fonda",
          "Dustin Hoffman",
          "Gwyneth Paltrow",
          "Jessica Lange",
          "Olivia de Havilland",
          "Sophia Loren",
          "Shirley MacLaine",
          "Rod Steiger",
          "Lee Marvin",
          "Michael Douglas",
          "Cher",
          "Patricia Neal",
          "Nicole Kidman",
          "Robert De Niro",
          "Charlton Heston",
          "Emil Jannings",
          "Ingrid Bergman",
          "James Stewart",
          "Geraldine Page",
          "Faye Dunaway",
          "Jamie Foxx",
          "Russell Crowe",
          "Frances McDormand",
          "Sidney Poitier",
          "George Arliss",
          "Holly Hunter",
          "Marion Cotillard",
          "Sally Field",
          "George C. Scott",
          "Marie Dressler",
          "Cliff Robertson",
          "Diane Keaton",
          "Roberto Benigni",
          "Sissy Spacek",
          "Daniel Day-Lewis",
          "Paul Muni",
          "Simone Signoret",
          "Richard Dreyfuss",
          "William Hurt",
          "Joan Fontaine",
          "Alec Guinness",
          "Fredric March",
          "Kathy Bates",
          "F. Murray Abraham",
          "Gene Hackman",
          "Jennifer Lawrence",
          "Meryl Streep",
          "Robert Donat",
          "Marlon Brando",
          "Vivien Leigh",
          "Janet Gaynor",
          "Jean Dujardin",
          "Emma Thompson",
          "Grace Kelly",
          "Greer Garson",
          "Hilary Swank",
          "Jon Voight",
          "Ellen Burstyn",
          "Charles Laughton",
          "Liza Minnelli",
          "Anne Bancroft",
          "Ernest Borgnine",
          "Paul Scofield",
          "Art Carney",
          "Geoffrey Rush",
          "Anna Magnani",
          "Helen Hayes",
          "Glenda Jackson",
          "Maximilian Schell",
          "Jennifer Jones",
          "Joanne Woodward",
          "Judy Holliday",
          "Julie Andrews",
          "Katharine Hepburn",
          "Louise Fletcher",
          "Luise Rainer",
          "Yul Brynner",
          "Shirley Booth",
          "Ben Kingsley",
          "Barbra Streisand",
          "Audrey Hepburn",
          "Julie Christie",
          "Marlee Matlin"
         ],
         "xaxis": "x",
         "y": [
          95,
          52,
          47,
          44,
          44,
          43,
          42,
          42,
          42,
          41,
          40,
          38,
          37,
          36,
          34,
          33,
          31,
          31,
          30,
          29,
          28,
          27,
          27,
          25,
          24,
          23,
          23,
          23,
          22,
          22,
          22,
          22,
          22,
          21,
          21,
          21,
          20,
          20,
          20,
          20,
          19,
          19,
          19,
          19,
          18,
          18,
          18,
          18,
          18,
          17,
          17,
          17,
          17,
          17,
          16,
          15,
          15,
          15,
          15,
          15,
          15,
          15,
          15,
          14,
          14,
          14,
          14,
          14,
          14,
          14,
          13,
          13,
          13,
          13,
          12,
          12,
          12,
          12,
          12,
          12,
          11,
          11,
          11,
          11,
          9,
          9,
          9,
          9,
          8,
          8,
          8,
          7,
          7,
          7,
          7,
          6,
          6,
          6,
          6,
          6,
          5,
          5,
          5,
          5,
          5,
          5,
          5,
          5,
          5,
          4,
          4,
          4,
          4,
          4,
          4,
          4,
          3,
          3,
          3,
          3,
          3,
          3,
          3,
          3,
          2,
          2,
          2,
          2,
          1,
          1,
          1,
          1,
          1,
          1,
          1,
          1,
          1,
          1,
          1,
          1,
          0,
          0,
          0,
          0,
          0,
          0
         ],
         "yaxis": "y"
        }
       ],
       "layout": {
        "barmode": "relative",
        "coloraxis": {
         "colorbar": {
          "title": {
           "text": "Movies Before First Oscar"
          }
         },
         "colorscale": [
          [
           0,
           "rgb(255,245,240)"
          ],
          [
           0.125,
           "rgb(254,224,210)"
          ],
          [
           0.25,
           "rgb(252,187,161)"
          ],
          [
           0.375,
           "rgb(252,146,114)"
          ],
          [
           0.5,
           "rgb(251,106,74)"
          ],
          [
           0.625,
           "rgb(239,59,44)"
          ],
          [
           0.75,
           "rgb(203,24,29)"
          ],
          [
           0.875,
           "rgb(165,15,21)"
          ],
          [
           1,
           "rgb(103,0,13)"
          ]
         ]
        },
        "height": 700,
        "legend": {
         "tracegroupgap": 0
        },
        "template": {
         "data": {
          "bar": [
           {
            "error_x": {
             "color": "#2a3f5f"
            },
            "error_y": {
             "color": "#2a3f5f"
            },
            "marker": {
             "line": {
              "color": "#E5ECF6",
              "width": 0.5
             },
             "pattern": {
              "fillmode": "overlay",
              "size": 10,
              "solidity": 0.2
             }
            },
            "type": "bar"
           }
          ],
          "barpolar": [
           {
            "marker": {
             "line": {
              "color": "#E5ECF6",
              "width": 0.5
             },
             "pattern": {
              "fillmode": "overlay",
              "size": 10,
              "solidity": 0.2
             }
            },
            "type": "barpolar"
           }
          ],
          "carpet": [
           {
            "aaxis": {
             "endlinecolor": "#2a3f5f",
             "gridcolor": "white",
             "linecolor": "white",
             "minorgridcolor": "white",
             "startlinecolor": "#2a3f5f"
            },
            "baxis": {
             "endlinecolor": "#2a3f5f",
             "gridcolor": "white",
             "linecolor": "white",
             "minorgridcolor": "white",
             "startlinecolor": "#2a3f5f"
            },
            "type": "carpet"
           }
          ],
          "choropleth": [
           {
            "colorbar": {
             "outlinewidth": 0,
             "ticks": ""
            },
            "type": "choropleth"
           }
          ],
          "contour": [
           {
            "colorbar": {
             "outlinewidth": 0,
             "ticks": ""
            },
            "colorscale": [
             [
              0,
              "#0d0887"
             ],
             [
              0.1111111111111111,
              "#46039f"
             ],
             [
              0.2222222222222222,
              "#7201a8"
             ],
             [
              0.3333333333333333,
              "#9c179e"
             ],
             [
              0.4444444444444444,
              "#bd3786"
             ],
             [
              0.5555555555555556,
              "#d8576b"
             ],
             [
              0.6666666666666666,
              "#ed7953"
             ],
             [
              0.7777777777777778,
              "#fb9f3a"
             ],
             [
              0.8888888888888888,
              "#fdca26"
             ],
             [
              1,
              "#f0f921"
             ]
            ],
            "type": "contour"
           }
          ],
          "contourcarpet": [
           {
            "colorbar": {
             "outlinewidth": 0,
             "ticks": ""
            },
            "type": "contourcarpet"
           }
          ],
          "heatmap": [
           {
            "colorbar": {
             "outlinewidth": 0,
             "ticks": ""
            },
            "colorscale": [
             [
              0,
              "#0d0887"
             ],
             [
              0.1111111111111111,
              "#46039f"
             ],
             [
              0.2222222222222222,
              "#7201a8"
             ],
             [
              0.3333333333333333,
              "#9c179e"
             ],
             [
              0.4444444444444444,
              "#bd3786"
             ],
             [
              0.5555555555555556,
              "#d8576b"
             ],
             [
              0.6666666666666666,
              "#ed7953"
             ],
             [
              0.7777777777777778,
              "#fb9f3a"
             ],
             [
              0.8888888888888888,
              "#fdca26"
             ],
             [
              1,
              "#f0f921"
             ]
            ],
            "type": "heatmap"
           }
          ],
          "heatmapgl": [
           {
            "colorbar": {
             "outlinewidth": 0,
             "ticks": ""
            },
            "colorscale": [
             [
              0,
              "#0d0887"
             ],
             [
              0.1111111111111111,
              "#46039f"
             ],
             [
              0.2222222222222222,
              "#7201a8"
             ],
             [
              0.3333333333333333,
              "#9c179e"
             ],
             [
              0.4444444444444444,
              "#bd3786"
             ],
             [
              0.5555555555555556,
              "#d8576b"
             ],
             [
              0.6666666666666666,
              "#ed7953"
             ],
             [
              0.7777777777777778,
              "#fb9f3a"
             ],
             [
              0.8888888888888888,
              "#fdca26"
             ],
             [
              1,
              "#f0f921"
             ]
            ],
            "type": "heatmapgl"
           }
          ],
          "histogram": [
           {
            "marker": {
             "pattern": {
              "fillmode": "overlay",
              "size": 10,
              "solidity": 0.2
             }
            },
            "type": "histogram"
           }
          ],
          "histogram2d": [
           {
            "colorbar": {
             "outlinewidth": 0,
             "ticks": ""
            },
            "colorscale": [
             [
              0,
              "#0d0887"
             ],
             [
              0.1111111111111111,
              "#46039f"
             ],
             [
              0.2222222222222222,
              "#7201a8"
             ],
             [
              0.3333333333333333,
              "#9c179e"
             ],
             [
              0.4444444444444444,
              "#bd3786"
             ],
             [
              0.5555555555555556,
              "#d8576b"
             ],
             [
              0.6666666666666666,
              "#ed7953"
             ],
             [
              0.7777777777777778,
              "#fb9f3a"
             ],
             [
              0.8888888888888888,
              "#fdca26"
             ],
             [
              1,
              "#f0f921"
             ]
            ],
            "type": "histogram2d"
           }
          ],
          "histogram2dcontour": [
           {
            "colorbar": {
             "outlinewidth": 0,
             "ticks": ""
            },
            "colorscale": [
             [
              0,
              "#0d0887"
             ],
             [
              0.1111111111111111,
              "#46039f"
             ],
             [
              0.2222222222222222,
              "#7201a8"
             ],
             [
              0.3333333333333333,
              "#9c179e"
             ],
             [
              0.4444444444444444,
              "#bd3786"
             ],
             [
              0.5555555555555556,
              "#d8576b"
             ],
             [
              0.6666666666666666,
              "#ed7953"
             ],
             [
              0.7777777777777778,
              "#fb9f3a"
             ],
             [
              0.8888888888888888,
              "#fdca26"
             ],
             [
              1,
              "#f0f921"
             ]
            ],
            "type": "histogram2dcontour"
           }
          ],
          "mesh3d": [
           {
            "colorbar": {
             "outlinewidth": 0,
             "ticks": ""
            },
            "type": "mesh3d"
           }
          ],
          "parcoords": [
           {
            "line": {
             "colorbar": {
              "outlinewidth": 0,
              "ticks": ""
             }
            },
            "type": "parcoords"
           }
          ],
          "pie": [
           {
            "automargin": true,
            "type": "pie"
           }
          ],
          "scatter": [
           {
            "fillpattern": {
             "fillmode": "overlay",
             "size": 10,
             "solidity": 0.2
            },
            "type": "scatter"
           }
          ],
          "scatter3d": [
           {
            "line": {
             "colorbar": {
              "outlinewidth": 0,
              "ticks": ""
             }
            },
            "marker": {
             "colorbar": {
              "outlinewidth": 0,
              "ticks": ""
             }
            },
            "type": "scatter3d"
           }
          ],
          "scattercarpet": [
           {
            "marker": {
             "colorbar": {
              "outlinewidth": 0,
              "ticks": ""
             }
            },
            "type": "scattercarpet"
           }
          ],
          "scattergeo": [
           {
            "marker": {
             "colorbar": {
              "outlinewidth": 0,
              "ticks": ""
             }
            },
            "type": "scattergeo"
           }
          ],
          "scattergl": [
           {
            "marker": {
             "colorbar": {
              "outlinewidth": 0,
              "ticks": ""
             }
            },
            "type": "scattergl"
           }
          ],
          "scattermapbox": [
           {
            "marker": {
             "colorbar": {
              "outlinewidth": 0,
              "ticks": ""
             }
            },
            "type": "scattermapbox"
           }
          ],
          "scatterpolar": [
           {
            "marker": {
             "colorbar": {
              "outlinewidth": 0,
              "ticks": ""
             }
            },
            "type": "scatterpolar"
           }
          ],
          "scatterpolargl": [
           {
            "marker": {
             "colorbar": {
              "outlinewidth": 0,
              "ticks": ""
             }
            },
            "type": "scatterpolargl"
           }
          ],
          "scatterternary": [
           {
            "marker": {
             "colorbar": {
              "outlinewidth": 0,
              "ticks": ""
             }
            },
            "type": "scatterternary"
           }
          ],
          "surface": [
           {
            "colorbar": {
             "outlinewidth": 0,
             "ticks": ""
            },
            "colorscale": [
             [
              0,
              "#0d0887"
             ],
             [
              0.1111111111111111,
              "#46039f"
             ],
             [
              0.2222222222222222,
              "#7201a8"
             ],
             [
              0.3333333333333333,
              "#9c179e"
             ],
             [
              0.4444444444444444,
              "#bd3786"
             ],
             [
              0.5555555555555556,
              "#d8576b"
             ],
             [
              0.6666666666666666,
              "#ed7953"
             ],
             [
              0.7777777777777778,
              "#fb9f3a"
             ],
             [
              0.8888888888888888,
              "#fdca26"
             ],
             [
              1,
              "#f0f921"
             ]
            ],
            "type": "surface"
           }
          ],
          "table": [
           {
            "cells": {
             "fill": {
              "color": "#EBF0F8"
             },
             "line": {
              "color": "white"
             }
            },
            "header": {
             "fill": {
              "color": "#C8D4E3"
             },
             "line": {
              "color": "white"
             }
            },
            "type": "table"
           }
          ]
         },
         "layout": {
          "annotationdefaults": {
           "arrowcolor": "#2a3f5f",
           "arrowhead": 0,
           "arrowwidth": 1
          },
          "autotypenumbers": "strict",
          "coloraxis": {
           "colorbar": {
            "outlinewidth": 0,
            "ticks": ""
           }
          },
          "colorscale": {
           "diverging": [
            [
             0,
             "#8e0152"
            ],
            [
             0.1,
             "#c51b7d"
            ],
            [
             0.2,
             "#de77ae"
            ],
            [
             0.3,
             "#f1b6da"
            ],
            [
             0.4,
             "#fde0ef"
            ],
            [
             0.5,
             "#f7f7f7"
            ],
            [
             0.6,
             "#e6f5d0"
            ],
            [
             0.7,
             "#b8e186"
            ],
            [
             0.8,
             "#7fbc41"
            ],
            [
             0.9,
             "#4d9221"
            ],
            [
             1,
             "#276419"
            ]
           ],
           "sequential": [
            [
             0,
             "#0d0887"
            ],
            [
             0.1111111111111111,
             "#46039f"
            ],
            [
             0.2222222222222222,
             "#7201a8"
            ],
            [
             0.3333333333333333,
             "#9c179e"
            ],
            [
             0.4444444444444444,
             "#bd3786"
            ],
            [
             0.5555555555555556,
             "#d8576b"
            ],
            [
             0.6666666666666666,
             "#ed7953"
            ],
            [
             0.7777777777777778,
             "#fb9f3a"
            ],
            [
             0.8888888888888888,
             "#fdca26"
            ],
            [
             1,
             "#f0f921"
            ]
           ],
           "sequentialminus": [
            [
             0,
             "#0d0887"
            ],
            [
             0.1111111111111111,
             "#46039f"
            ],
            [
             0.2222222222222222,
             "#7201a8"
            ],
            [
             0.3333333333333333,
             "#9c179e"
            ],
            [
             0.4444444444444444,
             "#bd3786"
            ],
            [
             0.5555555555555556,
             "#d8576b"
            ],
            [
             0.6666666666666666,
             "#ed7953"
            ],
            [
             0.7777777777777778,
             "#fb9f3a"
            ],
            [
             0.8888888888888888,
             "#fdca26"
            ],
            [
             1,
             "#f0f921"
            ]
           ]
          },
          "colorway": [
           "#636efa",
           "#EF553B",
           "#00cc96",
           "#ab63fa",
           "#FFA15A",
           "#19d3f3",
           "#FF6692",
           "#B6E880",
           "#FF97FF",
           "#FECB52"
          ],
          "font": {
           "color": "#2a3f5f"
          },
          "geo": {
           "bgcolor": "white",
           "lakecolor": "white",
           "landcolor": "#E5ECF6",
           "showlakes": true,
           "showland": true,
           "subunitcolor": "white"
          },
          "hoverlabel": {
           "align": "left"
          },
          "hovermode": "closest",
          "mapbox": {
           "style": "light"
          },
          "paper_bgcolor": "white",
          "plot_bgcolor": "#E5ECF6",
          "polar": {
           "angularaxis": {
            "gridcolor": "white",
            "linecolor": "white",
            "ticks": ""
           },
           "bgcolor": "#E5ECF6",
           "radialaxis": {
            "gridcolor": "white",
            "linecolor": "white",
            "ticks": ""
           }
          },
          "scene": {
           "xaxis": {
            "backgroundcolor": "#E5ECF6",
            "gridcolor": "white",
            "gridwidth": 2,
            "linecolor": "white",
            "showbackground": true,
            "ticks": "",
            "zerolinecolor": "white"
           },
           "yaxis": {
            "backgroundcolor": "#E5ECF6",
            "gridcolor": "white",
            "gridwidth": 2,
            "linecolor": "white",
            "showbackground": true,
            "ticks": "",
            "zerolinecolor": "white"
           },
           "zaxis": {
            "backgroundcolor": "#E5ECF6",
            "gridcolor": "white",
            "gridwidth": 2,
            "linecolor": "white",
            "showbackground": true,
            "ticks": "",
            "zerolinecolor": "white"
           }
          },
          "shapedefaults": {
           "line": {
            "color": "#2a3f5f"
           }
          },
          "ternary": {
           "aaxis": {
            "gridcolor": "white",
            "linecolor": "white",
            "ticks": ""
           },
           "baxis": {
            "gridcolor": "white",
            "linecolor": "white",
            "ticks": ""
           },
           "bgcolor": "#E5ECF6",
           "caxis": {
            "gridcolor": "white",
            "linecolor": "white",
            "ticks": ""
           }
          },
          "title": {
           "x": 0.05
          },
          "xaxis": {
           "automargin": true,
           "gridcolor": "white",
           "linecolor": "white",
           "ticks": "",
           "title": {
            "standoff": 15
           },
           "zerolinecolor": "white",
           "zerolinewidth": 2
          },
          "yaxis": {
           "automargin": true,
           "gridcolor": "white",
           "linecolor": "white",
           "ticks": "",
           "title": {
            "standoff": 15
           },
           "zerolinecolor": "white",
           "zerolinewidth": 2
          }
         }
        },
        "title": {
         "text": "Number of Movies Before First Oscar per Actress"
        },
        "width": 2000,
        "xaxis": {
         "anchor": "y",
         "domain": [
          0,
          1
         ],
         "tickangle": 45,
         "title": {
          "text": "Actress"
         }
        },
        "yaxis": {
         "anchor": "x",
         "domain": [
          0,
          1
         ],
         "title": {
          "text": "Number of Movies"
         }
        }
       }
      }
     },
     "metadata": {},
     "output_type": "display_data"
    }
   ],
   "source": [
    "# Filter to only valid rows with release dates\n",
    "oscar_movies_filtered = oscar_act_movies_all.dropna(subset=['Movie release date'])\n",
    "\n",
    "def get_movies_and_first_oscar_date(group):\n",
    "    # Sort movies by release date\n",
    "    group = group.sort_values(by='Movie release date')\n",
    "    # Find the first Oscar-winning movie and its date\n",
    "    first_oscar = group.loc[group['Best Actress Reward']].nsmallest(1, 'Movie release date')\n",
    "    first_oscar_date = first_oscar['Movie release date'].iloc[0] if not first_oscar.empty else None\n",
    "    # Count movies before the first Oscar-winning movie\n",
    "    if pd.notnull(first_oscar_date):\n",
    "        movies_before = group[group['Movie release date'] < first_oscar_date].shape[0]\n",
    "    else:\n",
    "        movies_before = group.shape[0]  # If no Oscar win, count all movies\n",
    "    \n",
    "    return pd.Series({'Movies Before First Oscar': movies_before, 'First Oscar Date': first_oscar_date})\n",
    "\n",
    "\n",
    "movies_before_first_oscar = oscar_movies_filtered.groupby('Actor name').apply(get_movies_and_first_oscar_date).reset_index()\n",
    "print(movies_before_first_oscar.head(10))\n",
    "movies_before_first_oscar1 = movies_before_first_oscar[movies_before_first_oscar['Movies Before First Oscar'] < 10]\n",
    "movies_before_first_oscar2 = movies_before_first_oscar[movies_before_first_oscar['Movies Before First Oscar'] < 30]\n",
    "movies_before_first_oscar2 = movies_before_first_oscar2[movies_before_first_oscar2['Movies Before First Oscar'] > 15]\n",
    "print(movies_before_first_oscar2.shape)\n",
    "\n",
    "fig = px.bar(\n",
    "    movies_before_first_oscar.sort_values('Movies Before First Oscar', ascending=False),\n",
    "    x='Actor name',\n",
    "    y='Movies Before First Oscar',\n",
    "    title='Number of Movies Before First Oscar per Actress',\n",
    "    labels={'Actor name': 'Actress', 'Movies Before First Oscar': 'Movies Before First Oscar'},\n",
    "    hover_data='First Oscar Date',\n",
    "    text='Movies Before First Oscar',\n",
    "    color='Movies Before First Oscar',\n",
    "    color_continuous_scale='Reds'\n",
    "    \n",
    ")\n",
    "\n",
    "# Update layout for better readability\n",
    "fig.update_layout(\n",
    "    xaxis=dict(title='Actress', tickangle=45),\n",
    "    yaxis=dict(title='Number of Movies'),\n",
    "    width=2000,  # Adjust figure width\n",
    "    height=700  # Adjust figure height\n",
    ")\n",
    "\n",
    "# Uncomment this line to display the graph\n",
    "fig.show()"
   ]
  },
  {
   "cell_type": "code",
   "execution_count": 29,
   "metadata": {},
   "outputs": [],
   "source": [
    "imdb_ratings['Movie name'] = imdb_ratings['Movie name'].str.strip()\n",
    "filtered_ratings = imdb_ratings[['Movie name', 'Movie release date', 'imdb_score']]\n",
    "filtered_oscar_actress = oscar_act_movies_all[['Movie name', 'Movie release date', 'Actor name', 'Best Actress Reward']]\n",
    "merged_data = pd.merge(filtered_ratings, filtered_oscar_actress, how='right', on=['Movie name', 'Movie release date'])\n",
    "\n",
    "\n",
    "# Extract relevant columns for analysis\n",
    "rating_evolution = merged_data[['Actor name', 'Movie name', 'Movie release date', 'imdb_score', 'Best Actress Reward']]\n",
    "\n",
    "# Convert release_year to numeric for proper sorting\n",
    "rating_evolution['Movie release date'] = pd.to_numeric(rating_evolution['Movie release date'], errors='coerce')\n",
    "\n",
    "\n",
    "# Filter data for movies released from 1980 onwards\n",
    "rating_evolution = rating_evolution[rating_evolution['Movie release date'] >= 1980]\n",
    "\n",
    "# Remove rows with missing or invalid IMDb score\n",
    "rating_evolution = rating_evolution.dropna(subset=['Movie release date', 'imdb_score'])\n",
    "\n",
    "# Sort data by actress name and release date\n",
    "rating_evolution = rating_evolution.sort_values(by=['Actor name', 'Movie release date'])\n"
   ]
  },
  {
   "cell_type": "code",
   "execution_count": 30,
   "metadata": {},
   "outputs": [
    {
     "data": {
      "application/vnd.plotly.v1+json": {
       "config": {
        "plotlyServerURL": "https://plot.ly"
       },
       "data": [
        {
         "legendgroup": "Adrien Brody",
         "marker": {
          "color": "#636EFA",
          "size": 8,
          "symbol": "circle"
         },
         "mode": "markers",
         "name": "Adrien Brody",
         "showlegend": true,
         "type": "scatter",
         "x": [
          null
         ],
         "y": [
          null
         ]
        },
        {
         "legendgroup": "Anthony Hopkins",
         "marker": {
          "color": "#EF553B",
          "size": 8,
          "symbol": "circle"
         },
         "mode": "markers",
         "name": "Anthony Hopkins",
         "showlegend": true,
         "type": "scatter",
         "x": [
          null
         ],
         "y": [
          null
         ]
        },
        {
         "legendgroup": "Ben Kingsley",
         "marker": {
          "color": "#00CC96",
          "size": 8,
          "symbol": "circle"
         },
         "mode": "markers",
         "name": "Ben Kingsley",
         "showlegend": true,
         "type": "scatter",
         "x": [
          null
         ],
         "y": [
          null
         ]
        },
        {
         "legendgroup": "Charlize Theron",
         "marker": {
          "color": "#AB63FA",
          "size": 8,
          "symbol": "circle"
         },
         "mode": "markers",
         "name": "Charlize Theron",
         "showlegend": true,
         "type": "scatter",
         "x": [
          null
         ],
         "y": [
          null
         ]
        },
        {
         "legendgroup": "Colin Firth",
         "marker": {
          "color": "#FFA15A",
          "size": 8,
          "symbol": "circle"
         },
         "mode": "markers",
         "name": "Colin Firth",
         "showlegend": true,
         "type": "scatter",
         "x": [
          null
         ],
         "y": [
          null
         ]
        },
        {
         "legendgroup": "Daniel Day-Lewis",
         "marker": {
          "color": "#19D3F3",
          "size": 8,
          "symbol": "circle"
         },
         "mode": "markers",
         "name": "Daniel Day-Lewis",
         "showlegend": true,
         "type": "scatter",
         "x": [
          null
         ],
         "y": [
          null
         ]
        },
        {
         "legendgroup": "Denzel Washington",
         "marker": {
          "color": "#FF6692",
          "size": 8,
          "symbol": "circle"
         },
         "mode": "markers",
         "name": "Denzel Washington",
         "showlegend": true,
         "type": "scatter",
         "x": [
          null
         ],
         "y": [
          null
         ]
        },
        {
         "legendgroup": "Dustin Hoffman",
         "marker": {
          "color": "#B6E880",
          "size": 8,
          "symbol": "circle"
         },
         "mode": "markers",
         "name": "Dustin Hoffman",
         "showlegend": true,
         "type": "scatter",
         "x": [
          null
         ],
         "y": [
          null
         ]
        },
        {
         "legendgroup": "Emma Thompson",
         "marker": {
          "color": "#FF97FF",
          "size": 8,
          "symbol": "circle"
         },
         "mode": "markers",
         "name": "Emma Thompson",
         "showlegend": true,
         "type": "scatter",
         "x": [
          null
         ],
         "y": [
          null
         ]
        },
        {
         "legendgroup": "F. Murray Abraham",
         "marker": {
          "color": "#FECB52",
          "size": 8,
          "symbol": "circle"
         },
         "mode": "markers",
         "name": "F. Murray Abraham",
         "showlegend": true,
         "type": "scatter",
         "x": [
          null
         ],
         "y": [
          null
         ]
        },
        {
         "legendgroup": "Forest Whitaker",
         "marker": {
          "color": "#636EFA",
          "size": 8,
          "symbol": "circle"
         },
         "mode": "markers",
         "name": "Forest Whitaker",
         "showlegend": true,
         "type": "scatter",
         "x": [
          null
         ],
         "y": [
          null
         ]
        },
        {
         "legendgroup": "Geoffrey Rush",
         "marker": {
          "color": "#EF553B",
          "size": 8,
          "symbol": "circle"
         },
         "mode": "markers",
         "name": "Geoffrey Rush",
         "showlegend": true,
         "type": "scatter",
         "x": [
          null
         ],
         "y": [
          null
         ]
        },
        {
         "legendgroup": "Gwyneth Paltrow",
         "marker": {
          "color": "#00CC96",
          "size": 8,
          "symbol": "circle"
         },
         "mode": "markers",
         "name": "Gwyneth Paltrow",
         "showlegend": true,
         "type": "scatter",
         "x": [
          null
         ],
         "y": [
          null
         ]
        },
        {
         "legendgroup": "Halle Berry",
         "marker": {
          "color": "#AB63FA",
          "size": 8,
          "symbol": "circle"
         },
         "mode": "markers",
         "name": "Halle Berry",
         "showlegend": true,
         "type": "scatter",
         "x": [
          null
         ],
         "y": [
          null
         ]
        },
        {
         "legendgroup": "Helen Hunt",
         "marker": {
          "color": "#FFA15A",
          "size": 8,
          "symbol": "circle"
         },
         "mode": "markers",
         "name": "Helen Hunt",
         "showlegend": true,
         "type": "scatter",
         "x": [
          null
         ],
         "y": [
          null
         ]
        },
        {
         "legendgroup": "Hilary Swank",
         "marker": {
          "color": "#19D3F3",
          "size": 8,
          "symbol": "circle"
         },
         "mode": "markers",
         "name": "Hilary Swank",
         "showlegend": true,
         "type": "scatter",
         "x": [
          null
         ],
         "y": [
          null
         ]
        },
        {
         "legendgroup": "Holly Hunter",
         "marker": {
          "color": "#FF6692",
          "size": 8,
          "symbol": "circle"
         },
         "mode": "markers",
         "name": "Holly Hunter",
         "showlegend": true,
         "type": "scatter",
         "x": [
          null
         ],
         "y": [
          null
         ]
        },
        {
         "legendgroup": "Jack Nicholson",
         "marker": {
          "color": "#B6E880",
          "size": 8,
          "symbol": "circle"
         },
         "mode": "markers",
         "name": "Jack Nicholson",
         "showlegend": true,
         "type": "scatter",
         "x": [
          null
         ],
         "y": [
          null
         ]
        },
        {
         "legendgroup": "Jamie Foxx",
         "marker": {
          "color": "#FF97FF",
          "size": 8,
          "symbol": "circle"
         },
         "mode": "markers",
         "name": "Jamie Foxx",
         "showlegend": true,
         "type": "scatter",
         "x": [
          null
         ],
         "y": [
          null
         ]
        },
        {
         "legendgroup": "Jeff Bridges",
         "marker": {
          "color": "#FECB52",
          "size": 8,
          "symbol": "circle"
         },
         "mode": "markers",
         "name": "Jeff Bridges",
         "showlegend": true,
         "type": "scatter",
         "x": [
          null
         ],
         "y": [
          null
         ]
        },
        {
         "legendgroup": "Jodie Foster",
         "marker": {
          "color": "#636EFA",
          "size": 8,
          "symbol": "circle"
         },
         "mode": "markers",
         "name": "Jodie Foster",
         "showlegend": true,
         "type": "scatter",
         "x": [
          null
         ],
         "y": [
          null
         ]
        },
        {
         "legendgroup": "Julia Roberts",
         "marker": {
          "color": "#EF553B",
          "size": 8,
          "symbol": "circle"
         },
         "mode": "markers",
         "name": "Julia Roberts",
         "showlegend": true,
         "type": "scatter",
         "x": [
          null
         ],
         "y": [
          null
         ]
        },
        {
         "legendgroup": "Kate Winslet",
         "marker": {
          "color": "#00CC96",
          "size": 8,
          "symbol": "circle"
         },
         "mode": "markers",
         "name": "Kate Winslet",
         "showlegend": true,
         "type": "scatter",
         "x": [
          null
         ],
         "y": [
          null
         ]
        },
        {
         "legendgroup": "Kevin Spacey",
         "marker": {
          "color": "#AB63FA",
          "size": 8,
          "symbol": "circle"
         },
         "mode": "markers",
         "name": "Kevin Spacey",
         "showlegend": true,
         "type": "scatter",
         "x": [
          null
         ],
         "y": [
          null
         ]
        },
        {
         "legendgroup": "Meryl Streep",
         "marker": {
          "color": "#FFA15A",
          "size": 8,
          "symbol": "circle"
         },
         "mode": "markers",
         "name": "Meryl Streep",
         "showlegend": true,
         "type": "scatter",
         "x": [
          null
         ],
         "y": [
          null
         ]
        },
        {
         "legendgroup": "Michael Douglas",
         "marker": {
          "color": "#19D3F3",
          "size": 8,
          "symbol": "circle"
         },
         "mode": "markers",
         "name": "Michael Douglas",
         "showlegend": true,
         "type": "scatter",
         "x": [
          null
         ],
         "y": [
          null
         ]
        },
        {
         "legendgroup": "Natalie Portman",
         "marker": {
          "color": "#FF6692",
          "size": 8,
          "symbol": "circle"
         },
         "mode": "markers",
         "name": "Natalie Portman",
         "showlegend": true,
         "type": "scatter",
         "x": [
          null
         ],
         "y": [
          null
         ]
        },
        {
         "legendgroup": "Nicolas Cage",
         "marker": {
          "color": "#B6E880",
          "size": 8,
          "symbol": "circle"
         },
         "mode": "markers",
         "name": "Nicolas Cage",
         "showlegend": true,
         "type": "scatter",
         "x": [
          null
         ],
         "y": [
          null
         ]
        },
        {
         "legendgroup": "Nicole Kidman",
         "marker": {
          "color": "#FF97FF",
          "size": 8,
          "symbol": "circle"
         },
         "mode": "markers",
         "name": "Nicole Kidman",
         "showlegend": true,
         "type": "scatter",
         "x": [
          null
         ],
         "y": [
          null
         ]
        },
        {
         "legendgroup": "Paul Newman",
         "marker": {
          "color": "#FECB52",
          "size": 8,
          "symbol": "circle"
         },
         "mode": "markers",
         "name": "Paul Newman",
         "showlegend": true,
         "type": "scatter",
         "x": [
          null
         ],
         "y": [
          null
         ]
        },
        {
         "legendgroup": "Philip Seymour Hoffman",
         "marker": {
          "color": "#636EFA",
          "size": 8,
          "symbol": "circle"
         },
         "mode": "markers",
         "name": "Philip Seymour Hoffman",
         "showlegend": true,
         "type": "scatter",
         "x": [
          null
         ],
         "y": [
          null
         ]
        },
        {
         "legendgroup": "Reese Witherspoon",
         "marker": {
          "color": "#EF553B",
          "size": 8,
          "symbol": "circle"
         },
         "mode": "markers",
         "name": "Reese Witherspoon",
         "showlegend": true,
         "type": "scatter",
         "x": [
          null
         ],
         "y": [
          null
         ]
        },
        {
         "legendgroup": "Robert De Niro",
         "marker": {
          "color": "#00CC96",
          "size": 8,
          "symbol": "circle"
         },
         "mode": "markers",
         "name": "Robert De Niro",
         "showlegend": true,
         "type": "scatter",
         "x": [
          null
         ],
         "y": [
          null
         ]
        },
        {
         "legendgroup": "Russell Crowe",
         "marker": {
          "color": "#AB63FA",
          "size": 8,
          "symbol": "circle"
         },
         "mode": "markers",
         "name": "Russell Crowe",
         "showlegend": true,
         "type": "scatter",
         "x": [
          null
         ],
         "y": [
          null
         ]
        },
        {
         "legendgroup": "Sandra Bullock",
         "marker": {
          "color": "#FFA15A",
          "size": 8,
          "symbol": "circle"
         },
         "mode": "markers",
         "name": "Sandra Bullock",
         "showlegend": true,
         "type": "scatter",
         "x": [
          null
         ],
         "y": [
          null
         ]
        },
        {
         "legendgroup": "Sean Penn",
         "marker": {
          "color": "#19D3F3",
          "size": 8,
          "symbol": "circle"
         },
         "mode": "markers",
         "name": "Sean Penn",
         "showlegend": true,
         "type": "scatter",
         "x": [
          null
         ],
         "y": [
          null
         ]
        },
        {
         "legendgroup": "Sissy Spacek",
         "marker": {
          "color": "#FF6692",
          "size": 8,
          "symbol": "circle"
         },
         "mode": "markers",
         "name": "Sissy Spacek",
         "showlegend": true,
         "type": "scatter",
         "x": [
          null
         ],
         "y": [
          null
         ]
        },
        {
         "legendgroup": "Susan Sarandon",
         "marker": {
          "color": "#B6E880",
          "size": 8,
          "symbol": "circle"
         },
         "mode": "markers",
         "name": "Susan Sarandon",
         "showlegend": true,
         "type": "scatter",
         "x": [
          null
         ],
         "y": [
          null
         ]
        },
        {
         "legendgroup": "Tom Hanks",
         "marker": {
          "color": "#FF97FF",
          "size": 8,
          "symbol": "circle"
         },
         "mode": "markers",
         "name": "Tom Hanks",
         "showlegend": true,
         "type": "scatter",
         "x": [
          null
         ],
         "y": [
          null
         ]
        },
        {
         "hoverinfo": "text",
         "hovertext": [
          "Name: Adrien Brody<br>Movie: New York Stories<br>IMDb Score: 6.4<br>Release Date: 1989<br>Academy Award for Best Actor/Actress: No",
          "Name: Adrien Brody<br>Movie: The Last Time I Committed Suicide<br>IMDb Score: 5.8<br>Release Date: 1997<br>Academy Award for Best Actor/Actress: No",
          "Name: Adrien Brody<br>Movie: The Thin Red Line<br>IMDb Score: 7.6<br>Release Date: 1998<br>Academy Award for Best Actor/Actress: No",
          "Name: Adrien Brody<br>Movie: Summer of Sam<br>IMDb Score: 6.6<br>Release Date: 1999<br>Academy Award for Best Actor/Actress: No",
          "Name: Adrien Brody<br>Movie: The Pianist<br>IMDb Score: 8.5<br>Release Date: 2002<br>Academy Award for Best Actor/Actress: Yes",
          "Name: Adrien Brody<br>Movie: The Singing Detective<br>IMDb Score: 5.6<br>Release Date: 2003<br>Academy Award for Best Actor/Actress: No",
          "Name: Adrien Brody<br>Movie: The Village<br>IMDb Score: 6.5<br>Release Date: 2004<br>Academy Award for Best Actor/Actress: No",
          "Name: Adrien Brody<br>Movie: King Kong<br>IMDb Score: 7.2<br>Release Date: 2005<br>Academy Award for Best Actor/Actress: No",
          "Name: Adrien Brody<br>Movie: King Kong<br>IMDb Score: 7.2<br>Release Date: 2005<br>Academy Award for Best Actor/Actress: No",
          "Name: Adrien Brody<br>Movie: King Kong<br>IMDb Score: 7.2<br>Release Date: 2005<br>Academy Award for Best Actor/Actress: No",
          "Name: Adrien Brody<br>Movie: The Jacket<br>IMDb Score: 7.1<br>Release Date: 2005<br>Academy Award for Best Actor/Actress: No",
          "Name: Adrien Brody<br>Movie: The Brothers Bloom<br>IMDb Score: 6.9<br>Release Date: 2008<br>Academy Award for Best Actor/Actress: No",
          "Name: Adrien Brody<br>Movie: Cadillac Records<br>IMDb Score: 7.0<br>Release Date: 2008<br>Academy Award for Best Actor/Actress: No",
          "Name: Adrien Brody<br>Movie: Fantastic Mr. Fox<br>IMDb Score: 7.8<br>Release Date: 2009<br>Academy Award for Best Actor/Actress: No",
          "Name: Adrien Brody<br>Movie: Splice<br>IMDb Score: 5.8<br>Release Date: 2009<br>Academy Award for Best Actor/Actress: No",
          "Name: Adrien Brody<br>Movie: Predators<br>IMDb Score: 6.4<br>Release Date: 2010<br>Academy Award for Best Actor/Actress: No",
          "Name: Adrien Brody<br>Movie: Midnight in Paris<br>IMDb Score: 7.7<br>Release Date: 2011<br>Academy Award for Best Actor/Actress: No"
         ],
         "legendgroup": "Adrien Brody",
         "marker": {
          "color": "#636EFA",
          "size": [
           8,
           8,
           8,
           8,
           15,
           8,
           8,
           8,
           8,
           8,
           8,
           8,
           8,
           8,
           8,
           8,
           8
          ],
          "symbol": [
           "circle",
           "circle",
           "circle",
           "circle",
           "star",
           "circle",
           "circle",
           "circle",
           "circle",
           "circle",
           "circle",
           "circle",
           "circle",
           "circle",
           "circle",
           "circle",
           "circle"
          ]
         },
         "mode": "markers",
         "name": "Adrien Brody",
         "showlegend": false,
         "type": "scatter",
         "x": [
          1989,
          1997,
          1998,
          1999,
          2002,
          2003,
          2004,
          2005,
          2005,
          2005,
          2005,
          2008,
          2008,
          2009,
          2009,
          2010,
          2011
         ],
         "y": [
          6.4,
          5.8,
          7.6,
          6.6,
          8.5,
          5.6,
          6.5,
          7.2,
          7.2,
          7.2,
          7.1,
          6.9,
          7,
          7.8,
          5.8,
          6.4,
          7.7
         ]
        },
        {
         "hoverinfo": "text",
         "hovertext": [
          "Name: Anthony Hopkins<br>Movie: The Elephant Man<br>IMDb Score: 8.2<br>Release Date: 1980<br>Academy Award for Best Actor/Actress: No",
          "Name: Anthony Hopkins<br>Movie: The Bounty<br>IMDb Score: 7.0<br>Release Date: 1984<br>Academy Award for Best Actor/Actress: No",
          "Name: Anthony Hopkins<br>Movie: The Silence of the Lambs<br>IMDb Score: 8.6<br>Release Date: 1991<br>Academy Award for Best Actor/Actress: Yes",
          "Name: Anthony Hopkins<br>Movie: Howards End<br>IMDb Score: 7.5<br>Release Date: 1992<br>Academy Award for Best Actor/Actress: No",
          "Name: Anthony Hopkins<br>Movie: Bram Stoker's Dracula<br>IMDb Score: 7.5<br>Release Date: 1992<br>Academy Award for Best Actor/Actress: No",
          "Name: Anthony Hopkins<br>Movie: Shadowlands<br>IMDb Score: 7.4<br>Release Date: 1993<br>Academy Award for Best Actor/Actress: No",
          "Name: Anthony Hopkins<br>Movie: The Remains of the Day<br>IMDb Score: 7.9<br>Release Date: 1993<br>Academy Award for Best Actor/Actress: No",
          "Name: Anthony Hopkins<br>Movie: Legends of the Fall<br>IMDb Score: 7.5<br>Release Date: 1994<br>Academy Award for Best Actor/Actress: No",
          "Name: Anthony Hopkins<br>Movie: Nixon<br>IMDb Score: 7.1<br>Release Date: 1995<br>Academy Award for Best Actor/Actress: No",
          "Name: Anthony Hopkins<br>Movie: Amistad<br>IMDb Score: 7.2<br>Release Date: 1997<br>Academy Award for Best Actor/Actress: No",
          "Name: Anthony Hopkins<br>Movie: The Edge<br>IMDb Score: 6.9<br>Release Date: 1997<br>Academy Award for Best Actor/Actress: No",
          "Name: Anthony Hopkins<br>Movie: Meet Joe Black<br>IMDb Score: 7.1<br>Release Date: 1998<br>Academy Award for Best Actor/Actress: No",
          "Name: Anthony Hopkins<br>Movie: The Mask of Zorro<br>IMDb Score: 6.7<br>Release Date: 1998<br>Academy Award for Best Actor/Actress: No",
          "Name: Anthony Hopkins<br>Movie: The Mask of Zorro<br>IMDb Score: 6.7<br>Release Date: 1998<br>Academy Award for Best Actor/Actress: No",
          "Name: Anthony Hopkins<br>Movie: Instinct<br>IMDb Score: 6.5<br>Release Date: 1999<br>Academy Award for Best Actor/Actress: No",
          "Name: Anthony Hopkins<br>Movie: Mission: Impossible II<br>IMDb Score: 6.1<br>Release Date: 2000<br>Academy Award for Best Actor/Actress: No",
          "Name: Anthony Hopkins<br>Movie: Hearts in Atlantis<br>IMDb Score: 6.9<br>Release Date: 2001<br>Academy Award for Best Actor/Actress: No",
          "Name: Anthony Hopkins<br>Movie: Red Dragon<br>IMDb Score: 7.2<br>Release Date: 2002<br>Academy Award for Best Actor/Actress: No",
          "Name: Anthony Hopkins<br>Movie: Bad Company<br>IMDb Score: 5.6<br>Release Date: 2002<br>Academy Award for Best Actor/Actress: No",
          "Name: Anthony Hopkins<br>Movie: Alexander<br>IMDb Score: 5.5<br>Release Date: 2004<br>Academy Award for Best Actor/Actress: No",
          "Name: Anthony Hopkins<br>Movie: The World's Fastest Indian<br>IMDb Score: 7.9<br>Release Date: 2005<br>Academy Award for Best Actor/Actress: No",
          "Name: Anthony Hopkins<br>Movie: All the King's Men<br>IMDb Score: 6.2<br>Release Date: 2006<br>Academy Award for Best Actor/Actress: No",
          "Name: Anthony Hopkins<br>Movie: Bobby<br>IMDb Score: 7.0<br>Release Date: 2006<br>Academy Award for Best Actor/Actress: No",
          "Name: Anthony Hopkins<br>Movie: Beowulf<br>IMDb Score: 6.3<br>Release Date: 2007<br>Academy Award for Best Actor/Actress: No",
          "Name: Anthony Hopkins<br>Movie: The Wolfman<br>IMDb Score: 5.8<br>Release Date: 2010<br>Academy Award for Best Actor/Actress: No",
          "Name: Anthony Hopkins<br>Movie: You Will Meet a Tall Dark Stranger<br>IMDb Score: 6.3<br>Release Date: 2010<br>Academy Award for Best Actor/Actress: No",
          "Name: Anthony Hopkins<br>Movie: Thor<br>IMDb Score: 7.0<br>Release Date: 2011<br>Academy Award for Best Actor/Actress: No",
          "Name: Anthony Hopkins<br>Movie: The Rite<br>IMDb Score: 6.0<br>Release Date: 2011<br>Academy Award for Best Actor/Actress: No",
          "Name: Anthony Hopkins<br>Movie: Thor: The Dark World<br>IMDb Score: 7.1<br>Release Date: 2013<br>Academy Award for Best Actor/Actress: No",
          "Name: Anthony Hopkins<br>Movie: Noah<br>IMDb Score: 5.8<br>Release Date: 2014<br>Academy Award for Best Actor/Actress: No"
         ],
         "legendgroup": "Anthony Hopkins",
         "marker": {
          "color": "#EF553B",
          "size": [
           8,
           8,
           15,
           8,
           8,
           8,
           8,
           8,
           8,
           8,
           8,
           8,
           8,
           8,
           8,
           8,
           8,
           8,
           8,
           8,
           8,
           8,
           8,
           8,
           8,
           8,
           8,
           8,
           8,
           8
          ],
          "symbol": [
           "circle",
           "circle",
           "star",
           "circle",
           "circle",
           "circle",
           "circle",
           "circle",
           "circle",
           "circle",
           "circle",
           "circle",
           "circle",
           "circle",
           "circle",
           "circle",
           "circle",
           "circle",
           "circle",
           "circle",
           "circle",
           "circle",
           "circle",
           "circle",
           "circle",
           "circle",
           "circle",
           "circle",
           "circle",
           "circle"
          ]
         },
         "mode": "markers",
         "name": "Anthony Hopkins",
         "showlegend": false,
         "type": "scatter",
         "x": [
          1980,
          1984,
          1991,
          1992,
          1992,
          1993,
          1993,
          1994,
          1995,
          1997,
          1997,
          1998,
          1998,
          1998,
          1999,
          2000,
          2001,
          2002,
          2002,
          2004,
          2005,
          2006,
          2006,
          2007,
          2010,
          2010,
          2011,
          2011,
          2013,
          2014
         ],
         "y": [
          8.2,
          7,
          8.6,
          7.5,
          7.5,
          7.4,
          7.9,
          7.5,
          7.1,
          7.2,
          6.9,
          7.1,
          6.7,
          6.7,
          6.5,
          6.1,
          6.9,
          7.2,
          5.6,
          5.5,
          7.9,
          6.2,
          7,
          6.3,
          5.8,
          6.3,
          7,
          6,
          7.1,
          5.8
         ]
        },
        {
         "hoverinfo": "text",
         "hovertext": [
          "Name: Ben Kingsley<br>Movie: Gandhi<br>IMDb Score: 8.1<br>Release Date: 1982<br>Academy Award for Best Actor/Actress: Yes",
          "Name: Ben Kingsley<br>Movie: Maurice<br>IMDb Score: 7.8<br>Release Date: 1987<br>Academy Award for Best Actor/Actress: No",
          "Name: Ben Kingsley<br>Movie: Schindler's List<br>IMDb Score: 8.9<br>Release Date: 1993<br>Academy Award for Best Actor/Actress: No",
          "Name: Ben Kingsley<br>Movie: Species<br>IMDb Score: 5.8<br>Release Date: 1995<br>Academy Award for Best Actor/Actress: No",
          "Name: Ben Kingsley<br>Movie: What Planet Are You From?<br>IMDb Score: 5.6<br>Release Date: 2000<br>Academy Award for Best Actor/Actress: No",
          "Name: Ben Kingsley<br>Movie: Sexy Beast<br>IMDb Score: 7.3<br>Release Date: 2000<br>Academy Award for Best Actor/Actress: No",
          "Name: Ben Kingsley<br>Movie: A.I. Artificial Intelligence<br>IMDb Score: 7.1<br>Release Date: 2001<br>Academy Award for Best Actor/Actress: No",
          "Name: Ben Kingsley<br>Movie: Tuck Everlasting<br>IMDb Score: 6.7<br>Release Date: 2002<br>Academy Award for Best Actor/Actress: No",
          "Name: Ben Kingsley<br>Movie: House of Sand and Fog<br>IMDb Score: 7.6<br>Release Date: 2003<br>Academy Award for Best Actor/Actress: No",
          "Name: Ben Kingsley<br>Movie: Suspect Zero<br>IMDb Score: 5.9<br>Release Date: 2004<br>Academy Award for Best Actor/Actress: No",
          "Name: Ben Kingsley<br>Movie: Oliver Twist<br>IMDb Score: 6.9<br>Release Date: 2005<br>Academy Award for Best Actor/Actress: No",
          "Name: Ben Kingsley<br>Movie: BloodRayne<br>IMDb Score: 2.9<br>Release Date: 2005<br>Academy Award for Best Actor/Actress: No",
          "Name: Ben Kingsley<br>Movie: A Sound of Thunder<br>IMDb Score: 4.2<br>Release Date: 2005<br>Academy Award for Best Actor/Actress: No",
          "Name: Ben Kingsley<br>Movie: The Last Legion<br>IMDb Score: 5.4<br>Release Date: 2007<br>Academy Award for Best Actor/Actress: No",
          "Name: Ben Kingsley<br>Movie: The Last Legion<br>IMDb Score: 5.4<br>Release Date: 2007<br>Academy Award for Best Actor/Actress: No",
          "Name: Ben Kingsley<br>Movie: You Kill Me<br>IMDb Score: 6.5<br>Release Date: 2007<br>Academy Award for Best Actor/Actress: No",
          "Name: Ben Kingsley<br>Movie: The Wackness<br>IMDb Score: 7.0<br>Release Date: 2008<br>Academy Award for Best Actor/Actress: No",
          "Name: Ben Kingsley<br>Movie: The Love Guru<br>IMDb Score: 3.8<br>Release Date: 2008<br>Academy Award for Best Actor/Actress: No",
          "Name: Ben Kingsley<br>Movie: Transsiberian<br>IMDb Score: 6.7<br>Release Date: 2008<br>Academy Award for Best Actor/Actress: No",
          "Name: Ben Kingsley<br>Movie: Shutter Island<br>IMDb Score: 8.1<br>Release Date: 2010<br>Academy Award for Best Actor/Actress: No",
          "Name: Ben Kingsley<br>Movie: Prince of Persia: The Sands of Time<br>IMDb Score: 6.6<br>Release Date: 2010<br>Academy Award for Best Actor/Actress: No",
          "Name: Ben Kingsley<br>Movie: Hugo<br>IMDb Score: 7.5<br>Release Date: 2011<br>Academy Award for Best Actor/Actress: No",
          "Name: Ben Kingsley<br>Movie: The Dictator<br>IMDb Score: 6.4<br>Release Date: 2012<br>Academy Award for Best Actor/Actress: No",
          "Name: Ben Kingsley<br>Movie: Ender's Game<br>IMDb Score: 6.7<br>Release Date: 2013<br>Academy Award for Best Actor/Actress: No",
          "Name: Ben Kingsley<br>Movie: Iron Man 3<br>IMDb Score: 7.2<br>Release Date: 2013<br>Academy Award for Best Actor/Actress: No"
         ],
         "legendgroup": "Ben Kingsley",
         "marker": {
          "color": "#00CC96",
          "size": [
           15,
           8,
           8,
           8,
           8,
           8,
           8,
           8,
           8,
           8,
           8,
           8,
           8,
           8,
           8,
           8,
           8,
           8,
           8,
           8,
           8,
           8,
           8,
           8,
           8
          ],
          "symbol": [
           "star",
           "circle",
           "circle",
           "circle",
           "circle",
           "circle",
           "circle",
           "circle",
           "circle",
           "circle",
           "circle",
           "circle",
           "circle",
           "circle",
           "circle",
           "circle",
           "circle",
           "circle",
           "circle",
           "circle",
           "circle",
           "circle",
           "circle",
           "circle",
           "circle"
          ]
         },
         "mode": "markers",
         "name": "Ben Kingsley",
         "showlegend": false,
         "type": "scatter",
         "x": [
          1982,
          1987,
          1993,
          1995,
          2000,
          2000,
          2001,
          2002,
          2003,
          2004,
          2005,
          2005,
          2005,
          2007,
          2007,
          2007,
          2008,
          2008,
          2008,
          2010,
          2010,
          2011,
          2012,
          2013,
          2013
         ],
         "y": [
          8.1,
          7.8,
          8.9,
          5.8,
          5.6,
          7.3,
          7.1,
          6.7,
          7.6,
          5.9,
          6.9,
          2.9,
          4.2,
          5.4,
          5.4,
          6.5,
          7,
          3.8,
          6.7,
          8.1,
          6.6,
          7.5,
          6.4,
          6.7,
          7.2
         ]
        },
        {
         "hoverinfo": "text",
         "hovertext": [
          "Name: Charlize Theron<br>Movie: That Thing You Do!<br>IMDb Score: 6.9<br>Release Date: 1996<br>Academy Award for Best Actor/Actress: No",
          "Name: Charlize Theron<br>Movie: The Devil's Advocate<br>IMDb Score: 7.5<br>Release Date: 1997<br>Academy Award for Best Actor/Actress: No",
          "Name: Charlize Theron<br>Movie: Mighty Joe Young<br>IMDb Score: 5.6<br>Release Date: 1998<br>Academy Award for Best Actor/Actress: No",
          "Name: Charlize Theron<br>Movie: Celebrity<br>IMDb Score: 6.3<br>Release Date: 1998<br>Academy Award for Best Actor/Actress: No",
          "Name: Charlize Theron<br>Movie: The Astronaut's Wife<br>IMDb Score: 5.3<br>Release Date: 1999<br>Academy Award for Best Actor/Actress: No",
          "Name: Charlize Theron<br>Movie: The Astronaut's Wife<br>IMDb Score: 5.3<br>Release Date: 1999<br>Academy Award for Best Actor/Actress: No",
          "Name: Charlize Theron<br>Movie: Men of Honor<br>IMDb Score: 7.2<br>Release Date: 2000<br>Academy Award for Best Actor/Actress: No",
          "Name: Charlize Theron<br>Movie: The Legend of Bagger Vance<br>IMDb Score: 6.7<br>Release Date: 2000<br>Academy Award for Best Actor/Actress: No",
          "Name: Charlize Theron<br>Movie: The Yards<br>IMDb Score: 6.4<br>Release Date: 2000<br>Academy Award for Best Actor/Actress: No",
          "Name: Charlize Theron<br>Movie: Reindeer Games<br>IMDb Score: 5.7<br>Release Date: 2000<br>Academy Award for Best Actor/Actress: No",
          "Name: Charlize Theron<br>Movie: 15 Minutes<br>IMDb Score: 6.1<br>Release Date: 2001<br>Academy Award for Best Actor/Actress: No",
          "Name: Charlize Theron<br>Movie: Sweet November<br>IMDb Score: 6.7<br>Release Date: 2001<br>Academy Award for Best Actor/Actress: No",
          "Name: Charlize Theron<br>Movie: The Curse of the Jade Scorpion<br>IMDb Score: 6.8<br>Release Date: 2001<br>Academy Award for Best Actor/Actress: No",
          "Name: Charlize Theron<br>Movie: Monster<br>IMDb Score: 7.3<br>Release Date: 2003<br>Academy Award for Best Actor/Actress: Yes",
          "Name: Charlize Theron<br>Movie: The Italian Job<br>IMDb Score: 7.0<br>Release Date: 2003<br>Academy Award for Best Actor/Actress: No",
          "Name: Charlize Theron<br>Movie: Æon Flux<br>IMDb Score: 5.5<br>Release Date: 2005<br>Academy Award for Best Actor/Actress: No",
          "Name: Charlize Theron<br>Movie: North Country<br>IMDb Score: 7.3<br>Release Date: 2005<br>Academy Award for Best Actor/Actress: No",
          "Name: Charlize Theron<br>Movie: In the Valley of Elah<br>IMDb Score: 7.2<br>Release Date: 2007<br>Academy Award for Best Actor/Actress: No",
          "Name: Charlize Theron<br>Movie: Hancock<br>IMDb Score: 6.4<br>Release Date: 2008<br>Academy Award for Best Actor/Actress: No",
          "Name: Charlize Theron<br>Movie: The Road<br>IMDb Score: 7.3<br>Release Date: 2009<br>Academy Award for Best Actor/Actress: No",
          "Name: Charlize Theron<br>Movie: Astro Boy<br>IMDb Score: 6.3<br>Release Date: 2009<br>Academy Award for Best Actor/Actress: No",
          "Name: Charlize Theron<br>Movie: Young Adult<br>IMDb Score: 6.3<br>Release Date: 2011<br>Academy Award for Best Actor/Actress: No",
          "Name: Charlize Theron<br>Movie: Snow White and the Huntsman<br>IMDb Score: 6.1<br>Release Date: 2012<br>Academy Award for Best Actor/Actress: No",
          "Name: Charlize Theron<br>Movie: Prometheus<br>IMDb Score: 7.0<br>Release Date: 2012<br>Academy Award for Best Actor/Actress: No"
         ],
         "legendgroup": "Charlize Theron",
         "marker": {
          "color": "#AB63FA",
          "size": [
           8,
           8,
           8,
           8,
           8,
           8,
           8,
           8,
           8,
           8,
           8,
           8,
           8,
           15,
           8,
           8,
           8,
           8,
           8,
           8,
           8,
           8,
           8,
           8
          ],
          "symbol": [
           "circle",
           "circle",
           "circle",
           "circle",
           "circle",
           "circle",
           "circle",
           "circle",
           "circle",
           "circle",
           "circle",
           "circle",
           "circle",
           "star",
           "circle",
           "circle",
           "circle",
           "circle",
           "circle",
           "circle",
           "circle",
           "circle",
           "circle",
           "circle"
          ]
         },
         "mode": "markers",
         "name": "Charlize Theron",
         "showlegend": false,
         "type": "scatter",
         "x": [
          1996,
          1997,
          1998,
          1998,
          1999,
          1999,
          2000,
          2000,
          2000,
          2000,
          2001,
          2001,
          2001,
          2003,
          2003,
          2005,
          2005,
          2007,
          2008,
          2009,
          2009,
          2011,
          2012,
          2012
         ],
         "y": [
          6.9,
          7.5,
          5.6,
          6.3,
          5.3,
          5.3,
          7.2,
          6.7,
          6.4,
          5.7,
          6.1,
          6.7,
          6.8,
          7.3,
          7,
          5.5,
          7.3,
          7.2,
          6.4,
          7.3,
          6.3,
          6.3,
          6.1,
          7
         ]
        },
        {
         "hoverinfo": "text",
         "hovertext": [
          "Name: Colin Firth<br>Movie: The English Patient<br>IMDb Score: 7.4<br>Release Date: 1996<br>Academy Award for Best Actor/Actress: No",
          "Name: Colin Firth<br>Movie: Shakespeare in Love<br>IMDb Score: 7.2<br>Release Date: 1998<br>Academy Award for Best Actor/Actress: No",
          "Name: Colin Firth<br>Movie: Bridget Jones's Diary<br>IMDb Score: 6.7<br>Release Date: 2001<br>Academy Award for Best Actor/Actress: No",
          "Name: Colin Firth<br>Movie: The Importance of Being Earnest<br>IMDb Score: 6.9<br>Release Date: 2002<br>Academy Award for Best Actor/Actress: No",
          "Name: Colin Firth<br>Movie: Girl with a Pearl Earring<br>IMDb Score: 7.0<br>Release Date: 2003<br>Academy Award for Best Actor/Actress: No",
          "Name: Colin Firth<br>Movie: What a Girl Wants<br>IMDb Score: 5.8<br>Release Date: 2003<br>Academy Award for Best Actor/Actress: No",
          "Name: Colin Firth<br>Movie: Love Actually<br>IMDb Score: 7.7<br>Release Date: 2003<br>Academy Award for Best Actor/Actress: No",
          "Name: Colin Firth<br>Movie: Bridget Jones: The Edge of Reason<br>IMDb Score: 5.9<br>Release Date: 2004<br>Academy Award for Best Actor/Actress: No",
          "Name: Colin Firth<br>Movie: Where the Truth Lies<br>IMDb Score: 6.5<br>Release Date: 2005<br>Academy Award for Best Actor/Actress: No",
          "Name: Colin Firth<br>Movie: Nanny McPhee<br>IMDb Score: 6.6<br>Release Date: 2005<br>Academy Award for Best Actor/Actress: No",
          "Name: Colin Firth<br>Movie: When Did You Last See Your Father?<br>IMDb Score: 6.9<br>Release Date: 2007<br>Academy Award for Best Actor/Actress: No",
          "Name: Colin Firth<br>Movie: St. Trinian's<br>IMDb Score: 5.8<br>Release Date: 2007<br>Academy Award for Best Actor/Actress: No",
          "Name: Colin Firth<br>Movie: The Last Legion<br>IMDb Score: 5.4<br>Release Date: 2007<br>Academy Award for Best Actor/Actress: No",
          "Name: Colin Firth<br>Movie: Mamma Mia!<br>IMDb Score: 6.3<br>Release Date: 2008<br>Academy Award for Best Actor/Actress: No",
          "Name: Colin Firth<br>Movie: A Single Man<br>IMDb Score: 7.6<br>Release Date: 2009<br>Academy Award for Best Actor/Actress: No",
          "Name: Colin Firth<br>Movie: A Christmas Carol<br>IMDb Score: 6.8<br>Release Date: 2009<br>Academy Award for Best Actor/Actress: No",
          "Name: Colin Firth<br>Movie: The King's Speech<br>IMDb Score: 8.0<br>Release Date: 2010<br>Academy Award for Best Actor/Actress: Yes",
          "Name: Colin Firth<br>Movie: The Railway Man<br>IMDb Score: 7.1<br>Release Date: 2013<br>Academy Award for Best Actor/Actress: No"
         ],
         "legendgroup": "Colin Firth",
         "marker": {
          "color": "#FFA15A",
          "size": [
           8,
           8,
           8,
           8,
           8,
           8,
           8,
           8,
           8,
           8,
           8,
           8,
           8,
           8,
           8,
           8,
           15,
           8
          ],
          "symbol": [
           "circle",
           "circle",
           "circle",
           "circle",
           "circle",
           "circle",
           "circle",
           "circle",
           "circle",
           "circle",
           "circle",
           "circle",
           "circle",
           "circle",
           "circle",
           "circle",
           "star",
           "circle"
          ]
         },
         "mode": "markers",
         "name": "Colin Firth",
         "showlegend": false,
         "type": "scatter",
         "x": [
          1996,
          1998,
          2001,
          2002,
          2003,
          2003,
          2003,
          2004,
          2005,
          2005,
          2007,
          2007,
          2007,
          2008,
          2009,
          2009,
          2010,
          2013
         ],
         "y": [
          7.4,
          7.2,
          6.7,
          6.9,
          7,
          5.8,
          7.7,
          5.9,
          6.5,
          6.6,
          6.9,
          5.8,
          5.4,
          6.3,
          7.6,
          6.8,
          8,
          7.1
         ]
        },
        {
         "hoverinfo": "text",
         "hovertext": [
          "Name: Daniel Day-Lewis<br>Movie: Gandhi<br>IMDb Score: 8.1<br>Release Date: 1982<br>Academy Award for Best Actor/Actress: No",
          "Name: Daniel Day-Lewis<br>Movie: The Bounty<br>IMDb Score: 7.0<br>Release Date: 1984<br>Academy Award for Best Actor/Actress: No",
          "Name: Daniel Day-Lewis<br>Movie: My Beautiful Laundrette<br>IMDb Score: 6.9<br>Release Date: 1985<br>Academy Award for Best Actor/Actress: No",
          "Name: Daniel Day-Lewis<br>Movie: A Room with a View<br>IMDb Score: 7.4<br>Release Date: 1985<br>Academy Award for Best Actor/Actress: No",
          "Name: Daniel Day-Lewis<br>Movie: The Last of the Mohicans<br>IMDb Score: 7.8<br>Release Date: 1992<br>Academy Award for Best Actor/Actress: No",
          "Name: Daniel Day-Lewis<br>Movie: The Age of Innocence<br>IMDb Score: 7.2<br>Release Date: 1993<br>Academy Award for Best Actor/Actress: No",
          "Name: Daniel Day-Lewis<br>Movie: Gangs of New York<br>IMDb Score: 7.5<br>Release Date: 2002<br>Academy Award for Best Actor/Actress: No",
          "Name: Daniel Day-Lewis<br>Movie: The Ballad of Jack and Rose<br>IMDb Score: 6.7<br>Release Date: 2005<br>Academy Award for Best Actor/Actress: No",
          "Name: Daniel Day-Lewis<br>Movie: There Will Be Blood<br>IMDb Score: 8.1<br>Release Date: 2007<br>Academy Award for Best Actor/Actress: Yes",
          "Name: Daniel Day-Lewis<br>Movie: Nine<br>IMDb Score: 5.8<br>Release Date: 2009<br>Academy Award for Best Actor/Actress: No",
          "Name: Daniel Day-Lewis<br>Movie: Lincoln<br>IMDb Score: 7.4<br>Release Date: 2012<br>Academy Award for Best Actor/Actress: Yes"
         ],
         "legendgroup": "Daniel Day-Lewis",
         "marker": {
          "color": "#19D3F3",
          "size": [
           8,
           8,
           8,
           8,
           8,
           8,
           8,
           8,
           15,
           8,
           15
          ],
          "symbol": [
           "circle",
           "circle",
           "circle",
           "circle",
           "circle",
           "circle",
           "circle",
           "circle",
           "star",
           "circle",
           "star"
          ]
         },
         "mode": "markers",
         "name": "Daniel Day-Lewis",
         "showlegend": false,
         "type": "scatter",
         "x": [
          1982,
          1984,
          1985,
          1985,
          1992,
          1993,
          2002,
          2005,
          2007,
          2009,
          2012
         ],
         "y": [
          8.1,
          7,
          6.9,
          7.4,
          7.8,
          7.2,
          7.5,
          6.7,
          8.1,
          5.8,
          7.4
         ]
        },
        {
         "hoverinfo": "text",
         "hovertext": [
          "Name: Denzel Washington<br>Movie: Cry Freedom<br>IMDb Score: 7.5<br>Release Date: 1987<br>Academy Award for Best Actor/Actress: No",
          "Name: Denzel Washington<br>Movie: Mo' Better Blues<br>IMDb Score: 6.5<br>Release Date: 1990<br>Academy Award for Best Actor/Actress: No",
          "Name: Denzel Washington<br>Movie: Malcolm X<br>IMDb Score: 7.7<br>Release Date: 1992<br>Academy Award for Best Actor/Actress: No",
          "Name: Denzel Washington<br>Movie: Much Ado About Nothing<br>IMDb Score: 7.4<br>Release Date: 1993<br>Academy Award for Best Actor/Actress: No",
          "Name: Denzel Washington<br>Movie: Crimson Tide<br>IMDb Score: 7.3<br>Release Date: 1995<br>Academy Award for Best Actor/Actress: No",
          "Name: Denzel Washington<br>Movie: Virtuosity<br>IMDb Score: 5.5<br>Release Date: 1995<br>Academy Award for Best Actor/Actress: No",
          "Name: Denzel Washington<br>Movie: Courage Under Fire<br>IMDb Score: 6.6<br>Release Date: 1996<br>Academy Award for Best Actor/Actress: No",
          "Name: Denzel Washington<br>Movie: The Siege<br>IMDb Score: 6.3<br>Release Date: 1998<br>Academy Award for Best Actor/Actress: No",
          "Name: Denzel Washington<br>Movie: He Got Game<br>IMDb Score: 6.9<br>Release Date: 1998<br>Academy Award for Best Actor/Actress: No",
          "Name: Denzel Washington<br>Movie: The Hurricane<br>IMDb Score: 7.6<br>Release Date: 1999<br>Academy Award for Best Actor/Actress: No",
          "Name: Denzel Washington<br>Movie: The Bone Collector<br>IMDb Score: 6.7<br>Release Date: 1999<br>Academy Award for Best Actor/Actress: No",
          "Name: Denzel Washington<br>Movie: Remember the Titans<br>IMDb Score: 7.8<br>Release Date: 2000<br>Academy Award for Best Actor/Actress: No",
          "Name: Denzel Washington<br>Movie: Training Day<br>IMDb Score: 7.7<br>Release Date: 2001<br>Academy Award for Best Actor/Actress: Yes",
          "Name: Denzel Washington<br>Movie: John Q<br>IMDb Score: 7.0<br>Release Date: 2002<br>Academy Award for Best Actor/Actress: No",
          "Name: Denzel Washington<br>Movie: Antwone Fisher<br>IMDb Score: 7.3<br>Release Date: 2002<br>Academy Award for Best Actor/Actress: No",
          "Name: Denzel Washington<br>Movie: Out of Time<br>IMDb Score: 6.5<br>Release Date: 2003<br>Academy Award for Best Actor/Actress: No",
          "Name: Denzel Washington<br>Movie: The Manchurian Candidate<br>IMDb Score: 6.6<br>Release Date: 2004<br>Academy Award for Best Actor/Actress: No",
          "Name: Denzel Washington<br>Movie: Man on Fire<br>IMDb Score: 7.7<br>Release Date: 2004<br>Academy Award for Best Actor/Actress: No",
          "Name: Denzel Washington<br>Movie: Inside Man<br>IMDb Score: 7.6<br>Release Date: 2006<br>Academy Award for Best Actor/Actress: No",
          "Name: Denzel Washington<br>Movie: American Gangster<br>IMDb Score: 7.8<br>Release Date: 2007<br>Academy Award for Best Actor/Actress: No",
          "Name: Denzel Washington<br>Movie: The Great Debaters<br>IMDb Score: 7.6<br>Release Date: 2007<br>Academy Award for Best Actor/Actress: No",
          "Name: Denzel Washington<br>Movie: The Taking of Pelham 1 2 3<br>IMDb Score: 6.4<br>Release Date: 2009<br>Academy Award for Best Actor/Actress: No",
          "Name: Denzel Washington<br>Movie: Unstoppable<br>IMDb Score: 6.8<br>Release Date: 2010<br>Academy Award for Best Actor/Actress: No",
          "Name: Denzel Washington<br>Movie: The Book of Eli<br>IMDb Score: 6.9<br>Release Date: 2010<br>Academy Award for Best Actor/Actress: No",
          "Name: Denzel Washington<br>Movie: Flight<br>IMDb Score: 7.3<br>Release Date: 2012<br>Academy Award for Best Actor/Actress: No",
          "Name: Denzel Washington<br>Movie: Safe House<br>IMDb Score: 6.8<br>Release Date: 2012<br>Academy Award for Best Actor/Actress: No"
         ],
         "legendgroup": "Denzel Washington",
         "marker": {
          "color": "#FF6692",
          "size": [
           8,
           8,
           8,
           8,
           8,
           8,
           8,
           8,
           8,
           8,
           8,
           8,
           15,
           8,
           8,
           8,
           8,
           8,
           8,
           8,
           8,
           8,
           8,
           8,
           8,
           8
          ],
          "symbol": [
           "circle",
           "circle",
           "circle",
           "circle",
           "circle",
           "circle",
           "circle",
           "circle",
           "circle",
           "circle",
           "circle",
           "circle",
           "star",
           "circle",
           "circle",
           "circle",
           "circle",
           "circle",
           "circle",
           "circle",
           "circle",
           "circle",
           "circle",
           "circle",
           "circle",
           "circle"
          ]
         },
         "mode": "markers",
         "name": "Denzel Washington",
         "showlegend": false,
         "type": "scatter",
         "x": [
          1987,
          1990,
          1992,
          1993,
          1995,
          1995,
          1996,
          1998,
          1998,
          1999,
          1999,
          2000,
          2001,
          2002,
          2002,
          2003,
          2004,
          2004,
          2006,
          2007,
          2007,
          2009,
          2010,
          2010,
          2012,
          2012
         ],
         "y": [
          7.5,
          6.5,
          7.7,
          7.4,
          7.3,
          5.5,
          6.6,
          6.3,
          6.9,
          7.6,
          6.7,
          7.8,
          7.7,
          7,
          7.3,
          6.5,
          6.6,
          7.7,
          7.6,
          7.8,
          7.6,
          6.4,
          6.8,
          6.9,
          7.3,
          6.8
         ]
        },
        {
         "hoverinfo": "text",
         "hovertext": [
          "Name: Dustin Hoffman<br>Movie: Tootsie<br>IMDb Score: 7.4<br>Release Date: 1982<br>Academy Award for Best Actor/Actress: No",
          "Name: Dustin Hoffman<br>Movie: Ishtar<br>IMDb Score: 4.2<br>Release Date: 1987<br>Academy Award for Best Actor/Actress: No",
          "Name: Dustin Hoffman<br>Movie: Rain Man<br>IMDb Score: 8.0<br>Release Date: 1988<br>Academy Award for Best Actor/Actress: Yes",
          "Name: Dustin Hoffman<br>Movie: Dick Tracy<br>IMDb Score: 6.1<br>Release Date: 1990<br>Academy Award for Best Actor/Actress: No",
          "Name: Dustin Hoffman<br>Movie: Hook<br>IMDb Score: 6.7<br>Release Date: 1991<br>Academy Award for Best Actor/Actress: No",
          "Name: Dustin Hoffman<br>Movie: Outbreak<br>IMDb Score: 6.6<br>Release Date: 1995<br>Academy Award for Best Actor/Actress: No",
          "Name: Dustin Hoffman<br>Movie: Sleepers<br>IMDb Score: 7.5<br>Release Date: 1996<br>Academy Award for Best Actor/Actress: No",
          "Name: Dustin Hoffman<br>Movie: Mad City<br>IMDb Score: 6.2<br>Release Date: 1997<br>Academy Award for Best Actor/Actress: No",
          "Name: Dustin Hoffman<br>Movie: Wag the Dog<br>IMDb Score: 7.1<br>Release Date: 1997<br>Academy Award for Best Actor/Actress: No",
          "Name: Dustin Hoffman<br>Movie: Sphere<br>IMDb Score: 6.0<br>Release Date: 1998<br>Academy Award for Best Actor/Actress: No",
          "Name: Dustin Hoffman<br>Movie: The Messenger: The Story of Joan of Arc<br>IMDb Score: 6.4<br>Release Date: 1999<br>Academy Award for Best Actor/Actress: No",
          "Name: Dustin Hoffman<br>Movie: Moonlight Mile<br>IMDb Score: 6.7<br>Release Date: 2002<br>Academy Award for Best Actor/Actress: No",
          "Name: Dustin Hoffman<br>Movie: Confidence<br>IMDb Score: 6.7<br>Release Date: 2003<br>Academy Award for Best Actor/Actress: No",
          "Name: Dustin Hoffman<br>Movie: Finding Neverland<br>IMDb Score: 7.8<br>Release Date: 2004<br>Academy Award for Best Actor/Actress: No",
          "Name: Dustin Hoffman<br>Movie: Meet the Fockers<br>IMDb Score: 6.3<br>Release Date: 2004<br>Academy Award for Best Actor/Actress: No",
          "Name: Dustin Hoffman<br>Movie: Racing Stripes<br>IMDb Score: 5.2<br>Release Date: 2005<br>Academy Award for Best Actor/Actress: No",
          "Name: Dustin Hoffman<br>Movie: Stranger Than Fiction<br>IMDb Score: 7.6<br>Release Date: 2006<br>Academy Award for Best Actor/Actress: No",
          "Name: Dustin Hoffman<br>Movie: The Holiday<br>IMDb Score: 6.9<br>Release Date: 2006<br>Academy Award for Best Actor/Actress: No",
          "Name: Dustin Hoffman<br>Movie: Perfume: The Story of a Murderer<br>IMDb Score: 7.5<br>Release Date: 2006<br>Academy Award for Best Actor/Actress: No",
          "Name: Dustin Hoffman<br>Movie: The Tale of Despereaux<br>IMDb Score: 6.1<br>Release Date: 2008<br>Academy Award for Best Actor/Actress: No",
          "Name: Dustin Hoffman<br>Movie: Kung Fu Panda<br>IMDb Score: 7.6<br>Release Date: 2008<br>Academy Award for Best Actor/Actress: No",
          "Name: Dustin Hoffman<br>Movie: Barney's Version<br>IMDb Score: 7.3<br>Release Date: 2010<br>Academy Award for Best Actor/Actress: No",
          "Name: Dustin Hoffman<br>Movie: Little Fockers<br>IMDb Score: 5.5<br>Release Date: 2010<br>Academy Award for Best Actor/Actress: No",
          "Name: Dustin Hoffman<br>Movie: Kung Fu Panda 2<br>IMDb Score: 7.3<br>Release Date: 2011<br>Academy Award for Best Actor/Actress: No"
         ],
         "legendgroup": "Dustin Hoffman",
         "marker": {
          "color": "#B6E880",
          "size": [
           8,
           8,
           15,
           8,
           8,
           8,
           8,
           8,
           8,
           8,
           8,
           8,
           8,
           8,
           8,
           8,
           8,
           8,
           8,
           8,
           8,
           8,
           8,
           8
          ],
          "symbol": [
           "circle",
           "circle",
           "star",
           "circle",
           "circle",
           "circle",
           "circle",
           "circle",
           "circle",
           "circle",
           "circle",
           "circle",
           "circle",
           "circle",
           "circle",
           "circle",
           "circle",
           "circle",
           "circle",
           "circle",
           "circle",
           "circle",
           "circle",
           "circle"
          ]
         },
         "mode": "markers",
         "name": "Dustin Hoffman",
         "showlegend": false,
         "type": "scatter",
         "x": [
          1982,
          1987,
          1988,
          1990,
          1991,
          1995,
          1996,
          1997,
          1997,
          1998,
          1999,
          2002,
          2003,
          2004,
          2004,
          2005,
          2006,
          2006,
          2006,
          2008,
          2008,
          2010,
          2010,
          2011
         ],
         "y": [
          7.4,
          4.2,
          8,
          6.1,
          6.7,
          6.6,
          7.5,
          6.2,
          7.1,
          6,
          6.4,
          6.7,
          6.7,
          7.8,
          6.3,
          5.2,
          7.6,
          6.9,
          7.5,
          6.1,
          7.6,
          7.3,
          5.5,
          7.3
         ]
        },
        {
         "hoverinfo": "text",
         "hovertext": [
          "Name: Emma Thompson<br>Movie: Henry V<br>IMDb Score: 7.7<br>Release Date: 1989<br>Academy Award for Best Actor/Actress: No",
          "Name: Emma Thompson<br>Movie: Howards End<br>IMDb Score: 7.5<br>Release Date: 1992<br>Academy Award for Best Actor/Actress: Yes",
          "Name: Emma Thompson<br>Movie: Much Ado About Nothing<br>IMDb Score: 7.4<br>Release Date: 1993<br>Academy Award for Best Actor/Actress: No",
          "Name: Emma Thompson<br>Movie: The Remains of the Day<br>IMDb Score: 7.9<br>Release Date: 1993<br>Academy Award for Best Actor/Actress: No",
          "Name: Emma Thompson<br>Movie: Sense and Sensibility<br>IMDb Score: 7.7<br>Release Date: 1995<br>Academy Award for Best Actor/Actress: No",
          "Name: Emma Thompson<br>Movie: Primary Colors<br>IMDb Score: 6.7<br>Release Date: 1998<br>Academy Award for Best Actor/Actress: No",
          "Name: Emma Thompson<br>Movie: Treasure Planet<br>IMDb Score: 7.1<br>Release Date: 2002<br>Academy Award for Best Actor/Actress: No",
          "Name: Emma Thompson<br>Movie: Love Actually<br>IMDb Score: 7.7<br>Release Date: 2003<br>Academy Award for Best Actor/Actress: No",
          "Name: Emma Thompson<br>Movie: Harry Potter and the Prisoner of Azkaban<br>IMDb Score: 7.8<br>Release Date: 2004<br>Academy Award for Best Actor/Actress: No",
          "Name: Emma Thompson<br>Movie: Nanny McPhee<br>IMDb Score: 6.6<br>Release Date: 2005<br>Academy Award for Best Actor/Actress: No",
          "Name: Emma Thompson<br>Movie: Stranger Than Fiction<br>IMDb Score: 7.6<br>Release Date: 2006<br>Academy Award for Best Actor/Actress: No",
          "Name: Emma Thompson<br>Movie: Harry Potter and the Order of the Phoenix<br>IMDb Score: 7.5<br>Release Date: 2007<br>Academy Award for Best Actor/Actress: No",
          "Name: Emma Thompson<br>Movie: I Am Legend<br>IMDb Score: 7.2<br>Release Date: 2007<br>Academy Award for Best Actor/Actress: No",
          "Name: Emma Thompson<br>Movie: An Education<br>IMDb Score: 7.3<br>Release Date: 2009<br>Academy Award for Best Actor/Actress: No",
          "Name: Emma Thompson<br>Movie: Brave<br>IMDb Score: 7.2<br>Release Date: 2012<br>Academy Award for Best Actor/Actress: No",
          "Name: Emma Thompson<br>Movie: Men in Black 3<br>IMDb Score: 6.8<br>Release Date: 2012<br>Academy Award for Best Actor/Actress: No"
         ],
         "legendgroup": "Emma Thompson",
         "marker": {
          "color": "#FF97FF",
          "size": [
           8,
           15,
           8,
           8,
           8,
           8,
           8,
           8,
           8,
           8,
           8,
           8,
           8,
           8,
           8,
           8
          ],
          "symbol": [
           "circle",
           "star",
           "circle",
           "circle",
           "circle",
           "circle",
           "circle",
           "circle",
           "circle",
           "circle",
           "circle",
           "circle",
           "circle",
           "circle",
           "circle",
           "circle"
          ]
         },
         "mode": "markers",
         "name": "Emma Thompson",
         "showlegend": false,
         "type": "scatter",
         "x": [
          1989,
          1992,
          1993,
          1993,
          1995,
          1998,
          2002,
          2003,
          2004,
          2005,
          2006,
          2007,
          2007,
          2009,
          2012,
          2012
         ],
         "y": [
          7.7,
          7.5,
          7.4,
          7.9,
          7.7,
          6.7,
          7.1,
          7.7,
          7.8,
          6.6,
          7.6,
          7.5,
          7.2,
          7.3,
          7.2,
          6.8
         ]
        },
        {
         "hoverinfo": "text",
         "hovertext": [
          "Name: F. Murray Abraham<br>Movie: Scarface<br>IMDb Score: 8.3<br>Release Date: 1983<br>Academy Award for Best Actor/Actress: No",
          "Name: F. Murray Abraham<br>Movie: Amadeus<br>IMDb Score: 8.3<br>Release Date: 1984<br>Academy Award for Best Actor/Actress: Yes",
          "Name: F. Murray Abraham<br>Movie: Last Action Hero<br>IMDb Score: 6.2<br>Release Date: 1993<br>Academy Award for Best Actor/Actress: No",
          "Name: F. Murray Abraham<br>Movie: Star Trek: Insurrection<br>IMDb Score: 6.4<br>Release Date: 1998<br>Academy Award for Best Actor/Actress: No",
          "Name: F. Murray Abraham<br>Movie: Finding Forrester<br>IMDb Score: 7.3<br>Release Date: 2000<br>Academy Award for Best Actor/Actress: No",
          "Name: F. Murray Abraham<br>Movie: Thir13en Ghosts<br>IMDb Score: 5.5<br>Release Date: 2001<br>Academy Award for Best Actor/Actress: No"
         ],
         "legendgroup": "F. Murray Abraham",
         "marker": {
          "color": "#FECB52",
          "size": [
           8,
           15,
           8,
           8,
           8,
           8
          ],
          "symbol": [
           "circle",
           "star",
           "circle",
           "circle",
           "circle",
           "circle"
          ]
         },
         "mode": "markers",
         "name": "F. Murray Abraham",
         "showlegend": false,
         "type": "scatter",
         "x": [
          1983,
          1984,
          1993,
          1998,
          2000,
          2001
         ],
         "y": [
          8.3,
          8.3,
          6.2,
          6.4,
          7.3,
          5.5
         ]
        },
        {
         "hoverinfo": "text",
         "hovertext": [
          "Name: Forest Whitaker<br>Movie: Fast Times at Ridgemont High<br>IMDb Score: 7.2<br>Release Date: 1982<br>Academy Award for Best Actor/Actress: No",
          "Name: Forest Whitaker<br>Movie: The Color of Money<br>IMDb Score: 7.0<br>Release Date: 1986<br>Academy Award for Best Actor/Actress: No",
          "Name: Forest Whitaker<br>Movie: Platoon<br>IMDb Score: 8.1<br>Release Date: 1986<br>Academy Award for Best Actor/Actress: No",
          "Name: Forest Whitaker<br>Movie: Good Morning, Vietnam<br>IMDb Score: 7.3<br>Release Date: 1987<br>Academy Award for Best Actor/Actress: No",
          "Name: Forest Whitaker<br>Movie: Bloodsport<br>IMDb Score: 6.8<br>Release Date: 1988<br>Academy Award for Best Actor/Actress: No",
          "Name: Forest Whitaker<br>Movie: The Crying Game<br>IMDb Score: 7.3<br>Release Date: 1992<br>Academy Award for Best Actor/Actress: No",
          "Name: Forest Whitaker<br>Movie: Species<br>IMDb Score: 5.8<br>Release Date: 1995<br>Academy Award for Best Actor/Actress: No",
          "Name: Forest Whitaker<br>Movie: Phenomenon<br>IMDb Score: 6.4<br>Release Date: 1996<br>Academy Award for Best Actor/Actress: No",
          "Name: Forest Whitaker<br>Movie: Ghost Dog: The Way of the Samurai<br>IMDb Score: 7.5<br>Release Date: 1999<br>Academy Award for Best Actor/Actress: No",
          "Name: Forest Whitaker<br>Movie: Battlefield Earth<br>IMDb Score: 2.4<br>Release Date: 2000<br>Academy Award for Best Actor/Actress: No",
          "Name: Forest Whitaker<br>Movie: Panic Room<br>IMDb Score: 6.8<br>Release Date: 2002<br>Academy Award for Best Actor/Actress: No",
          "Name: Forest Whitaker<br>Movie: The Last King of Scotland<br>IMDb Score: 7.7<br>Release Date: 2006<br>Academy Award for Best Actor/Actress: Yes",
          "Name: Forest Whitaker<br>Movie: The Great Debaters<br>IMDb Score: 7.6<br>Release Date: 2007<br>Academy Award for Best Actor/Actress: No",
          "Name: Forest Whitaker<br>Movie: Dragon Hunters<br>IMDb Score: 6.6<br>Release Date: 2008<br>Academy Award for Best Actor/Actress: No",
          "Name: Forest Whitaker<br>Movie: Street Kings<br>IMDb Score: 6.8<br>Release Date: 2008<br>Academy Award for Best Actor/Actress: No",
          "Name: Forest Whitaker<br>Movie: Vantage Point<br>IMDb Score: 6.6<br>Release Date: 2008<br>Academy Award for Best Actor/Actress: No",
          "Name: Forest Whitaker<br>Movie: Where the Wild Things Are<br>IMDb Score: 6.8<br>Release Date: 2009<br>Academy Award for Best Actor/Actress: No",
          "Name: Forest Whitaker<br>Movie: Our Family Wedding<br>IMDb Score: 4.9<br>Release Date: 2010<br>Academy Award for Best Actor/Actress: No",
          "Name: Forest Whitaker<br>Movie: Repo Men<br>IMDb Score: 6.3<br>Release Date: 2010<br>Academy Award for Best Actor/Actress: No",
          "Name: Forest Whitaker<br>Movie: The Last Stand<br>IMDb Score: 6.4<br>Release Date: 2013<br>Academy Award for Best Actor/Actress: No"
         ],
         "legendgroup": "Forest Whitaker",
         "marker": {
          "color": "#636EFA",
          "size": [
           8,
           8,
           8,
           8,
           8,
           8,
           8,
           8,
           8,
           8,
           8,
           15,
           8,
           8,
           8,
           8,
           8,
           8,
           8,
           8
          ],
          "symbol": [
           "circle",
           "circle",
           "circle",
           "circle",
           "circle",
           "circle",
           "circle",
           "circle",
           "circle",
           "circle",
           "circle",
           "star",
           "circle",
           "circle",
           "circle",
           "circle",
           "circle",
           "circle",
           "circle",
           "circle"
          ]
         },
         "mode": "markers",
         "name": "Forest Whitaker",
         "showlegend": false,
         "type": "scatter",
         "x": [
          1982,
          1986,
          1986,
          1987,
          1988,
          1992,
          1995,
          1996,
          1999,
          2000,
          2002,
          2006,
          2007,
          2008,
          2008,
          2008,
          2009,
          2010,
          2010,
          2013
         ],
         "y": [
          7.2,
          7,
          8.1,
          7.3,
          6.8,
          7.3,
          5.8,
          6.4,
          7.5,
          2.4,
          6.8,
          7.7,
          7.6,
          6.6,
          6.8,
          6.6,
          6.8,
          4.9,
          6.3,
          6.4
         ]
        },
        {
         "hoverinfo": "text",
         "hovertext": [
          "Name: Geoffrey Rush<br>Movie: Shine<br>IMDb Score: 7.7<br>Release Date: 1996<br>Academy Award for Best Actor/Actress: Yes",
          "Name: Geoffrey Rush<br>Movie: Oscar and Lucinda<br>IMDb Score: 6.7<br>Release Date: 1997<br>Academy Award for Best Actor/Actress: No",
          "Name: Geoffrey Rush<br>Movie: Shakespeare in Love<br>IMDb Score: 7.2<br>Release Date: 1998<br>Academy Award for Best Actor/Actress: No",
          "Name: Geoffrey Rush<br>Movie: Elizabeth<br>IMDb Score: 7.5<br>Release Date: 1998<br>Academy Award for Best Actor/Actress: No",
          "Name: Geoffrey Rush<br>Movie: Mystery Men<br>IMDb Score: 6.0<br>Release Date: 1999<br>Academy Award for Best Actor/Actress: No",
          "Name: Geoffrey Rush<br>Movie: House on Haunted Hill<br>IMDb Score: 5.6<br>Release Date: 1999<br>Academy Award for Best Actor/Actress: No",
          "Name: Geoffrey Rush<br>Movie: Quills<br>IMDb Score: 7.4<br>Release Date: 2000<br>Academy Award for Best Actor/Actress: No",
          "Name: Geoffrey Rush<br>Movie: Frida<br>IMDb Score: 7.4<br>Release Date: 2002<br>Academy Award for Best Actor/Actress: No",
          "Name: Geoffrey Rush<br>Movie: The Banger Sisters<br>IMDb Score: 5.6<br>Release Date: 2002<br>Academy Award for Best Actor/Actress: No",
          "Name: Geoffrey Rush<br>Movie: Finding Nemo<br>IMDb Score: 8.2<br>Release Date: 2003<br>Academy Award for Best Actor/Actress: No",
          "Name: Geoffrey Rush<br>Movie: Intolerable Cruelty<br>IMDb Score: 6.3<br>Release Date: 2003<br>Academy Award for Best Actor/Actress: No",
          "Name: Geoffrey Rush<br>Movie: Pirates of the Caribbean: The Curse of the Black Pearl<br>IMDb Score: 8.1<br>Release Date: 2003<br>Academy Award for Best Actor/Actress: No",
          "Name: Geoffrey Rush<br>Movie: Munich<br>IMDb Score: 7.6<br>Release Date: 2005<br>Academy Award for Best Actor/Actress: No",
          "Name: Geoffrey Rush<br>Movie: Pirates of the Caribbean: Dead Man's Chest<br>IMDb Score: 7.3<br>Release Date: 2006<br>Academy Award for Best Actor/Actress: No",
          "Name: Geoffrey Rush<br>Movie: Pirates of the Caribbean: At World's End<br>IMDb Score: 7.1<br>Release Date: 2007<br>Academy Award for Best Actor/Actress: No",
          "Name: Geoffrey Rush<br>Movie: Elizabeth: The Golden Age<br>IMDb Score: 6.9<br>Release Date: 2007<br>Academy Award for Best Actor/Actress: No",
          "Name: Geoffrey Rush<br>Movie: The Warrior's Way<br>IMDb Score: 6.3<br>Release Date: 2010<br>Academy Award for Best Actor/Actress: No",
          "Name: Geoffrey Rush<br>Movie: Legend of the Guardians: The Owls of Ga'Hoole<br>IMDb Score: 7.0<br>Release Date: 2010<br>Academy Award for Best Actor/Actress: No",
          "Name: Geoffrey Rush<br>Movie: The King's Speech<br>IMDb Score: 8.0<br>Release Date: 2010<br>Academy Award for Best Actor/Actress: No",
          "Name: Geoffrey Rush<br>Movie: Pirates of the Caribbean: On Stranger Tides<br>IMDb Score: 6.7<br>Release Date: 2011<br>Academy Award for Best Actor/Actress: No",
          "Name: Geoffrey Rush<br>Movie: Les Misérables<br>IMDb Score: 7.6<br>Release Date: 2012<br>Academy Award for Best Actor/Actress: No"
         ],
         "legendgroup": "Geoffrey Rush",
         "marker": {
          "color": "#EF553B",
          "size": [
           15,
           8,
           8,
           8,
           8,
           8,
           8,
           8,
           8,
           8,
           8,
           8,
           8,
           8,
           8,
           8,
           8,
           8,
           8,
           8,
           8
          ],
          "symbol": [
           "star",
           "circle",
           "circle",
           "circle",
           "circle",
           "circle",
           "circle",
           "circle",
           "circle",
           "circle",
           "circle",
           "circle",
           "circle",
           "circle",
           "circle",
           "circle",
           "circle",
           "circle",
           "circle",
           "circle",
           "circle"
          ]
         },
         "mode": "markers",
         "name": "Geoffrey Rush",
         "showlegend": false,
         "type": "scatter",
         "x": [
          1996,
          1997,
          1998,
          1998,
          1999,
          1999,
          2000,
          2002,
          2002,
          2003,
          2003,
          2003,
          2005,
          2006,
          2007,
          2007,
          2010,
          2010,
          2010,
          2011,
          2012
         ],
         "y": [
          7.7,
          6.7,
          7.2,
          7.5,
          6,
          5.6,
          7.4,
          7.4,
          5.6,
          8.2,
          6.3,
          8.1,
          7.6,
          7.3,
          7.1,
          6.9,
          6.3,
          7,
          8,
          6.7,
          7.6
         ]
        },
        {
         "hoverinfo": "text",
         "hovertext": [
          "Name: Gwyneth Paltrow<br>Movie: Hook<br>IMDb Score: 6.7<br>Release Date: 1991<br>Academy Award for Best Actor/Actress: No",
          "Name: Gwyneth Paltrow<br>Movie: Jefferson in Paris<br>IMDb Score: 5.7<br>Release Date: 1995<br>Academy Award for Best Actor/Actress: No",
          "Name: Gwyneth Paltrow<br>Movie: The Pallbearer<br>IMDb Score: 4.9<br>Release Date: 1996<br>Academy Award for Best Actor/Actress: No",
          "Name: Gwyneth Paltrow<br>Movie: Shakespeare in Love<br>IMDb Score: 7.2<br>Release Date: 1998<br>Academy Award for Best Actor/Actress: Yes",
          "Name: Gwyneth Paltrow<br>Movie: Sliding Doors<br>IMDb Score: 6.8<br>Release Date: 1998<br>Academy Award for Best Actor/Actress: No",
          "Name: Gwyneth Paltrow<br>Movie: The Talented Mr. Ripley<br>IMDb Score: 7.3<br>Release Date: 1999<br>Academy Award for Best Actor/Actress: No",
          "Name: Gwyneth Paltrow<br>Movie: Duets<br>IMDb Score: 6.0<br>Release Date: 2000<br>Academy Award for Best Actor/Actress: No",
          "Name: Gwyneth Paltrow<br>Movie: The Royal Tenenbaums<br>IMDb Score: 7.6<br>Release Date: 2001<br>Academy Award for Best Actor/Actress: No",
          "Name: Gwyneth Paltrow<br>Movie: Shallow Hal<br>IMDb Score: 5.9<br>Release Date: 2001<br>Academy Award for Best Actor/Actress: No",
          "Name: Gwyneth Paltrow<br>Movie: Sky Captain and the World of Tomorrow<br>IMDb Score: 6.1<br>Release Date: 2004<br>Academy Award for Best Actor/Actress: No",
          "Name: Gwyneth Paltrow<br>Movie: Infamous<br>IMDb Score: 7.1<br>Release Date: 2006<br>Academy Award for Best Actor/Actress: No",
          "Name: Gwyneth Paltrow<br>Movie: Running with Scissors<br>IMDb Score: 6.2<br>Release Date: 2006<br>Academy Award for Best Actor/Actress: No",
          "Name: Gwyneth Paltrow<br>Movie: The Good Night<br>IMDb Score: 5.9<br>Release Date: 2007<br>Academy Award for Best Actor/Actress: No",
          "Name: Gwyneth Paltrow<br>Movie: Iron Man<br>IMDb Score: 7.9<br>Release Date: 2008<br>Academy Award for Best Actor/Actress: No",
          "Name: Gwyneth Paltrow<br>Movie: Two Lovers<br>IMDb Score: 7.1<br>Release Date: 2008<br>Academy Award for Best Actor/Actress: No",
          "Name: Gwyneth Paltrow<br>Movie: Iron Man 2<br>IMDb Score: 7.0<br>Release Date: 2010<br>Academy Award for Best Actor/Actress: No",
          "Name: Gwyneth Paltrow<br>Movie: Country Strong<br>IMDb Score: 6.3<br>Release Date: 2010<br>Academy Award for Best Actor/Actress: No",
          "Name: Gwyneth Paltrow<br>Movie: Contagion<br>IMDb Score: 6.6<br>Release Date: 2011<br>Academy Award for Best Actor/Actress: No",
          "Name: Gwyneth Paltrow<br>Movie: Glee: The 3D Concert Movie<br>IMDb Score: 5.4<br>Release Date: 2011<br>Academy Award for Best Actor/Actress: No",
          "Name: Gwyneth Paltrow<br>Movie: The Avengers<br>IMDb Score: 8.1<br>Release Date: 2012<br>Academy Award for Best Actor/Actress: No",
          "Name: Gwyneth Paltrow<br>Movie: The Avengers<br>IMDb Score: 8.1<br>Release Date: 2012<br>Academy Award for Best Actor/Actress: No",
          "Name: Gwyneth Paltrow<br>Movie: Iron Man 3<br>IMDb Score: 7.2<br>Release Date: 2013<br>Academy Award for Best Actor/Actress: No"
         ],
         "legendgroup": "Gwyneth Paltrow",
         "marker": {
          "color": "#00CC96",
          "size": [
           8,
           8,
           8,
           15,
           8,
           8,
           8,
           8,
           8,
           8,
           8,
           8,
           8,
           8,
           8,
           8,
           8,
           8,
           8,
           8,
           8,
           8
          ],
          "symbol": [
           "circle",
           "circle",
           "circle",
           "star",
           "circle",
           "circle",
           "circle",
           "circle",
           "circle",
           "circle",
           "circle",
           "circle",
           "circle",
           "circle",
           "circle",
           "circle",
           "circle",
           "circle",
           "circle",
           "circle",
           "circle",
           "circle"
          ]
         },
         "mode": "markers",
         "name": "Gwyneth Paltrow",
         "showlegend": false,
         "type": "scatter",
         "x": [
          1991,
          1995,
          1996,
          1998,
          1998,
          1999,
          2000,
          2001,
          2001,
          2004,
          2006,
          2006,
          2007,
          2008,
          2008,
          2010,
          2010,
          2011,
          2011,
          2012,
          2012,
          2013
         ],
         "y": [
          6.7,
          5.7,
          4.9,
          7.2,
          6.8,
          7.3,
          6,
          7.6,
          5.9,
          6.1,
          7.1,
          6.2,
          5.9,
          7.9,
          7.1,
          7,
          6.3,
          6.6,
          5.4,
          8.1,
          8.1,
          7.2
         ]
        },
        {
         "hoverinfo": "text",
         "hovertext": [
          "Name: Halle Berry<br>Movie: Boomerang<br>IMDb Score: 5.4<br>Release Date: 1992<br>Academy Award for Best Actor/Actress: No",
          "Name: Halle Berry<br>Movie: The Flintstones<br>IMDb Score: 4.8<br>Release Date: 1994<br>Academy Award for Best Actor/Actress: No",
          "Name: Halle Berry<br>Movie: Girl 6<br>IMDb Score: 5.0<br>Release Date: 1996<br>Academy Award for Best Actor/Actress: No",
          "Name: Halle Berry<br>Movie: Executive Decision<br>IMDb Score: 6.4<br>Release Date: 1996<br>Academy Award for Best Actor/Actress: No",
          "Name: Halle Berry<br>Movie: Bulworth<br>IMDb Score: 6.8<br>Release Date: 1998<br>Academy Award for Best Actor/Actress: No",
          "Name: Halle Berry<br>Movie: X-Men<br>IMDb Score: 7.4<br>Release Date: 2000<br>Academy Award for Best Actor/Actress: No",
          "Name: Halle Berry<br>Movie: Monster's Ball<br>IMDb Score: 7.1<br>Release Date: 2001<br>Academy Award for Best Actor/Actress: Yes",
          "Name: Halle Berry<br>Movie: Swordfish<br>IMDb Score: 6.5<br>Release Date: 2001<br>Academy Award for Best Actor/Actress: No",
          "Name: Halle Berry<br>Movie: Die Another Day<br>IMDb Score: 6.1<br>Release Date: 2002<br>Academy Award for Best Actor/Actress: No",
          "Name: Halle Berry<br>Movie: Gothika<br>IMDb Score: 5.8<br>Release Date: 2003<br>Academy Award for Best Actor/Actress: No",
          "Name: Halle Berry<br>Movie: Catwoman<br>IMDb Score: 3.3<br>Release Date: 2004<br>Academy Award for Best Actor/Actress: No",
          "Name: Halle Berry<br>Movie: Catwoman<br>IMDb Score: 3.3<br>Release Date: 2004<br>Academy Award for Best Actor/Actress: No",
          "Name: Halle Berry<br>Movie: X-Men: The Last Stand<br>IMDb Score: 6.8<br>Release Date: 2006<br>Academy Award for Best Actor/Actress: No",
          "Name: Halle Berry<br>Movie: Things We Lost in the Fire<br>IMDb Score: 7.2<br>Release Date: 2007<br>Academy Award for Best Actor/Actress: No",
          "Name: Halle Berry<br>Movie: New Year's Eve<br>IMDb Score: 5.7<br>Release Date: 2011<br>Academy Award for Best Actor/Actress: No",
          "Name: Halle Berry<br>Movie: Cloud Atlas<br>IMDb Score: 7.5<br>Release Date: 2012<br>Academy Award for Best Actor/Actress: No",
          "Name: Halle Berry<br>Movie: Cloud Atlas<br>IMDb Score: 7.5<br>Release Date: 2012<br>Academy Award for Best Actor/Actress: No",
          "Name: Halle Berry<br>Movie: Cloud Atlas<br>IMDb Score: 7.5<br>Release Date: 2012<br>Academy Award for Best Actor/Actress: No"
         ],
         "legendgroup": "Halle Berry",
         "marker": {
          "color": "#AB63FA",
          "size": [
           8,
           8,
           8,
           8,
           8,
           8,
           15,
           8,
           8,
           8,
           8,
           8,
           8,
           8,
           8,
           8,
           8,
           8
          ],
          "symbol": [
           "circle",
           "circle",
           "circle",
           "circle",
           "circle",
           "circle",
           "star",
           "circle",
           "circle",
           "circle",
           "circle",
           "circle",
           "circle",
           "circle",
           "circle",
           "circle",
           "circle",
           "circle"
          ]
         },
         "mode": "markers",
         "name": "Halle Berry",
         "showlegend": false,
         "type": "scatter",
         "x": [
          1992,
          1994,
          1996,
          1996,
          1998,
          2000,
          2001,
          2001,
          2002,
          2003,
          2004,
          2004,
          2006,
          2007,
          2011,
          2012,
          2012,
          2012
         ],
         "y": [
          5.4,
          4.8,
          5,
          6.4,
          6.8,
          7.4,
          7.1,
          6.5,
          6.1,
          5.8,
          3.3,
          3.3,
          6.8,
          7.2,
          5.7,
          7.5,
          7.5,
          7.5
         ]
        },
        {
         "hoverinfo": "text",
         "hovertext": [
          "Name: Helen Hunt<br>Movie: Peggy Sue Got Married<br>IMDb Score: 6.3<br>Release Date: 1986<br>Academy Award for Best Actor/Actress: No",
          "Name: Helen Hunt<br>Movie: Kiss of Death<br>IMDb Score: 5.9<br>Release Date: 1995<br>Academy Award for Best Actor/Actress: No",
          "Name: Helen Hunt<br>Movie: Twister<br>IMDb Score: 6.3<br>Release Date: 1996<br>Academy Award for Best Actor/Actress: No",
          "Name: Helen Hunt<br>Movie: As Good as It Gets<br>IMDb Score: 7.7<br>Release Date: 1997<br>Academy Award for Best Actor/Actress: Yes",
          "Name: Helen Hunt<br>Movie: What Women Want<br>IMDb Score: 6.4<br>Release Date: 2000<br>Academy Award for Best Actor/Actress: No",
          "Name: Helen Hunt<br>Movie: Pay It Forward<br>IMDb Score: 7.2<br>Release Date: 2000<br>Academy Award for Best Actor/Actress: No",
          "Name: Helen Hunt<br>Movie: Cast Away<br>IMDb Score: 7.7<br>Release Date: 2000<br>Academy Award for Best Actor/Actress: No",
          "Name: Helen Hunt<br>Movie: The Curse of the Jade Scorpion<br>IMDb Score: 6.8<br>Release Date: 2001<br>Academy Award for Best Actor/Actress: No",
          "Name: Helen Hunt<br>Movie: Bobby<br>IMDb Score: 7.0<br>Release Date: 2006<br>Academy Award for Best Actor/Actress: No",
          "Name: Helen Hunt<br>Movie: Soul Surfer<br>IMDb Score: 7.1<br>Release Date: 2011<br>Academy Award for Best Actor/Actress: No"
         ],
         "legendgroup": "Helen Hunt",
         "marker": {
          "color": "#FFA15A",
          "size": [
           8,
           8,
           8,
           15,
           8,
           8,
           8,
           8,
           8,
           8
          ],
          "symbol": [
           "circle",
           "circle",
           "circle",
           "star",
           "circle",
           "circle",
           "circle",
           "circle",
           "circle",
           "circle"
          ]
         },
         "mode": "markers",
         "name": "Helen Hunt",
         "showlegend": false,
         "type": "scatter",
         "x": [
          1986,
          1995,
          1996,
          1997,
          2000,
          2000,
          2000,
          2001,
          2006,
          2011
         ],
         "y": [
          6.3,
          5.9,
          6.3,
          7.7,
          6.4,
          7.2,
          7.7,
          6.8,
          7,
          7.1
         ]
        },
        {
         "hoverinfo": "text",
         "hovertext": [
          "Name: Hilary Swank<br>Movie: Boys Don't Cry<br>IMDb Score: 7.6<br>Release Date: 1999<br>Academy Award for Best Actor/Actress: Yes",
          "Name: Hilary Swank<br>Movie: Insomnia<br>IMDb Score: 7.2<br>Release Date: 2002<br>Academy Award for Best Actor/Actress: No",
          "Name: Hilary Swank<br>Movie: The Core<br>IMDb Score: 5.4<br>Release Date: 2003<br>Academy Award for Best Actor/Actress: No",
          "Name: Hilary Swank<br>Movie: Million Dollar Baby<br>IMDb Score: 8.1<br>Release Date: 2004<br>Academy Award for Best Actor/Actress: Yes",
          "Name: Hilary Swank<br>Movie: The Black Dahlia<br>IMDb Score: 5.6<br>Release Date: 2006<br>Academy Award for Best Actor/Actress: No",
          "Name: Hilary Swank<br>Movie: Freedom Writers<br>IMDb Score: 7.5<br>Release Date: 2007<br>Academy Award for Best Actor/Actress: No",
          "Name: Hilary Swank<br>Movie: The Reaping<br>IMDb Score: 5.7<br>Release Date: 2007<br>Academy Award for Best Actor/Actress: No",
          "Name: Hilary Swank<br>Movie: New Year's Eve<br>IMDb Score: 5.7<br>Release Date: 2011<br>Academy Award for Best Actor/Actress: No"
         ],
         "legendgroup": "Hilary Swank",
         "marker": {
          "color": "#19D3F3",
          "size": [
           15,
           8,
           8,
           15,
           8,
           8,
           8,
           8
          ],
          "symbol": [
           "star",
           "circle",
           "circle",
           "star",
           "circle",
           "circle",
           "circle",
           "circle"
          ]
         },
         "mode": "markers",
         "name": "Hilary Swank",
         "showlegend": false,
         "type": "scatter",
         "x": [
          1999,
          2002,
          2003,
          2004,
          2006,
          2007,
          2007,
          2011
         ],
         "y": [
          7.6,
          7.2,
          5.4,
          8.1,
          5.6,
          7.5,
          5.7,
          5.7
         ]
        },
        {
         "hoverinfo": "text",
         "hovertext": [
          "Name: Holly Hunter<br>Movie: The Firm<br>IMDb Score: 6.8<br>Release Date: 1993<br>Academy Award for Best Actor/Actress: No",
          "Name: Holly Hunter<br>Movie: The Piano<br>IMDb Score: 7.6<br>Release Date: 1993<br>Academy Award for Best Actor/Actress: Yes",
          "Name: Holly Hunter<br>Movie: Copycat<br>IMDb Score: 6.6<br>Release Date: 1995<br>Academy Award for Best Actor/Actress: No",
          "Name: Holly Hunter<br>Movie: Home for the Holidays<br>IMDb Score: 6.6<br>Release Date: 1995<br>Academy Award for Best Actor/Actress: No",
          "Name: Holly Hunter<br>Movie: Living Out Loud<br>IMDb Score: 6.6<br>Release Date: 1998<br>Academy Award for Best Actor/Actress: No",
          "Name: Holly Hunter<br>Movie: O Brother, Where Art Thou?<br>IMDb Score: 7.8<br>Release Date: 2000<br>Academy Award for Best Actor/Actress: No",
          "Name: Holly Hunter<br>Movie: Moonlight Mile<br>IMDb Score: 6.7<br>Release Date: 2002<br>Academy Award for Best Actor/Actress: No",
          "Name: Holly Hunter<br>Movie: Thirteen<br>IMDb Score: 6.8<br>Release Date: 2003<br>Academy Award for Best Actor/Actress: No",
          "Name: Holly Hunter<br>Movie: Little Black Book<br>IMDb Score: 5.2<br>Release Date: 2004<br>Academy Award for Best Actor/Actress: No",
          "Name: Holly Hunter<br>Movie: The Incredibles<br>IMDb Score: 8.0<br>Release Date: 2004<br>Academy Award for Best Actor/Actress: No",
          "Name: Holly Hunter<br>Movie: Won't Back Down<br>IMDb Score: 6.4<br>Release Date: 2012<br>Academy Award for Best Actor/Actress: No"
         ],
         "legendgroup": "Holly Hunter",
         "marker": {
          "color": "#FF6692",
          "size": [
           8,
           15,
           8,
           8,
           8,
           8,
           8,
           8,
           8,
           8,
           8
          ],
          "symbol": [
           "circle",
           "star",
           "circle",
           "circle",
           "circle",
           "circle",
           "circle",
           "circle",
           "circle",
           "circle",
           "circle"
          ]
         },
         "mode": "markers",
         "name": "Holly Hunter",
         "showlegend": false,
         "type": "scatter",
         "x": [
          1993,
          1993,
          1995,
          1995,
          1998,
          2000,
          2002,
          2003,
          2004,
          2004,
          2012
         ],
         "y": [
          6.8,
          7.6,
          6.6,
          6.6,
          6.6,
          7.8,
          6.7,
          6.8,
          5.2,
          8,
          6.4
         ]
        },
        {
         "hoverinfo": "text",
         "hovertext": [
          "Name: Jack Nicholson<br>Movie: The Shining<br>IMDb Score: 8.4<br>Release Date: 1980<br>Academy Award for Best Actor/Actress: No",
          "Name: Jack Nicholson<br>Movie: The Postman Always Rings Twice<br>IMDb Score: 6.6<br>Release Date: 1981<br>Academy Award for Best Actor/Actress: No",
          "Name: Jack Nicholson<br>Movie: Batman<br>IMDb Score: 7.6<br>Release Date: 1989<br>Academy Award for Best Actor/Actress: No",
          "Name: Jack Nicholson<br>Movie: A Few Good Men<br>IMDb Score: 7.6<br>Release Date: 1992<br>Academy Award for Best Actor/Actress: No",
          "Name: Jack Nicholson<br>Movie: Hoffa<br>IMDb Score: 6.6<br>Release Date: 1992<br>Academy Award for Best Actor/Actress: No",
          "Name: Jack Nicholson<br>Movie: Wolf<br>IMDb Score: 6.2<br>Release Date: 1994<br>Academy Award for Best Actor/Actress: No",
          "Name: Jack Nicholson<br>Movie: Mars Attacks!<br>IMDb Score: 6.3<br>Release Date: 1996<br>Academy Award for Best Actor/Actress: No",
          "Name: Jack Nicholson<br>Movie: Mars Attacks!<br>IMDb Score: 6.3<br>Release Date: 1996<br>Academy Award for Best Actor/Actress: No",
          "Name: Jack Nicholson<br>Movie: As Good as It Gets<br>IMDb Score: 7.7<br>Release Date: 1997<br>Academy Award for Best Actor/Actress: Yes",
          "Name: Jack Nicholson<br>Movie: The Pledge<br>IMDb Score: 6.8<br>Release Date: 2001<br>Academy Award for Best Actor/Actress: No",
          "Name: Jack Nicholson<br>Movie: About Schmidt<br>IMDb Score: 7.2<br>Release Date: 2002<br>Academy Award for Best Actor/Actress: No",
          "Name: Jack Nicholson<br>Movie: Something's Gotta Give<br>IMDb Score: 6.7<br>Release Date: 2003<br>Academy Award for Best Actor/Actress: No",
          "Name: Jack Nicholson<br>Movie: The Departed<br>IMDb Score: 8.5<br>Release Date: 2006<br>Academy Award for Best Actor/Actress: No",
          "Name: Jack Nicholson<br>Movie: The Bucket List<br>IMDb Score: 7.4<br>Release Date: 2007<br>Academy Award for Best Actor/Actress: No",
          "Name: Jack Nicholson<br>Movie: How Do You Know<br>IMDb Score: 5.3<br>Release Date: 2010<br>Academy Award for Best Actor/Actress: No"
         ],
         "legendgroup": "Jack Nicholson",
         "marker": {
          "color": "#B6E880",
          "size": [
           8,
           8,
           8,
           8,
           8,
           8,
           8,
           8,
           15,
           8,
           8,
           8,
           8,
           8,
           8
          ],
          "symbol": [
           "circle",
           "circle",
           "circle",
           "circle",
           "circle",
           "circle",
           "circle",
           "circle",
           "star",
           "circle",
           "circle",
           "circle",
           "circle",
           "circle",
           "circle"
          ]
         },
         "mode": "markers",
         "name": "Jack Nicholson",
         "showlegend": false,
         "type": "scatter",
         "x": [
          1980,
          1981,
          1989,
          1992,
          1992,
          1994,
          1996,
          1996,
          1997,
          2001,
          2002,
          2003,
          2006,
          2007,
          2010
         ],
         "y": [
          8.4,
          6.6,
          7.6,
          7.6,
          6.6,
          6.2,
          6.3,
          6.3,
          7.7,
          6.8,
          7.2,
          6.7,
          8.5,
          7.4,
          5.3
         ]
        },
        {
         "hoverinfo": "text",
         "hovertext": [
          "Name: Jamie Foxx<br>Movie: The Players Club<br>IMDb Score: 5.6<br>Release Date: 1998<br>Academy Award for Best Actor/Actress: No",
          "Name: Jamie Foxx<br>Movie: Any Given Sunday<br>IMDb Score: 6.8<br>Release Date: 1999<br>Academy Award for Best Actor/Actress: No",
          "Name: Jamie Foxx<br>Movie: Held Up<br>IMDb Score: 5.1<br>Release Date: 1999<br>Academy Award for Best Actor/Actress: No",
          "Name: Jamie Foxx<br>Movie: Ali<br>IMDb Score: 6.8<br>Release Date: 2001<br>Academy Award for Best Actor/Actress: No",
          "Name: Jamie Foxx<br>Movie: Shade<br>IMDb Score: 6.4<br>Release Date: 2003<br>Academy Award for Best Actor/Actress: No",
          "Name: Jamie Foxx<br>Movie: Ray<br>IMDb Score: 7.7<br>Release Date: 2004<br>Academy Award for Best Actor/Actress: Yes",
          "Name: Jamie Foxx<br>Movie: Collateral<br>IMDb Score: 7.6<br>Release Date: 2004<br>Academy Award for Best Actor/Actress: No",
          "Name: Jamie Foxx<br>Movie: Breakin' All the Rules<br>IMDb Score: 5.5<br>Release Date: 2004<br>Academy Award for Best Actor/Actress: No",
          "Name: Jamie Foxx<br>Movie: Jarhead<br>IMDb Score: 7.1<br>Release Date: 2005<br>Academy Award for Best Actor/Actress: No",
          "Name: Jamie Foxx<br>Movie: Stealth<br>IMDb Score: 5.0<br>Release Date: 2005<br>Academy Award for Best Actor/Actress: No",
          "Name: Jamie Foxx<br>Movie: Dreamgirls<br>IMDb Score: 6.5<br>Release Date: 2006<br>Academy Award for Best Actor/Actress: No",
          "Name: Jamie Foxx<br>Movie: The Kingdom<br>IMDb Score: 7.1<br>Release Date: 2007<br>Academy Award for Best Actor/Actress: No",
          "Name: Jamie Foxx<br>Movie: Law Abiding Citizen<br>IMDb Score: 7.4<br>Release Date: 2009<br>Academy Award for Best Actor/Actress: No",
          "Name: Jamie Foxx<br>Movie: The Soloist<br>IMDb Score: 6.7<br>Release Date: 2009<br>Academy Award for Best Actor/Actress: No",
          "Name: Jamie Foxx<br>Movie: Due Date<br>IMDb Score: 6.6<br>Release Date: 2010<br>Academy Award for Best Actor/Actress: No",
          "Name: Jamie Foxx<br>Movie: Valentine's Day<br>IMDb Score: 5.7<br>Release Date: 2010<br>Academy Award for Best Actor/Actress: No",
          "Name: Jamie Foxx<br>Movie: Rio<br>IMDb Score: 7.0<br>Release Date: 2011<br>Academy Award for Best Actor/Actress: No",
          "Name: Jamie Foxx<br>Movie: Horrible Bosses<br>IMDb Score: 6.9<br>Release Date: 2011<br>Academy Award for Best Actor/Actress: No",
          "Name: Jamie Foxx<br>Movie: Django Unchained<br>IMDb Score: 8.5<br>Release Date: 2012<br>Academy Award for Best Actor/Actress: No"
         ],
         "legendgroup": "Jamie Foxx",
         "marker": {
          "color": "#FF97FF",
          "size": [
           8,
           8,
           8,
           8,
           8,
           15,
           8,
           8,
           8,
           8,
           8,
           8,
           8,
           8,
           8,
           8,
           8,
           8,
           8
          ],
          "symbol": [
           "circle",
           "circle",
           "circle",
           "circle",
           "circle",
           "star",
           "circle",
           "circle",
           "circle",
           "circle",
           "circle",
           "circle",
           "circle",
           "circle",
           "circle",
           "circle",
           "circle",
           "circle",
           "circle"
          ]
         },
         "mode": "markers",
         "name": "Jamie Foxx",
         "showlegend": false,
         "type": "scatter",
         "x": [
          1998,
          1999,
          1999,
          2001,
          2003,
          2004,
          2004,
          2004,
          2005,
          2005,
          2006,
          2007,
          2009,
          2009,
          2010,
          2010,
          2011,
          2011,
          2012
         ],
         "y": [
          5.6,
          6.8,
          5.1,
          6.8,
          6.4,
          7.7,
          7.6,
          5.5,
          7.1,
          5,
          6.5,
          7.1,
          7.4,
          6.7,
          6.6,
          5.7,
          7,
          6.9,
          8.5
         ]
        },
        {
         "hoverinfo": "text",
         "hovertext": [
          "Name: Jeff Bridges<br>Movie: Heaven's Gate<br>IMDb Score: 6.8<br>Release Date: 1980<br>Academy Award for Best Actor/Actress: No",
          "Name: Jeff Bridges<br>Movie: White Squall<br>IMDb Score: 6.6<br>Release Date: 1996<br>Academy Award for Best Actor/Actress: No",
          "Name: Jeff Bridges<br>Movie: The Big Lebowski<br>IMDb Score: 8.2<br>Release Date: 1998<br>Academy Award for Best Actor/Actress: No",
          "Name: Jeff Bridges<br>Movie: The Muse<br>IMDb Score: 5.6<br>Release Date: 1999<br>Academy Award for Best Actor/Actress: No",
          "Name: Jeff Bridges<br>Movie: Arlington Road<br>IMDb Score: 7.2<br>Release Date: 1999<br>Academy Award for Best Actor/Actress: No",
          "Name: Jeff Bridges<br>Movie: The Contender<br>IMDb Score: 7.0<br>Release Date: 2000<br>Academy Award for Best Actor/Actress: No",
          "Name: Jeff Bridges<br>Movie: K-PAX<br>IMDb Score: 7.4<br>Release Date: 2001<br>Academy Award for Best Actor/Actress: No",
          "Name: Jeff Bridges<br>Movie: Seabiscuit<br>IMDb Score: 7.3<br>Release Date: 2003<br>Academy Award for Best Actor/Actress: No",
          "Name: Jeff Bridges<br>Movie: Stick It<br>IMDb Score: 6.4<br>Release Date: 2006<br>Academy Award for Best Actor/Actress: No",
          "Name: Jeff Bridges<br>Movie: Surf's Up<br>IMDb Score: 6.8<br>Release Date: 2007<br>Academy Award for Best Actor/Actress: No",
          "Name: Jeff Bridges<br>Movie: How to Lose Friends & Alienate People<br>IMDb Score: 6.5<br>Release Date: 2008<br>Academy Award for Best Actor/Actress: No",
          "Name: Jeff Bridges<br>Movie: Iron Man<br>IMDb Score: 7.9<br>Release Date: 2008<br>Academy Award for Best Actor/Actress: No",
          "Name: Jeff Bridges<br>Movie: The Men Who Stare at Goats<br>IMDb Score: 6.2<br>Release Date: 2009<br>Academy Award for Best Actor/Actress: No",
          "Name: Jeff Bridges<br>Movie: Crazy Heart<br>IMDb Score: 7.3<br>Release Date: 2009<br>Academy Award for Best Actor/Actress: Yes",
          "Name: Jeff Bridges<br>Movie: True Grit<br>IMDb Score: 7.7<br>Release Date: 2010<br>Academy Award for Best Actor/Actress: No",
          "Name: Jeff Bridges<br>Movie: R.I.P.D.<br>IMDb Score: 5.6<br>Release Date: 2013<br>Academy Award for Best Actor/Actress: No"
         ],
         "legendgroup": "Jeff Bridges",
         "marker": {
          "color": "#FECB52",
          "size": [
           8,
           8,
           8,
           8,
           8,
           8,
           8,
           8,
           8,
           8,
           8,
           8,
           8,
           15,
           8,
           8
          ],
          "symbol": [
           "circle",
           "circle",
           "circle",
           "circle",
           "circle",
           "circle",
           "circle",
           "circle",
           "circle",
           "circle",
           "circle",
           "circle",
           "circle",
           "star",
           "circle",
           "circle"
          ]
         },
         "mode": "markers",
         "name": "Jeff Bridges",
         "showlegend": false,
         "type": "scatter",
         "x": [
          1980,
          1996,
          1998,
          1999,
          1999,
          2000,
          2001,
          2003,
          2006,
          2007,
          2008,
          2008,
          2009,
          2009,
          2010,
          2013
         ],
         "y": [
          6.8,
          6.6,
          8.2,
          5.6,
          7.2,
          7,
          7.4,
          7.3,
          6.4,
          6.8,
          6.5,
          7.9,
          6.2,
          7.3,
          7.7,
          5.6
         ]
        },
        {
         "hoverinfo": "text",
         "hovertext": [
          "Name: Jodie Foster<br>Movie: The Hotel New Hampshire<br>IMDb Score: 6.0<br>Release Date: 1984<br>Academy Award for Best Actor/Actress: No",
          "Name: Jodie Foster<br>Movie: The Silence of the Lambs<br>IMDb Score: 8.6<br>Release Date: 1991<br>Academy Award for Best Actor/Actress: Yes",
          "Name: Jodie Foster<br>Movie: Contact<br>IMDb Score: 7.4<br>Release Date: 1997<br>Academy Award for Best Actor/Actress: No",
          "Name: Jodie Foster<br>Movie: Anna and the King<br>IMDb Score: 6.7<br>Release Date: 1999<br>Academy Award for Best Actor/Actress: No",
          "Name: Jodie Foster<br>Movie: The Dangerous Lives of Altar Boys<br>IMDb Score: 7.1<br>Release Date: 2002<br>Academy Award for Best Actor/Actress: No",
          "Name: Jodie Foster<br>Movie: Panic Room<br>IMDb Score: 6.8<br>Release Date: 2002<br>Academy Award for Best Actor/Actress: No",
          "Name: Jodie Foster<br>Movie: A Very Long Engagement<br>IMDb Score: 7.7<br>Release Date: 2004<br>Academy Award for Best Actor/Actress: No",
          "Name: Jodie Foster<br>Movie: Flightplan<br>IMDb Score: 6.2<br>Release Date: 2005<br>Academy Award for Best Actor/Actress: No",
          "Name: Jodie Foster<br>Movie: Inside Man<br>IMDb Score: 7.6<br>Release Date: 2006<br>Academy Award for Best Actor/Actress: No",
          "Name: Jodie Foster<br>Movie: Nim's Island<br>IMDb Score: 6.0<br>Release Date: 2008<br>Academy Award for Best Actor/Actress: No",
          "Name: Jodie Foster<br>Movie: Motherhood<br>IMDb Score: 4.7<br>Release Date: 2009<br>Academy Award for Best Actor/Actress: No",
          "Name: Jodie Foster<br>Movie: Carnage<br>IMDb Score: 7.2<br>Release Date: 2011<br>Academy Award for Best Actor/Actress: No",
          "Name: Jodie Foster<br>Movie: The Beaver<br>IMDb Score: 6.7<br>Release Date: 2011<br>Academy Award for Best Actor/Actress: No",
          "Name: Jodie Foster<br>Movie: Elysium<br>IMDb Score: 6.6<br>Release Date: 2013<br>Academy Award for Best Actor/Actress: No"
         ],
         "legendgroup": "Jodie Foster",
         "marker": {
          "color": "#636EFA",
          "size": [
           8,
           15,
           8,
           8,
           8,
           8,
           8,
           8,
           8,
           8,
           8,
           8,
           8,
           8
          ],
          "symbol": [
           "circle",
           "star",
           "circle",
           "circle",
           "circle",
           "circle",
           "circle",
           "circle",
           "circle",
           "circle",
           "circle",
           "circle",
           "circle",
           "circle"
          ]
         },
         "mode": "markers",
         "name": "Jodie Foster",
         "showlegend": false,
         "type": "scatter",
         "x": [
          1984,
          1991,
          1997,
          1999,
          2002,
          2002,
          2004,
          2005,
          2006,
          2008,
          2009,
          2011,
          2011,
          2013
         ],
         "y": [
          6,
          8.6,
          7.4,
          6.7,
          7.1,
          6.8,
          7.7,
          6.2,
          7.6,
          6,
          4.7,
          7.2,
          6.7,
          6.6
         ]
        },
        {
         "hoverinfo": "text",
         "hovertext": [
          "Name: Julia Roberts<br>Movie: Mystic Pizza<br>IMDb Score: 6.2<br>Release Date: 1988<br>Academy Award for Best Actor/Actress: No",
          "Name: Julia Roberts<br>Movie: Pretty Woman<br>IMDb Score: 6.9<br>Release Date: 1990<br>Academy Award for Best Actor/Actress: No",
          "Name: Julia Roberts<br>Movie: Flatliners<br>IMDb Score: 6.6<br>Release Date: 1990<br>Academy Award for Best Actor/Actress: No",
          "Name: Julia Roberts<br>Movie: Hook<br>IMDb Score: 6.7<br>Release Date: 1991<br>Academy Award for Best Actor/Actress: No",
          "Name: Julia Roberts<br>Movie: Everyone Says I Love You<br>IMDb Score: 6.8<br>Release Date: 1996<br>Academy Award for Best Actor/Actress: No",
          "Name: Julia Roberts<br>Movie: Michael Collins<br>IMDb Score: 7.1<br>Release Date: 1996<br>Academy Award for Best Actor/Actress: No",
          "Name: Julia Roberts<br>Movie: Mary Reilly<br>IMDb Score: 5.8<br>Release Date: 1996<br>Academy Award for Best Actor/Actress: No",
          "Name: Julia Roberts<br>Movie: My Best Friend's Wedding<br>IMDb Score: 6.3<br>Release Date: 1997<br>Academy Award for Best Actor/Actress: No",
          "Name: Julia Roberts<br>Movie: Conspiracy Theory<br>IMDb Score: 6.7<br>Release Date: 1997<br>Academy Award for Best Actor/Actress: No",
          "Name: Julia Roberts<br>Movie: Stepmom<br>IMDb Score: 6.7<br>Release Date: 1998<br>Academy Award for Best Actor/Actress: No",
          "Name: Julia Roberts<br>Movie: Notting Hill<br>IMDb Score: 7.0<br>Release Date: 1999<br>Academy Award for Best Actor/Actress: No",
          "Name: Julia Roberts<br>Movie: Runaway Bride<br>IMDb Score: 5.5<br>Release Date: 1999<br>Academy Award for Best Actor/Actress: No",
          "Name: Julia Roberts<br>Movie: Erin Brockovich<br>IMDb Score: 7.3<br>Release Date: 2000<br>Academy Award for Best Actor/Actress: Yes",
          "Name: Julia Roberts<br>Movie: The Mexican<br>IMDb Score: 6.1<br>Release Date: 2001<br>Academy Award for Best Actor/Actress: No",
          "Name: Julia Roberts<br>Movie: America's Sweethearts<br>IMDb Score: 5.7<br>Release Date: 2001<br>Academy Award for Best Actor/Actress: No",
          "Name: Julia Roberts<br>Movie: Ocean's Eleven<br>IMDb Score: 7.8<br>Release Date: 2001<br>Academy Award for Best Actor/Actress: No",
          "Name: Julia Roberts<br>Movie: Confessions of a Dangerous Mind<br>IMDb Score: 7.1<br>Release Date: 2002<br>Academy Award for Best Actor/Actress: No",
          "Name: Julia Roberts<br>Movie: Full Frontal<br>IMDb Score: 4.7<br>Release Date: 2002<br>Academy Award for Best Actor/Actress: No",
          "Name: Julia Roberts<br>Movie: Full Frontal<br>IMDb Score: 4.7<br>Release Date: 2002<br>Academy Award for Best Actor/Actress: No",
          "Name: Julia Roberts<br>Movie: Mona Lisa Smile<br>IMDb Score: 6.4<br>Release Date: 2003<br>Academy Award for Best Actor/Actress: No",
          "Name: Julia Roberts<br>Movie: Closer<br>IMDb Score: 7.3<br>Release Date: 2004<br>Academy Award for Best Actor/Actress: No",
          "Name: Julia Roberts<br>Movie: Ocean's Twelve<br>IMDb Score: 6.4<br>Release Date: 2004<br>Academy Award for Best Actor/Actress: No",
          "Name: Julia Roberts<br>Movie: Charlotte's Web<br>IMDb Score: 6.4<br>Release Date: 2006<br>Academy Award for Best Actor/Actress: No",
          "Name: Julia Roberts<br>Movie: The Ant Bully<br>IMDb Score: 5.9<br>Release Date: 2006<br>Academy Award for Best Actor/Actress: No",
          "Name: Julia Roberts<br>Movie: Charlie Wilson's War<br>IMDb Score: 7.1<br>Release Date: 2007<br>Academy Award for Best Actor/Actress: No",
          "Name: Julia Roberts<br>Movie: Duplicity<br>IMDb Score: 6.2<br>Release Date: 2009<br>Academy Award for Best Actor/Actress: No",
          "Name: Julia Roberts<br>Movie: Eat Pray Love<br>IMDb Score: 5.7<br>Release Date: 2010<br>Academy Award for Best Actor/Actress: No",
          "Name: Julia Roberts<br>Movie: Valentine's Day<br>IMDb Score: 5.7<br>Release Date: 2010<br>Academy Award for Best Actor/Actress: No",
          "Name: Julia Roberts<br>Movie: Larry Crowne<br>IMDb Score: 6.1<br>Release Date: 2011<br>Academy Award for Best Actor/Actress: No",
          "Name: Julia Roberts<br>Movie: Mirror Mirror<br>IMDb Score: 5.6<br>Release Date: 2012<br>Academy Award for Best Actor/Actress: No"
         ],
         "legendgroup": "Julia Roberts",
         "marker": {
          "color": "#EF553B",
          "size": [
           8,
           8,
           8,
           8,
           8,
           8,
           8,
           8,
           8,
           8,
           8,
           8,
           15,
           8,
           8,
           8,
           8,
           8,
           8,
           8,
           8,
           8,
           8,
           8,
           8,
           8,
           8,
           8,
           8,
           8
          ],
          "symbol": [
           "circle",
           "circle",
           "circle",
           "circle",
           "circle",
           "circle",
           "circle",
           "circle",
           "circle",
           "circle",
           "circle",
           "circle",
           "star",
           "circle",
           "circle",
           "circle",
           "circle",
           "circle",
           "circle",
           "circle",
           "circle",
           "circle",
           "circle",
           "circle",
           "circle",
           "circle",
           "circle",
           "circle",
           "circle",
           "circle"
          ]
         },
         "mode": "markers",
         "name": "Julia Roberts",
         "showlegend": false,
         "type": "scatter",
         "x": [
          1988,
          1990,
          1990,
          1991,
          1996,
          1996,
          1996,
          1997,
          1997,
          1998,
          1999,
          1999,
          2000,
          2001,
          2001,
          2001,
          2002,
          2002,
          2002,
          2003,
          2004,
          2004,
          2006,
          2006,
          2007,
          2009,
          2010,
          2010,
          2011,
          2012
         ],
         "y": [
          6.2,
          6.9,
          6.6,
          6.7,
          6.8,
          7.1,
          5.8,
          6.3,
          6.7,
          6.7,
          7,
          5.5,
          7.3,
          6.1,
          5.7,
          7.8,
          7.1,
          4.7,
          4.7,
          6.4,
          7.3,
          6.4,
          6.4,
          5.9,
          7.1,
          6.2,
          5.7,
          5.7,
          6.1,
          5.6
         ]
        },
        {
         "hoverinfo": "text",
         "hovertext": [
          "Name: Kate Winslet<br>Movie: Heavenly Creatures<br>IMDb Score: 7.4<br>Release Date: 1994<br>Academy Award for Best Actor/Actress: No",
          "Name: Kate Winslet<br>Movie: Sense and Sensibility<br>IMDb Score: 7.7<br>Release Date: 1995<br>Academy Award for Best Actor/Actress: No",
          "Name: Kate Winslet<br>Movie: Hamlet<br>IMDb Score: 7.8<br>Release Date: 1996<br>Academy Award for Best Actor/Actress: No",
          "Name: Kate Winslet<br>Movie: Hamlet<br>IMDb Score: 7.8<br>Release Date: 1996<br>Academy Award for Best Actor/Actress: No",
          "Name: Kate Winslet<br>Movie: Titanic<br>IMDb Score: 7.7<br>Release Date: 1997<br>Academy Award for Best Actor/Actress: No",
          "Name: Kate Winslet<br>Movie: Quills<br>IMDb Score: 7.4<br>Release Date: 2000<br>Academy Award for Best Actor/Actress: No",
          "Name: Kate Winslet<br>Movie: Iris<br>IMDb Score: 7.1<br>Release Date: 2001<br>Academy Award for Best Actor/Actress: No",
          "Name: Kate Winslet<br>Movie: The Life of David Gale<br>IMDb Score: 7.5<br>Release Date: 2003<br>Academy Award for Best Actor/Actress: No",
          "Name: Kate Winslet<br>Movie: Eternal Sunshine of the Spotless Mind<br>IMDb Score: 8.3<br>Release Date: 2004<br>Academy Award for Best Actor/Actress: No",
          "Name: Kate Winslet<br>Movie: Finding Neverland<br>IMDb Score: 7.8<br>Release Date: 2004<br>Academy Award for Best Actor/Actress: No",
          "Name: Kate Winslet<br>Movie: Flushed Away<br>IMDb Score: 6.7<br>Release Date: 2006<br>Academy Award for Best Actor/Actress: No",
          "Name: Kate Winslet<br>Movie: All the King's Men<br>IMDb Score: 6.2<br>Release Date: 2006<br>Academy Award for Best Actor/Actress: No",
          "Name: Kate Winslet<br>Movie: Little Children<br>IMDb Score: 7.6<br>Release Date: 2006<br>Academy Award for Best Actor/Actress: No",
          "Name: Kate Winslet<br>Movie: The Holiday<br>IMDb Score: 6.9<br>Release Date: 2006<br>Academy Award for Best Actor/Actress: No",
          "Name: Kate Winslet<br>Movie: The Reader<br>IMDb Score: 7.6<br>Release Date: 2008<br>Academy Award for Best Actor/Actress: Yes",
          "Name: Kate Winslet<br>Movie: Revolutionary Road<br>IMDb Score: 7.3<br>Release Date: 2008<br>Academy Award for Best Actor/Actress: No",
          "Name: Kate Winslet<br>Movie: Contagion<br>IMDb Score: 6.6<br>Release Date: 2011<br>Academy Award for Best Actor/Actress: No",
          "Name: Kate Winslet<br>Movie: Carnage<br>IMDb Score: 7.2<br>Release Date: 2011<br>Academy Award for Best Actor/Actress: No",
          "Name: Kate Winslet<br>Movie: Movie 43<br>IMDb Score: 4.3<br>Release Date: 2013<br>Academy Award for Best Actor/Actress: No"
         ],
         "legendgroup": "Kate Winslet",
         "marker": {
          "color": "#00CC96",
          "size": [
           8,
           8,
           8,
           8,
           8,
           8,
           8,
           8,
           8,
           8,
           8,
           8,
           8,
           8,
           15,
           8,
           8,
           8,
           8
          ],
          "symbol": [
           "circle",
           "circle",
           "circle",
           "circle",
           "circle",
           "circle",
           "circle",
           "circle",
           "circle",
           "circle",
           "circle",
           "circle",
           "circle",
           "circle",
           "star",
           "circle",
           "circle",
           "circle",
           "circle"
          ]
         },
         "mode": "markers",
         "name": "Kate Winslet",
         "showlegend": false,
         "type": "scatter",
         "x": [
          1994,
          1995,
          1996,
          1996,
          1997,
          2000,
          2001,
          2003,
          2004,
          2004,
          2006,
          2006,
          2006,
          2006,
          2008,
          2008,
          2011,
          2011,
          2013
         ],
         "y": [
          7.4,
          7.7,
          7.8,
          7.8,
          7.7,
          7.4,
          7.1,
          7.5,
          8.3,
          7.8,
          6.7,
          6.2,
          7.6,
          6.9,
          7.6,
          7.3,
          6.6,
          7.2,
          4.3
         ]
        },
        {
         "hoverinfo": "text",
         "hovertext": [
          "Name: Kevin Spacey<br>Movie: Outbreak<br>IMDb Score: 6.6<br>Release Date: 1995<br>Academy Award for Best Actor/Actress: No",
          "Name: Kevin Spacey<br>Movie: A Time to Kill<br>IMDb Score: 7.4<br>Release Date: 1996<br>Academy Award for Best Actor/Actress: No",
          "Name: Kevin Spacey<br>Movie: L.A. Confidential<br>IMDb Score: 8.3<br>Release Date: 1997<br>Academy Award for Best Actor/Actress: No",
          "Name: Kevin Spacey<br>Movie: Midnight in the Garden of Good and Evil<br>IMDb Score: 6.6<br>Release Date: 1997<br>Academy Award for Best Actor/Actress: No",
          "Name: Kevin Spacey<br>Movie: A Bug's Life<br>IMDb Score: 7.2<br>Release Date: 1998<br>Academy Award for Best Actor/Actress: No",
          "Name: Kevin Spacey<br>Movie: The Negotiator<br>IMDb Score: 7.3<br>Release Date: 1998<br>Academy Award for Best Actor/Actress: No",
          "Name: Kevin Spacey<br>Movie: American Beauty<br>IMDb Score: 8.4<br>Release Date: 1999<br>Academy Award for Best Actor/Actress: Yes",
          "Name: Kevin Spacey<br>Movie: Pay It Forward<br>IMDb Score: 7.2<br>Release Date: 2000<br>Academy Award for Best Actor/Actress: No",
          "Name: Kevin Spacey<br>Movie: The Shipping News<br>IMDb Score: 6.8<br>Release Date: 2001<br>Academy Award for Best Actor/Actress: No",
          "Name: Kevin Spacey<br>Movie: K-PAX<br>IMDb Score: 7.4<br>Release Date: 2001<br>Academy Award for Best Actor/Actress: No",
          "Name: Kevin Spacey<br>Movie: The Life of David Gale<br>IMDb Score: 7.5<br>Release Date: 2003<br>Academy Award for Best Actor/Actress: No",
          "Name: Kevin Spacey<br>Movie: Beyond the Sea<br>IMDb Score: 6.7<br>Release Date: 2004<br>Academy Award for Best Actor/Actress: No",
          "Name: Kevin Spacey<br>Movie: Superman Returns<br>IMDb Score: 6.1<br>Release Date: 2006<br>Academy Award for Best Actor/Actress: No",
          "Name: Kevin Spacey<br>Movie: 21<br>IMDb Score: 6.8<br>Release Date: 2008<br>Academy Award for Best Actor/Actress: No",
          "Name: Kevin Spacey<br>Movie: The Men Who Stare at Goats<br>IMDb Score: 6.2<br>Release Date: 2009<br>Academy Award for Best Actor/Actress: No",
          "Name: Kevin Spacey<br>Movie: Moon<br>IMDb Score: 7.9<br>Release Date: 2009<br>Academy Award for Best Actor/Actress: No",
          "Name: Kevin Spacey<br>Movie: Casino Jack<br>IMDb Score: 6.2<br>Release Date: 2010<br>Academy Award for Best Actor/Actress: No",
          "Name: Kevin Spacey<br>Movie: Margin Call<br>IMDb Score: 7.1<br>Release Date: 2011<br>Academy Award for Best Actor/Actress: No",
          "Name: Kevin Spacey<br>Movie: Horrible Bosses<br>IMDb Score: 6.9<br>Release Date: 2011<br>Academy Award for Best Actor/Actress: No"
         ],
         "legendgroup": "Kevin Spacey",
         "marker": {
          "color": "#AB63FA",
          "size": [
           8,
           8,
           8,
           8,
           8,
           8,
           15,
           8,
           8,
           8,
           8,
           8,
           8,
           8,
           8,
           8,
           8,
           8,
           8
          ],
          "symbol": [
           "circle",
           "circle",
           "circle",
           "circle",
           "circle",
           "circle",
           "star",
           "circle",
           "circle",
           "circle",
           "circle",
           "circle",
           "circle",
           "circle",
           "circle",
           "circle",
           "circle",
           "circle",
           "circle"
          ]
         },
         "mode": "markers",
         "name": "Kevin Spacey",
         "showlegend": false,
         "type": "scatter",
         "x": [
          1995,
          1996,
          1997,
          1997,
          1998,
          1998,
          1999,
          2000,
          2001,
          2001,
          2003,
          2004,
          2006,
          2008,
          2009,
          2009,
          2010,
          2011,
          2011
         ],
         "y": [
          6.6,
          7.4,
          8.3,
          6.6,
          7.2,
          7.3,
          8.4,
          7.2,
          6.8,
          7.4,
          7.5,
          6.7,
          6.1,
          6.8,
          6.2,
          7.9,
          6.2,
          7.1,
          6.9
         ]
        },
        {
         "hoverinfo": "text",
         "hovertext": [
          "Name: Meryl Streep<br>Movie: Death Becomes Her<br>IMDb Score: 6.4<br>Release Date: 1992<br>Academy Award for Best Actor/Actress: No",
          "Name: Meryl Streep<br>Movie: The River Wild<br>IMDb Score: 6.3<br>Release Date: 1994<br>Academy Award for Best Actor/Actress: No",
          "Name: Meryl Streep<br>Movie: The Bridges of Madison County<br>IMDb Score: 7.5<br>Release Date: 1995<br>Academy Award for Best Actor/Actress: No",
          "Name: Meryl Streep<br>Movie: Marvin's Room<br>IMDb Score: 6.7<br>Release Date: 1996<br>Academy Award for Best Actor/Actress: No",
          "Name: Meryl Streep<br>Movie: One True Thing<br>IMDb Score: 7.0<br>Release Date: 1998<br>Academy Award for Best Actor/Actress: No",
          "Name: Meryl Streep<br>Movie: A.I. Artificial Intelligence<br>IMDb Score: 7.1<br>Release Date: 2001<br>Academy Award for Best Actor/Actress: No",
          "Name: Meryl Streep<br>Movie: The Hours<br>IMDb Score: 7.6<br>Release Date: 2002<br>Academy Award for Best Actor/Actress: No",
          "Name: Meryl Streep<br>Movie: The Manchurian Candidate<br>IMDb Score: 6.6<br>Release Date: 2004<br>Academy Award for Best Actor/Actress: No",
          "Name: Meryl Streep<br>Movie: The Ant Bully<br>IMDb Score: 5.9<br>Release Date: 2006<br>Academy Award for Best Actor/Actress: No",
          "Name: Meryl Streep<br>Movie: A Prairie Home Companion<br>IMDb Score: 6.8<br>Release Date: 2006<br>Academy Award for Best Actor/Actress: No",
          "Name: Meryl Streep<br>Movie: The Devil Wears Prada<br>IMDb Score: 6.8<br>Release Date: 2006<br>Academy Award for Best Actor/Actress: No",
          "Name: Meryl Streep<br>Movie: Lions for Lambs<br>IMDb Score: 6.2<br>Release Date: 2007<br>Academy Award for Best Actor/Actress: No",
          "Name: Meryl Streep<br>Movie: Rendition<br>IMDb Score: 6.8<br>Release Date: 2007<br>Academy Award for Best Actor/Actress: No",
          "Name: Meryl Streep<br>Movie: Mamma Mia!<br>IMDb Score: 6.3<br>Release Date: 2008<br>Academy Award for Best Actor/Actress: No",
          "Name: Meryl Streep<br>Movie: Doubt<br>IMDb Score: 7.5<br>Release Date: 2008<br>Academy Award for Best Actor/Actress: No",
          "Name: Meryl Streep<br>Movie: It's Complicated<br>IMDb Score: 6.6<br>Release Date: 2009<br>Academy Award for Best Actor/Actress: No",
          "Name: Meryl Streep<br>Movie: Fantastic Mr. Fox<br>IMDb Score: 7.8<br>Release Date: 2009<br>Academy Award for Best Actor/Actress: No",
          "Name: Meryl Streep<br>Movie: Julie & Julia<br>IMDb Score: 7.0<br>Release Date: 2009<br>Academy Award for Best Actor/Actress: No",
          "Name: Meryl Streep<br>Movie: The Iron Lady<br>IMDb Score: 6.4<br>Release Date: 2011<br>Academy Award for Best Actor/Actress: Yes",
          "Name: Meryl Streep<br>Movie: Hope Springs<br>IMDb Score: 6.3<br>Release Date: 2012<br>Academy Award for Best Actor/Actress: No"
         ],
         "legendgroup": "Meryl Streep",
         "marker": {
          "color": "#FFA15A",
          "size": [
           8,
           8,
           8,
           8,
           8,
           8,
           8,
           8,
           8,
           8,
           8,
           8,
           8,
           8,
           8,
           8,
           8,
           8,
           15,
           8
          ],
          "symbol": [
           "circle",
           "circle",
           "circle",
           "circle",
           "circle",
           "circle",
           "circle",
           "circle",
           "circle",
           "circle",
           "circle",
           "circle",
           "circle",
           "circle",
           "circle",
           "circle",
           "circle",
           "circle",
           "star",
           "circle"
          ]
         },
         "mode": "markers",
         "name": "Meryl Streep",
         "showlegend": false,
         "type": "scatter",
         "x": [
          1992,
          1994,
          1995,
          1996,
          1998,
          2001,
          2002,
          2004,
          2006,
          2006,
          2006,
          2007,
          2007,
          2008,
          2008,
          2009,
          2009,
          2009,
          2011,
          2012
         ],
         "y": [
          6.4,
          6.3,
          7.5,
          6.7,
          7,
          7.1,
          7.6,
          6.6,
          5.9,
          6.8,
          6.8,
          6.2,
          6.8,
          6.3,
          7.5,
          6.6,
          7.8,
          7,
          6.4,
          6.3
         ]
        },
        {
         "hoverinfo": "text",
         "hovertext": [
          "Name: Michael Douglas<br>Movie: Wall Street<br>IMDb Score: 7.4<br>Release Date: 1987<br>Academy Award for Best Actor/Actress: Yes",
          "Name: Michael Douglas<br>Movie: Fatal Attraction<br>IMDb Score: 6.9<br>Release Date: 1987<br>Academy Award for Best Actor/Actress: No",
          "Name: Michael Douglas<br>Movie: Black Rain<br>IMDb Score: 6.6<br>Release Date: 1989<br>Academy Award for Best Actor/Actress: No",
          "Name: Michael Douglas<br>Movie: Disclosure<br>IMDb Score: 6.0<br>Release Date: 1994<br>Academy Award for Best Actor/Actress: No",
          "Name: Michael Douglas<br>Movie: The American President<br>IMDb Score: 6.8<br>Release Date: 1995<br>Academy Award for Best Actor/Actress: No",
          "Name: Michael Douglas<br>Movie: The Ghost and the Darkness<br>IMDb Score: 6.8<br>Release Date: 1996<br>Academy Award for Best Actor/Actress: No",
          "Name: Michael Douglas<br>Movie: The Game<br>IMDb Score: 7.8<br>Release Date: 1997<br>Academy Award for Best Actor/Actress: No",
          "Name: Michael Douglas<br>Movie: Wonder Boys<br>IMDb Score: 7.4<br>Release Date: 2000<br>Academy Award for Best Actor/Actress: No",
          "Name: Michael Douglas<br>Movie: Don't Say a Word<br>IMDb Score: 6.3<br>Release Date: 2001<br>Academy Award for Best Actor/Actress: No",
          "Name: Michael Douglas<br>Movie: The Sentinel<br>IMDb Score: 6.1<br>Release Date: 2006<br>Academy Award for Best Actor/Actress: No",
          "Name: Michael Douglas<br>Movie: You, Me and Dupree<br>IMDb Score: 5.6<br>Release Date: 2006<br>Academy Award for Best Actor/Actress: No",
          "Name: Michael Douglas<br>Movie: Wall Street: Money Never Sleeps<br>IMDb Score: 6.3<br>Release Date: 2010<br>Academy Award for Best Actor/Actress: No",
          "Name: Michael Douglas<br>Movie: Haywire<br>IMDb Score: 5.8<br>Release Date: 2011<br>Academy Award for Best Actor/Actress: No"
         ],
         "legendgroup": "Michael Douglas",
         "marker": {
          "color": "#19D3F3",
          "size": [
           15,
           8,
           8,
           8,
           8,
           8,
           8,
           8,
           8,
           8,
           8,
           8,
           8
          ],
          "symbol": [
           "star",
           "circle",
           "circle",
           "circle",
           "circle",
           "circle",
           "circle",
           "circle",
           "circle",
           "circle",
           "circle",
           "circle",
           "circle"
          ]
         },
         "mode": "markers",
         "name": "Michael Douglas",
         "showlegend": false,
         "type": "scatter",
         "x": [
          1987,
          1987,
          1989,
          1994,
          1995,
          1996,
          1997,
          2000,
          2001,
          2006,
          2006,
          2010,
          2011
         ],
         "y": [
          7.4,
          6.9,
          6.6,
          6,
          6.8,
          6.8,
          7.8,
          7.4,
          6.3,
          6.1,
          5.6,
          6.3,
          5.8
         ]
        },
        {
         "hoverinfo": "text",
         "hovertext": [
          "Name: Natalie Portman<br>Movie: Everyone Says I Love You<br>IMDb Score: 6.8<br>Release Date: 1996<br>Academy Award for Best Actor/Actress: No",
          "Name: Natalie Portman<br>Movie: Mars Attacks!<br>IMDb Score: 6.3<br>Release Date: 1996<br>Academy Award for Best Actor/Actress: No",
          "Name: Natalie Portman<br>Movie: Anywhere But Here<br>IMDb Score: 6.1<br>Release Date: 1999<br>Academy Award for Best Actor/Actress: No",
          "Name: Natalie Portman<br>Movie: Where the Heart Is<br>IMDb Score: 6.8<br>Release Date: 2000<br>Academy Award for Best Actor/Actress: No",
          "Name: Natalie Portman<br>Movie: Cold Mountain<br>IMDb Score: 7.2<br>Release Date: 2003<br>Academy Award for Best Actor/Actress: No",
          "Name: Natalie Portman<br>Movie: Closer<br>IMDb Score: 7.3<br>Release Date: 2004<br>Academy Award for Best Actor/Actress: No",
          "Name: Natalie Portman<br>Movie: Garden State<br>IMDb Score: 7.6<br>Release Date: 2004<br>Academy Award for Best Actor/Actress: No",
          "Name: Natalie Portman<br>Movie: Paris, je t'aime<br>IMDb Score: 7.3<br>Release Date: 2006<br>Academy Award for Best Actor/Actress: No",
          "Name: Natalie Portman<br>Movie: My Blueberry Nights<br>IMDb Score: 6.7<br>Release Date: 2007<br>Academy Award for Best Actor/Actress: No",
          "Name: Natalie Portman<br>Movie: The Other Boleyn Girl<br>IMDb Score: 6.7<br>Release Date: 2008<br>Academy Award for Best Actor/Actress: No",
          "Name: Natalie Portman<br>Movie: Brothers<br>IMDb Score: 7.1<br>Release Date: 2009<br>Academy Award for Best Actor/Actress: No",
          "Name: Natalie Portman<br>Movie: Brothers<br>IMDb Score: 7.1<br>Release Date: 2009<br>Academy Award for Best Actor/Actress: No",
          "Name: Natalie Portman<br>Movie: G-Force<br>IMDb Score: 5.1<br>Release Date: 2009<br>Academy Award for Best Actor/Actress: No",
          "Name: Natalie Portman<br>Movie: Hesher<br>IMDb Score: 7.1<br>Release Date: 2010<br>Academy Award for Best Actor/Actress: No",
          "Name: Natalie Portman<br>Movie: Black Swan<br>IMDb Score: 8.0<br>Release Date: 2010<br>Academy Award for Best Actor/Actress: Yes",
          "Name: Natalie Portman<br>Movie: Thor<br>IMDb Score: 7.0<br>Release Date: 2011<br>Academy Award for Best Actor/Actress: No",
          "Name: Natalie Portman<br>Movie: No Strings Attached<br>IMDb Score: 6.2<br>Release Date: 2011<br>Academy Award for Best Actor/Actress: No",
          "Name: Natalie Portman<br>Movie: Your Highness<br>IMDb Score: 5.6<br>Release Date: 2011<br>Academy Award for Best Actor/Actress: No",
          "Name: Natalie Portman<br>Movie: Thor: The Dark World<br>IMDb Score: 7.1<br>Release Date: 2013<br>Academy Award for Best Actor/Actress: No"
         ],
         "legendgroup": "Natalie Portman",
         "marker": {
          "color": "#FF6692",
          "size": [
           8,
           8,
           8,
           8,
           8,
           8,
           8,
           8,
           8,
           8,
           8,
           8,
           8,
           8,
           15,
           8,
           8,
           8,
           8
          ],
          "symbol": [
           "circle",
           "circle",
           "circle",
           "circle",
           "circle",
           "circle",
           "circle",
           "circle",
           "circle",
           "circle",
           "circle",
           "circle",
           "circle",
           "circle",
           "star",
           "circle",
           "circle",
           "circle",
           "circle"
          ]
         },
         "mode": "markers",
         "name": "Natalie Portman",
         "showlegend": false,
         "type": "scatter",
         "x": [
          1996,
          1996,
          1999,
          2000,
          2003,
          2004,
          2004,
          2006,
          2007,
          2008,
          2009,
          2009,
          2009,
          2010,
          2010,
          2011,
          2011,
          2011,
          2013
         ],
         "y": [
          6.8,
          6.3,
          6.1,
          6.8,
          7.2,
          7.3,
          7.6,
          7.3,
          6.7,
          6.7,
          7.1,
          7.1,
          5.1,
          7.1,
          8,
          7,
          6.2,
          5.6,
          7.1
         ]
        },
        {
         "hoverinfo": "text",
         "hovertext": [
          "Name: Nicolas Cage<br>Movie: Fast Times at Ridgemont High<br>IMDb Score: 7.2<br>Release Date: 1982<br>Academy Award for Best Actor/Actress: No",
          "Name: Nicolas Cage<br>Movie: The Outsiders<br>IMDb Score: 7.2<br>Release Date: 1983<br>Academy Award for Best Actor/Actress: No",
          "Name: Nicolas Cage<br>Movie: The Cotton Club<br>IMDb Score: 6.5<br>Release Date: 1984<br>Academy Award for Best Actor/Actress: No",
          "Name: Nicolas Cage<br>Movie: Peggy Sue Got Married<br>IMDb Score: 6.3<br>Release Date: 1986<br>Academy Award for Best Actor/Actress: No",
          "Name: Nicolas Cage<br>Movie: Kiss of Death<br>IMDb Score: 5.9<br>Release Date: 1995<br>Academy Award for Best Actor/Actress: No",
          "Name: Nicolas Cage<br>Movie: Leaving Las Vegas<br>IMDb Score: 7.6<br>Release Date: 1995<br>Academy Award for Best Actor/Actress: Yes",
          "Name: Nicolas Cage<br>Movie: The Rock<br>IMDb Score: 7.4<br>Release Date: 1996<br>Academy Award for Best Actor/Actress: No",
          "Name: Nicolas Cage<br>Movie: Con Air<br>IMDb Score: 6.8<br>Release Date: 1997<br>Academy Award for Best Actor/Actress: No",
          "Name: Nicolas Cage<br>Movie: Face/Off<br>IMDb Score: 7.3<br>Release Date: 1997<br>Academy Award for Best Actor/Actress: No",
          "Name: Nicolas Cage<br>Movie: Face/Off<br>IMDb Score: 7.3<br>Release Date: 1997<br>Academy Award for Best Actor/Actress: No",
          "Name: Nicolas Cage<br>Movie: City of Angels<br>IMDb Score: 6.7<br>Release Date: 1998<br>Academy Award for Best Actor/Actress: No",
          "Name: Nicolas Cage<br>Movie: Snake Eyes<br>IMDb Score: 5.9<br>Release Date: 1998<br>Academy Award for Best Actor/Actress: No",
          "Name: Nicolas Cage<br>Movie: The Family Man<br>IMDb Score: 6.7<br>Release Date: 2000<br>Academy Award for Best Actor/Actress: No",
          "Name: Nicolas Cage<br>Movie: Captain Corelli's Mandolin<br>IMDb Score: 5.9<br>Release Date: 2001<br>Academy Award for Best Actor/Actress: No",
          "Name: Nicolas Cage<br>Movie: Windtalkers<br>IMDb Score: 6.0<br>Release Date: 2002<br>Academy Award for Best Actor/Actress: No",
          "Name: Nicolas Cage<br>Movie: National Treasure<br>IMDb Score: 6.9<br>Release Date: 2004<br>Academy Award for Best Actor/Actress: No",
          "Name: Nicolas Cage<br>Movie: Lord of War<br>IMDb Score: 7.6<br>Release Date: 2005<br>Academy Award for Best Actor/Actress: No",
          "Name: Nicolas Cage<br>Movie: The Weather Man<br>IMDb Score: 6.6<br>Release Date: 2005<br>Academy Award for Best Actor/Actress: No",
          "Name: Nicolas Cage<br>Movie: The Ant Bully<br>IMDb Score: 5.9<br>Release Date: 2006<br>Academy Award for Best Actor/Actress: No",
          "Name: Nicolas Cage<br>Movie: World Trade Center<br>IMDb Score: 6.0<br>Release Date: 2006<br>Academy Award for Best Actor/Actress: No",
          "Name: Nicolas Cage<br>Movie: Grindhouse<br>IMDb Score: 7.6<br>Release Date: 2007<br>Academy Award for Best Actor/Actress: No",
          "Name: Nicolas Cage<br>Movie: Ghost Rider<br>IMDb Score: 5.2<br>Release Date: 2007<br>Academy Award for Best Actor/Actress: No",
          "Name: Nicolas Cage<br>Movie: Bangkok Dangerous<br>IMDb Score: 5.4<br>Release Date: 2008<br>Academy Award for Best Actor/Actress: No",
          "Name: Nicolas Cage<br>Movie: Knowing<br>IMDb Score: 6.2<br>Release Date: 2009<br>Academy Award for Best Actor/Actress: No",
          "Name: Nicolas Cage<br>Movie: G-Force<br>IMDb Score: 5.1<br>Release Date: 2009<br>Academy Award for Best Actor/Actress: No",
          "Name: Nicolas Cage<br>Movie: Bad Lieutenant: Port of Call New Orleans<br>IMDb Score: 6.7<br>Release Date: 2009<br>Academy Award for Best Actor/Actress: No",
          "Name: Nicolas Cage<br>Movie: Astro Boy<br>IMDb Score: 6.3<br>Release Date: 2009<br>Academy Award for Best Actor/Actress: No",
          "Name: Nicolas Cage<br>Movie: The Sorcerer's Apprentice<br>IMDb Score: 6.1<br>Release Date: 2010<br>Academy Award for Best Actor/Actress: No",
          "Name: Nicolas Cage<br>Movie: Kick-Ass<br>IMDb Score: 7.7<br>Release Date: 2010<br>Academy Award for Best Actor/Actress: No",
          "Name: Nicolas Cage<br>Movie: Kick-Ass<br>IMDb Score: 7.7<br>Release Date: 2010<br>Academy Award for Best Actor/Actress: No",
          "Name: Nicolas Cage<br>Movie: Drive Angry<br>IMDb Score: 5.5<br>Release Date: 2011<br>Academy Award for Best Actor/Actress: No",
          "Name: Nicolas Cage<br>Movie: The Croods<br>IMDb Score: 7.3<br>Release Date: 2013<br>Academy Award for Best Actor/Actress: No"
         ],
         "legendgroup": "Nicolas Cage",
         "marker": {
          "color": "#B6E880",
          "size": [
           8,
           8,
           8,
           8,
           8,
           15,
           8,
           8,
           8,
           8,
           8,
           8,
           8,
           8,
           8,
           8,
           8,
           8,
           8,
           8,
           8,
           8,
           8,
           8,
           8,
           8,
           8,
           8,
           8,
           8,
           8,
           8
          ],
          "symbol": [
           "circle",
           "circle",
           "circle",
           "circle",
           "circle",
           "star",
           "circle",
           "circle",
           "circle",
           "circle",
           "circle",
           "circle",
           "circle",
           "circle",
           "circle",
           "circle",
           "circle",
           "circle",
           "circle",
           "circle",
           "circle",
           "circle",
           "circle",
           "circle",
           "circle",
           "circle",
           "circle",
           "circle",
           "circle",
           "circle",
           "circle",
           "circle"
          ]
         },
         "mode": "markers",
         "name": "Nicolas Cage",
         "showlegend": false,
         "type": "scatter",
         "x": [
          1982,
          1983,
          1984,
          1986,
          1995,
          1995,
          1996,
          1997,
          1997,
          1997,
          1998,
          1998,
          2000,
          2001,
          2002,
          2004,
          2005,
          2005,
          2006,
          2006,
          2007,
          2007,
          2008,
          2009,
          2009,
          2009,
          2009,
          2010,
          2010,
          2010,
          2011,
          2013
         ],
         "y": [
          7.2,
          7.2,
          6.5,
          6.3,
          5.9,
          7.6,
          7.4,
          6.8,
          7.3,
          7.3,
          6.7,
          5.9,
          6.7,
          5.9,
          6,
          6.9,
          7.6,
          6.6,
          5.9,
          6,
          7.6,
          5.2,
          5.4,
          6.2,
          5.1,
          6.7,
          6.3,
          6.1,
          7.7,
          7.7,
          5.5,
          7.3
         ]
        },
        {
         "hoverinfo": "text",
         "hovertext": [
          "Name: Nicole Kidman<br>Movie: Days of Thunder<br>IMDb Score: 5.9<br>Release Date: 1990<br>Academy Award for Best Actor/Actress: No",
          "Name: Nicole Kidman<br>Movie: Batman Forever<br>IMDb Score: 5.4<br>Release Date: 1995<br>Academy Award for Best Actor/Actress: No",
          "Name: Nicole Kidman<br>Movie: To Die For<br>IMDb Score: 6.8<br>Release Date: 1995<br>Academy Award for Best Actor/Actress: No",
          "Name: Nicole Kidman<br>Movie: The Peacemaker<br>IMDb Score: 5.9<br>Release Date: 1997<br>Academy Award for Best Actor/Actress: No",
          "Name: Nicole Kidman<br>Movie: Practical Magic<br>IMDb Score: 6.1<br>Release Date: 1998<br>Academy Award for Best Actor/Actress: No",
          "Name: Nicole Kidman<br>Movie: Eyes Wide Shut<br>IMDb Score: 7.3<br>Release Date: 1999<br>Academy Award for Best Actor/Actress: No",
          "Name: Nicole Kidman<br>Movie: The Others<br>IMDb Score: 7.6<br>Release Date: 2001<br>Academy Award for Best Actor/Actress: No",
          "Name: Nicole Kidman<br>Movie: Panic Room<br>IMDb Score: 6.8<br>Release Date: 2002<br>Academy Award for Best Actor/Actress: No",
          "Name: Nicole Kidman<br>Movie: The Hours<br>IMDb Score: 7.6<br>Release Date: 2002<br>Academy Award for Best Actor/Actress: Yes",
          "Name: Nicole Kidman<br>Movie: Cold Mountain<br>IMDb Score: 7.2<br>Release Date: 2003<br>Academy Award for Best Actor/Actress: No",
          "Name: Nicole Kidman<br>Movie: The Stepford Wives<br>IMDb Score: 5.2<br>Release Date: 2004<br>Academy Award for Best Actor/Actress: No",
          "Name: Nicole Kidman<br>Movie: Birth<br>IMDb Score: 6.1<br>Release Date: 2004<br>Academy Award for Best Actor/Actress: No",
          "Name: Nicole Kidman<br>Movie: The Interpreter<br>IMDb Score: 6.4<br>Release Date: 2005<br>Academy Award for Best Actor/Actress: No",
          "Name: Nicole Kidman<br>Movie: Happy Feet<br>IMDb Score: 6.5<br>Release Date: 2006<br>Academy Award for Best Actor/Actress: No",
          "Name: Nicole Kidman<br>Movie: The Invasion<br>IMDb Score: 5.9<br>Release Date: 2007<br>Academy Award for Best Actor/Actress: No",
          "Name: Nicole Kidman<br>Movie: The Golden Compass<br>IMDb Score: 6.1<br>Release Date: 2007<br>Academy Award for Best Actor/Actress: No",
          "Name: Nicole Kidman<br>Movie: Australia<br>IMDb Score: 6.6<br>Release Date: 2008<br>Academy Award for Best Actor/Actress: No",
          "Name: Nicole Kidman<br>Movie: Nine<br>IMDb Score: 5.8<br>Release Date: 2009<br>Academy Award for Best Actor/Actress: No",
          "Name: Nicole Kidman<br>Movie: Rabbit Hole<br>IMDb Score: 7.0<br>Release Date: 2010<br>Academy Award for Best Actor/Actress: No",
          "Name: Nicole Kidman<br>Movie: The Railway Man<br>IMDb Score: 7.1<br>Release Date: 2013<br>Academy Award for Best Actor/Actress: No"
         ],
         "legendgroup": "Nicole Kidman",
         "marker": {
          "color": "#FF97FF",
          "size": [
           8,
           8,
           8,
           8,
           8,
           8,
           8,
           8,
           15,
           8,
           8,
           8,
           8,
           8,
           8,
           8,
           8,
           8,
           8,
           8
          ],
          "symbol": [
           "circle",
           "circle",
           "circle",
           "circle",
           "circle",
           "circle",
           "circle",
           "circle",
           "star",
           "circle",
           "circle",
           "circle",
           "circle",
           "circle",
           "circle",
           "circle",
           "circle",
           "circle",
           "circle",
           "circle"
          ]
         },
         "mode": "markers",
         "name": "Nicole Kidman",
         "showlegend": false,
         "type": "scatter",
         "x": [
          1990,
          1995,
          1995,
          1997,
          1998,
          1999,
          2001,
          2002,
          2002,
          2003,
          2004,
          2004,
          2005,
          2006,
          2007,
          2007,
          2008,
          2009,
          2010,
          2013
         ],
         "y": [
          5.9,
          5.4,
          6.8,
          5.9,
          6.1,
          7.3,
          7.6,
          6.8,
          7.6,
          7.2,
          5.2,
          6.1,
          6.4,
          6.5,
          5.9,
          6.1,
          6.6,
          5.8,
          7,
          7.1
         ]
        },
        {
         "hoverinfo": "text",
         "hovertext": [
          "Name: Paul Newman<br>Movie: The Verdict<br>IMDb Score: 7.8<br>Release Date: 1982<br>Academy Award for Best Actor/Actress: No",
          "Name: Paul Newman<br>Movie: The Color of Money<br>IMDb Score: 7.0<br>Release Date: 1986<br>Academy Award for Best Actor/Actress: Yes",
          "Name: Paul Newman<br>Movie: The Hudsucker Proxy<br>IMDb Score: 7.3<br>Release Date: 1994<br>Academy Award for Best Actor/Actress: No",
          "Name: Paul Newman<br>Movie: Message in a Bottle<br>IMDb Score: 6.1<br>Release Date: 1999<br>Academy Award for Best Actor/Actress: No",
          "Name: Paul Newman<br>Movie: Road to Perdition<br>IMDb Score: 7.7<br>Release Date: 2002<br>Academy Award for Best Actor/Actress: No",
          "Name: Paul Newman<br>Movie: Cars<br>IMDb Score: 7.2<br>Release Date: 2006<br>Academy Award for Best Actor/Actress: No"
         ],
         "legendgroup": "Paul Newman",
         "marker": {
          "color": "#FECB52",
          "size": [
           8,
           15,
           8,
           8,
           8,
           8
          ],
          "symbol": [
           "circle",
           "star",
           "circle",
           "circle",
           "circle",
           "circle"
          ]
         },
         "mode": "markers",
         "name": "Paul Newman",
         "showlegend": false,
         "type": "scatter",
         "x": [
          1982,
          1986,
          1994,
          1999,
          2002,
          2006
         ],
         "y": [
          7.8,
          7,
          7.3,
          6.1,
          7.7,
          7.2
         ]
        },
        {
         "hoverinfo": "text",
         "hovertext": [
          "Name: Philip Seymour Hoffman<br>Movie: Twister<br>IMDb Score: 6.3<br>Release Date: 1996<br>Academy Award for Best Actor/Actress: No",
          "Name: Philip Seymour Hoffman<br>Movie: Boogie Nights<br>IMDb Score: 7.9<br>Release Date: 1997<br>Academy Award for Best Actor/Actress: No",
          "Name: Philip Seymour Hoffman<br>Movie: Next Stop Wonderland<br>IMDb Score: 6.7<br>Release Date: 1998<br>Academy Award for Best Actor/Actress: No",
          "Name: Philip Seymour Hoffman<br>Movie: Patch Adams<br>IMDb Score: 6.7<br>Release Date: 1998<br>Academy Award for Best Actor/Actress: No",
          "Name: Philip Seymour Hoffman<br>Movie: Happiness<br>IMDb Score: 7.8<br>Release Date: 1998<br>Academy Award for Best Actor/Actress: No",
          "Name: Philip Seymour Hoffman<br>Movie: The Big Lebowski<br>IMDb Score: 8.2<br>Release Date: 1998<br>Academy Award for Best Actor/Actress: No",
          "Name: Philip Seymour Hoffman<br>Movie: The Talented Mr. Ripley<br>IMDb Score: 7.3<br>Release Date: 1999<br>Academy Award for Best Actor/Actress: No",
          "Name: Philip Seymour Hoffman<br>Movie: Magnolia<br>IMDb Score: 8.0<br>Release Date: 1999<br>Academy Award for Best Actor/Actress: No",
          "Name: Philip Seymour Hoffman<br>Movie: Flawless<br>IMDb Score: 6.4<br>Release Date: 1999<br>Academy Award for Best Actor/Actress: No",
          "Name: Philip Seymour Hoffman<br>Movie: Almost Famous<br>IMDb Score: 7.9<br>Release Date: 2000<br>Academy Award for Best Actor/Actress: No",
          "Name: Philip Seymour Hoffman<br>Movie: 25th Hour<br>IMDb Score: 7.7<br>Release Date: 2002<br>Academy Award for Best Actor/Actress: No",
          "Name: Philip Seymour Hoffman<br>Movie: Red Dragon<br>IMDb Score: 7.2<br>Release Date: 2002<br>Academy Award for Best Actor/Actress: No",
          "Name: Philip Seymour Hoffman<br>Movie: Punch-Drunk Love<br>IMDb Score: 7.3<br>Release Date: 2002<br>Academy Award for Best Actor/Actress: No",
          "Name: Philip Seymour Hoffman<br>Movie: Cold Mountain<br>IMDb Score: 7.2<br>Release Date: 2003<br>Academy Award for Best Actor/Actress: No",
          "Name: Philip Seymour Hoffman<br>Movie: Owning Mahowny<br>IMDb Score: 7.2<br>Release Date: 2003<br>Academy Award for Best Actor/Actress: No",
          "Name: Philip Seymour Hoffman<br>Movie: Along Came Polly<br>IMDb Score: 5.9<br>Release Date: 2004<br>Academy Award for Best Actor/Actress: No",
          "Name: Philip Seymour Hoffman<br>Movie: Capote<br>IMDb Score: 7.4<br>Release Date: 2005<br>Academy Award for Best Actor/Actress: Yes",
          "Name: Philip Seymour Hoffman<br>Movie: Mission: Impossible III<br>IMDb Score: 6.9<br>Release Date: 2006<br>Academy Award for Best Actor/Actress: No",
          "Name: Philip Seymour Hoffman<br>Movie: The Savages<br>IMDb Score: 7.2<br>Release Date: 2007<br>Academy Award for Best Actor/Actress: No",
          "Name: Philip Seymour Hoffman<br>Movie: Charlie Wilson's War<br>IMDb Score: 7.1<br>Release Date: 2007<br>Academy Award for Best Actor/Actress: No",
          "Name: Philip Seymour Hoffman<br>Movie: Synecdoche, New York<br>IMDb Score: 7.5<br>Release Date: 2008<br>Academy Award for Best Actor/Actress: No",
          "Name: Philip Seymour Hoffman<br>Movie: Doubt<br>IMDb Score: 7.5<br>Release Date: 2008<br>Academy Award for Best Actor/Actress: No",
          "Name: Philip Seymour Hoffman<br>Movie: The Invention of Lying<br>IMDb Score: 6.4<br>Release Date: 2009<br>Academy Award for Best Actor/Actress: No",
          "Name: Philip Seymour Hoffman<br>Movie: The Ides of March<br>IMDb Score: 7.1<br>Release Date: 2011<br>Academy Award for Best Actor/Actress: No",
          "Name: Philip Seymour Hoffman<br>Movie: Moneyball<br>IMDb Score: 7.6<br>Release Date: 2011<br>Academy Award for Best Actor/Actress: No",
          "Name: Philip Seymour Hoffman<br>Movie: The Master<br>IMDb Score: 7.1<br>Release Date: 2012<br>Academy Award for Best Actor/Actress: No"
         ],
         "legendgroup": "Philip Seymour Hoffman",
         "marker": {
          "color": "#636EFA",
          "size": [
           8,
           8,
           8,
           8,
           8,
           8,
           8,
           8,
           8,
           8,
           8,
           8,
           8,
           8,
           8,
           8,
           15,
           8,
           8,
           8,
           8,
           8,
           8,
           8,
           8,
           8
          ],
          "symbol": [
           "circle",
           "circle",
           "circle",
           "circle",
           "circle",
           "circle",
           "circle",
           "circle",
           "circle",
           "circle",
           "circle",
           "circle",
           "circle",
           "circle",
           "circle",
           "circle",
           "star",
           "circle",
           "circle",
           "circle",
           "circle",
           "circle",
           "circle",
           "circle",
           "circle",
           "circle"
          ]
         },
         "mode": "markers",
         "name": "Philip Seymour Hoffman",
         "showlegend": false,
         "type": "scatter",
         "x": [
          1996,
          1997,
          1998,
          1998,
          1998,
          1998,
          1999,
          1999,
          1999,
          2000,
          2002,
          2002,
          2002,
          2003,
          2003,
          2004,
          2005,
          2006,
          2007,
          2007,
          2008,
          2008,
          2009,
          2011,
          2011,
          2012
         ],
         "y": [
          6.3,
          7.9,
          6.7,
          6.7,
          7.8,
          8.2,
          7.3,
          8,
          6.4,
          7.9,
          7.7,
          7.2,
          7.3,
          7.2,
          7.2,
          5.9,
          7.4,
          6.9,
          7.2,
          7.1,
          7.5,
          7.5,
          6.4,
          7.1,
          7.6,
          7.1
         ]
        },
        {
         "hoverinfo": "text",
         "hovertext": [
          "Name: Reese Witherspoon<br>Movie: Election<br>IMDb Score: 7.3<br>Release Date: 1999<br>Academy Award for Best Actor/Actress: No",
          "Name: Reese Witherspoon<br>Movie: Cruel Intentions<br>IMDb Score: 6.9<br>Release Date: 1999<br>Academy Award for Best Actor/Actress: No",
          "Name: Reese Witherspoon<br>Movie: American Psycho<br>IMDb Score: 7.6<br>Release Date: 2000<br>Academy Award for Best Actor/Actress: No",
          "Name: Reese Witherspoon<br>Movie: Little Nicky<br>IMDb Score: 5.3<br>Release Date: 2000<br>Academy Award for Best Actor/Actress: No",
          "Name: Reese Witherspoon<br>Movie: Legally Blonde<br>IMDb Score: 6.2<br>Release Date: 2001<br>Academy Award for Best Actor/Actress: No",
          "Name: Reese Witherspoon<br>Movie: Sweet Home Alabama<br>IMDb Score: 6.1<br>Release Date: 2002<br>Academy Award for Best Actor/Actress: No",
          "Name: Reese Witherspoon<br>Movie: The Importance of Being Earnest<br>IMDb Score: 6.9<br>Release Date: 2002<br>Academy Award for Best Actor/Actress: No",
          "Name: Reese Witherspoon<br>Movie: Legally Blonde 2: Red, White & Blonde<br>IMDb Score: 4.6<br>Release Date: 2003<br>Academy Award for Best Actor/Actress: No",
          "Name: Reese Witherspoon<br>Movie: Vanity Fair<br>IMDb Score: 6.2<br>Release Date: 2004<br>Academy Award for Best Actor/Actress: No",
          "Name: Reese Witherspoon<br>Movie: Walk the Line<br>IMDb Score: 7.9<br>Release Date: 2005<br>Academy Award for Best Actor/Actress: Yes",
          "Name: Reese Witherspoon<br>Movie: Rendition<br>IMDb Score: 6.8<br>Release Date: 2007<br>Academy Award for Best Actor/Actress: No",
          "Name: Reese Witherspoon<br>Movie: Four Christmases<br>IMDb Score: 5.6<br>Release Date: 2008<br>Academy Award for Best Actor/Actress: No",
          "Name: Reese Witherspoon<br>Movie: Monsters vs. Aliens<br>IMDb Score: 6.5<br>Release Date: 2009<br>Academy Award for Best Actor/Actress: No",
          "Name: Reese Witherspoon<br>Movie: How Do You Know<br>IMDb Score: 5.3<br>Release Date: 2010<br>Academy Award for Best Actor/Actress: No",
          "Name: Reese Witherspoon<br>Movie: Water for Elephants<br>IMDb Score: 6.9<br>Release Date: 2011<br>Academy Award for Best Actor/Actress: No",
          "Name: Reese Witherspoon<br>Movie: This Means War<br>IMDb Score: 6.3<br>Release Date: 2012<br>Academy Award for Best Actor/Actress: No"
         ],
         "legendgroup": "Reese Witherspoon",
         "marker": {
          "color": "#EF553B",
          "size": [
           8,
           8,
           8,
           8,
           8,
           8,
           8,
           8,
           8,
           15,
           8,
           8,
           8,
           8,
           8,
           8
          ],
          "symbol": [
           "circle",
           "circle",
           "circle",
           "circle",
           "circle",
           "circle",
           "circle",
           "circle",
           "circle",
           "star",
           "circle",
           "circle",
           "circle",
           "circle",
           "circle",
           "circle"
          ]
         },
         "mode": "markers",
         "name": "Reese Witherspoon",
         "showlegend": false,
         "type": "scatter",
         "x": [
          1999,
          1999,
          2000,
          2000,
          2001,
          2002,
          2002,
          2003,
          2004,
          2005,
          2007,
          2008,
          2009,
          2010,
          2011,
          2012
         ],
         "y": [
          7.3,
          6.9,
          7.6,
          5.3,
          6.2,
          6.1,
          6.9,
          4.6,
          6.2,
          7.9,
          6.8,
          5.6,
          6.5,
          5.3,
          6.9,
          6.3
         ]
        },
        {
         "hoverinfo": "text",
         "hovertext": [
          "Name: Robert De Niro<br>Movie: Raging Bull<br>IMDb Score: 8.3<br>Release Date: 1980<br>Academy Award for Best Actor/Actress: Yes",
          "Name: Robert De Niro<br>Movie: Once Upon a Time in America<br>IMDb Score: 8.4<br>Release Date: 1984<br>Academy Award for Best Actor/Actress: No",
          "Name: Robert De Niro<br>Movie: Brazil<br>IMDb Score: 8.0<br>Release Date: 1985<br>Academy Award for Best Actor/Actress: No",
          "Name: Robert De Niro<br>Movie: Midnight Run<br>IMDb Score: 7.6<br>Release Date: 1988<br>Academy Award for Best Actor/Actress: No",
          "Name: Robert De Niro<br>Movie: We're No Angels<br>IMDb Score: 6.0<br>Release Date: 1989<br>Academy Award for Best Actor/Actress: No",
          "Name: Robert De Niro<br>Movie: Goodfellas<br>IMDb Score: 8.7<br>Release Date: 1990<br>Academy Award for Best Actor/Actress: No",
          "Name: Robert De Niro<br>Movie: Cape Fear<br>IMDb Score: 7.3<br>Release Date: 1991<br>Academy Award for Best Actor/Actress: No",
          "Name: Robert De Niro<br>Movie: Casino<br>IMDb Score: 8.2<br>Release Date: 1995<br>Academy Award for Best Actor/Actress: No",
          "Name: Robert De Niro<br>Movie: The Fan<br>IMDb Score: 5.8<br>Release Date: 1996<br>Academy Award for Best Actor/Actress: No",
          "Name: Robert De Niro<br>Movie: Marvin's Room<br>IMDb Score: 6.7<br>Release Date: 1996<br>Academy Award for Best Actor/Actress: No",
          "Name: Robert De Niro<br>Movie: Sleepers<br>IMDb Score: 7.5<br>Release Date: 1996<br>Academy Award for Best Actor/Actress: No",
          "Name: Robert De Niro<br>Movie: Jackie Brown<br>IMDb Score: 7.5<br>Release Date: 1997<br>Academy Award for Best Actor/Actress: No",
          "Name: Robert De Niro<br>Movie: Wag the Dog<br>IMDb Score: 7.1<br>Release Date: 1997<br>Academy Award for Best Actor/Actress: No",
          "Name: Robert De Niro<br>Movie: Cop Land<br>IMDb Score: 6.9<br>Release Date: 1997<br>Academy Award for Best Actor/Actress: No",
          "Name: Robert De Niro<br>Movie: Ronin<br>IMDb Score: 7.3<br>Release Date: 1998<br>Academy Award for Best Actor/Actress: No",
          "Name: Robert De Niro<br>Movie: Analyze This<br>IMDb Score: 6.7<br>Release Date: 1999<br>Academy Award for Best Actor/Actress: No",
          "Name: Robert De Niro<br>Movie: Flawless<br>IMDb Score: 6.4<br>Release Date: 1999<br>Academy Award for Best Actor/Actress: No",
          "Name: Robert De Niro<br>Movie: Men of Honor<br>IMDb Score: 7.2<br>Release Date: 2000<br>Academy Award for Best Actor/Actress: No",
          "Name: Robert De Niro<br>Movie: Meet the Parents<br>IMDb Score: 7.0<br>Release Date: 2000<br>Academy Award for Best Actor/Actress: No",
          "Name: Robert De Niro<br>Movie: 15 Minutes<br>IMDb Score: 6.1<br>Release Date: 2001<br>Academy Award for Best Actor/Actress: No",
          "Name: Robert De Niro<br>Movie: The Score<br>IMDb Score: 6.8<br>Release Date: 2001<br>Academy Award for Best Actor/Actress: No",
          "Name: Robert De Niro<br>Movie: Analyze That<br>IMDb Score: 5.9<br>Release Date: 2002<br>Academy Award for Best Actor/Actress: No",
          "Name: Robert De Niro<br>Movie: City by the Sea<br>IMDb Score: 6.2<br>Release Date: 2002<br>Academy Award for Best Actor/Actress: No",
          "Name: Robert De Niro<br>Movie: Godsend<br>IMDb Score: 4.8<br>Release Date: 2004<br>Academy Award for Best Actor/Actress: No",
          "Name: Robert De Niro<br>Movie: Shark Tale<br>IMDb Score: 6.0<br>Release Date: 2004<br>Academy Award for Best Actor/Actress: No",
          "Name: Robert De Niro<br>Movie: Meet the Fockers<br>IMDb Score: 6.3<br>Release Date: 2004<br>Academy Award for Best Actor/Actress: No",
          "Name: Robert De Niro<br>Movie: Hide and Seek<br>IMDb Score: 5.9<br>Release Date: 2005<br>Academy Award for Best Actor/Actress: No",
          "Name: Robert De Niro<br>Movie: Arthur and the Invisibles<br>IMDb Score: 6.0<br>Release Date: 2006<br>Academy Award for Best Actor/Actress: No",
          "Name: Robert De Niro<br>Movie: Stardust<br>IMDb Score: 7.7<br>Release Date: 2007<br>Academy Award for Best Actor/Actress: No",
          "Name: Robert De Niro<br>Movie: Righteous Kill<br>IMDb Score: 6.0<br>Release Date: 2008<br>Academy Award for Best Actor/Actress: No",
          "Name: Robert De Niro<br>Movie: Everybody's Fine<br>IMDb Score: 7.2<br>Release Date: 2009<br>Academy Award for Best Actor/Actress: No",
          "Name: Robert De Niro<br>Movie: Micmacs<br>IMDb Score: 7.2<br>Release Date: 2009<br>Academy Award for Best Actor/Actress: No",
          "Name: Robert De Niro<br>Movie: Machete<br>IMDb Score: 6.7<br>Release Date: 2010<br>Academy Award for Best Actor/Actress: No",
          "Name: Robert De Niro<br>Movie: Stone<br>IMDb Score: 5.4<br>Release Date: 2010<br>Academy Award for Best Actor/Actress: No",
          "Name: Robert De Niro<br>Movie: Little Fockers<br>IMDb Score: 5.5<br>Release Date: 2010<br>Academy Award for Best Actor/Actress: No",
          "Name: Robert De Niro<br>Movie: New Year's Eve<br>IMDb Score: 5.7<br>Release Date: 2011<br>Academy Award for Best Actor/Actress: No",
          "Name: Robert De Niro<br>Movie: Killer Elite<br>IMDb Score: 6.5<br>Release Date: 2011<br>Academy Award for Best Actor/Actress: No",
          "Name: Robert De Niro<br>Movie: Red Lights<br>IMDb Score: 6.2<br>Release Date: 2012<br>Academy Award for Best Actor/Actress: No"
         ],
         "legendgroup": "Robert De Niro",
         "marker": {
          "color": "#00CC96",
          "size": [
           15,
           8,
           8,
           8,
           8,
           8,
           8,
           8,
           8,
           8,
           8,
           8,
           8,
           8,
           8,
           8,
           8,
           8,
           8,
           8,
           8,
           8,
           8,
           8,
           8,
           8,
           8,
           8,
           8,
           8,
           8,
           8,
           8,
           8,
           8,
           8,
           8,
           8
          ],
          "symbol": [
           "star",
           "circle",
           "circle",
           "circle",
           "circle",
           "circle",
           "circle",
           "circle",
           "circle",
           "circle",
           "circle",
           "circle",
           "circle",
           "circle",
           "circle",
           "circle",
           "circle",
           "circle",
           "circle",
           "circle",
           "circle",
           "circle",
           "circle",
           "circle",
           "circle",
           "circle",
           "circle",
           "circle",
           "circle",
           "circle",
           "circle",
           "circle",
           "circle",
           "circle",
           "circle",
           "circle",
           "circle",
           "circle"
          ]
         },
         "mode": "markers",
         "name": "Robert De Niro",
         "showlegend": false,
         "type": "scatter",
         "x": [
          1980,
          1984,
          1985,
          1988,
          1989,
          1990,
          1991,
          1995,
          1996,
          1996,
          1996,
          1997,
          1997,
          1997,
          1998,
          1999,
          1999,
          2000,
          2000,
          2001,
          2001,
          2002,
          2002,
          2004,
          2004,
          2004,
          2005,
          2006,
          2007,
          2008,
          2009,
          2009,
          2010,
          2010,
          2010,
          2011,
          2011,
          2012
         ],
         "y": [
          8.3,
          8.4,
          8,
          7.6,
          6,
          8.7,
          7.3,
          8.2,
          5.8,
          6.7,
          7.5,
          7.5,
          7.1,
          6.9,
          7.3,
          6.7,
          6.4,
          7.2,
          7,
          6.1,
          6.8,
          5.9,
          6.2,
          4.8,
          6,
          6.3,
          5.9,
          6,
          7.7,
          6,
          7.2,
          7.2,
          6.7,
          5.4,
          5.5,
          5.7,
          6.5,
          6.2
         ]
        },
        {
         "hoverinfo": "text",
         "hovertext": [
          "Name: Russell Crowe<br>Movie: The Quick and the Dead<br>IMDb Score: 6.4<br>Release Date: 1995<br>Academy Award for Best Actor/Actress: No",
          "Name: Russell Crowe<br>Movie: Virtuosity<br>IMDb Score: 5.5<br>Release Date: 1995<br>Academy Award for Best Actor/Actress: No",
          "Name: Russell Crowe<br>Movie: L.A. Confidential<br>IMDb Score: 8.3<br>Release Date: 1997<br>Academy Award for Best Actor/Actress: No",
          "Name: Russell Crowe<br>Movie: Mystery, Alaska<br>IMDb Score: 6.7<br>Release Date: 1999<br>Academy Award for Best Actor/Actress: No",
          "Name: Russell Crowe<br>Movie: The Insider<br>IMDb Score: 7.9<br>Release Date: 1999<br>Academy Award for Best Actor/Actress: No",
          "Name: Russell Crowe<br>Movie: Proof of Life<br>IMDb Score: 6.2<br>Release Date: 2000<br>Academy Award for Best Actor/Actress: No",
          "Name: Russell Crowe<br>Movie: Gladiator<br>IMDb Score: 8.5<br>Release Date: 2000<br>Academy Award for Best Actor/Actress: Yes",
          "Name: Russell Crowe<br>Movie: A Beautiful Mind<br>IMDb Score: 8.2<br>Release Date: 2001<br>Academy Award for Best Actor/Actress: No",
          "Name: Russell Crowe<br>Movie: Master and Commander: The Far Side of the World<br>IMDb Score: 7.4<br>Release Date: 2003<br>Academy Award for Best Actor/Actress: No",
          "Name: Russell Crowe<br>Movie: Cinderella Man<br>IMDb Score: 8.0<br>Release Date: 2005<br>Academy Award for Best Actor/Actress: No",
          "Name: Russell Crowe<br>Movie: A Good Year<br>IMDb Score: 6.9<br>Release Date: 2006<br>Academy Award for Best Actor/Actress: No",
          "Name: Russell Crowe<br>Movie: American Gangster<br>IMDb Score: 7.8<br>Release Date: 2007<br>Academy Award for Best Actor/Actress: No",
          "Name: Russell Crowe<br>Movie: 3:10 to Yuma<br>IMDb Score: 7.8<br>Release Date: 2007<br>Academy Award for Best Actor/Actress: No",
          "Name: Russell Crowe<br>Movie: Body of Lies<br>IMDb Score: 7.1<br>Release Date: 2008<br>Academy Award for Best Actor/Actress: No",
          "Name: Russell Crowe<br>Movie: State of Play<br>IMDb Score: 7.1<br>Release Date: 2009<br>Academy Award for Best Actor/Actress: No",
          "Name: Russell Crowe<br>Movie: The Next Three Days<br>IMDb Score: 7.4<br>Release Date: 2010<br>Academy Award for Best Actor/Actress: No",
          "Name: Russell Crowe<br>Movie: Robin Hood<br>IMDb Score: 6.7<br>Release Date: 2010<br>Academy Award for Best Actor/Actress: No",
          "Name: Russell Crowe<br>Movie: Les Misérables<br>IMDb Score: 7.6<br>Release Date: 2012<br>Academy Award for Best Actor/Actress: No",
          "Name: Russell Crowe<br>Movie: The Man with the Iron Fists<br>IMDb Score: 5.4<br>Release Date: 2012<br>Academy Award for Best Actor/Actress: No",
          "Name: Russell Crowe<br>Movie: Man of Steel<br>IMDb Score: 7.2<br>Release Date: 2013<br>Academy Award for Best Actor/Actress: No",
          "Name: Russell Crowe<br>Movie: Broken City<br>IMDb Score: 6.2<br>Release Date: 2013<br>Academy Award for Best Actor/Actress: No",
          "Name: Russell Crowe<br>Movie: Noah<br>IMDb Score: 5.8<br>Release Date: 2014<br>Academy Award for Best Actor/Actress: No"
         ],
         "legendgroup": "Russell Crowe",
         "marker": {
          "color": "#AB63FA",
          "size": [
           8,
           8,
           8,
           8,
           8,
           8,
           15,
           8,
           8,
           8,
           8,
           8,
           8,
           8,
           8,
           8,
           8,
           8,
           8,
           8,
           8,
           8
          ],
          "symbol": [
           "circle",
           "circle",
           "circle",
           "circle",
           "circle",
           "circle",
           "star",
           "circle",
           "circle",
           "circle",
           "circle",
           "circle",
           "circle",
           "circle",
           "circle",
           "circle",
           "circle",
           "circle",
           "circle",
           "circle",
           "circle",
           "circle"
          ]
         },
         "mode": "markers",
         "name": "Russell Crowe",
         "showlegend": false,
         "type": "scatter",
         "x": [
          1995,
          1995,
          1997,
          1999,
          1999,
          2000,
          2000,
          2001,
          2003,
          2005,
          2006,
          2007,
          2007,
          2008,
          2009,
          2010,
          2010,
          2012,
          2012,
          2013,
          2013,
          2014
         ],
         "y": [
          6.4,
          5.5,
          8.3,
          6.7,
          7.9,
          6.2,
          8.5,
          8.2,
          7.4,
          8,
          6.9,
          7.8,
          7.8,
          7.1,
          7.1,
          7.4,
          6.7,
          7.6,
          5.4,
          7.2,
          6.2,
          5.8
         ]
        },
        {
         "hoverinfo": "text",
         "hovertext": [
          "Name: Sandra Bullock<br>Movie: Speed<br>IMDb Score: 7.2<br>Release Date: 1994<br>Academy Award for Best Actor/Actress: No",
          "Name: Sandra Bullock<br>Movie: The Net<br>IMDb Score: 5.8<br>Release Date: 1995<br>Academy Award for Best Actor/Actress: No",
          "Name: Sandra Bullock<br>Movie: A Time to Kill<br>IMDb Score: 7.4<br>Release Date: 1996<br>Academy Award for Best Actor/Actress: No",
          "Name: Sandra Bullock<br>Movie: Speed 2: Cruise Control<br>IMDb Score: 3.7<br>Release Date: 1997<br>Academy Award for Best Actor/Actress: No",
          "Name: Sandra Bullock<br>Movie: Practical Magic<br>IMDb Score: 6.1<br>Release Date: 1998<br>Academy Award for Best Actor/Actress: No",
          "Name: Sandra Bullock<br>Movie: The Prince of Egypt<br>IMDb Score: 7.0<br>Release Date: 1998<br>Academy Award for Best Actor/Actress: No",
          "Name: Sandra Bullock<br>Movie: Hope Floats<br>IMDb Score: 5.9<br>Release Date: 1998<br>Academy Award for Best Actor/Actress: No",
          "Name: Sandra Bullock<br>Movie: 28 Days<br>IMDb Score: 6.0<br>Release Date: 2000<br>Academy Award for Best Actor/Actress: No",
          "Name: Sandra Bullock<br>Movie: Miss Congeniality<br>IMDb Score: 6.2<br>Release Date: 2000<br>Academy Award for Best Actor/Actress: No",
          "Name: Sandra Bullock<br>Movie: Two Weeks Notice<br>IMDb Score: 6.1<br>Release Date: 2002<br>Academy Award for Best Actor/Actress: No",
          "Name: Sandra Bullock<br>Movie: Murder by Numbers<br>IMDb Score: 6.1<br>Release Date: 2002<br>Academy Award for Best Actor/Actress: No",
          "Name: Sandra Bullock<br>Movie: Murder by Numbers<br>IMDb Score: 6.1<br>Release Date: 2002<br>Academy Award for Best Actor/Actress: No",
          "Name: Sandra Bullock<br>Movie: Divine Secrets of the Ya-Ya Sisterhood<br>IMDb Score: 6.0<br>Release Date: 2002<br>Academy Award for Best Actor/Actress: No",
          "Name: Sandra Bullock<br>Movie: Crash<br>IMDb Score: 7.9<br>Release Date: 2004<br>Academy Award for Best Actor/Actress: No",
          "Name: Sandra Bullock<br>Movie: Crash<br>IMDb Score: 7.9<br>Release Date: 2004<br>Academy Award for Best Actor/Actress: No",
          "Name: Sandra Bullock<br>Movie: Miss Congeniality 2: Armed and Fabulous<br>IMDb Score: 5.0<br>Release Date: 2005<br>Academy Award for Best Actor/Actress: No",
          "Name: Sandra Bullock<br>Movie: The Lake House<br>IMDb Score: 6.8<br>Release Date: 2006<br>Academy Award for Best Actor/Actress: No",
          "Name: Sandra Bullock<br>Movie: Infamous<br>IMDb Score: 7.1<br>Release Date: 2006<br>Academy Award for Best Actor/Actress: No",
          "Name: Sandra Bullock<br>Movie: Premonition<br>IMDb Score: 5.9<br>Release Date: 2007<br>Academy Award for Best Actor/Actress: No",
          "Name: Sandra Bullock<br>Movie: The Proposal<br>IMDb Score: 6.7<br>Release Date: 2009<br>Academy Award for Best Actor/Actress: No",
          "Name: Sandra Bullock<br>Movie: All About Steve<br>IMDb Score: 4.8<br>Release Date: 2009<br>Academy Award for Best Actor/Actress: No",
          "Name: Sandra Bullock<br>Movie: The Blind Side<br>IMDb Score: 7.7<br>Release Date: 2009<br>Academy Award for Best Actor/Actress: Yes",
          "Name: Sandra Bullock<br>Movie: The Heat<br>IMDb Score: 6.6<br>Release Date: 2013<br>Academy Award for Best Actor/Actress: No"
         ],
         "legendgroup": "Sandra Bullock",
         "marker": {
          "color": "#FFA15A",
          "size": [
           8,
           8,
           8,
           8,
           8,
           8,
           8,
           8,
           8,
           8,
           8,
           8,
           8,
           8,
           8,
           8,
           8,
           8,
           8,
           8,
           8,
           15,
           8
          ],
          "symbol": [
           "circle",
           "circle",
           "circle",
           "circle",
           "circle",
           "circle",
           "circle",
           "circle",
           "circle",
           "circle",
           "circle",
           "circle",
           "circle",
           "circle",
           "circle",
           "circle",
           "circle",
           "circle",
           "circle",
           "circle",
           "circle",
           "star",
           "circle"
          ]
         },
         "mode": "markers",
         "name": "Sandra Bullock",
         "showlegend": false,
         "type": "scatter",
         "x": [
          1994,
          1995,
          1996,
          1997,
          1998,
          1998,
          1998,
          2000,
          2000,
          2002,
          2002,
          2002,
          2002,
          2004,
          2004,
          2005,
          2006,
          2006,
          2007,
          2009,
          2009,
          2009,
          2013
         ],
         "y": [
          7.2,
          5.8,
          7.4,
          3.7,
          6.1,
          7,
          5.9,
          6,
          6.2,
          6.1,
          6.1,
          6.1,
          6,
          7.9,
          7.9,
          5,
          6.8,
          7.1,
          5.9,
          6.7,
          4.8,
          7.7,
          6.6
         ]
        },
        {
         "hoverinfo": "text",
         "hovertext": [
          "Name: Sean Penn<br>Movie: Fast Times at Ridgemont High<br>IMDb Score: 7.2<br>Release Date: 1982<br>Academy Award for Best Actor/Actress: No",
          "Name: Sean Penn<br>Movie: Shanghai Surprise<br>IMDb Score: 3.0<br>Release Date: 1986<br>Academy Award for Best Actor/Actress: No",
          "Name: Sean Penn<br>Movie: We're No Angels<br>IMDb Score: 6.0<br>Release Date: 1989<br>Academy Award for Best Actor/Actress: No",
          "Name: Sean Penn<br>Movie: Dead Man Walking<br>IMDb Score: 7.6<br>Release Date: 1995<br>Academy Award for Best Actor/Actress: No",
          "Name: Sean Penn<br>Movie: The Game<br>IMDb Score: 7.8<br>Release Date: 1997<br>Academy Award for Best Actor/Actress: No",
          "Name: Sean Penn<br>Movie: The Thin Red Line<br>IMDb Score: 7.6<br>Release Date: 1998<br>Academy Award for Best Actor/Actress: No",
          "Name: Sean Penn<br>Movie: I Am Sam<br>IMDb Score: 7.6<br>Release Date: 2001<br>Academy Award for Best Actor/Actress: No",
          "Name: Sean Penn<br>Movie: 21 Grams<br>IMDb Score: 7.7<br>Release Date: 2003<br>Academy Award for Best Actor/Actress: No",
          "Name: Sean Penn<br>Movie: Mystic River<br>IMDb Score: 8.0<br>Release Date: 2003<br>Academy Award for Best Actor/Actress: Yes",
          "Name: Sean Penn<br>Movie: The Interpreter<br>IMDb Score: 6.4<br>Release Date: 2005<br>Academy Award for Best Actor/Actress: No",
          "Name: Sean Penn<br>Movie: All the King's Men<br>IMDb Score: 6.2<br>Release Date: 2006<br>Academy Award for Best Actor/Actress: No",
          "Name: Sean Penn<br>Movie: Persepolis<br>IMDb Score: 8.0<br>Release Date: 2007<br>Academy Award for Best Actor/Actress: No",
          "Name: Sean Penn<br>Movie: Milk<br>IMDb Score: 7.6<br>Release Date: 2008<br>Academy Award for Best Actor/Actress: Yes",
          "Name: Sean Penn<br>Movie: Fair Game<br>IMDb Score: 6.8<br>Release Date: 2010<br>Academy Award for Best Actor/Actress: No",
          "Name: Sean Penn<br>Movie: The Tree of Life<br>IMDb Score: 6.7<br>Release Date: 2011<br>Academy Award for Best Actor/Actress: No",
          "Name: Sean Penn<br>Movie: Gangster Squad<br>IMDb Score: 6.7<br>Release Date: 2013<br>Academy Award for Best Actor/Actress: No"
         ],
         "legendgroup": "Sean Penn",
         "marker": {
          "color": "#19D3F3",
          "size": [
           8,
           8,
           8,
           8,
           8,
           8,
           8,
           8,
           15,
           8,
           8,
           8,
           15,
           8,
           8,
           8
          ],
          "symbol": [
           "circle",
           "circle",
           "circle",
           "circle",
           "circle",
           "circle",
           "circle",
           "circle",
           "star",
           "circle",
           "circle",
           "circle",
           "star",
           "circle",
           "circle",
           "circle"
          ]
         },
         "mode": "markers",
         "name": "Sean Penn",
         "showlegend": false,
         "type": "scatter",
         "x": [
          1982,
          1986,
          1989,
          1995,
          1997,
          1998,
          2001,
          2003,
          2003,
          2005,
          2006,
          2007,
          2008,
          2010,
          2011,
          2013
         ],
         "y": [
          7.2,
          3,
          6,
          7.6,
          7.8,
          7.6,
          7.6,
          7.7,
          8,
          6.4,
          6.2,
          8,
          7.6,
          6.8,
          6.7,
          6.7
         ]
        },
        {
         "hoverinfo": "text",
         "hovertext": [
          "Name: Sissy Spacek<br>Movie: Coal Miner's Daughter<br>IMDb Score: 7.5<br>Release Date: 1980<br>Academy Award for Best Actor/Actress: Yes",
          "Name: Sissy Spacek<br>Movie: JFK<br>IMDb Score: 8.0<br>Release Date: 1991<br>Academy Award for Best Actor/Actress: No",
          "Name: Sissy Spacek<br>Movie: The Straight Story<br>IMDb Score: 8.0<br>Release Date: 1999<br>Academy Award for Best Actor/Actress: No",
          "Name: Sissy Spacek<br>Movie: In the Bedroom<br>IMDb Score: 7.5<br>Release Date: 2001<br>Academy Award for Best Actor/Actress: No",
          "Name: Sissy Spacek<br>Movie: Tuck Everlasting<br>IMDb Score: 6.7<br>Release Date: 2002<br>Academy Award for Best Actor/Actress: No",
          "Name: Sissy Spacek<br>Movie: A Home at the End of the World<br>IMDb Score: 6.8<br>Release Date: 2004<br>Academy Award for Best Actor/Actress: No",
          "Name: Sissy Spacek<br>Movie: The Ring Two<br>IMDb Score: 5.4<br>Release Date: 2005<br>Academy Award for Best Actor/Actress: No",
          "Name: Sissy Spacek<br>Movie: North Country<br>IMDb Score: 7.3<br>Release Date: 2005<br>Academy Award for Best Actor/Actress: No",
          "Name: Sissy Spacek<br>Movie: Hot Rod<br>IMDb Score: 6.7<br>Release Date: 2007<br>Academy Award for Best Actor/Actress: No",
          "Name: Sissy Spacek<br>Movie: Four Christmases<br>IMDb Score: 5.6<br>Release Date: 2008<br>Academy Award for Best Actor/Actress: No",
          "Name: Sissy Spacek<br>Movie: Get Low<br>IMDb Score: 7.1<br>Release Date: 2009<br>Academy Award for Best Actor/Actress: No",
          "Name: Sissy Spacek<br>Movie: The Help<br>IMDb Score: 8.1<br>Release Date: 2011<br>Academy Award for Best Actor/Actress: No",
          "Name: Sissy Spacek<br>Movie: Deadfall<br>IMDb Score: 6.3<br>Release Date: 2012<br>Academy Award for Best Actor/Actress: No"
         ],
         "legendgroup": "Sissy Spacek",
         "marker": {
          "color": "#FF6692",
          "size": [
           15,
           8,
           8,
           8,
           8,
           8,
           8,
           8,
           8,
           8,
           8,
           8,
           8
          ],
          "symbol": [
           "star",
           "circle",
           "circle",
           "circle",
           "circle",
           "circle",
           "circle",
           "circle",
           "circle",
           "circle",
           "circle",
           "circle",
           "circle"
          ]
         },
         "mode": "markers",
         "name": "Sissy Spacek",
         "showlegend": false,
         "type": "scatter",
         "x": [
          1980,
          1991,
          1999,
          2001,
          2002,
          2004,
          2005,
          2005,
          2007,
          2008,
          2009,
          2011,
          2012
         ],
         "y": [
          7.5,
          8,
          8,
          7.5,
          6.7,
          6.8,
          5.4,
          7.3,
          6.7,
          5.6,
          7.1,
          8.1,
          6.3
         ]
        },
        {
         "hoverinfo": "text",
         "hovertext": [
          "Name: Susan Sarandon<br>Movie: The Client<br>IMDb Score: 6.7<br>Release Date: 1994<br>Academy Award for Best Actor/Actress: No",
          "Name: Susan Sarandon<br>Movie: Little Women<br>IMDb Score: 7.3<br>Release Date: 1994<br>Academy Award for Best Actor/Actress: No",
          "Name: Susan Sarandon<br>Movie: Dead Man Walking<br>IMDb Score: 7.6<br>Release Date: 1995<br>Academy Award for Best Actor/Actress: Yes",
          "Name: Susan Sarandon<br>Movie: Stepmom<br>IMDb Score: 6.7<br>Release Date: 1998<br>Academy Award for Best Actor/Actress: No",
          "Name: Susan Sarandon<br>Movie: Cradle Will Rock<br>IMDb Score: 6.9<br>Release Date: 1999<br>Academy Award for Best Actor/Actress: No",
          "Name: Susan Sarandon<br>Movie: Anywhere But Here<br>IMDb Score: 6.1<br>Release Date: 1999<br>Academy Award for Best Actor/Actress: No",
          "Name: Susan Sarandon<br>Movie: Rugrats in Paris: The Movie<br>IMDb Score: 6.1<br>Release Date: 2000<br>Academy Award for Best Actor/Actress: No",
          "Name: Susan Sarandon<br>Movie: Cats & Dogs<br>IMDb Score: 5.2<br>Release Date: 2001<br>Academy Award for Best Actor/Actress: No",
          "Name: Susan Sarandon<br>Movie: Igby Goes Down<br>IMDb Score: 7.0<br>Release Date: 2002<br>Academy Award for Best Actor/Actress: No",
          "Name: Susan Sarandon<br>Movie: Moonlight Mile<br>IMDb Score: 6.7<br>Release Date: 2002<br>Academy Award for Best Actor/Actress: No",
          "Name: Susan Sarandon<br>Movie: The Banger Sisters<br>IMDb Score: 5.6<br>Release Date: 2002<br>Academy Award for Best Actor/Actress: No",
          "Name: Susan Sarandon<br>Movie: Alfie<br>IMDb Score: 6.2<br>Release Date: 2004<br>Academy Award for Best Actor/Actress: No",
          "Name: Susan Sarandon<br>Movie: Elizabethtown<br>IMDb Score: 6.4<br>Release Date: 2005<br>Academy Award for Best Actor/Actress: No",
          "Name: Susan Sarandon<br>Movie: In the Valley of Elah<br>IMDb Score: 7.2<br>Release Date: 2007<br>Academy Award for Best Actor/Actress: No",
          "Name: Susan Sarandon<br>Movie: Enchanted<br>IMDb Score: 7.1<br>Release Date: 2007<br>Academy Award for Best Actor/Actress: No",
          "Name: Susan Sarandon<br>Movie: Speed Racer<br>IMDb Score: 6.1<br>Release Date: 2008<br>Academy Award for Best Actor/Actress: No",
          "Name: Susan Sarandon<br>Movie: The Greatest<br>IMDb Score: 6.7<br>Release Date: 2009<br>Academy Award for Best Actor/Actress: No",
          "Name: Susan Sarandon<br>Movie: The Lovely Bones<br>IMDb Score: 6.7<br>Release Date: 2009<br>Academy Award for Best Actor/Actress: No",
          "Name: Susan Sarandon<br>Movie: The Lovely Bones<br>IMDb Score: 6.7<br>Release Date: 2009<br>Academy Award for Best Actor/Actress: No",
          "Name: Susan Sarandon<br>Movie: Wall Street: Money Never Sleeps<br>IMDb Score: 6.3<br>Release Date: 2010<br>Academy Award for Best Actor/Actress: No",
          "Name: Susan Sarandon<br>Movie: Jeff, Who Lives at Home<br>IMDb Score: 6.5<br>Release Date: 2011<br>Academy Award for Best Actor/Actress: No",
          "Name: Susan Sarandon<br>Movie: Arbitrage<br>IMDb Score: 6.6<br>Release Date: 2012<br>Academy Award for Best Actor/Actress: No",
          "Name: Susan Sarandon<br>Movie: Cloud Atlas<br>IMDb Score: 7.5<br>Release Date: 2012<br>Academy Award for Best Actor/Actress: No"
         ],
         "legendgroup": "Susan Sarandon",
         "marker": {
          "color": "#B6E880",
          "size": [
           8,
           8,
           15,
           8,
           8,
           8,
           8,
           8,
           8,
           8,
           8,
           8,
           8,
           8,
           8,
           8,
           8,
           8,
           8,
           8,
           8,
           8,
           8
          ],
          "symbol": [
           "circle",
           "circle",
           "star",
           "circle",
           "circle",
           "circle",
           "circle",
           "circle",
           "circle",
           "circle",
           "circle",
           "circle",
           "circle",
           "circle",
           "circle",
           "circle",
           "circle",
           "circle",
           "circle",
           "circle",
           "circle",
           "circle",
           "circle"
          ]
         },
         "mode": "markers",
         "name": "Susan Sarandon",
         "showlegend": false,
         "type": "scatter",
         "x": [
          1994,
          1994,
          1995,
          1998,
          1999,
          1999,
          2000,
          2001,
          2002,
          2002,
          2002,
          2004,
          2005,
          2007,
          2007,
          2008,
          2009,
          2009,
          2009,
          2010,
          2011,
          2012,
          2012
         ],
         "y": [
          6.7,
          7.3,
          7.6,
          6.7,
          6.9,
          6.1,
          6.1,
          5.2,
          7,
          6.7,
          5.6,
          6.2,
          6.4,
          7.2,
          7.1,
          6.1,
          6.7,
          6.7,
          6.7,
          6.3,
          6.5,
          6.6,
          7.5
         ]
        },
        {
         "hoverinfo": "text",
         "hovertext": [
          "Name: Tom Hanks<br>Movie: Splash<br>IMDb Score: 6.2<br>Release Date: 1984<br>Academy Award for Best Actor/Actress: No",
          "Name: Tom Hanks<br>Movie: Big<br>IMDb Score: 7.3<br>Release Date: 1988<br>Academy Award for Best Actor/Actress: No",
          "Name: Tom Hanks<br>Movie: A League of Their Own<br>IMDb Score: 7.2<br>Release Date: 1992<br>Academy Award for Best Actor/Actress: No",
          "Name: Tom Hanks<br>Movie: Radio Flyer<br>IMDb Score: 6.9<br>Release Date: 1992<br>Academy Award for Best Actor/Actress: No",
          "Name: Tom Hanks<br>Movie: Forrest Gump<br>IMDb Score: 8.8<br>Release Date: 1994<br>Academy Award for Best Actor/Actress: Yes",
          "Name: Tom Hanks<br>Movie: Toy Story<br>IMDb Score: 8.3<br>Release Date: 1995<br>Academy Award for Best Actor/Actress: No",
          "Name: Tom Hanks<br>Movie: Apollo 13<br>IMDb Score: 7.6<br>Release Date: 1995<br>Academy Award for Best Actor/Actress: No",
          "Name: Tom Hanks<br>Movie: That Thing You Do!<br>IMDb Score: 6.9<br>Release Date: 1996<br>Academy Award for Best Actor/Actress: No",
          "Name: Tom Hanks<br>Movie: Saving Private Ryan<br>IMDb Score: 8.6<br>Release Date: 1998<br>Academy Award for Best Actor/Actress: No",
          "Name: Tom Hanks<br>Movie: You've Got Mail<br>IMDb Score: 6.5<br>Release Date: 1998<br>Academy Award for Best Actor/Actress: No",
          "Name: Tom Hanks<br>Movie: Toy Story 2<br>IMDb Score: 7.9<br>Release Date: 1999<br>Academy Award for Best Actor/Actress: No",
          "Name: Tom Hanks<br>Movie: The Green Mile<br>IMDb Score: 8.5<br>Release Date: 1999<br>Academy Award for Best Actor/Actress: No",
          "Name: Tom Hanks<br>Movie: Cast Away<br>IMDb Score: 7.7<br>Release Date: 2000<br>Academy Award for Best Actor/Actress: No",
          "Name: Tom Hanks<br>Movie: Road to Perdition<br>IMDb Score: 7.7<br>Release Date: 2002<br>Academy Award for Best Actor/Actress: No",
          "Name: Tom Hanks<br>Movie: Catch Me If You Can<br>IMDb Score: 8.0<br>Release Date: 2002<br>Academy Award for Best Actor/Actress: No",
          "Name: Tom Hanks<br>Movie: The Terminal<br>IMDb Score: 7.3<br>Release Date: 2004<br>Academy Award for Best Actor/Actress: No",
          "Name: Tom Hanks<br>Movie: The Ladykillers<br>IMDb Score: 6.2<br>Release Date: 2004<br>Academy Award for Best Actor/Actress: No",
          "Name: Tom Hanks<br>Movie: The Polar Express<br>IMDb Score: 6.6<br>Release Date: 2004<br>Academy Award for Best Actor/Actress: No",
          "Name: Tom Hanks<br>Movie: The Polar Express<br>IMDb Score: 6.6<br>Release Date: 2004<br>Academy Award for Best Actor/Actress: No",
          "Name: Tom Hanks<br>Movie: The Polar Express<br>IMDb Score: 6.6<br>Release Date: 2004<br>Academy Award for Best Actor/Actress: No",
          "Name: Tom Hanks<br>Movie: The Polar Express<br>IMDb Score: 6.6<br>Release Date: 2004<br>Academy Award for Best Actor/Actress: No",
          "Name: Tom Hanks<br>Movie: Cars<br>IMDb Score: 7.2<br>Release Date: 2006<br>Academy Award for Best Actor/Actress: No",
          "Name: Tom Hanks<br>Movie: The Da Vinci Code<br>IMDb Score: 6.6<br>Release Date: 2006<br>Academy Award for Best Actor/Actress: No",
          "Name: Tom Hanks<br>Movie: Charlie Wilson's War<br>IMDb Score: 7.1<br>Release Date: 2007<br>Academy Award for Best Actor/Actress: No",
          "Name: Tom Hanks<br>Movie: Toy Story 3<br>IMDb Score: 8.3<br>Release Date: 2010<br>Academy Award for Best Actor/Actress: No",
          "Name: Tom Hanks<br>Movie: Larry Crowne<br>IMDb Score: 6.1<br>Release Date: 2011<br>Academy Award for Best Actor/Actress: No",
          "Name: Tom Hanks<br>Movie: Cloud Atlas<br>IMDb Score: 7.5<br>Release Date: 2012<br>Academy Award for Best Actor/Actress: No",
          "Name: Tom Hanks<br>Movie: Cloud Atlas<br>IMDb Score: 7.5<br>Release Date: 2012<br>Academy Award for Best Actor/Actress: No",
          "Name: Tom Hanks<br>Movie: Cloud Atlas<br>IMDb Score: 7.5<br>Release Date: 2012<br>Academy Award for Best Actor/Actress: No",
          "Name: Tom Hanks<br>Movie: Cloud Atlas<br>IMDb Score: 7.5<br>Release Date: 2012<br>Academy Award for Best Actor/Actress: No"
         ],
         "legendgroup": "Tom Hanks",
         "marker": {
          "color": "#FF97FF",
          "size": [
           8,
           8,
           8,
           8,
           15,
           8,
           8,
           8,
           8,
           8,
           8,
           8,
           8,
           8,
           8,
           8,
           8,
           8,
           8,
           8,
           8,
           8,
           8,
           8,
           8,
           8,
           8,
           8,
           8,
           8
          ],
          "symbol": [
           "circle",
           "circle",
           "circle",
           "circle",
           "star",
           "circle",
           "circle",
           "circle",
           "circle",
           "circle",
           "circle",
           "circle",
           "circle",
           "circle",
           "circle",
           "circle",
           "circle",
           "circle",
           "circle",
           "circle",
           "circle",
           "circle",
           "circle",
           "circle",
           "circle",
           "circle",
           "circle",
           "circle",
           "circle",
           "circle"
          ]
         },
         "mode": "markers",
         "name": "Tom Hanks",
         "showlegend": false,
         "type": "scatter",
         "x": [
          1984,
          1988,
          1992,
          1992,
          1994,
          1995,
          1995,
          1996,
          1998,
          1998,
          1999,
          1999,
          2000,
          2002,
          2002,
          2004,
          2004,
          2004,
          2004,
          2004,
          2004,
          2006,
          2006,
          2007,
          2010,
          2011,
          2012,
          2012,
          2012,
          2012
         ],
         "y": [
          6.2,
          7.3,
          7.2,
          6.9,
          8.8,
          8.3,
          7.6,
          6.9,
          8.6,
          6.5,
          7.9,
          8.5,
          7.7,
          7.7,
          8,
          7.3,
          6.2,
          6.6,
          6.6,
          6.6,
          6.6,
          7.2,
          6.6,
          7.1,
          8.3,
          6.1,
          7.5,
          7.5,
          7.5,
          7.5
         ]
        },
        {
         "hoverinfo": "text",
         "hovertext": [
          "Movie: New York Stories<br>IMDb Score: 6.4<br>Release Date: 1989<br>Academy Award for Best Actor/Actress : No",
          "Movie: The Last Time I Committed Suicide<br>IMDb Score: 5.8<br>Release Date: 1997<br>Academy Award for Best Actor/Actress : No",
          "Movie: The Thin Red Line<br>IMDb Score: 7.6<br>Release Date: 1998<br>Academy Award for Best Actor/Actress : No",
          "Movie: Summer of Sam<br>IMDb Score: 6.6<br>Release Date: 1999<br>Academy Award for Best Actor/Actress : No",
          "Movie: The Pianist<br>IMDb Score: 8.5<br>Release Date: 2002<br>Academy Award for Best Actor/Actress : Yes",
          "Movie: The Singing Detective<br>IMDb Score: 5.6<br>Release Date: 2003<br>Academy Award for Best Actor/Actress : No",
          "Movie: The Village<br>IMDb Score: 6.5<br>Release Date: 2004<br>Academy Award for Best Actor/Actress : No",
          "Movie: King Kong<br>IMDb Score: 7.2<br>Release Date: 2005<br>Academy Award for Best Actor/Actress : No",
          "Movie: King Kong<br>IMDb Score: 7.2<br>Release Date: 2005<br>Academy Award for Best Actor/Actress : No",
          "Movie: King Kong<br>IMDb Score: 7.2<br>Release Date: 2005<br>Academy Award for Best Actor/Actress : No",
          "Movie: The Jacket<br>IMDb Score: 7.1<br>Release Date: 2005<br>Academy Award for Best Actor/Actress : No",
          "Movie: The Brothers Bloom<br>IMDb Score: 6.9<br>Release Date: 2008<br>Academy Award for Best Actor/Actress : No",
          "Movie: Cadillac Records<br>IMDb Score: 7.0<br>Release Date: 2008<br>Academy Award for Best Actor/Actress : No",
          "Movie: Fantastic Mr. Fox<br>IMDb Score: 7.8<br>Release Date: 2009<br>Academy Award for Best Actor/Actress : No",
          "Movie: Splice<br>IMDb Score: 5.8<br>Release Date: 2009<br>Academy Award for Best Actor/Actress : No",
          "Movie: Predators<br>IMDb Score: 6.4<br>Release Date: 2010<br>Academy Award for Best Actor/Actress : No",
          "Movie: Midnight in Paris<br>IMDb Score: 7.7<br>Release Date: 2011<br>Academy Award for Best Actor/Actress : No"
         ],
         "legendgroup": "Adrien Brody",
         "line": {
          "color": "#636EFA"
         },
         "marker": {
          "size": [
           8,
           8,
           8,
           8,
           15,
           8,
           8,
           8,
           8,
           8,
           8,
           8,
           8,
           8,
           8,
           8,
           8
          ],
          "symbol": [
           "circle",
           "circle",
           "circle",
           "circle",
           "star",
           "circle",
           "circle",
           "circle",
           "circle",
           "circle",
           "circle",
           "circle",
           "circle",
           "circle",
           "circle",
           "circle",
           "circle"
          ]
         },
         "mode": "lines+markers",
         "name": "Adrien Brody",
         "type": "scatter",
         "visible": false,
         "x": [
          1989,
          1997,
          1998,
          1999,
          2002,
          2003,
          2004,
          2005,
          2005,
          2005,
          2005,
          2008,
          2008,
          2009,
          2009,
          2010,
          2011
         ],
         "y": [
          6.4,
          5.8,
          7.6,
          6.6,
          8.5,
          5.6,
          6.5,
          7.2,
          7.2,
          7.2,
          7.1,
          6.9,
          7,
          7.8,
          5.8,
          6.4,
          7.7
         ]
        },
        {
         "hoverinfo": "text",
         "hovertext": [
          "Movie: The Elephant Man<br>IMDb Score: 8.2<br>Release Date: 1980<br>Academy Award for Best Actor/Actress : No",
          "Movie: The Bounty<br>IMDb Score: 7.0<br>Release Date: 1984<br>Academy Award for Best Actor/Actress : No",
          "Movie: The Silence of the Lambs<br>IMDb Score: 8.6<br>Release Date: 1991<br>Academy Award for Best Actor/Actress : Yes",
          "Movie: Howards End<br>IMDb Score: 7.5<br>Release Date: 1992<br>Academy Award for Best Actor/Actress : No",
          "Movie: Bram Stoker's Dracula<br>IMDb Score: 7.5<br>Release Date: 1992<br>Academy Award for Best Actor/Actress : No",
          "Movie: Shadowlands<br>IMDb Score: 7.4<br>Release Date: 1993<br>Academy Award for Best Actor/Actress : No",
          "Movie: The Remains of the Day<br>IMDb Score: 7.9<br>Release Date: 1993<br>Academy Award for Best Actor/Actress : No",
          "Movie: Legends of the Fall<br>IMDb Score: 7.5<br>Release Date: 1994<br>Academy Award for Best Actor/Actress : No",
          "Movie: Nixon<br>IMDb Score: 7.1<br>Release Date: 1995<br>Academy Award for Best Actor/Actress : No",
          "Movie: Amistad<br>IMDb Score: 7.2<br>Release Date: 1997<br>Academy Award for Best Actor/Actress : No",
          "Movie: The Edge<br>IMDb Score: 6.9<br>Release Date: 1997<br>Academy Award for Best Actor/Actress : No",
          "Movie: Meet Joe Black<br>IMDb Score: 7.1<br>Release Date: 1998<br>Academy Award for Best Actor/Actress : No",
          "Movie: The Mask of Zorro<br>IMDb Score: 6.7<br>Release Date: 1998<br>Academy Award for Best Actor/Actress : No",
          "Movie: The Mask of Zorro<br>IMDb Score: 6.7<br>Release Date: 1998<br>Academy Award for Best Actor/Actress : No",
          "Movie: Instinct<br>IMDb Score: 6.5<br>Release Date: 1999<br>Academy Award for Best Actor/Actress : No",
          "Movie: Mission: Impossible II<br>IMDb Score: 6.1<br>Release Date: 2000<br>Academy Award for Best Actor/Actress : No",
          "Movie: Hearts in Atlantis<br>IMDb Score: 6.9<br>Release Date: 2001<br>Academy Award for Best Actor/Actress : No",
          "Movie: Red Dragon<br>IMDb Score: 7.2<br>Release Date: 2002<br>Academy Award for Best Actor/Actress : No",
          "Movie: Bad Company<br>IMDb Score: 5.6<br>Release Date: 2002<br>Academy Award for Best Actor/Actress : No",
          "Movie: Alexander<br>IMDb Score: 5.5<br>Release Date: 2004<br>Academy Award for Best Actor/Actress : No",
          "Movie: The World's Fastest Indian<br>IMDb Score: 7.9<br>Release Date: 2005<br>Academy Award for Best Actor/Actress : No",
          "Movie: All the King's Men<br>IMDb Score: 6.2<br>Release Date: 2006<br>Academy Award for Best Actor/Actress : No",
          "Movie: Bobby<br>IMDb Score: 7.0<br>Release Date: 2006<br>Academy Award for Best Actor/Actress : No",
          "Movie: Beowulf<br>IMDb Score: 6.3<br>Release Date: 2007<br>Academy Award for Best Actor/Actress : No",
          "Movie: The Wolfman<br>IMDb Score: 5.8<br>Release Date: 2010<br>Academy Award for Best Actor/Actress : No",
          "Movie: You Will Meet a Tall Dark Stranger<br>IMDb Score: 6.3<br>Release Date: 2010<br>Academy Award for Best Actor/Actress : No",
          "Movie: Thor<br>IMDb Score: 7.0<br>Release Date: 2011<br>Academy Award for Best Actor/Actress : No",
          "Movie: The Rite<br>IMDb Score: 6.0<br>Release Date: 2011<br>Academy Award for Best Actor/Actress : No",
          "Movie: Thor: The Dark World<br>IMDb Score: 7.1<br>Release Date: 2013<br>Academy Award for Best Actor/Actress : No",
          "Movie: Noah<br>IMDb Score: 5.8<br>Release Date: 2014<br>Academy Award for Best Actor/Actress : No"
         ],
         "legendgroup": "Anthony Hopkins",
         "line": {
          "color": "#EF553B"
         },
         "marker": {
          "size": [
           8,
           8,
           15,
           8,
           8,
           8,
           8,
           8,
           8,
           8,
           8,
           8,
           8,
           8,
           8,
           8,
           8,
           8,
           8,
           8,
           8,
           8,
           8,
           8,
           8,
           8,
           8,
           8,
           8,
           8
          ],
          "symbol": [
           "circle",
           "circle",
           "star",
           "circle",
           "circle",
           "circle",
           "circle",
           "circle",
           "circle",
           "circle",
           "circle",
           "circle",
           "circle",
           "circle",
           "circle",
           "circle",
           "circle",
           "circle",
           "circle",
           "circle",
           "circle",
           "circle",
           "circle",
           "circle",
           "circle",
           "circle",
           "circle",
           "circle",
           "circle",
           "circle"
          ]
         },
         "mode": "lines+markers",
         "name": "Anthony Hopkins",
         "type": "scatter",
         "visible": false,
         "x": [
          1980,
          1984,
          1991,
          1992,
          1992,
          1993,
          1993,
          1994,
          1995,
          1997,
          1997,
          1998,
          1998,
          1998,
          1999,
          2000,
          2001,
          2002,
          2002,
          2004,
          2005,
          2006,
          2006,
          2007,
          2010,
          2010,
          2011,
          2011,
          2013,
          2014
         ],
         "y": [
          8.2,
          7,
          8.6,
          7.5,
          7.5,
          7.4,
          7.9,
          7.5,
          7.1,
          7.2,
          6.9,
          7.1,
          6.7,
          6.7,
          6.5,
          6.1,
          6.9,
          7.2,
          5.6,
          5.5,
          7.9,
          6.2,
          7,
          6.3,
          5.8,
          6.3,
          7,
          6,
          7.1,
          5.8
         ]
        },
        {
         "hoverinfo": "text",
         "hovertext": [
          "Movie: Gandhi<br>IMDb Score: 8.1<br>Release Date: 1982<br>Academy Award for Best Actor/Actress : Yes",
          "Movie: Maurice<br>IMDb Score: 7.8<br>Release Date: 1987<br>Academy Award for Best Actor/Actress : No",
          "Movie: Schindler's List<br>IMDb Score: 8.9<br>Release Date: 1993<br>Academy Award for Best Actor/Actress : No",
          "Movie: Species<br>IMDb Score: 5.8<br>Release Date: 1995<br>Academy Award for Best Actor/Actress : No",
          "Movie: What Planet Are You From?<br>IMDb Score: 5.6<br>Release Date: 2000<br>Academy Award for Best Actor/Actress : No",
          "Movie: Sexy Beast<br>IMDb Score: 7.3<br>Release Date: 2000<br>Academy Award for Best Actor/Actress : No",
          "Movie: A.I. Artificial Intelligence<br>IMDb Score: 7.1<br>Release Date: 2001<br>Academy Award for Best Actor/Actress : No",
          "Movie: Tuck Everlasting<br>IMDb Score: 6.7<br>Release Date: 2002<br>Academy Award for Best Actor/Actress : No",
          "Movie: House of Sand and Fog<br>IMDb Score: 7.6<br>Release Date: 2003<br>Academy Award for Best Actor/Actress : No",
          "Movie: Suspect Zero<br>IMDb Score: 5.9<br>Release Date: 2004<br>Academy Award for Best Actor/Actress : No",
          "Movie: Oliver Twist<br>IMDb Score: 6.9<br>Release Date: 2005<br>Academy Award for Best Actor/Actress : No",
          "Movie: BloodRayne<br>IMDb Score: 2.9<br>Release Date: 2005<br>Academy Award for Best Actor/Actress : No",
          "Movie: A Sound of Thunder<br>IMDb Score: 4.2<br>Release Date: 2005<br>Academy Award for Best Actor/Actress : No",
          "Movie: The Last Legion<br>IMDb Score: 5.4<br>Release Date: 2007<br>Academy Award for Best Actor/Actress : No",
          "Movie: The Last Legion<br>IMDb Score: 5.4<br>Release Date: 2007<br>Academy Award for Best Actor/Actress : No",
          "Movie: You Kill Me<br>IMDb Score: 6.5<br>Release Date: 2007<br>Academy Award for Best Actor/Actress : No",
          "Movie: The Wackness<br>IMDb Score: 7.0<br>Release Date: 2008<br>Academy Award for Best Actor/Actress : No",
          "Movie: The Love Guru<br>IMDb Score: 3.8<br>Release Date: 2008<br>Academy Award for Best Actor/Actress : No",
          "Movie: Transsiberian<br>IMDb Score: 6.7<br>Release Date: 2008<br>Academy Award for Best Actor/Actress : No",
          "Movie: Shutter Island<br>IMDb Score: 8.1<br>Release Date: 2010<br>Academy Award for Best Actor/Actress : No",
          "Movie: Prince of Persia: The Sands of Time<br>IMDb Score: 6.6<br>Release Date: 2010<br>Academy Award for Best Actor/Actress : No",
          "Movie: Hugo<br>IMDb Score: 7.5<br>Release Date: 2011<br>Academy Award for Best Actor/Actress : No",
          "Movie: The Dictator<br>IMDb Score: 6.4<br>Release Date: 2012<br>Academy Award for Best Actor/Actress : No",
          "Movie: Ender's Game<br>IMDb Score: 6.7<br>Release Date: 2013<br>Academy Award for Best Actor/Actress : No",
          "Movie: Iron Man 3<br>IMDb Score: 7.2<br>Release Date: 2013<br>Academy Award for Best Actor/Actress : No"
         ],
         "legendgroup": "Ben Kingsley",
         "line": {
          "color": "#00CC96"
         },
         "marker": {
          "size": [
           15,
           8,
           8,
           8,
           8,
           8,
           8,
           8,
           8,
           8,
           8,
           8,
           8,
           8,
           8,
           8,
           8,
           8,
           8,
           8,
           8,
           8,
           8,
           8,
           8
          ],
          "symbol": [
           "star",
           "circle",
           "circle",
           "circle",
           "circle",
           "circle",
           "circle",
           "circle",
           "circle",
           "circle",
           "circle",
           "circle",
           "circle",
           "circle",
           "circle",
           "circle",
           "circle",
           "circle",
           "circle",
           "circle",
           "circle",
           "circle",
           "circle",
           "circle",
           "circle"
          ]
         },
         "mode": "lines+markers",
         "name": "Ben Kingsley",
         "type": "scatter",
         "visible": false,
         "x": [
          1982,
          1987,
          1993,
          1995,
          2000,
          2000,
          2001,
          2002,
          2003,
          2004,
          2005,
          2005,
          2005,
          2007,
          2007,
          2007,
          2008,
          2008,
          2008,
          2010,
          2010,
          2011,
          2012,
          2013,
          2013
         ],
         "y": [
          8.1,
          7.8,
          8.9,
          5.8,
          5.6,
          7.3,
          7.1,
          6.7,
          7.6,
          5.9,
          6.9,
          2.9,
          4.2,
          5.4,
          5.4,
          6.5,
          7,
          3.8,
          6.7,
          8.1,
          6.6,
          7.5,
          6.4,
          6.7,
          7.2
         ]
        },
        {
         "hoverinfo": "text",
         "hovertext": [
          "Movie: That Thing You Do!<br>IMDb Score: 6.9<br>Release Date: 1996<br>Academy Award for Best Actor/Actress : No",
          "Movie: The Devil's Advocate<br>IMDb Score: 7.5<br>Release Date: 1997<br>Academy Award for Best Actor/Actress : No",
          "Movie: Mighty Joe Young<br>IMDb Score: 5.6<br>Release Date: 1998<br>Academy Award for Best Actor/Actress : No",
          "Movie: Celebrity<br>IMDb Score: 6.3<br>Release Date: 1998<br>Academy Award for Best Actor/Actress : No",
          "Movie: The Astronaut's Wife<br>IMDb Score: 5.3<br>Release Date: 1999<br>Academy Award for Best Actor/Actress : No",
          "Movie: The Astronaut's Wife<br>IMDb Score: 5.3<br>Release Date: 1999<br>Academy Award for Best Actor/Actress : No",
          "Movie: Men of Honor<br>IMDb Score: 7.2<br>Release Date: 2000<br>Academy Award for Best Actor/Actress : No",
          "Movie: The Legend of Bagger Vance<br>IMDb Score: 6.7<br>Release Date: 2000<br>Academy Award for Best Actor/Actress : No",
          "Movie: The Yards<br>IMDb Score: 6.4<br>Release Date: 2000<br>Academy Award for Best Actor/Actress : No",
          "Movie: Reindeer Games<br>IMDb Score: 5.7<br>Release Date: 2000<br>Academy Award for Best Actor/Actress : No",
          "Movie: 15 Minutes<br>IMDb Score: 6.1<br>Release Date: 2001<br>Academy Award for Best Actor/Actress : No",
          "Movie: Sweet November<br>IMDb Score: 6.7<br>Release Date: 2001<br>Academy Award for Best Actor/Actress : No",
          "Movie: The Curse of the Jade Scorpion<br>IMDb Score: 6.8<br>Release Date: 2001<br>Academy Award for Best Actor/Actress : No",
          "Movie: Monster<br>IMDb Score: 7.3<br>Release Date: 2003<br>Academy Award for Best Actor/Actress : Yes",
          "Movie: The Italian Job<br>IMDb Score: 7.0<br>Release Date: 2003<br>Academy Award for Best Actor/Actress : No",
          "Movie: Æon Flux<br>IMDb Score: 5.5<br>Release Date: 2005<br>Academy Award for Best Actor/Actress : No",
          "Movie: North Country<br>IMDb Score: 7.3<br>Release Date: 2005<br>Academy Award for Best Actor/Actress : No",
          "Movie: In the Valley of Elah<br>IMDb Score: 7.2<br>Release Date: 2007<br>Academy Award for Best Actor/Actress : No",
          "Movie: Hancock<br>IMDb Score: 6.4<br>Release Date: 2008<br>Academy Award for Best Actor/Actress : No",
          "Movie: The Road<br>IMDb Score: 7.3<br>Release Date: 2009<br>Academy Award for Best Actor/Actress : No",
          "Movie: Astro Boy<br>IMDb Score: 6.3<br>Release Date: 2009<br>Academy Award for Best Actor/Actress : No",
          "Movie: Young Adult<br>IMDb Score: 6.3<br>Release Date: 2011<br>Academy Award for Best Actor/Actress : No",
          "Movie: Snow White and the Huntsman<br>IMDb Score: 6.1<br>Release Date: 2012<br>Academy Award for Best Actor/Actress : No",
          "Movie: Prometheus<br>IMDb Score: 7.0<br>Release Date: 2012<br>Academy Award for Best Actor/Actress : No"
         ],
         "legendgroup": "Charlize Theron",
         "line": {
          "color": "#AB63FA"
         },
         "marker": {
          "size": [
           8,
           8,
           8,
           8,
           8,
           8,
           8,
           8,
           8,
           8,
           8,
           8,
           8,
           15,
           8,
           8,
           8,
           8,
           8,
           8,
           8,
           8,
           8,
           8
          ],
          "symbol": [
           "circle",
           "circle",
           "circle",
           "circle",
           "circle",
           "circle",
           "circle",
           "circle",
           "circle",
           "circle",
           "circle",
           "circle",
           "circle",
           "star",
           "circle",
           "circle",
           "circle",
           "circle",
           "circle",
           "circle",
           "circle",
           "circle",
           "circle",
           "circle"
          ]
         },
         "mode": "lines+markers",
         "name": "Charlize Theron",
         "type": "scatter",
         "visible": false,
         "x": [
          1996,
          1997,
          1998,
          1998,
          1999,
          1999,
          2000,
          2000,
          2000,
          2000,
          2001,
          2001,
          2001,
          2003,
          2003,
          2005,
          2005,
          2007,
          2008,
          2009,
          2009,
          2011,
          2012,
          2012
         ],
         "y": [
          6.9,
          7.5,
          5.6,
          6.3,
          5.3,
          5.3,
          7.2,
          6.7,
          6.4,
          5.7,
          6.1,
          6.7,
          6.8,
          7.3,
          7,
          5.5,
          7.3,
          7.2,
          6.4,
          7.3,
          6.3,
          6.3,
          6.1,
          7
         ]
        },
        {
         "hoverinfo": "text",
         "hovertext": [
          "Movie: The English Patient<br>IMDb Score: 7.4<br>Release Date: 1996<br>Academy Award for Best Actor/Actress : No",
          "Movie: Shakespeare in Love<br>IMDb Score: 7.2<br>Release Date: 1998<br>Academy Award for Best Actor/Actress : No",
          "Movie: Bridget Jones's Diary<br>IMDb Score: 6.7<br>Release Date: 2001<br>Academy Award for Best Actor/Actress : No",
          "Movie: The Importance of Being Earnest<br>IMDb Score: 6.9<br>Release Date: 2002<br>Academy Award for Best Actor/Actress : No",
          "Movie: Girl with a Pearl Earring<br>IMDb Score: 7.0<br>Release Date: 2003<br>Academy Award for Best Actor/Actress : No",
          "Movie: What a Girl Wants<br>IMDb Score: 5.8<br>Release Date: 2003<br>Academy Award for Best Actor/Actress : No",
          "Movie: Love Actually<br>IMDb Score: 7.7<br>Release Date: 2003<br>Academy Award for Best Actor/Actress : No",
          "Movie: Bridget Jones: The Edge of Reason<br>IMDb Score: 5.9<br>Release Date: 2004<br>Academy Award for Best Actor/Actress : No",
          "Movie: Where the Truth Lies<br>IMDb Score: 6.5<br>Release Date: 2005<br>Academy Award for Best Actor/Actress : No",
          "Movie: Nanny McPhee<br>IMDb Score: 6.6<br>Release Date: 2005<br>Academy Award for Best Actor/Actress : No",
          "Movie: When Did You Last See Your Father?<br>IMDb Score: 6.9<br>Release Date: 2007<br>Academy Award for Best Actor/Actress : No",
          "Movie: St. Trinian's<br>IMDb Score: 5.8<br>Release Date: 2007<br>Academy Award for Best Actor/Actress : No",
          "Movie: The Last Legion<br>IMDb Score: 5.4<br>Release Date: 2007<br>Academy Award for Best Actor/Actress : No",
          "Movie: Mamma Mia!<br>IMDb Score: 6.3<br>Release Date: 2008<br>Academy Award for Best Actor/Actress : No",
          "Movie: A Single Man<br>IMDb Score: 7.6<br>Release Date: 2009<br>Academy Award for Best Actor/Actress : No",
          "Movie: A Christmas Carol<br>IMDb Score: 6.8<br>Release Date: 2009<br>Academy Award for Best Actor/Actress : No",
          "Movie: The King's Speech<br>IMDb Score: 8.0<br>Release Date: 2010<br>Academy Award for Best Actor/Actress : Yes",
          "Movie: The Railway Man<br>IMDb Score: 7.1<br>Release Date: 2013<br>Academy Award for Best Actor/Actress : No"
         ],
         "legendgroup": "Colin Firth",
         "line": {
          "color": "#FFA15A"
         },
         "marker": {
          "size": [
           8,
           8,
           8,
           8,
           8,
           8,
           8,
           8,
           8,
           8,
           8,
           8,
           8,
           8,
           8,
           8,
           15,
           8
          ],
          "symbol": [
           "circle",
           "circle",
           "circle",
           "circle",
           "circle",
           "circle",
           "circle",
           "circle",
           "circle",
           "circle",
           "circle",
           "circle",
           "circle",
           "circle",
           "circle",
           "circle",
           "star",
           "circle"
          ]
         },
         "mode": "lines+markers",
         "name": "Colin Firth",
         "type": "scatter",
         "visible": false,
         "x": [
          1996,
          1998,
          2001,
          2002,
          2003,
          2003,
          2003,
          2004,
          2005,
          2005,
          2007,
          2007,
          2007,
          2008,
          2009,
          2009,
          2010,
          2013
         ],
         "y": [
          7.4,
          7.2,
          6.7,
          6.9,
          7,
          5.8,
          7.7,
          5.9,
          6.5,
          6.6,
          6.9,
          5.8,
          5.4,
          6.3,
          7.6,
          6.8,
          8,
          7.1
         ]
        },
        {
         "hoverinfo": "text",
         "hovertext": [
          "Movie: Gandhi<br>IMDb Score: 8.1<br>Release Date: 1982<br>Academy Award for Best Actor/Actress : No",
          "Movie: The Bounty<br>IMDb Score: 7.0<br>Release Date: 1984<br>Academy Award for Best Actor/Actress : No",
          "Movie: My Beautiful Laundrette<br>IMDb Score: 6.9<br>Release Date: 1985<br>Academy Award for Best Actor/Actress : No",
          "Movie: A Room with a View<br>IMDb Score: 7.4<br>Release Date: 1985<br>Academy Award for Best Actor/Actress : No",
          "Movie: The Last of the Mohicans<br>IMDb Score: 7.8<br>Release Date: 1992<br>Academy Award for Best Actor/Actress : No",
          "Movie: The Age of Innocence<br>IMDb Score: 7.2<br>Release Date: 1993<br>Academy Award for Best Actor/Actress : No",
          "Movie: Gangs of New York<br>IMDb Score: 7.5<br>Release Date: 2002<br>Academy Award for Best Actor/Actress : No",
          "Movie: The Ballad of Jack and Rose<br>IMDb Score: 6.7<br>Release Date: 2005<br>Academy Award for Best Actor/Actress : No",
          "Movie: There Will Be Blood<br>IMDb Score: 8.1<br>Release Date: 2007<br>Academy Award for Best Actor/Actress : Yes",
          "Movie: Nine<br>IMDb Score: 5.8<br>Release Date: 2009<br>Academy Award for Best Actor/Actress : No",
          "Movie: Lincoln<br>IMDb Score: 7.4<br>Release Date: 2012<br>Academy Award for Best Actor/Actress : Yes"
         ],
         "legendgroup": "Daniel Day-Lewis",
         "line": {
          "color": "#19D3F3"
         },
         "marker": {
          "size": [
           8,
           8,
           8,
           8,
           8,
           8,
           8,
           8,
           15,
           8,
           15
          ],
          "symbol": [
           "circle",
           "circle",
           "circle",
           "circle",
           "circle",
           "circle",
           "circle",
           "circle",
           "star",
           "circle",
           "star"
          ]
         },
         "mode": "lines+markers",
         "name": "Daniel Day-Lewis",
         "type": "scatter",
         "visible": false,
         "x": [
          1982,
          1984,
          1985,
          1985,
          1992,
          1993,
          2002,
          2005,
          2007,
          2009,
          2012
         ],
         "y": [
          8.1,
          7,
          6.9,
          7.4,
          7.8,
          7.2,
          7.5,
          6.7,
          8.1,
          5.8,
          7.4
         ]
        },
        {
         "hoverinfo": "text",
         "hovertext": [
          "Movie: Cry Freedom<br>IMDb Score: 7.5<br>Release Date: 1987<br>Academy Award for Best Actor/Actress : No",
          "Movie: Mo' Better Blues<br>IMDb Score: 6.5<br>Release Date: 1990<br>Academy Award for Best Actor/Actress : No",
          "Movie: Malcolm X<br>IMDb Score: 7.7<br>Release Date: 1992<br>Academy Award for Best Actor/Actress : No",
          "Movie: Much Ado About Nothing<br>IMDb Score: 7.4<br>Release Date: 1993<br>Academy Award for Best Actor/Actress : No",
          "Movie: Crimson Tide<br>IMDb Score: 7.3<br>Release Date: 1995<br>Academy Award for Best Actor/Actress : No",
          "Movie: Virtuosity<br>IMDb Score: 5.5<br>Release Date: 1995<br>Academy Award for Best Actor/Actress : No",
          "Movie: Courage Under Fire<br>IMDb Score: 6.6<br>Release Date: 1996<br>Academy Award for Best Actor/Actress : No",
          "Movie: The Siege<br>IMDb Score: 6.3<br>Release Date: 1998<br>Academy Award for Best Actor/Actress : No",
          "Movie: He Got Game<br>IMDb Score: 6.9<br>Release Date: 1998<br>Academy Award for Best Actor/Actress : No",
          "Movie: The Hurricane<br>IMDb Score: 7.6<br>Release Date: 1999<br>Academy Award for Best Actor/Actress : No",
          "Movie: The Bone Collector<br>IMDb Score: 6.7<br>Release Date: 1999<br>Academy Award for Best Actor/Actress : No",
          "Movie: Remember the Titans<br>IMDb Score: 7.8<br>Release Date: 2000<br>Academy Award for Best Actor/Actress : No",
          "Movie: Training Day<br>IMDb Score: 7.7<br>Release Date: 2001<br>Academy Award for Best Actor/Actress : Yes",
          "Movie: John Q<br>IMDb Score: 7.0<br>Release Date: 2002<br>Academy Award for Best Actor/Actress : No",
          "Movie: Antwone Fisher<br>IMDb Score: 7.3<br>Release Date: 2002<br>Academy Award for Best Actor/Actress : No",
          "Movie: Out of Time<br>IMDb Score: 6.5<br>Release Date: 2003<br>Academy Award for Best Actor/Actress : No",
          "Movie: The Manchurian Candidate<br>IMDb Score: 6.6<br>Release Date: 2004<br>Academy Award for Best Actor/Actress : No",
          "Movie: Man on Fire<br>IMDb Score: 7.7<br>Release Date: 2004<br>Academy Award for Best Actor/Actress : No",
          "Movie: Inside Man<br>IMDb Score: 7.6<br>Release Date: 2006<br>Academy Award for Best Actor/Actress : No",
          "Movie: American Gangster<br>IMDb Score: 7.8<br>Release Date: 2007<br>Academy Award for Best Actor/Actress : No",
          "Movie: The Great Debaters<br>IMDb Score: 7.6<br>Release Date: 2007<br>Academy Award for Best Actor/Actress : No",
          "Movie: The Taking of Pelham 1 2 3<br>IMDb Score: 6.4<br>Release Date: 2009<br>Academy Award for Best Actor/Actress : No",
          "Movie: Unstoppable<br>IMDb Score: 6.8<br>Release Date: 2010<br>Academy Award for Best Actor/Actress : No",
          "Movie: The Book of Eli<br>IMDb Score: 6.9<br>Release Date: 2010<br>Academy Award for Best Actor/Actress : No",
          "Movie: Flight<br>IMDb Score: 7.3<br>Release Date: 2012<br>Academy Award for Best Actor/Actress : No",
          "Movie: Safe House<br>IMDb Score: 6.8<br>Release Date: 2012<br>Academy Award for Best Actor/Actress : No"
         ],
         "legendgroup": "Denzel Washington",
         "line": {
          "color": "#FF6692"
         },
         "marker": {
          "size": [
           8,
           8,
           8,
           8,
           8,
           8,
           8,
           8,
           8,
           8,
           8,
           8,
           15,
           8,
           8,
           8,
           8,
           8,
           8,
           8,
           8,
           8,
           8,
           8,
           8,
           8
          ],
          "symbol": [
           "circle",
           "circle",
           "circle",
           "circle",
           "circle",
           "circle",
           "circle",
           "circle",
           "circle",
           "circle",
           "circle",
           "circle",
           "star",
           "circle",
           "circle",
           "circle",
           "circle",
           "circle",
           "circle",
           "circle",
           "circle",
           "circle",
           "circle",
           "circle",
           "circle",
           "circle"
          ]
         },
         "mode": "lines+markers",
         "name": "Denzel Washington",
         "type": "scatter",
         "visible": false,
         "x": [
          1987,
          1990,
          1992,
          1993,
          1995,
          1995,
          1996,
          1998,
          1998,
          1999,
          1999,
          2000,
          2001,
          2002,
          2002,
          2003,
          2004,
          2004,
          2006,
          2007,
          2007,
          2009,
          2010,
          2010,
          2012,
          2012
         ],
         "y": [
          7.5,
          6.5,
          7.7,
          7.4,
          7.3,
          5.5,
          6.6,
          6.3,
          6.9,
          7.6,
          6.7,
          7.8,
          7.7,
          7,
          7.3,
          6.5,
          6.6,
          7.7,
          7.6,
          7.8,
          7.6,
          6.4,
          6.8,
          6.9,
          7.3,
          6.8
         ]
        },
        {
         "hoverinfo": "text",
         "hovertext": [
          "Movie: Tootsie<br>IMDb Score: 7.4<br>Release Date: 1982<br>Academy Award for Best Actor/Actress : No",
          "Movie: Ishtar<br>IMDb Score: 4.2<br>Release Date: 1987<br>Academy Award for Best Actor/Actress : No",
          "Movie: Rain Man<br>IMDb Score: 8.0<br>Release Date: 1988<br>Academy Award for Best Actor/Actress : Yes",
          "Movie: Dick Tracy<br>IMDb Score: 6.1<br>Release Date: 1990<br>Academy Award for Best Actor/Actress : No",
          "Movie: Hook<br>IMDb Score: 6.7<br>Release Date: 1991<br>Academy Award for Best Actor/Actress : No",
          "Movie: Outbreak<br>IMDb Score: 6.6<br>Release Date: 1995<br>Academy Award for Best Actor/Actress : No",
          "Movie: Sleepers<br>IMDb Score: 7.5<br>Release Date: 1996<br>Academy Award for Best Actor/Actress : No",
          "Movie: Mad City<br>IMDb Score: 6.2<br>Release Date: 1997<br>Academy Award for Best Actor/Actress : No",
          "Movie: Wag the Dog<br>IMDb Score: 7.1<br>Release Date: 1997<br>Academy Award for Best Actor/Actress : No",
          "Movie: Sphere<br>IMDb Score: 6.0<br>Release Date: 1998<br>Academy Award for Best Actor/Actress : No",
          "Movie: The Messenger: The Story of Joan of Arc<br>IMDb Score: 6.4<br>Release Date: 1999<br>Academy Award for Best Actor/Actress : No",
          "Movie: Moonlight Mile<br>IMDb Score: 6.7<br>Release Date: 2002<br>Academy Award for Best Actor/Actress : No",
          "Movie: Confidence<br>IMDb Score: 6.7<br>Release Date: 2003<br>Academy Award for Best Actor/Actress : No",
          "Movie: Finding Neverland<br>IMDb Score: 7.8<br>Release Date: 2004<br>Academy Award for Best Actor/Actress : No",
          "Movie: Meet the Fockers<br>IMDb Score: 6.3<br>Release Date: 2004<br>Academy Award for Best Actor/Actress : No",
          "Movie: Racing Stripes<br>IMDb Score: 5.2<br>Release Date: 2005<br>Academy Award for Best Actor/Actress : No",
          "Movie: Stranger Than Fiction<br>IMDb Score: 7.6<br>Release Date: 2006<br>Academy Award for Best Actor/Actress : No",
          "Movie: The Holiday<br>IMDb Score: 6.9<br>Release Date: 2006<br>Academy Award for Best Actor/Actress : No",
          "Movie: Perfume: The Story of a Murderer<br>IMDb Score: 7.5<br>Release Date: 2006<br>Academy Award for Best Actor/Actress : No",
          "Movie: The Tale of Despereaux<br>IMDb Score: 6.1<br>Release Date: 2008<br>Academy Award for Best Actor/Actress : No",
          "Movie: Kung Fu Panda<br>IMDb Score: 7.6<br>Release Date: 2008<br>Academy Award for Best Actor/Actress : No",
          "Movie: Barney's Version<br>IMDb Score: 7.3<br>Release Date: 2010<br>Academy Award for Best Actor/Actress : No",
          "Movie: Little Fockers<br>IMDb Score: 5.5<br>Release Date: 2010<br>Academy Award for Best Actor/Actress : No",
          "Movie: Kung Fu Panda 2<br>IMDb Score: 7.3<br>Release Date: 2011<br>Academy Award for Best Actor/Actress : No"
         ],
         "legendgroup": "Dustin Hoffman",
         "line": {
          "color": "#B6E880"
         },
         "marker": {
          "size": [
           8,
           8,
           15,
           8,
           8,
           8,
           8,
           8,
           8,
           8,
           8,
           8,
           8,
           8,
           8,
           8,
           8,
           8,
           8,
           8,
           8,
           8,
           8,
           8
          ],
          "symbol": [
           "circle",
           "circle",
           "star",
           "circle",
           "circle",
           "circle",
           "circle",
           "circle",
           "circle",
           "circle",
           "circle",
           "circle",
           "circle",
           "circle",
           "circle",
           "circle",
           "circle",
           "circle",
           "circle",
           "circle",
           "circle",
           "circle",
           "circle",
           "circle"
          ]
         },
         "mode": "lines+markers",
         "name": "Dustin Hoffman",
         "type": "scatter",
         "visible": false,
         "x": [
          1982,
          1987,
          1988,
          1990,
          1991,
          1995,
          1996,
          1997,
          1997,
          1998,
          1999,
          2002,
          2003,
          2004,
          2004,
          2005,
          2006,
          2006,
          2006,
          2008,
          2008,
          2010,
          2010,
          2011
         ],
         "y": [
          7.4,
          4.2,
          8,
          6.1,
          6.7,
          6.6,
          7.5,
          6.2,
          7.1,
          6,
          6.4,
          6.7,
          6.7,
          7.8,
          6.3,
          5.2,
          7.6,
          6.9,
          7.5,
          6.1,
          7.6,
          7.3,
          5.5,
          7.3
         ]
        },
        {
         "hoverinfo": "text",
         "hovertext": [
          "Movie: Henry V<br>IMDb Score: 7.7<br>Release Date: 1989<br>Academy Award for Best Actor/Actress : No",
          "Movie: Howards End<br>IMDb Score: 7.5<br>Release Date: 1992<br>Academy Award for Best Actor/Actress : Yes",
          "Movie: Much Ado About Nothing<br>IMDb Score: 7.4<br>Release Date: 1993<br>Academy Award for Best Actor/Actress : No",
          "Movie: The Remains of the Day<br>IMDb Score: 7.9<br>Release Date: 1993<br>Academy Award for Best Actor/Actress : No",
          "Movie: Sense and Sensibility<br>IMDb Score: 7.7<br>Release Date: 1995<br>Academy Award for Best Actor/Actress : No",
          "Movie: Primary Colors<br>IMDb Score: 6.7<br>Release Date: 1998<br>Academy Award for Best Actor/Actress : No",
          "Movie: Treasure Planet<br>IMDb Score: 7.1<br>Release Date: 2002<br>Academy Award for Best Actor/Actress : No",
          "Movie: Love Actually<br>IMDb Score: 7.7<br>Release Date: 2003<br>Academy Award for Best Actor/Actress : No",
          "Movie: Harry Potter and the Prisoner of Azkaban<br>IMDb Score: 7.8<br>Release Date: 2004<br>Academy Award for Best Actor/Actress : No",
          "Movie: Nanny McPhee<br>IMDb Score: 6.6<br>Release Date: 2005<br>Academy Award for Best Actor/Actress : No",
          "Movie: Stranger Than Fiction<br>IMDb Score: 7.6<br>Release Date: 2006<br>Academy Award for Best Actor/Actress : No",
          "Movie: Harry Potter and the Order of the Phoenix<br>IMDb Score: 7.5<br>Release Date: 2007<br>Academy Award for Best Actor/Actress : No",
          "Movie: I Am Legend<br>IMDb Score: 7.2<br>Release Date: 2007<br>Academy Award for Best Actor/Actress : No",
          "Movie: An Education<br>IMDb Score: 7.3<br>Release Date: 2009<br>Academy Award for Best Actor/Actress : No",
          "Movie: Brave<br>IMDb Score: 7.2<br>Release Date: 2012<br>Academy Award for Best Actor/Actress : No",
          "Movie: Men in Black 3<br>IMDb Score: 6.8<br>Release Date: 2012<br>Academy Award for Best Actor/Actress : No"
         ],
         "legendgroup": "Emma Thompson",
         "line": {
          "color": "#FF97FF"
         },
         "marker": {
          "size": [
           8,
           15,
           8,
           8,
           8,
           8,
           8,
           8,
           8,
           8,
           8,
           8,
           8,
           8,
           8,
           8
          ],
          "symbol": [
           "circle",
           "star",
           "circle",
           "circle",
           "circle",
           "circle",
           "circle",
           "circle",
           "circle",
           "circle",
           "circle",
           "circle",
           "circle",
           "circle",
           "circle",
           "circle"
          ]
         },
         "mode": "lines+markers",
         "name": "Emma Thompson",
         "type": "scatter",
         "visible": false,
         "x": [
          1989,
          1992,
          1993,
          1993,
          1995,
          1998,
          2002,
          2003,
          2004,
          2005,
          2006,
          2007,
          2007,
          2009,
          2012,
          2012
         ],
         "y": [
          7.7,
          7.5,
          7.4,
          7.9,
          7.7,
          6.7,
          7.1,
          7.7,
          7.8,
          6.6,
          7.6,
          7.5,
          7.2,
          7.3,
          7.2,
          6.8
         ]
        },
        {
         "hoverinfo": "text",
         "hovertext": [
          "Movie: Scarface<br>IMDb Score: 8.3<br>Release Date: 1983<br>Academy Award for Best Actor/Actress : No",
          "Movie: Amadeus<br>IMDb Score: 8.3<br>Release Date: 1984<br>Academy Award for Best Actor/Actress : Yes",
          "Movie: Last Action Hero<br>IMDb Score: 6.2<br>Release Date: 1993<br>Academy Award for Best Actor/Actress : No",
          "Movie: Star Trek: Insurrection<br>IMDb Score: 6.4<br>Release Date: 1998<br>Academy Award for Best Actor/Actress : No",
          "Movie: Finding Forrester<br>IMDb Score: 7.3<br>Release Date: 2000<br>Academy Award for Best Actor/Actress : No",
          "Movie: Thir13en Ghosts<br>IMDb Score: 5.5<br>Release Date: 2001<br>Academy Award for Best Actor/Actress : No"
         ],
         "legendgroup": "F. Murray Abraham",
         "line": {
          "color": "#FECB52"
         },
         "marker": {
          "size": [
           8,
           15,
           8,
           8,
           8,
           8
          ],
          "symbol": [
           "circle",
           "star",
           "circle",
           "circle",
           "circle",
           "circle"
          ]
         },
         "mode": "lines+markers",
         "name": "F. Murray Abraham",
         "type": "scatter",
         "visible": false,
         "x": [
          1983,
          1984,
          1993,
          1998,
          2000,
          2001
         ],
         "y": [
          8.3,
          8.3,
          6.2,
          6.4,
          7.3,
          5.5
         ]
        },
        {
         "hoverinfo": "text",
         "hovertext": [
          "Movie: Fast Times at Ridgemont High<br>IMDb Score: 7.2<br>Release Date: 1982<br>Academy Award for Best Actor/Actress : No",
          "Movie: The Color of Money<br>IMDb Score: 7.0<br>Release Date: 1986<br>Academy Award for Best Actor/Actress : No",
          "Movie: Platoon<br>IMDb Score: 8.1<br>Release Date: 1986<br>Academy Award for Best Actor/Actress : No",
          "Movie: Good Morning, Vietnam<br>IMDb Score: 7.3<br>Release Date: 1987<br>Academy Award for Best Actor/Actress : No",
          "Movie: Bloodsport<br>IMDb Score: 6.8<br>Release Date: 1988<br>Academy Award for Best Actor/Actress : No",
          "Movie: The Crying Game<br>IMDb Score: 7.3<br>Release Date: 1992<br>Academy Award for Best Actor/Actress : No",
          "Movie: Species<br>IMDb Score: 5.8<br>Release Date: 1995<br>Academy Award for Best Actor/Actress : No",
          "Movie: Phenomenon<br>IMDb Score: 6.4<br>Release Date: 1996<br>Academy Award for Best Actor/Actress : No",
          "Movie: Ghost Dog: The Way of the Samurai<br>IMDb Score: 7.5<br>Release Date: 1999<br>Academy Award for Best Actor/Actress : No",
          "Movie: Battlefield Earth<br>IMDb Score: 2.4<br>Release Date: 2000<br>Academy Award for Best Actor/Actress : No",
          "Movie: Panic Room<br>IMDb Score: 6.8<br>Release Date: 2002<br>Academy Award for Best Actor/Actress : No",
          "Movie: The Last King of Scotland<br>IMDb Score: 7.7<br>Release Date: 2006<br>Academy Award for Best Actor/Actress : Yes",
          "Movie: The Great Debaters<br>IMDb Score: 7.6<br>Release Date: 2007<br>Academy Award for Best Actor/Actress : No",
          "Movie: Dragon Hunters<br>IMDb Score: 6.6<br>Release Date: 2008<br>Academy Award for Best Actor/Actress : No",
          "Movie: Street Kings<br>IMDb Score: 6.8<br>Release Date: 2008<br>Academy Award for Best Actor/Actress : No",
          "Movie: Vantage Point<br>IMDb Score: 6.6<br>Release Date: 2008<br>Academy Award for Best Actor/Actress : No",
          "Movie: Where the Wild Things Are<br>IMDb Score: 6.8<br>Release Date: 2009<br>Academy Award for Best Actor/Actress : No",
          "Movie: Our Family Wedding<br>IMDb Score: 4.9<br>Release Date: 2010<br>Academy Award for Best Actor/Actress : No",
          "Movie: Repo Men<br>IMDb Score: 6.3<br>Release Date: 2010<br>Academy Award for Best Actor/Actress : No",
          "Movie: The Last Stand<br>IMDb Score: 6.4<br>Release Date: 2013<br>Academy Award for Best Actor/Actress : No"
         ],
         "legendgroup": "Forest Whitaker",
         "line": {
          "color": "#636EFA"
         },
         "marker": {
          "size": [
           8,
           8,
           8,
           8,
           8,
           8,
           8,
           8,
           8,
           8,
           8,
           15,
           8,
           8,
           8,
           8,
           8,
           8,
           8,
           8
          ],
          "symbol": [
           "circle",
           "circle",
           "circle",
           "circle",
           "circle",
           "circle",
           "circle",
           "circle",
           "circle",
           "circle",
           "circle",
           "star",
           "circle",
           "circle",
           "circle",
           "circle",
           "circle",
           "circle",
           "circle",
           "circle"
          ]
         },
         "mode": "lines+markers",
         "name": "Forest Whitaker",
         "type": "scatter",
         "visible": false,
         "x": [
          1982,
          1986,
          1986,
          1987,
          1988,
          1992,
          1995,
          1996,
          1999,
          2000,
          2002,
          2006,
          2007,
          2008,
          2008,
          2008,
          2009,
          2010,
          2010,
          2013
         ],
         "y": [
          7.2,
          7,
          8.1,
          7.3,
          6.8,
          7.3,
          5.8,
          6.4,
          7.5,
          2.4,
          6.8,
          7.7,
          7.6,
          6.6,
          6.8,
          6.6,
          6.8,
          4.9,
          6.3,
          6.4
         ]
        },
        {
         "hoverinfo": "text",
         "hovertext": [
          "Movie: Shine<br>IMDb Score: 7.7<br>Release Date: 1996<br>Academy Award for Best Actor/Actress : Yes",
          "Movie: Oscar and Lucinda<br>IMDb Score: 6.7<br>Release Date: 1997<br>Academy Award for Best Actor/Actress : No",
          "Movie: Shakespeare in Love<br>IMDb Score: 7.2<br>Release Date: 1998<br>Academy Award for Best Actor/Actress : No",
          "Movie: Elizabeth<br>IMDb Score: 7.5<br>Release Date: 1998<br>Academy Award for Best Actor/Actress : No",
          "Movie: Mystery Men<br>IMDb Score: 6.0<br>Release Date: 1999<br>Academy Award for Best Actor/Actress : No",
          "Movie: House on Haunted Hill<br>IMDb Score: 5.6<br>Release Date: 1999<br>Academy Award for Best Actor/Actress : No",
          "Movie: Quills<br>IMDb Score: 7.4<br>Release Date: 2000<br>Academy Award for Best Actor/Actress : No",
          "Movie: Frida<br>IMDb Score: 7.4<br>Release Date: 2002<br>Academy Award for Best Actor/Actress : No",
          "Movie: The Banger Sisters<br>IMDb Score: 5.6<br>Release Date: 2002<br>Academy Award for Best Actor/Actress : No",
          "Movie: Finding Nemo<br>IMDb Score: 8.2<br>Release Date: 2003<br>Academy Award for Best Actor/Actress : No",
          "Movie: Intolerable Cruelty<br>IMDb Score: 6.3<br>Release Date: 2003<br>Academy Award for Best Actor/Actress : No",
          "Movie: Pirates of the Caribbean: The Curse of the Black Pearl<br>IMDb Score: 8.1<br>Release Date: 2003<br>Academy Award for Best Actor/Actress : No",
          "Movie: Munich<br>IMDb Score: 7.6<br>Release Date: 2005<br>Academy Award for Best Actor/Actress : No",
          "Movie: Pirates of the Caribbean: Dead Man's Chest<br>IMDb Score: 7.3<br>Release Date: 2006<br>Academy Award for Best Actor/Actress : No",
          "Movie: Pirates of the Caribbean: At World's End<br>IMDb Score: 7.1<br>Release Date: 2007<br>Academy Award for Best Actor/Actress : No",
          "Movie: Elizabeth: The Golden Age<br>IMDb Score: 6.9<br>Release Date: 2007<br>Academy Award for Best Actor/Actress : No",
          "Movie: The Warrior's Way<br>IMDb Score: 6.3<br>Release Date: 2010<br>Academy Award for Best Actor/Actress : No",
          "Movie: Legend of the Guardians: The Owls of Ga'Hoole<br>IMDb Score: 7.0<br>Release Date: 2010<br>Academy Award for Best Actor/Actress : No",
          "Movie: The King's Speech<br>IMDb Score: 8.0<br>Release Date: 2010<br>Academy Award for Best Actor/Actress : No",
          "Movie: Pirates of the Caribbean: On Stranger Tides<br>IMDb Score: 6.7<br>Release Date: 2011<br>Academy Award for Best Actor/Actress : No",
          "Movie: Les Misérables<br>IMDb Score: 7.6<br>Release Date: 2012<br>Academy Award for Best Actor/Actress : No"
         ],
         "legendgroup": "Geoffrey Rush",
         "line": {
          "color": "#EF553B"
         },
         "marker": {
          "size": [
           15,
           8,
           8,
           8,
           8,
           8,
           8,
           8,
           8,
           8,
           8,
           8,
           8,
           8,
           8,
           8,
           8,
           8,
           8,
           8,
           8
          ],
          "symbol": [
           "star",
           "circle",
           "circle",
           "circle",
           "circle",
           "circle",
           "circle",
           "circle",
           "circle",
           "circle",
           "circle",
           "circle",
           "circle",
           "circle",
           "circle",
           "circle",
           "circle",
           "circle",
           "circle",
           "circle",
           "circle"
          ]
         },
         "mode": "lines+markers",
         "name": "Geoffrey Rush",
         "type": "scatter",
         "visible": false,
         "x": [
          1996,
          1997,
          1998,
          1998,
          1999,
          1999,
          2000,
          2002,
          2002,
          2003,
          2003,
          2003,
          2005,
          2006,
          2007,
          2007,
          2010,
          2010,
          2010,
          2011,
          2012
         ],
         "y": [
          7.7,
          6.7,
          7.2,
          7.5,
          6,
          5.6,
          7.4,
          7.4,
          5.6,
          8.2,
          6.3,
          8.1,
          7.6,
          7.3,
          7.1,
          6.9,
          6.3,
          7,
          8,
          6.7,
          7.6
         ]
        },
        {
         "hoverinfo": "text",
         "hovertext": [
          "Movie: Hook<br>IMDb Score: 6.7<br>Release Date: 1991<br>Academy Award for Best Actor/Actress : No",
          "Movie: Jefferson in Paris<br>IMDb Score: 5.7<br>Release Date: 1995<br>Academy Award for Best Actor/Actress : No",
          "Movie: The Pallbearer<br>IMDb Score: 4.9<br>Release Date: 1996<br>Academy Award for Best Actor/Actress : No",
          "Movie: Shakespeare in Love<br>IMDb Score: 7.2<br>Release Date: 1998<br>Academy Award for Best Actor/Actress : Yes",
          "Movie: Sliding Doors<br>IMDb Score: 6.8<br>Release Date: 1998<br>Academy Award for Best Actor/Actress : No",
          "Movie: The Talented Mr. Ripley<br>IMDb Score: 7.3<br>Release Date: 1999<br>Academy Award for Best Actor/Actress : No",
          "Movie: Duets<br>IMDb Score: 6.0<br>Release Date: 2000<br>Academy Award for Best Actor/Actress : No",
          "Movie: The Royal Tenenbaums<br>IMDb Score: 7.6<br>Release Date: 2001<br>Academy Award for Best Actor/Actress : No",
          "Movie: Shallow Hal<br>IMDb Score: 5.9<br>Release Date: 2001<br>Academy Award for Best Actor/Actress : No",
          "Movie: Sky Captain and the World of Tomorrow<br>IMDb Score: 6.1<br>Release Date: 2004<br>Academy Award for Best Actor/Actress : No",
          "Movie: Infamous<br>IMDb Score: 7.1<br>Release Date: 2006<br>Academy Award for Best Actor/Actress : No",
          "Movie: Running with Scissors<br>IMDb Score: 6.2<br>Release Date: 2006<br>Academy Award for Best Actor/Actress : No",
          "Movie: The Good Night<br>IMDb Score: 5.9<br>Release Date: 2007<br>Academy Award for Best Actor/Actress : No",
          "Movie: Iron Man<br>IMDb Score: 7.9<br>Release Date: 2008<br>Academy Award for Best Actor/Actress : No",
          "Movie: Two Lovers<br>IMDb Score: 7.1<br>Release Date: 2008<br>Academy Award for Best Actor/Actress : No",
          "Movie: Iron Man 2<br>IMDb Score: 7.0<br>Release Date: 2010<br>Academy Award for Best Actor/Actress : No",
          "Movie: Country Strong<br>IMDb Score: 6.3<br>Release Date: 2010<br>Academy Award for Best Actor/Actress : No",
          "Movie: Contagion<br>IMDb Score: 6.6<br>Release Date: 2011<br>Academy Award for Best Actor/Actress : No",
          "Movie: Glee: The 3D Concert Movie<br>IMDb Score: 5.4<br>Release Date: 2011<br>Academy Award for Best Actor/Actress : No",
          "Movie: The Avengers<br>IMDb Score: 8.1<br>Release Date: 2012<br>Academy Award for Best Actor/Actress : No",
          "Movie: The Avengers<br>IMDb Score: 8.1<br>Release Date: 2012<br>Academy Award for Best Actor/Actress : No",
          "Movie: Iron Man 3<br>IMDb Score: 7.2<br>Release Date: 2013<br>Academy Award for Best Actor/Actress : No"
         ],
         "legendgroup": "Gwyneth Paltrow",
         "line": {
          "color": "#00CC96"
         },
         "marker": {
          "size": [
           8,
           8,
           8,
           15,
           8,
           8,
           8,
           8,
           8,
           8,
           8,
           8,
           8,
           8,
           8,
           8,
           8,
           8,
           8,
           8,
           8,
           8
          ],
          "symbol": [
           "circle",
           "circle",
           "circle",
           "star",
           "circle",
           "circle",
           "circle",
           "circle",
           "circle",
           "circle",
           "circle",
           "circle",
           "circle",
           "circle",
           "circle",
           "circle",
           "circle",
           "circle",
           "circle",
           "circle",
           "circle",
           "circle"
          ]
         },
         "mode": "lines+markers",
         "name": "Gwyneth Paltrow",
         "type": "scatter",
         "visible": false,
         "x": [
          1991,
          1995,
          1996,
          1998,
          1998,
          1999,
          2000,
          2001,
          2001,
          2004,
          2006,
          2006,
          2007,
          2008,
          2008,
          2010,
          2010,
          2011,
          2011,
          2012,
          2012,
          2013
         ],
         "y": [
          6.7,
          5.7,
          4.9,
          7.2,
          6.8,
          7.3,
          6,
          7.6,
          5.9,
          6.1,
          7.1,
          6.2,
          5.9,
          7.9,
          7.1,
          7,
          6.3,
          6.6,
          5.4,
          8.1,
          8.1,
          7.2
         ]
        },
        {
         "hoverinfo": "text",
         "hovertext": [
          "Movie: Boomerang<br>IMDb Score: 5.4<br>Release Date: 1992<br>Academy Award for Best Actor/Actress : No",
          "Movie: The Flintstones<br>IMDb Score: 4.8<br>Release Date: 1994<br>Academy Award for Best Actor/Actress : No",
          "Movie: Girl 6<br>IMDb Score: 5.0<br>Release Date: 1996<br>Academy Award for Best Actor/Actress : No",
          "Movie: Executive Decision<br>IMDb Score: 6.4<br>Release Date: 1996<br>Academy Award for Best Actor/Actress : No",
          "Movie: Bulworth<br>IMDb Score: 6.8<br>Release Date: 1998<br>Academy Award for Best Actor/Actress : No",
          "Movie: X-Men<br>IMDb Score: 7.4<br>Release Date: 2000<br>Academy Award for Best Actor/Actress : No",
          "Movie: Monster's Ball<br>IMDb Score: 7.1<br>Release Date: 2001<br>Academy Award for Best Actor/Actress : Yes",
          "Movie: Swordfish<br>IMDb Score: 6.5<br>Release Date: 2001<br>Academy Award for Best Actor/Actress : No",
          "Movie: Die Another Day<br>IMDb Score: 6.1<br>Release Date: 2002<br>Academy Award for Best Actor/Actress : No",
          "Movie: Gothika<br>IMDb Score: 5.8<br>Release Date: 2003<br>Academy Award for Best Actor/Actress : No",
          "Movie: Catwoman<br>IMDb Score: 3.3<br>Release Date: 2004<br>Academy Award for Best Actor/Actress : No",
          "Movie: Catwoman<br>IMDb Score: 3.3<br>Release Date: 2004<br>Academy Award for Best Actor/Actress : No",
          "Movie: X-Men: The Last Stand<br>IMDb Score: 6.8<br>Release Date: 2006<br>Academy Award for Best Actor/Actress : No",
          "Movie: Things We Lost in the Fire<br>IMDb Score: 7.2<br>Release Date: 2007<br>Academy Award for Best Actor/Actress : No",
          "Movie: New Year's Eve<br>IMDb Score: 5.7<br>Release Date: 2011<br>Academy Award for Best Actor/Actress : No",
          "Movie: Cloud Atlas<br>IMDb Score: 7.5<br>Release Date: 2012<br>Academy Award for Best Actor/Actress : No",
          "Movie: Cloud Atlas<br>IMDb Score: 7.5<br>Release Date: 2012<br>Academy Award for Best Actor/Actress : No",
          "Movie: Cloud Atlas<br>IMDb Score: 7.5<br>Release Date: 2012<br>Academy Award for Best Actor/Actress : No"
         ],
         "legendgroup": "Halle Berry",
         "line": {
          "color": "#AB63FA"
         },
         "marker": {
          "size": [
           8,
           8,
           8,
           8,
           8,
           8,
           15,
           8,
           8,
           8,
           8,
           8,
           8,
           8,
           8,
           8,
           8,
           8
          ],
          "symbol": [
           "circle",
           "circle",
           "circle",
           "circle",
           "circle",
           "circle",
           "star",
           "circle",
           "circle",
           "circle",
           "circle",
           "circle",
           "circle",
           "circle",
           "circle",
           "circle",
           "circle",
           "circle"
          ]
         },
         "mode": "lines+markers",
         "name": "Halle Berry",
         "type": "scatter",
         "visible": false,
         "x": [
          1992,
          1994,
          1996,
          1996,
          1998,
          2000,
          2001,
          2001,
          2002,
          2003,
          2004,
          2004,
          2006,
          2007,
          2011,
          2012,
          2012,
          2012
         ],
         "y": [
          5.4,
          4.8,
          5,
          6.4,
          6.8,
          7.4,
          7.1,
          6.5,
          6.1,
          5.8,
          3.3,
          3.3,
          6.8,
          7.2,
          5.7,
          7.5,
          7.5,
          7.5
         ]
        },
        {
         "hoverinfo": "text",
         "hovertext": [
          "Movie: Peggy Sue Got Married<br>IMDb Score: 6.3<br>Release Date: 1986<br>Academy Award for Best Actor/Actress : No",
          "Movie: Kiss of Death<br>IMDb Score: 5.9<br>Release Date: 1995<br>Academy Award for Best Actor/Actress : No",
          "Movie: Twister<br>IMDb Score: 6.3<br>Release Date: 1996<br>Academy Award for Best Actor/Actress : No",
          "Movie: As Good as It Gets<br>IMDb Score: 7.7<br>Release Date: 1997<br>Academy Award for Best Actor/Actress : Yes",
          "Movie: What Women Want<br>IMDb Score: 6.4<br>Release Date: 2000<br>Academy Award for Best Actor/Actress : No",
          "Movie: Pay It Forward<br>IMDb Score: 7.2<br>Release Date: 2000<br>Academy Award for Best Actor/Actress : No",
          "Movie: Cast Away<br>IMDb Score: 7.7<br>Release Date: 2000<br>Academy Award for Best Actor/Actress : No",
          "Movie: The Curse of the Jade Scorpion<br>IMDb Score: 6.8<br>Release Date: 2001<br>Academy Award for Best Actor/Actress : No",
          "Movie: Bobby<br>IMDb Score: 7.0<br>Release Date: 2006<br>Academy Award for Best Actor/Actress : No",
          "Movie: Soul Surfer<br>IMDb Score: 7.1<br>Release Date: 2011<br>Academy Award for Best Actor/Actress : No"
         ],
         "legendgroup": "Helen Hunt",
         "line": {
          "color": "#FFA15A"
         },
         "marker": {
          "size": [
           8,
           8,
           8,
           15,
           8,
           8,
           8,
           8,
           8,
           8
          ],
          "symbol": [
           "circle",
           "circle",
           "circle",
           "star",
           "circle",
           "circle",
           "circle",
           "circle",
           "circle",
           "circle"
          ]
         },
         "mode": "lines+markers",
         "name": "Helen Hunt",
         "type": "scatter",
         "visible": false,
         "x": [
          1986,
          1995,
          1996,
          1997,
          2000,
          2000,
          2000,
          2001,
          2006,
          2011
         ],
         "y": [
          6.3,
          5.9,
          6.3,
          7.7,
          6.4,
          7.2,
          7.7,
          6.8,
          7,
          7.1
         ]
        },
        {
         "hoverinfo": "text",
         "hovertext": [
          "Movie: Boys Don't Cry<br>IMDb Score: 7.6<br>Release Date: 1999<br>Academy Award for Best Actor/Actress : Yes",
          "Movie: Insomnia<br>IMDb Score: 7.2<br>Release Date: 2002<br>Academy Award for Best Actor/Actress : No",
          "Movie: The Core<br>IMDb Score: 5.4<br>Release Date: 2003<br>Academy Award for Best Actor/Actress : No",
          "Movie: Million Dollar Baby<br>IMDb Score: 8.1<br>Release Date: 2004<br>Academy Award for Best Actor/Actress : Yes",
          "Movie: The Black Dahlia<br>IMDb Score: 5.6<br>Release Date: 2006<br>Academy Award for Best Actor/Actress : No",
          "Movie: Freedom Writers<br>IMDb Score: 7.5<br>Release Date: 2007<br>Academy Award for Best Actor/Actress : No",
          "Movie: The Reaping<br>IMDb Score: 5.7<br>Release Date: 2007<br>Academy Award for Best Actor/Actress : No",
          "Movie: New Year's Eve<br>IMDb Score: 5.7<br>Release Date: 2011<br>Academy Award for Best Actor/Actress : No"
         ],
         "legendgroup": "Hilary Swank",
         "line": {
          "color": "#19D3F3"
         },
         "marker": {
          "size": [
           15,
           8,
           8,
           15,
           8,
           8,
           8,
           8
          ],
          "symbol": [
           "star",
           "circle",
           "circle",
           "star",
           "circle",
           "circle",
           "circle",
           "circle"
          ]
         },
         "mode": "lines+markers",
         "name": "Hilary Swank",
         "type": "scatter",
         "visible": false,
         "x": [
          1999,
          2002,
          2003,
          2004,
          2006,
          2007,
          2007,
          2011
         ],
         "y": [
          7.6,
          7.2,
          5.4,
          8.1,
          5.6,
          7.5,
          5.7,
          5.7
         ]
        },
        {
         "hoverinfo": "text",
         "hovertext": [
          "Movie: The Firm<br>IMDb Score: 6.8<br>Release Date: 1993<br>Academy Award for Best Actor/Actress : No",
          "Movie: The Piano<br>IMDb Score: 7.6<br>Release Date: 1993<br>Academy Award for Best Actor/Actress : Yes",
          "Movie: Copycat<br>IMDb Score: 6.6<br>Release Date: 1995<br>Academy Award for Best Actor/Actress : No",
          "Movie: Home for the Holidays<br>IMDb Score: 6.6<br>Release Date: 1995<br>Academy Award for Best Actor/Actress : No",
          "Movie: Living Out Loud<br>IMDb Score: 6.6<br>Release Date: 1998<br>Academy Award for Best Actor/Actress : No",
          "Movie: O Brother, Where Art Thou?<br>IMDb Score: 7.8<br>Release Date: 2000<br>Academy Award for Best Actor/Actress : No",
          "Movie: Moonlight Mile<br>IMDb Score: 6.7<br>Release Date: 2002<br>Academy Award for Best Actor/Actress : No",
          "Movie: Thirteen<br>IMDb Score: 6.8<br>Release Date: 2003<br>Academy Award for Best Actor/Actress : No",
          "Movie: Little Black Book<br>IMDb Score: 5.2<br>Release Date: 2004<br>Academy Award for Best Actor/Actress : No",
          "Movie: The Incredibles<br>IMDb Score: 8.0<br>Release Date: 2004<br>Academy Award for Best Actor/Actress : No",
          "Movie: Won't Back Down<br>IMDb Score: 6.4<br>Release Date: 2012<br>Academy Award for Best Actor/Actress : No"
         ],
         "legendgroup": "Holly Hunter",
         "line": {
          "color": "#FF6692"
         },
         "marker": {
          "size": [
           8,
           15,
           8,
           8,
           8,
           8,
           8,
           8,
           8,
           8,
           8
          ],
          "symbol": [
           "circle",
           "star",
           "circle",
           "circle",
           "circle",
           "circle",
           "circle",
           "circle",
           "circle",
           "circle",
           "circle"
          ]
         },
         "mode": "lines+markers",
         "name": "Holly Hunter",
         "type": "scatter",
         "visible": false,
         "x": [
          1993,
          1993,
          1995,
          1995,
          1998,
          2000,
          2002,
          2003,
          2004,
          2004,
          2012
         ],
         "y": [
          6.8,
          7.6,
          6.6,
          6.6,
          6.6,
          7.8,
          6.7,
          6.8,
          5.2,
          8,
          6.4
         ]
        },
        {
         "hoverinfo": "text",
         "hovertext": [
          "Movie: The Shining<br>IMDb Score: 8.4<br>Release Date: 1980<br>Academy Award for Best Actor/Actress : No",
          "Movie: The Postman Always Rings Twice<br>IMDb Score: 6.6<br>Release Date: 1981<br>Academy Award for Best Actor/Actress : No",
          "Movie: Batman<br>IMDb Score: 7.6<br>Release Date: 1989<br>Academy Award for Best Actor/Actress : No",
          "Movie: A Few Good Men<br>IMDb Score: 7.6<br>Release Date: 1992<br>Academy Award for Best Actor/Actress : No",
          "Movie: Hoffa<br>IMDb Score: 6.6<br>Release Date: 1992<br>Academy Award for Best Actor/Actress : No",
          "Movie: Wolf<br>IMDb Score: 6.2<br>Release Date: 1994<br>Academy Award for Best Actor/Actress : No",
          "Movie: Mars Attacks!<br>IMDb Score: 6.3<br>Release Date: 1996<br>Academy Award for Best Actor/Actress : No",
          "Movie: Mars Attacks!<br>IMDb Score: 6.3<br>Release Date: 1996<br>Academy Award for Best Actor/Actress : No",
          "Movie: As Good as It Gets<br>IMDb Score: 7.7<br>Release Date: 1997<br>Academy Award for Best Actor/Actress : Yes",
          "Movie: The Pledge<br>IMDb Score: 6.8<br>Release Date: 2001<br>Academy Award for Best Actor/Actress : No",
          "Movie: About Schmidt<br>IMDb Score: 7.2<br>Release Date: 2002<br>Academy Award for Best Actor/Actress : No",
          "Movie: Something's Gotta Give<br>IMDb Score: 6.7<br>Release Date: 2003<br>Academy Award for Best Actor/Actress : No",
          "Movie: The Departed<br>IMDb Score: 8.5<br>Release Date: 2006<br>Academy Award for Best Actor/Actress : No",
          "Movie: The Bucket List<br>IMDb Score: 7.4<br>Release Date: 2007<br>Academy Award for Best Actor/Actress : No",
          "Movie: How Do You Know<br>IMDb Score: 5.3<br>Release Date: 2010<br>Academy Award for Best Actor/Actress : No"
         ],
         "legendgroup": "Jack Nicholson",
         "line": {
          "color": "#B6E880"
         },
         "marker": {
          "size": [
           8,
           8,
           8,
           8,
           8,
           8,
           8,
           8,
           15,
           8,
           8,
           8,
           8,
           8,
           8
          ],
          "symbol": [
           "circle",
           "circle",
           "circle",
           "circle",
           "circle",
           "circle",
           "circle",
           "circle",
           "star",
           "circle",
           "circle",
           "circle",
           "circle",
           "circle",
           "circle"
          ]
         },
         "mode": "lines+markers",
         "name": "Jack Nicholson",
         "type": "scatter",
         "visible": false,
         "x": [
          1980,
          1981,
          1989,
          1992,
          1992,
          1994,
          1996,
          1996,
          1997,
          2001,
          2002,
          2003,
          2006,
          2007,
          2010
         ],
         "y": [
          8.4,
          6.6,
          7.6,
          7.6,
          6.6,
          6.2,
          6.3,
          6.3,
          7.7,
          6.8,
          7.2,
          6.7,
          8.5,
          7.4,
          5.3
         ]
        },
        {
         "hoverinfo": "text",
         "hovertext": [
          "Movie: The Players Club<br>IMDb Score: 5.6<br>Release Date: 1998<br>Academy Award for Best Actor/Actress : No",
          "Movie: Any Given Sunday<br>IMDb Score: 6.8<br>Release Date: 1999<br>Academy Award for Best Actor/Actress : No",
          "Movie: Held Up<br>IMDb Score: 5.1<br>Release Date: 1999<br>Academy Award for Best Actor/Actress : No",
          "Movie: Ali<br>IMDb Score: 6.8<br>Release Date: 2001<br>Academy Award for Best Actor/Actress : No",
          "Movie: Shade<br>IMDb Score: 6.4<br>Release Date: 2003<br>Academy Award for Best Actor/Actress : No",
          "Movie: Ray<br>IMDb Score: 7.7<br>Release Date: 2004<br>Academy Award for Best Actor/Actress : Yes",
          "Movie: Collateral<br>IMDb Score: 7.6<br>Release Date: 2004<br>Academy Award for Best Actor/Actress : No",
          "Movie: Breakin' All the Rules<br>IMDb Score: 5.5<br>Release Date: 2004<br>Academy Award for Best Actor/Actress : No",
          "Movie: Jarhead<br>IMDb Score: 7.1<br>Release Date: 2005<br>Academy Award for Best Actor/Actress : No",
          "Movie: Stealth<br>IMDb Score: 5.0<br>Release Date: 2005<br>Academy Award for Best Actor/Actress : No",
          "Movie: Dreamgirls<br>IMDb Score: 6.5<br>Release Date: 2006<br>Academy Award for Best Actor/Actress : No",
          "Movie: The Kingdom<br>IMDb Score: 7.1<br>Release Date: 2007<br>Academy Award for Best Actor/Actress : No",
          "Movie: Law Abiding Citizen<br>IMDb Score: 7.4<br>Release Date: 2009<br>Academy Award for Best Actor/Actress : No",
          "Movie: The Soloist<br>IMDb Score: 6.7<br>Release Date: 2009<br>Academy Award for Best Actor/Actress : No",
          "Movie: Due Date<br>IMDb Score: 6.6<br>Release Date: 2010<br>Academy Award for Best Actor/Actress : No",
          "Movie: Valentine's Day<br>IMDb Score: 5.7<br>Release Date: 2010<br>Academy Award for Best Actor/Actress : No",
          "Movie: Rio<br>IMDb Score: 7.0<br>Release Date: 2011<br>Academy Award for Best Actor/Actress : No",
          "Movie: Horrible Bosses<br>IMDb Score: 6.9<br>Release Date: 2011<br>Academy Award for Best Actor/Actress : No",
          "Movie: Django Unchained<br>IMDb Score: 8.5<br>Release Date: 2012<br>Academy Award for Best Actor/Actress : No"
         ],
         "legendgroup": "Jamie Foxx",
         "line": {
          "color": "#FF97FF"
         },
         "marker": {
          "size": [
           8,
           8,
           8,
           8,
           8,
           15,
           8,
           8,
           8,
           8,
           8,
           8,
           8,
           8,
           8,
           8,
           8,
           8,
           8
          ],
          "symbol": [
           "circle",
           "circle",
           "circle",
           "circle",
           "circle",
           "star",
           "circle",
           "circle",
           "circle",
           "circle",
           "circle",
           "circle",
           "circle",
           "circle",
           "circle",
           "circle",
           "circle",
           "circle",
           "circle"
          ]
         },
         "mode": "lines+markers",
         "name": "Jamie Foxx",
         "type": "scatter",
         "visible": false,
         "x": [
          1998,
          1999,
          1999,
          2001,
          2003,
          2004,
          2004,
          2004,
          2005,
          2005,
          2006,
          2007,
          2009,
          2009,
          2010,
          2010,
          2011,
          2011,
          2012
         ],
         "y": [
          5.6,
          6.8,
          5.1,
          6.8,
          6.4,
          7.7,
          7.6,
          5.5,
          7.1,
          5,
          6.5,
          7.1,
          7.4,
          6.7,
          6.6,
          5.7,
          7,
          6.9,
          8.5
         ]
        },
        {
         "hoverinfo": "text",
         "hovertext": [
          "Movie: Heaven's Gate<br>IMDb Score: 6.8<br>Release Date: 1980<br>Academy Award for Best Actor/Actress : No",
          "Movie: White Squall<br>IMDb Score: 6.6<br>Release Date: 1996<br>Academy Award for Best Actor/Actress : No",
          "Movie: The Big Lebowski<br>IMDb Score: 8.2<br>Release Date: 1998<br>Academy Award for Best Actor/Actress : No",
          "Movie: The Muse<br>IMDb Score: 5.6<br>Release Date: 1999<br>Academy Award for Best Actor/Actress : No",
          "Movie: Arlington Road<br>IMDb Score: 7.2<br>Release Date: 1999<br>Academy Award for Best Actor/Actress : No",
          "Movie: The Contender<br>IMDb Score: 7.0<br>Release Date: 2000<br>Academy Award for Best Actor/Actress : No",
          "Movie: K-PAX<br>IMDb Score: 7.4<br>Release Date: 2001<br>Academy Award for Best Actor/Actress : No",
          "Movie: Seabiscuit<br>IMDb Score: 7.3<br>Release Date: 2003<br>Academy Award for Best Actor/Actress : No",
          "Movie: Stick It<br>IMDb Score: 6.4<br>Release Date: 2006<br>Academy Award for Best Actor/Actress : No",
          "Movie: Surf's Up<br>IMDb Score: 6.8<br>Release Date: 2007<br>Academy Award for Best Actor/Actress : No",
          "Movie: How to Lose Friends & Alienate People<br>IMDb Score: 6.5<br>Release Date: 2008<br>Academy Award for Best Actor/Actress : No",
          "Movie: Iron Man<br>IMDb Score: 7.9<br>Release Date: 2008<br>Academy Award for Best Actor/Actress : No",
          "Movie: The Men Who Stare at Goats<br>IMDb Score: 6.2<br>Release Date: 2009<br>Academy Award for Best Actor/Actress : No",
          "Movie: Crazy Heart<br>IMDb Score: 7.3<br>Release Date: 2009<br>Academy Award for Best Actor/Actress : Yes",
          "Movie: True Grit<br>IMDb Score: 7.7<br>Release Date: 2010<br>Academy Award for Best Actor/Actress : No",
          "Movie: R.I.P.D.<br>IMDb Score: 5.6<br>Release Date: 2013<br>Academy Award for Best Actor/Actress : No"
         ],
         "legendgroup": "Jeff Bridges",
         "line": {
          "color": "#FECB52"
         },
         "marker": {
          "size": [
           8,
           8,
           8,
           8,
           8,
           8,
           8,
           8,
           8,
           8,
           8,
           8,
           8,
           15,
           8,
           8
          ],
          "symbol": [
           "circle",
           "circle",
           "circle",
           "circle",
           "circle",
           "circle",
           "circle",
           "circle",
           "circle",
           "circle",
           "circle",
           "circle",
           "circle",
           "star",
           "circle",
           "circle"
          ]
         },
         "mode": "lines+markers",
         "name": "Jeff Bridges",
         "type": "scatter",
         "visible": false,
         "x": [
          1980,
          1996,
          1998,
          1999,
          1999,
          2000,
          2001,
          2003,
          2006,
          2007,
          2008,
          2008,
          2009,
          2009,
          2010,
          2013
         ],
         "y": [
          6.8,
          6.6,
          8.2,
          5.6,
          7.2,
          7,
          7.4,
          7.3,
          6.4,
          6.8,
          6.5,
          7.9,
          6.2,
          7.3,
          7.7,
          5.6
         ]
        },
        {
         "hoverinfo": "text",
         "hovertext": [
          "Movie: The Hotel New Hampshire<br>IMDb Score: 6.0<br>Release Date: 1984<br>Academy Award for Best Actor/Actress : No",
          "Movie: The Silence of the Lambs<br>IMDb Score: 8.6<br>Release Date: 1991<br>Academy Award for Best Actor/Actress : Yes",
          "Movie: Contact<br>IMDb Score: 7.4<br>Release Date: 1997<br>Academy Award for Best Actor/Actress : No",
          "Movie: Anna and the King<br>IMDb Score: 6.7<br>Release Date: 1999<br>Academy Award for Best Actor/Actress : No",
          "Movie: The Dangerous Lives of Altar Boys<br>IMDb Score: 7.1<br>Release Date: 2002<br>Academy Award for Best Actor/Actress : No",
          "Movie: Panic Room<br>IMDb Score: 6.8<br>Release Date: 2002<br>Academy Award for Best Actor/Actress : No",
          "Movie: A Very Long Engagement<br>IMDb Score: 7.7<br>Release Date: 2004<br>Academy Award for Best Actor/Actress : No",
          "Movie: Flightplan<br>IMDb Score: 6.2<br>Release Date: 2005<br>Academy Award for Best Actor/Actress : No",
          "Movie: Inside Man<br>IMDb Score: 7.6<br>Release Date: 2006<br>Academy Award for Best Actor/Actress : No",
          "Movie: Nim's Island<br>IMDb Score: 6.0<br>Release Date: 2008<br>Academy Award for Best Actor/Actress : No",
          "Movie: Motherhood<br>IMDb Score: 4.7<br>Release Date: 2009<br>Academy Award for Best Actor/Actress : No",
          "Movie: Carnage<br>IMDb Score: 7.2<br>Release Date: 2011<br>Academy Award for Best Actor/Actress : No",
          "Movie: The Beaver<br>IMDb Score: 6.7<br>Release Date: 2011<br>Academy Award for Best Actor/Actress : No",
          "Movie: Elysium<br>IMDb Score: 6.6<br>Release Date: 2013<br>Academy Award for Best Actor/Actress : No"
         ],
         "legendgroup": "Jodie Foster",
         "line": {
          "color": "#636EFA"
         },
         "marker": {
          "size": [
           8,
           15,
           8,
           8,
           8,
           8,
           8,
           8,
           8,
           8,
           8,
           8,
           8,
           8
          ],
          "symbol": [
           "circle",
           "star",
           "circle",
           "circle",
           "circle",
           "circle",
           "circle",
           "circle",
           "circle",
           "circle",
           "circle",
           "circle",
           "circle",
           "circle"
          ]
         },
         "mode": "lines+markers",
         "name": "Jodie Foster",
         "type": "scatter",
         "visible": false,
         "x": [
          1984,
          1991,
          1997,
          1999,
          2002,
          2002,
          2004,
          2005,
          2006,
          2008,
          2009,
          2011,
          2011,
          2013
         ],
         "y": [
          6,
          8.6,
          7.4,
          6.7,
          7.1,
          6.8,
          7.7,
          6.2,
          7.6,
          6,
          4.7,
          7.2,
          6.7,
          6.6
         ]
        },
        {
         "hoverinfo": "text",
         "hovertext": [
          "Movie: Mystic Pizza<br>IMDb Score: 6.2<br>Release Date: 1988<br>Academy Award for Best Actor/Actress : No",
          "Movie: Pretty Woman<br>IMDb Score: 6.9<br>Release Date: 1990<br>Academy Award for Best Actor/Actress : No",
          "Movie: Flatliners<br>IMDb Score: 6.6<br>Release Date: 1990<br>Academy Award for Best Actor/Actress : No",
          "Movie: Hook<br>IMDb Score: 6.7<br>Release Date: 1991<br>Academy Award for Best Actor/Actress : No",
          "Movie: Everyone Says I Love You<br>IMDb Score: 6.8<br>Release Date: 1996<br>Academy Award for Best Actor/Actress : No",
          "Movie: Michael Collins<br>IMDb Score: 7.1<br>Release Date: 1996<br>Academy Award for Best Actor/Actress : No",
          "Movie: Mary Reilly<br>IMDb Score: 5.8<br>Release Date: 1996<br>Academy Award for Best Actor/Actress : No",
          "Movie: My Best Friend's Wedding<br>IMDb Score: 6.3<br>Release Date: 1997<br>Academy Award for Best Actor/Actress : No",
          "Movie: Conspiracy Theory<br>IMDb Score: 6.7<br>Release Date: 1997<br>Academy Award for Best Actor/Actress : No",
          "Movie: Stepmom<br>IMDb Score: 6.7<br>Release Date: 1998<br>Academy Award for Best Actor/Actress : No",
          "Movie: Notting Hill<br>IMDb Score: 7.0<br>Release Date: 1999<br>Academy Award for Best Actor/Actress : No",
          "Movie: Runaway Bride<br>IMDb Score: 5.5<br>Release Date: 1999<br>Academy Award for Best Actor/Actress : No",
          "Movie: Erin Brockovich<br>IMDb Score: 7.3<br>Release Date: 2000<br>Academy Award for Best Actor/Actress : Yes",
          "Movie: The Mexican<br>IMDb Score: 6.1<br>Release Date: 2001<br>Academy Award for Best Actor/Actress : No",
          "Movie: America's Sweethearts<br>IMDb Score: 5.7<br>Release Date: 2001<br>Academy Award for Best Actor/Actress : No",
          "Movie: Ocean's Eleven<br>IMDb Score: 7.8<br>Release Date: 2001<br>Academy Award for Best Actor/Actress : No",
          "Movie: Confessions of a Dangerous Mind<br>IMDb Score: 7.1<br>Release Date: 2002<br>Academy Award for Best Actor/Actress : No",
          "Movie: Full Frontal<br>IMDb Score: 4.7<br>Release Date: 2002<br>Academy Award for Best Actor/Actress : No",
          "Movie: Full Frontal<br>IMDb Score: 4.7<br>Release Date: 2002<br>Academy Award for Best Actor/Actress : No",
          "Movie: Mona Lisa Smile<br>IMDb Score: 6.4<br>Release Date: 2003<br>Academy Award for Best Actor/Actress : No",
          "Movie: Closer<br>IMDb Score: 7.3<br>Release Date: 2004<br>Academy Award for Best Actor/Actress : No",
          "Movie: Ocean's Twelve<br>IMDb Score: 6.4<br>Release Date: 2004<br>Academy Award for Best Actor/Actress : No",
          "Movie: Charlotte's Web<br>IMDb Score: 6.4<br>Release Date: 2006<br>Academy Award for Best Actor/Actress : No",
          "Movie: The Ant Bully<br>IMDb Score: 5.9<br>Release Date: 2006<br>Academy Award for Best Actor/Actress : No",
          "Movie: Charlie Wilson's War<br>IMDb Score: 7.1<br>Release Date: 2007<br>Academy Award for Best Actor/Actress : No",
          "Movie: Duplicity<br>IMDb Score: 6.2<br>Release Date: 2009<br>Academy Award for Best Actor/Actress : No",
          "Movie: Eat Pray Love<br>IMDb Score: 5.7<br>Release Date: 2010<br>Academy Award for Best Actor/Actress : No",
          "Movie: Valentine's Day<br>IMDb Score: 5.7<br>Release Date: 2010<br>Academy Award for Best Actor/Actress : No",
          "Movie: Larry Crowne<br>IMDb Score: 6.1<br>Release Date: 2011<br>Academy Award for Best Actor/Actress : No",
          "Movie: Mirror Mirror<br>IMDb Score: 5.6<br>Release Date: 2012<br>Academy Award for Best Actor/Actress : No"
         ],
         "legendgroup": "Julia Roberts",
         "line": {
          "color": "#EF553B"
         },
         "marker": {
          "size": [
           8,
           8,
           8,
           8,
           8,
           8,
           8,
           8,
           8,
           8,
           8,
           8,
           15,
           8,
           8,
           8,
           8,
           8,
           8,
           8,
           8,
           8,
           8,
           8,
           8,
           8,
           8,
           8,
           8,
           8
          ],
          "symbol": [
           "circle",
           "circle",
           "circle",
           "circle",
           "circle",
           "circle",
           "circle",
           "circle",
           "circle",
           "circle",
           "circle",
           "circle",
           "star",
           "circle",
           "circle",
           "circle",
           "circle",
           "circle",
           "circle",
           "circle",
           "circle",
           "circle",
           "circle",
           "circle",
           "circle",
           "circle",
           "circle",
           "circle",
           "circle",
           "circle"
          ]
         },
         "mode": "lines+markers",
         "name": "Julia Roberts",
         "type": "scatter",
         "visible": false,
         "x": [
          1988,
          1990,
          1990,
          1991,
          1996,
          1996,
          1996,
          1997,
          1997,
          1998,
          1999,
          1999,
          2000,
          2001,
          2001,
          2001,
          2002,
          2002,
          2002,
          2003,
          2004,
          2004,
          2006,
          2006,
          2007,
          2009,
          2010,
          2010,
          2011,
          2012
         ],
         "y": [
          6.2,
          6.9,
          6.6,
          6.7,
          6.8,
          7.1,
          5.8,
          6.3,
          6.7,
          6.7,
          7,
          5.5,
          7.3,
          6.1,
          5.7,
          7.8,
          7.1,
          4.7,
          4.7,
          6.4,
          7.3,
          6.4,
          6.4,
          5.9,
          7.1,
          6.2,
          5.7,
          5.7,
          6.1,
          5.6
         ]
        },
        {
         "hoverinfo": "text",
         "hovertext": [
          "Movie: Heavenly Creatures<br>IMDb Score: 7.4<br>Release Date: 1994<br>Academy Award for Best Actor/Actress : No",
          "Movie: Sense and Sensibility<br>IMDb Score: 7.7<br>Release Date: 1995<br>Academy Award for Best Actor/Actress : No",
          "Movie: Hamlet<br>IMDb Score: 7.8<br>Release Date: 1996<br>Academy Award for Best Actor/Actress : No",
          "Movie: Hamlet<br>IMDb Score: 7.8<br>Release Date: 1996<br>Academy Award for Best Actor/Actress : No",
          "Movie: Titanic<br>IMDb Score: 7.7<br>Release Date: 1997<br>Academy Award for Best Actor/Actress : No",
          "Movie: Quills<br>IMDb Score: 7.4<br>Release Date: 2000<br>Academy Award for Best Actor/Actress : No",
          "Movie: Iris<br>IMDb Score: 7.1<br>Release Date: 2001<br>Academy Award for Best Actor/Actress : No",
          "Movie: The Life of David Gale<br>IMDb Score: 7.5<br>Release Date: 2003<br>Academy Award for Best Actor/Actress : No",
          "Movie: Eternal Sunshine of the Spotless Mind<br>IMDb Score: 8.3<br>Release Date: 2004<br>Academy Award for Best Actor/Actress : No",
          "Movie: Finding Neverland<br>IMDb Score: 7.8<br>Release Date: 2004<br>Academy Award for Best Actor/Actress : No",
          "Movie: Flushed Away<br>IMDb Score: 6.7<br>Release Date: 2006<br>Academy Award for Best Actor/Actress : No",
          "Movie: All the King's Men<br>IMDb Score: 6.2<br>Release Date: 2006<br>Academy Award for Best Actor/Actress : No",
          "Movie: Little Children<br>IMDb Score: 7.6<br>Release Date: 2006<br>Academy Award for Best Actor/Actress : No",
          "Movie: The Holiday<br>IMDb Score: 6.9<br>Release Date: 2006<br>Academy Award for Best Actor/Actress : No",
          "Movie: The Reader<br>IMDb Score: 7.6<br>Release Date: 2008<br>Academy Award for Best Actor/Actress : Yes",
          "Movie: Revolutionary Road<br>IMDb Score: 7.3<br>Release Date: 2008<br>Academy Award for Best Actor/Actress : No",
          "Movie: Contagion<br>IMDb Score: 6.6<br>Release Date: 2011<br>Academy Award for Best Actor/Actress : No",
          "Movie: Carnage<br>IMDb Score: 7.2<br>Release Date: 2011<br>Academy Award for Best Actor/Actress : No",
          "Movie: Movie 43<br>IMDb Score: 4.3<br>Release Date: 2013<br>Academy Award for Best Actor/Actress : No"
         ],
         "legendgroup": "Kate Winslet",
         "line": {
          "color": "#00CC96"
         },
         "marker": {
          "size": [
           8,
           8,
           8,
           8,
           8,
           8,
           8,
           8,
           8,
           8,
           8,
           8,
           8,
           8,
           15,
           8,
           8,
           8,
           8
          ],
          "symbol": [
           "circle",
           "circle",
           "circle",
           "circle",
           "circle",
           "circle",
           "circle",
           "circle",
           "circle",
           "circle",
           "circle",
           "circle",
           "circle",
           "circle",
           "star",
           "circle",
           "circle",
           "circle",
           "circle"
          ]
         },
         "mode": "lines+markers",
         "name": "Kate Winslet",
         "type": "scatter",
         "visible": false,
         "x": [
          1994,
          1995,
          1996,
          1996,
          1997,
          2000,
          2001,
          2003,
          2004,
          2004,
          2006,
          2006,
          2006,
          2006,
          2008,
          2008,
          2011,
          2011,
          2013
         ],
         "y": [
          7.4,
          7.7,
          7.8,
          7.8,
          7.7,
          7.4,
          7.1,
          7.5,
          8.3,
          7.8,
          6.7,
          6.2,
          7.6,
          6.9,
          7.6,
          7.3,
          6.6,
          7.2,
          4.3
         ]
        },
        {
         "hoverinfo": "text",
         "hovertext": [
          "Movie: Outbreak<br>IMDb Score: 6.6<br>Release Date: 1995<br>Academy Award for Best Actor/Actress : No",
          "Movie: A Time to Kill<br>IMDb Score: 7.4<br>Release Date: 1996<br>Academy Award for Best Actor/Actress : No",
          "Movie: L.A. Confidential<br>IMDb Score: 8.3<br>Release Date: 1997<br>Academy Award for Best Actor/Actress : No",
          "Movie: Midnight in the Garden of Good and Evil<br>IMDb Score: 6.6<br>Release Date: 1997<br>Academy Award for Best Actor/Actress : No",
          "Movie: A Bug's Life<br>IMDb Score: 7.2<br>Release Date: 1998<br>Academy Award for Best Actor/Actress : No",
          "Movie: The Negotiator<br>IMDb Score: 7.3<br>Release Date: 1998<br>Academy Award for Best Actor/Actress : No",
          "Movie: American Beauty<br>IMDb Score: 8.4<br>Release Date: 1999<br>Academy Award for Best Actor/Actress : Yes",
          "Movie: Pay It Forward<br>IMDb Score: 7.2<br>Release Date: 2000<br>Academy Award for Best Actor/Actress : No",
          "Movie: The Shipping News<br>IMDb Score: 6.8<br>Release Date: 2001<br>Academy Award for Best Actor/Actress : No",
          "Movie: K-PAX<br>IMDb Score: 7.4<br>Release Date: 2001<br>Academy Award for Best Actor/Actress : No",
          "Movie: The Life of David Gale<br>IMDb Score: 7.5<br>Release Date: 2003<br>Academy Award for Best Actor/Actress : No",
          "Movie: Beyond the Sea<br>IMDb Score: 6.7<br>Release Date: 2004<br>Academy Award for Best Actor/Actress : No",
          "Movie: Superman Returns<br>IMDb Score: 6.1<br>Release Date: 2006<br>Academy Award for Best Actor/Actress : No",
          "Movie: 21<br>IMDb Score: 6.8<br>Release Date: 2008<br>Academy Award for Best Actor/Actress : No",
          "Movie: The Men Who Stare at Goats<br>IMDb Score: 6.2<br>Release Date: 2009<br>Academy Award for Best Actor/Actress : No",
          "Movie: Moon<br>IMDb Score: 7.9<br>Release Date: 2009<br>Academy Award for Best Actor/Actress : No",
          "Movie: Casino Jack<br>IMDb Score: 6.2<br>Release Date: 2010<br>Academy Award for Best Actor/Actress : No",
          "Movie: Margin Call<br>IMDb Score: 7.1<br>Release Date: 2011<br>Academy Award for Best Actor/Actress : No",
          "Movie: Horrible Bosses<br>IMDb Score: 6.9<br>Release Date: 2011<br>Academy Award for Best Actor/Actress : No"
         ],
         "legendgroup": "Kevin Spacey",
         "line": {
          "color": "#AB63FA"
         },
         "marker": {
          "size": [
           8,
           8,
           8,
           8,
           8,
           8,
           15,
           8,
           8,
           8,
           8,
           8,
           8,
           8,
           8,
           8,
           8,
           8,
           8
          ],
          "symbol": [
           "circle",
           "circle",
           "circle",
           "circle",
           "circle",
           "circle",
           "star",
           "circle",
           "circle",
           "circle",
           "circle",
           "circle",
           "circle",
           "circle",
           "circle",
           "circle",
           "circle",
           "circle",
           "circle"
          ]
         },
         "mode": "lines+markers",
         "name": "Kevin Spacey",
         "type": "scatter",
         "visible": false,
         "x": [
          1995,
          1996,
          1997,
          1997,
          1998,
          1998,
          1999,
          2000,
          2001,
          2001,
          2003,
          2004,
          2006,
          2008,
          2009,
          2009,
          2010,
          2011,
          2011
         ],
         "y": [
          6.6,
          7.4,
          8.3,
          6.6,
          7.2,
          7.3,
          8.4,
          7.2,
          6.8,
          7.4,
          7.5,
          6.7,
          6.1,
          6.8,
          6.2,
          7.9,
          6.2,
          7.1,
          6.9
         ]
        },
        {
         "hoverinfo": "text",
         "hovertext": [
          "Movie: Death Becomes Her<br>IMDb Score: 6.4<br>Release Date: 1992<br>Academy Award for Best Actor/Actress : No",
          "Movie: The River Wild<br>IMDb Score: 6.3<br>Release Date: 1994<br>Academy Award for Best Actor/Actress : No",
          "Movie: The Bridges of Madison County<br>IMDb Score: 7.5<br>Release Date: 1995<br>Academy Award for Best Actor/Actress : No",
          "Movie: Marvin's Room<br>IMDb Score: 6.7<br>Release Date: 1996<br>Academy Award for Best Actor/Actress : No",
          "Movie: One True Thing<br>IMDb Score: 7.0<br>Release Date: 1998<br>Academy Award for Best Actor/Actress : No",
          "Movie: A.I. Artificial Intelligence<br>IMDb Score: 7.1<br>Release Date: 2001<br>Academy Award for Best Actor/Actress : No",
          "Movie: The Hours<br>IMDb Score: 7.6<br>Release Date: 2002<br>Academy Award for Best Actor/Actress : No",
          "Movie: The Manchurian Candidate<br>IMDb Score: 6.6<br>Release Date: 2004<br>Academy Award for Best Actor/Actress : No",
          "Movie: The Ant Bully<br>IMDb Score: 5.9<br>Release Date: 2006<br>Academy Award for Best Actor/Actress : No",
          "Movie: A Prairie Home Companion<br>IMDb Score: 6.8<br>Release Date: 2006<br>Academy Award for Best Actor/Actress : No",
          "Movie: The Devil Wears Prada<br>IMDb Score: 6.8<br>Release Date: 2006<br>Academy Award for Best Actor/Actress : No",
          "Movie: Lions for Lambs<br>IMDb Score: 6.2<br>Release Date: 2007<br>Academy Award for Best Actor/Actress : No",
          "Movie: Rendition<br>IMDb Score: 6.8<br>Release Date: 2007<br>Academy Award for Best Actor/Actress : No",
          "Movie: Mamma Mia!<br>IMDb Score: 6.3<br>Release Date: 2008<br>Academy Award for Best Actor/Actress : No",
          "Movie: Doubt<br>IMDb Score: 7.5<br>Release Date: 2008<br>Academy Award for Best Actor/Actress : No",
          "Movie: It's Complicated<br>IMDb Score: 6.6<br>Release Date: 2009<br>Academy Award for Best Actor/Actress : No",
          "Movie: Fantastic Mr. Fox<br>IMDb Score: 7.8<br>Release Date: 2009<br>Academy Award for Best Actor/Actress : No",
          "Movie: Julie & Julia<br>IMDb Score: 7.0<br>Release Date: 2009<br>Academy Award for Best Actor/Actress : No",
          "Movie: The Iron Lady<br>IMDb Score: 6.4<br>Release Date: 2011<br>Academy Award for Best Actor/Actress : Yes",
          "Movie: Hope Springs<br>IMDb Score: 6.3<br>Release Date: 2012<br>Academy Award for Best Actor/Actress : No"
         ],
         "legendgroup": "Meryl Streep",
         "line": {
          "color": "#FFA15A"
         },
         "marker": {
          "size": [
           8,
           8,
           8,
           8,
           8,
           8,
           8,
           8,
           8,
           8,
           8,
           8,
           8,
           8,
           8,
           8,
           8,
           8,
           15,
           8
          ],
          "symbol": [
           "circle",
           "circle",
           "circle",
           "circle",
           "circle",
           "circle",
           "circle",
           "circle",
           "circle",
           "circle",
           "circle",
           "circle",
           "circle",
           "circle",
           "circle",
           "circle",
           "circle",
           "circle",
           "star",
           "circle"
          ]
         },
         "mode": "lines+markers",
         "name": "Meryl Streep",
         "type": "scatter",
         "visible": false,
         "x": [
          1992,
          1994,
          1995,
          1996,
          1998,
          2001,
          2002,
          2004,
          2006,
          2006,
          2006,
          2007,
          2007,
          2008,
          2008,
          2009,
          2009,
          2009,
          2011,
          2012
         ],
         "y": [
          6.4,
          6.3,
          7.5,
          6.7,
          7,
          7.1,
          7.6,
          6.6,
          5.9,
          6.8,
          6.8,
          6.2,
          6.8,
          6.3,
          7.5,
          6.6,
          7.8,
          7,
          6.4,
          6.3
         ]
        },
        {
         "hoverinfo": "text",
         "hovertext": [
          "Movie: Wall Street<br>IMDb Score: 7.4<br>Release Date: 1987<br>Academy Award for Best Actor/Actress : Yes",
          "Movie: Fatal Attraction<br>IMDb Score: 6.9<br>Release Date: 1987<br>Academy Award for Best Actor/Actress : No",
          "Movie: Black Rain<br>IMDb Score: 6.6<br>Release Date: 1989<br>Academy Award for Best Actor/Actress : No",
          "Movie: Disclosure<br>IMDb Score: 6.0<br>Release Date: 1994<br>Academy Award for Best Actor/Actress : No",
          "Movie: The American President<br>IMDb Score: 6.8<br>Release Date: 1995<br>Academy Award for Best Actor/Actress : No",
          "Movie: The Ghost and the Darkness<br>IMDb Score: 6.8<br>Release Date: 1996<br>Academy Award for Best Actor/Actress : No",
          "Movie: The Game<br>IMDb Score: 7.8<br>Release Date: 1997<br>Academy Award for Best Actor/Actress : No",
          "Movie: Wonder Boys<br>IMDb Score: 7.4<br>Release Date: 2000<br>Academy Award for Best Actor/Actress : No",
          "Movie: Don't Say a Word<br>IMDb Score: 6.3<br>Release Date: 2001<br>Academy Award for Best Actor/Actress : No",
          "Movie: The Sentinel<br>IMDb Score: 6.1<br>Release Date: 2006<br>Academy Award for Best Actor/Actress : No",
          "Movie: You, Me and Dupree<br>IMDb Score: 5.6<br>Release Date: 2006<br>Academy Award for Best Actor/Actress : No",
          "Movie: Wall Street: Money Never Sleeps<br>IMDb Score: 6.3<br>Release Date: 2010<br>Academy Award for Best Actor/Actress : No",
          "Movie: Haywire<br>IMDb Score: 5.8<br>Release Date: 2011<br>Academy Award for Best Actor/Actress : No"
         ],
         "legendgroup": "Michael Douglas",
         "line": {
          "color": "#19D3F3"
         },
         "marker": {
          "size": [
           15,
           8,
           8,
           8,
           8,
           8,
           8,
           8,
           8,
           8,
           8,
           8,
           8
          ],
          "symbol": [
           "star",
           "circle",
           "circle",
           "circle",
           "circle",
           "circle",
           "circle",
           "circle",
           "circle",
           "circle",
           "circle",
           "circle",
           "circle"
          ]
         },
         "mode": "lines+markers",
         "name": "Michael Douglas",
         "type": "scatter",
         "visible": false,
         "x": [
          1987,
          1987,
          1989,
          1994,
          1995,
          1996,
          1997,
          2000,
          2001,
          2006,
          2006,
          2010,
          2011
         ],
         "y": [
          7.4,
          6.9,
          6.6,
          6,
          6.8,
          6.8,
          7.8,
          7.4,
          6.3,
          6.1,
          5.6,
          6.3,
          5.8
         ]
        },
        {
         "hoverinfo": "text",
         "hovertext": [
          "Movie: Everyone Says I Love You<br>IMDb Score: 6.8<br>Release Date: 1996<br>Academy Award for Best Actor/Actress : No",
          "Movie: Mars Attacks!<br>IMDb Score: 6.3<br>Release Date: 1996<br>Academy Award for Best Actor/Actress : No",
          "Movie: Anywhere But Here<br>IMDb Score: 6.1<br>Release Date: 1999<br>Academy Award for Best Actor/Actress : No",
          "Movie: Where the Heart Is<br>IMDb Score: 6.8<br>Release Date: 2000<br>Academy Award for Best Actor/Actress : No",
          "Movie: Cold Mountain<br>IMDb Score: 7.2<br>Release Date: 2003<br>Academy Award for Best Actor/Actress : No",
          "Movie: Closer<br>IMDb Score: 7.3<br>Release Date: 2004<br>Academy Award for Best Actor/Actress : No",
          "Movie: Garden State<br>IMDb Score: 7.6<br>Release Date: 2004<br>Academy Award for Best Actor/Actress : No",
          "Movie: Paris, je t'aime<br>IMDb Score: 7.3<br>Release Date: 2006<br>Academy Award for Best Actor/Actress : No",
          "Movie: My Blueberry Nights<br>IMDb Score: 6.7<br>Release Date: 2007<br>Academy Award for Best Actor/Actress : No",
          "Movie: The Other Boleyn Girl<br>IMDb Score: 6.7<br>Release Date: 2008<br>Academy Award for Best Actor/Actress : No",
          "Movie: Brothers<br>IMDb Score: 7.1<br>Release Date: 2009<br>Academy Award for Best Actor/Actress : No",
          "Movie: Brothers<br>IMDb Score: 7.1<br>Release Date: 2009<br>Academy Award for Best Actor/Actress : No",
          "Movie: G-Force<br>IMDb Score: 5.1<br>Release Date: 2009<br>Academy Award for Best Actor/Actress : No",
          "Movie: Hesher<br>IMDb Score: 7.1<br>Release Date: 2010<br>Academy Award for Best Actor/Actress : No",
          "Movie: Black Swan<br>IMDb Score: 8.0<br>Release Date: 2010<br>Academy Award for Best Actor/Actress : Yes",
          "Movie: Thor<br>IMDb Score: 7.0<br>Release Date: 2011<br>Academy Award for Best Actor/Actress : No",
          "Movie: No Strings Attached<br>IMDb Score: 6.2<br>Release Date: 2011<br>Academy Award for Best Actor/Actress : No",
          "Movie: Your Highness<br>IMDb Score: 5.6<br>Release Date: 2011<br>Academy Award for Best Actor/Actress : No",
          "Movie: Thor: The Dark World<br>IMDb Score: 7.1<br>Release Date: 2013<br>Academy Award for Best Actor/Actress : No"
         ],
         "legendgroup": "Natalie Portman",
         "line": {
          "color": "#FF6692"
         },
         "marker": {
          "size": [
           8,
           8,
           8,
           8,
           8,
           8,
           8,
           8,
           8,
           8,
           8,
           8,
           8,
           8,
           15,
           8,
           8,
           8,
           8
          ],
          "symbol": [
           "circle",
           "circle",
           "circle",
           "circle",
           "circle",
           "circle",
           "circle",
           "circle",
           "circle",
           "circle",
           "circle",
           "circle",
           "circle",
           "circle",
           "star",
           "circle",
           "circle",
           "circle",
           "circle"
          ]
         },
         "mode": "lines+markers",
         "name": "Natalie Portman",
         "type": "scatter",
         "visible": false,
         "x": [
          1996,
          1996,
          1999,
          2000,
          2003,
          2004,
          2004,
          2006,
          2007,
          2008,
          2009,
          2009,
          2009,
          2010,
          2010,
          2011,
          2011,
          2011,
          2013
         ],
         "y": [
          6.8,
          6.3,
          6.1,
          6.8,
          7.2,
          7.3,
          7.6,
          7.3,
          6.7,
          6.7,
          7.1,
          7.1,
          5.1,
          7.1,
          8,
          7,
          6.2,
          5.6,
          7.1
         ]
        },
        {
         "hoverinfo": "text",
         "hovertext": [
          "Movie: Fast Times at Ridgemont High<br>IMDb Score: 7.2<br>Release Date: 1982<br>Academy Award for Best Actor/Actress : No",
          "Movie: The Outsiders<br>IMDb Score: 7.2<br>Release Date: 1983<br>Academy Award for Best Actor/Actress : No",
          "Movie: The Cotton Club<br>IMDb Score: 6.5<br>Release Date: 1984<br>Academy Award for Best Actor/Actress : No",
          "Movie: Peggy Sue Got Married<br>IMDb Score: 6.3<br>Release Date: 1986<br>Academy Award for Best Actor/Actress : No",
          "Movie: Kiss of Death<br>IMDb Score: 5.9<br>Release Date: 1995<br>Academy Award for Best Actor/Actress : No",
          "Movie: Leaving Las Vegas<br>IMDb Score: 7.6<br>Release Date: 1995<br>Academy Award for Best Actor/Actress : Yes",
          "Movie: The Rock<br>IMDb Score: 7.4<br>Release Date: 1996<br>Academy Award for Best Actor/Actress : No",
          "Movie: Con Air<br>IMDb Score: 6.8<br>Release Date: 1997<br>Academy Award for Best Actor/Actress : No",
          "Movie: Face/Off<br>IMDb Score: 7.3<br>Release Date: 1997<br>Academy Award for Best Actor/Actress : No",
          "Movie: Face/Off<br>IMDb Score: 7.3<br>Release Date: 1997<br>Academy Award for Best Actor/Actress : No",
          "Movie: City of Angels<br>IMDb Score: 6.7<br>Release Date: 1998<br>Academy Award for Best Actor/Actress : No",
          "Movie: Snake Eyes<br>IMDb Score: 5.9<br>Release Date: 1998<br>Academy Award for Best Actor/Actress : No",
          "Movie: The Family Man<br>IMDb Score: 6.7<br>Release Date: 2000<br>Academy Award for Best Actor/Actress : No",
          "Movie: Captain Corelli's Mandolin<br>IMDb Score: 5.9<br>Release Date: 2001<br>Academy Award for Best Actor/Actress : No",
          "Movie: Windtalkers<br>IMDb Score: 6.0<br>Release Date: 2002<br>Academy Award for Best Actor/Actress : No",
          "Movie: National Treasure<br>IMDb Score: 6.9<br>Release Date: 2004<br>Academy Award for Best Actor/Actress : No",
          "Movie: Lord of War<br>IMDb Score: 7.6<br>Release Date: 2005<br>Academy Award for Best Actor/Actress : No",
          "Movie: The Weather Man<br>IMDb Score: 6.6<br>Release Date: 2005<br>Academy Award for Best Actor/Actress : No",
          "Movie: The Ant Bully<br>IMDb Score: 5.9<br>Release Date: 2006<br>Academy Award for Best Actor/Actress : No",
          "Movie: World Trade Center<br>IMDb Score: 6.0<br>Release Date: 2006<br>Academy Award for Best Actor/Actress : No",
          "Movie: Grindhouse<br>IMDb Score: 7.6<br>Release Date: 2007<br>Academy Award for Best Actor/Actress : No",
          "Movie: Ghost Rider<br>IMDb Score: 5.2<br>Release Date: 2007<br>Academy Award for Best Actor/Actress : No",
          "Movie: Bangkok Dangerous<br>IMDb Score: 5.4<br>Release Date: 2008<br>Academy Award for Best Actor/Actress : No",
          "Movie: Knowing<br>IMDb Score: 6.2<br>Release Date: 2009<br>Academy Award for Best Actor/Actress : No",
          "Movie: G-Force<br>IMDb Score: 5.1<br>Release Date: 2009<br>Academy Award for Best Actor/Actress : No",
          "Movie: Bad Lieutenant: Port of Call New Orleans<br>IMDb Score: 6.7<br>Release Date: 2009<br>Academy Award for Best Actor/Actress : No",
          "Movie: Astro Boy<br>IMDb Score: 6.3<br>Release Date: 2009<br>Academy Award for Best Actor/Actress : No",
          "Movie: The Sorcerer's Apprentice<br>IMDb Score: 6.1<br>Release Date: 2010<br>Academy Award for Best Actor/Actress : No",
          "Movie: Kick-Ass<br>IMDb Score: 7.7<br>Release Date: 2010<br>Academy Award for Best Actor/Actress : No",
          "Movie: Kick-Ass<br>IMDb Score: 7.7<br>Release Date: 2010<br>Academy Award for Best Actor/Actress : No",
          "Movie: Drive Angry<br>IMDb Score: 5.5<br>Release Date: 2011<br>Academy Award for Best Actor/Actress : No",
          "Movie: The Croods<br>IMDb Score: 7.3<br>Release Date: 2013<br>Academy Award for Best Actor/Actress : No"
         ],
         "legendgroup": "Nicolas Cage",
         "line": {
          "color": "#B6E880"
         },
         "marker": {
          "size": [
           8,
           8,
           8,
           8,
           8,
           15,
           8,
           8,
           8,
           8,
           8,
           8,
           8,
           8,
           8,
           8,
           8,
           8,
           8,
           8,
           8,
           8,
           8,
           8,
           8,
           8,
           8,
           8,
           8,
           8,
           8,
           8
          ],
          "symbol": [
           "circle",
           "circle",
           "circle",
           "circle",
           "circle",
           "star",
           "circle",
           "circle",
           "circle",
           "circle",
           "circle",
           "circle",
           "circle",
           "circle",
           "circle",
           "circle",
           "circle",
           "circle",
           "circle",
           "circle",
           "circle",
           "circle",
           "circle",
           "circle",
           "circle",
           "circle",
           "circle",
           "circle",
           "circle",
           "circle",
           "circle",
           "circle"
          ]
         },
         "mode": "lines+markers",
         "name": "Nicolas Cage",
         "type": "scatter",
         "visible": false,
         "x": [
          1982,
          1983,
          1984,
          1986,
          1995,
          1995,
          1996,
          1997,
          1997,
          1997,
          1998,
          1998,
          2000,
          2001,
          2002,
          2004,
          2005,
          2005,
          2006,
          2006,
          2007,
          2007,
          2008,
          2009,
          2009,
          2009,
          2009,
          2010,
          2010,
          2010,
          2011,
          2013
         ],
         "y": [
          7.2,
          7.2,
          6.5,
          6.3,
          5.9,
          7.6,
          7.4,
          6.8,
          7.3,
          7.3,
          6.7,
          5.9,
          6.7,
          5.9,
          6,
          6.9,
          7.6,
          6.6,
          5.9,
          6,
          7.6,
          5.2,
          5.4,
          6.2,
          5.1,
          6.7,
          6.3,
          6.1,
          7.7,
          7.7,
          5.5,
          7.3
         ]
        },
        {
         "hoverinfo": "text",
         "hovertext": [
          "Movie: Days of Thunder<br>IMDb Score: 5.9<br>Release Date: 1990<br>Academy Award for Best Actor/Actress : No",
          "Movie: Batman Forever<br>IMDb Score: 5.4<br>Release Date: 1995<br>Academy Award for Best Actor/Actress : No",
          "Movie: To Die For<br>IMDb Score: 6.8<br>Release Date: 1995<br>Academy Award for Best Actor/Actress : No",
          "Movie: The Peacemaker<br>IMDb Score: 5.9<br>Release Date: 1997<br>Academy Award for Best Actor/Actress : No",
          "Movie: Practical Magic<br>IMDb Score: 6.1<br>Release Date: 1998<br>Academy Award for Best Actor/Actress : No",
          "Movie: Eyes Wide Shut<br>IMDb Score: 7.3<br>Release Date: 1999<br>Academy Award for Best Actor/Actress : No",
          "Movie: The Others<br>IMDb Score: 7.6<br>Release Date: 2001<br>Academy Award for Best Actor/Actress : No",
          "Movie: Panic Room<br>IMDb Score: 6.8<br>Release Date: 2002<br>Academy Award for Best Actor/Actress : No",
          "Movie: The Hours<br>IMDb Score: 7.6<br>Release Date: 2002<br>Academy Award for Best Actor/Actress : Yes",
          "Movie: Cold Mountain<br>IMDb Score: 7.2<br>Release Date: 2003<br>Academy Award for Best Actor/Actress : No",
          "Movie: The Stepford Wives<br>IMDb Score: 5.2<br>Release Date: 2004<br>Academy Award for Best Actor/Actress : No",
          "Movie: Birth<br>IMDb Score: 6.1<br>Release Date: 2004<br>Academy Award for Best Actor/Actress : No",
          "Movie: The Interpreter<br>IMDb Score: 6.4<br>Release Date: 2005<br>Academy Award for Best Actor/Actress : No",
          "Movie: Happy Feet<br>IMDb Score: 6.5<br>Release Date: 2006<br>Academy Award for Best Actor/Actress : No",
          "Movie: The Invasion<br>IMDb Score: 5.9<br>Release Date: 2007<br>Academy Award for Best Actor/Actress : No",
          "Movie: The Golden Compass<br>IMDb Score: 6.1<br>Release Date: 2007<br>Academy Award for Best Actor/Actress : No",
          "Movie: Australia<br>IMDb Score: 6.6<br>Release Date: 2008<br>Academy Award for Best Actor/Actress : No",
          "Movie: Nine<br>IMDb Score: 5.8<br>Release Date: 2009<br>Academy Award for Best Actor/Actress : No",
          "Movie: Rabbit Hole<br>IMDb Score: 7.0<br>Release Date: 2010<br>Academy Award for Best Actor/Actress : No",
          "Movie: The Railway Man<br>IMDb Score: 7.1<br>Release Date: 2013<br>Academy Award for Best Actor/Actress : No"
         ],
         "legendgroup": "Nicole Kidman",
         "line": {
          "color": "#FF97FF"
         },
         "marker": {
          "size": [
           8,
           8,
           8,
           8,
           8,
           8,
           8,
           8,
           15,
           8,
           8,
           8,
           8,
           8,
           8,
           8,
           8,
           8,
           8,
           8
          ],
          "symbol": [
           "circle",
           "circle",
           "circle",
           "circle",
           "circle",
           "circle",
           "circle",
           "circle",
           "star",
           "circle",
           "circle",
           "circle",
           "circle",
           "circle",
           "circle",
           "circle",
           "circle",
           "circle",
           "circle",
           "circle"
          ]
         },
         "mode": "lines+markers",
         "name": "Nicole Kidman",
         "type": "scatter",
         "visible": false,
         "x": [
          1990,
          1995,
          1995,
          1997,
          1998,
          1999,
          2001,
          2002,
          2002,
          2003,
          2004,
          2004,
          2005,
          2006,
          2007,
          2007,
          2008,
          2009,
          2010,
          2013
         ],
         "y": [
          5.9,
          5.4,
          6.8,
          5.9,
          6.1,
          7.3,
          7.6,
          6.8,
          7.6,
          7.2,
          5.2,
          6.1,
          6.4,
          6.5,
          5.9,
          6.1,
          6.6,
          5.8,
          7,
          7.1
         ]
        },
        {
         "hoverinfo": "text",
         "hovertext": [
          "Movie: The Verdict<br>IMDb Score: 7.8<br>Release Date: 1982<br>Academy Award for Best Actor/Actress : No",
          "Movie: The Color of Money<br>IMDb Score: 7.0<br>Release Date: 1986<br>Academy Award for Best Actor/Actress : Yes",
          "Movie: The Hudsucker Proxy<br>IMDb Score: 7.3<br>Release Date: 1994<br>Academy Award for Best Actor/Actress : No",
          "Movie: Message in a Bottle<br>IMDb Score: 6.1<br>Release Date: 1999<br>Academy Award for Best Actor/Actress : No",
          "Movie: Road to Perdition<br>IMDb Score: 7.7<br>Release Date: 2002<br>Academy Award for Best Actor/Actress : No",
          "Movie: Cars<br>IMDb Score: 7.2<br>Release Date: 2006<br>Academy Award for Best Actor/Actress : No"
         ],
         "legendgroup": "Paul Newman",
         "line": {
          "color": "#FECB52"
         },
         "marker": {
          "size": [
           8,
           15,
           8,
           8,
           8,
           8
          ],
          "symbol": [
           "circle",
           "star",
           "circle",
           "circle",
           "circle",
           "circle"
          ]
         },
         "mode": "lines+markers",
         "name": "Paul Newman",
         "type": "scatter",
         "visible": false,
         "x": [
          1982,
          1986,
          1994,
          1999,
          2002,
          2006
         ],
         "y": [
          7.8,
          7,
          7.3,
          6.1,
          7.7,
          7.2
         ]
        },
        {
         "hoverinfo": "text",
         "hovertext": [
          "Movie: Twister<br>IMDb Score: 6.3<br>Release Date: 1996<br>Academy Award for Best Actor/Actress : No",
          "Movie: Boogie Nights<br>IMDb Score: 7.9<br>Release Date: 1997<br>Academy Award for Best Actor/Actress : No",
          "Movie: Next Stop Wonderland<br>IMDb Score: 6.7<br>Release Date: 1998<br>Academy Award for Best Actor/Actress : No",
          "Movie: Patch Adams<br>IMDb Score: 6.7<br>Release Date: 1998<br>Academy Award for Best Actor/Actress : No",
          "Movie: Happiness<br>IMDb Score: 7.8<br>Release Date: 1998<br>Academy Award for Best Actor/Actress : No",
          "Movie: The Big Lebowski<br>IMDb Score: 8.2<br>Release Date: 1998<br>Academy Award for Best Actor/Actress : No",
          "Movie: The Talented Mr. Ripley<br>IMDb Score: 7.3<br>Release Date: 1999<br>Academy Award for Best Actor/Actress : No",
          "Movie: Magnolia<br>IMDb Score: 8.0<br>Release Date: 1999<br>Academy Award for Best Actor/Actress : No",
          "Movie: Flawless<br>IMDb Score: 6.4<br>Release Date: 1999<br>Academy Award for Best Actor/Actress : No",
          "Movie: Almost Famous<br>IMDb Score: 7.9<br>Release Date: 2000<br>Academy Award for Best Actor/Actress : No",
          "Movie: 25th Hour<br>IMDb Score: 7.7<br>Release Date: 2002<br>Academy Award for Best Actor/Actress : No",
          "Movie: Red Dragon<br>IMDb Score: 7.2<br>Release Date: 2002<br>Academy Award for Best Actor/Actress : No",
          "Movie: Punch-Drunk Love<br>IMDb Score: 7.3<br>Release Date: 2002<br>Academy Award for Best Actor/Actress : No",
          "Movie: Cold Mountain<br>IMDb Score: 7.2<br>Release Date: 2003<br>Academy Award for Best Actor/Actress : No",
          "Movie: Owning Mahowny<br>IMDb Score: 7.2<br>Release Date: 2003<br>Academy Award for Best Actor/Actress : No",
          "Movie: Along Came Polly<br>IMDb Score: 5.9<br>Release Date: 2004<br>Academy Award for Best Actor/Actress : No",
          "Movie: Capote<br>IMDb Score: 7.4<br>Release Date: 2005<br>Academy Award for Best Actor/Actress : Yes",
          "Movie: Mission: Impossible III<br>IMDb Score: 6.9<br>Release Date: 2006<br>Academy Award for Best Actor/Actress : No",
          "Movie: The Savages<br>IMDb Score: 7.2<br>Release Date: 2007<br>Academy Award for Best Actor/Actress : No",
          "Movie: Charlie Wilson's War<br>IMDb Score: 7.1<br>Release Date: 2007<br>Academy Award for Best Actor/Actress : No",
          "Movie: Synecdoche, New York<br>IMDb Score: 7.5<br>Release Date: 2008<br>Academy Award for Best Actor/Actress : No",
          "Movie: Doubt<br>IMDb Score: 7.5<br>Release Date: 2008<br>Academy Award for Best Actor/Actress : No",
          "Movie: The Invention of Lying<br>IMDb Score: 6.4<br>Release Date: 2009<br>Academy Award for Best Actor/Actress : No",
          "Movie: The Ides of March<br>IMDb Score: 7.1<br>Release Date: 2011<br>Academy Award for Best Actor/Actress : No",
          "Movie: Moneyball<br>IMDb Score: 7.6<br>Release Date: 2011<br>Academy Award for Best Actor/Actress : No",
          "Movie: The Master<br>IMDb Score: 7.1<br>Release Date: 2012<br>Academy Award for Best Actor/Actress : No"
         ],
         "legendgroup": "Philip Seymour Hoffman",
         "line": {
          "color": "#636EFA"
         },
         "marker": {
          "size": [
           8,
           8,
           8,
           8,
           8,
           8,
           8,
           8,
           8,
           8,
           8,
           8,
           8,
           8,
           8,
           8,
           15,
           8,
           8,
           8,
           8,
           8,
           8,
           8,
           8,
           8
          ],
          "symbol": [
           "circle",
           "circle",
           "circle",
           "circle",
           "circle",
           "circle",
           "circle",
           "circle",
           "circle",
           "circle",
           "circle",
           "circle",
           "circle",
           "circle",
           "circle",
           "circle",
           "star",
           "circle",
           "circle",
           "circle",
           "circle",
           "circle",
           "circle",
           "circle",
           "circle",
           "circle"
          ]
         },
         "mode": "lines+markers",
         "name": "Philip Seymour Hoffman",
         "type": "scatter",
         "visible": false,
         "x": [
          1996,
          1997,
          1998,
          1998,
          1998,
          1998,
          1999,
          1999,
          1999,
          2000,
          2002,
          2002,
          2002,
          2003,
          2003,
          2004,
          2005,
          2006,
          2007,
          2007,
          2008,
          2008,
          2009,
          2011,
          2011,
          2012
         ],
         "y": [
          6.3,
          7.9,
          6.7,
          6.7,
          7.8,
          8.2,
          7.3,
          8,
          6.4,
          7.9,
          7.7,
          7.2,
          7.3,
          7.2,
          7.2,
          5.9,
          7.4,
          6.9,
          7.2,
          7.1,
          7.5,
          7.5,
          6.4,
          7.1,
          7.6,
          7.1
         ]
        },
        {
         "hoverinfo": "text",
         "hovertext": [
          "Movie: Election<br>IMDb Score: 7.3<br>Release Date: 1999<br>Academy Award for Best Actor/Actress : No",
          "Movie: Cruel Intentions<br>IMDb Score: 6.9<br>Release Date: 1999<br>Academy Award for Best Actor/Actress : No",
          "Movie: American Psycho<br>IMDb Score: 7.6<br>Release Date: 2000<br>Academy Award for Best Actor/Actress : No",
          "Movie: Little Nicky<br>IMDb Score: 5.3<br>Release Date: 2000<br>Academy Award for Best Actor/Actress : No",
          "Movie: Legally Blonde<br>IMDb Score: 6.2<br>Release Date: 2001<br>Academy Award for Best Actor/Actress : No",
          "Movie: Sweet Home Alabama<br>IMDb Score: 6.1<br>Release Date: 2002<br>Academy Award for Best Actor/Actress : No",
          "Movie: The Importance of Being Earnest<br>IMDb Score: 6.9<br>Release Date: 2002<br>Academy Award for Best Actor/Actress : No",
          "Movie: Legally Blonde 2: Red, White & Blonde<br>IMDb Score: 4.6<br>Release Date: 2003<br>Academy Award for Best Actor/Actress : No",
          "Movie: Vanity Fair<br>IMDb Score: 6.2<br>Release Date: 2004<br>Academy Award for Best Actor/Actress : No",
          "Movie: Walk the Line<br>IMDb Score: 7.9<br>Release Date: 2005<br>Academy Award for Best Actor/Actress : Yes",
          "Movie: Rendition<br>IMDb Score: 6.8<br>Release Date: 2007<br>Academy Award for Best Actor/Actress : No",
          "Movie: Four Christmases<br>IMDb Score: 5.6<br>Release Date: 2008<br>Academy Award for Best Actor/Actress : No",
          "Movie: Monsters vs. Aliens<br>IMDb Score: 6.5<br>Release Date: 2009<br>Academy Award for Best Actor/Actress : No",
          "Movie: How Do You Know<br>IMDb Score: 5.3<br>Release Date: 2010<br>Academy Award for Best Actor/Actress : No",
          "Movie: Water for Elephants<br>IMDb Score: 6.9<br>Release Date: 2011<br>Academy Award for Best Actor/Actress : No",
          "Movie: This Means War<br>IMDb Score: 6.3<br>Release Date: 2012<br>Academy Award for Best Actor/Actress : No"
         ],
         "legendgroup": "Reese Witherspoon",
         "line": {
          "color": "#EF553B"
         },
         "marker": {
          "size": [
           8,
           8,
           8,
           8,
           8,
           8,
           8,
           8,
           8,
           15,
           8,
           8,
           8,
           8,
           8,
           8
          ],
          "symbol": [
           "circle",
           "circle",
           "circle",
           "circle",
           "circle",
           "circle",
           "circle",
           "circle",
           "circle",
           "star",
           "circle",
           "circle",
           "circle",
           "circle",
           "circle",
           "circle"
          ]
         },
         "mode": "lines+markers",
         "name": "Reese Witherspoon",
         "type": "scatter",
         "visible": false,
         "x": [
          1999,
          1999,
          2000,
          2000,
          2001,
          2002,
          2002,
          2003,
          2004,
          2005,
          2007,
          2008,
          2009,
          2010,
          2011,
          2012
         ],
         "y": [
          7.3,
          6.9,
          7.6,
          5.3,
          6.2,
          6.1,
          6.9,
          4.6,
          6.2,
          7.9,
          6.8,
          5.6,
          6.5,
          5.3,
          6.9,
          6.3
         ]
        },
        {
         "hoverinfo": "text",
         "hovertext": [
          "Movie: Raging Bull<br>IMDb Score: 8.3<br>Release Date: 1980<br>Academy Award for Best Actor/Actress : Yes",
          "Movie: Once Upon a Time in America<br>IMDb Score: 8.4<br>Release Date: 1984<br>Academy Award for Best Actor/Actress : No",
          "Movie: Brazil<br>IMDb Score: 8.0<br>Release Date: 1985<br>Academy Award for Best Actor/Actress : No",
          "Movie: Midnight Run<br>IMDb Score: 7.6<br>Release Date: 1988<br>Academy Award for Best Actor/Actress : No",
          "Movie: We're No Angels<br>IMDb Score: 6.0<br>Release Date: 1989<br>Academy Award for Best Actor/Actress : No",
          "Movie: Goodfellas<br>IMDb Score: 8.7<br>Release Date: 1990<br>Academy Award for Best Actor/Actress : No",
          "Movie: Cape Fear<br>IMDb Score: 7.3<br>Release Date: 1991<br>Academy Award for Best Actor/Actress : No",
          "Movie: Casino<br>IMDb Score: 8.2<br>Release Date: 1995<br>Academy Award for Best Actor/Actress : No",
          "Movie: The Fan<br>IMDb Score: 5.8<br>Release Date: 1996<br>Academy Award for Best Actor/Actress : No",
          "Movie: Marvin's Room<br>IMDb Score: 6.7<br>Release Date: 1996<br>Academy Award for Best Actor/Actress : No",
          "Movie: Sleepers<br>IMDb Score: 7.5<br>Release Date: 1996<br>Academy Award for Best Actor/Actress : No",
          "Movie: Jackie Brown<br>IMDb Score: 7.5<br>Release Date: 1997<br>Academy Award for Best Actor/Actress : No",
          "Movie: Wag the Dog<br>IMDb Score: 7.1<br>Release Date: 1997<br>Academy Award for Best Actor/Actress : No",
          "Movie: Cop Land<br>IMDb Score: 6.9<br>Release Date: 1997<br>Academy Award for Best Actor/Actress : No",
          "Movie: Ronin<br>IMDb Score: 7.3<br>Release Date: 1998<br>Academy Award for Best Actor/Actress : No",
          "Movie: Analyze This<br>IMDb Score: 6.7<br>Release Date: 1999<br>Academy Award for Best Actor/Actress : No",
          "Movie: Flawless<br>IMDb Score: 6.4<br>Release Date: 1999<br>Academy Award for Best Actor/Actress : No",
          "Movie: Men of Honor<br>IMDb Score: 7.2<br>Release Date: 2000<br>Academy Award for Best Actor/Actress : No",
          "Movie: Meet the Parents<br>IMDb Score: 7.0<br>Release Date: 2000<br>Academy Award for Best Actor/Actress : No",
          "Movie: 15 Minutes<br>IMDb Score: 6.1<br>Release Date: 2001<br>Academy Award for Best Actor/Actress : No",
          "Movie: The Score<br>IMDb Score: 6.8<br>Release Date: 2001<br>Academy Award for Best Actor/Actress : No",
          "Movie: Analyze That<br>IMDb Score: 5.9<br>Release Date: 2002<br>Academy Award for Best Actor/Actress : No",
          "Movie: City by the Sea<br>IMDb Score: 6.2<br>Release Date: 2002<br>Academy Award for Best Actor/Actress : No",
          "Movie: Godsend<br>IMDb Score: 4.8<br>Release Date: 2004<br>Academy Award for Best Actor/Actress : No",
          "Movie: Shark Tale<br>IMDb Score: 6.0<br>Release Date: 2004<br>Academy Award for Best Actor/Actress : No",
          "Movie: Meet the Fockers<br>IMDb Score: 6.3<br>Release Date: 2004<br>Academy Award for Best Actor/Actress : No",
          "Movie: Hide and Seek<br>IMDb Score: 5.9<br>Release Date: 2005<br>Academy Award for Best Actor/Actress : No",
          "Movie: Arthur and the Invisibles<br>IMDb Score: 6.0<br>Release Date: 2006<br>Academy Award for Best Actor/Actress : No",
          "Movie: Stardust<br>IMDb Score: 7.7<br>Release Date: 2007<br>Academy Award for Best Actor/Actress : No",
          "Movie: Righteous Kill<br>IMDb Score: 6.0<br>Release Date: 2008<br>Academy Award for Best Actor/Actress : No",
          "Movie: Everybody's Fine<br>IMDb Score: 7.2<br>Release Date: 2009<br>Academy Award for Best Actor/Actress : No",
          "Movie: Micmacs<br>IMDb Score: 7.2<br>Release Date: 2009<br>Academy Award for Best Actor/Actress : No",
          "Movie: Machete<br>IMDb Score: 6.7<br>Release Date: 2010<br>Academy Award for Best Actor/Actress : No",
          "Movie: Stone<br>IMDb Score: 5.4<br>Release Date: 2010<br>Academy Award for Best Actor/Actress : No",
          "Movie: Little Fockers<br>IMDb Score: 5.5<br>Release Date: 2010<br>Academy Award for Best Actor/Actress : No",
          "Movie: New Year's Eve<br>IMDb Score: 5.7<br>Release Date: 2011<br>Academy Award for Best Actor/Actress : No",
          "Movie: Killer Elite<br>IMDb Score: 6.5<br>Release Date: 2011<br>Academy Award for Best Actor/Actress : No",
          "Movie: Red Lights<br>IMDb Score: 6.2<br>Release Date: 2012<br>Academy Award for Best Actor/Actress : No"
         ],
         "legendgroup": "Robert De Niro",
         "line": {
          "color": "#00CC96"
         },
         "marker": {
          "size": [
           15,
           8,
           8,
           8,
           8,
           8,
           8,
           8,
           8,
           8,
           8,
           8,
           8,
           8,
           8,
           8,
           8,
           8,
           8,
           8,
           8,
           8,
           8,
           8,
           8,
           8,
           8,
           8,
           8,
           8,
           8,
           8,
           8,
           8,
           8,
           8,
           8,
           8
          ],
          "symbol": [
           "star",
           "circle",
           "circle",
           "circle",
           "circle",
           "circle",
           "circle",
           "circle",
           "circle",
           "circle",
           "circle",
           "circle",
           "circle",
           "circle",
           "circle",
           "circle",
           "circle",
           "circle",
           "circle",
           "circle",
           "circle",
           "circle",
           "circle",
           "circle",
           "circle",
           "circle",
           "circle",
           "circle",
           "circle",
           "circle",
           "circle",
           "circle",
           "circle",
           "circle",
           "circle",
           "circle",
           "circle",
           "circle"
          ]
         },
         "mode": "lines+markers",
         "name": "Robert De Niro",
         "type": "scatter",
         "visible": false,
         "x": [
          1980,
          1984,
          1985,
          1988,
          1989,
          1990,
          1991,
          1995,
          1996,
          1996,
          1996,
          1997,
          1997,
          1997,
          1998,
          1999,
          1999,
          2000,
          2000,
          2001,
          2001,
          2002,
          2002,
          2004,
          2004,
          2004,
          2005,
          2006,
          2007,
          2008,
          2009,
          2009,
          2010,
          2010,
          2010,
          2011,
          2011,
          2012
         ],
         "y": [
          8.3,
          8.4,
          8,
          7.6,
          6,
          8.7,
          7.3,
          8.2,
          5.8,
          6.7,
          7.5,
          7.5,
          7.1,
          6.9,
          7.3,
          6.7,
          6.4,
          7.2,
          7,
          6.1,
          6.8,
          5.9,
          6.2,
          4.8,
          6,
          6.3,
          5.9,
          6,
          7.7,
          6,
          7.2,
          7.2,
          6.7,
          5.4,
          5.5,
          5.7,
          6.5,
          6.2
         ]
        },
        {
         "hoverinfo": "text",
         "hovertext": [
          "Movie: The Quick and the Dead<br>IMDb Score: 6.4<br>Release Date: 1995<br>Academy Award for Best Actor/Actress : No",
          "Movie: Virtuosity<br>IMDb Score: 5.5<br>Release Date: 1995<br>Academy Award for Best Actor/Actress : No",
          "Movie: L.A. Confidential<br>IMDb Score: 8.3<br>Release Date: 1997<br>Academy Award for Best Actor/Actress : No",
          "Movie: Mystery, Alaska<br>IMDb Score: 6.7<br>Release Date: 1999<br>Academy Award for Best Actor/Actress : No",
          "Movie: The Insider<br>IMDb Score: 7.9<br>Release Date: 1999<br>Academy Award for Best Actor/Actress : No",
          "Movie: Proof of Life<br>IMDb Score: 6.2<br>Release Date: 2000<br>Academy Award for Best Actor/Actress : No",
          "Movie: Gladiator<br>IMDb Score: 8.5<br>Release Date: 2000<br>Academy Award for Best Actor/Actress : Yes",
          "Movie: A Beautiful Mind<br>IMDb Score: 8.2<br>Release Date: 2001<br>Academy Award for Best Actor/Actress : No",
          "Movie: Master and Commander: The Far Side of the World<br>IMDb Score: 7.4<br>Release Date: 2003<br>Academy Award for Best Actor/Actress : No",
          "Movie: Cinderella Man<br>IMDb Score: 8.0<br>Release Date: 2005<br>Academy Award for Best Actor/Actress : No",
          "Movie: A Good Year<br>IMDb Score: 6.9<br>Release Date: 2006<br>Academy Award for Best Actor/Actress : No",
          "Movie: American Gangster<br>IMDb Score: 7.8<br>Release Date: 2007<br>Academy Award for Best Actor/Actress : No",
          "Movie: 3:10 to Yuma<br>IMDb Score: 7.8<br>Release Date: 2007<br>Academy Award for Best Actor/Actress : No",
          "Movie: Body of Lies<br>IMDb Score: 7.1<br>Release Date: 2008<br>Academy Award for Best Actor/Actress : No",
          "Movie: State of Play<br>IMDb Score: 7.1<br>Release Date: 2009<br>Academy Award for Best Actor/Actress : No",
          "Movie: The Next Three Days<br>IMDb Score: 7.4<br>Release Date: 2010<br>Academy Award for Best Actor/Actress : No",
          "Movie: Robin Hood<br>IMDb Score: 6.7<br>Release Date: 2010<br>Academy Award for Best Actor/Actress : No",
          "Movie: Les Misérables<br>IMDb Score: 7.6<br>Release Date: 2012<br>Academy Award for Best Actor/Actress : No",
          "Movie: The Man with the Iron Fists<br>IMDb Score: 5.4<br>Release Date: 2012<br>Academy Award for Best Actor/Actress : No",
          "Movie: Man of Steel<br>IMDb Score: 7.2<br>Release Date: 2013<br>Academy Award for Best Actor/Actress : No",
          "Movie: Broken City<br>IMDb Score: 6.2<br>Release Date: 2013<br>Academy Award for Best Actor/Actress : No",
          "Movie: Noah<br>IMDb Score: 5.8<br>Release Date: 2014<br>Academy Award for Best Actor/Actress : No"
         ],
         "legendgroup": "Russell Crowe",
         "line": {
          "color": "#AB63FA"
         },
         "marker": {
          "size": [
           8,
           8,
           8,
           8,
           8,
           8,
           15,
           8,
           8,
           8,
           8,
           8,
           8,
           8,
           8,
           8,
           8,
           8,
           8,
           8,
           8,
           8
          ],
          "symbol": [
           "circle",
           "circle",
           "circle",
           "circle",
           "circle",
           "circle",
           "star",
           "circle",
           "circle",
           "circle",
           "circle",
           "circle",
           "circle",
           "circle",
           "circle",
           "circle",
           "circle",
           "circle",
           "circle",
           "circle",
           "circle",
           "circle"
          ]
         },
         "mode": "lines+markers",
         "name": "Russell Crowe",
         "type": "scatter",
         "visible": false,
         "x": [
          1995,
          1995,
          1997,
          1999,
          1999,
          2000,
          2000,
          2001,
          2003,
          2005,
          2006,
          2007,
          2007,
          2008,
          2009,
          2010,
          2010,
          2012,
          2012,
          2013,
          2013,
          2014
         ],
         "y": [
          6.4,
          5.5,
          8.3,
          6.7,
          7.9,
          6.2,
          8.5,
          8.2,
          7.4,
          8,
          6.9,
          7.8,
          7.8,
          7.1,
          7.1,
          7.4,
          6.7,
          7.6,
          5.4,
          7.2,
          6.2,
          5.8
         ]
        },
        {
         "hoverinfo": "text",
         "hovertext": [
          "Movie: Speed<br>IMDb Score: 7.2<br>Release Date: 1994<br>Academy Award for Best Actor/Actress : No",
          "Movie: The Net<br>IMDb Score: 5.8<br>Release Date: 1995<br>Academy Award for Best Actor/Actress : No",
          "Movie: A Time to Kill<br>IMDb Score: 7.4<br>Release Date: 1996<br>Academy Award for Best Actor/Actress : No",
          "Movie: Speed 2: Cruise Control<br>IMDb Score: 3.7<br>Release Date: 1997<br>Academy Award for Best Actor/Actress : No",
          "Movie: Practical Magic<br>IMDb Score: 6.1<br>Release Date: 1998<br>Academy Award for Best Actor/Actress : No",
          "Movie: The Prince of Egypt<br>IMDb Score: 7.0<br>Release Date: 1998<br>Academy Award for Best Actor/Actress : No",
          "Movie: Hope Floats<br>IMDb Score: 5.9<br>Release Date: 1998<br>Academy Award for Best Actor/Actress : No",
          "Movie: 28 Days<br>IMDb Score: 6.0<br>Release Date: 2000<br>Academy Award for Best Actor/Actress : No",
          "Movie: Miss Congeniality<br>IMDb Score: 6.2<br>Release Date: 2000<br>Academy Award for Best Actor/Actress : No",
          "Movie: Two Weeks Notice<br>IMDb Score: 6.1<br>Release Date: 2002<br>Academy Award for Best Actor/Actress : No",
          "Movie: Murder by Numbers<br>IMDb Score: 6.1<br>Release Date: 2002<br>Academy Award for Best Actor/Actress : No",
          "Movie: Murder by Numbers<br>IMDb Score: 6.1<br>Release Date: 2002<br>Academy Award for Best Actor/Actress : No",
          "Movie: Divine Secrets of the Ya-Ya Sisterhood<br>IMDb Score: 6.0<br>Release Date: 2002<br>Academy Award for Best Actor/Actress : No",
          "Movie: Crash<br>IMDb Score: 7.9<br>Release Date: 2004<br>Academy Award for Best Actor/Actress : No",
          "Movie: Crash<br>IMDb Score: 7.9<br>Release Date: 2004<br>Academy Award for Best Actor/Actress : No",
          "Movie: Miss Congeniality 2: Armed and Fabulous<br>IMDb Score: 5.0<br>Release Date: 2005<br>Academy Award for Best Actor/Actress : No",
          "Movie: The Lake House<br>IMDb Score: 6.8<br>Release Date: 2006<br>Academy Award for Best Actor/Actress : No",
          "Movie: Infamous<br>IMDb Score: 7.1<br>Release Date: 2006<br>Academy Award for Best Actor/Actress : No",
          "Movie: Premonition<br>IMDb Score: 5.9<br>Release Date: 2007<br>Academy Award for Best Actor/Actress : No",
          "Movie: The Proposal<br>IMDb Score: 6.7<br>Release Date: 2009<br>Academy Award for Best Actor/Actress : No",
          "Movie: All About Steve<br>IMDb Score: 4.8<br>Release Date: 2009<br>Academy Award for Best Actor/Actress : No",
          "Movie: The Blind Side<br>IMDb Score: 7.7<br>Release Date: 2009<br>Academy Award for Best Actor/Actress : Yes",
          "Movie: The Heat<br>IMDb Score: 6.6<br>Release Date: 2013<br>Academy Award for Best Actor/Actress : No"
         ],
         "legendgroup": "Sandra Bullock",
         "line": {
          "color": "#FFA15A"
         },
         "marker": {
          "size": [
           8,
           8,
           8,
           8,
           8,
           8,
           8,
           8,
           8,
           8,
           8,
           8,
           8,
           8,
           8,
           8,
           8,
           8,
           8,
           8,
           8,
           15,
           8
          ],
          "symbol": [
           "circle",
           "circle",
           "circle",
           "circle",
           "circle",
           "circle",
           "circle",
           "circle",
           "circle",
           "circle",
           "circle",
           "circle",
           "circle",
           "circle",
           "circle",
           "circle",
           "circle",
           "circle",
           "circle",
           "circle",
           "circle",
           "star",
           "circle"
          ]
         },
         "mode": "lines+markers",
         "name": "Sandra Bullock",
         "type": "scatter",
         "visible": false,
         "x": [
          1994,
          1995,
          1996,
          1997,
          1998,
          1998,
          1998,
          2000,
          2000,
          2002,
          2002,
          2002,
          2002,
          2004,
          2004,
          2005,
          2006,
          2006,
          2007,
          2009,
          2009,
          2009,
          2013
         ],
         "y": [
          7.2,
          5.8,
          7.4,
          3.7,
          6.1,
          7,
          5.9,
          6,
          6.2,
          6.1,
          6.1,
          6.1,
          6,
          7.9,
          7.9,
          5,
          6.8,
          7.1,
          5.9,
          6.7,
          4.8,
          7.7,
          6.6
         ]
        },
        {
         "hoverinfo": "text",
         "hovertext": [
          "Movie: Fast Times at Ridgemont High<br>IMDb Score: 7.2<br>Release Date: 1982<br>Academy Award for Best Actor/Actress : No",
          "Movie: Shanghai Surprise<br>IMDb Score: 3.0<br>Release Date: 1986<br>Academy Award for Best Actor/Actress : No",
          "Movie: We're No Angels<br>IMDb Score: 6.0<br>Release Date: 1989<br>Academy Award for Best Actor/Actress : No",
          "Movie: Dead Man Walking<br>IMDb Score: 7.6<br>Release Date: 1995<br>Academy Award for Best Actor/Actress : No",
          "Movie: The Game<br>IMDb Score: 7.8<br>Release Date: 1997<br>Academy Award for Best Actor/Actress : No",
          "Movie: The Thin Red Line<br>IMDb Score: 7.6<br>Release Date: 1998<br>Academy Award for Best Actor/Actress : No",
          "Movie: I Am Sam<br>IMDb Score: 7.6<br>Release Date: 2001<br>Academy Award for Best Actor/Actress : No",
          "Movie: 21 Grams<br>IMDb Score: 7.7<br>Release Date: 2003<br>Academy Award for Best Actor/Actress : No",
          "Movie: Mystic River<br>IMDb Score: 8.0<br>Release Date: 2003<br>Academy Award for Best Actor/Actress : Yes",
          "Movie: The Interpreter<br>IMDb Score: 6.4<br>Release Date: 2005<br>Academy Award for Best Actor/Actress : No",
          "Movie: All the King's Men<br>IMDb Score: 6.2<br>Release Date: 2006<br>Academy Award for Best Actor/Actress : No",
          "Movie: Persepolis<br>IMDb Score: 8.0<br>Release Date: 2007<br>Academy Award for Best Actor/Actress : No",
          "Movie: Milk<br>IMDb Score: 7.6<br>Release Date: 2008<br>Academy Award for Best Actor/Actress : Yes",
          "Movie: Fair Game<br>IMDb Score: 6.8<br>Release Date: 2010<br>Academy Award for Best Actor/Actress : No",
          "Movie: The Tree of Life<br>IMDb Score: 6.7<br>Release Date: 2011<br>Academy Award for Best Actor/Actress : No",
          "Movie: Gangster Squad<br>IMDb Score: 6.7<br>Release Date: 2013<br>Academy Award for Best Actor/Actress : No"
         ],
         "legendgroup": "Sean Penn",
         "line": {
          "color": "#19D3F3"
         },
         "marker": {
          "size": [
           8,
           8,
           8,
           8,
           8,
           8,
           8,
           8,
           15,
           8,
           8,
           8,
           15,
           8,
           8,
           8
          ],
          "symbol": [
           "circle",
           "circle",
           "circle",
           "circle",
           "circle",
           "circle",
           "circle",
           "circle",
           "star",
           "circle",
           "circle",
           "circle",
           "star",
           "circle",
           "circle",
           "circle"
          ]
         },
         "mode": "lines+markers",
         "name": "Sean Penn",
         "type": "scatter",
         "visible": false,
         "x": [
          1982,
          1986,
          1989,
          1995,
          1997,
          1998,
          2001,
          2003,
          2003,
          2005,
          2006,
          2007,
          2008,
          2010,
          2011,
          2013
         ],
         "y": [
          7.2,
          3,
          6,
          7.6,
          7.8,
          7.6,
          7.6,
          7.7,
          8,
          6.4,
          6.2,
          8,
          7.6,
          6.8,
          6.7,
          6.7
         ]
        },
        {
         "hoverinfo": "text",
         "hovertext": [
          "Movie: Coal Miner's Daughter<br>IMDb Score: 7.5<br>Release Date: 1980<br>Academy Award for Best Actor/Actress : Yes",
          "Movie: JFK<br>IMDb Score: 8.0<br>Release Date: 1991<br>Academy Award for Best Actor/Actress : No",
          "Movie: The Straight Story<br>IMDb Score: 8.0<br>Release Date: 1999<br>Academy Award for Best Actor/Actress : No",
          "Movie: In the Bedroom<br>IMDb Score: 7.5<br>Release Date: 2001<br>Academy Award for Best Actor/Actress : No",
          "Movie: Tuck Everlasting<br>IMDb Score: 6.7<br>Release Date: 2002<br>Academy Award for Best Actor/Actress : No",
          "Movie: A Home at the End of the World<br>IMDb Score: 6.8<br>Release Date: 2004<br>Academy Award for Best Actor/Actress : No",
          "Movie: The Ring Two<br>IMDb Score: 5.4<br>Release Date: 2005<br>Academy Award for Best Actor/Actress : No",
          "Movie: North Country<br>IMDb Score: 7.3<br>Release Date: 2005<br>Academy Award for Best Actor/Actress : No",
          "Movie: Hot Rod<br>IMDb Score: 6.7<br>Release Date: 2007<br>Academy Award for Best Actor/Actress : No",
          "Movie: Four Christmases<br>IMDb Score: 5.6<br>Release Date: 2008<br>Academy Award for Best Actor/Actress : No",
          "Movie: Get Low<br>IMDb Score: 7.1<br>Release Date: 2009<br>Academy Award for Best Actor/Actress : No",
          "Movie: The Help<br>IMDb Score: 8.1<br>Release Date: 2011<br>Academy Award for Best Actor/Actress : No",
          "Movie: Deadfall<br>IMDb Score: 6.3<br>Release Date: 2012<br>Academy Award for Best Actor/Actress : No"
         ],
         "legendgroup": "Sissy Spacek",
         "line": {
          "color": "#FF6692"
         },
         "marker": {
          "size": [
           15,
           8,
           8,
           8,
           8,
           8,
           8,
           8,
           8,
           8,
           8,
           8,
           8
          ],
          "symbol": [
           "star",
           "circle",
           "circle",
           "circle",
           "circle",
           "circle",
           "circle",
           "circle",
           "circle",
           "circle",
           "circle",
           "circle",
           "circle"
          ]
         },
         "mode": "lines+markers",
         "name": "Sissy Spacek",
         "type": "scatter",
         "visible": false,
         "x": [
          1980,
          1991,
          1999,
          2001,
          2002,
          2004,
          2005,
          2005,
          2007,
          2008,
          2009,
          2011,
          2012
         ],
         "y": [
          7.5,
          8,
          8,
          7.5,
          6.7,
          6.8,
          5.4,
          7.3,
          6.7,
          5.6,
          7.1,
          8.1,
          6.3
         ]
        },
        {
         "hoverinfo": "text",
         "hovertext": [
          "Movie: The Client<br>IMDb Score: 6.7<br>Release Date: 1994<br>Academy Award for Best Actor/Actress : No",
          "Movie: Little Women<br>IMDb Score: 7.3<br>Release Date: 1994<br>Academy Award for Best Actor/Actress : No",
          "Movie: Dead Man Walking<br>IMDb Score: 7.6<br>Release Date: 1995<br>Academy Award for Best Actor/Actress : Yes",
          "Movie: Stepmom<br>IMDb Score: 6.7<br>Release Date: 1998<br>Academy Award for Best Actor/Actress : No",
          "Movie: Cradle Will Rock<br>IMDb Score: 6.9<br>Release Date: 1999<br>Academy Award for Best Actor/Actress : No",
          "Movie: Anywhere But Here<br>IMDb Score: 6.1<br>Release Date: 1999<br>Academy Award for Best Actor/Actress : No",
          "Movie: Rugrats in Paris: The Movie<br>IMDb Score: 6.1<br>Release Date: 2000<br>Academy Award for Best Actor/Actress : No",
          "Movie: Cats & Dogs<br>IMDb Score: 5.2<br>Release Date: 2001<br>Academy Award for Best Actor/Actress : No",
          "Movie: Igby Goes Down<br>IMDb Score: 7.0<br>Release Date: 2002<br>Academy Award for Best Actor/Actress : No",
          "Movie: Moonlight Mile<br>IMDb Score: 6.7<br>Release Date: 2002<br>Academy Award for Best Actor/Actress : No",
          "Movie: The Banger Sisters<br>IMDb Score: 5.6<br>Release Date: 2002<br>Academy Award for Best Actor/Actress : No",
          "Movie: Alfie<br>IMDb Score: 6.2<br>Release Date: 2004<br>Academy Award for Best Actor/Actress : No",
          "Movie: Elizabethtown<br>IMDb Score: 6.4<br>Release Date: 2005<br>Academy Award for Best Actor/Actress : No",
          "Movie: In the Valley of Elah<br>IMDb Score: 7.2<br>Release Date: 2007<br>Academy Award for Best Actor/Actress : No",
          "Movie: Enchanted<br>IMDb Score: 7.1<br>Release Date: 2007<br>Academy Award for Best Actor/Actress : No",
          "Movie: Speed Racer<br>IMDb Score: 6.1<br>Release Date: 2008<br>Academy Award for Best Actor/Actress : No",
          "Movie: The Greatest<br>IMDb Score: 6.7<br>Release Date: 2009<br>Academy Award for Best Actor/Actress : No",
          "Movie: The Lovely Bones<br>IMDb Score: 6.7<br>Release Date: 2009<br>Academy Award for Best Actor/Actress : No",
          "Movie: The Lovely Bones<br>IMDb Score: 6.7<br>Release Date: 2009<br>Academy Award for Best Actor/Actress : No",
          "Movie: Wall Street: Money Never Sleeps<br>IMDb Score: 6.3<br>Release Date: 2010<br>Academy Award for Best Actor/Actress : No",
          "Movie: Jeff, Who Lives at Home<br>IMDb Score: 6.5<br>Release Date: 2011<br>Academy Award for Best Actor/Actress : No",
          "Movie: Arbitrage<br>IMDb Score: 6.6<br>Release Date: 2012<br>Academy Award for Best Actor/Actress : No",
          "Movie: Cloud Atlas<br>IMDb Score: 7.5<br>Release Date: 2012<br>Academy Award for Best Actor/Actress : No"
         ],
         "legendgroup": "Susan Sarandon",
         "line": {
          "color": "#B6E880"
         },
         "marker": {
          "size": [
           8,
           8,
           15,
           8,
           8,
           8,
           8,
           8,
           8,
           8,
           8,
           8,
           8,
           8,
           8,
           8,
           8,
           8,
           8,
           8,
           8,
           8,
           8
          ],
          "symbol": [
           "circle",
           "circle",
           "star",
           "circle",
           "circle",
           "circle",
           "circle",
           "circle",
           "circle",
           "circle",
           "circle",
           "circle",
           "circle",
           "circle",
           "circle",
           "circle",
           "circle",
           "circle",
           "circle",
           "circle",
           "circle",
           "circle",
           "circle"
          ]
         },
         "mode": "lines+markers",
         "name": "Susan Sarandon",
         "type": "scatter",
         "visible": false,
         "x": [
          1994,
          1994,
          1995,
          1998,
          1999,
          1999,
          2000,
          2001,
          2002,
          2002,
          2002,
          2004,
          2005,
          2007,
          2007,
          2008,
          2009,
          2009,
          2009,
          2010,
          2011,
          2012,
          2012
         ],
         "y": [
          6.7,
          7.3,
          7.6,
          6.7,
          6.9,
          6.1,
          6.1,
          5.2,
          7,
          6.7,
          5.6,
          6.2,
          6.4,
          7.2,
          7.1,
          6.1,
          6.7,
          6.7,
          6.7,
          6.3,
          6.5,
          6.6,
          7.5
         ]
        },
        {
         "hoverinfo": "text",
         "hovertext": [
          "Movie: Splash<br>IMDb Score: 6.2<br>Release Date: 1984<br>Academy Award for Best Actor/Actress : No",
          "Movie: Big<br>IMDb Score: 7.3<br>Release Date: 1988<br>Academy Award for Best Actor/Actress : No",
          "Movie: A League of Their Own<br>IMDb Score: 7.2<br>Release Date: 1992<br>Academy Award for Best Actor/Actress : No",
          "Movie: Radio Flyer<br>IMDb Score: 6.9<br>Release Date: 1992<br>Academy Award for Best Actor/Actress : No",
          "Movie: Forrest Gump<br>IMDb Score: 8.8<br>Release Date: 1994<br>Academy Award for Best Actor/Actress : Yes",
          "Movie: Toy Story<br>IMDb Score: 8.3<br>Release Date: 1995<br>Academy Award for Best Actor/Actress : No",
          "Movie: Apollo 13<br>IMDb Score: 7.6<br>Release Date: 1995<br>Academy Award for Best Actor/Actress : No",
          "Movie: That Thing You Do!<br>IMDb Score: 6.9<br>Release Date: 1996<br>Academy Award for Best Actor/Actress : No",
          "Movie: Saving Private Ryan<br>IMDb Score: 8.6<br>Release Date: 1998<br>Academy Award for Best Actor/Actress : No",
          "Movie: You've Got Mail<br>IMDb Score: 6.5<br>Release Date: 1998<br>Academy Award for Best Actor/Actress : No",
          "Movie: Toy Story 2<br>IMDb Score: 7.9<br>Release Date: 1999<br>Academy Award for Best Actor/Actress : No",
          "Movie: The Green Mile<br>IMDb Score: 8.5<br>Release Date: 1999<br>Academy Award for Best Actor/Actress : No",
          "Movie: Cast Away<br>IMDb Score: 7.7<br>Release Date: 2000<br>Academy Award for Best Actor/Actress : No",
          "Movie: Road to Perdition<br>IMDb Score: 7.7<br>Release Date: 2002<br>Academy Award for Best Actor/Actress : No",
          "Movie: Catch Me If You Can<br>IMDb Score: 8.0<br>Release Date: 2002<br>Academy Award for Best Actor/Actress : No",
          "Movie: The Terminal<br>IMDb Score: 7.3<br>Release Date: 2004<br>Academy Award for Best Actor/Actress : No",
          "Movie: The Ladykillers<br>IMDb Score: 6.2<br>Release Date: 2004<br>Academy Award for Best Actor/Actress : No",
          "Movie: The Polar Express<br>IMDb Score: 6.6<br>Release Date: 2004<br>Academy Award for Best Actor/Actress : No",
          "Movie: The Polar Express<br>IMDb Score: 6.6<br>Release Date: 2004<br>Academy Award for Best Actor/Actress : No",
          "Movie: The Polar Express<br>IMDb Score: 6.6<br>Release Date: 2004<br>Academy Award for Best Actor/Actress : No",
          "Movie: The Polar Express<br>IMDb Score: 6.6<br>Release Date: 2004<br>Academy Award for Best Actor/Actress : No",
          "Movie: Cars<br>IMDb Score: 7.2<br>Release Date: 2006<br>Academy Award for Best Actor/Actress : No",
          "Movie: The Da Vinci Code<br>IMDb Score: 6.6<br>Release Date: 2006<br>Academy Award for Best Actor/Actress : No",
          "Movie: Charlie Wilson's War<br>IMDb Score: 7.1<br>Release Date: 2007<br>Academy Award for Best Actor/Actress : No",
          "Movie: Toy Story 3<br>IMDb Score: 8.3<br>Release Date: 2010<br>Academy Award for Best Actor/Actress : No",
          "Movie: Larry Crowne<br>IMDb Score: 6.1<br>Release Date: 2011<br>Academy Award for Best Actor/Actress : No",
          "Movie: Cloud Atlas<br>IMDb Score: 7.5<br>Release Date: 2012<br>Academy Award for Best Actor/Actress : No",
          "Movie: Cloud Atlas<br>IMDb Score: 7.5<br>Release Date: 2012<br>Academy Award for Best Actor/Actress : No",
          "Movie: Cloud Atlas<br>IMDb Score: 7.5<br>Release Date: 2012<br>Academy Award for Best Actor/Actress : No",
          "Movie: Cloud Atlas<br>IMDb Score: 7.5<br>Release Date: 2012<br>Academy Award for Best Actor/Actress : No"
         ],
         "legendgroup": "Tom Hanks",
         "line": {
          "color": "#FF97FF"
         },
         "marker": {
          "size": [
           8,
           8,
           8,
           8,
           15,
           8,
           8,
           8,
           8,
           8,
           8,
           8,
           8,
           8,
           8,
           8,
           8,
           8,
           8,
           8,
           8,
           8,
           8,
           8,
           8,
           8,
           8,
           8,
           8,
           8
          ],
          "symbol": [
           "circle",
           "circle",
           "circle",
           "circle",
           "star",
           "circle",
           "circle",
           "circle",
           "circle",
           "circle",
           "circle",
           "circle",
           "circle",
           "circle",
           "circle",
           "circle",
           "circle",
           "circle",
           "circle",
           "circle",
           "circle",
           "circle",
           "circle",
           "circle",
           "circle",
           "circle",
           "circle",
           "circle",
           "circle",
           "circle"
          ]
         },
         "mode": "lines+markers",
         "name": "Tom Hanks",
         "type": "scatter",
         "visible": false,
         "x": [
          1984,
          1988,
          1992,
          1992,
          1994,
          1995,
          1995,
          1996,
          1998,
          1998,
          1999,
          1999,
          2000,
          2002,
          2002,
          2004,
          2004,
          2004,
          2004,
          2004,
          2004,
          2006,
          2006,
          2007,
          2010,
          2011,
          2012,
          2012,
          2012,
          2012
         ],
         "y": [
          6.2,
          7.3,
          7.2,
          6.9,
          8.8,
          8.3,
          7.6,
          6.9,
          8.6,
          6.5,
          7.9,
          8.5,
          7.7,
          7.7,
          8,
          7.3,
          6.2,
          6.6,
          6.6,
          6.6,
          6.6,
          7.2,
          6.6,
          7.1,
          8.3,
          6.1,
          7.5,
          7.5,
          7.5,
          7.5
         ]
        }
       ],
       "layout": {
        "height": 700,
        "showlegend": true,
        "template": {
         "data": {
          "bar": [
           {
            "error_x": {
             "color": "#2a3f5f"
            },
            "error_y": {
             "color": "#2a3f5f"
            },
            "marker": {
             "line": {
              "color": "#E5ECF6",
              "width": 0.5
             },
             "pattern": {
              "fillmode": "overlay",
              "size": 10,
              "solidity": 0.2
             }
            },
            "type": "bar"
           }
          ],
          "barpolar": [
           {
            "marker": {
             "line": {
              "color": "#E5ECF6",
              "width": 0.5
             },
             "pattern": {
              "fillmode": "overlay",
              "size": 10,
              "solidity": 0.2
             }
            },
            "type": "barpolar"
           }
          ],
          "carpet": [
           {
            "aaxis": {
             "endlinecolor": "#2a3f5f",
             "gridcolor": "white",
             "linecolor": "white",
             "minorgridcolor": "white",
             "startlinecolor": "#2a3f5f"
            },
            "baxis": {
             "endlinecolor": "#2a3f5f",
             "gridcolor": "white",
             "linecolor": "white",
             "minorgridcolor": "white",
             "startlinecolor": "#2a3f5f"
            },
            "type": "carpet"
           }
          ],
          "choropleth": [
           {
            "colorbar": {
             "outlinewidth": 0,
             "ticks": ""
            },
            "type": "choropleth"
           }
          ],
          "contour": [
           {
            "colorbar": {
             "outlinewidth": 0,
             "ticks": ""
            },
            "colorscale": [
             [
              0,
              "#0d0887"
             ],
             [
              0.1111111111111111,
              "#46039f"
             ],
             [
              0.2222222222222222,
              "#7201a8"
             ],
             [
              0.3333333333333333,
              "#9c179e"
             ],
             [
              0.4444444444444444,
              "#bd3786"
             ],
             [
              0.5555555555555556,
              "#d8576b"
             ],
             [
              0.6666666666666666,
              "#ed7953"
             ],
             [
              0.7777777777777778,
              "#fb9f3a"
             ],
             [
              0.8888888888888888,
              "#fdca26"
             ],
             [
              1,
              "#f0f921"
             ]
            ],
            "type": "contour"
           }
          ],
          "contourcarpet": [
           {
            "colorbar": {
             "outlinewidth": 0,
             "ticks": ""
            },
            "type": "contourcarpet"
           }
          ],
          "heatmap": [
           {
            "colorbar": {
             "outlinewidth": 0,
             "ticks": ""
            },
            "colorscale": [
             [
              0,
              "#0d0887"
             ],
             [
              0.1111111111111111,
              "#46039f"
             ],
             [
              0.2222222222222222,
              "#7201a8"
             ],
             [
              0.3333333333333333,
              "#9c179e"
             ],
             [
              0.4444444444444444,
              "#bd3786"
             ],
             [
              0.5555555555555556,
              "#d8576b"
             ],
             [
              0.6666666666666666,
              "#ed7953"
             ],
             [
              0.7777777777777778,
              "#fb9f3a"
             ],
             [
              0.8888888888888888,
              "#fdca26"
             ],
             [
              1,
              "#f0f921"
             ]
            ],
            "type": "heatmap"
           }
          ],
          "heatmapgl": [
           {
            "colorbar": {
             "outlinewidth": 0,
             "ticks": ""
            },
            "colorscale": [
             [
              0,
              "#0d0887"
             ],
             [
              0.1111111111111111,
              "#46039f"
             ],
             [
              0.2222222222222222,
              "#7201a8"
             ],
             [
              0.3333333333333333,
              "#9c179e"
             ],
             [
              0.4444444444444444,
              "#bd3786"
             ],
             [
              0.5555555555555556,
              "#d8576b"
             ],
             [
              0.6666666666666666,
              "#ed7953"
             ],
             [
              0.7777777777777778,
              "#fb9f3a"
             ],
             [
              0.8888888888888888,
              "#fdca26"
             ],
             [
              1,
              "#f0f921"
             ]
            ],
            "type": "heatmapgl"
           }
          ],
          "histogram": [
           {
            "marker": {
             "pattern": {
              "fillmode": "overlay",
              "size": 10,
              "solidity": 0.2
             }
            },
            "type": "histogram"
           }
          ],
          "histogram2d": [
           {
            "colorbar": {
             "outlinewidth": 0,
             "ticks": ""
            },
            "colorscale": [
             [
              0,
              "#0d0887"
             ],
             [
              0.1111111111111111,
              "#46039f"
             ],
             [
              0.2222222222222222,
              "#7201a8"
             ],
             [
              0.3333333333333333,
              "#9c179e"
             ],
             [
              0.4444444444444444,
              "#bd3786"
             ],
             [
              0.5555555555555556,
              "#d8576b"
             ],
             [
              0.6666666666666666,
              "#ed7953"
             ],
             [
              0.7777777777777778,
              "#fb9f3a"
             ],
             [
              0.8888888888888888,
              "#fdca26"
             ],
             [
              1,
              "#f0f921"
             ]
            ],
            "type": "histogram2d"
           }
          ],
          "histogram2dcontour": [
           {
            "colorbar": {
             "outlinewidth": 0,
             "ticks": ""
            },
            "colorscale": [
             [
              0,
              "#0d0887"
             ],
             [
              0.1111111111111111,
              "#46039f"
             ],
             [
              0.2222222222222222,
              "#7201a8"
             ],
             [
              0.3333333333333333,
              "#9c179e"
             ],
             [
              0.4444444444444444,
              "#bd3786"
             ],
             [
              0.5555555555555556,
              "#d8576b"
             ],
             [
              0.6666666666666666,
              "#ed7953"
             ],
             [
              0.7777777777777778,
              "#fb9f3a"
             ],
             [
              0.8888888888888888,
              "#fdca26"
             ],
             [
              1,
              "#f0f921"
             ]
            ],
            "type": "histogram2dcontour"
           }
          ],
          "mesh3d": [
           {
            "colorbar": {
             "outlinewidth": 0,
             "ticks": ""
            },
            "type": "mesh3d"
           }
          ],
          "parcoords": [
           {
            "line": {
             "colorbar": {
              "outlinewidth": 0,
              "ticks": ""
             }
            },
            "type": "parcoords"
           }
          ],
          "pie": [
           {
            "automargin": true,
            "type": "pie"
           }
          ],
          "scatter": [
           {
            "fillpattern": {
             "fillmode": "overlay",
             "size": 10,
             "solidity": 0.2
            },
            "type": "scatter"
           }
          ],
          "scatter3d": [
           {
            "line": {
             "colorbar": {
              "outlinewidth": 0,
              "ticks": ""
             }
            },
            "marker": {
             "colorbar": {
              "outlinewidth": 0,
              "ticks": ""
             }
            },
            "type": "scatter3d"
           }
          ],
          "scattercarpet": [
           {
            "marker": {
             "colorbar": {
              "outlinewidth": 0,
              "ticks": ""
             }
            },
            "type": "scattercarpet"
           }
          ],
          "scattergeo": [
           {
            "marker": {
             "colorbar": {
              "outlinewidth": 0,
              "ticks": ""
             }
            },
            "type": "scattergeo"
           }
          ],
          "scattergl": [
           {
            "marker": {
             "colorbar": {
              "outlinewidth": 0,
              "ticks": ""
             }
            },
            "type": "scattergl"
           }
          ],
          "scattermapbox": [
           {
            "marker": {
             "colorbar": {
              "outlinewidth": 0,
              "ticks": ""
             }
            },
            "type": "scattermapbox"
           }
          ],
          "scatterpolar": [
           {
            "marker": {
             "colorbar": {
              "outlinewidth": 0,
              "ticks": ""
             }
            },
            "type": "scatterpolar"
           }
          ],
          "scatterpolargl": [
           {
            "marker": {
             "colorbar": {
              "outlinewidth": 0,
              "ticks": ""
             }
            },
            "type": "scatterpolargl"
           }
          ],
          "scatterternary": [
           {
            "marker": {
             "colorbar": {
              "outlinewidth": 0,
              "ticks": ""
             }
            },
            "type": "scatterternary"
           }
          ],
          "surface": [
           {
            "colorbar": {
             "outlinewidth": 0,
             "ticks": ""
            },
            "colorscale": [
             [
              0,
              "#0d0887"
             ],
             [
              0.1111111111111111,
              "#46039f"
             ],
             [
              0.2222222222222222,
              "#7201a8"
             ],
             [
              0.3333333333333333,
              "#9c179e"
             ],
             [
              0.4444444444444444,
              "#bd3786"
             ],
             [
              0.5555555555555556,
              "#d8576b"
             ],
             [
              0.6666666666666666,
              "#ed7953"
             ],
             [
              0.7777777777777778,
              "#fb9f3a"
             ],
             [
              0.8888888888888888,
              "#fdca26"
             ],
             [
              1,
              "#f0f921"
             ]
            ],
            "type": "surface"
           }
          ],
          "table": [
           {
            "cells": {
             "fill": {
              "color": "#EBF0F8"
             },
             "line": {
              "color": "white"
             }
            },
            "header": {
             "fill": {
              "color": "#C8D4E3"
             },
             "line": {
              "color": "white"
             }
            },
            "type": "table"
           }
          ]
         },
         "layout": {
          "annotationdefaults": {
           "arrowcolor": "#2a3f5f",
           "arrowhead": 0,
           "arrowwidth": 1
          },
          "autotypenumbers": "strict",
          "coloraxis": {
           "colorbar": {
            "outlinewidth": 0,
            "ticks": ""
           }
          },
          "colorscale": {
           "diverging": [
            [
             0,
             "#8e0152"
            ],
            [
             0.1,
             "#c51b7d"
            ],
            [
             0.2,
             "#de77ae"
            ],
            [
             0.3,
             "#f1b6da"
            ],
            [
             0.4,
             "#fde0ef"
            ],
            [
             0.5,
             "#f7f7f7"
            ],
            [
             0.6,
             "#e6f5d0"
            ],
            [
             0.7,
             "#b8e186"
            ],
            [
             0.8,
             "#7fbc41"
            ],
            [
             0.9,
             "#4d9221"
            ],
            [
             1,
             "#276419"
            ]
           ],
           "sequential": [
            [
             0,
             "#0d0887"
            ],
            [
             0.1111111111111111,
             "#46039f"
            ],
            [
             0.2222222222222222,
             "#7201a8"
            ],
            [
             0.3333333333333333,
             "#9c179e"
            ],
            [
             0.4444444444444444,
             "#bd3786"
            ],
            [
             0.5555555555555556,
             "#d8576b"
            ],
            [
             0.6666666666666666,
             "#ed7953"
            ],
            [
             0.7777777777777778,
             "#fb9f3a"
            ],
            [
             0.8888888888888888,
             "#fdca26"
            ],
            [
             1,
             "#f0f921"
            ]
           ],
           "sequentialminus": [
            [
             0,
             "#0d0887"
            ],
            [
             0.1111111111111111,
             "#46039f"
            ],
            [
             0.2222222222222222,
             "#7201a8"
            ],
            [
             0.3333333333333333,
             "#9c179e"
            ],
            [
             0.4444444444444444,
             "#bd3786"
            ],
            [
             0.5555555555555556,
             "#d8576b"
            ],
            [
             0.6666666666666666,
             "#ed7953"
            ],
            [
             0.7777777777777778,
             "#fb9f3a"
            ],
            [
             0.8888888888888888,
             "#fdca26"
            ],
            [
             1,
             "#f0f921"
            ]
           ]
          },
          "colorway": [
           "#636efa",
           "#EF553B",
           "#00cc96",
           "#ab63fa",
           "#FFA15A",
           "#19d3f3",
           "#FF6692",
           "#B6E880",
           "#FF97FF",
           "#FECB52"
          ],
          "font": {
           "color": "#2a3f5f"
          },
          "geo": {
           "bgcolor": "white",
           "lakecolor": "white",
           "landcolor": "#E5ECF6",
           "showlakes": true,
           "showland": true,
           "subunitcolor": "white"
          },
          "hoverlabel": {
           "align": "left"
          },
          "hovermode": "closest",
          "mapbox": {
           "style": "light"
          },
          "paper_bgcolor": "white",
          "plot_bgcolor": "#E5ECF6",
          "polar": {
           "angularaxis": {
            "gridcolor": "white",
            "linecolor": "white",
            "ticks": ""
           },
           "bgcolor": "#E5ECF6",
           "radialaxis": {
            "gridcolor": "white",
            "linecolor": "white",
            "ticks": ""
           }
          },
          "scene": {
           "xaxis": {
            "backgroundcolor": "#E5ECF6",
            "gridcolor": "white",
            "gridwidth": 2,
            "linecolor": "white",
            "showbackground": true,
            "ticks": "",
            "zerolinecolor": "white"
           },
           "yaxis": {
            "backgroundcolor": "#E5ECF6",
            "gridcolor": "white",
            "gridwidth": 2,
            "linecolor": "white",
            "showbackground": true,
            "ticks": "",
            "zerolinecolor": "white"
           },
           "zaxis": {
            "backgroundcolor": "#E5ECF6",
            "gridcolor": "white",
            "gridwidth": 2,
            "linecolor": "white",
            "showbackground": true,
            "ticks": "",
            "zerolinecolor": "white"
           }
          },
          "shapedefaults": {
           "line": {
            "color": "#2a3f5f"
           }
          },
          "ternary": {
           "aaxis": {
            "gridcolor": "white",
            "linecolor": "white",
            "ticks": ""
           },
           "baxis": {
            "gridcolor": "white",
            "linecolor": "white",
            "ticks": ""
           },
           "bgcolor": "#E5ECF6",
           "caxis": {
            "gridcolor": "white",
            "linecolor": "white",
            "ticks": ""
           }
          },
          "title": {
           "x": 0.05
          },
          "xaxis": {
           "automargin": true,
           "gridcolor": "white",
           "linecolor": "white",
           "ticks": "",
           "title": {
            "standoff": 15
           },
           "zerolinecolor": "white",
           "zerolinewidth": 2
          },
          "yaxis": {
           "automargin": true,
           "gridcolor": "white",
           "linecolor": "white",
           "ticks": "",
           "title": {
            "standoff": 15
           },
           "zerolinecolor": "white",
           "zerolinewidth": 2
          }
         }
        },
        "title": {
         "text": "Evolution of IMDb Scores for Movies Starring Oscar-Winning Actresses/Actors Before and After the Reward(s)"
        },
        "updatemenus": [
         {
          "buttons": [
           {
            "args": [
             {
              "visible": [
               true,
               true,
               true,
               true,
               true,
               true,
               true,
               true,
               true,
               true,
               true,
               true,
               true,
               true,
               true,
               true,
               true,
               true,
               true,
               true,
               true,
               true,
               true,
               true,
               true,
               true,
               true,
               true,
               true,
               true,
               true,
               true,
               true,
               true,
               true,
               true,
               true,
               true,
               true,
               true,
               true,
               true,
               true,
               true,
               true,
               true,
               true,
               true,
               true,
               true,
               true,
               true,
               true,
               true,
               true,
               true,
               true,
               true,
               true,
               true,
               true,
               true,
               true,
               true,
               true,
               true,
               true,
               true,
               true,
               true,
               true,
               true,
               true,
               true,
               true,
               true,
               true,
               true,
               false,
               false,
               false,
               false,
               false,
               false,
               false,
               false,
               false,
               false,
               false,
               false,
               false,
               false,
               false,
               false,
               false,
               false,
               false,
               false,
               false,
               false,
               false,
               false,
               false,
               false,
               false,
               false,
               false,
               false,
               false,
               false,
               false,
               false,
               false,
               false,
               false,
               false,
               false
              ]
             },
             {
              "title": "Evolution of IMDb Scores for Movies Starring Oscar-Winning Actresses (All Actresses)"
             }
            ],
            "label": "All",
            "method": "update"
           },
           {
            "args": [
             {
              "visible": [
               false,
               false,
               false,
               false,
               false,
               false,
               false,
               false,
               false,
               false,
               false,
               false,
               false,
               false,
               false,
               false,
               false,
               false,
               false,
               false,
               false,
               false,
               false,
               false,
               false,
               false,
               false,
               false,
               false,
               false,
               false,
               false,
               false,
               false,
               false,
               false,
               false,
               false,
               false,
               false,
               false,
               false,
               false,
               false,
               false,
               false,
               false,
               false,
               false,
               false,
               false,
               false,
               false,
               false,
               false,
               false,
               false,
               false,
               false,
               false,
               false,
               false,
               false,
               false,
               false,
               false,
               false,
               false,
               false,
               false,
               false,
               false,
               false,
               false,
               false,
               false,
               false,
               false,
               true,
               false,
               false,
               false,
               false,
               false,
               false,
               false,
               false,
               false,
               false,
               false,
               false,
               false,
               false,
               false,
               false,
               false,
               false,
               false,
               false,
               false,
               false,
               false,
               false,
               false,
               false,
               false,
               false,
               false,
               false,
               false,
               false,
               false,
               false,
               false,
               false,
               false,
               false
              ]
             },
             {
              "title": "Evolution of IMDb Scores for Movies Starring Adrien Brody"
             }
            ],
            "label": "Adrien Brody",
            "method": "update"
           },
           {
            "args": [
             {
              "visible": [
               false,
               false,
               false,
               false,
               false,
               false,
               false,
               false,
               false,
               false,
               false,
               false,
               false,
               false,
               false,
               false,
               false,
               false,
               false,
               false,
               false,
               false,
               false,
               false,
               false,
               false,
               false,
               false,
               false,
               false,
               false,
               false,
               false,
               false,
               false,
               false,
               false,
               false,
               false,
               false,
               false,
               false,
               false,
               false,
               false,
               false,
               false,
               false,
               false,
               false,
               false,
               false,
               false,
               false,
               false,
               false,
               false,
               false,
               false,
               false,
               false,
               false,
               false,
               false,
               false,
               false,
               false,
               false,
               false,
               false,
               false,
               false,
               false,
               false,
               false,
               false,
               false,
               false,
               false,
               true,
               false,
               false,
               false,
               false,
               false,
               false,
               false,
               false,
               false,
               false,
               false,
               false,
               false,
               false,
               false,
               false,
               false,
               false,
               false,
               false,
               false,
               false,
               false,
               false,
               false,
               false,
               false,
               false,
               false,
               false,
               false,
               false,
               false,
               false,
               false,
               false,
               false
              ]
             },
             {
              "title": "Evolution of IMDb Scores for Movies Starring Anthony Hopkins"
             }
            ],
            "label": "Anthony Hopkins",
            "method": "update"
           },
           {
            "args": [
             {
              "visible": [
               false,
               false,
               false,
               false,
               false,
               false,
               false,
               false,
               false,
               false,
               false,
               false,
               false,
               false,
               false,
               false,
               false,
               false,
               false,
               false,
               false,
               false,
               false,
               false,
               false,
               false,
               false,
               false,
               false,
               false,
               false,
               false,
               false,
               false,
               false,
               false,
               false,
               false,
               false,
               false,
               false,
               false,
               false,
               false,
               false,
               false,
               false,
               false,
               false,
               false,
               false,
               false,
               false,
               false,
               false,
               false,
               false,
               false,
               false,
               false,
               false,
               false,
               false,
               false,
               false,
               false,
               false,
               false,
               false,
               false,
               false,
               false,
               false,
               false,
               false,
               false,
               false,
               false,
               false,
               false,
               true,
               false,
               false,
               false,
               false,
               false,
               false,
               false,
               false,
               false,
               false,
               false,
               false,
               false,
               false,
               false,
               false,
               false,
               false,
               false,
               false,
               false,
               false,
               false,
               false,
               false,
               false,
               false,
               false,
               false,
               false,
               false,
               false,
               false,
               false,
               false,
               false
              ]
             },
             {
              "title": "Evolution of IMDb Scores for Movies Starring Ben Kingsley"
             }
            ],
            "label": "Ben Kingsley",
            "method": "update"
           },
           {
            "args": [
             {
              "visible": [
               false,
               false,
               false,
               false,
               false,
               false,
               false,
               false,
               false,
               false,
               false,
               false,
               false,
               false,
               false,
               false,
               false,
               false,
               false,
               false,
               false,
               false,
               false,
               false,
               false,
               false,
               false,
               false,
               false,
               false,
               false,
               false,
               false,
               false,
               false,
               false,
               false,
               false,
               false,
               false,
               false,
               false,
               false,
               false,
               false,
               false,
               false,
               false,
               false,
               false,
               false,
               false,
               false,
               false,
               false,
               false,
               false,
               false,
               false,
               false,
               false,
               false,
               false,
               false,
               false,
               false,
               false,
               false,
               false,
               false,
               false,
               false,
               false,
               false,
               false,
               false,
               false,
               false,
               false,
               false,
               false,
               true,
               false,
               false,
               false,
               false,
               false,
               false,
               false,
               false,
               false,
               false,
               false,
               false,
               false,
               false,
               false,
               false,
               false,
               false,
               false,
               false,
               false,
               false,
               false,
               false,
               false,
               false,
               false,
               false,
               false,
               false,
               false,
               false,
               false,
               false,
               false
              ]
             },
             {
              "title": "Evolution of IMDb Scores for Movies Starring Charlize Theron"
             }
            ],
            "label": "Charlize Theron",
            "method": "update"
           },
           {
            "args": [
             {
              "visible": [
               false,
               false,
               false,
               false,
               false,
               false,
               false,
               false,
               false,
               false,
               false,
               false,
               false,
               false,
               false,
               false,
               false,
               false,
               false,
               false,
               false,
               false,
               false,
               false,
               false,
               false,
               false,
               false,
               false,
               false,
               false,
               false,
               false,
               false,
               false,
               false,
               false,
               false,
               false,
               false,
               false,
               false,
               false,
               false,
               false,
               false,
               false,
               false,
               false,
               false,
               false,
               false,
               false,
               false,
               false,
               false,
               false,
               false,
               false,
               false,
               false,
               false,
               false,
               false,
               false,
               false,
               false,
               false,
               false,
               false,
               false,
               false,
               false,
               false,
               false,
               false,
               false,
               false,
               false,
               false,
               false,
               false,
               true,
               false,
               false,
               false,
               false,
               false,
               false,
               false,
               false,
               false,
               false,
               false,
               false,
               false,
               false,
               false,
               false,
               false,
               false,
               false,
               false,
               false,
               false,
               false,
               false,
               false,
               false,
               false,
               false,
               false,
               false,
               false,
               false,
               false,
               false
              ]
             },
             {
              "title": "Evolution of IMDb Scores for Movies Starring Colin Firth"
             }
            ],
            "label": "Colin Firth",
            "method": "update"
           },
           {
            "args": [
             {
              "visible": [
               false,
               false,
               false,
               false,
               false,
               false,
               false,
               false,
               false,
               false,
               false,
               false,
               false,
               false,
               false,
               false,
               false,
               false,
               false,
               false,
               false,
               false,
               false,
               false,
               false,
               false,
               false,
               false,
               false,
               false,
               false,
               false,
               false,
               false,
               false,
               false,
               false,
               false,
               false,
               false,
               false,
               false,
               false,
               false,
               false,
               false,
               false,
               false,
               false,
               false,
               false,
               false,
               false,
               false,
               false,
               false,
               false,
               false,
               false,
               false,
               false,
               false,
               false,
               false,
               false,
               false,
               false,
               false,
               false,
               false,
               false,
               false,
               false,
               false,
               false,
               false,
               false,
               false,
               false,
               false,
               false,
               false,
               false,
               true,
               false,
               false,
               false,
               false,
               false,
               false,
               false,
               false,
               false,
               false,
               false,
               false,
               false,
               false,
               false,
               false,
               false,
               false,
               false,
               false,
               false,
               false,
               false,
               false,
               false,
               false,
               false,
               false,
               false,
               false,
               false,
               false,
               false
              ]
             },
             {
              "title": "Evolution of IMDb Scores for Movies Starring Daniel Day-Lewis"
             }
            ],
            "label": "Daniel Day-Lewis",
            "method": "update"
           },
           {
            "args": [
             {
              "visible": [
               false,
               false,
               false,
               false,
               false,
               false,
               false,
               false,
               false,
               false,
               false,
               false,
               false,
               false,
               false,
               false,
               false,
               false,
               false,
               false,
               false,
               false,
               false,
               false,
               false,
               false,
               false,
               false,
               false,
               false,
               false,
               false,
               false,
               false,
               false,
               false,
               false,
               false,
               false,
               false,
               false,
               false,
               false,
               false,
               false,
               false,
               false,
               false,
               false,
               false,
               false,
               false,
               false,
               false,
               false,
               false,
               false,
               false,
               false,
               false,
               false,
               false,
               false,
               false,
               false,
               false,
               false,
               false,
               false,
               false,
               false,
               false,
               false,
               false,
               false,
               false,
               false,
               false,
               false,
               false,
               false,
               false,
               false,
               false,
               true,
               false,
               false,
               false,
               false,
               false,
               false,
               false,
               false,
               false,
               false,
               false,
               false,
               false,
               false,
               false,
               false,
               false,
               false,
               false,
               false,
               false,
               false,
               false,
               false,
               false,
               false,
               false,
               false,
               false,
               false,
               false,
               false
              ]
             },
             {
              "title": "Evolution of IMDb Scores for Movies Starring Denzel Washington"
             }
            ],
            "label": "Denzel Washington",
            "method": "update"
           },
           {
            "args": [
             {
              "visible": [
               false,
               false,
               false,
               false,
               false,
               false,
               false,
               false,
               false,
               false,
               false,
               false,
               false,
               false,
               false,
               false,
               false,
               false,
               false,
               false,
               false,
               false,
               false,
               false,
               false,
               false,
               false,
               false,
               false,
               false,
               false,
               false,
               false,
               false,
               false,
               false,
               false,
               false,
               false,
               false,
               false,
               false,
               false,
               false,
               false,
               false,
               false,
               false,
               false,
               false,
               false,
               false,
               false,
               false,
               false,
               false,
               false,
               false,
               false,
               false,
               false,
               false,
               false,
               false,
               false,
               false,
               false,
               false,
               false,
               false,
               false,
               false,
               false,
               false,
               false,
               false,
               false,
               false,
               false,
               false,
               false,
               false,
               false,
               false,
               false,
               true,
               false,
               false,
               false,
               false,
               false,
               false,
               false,
               false,
               false,
               false,
               false,
               false,
               false,
               false,
               false,
               false,
               false,
               false,
               false,
               false,
               false,
               false,
               false,
               false,
               false,
               false,
               false,
               false,
               false,
               false,
               false
              ]
             },
             {
              "title": "Evolution of IMDb Scores for Movies Starring Dustin Hoffman"
             }
            ],
            "label": "Dustin Hoffman",
            "method": "update"
           },
           {
            "args": [
             {
              "visible": [
               false,
               false,
               false,
               false,
               false,
               false,
               false,
               false,
               false,
               false,
               false,
               false,
               false,
               false,
               false,
               false,
               false,
               false,
               false,
               false,
               false,
               false,
               false,
               false,
               false,
               false,
               false,
               false,
               false,
               false,
               false,
               false,
               false,
               false,
               false,
               false,
               false,
               false,
               false,
               false,
               false,
               false,
               false,
               false,
               false,
               false,
               false,
               false,
               false,
               false,
               false,
               false,
               false,
               false,
               false,
               false,
               false,
               false,
               false,
               false,
               false,
               false,
               false,
               false,
               false,
               false,
               false,
               false,
               false,
               false,
               false,
               false,
               false,
               false,
               false,
               false,
               false,
               false,
               false,
               false,
               false,
               false,
               false,
               false,
               false,
               false,
               true,
               false,
               false,
               false,
               false,
               false,
               false,
               false,
               false,
               false,
               false,
               false,
               false,
               false,
               false,
               false,
               false,
               false,
               false,
               false,
               false,
               false,
               false,
               false,
               false,
               false,
               false,
               false,
               false,
               false,
               false
              ]
             },
             {
              "title": "Evolution of IMDb Scores for Movies Starring Emma Thompson"
             }
            ],
            "label": "Emma Thompson",
            "method": "update"
           },
           {
            "args": [
             {
              "visible": [
               false,
               false,
               false,
               false,
               false,
               false,
               false,
               false,
               false,
               false,
               false,
               false,
               false,
               false,
               false,
               false,
               false,
               false,
               false,
               false,
               false,
               false,
               false,
               false,
               false,
               false,
               false,
               false,
               false,
               false,
               false,
               false,
               false,
               false,
               false,
               false,
               false,
               false,
               false,
               false,
               false,
               false,
               false,
               false,
               false,
               false,
               false,
               false,
               false,
               false,
               false,
               false,
               false,
               false,
               false,
               false,
               false,
               false,
               false,
               false,
               false,
               false,
               false,
               false,
               false,
               false,
               false,
               false,
               false,
               false,
               false,
               false,
               false,
               false,
               false,
               false,
               false,
               false,
               false,
               false,
               false,
               false,
               false,
               false,
               false,
               false,
               false,
               true,
               false,
               false,
               false,
               false,
               false,
               false,
               false,
               false,
               false,
               false,
               false,
               false,
               false,
               false,
               false,
               false,
               false,
               false,
               false,
               false,
               false,
               false,
               false,
               false,
               false,
               false,
               false,
               false,
               false
              ]
             },
             {
              "title": "Evolution of IMDb Scores for Movies Starring F. Murray Abraham"
             }
            ],
            "label": "F. Murray Abraham",
            "method": "update"
           },
           {
            "args": [
             {
              "visible": [
               false,
               false,
               false,
               false,
               false,
               false,
               false,
               false,
               false,
               false,
               false,
               false,
               false,
               false,
               false,
               false,
               false,
               false,
               false,
               false,
               false,
               false,
               false,
               false,
               false,
               false,
               false,
               false,
               false,
               false,
               false,
               false,
               false,
               false,
               false,
               false,
               false,
               false,
               false,
               false,
               false,
               false,
               false,
               false,
               false,
               false,
               false,
               false,
               false,
               false,
               false,
               false,
               false,
               false,
               false,
               false,
               false,
               false,
               false,
               false,
               false,
               false,
               false,
               false,
               false,
               false,
               false,
               false,
               false,
               false,
               false,
               false,
               false,
               false,
               false,
               false,
               false,
               false,
               false,
               false,
               false,
               false,
               false,
               false,
               false,
               false,
               false,
               false,
               true,
               false,
               false,
               false,
               false,
               false,
               false,
               false,
               false,
               false,
               false,
               false,
               false,
               false,
               false,
               false,
               false,
               false,
               false,
               false,
               false,
               false,
               false,
               false,
               false,
               false,
               false,
               false,
               false
              ]
             },
             {
              "title": "Evolution of IMDb Scores for Movies Starring Forest Whitaker"
             }
            ],
            "label": "Forest Whitaker",
            "method": "update"
           },
           {
            "args": [
             {
              "visible": [
               false,
               false,
               false,
               false,
               false,
               false,
               false,
               false,
               false,
               false,
               false,
               false,
               false,
               false,
               false,
               false,
               false,
               false,
               false,
               false,
               false,
               false,
               false,
               false,
               false,
               false,
               false,
               false,
               false,
               false,
               false,
               false,
               false,
               false,
               false,
               false,
               false,
               false,
               false,
               false,
               false,
               false,
               false,
               false,
               false,
               false,
               false,
               false,
               false,
               false,
               false,
               false,
               false,
               false,
               false,
               false,
               false,
               false,
               false,
               false,
               false,
               false,
               false,
               false,
               false,
               false,
               false,
               false,
               false,
               false,
               false,
               false,
               false,
               false,
               false,
               false,
               false,
               false,
               false,
               false,
               false,
               false,
               false,
               false,
               false,
               false,
               false,
               false,
               false,
               true,
               false,
               false,
               false,
               false,
               false,
               false,
               false,
               false,
               false,
               false,
               false,
               false,
               false,
               false,
               false,
               false,
               false,
               false,
               false,
               false,
               false,
               false,
               false,
               false,
               false,
               false,
               false
              ]
             },
             {
              "title": "Evolution of IMDb Scores for Movies Starring Geoffrey Rush"
             }
            ],
            "label": "Geoffrey Rush",
            "method": "update"
           },
           {
            "args": [
             {
              "visible": [
               false,
               false,
               false,
               false,
               false,
               false,
               false,
               false,
               false,
               false,
               false,
               false,
               false,
               false,
               false,
               false,
               false,
               false,
               false,
               false,
               false,
               false,
               false,
               false,
               false,
               false,
               false,
               false,
               false,
               false,
               false,
               false,
               false,
               false,
               false,
               false,
               false,
               false,
               false,
               false,
               false,
               false,
               false,
               false,
               false,
               false,
               false,
               false,
               false,
               false,
               false,
               false,
               false,
               false,
               false,
               false,
               false,
               false,
               false,
               false,
               false,
               false,
               false,
               false,
               false,
               false,
               false,
               false,
               false,
               false,
               false,
               false,
               false,
               false,
               false,
               false,
               false,
               false,
               false,
               false,
               false,
               false,
               false,
               false,
               false,
               false,
               false,
               false,
               false,
               false,
               true,
               false,
               false,
               false,
               false,
               false,
               false,
               false,
               false,
               false,
               false,
               false,
               false,
               false,
               false,
               false,
               false,
               false,
               false,
               false,
               false,
               false,
               false,
               false,
               false,
               false,
               false
              ]
             },
             {
              "title": "Evolution of IMDb Scores for Movies Starring Gwyneth Paltrow"
             }
            ],
            "label": "Gwyneth Paltrow",
            "method": "update"
           },
           {
            "args": [
             {
              "visible": [
               false,
               false,
               false,
               false,
               false,
               false,
               false,
               false,
               false,
               false,
               false,
               false,
               false,
               false,
               false,
               false,
               false,
               false,
               false,
               false,
               false,
               false,
               false,
               false,
               false,
               false,
               false,
               false,
               false,
               false,
               false,
               false,
               false,
               false,
               false,
               false,
               false,
               false,
               false,
               false,
               false,
               false,
               false,
               false,
               false,
               false,
               false,
               false,
               false,
               false,
               false,
               false,
               false,
               false,
               false,
               false,
               false,
               false,
               false,
               false,
               false,
               false,
               false,
               false,
               false,
               false,
               false,
               false,
               false,
               false,
               false,
               false,
               false,
               false,
               false,
               false,
               false,
               false,
               false,
               false,
               false,
               false,
               false,
               false,
               false,
               false,
               false,
               false,
               false,
               false,
               false,
               true,
               false,
               false,
               false,
               false,
               false,
               false,
               false,
               false,
               false,
               false,
               false,
               false,
               false,
               false,
               false,
               false,
               false,
               false,
               false,
               false,
               false,
               false,
               false,
               false,
               false
              ]
             },
             {
              "title": "Evolution of IMDb Scores for Movies Starring Halle Berry"
             }
            ],
            "label": "Halle Berry",
            "method": "update"
           },
           {
            "args": [
             {
              "visible": [
               false,
               false,
               false,
               false,
               false,
               false,
               false,
               false,
               false,
               false,
               false,
               false,
               false,
               false,
               false,
               false,
               false,
               false,
               false,
               false,
               false,
               false,
               false,
               false,
               false,
               false,
               false,
               false,
               false,
               false,
               false,
               false,
               false,
               false,
               false,
               false,
               false,
               false,
               false,
               false,
               false,
               false,
               false,
               false,
               false,
               false,
               false,
               false,
               false,
               false,
               false,
               false,
               false,
               false,
               false,
               false,
               false,
               false,
               false,
               false,
               false,
               false,
               false,
               false,
               false,
               false,
               false,
               false,
               false,
               false,
               false,
               false,
               false,
               false,
               false,
               false,
               false,
               false,
               false,
               false,
               false,
               false,
               false,
               false,
               false,
               false,
               false,
               false,
               false,
               false,
               false,
               false,
               true,
               false,
               false,
               false,
               false,
               false,
               false,
               false,
               false,
               false,
               false,
               false,
               false,
               false,
               false,
               false,
               false,
               false,
               false,
               false,
               false,
               false,
               false,
               false,
               false
              ]
             },
             {
              "title": "Evolution of IMDb Scores for Movies Starring Helen Hunt"
             }
            ],
            "label": "Helen Hunt",
            "method": "update"
           },
           {
            "args": [
             {
              "visible": [
               false,
               false,
               false,
               false,
               false,
               false,
               false,
               false,
               false,
               false,
               false,
               false,
               false,
               false,
               false,
               false,
               false,
               false,
               false,
               false,
               false,
               false,
               false,
               false,
               false,
               false,
               false,
               false,
               false,
               false,
               false,
               false,
               false,
               false,
               false,
               false,
               false,
               false,
               false,
               false,
               false,
               false,
               false,
               false,
               false,
               false,
               false,
               false,
               false,
               false,
               false,
               false,
               false,
               false,
               false,
               false,
               false,
               false,
               false,
               false,
               false,
               false,
               false,
               false,
               false,
               false,
               false,
               false,
               false,
               false,
               false,
               false,
               false,
               false,
               false,
               false,
               false,
               false,
               false,
               false,
               false,
               false,
               false,
               false,
               false,
               false,
               false,
               false,
               false,
               false,
               false,
               false,
               false,
               true,
               false,
               false,
               false,
               false,
               false,
               false,
               false,
               false,
               false,
               false,
               false,
               false,
               false,
               false,
               false,
               false,
               false,
               false,
               false,
               false,
               false,
               false,
               false
              ]
             },
             {
              "title": "Evolution of IMDb Scores for Movies Starring Hilary Swank"
             }
            ],
            "label": "Hilary Swank",
            "method": "update"
           },
           {
            "args": [
             {
              "visible": [
               false,
               false,
               false,
               false,
               false,
               false,
               false,
               false,
               false,
               false,
               false,
               false,
               false,
               false,
               false,
               false,
               false,
               false,
               false,
               false,
               false,
               false,
               false,
               false,
               false,
               false,
               false,
               false,
               false,
               false,
               false,
               false,
               false,
               false,
               false,
               false,
               false,
               false,
               false,
               false,
               false,
               false,
               false,
               false,
               false,
               false,
               false,
               false,
               false,
               false,
               false,
               false,
               false,
               false,
               false,
               false,
               false,
               false,
               false,
               false,
               false,
               false,
               false,
               false,
               false,
               false,
               false,
               false,
               false,
               false,
               false,
               false,
               false,
               false,
               false,
               false,
               false,
               false,
               false,
               false,
               false,
               false,
               false,
               false,
               false,
               false,
               false,
               false,
               false,
               false,
               false,
               false,
               false,
               false,
               true,
               false,
               false,
               false,
               false,
               false,
               false,
               false,
               false,
               false,
               false,
               false,
               false,
               false,
               false,
               false,
               false,
               false,
               false,
               false,
               false,
               false,
               false
              ]
             },
             {
              "title": "Evolution of IMDb Scores for Movies Starring Holly Hunter"
             }
            ],
            "label": "Holly Hunter",
            "method": "update"
           },
           {
            "args": [
             {
              "visible": [
               false,
               false,
               false,
               false,
               false,
               false,
               false,
               false,
               false,
               false,
               false,
               false,
               false,
               false,
               false,
               false,
               false,
               false,
               false,
               false,
               false,
               false,
               false,
               false,
               false,
               false,
               false,
               false,
               false,
               false,
               false,
               false,
               false,
               false,
               false,
               false,
               false,
               false,
               false,
               false,
               false,
               false,
               false,
               false,
               false,
               false,
               false,
               false,
               false,
               false,
               false,
               false,
               false,
               false,
               false,
               false,
               false,
               false,
               false,
               false,
               false,
               false,
               false,
               false,
               false,
               false,
               false,
               false,
               false,
               false,
               false,
               false,
               false,
               false,
               false,
               false,
               false,
               false,
               false,
               false,
               false,
               false,
               false,
               false,
               false,
               false,
               false,
               false,
               false,
               false,
               false,
               false,
               false,
               false,
               false,
               true,
               false,
               false,
               false,
               false,
               false,
               false,
               false,
               false,
               false,
               false,
               false,
               false,
               false,
               false,
               false,
               false,
               false,
               false,
               false,
               false,
               false
              ]
             },
             {
              "title": "Evolution of IMDb Scores for Movies Starring Jack Nicholson"
             }
            ],
            "label": "Jack Nicholson",
            "method": "update"
           },
           {
            "args": [
             {
              "visible": [
               false,
               false,
               false,
               false,
               false,
               false,
               false,
               false,
               false,
               false,
               false,
               false,
               false,
               false,
               false,
               false,
               false,
               false,
               false,
               false,
               false,
               false,
               false,
               false,
               false,
               false,
               false,
               false,
               false,
               false,
               false,
               false,
               false,
               false,
               false,
               false,
               false,
               false,
               false,
               false,
               false,
               false,
               false,
               false,
               false,
               false,
               false,
               false,
               false,
               false,
               false,
               false,
               false,
               false,
               false,
               false,
               false,
               false,
               false,
               false,
               false,
               false,
               false,
               false,
               false,
               false,
               false,
               false,
               false,
               false,
               false,
               false,
               false,
               false,
               false,
               false,
               false,
               false,
               false,
               false,
               false,
               false,
               false,
               false,
               false,
               false,
               false,
               false,
               false,
               false,
               false,
               false,
               false,
               false,
               false,
               false,
               true,
               false,
               false,
               false,
               false,
               false,
               false,
               false,
               false,
               false,
               false,
               false,
               false,
               false,
               false,
               false,
               false,
               false,
               false,
               false,
               false
              ]
             },
             {
              "title": "Evolution of IMDb Scores for Movies Starring Jamie Foxx"
             }
            ],
            "label": "Jamie Foxx",
            "method": "update"
           },
           {
            "args": [
             {
              "visible": [
               false,
               false,
               false,
               false,
               false,
               false,
               false,
               false,
               false,
               false,
               false,
               false,
               false,
               false,
               false,
               false,
               false,
               false,
               false,
               false,
               false,
               false,
               false,
               false,
               false,
               false,
               false,
               false,
               false,
               false,
               false,
               false,
               false,
               false,
               false,
               false,
               false,
               false,
               false,
               false,
               false,
               false,
               false,
               false,
               false,
               false,
               false,
               false,
               false,
               false,
               false,
               false,
               false,
               false,
               false,
               false,
               false,
               false,
               false,
               false,
               false,
               false,
               false,
               false,
               false,
               false,
               false,
               false,
               false,
               false,
               false,
               false,
               false,
               false,
               false,
               false,
               false,
               false,
               false,
               false,
               false,
               false,
               false,
               false,
               false,
               false,
               false,
               false,
               false,
               false,
               false,
               false,
               false,
               false,
               false,
               false,
               false,
               true,
               false,
               false,
               false,
               false,
               false,
               false,
               false,
               false,
               false,
               false,
               false,
               false,
               false,
               false,
               false,
               false,
               false,
               false,
               false
              ]
             },
             {
              "title": "Evolution of IMDb Scores for Movies Starring Jeff Bridges"
             }
            ],
            "label": "Jeff Bridges",
            "method": "update"
           },
           {
            "args": [
             {
              "visible": [
               false,
               false,
               false,
               false,
               false,
               false,
               false,
               false,
               false,
               false,
               false,
               false,
               false,
               false,
               false,
               false,
               false,
               false,
               false,
               false,
               false,
               false,
               false,
               false,
               false,
               false,
               false,
               false,
               false,
               false,
               false,
               false,
               false,
               false,
               false,
               false,
               false,
               false,
               false,
               false,
               false,
               false,
               false,
               false,
               false,
               false,
               false,
               false,
               false,
               false,
               false,
               false,
               false,
               false,
               false,
               false,
               false,
               false,
               false,
               false,
               false,
               false,
               false,
               false,
               false,
               false,
               false,
               false,
               false,
               false,
               false,
               false,
               false,
               false,
               false,
               false,
               false,
               false,
               false,
               false,
               false,
               false,
               false,
               false,
               false,
               false,
               false,
               false,
               false,
               false,
               false,
               false,
               false,
               false,
               false,
               false,
               false,
               false,
               true,
               false,
               false,
               false,
               false,
               false,
               false,
               false,
               false,
               false,
               false,
               false,
               false,
               false,
               false,
               false,
               false,
               false,
               false
              ]
             },
             {
              "title": "Evolution of IMDb Scores for Movies Starring Jodie Foster"
             }
            ],
            "label": "Jodie Foster",
            "method": "update"
           },
           {
            "args": [
             {
              "visible": [
               false,
               false,
               false,
               false,
               false,
               false,
               false,
               false,
               false,
               false,
               false,
               false,
               false,
               false,
               false,
               false,
               false,
               false,
               false,
               false,
               false,
               false,
               false,
               false,
               false,
               false,
               false,
               false,
               false,
               false,
               false,
               false,
               false,
               false,
               false,
               false,
               false,
               false,
               false,
               false,
               false,
               false,
               false,
               false,
               false,
               false,
               false,
               false,
               false,
               false,
               false,
               false,
               false,
               false,
               false,
               false,
               false,
               false,
               false,
               false,
               false,
               false,
               false,
               false,
               false,
               false,
               false,
               false,
               false,
               false,
               false,
               false,
               false,
               false,
               false,
               false,
               false,
               false,
               false,
               false,
               false,
               false,
               false,
               false,
               false,
               false,
               false,
               false,
               false,
               false,
               false,
               false,
               false,
               false,
               false,
               false,
               false,
               false,
               false,
               true,
               false,
               false,
               false,
               false,
               false,
               false,
               false,
               false,
               false,
               false,
               false,
               false,
               false,
               false,
               false,
               false,
               false
              ]
             },
             {
              "title": "Evolution of IMDb Scores for Movies Starring Julia Roberts"
             }
            ],
            "label": "Julia Roberts",
            "method": "update"
           },
           {
            "args": [
             {
              "visible": [
               false,
               false,
               false,
               false,
               false,
               false,
               false,
               false,
               false,
               false,
               false,
               false,
               false,
               false,
               false,
               false,
               false,
               false,
               false,
               false,
               false,
               false,
               false,
               false,
               false,
               false,
               false,
               false,
               false,
               false,
               false,
               false,
               false,
               false,
               false,
               false,
               false,
               false,
               false,
               false,
               false,
               false,
               false,
               false,
               false,
               false,
               false,
               false,
               false,
               false,
               false,
               false,
               false,
               false,
               false,
               false,
               false,
               false,
               false,
               false,
               false,
               false,
               false,
               false,
               false,
               false,
               false,
               false,
               false,
               false,
               false,
               false,
               false,
               false,
               false,
               false,
               false,
               false,
               false,
               false,
               false,
               false,
               false,
               false,
               false,
               false,
               false,
               false,
               false,
               false,
               false,
               false,
               false,
               false,
               false,
               false,
               false,
               false,
               false,
               false,
               true,
               false,
               false,
               false,
               false,
               false,
               false,
               false,
               false,
               false,
               false,
               false,
               false,
               false,
               false,
               false,
               false
              ]
             },
             {
              "title": "Evolution of IMDb Scores for Movies Starring Kate Winslet"
             }
            ],
            "label": "Kate Winslet",
            "method": "update"
           },
           {
            "args": [
             {
              "visible": [
               false,
               false,
               false,
               false,
               false,
               false,
               false,
               false,
               false,
               false,
               false,
               false,
               false,
               false,
               false,
               false,
               false,
               false,
               false,
               false,
               false,
               false,
               false,
               false,
               false,
               false,
               false,
               false,
               false,
               false,
               false,
               false,
               false,
               false,
               false,
               false,
               false,
               false,
               false,
               false,
               false,
               false,
               false,
               false,
               false,
               false,
               false,
               false,
               false,
               false,
               false,
               false,
               false,
               false,
               false,
               false,
               false,
               false,
               false,
               false,
               false,
               false,
               false,
               false,
               false,
               false,
               false,
               false,
               false,
               false,
               false,
               false,
               false,
               false,
               false,
               false,
               false,
               false,
               false,
               false,
               false,
               false,
               false,
               false,
               false,
               false,
               false,
               false,
               false,
               false,
               false,
               false,
               false,
               false,
               false,
               false,
               false,
               false,
               false,
               false,
               false,
               true,
               false,
               false,
               false,
               false,
               false,
               false,
               false,
               false,
               false,
               false,
               false,
               false,
               false,
               false,
               false
              ]
             },
             {
              "title": "Evolution of IMDb Scores for Movies Starring Kevin Spacey"
             }
            ],
            "label": "Kevin Spacey",
            "method": "update"
           },
           {
            "args": [
             {
              "visible": [
               false,
               false,
               false,
               false,
               false,
               false,
               false,
               false,
               false,
               false,
               false,
               false,
               false,
               false,
               false,
               false,
               false,
               false,
               false,
               false,
               false,
               false,
               false,
               false,
               false,
               false,
               false,
               false,
               false,
               false,
               false,
               false,
               false,
               false,
               false,
               false,
               false,
               false,
               false,
               false,
               false,
               false,
               false,
               false,
               false,
               false,
               false,
               false,
               false,
               false,
               false,
               false,
               false,
               false,
               false,
               false,
               false,
               false,
               false,
               false,
               false,
               false,
               false,
               false,
               false,
               false,
               false,
               false,
               false,
               false,
               false,
               false,
               false,
               false,
               false,
               false,
               false,
               false,
               false,
               false,
               false,
               false,
               false,
               false,
               false,
               false,
               false,
               false,
               false,
               false,
               false,
               false,
               false,
               false,
               false,
               false,
               false,
               false,
               false,
               false,
               false,
               false,
               true,
               false,
               false,
               false,
               false,
               false,
               false,
               false,
               false,
               false,
               false,
               false,
               false,
               false,
               false
              ]
             },
             {
              "title": "Evolution of IMDb Scores for Movies Starring Meryl Streep"
             }
            ],
            "label": "Meryl Streep",
            "method": "update"
           },
           {
            "args": [
             {
              "visible": [
               false,
               false,
               false,
               false,
               false,
               false,
               false,
               false,
               false,
               false,
               false,
               false,
               false,
               false,
               false,
               false,
               false,
               false,
               false,
               false,
               false,
               false,
               false,
               false,
               false,
               false,
               false,
               false,
               false,
               false,
               false,
               false,
               false,
               false,
               false,
               false,
               false,
               false,
               false,
               false,
               false,
               false,
               false,
               false,
               false,
               false,
               false,
               false,
               false,
               false,
               false,
               false,
               false,
               false,
               false,
               false,
               false,
               false,
               false,
               false,
               false,
               false,
               false,
               false,
               false,
               false,
               false,
               false,
               false,
               false,
               false,
               false,
               false,
               false,
               false,
               false,
               false,
               false,
               false,
               false,
               false,
               false,
               false,
               false,
               false,
               false,
               false,
               false,
               false,
               false,
               false,
               false,
               false,
               false,
               false,
               false,
               false,
               false,
               false,
               false,
               false,
               false,
               false,
               true,
               false,
               false,
               false,
               false,
               false,
               false,
               false,
               false,
               false,
               false,
               false,
               false,
               false
              ]
             },
             {
              "title": "Evolution of IMDb Scores for Movies Starring Michael Douglas"
             }
            ],
            "label": "Michael Douglas",
            "method": "update"
           },
           {
            "args": [
             {
              "visible": [
               false,
               false,
               false,
               false,
               false,
               false,
               false,
               false,
               false,
               false,
               false,
               false,
               false,
               false,
               false,
               false,
               false,
               false,
               false,
               false,
               false,
               false,
               false,
               false,
               false,
               false,
               false,
               false,
               false,
               false,
               false,
               false,
               false,
               false,
               false,
               false,
               false,
               false,
               false,
               false,
               false,
               false,
               false,
               false,
               false,
               false,
               false,
               false,
               false,
               false,
               false,
               false,
               false,
               false,
               false,
               false,
               false,
               false,
               false,
               false,
               false,
               false,
               false,
               false,
               false,
               false,
               false,
               false,
               false,
               false,
               false,
               false,
               false,
               false,
               false,
               false,
               false,
               false,
               false,
               false,
               false,
               false,
               false,
               false,
               false,
               false,
               false,
               false,
               false,
               false,
               false,
               false,
               false,
               false,
               false,
               false,
               false,
               false,
               false,
               false,
               false,
               false,
               false,
               false,
               true,
               false,
               false,
               false,
               false,
               false,
               false,
               false,
               false,
               false,
               false,
               false,
               false
              ]
             },
             {
              "title": "Evolution of IMDb Scores for Movies Starring Natalie Portman"
             }
            ],
            "label": "Natalie Portman",
            "method": "update"
           },
           {
            "args": [
             {
              "visible": [
               false,
               false,
               false,
               false,
               false,
               false,
               false,
               false,
               false,
               false,
               false,
               false,
               false,
               false,
               false,
               false,
               false,
               false,
               false,
               false,
               false,
               false,
               false,
               false,
               false,
               false,
               false,
               false,
               false,
               false,
               false,
               false,
               false,
               false,
               false,
               false,
               false,
               false,
               false,
               false,
               false,
               false,
               false,
               false,
               false,
               false,
               false,
               false,
               false,
               false,
               false,
               false,
               false,
               false,
               false,
               false,
               false,
               false,
               false,
               false,
               false,
               false,
               false,
               false,
               false,
               false,
               false,
               false,
               false,
               false,
               false,
               false,
               false,
               false,
               false,
               false,
               false,
               false,
               false,
               false,
               false,
               false,
               false,
               false,
               false,
               false,
               false,
               false,
               false,
               false,
               false,
               false,
               false,
               false,
               false,
               false,
               false,
               false,
               false,
               false,
               false,
               false,
               false,
               false,
               false,
               true,
               false,
               false,
               false,
               false,
               false,
               false,
               false,
               false,
               false,
               false,
               false
              ]
             },
             {
              "title": "Evolution of IMDb Scores for Movies Starring Nicolas Cage"
             }
            ],
            "label": "Nicolas Cage",
            "method": "update"
           },
           {
            "args": [
             {
              "visible": [
               false,
               false,
               false,
               false,
               false,
               false,
               false,
               false,
               false,
               false,
               false,
               false,
               false,
               false,
               false,
               false,
               false,
               false,
               false,
               false,
               false,
               false,
               false,
               false,
               false,
               false,
               false,
               false,
               false,
               false,
               false,
               false,
               false,
               false,
               false,
               false,
               false,
               false,
               false,
               false,
               false,
               false,
               false,
               false,
               false,
               false,
               false,
               false,
               false,
               false,
               false,
               false,
               false,
               false,
               false,
               false,
               false,
               false,
               false,
               false,
               false,
               false,
               false,
               false,
               false,
               false,
               false,
               false,
               false,
               false,
               false,
               false,
               false,
               false,
               false,
               false,
               false,
               false,
               false,
               false,
               false,
               false,
               false,
               false,
               false,
               false,
               false,
               false,
               false,
               false,
               false,
               false,
               false,
               false,
               false,
               false,
               false,
               false,
               false,
               false,
               false,
               false,
               false,
               false,
               false,
               false,
               true,
               false,
               false,
               false,
               false,
               false,
               false,
               false,
               false,
               false,
               false
              ]
             },
             {
              "title": "Evolution of IMDb Scores for Movies Starring Nicole Kidman"
             }
            ],
            "label": "Nicole Kidman",
            "method": "update"
           },
           {
            "args": [
             {
              "visible": [
               false,
               false,
               false,
               false,
               false,
               false,
               false,
               false,
               false,
               false,
               false,
               false,
               false,
               false,
               false,
               false,
               false,
               false,
               false,
               false,
               false,
               false,
               false,
               false,
               false,
               false,
               false,
               false,
               false,
               false,
               false,
               false,
               false,
               false,
               false,
               false,
               false,
               false,
               false,
               false,
               false,
               false,
               false,
               false,
               false,
               false,
               false,
               false,
               false,
               false,
               false,
               false,
               false,
               false,
               false,
               false,
               false,
               false,
               false,
               false,
               false,
               false,
               false,
               false,
               false,
               false,
               false,
               false,
               false,
               false,
               false,
               false,
               false,
               false,
               false,
               false,
               false,
               false,
               false,
               false,
               false,
               false,
               false,
               false,
               false,
               false,
               false,
               false,
               false,
               false,
               false,
               false,
               false,
               false,
               false,
               false,
               false,
               false,
               false,
               false,
               false,
               false,
               false,
               false,
               false,
               false,
               false,
               true,
               false,
               false,
               false,
               false,
               false,
               false,
               false,
               false,
               false
              ]
             },
             {
              "title": "Evolution of IMDb Scores for Movies Starring Paul Newman"
             }
            ],
            "label": "Paul Newman",
            "method": "update"
           },
           {
            "args": [
             {
              "visible": [
               false,
               false,
               false,
               false,
               false,
               false,
               false,
               false,
               false,
               false,
               false,
               false,
               false,
               false,
               false,
               false,
               false,
               false,
               false,
               false,
               false,
               false,
               false,
               false,
               false,
               false,
               false,
               false,
               false,
               false,
               false,
               false,
               false,
               false,
               false,
               false,
               false,
               false,
               false,
               false,
               false,
               false,
               false,
               false,
               false,
               false,
               false,
               false,
               false,
               false,
               false,
               false,
               false,
               false,
               false,
               false,
               false,
               false,
               false,
               false,
               false,
               false,
               false,
               false,
               false,
               false,
               false,
               false,
               false,
               false,
               false,
               false,
               false,
               false,
               false,
               false,
               false,
               false,
               false,
               false,
               false,
               false,
               false,
               false,
               false,
               false,
               false,
               false,
               false,
               false,
               false,
               false,
               false,
               false,
               false,
               false,
               false,
               false,
               false,
               false,
               false,
               false,
               false,
               false,
               false,
               false,
               false,
               false,
               true,
               false,
               false,
               false,
               false,
               false,
               false,
               false,
               false
              ]
             },
             {
              "title": "Evolution of IMDb Scores for Movies Starring Philip Seymour Hoffman"
             }
            ],
            "label": "Philip Seymour Hoffman",
            "method": "update"
           },
           {
            "args": [
             {
              "visible": [
               false,
               false,
               false,
               false,
               false,
               false,
               false,
               false,
               false,
               false,
               false,
               false,
               false,
               false,
               false,
               false,
               false,
               false,
               false,
               false,
               false,
               false,
               false,
               false,
               false,
               false,
               false,
               false,
               false,
               false,
               false,
               false,
               false,
               false,
               false,
               false,
               false,
               false,
               false,
               false,
               false,
               false,
               false,
               false,
               false,
               false,
               false,
               false,
               false,
               false,
               false,
               false,
               false,
               false,
               false,
               false,
               false,
               false,
               false,
               false,
               false,
               false,
               false,
               false,
               false,
               false,
               false,
               false,
               false,
               false,
               false,
               false,
               false,
               false,
               false,
               false,
               false,
               false,
               false,
               false,
               false,
               false,
               false,
               false,
               false,
               false,
               false,
               false,
               false,
               false,
               false,
               false,
               false,
               false,
               false,
               false,
               false,
               false,
               false,
               false,
               false,
               false,
               false,
               false,
               false,
               false,
               false,
               false,
               false,
               true,
               false,
               false,
               false,
               false,
               false,
               false,
               false
              ]
             },
             {
              "title": "Evolution of IMDb Scores for Movies Starring Reese Witherspoon"
             }
            ],
            "label": "Reese Witherspoon",
            "method": "update"
           },
           {
            "args": [
             {
              "visible": [
               false,
               false,
               false,
               false,
               false,
               false,
               false,
               false,
               false,
               false,
               false,
               false,
               false,
               false,
               false,
               false,
               false,
               false,
               false,
               false,
               false,
               false,
               false,
               false,
               false,
               false,
               false,
               false,
               false,
               false,
               false,
               false,
               false,
               false,
               false,
               false,
               false,
               false,
               false,
               false,
               false,
               false,
               false,
               false,
               false,
               false,
               false,
               false,
               false,
               false,
               false,
               false,
               false,
               false,
               false,
               false,
               false,
               false,
               false,
               false,
               false,
               false,
               false,
               false,
               false,
               false,
               false,
               false,
               false,
               false,
               false,
               false,
               false,
               false,
               false,
               false,
               false,
               false,
               false,
               false,
               false,
               false,
               false,
               false,
               false,
               false,
               false,
               false,
               false,
               false,
               false,
               false,
               false,
               false,
               false,
               false,
               false,
               false,
               false,
               false,
               false,
               false,
               false,
               false,
               false,
               false,
               false,
               false,
               false,
               false,
               true,
               false,
               false,
               false,
               false,
               false,
               false
              ]
             },
             {
              "title": "Evolution of IMDb Scores for Movies Starring Robert De Niro"
             }
            ],
            "label": "Robert De Niro",
            "method": "update"
           },
           {
            "args": [
             {
              "visible": [
               false,
               false,
               false,
               false,
               false,
               false,
               false,
               false,
               false,
               false,
               false,
               false,
               false,
               false,
               false,
               false,
               false,
               false,
               false,
               false,
               false,
               false,
               false,
               false,
               false,
               false,
               false,
               false,
               false,
               false,
               false,
               false,
               false,
               false,
               false,
               false,
               false,
               false,
               false,
               false,
               false,
               false,
               false,
               false,
               false,
               false,
               false,
               false,
               false,
               false,
               false,
               false,
               false,
               false,
               false,
               false,
               false,
               false,
               false,
               false,
               false,
               false,
               false,
               false,
               false,
               false,
               false,
               false,
               false,
               false,
               false,
               false,
               false,
               false,
               false,
               false,
               false,
               false,
               false,
               false,
               false,
               false,
               false,
               false,
               false,
               false,
               false,
               false,
               false,
               false,
               false,
               false,
               false,
               false,
               false,
               false,
               false,
               false,
               false,
               false,
               false,
               false,
               false,
               false,
               false,
               false,
               false,
               false,
               false,
               false,
               false,
               true,
               false,
               false,
               false,
               false,
               false
              ]
             },
             {
              "title": "Evolution of IMDb Scores for Movies Starring Russell Crowe"
             }
            ],
            "label": "Russell Crowe",
            "method": "update"
           },
           {
            "args": [
             {
              "visible": [
               false,
               false,
               false,
               false,
               false,
               false,
               false,
               false,
               false,
               false,
               false,
               false,
               false,
               false,
               false,
               false,
               false,
               false,
               false,
               false,
               false,
               false,
               false,
               false,
               false,
               false,
               false,
               false,
               false,
               false,
               false,
               false,
               false,
               false,
               false,
               false,
               false,
               false,
               false,
               false,
               false,
               false,
               false,
               false,
               false,
               false,
               false,
               false,
               false,
               false,
               false,
               false,
               false,
               false,
               false,
               false,
               false,
               false,
               false,
               false,
               false,
               false,
               false,
               false,
               false,
               false,
               false,
               false,
               false,
               false,
               false,
               false,
               false,
               false,
               false,
               false,
               false,
               false,
               false,
               false,
               false,
               false,
               false,
               false,
               false,
               false,
               false,
               false,
               false,
               false,
               false,
               false,
               false,
               false,
               false,
               false,
               false,
               false,
               false,
               false,
               false,
               false,
               false,
               false,
               false,
               false,
               false,
               false,
               false,
               false,
               false,
               false,
               true,
               false,
               false,
               false,
               false
              ]
             },
             {
              "title": "Evolution of IMDb Scores for Movies Starring Sandra Bullock"
             }
            ],
            "label": "Sandra Bullock",
            "method": "update"
           },
           {
            "args": [
             {
              "visible": [
               false,
               false,
               false,
               false,
               false,
               false,
               false,
               false,
               false,
               false,
               false,
               false,
               false,
               false,
               false,
               false,
               false,
               false,
               false,
               false,
               false,
               false,
               false,
               false,
               false,
               false,
               false,
               false,
               false,
               false,
               false,
               false,
               false,
               false,
               false,
               false,
               false,
               false,
               false,
               false,
               false,
               false,
               false,
               false,
               false,
               false,
               false,
               false,
               false,
               false,
               false,
               false,
               false,
               false,
               false,
               false,
               false,
               false,
               false,
               false,
               false,
               false,
               false,
               false,
               false,
               false,
               false,
               false,
               false,
               false,
               false,
               false,
               false,
               false,
               false,
               false,
               false,
               false,
               false,
               false,
               false,
               false,
               false,
               false,
               false,
               false,
               false,
               false,
               false,
               false,
               false,
               false,
               false,
               false,
               false,
               false,
               false,
               false,
               false,
               false,
               false,
               false,
               false,
               false,
               false,
               false,
               false,
               false,
               false,
               false,
               false,
               false,
               false,
               true,
               false,
               false,
               false
              ]
             },
             {
              "title": "Evolution of IMDb Scores for Movies Starring Sean Penn"
             }
            ],
            "label": "Sean Penn",
            "method": "update"
           },
           {
            "args": [
             {
              "visible": [
               false,
               false,
               false,
               false,
               false,
               false,
               false,
               false,
               false,
               false,
               false,
               false,
               false,
               false,
               false,
               false,
               false,
               false,
               false,
               false,
               false,
               false,
               false,
               false,
               false,
               false,
               false,
               false,
               false,
               false,
               false,
               false,
               false,
               false,
               false,
               false,
               false,
               false,
               false,
               false,
               false,
               false,
               false,
               false,
               false,
               false,
               false,
               false,
               false,
               false,
               false,
               false,
               false,
               false,
               false,
               false,
               false,
               false,
               false,
               false,
               false,
               false,
               false,
               false,
               false,
               false,
               false,
               false,
               false,
               false,
               false,
               false,
               false,
               false,
               false,
               false,
               false,
               false,
               false,
               false,
               false,
               false,
               false,
               false,
               false,
               false,
               false,
               false,
               false,
               false,
               false,
               false,
               false,
               false,
               false,
               false,
               false,
               false,
               false,
               false,
               false,
               false,
               false,
               false,
               false,
               false,
               false,
               false,
               false,
               false,
               false,
               false,
               false,
               false,
               true,
               false,
               false
              ]
             },
             {
              "title": "Evolution of IMDb Scores for Movies Starring Sissy Spacek"
             }
            ],
            "label": "Sissy Spacek",
            "method": "update"
           },
           {
            "args": [
             {
              "visible": [
               false,
               false,
               false,
               false,
               false,
               false,
               false,
               false,
               false,
               false,
               false,
               false,
               false,
               false,
               false,
               false,
               false,
               false,
               false,
               false,
               false,
               false,
               false,
               false,
               false,
               false,
               false,
               false,
               false,
               false,
               false,
               false,
               false,
               false,
               false,
               false,
               false,
               false,
               false,
               false,
               false,
               false,
               false,
               false,
               false,
               false,
               false,
               false,
               false,
               false,
               false,
               false,
               false,
               false,
               false,
               false,
               false,
               false,
               false,
               false,
               false,
               false,
               false,
               false,
               false,
               false,
               false,
               false,
               false,
               false,
               false,
               false,
               false,
               false,
               false,
               false,
               false,
               false,
               false,
               false,
               false,
               false,
               false,
               false,
               false,
               false,
               false,
               false,
               false,
               false,
               false,
               false,
               false,
               false,
               false,
               false,
               false,
               false,
               false,
               false,
               false,
               false,
               false,
               false,
               false,
               false,
               false,
               false,
               false,
               false,
               false,
               false,
               false,
               false,
               false,
               true,
               false
              ]
             },
             {
              "title": "Evolution of IMDb Scores for Movies Starring Susan Sarandon"
             }
            ],
            "label": "Susan Sarandon",
            "method": "update"
           },
           {
            "args": [
             {
              "visible": [
               false,
               false,
               false,
               false,
               false,
               false,
               false,
               false,
               false,
               false,
               false,
               false,
               false,
               false,
               false,
               false,
               false,
               false,
               false,
               false,
               false,
               false,
               false,
               false,
               false,
               false,
               false,
               false,
               false,
               false,
               false,
               false,
               false,
               false,
               false,
               false,
               false,
               false,
               false,
               false,
               false,
               false,
               false,
               false,
               false,
               false,
               false,
               false,
               false,
               false,
               false,
               false,
               false,
               false,
               false,
               false,
               false,
               false,
               false,
               false,
               false,
               false,
               false,
               false,
               false,
               false,
               false,
               false,
               false,
               false,
               false,
               false,
               false,
               false,
               false,
               false,
               false,
               false,
               false,
               false,
               false,
               false,
               false,
               false,
               false,
               false,
               false,
               false,
               false,
               false,
               false,
               false,
               false,
               false,
               false,
               false,
               false,
               false,
               false,
               false,
               false,
               false,
               false,
               false,
               false,
               false,
               false,
               false,
               false,
               false,
               false,
               false,
               false,
               false,
               false,
               false,
               true
              ]
             },
             {
              "title": "Evolution of IMDb Scores for Movies Starring Tom Hanks"
             }
            ],
            "label": "Tom Hanks",
            "method": "update"
           }
          ],
          "direction": "down",
          "showactive": true
         }
        ],
        "width": 1200,
        "xaxis": {
         "range": [
          1975,
          2020
         ],
         "title": {
          "text": "Release Year"
         }
        },
        "yaxis": {
         "title": {
          "text": "IMDb Score"
         }
        }
       }
      }
     },
     "metadata": {},
     "output_type": "display_data"
    }
   ],
   "source": [
    "# Adjust x-axis range to start before the first movie release date\n",
    "rating_evolution['Movie release date'] = rating_evolution['Movie release date'].astype(int)\n",
    "x_range = [1975, 2020]  \n",
    "\n",
    "\n",
    "# Generate a color palette using Plotly's native discrete color scale\n",
    "actress_movies_count = rating_evolution['Actor name'].value_counts()\n",
    "relevant_actresses = actress_movies_count[actress_movies_count >= 4].index\n",
    "relevant_actresses = rating_evolution[rating_evolution['Actor name'].isin(relevant_actresses)]\n",
    "unique_actresses = relevant_actresses[relevant_actresses['Best Actress Reward'] == True]['Actor name'].unique()\n",
    "\n",
    "colors = px.colors.qualitative.Plotly  # Or use other palettes like `D3`, `Viridis`, etc.\n",
    "color_map = {actress: colors[i % len(colors)] for i, actress in enumerate(unique_actresses)}\n",
    "\n",
    "# Create legend-only traces\n",
    "legend_traces = [\n",
    "    go.Scatter(\n",
    "        x=[None],  # No data points for this trace\n",
    "        y=[None],  # No data points for this trace\n",
    "        mode=\"markers\",\n",
    "        marker=dict(\n",
    "            size=8,\n",
    "            color=color_map[actress],\n",
    "            symbol=\"circle\"  # Always use a circle for the legend\n",
    "        ),\n",
    "        name=actress,  # Actress name in the legend\n",
    "        showlegend=True,\n",
    "        legendgroup=actress  # Group legend items for the same actress\n",
    "    )\n",
    "    for actress in unique_actresses\n",
    "]\n",
    "\n",
    "\n",
    "scatter_traces = [\n",
    "    go.Scatter(\n",
    "        x=rating_evolution[rating_evolution['Actor name'] == actress]['Movie release date'],\n",
    "        y=rating_evolution[rating_evolution['Actor name'] == actress]['imdb_score'],\n",
    "        mode='markers',\n",
    "        marker=dict(\n",
    "            size=[15 if reward else 8 for reward in rating_evolution[rating_evolution['Actor name'] == actress]['Best Actress Reward']],\n",
    "            color=color_map[actress],\n",
    "            symbol=[\n",
    "                'star' if reward else 'circle'  # Conditional marker symbol\n",
    "                for reward in rating_evolution[rating_evolution['Actor name'] == actress]['Best Actress Reward']\n",
    "            ]\n",
    "        ),\n",
    "        name=actress,\n",
    "        legendgroup=actress,  # Group scatter and line for the same actress\n",
    "        showlegend=False,  # Show legend for scatter\n",
    "        hovertext=[\n",
    "            f\"Name: {actress_i}<br>Movie: {movie}<br>IMDb Score: {score}<br>Release Date: {year}<br>Academy Award for Best Actor/Actress: {'Yes' if reward else 'No'}\"\n",
    "            for movie, score, year, reward, actress_i in zip(\n",
    "                rating_evolution[rating_evolution['Actor name'] == actress]['Movie name'],\n",
    "                rating_evolution[rating_evolution['Actor name'] == actress]['imdb_score'],\n",
    "                rating_evolution[rating_evolution['Actor name'] == actress]['Movie release date'],\n",
    "                rating_evolution[rating_evolution['Actor name'] == actress]['Best Actress Reward'],\n",
    "                rating_evolution[rating_evolution['Actor name'] == actress]['Actor name']\n",
    "            )\n",
    "        ],\n",
    "        hoverinfo=\"text\",  # Show only hover text\n",
    "    )\n",
    "    for actress in unique_actresses\n",
    "]\n",
    "\n",
    "line_traces = [\n",
    "    go.Scatter(\n",
    "        x=rating_evolution[rating_evolution['Actor name'] == actress]['Movie release date'],\n",
    "        y=rating_evolution[rating_evolution['Actor name'] == actress]['imdb_score'],\n",
    "        mode='lines+markers',  # Add both lines and markers\n",
    "        line=dict(color=color_map[actress]),  # Use the same color as the scatter\n",
    "        marker=dict(\n",
    "            size=[15 if reward else 8 for reward in rating_evolution[rating_evolution['Actor name'] == actress]['Best Actress Reward']],\n",
    "            symbol=[\n",
    "                'star' if reward else 'circle'  # Conditional marker symbol\n",
    "                for reward in rating_evolution[rating_evolution['Actor name'] == actress]['Best Actress Reward']\n",
    "            ]\n",
    "        ),\n",
    "        name=actress,\n",
    "        legendgroup=actress,\n",
    "        visible=False,  # Start with lines hidden\n",
    "        hovertext=[\n",
    "            f\"Movie: {movie}<br>IMDb Score: {score}<br>Release Date: {year}<br>Academy Award for Best Actor/Actress : {'Yes' if reward else 'No'}\"\n",
    "            for movie, score, year, reward in zip(\n",
    "                rating_evolution[rating_evolution['Actor name'] == actress]['Movie name'],\n",
    "                rating_evolution[rating_evolution['Actor name'] == actress]['imdb_score'],\n",
    "                rating_evolution[rating_evolution['Actor name'] == actress]['Movie release date'],\n",
    "                rating_evolution[rating_evolution['Actor name'] == actress]['Best Actress Reward']\n",
    "            )\n",
    "        ],\n",
    "        hoverinfo=\"text\"  # Show only hover text\n",
    "    )\n",
    "    for actress in unique_actresses\n",
    "]\n",
    "\n",
    "# Combine scatter and line traces\n",
    "traces = legend_traces + scatter_traces + line_traces\n",
    "\n",
    "# Create dropdown buttons\n",
    "buttons = [\n",
    "    {\n",
    "        \"label\": \"All\",\n",
    "        \"method\": \"update\",\n",
    "        \"args\": [\n",
    "            {\"visible\": [True]*len(legend_traces) + [True] * len(scatter_traces) + [False] * len(line_traces)},  # Show scatter, hide all lines\n",
    "            {\"title\": \"Evolution of IMDb Scores for Movies Starring Oscar-Winning Actresses (All Actresses)\"}\n",
    "        ]\n",
    "    }\n",
    "]\n",
    "\n",
    "buttons += [\n",
    "    {\n",
    "        \"label\": actress,\n",
    "        \"method\": \"update\",\n",
    "        \"args\": [\n",
    "            {\"visible\": [False]*len(legend_traces) + [False] * len(scatter_traces) + [actress == a for a in unique_actresses]},\n",
    "            {\"title\": f\"Evolution of IMDb Scores for Movies Starring {actress}\"}\n",
    "        ]\n",
    "    }\n",
    "    for actress in unique_actresses\n",
    "]\n",
    "\n",
    "# Create layout\n",
    "layout = go.Layout(\n",
    "    title=\"Evolution of IMDb Scores for Movies Starring Oscar-Winning Actresses/Actors Before and After the Reward(s)\",\n",
    "    xaxis=dict(title=\"Release Year\", range=x_range),\n",
    "    yaxis=dict(title=\"IMDb Score\"),\n",
    "    updatemenus=[\n",
    "        {\n",
    "            \"buttons\": buttons,\n",
    "            \"direction\": \"down\",\n",
    "            \"showactive\": True,\n",
    "        }\n",
    "    ],\n",
    "    height=700,\n",
    "    width=1200,\n",
    "    showlegend=True  # Ensure legend is visible\n",
    ")\n",
    "\n",
    "# Create figure\n",
    "fig = go.Figure(data=traces, layout=layout)\n",
    "\n",
    "# Show figure\n",
    "fig.show()"
   ]
  },
  {
   "cell_type": "code",
   "execution_count": 31,
   "metadata": {},
   "outputs": [
    {
     "data": {
      "application/vnd.plotly.v1+json": {
       "config": {
        "plotlyServerURL": "https://plot.ly"
       },
       "data": [
        {
         "alignmentgroup": "True",
         "hovertemplate": "Movie genres=Action/Adventure<br>Actor=%{x}<br>Number of Movies=%{y}<extra></extra>",
         "legendgroup": "Action/Adventure",
         "marker": {
          "color": "#636efa",
          "pattern": {
           "shape": ""
          }
         },
         "name": "Action/Adventure",
         "offsetgroup": "Action/Adventure",
         "orientation": "v",
         "showlegend": true,
         "textposition": "auto",
         "type": "bar",
         "x": [
          "Adrien Brody",
          "Al Pacino",
          "Alec Guinness",
          "Anna Magnani",
          "Anne Bancroft",
          "Anthony Hopkins",
          "Art Carney",
          "Audrey Hepburn",
          "Ben Kingsley",
          "Bette Davis",
          "Bing Crosby",
          "Broderick Crawford",
          "Burt Lancaster",
          "Charles Laughton",
          "Charlize Theron",
          "Charlton Heston",
          "Cher",
          "Clark Gable",
          "Claudette Colbert",
          "Cliff Robertson",
          "Colin Firth",
          "Daniel Day-Lewis",
          "Denzel Washington",
          "Diane Keaton",
          "Dustin Hoffman",
          "Elizabeth Taylor",
          "Ellen Burstyn",
          "Emil Jannings",
          "Emma Thompson",
          "Ernest Borgnine",
          "F. Murray Abraham",
          "Faye Dunaway",
          "Forest Whitaker",
          "Frances McDormand",
          "Fredric March",
          "Gary Cooper",
          "Gene Hackman",
          "Geoffrey Rush",
          "George Arliss",
          "George C. Scott",
          "Geraldine Page",
          "Ginger Rogers",
          "Glenda Jackson",
          "Grace Kelly",
          "Greer Garson",
          "Gregory Peck",
          "Gwyneth Paltrow",
          "Halle Berry",
          "Helen Hayes",
          "Helen Hunt",
          "Helen Mirren",
          "Henry Fonda",
          "Hilary Swank",
          "Holly Hunter",
          "Humphrey Bogart",
          "Ingrid Bergman",
          "Jack Lemmon",
          "Jack Nicholson",
          "James Cagney",
          "James Stewart",
          "Jamie Foxx",
          "Jane Fonda",
          "Jane Wyman",
          "Janet Gaynor",
          "Jean Dujardin",
          "Jeff Bridges",
          "Jennifer Jones",
          "Jennifer Lawrence",
          "Jeremy Irons",
          "Jessica Lange",
          "Jessica Tandy",
          "Joan Crawford",
          "Joan Fontaine",
          "Joanne Woodward",
          "Jodie Foster",
          "John Wayne",
          "Jon Voight",
          "José Ferrer",
          "Judy Holliday",
          "Julia Roberts",
          "Julie Andrews",
          "Julie Christie",
          "Kate Winslet",
          "Katharine Hepburn",
          "Kathy Bates",
          "Kevin Spacey",
          "Laurence Olivier",
          "Lee Marvin",
          "Lionel Barrymore",
          "Liza Minnelli",
          "Loretta Young",
          "Louise Fletcher",
          "Maggie Smith",
          "Marion Cotillard",
          "Marlee Matlin",
          "Marlon Brando",
          "Mary Pickford",
          "Maximilian Schell",
          "Meryl Streep",
          "Michael Douglas",
          "Natalie Portman",
          "Nicolas Cage",
          "Nicole Kidman",
          "Olivia de Havilland",
          "Patricia Neal",
          "Paul Lukas",
          "Paul Muni",
          "Paul Newman",
          "Paul Scofield",
          "Peter Finch",
          "Philip Seymour Hoffman",
          "Ray Milland",
          "Reese Witherspoon",
          "Rex Harrison",
          "Richard Dreyfuss",
          "Robert De Niro",
          "Robert Donat",
          "Robert Duvall",
          "Roberto Benigni",
          "Rod Steiger",
          "Ronald Colman",
          "Russell Crowe",
          "Sally Field",
          "Sandra Bullock",
          "Sean Penn",
          "Shirley MacLaine",
          "Sidney Poitier",
          "Simone Signoret",
          "Sissy Spacek",
          "Sophia Loren",
          "Spencer Tracy",
          "Susan Hayward",
          "Susan Sarandon",
          "Tom Hanks",
          "Victor McLaglen",
          "Vivien Leigh",
          "Wallace Beery",
          "Warner Baxter",
          "William Holden",
          "William Hurt",
          "Yul Brynner"
         ],
         "xaxis": "x",
         "y": [
          37,
          50,
          31,
          5,
          31,
          91,
          22,
          18,
          68,
          34,
          15,
          34,
          97,
          27,
          51,
          111,
          4,
          40,
          23,
          67,
          26,
          4,
          74,
          13,
          52,
          29,
          19,
          2,
          17,
          105,
          43,
          56,
          73,
          32,
          19,
          76,
          129,
          30,
          3,
          39,
          10,
          12,
          4,
          15,
          1,
          75,
          37,
          45,
          11,
          31,
          54,
          80,
          22,
          20,
          58,
          15,
          24,
          56,
          33,
          62,
          31,
          29,
          5,
          3,
          5,
          74,
          12,
          7,
          46,
          22,
          11,
          20,
          17,
          7,
          42,
          239,
          86,
          30,
          1,
          40,
          14,
          19,
          15,
          15,
          33,
          47,
          42,
          71,
          16,
          6,
          22,
          30,
          41,
          26,
          10,
          47,
          5,
          38,
          24,
          65,
          36,
          120,
          44,
          36,
          14,
          35,
          6,
          50,
          15,
          38,
          26,
          51,
          19,
          24,
          47,
          95,
          5,
          87,
          4,
          83,
          24,
          57,
          30,
          37,
          42,
          18,
          46,
          18,
          14,
          36,
          32,
          37,
          41,
          35,
          45,
          11,
          42,
          11,
          62,
          54,
          55
         ],
         "yaxis": "y"
        },
        {
         "alignmentgroup": "True",
         "hovertemplate": "Movie genres=Animation<br>Actor=%{x}<br>Number of Movies=%{y}<extra></extra>",
         "legendgroup": "Animation",
         "marker": {
          "color": "#EF553B",
          "pattern": {
           "shape": ""
          }
         },
         "name": "Animation",
         "offsetgroup": "Animation",
         "orientation": "v",
         "showlegend": true,
         "textposition": "auto",
         "type": "bar",
         "x": [
          "Adrien Brody",
          "Anne Bancroft",
          "Anthony Hopkins",
          "Art Carney",
          "Ben Kingsley",
          "Bing Crosby",
          "Charlize Theron",
          "Charlton Heston",
          "Colin Firth",
          "Dustin Hoffman",
          "Emma Thompson",
          "Ernest Borgnine",
          "Forest Whitaker",
          "Frances McDormand",
          "Gene Hackman",
          "Geoffrey Rush",
          "George C. Scott",
          "Geraldine Page",
          "Halle Berry",
          "Helen Mirren",
          "Holly Hunter",
          "James Stewart",
          "Jamie Foxx",
          "Jeff Bridges",
          "Jeremy Irons",
          "Jodie Foster",
          "John Wayne",
          "José Ferrer",
          "Julia Roberts",
          "Julie Andrews",
          "Julie Christie",
          "Kate Winslet",
          "Kathy Bates",
          "Kevin Spacey",
          "Laurence Olivier",
          "Liza Minnelli",
          "Maggie Smith",
          "Meryl Streep",
          "Nicolas Cage",
          "Nicole Kidman",
          "Paul Newman",
          "Philip Seymour Hoffman",
          "Reese Witherspoon",
          "Richard Dreyfuss",
          "Robert De Niro",
          "Ronald Colman",
          "Sally Field",
          "Sandra Bullock",
          "Sean Penn",
          "Shirley Booth",
          "Susan Sarandon",
          "Tom Hanks",
          "William Holden",
          "William Hurt"
         ],
         "xaxis": "x",
         "y": [
          2,
          4,
          2,
          2,
          3,
          4,
          3,
          1,
          1,
          8,
          3,
          3,
          4,
          1,
          2,
          8,
          2,
          1,
          1,
          3,
          2,
          1,
          2,
          6,
          3,
          1,
          1,
          1,
          3,
          11,
          1,
          5,
          5,
          2,
          1,
          2,
          2,
          6,
          7,
          2,
          2,
          3,
          3,
          4,
          4,
          1,
          1,
          1,
          1,
          1,
          6,
          16,
          1,
          2
         ],
         "yaxis": "y"
        },
        {
         "alignmentgroup": "True",
         "hovertemplate": "Movie genres=Comedy<br>Actor=%{x}<br>Number of Movies=%{y}<extra></extra>",
         "legendgroup": "Comedy",
         "marker": {
          "color": "#00cc96",
          "pattern": {
           "shape": ""
          }
         },
         "name": "Comedy",
         "offsetgroup": "Comedy",
         "orientation": "v",
         "showlegend": true,
         "textposition": "auto",
         "type": "bar",
         "x": [
          "Adrien Brody",
          "Al Pacino",
          "Alec Guinness",
          "Anna Magnani",
          "Anne Bancroft",
          "Anthony Hopkins",
          "Art Carney",
          "Audrey Hepburn",
          "Barbra Streisand",
          "Ben Kingsley",
          "Bette Davis",
          "Bing Crosby",
          "Broderick Crawford",
          "Burt Lancaster",
          "Charles Laughton",
          "Charlize Theron",
          "Charlton Heston",
          "Cher",
          "Clark Gable",
          "Claudette Colbert",
          "Cliff Robertson",
          "Colin Firth",
          "Daniel Day-Lewis",
          "Denzel Washington",
          "Diane Keaton",
          "Dustin Hoffman",
          "Elizabeth Taylor",
          "Ellen Burstyn",
          "Emil Jannings",
          "Emma Thompson",
          "Ernest Borgnine",
          "F. Murray Abraham",
          "Faye Dunaway",
          "Forest Whitaker",
          "Frances McDormand",
          "Fredric March",
          "Gary Cooper",
          "Gene Hackman",
          "Geoffrey Rush",
          "George Arliss",
          "George C. Scott",
          "Geraldine Page",
          "Ginger Rogers",
          "Glenda Jackson",
          "Grace Kelly",
          "Greer Garson",
          "Gregory Peck",
          "Gwyneth Paltrow",
          "Halle Berry",
          "Helen Hayes",
          "Helen Hunt",
          "Helen Mirren",
          "Henry Fonda",
          "Hilary Swank",
          "Holly Hunter",
          "Humphrey Bogart",
          "Ingrid Bergman",
          "Jack Lemmon",
          "Jack Nicholson",
          "James Cagney",
          "James Stewart",
          "Jamie Foxx",
          "Jane Fonda",
          "Jane Wyman",
          "Janet Gaynor",
          "Jean Dujardin",
          "Jeff Bridges",
          "Jennifer Jones",
          "Jennifer Lawrence",
          "Jeremy Irons",
          "Jessica Lange",
          "Jessica Tandy",
          "Joan Crawford",
          "Joan Fontaine",
          "Joanne Woodward",
          "Jodie Foster",
          "John Wayne",
          "Jon Voight",
          "José Ferrer",
          "Judy Holliday",
          "Julia Roberts",
          "Julie Andrews",
          "Julie Christie",
          "Kate Winslet",
          "Katharine Hepburn",
          "Kathy Bates",
          "Kevin Spacey",
          "Laurence Olivier",
          "Lee Marvin",
          "Lionel Barrymore",
          "Liza Minnelli",
          "Loretta Young",
          "Louise Fletcher",
          "Luise Rainer",
          "Maggie Smith",
          "Marie Dressler",
          "Marion Cotillard",
          "Marlee Matlin",
          "Marlon Brando",
          "Mary Pickford",
          "Maximilian Schell",
          "Meryl Streep",
          "Michael Douglas",
          "Natalie Portman",
          "Nicolas Cage",
          "Nicole Kidman",
          "Norma Shearer",
          "Olivia de Havilland",
          "Patricia Neal",
          "Paul Lukas",
          "Paul Muni",
          "Paul Newman",
          "Paul Scofield",
          "Peter Finch",
          "Philip Seymour Hoffman",
          "Ray Milland",
          "Reese Witherspoon",
          "Rex Harrison",
          "Richard Dreyfuss",
          "Robert De Niro",
          "Robert Donat",
          "Robert Duvall",
          "Roberto Benigni",
          "Rod Steiger",
          "Ronald Colman",
          "Russell Crowe",
          "Sally Field",
          "Sandra Bullock",
          "Sean Penn",
          "Shirley Booth",
          "Shirley MacLaine",
          "Sidney Poitier",
          "Simone Signoret",
          "Sissy Spacek",
          "Sophia Loren",
          "Spencer Tracy",
          "Susan Hayward",
          "Susan Sarandon",
          "Tom Hanks",
          "Victor McLaglen",
          "Vivien Leigh",
          "Wallace Beery",
          "Warner Baxter",
          "William Holden",
          "William Hurt",
          "Yul Brynner"
         ],
         "xaxis": "x",
         "y": [
          18,
          13,
          30,
          6,
          30,
          14,
          26,
          26,
          29,
          35,
          35,
          83,
          16,
          18,
          14,
          22,
          16,
          15,
          39,
          56,
          17,
          43,
          3,
          11,
          66,
          41,
          25,
          21,
          3,
          25,
          29,
          13,
          23,
          19,
          30,
          15,
          33,
          24,
          27,
          6,
          19,
          9,
          64,
          14,
          4,
          7,
          8,
          32,
          18,
          7,
          37,
          31,
          29,
          10,
          37,
          21,
          9,
          84,
          53,
          24,
          55,
          27,
          29,
          24,
          19,
          11,
          34,
          4,
          3,
          10,
          13,
          18,
          29,
          13,
          12,
          21,
          32,
          19,
          8,
          17,
          53,
          51,
          15,
          12,
          44,
          65,
          31,
          21,
          13,
          14,
          24,
          28,
          18,
          1,
          42,
          13,
          14,
          4,
          17,
          20,
          9,
          40,
          28,
          19,
          53,
          24,
          20,
          19,
          7,
          9,
          1,
          28,
          1,
          8,
          39,
          30,
          36,
          31,
          59,
          50,
          5,
          21,
          28,
          15,
          12,
          12,
          38,
          36,
          23,
          2,
          82,
          10,
          3,
          20,
          53,
          25,
          10,
          65,
          58,
          16,
          6,
          23,
          13,
          30,
          24,
          4
         ],
         "yaxis": "y"
        },
        {
         "alignmentgroup": "True",
         "hovertemplate": "Movie genres=Crime<br>Actor=%{x}<br>Number of Movies=%{y}<extra></extra>",
         "legendgroup": "Crime",
         "marker": {
          "color": "#ab63fa",
          "pattern": {
           "shape": ""
          }
         },
         "name": "Crime",
         "offsetgroup": "Crime",
         "orientation": "v",
         "showlegend": true,
         "textposition": "auto",
         "type": "bar",
         "x": [
          "Adrien Brody",
          "Al Pacino",
          "Alec Guinness",
          "Anna Magnani",
          "Anne Bancroft",
          "Anthony Hopkins",
          "Art Carney",
          "Audrey Hepburn",
          "Barbra Streisand",
          "Ben Kingsley",
          "Bette Davis",
          "Bing Crosby",
          "Broderick Crawford",
          "Burt Lancaster",
          "Charles Laughton",
          "Charlize Theron",
          "Charlton Heston",
          "Cher",
          "Clark Gable",
          "Claudette Colbert",
          "Cliff Robertson",
          "Colin Firth",
          "Daniel Day-Lewis",
          "Denzel Washington",
          "Diane Keaton",
          "Dustin Hoffman",
          "Elizabeth Taylor",
          "Ellen Burstyn",
          "Emma Thompson",
          "Ernest Borgnine",
          "F. Murray Abraham",
          "Faye Dunaway",
          "Forest Whitaker",
          "Frances McDormand",
          "Fredric March",
          "Gary Cooper",
          "Gene Hackman",
          "Geoffrey Rush",
          "George C. Scott",
          "Geraldine Page",
          "Ginger Rogers",
          "Glenda Jackson",
          "Grace Kelly",
          "Gregory Peck",
          "Gwyneth Paltrow",
          "Halle Berry",
          "Helen Hayes",
          "Helen Hunt",
          "Helen Mirren",
          "Henry Fonda",
          "Hilary Swank",
          "Holly Hunter",
          "Humphrey Bogart",
          "Ingrid Bergman",
          "Jack Lemmon",
          "Jack Nicholson",
          "James Cagney",
          "James Stewart",
          "Jamie Foxx",
          "Jane Fonda",
          "Jane Wyman",
          "Janet Gaynor",
          "Jean Dujardin",
          "Jeff Bridges",
          "Jennifer Jones",
          "Jeremy Irons",
          "Jessica Lange",
          "Jessica Tandy",
          "Joan Crawford",
          "Joan Fontaine",
          "Joanne Woodward",
          "Jodie Foster",
          "John Wayne",
          "Jon Voight",
          "José Ferrer",
          "Julia Roberts",
          "Julie Andrews",
          "Julie Christie",
          "Kate Winslet",
          "Katharine Hepburn",
          "Kathy Bates",
          "Kevin Spacey",
          "Laurence Olivier",
          "Lee Marvin",
          "Lionel Barrymore",
          "Loretta Young",
          "Louise Fletcher",
          "Maggie Smith",
          "Marion Cotillard",
          "Marlee Matlin",
          "Marlon Brando",
          "Mary Pickford",
          "Maximilian Schell",
          "Meryl Streep",
          "Michael Douglas",
          "Natalie Portman",
          "Nicolas Cage",
          "Nicole Kidman",
          "Norma Shearer",
          "Olivia de Havilland",
          "Patricia Neal",
          "Paul Lukas",
          "Paul Muni",
          "Paul Newman",
          "Peter Finch",
          "Philip Seymour Hoffman",
          "Ray Milland",
          "Reese Witherspoon",
          "Rex Harrison",
          "Richard Dreyfuss",
          "Robert De Niro",
          "Robert Donat",
          "Robert Duvall",
          "Rod Steiger",
          "Ronald Colman",
          "Russell Crowe",
          "Sally Field",
          "Sandra Bullock",
          "Sean Penn",
          "Shirley MacLaine",
          "Sidney Poitier",
          "Simone Signoret",
          "Sissy Spacek",
          "Sophia Loren",
          "Spencer Tracy",
          "Susan Hayward",
          "Susan Sarandon",
          "Tom Hanks",
          "Victor McLaglen",
          "Wallace Beery",
          "Warner Baxter",
          "William Holden",
          "William Hurt",
          "Yul Brynner"
         ],
         "xaxis": "x",
         "y": [
          11,
          25,
          8,
          1,
          11,
          7,
          3,
          4,
          1,
          9,
          25,
          1,
          19,
          22,
          13,
          10,
          7,
          3,
          5,
          6,
          4,
          4,
          1,
          23,
          5,
          12,
          8,
          6,
          1,
          12,
          9,
          11,
          23,
          16,
          4,
          4,
          23,
          4,
          10,
          4,
          5,
          1,
          2,
          6,
          8,
          6,
          2,
          5,
          10,
          13,
          9,
          5,
          48,
          6,
          2,
          16,
          20,
          13,
          8,
          5,
          5,
          1,
          1,
          13,
          2,
          4,
          6,
          3,
          12,
          9,
          1,
          7,
          7,
          13,
          3,
          5,
          3,
          3,
          2,
          3,
          6,
          18,
          3,
          17,
          9,
          7,
          6,
          6,
          5,
          1,
          8,
          1,
          4,
          5,
          10,
          2,
          23,
          7,
          1,
          3,
          3,
          12,
          6,
          10,
          5,
          11,
          23,
          5,
          2,
          10,
          34,
          1,
          24,
          25,
          4,
          11,
          4,
          10,
          14,
          4,
          12,
          11,
          7,
          3,
          14,
          11,
          15,
          6,
          8,
          8,
          4,
          9,
          11,
          5
         ],
         "yaxis": "y"
        },
        {
         "alignmentgroup": "True",
         "hovertemplate": "Movie genres=Drama<br>Actor=%{x}<br>Number of Movies=%{y}<extra></extra>",
         "legendgroup": "Drama",
         "marker": {
          "color": "#FFA15A",
          "pattern": {
           "shape": ""
          }
         },
         "name": "Drama",
         "offsetgroup": "Drama",
         "orientation": "v",
         "showlegend": true,
         "textposition": "auto",
         "type": "bar",
         "x": [
          "Adrien Brody",
          "Al Pacino",
          "Alec Guinness",
          "Anna Magnani",
          "Anne Bancroft",
          "Anthony Hopkins",
          "Art Carney",
          "Audrey Hepburn",
          "Barbra Streisand",
          "Ben Kingsley",
          "Bette Davis",
          "Bing Crosby",
          "Broderick Crawford",
          "Burt Lancaster",
          "Charles Laughton",
          "Charlize Theron",
          "Charlton Heston",
          "Cher",
          "Clark Gable",
          "Claudette Colbert",
          "Cliff Robertson",
          "Colin Firth",
          "Daniel Day-Lewis",
          "Denzel Washington",
          "Diane Keaton",
          "Dustin Hoffman",
          "Elizabeth Taylor",
          "Ellen Burstyn",
          "Emil Jannings",
          "Emma Thompson",
          "Ernest Borgnine",
          "F. Murray Abraham",
          "Faye Dunaway",
          "Forest Whitaker",
          "Frances McDormand",
          "Fredric March",
          "Gary Cooper",
          "Gene Hackman",
          "Geoffrey Rush",
          "George Arliss",
          "George C. Scott",
          "Geraldine Page",
          "Ginger Rogers",
          "Glenda Jackson",
          "Grace Kelly",
          "Greer Garson",
          "Gregory Peck",
          "Gwyneth Paltrow",
          "Halle Berry",
          "Helen Hayes",
          "Helen Hunt",
          "Helen Mirren",
          "Henry Fonda",
          "Hilary Swank",
          "Holly Hunter",
          "Humphrey Bogart",
          "Ingrid Bergman",
          "Jack Lemmon",
          "Jack Nicholson",
          "James Cagney",
          "James Stewart",
          "Jamie Foxx",
          "Jane Fonda",
          "Jane Wyman",
          "Janet Gaynor",
          "Jean Dujardin",
          "Jeff Bridges",
          "Jennifer Jones",
          "Jennifer Lawrence",
          "Jeremy Irons",
          "Jessica Lange",
          "Jessica Tandy",
          "Joan Crawford",
          "Joan Fontaine",
          "Joanne Woodward",
          "Jodie Foster",
          "John Wayne",
          "Jon Voight",
          "José Ferrer",
          "Judy Holliday",
          "Julia Roberts",
          "Julie Andrews",
          "Julie Christie",
          "Kate Winslet",
          "Katharine Hepburn",
          "Kathy Bates",
          "Kevin Spacey",
          "Laurence Olivier",
          "Lee Marvin",
          "Lionel Barrymore",
          "Liza Minnelli",
          "Loretta Young",
          "Louise Fletcher",
          "Luise Rainer",
          "Maggie Smith",
          "Marie Dressler",
          "Marion Cotillard",
          "Marlee Matlin",
          "Marlon Brando",
          "Mary Pickford",
          "Maximilian Schell",
          "Meryl Streep",
          "Michael Douglas",
          "Natalie Portman",
          "Nicolas Cage",
          "Nicole Kidman",
          "Norma Shearer",
          "Olivia de Havilland",
          "Patricia Neal",
          "Paul Lukas",
          "Paul Muni",
          "Paul Newman",
          "Paul Scofield",
          "Peter Finch",
          "Philip Seymour Hoffman",
          "Ray Milland",
          "Reese Witherspoon",
          "Rex Harrison",
          "Richard Dreyfuss",
          "Robert De Niro",
          "Robert Donat",
          "Robert Duvall",
          "Roberto Benigni",
          "Rod Steiger",
          "Ronald Colman",
          "Russell Crowe",
          "Sally Field",
          "Sandra Bullock",
          "Sean Penn",
          "Shirley Booth",
          "Shirley MacLaine",
          "Sidney Poitier",
          "Simone Signoret",
          "Sissy Spacek",
          "Sophia Loren",
          "Spencer Tracy",
          "Susan Hayward",
          "Susan Sarandon",
          "Tom Hanks",
          "Victor McLaglen",
          "Vivien Leigh",
          "Wallace Beery",
          "Warner Baxter",
          "William Holden",
          "William Hurt",
          "Yul Brynner"
         ],
         "xaxis": "x",
         "y": [
          51,
          71,
          51,
          25,
          50,
          125,
          12,
          26,
          23,
          63,
          126,
          8,
          22,
          75,
          52,
          40,
          74,
          17,
          64,
          63,
          33,
          65,
          38,
          63,
          47,
          62,
          75,
          92,
          16,
          49,
          50,
          41,
          67,
          60,
          41,
          60,
          68,
          71,
          46,
          12,
          45,
          32,
          30,
          33,
          8,
          36,
          55,
          50,
          30,
          13,
          48,
          79,
          71,
          37,
          51,
          74,
          49,
          41,
          76,
          56,
          56,
          21,
          49,
          25,
          19,
          5,
          61,
          30,
          8,
          66,
          55,
          36,
          102,
          30,
          37,
          50,
          117,
          56,
          29,
          5,
          49,
          33,
          60,
          44,
          55,
          77,
          69,
          74,
          33,
          94,
          10,
          53,
          38,
          10,
          55,
          19,
          26,
          11,
          45,
          55,
          49,
          73,
          42,
          41,
          63,
          55,
          42,
          43,
          18,
          35,
          18,
          70,
          28,
          63,
          57,
          50,
          34,
          37,
          56,
          87,
          18,
          110,
          10,
          67,
          35,
          53,
          42,
          39,
          53,
          7,
          57,
          58,
          38,
          57,
          58,
          70,
          51,
          112,
          39,
          31,
          29,
          61,
          27,
          54,
          79,
          28
         ],
         "yaxis": "y"
        },
        {
         "alignmentgroup": "True",
         "hovertemplate": "Movie genres=Historical<br>Actor=%{x}<br>Number of Movies=%{y}<extra></extra>",
         "legendgroup": "Historical",
         "marker": {
          "color": "#19d3f3",
          "pattern": {
           "shape": ""
          }
         },
         "name": "Historical",
         "offsetgroup": "Historical",
         "orientation": "v",
         "showlegend": true,
         "textposition": "auto",
         "type": "bar",
         "x": [
          "Adrien Brody",
          "Al Pacino",
          "Alec Guinness",
          "Anne Bancroft",
          "Anthony Hopkins",
          "Audrey Hepburn",
          "Barbra Streisand",
          "Ben Kingsley",
          "Bette Davis",
          "Bing Crosby",
          "Burt Lancaster",
          "Charles Laughton",
          "Charlize Theron",
          "Charlton Heston",
          "Cher",
          "Clark Gable",
          "Claudette Colbert",
          "Cliff Robertson",
          "Colin Firth",
          "Daniel Day-Lewis",
          "Denzel Washington",
          "Diane Keaton",
          "Dustin Hoffman",
          "Elizabeth Taylor",
          "Ellen Burstyn",
          "Emil Jannings",
          "Emma Thompson",
          "Ernest Borgnine",
          "F. Murray Abraham",
          "Faye Dunaway",
          "Forest Whitaker",
          "Frances McDormand",
          "Fredric March",
          "Gary Cooper",
          "Gene Hackman",
          "Geoffrey Rush",
          "George Arliss",
          "George C. Scott",
          "Geraldine Page",
          "Ginger Rogers",
          "Glenda Jackson",
          "Greer Garson",
          "Gregory Peck",
          "Gwyneth Paltrow",
          "Halle Berry",
          "Helen Hayes",
          "Helen Hunt",
          "Helen Mirren",
          "Henry Fonda",
          "Hilary Swank",
          "Holly Hunter",
          "Humphrey Bogart",
          "Ingrid Bergman",
          "Jack Lemmon",
          "Jack Nicholson",
          "James Cagney",
          "James Stewart",
          "Jamie Foxx",
          "Jane Fonda",
          "Jane Wyman",
          "Jeff Bridges",
          "Jennifer Jones",
          "Jeremy Irons",
          "Jessica Lange",
          "Jessica Tandy",
          "Joan Crawford",
          "Joan Fontaine",
          "Joanne Woodward",
          "Jodie Foster",
          "John Wayne",
          "Jon Voight",
          "José Ferrer",
          "Julia Roberts",
          "Julie Andrews",
          "Julie Christie",
          "Kate Winslet",
          "Katharine Hepburn",
          "Kathy Bates",
          "Kevin Spacey",
          "Laurence Olivier",
          "Lee Marvin",
          "Lionel Barrymore",
          "Liza Minnelli",
          "Loretta Young",
          "Louise Fletcher",
          "Luise Rainer",
          "Maggie Smith",
          "Marie Dressler",
          "Marion Cotillard",
          "Marlee Matlin",
          "Marlon Brando",
          "Maximilian Schell",
          "Meryl Streep",
          "Michael Douglas",
          "Natalie Portman",
          "Nicolas Cage",
          "Nicole Kidman",
          "Olivia de Havilland",
          "Patricia Neal",
          "Paul Lukas",
          "Paul Muni",
          "Paul Newman",
          "Paul Scofield",
          "Peter Finch",
          "Philip Seymour Hoffman",
          "Ray Milland",
          "Reese Witherspoon",
          "Rex Harrison",
          "Richard Dreyfuss",
          "Robert De Niro",
          "Robert Donat",
          "Robert Duvall",
          "Roberto Benigni",
          "Rod Steiger",
          "Ronald Colman",
          "Russell Crowe",
          "Sally Field",
          "Sandra Bullock",
          "Sean Penn",
          "Shirley MacLaine",
          "Sidney Poitier",
          "Simone Signoret",
          "Sissy Spacek",
          "Sophia Loren",
          "Spencer Tracy",
          "Susan Hayward",
          "Susan Sarandon",
          "Tom Hanks",
          "Victor McLaglen",
          "Vivien Leigh",
          "Wallace Beery",
          "William Holden",
          "William Hurt",
          "Yul Brynner"
         ],
         "xaxis": "x",
         "y": [
          16,
          13,
          14,
          9,
          38,
          3,
          2,
          19,
          7,
          4,
          8,
          11,
          8,
          24,
          2,
          3,
          5,
          2,
          19,
          12,
          13,
          6,
          18,
          7,
          7,
          5,
          13,
          7,
          17,
          13,
          8,
          10,
          11,
          5,
          10,
          27,
          5,
          8,
          5,
          2,
          10,
          3,
          9,
          11,
          6,
          2,
          5,
          18,
          14,
          7,
          4,
          1,
          10,
          9,
          9,
          6,
          6,
          8,
          8,
          1,
          9,
          3,
          15,
          11,
          7,
          1,
          1,
          2,
          10,
          6,
          11,
          9,
          7,
          2,
          10,
          17,
          7,
          10,
          8,
          15,
          2,
          1,
          5,
          2,
          5,
          7,
          13,
          1,
          4,
          2,
          8,
          12,
          16,
          2,
          5,
          9,
          11,
          13,
          3,
          3,
          7,
          9,
          8,
          6,
          15,
          3,
          10,
          10,
          11,
          21,
          5,
          17,
          2,
          14,
          3,
          8,
          2,
          6,
          19,
          7,
          6,
          2,
          15,
          8,
          4,
          5,
          16,
          9,
          2,
          5,
          1,
          3,
          12,
          9
         ],
         "yaxis": "y"
        },
        {
         "alignmentgroup": "True",
         "hovertemplate": "Movie genres=Horror<br>Actor=%{x}<br>Number of Movies=%{y}<extra></extra>",
         "legendgroup": "Horror",
         "marker": {
          "color": "#FF6692",
          "pattern": {
           "shape": ""
          }
         },
         "name": "Horror",
         "offsetgroup": "Horror",
         "orientation": "v",
         "showlegend": true,
         "textposition": "auto",
         "type": "bar",
         "x": [
          "Adrien Brody",
          "Al Pacino",
          "Alec Guinness",
          "Anne Bancroft",
          "Anthony Hopkins",
          "Art Carney",
          "Audrey Hepburn",
          "Ben Kingsley",
          "Bette Davis",
          "Bing Crosby",
          "Broderick Crawford",
          "Burt Lancaster",
          "Charles Laughton",
          "Charlize Theron",
          "Charlton Heston",
          "Cher",
          "Cliff Robertson",
          "Colin Firth",
          "Dustin Hoffman",
          "Ellen Burstyn",
          "Emil Jannings",
          "Emma Thompson",
          "Ernest Borgnine",
          "F. Murray Abraham",
          "Faye Dunaway",
          "Forest Whitaker",
          "Frances McDormand",
          "Fredric March",
          "Gene Hackman",
          "Geoffrey Rush",
          "George C. Scott",
          "Geraldine Page",
          "Ginger Rogers",
          "Grace Kelly",
          "Gregory Peck",
          "Halle Berry",
          "Helen Hunt",
          "Henry Fonda",
          "Hilary Swank",
          "Holly Hunter",
          "Humphrey Bogart",
          "Ingrid Bergman",
          "Jack Nicholson",
          "James Cagney",
          "Jane Fonda",
          "Jeff Bridges",
          "Jennifer Lawrence",
          "Jeremy Irons",
          "Jessica Lange",
          "Jessica Tandy",
          "Joan Crawford",
          "Joan Fontaine",
          "Jodie Foster",
          "Jon Voight",
          "José Ferrer",
          "Julia Roberts",
          "Julie Christie",
          "Kathy Bates",
          "Laurence Olivier",
          "Lee Marvin",
          "Lionel Barrymore",
          "Louise Fletcher",
          "Marlee Matlin",
          "Marlon Brando",
          "Mary Pickford",
          "Maximilian Schell",
          "Meryl Streep",
          "Michael Douglas",
          "Natalie Portman",
          "Nicolas Cage",
          "Nicole Kidman",
          "Olivia de Havilland",
          "Patricia Neal",
          "Paul Lukas",
          "Philip Seymour Hoffman",
          "Ray Milland",
          "Reese Witherspoon",
          "Richard Dreyfuss",
          "Robert De Niro",
          "Rod Steiger",
          "Russell Crowe",
          "Sally Field",
          "Shirley MacLaine",
          "Sissy Spacek",
          "Spencer Tracy",
          "Susan Hayward",
          "Susan Sarandon",
          "Tom Hanks",
          "Vivien Leigh",
          "Wallace Beery",
          "Warner Baxter",
          "William Holden",
          "William Hurt"
         ],
         "xaxis": "x",
         "y": [
          5,
          1,
          1,
          1,
          11,
          1,
          1,
          6,
          7,
          1,
          2,
          2,
          3,
          5,
          4,
          1,
          3,
          2,
          2,
          3,
          3,
          1,
          6,
          7,
          3,
          4,
          1,
          2,
          1,
          1,
          3,
          2,
          1,
          1,
          2,
          1,
          1,
          4,
          3,
          2,
          2,
          1,
          6,
          2,
          3,
          1,
          1,
          3,
          1,
          2,
          8,
          2,
          2,
          2,
          9,
          2,
          5,
          1,
          2,
          1,
          4,
          10,
          1,
          2,
          1,
          1,
          1,
          3,
          1,
          8,
          2,
          3,
          1,
          3,
          4,
          13,
          2,
          1,
          7,
          5,
          1,
          1,
          1,
          5,
          1,
          1,
          3,
          3,
          1,
          2,
          1,
          1,
          2
         ],
         "yaxis": "y"
        },
        {
         "alignmentgroup": "True",
         "hovertemplate": "Movie genres=Musical<br>Actor=%{x}<br>Number of Movies=%{y}<extra></extra>",
         "legendgroup": "Musical",
         "marker": {
          "color": "#B6E880",
          "pattern": {
           "shape": ""
          }
         },
         "name": "Musical",
         "offsetgroup": "Musical",
         "orientation": "v",
         "showlegend": true,
         "textposition": "auto",
         "type": "bar",
         "x": [
          "Adrien Brody",
          "Alec Guinness",
          "Anne Bancroft",
          "Anthony Hopkins",
          "Art Carney",
          "Audrey Hepburn",
          "Barbra Streisand",
          "Ben Kingsley",
          "Bette Davis",
          "Bing Crosby",
          "Broderick Crawford",
          "Burt Lancaster",
          "Charles Laughton",
          "Charlize Theron",
          "Cher",
          "Clark Gable",
          "Claudette Colbert",
          "Cliff Robertson",
          "Colin Firth",
          "Daniel Day-Lewis",
          "Denzel Washington",
          "Elizabeth Taylor",
          "Emil Jannings",
          "Emma Thompson",
          "Ernest Borgnine",
          "Forest Whitaker",
          "Frances McDormand",
          "Fredric March",
          "Gary Cooper",
          "Geoffrey Rush",
          "George C. Scott",
          "Geraldine Page",
          "Ginger Rogers",
          "Glenda Jackson",
          "Grace Kelly",
          "Greer Garson",
          "Gwyneth Paltrow",
          "Halle Berry",
          "Helen Hayes",
          "Helen Hunt",
          "Helen Mirren",
          "Henry Fonda",
          "Humphrey Bogart",
          "Ingrid Bergman",
          "Jack Lemmon",
          "Jack Nicholson",
          "James Cagney",
          "James Stewart",
          "Jamie Foxx",
          "Jane Fonda",
          "Jane Wyman",
          "Janet Gaynor",
          "Jeff Bridges",
          "Jeremy Irons",
          "Jessica Lange",
          "Joan Crawford",
          "Joan Fontaine",
          "Jodie Foster",
          "John Wayne",
          "José Ferrer",
          "Judy Holliday",
          "Julia Roberts",
          "Julie Andrews",
          "Kate Winslet",
          "Kathy Bates",
          "Kevin Spacey",
          "Laurence Olivier",
          "Lee Marvin",
          "Lionel Barrymore",
          "Liza Minnelli",
          "Loretta Young",
          "Luise Rainer",
          "Maggie Smith",
          "Marie Dressler",
          "Marion Cotillard",
          "Marlon Brando",
          "Meryl Streep",
          "Michael Douglas",
          "Natalie Portman",
          "Nicolas Cage",
          "Nicole Kidman",
          "Norma Shearer",
          "Olivia de Havilland",
          "Paul Lukas",
          "Paul Muni",
          "Paul Newman",
          "Peter Finch",
          "Philip Seymour Hoffman",
          "Ray Milland",
          "Reese Witherspoon",
          "Rex Harrison",
          "Richard Dreyfuss",
          "Robert De Niro",
          "Robert Duvall",
          "Rod Steiger",
          "Russell Crowe",
          "Sandra Bullock",
          "Shirley Booth",
          "Shirley MacLaine",
          "Sidney Poitier",
          "Sissy Spacek",
          "Sophia Loren",
          "Spencer Tracy",
          "Susan Hayward",
          "Susan Sarandon",
          "Tom Hanks",
          "Victor McLaglen",
          "Wallace Beery",
          "Warner Baxter",
          "William Holden",
          "Yul Brynner"
         ],
         "xaxis": "x",
         "y": [
          2,
          1,
          1,
          1,
          4,
          2,
          10,
          3,
          2,
          50,
          3,
          2,
          1,
          1,
          2,
          4,
          9,
          1,
          1,
          1,
          1,
          8,
          1,
          1,
          3,
          1,
          2,
          3,
          2,
          4,
          1,
          2,
          16,
          1,
          2,
          2,
          2,
          1,
          1,
          2,
          3,
          1,
          5,
          2,
          4,
          4,
          5,
          5,
          5,
          1,
          6,
          5,
          3,
          4,
          4,
          8,
          4,
          2,
          6,
          2,
          1,
          1,
          8,
          1,
          2,
          2,
          4,
          4,
          1,
          8,
          5,
          4,
          3,
          3,
          2,
          1,
          3,
          2,
          1,
          1,
          3,
          1,
          2,
          1,
          1,
          2,
          1,
          1,
          7,
          1,
          3,
          6,
          1,
          2,
          1,
          1,
          2,
          1,
          3,
          2,
          1,
          4,
          2,
          2,
          5,
          2,
          5,
          3,
          7,
          3,
          1
         ],
         "yaxis": "y"
        },
        {
         "alignmentgroup": "True",
         "hovertemplate": "Movie genres=Other<br>Actor=%{x}<br>Number of Movies=%{y}<extra></extra>",
         "legendgroup": "Other",
         "marker": {
          "color": "#FF97FF",
          "pattern": {
           "shape": ""
          }
         },
         "name": "Other",
         "offsetgroup": "Other",
         "orientation": "v",
         "showlegend": true,
         "textposition": "auto",
         "type": "bar",
         "x": [
          "Adrien Brody",
          "Al Pacino",
          "Alec Guinness",
          "Anna Magnani",
          "Anne Bancroft",
          "Anthony Hopkins",
          "Art Carney",
          "Audrey Hepburn",
          "Barbra Streisand",
          "Ben Kingsley",
          "Bette Davis",
          "Bing Crosby",
          "Broderick Crawford",
          "Burt Lancaster",
          "Charles Laughton",
          "Charlize Theron",
          "Charlton Heston",
          "Cher",
          "Clark Gable",
          "Claudette Colbert",
          "Cliff Robertson",
          "Colin Firth",
          "Daniel Day-Lewis",
          "Denzel Washington",
          "Diane Keaton",
          "Dustin Hoffman",
          "Elizabeth Taylor",
          "Ellen Burstyn",
          "Emil Jannings",
          "Emma Thompson",
          "Ernest Borgnine",
          "F. Murray Abraham",
          "Faye Dunaway",
          "Forest Whitaker",
          "Frances McDormand",
          "Fredric March",
          "Gary Cooper",
          "Gene Hackman",
          "Geoffrey Rush",
          "George Arliss",
          "George C. Scott",
          "Geraldine Page",
          "Ginger Rogers",
          "Glenda Jackson",
          "Grace Kelly",
          "Greer Garson",
          "Gregory Peck",
          "Gwyneth Paltrow",
          "Halle Berry",
          "Helen Hayes",
          "Helen Hunt",
          "Helen Mirren",
          "Henry Fonda",
          "Hilary Swank",
          "Holly Hunter",
          "Humphrey Bogart",
          "Ingrid Bergman",
          "Jack Lemmon",
          "Jack Nicholson",
          "James Cagney",
          "James Stewart",
          "Jamie Foxx",
          "Jane Fonda",
          "Jane Wyman",
          "Janet Gaynor",
          "Jean Dujardin",
          "Jeff Bridges",
          "Jennifer Jones",
          "Jennifer Lawrence",
          "Jeremy Irons",
          "Jessica Lange",
          "Jessica Tandy",
          "Joan Crawford",
          "Joan Fontaine",
          "Joanne Woodward",
          "Jodie Foster",
          "John Wayne",
          "Jon Voight",
          "José Ferrer",
          "Judy Holliday",
          "Julia Roberts",
          "Julie Andrews",
          "Julie Christie",
          "Kate Winslet",
          "Katharine Hepburn",
          "Kathy Bates",
          "Kevin Spacey",
          "Laurence Olivier",
          "Lee Marvin",
          "Lionel Barrymore",
          "Liza Minnelli",
          "Loretta Young",
          "Louise Fletcher",
          "Luise Rainer",
          "Maggie Smith",
          "Marie Dressler",
          "Marion Cotillard",
          "Marlee Matlin",
          "Marlon Brando",
          "Mary Pickford",
          "Maximilian Schell",
          "Meryl Streep",
          "Michael Douglas",
          "Natalie Portman",
          "Nicolas Cage",
          "Nicole Kidman",
          "Norma Shearer",
          "Olivia de Havilland",
          "Patricia Neal",
          "Paul Lukas",
          "Paul Muni",
          "Paul Newman",
          "Paul Scofield",
          "Peter Finch",
          "Philip Seymour Hoffman",
          "Ray Milland",
          "Reese Witherspoon",
          "Rex Harrison",
          "Richard Dreyfuss",
          "Robert De Niro",
          "Robert Donat",
          "Robert Duvall",
          "Roberto Benigni",
          "Rod Steiger",
          "Ronald Colman",
          "Russell Crowe",
          "Sally Field",
          "Sandra Bullock",
          "Sean Penn",
          "Shirley Booth",
          "Shirley MacLaine",
          "Sidney Poitier",
          "Simone Signoret",
          "Sissy Spacek",
          "Sophia Loren",
          "Spencer Tracy",
          "Susan Hayward",
          "Susan Sarandon",
          "Tom Hanks",
          "Victor McLaglen",
          "Vivien Leigh",
          "Wallace Beery",
          "Warner Baxter",
          "William Holden",
          "William Hurt",
          "Yul Brynner"
         ],
         "xaxis": "x",
         "y": [
          53,
          73,
          77,
          14,
          59,
          116,
          25,
          31,
          12,
          102,
          133,
          66,
          44,
          71,
          66,
          54,
          95,
          16,
          85,
          86,
          44,
          62,
          32,
          50,
          55,
          83,
          59,
          74,
          43,
          67,
          100,
          50,
          99,
          75,
          50,
          58,
          114,
          93,
          63,
          22,
          69,
          34,
          70,
          27,
          7,
          27,
          57,
          42,
          49,
          27,
          47,
          78,
          84,
          40,
          64,
          90,
          56,
          60,
          99,
          82,
          95,
          31,
          38,
          18,
          42,
          8,
          94,
          26,
          8,
          82,
          52,
          36,
          130,
          30,
          19,
          60,
          189,
          76,
          53,
          7,
          62,
          69,
          46,
          49,
          62,
          99,
          62,
          80,
          41,
          152,
          24,
          69,
          53,
          12,
          79,
          19,
          30,
          9,
          56,
          143,
          47,
          78,
          46,
          58,
          112,
          58,
          63,
          53,
          18,
          40,
          32,
          74,
          17,
          38,
          67,
          70,
          42,
          44,
          69,
          125,
          25,
          104,
          23,
          81,
          53,
          52,
          49,
          32,
          70,
          3,
          51,
          53,
          26,
          58,
          45,
          68,
          45,
          109,
          69,
          49,
          28,
          133,
          41,
          51,
          77,
          25
         ],
         "yaxis": "y"
        },
        {
         "alignmentgroup": "True",
         "hovertemplate": "Movie genres=Romance<br>Actor=%{x}<br>Number of Movies=%{y}<extra></extra>",
         "legendgroup": "Romance",
         "marker": {
          "color": "#FECB52",
          "pattern": {
           "shape": ""
          }
         },
         "name": "Romance",
         "offsetgroup": "Romance",
         "orientation": "v",
         "showlegend": true,
         "textposition": "auto",
         "type": "bar",
         "x": [
          "Adrien Brody",
          "Al Pacino",
          "Alec Guinness",
          "Anna Magnani",
          "Anne Bancroft",
          "Anthony Hopkins",
          "Art Carney",
          "Audrey Hepburn",
          "Barbra Streisand",
          "Ben Kingsley",
          "Bette Davis",
          "Bing Crosby",
          "Broderick Crawford",
          "Burt Lancaster",
          "Charles Laughton",
          "Charlize Theron",
          "Charlton Heston",
          "Cher",
          "Clark Gable",
          "Claudette Colbert",
          "Cliff Robertson",
          "Colin Firth",
          "Daniel Day-Lewis",
          "Denzel Washington",
          "Diane Keaton",
          "Dustin Hoffman",
          "Elizabeth Taylor",
          "Ellen Burstyn",
          "Emil Jannings",
          "Emma Thompson",
          "Ernest Borgnine",
          "F. Murray Abraham",
          "Faye Dunaway",
          "Forest Whitaker",
          "Frances McDormand",
          "Fredric March",
          "Gary Cooper",
          "Gene Hackman",
          "Geoffrey Rush",
          "George Arliss",
          "George C. Scott",
          "Geraldine Page",
          "Ginger Rogers",
          "Glenda Jackson",
          "Grace Kelly",
          "Greer Garson",
          "Gregory Peck",
          "Gwyneth Paltrow",
          "Halle Berry",
          "Helen Hayes",
          "Helen Hunt",
          "Helen Mirren",
          "Henry Fonda",
          "Hilary Swank",
          "Holly Hunter",
          "Humphrey Bogart",
          "Ingrid Bergman",
          "Jack Lemmon",
          "Jack Nicholson",
          "James Cagney",
          "James Stewart",
          "Jamie Foxx",
          "Jane Fonda",
          "Jane Wyman",
          "Janet Gaynor",
          "Jean Dujardin",
          "Jeff Bridges",
          "Jennifer Jones",
          "Jennifer Lawrence",
          "Jeremy Irons",
          "Jessica Lange",
          "Jessica Tandy",
          "Joan Crawford",
          "Joan Fontaine",
          "Joanne Woodward",
          "Jodie Foster",
          "John Wayne",
          "Jon Voight",
          "José Ferrer",
          "Judy Holliday",
          "Julia Roberts",
          "Julie Andrews",
          "Julie Christie",
          "Kate Winslet",
          "Katharine Hepburn",
          "Kathy Bates",
          "Kevin Spacey",
          "Laurence Olivier",
          "Lee Marvin",
          "Lionel Barrymore",
          "Liza Minnelli",
          "Loretta Young",
          "Louise Fletcher",
          "Luise Rainer",
          "Maggie Smith",
          "Marie Dressler",
          "Marion Cotillard",
          "Marlee Matlin",
          "Marlon Brando",
          "Mary Pickford",
          "Maximilian Schell",
          "Meryl Streep",
          "Michael Douglas",
          "Natalie Portman",
          "Nicolas Cage",
          "Nicole Kidman",
          "Norma Shearer",
          "Olivia de Havilland",
          "Patricia Neal",
          "Paul Lukas",
          "Paul Newman",
          "Paul Scofield",
          "Peter Finch",
          "Philip Seymour Hoffman",
          "Ray Milland",
          "Reese Witherspoon",
          "Rex Harrison",
          "Richard Dreyfuss",
          "Robert De Niro",
          "Robert Donat",
          "Robert Duvall",
          "Roberto Benigni",
          "Rod Steiger",
          "Ronald Colman",
          "Russell Crowe",
          "Sally Field",
          "Sandra Bullock",
          "Sean Penn",
          "Shirley Booth",
          "Shirley MacLaine",
          "Sidney Poitier",
          "Simone Signoret",
          "Sissy Spacek",
          "Sophia Loren",
          "Spencer Tracy",
          "Susan Hayward",
          "Susan Sarandon",
          "Tom Hanks",
          "Victor McLaglen",
          "Vivien Leigh",
          "Wallace Beery",
          "Warner Baxter",
          "William Holden",
          "William Hurt",
          "Yul Brynner"
         ],
         "xaxis": "x",
         "y": [
          12,
          8,
          10,
          3,
          16,
          22,
          4,
          17,
          16,
          12,
          31,
          13,
          5,
          8,
          7,
          8,
          13,
          3,
          31,
          24,
          8,
          21,
          9,
          5,
          20,
          10,
          18,
          16,
          1,
          15,
          8,
          5,
          13,
          6,
          6,
          15,
          30,
          8,
          12,
          4,
          3,
          4,
          28,
          9,
          5,
          8,
          16,
          19,
          8,
          3,
          13,
          12,
          23,
          4,
          13,
          10,
          16,
          20,
          13,
          12,
          19,
          3,
          14,
          9,
          15,
          1,
          11,
          11,
          2,
          14,
          8,
          8,
          26,
          12,
          8,
          7,
          30,
          6,
          4,
          6,
          23,
          14,
          20,
          12,
          26,
          22,
          6,
          17,
          2,
          18,
          8,
          20,
          6,
          4,
          14,
          6,
          7,
          1,
          9,
          13,
          4,
          17,
          8,
          13,
          14,
          21,
          14,
          21,
          3,
          8,
          13,
          1,
          10,
          12,
          13,
          17,
          9,
          15,
          13,
          3,
          15,
          5,
          5,
          13,
          11,
          10,
          16,
          7,
          3,
          30,
          6,
          3,
          11,
          23,
          20,
          17,
          26,
          12,
          7,
          8,
          12,
          7,
          14,
          13,
          5
         ],
         "yaxis": "y"
        },
        {
         "alignmentgroup": "True",
         "hovertemplate": "Movie genres=SciFi/Fantasy<br>Actor=%{x}<br>Number of Movies=%{y}<extra></extra>",
         "legendgroup": "SciFi/Fantasy",
         "marker": {
          "color": "#636efa",
          "pattern": {
           "shape": ""
          }
         },
         "name": "SciFi/Fantasy",
         "offsetgroup": "SciFi/Fantasy",
         "orientation": "v",
         "showlegend": true,
         "textposition": "auto",
         "type": "bar",
         "x": [
          "Adrien Brody",
          "Al Pacino",
          "Alec Guinness",
          "Anne Bancroft",
          "Anthony Hopkins",
          "Art Carney",
          "Audrey Hepburn",
          "Barbra Streisand",
          "Ben Kingsley",
          "Bette Davis",
          "Bing Crosby",
          "Broderick Crawford",
          "Burt Lancaster",
          "Charles Laughton",
          "Charlize Theron",
          "Charlton Heston",
          "Cher",
          "Cliff Robertson",
          "Colin Firth",
          "Denzel Washington",
          "Diane Keaton",
          "Dustin Hoffman",
          "Elizabeth Taylor",
          "Ellen Burstyn",
          "Emil Jannings",
          "Emma Thompson",
          "Ernest Borgnine",
          "F. Murray Abraham",
          "Faye Dunaway",
          "Forest Whitaker",
          "Frances McDormand",
          "Fredric March",
          "Gary Cooper",
          "Gene Hackman",
          "Geoffrey Rush",
          "George C. Scott",
          "Geraldine Page",
          "Gregory Peck",
          "Gwyneth Paltrow",
          "Halle Berry",
          "Helen Hayes",
          "Helen Hunt",
          "Helen Mirren",
          "Henry Fonda",
          "Hilary Swank",
          "Holly Hunter",
          "Humphrey Bogart",
          "Ingrid Bergman",
          "Jack Lemmon",
          "Jack Nicholson",
          "James Cagney",
          "James Stewart",
          "Jamie Foxx",
          "Jane Fonda",
          "Jean Dujardin",
          "Jeff Bridges",
          "Jennifer Jones",
          "Jennifer Lawrence",
          "Jeremy Irons",
          "Jessica Lange",
          "Jessica Tandy",
          "Joan Fontaine",
          "Jodie Foster",
          "John Wayne",
          "Jon Voight",
          "José Ferrer",
          "Julia Roberts",
          "Julie Andrews",
          "Julie Christie",
          "Kate Winslet",
          "Kathy Bates",
          "Kevin Spacey",
          "Laurence Olivier",
          "Lionel Barrymore",
          "Liza Minnelli",
          "Loretta Young",
          "Louise Fletcher",
          "Maggie Smith",
          "Marion Cotillard",
          "Marlee Matlin",
          "Marlon Brando",
          "Mary Pickford",
          "Maximilian Schell",
          "Meryl Streep",
          "Michael Douglas",
          "Natalie Portman",
          "Nicolas Cage",
          "Nicole Kidman",
          "Olivia de Havilland",
          "Patricia Neal",
          "Paul Lukas",
          "Paul Muni",
          "Paul Newman",
          "Peter Finch",
          "Philip Seymour Hoffman",
          "Ray Milland",
          "Reese Witherspoon",
          "Rex Harrison",
          "Richard Dreyfuss",
          "Robert De Niro",
          "Robert Donat",
          "Robert Duvall",
          "Roberto Benigni",
          "Rod Steiger",
          "Ronald Colman",
          "Russell Crowe",
          "Sally Field",
          "Sandra Bullock",
          "Sean Penn",
          "Shirley Booth",
          "Shirley MacLaine",
          "Sissy Spacek",
          "Sophia Loren",
          "Spencer Tracy",
          "Susan Hayward",
          "Susan Sarandon",
          "Tom Hanks",
          "Victor McLaglen",
          "Wallace Beery",
          "William Hurt",
          "Yul Brynner"
         ],
         "xaxis": "x",
         "y": [
          7,
          3,
          11,
          4,
          14,
          6,
          1,
          2,
          19,
          5,
          4,
          2,
          2,
          1,
          9,
          8,
          2,
          8,
          6,
          7,
          1,
          9,
          2,
          4,
          4,
          12,
          15,
          8,
          8,
          8,
          5,
          4,
          1,
          8,
          7,
          6,
          2,
          3,
          13,
          13,
          1,
          9,
          13,
          1,
          2,
          3,
          1,
          2,
          2,
          7,
          1,
          5,
          2,
          3,
          1,
          16,
          2,
          3,
          7,
          4,
          4,
          1,
          4,
          2,
          8,
          2,
          5,
          13,
          13,
          9,
          6,
          7,
          2,
          4,
          5,
          2,
          8,
          23,
          5,
          2,
          5,
          1,
          2,
          5,
          1,
          15,
          19,
          7,
          1,
          1,
          3,
          1,
          2,
          1,
          1,
          7,
          6,
          5,
          5,
          8,
          1,
          7,
          2,
          3,
          3,
          4,
          3,
          8,
          2,
          1,
          3,
          2,
          3,
          3,
          1,
          7,
          20,
          1,
          4,
          11,
          3
         ],
         "yaxis": "y"
        },
        {
         "alignmentgroup": "True",
         "hovertemplate": "Movie genres=Documentary<br>Actor=%{x}<br>Number of Movies=%{y}<extra></extra>",
         "legendgroup": "Documentary",
         "marker": {
          "color": "#EF553B",
          "pattern": {
           "shape": ""
          }
         },
         "name": "Documentary",
         "offsetgroup": "Documentary",
         "orientation": "v",
         "showlegend": true,
         "textposition": "auto",
         "type": "bar",
         "x": [
          "Al Pacino",
          "Alec Guinness",
          "Audrey Hepburn",
          "Bing Crosby",
          "Charlton Heston",
          "Clark Gable",
          "Claudette Colbert",
          "Dustin Hoffman",
          "Elizabeth Taylor",
          "Ellen Burstyn",
          "Ernest Borgnine",
          "F. Murray Abraham",
          "Faye Dunaway",
          "Frances McDormand",
          "Gary Cooper",
          "Gene Hackman",
          "Glenda Jackson",
          "Grace Kelly",
          "Gregory Peck",
          "Helen Hayes",
          "Henry Fonda",
          "Hilary Swank",
          "Holly Hunter",
          "Ingrid Bergman",
          "James Cagney",
          "Jamie Foxx",
          "Jane Fonda",
          "Jeremy Irons",
          "Joanne Woodward",
          "Jodie Foster",
          "John Wayne",
          "Julie Christie",
          "Kathy Bates",
          "Kevin Spacey",
          "Laurence Olivier",
          "Liza Minnelli",
          "Luise Rainer",
          "Marlee Matlin",
          "Marlon Brando",
          "Maximilian Schell",
          "Meryl Streep",
          "Michael Douglas",
          "Patricia Neal",
          "Paul Newman",
          "Peter Finch",
          "Ray Milland",
          "Robert De Niro",
          "Robert Duvall",
          "Roberto Benigni",
          "Sean Penn",
          "Shirley MacLaine",
          "Sissy Spacek",
          "Susan Sarandon",
          "Tom Hanks",
          "William Holden"
         ],
         "xaxis": "x",
         "y": [
          1,
          1,
          1,
          2,
          1,
          3,
          2,
          2,
          2,
          3,
          1,
          1,
          1,
          2,
          1,
          1,
          1,
          1,
          3,
          1,
          4,
          1,
          2,
          1,
          1,
          3,
          4,
          2,
          1,
          3,
          1,
          2,
          1,
          1,
          1,
          3,
          1,
          1,
          1,
          1,
          2,
          2,
          2,
          2,
          1,
          1,
          3,
          1,
          1,
          6,
          2,
          1,
          4,
          3,
          1
         ],
         "yaxis": "y"
        },
        {
         "alignmentgroup": "True",
         "hovertemplate": "Movie genres=Western<br>Actor=%{x}<br>Number of Movies=%{y}<extra></extra>",
         "legendgroup": "Western",
         "marker": {
          "color": "#00cc96",
          "pattern": {
           "shape": ""
          }
         },
         "name": "Western",
         "offsetgroup": "Western",
         "orientation": "v",
         "showlegend": true,
         "textposition": "auto",
         "type": "bar",
         "x": [
          "Alec Guinness",
          "Anne Bancroft",
          "Anthony Hopkins",
          "Audrey Hepburn",
          "Bing Crosby",
          "Broderick Crawford",
          "Burt Lancaster",
          "Charles Laughton",
          "Charlton Heston",
          "Clark Gable",
          "Claudette Colbert",
          "Cliff Robertson",
          "Colin Firth",
          "Denzel Washington",
          "Dustin Hoffman",
          "Elizabeth Taylor",
          "Ernest Borgnine",
          "Faye Dunaway",
          "Forest Whitaker",
          "Frances McDormand",
          "Fredric March",
          "Gary Cooper",
          "Gene Hackman",
          "Geoffrey Rush",
          "George C. Scott",
          "Geraldine Page",
          "Ginger Rogers",
          "Grace Kelly",
          "Gregory Peck",
          "Henry Fonda",
          "Humphrey Bogart",
          "Jack Lemmon",
          "Jack Nicholson",
          "James Cagney",
          "James Stewart",
          "Jamie Foxx",
          "Jane Fonda",
          "Jeff Bridges",
          "Jennifer Jones",
          "Jeremy Irons",
          "Jessica Lange",
          "Jessica Tandy",
          "Joan Crawford",
          "Joanne Woodward",
          "Jodie Foster",
          "John Wayne",
          "Jon Voight",
          "Julia Roberts",
          "Julie Christie",
          "Katharine Hepburn",
          "Kathy Bates",
          "Lee Marvin",
          "Lionel Barrymore",
          "Loretta Young",
          "Marlee Matlin",
          "Marlon Brando",
          "Mary Pickford",
          "Maximilian Schell",
          "Nicole Kidman",
          "Olivia de Havilland",
          "Patricia Neal",
          "Paul Newman",
          "Peter Finch",
          "Ray Milland",
          "Robert Duvall",
          "Rod Steiger",
          "Ronald Colman",
          "Russell Crowe",
          "Sally Field",
          "Shirley MacLaine",
          "Sidney Poitier",
          "Sophia Loren",
          "Spencer Tracy",
          "Susan Hayward",
          "Victor McLaglen",
          "Vivien Leigh",
          "Wallace Beery",
          "Warner Baxter",
          "William Holden",
          "Yul Brynner"
         ],
         "xaxis": "x",
         "y": [
          1,
          3,
          3,
          1,
          2,
          3,
          19,
          1,
          13,
          11,
          4,
          3,
          2,
          1,
          8,
          1,
          14,
          5,
          1,
          1,
          2,
          24,
          10,
          3,
          1,
          2,
          1,
          1,
          16,
          28,
          4,
          1,
          8,
          3,
          28,
          2,
          3,
          9,
          2,
          1,
          2,
          1,
          7,
          2,
          2,
          110,
          4,
          1,
          2,
          2,
          3,
          16,
          6,
          2,
          1,
          5,
          4,
          1,
          1,
          3,
          1,
          10,
          1,
          3,
          12,
          9,
          1,
          2,
          1,
          2,
          5,
          4,
          6,
          7,
          2,
          2,
          13,
          3,
          11,
          10
         ],
         "yaxis": "y"
        }
       ],
       "layout": {
        "barmode": "stack",
        "height": 800,
        "legend": {
         "title": {
          "text": "Genre"
         },
         "tracegroupgap": 0
        },
        "showlegend": true,
        "template": {
         "data": {
          "bar": [
           {
            "error_x": {
             "color": "#2a3f5f"
            },
            "error_y": {
             "color": "#2a3f5f"
            },
            "marker": {
             "line": {
              "color": "#E5ECF6",
              "width": 0.5
             },
             "pattern": {
              "fillmode": "overlay",
              "size": 10,
              "solidity": 0.2
             }
            },
            "type": "bar"
           }
          ],
          "barpolar": [
           {
            "marker": {
             "line": {
              "color": "#E5ECF6",
              "width": 0.5
             },
             "pattern": {
              "fillmode": "overlay",
              "size": 10,
              "solidity": 0.2
             }
            },
            "type": "barpolar"
           }
          ],
          "carpet": [
           {
            "aaxis": {
             "endlinecolor": "#2a3f5f",
             "gridcolor": "white",
             "linecolor": "white",
             "minorgridcolor": "white",
             "startlinecolor": "#2a3f5f"
            },
            "baxis": {
             "endlinecolor": "#2a3f5f",
             "gridcolor": "white",
             "linecolor": "white",
             "minorgridcolor": "white",
             "startlinecolor": "#2a3f5f"
            },
            "type": "carpet"
           }
          ],
          "choropleth": [
           {
            "colorbar": {
             "outlinewidth": 0,
             "ticks": ""
            },
            "type": "choropleth"
           }
          ],
          "contour": [
           {
            "colorbar": {
             "outlinewidth": 0,
             "ticks": ""
            },
            "colorscale": [
             [
              0,
              "#0d0887"
             ],
             [
              0.1111111111111111,
              "#46039f"
             ],
             [
              0.2222222222222222,
              "#7201a8"
             ],
             [
              0.3333333333333333,
              "#9c179e"
             ],
             [
              0.4444444444444444,
              "#bd3786"
             ],
             [
              0.5555555555555556,
              "#d8576b"
             ],
             [
              0.6666666666666666,
              "#ed7953"
             ],
             [
              0.7777777777777778,
              "#fb9f3a"
             ],
             [
              0.8888888888888888,
              "#fdca26"
             ],
             [
              1,
              "#f0f921"
             ]
            ],
            "type": "contour"
           }
          ],
          "contourcarpet": [
           {
            "colorbar": {
             "outlinewidth": 0,
             "ticks": ""
            },
            "type": "contourcarpet"
           }
          ],
          "heatmap": [
           {
            "colorbar": {
             "outlinewidth": 0,
             "ticks": ""
            },
            "colorscale": [
             [
              0,
              "#0d0887"
             ],
             [
              0.1111111111111111,
              "#46039f"
             ],
             [
              0.2222222222222222,
              "#7201a8"
             ],
             [
              0.3333333333333333,
              "#9c179e"
             ],
             [
              0.4444444444444444,
              "#bd3786"
             ],
             [
              0.5555555555555556,
              "#d8576b"
             ],
             [
              0.6666666666666666,
              "#ed7953"
             ],
             [
              0.7777777777777778,
              "#fb9f3a"
             ],
             [
              0.8888888888888888,
              "#fdca26"
             ],
             [
              1,
              "#f0f921"
             ]
            ],
            "type": "heatmap"
           }
          ],
          "heatmapgl": [
           {
            "colorbar": {
             "outlinewidth": 0,
             "ticks": ""
            },
            "colorscale": [
             [
              0,
              "#0d0887"
             ],
             [
              0.1111111111111111,
              "#46039f"
             ],
             [
              0.2222222222222222,
              "#7201a8"
             ],
             [
              0.3333333333333333,
              "#9c179e"
             ],
             [
              0.4444444444444444,
              "#bd3786"
             ],
             [
              0.5555555555555556,
              "#d8576b"
             ],
             [
              0.6666666666666666,
              "#ed7953"
             ],
             [
              0.7777777777777778,
              "#fb9f3a"
             ],
             [
              0.8888888888888888,
              "#fdca26"
             ],
             [
              1,
              "#f0f921"
             ]
            ],
            "type": "heatmapgl"
           }
          ],
          "histogram": [
           {
            "marker": {
             "pattern": {
              "fillmode": "overlay",
              "size": 10,
              "solidity": 0.2
             }
            },
            "type": "histogram"
           }
          ],
          "histogram2d": [
           {
            "colorbar": {
             "outlinewidth": 0,
             "ticks": ""
            },
            "colorscale": [
             [
              0,
              "#0d0887"
             ],
             [
              0.1111111111111111,
              "#46039f"
             ],
             [
              0.2222222222222222,
              "#7201a8"
             ],
             [
              0.3333333333333333,
              "#9c179e"
             ],
             [
              0.4444444444444444,
              "#bd3786"
             ],
             [
              0.5555555555555556,
              "#d8576b"
             ],
             [
              0.6666666666666666,
              "#ed7953"
             ],
             [
              0.7777777777777778,
              "#fb9f3a"
             ],
             [
              0.8888888888888888,
              "#fdca26"
             ],
             [
              1,
              "#f0f921"
             ]
            ],
            "type": "histogram2d"
           }
          ],
          "histogram2dcontour": [
           {
            "colorbar": {
             "outlinewidth": 0,
             "ticks": ""
            },
            "colorscale": [
             [
              0,
              "#0d0887"
             ],
             [
              0.1111111111111111,
              "#46039f"
             ],
             [
              0.2222222222222222,
              "#7201a8"
             ],
             [
              0.3333333333333333,
              "#9c179e"
             ],
             [
              0.4444444444444444,
              "#bd3786"
             ],
             [
              0.5555555555555556,
              "#d8576b"
             ],
             [
              0.6666666666666666,
              "#ed7953"
             ],
             [
              0.7777777777777778,
              "#fb9f3a"
             ],
             [
              0.8888888888888888,
              "#fdca26"
             ],
             [
              1,
              "#f0f921"
             ]
            ],
            "type": "histogram2dcontour"
           }
          ],
          "mesh3d": [
           {
            "colorbar": {
             "outlinewidth": 0,
             "ticks": ""
            },
            "type": "mesh3d"
           }
          ],
          "parcoords": [
           {
            "line": {
             "colorbar": {
              "outlinewidth": 0,
              "ticks": ""
             }
            },
            "type": "parcoords"
           }
          ],
          "pie": [
           {
            "automargin": true,
            "type": "pie"
           }
          ],
          "scatter": [
           {
            "fillpattern": {
             "fillmode": "overlay",
             "size": 10,
             "solidity": 0.2
            },
            "type": "scatter"
           }
          ],
          "scatter3d": [
           {
            "line": {
             "colorbar": {
              "outlinewidth": 0,
              "ticks": ""
             }
            },
            "marker": {
             "colorbar": {
              "outlinewidth": 0,
              "ticks": ""
             }
            },
            "type": "scatter3d"
           }
          ],
          "scattercarpet": [
           {
            "marker": {
             "colorbar": {
              "outlinewidth": 0,
              "ticks": ""
             }
            },
            "type": "scattercarpet"
           }
          ],
          "scattergeo": [
           {
            "marker": {
             "colorbar": {
              "outlinewidth": 0,
              "ticks": ""
             }
            },
            "type": "scattergeo"
           }
          ],
          "scattergl": [
           {
            "marker": {
             "colorbar": {
              "outlinewidth": 0,
              "ticks": ""
             }
            },
            "type": "scattergl"
           }
          ],
          "scattermapbox": [
           {
            "marker": {
             "colorbar": {
              "outlinewidth": 0,
              "ticks": ""
             }
            },
            "type": "scattermapbox"
           }
          ],
          "scatterpolar": [
           {
            "marker": {
             "colorbar": {
              "outlinewidth": 0,
              "ticks": ""
             }
            },
            "type": "scatterpolar"
           }
          ],
          "scatterpolargl": [
           {
            "marker": {
             "colorbar": {
              "outlinewidth": 0,
              "ticks": ""
             }
            },
            "type": "scatterpolargl"
           }
          ],
          "scatterternary": [
           {
            "marker": {
             "colorbar": {
              "outlinewidth": 0,
              "ticks": ""
             }
            },
            "type": "scatterternary"
           }
          ],
          "surface": [
           {
            "colorbar": {
             "outlinewidth": 0,
             "ticks": ""
            },
            "colorscale": [
             [
              0,
              "#0d0887"
             ],
             [
              0.1111111111111111,
              "#46039f"
             ],
             [
              0.2222222222222222,
              "#7201a8"
             ],
             [
              0.3333333333333333,
              "#9c179e"
             ],
             [
              0.4444444444444444,
              "#bd3786"
             ],
             [
              0.5555555555555556,
              "#d8576b"
             ],
             [
              0.6666666666666666,
              "#ed7953"
             ],
             [
              0.7777777777777778,
              "#fb9f3a"
             ],
             [
              0.8888888888888888,
              "#fdca26"
             ],
             [
              1,
              "#f0f921"
             ]
            ],
            "type": "surface"
           }
          ],
          "table": [
           {
            "cells": {
             "fill": {
              "color": "#EBF0F8"
             },
             "line": {
              "color": "white"
             }
            },
            "header": {
             "fill": {
              "color": "#C8D4E3"
             },
             "line": {
              "color": "white"
             }
            },
            "type": "table"
           }
          ]
         },
         "layout": {
          "annotationdefaults": {
           "arrowcolor": "#2a3f5f",
           "arrowhead": 0,
           "arrowwidth": 1
          },
          "autotypenumbers": "strict",
          "coloraxis": {
           "colorbar": {
            "outlinewidth": 0,
            "ticks": ""
           }
          },
          "colorscale": {
           "diverging": [
            [
             0,
             "#8e0152"
            ],
            [
             0.1,
             "#c51b7d"
            ],
            [
             0.2,
             "#de77ae"
            ],
            [
             0.3,
             "#f1b6da"
            ],
            [
             0.4,
             "#fde0ef"
            ],
            [
             0.5,
             "#f7f7f7"
            ],
            [
             0.6,
             "#e6f5d0"
            ],
            [
             0.7,
             "#b8e186"
            ],
            [
             0.8,
             "#7fbc41"
            ],
            [
             0.9,
             "#4d9221"
            ],
            [
             1,
             "#276419"
            ]
           ],
           "sequential": [
            [
             0,
             "#0d0887"
            ],
            [
             0.1111111111111111,
             "#46039f"
            ],
            [
             0.2222222222222222,
             "#7201a8"
            ],
            [
             0.3333333333333333,
             "#9c179e"
            ],
            [
             0.4444444444444444,
             "#bd3786"
            ],
            [
             0.5555555555555556,
             "#d8576b"
            ],
            [
             0.6666666666666666,
             "#ed7953"
            ],
            [
             0.7777777777777778,
             "#fb9f3a"
            ],
            [
             0.8888888888888888,
             "#fdca26"
            ],
            [
             1,
             "#f0f921"
            ]
           ],
           "sequentialminus": [
            [
             0,
             "#0d0887"
            ],
            [
             0.1111111111111111,
             "#46039f"
            ],
            [
             0.2222222222222222,
             "#7201a8"
            ],
            [
             0.3333333333333333,
             "#9c179e"
            ],
            [
             0.4444444444444444,
             "#bd3786"
            ],
            [
             0.5555555555555556,
             "#d8576b"
            ],
            [
             0.6666666666666666,
             "#ed7953"
            ],
            [
             0.7777777777777778,
             "#fb9f3a"
            ],
            [
             0.8888888888888888,
             "#fdca26"
            ],
            [
             1,
             "#f0f921"
            ]
           ]
          },
          "colorway": [
           "#636efa",
           "#EF553B",
           "#00cc96",
           "#ab63fa",
           "#FFA15A",
           "#19d3f3",
           "#FF6692",
           "#B6E880",
           "#FF97FF",
           "#FECB52"
          ],
          "font": {
           "color": "#2a3f5f"
          },
          "geo": {
           "bgcolor": "white",
           "lakecolor": "white",
           "landcolor": "#E5ECF6",
           "showlakes": true,
           "showland": true,
           "subunitcolor": "white"
          },
          "hoverlabel": {
           "align": "left"
          },
          "hovermode": "closest",
          "mapbox": {
           "style": "light"
          },
          "paper_bgcolor": "white",
          "plot_bgcolor": "#E5ECF6",
          "polar": {
           "angularaxis": {
            "gridcolor": "white",
            "linecolor": "white",
            "ticks": ""
           },
           "bgcolor": "#E5ECF6",
           "radialaxis": {
            "gridcolor": "white",
            "linecolor": "white",
            "ticks": ""
           }
          },
          "scene": {
           "xaxis": {
            "backgroundcolor": "#E5ECF6",
            "gridcolor": "white",
            "gridwidth": 2,
            "linecolor": "white",
            "showbackground": true,
            "ticks": "",
            "zerolinecolor": "white"
           },
           "yaxis": {
            "backgroundcolor": "#E5ECF6",
            "gridcolor": "white",
            "gridwidth": 2,
            "linecolor": "white",
            "showbackground": true,
            "ticks": "",
            "zerolinecolor": "white"
           },
           "zaxis": {
            "backgroundcolor": "#E5ECF6",
            "gridcolor": "white",
            "gridwidth": 2,
            "linecolor": "white",
            "showbackground": true,
            "ticks": "",
            "zerolinecolor": "white"
           }
          },
          "shapedefaults": {
           "line": {
            "color": "#2a3f5f"
           }
          },
          "ternary": {
           "aaxis": {
            "gridcolor": "white",
            "linecolor": "white",
            "ticks": ""
           },
           "baxis": {
            "gridcolor": "white",
            "linecolor": "white",
            "ticks": ""
           },
           "bgcolor": "#E5ECF6",
           "caxis": {
            "gridcolor": "white",
            "linecolor": "white",
            "ticks": ""
           }
          },
          "title": {
           "x": 0.05
          },
          "xaxis": {
           "automargin": true,
           "gridcolor": "white",
           "linecolor": "white",
           "ticks": "",
           "title": {
            "standoff": 15
           },
           "zerolinecolor": "white",
           "zerolinewidth": 2
          },
          "yaxis": {
           "automargin": true,
           "gridcolor": "white",
           "linecolor": "white",
           "ticks": "",
           "title": {
            "standoff": 15
           },
           "zerolinecolor": "white",
           "zerolinewidth": 2
          }
         }
        },
        "title": {
         "text": "Major Film Genres by Oscar-Winning Actor"
        },
        "xaxis": {
         "anchor": "y",
         "categoryorder": "total descending",
         "domain": [
          0,
          1
         ],
         "tickangle": -45,
         "title": {
          "text": "Actor"
         }
        },
        "yaxis": {
         "anchor": "x",
         "domain": [
          0,
          1
         ],
         "title": {
          "text": "Number of Movies"
         }
        }
       }
      }
     },
     "metadata": {},
     "output_type": "display_data"
    }
   ],
   "source": [
    "# First, let's get the genres for each actor\n",
    "genre_by_actor = oscar_act_movies_all.groupby('Actor name')['Movie genres'].apply(lambda x: ','.join([str(g) for g in x if pd.notna(g)])).reset_index()\n",
    "\n",
    "# Split the genres string and explode to get one row per genre\n",
    "genre_by_actor['Movie genres'] = genre_by_actor['Movie genres'].str.split(',')\n",
    "genre_by_actor = genre_by_actor.explode('Movie genres')\n",
    "\n",
    "# Clean up genres by stripping whitespace and removing empty strings\n",
    "genre_by_actor['Movie genres'] = genre_by_actor['Movie genres'].str.strip()\n",
    "genre_by_actor = genre_by_actor[genre_by_actor['Movie genres'] != '']\n",
    "\n",
    "# Define genre mappings to group similar genres\n",
    "genre_mappings = {\n",
    "    'Drama': ['Drama', 'Family Drama', 'Comedy-drama', 'Melodrama', 'Docudrama'],\n",
    "    'Comedy': ['Comedy', 'Romantic comedy', 'Comedy-drama', 'Black comedy'],\n",
    "    'Action/Adventure': ['Action', 'Adventure', 'Action/Adventure', 'Thriller', 'War film'],\n",
    "    'Crime': ['Crime Fiction', 'Crime film', 'Detective fiction', 'Film noir'],\n",
    "    'Historical': ['Period piece', 'Historical fiction', 'Biography', 'History'],\n",
    "    'Romance': ['Romance Film', 'Romantic drama', 'Romantic comedy'],\n",
    "    'Musical': ['Musical', 'Music film', 'Opera film', 'Concert film'],\n",
    "    'Horror': ['Horror', 'Supernatural horror', 'Slasher', 'Psychological horror'],\n",
    "    'Western': ['Western', 'Spaghetti Western', 'Contemporary Western'],\n",
    "    'SciFi/Fantasy': ['Science Fiction', 'Fantasy', 'Superhero film', 'Space opera'],\n",
    "    'Documentary': ['Documentary', 'Docudrama', 'Documentary drama'],\n",
    "    'Animation': ['Animation', 'Anime', 'Stop motion', 'Computer animation'],\n",
    "    'Other': [] # Will catch any genres not matched above\n",
    "}\n",
    "\n",
    "# Map genres to their groups\n",
    "def map_genre(genre):\n",
    "    for group, genres in genre_mappings.items():\n",
    "        if any(g.lower() in genre.lower() for g in genres):\n",
    "            return group\n",
    "    return 'Other'\n",
    "\n",
    "genre_by_actor['Movie genres'] = genre_by_actor['Movie genres'].apply(map_genre)\n",
    "\n",
    "# Count genres for each actor\n",
    "genre_counts = genre_by_actor.groupby(['Actor name', 'Movie genres']).size().reset_index(name='count')\n",
    "\n",
    "# Filter to only include genres that appear frequently\n",
    "min_appearances = 5\n",
    "frequent_genres = genre_counts.groupby('Movie genres')['count'].sum().reset_index()\n",
    "frequent_genres = frequent_genres[frequent_genres['count'] >= min_appearances]['Movie genres']\n",
    "genre_counts = genre_counts[genre_counts['Movie genres'].isin(frequent_genres)]\n",
    "\n",
    "# Create a grouped bar chart\n",
    "fig = px.bar(genre_counts, \n",
    "             x='Actor name', \n",
    "             y='count',\n",
    "             color='Movie genres',\n",
    "             title='Major Film Genres by Oscar-Winning Actor',\n",
    "             labels={'count': 'Number of Movies', 'Actor name': 'Actor'},\n",
    "             height=800)\n",
    "\n",
    "# Update layout for better readability\n",
    "fig.update_layout(\n",
    "    xaxis={'categoryorder':'total descending'},\n",
    "    showlegend=True,\n",
    "    legend_title='Genre',\n",
    "    barmode='stack',\n",
    "    xaxis_tickangle=-45\n",
    ")\n",
    "\n",
    "fig.show()"
   ]
  },
  {
   "cell_type": "code",
   "execution_count": null,
   "metadata": {},
   "outputs": [],
   "source": []
  },
  {
   "cell_type": "code",
   "execution_count": 32,
   "metadata": {},
   "outputs": [
    {
     "name": "stdout",
     "output_type": "stream",
     "text": [
      "(177, 30)\n"
     ]
    },
    {
     "data": {
      "text/plain": [
       "Index(['page_id', 'wikidata_id', 'sexLabel', 'nativeLanguageLabel',\n",
       "       'countryOfCitizenshipLabel', 'ethnicGroupLabel', 'Actor name',\n",
       "       'Actors id', 'Actress id', 'dataset_id', 'runtime', 'languages',\n",
       "       'countries', 'genres', 'reviewScores', 'awardsReceived',\n",
       "       'awardsNominated', 'capitalCost', 'release date', 'nbOscarReceived',\n",
       "       'nbOscarNominated', 'Wikipedia movie ID', 'Movie name',\n",
       "       'Movie release date', 'Movie genres', 'Movie box office revenue',\n",
       "       'Actor age at movie release', 'Actor date of birth', 'Actor ethnicity',\n",
       "       'Freebase actor ID'],\n",
       "      dtype='object')"
      ]
     },
     "execution_count": 32,
     "metadata": {},
     "output_type": "execute_result"
    }
   ],
   "source": [
    "oscar_actress_info_new = pd.merge(winning_actors_info, oscar_act_movies_new, left_on='page_id', right_on='Actress id')\n",
    "oscar_actors_info_new = pd.merge(winning_actors_info, oscar_act_movies_new, left_on='page_id', right_on='Actors id')\n",
    "oscar_act_info_new = pd.concat([oscar_actors_info_new, oscar_actress_info_new], axis=0)\n",
    "\n",
    "oscar_act_info_new = pd.merge(oscar_act_info_new, character[['Wikipedia movie ID', 'Actor name', 'Actor age at movie release', 'Actor date of birth', 'Actor ethnicity', 'Freebase actor ID']], on=['Wikipedia movie ID', 'Actor name'])\n",
    "oscar_act_info_new['Movie release date'] = oscar_act_info_new['Movie release date'].apply(standardize_date_format)\n",
    "print(oscar_act_info_new.shape)\n",
    "oscar_act_info_new.columns"
   ]
  },
  {
   "cell_type": "code",
   "execution_count": 33,
   "metadata": {},
   "outputs": [
    {
     "name": "stdout",
     "output_type": "stream",
     "text": [
      "Shape: (6869, 28)\n",
      "Columns: Index(['Wikipedia movie ID', 'Character name', 'Actor date of birth',\n",
      "       ' Actor gender', 'Actor height)', 'Actor ethnicity', 'Actor name',\n",
      "       'Actor age at movie release', 'Freebase character',\n",
      "       'Freebase character ID', 'Freebase actor ID', 'dataset_id', 'runtime',\n",
      "       'languages', 'countries', 'genres', 'reviewScores', 'awardsReceived',\n",
      "       'awardsNominated', 'capitalCost', 'release date', 'nbOscarReceived',\n",
      "       'nbOscarNominated', 'Movie name', 'Movie release date', 'Movie genres',\n",
      "       'Movie box office revenue', 'Movie release year'],\n",
      "      dtype='object')\n",
      "Date boundary: 1909.0 - 2015.0\n"
     ]
    }
   ],
   "source": [
    "oscar_act_new_movies_all = character[character['Freebase actor ID'].isin(oscar_act_info_new['Freebase actor ID'])]\n",
    "oscar_act_new_movies_all = oscar_act_new_movies_all.drop(columns=['Freebase movie ID', 'Movie release date'])\n",
    "oscar_act_new_movies_all = oscar_act_new_movies_all.merge(new_film_dataset, on='Wikipedia movie ID', how='left')\n",
    "oscar_act_new_movies_all['Movie release year'] = oscar_act_new_movies_all['Movie release date'].apply(standardize_date_format)\n",
    "print('Shape:', oscar_act_new_movies_all.shape)\n",
    "print('Columns:', oscar_act_new_movies_all.columns)\n",
    "print('Date boundary:', oscar_act_new_movies_all['Movie release year'].min(), '-', oscar_act_new_movies_all['Movie release year'].max())\n",
    "\n",
    "# Create a set of unique (Actor name, Wikipedia movie ID) combinations for rewards\n",
    "best_act_movies = set(\n",
    "    zip(oscar_act_info_new['Actor name'], oscar_act_info_new['Wikipedia movie ID'])\n",
    ")\n",
    "\n",
    "# Add a new column indicating if the movie is a Best Actress Reward\n",
    "oscar_act_new_movies_all['Best Actress Reward'] = oscar_act_new_movies_all.apply(\n",
    "    lambda row: (row['Actor name'], row['Wikipedia movie ID']) in best_act_movies,\n",
    "    axis=1\n",
    ")\n",
    "\n"
   ]
  },
  {
   "cell_type": "code",
   "execution_count": 34,
   "metadata": {},
   "outputs": [],
   "source": [
    "imdb_ratings['Movie name'] = imdb_ratings['Movie name'].str.strip()\n",
    "\n",
    "filtered_ratings = imdb_ratings[['Movie name', 'Movie release date', 'imdb_score']]\n",
    "filtered_oscar_act_new = oscar_act_info_new[['Movie name', 'Movie release date', 'Actor name', 'Movie box office revenue']]\n",
    "\n",
    "merged_data = pd.merge(filtered_ratings, filtered_oscar_act_new, on=['Movie name', 'Movie release date'])\n",
    "\n",
    "rating_box_office = merged_data[['Actor name', 'Movie name', 'Movie release date', 'imdb_score', 'Movie box office revenue']]\n",
    "rating_box_office['Movie release date'] = pd.to_numeric(rating_box_office['Movie release date'], errors='coerce')\n",
    "\n",
    "rating_box_office = rating_box_office[rating_box_office['Movie release date'] >= 1980]\n",
    "rating_box_office = rating_box_office.dropna(subset=['Movie box office revenue', 'imdb_score'])"
   ]
  },
  {
   "cell_type": "code",
   "execution_count": 35,
   "metadata": {},
   "outputs": [
    {
     "name": "stderr",
     "output_type": "stream",
     "text": [
      "C:\\Users\\thier\\AppData\\Local\\Temp\\ipykernel_7108\\544752972.py:2: SettingWithCopyWarning:\n",
      "\n",
      "\n",
      "A value is trying to be set on a copy of a slice from a DataFrame.\n",
      "Try using .loc[row_indexer,col_indexer] = value instead\n",
      "\n",
      "See the caveats in the documentation: https://pandas.pydata.org/pandas-docs/stable/user_guide/indexing.html#returning-a-view-versus-a-copy\n",
      "\n"
     ]
    }
   ],
   "source": [
    "new_film_dataset_oscar = new_film_dataset[new_film_dataset['Wikipedia movie ID'].isin(oscar_winning_films['Page ID'])]\n",
    "new_film_dataset_oscar['Movie release date'] = pd.to_datetime(new_film_dataset_oscar['Movie release date'], errors='coerce').dt.year\n",
    "\n",
    "filtered_ratings = imdb_ratings[['Movie name', 'Movie release date', 'imdb_score']]\n",
    "filtered_oscar_act_new = new_film_dataset_oscar[['Movie name', 'Movie release date', 'Movie box office revenue', 'nbOscarNominated', 'nbOscarReceived']]\n",
    "\n",
    "merged_data = pd.merge(filtered_ratings, filtered_oscar_act_new, on=['Movie name', 'Movie release date'])\n",
    "\n",
    "rating_box_office = merged_data[['Movie name', 'Movie release date', 'imdb_score', 'Movie box office revenue', 'nbOscarNominated', 'nbOscarReceived']]\n",
    "\n",
    "rating_box_office = rating_box_office[rating_box_office['Movie release date'] >= 1980]\n",
    "rating_box_office = rating_box_office.dropna(subset=['Movie box office revenue', 'imdb_score'])"
   ]
  },
  {
   "cell_type": "code",
   "execution_count": 36,
   "metadata": {},
   "outputs": [
    {
     "data": {
      "application/vnd.plotly.v1+json": {
       "config": {
        "plotlyServerURL": "https://plot.ly"
       },
       "data": [
        {
         "hovertemplate": "<b>%{hovertext}</b><br><br>Release Date=%{x}<br>IMDb Score=%{y}<br>Box Office Revenue=%{marker.size}<br>nbOscarNominated=%{marker.color}<extra></extra>",
         "hovertext": [
          "Gladiator",
          "The Lord of the Rings: The Return of the King",
          "The Departed",
          "A Beautiful Mind",
          "Braveheart",
          "Forrest Gump",
          "Argo",
          "The English Patient",
          "Out of Africa",
          "Chicago",
          "Million Dollar Baby",
          "Shakespeare in Love",
          "Rain Man",
          "Schindler's List",
          "No Country for Old Men",
          "The Last Emperor",
          "Gandhi",
          "The Silence of the Lambs",
          "Spotlight",
          "Amadeus",
          "The Artist",
          "American Beauty",
          "The Hurt Locker",
          "Unforgiven",
          "Slumdog Millionaire",
          "Driving Miss Daisy",
          "Platoon",
          "Ordinary People",
          "Chariots of Fire"
         ],
         "legendgroup": "",
         "marker": {
          "color": [
           12,
           11,
           5,
           8,
           10,
           13,
           7,
           12,
           11,
           13,
           7,
           13,
           8,
           12,
           8,
           9,
           11,
           7,
           6,
           11,
           10,
           8,
           9,
           9,
           10,
           9,
           8,
           6,
           7
          ],
          "coloraxis": "coloraxis",
          "size": [
           457640427,
           1119929521,
           289847354,
           313542341,
           211409945,
           677387716,
           67210347,
           231976425,
           128499205,
           306776732,
           216763646,
           289317794,
           354825435,
           321306305,
           171627166,
           43984230,
           52767889,
           272742922,
           88346473,
           51973029,
           133432856,
           356296601,
           49230772,
           159157447,
           377910544,
           145793296,
           138530565,
           54766923,
           58972904
          ],
          "sizemode": "area",
          "sizeref": 2799823.8025,
          "symbol": "circle"
         },
         "mode": "markers",
         "name": "",
         "orientation": "v",
         "showlegend": false,
         "type": "scatter",
         "x": [
          2000,
          2003,
          2006,
          2001,
          1995,
          1994,
          2012,
          1996,
          1985,
          2002,
          2004,
          1998,
          1988,
          1993,
          2007,
          1987,
          1982,
          1991,
          2015,
          1984,
          2011,
          1999,
          2008,
          1992,
          2008,
          1989,
          1986,
          1980,
          1981
         ],
         "xaxis": "x",
         "y": [
          8.5,
          8.9,
          8.5,
          8.2,
          8.4,
          8.8,
          7.7,
          7.4,
          7.2,
          7.2,
          8.1,
          7.2,
          8,
          8.9,
          8.1,
          7.8,
          8.1,
          8.6,
          8.1,
          8.3,
          8,
          8.4,
          7.6,
          8.3,
          8,
          7.4,
          8.1,
          7.8,
          7.2
         ],
         "yaxis": "y"
        }
       ],
       "layout": {
        "coloraxis": {
         "colorbar": {
          "title": {
           "text": "nbOscarNominated"
          }
         },
         "colorscale": [
          [
           0,
           "#0d0887"
          ],
          [
           0.1111111111111111,
           "#46039f"
          ],
          [
           0.2222222222222222,
           "#7201a8"
          ],
          [
           0.3333333333333333,
           "#9c179e"
          ],
          [
           0.4444444444444444,
           "#bd3786"
          ],
          [
           0.5555555555555556,
           "#d8576b"
          ],
          [
           0.6666666666666666,
           "#ed7953"
          ],
          [
           0.7777777777777778,
           "#fb9f3a"
          ],
          [
           0.8888888888888888,
           "#fdca26"
          ],
          [
           1,
           "#f0f921"
          ]
         ]
        },
        "legend": {
         "itemsizing": "constant",
         "tracegroupgap": 0
        },
        "template": {
         "data": {
          "bar": [
           {
            "error_x": {
             "color": "#2a3f5f"
            },
            "error_y": {
             "color": "#2a3f5f"
            },
            "marker": {
             "line": {
              "color": "#E5ECF6",
              "width": 0.5
             },
             "pattern": {
              "fillmode": "overlay",
              "size": 10,
              "solidity": 0.2
             }
            },
            "type": "bar"
           }
          ],
          "barpolar": [
           {
            "marker": {
             "line": {
              "color": "#E5ECF6",
              "width": 0.5
             },
             "pattern": {
              "fillmode": "overlay",
              "size": 10,
              "solidity": 0.2
             }
            },
            "type": "barpolar"
           }
          ],
          "carpet": [
           {
            "aaxis": {
             "endlinecolor": "#2a3f5f",
             "gridcolor": "white",
             "linecolor": "white",
             "minorgridcolor": "white",
             "startlinecolor": "#2a3f5f"
            },
            "baxis": {
             "endlinecolor": "#2a3f5f",
             "gridcolor": "white",
             "linecolor": "white",
             "minorgridcolor": "white",
             "startlinecolor": "#2a3f5f"
            },
            "type": "carpet"
           }
          ],
          "choropleth": [
           {
            "colorbar": {
             "outlinewidth": 0,
             "ticks": ""
            },
            "type": "choropleth"
           }
          ],
          "contour": [
           {
            "colorbar": {
             "outlinewidth": 0,
             "ticks": ""
            },
            "colorscale": [
             [
              0,
              "#0d0887"
             ],
             [
              0.1111111111111111,
              "#46039f"
             ],
             [
              0.2222222222222222,
              "#7201a8"
             ],
             [
              0.3333333333333333,
              "#9c179e"
             ],
             [
              0.4444444444444444,
              "#bd3786"
             ],
             [
              0.5555555555555556,
              "#d8576b"
             ],
             [
              0.6666666666666666,
              "#ed7953"
             ],
             [
              0.7777777777777778,
              "#fb9f3a"
             ],
             [
              0.8888888888888888,
              "#fdca26"
             ],
             [
              1,
              "#f0f921"
             ]
            ],
            "type": "contour"
           }
          ],
          "contourcarpet": [
           {
            "colorbar": {
             "outlinewidth": 0,
             "ticks": ""
            },
            "type": "contourcarpet"
           }
          ],
          "heatmap": [
           {
            "colorbar": {
             "outlinewidth": 0,
             "ticks": ""
            },
            "colorscale": [
             [
              0,
              "#0d0887"
             ],
             [
              0.1111111111111111,
              "#46039f"
             ],
             [
              0.2222222222222222,
              "#7201a8"
             ],
             [
              0.3333333333333333,
              "#9c179e"
             ],
             [
              0.4444444444444444,
              "#bd3786"
             ],
             [
              0.5555555555555556,
              "#d8576b"
             ],
             [
              0.6666666666666666,
              "#ed7953"
             ],
             [
              0.7777777777777778,
              "#fb9f3a"
             ],
             [
              0.8888888888888888,
              "#fdca26"
             ],
             [
              1,
              "#f0f921"
             ]
            ],
            "type": "heatmap"
           }
          ],
          "heatmapgl": [
           {
            "colorbar": {
             "outlinewidth": 0,
             "ticks": ""
            },
            "colorscale": [
             [
              0,
              "#0d0887"
             ],
             [
              0.1111111111111111,
              "#46039f"
             ],
             [
              0.2222222222222222,
              "#7201a8"
             ],
             [
              0.3333333333333333,
              "#9c179e"
             ],
             [
              0.4444444444444444,
              "#bd3786"
             ],
             [
              0.5555555555555556,
              "#d8576b"
             ],
             [
              0.6666666666666666,
              "#ed7953"
             ],
             [
              0.7777777777777778,
              "#fb9f3a"
             ],
             [
              0.8888888888888888,
              "#fdca26"
             ],
             [
              1,
              "#f0f921"
             ]
            ],
            "type": "heatmapgl"
           }
          ],
          "histogram": [
           {
            "marker": {
             "pattern": {
              "fillmode": "overlay",
              "size": 10,
              "solidity": 0.2
             }
            },
            "type": "histogram"
           }
          ],
          "histogram2d": [
           {
            "colorbar": {
             "outlinewidth": 0,
             "ticks": ""
            },
            "colorscale": [
             [
              0,
              "#0d0887"
             ],
             [
              0.1111111111111111,
              "#46039f"
             ],
             [
              0.2222222222222222,
              "#7201a8"
             ],
             [
              0.3333333333333333,
              "#9c179e"
             ],
             [
              0.4444444444444444,
              "#bd3786"
             ],
             [
              0.5555555555555556,
              "#d8576b"
             ],
             [
              0.6666666666666666,
              "#ed7953"
             ],
             [
              0.7777777777777778,
              "#fb9f3a"
             ],
             [
              0.8888888888888888,
              "#fdca26"
             ],
             [
              1,
              "#f0f921"
             ]
            ],
            "type": "histogram2d"
           }
          ],
          "histogram2dcontour": [
           {
            "colorbar": {
             "outlinewidth": 0,
             "ticks": ""
            },
            "colorscale": [
             [
              0,
              "#0d0887"
             ],
             [
              0.1111111111111111,
              "#46039f"
             ],
             [
              0.2222222222222222,
              "#7201a8"
             ],
             [
              0.3333333333333333,
              "#9c179e"
             ],
             [
              0.4444444444444444,
              "#bd3786"
             ],
             [
              0.5555555555555556,
              "#d8576b"
             ],
             [
              0.6666666666666666,
              "#ed7953"
             ],
             [
              0.7777777777777778,
              "#fb9f3a"
             ],
             [
              0.8888888888888888,
              "#fdca26"
             ],
             [
              1,
              "#f0f921"
             ]
            ],
            "type": "histogram2dcontour"
           }
          ],
          "mesh3d": [
           {
            "colorbar": {
             "outlinewidth": 0,
             "ticks": ""
            },
            "type": "mesh3d"
           }
          ],
          "parcoords": [
           {
            "line": {
             "colorbar": {
              "outlinewidth": 0,
              "ticks": ""
             }
            },
            "type": "parcoords"
           }
          ],
          "pie": [
           {
            "automargin": true,
            "type": "pie"
           }
          ],
          "scatter": [
           {
            "fillpattern": {
             "fillmode": "overlay",
             "size": 10,
             "solidity": 0.2
            },
            "type": "scatter"
           }
          ],
          "scatter3d": [
           {
            "line": {
             "colorbar": {
              "outlinewidth": 0,
              "ticks": ""
             }
            },
            "marker": {
             "colorbar": {
              "outlinewidth": 0,
              "ticks": ""
             }
            },
            "type": "scatter3d"
           }
          ],
          "scattercarpet": [
           {
            "marker": {
             "colorbar": {
              "outlinewidth": 0,
              "ticks": ""
             }
            },
            "type": "scattercarpet"
           }
          ],
          "scattergeo": [
           {
            "marker": {
             "colorbar": {
              "outlinewidth": 0,
              "ticks": ""
             }
            },
            "type": "scattergeo"
           }
          ],
          "scattergl": [
           {
            "marker": {
             "colorbar": {
              "outlinewidth": 0,
              "ticks": ""
             }
            },
            "type": "scattergl"
           }
          ],
          "scattermapbox": [
           {
            "marker": {
             "colorbar": {
              "outlinewidth": 0,
              "ticks": ""
             }
            },
            "type": "scattermapbox"
           }
          ],
          "scatterpolar": [
           {
            "marker": {
             "colorbar": {
              "outlinewidth": 0,
              "ticks": ""
             }
            },
            "type": "scatterpolar"
           }
          ],
          "scatterpolargl": [
           {
            "marker": {
             "colorbar": {
              "outlinewidth": 0,
              "ticks": ""
             }
            },
            "type": "scatterpolargl"
           }
          ],
          "scatterternary": [
           {
            "marker": {
             "colorbar": {
              "outlinewidth": 0,
              "ticks": ""
             }
            },
            "type": "scatterternary"
           }
          ],
          "surface": [
           {
            "colorbar": {
             "outlinewidth": 0,
             "ticks": ""
            },
            "colorscale": [
             [
              0,
              "#0d0887"
             ],
             [
              0.1111111111111111,
              "#46039f"
             ],
             [
              0.2222222222222222,
              "#7201a8"
             ],
             [
              0.3333333333333333,
              "#9c179e"
             ],
             [
              0.4444444444444444,
              "#bd3786"
             ],
             [
              0.5555555555555556,
              "#d8576b"
             ],
             [
              0.6666666666666666,
              "#ed7953"
             ],
             [
              0.7777777777777778,
              "#fb9f3a"
             ],
             [
              0.8888888888888888,
              "#fdca26"
             ],
             [
              1,
              "#f0f921"
             ]
            ],
            "type": "surface"
           }
          ],
          "table": [
           {
            "cells": {
             "fill": {
              "color": "#EBF0F8"
             },
             "line": {
              "color": "white"
             }
            },
            "header": {
             "fill": {
              "color": "#C8D4E3"
             },
             "line": {
              "color": "white"
             }
            },
            "type": "table"
           }
          ]
         },
         "layout": {
          "annotationdefaults": {
           "arrowcolor": "#2a3f5f",
           "arrowhead": 0,
           "arrowwidth": 1
          },
          "autotypenumbers": "strict",
          "coloraxis": {
           "colorbar": {
            "outlinewidth": 0,
            "ticks": ""
           }
          },
          "colorscale": {
           "diverging": [
            [
             0,
             "#8e0152"
            ],
            [
             0.1,
             "#c51b7d"
            ],
            [
             0.2,
             "#de77ae"
            ],
            [
             0.3,
             "#f1b6da"
            ],
            [
             0.4,
             "#fde0ef"
            ],
            [
             0.5,
             "#f7f7f7"
            ],
            [
             0.6,
             "#e6f5d0"
            ],
            [
             0.7,
             "#b8e186"
            ],
            [
             0.8,
             "#7fbc41"
            ],
            [
             0.9,
             "#4d9221"
            ],
            [
             1,
             "#276419"
            ]
           ],
           "sequential": [
            [
             0,
             "#0d0887"
            ],
            [
             0.1111111111111111,
             "#46039f"
            ],
            [
             0.2222222222222222,
             "#7201a8"
            ],
            [
             0.3333333333333333,
             "#9c179e"
            ],
            [
             0.4444444444444444,
             "#bd3786"
            ],
            [
             0.5555555555555556,
             "#d8576b"
            ],
            [
             0.6666666666666666,
             "#ed7953"
            ],
            [
             0.7777777777777778,
             "#fb9f3a"
            ],
            [
             0.8888888888888888,
             "#fdca26"
            ],
            [
             1,
             "#f0f921"
            ]
           ],
           "sequentialminus": [
            [
             0,
             "#0d0887"
            ],
            [
             0.1111111111111111,
             "#46039f"
            ],
            [
             0.2222222222222222,
             "#7201a8"
            ],
            [
             0.3333333333333333,
             "#9c179e"
            ],
            [
             0.4444444444444444,
             "#bd3786"
            ],
            [
             0.5555555555555556,
             "#d8576b"
            ],
            [
             0.6666666666666666,
             "#ed7953"
            ],
            [
             0.7777777777777778,
             "#fb9f3a"
            ],
            [
             0.8888888888888888,
             "#fdca26"
            ],
            [
             1,
             "#f0f921"
            ]
           ]
          },
          "colorway": [
           "#636efa",
           "#EF553B",
           "#00cc96",
           "#ab63fa",
           "#FFA15A",
           "#19d3f3",
           "#FF6692",
           "#B6E880",
           "#FF97FF",
           "#FECB52"
          ],
          "font": {
           "color": "#2a3f5f"
          },
          "geo": {
           "bgcolor": "white",
           "lakecolor": "white",
           "landcolor": "#E5ECF6",
           "showlakes": true,
           "showland": true,
           "subunitcolor": "white"
          },
          "hoverlabel": {
           "align": "left"
          },
          "hovermode": "closest",
          "mapbox": {
           "style": "light"
          },
          "paper_bgcolor": "white",
          "plot_bgcolor": "#E5ECF6",
          "polar": {
           "angularaxis": {
            "gridcolor": "white",
            "linecolor": "white",
            "ticks": ""
           },
           "bgcolor": "#E5ECF6",
           "radialaxis": {
            "gridcolor": "white",
            "linecolor": "white",
            "ticks": ""
           }
          },
          "scene": {
           "xaxis": {
            "backgroundcolor": "#E5ECF6",
            "gridcolor": "white",
            "gridwidth": 2,
            "linecolor": "white",
            "showbackground": true,
            "ticks": "",
            "zerolinecolor": "white"
           },
           "yaxis": {
            "backgroundcolor": "#E5ECF6",
            "gridcolor": "white",
            "gridwidth": 2,
            "linecolor": "white",
            "showbackground": true,
            "ticks": "",
            "zerolinecolor": "white"
           },
           "zaxis": {
            "backgroundcolor": "#E5ECF6",
            "gridcolor": "white",
            "gridwidth": 2,
            "linecolor": "white",
            "showbackground": true,
            "ticks": "",
            "zerolinecolor": "white"
           }
          },
          "shapedefaults": {
           "line": {
            "color": "#2a3f5f"
           }
          },
          "ternary": {
           "aaxis": {
            "gridcolor": "white",
            "linecolor": "white",
            "ticks": ""
           },
           "baxis": {
            "gridcolor": "white",
            "linecolor": "white",
            "ticks": ""
           },
           "bgcolor": "#E5ECF6",
           "caxis": {
            "gridcolor": "white",
            "linecolor": "white",
            "ticks": ""
           }
          },
          "title": {
           "x": 0.05
          },
          "xaxis": {
           "automargin": true,
           "gridcolor": "white",
           "linecolor": "white",
           "ticks": "",
           "title": {
            "standoff": 15
           },
           "zerolinecolor": "white",
           "zerolinewidth": 2
          },
          "yaxis": {
           "automargin": true,
           "gridcolor": "white",
           "linecolor": "white",
           "ticks": "",
           "title": {
            "standoff": 15
           },
           "zerolinecolor": "white",
           "zerolinewidth": 2
          }
         }
        },
        "title": {
         "text": "Bubble Graph: IMDb Score vs. Movie Release Date (Bubble Size: Box Office Revenue)"
        },
        "xaxis": {
         "anchor": "y",
         "domain": [
          0,
          1
         ],
         "title": {
          "text": "Release Date"
         }
        },
        "yaxis": {
         "anchor": "x",
         "domain": [
          0,
          1
         ],
         "title": {
          "text": "IMDb Score"
         }
        }
       }
      }
     },
     "metadata": {},
     "output_type": "display_data"
    }
   ],
   "source": [
    "# Filter out rows with missing or invalid data in critical columns\n",
    "rating_box_office = rating_box_office.dropna(subset=['Movie release date', 'imdb_score', 'Movie box office revenue', 'nbOscarNominated'])\n",
    "rating_box_office = rating_box_office[rating_box_office['Movie name'] != 'Titanic']\n",
    "# Ensure `nbOscarNominated` is numeric\n",
    "rating_box_office['nbOscarNominated'] = pd.to_numeric(\n",
    "    rating_box_office['nbOscarNominated'], errors='coerce'\n",
    ")\n",
    "\n",
    "\n",
    "# Create a bubble chart using Plotly Express\n",
    "fig = px.scatter(\n",
    "    rating_box_office,\n",
    "    x='Movie release date',\n",
    "    y='imdb_score',\n",
    "    size='Movie box office revenue',\n",
    "    hover_name='Movie name',  # Adjust column name if necessary\n",
    "    title=\"Bubble Graph: IMDb Score vs. Movie Release Date (Bubble Size: Box Office Revenue)\",\n",
    "    color='nbOscarNominated',\n",
    "    labels={\n",
    "        'Movie release date': 'Release Date',\n",
    "        'imdb_score': 'IMDb Score',\n",
    "        'Movie box office revenue': 'Box Office Revenue'\n",
    "    },\n",
    "    category_orders={'nbOscarNominated': sorted(rating_box_office['nbOscarNominated'].unique())}  # Sort legend\n",
    ")\n",
    "\n",
    "# Show the plot\n",
    "fig.show()"
   ]
  }
 ],
 "metadata": {
  "kernelspec": {
   "display_name": "ada",
   "language": "python",
   "name": "python3"
  },
  "language_info": {
   "codemirror_mode": {
    "name": "ipython",
    "version": 3
   },
   "file_extension": ".py",
   "mimetype": "text/x-python",
   "name": "python",
   "nbconvert_exporter": "python",
   "pygments_lexer": "ipython3",
   "version": "3.11.9"
  }
 },
 "nbformat": 4,
 "nbformat_minor": 2
}
