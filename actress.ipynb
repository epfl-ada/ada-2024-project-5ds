{
 "cells": [
  {
   "cell_type": "code",
   "execution_count": 102,
   "metadata": {},
   "outputs": [
    {
     "name": "stdout",
     "output_type": "stream",
     "text": [
      "The autoreload extension is already loaded. To reload it, use:\n",
      "  %reload_ext autoreload\n"
     ]
    }
   ],
   "source": [
    "from src.utils.data_utils import load_dataframe_from_csv\n",
    "from src.data.dataloader import load_initial_dataset\n",
    "from src.utils.clean_cmu import clean_movies_cmu\n",
    "from config import *\n",
    "\n",
    "import plotly.express as px\n",
    "import pandas as pd\n",
    "import plotly\n",
    "import seaborn as sns\n",
    "import matplotlib.pyplot as plt\n",
    "import numpy as np\n",
    "%load_ext autoreload\n",
    "%autoreload 2"
   ]
  },
  {
   "cell_type": "code",
   "execution_count": 103,
   "metadata": {},
   "outputs": [],
   "source": [
    "movie_cmu = load_dataframe_from_csv('movie_cmu.csv')\n",
    "character = load_dataframe_from_csv('character.csv')\n",
    "plot_summaries = load_dataframe_from_csv('plot_summaries.csv')\n",
    "tvtropes = load_dataframe_from_csv('tvtropes.csv')\n",
    "name_clusters = load_dataframe_from_csv('name_clusters.csv')\n",
    "oscar_winning_films = load_dataframe_from_csv('oscar_winning_films_ids.csv')\n",
    "oscar_winning_actors = load_dataframe_from_csv('oscar_winning_actors.csv')\n",
    "oscar_winning_actresses = load_dataframe_from_csv('oscar_winning_actresses.csv')\n",
    "oscar_supporting_actors = load_dataframe_from_csv('oscar_winning_supporting_actors.csv')\n",
    "oscar_supporting_actresses = load_dataframe_from_csv('oscar_winning_supporting_actresses.csv')\n",
    "extended_films = load_dataframe_from_csv('film_2015_2024.csv')\n",
    "academy_award_winning_films = load_dataframe_from_csv('acedemy_award_winning_films')\n",
    "winning_actors_info = load_dataframe_from_csv('winning_actors_information.csv')"
   ]
  },
  {
   "cell_type": "code",
   "execution_count": 104,
   "metadata": {},
   "outputs": [],
   "source": [
    "extended_films[\"Movie genres\"] = extended_films[\"genres\"]\n",
    "extended_films[\"Movie release date\"] = extended_films[\"release_date\"]\n",
    "extended_films[\"Movie languages\"] = extended_films[\"languages\"]\n",
    "extended_films[\"Movie countries\"] = extended_films[\"countries\"]\n",
    "extended_films[\"Movie name\"] = extended_films[\"film\"]\n",
    "extended_films[\"Movie box office revenue\"] = extended_films[\"box_office\"]\n",
    "extended_films[\"Movie runtime\"] = extended_films[\"runtime\"]\n",
    "extended_films[\"Wikipedia movie ID\"] = extended_films[\"page_id\"]\n",
    "extended_films = extended_films.drop(columns=[\"genres\", \"release_date\", \"languages\", \"countries\", \"release date\", \"film\", \"box_office\", \"runtime\", \"page_id\"])\n",
    "winning_actors_info[\"Actor name\"] = winning_actors_info[\"actor\"]\n",
    "winning_actors_info = winning_actors_info.drop(columns=[\"actor\"])"
   ]
  },
  {
   "cell_type": "code",
   "execution_count": 105,
   "metadata": {},
   "outputs": [],
   "source": [
    "oscar_actress_movies_cmu  = pd.merge(oscar_winning_actresses, movie_cmu, left_on='film_id', right_on='Wikipedia movie ID')\n",
    "oscar_actress_movies_cmu.drop(columns=['film_id'], inplace=True) "
   ]
  },
  {
   "cell_type": "code",
   "execution_count": 106,
   "metadata": {},
   "outputs": [
    {
     "name": "stdout",
     "output_type": "stream",
     "text": [
      "(88, 10)\n",
      "1928.0\n",
      "2012.0\n"
     ]
    }
   ],
   "source": [
    "print(oscar_actress_movies_cmu.shape)\n",
    "print(oscar_actress_movies_cmu['Movie release date'].min())\n",
    "print(oscar_actress_movies_cmu['Movie release date'].max())"
   ]
  },
  {
   "cell_type": "code",
   "execution_count": 107,
   "metadata": {},
   "outputs": [],
   "source": [
    "oscar_actress_movies_extendedDS  = pd.merge(oscar_winning_actresses, extended_films, left_on='film_id', right_on='Wikipedia movie ID')\n",
    "oscar_actress_movies_extendedDS.drop(columns=['film_id'], inplace=True) \n",
    "\n",
    "# Convert the 'Movie release date' column to datetime\n",
    "oscar_actress_movies_extendedDS['Movie release date'] = pd.to_datetime(oscar_actress_movies_extendedDS['Movie release date'], format='%Y-%m-%dT%H:%M:%SZ')\n",
    "\n",
    "# Extract the year\n",
    "oscar_actress_movies_extendedDS['Movie release date'] = oscar_actress_movies_extendedDS['Movie release date'].dt.year"
   ]
  },
  {
   "cell_type": "code",
   "execution_count": 108,
   "metadata": {},
   "outputs": [
    {
     "name": "stdout",
     "output_type": "stream",
     "text": [
      "(8, 14)\n",
      "2015\n",
      "2023\n"
     ]
    }
   ],
   "source": [
    "print(oscar_actress_movies_extendedDS.shape)\n",
    "print(oscar_actress_movies_extendedDS['Movie release date'].min())\n",
    "print(oscar_actress_movies_extendedDS['Movie release date'].max())"
   ]
  },
  {
   "cell_type": "code",
   "execution_count": 109,
   "metadata": {},
   "outputs": [
    {
     "name": "stdout",
     "output_type": "stream",
     "text": [
      "(96, 14)\n",
      "Index(['Actress id', 'Wikipedia movie ID', 'Freebase movie ID', 'Movie name',\n",
      "       'Movie release date', 'Movie box office revenue', 'Movie runtime',\n",
      "       'Movie languages', 'Movie countries', 'Movie genres', 'reviewScores',\n",
      "       'awardsReceived', 'awardsNominated', 'capitalCost'],\n",
      "      dtype='object')\n"
     ]
    }
   ],
   "source": [
    "oscar_actress_movies = pd.concat([oscar_actress_movies_cmu, oscar_actress_movies_extendedDS], axis=0)\n",
    "oscar_actress_movies.drop(columns=['wikidata_id'], inplace=True)\n",
    "print(oscar_actress_movies.shape)\n",
    "print(oscar_actress_movies.columns)"
   ]
  },
  {
   "cell_type": "code",
   "execution_count": 110,
   "metadata": {},
   "outputs": [
    {
     "name": "stdout",
     "output_type": "stream",
     "text": [
      "Index(['page_id', 'wikidata_id', 'sexLabel', 'nativeLanguageLabel',\n",
      "       'countryOfCitizenshipLabel', 'ethnicGroupLabel', 'Actor name',\n",
      "       'Actress id', 'Wikipedia movie ID', 'Freebase movie ID', 'Movie name',\n",
      "       'Movie release date', 'Movie box office revenue', 'Movie runtime',\n",
      "       'Movie languages', 'Movie countries', 'Movie genres', 'reviewScores',\n",
      "       'awardsReceived', 'awardsNominated', 'capitalCost'],\n",
      "      dtype='object')\n",
      "(96, 19)\n"
     ]
    }
   ],
   "source": [
    "oscar_actress_info = pd.merge(winning_actors_info, oscar_actress_movies, left_on='page_id', right_on='Actress id')\n",
    "print(oscar_actress_info.columns)\n",
    "oscar_actress_info.drop(columns=['Freebase movie ID', 'sexLabel'], inplace=True)  #Remove the columns that are in character.csv\n",
    "oscar_actress_info.head(2)\n",
    "print(oscar_actress_info.shape)"
   ]
  },
  {
   "cell_type": "code",
   "execution_count": 111,
   "metadata": {},
   "outputs": [
    {
     "name": "stdout",
     "output_type": "stream",
     "text": [
      "No duplicate names with different Actress id found.\n"
     ]
    }
   ],
   "source": [
    "duplicates_with_different_ages = oscar_actress_info.groupby('Actor name').filter(lambda x: x['page_id'].nunique() > 1)\n",
    "\n",
    "if not duplicates_with_different_ages.empty:\n",
    "    print(\"Duplicate names with different ages found:\")\n",
    "    print(duplicates_with_different_ages)\n",
    "else:\n",
    "    print(\"No duplicate names with different Actress id found.\")"
   ]
  },
  {
   "cell_type": "code",
   "execution_count": 112,
   "metadata": {},
   "outputs": [
    {
     "data": {
      "application/vnd.plotly.v1+json": {
       "config": {
        "plotlyServerURL": "https://plot.ly"
       },
       "data": [
        {
         "hovertemplate": "Year=%{x}<br>Box Office Revenue ($)=%{y}<extra></extra>",
         "legendgroup": "",
         "line": {
          "color": "#636efa",
          "dash": "solid",
          "shape": "spline"
         },
         "marker": {
          "symbol": "circle"
         },
         "mode": "lines",
         "name": "",
         "orientation": "v",
         "showlegend": false,
         "type": "scatter",
         "x": [
          1928,
          1933,
          1934,
          1939,
          1940,
          1941,
          1942,
          1949,
          1950,
          1951,
          1952,
          1953,
          1954,
          1955,
          1957,
          1958,
          1960,
          1964,
          1966,
          1967,
          1968,
          1972,
          1973,
          1974,
          1975,
          1977,
          1978,
          1979,
          1980,
          1981,
          1982,
          1983,
          1984,
          1986,
          1988,
          1989,
          1990,
          1991,
          1992,
          1993,
          1994,
          1995,
          1996,
          1997,
          1998,
          1999,
          2000,
          2001,
          2002,
          2003,
          2004,
          2005,
          2007,
          2008,
          2009,
          2010,
          2011,
          2016,
          2017,
          2020,
          2022,
          2023
         ],
         "xaxis": "x",
         "y": [
          1700000,
          582000,
          2500000,
          400000000,
          2385000,
          4500000,
          8878000,
          2300000,
          4150000,
          8000000,
          3500000,
          12000000,
          6900000,
          4200000,
          1400000,
          5641711,
          7552000,
          102272727,
          40000000,
          56666667,
          80776975,
          42765000,
          16800000,
          18600000,
          108981275,
          38251425,
          32653905,
          22228000,
          67182787,
          119285432,
          30036000,
          108423489,
          34901614,
          31853080,
          32078318,
          145793296,
          61276872,
          272742922,
          25966555,
          40157856,
          3359465,
          83088295,
          60611975,
          314178011,
          289317794,
          11533945,
          256271286,
          44909486,
          108846072,
          60378584,
          216763646,
          186438883,
          86274793,
          108901967,
          309208309,
          329398046,
          114943631,
          471981104,
          158773427,
          9000000,
          97737200,
          93499622
         ],
         "yaxis": "y"
        }
       ],
       "layout": {
        "height": 600,
        "legend": {
         "tracegroupgap": 0
        },
        "template": {
         "data": {
          "bar": [
           {
            "error_x": {
             "color": "#2a3f5f"
            },
            "error_y": {
             "color": "#2a3f5f"
            },
            "marker": {
             "line": {
              "color": "#E5ECF6",
              "width": 0.5
             },
             "pattern": {
              "fillmode": "overlay",
              "size": 10,
              "solidity": 0.2
             }
            },
            "type": "bar"
           }
          ],
          "barpolar": [
           {
            "marker": {
             "line": {
              "color": "#E5ECF6",
              "width": 0.5
             },
             "pattern": {
              "fillmode": "overlay",
              "size": 10,
              "solidity": 0.2
             }
            },
            "type": "barpolar"
           }
          ],
          "carpet": [
           {
            "aaxis": {
             "endlinecolor": "#2a3f5f",
             "gridcolor": "white",
             "linecolor": "white",
             "minorgridcolor": "white",
             "startlinecolor": "#2a3f5f"
            },
            "baxis": {
             "endlinecolor": "#2a3f5f",
             "gridcolor": "white",
             "linecolor": "white",
             "minorgridcolor": "white",
             "startlinecolor": "#2a3f5f"
            },
            "type": "carpet"
           }
          ],
          "choropleth": [
           {
            "colorbar": {
             "outlinewidth": 0,
             "ticks": ""
            },
            "type": "choropleth"
           }
          ],
          "contour": [
           {
            "colorbar": {
             "outlinewidth": 0,
             "ticks": ""
            },
            "colorscale": [
             [
              0,
              "#0d0887"
             ],
             [
              0.1111111111111111,
              "#46039f"
             ],
             [
              0.2222222222222222,
              "#7201a8"
             ],
             [
              0.3333333333333333,
              "#9c179e"
             ],
             [
              0.4444444444444444,
              "#bd3786"
             ],
             [
              0.5555555555555556,
              "#d8576b"
             ],
             [
              0.6666666666666666,
              "#ed7953"
             ],
             [
              0.7777777777777778,
              "#fb9f3a"
             ],
             [
              0.8888888888888888,
              "#fdca26"
             ],
             [
              1,
              "#f0f921"
             ]
            ],
            "type": "contour"
           }
          ],
          "contourcarpet": [
           {
            "colorbar": {
             "outlinewidth": 0,
             "ticks": ""
            },
            "type": "contourcarpet"
           }
          ],
          "heatmap": [
           {
            "colorbar": {
             "outlinewidth": 0,
             "ticks": ""
            },
            "colorscale": [
             [
              0,
              "#0d0887"
             ],
             [
              0.1111111111111111,
              "#46039f"
             ],
             [
              0.2222222222222222,
              "#7201a8"
             ],
             [
              0.3333333333333333,
              "#9c179e"
             ],
             [
              0.4444444444444444,
              "#bd3786"
             ],
             [
              0.5555555555555556,
              "#d8576b"
             ],
             [
              0.6666666666666666,
              "#ed7953"
             ],
             [
              0.7777777777777778,
              "#fb9f3a"
             ],
             [
              0.8888888888888888,
              "#fdca26"
             ],
             [
              1,
              "#f0f921"
             ]
            ],
            "type": "heatmap"
           }
          ],
          "heatmapgl": [
           {
            "colorbar": {
             "outlinewidth": 0,
             "ticks": ""
            },
            "colorscale": [
             [
              0,
              "#0d0887"
             ],
             [
              0.1111111111111111,
              "#46039f"
             ],
             [
              0.2222222222222222,
              "#7201a8"
             ],
             [
              0.3333333333333333,
              "#9c179e"
             ],
             [
              0.4444444444444444,
              "#bd3786"
             ],
             [
              0.5555555555555556,
              "#d8576b"
             ],
             [
              0.6666666666666666,
              "#ed7953"
             ],
             [
              0.7777777777777778,
              "#fb9f3a"
             ],
             [
              0.8888888888888888,
              "#fdca26"
             ],
             [
              1,
              "#f0f921"
             ]
            ],
            "type": "heatmapgl"
           }
          ],
          "histogram": [
           {
            "marker": {
             "pattern": {
              "fillmode": "overlay",
              "size": 10,
              "solidity": 0.2
             }
            },
            "type": "histogram"
           }
          ],
          "histogram2d": [
           {
            "colorbar": {
             "outlinewidth": 0,
             "ticks": ""
            },
            "colorscale": [
             [
              0,
              "#0d0887"
             ],
             [
              0.1111111111111111,
              "#46039f"
             ],
             [
              0.2222222222222222,
              "#7201a8"
             ],
             [
              0.3333333333333333,
              "#9c179e"
             ],
             [
              0.4444444444444444,
              "#bd3786"
             ],
             [
              0.5555555555555556,
              "#d8576b"
             ],
             [
              0.6666666666666666,
              "#ed7953"
             ],
             [
              0.7777777777777778,
              "#fb9f3a"
             ],
             [
              0.8888888888888888,
              "#fdca26"
             ],
             [
              1,
              "#f0f921"
             ]
            ],
            "type": "histogram2d"
           }
          ],
          "histogram2dcontour": [
           {
            "colorbar": {
             "outlinewidth": 0,
             "ticks": ""
            },
            "colorscale": [
             [
              0,
              "#0d0887"
             ],
             [
              0.1111111111111111,
              "#46039f"
             ],
             [
              0.2222222222222222,
              "#7201a8"
             ],
             [
              0.3333333333333333,
              "#9c179e"
             ],
             [
              0.4444444444444444,
              "#bd3786"
             ],
             [
              0.5555555555555556,
              "#d8576b"
             ],
             [
              0.6666666666666666,
              "#ed7953"
             ],
             [
              0.7777777777777778,
              "#fb9f3a"
             ],
             [
              0.8888888888888888,
              "#fdca26"
             ],
             [
              1,
              "#f0f921"
             ]
            ],
            "type": "histogram2dcontour"
           }
          ],
          "mesh3d": [
           {
            "colorbar": {
             "outlinewidth": 0,
             "ticks": ""
            },
            "type": "mesh3d"
           }
          ],
          "parcoords": [
           {
            "line": {
             "colorbar": {
              "outlinewidth": 0,
              "ticks": ""
             }
            },
            "type": "parcoords"
           }
          ],
          "pie": [
           {
            "automargin": true,
            "type": "pie"
           }
          ],
          "scatter": [
           {
            "fillpattern": {
             "fillmode": "overlay",
             "size": 10,
             "solidity": 0.2
            },
            "type": "scatter"
           }
          ],
          "scatter3d": [
           {
            "line": {
             "colorbar": {
              "outlinewidth": 0,
              "ticks": ""
             }
            },
            "marker": {
             "colorbar": {
              "outlinewidth": 0,
              "ticks": ""
             }
            },
            "type": "scatter3d"
           }
          ],
          "scattercarpet": [
           {
            "marker": {
             "colorbar": {
              "outlinewidth": 0,
              "ticks": ""
             }
            },
            "type": "scattercarpet"
           }
          ],
          "scattergeo": [
           {
            "marker": {
             "colorbar": {
              "outlinewidth": 0,
              "ticks": ""
             }
            },
            "type": "scattergeo"
           }
          ],
          "scattergl": [
           {
            "marker": {
             "colorbar": {
              "outlinewidth": 0,
              "ticks": ""
             }
            },
            "type": "scattergl"
           }
          ],
          "scattermapbox": [
           {
            "marker": {
             "colorbar": {
              "outlinewidth": 0,
              "ticks": ""
             }
            },
            "type": "scattermapbox"
           }
          ],
          "scatterpolar": [
           {
            "marker": {
             "colorbar": {
              "outlinewidth": 0,
              "ticks": ""
             }
            },
            "type": "scatterpolar"
           }
          ],
          "scatterpolargl": [
           {
            "marker": {
             "colorbar": {
              "outlinewidth": 0,
              "ticks": ""
             }
            },
            "type": "scatterpolargl"
           }
          ],
          "scatterternary": [
           {
            "marker": {
             "colorbar": {
              "outlinewidth": 0,
              "ticks": ""
             }
            },
            "type": "scatterternary"
           }
          ],
          "surface": [
           {
            "colorbar": {
             "outlinewidth": 0,
             "ticks": ""
            },
            "colorscale": [
             [
              0,
              "#0d0887"
             ],
             [
              0.1111111111111111,
              "#46039f"
             ],
             [
              0.2222222222222222,
              "#7201a8"
             ],
             [
              0.3333333333333333,
              "#9c179e"
             ],
             [
              0.4444444444444444,
              "#bd3786"
             ],
             [
              0.5555555555555556,
              "#d8576b"
             ],
             [
              0.6666666666666666,
              "#ed7953"
             ],
             [
              0.7777777777777778,
              "#fb9f3a"
             ],
             [
              0.8888888888888888,
              "#fdca26"
             ],
             [
              1,
              "#f0f921"
             ]
            ],
            "type": "surface"
           }
          ],
          "table": [
           {
            "cells": {
             "fill": {
              "color": "#EBF0F8"
             },
             "line": {
              "color": "white"
             }
            },
            "header": {
             "fill": {
              "color": "#C8D4E3"
             },
             "line": {
              "color": "white"
             }
            },
            "type": "table"
           }
          ]
         },
         "layout": {
          "annotationdefaults": {
           "arrowcolor": "#2a3f5f",
           "arrowhead": 0,
           "arrowwidth": 1
          },
          "autotypenumbers": "strict",
          "coloraxis": {
           "colorbar": {
            "outlinewidth": 0,
            "ticks": ""
           }
          },
          "colorscale": {
           "diverging": [
            [
             0,
             "#8e0152"
            ],
            [
             0.1,
             "#c51b7d"
            ],
            [
             0.2,
             "#de77ae"
            ],
            [
             0.3,
             "#f1b6da"
            ],
            [
             0.4,
             "#fde0ef"
            ],
            [
             0.5,
             "#f7f7f7"
            ],
            [
             0.6,
             "#e6f5d0"
            ],
            [
             0.7,
             "#b8e186"
            ],
            [
             0.8,
             "#7fbc41"
            ],
            [
             0.9,
             "#4d9221"
            ],
            [
             1,
             "#276419"
            ]
           ],
           "sequential": [
            [
             0,
             "#0d0887"
            ],
            [
             0.1111111111111111,
             "#46039f"
            ],
            [
             0.2222222222222222,
             "#7201a8"
            ],
            [
             0.3333333333333333,
             "#9c179e"
            ],
            [
             0.4444444444444444,
             "#bd3786"
            ],
            [
             0.5555555555555556,
             "#d8576b"
            ],
            [
             0.6666666666666666,
             "#ed7953"
            ],
            [
             0.7777777777777778,
             "#fb9f3a"
            ],
            [
             0.8888888888888888,
             "#fdca26"
            ],
            [
             1,
             "#f0f921"
            ]
           ],
           "sequentialminus": [
            [
             0,
             "#0d0887"
            ],
            [
             0.1111111111111111,
             "#46039f"
            ],
            [
             0.2222222222222222,
             "#7201a8"
            ],
            [
             0.3333333333333333,
             "#9c179e"
            ],
            [
             0.4444444444444444,
             "#bd3786"
            ],
            [
             0.5555555555555556,
             "#d8576b"
            ],
            [
             0.6666666666666666,
             "#ed7953"
            ],
            [
             0.7777777777777778,
             "#fb9f3a"
            ],
            [
             0.8888888888888888,
             "#fdca26"
            ],
            [
             1,
             "#f0f921"
            ]
           ]
          },
          "colorway": [
           "#636efa",
           "#EF553B",
           "#00cc96",
           "#ab63fa",
           "#FFA15A",
           "#19d3f3",
           "#FF6692",
           "#B6E880",
           "#FF97FF",
           "#FECB52"
          ],
          "font": {
           "color": "#2a3f5f"
          },
          "geo": {
           "bgcolor": "white",
           "lakecolor": "white",
           "landcolor": "#E5ECF6",
           "showlakes": true,
           "showland": true,
           "subunitcolor": "white"
          },
          "hoverlabel": {
           "align": "left"
          },
          "hovermode": "closest",
          "mapbox": {
           "style": "light"
          },
          "paper_bgcolor": "white",
          "plot_bgcolor": "#E5ECF6",
          "polar": {
           "angularaxis": {
            "gridcolor": "white",
            "linecolor": "white",
            "ticks": ""
           },
           "bgcolor": "#E5ECF6",
           "radialaxis": {
            "gridcolor": "white",
            "linecolor": "white",
            "ticks": ""
           }
          },
          "scene": {
           "xaxis": {
            "backgroundcolor": "#E5ECF6",
            "gridcolor": "white",
            "gridwidth": 2,
            "linecolor": "white",
            "showbackground": true,
            "ticks": "",
            "zerolinecolor": "white"
           },
           "yaxis": {
            "backgroundcolor": "#E5ECF6",
            "gridcolor": "white",
            "gridwidth": 2,
            "linecolor": "white",
            "showbackground": true,
            "ticks": "",
            "zerolinecolor": "white"
           },
           "zaxis": {
            "backgroundcolor": "#E5ECF6",
            "gridcolor": "white",
            "gridwidth": 2,
            "linecolor": "white",
            "showbackground": true,
            "ticks": "",
            "zerolinecolor": "white"
           }
          },
          "shapedefaults": {
           "line": {
            "color": "#2a3f5f"
           }
          },
          "ternary": {
           "aaxis": {
            "gridcolor": "white",
            "linecolor": "white",
            "ticks": ""
           },
           "baxis": {
            "gridcolor": "white",
            "linecolor": "white",
            "ticks": ""
           },
           "bgcolor": "#E5ECF6",
           "caxis": {
            "gridcolor": "white",
            "linecolor": "white",
            "ticks": ""
           }
          },
          "title": {
           "x": 0.05
          },
          "xaxis": {
           "automargin": true,
           "gridcolor": "white",
           "linecolor": "white",
           "ticks": "",
           "title": {
            "standoff": 15
           },
           "zerolinecolor": "white",
           "zerolinewidth": 2
          },
          "yaxis": {
           "automargin": true,
           "gridcolor": "white",
           "linecolor": "white",
           "ticks": "",
           "title": {
            "standoff": 15
           },
           "zerolinecolor": "white",
           "zerolinewidth": 2
          }
         }
        },
        "title": {
         "text": "Evolution of Movie Box Office Revenue Over the Years"
        },
        "width": 800,
        "xaxis": {
         "anchor": "y",
         "domain": [
          0,
          1
         ],
         "title": {
          "text": "Year"
         }
        },
        "yaxis": {
         "anchor": "x",
         "domain": [
          0,
          1
         ],
         "tickformat": "$,.0f",
         "title": {
          "text": "Total Box Office Revenue ($)"
         }
        }
       }
      }
     },
     "metadata": {},
     "output_type": "display_data"
    }
   ],
   "source": [
    "# Prepare data for box office revenue evolution\n",
    "oscar_revenue_data_corrected = oscar_actress_info[['Movie box office revenue', 'Movie release date']].dropna()\n",
    "oscar_revenue_data_corrected = oscar_revenue_data_corrected.dropna(subset=['Movie release date'])\n",
    "\n",
    "# Group by year and calculate total box office revenue\n",
    "oscar_revenue_data_corrected['Year'] = oscar_revenue_data_corrected['Movie release date']\n",
    "revenue_by_year_corrected = oscar_revenue_data_corrected.groupby('Year')['Movie box office revenue'].sum().reset_index()\n",
    "\n",
    "# Create a line chart\n",
    "fig = px.line(\n",
    "    revenue_by_year_corrected,\n",
    "    x='Year',\n",
    "    y='Movie box office revenue',\n",
    "    title='Evolution of Movie Box Office Revenue Over the Years',\n",
    "    labels={'Year': 'Year', 'Movie box office revenue': 'Box Office Revenue ($)'},\n",
    "    line_shape='spline'\n",
    ")\n",
    "\n",
    "# Update layout for better readability\n",
    "fig.update_layout(\n",
    "    xaxis=dict(title='Year'),\n",
    "    yaxis=dict(title='Total Box Office Revenue ($)', tickformat='$,.0f'),\n",
    "    width=800, \n",
    "    height=600  \n",
    ")\n",
    "\n",
    "fig.show()"
   ]
  },
  {
   "cell_type": "code",
   "execution_count": 113,
   "metadata": {},
   "outputs": [
    {
     "data": {
      "text/html": [
       "<div>\n",
       "<style scoped>\n",
       "    .dataframe tbody tr th:only-of-type {\n",
       "        vertical-align: middle;\n",
       "    }\n",
       "\n",
       "    .dataframe tbody tr th {\n",
       "        vertical-align: top;\n",
       "    }\n",
       "\n",
       "    .dataframe thead th {\n",
       "        text-align: right;\n",
       "    }\n",
       "</style>\n",
       "<table border=\"1\" class=\"dataframe\">\n",
       "  <thead>\n",
       "    <tr style=\"text-align: right;\">\n",
       "      <th></th>\n",
       "      <th>page_id</th>\n",
       "      <th>wikidata_id</th>\n",
       "      <th>nativeLanguageLabel</th>\n",
       "      <th>countryOfCitizenshipLabel</th>\n",
       "      <th>ethnicGroupLabel</th>\n",
       "      <th>Actor name</th>\n",
       "      <th>Actress id</th>\n",
       "      <th>Wikipedia movie ID</th>\n",
       "      <th>Movie name</th>\n",
       "      <th>Movie release date</th>\n",
       "      <th>...</th>\n",
       "      <th>Movie countries</th>\n",
       "      <th>Movie genres</th>\n",
       "      <th>reviewScores</th>\n",
       "      <th>awardsReceived</th>\n",
       "      <th>awardsNominated</th>\n",
       "      <th>capitalCost</th>\n",
       "      <th>Actor age at movie release</th>\n",
       "      <th>Actor date of birth</th>\n",
       "      <th>Actor ethnicity</th>\n",
       "      <th>Freebase actor ID</th>\n",
       "    </tr>\n",
       "  </thead>\n",
       "  <tbody>\n",
       "    <tr>\n",
       "      <th>0</th>\n",
       "      <td>45794</td>\n",
       "      <td>Q182462</td>\n",
       "      <td>NaN</td>\n",
       "      <td>United States of America</td>\n",
       "      <td>NaN</td>\n",
       "      <td>Janet Gaynor</td>\n",
       "      <td>45794</td>\n",
       "      <td>61049</td>\n",
       "      <td>Seventh Heaven</td>\n",
       "      <td>NaN</td>\n",
       "      <td>...</td>\n",
       "      <td>United States of America</td>\n",
       "      <td>Silent film, Indie, Black-and-white, Drama, Wa...</td>\n",
       "      <td>NaN</td>\n",
       "      <td>NaN</td>\n",
       "      <td>NaN</td>\n",
       "      <td>NaN</td>\n",
       "      <td>20.0</td>\n",
       "      <td>1906.0</td>\n",
       "      <td>NaN</td>\n",
       "      <td>/m/0cf3c</td>\n",
       "    </tr>\n",
       "    <tr>\n",
       "      <th>1</th>\n",
       "      <td>45794</td>\n",
       "      <td>Q182462</td>\n",
       "      <td>NaN</td>\n",
       "      <td>United States of America</td>\n",
       "      <td>NaN</td>\n",
       "      <td>Janet Gaynor</td>\n",
       "      <td>45794</td>\n",
       "      <td>171990</td>\n",
       "      <td>Street Angel</td>\n",
       "      <td>1928.0</td>\n",
       "      <td>...</td>\n",
       "      <td>United States of America</td>\n",
       "      <td>Silent film, Indie, Black-and-white, Drama, Ro...</td>\n",
       "      <td>NaN</td>\n",
       "      <td>NaN</td>\n",
       "      <td>NaN</td>\n",
       "      <td>NaN</td>\n",
       "      <td>21.0</td>\n",
       "      <td>1906.0</td>\n",
       "      <td>NaN</td>\n",
       "      <td>/m/0cf3c</td>\n",
       "    </tr>\n",
       "    <tr>\n",
       "      <th>2</th>\n",
       "      <td>45794</td>\n",
       "      <td>Q182462</td>\n",
       "      <td>NaN</td>\n",
       "      <td>United States of America</td>\n",
       "      <td>NaN</td>\n",
       "      <td>Janet Gaynor</td>\n",
       "      <td>45794</td>\n",
       "      <td>61904</td>\n",
       "      <td>Sunrise: A Song of Two Humans</td>\n",
       "      <td>NaN</td>\n",
       "      <td>...</td>\n",
       "      <td>United States of America</td>\n",
       "      <td>Crime Fiction, Silent film, Indie, Black-and-w...</td>\n",
       "      <td>NaN</td>\n",
       "      <td>NaN</td>\n",
       "      <td>NaN</td>\n",
       "      <td>NaN</td>\n",
       "      <td>20.0</td>\n",
       "      <td>1906.0</td>\n",
       "      <td>NaN</td>\n",
       "      <td>/m/0cf3c</td>\n",
       "    </tr>\n",
       "    <tr>\n",
       "      <th>3</th>\n",
       "      <td>18823</td>\n",
       "      <td>Q104109</td>\n",
       "      <td>English</td>\n",
       "      <td>Canada</td>\n",
       "      <td>NaN</td>\n",
       "      <td>Mary Pickford</td>\n",
       "      <td>18823</td>\n",
       "      <td>172008</td>\n",
       "      <td>Coquette</td>\n",
       "      <td>NaN</td>\n",
       "      <td>...</td>\n",
       "      <td>United States of America</td>\n",
       "      <td>Drama, Black-and-white</td>\n",
       "      <td>NaN</td>\n",
       "      <td>NaN</td>\n",
       "      <td>NaN</td>\n",
       "      <td>NaN</td>\n",
       "      <td>NaN</td>\n",
       "      <td>1892.0</td>\n",
       "      <td>NaN</td>\n",
       "      <td>/m/04rfq</td>\n",
       "    </tr>\n",
       "    <tr>\n",
       "      <th>4</th>\n",
       "      <td>61354</td>\n",
       "      <td>Q95019</td>\n",
       "      <td>English</td>\n",
       "      <td>United States of America</td>\n",
       "      <td>NaN</td>\n",
       "      <td>Norma Shearer</td>\n",
       "      <td>61354</td>\n",
       "      <td>61191</td>\n",
       "      <td>The Divorcee</td>\n",
       "      <td>1930.0</td>\n",
       "      <td>...</td>\n",
       "      <td>United States of America</td>\n",
       "      <td>Pre-Code, Black-and-white, Drama, Film adaptat...</td>\n",
       "      <td>NaN</td>\n",
       "      <td>NaN</td>\n",
       "      <td>NaN</td>\n",
       "      <td>NaN</td>\n",
       "      <td>27.0</td>\n",
       "      <td>1902.0</td>\n",
       "      <td>Canadian Americans</td>\n",
       "      <td>/m/0gmv3</td>\n",
       "    </tr>\n",
       "    <tr>\n",
       "      <th>...</th>\n",
       "      <td>...</td>\n",
       "      <td>...</td>\n",
       "      <td>...</td>\n",
       "      <td>...</td>\n",
       "      <td>...</td>\n",
       "      <td>...</td>\n",
       "      <td>...</td>\n",
       "      <td>...</td>\n",
       "      <td>...</td>\n",
       "      <td>...</td>\n",
       "      <td>...</td>\n",
       "      <td>...</td>\n",
       "      <td>...</td>\n",
       "      <td>...</td>\n",
       "      <td>...</td>\n",
       "      <td>...</td>\n",
       "      <td>...</td>\n",
       "      <td>...</td>\n",
       "      <td>...</td>\n",
       "      <td>...</td>\n",
       "      <td>...</td>\n",
       "    </tr>\n",
       "    <tr>\n",
       "      <th>84</th>\n",
       "      <td>2539269</td>\n",
       "      <td>Q8927</td>\n",
       "      <td>French</td>\n",
       "      <td>France</td>\n",
       "      <td>NaN</td>\n",
       "      <td>Marion Cotillard</td>\n",
       "      <td>2539269</td>\n",
       "      <td>10249080</td>\n",
       "      <td>La Vie En Rose</td>\n",
       "      <td>2007.0</td>\n",
       "      <td>...</td>\n",
       "      <td>France</td>\n",
       "      <td>Musical, Biography, Drama, Biographical film, ...</td>\n",
       "      <td>NaN</td>\n",
       "      <td>NaN</td>\n",
       "      <td>NaN</td>\n",
       "      <td>NaN</td>\n",
       "      <td>31.0</td>\n",
       "      <td>1975.0</td>\n",
       "      <td>French</td>\n",
       "      <td>/m/07lt7b</td>\n",
       "    </tr>\n",
       "    <tr>\n",
       "      <th>85</th>\n",
       "      <td>52707</td>\n",
       "      <td>Q202765</td>\n",
       "      <td>NaN</td>\n",
       "      <td>United Kingdom</td>\n",
       "      <td>NaN</td>\n",
       "      <td>Kate Winslet</td>\n",
       "      <td>52707</td>\n",
       "      <td>14149346</td>\n",
       "      <td>The Reader</td>\n",
       "      <td>2008.0</td>\n",
       "      <td>...</td>\n",
       "      <td>United States of America</td>\n",
       "      <td>Tragedy, Period piece, Drama, Film adaptation,...</td>\n",
       "      <td>NaN</td>\n",
       "      <td>NaN</td>\n",
       "      <td>NaN</td>\n",
       "      <td>NaN</td>\n",
       "      <td>33.0</td>\n",
       "      <td>1975.0</td>\n",
       "      <td>English people</td>\n",
       "      <td>/m/0dvld</td>\n",
       "    </tr>\n",
       "    <tr>\n",
       "      <th>86</th>\n",
       "      <td>29455</td>\n",
       "      <td>Q40791</td>\n",
       "      <td>English</td>\n",
       "      <td>Germany</td>\n",
       "      <td>NaN</td>\n",
       "      <td>Sandra Bullock</td>\n",
       "      <td>29455</td>\n",
       "      <td>22729553</td>\n",
       "      <td>The Blind Side</td>\n",
       "      <td>2009.0</td>\n",
       "      <td>...</td>\n",
       "      <td>United States of America</td>\n",
       "      <td>Biography, Inspirational Drama, Family Drama, ...</td>\n",
       "      <td>NaN</td>\n",
       "      <td>NaN</td>\n",
       "      <td>NaN</td>\n",
       "      <td>NaN</td>\n",
       "      <td>45.0</td>\n",
       "      <td>1964.0</td>\n",
       "      <td>NaN</td>\n",
       "      <td>/m/0794g</td>\n",
       "    </tr>\n",
       "    <tr>\n",
       "      <th>87</th>\n",
       "      <td>38459</td>\n",
       "      <td>Q37876</td>\n",
       "      <td>English</td>\n",
       "      <td>United States of America</td>\n",
       "      <td>NaN</td>\n",
       "      <td>Natalie Portman</td>\n",
       "      <td>38459</td>\n",
       "      <td>24480838</td>\n",
       "      <td>Black Swan</td>\n",
       "      <td>2010.0</td>\n",
       "      <td>...</td>\n",
       "      <td>United States of America</td>\n",
       "      <td>Thriller, Horror, Psychological thriller, Myst...</td>\n",
       "      <td>NaN</td>\n",
       "      <td>NaN</td>\n",
       "      <td>NaN</td>\n",
       "      <td>NaN</td>\n",
       "      <td>29.0</td>\n",
       "      <td>1981.0</td>\n",
       "      <td>Israeli Americans</td>\n",
       "      <td>/m/09l3p</td>\n",
       "    </tr>\n",
       "    <tr>\n",
       "      <th>88</th>\n",
       "      <td>12684530</td>\n",
       "      <td>Q189490</td>\n",
       "      <td>English</td>\n",
       "      <td>United States of America</td>\n",
       "      <td>British Americans</td>\n",
       "      <td>Jennifer Lawrence</td>\n",
       "      <td>12684530</td>\n",
       "      <td>33502433</td>\n",
       "      <td>The Silver Linings Playbook</td>\n",
       "      <td>2012.0</td>\n",
       "      <td>...</td>\n",
       "      <td>United States of America</td>\n",
       "      <td>Comedy</td>\n",
       "      <td>NaN</td>\n",
       "      <td>NaN</td>\n",
       "      <td>NaN</td>\n",
       "      <td>NaN</td>\n",
       "      <td>22.0</td>\n",
       "      <td>1990.0</td>\n",
       "      <td>NaN</td>\n",
       "      <td>/m/02x0dzw</td>\n",
       "    </tr>\n",
       "  </tbody>\n",
       "</table>\n",
       "<p>89 rows × 23 columns</p>\n",
       "</div>"
      ],
      "text/plain": [
       "     page_id wikidata_id nativeLanguageLabel countryOfCitizenshipLabel  \\\n",
       "0      45794     Q182462                 NaN  United States of America   \n",
       "1      45794     Q182462                 NaN  United States of America   \n",
       "2      45794     Q182462                 NaN  United States of America   \n",
       "3      18823     Q104109             English                    Canada   \n",
       "4      61354      Q95019             English  United States of America   \n",
       "..       ...         ...                 ...                       ...   \n",
       "84   2539269       Q8927              French                    France   \n",
       "85     52707     Q202765                 NaN            United Kingdom   \n",
       "86     29455      Q40791             English                   Germany   \n",
       "87     38459      Q37876             English  United States of America   \n",
       "88  12684530     Q189490             English  United States of America   \n",
       "\n",
       "     ethnicGroupLabel         Actor name  Actress id  Wikipedia movie ID  \\\n",
       "0                 NaN       Janet Gaynor       45794               61049   \n",
       "1                 NaN       Janet Gaynor       45794              171990   \n",
       "2                 NaN       Janet Gaynor       45794               61904   \n",
       "3                 NaN      Mary Pickford       18823              172008   \n",
       "4                 NaN      Norma Shearer       61354               61191   \n",
       "..                ...                ...         ...                 ...   \n",
       "84                NaN   Marion Cotillard     2539269            10249080   \n",
       "85                NaN       Kate Winslet       52707            14149346   \n",
       "86                NaN     Sandra Bullock       29455            22729553   \n",
       "87                NaN    Natalie Portman       38459            24480838   \n",
       "88  British Americans  Jennifer Lawrence    12684530            33502433   \n",
       "\n",
       "                       Movie name  Movie release date  ...  \\\n",
       "0                  Seventh Heaven                 NaN  ...   \n",
       "1                    Street Angel              1928.0  ...   \n",
       "2   Sunrise: A Song of Two Humans                 NaN  ...   \n",
       "3                        Coquette                 NaN  ...   \n",
       "4                    The Divorcee              1930.0  ...   \n",
       "..                            ...                 ...  ...   \n",
       "84                 La Vie En Rose              2007.0  ...   \n",
       "85                     The Reader              2008.0  ...   \n",
       "86                 The Blind Side              2009.0  ...   \n",
       "87                     Black Swan              2010.0  ...   \n",
       "88    The Silver Linings Playbook              2012.0  ...   \n",
       "\n",
       "             Movie countries  \\\n",
       "0   United States of America   \n",
       "1   United States of America   \n",
       "2   United States of America   \n",
       "3   United States of America   \n",
       "4   United States of America   \n",
       "..                       ...   \n",
       "84                    France   \n",
       "85  United States of America   \n",
       "86  United States of America   \n",
       "87  United States of America   \n",
       "88  United States of America   \n",
       "\n",
       "                                         Movie genres reviewScores  \\\n",
       "0   Silent film, Indie, Black-and-white, Drama, Wa...          NaN   \n",
       "1   Silent film, Indie, Black-and-white, Drama, Ro...          NaN   \n",
       "2   Crime Fiction, Silent film, Indie, Black-and-w...          NaN   \n",
       "3                              Drama, Black-and-white          NaN   \n",
       "4   Pre-Code, Black-and-white, Drama, Film adaptat...          NaN   \n",
       "..                                                ...          ...   \n",
       "84  Musical, Biography, Drama, Biographical film, ...          NaN   \n",
       "85  Tragedy, Period piece, Drama, Film adaptation,...          NaN   \n",
       "86  Biography, Inspirational Drama, Family Drama, ...          NaN   \n",
       "87  Thriller, Horror, Psychological thriller, Myst...          NaN   \n",
       "88                                             Comedy          NaN   \n",
       "\n",
       "   awardsReceived awardsNominated capitalCost Actor age at movie release  \\\n",
       "0             NaN             NaN         NaN                       20.0   \n",
       "1             NaN             NaN         NaN                       21.0   \n",
       "2             NaN             NaN         NaN                       20.0   \n",
       "3             NaN             NaN         NaN                        NaN   \n",
       "4             NaN             NaN         NaN                       27.0   \n",
       "..            ...             ...         ...                        ...   \n",
       "84            NaN             NaN         NaN                       31.0   \n",
       "85            NaN             NaN         NaN                       33.0   \n",
       "86            NaN             NaN         NaN                       45.0   \n",
       "87            NaN             NaN         NaN                       29.0   \n",
       "88            NaN             NaN         NaN                       22.0   \n",
       "\n",
       "   Actor date of birth     Actor ethnicity  Freebase actor ID  \n",
       "0               1906.0                 NaN           /m/0cf3c  \n",
       "1               1906.0                 NaN           /m/0cf3c  \n",
       "2               1906.0                 NaN           /m/0cf3c  \n",
       "3               1892.0                 NaN           /m/04rfq  \n",
       "4               1902.0  Canadian Americans           /m/0gmv3  \n",
       "..                 ...                 ...                ...  \n",
       "84              1975.0              French          /m/07lt7b  \n",
       "85              1975.0      English people           /m/0dvld  \n",
       "86              1964.0                 NaN           /m/0794g  \n",
       "87              1981.0   Israeli Americans           /m/09l3p  \n",
       "88              1990.0                 NaN         /m/02x0dzw  \n",
       "\n",
       "[89 rows x 23 columns]"
      ]
     },
     "execution_count": 113,
     "metadata": {},
     "output_type": "execute_result"
    }
   ],
   "source": [
    "oscar_actress_info = pd.merge(oscar_actress_info, character[['Wikipedia movie ID', 'Actor name', 'Actor age at movie release', 'Actor date of birth', 'Actor ethnicity', 'Freebase actor ID']], on=['Wikipedia movie ID', 'Actor name'])\n",
    "\n",
    "\n",
    "oscar_actress_info.head(89)"
   ]
  },
  {
   "cell_type": "code",
   "execution_count": 114,
   "metadata": {},
   "outputs": [
    {
     "name": "stdout",
     "output_type": "stream",
     "text": [
      "Shape: (89, 23)\n",
      "Columns: Index(['page_id', 'wikidata_id', 'nativeLanguageLabel',\n",
      "       'countryOfCitizenshipLabel', 'ethnicGroupLabel', 'Actor name',\n",
      "       'Actress id', 'Wikipedia movie ID', 'Movie name', 'Movie release date',\n",
      "       'Movie box office revenue', 'Movie runtime', 'Movie languages',\n",
      "       'Movie countries', 'Movie genres', 'reviewScores', 'awardsReceived',\n",
      "       'awardsNominated', 'capitalCost', 'Actor age at movie release',\n",
      "       'Actor date of birth', 'Actor ethnicity', 'Freebase actor ID'],\n",
      "      dtype='object')\n",
      "Missing actresses in the cleaned dataset: 90      160126\n",
      "91      243685\n",
      "92     1339248\n",
      "93     3741746\n",
      "94     3741746\n",
      "95     1856120\n",
      "96      204352\n",
      "97    17181314\n",
      "98      147873\n",
      "Name: Actress id, dtype: int64\n"
     ]
    },
    {
     "data": {
      "text/html": [
       "<div>\n",
       "<style scoped>\n",
       "    .dataframe tbody tr th:only-of-type {\n",
       "        vertical-align: middle;\n",
       "    }\n",
       "\n",
       "    .dataframe tbody tr th {\n",
       "        vertical-align: top;\n",
       "    }\n",
       "\n",
       "    .dataframe thead th {\n",
       "        text-align: right;\n",
       "    }\n",
       "</style>\n",
       "<table border=\"1\" class=\"dataframe\">\n",
       "  <thead>\n",
       "    <tr style=\"text-align: right;\">\n",
       "      <th></th>\n",
       "      <th>page_id</th>\n",
       "      <th>wikidata_id</th>\n",
       "      <th>nativeLanguageLabel</th>\n",
       "      <th>countryOfCitizenshipLabel</th>\n",
       "      <th>ethnicGroupLabel</th>\n",
       "      <th>Actor name</th>\n",
       "      <th>Actress id</th>\n",
       "      <th>Wikipedia movie ID</th>\n",
       "      <th>Movie name</th>\n",
       "      <th>Movie release date</th>\n",
       "      <th>...</th>\n",
       "      <th>Movie countries</th>\n",
       "      <th>Movie genres</th>\n",
       "      <th>reviewScores</th>\n",
       "      <th>awardsReceived</th>\n",
       "      <th>awardsNominated</th>\n",
       "      <th>capitalCost</th>\n",
       "      <th>Actor age at movie release</th>\n",
       "      <th>Actor date of birth</th>\n",
       "      <th>Actor ethnicity</th>\n",
       "      <th>Freebase actor ID</th>\n",
       "    </tr>\n",
       "  </thead>\n",
       "  <tbody>\n",
       "    <tr>\n",
       "      <th>0</th>\n",
       "      <td>45794</td>\n",
       "      <td>Q182462</td>\n",
       "      <td>NaN</td>\n",
       "      <td>United States of America</td>\n",
       "      <td>NaN</td>\n",
       "      <td>Janet Gaynor</td>\n",
       "      <td>45794</td>\n",
       "      <td>61049</td>\n",
       "      <td>Seventh Heaven</td>\n",
       "      <td>NaN</td>\n",
       "      <td>...</td>\n",
       "      <td>United States of America</td>\n",
       "      <td>Silent film, Indie, Black-and-white, Drama, Wa...</td>\n",
       "      <td>NaN</td>\n",
       "      <td>NaN</td>\n",
       "      <td>NaN</td>\n",
       "      <td>NaN</td>\n",
       "      <td>20.0</td>\n",
       "      <td>1906.0</td>\n",
       "      <td>NaN</td>\n",
       "      <td>/m/0cf3c</td>\n",
       "    </tr>\n",
       "    <tr>\n",
       "      <th>1</th>\n",
       "      <td>45794</td>\n",
       "      <td>Q182462</td>\n",
       "      <td>NaN</td>\n",
       "      <td>United States of America</td>\n",
       "      <td>NaN</td>\n",
       "      <td>Janet Gaynor</td>\n",
       "      <td>45794</td>\n",
       "      <td>171990</td>\n",
       "      <td>Street Angel</td>\n",
       "      <td>1928.0</td>\n",
       "      <td>...</td>\n",
       "      <td>United States of America</td>\n",
       "      <td>Silent film, Indie, Black-and-white, Drama, Ro...</td>\n",
       "      <td>NaN</td>\n",
       "      <td>NaN</td>\n",
       "      <td>NaN</td>\n",
       "      <td>NaN</td>\n",
       "      <td>21.0</td>\n",
       "      <td>1906.0</td>\n",
       "      <td>NaN</td>\n",
       "      <td>/m/0cf3c</td>\n",
       "    </tr>\n",
       "    <tr>\n",
       "      <th>2</th>\n",
       "      <td>45794</td>\n",
       "      <td>Q182462</td>\n",
       "      <td>NaN</td>\n",
       "      <td>United States of America</td>\n",
       "      <td>NaN</td>\n",
       "      <td>Janet Gaynor</td>\n",
       "      <td>45794</td>\n",
       "      <td>61904</td>\n",
       "      <td>Sunrise: A Song of Two Humans</td>\n",
       "      <td>NaN</td>\n",
       "      <td>...</td>\n",
       "      <td>United States of America</td>\n",
       "      <td>Crime Fiction, Silent film, Indie, Black-and-w...</td>\n",
       "      <td>NaN</td>\n",
       "      <td>NaN</td>\n",
       "      <td>NaN</td>\n",
       "      <td>NaN</td>\n",
       "      <td>20.0</td>\n",
       "      <td>1906.0</td>\n",
       "      <td>NaN</td>\n",
       "      <td>/m/0cf3c</td>\n",
       "    </tr>\n",
       "  </tbody>\n",
       "</table>\n",
       "<p>3 rows × 23 columns</p>\n",
       "</div>"
      ],
      "text/plain": [
       "   page_id wikidata_id nativeLanguageLabel countryOfCitizenshipLabel  \\\n",
       "0    45794     Q182462                 NaN  United States of America   \n",
       "1    45794     Q182462                 NaN  United States of America   \n",
       "2    45794     Q182462                 NaN  United States of America   \n",
       "\n",
       "  ethnicGroupLabel    Actor name  Actress id  Wikipedia movie ID  \\\n",
       "0              NaN  Janet Gaynor       45794               61049   \n",
       "1              NaN  Janet Gaynor       45794              171990   \n",
       "2              NaN  Janet Gaynor       45794               61904   \n",
       "\n",
       "                      Movie name  Movie release date  ...  \\\n",
       "0                 Seventh Heaven                 NaN  ...   \n",
       "1                   Street Angel              1928.0  ...   \n",
       "2  Sunrise: A Song of Two Humans                 NaN  ...   \n",
       "\n",
       "            Movie countries  \\\n",
       "0  United States of America   \n",
       "1  United States of America   \n",
       "2  United States of America   \n",
       "\n",
       "                                        Movie genres reviewScores  \\\n",
       "0  Silent film, Indie, Black-and-white, Drama, Wa...          NaN   \n",
       "1  Silent film, Indie, Black-and-white, Drama, Ro...          NaN   \n",
       "2  Crime Fiction, Silent film, Indie, Black-and-w...          NaN   \n",
       "\n",
       "  awardsReceived awardsNominated capitalCost Actor age at movie release  \\\n",
       "0            NaN             NaN         NaN                       20.0   \n",
       "1            NaN             NaN         NaN                       21.0   \n",
       "2            NaN             NaN         NaN                       20.0   \n",
       "\n",
       "  Actor date of birth  Actor ethnicity  Freebase actor ID  \n",
       "0              1906.0              NaN           /m/0cf3c  \n",
       "1              1906.0              NaN           /m/0cf3c  \n",
       "2              1906.0              NaN           /m/0cf3c  \n",
       "\n",
       "[3 rows x 23 columns]"
      ]
     },
     "execution_count": 114,
     "metadata": {},
     "output_type": "execute_result"
    }
   ],
   "source": [
    "print('Shape:', oscar_actress_info.shape)\n",
    "print('Columns:', oscar_actress_info.columns)\n",
    "missing_values = oscar_winning_actresses['Actress id'][~oscar_winning_actresses['Actress id'].isin(oscar_actress_info['Actress id'])]\n",
    "print('Missing actresses in the cleaned dataset:', missing_values)\n",
    "oscar_actress_info.head(3)"
   ]
  },
  {
   "cell_type": "code",
   "execution_count": 115,
   "metadata": {},
   "outputs": [
    {
     "data": {
      "application/vnd.plotly.v1+json": {
       "config": {
        "plotlyServerURL": "https://plot.ly"
       },
       "data": [
        {
         "alignmentgroup": "True",
         "hovertemplate": "Actor age at movie release=%{x}<br>Count=%{y}<extra></extra>",
         "legendgroup": "",
         "marker": {
          "color": "#636efa",
          "pattern": {
           "shape": ""
          }
         },
         "name": "",
         "offsetgroup": "",
         "orientation": "v",
         "showlegend": false,
         "textposition": "auto",
         "type": "bar",
         "x": [
          20,
          21,
          22,
          24,
          25,
          26,
          27,
          28,
          29,
          30,
          31,
          32,
          33,
          34,
          35,
          36,
          37,
          38,
          40,
          41,
          42,
          45,
          47,
          49,
          60,
          61,
          62,
          74,
          80
         ],
         "xaxis": "x",
         "y": [
          2,
          2,
          1,
          4,
          4,
          6,
          4,
          5,
          6,
          5,
          3,
          3,
          4,
          4,
          4,
          1,
          3,
          3,
          3,
          4,
          2,
          2,
          1,
          2,
          2,
          2,
          1,
          1,
          1
         ],
         "yaxis": "y"
        }
       ],
       "layout": {
        "barmode": "relative",
        "legend": {
         "tracegroupgap": 0
        },
        "template": {
         "data": {
          "bar": [
           {
            "error_x": {
             "color": "#2a3f5f"
            },
            "error_y": {
             "color": "#2a3f5f"
            },
            "marker": {
             "line": {
              "color": "#E5ECF6",
              "width": 0.5
             },
             "pattern": {
              "fillmode": "overlay",
              "size": 10,
              "solidity": 0.2
             }
            },
            "type": "bar"
           }
          ],
          "barpolar": [
           {
            "marker": {
             "line": {
              "color": "#E5ECF6",
              "width": 0.5
             },
             "pattern": {
              "fillmode": "overlay",
              "size": 10,
              "solidity": 0.2
             }
            },
            "type": "barpolar"
           }
          ],
          "carpet": [
           {
            "aaxis": {
             "endlinecolor": "#2a3f5f",
             "gridcolor": "white",
             "linecolor": "white",
             "minorgridcolor": "white",
             "startlinecolor": "#2a3f5f"
            },
            "baxis": {
             "endlinecolor": "#2a3f5f",
             "gridcolor": "white",
             "linecolor": "white",
             "minorgridcolor": "white",
             "startlinecolor": "#2a3f5f"
            },
            "type": "carpet"
           }
          ],
          "choropleth": [
           {
            "colorbar": {
             "outlinewidth": 0,
             "ticks": ""
            },
            "type": "choropleth"
           }
          ],
          "contour": [
           {
            "colorbar": {
             "outlinewidth": 0,
             "ticks": ""
            },
            "colorscale": [
             [
              0,
              "#0d0887"
             ],
             [
              0.1111111111111111,
              "#46039f"
             ],
             [
              0.2222222222222222,
              "#7201a8"
             ],
             [
              0.3333333333333333,
              "#9c179e"
             ],
             [
              0.4444444444444444,
              "#bd3786"
             ],
             [
              0.5555555555555556,
              "#d8576b"
             ],
             [
              0.6666666666666666,
              "#ed7953"
             ],
             [
              0.7777777777777778,
              "#fb9f3a"
             ],
             [
              0.8888888888888888,
              "#fdca26"
             ],
             [
              1,
              "#f0f921"
             ]
            ],
            "type": "contour"
           }
          ],
          "contourcarpet": [
           {
            "colorbar": {
             "outlinewidth": 0,
             "ticks": ""
            },
            "type": "contourcarpet"
           }
          ],
          "heatmap": [
           {
            "colorbar": {
             "outlinewidth": 0,
             "ticks": ""
            },
            "colorscale": [
             [
              0,
              "#0d0887"
             ],
             [
              0.1111111111111111,
              "#46039f"
             ],
             [
              0.2222222222222222,
              "#7201a8"
             ],
             [
              0.3333333333333333,
              "#9c179e"
             ],
             [
              0.4444444444444444,
              "#bd3786"
             ],
             [
              0.5555555555555556,
              "#d8576b"
             ],
             [
              0.6666666666666666,
              "#ed7953"
             ],
             [
              0.7777777777777778,
              "#fb9f3a"
             ],
             [
              0.8888888888888888,
              "#fdca26"
             ],
             [
              1,
              "#f0f921"
             ]
            ],
            "type": "heatmap"
           }
          ],
          "heatmapgl": [
           {
            "colorbar": {
             "outlinewidth": 0,
             "ticks": ""
            },
            "colorscale": [
             [
              0,
              "#0d0887"
             ],
             [
              0.1111111111111111,
              "#46039f"
             ],
             [
              0.2222222222222222,
              "#7201a8"
             ],
             [
              0.3333333333333333,
              "#9c179e"
             ],
             [
              0.4444444444444444,
              "#bd3786"
             ],
             [
              0.5555555555555556,
              "#d8576b"
             ],
             [
              0.6666666666666666,
              "#ed7953"
             ],
             [
              0.7777777777777778,
              "#fb9f3a"
             ],
             [
              0.8888888888888888,
              "#fdca26"
             ],
             [
              1,
              "#f0f921"
             ]
            ],
            "type": "heatmapgl"
           }
          ],
          "histogram": [
           {
            "marker": {
             "pattern": {
              "fillmode": "overlay",
              "size": 10,
              "solidity": 0.2
             }
            },
            "type": "histogram"
           }
          ],
          "histogram2d": [
           {
            "colorbar": {
             "outlinewidth": 0,
             "ticks": ""
            },
            "colorscale": [
             [
              0,
              "#0d0887"
             ],
             [
              0.1111111111111111,
              "#46039f"
             ],
             [
              0.2222222222222222,
              "#7201a8"
             ],
             [
              0.3333333333333333,
              "#9c179e"
             ],
             [
              0.4444444444444444,
              "#bd3786"
             ],
             [
              0.5555555555555556,
              "#d8576b"
             ],
             [
              0.6666666666666666,
              "#ed7953"
             ],
             [
              0.7777777777777778,
              "#fb9f3a"
             ],
             [
              0.8888888888888888,
              "#fdca26"
             ],
             [
              1,
              "#f0f921"
             ]
            ],
            "type": "histogram2d"
           }
          ],
          "histogram2dcontour": [
           {
            "colorbar": {
             "outlinewidth": 0,
             "ticks": ""
            },
            "colorscale": [
             [
              0,
              "#0d0887"
             ],
             [
              0.1111111111111111,
              "#46039f"
             ],
             [
              0.2222222222222222,
              "#7201a8"
             ],
             [
              0.3333333333333333,
              "#9c179e"
             ],
             [
              0.4444444444444444,
              "#bd3786"
             ],
             [
              0.5555555555555556,
              "#d8576b"
             ],
             [
              0.6666666666666666,
              "#ed7953"
             ],
             [
              0.7777777777777778,
              "#fb9f3a"
             ],
             [
              0.8888888888888888,
              "#fdca26"
             ],
             [
              1,
              "#f0f921"
             ]
            ],
            "type": "histogram2dcontour"
           }
          ],
          "mesh3d": [
           {
            "colorbar": {
             "outlinewidth": 0,
             "ticks": ""
            },
            "type": "mesh3d"
           }
          ],
          "parcoords": [
           {
            "line": {
             "colorbar": {
              "outlinewidth": 0,
              "ticks": ""
             }
            },
            "type": "parcoords"
           }
          ],
          "pie": [
           {
            "automargin": true,
            "type": "pie"
           }
          ],
          "scatter": [
           {
            "fillpattern": {
             "fillmode": "overlay",
             "size": 10,
             "solidity": 0.2
            },
            "type": "scatter"
           }
          ],
          "scatter3d": [
           {
            "line": {
             "colorbar": {
              "outlinewidth": 0,
              "ticks": ""
             }
            },
            "marker": {
             "colorbar": {
              "outlinewidth": 0,
              "ticks": ""
             }
            },
            "type": "scatter3d"
           }
          ],
          "scattercarpet": [
           {
            "marker": {
             "colorbar": {
              "outlinewidth": 0,
              "ticks": ""
             }
            },
            "type": "scattercarpet"
           }
          ],
          "scattergeo": [
           {
            "marker": {
             "colorbar": {
              "outlinewidth": 0,
              "ticks": ""
             }
            },
            "type": "scattergeo"
           }
          ],
          "scattergl": [
           {
            "marker": {
             "colorbar": {
              "outlinewidth": 0,
              "ticks": ""
             }
            },
            "type": "scattergl"
           }
          ],
          "scattermapbox": [
           {
            "marker": {
             "colorbar": {
              "outlinewidth": 0,
              "ticks": ""
             }
            },
            "type": "scattermapbox"
           }
          ],
          "scatterpolar": [
           {
            "marker": {
             "colorbar": {
              "outlinewidth": 0,
              "ticks": ""
             }
            },
            "type": "scatterpolar"
           }
          ],
          "scatterpolargl": [
           {
            "marker": {
             "colorbar": {
              "outlinewidth": 0,
              "ticks": ""
             }
            },
            "type": "scatterpolargl"
           }
          ],
          "scatterternary": [
           {
            "marker": {
             "colorbar": {
              "outlinewidth": 0,
              "ticks": ""
             }
            },
            "type": "scatterternary"
           }
          ],
          "surface": [
           {
            "colorbar": {
             "outlinewidth": 0,
             "ticks": ""
            },
            "colorscale": [
             [
              0,
              "#0d0887"
             ],
             [
              0.1111111111111111,
              "#46039f"
             ],
             [
              0.2222222222222222,
              "#7201a8"
             ],
             [
              0.3333333333333333,
              "#9c179e"
             ],
             [
              0.4444444444444444,
              "#bd3786"
             ],
             [
              0.5555555555555556,
              "#d8576b"
             ],
             [
              0.6666666666666666,
              "#ed7953"
             ],
             [
              0.7777777777777778,
              "#fb9f3a"
             ],
             [
              0.8888888888888888,
              "#fdca26"
             ],
             [
              1,
              "#f0f921"
             ]
            ],
            "type": "surface"
           }
          ],
          "table": [
           {
            "cells": {
             "fill": {
              "color": "#EBF0F8"
             },
             "line": {
              "color": "white"
             }
            },
            "header": {
             "fill": {
              "color": "#C8D4E3"
             },
             "line": {
              "color": "white"
             }
            },
            "type": "table"
           }
          ]
         },
         "layout": {
          "annotationdefaults": {
           "arrowcolor": "#2a3f5f",
           "arrowhead": 0,
           "arrowwidth": 1
          },
          "autotypenumbers": "strict",
          "coloraxis": {
           "colorbar": {
            "outlinewidth": 0,
            "ticks": ""
           }
          },
          "colorscale": {
           "diverging": [
            [
             0,
             "#8e0152"
            ],
            [
             0.1,
             "#c51b7d"
            ],
            [
             0.2,
             "#de77ae"
            ],
            [
             0.3,
             "#f1b6da"
            ],
            [
             0.4,
             "#fde0ef"
            ],
            [
             0.5,
             "#f7f7f7"
            ],
            [
             0.6,
             "#e6f5d0"
            ],
            [
             0.7,
             "#b8e186"
            ],
            [
             0.8,
             "#7fbc41"
            ],
            [
             0.9,
             "#4d9221"
            ],
            [
             1,
             "#276419"
            ]
           ],
           "sequential": [
            [
             0,
             "#0d0887"
            ],
            [
             0.1111111111111111,
             "#46039f"
            ],
            [
             0.2222222222222222,
             "#7201a8"
            ],
            [
             0.3333333333333333,
             "#9c179e"
            ],
            [
             0.4444444444444444,
             "#bd3786"
            ],
            [
             0.5555555555555556,
             "#d8576b"
            ],
            [
             0.6666666666666666,
             "#ed7953"
            ],
            [
             0.7777777777777778,
             "#fb9f3a"
            ],
            [
             0.8888888888888888,
             "#fdca26"
            ],
            [
             1,
             "#f0f921"
            ]
           ],
           "sequentialminus": [
            [
             0,
             "#0d0887"
            ],
            [
             0.1111111111111111,
             "#46039f"
            ],
            [
             0.2222222222222222,
             "#7201a8"
            ],
            [
             0.3333333333333333,
             "#9c179e"
            ],
            [
             0.4444444444444444,
             "#bd3786"
            ],
            [
             0.5555555555555556,
             "#d8576b"
            ],
            [
             0.6666666666666666,
             "#ed7953"
            ],
            [
             0.7777777777777778,
             "#fb9f3a"
            ],
            [
             0.8888888888888888,
             "#fdca26"
            ],
            [
             1,
             "#f0f921"
            ]
           ]
          },
          "colorway": [
           "#636efa",
           "#EF553B",
           "#00cc96",
           "#ab63fa",
           "#FFA15A",
           "#19d3f3",
           "#FF6692",
           "#B6E880",
           "#FF97FF",
           "#FECB52"
          ],
          "font": {
           "color": "#2a3f5f"
          },
          "geo": {
           "bgcolor": "white",
           "lakecolor": "white",
           "landcolor": "#E5ECF6",
           "showlakes": true,
           "showland": true,
           "subunitcolor": "white"
          },
          "hoverlabel": {
           "align": "left"
          },
          "hovermode": "closest",
          "mapbox": {
           "style": "light"
          },
          "paper_bgcolor": "white",
          "plot_bgcolor": "#E5ECF6",
          "polar": {
           "angularaxis": {
            "gridcolor": "white",
            "linecolor": "white",
            "ticks": ""
           },
           "bgcolor": "#E5ECF6",
           "radialaxis": {
            "gridcolor": "white",
            "linecolor": "white",
            "ticks": ""
           }
          },
          "scene": {
           "xaxis": {
            "backgroundcolor": "#E5ECF6",
            "gridcolor": "white",
            "gridwidth": 2,
            "linecolor": "white",
            "showbackground": true,
            "ticks": "",
            "zerolinecolor": "white"
           },
           "yaxis": {
            "backgroundcolor": "#E5ECF6",
            "gridcolor": "white",
            "gridwidth": 2,
            "linecolor": "white",
            "showbackground": true,
            "ticks": "",
            "zerolinecolor": "white"
           },
           "zaxis": {
            "backgroundcolor": "#E5ECF6",
            "gridcolor": "white",
            "gridwidth": 2,
            "linecolor": "white",
            "showbackground": true,
            "ticks": "",
            "zerolinecolor": "white"
           }
          },
          "shapedefaults": {
           "line": {
            "color": "#2a3f5f"
           }
          },
          "ternary": {
           "aaxis": {
            "gridcolor": "white",
            "linecolor": "white",
            "ticks": ""
           },
           "baxis": {
            "gridcolor": "white",
            "linecolor": "white",
            "ticks": ""
           },
           "bgcolor": "#E5ECF6",
           "caxis": {
            "gridcolor": "white",
            "linecolor": "white",
            "ticks": ""
           }
          },
          "title": {
           "x": 0.05
          },
          "xaxis": {
           "automargin": true,
           "gridcolor": "white",
           "linecolor": "white",
           "ticks": "",
           "title": {
            "standoff": 15
           },
           "zerolinecolor": "white",
           "zerolinewidth": 2
          },
          "yaxis": {
           "automargin": true,
           "gridcolor": "white",
           "linecolor": "white",
           "ticks": "",
           "title": {
            "standoff": 15
           },
           "zerolinecolor": "white",
           "zerolinewidth": 2
          }
         }
        },
        "title": {
         "text": "Age Distribution"
        },
        "xaxis": {
         "anchor": "y",
         "domain": [
          0,
          1
         ],
         "title": {
          "text": "Actor age at movie release"
         }
        },
        "yaxis": {
         "anchor": "x",
         "domain": [
          0,
          1
         ],
         "title": {
          "text": "Count"
         }
        }
       }
      }
     },
     "metadata": {},
     "output_type": "display_data"
    }
   ],
   "source": [
    "if 'Actor age at movie release' in oscar_actress_info.columns:\n",
    "    # Count occurrences of each age\n",
    "    age_distribution = oscar_actress_info['Actor age at movie release'].value_counts().reset_index()\n",
    "    age_distribution.columns = ['Actor age at movie release', 'count']\n",
    "    \n",
    "    # Sort by age for better visualization\n",
    "    age_distribution = age_distribution.sort_values(by='Actor age at movie release')\n",
    "\n",
    "    # Create the bar plot\n",
    "    fig = px.bar(age_distribution, x='Actor age at movie release', y='count', title='Age Distribution', labels={'age': 'Age', 'count': 'Count'})\n",
    "    fig.show()\n",
    "else:\n",
    "    print(\"The column 'age' does not exist in the provided file.\")"
   ]
  },
  {
   "cell_type": "code",
   "execution_count": 116,
   "metadata": {},
   "outputs": [
    {
     "name": "stdout",
     "output_type": "stream",
     "text": [
      "[nan 'Canadian Americans' 'Jewish people' 'British Americans'\n",
      " 'Scottish Americans' 'Swedish Americans' 'Irish people'\n",
      " 'Scotch-Irish Americans' 'Italians' 'Italian Americans' 'English people'\n",
      " 'British' 'American Jews' 'White British' 'Germans' 'Irish Americans'\n",
      " 'Czech Americans' 'Armenians' 'English Americans' 'White Americans'\n",
      " 'Spanish Americans' 'White people' 'White Africans of European ancestry'\n",
      " 'French' 'Israeli Americans']\n"
     ]
    }
   ],
   "source": [
    "# Print all unique values in the 'Actor ethnicity' column\n",
    "unique_ethnicities = oscar_actress_info['Actor ethnicity'].unique()\n",
    "\n",
    "# Display the unique values\n",
    "print(unique_ethnicities)"
   ]
  },
  {
   "cell_type": "code",
   "execution_count": 117,
   "metadata": {},
   "outputs": [
    {
     "data": {
      "application/vnd.plotly.v1+json": {
       "config": {
        "plotlyServerURL": "https://plot.ly"
       },
       "data": [
        {
         "coloraxis": "coloraxis",
         "geo": "geo",
         "hovertemplate": "<b>%{hovertext}</b><br><br>Country=%{location}<br>Count=%{z}<extra></extra>",
         "hovertext": [
          "United States of America",
          "United Kingdom",
          "Germany",
          "Sweden",
          "Italy",
          "France",
          "Canada"
         ],
         "locationmode": "country names",
         "locations": [
          "United States of America",
          "United Kingdom",
          "Germany",
          "Sweden",
          "Italy",
          "France",
          "Canada"
         ],
         "name": "",
         "type": "choropleth",
         "z": [
          60,
          18,
          3,
          3,
          2,
          2,
          1
         ]
        }
       ],
       "layout": {
        "coloraxis": {
         "colorbar": {
          "title": {
           "text": "Count"
          }
         },
         "colorscale": [
          [
           0,
           "#0d0887"
          ],
          [
           0.1111111111111111,
           "#46039f"
          ],
          [
           0.2222222222222222,
           "#7201a8"
          ],
          [
           0.3333333333333333,
           "#9c179e"
          ],
          [
           0.4444444444444444,
           "#bd3786"
          ],
          [
           0.5555555555555556,
           "#d8576b"
          ],
          [
           0.6666666666666666,
           "#ed7953"
          ],
          [
           0.7777777777777778,
           "#fb9f3a"
          ],
          [
           0.8888888888888888,
           "#fdca26"
          ],
          [
           1,
           "#f0f921"
          ]
         ]
        },
        "geo": {
         "center": {},
         "domain": {
          "x": [
           0,
           1
          ],
          "y": [
           0,
           1
          ]
         },
         "showcountries": true
        },
        "legend": {
         "tracegroupgap": 0
        },
        "template": {
         "data": {
          "bar": [
           {
            "error_x": {
             "color": "#2a3f5f"
            },
            "error_y": {
             "color": "#2a3f5f"
            },
            "marker": {
             "line": {
              "color": "#E5ECF6",
              "width": 0.5
             },
             "pattern": {
              "fillmode": "overlay",
              "size": 10,
              "solidity": 0.2
             }
            },
            "type": "bar"
           }
          ],
          "barpolar": [
           {
            "marker": {
             "line": {
              "color": "#E5ECF6",
              "width": 0.5
             },
             "pattern": {
              "fillmode": "overlay",
              "size": 10,
              "solidity": 0.2
             }
            },
            "type": "barpolar"
           }
          ],
          "carpet": [
           {
            "aaxis": {
             "endlinecolor": "#2a3f5f",
             "gridcolor": "white",
             "linecolor": "white",
             "minorgridcolor": "white",
             "startlinecolor": "#2a3f5f"
            },
            "baxis": {
             "endlinecolor": "#2a3f5f",
             "gridcolor": "white",
             "linecolor": "white",
             "minorgridcolor": "white",
             "startlinecolor": "#2a3f5f"
            },
            "type": "carpet"
           }
          ],
          "choropleth": [
           {
            "colorbar": {
             "outlinewidth": 0,
             "ticks": ""
            },
            "type": "choropleth"
           }
          ],
          "contour": [
           {
            "colorbar": {
             "outlinewidth": 0,
             "ticks": ""
            },
            "colorscale": [
             [
              0,
              "#0d0887"
             ],
             [
              0.1111111111111111,
              "#46039f"
             ],
             [
              0.2222222222222222,
              "#7201a8"
             ],
             [
              0.3333333333333333,
              "#9c179e"
             ],
             [
              0.4444444444444444,
              "#bd3786"
             ],
             [
              0.5555555555555556,
              "#d8576b"
             ],
             [
              0.6666666666666666,
              "#ed7953"
             ],
             [
              0.7777777777777778,
              "#fb9f3a"
             ],
             [
              0.8888888888888888,
              "#fdca26"
             ],
             [
              1,
              "#f0f921"
             ]
            ],
            "type": "contour"
           }
          ],
          "contourcarpet": [
           {
            "colorbar": {
             "outlinewidth": 0,
             "ticks": ""
            },
            "type": "contourcarpet"
           }
          ],
          "heatmap": [
           {
            "colorbar": {
             "outlinewidth": 0,
             "ticks": ""
            },
            "colorscale": [
             [
              0,
              "#0d0887"
             ],
             [
              0.1111111111111111,
              "#46039f"
             ],
             [
              0.2222222222222222,
              "#7201a8"
             ],
             [
              0.3333333333333333,
              "#9c179e"
             ],
             [
              0.4444444444444444,
              "#bd3786"
             ],
             [
              0.5555555555555556,
              "#d8576b"
             ],
             [
              0.6666666666666666,
              "#ed7953"
             ],
             [
              0.7777777777777778,
              "#fb9f3a"
             ],
             [
              0.8888888888888888,
              "#fdca26"
             ],
             [
              1,
              "#f0f921"
             ]
            ],
            "type": "heatmap"
           }
          ],
          "heatmapgl": [
           {
            "colorbar": {
             "outlinewidth": 0,
             "ticks": ""
            },
            "colorscale": [
             [
              0,
              "#0d0887"
             ],
             [
              0.1111111111111111,
              "#46039f"
             ],
             [
              0.2222222222222222,
              "#7201a8"
             ],
             [
              0.3333333333333333,
              "#9c179e"
             ],
             [
              0.4444444444444444,
              "#bd3786"
             ],
             [
              0.5555555555555556,
              "#d8576b"
             ],
             [
              0.6666666666666666,
              "#ed7953"
             ],
             [
              0.7777777777777778,
              "#fb9f3a"
             ],
             [
              0.8888888888888888,
              "#fdca26"
             ],
             [
              1,
              "#f0f921"
             ]
            ],
            "type": "heatmapgl"
           }
          ],
          "histogram": [
           {
            "marker": {
             "pattern": {
              "fillmode": "overlay",
              "size": 10,
              "solidity": 0.2
             }
            },
            "type": "histogram"
           }
          ],
          "histogram2d": [
           {
            "colorbar": {
             "outlinewidth": 0,
             "ticks": ""
            },
            "colorscale": [
             [
              0,
              "#0d0887"
             ],
             [
              0.1111111111111111,
              "#46039f"
             ],
             [
              0.2222222222222222,
              "#7201a8"
             ],
             [
              0.3333333333333333,
              "#9c179e"
             ],
             [
              0.4444444444444444,
              "#bd3786"
             ],
             [
              0.5555555555555556,
              "#d8576b"
             ],
             [
              0.6666666666666666,
              "#ed7953"
             ],
             [
              0.7777777777777778,
              "#fb9f3a"
             ],
             [
              0.8888888888888888,
              "#fdca26"
             ],
             [
              1,
              "#f0f921"
             ]
            ],
            "type": "histogram2d"
           }
          ],
          "histogram2dcontour": [
           {
            "colorbar": {
             "outlinewidth": 0,
             "ticks": ""
            },
            "colorscale": [
             [
              0,
              "#0d0887"
             ],
             [
              0.1111111111111111,
              "#46039f"
             ],
             [
              0.2222222222222222,
              "#7201a8"
             ],
             [
              0.3333333333333333,
              "#9c179e"
             ],
             [
              0.4444444444444444,
              "#bd3786"
             ],
             [
              0.5555555555555556,
              "#d8576b"
             ],
             [
              0.6666666666666666,
              "#ed7953"
             ],
             [
              0.7777777777777778,
              "#fb9f3a"
             ],
             [
              0.8888888888888888,
              "#fdca26"
             ],
             [
              1,
              "#f0f921"
             ]
            ],
            "type": "histogram2dcontour"
           }
          ],
          "mesh3d": [
           {
            "colorbar": {
             "outlinewidth": 0,
             "ticks": ""
            },
            "type": "mesh3d"
           }
          ],
          "parcoords": [
           {
            "line": {
             "colorbar": {
              "outlinewidth": 0,
              "ticks": ""
             }
            },
            "type": "parcoords"
           }
          ],
          "pie": [
           {
            "automargin": true,
            "type": "pie"
           }
          ],
          "scatter": [
           {
            "fillpattern": {
             "fillmode": "overlay",
             "size": 10,
             "solidity": 0.2
            },
            "type": "scatter"
           }
          ],
          "scatter3d": [
           {
            "line": {
             "colorbar": {
              "outlinewidth": 0,
              "ticks": ""
             }
            },
            "marker": {
             "colorbar": {
              "outlinewidth": 0,
              "ticks": ""
             }
            },
            "type": "scatter3d"
           }
          ],
          "scattercarpet": [
           {
            "marker": {
             "colorbar": {
              "outlinewidth": 0,
              "ticks": ""
             }
            },
            "type": "scattercarpet"
           }
          ],
          "scattergeo": [
           {
            "marker": {
             "colorbar": {
              "outlinewidth": 0,
              "ticks": ""
             }
            },
            "type": "scattergeo"
           }
          ],
          "scattergl": [
           {
            "marker": {
             "colorbar": {
              "outlinewidth": 0,
              "ticks": ""
             }
            },
            "type": "scattergl"
           }
          ],
          "scattermapbox": [
           {
            "marker": {
             "colorbar": {
              "outlinewidth": 0,
              "ticks": ""
             }
            },
            "type": "scattermapbox"
           }
          ],
          "scatterpolar": [
           {
            "marker": {
             "colorbar": {
              "outlinewidth": 0,
              "ticks": ""
             }
            },
            "type": "scatterpolar"
           }
          ],
          "scatterpolargl": [
           {
            "marker": {
             "colorbar": {
              "outlinewidth": 0,
              "ticks": ""
             }
            },
            "type": "scatterpolargl"
           }
          ],
          "scatterternary": [
           {
            "marker": {
             "colorbar": {
              "outlinewidth": 0,
              "ticks": ""
             }
            },
            "type": "scatterternary"
           }
          ],
          "surface": [
           {
            "colorbar": {
             "outlinewidth": 0,
             "ticks": ""
            },
            "colorscale": [
             [
              0,
              "#0d0887"
             ],
             [
              0.1111111111111111,
              "#46039f"
             ],
             [
              0.2222222222222222,
              "#7201a8"
             ],
             [
              0.3333333333333333,
              "#9c179e"
             ],
             [
              0.4444444444444444,
              "#bd3786"
             ],
             [
              0.5555555555555556,
              "#d8576b"
             ],
             [
              0.6666666666666666,
              "#ed7953"
             ],
             [
              0.7777777777777778,
              "#fb9f3a"
             ],
             [
              0.8888888888888888,
              "#fdca26"
             ],
             [
              1,
              "#f0f921"
             ]
            ],
            "type": "surface"
           }
          ],
          "table": [
           {
            "cells": {
             "fill": {
              "color": "#EBF0F8"
             },
             "line": {
              "color": "white"
             }
            },
            "header": {
             "fill": {
              "color": "#C8D4E3"
             },
             "line": {
              "color": "white"
             }
            },
            "type": "table"
           }
          ]
         },
         "layout": {
          "annotationdefaults": {
           "arrowcolor": "#2a3f5f",
           "arrowhead": 0,
           "arrowwidth": 1
          },
          "autotypenumbers": "strict",
          "coloraxis": {
           "colorbar": {
            "outlinewidth": 0,
            "ticks": ""
           }
          },
          "colorscale": {
           "diverging": [
            [
             0,
             "#8e0152"
            ],
            [
             0.1,
             "#c51b7d"
            ],
            [
             0.2,
             "#de77ae"
            ],
            [
             0.3,
             "#f1b6da"
            ],
            [
             0.4,
             "#fde0ef"
            ],
            [
             0.5,
             "#f7f7f7"
            ],
            [
             0.6,
             "#e6f5d0"
            ],
            [
             0.7,
             "#b8e186"
            ],
            [
             0.8,
             "#7fbc41"
            ],
            [
             0.9,
             "#4d9221"
            ],
            [
             1,
             "#276419"
            ]
           ],
           "sequential": [
            [
             0,
             "#0d0887"
            ],
            [
             0.1111111111111111,
             "#46039f"
            ],
            [
             0.2222222222222222,
             "#7201a8"
            ],
            [
             0.3333333333333333,
             "#9c179e"
            ],
            [
             0.4444444444444444,
             "#bd3786"
            ],
            [
             0.5555555555555556,
             "#d8576b"
            ],
            [
             0.6666666666666666,
             "#ed7953"
            ],
            [
             0.7777777777777778,
             "#fb9f3a"
            ],
            [
             0.8888888888888888,
             "#fdca26"
            ],
            [
             1,
             "#f0f921"
            ]
           ],
           "sequentialminus": [
            [
             0,
             "#0d0887"
            ],
            [
             0.1111111111111111,
             "#46039f"
            ],
            [
             0.2222222222222222,
             "#7201a8"
            ],
            [
             0.3333333333333333,
             "#9c179e"
            ],
            [
             0.4444444444444444,
             "#bd3786"
            ],
            [
             0.5555555555555556,
             "#d8576b"
            ],
            [
             0.6666666666666666,
             "#ed7953"
            ],
            [
             0.7777777777777778,
             "#fb9f3a"
            ],
            [
             0.8888888888888888,
             "#fdca26"
            ],
            [
             1,
             "#f0f921"
            ]
           ]
          },
          "colorway": [
           "#636efa",
           "#EF553B",
           "#00cc96",
           "#ab63fa",
           "#FFA15A",
           "#19d3f3",
           "#FF6692",
           "#B6E880",
           "#FF97FF",
           "#FECB52"
          ],
          "font": {
           "color": "#2a3f5f"
          },
          "geo": {
           "bgcolor": "white",
           "lakecolor": "white",
           "landcolor": "#E5ECF6",
           "showlakes": true,
           "showland": true,
           "subunitcolor": "white"
          },
          "hoverlabel": {
           "align": "left"
          },
          "hovermode": "closest",
          "mapbox": {
           "style": "light"
          },
          "paper_bgcolor": "white",
          "plot_bgcolor": "#E5ECF6",
          "polar": {
           "angularaxis": {
            "gridcolor": "white",
            "linecolor": "white",
            "ticks": ""
           },
           "bgcolor": "#E5ECF6",
           "radialaxis": {
            "gridcolor": "white",
            "linecolor": "white",
            "ticks": ""
           }
          },
          "scene": {
           "xaxis": {
            "backgroundcolor": "#E5ECF6",
            "gridcolor": "white",
            "gridwidth": 2,
            "linecolor": "white",
            "showbackground": true,
            "ticks": "",
            "zerolinecolor": "white"
           },
           "yaxis": {
            "backgroundcolor": "#E5ECF6",
            "gridcolor": "white",
            "gridwidth": 2,
            "linecolor": "white",
            "showbackground": true,
            "ticks": "",
            "zerolinecolor": "white"
           },
           "zaxis": {
            "backgroundcolor": "#E5ECF6",
            "gridcolor": "white",
            "gridwidth": 2,
            "linecolor": "white",
            "showbackground": true,
            "ticks": "",
            "zerolinecolor": "white"
           }
          },
          "shapedefaults": {
           "line": {
            "color": "#2a3f5f"
           }
          },
          "ternary": {
           "aaxis": {
            "gridcolor": "white",
            "linecolor": "white",
            "ticks": ""
           },
           "baxis": {
            "gridcolor": "white",
            "linecolor": "white",
            "ticks": ""
           },
           "bgcolor": "#E5ECF6",
           "caxis": {
            "gridcolor": "white",
            "linecolor": "white",
            "ticks": ""
           }
          },
          "title": {
           "x": 0.05
          },
          "xaxis": {
           "automargin": true,
           "gridcolor": "white",
           "linecolor": "white",
           "ticks": "",
           "title": {
            "standoff": 15
           },
           "zerolinecolor": "white",
           "zerolinewidth": 2
          },
          "yaxis": {
           "automargin": true,
           "gridcolor": "white",
           "linecolor": "white",
           "ticks": "",
           "title": {
            "standoff": 15
           },
           "zerolinecolor": "white",
           "zerolinewidth": 2
          }
         }
        },
        "title": {
         "text": "Heatmap of Oscar Winning Actors by Country"
        }
       }
      }
     },
     "metadata": {},
     "output_type": "display_data"
    }
   ],
   "source": [
    "country_counts = oscar_actress_info['countryOfCitizenshipLabel'].value_counts()\n",
    "country_counts = country_counts.reset_index()\n",
    "country_counts.columns = ['Country', 'Count']\n",
    "\n",
    "fig = px.choropleth(country_counts, \n",
    "                    locations=\"Country\", \n",
    "                    locationmode='country names', \n",
    "                    color=\"Count\", \n",
    "                    hover_name=\"Country\", \n",
    "                    title=\"Heatmap of Oscar Winning Actors by Country\")\n",
    "fig.update_geos(showcountries=True)\n",
    "fig.show()"
   ]
  },
  {
   "cell_type": "code",
   "execution_count": 118,
   "metadata": {},
   "outputs": [
    {
     "data": {
      "application/vnd.plotly.v1+json": {
       "config": {
        "plotlyServerURL": "https://plot.ly"
       },
       "data": [
        {
         "coloraxis": "coloraxis",
         "geo": "geo",
         "hovertemplate": "<b>%{hovertext}</b><br><br>Country=%{location}<br>Count=%{z}<extra></extra>",
         "hovertext": [
          "United States of America",
          "United Kingdom",
          "Germany",
          "Sweden",
          "Italy",
          "France",
          "Canada"
         ],
         "locationmode": "country names",
         "locations": [
          "United States of America",
          "United Kingdom",
          "Germany",
          "Sweden",
          "Italy",
          "France",
          "Canada"
         ],
         "name": "",
         "type": "choropleth",
         "z": [
          60,
          18,
          3,
          3,
          2,
          2,
          1
         ]
        }
       ],
       "layout": {
        "coloraxis": {
         "colorbar": {
          "title": {
           "text": "Count"
          }
         },
         "colorscale": [
          [
           0,
           "#0d0887"
          ],
          [
           0.1111111111111111,
           "#46039f"
          ],
          [
           0.2222222222222222,
           "#7201a8"
          ],
          [
           0.3333333333333333,
           "#9c179e"
          ],
          [
           0.4444444444444444,
           "#bd3786"
          ],
          [
           0.5555555555555556,
           "#d8576b"
          ],
          [
           0.6666666666666666,
           "#ed7953"
          ],
          [
           0.7777777777777778,
           "#fb9f3a"
          ],
          [
           0.8888888888888888,
           "#fdca26"
          ],
          [
           1,
           "#f0f921"
          ]
         ]
        },
        "geo": {
         "center": {},
         "domain": {
          "x": [
           0,
           1
          ],
          "y": [
           0,
           1
          ]
         },
         "lataxis": {
          "range": [
           35,
           70
          ]
         },
         "lonaxis": {
          "range": [
           -10,
           40
          ]
         },
         "showcountries": true,
         "visible": true
        },
        "legend": {
         "tracegroupgap": 0
        },
        "template": {
         "data": {
          "bar": [
           {
            "error_x": {
             "color": "#2a3f5f"
            },
            "error_y": {
             "color": "#2a3f5f"
            },
            "marker": {
             "line": {
              "color": "#E5ECF6",
              "width": 0.5
             },
             "pattern": {
              "fillmode": "overlay",
              "size": 10,
              "solidity": 0.2
             }
            },
            "type": "bar"
           }
          ],
          "barpolar": [
           {
            "marker": {
             "line": {
              "color": "#E5ECF6",
              "width": 0.5
             },
             "pattern": {
              "fillmode": "overlay",
              "size": 10,
              "solidity": 0.2
             }
            },
            "type": "barpolar"
           }
          ],
          "carpet": [
           {
            "aaxis": {
             "endlinecolor": "#2a3f5f",
             "gridcolor": "white",
             "linecolor": "white",
             "minorgridcolor": "white",
             "startlinecolor": "#2a3f5f"
            },
            "baxis": {
             "endlinecolor": "#2a3f5f",
             "gridcolor": "white",
             "linecolor": "white",
             "minorgridcolor": "white",
             "startlinecolor": "#2a3f5f"
            },
            "type": "carpet"
           }
          ],
          "choropleth": [
           {
            "colorbar": {
             "outlinewidth": 0,
             "ticks": ""
            },
            "type": "choropleth"
           }
          ],
          "contour": [
           {
            "colorbar": {
             "outlinewidth": 0,
             "ticks": ""
            },
            "colorscale": [
             [
              0,
              "#0d0887"
             ],
             [
              0.1111111111111111,
              "#46039f"
             ],
             [
              0.2222222222222222,
              "#7201a8"
             ],
             [
              0.3333333333333333,
              "#9c179e"
             ],
             [
              0.4444444444444444,
              "#bd3786"
             ],
             [
              0.5555555555555556,
              "#d8576b"
             ],
             [
              0.6666666666666666,
              "#ed7953"
             ],
             [
              0.7777777777777778,
              "#fb9f3a"
             ],
             [
              0.8888888888888888,
              "#fdca26"
             ],
             [
              1,
              "#f0f921"
             ]
            ],
            "type": "contour"
           }
          ],
          "contourcarpet": [
           {
            "colorbar": {
             "outlinewidth": 0,
             "ticks": ""
            },
            "type": "contourcarpet"
           }
          ],
          "heatmap": [
           {
            "colorbar": {
             "outlinewidth": 0,
             "ticks": ""
            },
            "colorscale": [
             [
              0,
              "#0d0887"
             ],
             [
              0.1111111111111111,
              "#46039f"
             ],
             [
              0.2222222222222222,
              "#7201a8"
             ],
             [
              0.3333333333333333,
              "#9c179e"
             ],
             [
              0.4444444444444444,
              "#bd3786"
             ],
             [
              0.5555555555555556,
              "#d8576b"
             ],
             [
              0.6666666666666666,
              "#ed7953"
             ],
             [
              0.7777777777777778,
              "#fb9f3a"
             ],
             [
              0.8888888888888888,
              "#fdca26"
             ],
             [
              1,
              "#f0f921"
             ]
            ],
            "type": "heatmap"
           }
          ],
          "heatmapgl": [
           {
            "colorbar": {
             "outlinewidth": 0,
             "ticks": ""
            },
            "colorscale": [
             [
              0,
              "#0d0887"
             ],
             [
              0.1111111111111111,
              "#46039f"
             ],
             [
              0.2222222222222222,
              "#7201a8"
             ],
             [
              0.3333333333333333,
              "#9c179e"
             ],
             [
              0.4444444444444444,
              "#bd3786"
             ],
             [
              0.5555555555555556,
              "#d8576b"
             ],
             [
              0.6666666666666666,
              "#ed7953"
             ],
             [
              0.7777777777777778,
              "#fb9f3a"
             ],
             [
              0.8888888888888888,
              "#fdca26"
             ],
             [
              1,
              "#f0f921"
             ]
            ],
            "type": "heatmapgl"
           }
          ],
          "histogram": [
           {
            "marker": {
             "pattern": {
              "fillmode": "overlay",
              "size": 10,
              "solidity": 0.2
             }
            },
            "type": "histogram"
           }
          ],
          "histogram2d": [
           {
            "colorbar": {
             "outlinewidth": 0,
             "ticks": ""
            },
            "colorscale": [
             [
              0,
              "#0d0887"
             ],
             [
              0.1111111111111111,
              "#46039f"
             ],
             [
              0.2222222222222222,
              "#7201a8"
             ],
             [
              0.3333333333333333,
              "#9c179e"
             ],
             [
              0.4444444444444444,
              "#bd3786"
             ],
             [
              0.5555555555555556,
              "#d8576b"
             ],
             [
              0.6666666666666666,
              "#ed7953"
             ],
             [
              0.7777777777777778,
              "#fb9f3a"
             ],
             [
              0.8888888888888888,
              "#fdca26"
             ],
             [
              1,
              "#f0f921"
             ]
            ],
            "type": "histogram2d"
           }
          ],
          "histogram2dcontour": [
           {
            "colorbar": {
             "outlinewidth": 0,
             "ticks": ""
            },
            "colorscale": [
             [
              0,
              "#0d0887"
             ],
             [
              0.1111111111111111,
              "#46039f"
             ],
             [
              0.2222222222222222,
              "#7201a8"
             ],
             [
              0.3333333333333333,
              "#9c179e"
             ],
             [
              0.4444444444444444,
              "#bd3786"
             ],
             [
              0.5555555555555556,
              "#d8576b"
             ],
             [
              0.6666666666666666,
              "#ed7953"
             ],
             [
              0.7777777777777778,
              "#fb9f3a"
             ],
             [
              0.8888888888888888,
              "#fdca26"
             ],
             [
              1,
              "#f0f921"
             ]
            ],
            "type": "histogram2dcontour"
           }
          ],
          "mesh3d": [
           {
            "colorbar": {
             "outlinewidth": 0,
             "ticks": ""
            },
            "type": "mesh3d"
           }
          ],
          "parcoords": [
           {
            "line": {
             "colorbar": {
              "outlinewidth": 0,
              "ticks": ""
             }
            },
            "type": "parcoords"
           }
          ],
          "pie": [
           {
            "automargin": true,
            "type": "pie"
           }
          ],
          "scatter": [
           {
            "fillpattern": {
             "fillmode": "overlay",
             "size": 10,
             "solidity": 0.2
            },
            "type": "scatter"
           }
          ],
          "scatter3d": [
           {
            "line": {
             "colorbar": {
              "outlinewidth": 0,
              "ticks": ""
             }
            },
            "marker": {
             "colorbar": {
              "outlinewidth": 0,
              "ticks": ""
             }
            },
            "type": "scatter3d"
           }
          ],
          "scattercarpet": [
           {
            "marker": {
             "colorbar": {
              "outlinewidth": 0,
              "ticks": ""
             }
            },
            "type": "scattercarpet"
           }
          ],
          "scattergeo": [
           {
            "marker": {
             "colorbar": {
              "outlinewidth": 0,
              "ticks": ""
             }
            },
            "type": "scattergeo"
           }
          ],
          "scattergl": [
           {
            "marker": {
             "colorbar": {
              "outlinewidth": 0,
              "ticks": ""
             }
            },
            "type": "scattergl"
           }
          ],
          "scattermapbox": [
           {
            "marker": {
             "colorbar": {
              "outlinewidth": 0,
              "ticks": ""
             }
            },
            "type": "scattermapbox"
           }
          ],
          "scatterpolar": [
           {
            "marker": {
             "colorbar": {
              "outlinewidth": 0,
              "ticks": ""
             }
            },
            "type": "scatterpolar"
           }
          ],
          "scatterpolargl": [
           {
            "marker": {
             "colorbar": {
              "outlinewidth": 0,
              "ticks": ""
             }
            },
            "type": "scatterpolargl"
           }
          ],
          "scatterternary": [
           {
            "marker": {
             "colorbar": {
              "outlinewidth": 0,
              "ticks": ""
             }
            },
            "type": "scatterternary"
           }
          ],
          "surface": [
           {
            "colorbar": {
             "outlinewidth": 0,
             "ticks": ""
            },
            "colorscale": [
             [
              0,
              "#0d0887"
             ],
             [
              0.1111111111111111,
              "#46039f"
             ],
             [
              0.2222222222222222,
              "#7201a8"
             ],
             [
              0.3333333333333333,
              "#9c179e"
             ],
             [
              0.4444444444444444,
              "#bd3786"
             ],
             [
              0.5555555555555556,
              "#d8576b"
             ],
             [
              0.6666666666666666,
              "#ed7953"
             ],
             [
              0.7777777777777778,
              "#fb9f3a"
             ],
             [
              0.8888888888888888,
              "#fdca26"
             ],
             [
              1,
              "#f0f921"
             ]
            ],
            "type": "surface"
           }
          ],
          "table": [
           {
            "cells": {
             "fill": {
              "color": "#EBF0F8"
             },
             "line": {
              "color": "white"
             }
            },
            "header": {
             "fill": {
              "color": "#C8D4E3"
             },
             "line": {
              "color": "white"
             }
            },
            "type": "table"
           }
          ]
         },
         "layout": {
          "annotationdefaults": {
           "arrowcolor": "#2a3f5f",
           "arrowhead": 0,
           "arrowwidth": 1
          },
          "autotypenumbers": "strict",
          "coloraxis": {
           "colorbar": {
            "outlinewidth": 0,
            "ticks": ""
           }
          },
          "colorscale": {
           "diverging": [
            [
             0,
             "#8e0152"
            ],
            [
             0.1,
             "#c51b7d"
            ],
            [
             0.2,
             "#de77ae"
            ],
            [
             0.3,
             "#f1b6da"
            ],
            [
             0.4,
             "#fde0ef"
            ],
            [
             0.5,
             "#f7f7f7"
            ],
            [
             0.6,
             "#e6f5d0"
            ],
            [
             0.7,
             "#b8e186"
            ],
            [
             0.8,
             "#7fbc41"
            ],
            [
             0.9,
             "#4d9221"
            ],
            [
             1,
             "#276419"
            ]
           ],
           "sequential": [
            [
             0,
             "#0d0887"
            ],
            [
             0.1111111111111111,
             "#46039f"
            ],
            [
             0.2222222222222222,
             "#7201a8"
            ],
            [
             0.3333333333333333,
             "#9c179e"
            ],
            [
             0.4444444444444444,
             "#bd3786"
            ],
            [
             0.5555555555555556,
             "#d8576b"
            ],
            [
             0.6666666666666666,
             "#ed7953"
            ],
            [
             0.7777777777777778,
             "#fb9f3a"
            ],
            [
             0.8888888888888888,
             "#fdca26"
            ],
            [
             1,
             "#f0f921"
            ]
           ],
           "sequentialminus": [
            [
             0,
             "#0d0887"
            ],
            [
             0.1111111111111111,
             "#46039f"
            ],
            [
             0.2222222222222222,
             "#7201a8"
            ],
            [
             0.3333333333333333,
             "#9c179e"
            ],
            [
             0.4444444444444444,
             "#bd3786"
            ],
            [
             0.5555555555555556,
             "#d8576b"
            ],
            [
             0.6666666666666666,
             "#ed7953"
            ],
            [
             0.7777777777777778,
             "#fb9f3a"
            ],
            [
             0.8888888888888888,
             "#fdca26"
            ],
            [
             1,
             "#f0f921"
            ]
           ]
          },
          "colorway": [
           "#636efa",
           "#EF553B",
           "#00cc96",
           "#ab63fa",
           "#FFA15A",
           "#19d3f3",
           "#FF6692",
           "#B6E880",
           "#FF97FF",
           "#FECB52"
          ],
          "font": {
           "color": "#2a3f5f"
          },
          "geo": {
           "bgcolor": "white",
           "lakecolor": "white",
           "landcolor": "#E5ECF6",
           "showlakes": true,
           "showland": true,
           "subunitcolor": "white"
          },
          "hoverlabel": {
           "align": "left"
          },
          "hovermode": "closest",
          "mapbox": {
           "style": "light"
          },
          "paper_bgcolor": "white",
          "plot_bgcolor": "#E5ECF6",
          "polar": {
           "angularaxis": {
            "gridcolor": "white",
            "linecolor": "white",
            "ticks": ""
           },
           "bgcolor": "#E5ECF6",
           "radialaxis": {
            "gridcolor": "white",
            "linecolor": "white",
            "ticks": ""
           }
          },
          "scene": {
           "xaxis": {
            "backgroundcolor": "#E5ECF6",
            "gridcolor": "white",
            "gridwidth": 2,
            "linecolor": "white",
            "showbackground": true,
            "ticks": "",
            "zerolinecolor": "white"
           },
           "yaxis": {
            "backgroundcolor": "#E5ECF6",
            "gridcolor": "white",
            "gridwidth": 2,
            "linecolor": "white",
            "showbackground": true,
            "ticks": "",
            "zerolinecolor": "white"
           },
           "zaxis": {
            "backgroundcolor": "#E5ECF6",
            "gridcolor": "white",
            "gridwidth": 2,
            "linecolor": "white",
            "showbackground": true,
            "ticks": "",
            "zerolinecolor": "white"
           }
          },
          "shapedefaults": {
           "line": {
            "color": "#2a3f5f"
           }
          },
          "ternary": {
           "aaxis": {
            "gridcolor": "white",
            "linecolor": "white",
            "ticks": ""
           },
           "baxis": {
            "gridcolor": "white",
            "linecolor": "white",
            "ticks": ""
           },
           "bgcolor": "#E5ECF6",
           "caxis": {
            "gridcolor": "white",
            "linecolor": "white",
            "ticks": ""
           }
          },
          "title": {
           "x": 0.05
          },
          "xaxis": {
           "automargin": true,
           "gridcolor": "white",
           "linecolor": "white",
           "ticks": "",
           "title": {
            "standoff": 15
           },
           "zerolinecolor": "white",
           "zerolinewidth": 2
          },
          "yaxis": {
           "automargin": true,
           "gridcolor": "white",
           "linecolor": "white",
           "ticks": "",
           "title": {
            "standoff": 15
           },
           "zerolinecolor": "white",
           "zerolinewidth": 2
          }
         }
        },
        "title": {
         "text": "Heatmap of Oscar Winning Actors by Country"
        }
       }
      }
     },
     "metadata": {},
     "output_type": "display_data"
    }
   ],
   "source": [
    "country_counts = oscar_actress_info['countryOfCitizenshipLabel'].value_counts()\n",
    "country_counts = country_counts.reset_index()\n",
    "country_counts.columns = ['Country', 'Count']\n",
    "\n",
    "fig = px.choropleth(country_counts, \n",
    "                    locations=\"Country\", \n",
    "                    locationmode='country names', \n",
    "                    color=\"Count\", \n",
    "                    hover_name=\"Country\", \n",
    "                    title=\"Heatmap of Oscar Winning Actors by Country\")\n",
    "fig.update_geos(showcountries=True, visible=True)\n",
    "fig.update_geos(lonaxis_range=[-10, 40], lataxis_range=[35, 70])\n",
    "fig.show()"
   ]
  },
  {
   "cell_type": "code",
   "execution_count": 119,
   "metadata": {},
   "outputs": [
    {
     "name": "stdout",
     "output_type": "stream",
     "text": [
      "Average Capital Cost of the movies starring the actresses: 18500000.0\n",
      "Average Box Office revenue of the movies starring the actresses: 39125712.5\n",
      "Average Benefits of the movies starring the actresses: 72737200.0\n"
     ]
    }
   ],
   "source": [
    "print('Average Capital Cost of the movies starring the actresses:', oscar_actress_movies['capitalCost'].median()) \n",
    "print('Average Box Office revenue of the movies starring the actresses:', oscar_actress_movies['Movie box office revenue'].median())\n",
    "print('Average Benefits of the movies starring the actresses:', (oscar_actress_movies['Movie box office revenue'] - oscar_actress_movies['capitalCost']).median())\n"
   ]
  },
  {
   "cell_type": "code",
   "execution_count": 120,
   "metadata": {},
   "outputs": [
    {
     "name": "stdout",
     "output_type": "stream",
     "text": [
      "Shape: (2777, 19)\n",
      "Columns: Index(['Wikipedia movie ID', 'Character name', 'Actor date of birth',\n",
      "       ' Actor gender', 'Actor height)', 'Actor ethnicity', 'Actor name',\n",
      "       'Actor age at movie release', 'Freebase character',\n",
      "       'Freebase character ID', 'Freebase actor ID', 'Freebase movie ID',\n",
      "       'Movie name', 'Movie release date', 'Movie box office revenue',\n",
      "       'Movie runtime', 'Movie languages', 'Movie countries', 'Movie genres'],\n",
      "      dtype='object')\n",
      "Date boundary: 1909.0 - 2013.0\n"
     ]
    }
   ],
   "source": [
    "oscar_actress_movies_all = character[character['Freebase actor ID'].isin(oscar_actress_info['Freebase actor ID'])]\n",
    "oscar_actress_movies_all = oscar_actress_movies_all.drop(columns=['Freebase movie ID', 'Movie release date'])\n",
    "oscar_actress_movies_all = oscar_actress_movies_all.merge(movie_cmu, on='Wikipedia movie ID', how='left')\n",
    "print('Shape:', oscar_actress_movies_all.shape)\n",
    "print('Columns:', oscar_actress_movies_all.columns)\n",
    "print('Date boundary:', oscar_actress_movies_all['Movie release date'].min(), '-', oscar_actress_movies_all['Movie release date'].max())"
   ]
  },
  {
   "cell_type": "code",
   "execution_count": 121,
   "metadata": {},
   "outputs": [
    {
     "data": {
      "text/html": [
       "<div>\n",
       "<style scoped>\n",
       "    .dataframe tbody tr th:only-of-type {\n",
       "        vertical-align: middle;\n",
       "    }\n",
       "\n",
       "    .dataframe tbody tr th {\n",
       "        vertical-align: top;\n",
       "    }\n",
       "\n",
       "    .dataframe thead th {\n",
       "        text-align: right;\n",
       "    }\n",
       "</style>\n",
       "<table border=\"1\" class=\"dataframe\">\n",
       "  <thead>\n",
       "    <tr style=\"text-align: right;\">\n",
       "      <th></th>\n",
       "      <th>Wikipedia movie ID</th>\n",
       "      <th>Character name</th>\n",
       "      <th>Actor date of birth</th>\n",
       "      <th>Actor gender</th>\n",
       "      <th>Actor height)</th>\n",
       "      <th>Actor ethnicity</th>\n",
       "      <th>Actor name</th>\n",
       "      <th>Actor age at movie release</th>\n",
       "      <th>Freebase character</th>\n",
       "      <th>Freebase character ID</th>\n",
       "      <th>Freebase actor ID</th>\n",
       "      <th>Freebase movie ID</th>\n",
       "      <th>Movie name</th>\n",
       "      <th>Movie release date</th>\n",
       "      <th>Movie box office revenue</th>\n",
       "      <th>Movie runtime</th>\n",
       "      <th>Movie languages</th>\n",
       "      <th>Movie countries</th>\n",
       "      <th>Movie genres</th>\n",
       "      <th>Best Actress Reward</th>\n",
       "    </tr>\n",
       "  </thead>\n",
       "  <tbody>\n",
       "    <tr>\n",
       "      <th>68</th>\n",
       "      <td>61904</td>\n",
       "      <td>NaN</td>\n",
       "      <td>1906.0</td>\n",
       "      <td>F</td>\n",
       "      <td>1.52</td>\n",
       "      <td>NaN</td>\n",
       "      <td>Janet Gaynor</td>\n",
       "      <td>20.0</td>\n",
       "      <td>/m/0k3y6c</td>\n",
       "      <td>NaN</td>\n",
       "      <td>/m/0cf3c</td>\n",
       "      <td>/m/0grk0</td>\n",
       "      <td>Sunrise: A Song of Two Humans</td>\n",
       "      <td>NaN</td>\n",
       "      <td>NaN</td>\n",
       "      <td>173.0</td>\n",
       "      <td>Silent film</td>\n",
       "      <td>United States of America</td>\n",
       "      <td>Crime Fiction, Silent film, Indie, Black-and-w...</td>\n",
       "      <td>True</td>\n",
       "    </tr>\n",
       "    <tr>\n",
       "      <th>140</th>\n",
       "      <td>61049</td>\n",
       "      <td>NaN</td>\n",
       "      <td>1906.0</td>\n",
       "      <td>F</td>\n",
       "      <td>1.52</td>\n",
       "      <td>NaN</td>\n",
       "      <td>Janet Gaynor</td>\n",
       "      <td>20.0</td>\n",
       "      <td>/m/0k32nn</td>\n",
       "      <td>NaN</td>\n",
       "      <td>/m/0cf3c</td>\n",
       "      <td>/m/0gkn7</td>\n",
       "      <td>Seventh Heaven</td>\n",
       "      <td>NaN</td>\n",
       "      <td>1750000.0</td>\n",
       "      <td>118.0</td>\n",
       "      <td>Silent film</td>\n",
       "      <td>United States of America</td>\n",
       "      <td>Silent film, Indie, Black-and-white, Drama, Wa...</td>\n",
       "      <td>True</td>\n",
       "    </tr>\n",
       "    <tr>\n",
       "      <th>147</th>\n",
       "      <td>9245306</td>\n",
       "      <td>Hedda Nilsson aka Helga Brand</td>\n",
       "      <td>1906.0</td>\n",
       "      <td>F</td>\n",
       "      <td>1.52</td>\n",
       "      <td>NaN</td>\n",
       "      <td>Janet Gaynor</td>\n",
       "      <td>27.0</td>\n",
       "      <td>/m/02tbdvl</td>\n",
       "      <td>/m/0cgrmvl</td>\n",
       "      <td>/m/0cf3c</td>\n",
       "      <td>/m/0281fyy</td>\n",
       "      <td>Servants' Entrance</td>\n",
       "      <td>1934.0</td>\n",
       "      <td>NaN</td>\n",
       "      <td>88.0</td>\n",
       "      <td>English Language</td>\n",
       "      <td>United States of America</td>\n",
       "      <td>Romantic comedy, Comedy-drama, Comedy</td>\n",
       "      <td>False</td>\n",
       "    </tr>\n",
       "    <tr>\n",
       "      <th>152</th>\n",
       "      <td>11964834</td>\n",
       "      <td>NaN</td>\n",
       "      <td>1906.0</td>\n",
       "      <td>F</td>\n",
       "      <td>1.52</td>\n",
       "      <td>NaN</td>\n",
       "      <td>Janet Gaynor</td>\n",
       "      <td>19.0</td>\n",
       "      <td>/m/02t9_0v</td>\n",
       "      <td>NaN</td>\n",
       "      <td>/m/0cf3c</td>\n",
       "      <td>/m/02rzy2t</td>\n",
       "      <td>The Johnstown Flood</td>\n",
       "      <td>1926.0</td>\n",
       "      <td>NaN</td>\n",
       "      <td>60.0</td>\n",
       "      <td>English Language</td>\n",
       "      <td>United States of America</td>\n",
       "      <td>Silent film, Indie, Black-and-white</td>\n",
       "      <td>False</td>\n",
       "    </tr>\n",
       "    <tr>\n",
       "      <th>188</th>\n",
       "      <td>9252477</td>\n",
       "      <td>NaN</td>\n",
       "      <td>1906.0</td>\n",
       "      <td>F</td>\n",
       "      <td>1.52</td>\n",
       "      <td>NaN</td>\n",
       "      <td>Janet Gaynor</td>\n",
       "      <td>28.0</td>\n",
       "      <td>/m/02vbfwg</td>\n",
       "      <td>NaN</td>\n",
       "      <td>/m/0cf3c</td>\n",
       "      <td>/m/0281qzm</td>\n",
       "      <td>One More Spring</td>\n",
       "      <td>NaN</td>\n",
       "      <td>NaN</td>\n",
       "      <td>87.0</td>\n",
       "      <td>English Language</td>\n",
       "      <td>United States of America</td>\n",
       "      <td>Drama, Comedy, Black-and-white</td>\n",
       "      <td>False</td>\n",
       "    </tr>\n",
       "    <tr>\n",
       "      <th>212</th>\n",
       "      <td>9015881</td>\n",
       "      <td>NaN</td>\n",
       "      <td>1906.0</td>\n",
       "      <td>F</td>\n",
       "      <td>1.52</td>\n",
       "      <td>NaN</td>\n",
       "      <td>Janet Gaynor</td>\n",
       "      <td>27.0</td>\n",
       "      <td>/m/02vcwxx</td>\n",
       "      <td>NaN</td>\n",
       "      <td>/m/0cf3c</td>\n",
       "      <td>/m/027thqw</td>\n",
       "      <td>Change of Heart</td>\n",
       "      <td>1934.0</td>\n",
       "      <td>NaN</td>\n",
       "      <td>76.0</td>\n",
       "      <td>English Language</td>\n",
       "      <td>United States of America</td>\n",
       "      <td>Romance Film, Black-and-white</td>\n",
       "      <td>False</td>\n",
       "    </tr>\n",
       "    <tr>\n",
       "      <th>247</th>\n",
       "      <td>3450569</td>\n",
       "      <td>Esther Blodgett</td>\n",
       "      <td>1906.0</td>\n",
       "      <td>F</td>\n",
       "      <td>1.52</td>\n",
       "      <td>NaN</td>\n",
       "      <td>Janet Gaynor</td>\n",
       "      <td>30.0</td>\n",
       "      <td>/m/0jsxlp</td>\n",
       "      <td>/m/02nw9mj</td>\n",
       "      <td>/m/0cf3c</td>\n",
       "      <td>/m/09d37z</td>\n",
       "      <td>A Star Is Born</td>\n",
       "      <td>1937.0</td>\n",
       "      <td>NaN</td>\n",
       "      <td>111.0</td>\n",
       "      <td>English Language</td>\n",
       "      <td>United States of America</td>\n",
       "      <td>Romantic drama, Musical, Drama, Romance Film</td>\n",
       "      <td>False</td>\n",
       "    </tr>\n",
       "    <tr>\n",
       "      <th>435</th>\n",
       "      <td>60173</td>\n",
       "      <td>Margy Frake</td>\n",
       "      <td>1906.0</td>\n",
       "      <td>F</td>\n",
       "      <td>1.52</td>\n",
       "      <td>NaN</td>\n",
       "      <td>Janet Gaynor</td>\n",
       "      <td>26.0</td>\n",
       "      <td>/m/02tb9bn</td>\n",
       "      <td>/m/0ch7m_g</td>\n",
       "      <td>/m/0cf3c</td>\n",
       "      <td>/m/0gcr4</td>\n",
       "      <td>State Fair</td>\n",
       "      <td>NaN</td>\n",
       "      <td>1800000.0</td>\n",
       "      <td>97.0</td>\n",
       "      <td>English Language</td>\n",
       "      <td>United States of America</td>\n",
       "      <td>Musical, Black-and-white</td>\n",
       "      <td>False</td>\n",
       "    </tr>\n",
       "    <tr>\n",
       "      <th>464</th>\n",
       "      <td>9253157</td>\n",
       "      <td>NaN</td>\n",
       "      <td>1906.0</td>\n",
       "      <td>F</td>\n",
       "      <td>1.52</td>\n",
       "      <td>NaN</td>\n",
       "      <td>Janet Gaynor</td>\n",
       "      <td>29.0</td>\n",
       "      <td>/m/02vbnjk</td>\n",
       "      <td>NaN</td>\n",
       "      <td>/m/0cf3c</td>\n",
       "      <td>/m/0281rwh</td>\n",
       "      <td>Small Town Girl</td>\n",
       "      <td>1936.0</td>\n",
       "      <td>NaN</td>\n",
       "      <td>106.0</td>\n",
       "      <td>English Language</td>\n",
       "      <td>United States of America</td>\n",
       "      <td>Romance Film, Comedy, Black-and-white</td>\n",
       "      <td>False</td>\n",
       "    </tr>\n",
       "    <tr>\n",
       "      <th>565</th>\n",
       "      <td>9253028</td>\n",
       "      <td>Joanna Tate</td>\n",
       "      <td>1906.0</td>\n",
       "      <td>F</td>\n",
       "      <td>1.52</td>\n",
       "      <td>NaN</td>\n",
       "      <td>Janet Gaynor</td>\n",
       "      <td>27.0</td>\n",
       "      <td>/m/02tbj2d</td>\n",
       "      <td>/m/0bxjwy1</td>\n",
       "      <td>/m/0cf3c</td>\n",
       "      <td>/m/0281rqb</td>\n",
       "      <td>Carolina</td>\n",
       "      <td>1934.0</td>\n",
       "      <td>NaN</td>\n",
       "      <td>85.0</td>\n",
       "      <td>English Language</td>\n",
       "      <td>United States of America</td>\n",
       "      <td>Romantic comedy, Black-and-white</td>\n",
       "      <td>False</td>\n",
       "    </tr>\n",
       "    <tr>\n",
       "      <th>584</th>\n",
       "      <td>22212836</td>\n",
       "      <td>NaN</td>\n",
       "      <td>1906.0</td>\n",
       "      <td>F</td>\n",
       "      <td>1.52</td>\n",
       "      <td>NaN</td>\n",
       "      <td>Janet Gaynor</td>\n",
       "      <td>24.0</td>\n",
       "      <td>/m/09l55cd</td>\n",
       "      <td>NaN</td>\n",
       "      <td>/m/0cf3c</td>\n",
       "      <td>/m/05q9sdy</td>\n",
       "      <td>Daddy Long Legs</td>\n",
       "      <td>1931.0</td>\n",
       "      <td>NaN</td>\n",
       "      <td>80.0</td>\n",
       "      <td>{}</td>\n",
       "      <td>United States of America</td>\n",
       "      <td>Romance Film, Comedy</td>\n",
       "      <td>False</td>\n",
       "    </tr>\n",
       "    <tr>\n",
       "      <th>585</th>\n",
       "      <td>16455535</td>\n",
       "      <td>NaN</td>\n",
       "      <td>1906.0</td>\n",
       "      <td>F</td>\n",
       "      <td>1.52</td>\n",
       "      <td>NaN</td>\n",
       "      <td>Janet Gaynor</td>\n",
       "      <td>19.0</td>\n",
       "      <td>/m/04m5x0h</td>\n",
       "      <td>NaN</td>\n",
       "      <td>/m/0cf3c</td>\n",
       "      <td>/m/03y6cy8</td>\n",
       "      <td>The Blue Eagle</td>\n",
       "      <td>1926.0</td>\n",
       "      <td>NaN</td>\n",
       "      <td>58.0</td>\n",
       "      <td>Silent film</td>\n",
       "      <td>United States of America</td>\n",
       "      <td>Silent film, Action, Black-and-white</td>\n",
       "      <td>False</td>\n",
       "    </tr>\n",
       "    <tr>\n",
       "      <th>950</th>\n",
       "      <td>9251956</td>\n",
       "      <td>NaN</td>\n",
       "      <td>1906.0</td>\n",
       "      <td>F</td>\n",
       "      <td>1.52</td>\n",
       "      <td>NaN</td>\n",
       "      <td>Janet Gaynor</td>\n",
       "      <td>23.0</td>\n",
       "      <td>/m/05bg5lz</td>\n",
       "      <td>NaN</td>\n",
       "      <td>/m/0cf3c</td>\n",
       "      <td>/m/0281q77</td>\n",
       "      <td>Sunny Side Up</td>\n",
       "      <td>1929.0</td>\n",
       "      <td>3300000.0</td>\n",
       "      <td>121.0</td>\n",
       "      <td>English Language</td>\n",
       "      <td>United States of America</td>\n",
       "      <td>Musical, Pre-Code, Romance Film, Black-and-whi...</td>\n",
       "      <td>False</td>\n",
       "    </tr>\n",
       "    <tr>\n",
       "      <th>952</th>\n",
       "      <td>9244363</td>\n",
       "      <td>NaN</td>\n",
       "      <td>1906.0</td>\n",
       "      <td>F</td>\n",
       "      <td>1.52</td>\n",
       "      <td>NaN</td>\n",
       "      <td>Janet Gaynor</td>\n",
       "      <td>26.0</td>\n",
       "      <td>/m/02vbfc1</td>\n",
       "      <td>NaN</td>\n",
       "      <td>/m/0cf3c</td>\n",
       "      <td>/m/0281dvh</td>\n",
       "      <td>Paddy the Next Best Thing</td>\n",
       "      <td>1933.0</td>\n",
       "      <td>NaN</td>\n",
       "      <td>75.0</td>\n",
       "      <td>English Language</td>\n",
       "      <td>United States of America</td>\n",
       "      <td>Comedy, Black-and-white</td>\n",
       "      <td>False</td>\n",
       "    </tr>\n",
       "    <tr>\n",
       "      <th>1021</th>\n",
       "      <td>9252262</td>\n",
       "      <td>NaN</td>\n",
       "      <td>1906.0</td>\n",
       "      <td>F</td>\n",
       "      <td>1.52</td>\n",
       "      <td>NaN</td>\n",
       "      <td>Janet Gaynor</td>\n",
       "      <td>25.0</td>\n",
       "      <td>/m/02vddzq</td>\n",
       "      <td>NaN</td>\n",
       "      <td>/m/0cf3c</td>\n",
       "      <td>/m/0281qq0</td>\n",
       "      <td>The First Year</td>\n",
       "      <td>1932.0</td>\n",
       "      <td>NaN</td>\n",
       "      <td>80.0</td>\n",
       "      <td>English Language</td>\n",
       "      <td>United States of America</td>\n",
       "      <td>Drama, Comedy</td>\n",
       "      <td>False</td>\n",
       "    </tr>\n",
       "    <tr>\n",
       "      <th>1038</th>\n",
       "      <td>9015147</td>\n",
       "      <td>Mary Ann</td>\n",
       "      <td>1906.0</td>\n",
       "      <td>F</td>\n",
       "      <td>1.52</td>\n",
       "      <td>NaN</td>\n",
       "      <td>Janet Gaynor</td>\n",
       "      <td>24.0</td>\n",
       "      <td>/m/02vct5q</td>\n",
       "      <td>/m/0c1npjv</td>\n",
       "      <td>/m/0cf3c</td>\n",
       "      <td>/m/027tgr6</td>\n",
       "      <td>Merely Mary Ann</td>\n",
       "      <td>1931.0</td>\n",
       "      <td>NaN</td>\n",
       "      <td>74.0</td>\n",
       "      <td>English Language</td>\n",
       "      <td>United States of America</td>\n",
       "      <td>Romantic comedy, Drama, Black-and-white</td>\n",
       "      <td>False</td>\n",
       "    </tr>\n",
       "    <tr>\n",
       "      <th>1217</th>\n",
       "      <td>9252147</td>\n",
       "      <td>NaN</td>\n",
       "      <td>1906.0</td>\n",
       "      <td>F</td>\n",
       "      <td>1.52</td>\n",
       "      <td>NaN</td>\n",
       "      <td>Janet Gaynor</td>\n",
       "      <td>23.0</td>\n",
       "      <td>/m/02vccnh</td>\n",
       "      <td>NaN</td>\n",
       "      <td>/m/0cf3c</td>\n",
       "      <td>/m/0281qgg</td>\n",
       "      <td>High Society Blues</td>\n",
       "      <td>1930.0</td>\n",
       "      <td>NaN</td>\n",
       "      <td>102.0</td>\n",
       "      <td>English Language</td>\n",
       "      <td>United States of America</td>\n",
       "      <td>Romance Film, Musical, Black-and-white</td>\n",
       "      <td>False</td>\n",
       "    </tr>\n",
       "    <tr>\n",
       "      <th>1342</th>\n",
       "      <td>171990</td>\n",
       "      <td>NaN</td>\n",
       "      <td>1906.0</td>\n",
       "      <td>F</td>\n",
       "      <td>1.52</td>\n",
       "      <td>NaN</td>\n",
       "      <td>Janet Gaynor</td>\n",
       "      <td>21.0</td>\n",
       "      <td>/m/0k3v9h</td>\n",
       "      <td>NaN</td>\n",
       "      <td>/m/0cf3c</td>\n",
       "      <td>/m/0173lb</td>\n",
       "      <td>Street Angel</td>\n",
       "      <td>1928.0</td>\n",
       "      <td>1700000.0</td>\n",
       "      <td>102.0</td>\n",
       "      <td>Silent film</td>\n",
       "      <td>United States of America</td>\n",
       "      <td>Silent film, Indie, Black-and-white, Drama, Ro...</td>\n",
       "      <td>True</td>\n",
       "    </tr>\n",
       "    <tr>\n",
       "      <th>1350</th>\n",
       "      <td>9252771</td>\n",
       "      <td>NaN</td>\n",
       "      <td>1906.0</td>\n",
       "      <td>F</td>\n",
       "      <td>1.52</td>\n",
       "      <td>NaN</td>\n",
       "      <td>Janet Gaynor</td>\n",
       "      <td>31.0</td>\n",
       "      <td>/m/02vbfs8</td>\n",
       "      <td>NaN</td>\n",
       "      <td>/m/0cf3c</td>\n",
       "      <td>/m/0281r98</td>\n",
       "      <td>Three Loves Has Nancy</td>\n",
       "      <td>NaN</td>\n",
       "      <td>NaN</td>\n",
       "      <td>70.0</td>\n",
       "      <td>English Language</td>\n",
       "      <td>United States of America</td>\n",
       "      <td>Romantic comedy, Romance Film, Comedy, Black-a...</td>\n",
       "      <td>False</td>\n",
       "    </tr>\n",
       "    <tr>\n",
       "      <th>1560</th>\n",
       "      <td>11091449</td>\n",
       "      <td>NaN</td>\n",
       "      <td>1906.0</td>\n",
       "      <td>F</td>\n",
       "      <td>1.52</td>\n",
       "      <td>NaN</td>\n",
       "      <td>Janet Gaynor</td>\n",
       "      <td>25.0</td>\n",
       "      <td>/m/0h7tldl</td>\n",
       "      <td>NaN</td>\n",
       "      <td>/m/0cf3c</td>\n",
       "      <td>/m/02q_r7n</td>\n",
       "      <td>Tess of the Storm Country</td>\n",
       "      <td>NaN</td>\n",
       "      <td>NaN</td>\n",
       "      <td>NaN</td>\n",
       "      <td>English Language</td>\n",
       "      <td>United States of America</td>\n",
       "      <td>Drama, Black-and-white</td>\n",
       "      <td>False</td>\n",
       "    </tr>\n",
       "    <tr>\n",
       "      <th>1669</th>\n",
       "      <td>7340887</td>\n",
       "      <td>Marion</td>\n",
       "      <td>1906.0</td>\n",
       "      <td>F</td>\n",
       "      <td>1.52</td>\n",
       "      <td>NaN</td>\n",
       "      <td>Janet Gaynor</td>\n",
       "      <td>21.0</td>\n",
       "      <td>/m/0j91zp8</td>\n",
       "      <td>/m/0j95g7r</td>\n",
       "      <td>/m/0cf3c</td>\n",
       "      <td>/m/02825n2</td>\n",
       "      <td>4 Devils</td>\n",
       "      <td>1928.0</td>\n",
       "      <td>NaN</td>\n",
       "      <td>100.0</td>\n",
       "      <td>Silent film</td>\n",
       "      <td>United States of America</td>\n",
       "      <td>Silent film, Drama, Indie, Black-and-white</td>\n",
       "      <td>False</td>\n",
       "    </tr>\n",
       "    <tr>\n",
       "      <th>1825</th>\n",
       "      <td>9015497</td>\n",
       "      <td>NaN</td>\n",
       "      <td>1906.0</td>\n",
       "      <td>F</td>\n",
       "      <td>1.52</td>\n",
       "      <td>NaN</td>\n",
       "      <td>Janet Gaynor</td>\n",
       "      <td>26.0</td>\n",
       "      <td>/m/02vbc0_</td>\n",
       "      <td>NaN</td>\n",
       "      <td>/m/0cf3c</td>\n",
       "      <td>/m/027th81</td>\n",
       "      <td>Adorable</td>\n",
       "      <td>NaN</td>\n",
       "      <td>NaN</td>\n",
       "      <td>88.0</td>\n",
       "      <td>English Language</td>\n",
       "      <td>United States of America</td>\n",
       "      <td>Romantic drama, Romance Film, Comedy-drama, Co...</td>\n",
       "      <td>False</td>\n",
       "    </tr>\n",
       "    <tr>\n",
       "      <th>1827</th>\n",
       "      <td>9232034</td>\n",
       "      <td>NaN</td>\n",
       "      <td>1906.0</td>\n",
       "      <td>F</td>\n",
       "      <td>1.52</td>\n",
       "      <td>NaN</td>\n",
       "      <td>Janet Gaynor</td>\n",
       "      <td>24.0</td>\n",
       "      <td>/m/02vb67x</td>\n",
       "      <td>NaN</td>\n",
       "      <td>/m/0cf3c</td>\n",
       "      <td>/m/02811zj</td>\n",
       "      <td>The Man Who Came Back</td>\n",
       "      <td>1931.0</td>\n",
       "      <td>NaN</td>\n",
       "      <td>74.0</td>\n",
       "      <td>English Language</td>\n",
       "      <td>United States of America</td>\n",
       "      <td>Drama</td>\n",
       "      <td>False</td>\n",
       "    </tr>\n",
       "    <tr>\n",
       "      <th>1857</th>\n",
       "      <td>16197656</td>\n",
       "      <td>NaN</td>\n",
       "      <td>1906.0</td>\n",
       "      <td>F</td>\n",
       "      <td>1.52</td>\n",
       "      <td>NaN</td>\n",
       "      <td>Janet Gaynor</td>\n",
       "      <td>19.0</td>\n",
       "      <td>/m/04m62fx</td>\n",
       "      <td>NaN</td>\n",
       "      <td>/m/0cf3c</td>\n",
       "      <td>/m/03wcq9k</td>\n",
       "      <td>The Shamrock Handicap</td>\n",
       "      <td>1926.0</td>\n",
       "      <td>NaN</td>\n",
       "      <td>NaN</td>\n",
       "      <td>Silent film</td>\n",
       "      <td>United States of America</td>\n",
       "      <td>Romance Film, Silent film, Black-and-white</td>\n",
       "      <td>False</td>\n",
       "    </tr>\n",
       "    <tr>\n",
       "      <th>1907</th>\n",
       "      <td>8998993</td>\n",
       "      <td>NaN</td>\n",
       "      <td>1906.0</td>\n",
       "      <td>F</td>\n",
       "      <td>1.52</td>\n",
       "      <td>NaN</td>\n",
       "      <td>Janet Gaynor</td>\n",
       "      <td>25.0</td>\n",
       "      <td>/m/02vb32r</td>\n",
       "      <td>NaN</td>\n",
       "      <td>/m/0cf3c</td>\n",
       "      <td>/m/027swb3</td>\n",
       "      <td>Delicious</td>\n",
       "      <td>1931.0</td>\n",
       "      <td>NaN</td>\n",
       "      <td>106.0</td>\n",
       "      <td>English Language</td>\n",
       "      <td>United States of America</td>\n",
       "      <td>Romantic comedy, Musical, Romance Film, Black-...</td>\n",
       "      <td>False</td>\n",
       "    </tr>\n",
       "    <tr>\n",
       "      <th>2232</th>\n",
       "      <td>8850968</td>\n",
       "      <td>NaN</td>\n",
       "      <td>1906.0</td>\n",
       "      <td>F</td>\n",
       "      <td>1.52</td>\n",
       "      <td>NaN</td>\n",
       "      <td>Janet Gaynor</td>\n",
       "      <td>22.0</td>\n",
       "      <td>/m/02vbgn3</td>\n",
       "      <td>NaN</td>\n",
       "      <td>/m/0cf3c</td>\n",
       "      <td>/m/027l_6j</td>\n",
       "      <td>Lucky Star</td>\n",
       "      <td>1929.0</td>\n",
       "      <td>NaN</td>\n",
       "      <td>90.0</td>\n",
       "      <td>English Language</td>\n",
       "      <td>United States of America</td>\n",
       "      <td>Romance Film, Drama, Black-and-white, War film</td>\n",
       "      <td>False</td>\n",
       "    </tr>\n",
       "    <tr>\n",
       "      <th>2256</th>\n",
       "      <td>8626367</td>\n",
       "      <td>NaN</td>\n",
       "      <td>1906.0</td>\n",
       "      <td>F</td>\n",
       "      <td>1.52</td>\n",
       "      <td>NaN</td>\n",
       "      <td>Janet Gaynor</td>\n",
       "      <td>32.0</td>\n",
       "      <td>/m/02vblb_</td>\n",
       "      <td>NaN</td>\n",
       "      <td>/m/0cf3c</td>\n",
       "      <td>/m/027bjzg</td>\n",
       "      <td>The Young in Heart</td>\n",
       "      <td>1938.0</td>\n",
       "      <td>NaN</td>\n",
       "      <td>90.0</td>\n",
       "      <td>English Language</td>\n",
       "      <td>United States of America</td>\n",
       "      <td>Romance Film, Screwball comedy, Comedy, Black-...</td>\n",
       "      <td>False</td>\n",
       "    </tr>\n",
       "    <tr>\n",
       "      <th>2307</th>\n",
       "      <td>9264182</td>\n",
       "      <td>NaN</td>\n",
       "      <td>1906.0</td>\n",
       "      <td>F</td>\n",
       "      <td>1.52</td>\n",
       "      <td>NaN</td>\n",
       "      <td>Janet Gaynor</td>\n",
       "      <td>22.0</td>\n",
       "      <td>/m/02vd7yc</td>\n",
       "      <td>NaN</td>\n",
       "      <td>/m/0cf3c</td>\n",
       "      <td>/m/028258d</td>\n",
       "      <td>Christina</td>\n",
       "      <td>NaN</td>\n",
       "      <td>NaN</td>\n",
       "      <td>85.0</td>\n",
       "      <td>Silent film</td>\n",
       "      <td>United States of America</td>\n",
       "      <td>Silent film, Drama, Indie</td>\n",
       "      <td>False</td>\n",
       "    </tr>\n",
       "    <tr>\n",
       "      <th>2364</th>\n",
       "      <td>8625972</td>\n",
       "      <td>NaN</td>\n",
       "      <td>1906.0</td>\n",
       "      <td>F</td>\n",
       "      <td>1.52</td>\n",
       "      <td>NaN</td>\n",
       "      <td>Janet Gaynor</td>\n",
       "      <td>30.0</td>\n",
       "      <td>/m/02vbt98</td>\n",
       "      <td>NaN</td>\n",
       "      <td>/m/0cf3c</td>\n",
       "      <td>/m/027bjjq</td>\n",
       "      <td>Ladies in Love</td>\n",
       "      <td>1936.0</td>\n",
       "      <td>NaN</td>\n",
       "      <td>97.0</td>\n",
       "      <td>English Language</td>\n",
       "      <td>United States of America</td>\n",
       "      <td>Romantic comedy, Black-and-white</td>\n",
       "      <td>False</td>\n",
       "    </tr>\n",
       "    <tr>\n",
       "      <th>2570</th>\n",
       "      <td>5463715</td>\n",
       "      <td>NaN</td>\n",
       "      <td>1906.0</td>\n",
       "      <td>F</td>\n",
       "      <td>1.52</td>\n",
       "      <td>NaN</td>\n",
       "      <td>Janet Gaynor</td>\n",
       "      <td>20.0</td>\n",
       "      <td>/m/0jsk_j</td>\n",
       "      <td>NaN</td>\n",
       "      <td>/m/0cf3c</td>\n",
       "      <td>/m/0dm_qh</td>\n",
       "      <td>45 Minutes from Hollywood</td>\n",
       "      <td>1926.0</td>\n",
       "      <td>NaN</td>\n",
       "      <td>14.0</td>\n",
       "      <td>Silent film</td>\n",
       "      <td>United States of America</td>\n",
       "      <td>Short Film, Silent film, Comedy, Black-and-whi...</td>\n",
       "      <td>False</td>\n",
       "    </tr>\n",
       "  </tbody>\n",
       "</table>\n",
       "</div>"
      ],
      "text/plain": [
       "      Wikipedia movie ID                 Character name  Actor date of birth  \\\n",
       "68                 61904                            NaN               1906.0   \n",
       "140                61049                            NaN               1906.0   \n",
       "147              9245306  Hedda Nilsson aka Helga Brand               1906.0   \n",
       "152             11964834                            NaN               1906.0   \n",
       "188              9252477                            NaN               1906.0   \n",
       "212              9015881                            NaN               1906.0   \n",
       "247              3450569                Esther Blodgett               1906.0   \n",
       "435                60173                    Margy Frake               1906.0   \n",
       "464              9253157                            NaN               1906.0   \n",
       "565              9253028                    Joanna Tate               1906.0   \n",
       "584             22212836                            NaN               1906.0   \n",
       "585             16455535                            NaN               1906.0   \n",
       "950              9251956                            NaN               1906.0   \n",
       "952              9244363                            NaN               1906.0   \n",
       "1021             9252262                            NaN               1906.0   \n",
       "1038             9015147                       Mary Ann               1906.0   \n",
       "1217             9252147                            NaN               1906.0   \n",
       "1342              171990                            NaN               1906.0   \n",
       "1350             9252771                            NaN               1906.0   \n",
       "1560            11091449                            NaN               1906.0   \n",
       "1669             7340887                         Marion               1906.0   \n",
       "1825             9015497                            NaN               1906.0   \n",
       "1827             9232034                            NaN               1906.0   \n",
       "1857            16197656                            NaN               1906.0   \n",
       "1907             8998993                            NaN               1906.0   \n",
       "2232             8850968                            NaN               1906.0   \n",
       "2256             8626367                            NaN               1906.0   \n",
       "2307             9264182                            NaN               1906.0   \n",
       "2364             8625972                            NaN               1906.0   \n",
       "2570             5463715                            NaN               1906.0   \n",
       "\n",
       "      Actor gender  Actor height) Actor ethnicity    Actor name  \\\n",
       "68               F           1.52             NaN  Janet Gaynor   \n",
       "140              F           1.52             NaN  Janet Gaynor   \n",
       "147              F           1.52             NaN  Janet Gaynor   \n",
       "152              F           1.52             NaN  Janet Gaynor   \n",
       "188              F           1.52             NaN  Janet Gaynor   \n",
       "212              F           1.52             NaN  Janet Gaynor   \n",
       "247              F           1.52             NaN  Janet Gaynor   \n",
       "435              F           1.52             NaN  Janet Gaynor   \n",
       "464              F           1.52             NaN  Janet Gaynor   \n",
       "565              F           1.52             NaN  Janet Gaynor   \n",
       "584              F           1.52             NaN  Janet Gaynor   \n",
       "585              F           1.52             NaN  Janet Gaynor   \n",
       "950              F           1.52             NaN  Janet Gaynor   \n",
       "952              F           1.52             NaN  Janet Gaynor   \n",
       "1021             F           1.52             NaN  Janet Gaynor   \n",
       "1038             F           1.52             NaN  Janet Gaynor   \n",
       "1217             F           1.52             NaN  Janet Gaynor   \n",
       "1342             F           1.52             NaN  Janet Gaynor   \n",
       "1350             F           1.52             NaN  Janet Gaynor   \n",
       "1560             F           1.52             NaN  Janet Gaynor   \n",
       "1669             F           1.52             NaN  Janet Gaynor   \n",
       "1825             F           1.52             NaN  Janet Gaynor   \n",
       "1827             F           1.52             NaN  Janet Gaynor   \n",
       "1857             F           1.52             NaN  Janet Gaynor   \n",
       "1907             F           1.52             NaN  Janet Gaynor   \n",
       "2232             F           1.52             NaN  Janet Gaynor   \n",
       "2256             F           1.52             NaN  Janet Gaynor   \n",
       "2307             F           1.52             NaN  Janet Gaynor   \n",
       "2364             F           1.52             NaN  Janet Gaynor   \n",
       "2570             F           1.52             NaN  Janet Gaynor   \n",
       "\n",
       "      Actor age at movie release Freebase character Freebase character ID  \\\n",
       "68                          20.0          /m/0k3y6c                   NaN   \n",
       "140                         20.0          /m/0k32nn                   NaN   \n",
       "147                         27.0         /m/02tbdvl            /m/0cgrmvl   \n",
       "152                         19.0         /m/02t9_0v                   NaN   \n",
       "188                         28.0         /m/02vbfwg                   NaN   \n",
       "212                         27.0         /m/02vcwxx                   NaN   \n",
       "247                         30.0          /m/0jsxlp            /m/02nw9mj   \n",
       "435                         26.0         /m/02tb9bn            /m/0ch7m_g   \n",
       "464                         29.0         /m/02vbnjk                   NaN   \n",
       "565                         27.0         /m/02tbj2d            /m/0bxjwy1   \n",
       "584                         24.0         /m/09l55cd                   NaN   \n",
       "585                         19.0         /m/04m5x0h                   NaN   \n",
       "950                         23.0         /m/05bg5lz                   NaN   \n",
       "952                         26.0         /m/02vbfc1                   NaN   \n",
       "1021                        25.0         /m/02vddzq                   NaN   \n",
       "1038                        24.0         /m/02vct5q            /m/0c1npjv   \n",
       "1217                        23.0         /m/02vccnh                   NaN   \n",
       "1342                        21.0          /m/0k3v9h                   NaN   \n",
       "1350                        31.0         /m/02vbfs8                   NaN   \n",
       "1560                        25.0         /m/0h7tldl                   NaN   \n",
       "1669                        21.0         /m/0j91zp8            /m/0j95g7r   \n",
       "1825                        26.0         /m/02vbc0_                   NaN   \n",
       "1827                        24.0         /m/02vb67x                   NaN   \n",
       "1857                        19.0         /m/04m62fx                   NaN   \n",
       "1907                        25.0         /m/02vb32r                   NaN   \n",
       "2232                        22.0         /m/02vbgn3                   NaN   \n",
       "2256                        32.0         /m/02vblb_                   NaN   \n",
       "2307                        22.0         /m/02vd7yc                   NaN   \n",
       "2364                        30.0         /m/02vbt98                   NaN   \n",
       "2570                        20.0          /m/0jsk_j                   NaN   \n",
       "\n",
       "     Freebase actor ID Freebase movie ID                     Movie name  \\\n",
       "68            /m/0cf3c          /m/0grk0  Sunrise: A Song of Two Humans   \n",
       "140           /m/0cf3c          /m/0gkn7                 Seventh Heaven   \n",
       "147           /m/0cf3c        /m/0281fyy             Servants' Entrance   \n",
       "152           /m/0cf3c        /m/02rzy2t            The Johnstown Flood   \n",
       "188           /m/0cf3c        /m/0281qzm                One More Spring   \n",
       "212           /m/0cf3c        /m/027thqw                Change of Heart   \n",
       "247           /m/0cf3c         /m/09d37z                 A Star Is Born   \n",
       "435           /m/0cf3c          /m/0gcr4                     State Fair   \n",
       "464           /m/0cf3c        /m/0281rwh                Small Town Girl   \n",
       "565           /m/0cf3c        /m/0281rqb                       Carolina   \n",
       "584           /m/0cf3c        /m/05q9sdy                Daddy Long Legs   \n",
       "585           /m/0cf3c        /m/03y6cy8                 The Blue Eagle   \n",
       "950           /m/0cf3c        /m/0281q77                  Sunny Side Up   \n",
       "952           /m/0cf3c        /m/0281dvh      Paddy the Next Best Thing   \n",
       "1021          /m/0cf3c        /m/0281qq0                 The First Year   \n",
       "1038          /m/0cf3c        /m/027tgr6                Merely Mary Ann   \n",
       "1217          /m/0cf3c        /m/0281qgg             High Society Blues   \n",
       "1342          /m/0cf3c         /m/0173lb                   Street Angel   \n",
       "1350          /m/0cf3c        /m/0281r98          Three Loves Has Nancy   \n",
       "1560          /m/0cf3c        /m/02q_r7n      Tess of the Storm Country   \n",
       "1669          /m/0cf3c        /m/02825n2                       4 Devils   \n",
       "1825          /m/0cf3c        /m/027th81                       Adorable   \n",
       "1827          /m/0cf3c        /m/02811zj          The Man Who Came Back   \n",
       "1857          /m/0cf3c        /m/03wcq9k          The Shamrock Handicap   \n",
       "1907          /m/0cf3c        /m/027swb3                      Delicious   \n",
       "2232          /m/0cf3c        /m/027l_6j                     Lucky Star   \n",
       "2256          /m/0cf3c        /m/027bjzg             The Young in Heart   \n",
       "2307          /m/0cf3c        /m/028258d                      Christina   \n",
       "2364          /m/0cf3c        /m/027bjjq                 Ladies in Love   \n",
       "2570          /m/0cf3c         /m/0dm_qh      45 Minutes from Hollywood   \n",
       "\n",
       "      Movie release date  Movie box office revenue  Movie runtime  \\\n",
       "68                   NaN                       NaN          173.0   \n",
       "140                  NaN                 1750000.0          118.0   \n",
       "147               1934.0                       NaN           88.0   \n",
       "152               1926.0                       NaN           60.0   \n",
       "188                  NaN                       NaN           87.0   \n",
       "212               1934.0                       NaN           76.0   \n",
       "247               1937.0                       NaN          111.0   \n",
       "435                  NaN                 1800000.0           97.0   \n",
       "464               1936.0                       NaN          106.0   \n",
       "565               1934.0                       NaN           85.0   \n",
       "584               1931.0                       NaN           80.0   \n",
       "585               1926.0                       NaN           58.0   \n",
       "950               1929.0                 3300000.0          121.0   \n",
       "952               1933.0                       NaN           75.0   \n",
       "1021              1932.0                       NaN           80.0   \n",
       "1038              1931.0                       NaN           74.0   \n",
       "1217              1930.0                       NaN          102.0   \n",
       "1342              1928.0                 1700000.0          102.0   \n",
       "1350                 NaN                       NaN           70.0   \n",
       "1560                 NaN                       NaN            NaN   \n",
       "1669              1928.0                       NaN          100.0   \n",
       "1825                 NaN                       NaN           88.0   \n",
       "1827              1931.0                       NaN           74.0   \n",
       "1857              1926.0                       NaN            NaN   \n",
       "1907              1931.0                       NaN          106.0   \n",
       "2232              1929.0                       NaN           90.0   \n",
       "2256              1938.0                       NaN           90.0   \n",
       "2307                 NaN                       NaN           85.0   \n",
       "2364              1936.0                       NaN           97.0   \n",
       "2570              1926.0                       NaN           14.0   \n",
       "\n",
       "       Movie languages           Movie countries  \\\n",
       "68         Silent film  United States of America   \n",
       "140        Silent film  United States of America   \n",
       "147   English Language  United States of America   \n",
       "152   English Language  United States of America   \n",
       "188   English Language  United States of America   \n",
       "212   English Language  United States of America   \n",
       "247   English Language  United States of America   \n",
       "435   English Language  United States of America   \n",
       "464   English Language  United States of America   \n",
       "565   English Language  United States of America   \n",
       "584                 {}  United States of America   \n",
       "585        Silent film  United States of America   \n",
       "950   English Language  United States of America   \n",
       "952   English Language  United States of America   \n",
       "1021  English Language  United States of America   \n",
       "1038  English Language  United States of America   \n",
       "1217  English Language  United States of America   \n",
       "1342       Silent film  United States of America   \n",
       "1350  English Language  United States of America   \n",
       "1560  English Language  United States of America   \n",
       "1669       Silent film  United States of America   \n",
       "1825  English Language  United States of America   \n",
       "1827  English Language  United States of America   \n",
       "1857       Silent film  United States of America   \n",
       "1907  English Language  United States of America   \n",
       "2232  English Language  United States of America   \n",
       "2256  English Language  United States of America   \n",
       "2307       Silent film  United States of America   \n",
       "2364  English Language  United States of America   \n",
       "2570       Silent film  United States of America   \n",
       "\n",
       "                                           Movie genres  Best Actress Reward  \n",
       "68    Crime Fiction, Silent film, Indie, Black-and-w...                 True  \n",
       "140   Silent film, Indie, Black-and-white, Drama, Wa...                 True  \n",
       "147               Romantic comedy, Comedy-drama, Comedy                False  \n",
       "152                 Silent film, Indie, Black-and-white                False  \n",
       "188                      Drama, Comedy, Black-and-white                False  \n",
       "212                       Romance Film, Black-and-white                False  \n",
       "247        Romantic drama, Musical, Drama, Romance Film                False  \n",
       "435                            Musical, Black-and-white                False  \n",
       "464               Romance Film, Comedy, Black-and-white                False  \n",
       "565                    Romantic comedy, Black-and-white                False  \n",
       "584                                Romance Film, Comedy                False  \n",
       "585                Silent film, Action, Black-and-white                False  \n",
       "950   Musical, Pre-Code, Romance Film, Black-and-whi...                False  \n",
       "952                             Comedy, Black-and-white                False  \n",
       "1021                                      Drama, Comedy                False  \n",
       "1038            Romantic comedy, Drama, Black-and-white                False  \n",
       "1217             Romance Film, Musical, Black-and-white                False  \n",
       "1342  Silent film, Indie, Black-and-white, Drama, Ro...                 True  \n",
       "1350  Romantic comedy, Romance Film, Comedy, Black-a...                False  \n",
       "1560                             Drama, Black-and-white                False  \n",
       "1669         Silent film, Drama, Indie, Black-and-white                False  \n",
       "1825  Romantic drama, Romance Film, Comedy-drama, Co...                False  \n",
       "1827                                              Drama                False  \n",
       "1857         Romance Film, Silent film, Black-and-white                False  \n",
       "1907  Romantic comedy, Musical, Romance Film, Black-...                False  \n",
       "2232     Romance Film, Drama, Black-and-white, War film                False  \n",
       "2256  Romance Film, Screwball comedy, Comedy, Black-...                False  \n",
       "2307                          Silent film, Drama, Indie                False  \n",
       "2364                   Romantic comedy, Black-and-white                False  \n",
       "2570  Short Film, Silent film, Comedy, Black-and-whi...                False  "
      ]
     },
     "execution_count": 121,
     "metadata": {},
     "output_type": "execute_result"
    }
   ],
   "source": [
    "# Create a set of unique (Actor name, Wikipedia movie ID) combinations for rewards\n",
    "best_actress_movies = set(\n",
    "    zip(oscar_actress_info['Actor name'], oscar_actress_info['Wikipedia movie ID'])\n",
    ")\n",
    "\n",
    "# Add a new column indicating if the movie is a Best Actress Reward\n",
    "oscar_actress_movies_all['Best Actress Reward'] = oscar_actress_movies_all.apply(\n",
    "    lambda row: (row['Actor name'], row['Wikipedia movie ID']) in best_actress_movies,\n",
    "    axis=1\n",
    ")\n",
    "\n",
    "oscar_actress_movies_all[oscar_actress_movies_all['Actor name'] == 'Janet Gaynor']"
   ]
  },
  {
   "cell_type": "code",
   "execution_count": 122,
   "metadata": {},
   "outputs": [
    {
     "data": {
      "application/vnd.plotly.v1+json": {
       "config": {
        "plotlyServerURL": "https://plot.ly"
       },
       "data": [
        {
         "alignmentgroup": "True",
         "hovertemplate": "Best Actress Reward=Non-Oscar-Winning<br>Movie Genre=%{x}<br>Number of Movies=%{y}<extra></extra>",
         "legendgroup": "Non-Oscar-Winning",
         "marker": {
          "color": "#636efa",
          "pattern": {
           "shape": ""
          }
         },
         "name": "Non-Oscar-Winning",
         "offsetgroup": "Non-Oscar-Winning",
         "orientation": "v",
         "showlegend": true,
         "textposition": "auto",
         "type": "bar",
         "x": [
          "Drama",
          "Comedy",
          "Romance Film",
          "Black-and-white",
          "Thriller",
          "Romantic drama",
          "Romantic comedy",
          "Crime Fiction",
          "Indie",
          "Film adaptation",
          "Period piece",
          "Adventure",
          "Comedy-drama",
          "Action",
          "Mystery"
         ],
         "xaxis": "x",
         "y": [
          1730,
          926,
          882,
          546,
          397,
          378,
          356,
          283,
          244,
          240,
          235,
          218,
          211,
          210,
          207
         ],
         "yaxis": "y"
        },
        {
         "alignmentgroup": "True",
         "hovertemplate": "Best Actress Reward=Oscar-Winning<br>Movie Genre=%{x}<br>Number of Movies=%{y}<extra></extra>",
         "legendgroup": "Oscar-Winning",
         "marker": {
          "color": "#EF553B",
          "pattern": {
           "shape": ""
          }
         },
         "name": "Oscar-Winning",
         "offsetgroup": "Oscar-Winning",
         "orientation": "v",
         "showlegend": true,
         "textposition": "auto",
         "type": "bar",
         "x": [
          "Drama",
          "Romance Film",
          "Romantic drama",
          "Black-and-white",
          "Period piece",
          "Film adaptation",
          "Comedy",
          "Romantic comedy",
          "Indie",
          "Crime Fiction",
          "Comedy-drama",
          "Thriller",
          "Mystery"
         ],
         "xaxis": "x",
         "y": [
          81,
          41,
          26,
          26,
          21,
          20,
          15,
          10,
          8,
          8,
          7,
          7,
          5
         ],
         "yaxis": "y"
        }
       ],
       "layout": {
        "barmode": "group",
        "height": 500,
        "legend": {
         "title": {
          "text": "Best Actress Reward"
         },
         "tracegroupgap": 0
        },
        "template": {
         "data": {
          "bar": [
           {
            "error_x": {
             "color": "#2a3f5f"
            },
            "error_y": {
             "color": "#2a3f5f"
            },
            "marker": {
             "line": {
              "color": "#E5ECF6",
              "width": 0.5
             },
             "pattern": {
              "fillmode": "overlay",
              "size": 10,
              "solidity": 0.2
             }
            },
            "type": "bar"
           }
          ],
          "barpolar": [
           {
            "marker": {
             "line": {
              "color": "#E5ECF6",
              "width": 0.5
             },
             "pattern": {
              "fillmode": "overlay",
              "size": 10,
              "solidity": 0.2
             }
            },
            "type": "barpolar"
           }
          ],
          "carpet": [
           {
            "aaxis": {
             "endlinecolor": "#2a3f5f",
             "gridcolor": "white",
             "linecolor": "white",
             "minorgridcolor": "white",
             "startlinecolor": "#2a3f5f"
            },
            "baxis": {
             "endlinecolor": "#2a3f5f",
             "gridcolor": "white",
             "linecolor": "white",
             "minorgridcolor": "white",
             "startlinecolor": "#2a3f5f"
            },
            "type": "carpet"
           }
          ],
          "choropleth": [
           {
            "colorbar": {
             "outlinewidth": 0,
             "ticks": ""
            },
            "type": "choropleth"
           }
          ],
          "contour": [
           {
            "colorbar": {
             "outlinewidth": 0,
             "ticks": ""
            },
            "colorscale": [
             [
              0,
              "#0d0887"
             ],
             [
              0.1111111111111111,
              "#46039f"
             ],
             [
              0.2222222222222222,
              "#7201a8"
             ],
             [
              0.3333333333333333,
              "#9c179e"
             ],
             [
              0.4444444444444444,
              "#bd3786"
             ],
             [
              0.5555555555555556,
              "#d8576b"
             ],
             [
              0.6666666666666666,
              "#ed7953"
             ],
             [
              0.7777777777777778,
              "#fb9f3a"
             ],
             [
              0.8888888888888888,
              "#fdca26"
             ],
             [
              1,
              "#f0f921"
             ]
            ],
            "type": "contour"
           }
          ],
          "contourcarpet": [
           {
            "colorbar": {
             "outlinewidth": 0,
             "ticks": ""
            },
            "type": "contourcarpet"
           }
          ],
          "heatmap": [
           {
            "colorbar": {
             "outlinewidth": 0,
             "ticks": ""
            },
            "colorscale": [
             [
              0,
              "#0d0887"
             ],
             [
              0.1111111111111111,
              "#46039f"
             ],
             [
              0.2222222222222222,
              "#7201a8"
             ],
             [
              0.3333333333333333,
              "#9c179e"
             ],
             [
              0.4444444444444444,
              "#bd3786"
             ],
             [
              0.5555555555555556,
              "#d8576b"
             ],
             [
              0.6666666666666666,
              "#ed7953"
             ],
             [
              0.7777777777777778,
              "#fb9f3a"
             ],
             [
              0.8888888888888888,
              "#fdca26"
             ],
             [
              1,
              "#f0f921"
             ]
            ],
            "type": "heatmap"
           }
          ],
          "heatmapgl": [
           {
            "colorbar": {
             "outlinewidth": 0,
             "ticks": ""
            },
            "colorscale": [
             [
              0,
              "#0d0887"
             ],
             [
              0.1111111111111111,
              "#46039f"
             ],
             [
              0.2222222222222222,
              "#7201a8"
             ],
             [
              0.3333333333333333,
              "#9c179e"
             ],
             [
              0.4444444444444444,
              "#bd3786"
             ],
             [
              0.5555555555555556,
              "#d8576b"
             ],
             [
              0.6666666666666666,
              "#ed7953"
             ],
             [
              0.7777777777777778,
              "#fb9f3a"
             ],
             [
              0.8888888888888888,
              "#fdca26"
             ],
             [
              1,
              "#f0f921"
             ]
            ],
            "type": "heatmapgl"
           }
          ],
          "histogram": [
           {
            "marker": {
             "pattern": {
              "fillmode": "overlay",
              "size": 10,
              "solidity": 0.2
             }
            },
            "type": "histogram"
           }
          ],
          "histogram2d": [
           {
            "colorbar": {
             "outlinewidth": 0,
             "ticks": ""
            },
            "colorscale": [
             [
              0,
              "#0d0887"
             ],
             [
              0.1111111111111111,
              "#46039f"
             ],
             [
              0.2222222222222222,
              "#7201a8"
             ],
             [
              0.3333333333333333,
              "#9c179e"
             ],
             [
              0.4444444444444444,
              "#bd3786"
             ],
             [
              0.5555555555555556,
              "#d8576b"
             ],
             [
              0.6666666666666666,
              "#ed7953"
             ],
             [
              0.7777777777777778,
              "#fb9f3a"
             ],
             [
              0.8888888888888888,
              "#fdca26"
             ],
             [
              1,
              "#f0f921"
             ]
            ],
            "type": "histogram2d"
           }
          ],
          "histogram2dcontour": [
           {
            "colorbar": {
             "outlinewidth": 0,
             "ticks": ""
            },
            "colorscale": [
             [
              0,
              "#0d0887"
             ],
             [
              0.1111111111111111,
              "#46039f"
             ],
             [
              0.2222222222222222,
              "#7201a8"
             ],
             [
              0.3333333333333333,
              "#9c179e"
             ],
             [
              0.4444444444444444,
              "#bd3786"
             ],
             [
              0.5555555555555556,
              "#d8576b"
             ],
             [
              0.6666666666666666,
              "#ed7953"
             ],
             [
              0.7777777777777778,
              "#fb9f3a"
             ],
             [
              0.8888888888888888,
              "#fdca26"
             ],
             [
              1,
              "#f0f921"
             ]
            ],
            "type": "histogram2dcontour"
           }
          ],
          "mesh3d": [
           {
            "colorbar": {
             "outlinewidth": 0,
             "ticks": ""
            },
            "type": "mesh3d"
           }
          ],
          "parcoords": [
           {
            "line": {
             "colorbar": {
              "outlinewidth": 0,
              "ticks": ""
             }
            },
            "type": "parcoords"
           }
          ],
          "pie": [
           {
            "automargin": true,
            "type": "pie"
           }
          ],
          "scatter": [
           {
            "fillpattern": {
             "fillmode": "overlay",
             "size": 10,
             "solidity": 0.2
            },
            "type": "scatter"
           }
          ],
          "scatter3d": [
           {
            "line": {
             "colorbar": {
              "outlinewidth": 0,
              "ticks": ""
             }
            },
            "marker": {
             "colorbar": {
              "outlinewidth": 0,
              "ticks": ""
             }
            },
            "type": "scatter3d"
           }
          ],
          "scattercarpet": [
           {
            "marker": {
             "colorbar": {
              "outlinewidth": 0,
              "ticks": ""
             }
            },
            "type": "scattercarpet"
           }
          ],
          "scattergeo": [
           {
            "marker": {
             "colorbar": {
              "outlinewidth": 0,
              "ticks": ""
             }
            },
            "type": "scattergeo"
           }
          ],
          "scattergl": [
           {
            "marker": {
             "colorbar": {
              "outlinewidth": 0,
              "ticks": ""
             }
            },
            "type": "scattergl"
           }
          ],
          "scattermapbox": [
           {
            "marker": {
             "colorbar": {
              "outlinewidth": 0,
              "ticks": ""
             }
            },
            "type": "scattermapbox"
           }
          ],
          "scatterpolar": [
           {
            "marker": {
             "colorbar": {
              "outlinewidth": 0,
              "ticks": ""
             }
            },
            "type": "scatterpolar"
           }
          ],
          "scatterpolargl": [
           {
            "marker": {
             "colorbar": {
              "outlinewidth": 0,
              "ticks": ""
             }
            },
            "type": "scatterpolargl"
           }
          ],
          "scatterternary": [
           {
            "marker": {
             "colorbar": {
              "outlinewidth": 0,
              "ticks": ""
             }
            },
            "type": "scatterternary"
           }
          ],
          "surface": [
           {
            "colorbar": {
             "outlinewidth": 0,
             "ticks": ""
            },
            "colorscale": [
             [
              0,
              "#0d0887"
             ],
             [
              0.1111111111111111,
              "#46039f"
             ],
             [
              0.2222222222222222,
              "#7201a8"
             ],
             [
              0.3333333333333333,
              "#9c179e"
             ],
             [
              0.4444444444444444,
              "#bd3786"
             ],
             [
              0.5555555555555556,
              "#d8576b"
             ],
             [
              0.6666666666666666,
              "#ed7953"
             ],
             [
              0.7777777777777778,
              "#fb9f3a"
             ],
             [
              0.8888888888888888,
              "#fdca26"
             ],
             [
              1,
              "#f0f921"
             ]
            ],
            "type": "surface"
           }
          ],
          "table": [
           {
            "cells": {
             "fill": {
              "color": "#EBF0F8"
             },
             "line": {
              "color": "white"
             }
            },
            "header": {
             "fill": {
              "color": "#C8D4E3"
             },
             "line": {
              "color": "white"
             }
            },
            "type": "table"
           }
          ]
         },
         "layout": {
          "annotationdefaults": {
           "arrowcolor": "#2a3f5f",
           "arrowhead": 0,
           "arrowwidth": 1
          },
          "autotypenumbers": "strict",
          "coloraxis": {
           "colorbar": {
            "outlinewidth": 0,
            "ticks": ""
           }
          },
          "colorscale": {
           "diverging": [
            [
             0,
             "#8e0152"
            ],
            [
             0.1,
             "#c51b7d"
            ],
            [
             0.2,
             "#de77ae"
            ],
            [
             0.3,
             "#f1b6da"
            ],
            [
             0.4,
             "#fde0ef"
            ],
            [
             0.5,
             "#f7f7f7"
            ],
            [
             0.6,
             "#e6f5d0"
            ],
            [
             0.7,
             "#b8e186"
            ],
            [
             0.8,
             "#7fbc41"
            ],
            [
             0.9,
             "#4d9221"
            ],
            [
             1,
             "#276419"
            ]
           ],
           "sequential": [
            [
             0,
             "#0d0887"
            ],
            [
             0.1111111111111111,
             "#46039f"
            ],
            [
             0.2222222222222222,
             "#7201a8"
            ],
            [
             0.3333333333333333,
             "#9c179e"
            ],
            [
             0.4444444444444444,
             "#bd3786"
            ],
            [
             0.5555555555555556,
             "#d8576b"
            ],
            [
             0.6666666666666666,
             "#ed7953"
            ],
            [
             0.7777777777777778,
             "#fb9f3a"
            ],
            [
             0.8888888888888888,
             "#fdca26"
            ],
            [
             1,
             "#f0f921"
            ]
           ],
           "sequentialminus": [
            [
             0,
             "#0d0887"
            ],
            [
             0.1111111111111111,
             "#46039f"
            ],
            [
             0.2222222222222222,
             "#7201a8"
            ],
            [
             0.3333333333333333,
             "#9c179e"
            ],
            [
             0.4444444444444444,
             "#bd3786"
            ],
            [
             0.5555555555555556,
             "#d8576b"
            ],
            [
             0.6666666666666666,
             "#ed7953"
            ],
            [
             0.7777777777777778,
             "#fb9f3a"
            ],
            [
             0.8888888888888888,
             "#fdca26"
            ],
            [
             1,
             "#f0f921"
            ]
           ]
          },
          "colorway": [
           "#636efa",
           "#EF553B",
           "#00cc96",
           "#ab63fa",
           "#FFA15A",
           "#19d3f3",
           "#FF6692",
           "#B6E880",
           "#FF97FF",
           "#FECB52"
          ],
          "font": {
           "color": "#2a3f5f"
          },
          "geo": {
           "bgcolor": "white",
           "lakecolor": "white",
           "landcolor": "#E5ECF6",
           "showlakes": true,
           "showland": true,
           "subunitcolor": "white"
          },
          "hoverlabel": {
           "align": "left"
          },
          "hovermode": "closest",
          "mapbox": {
           "style": "light"
          },
          "paper_bgcolor": "white",
          "plot_bgcolor": "#E5ECF6",
          "polar": {
           "angularaxis": {
            "gridcolor": "white",
            "linecolor": "white",
            "ticks": ""
           },
           "bgcolor": "#E5ECF6",
           "radialaxis": {
            "gridcolor": "white",
            "linecolor": "white",
            "ticks": ""
           }
          },
          "scene": {
           "xaxis": {
            "backgroundcolor": "#E5ECF6",
            "gridcolor": "white",
            "gridwidth": 2,
            "linecolor": "white",
            "showbackground": true,
            "ticks": "",
            "zerolinecolor": "white"
           },
           "yaxis": {
            "backgroundcolor": "#E5ECF6",
            "gridcolor": "white",
            "gridwidth": 2,
            "linecolor": "white",
            "showbackground": true,
            "ticks": "",
            "zerolinecolor": "white"
           },
           "zaxis": {
            "backgroundcolor": "#E5ECF6",
            "gridcolor": "white",
            "gridwidth": 2,
            "linecolor": "white",
            "showbackground": true,
            "ticks": "",
            "zerolinecolor": "white"
           }
          },
          "shapedefaults": {
           "line": {
            "color": "#2a3f5f"
           }
          },
          "ternary": {
           "aaxis": {
            "gridcolor": "white",
            "linecolor": "white",
            "ticks": ""
           },
           "baxis": {
            "gridcolor": "white",
            "linecolor": "white",
            "ticks": ""
           },
           "bgcolor": "#E5ECF6",
           "caxis": {
            "gridcolor": "white",
            "linecolor": "white",
            "ticks": ""
           }
          },
          "title": {
           "x": 0.05
          },
          "xaxis": {
           "automargin": true,
           "gridcolor": "white",
           "linecolor": "white",
           "ticks": "",
           "title": {
            "standoff": 15
           },
           "zerolinecolor": "white",
           "zerolinewidth": 2
          },
          "yaxis": {
           "automargin": true,
           "gridcolor": "white",
           "linecolor": "white",
           "ticks": "",
           "title": {
            "standoff": 15
           },
           "zerolinecolor": "white",
           "zerolinewidth": 2
          }
         }
        },
        "title": {
         "text": "Top 15 Movie Genres (Oscar-Winning vs Non-Oscar-Winning)"
        },
        "width": 1000,
        "xaxis": {
         "anchor": "y",
         "domain": [
          0,
          1
         ],
         "tickangle": 45,
         "title": {
          "text": "Movie Genre"
         }
        },
        "yaxis": {
         "anchor": "x",
         "domain": [
          0,
          1
         ],
         "title": {
          "text": "Number of Movies"
         }
        }
       }
      }
     },
     "metadata": {},
     "output_type": "display_data"
    }
   ],
   "source": [
    "import plotly.express as px\n",
    "\n",
    "# Prepare the data for the bar chart\n",
    "oscar_movies_all = oscar_actress_movies_all.copy()\n",
    "oscar_movies_all['Movie genres'] = oscar_movies_all['Movie genres'].fillna('Unknown')\n",
    "oscar_movies_all['Best Actress Reward'] = oscar_movies_all['Best Actress Reward'].map({True: 'Oscar-Winning', False: 'Non-Oscar-Winning'})\n",
    "\n",
    "# Split the genres into individual rows for analysis\n",
    "genres_split = oscar_movies_all.assign(Movie_genres_split=oscar_movies_all['Movie genres'].str.split(', ')).explode('Movie_genres_split')\n",
    "\n",
    "# Group and count movies by genre and whether they won an Oscar\n",
    "genre_counts = genres_split.groupby(['Movie_genres_split', 'Best Actress Reward']).size().reset_index(name='Count')\n",
    "\n",
    "# Limit to the top 15 genres with the highest total count\n",
    "top_genres = genre_counts.groupby('Movie_genres_split')['Count'].sum().nlargest(15).index\n",
    "filtered_genre_counts = genre_counts[genre_counts['Movie_genres_split'].isin(top_genres)]\n",
    "\n",
    "# Create the improved bar chart\n",
    "fig = px.bar(\n",
    "    filtered_genre_counts.sort_values('Count', ascending=False),\n",
    "    x='Movie_genres_split',\n",
    "    y='Count',\n",
    "    color='Best Actress Reward',\n",
    "    title='Top 15 Movie Genres (Oscar-Winning vs Non-Oscar-Winning)',\n",
    "    labels={'Movie_genres_split': 'Movie Genre', 'Count': 'Number of Movies'},\n",
    "    barmode='group'\n",
    ")\n",
    "\n",
    "# Update layout for better readability\n",
    "fig.update_layout(\n",
    "    xaxis=dict(tickangle=45, title='Movie Genre'),\n",
    "    yaxis=dict(title='Number of Movies'),\n",
    "    width=1000,  # Increase figure width\n",
    "    height=500   # Adjust height\n",
    ")\n",
    "\n",
    "# Uncomment this to visualize\n",
    "# fig.show()"
   ]
  },
  {
   "cell_type": "code",
   "execution_count": 123,
   "metadata": {},
   "outputs": [
    {
     "data": {
      "application/vnd.plotly.v1+json": {
       "config": {
        "plotlyServerURL": "https://plot.ly"
       },
       "data": [
        {
         "alignmentgroup": "True",
         "hovertemplate": "Movie Type=%{x}<br>Box Office Revenue ($)=%{y}<extra></extra>",
         "legendgroup": "False",
         "marker": {
          "color": "#636efa"
         },
         "name": "False",
         "notched": false,
         "offsetgroup": "False",
         "orientation": "v",
         "showlegend": true,
         "type": "box",
         "x": [
          false,
          false,
          false,
          false,
          false,
          false,
          false,
          false,
          false,
          false,
          false,
          false,
          false,
          false,
          false,
          false,
          false,
          false,
          false,
          false,
          false,
          false,
          false,
          false,
          false,
          false,
          false,
          false,
          false,
          false,
          false,
          false,
          false,
          false,
          false,
          false,
          false,
          false,
          false,
          false,
          false,
          false,
          false,
          false,
          false,
          false,
          false,
          false,
          false,
          false,
          false,
          false,
          false,
          false,
          false,
          false,
          false,
          false,
          false,
          false,
          false,
          false,
          false,
          false,
          false,
          false,
          false,
          false,
          false,
          false,
          false,
          false,
          false,
          false,
          false,
          false,
          false,
          false,
          false,
          false,
          false,
          false,
          false,
          false,
          false,
          false,
          false,
          false,
          false,
          false,
          false,
          false,
          false,
          false,
          false,
          false,
          false,
          false,
          false,
          false,
          false,
          false,
          false,
          false,
          false,
          false,
          false,
          false,
          false,
          false,
          false,
          false,
          false,
          false,
          false,
          false,
          false,
          false,
          false,
          false,
          false,
          false,
          false,
          false,
          false,
          false,
          false,
          false,
          false,
          false,
          false,
          false,
          false,
          false,
          false,
          false,
          false,
          false,
          false,
          false,
          false,
          false,
          false,
          false,
          false,
          false,
          false,
          false,
          false,
          false,
          false,
          false,
          false,
          false,
          false,
          false,
          false,
          false,
          false,
          false,
          false,
          false,
          false,
          false,
          false,
          false,
          false,
          false,
          false,
          false,
          false,
          false,
          false,
          false,
          false,
          false,
          false,
          false,
          false,
          false,
          false,
          false,
          false,
          false,
          false,
          false,
          false,
          false,
          false,
          false,
          false,
          false,
          false,
          false,
          false,
          false,
          false,
          false,
          false,
          false,
          false,
          false,
          false,
          false,
          false,
          false,
          false,
          false,
          false,
          false,
          false,
          false,
          false,
          false,
          false,
          false,
          false,
          false,
          false,
          false,
          false,
          false,
          false,
          false,
          false,
          false,
          false,
          false,
          false,
          false,
          false,
          false,
          false,
          false,
          false,
          false,
          false,
          false,
          false,
          false,
          false,
          false,
          false,
          false,
          false,
          false,
          false,
          false,
          false,
          false,
          false,
          false,
          false,
          false,
          false,
          false,
          false,
          false,
          false,
          false,
          false,
          false,
          false,
          false,
          false,
          false,
          false,
          false,
          false,
          false,
          false,
          false,
          false,
          false,
          false,
          false,
          false,
          false,
          false,
          false,
          false,
          false,
          false,
          false,
          false,
          false,
          false,
          false,
          false,
          false,
          false,
          false,
          false,
          false,
          false,
          false,
          false,
          false,
          false,
          false,
          false,
          false,
          false,
          false,
          false,
          false,
          false,
          false,
          false,
          false,
          false,
          false,
          false,
          false,
          false,
          false,
          false,
          false,
          false,
          false,
          false,
          false,
          false,
          false,
          false,
          false,
          false,
          false,
          false,
          false,
          false,
          false,
          false,
          false,
          false,
          false,
          false,
          false,
          false,
          false,
          false,
          false,
          false,
          false,
          false,
          false,
          false,
          false,
          false,
          false,
          false,
          false,
          false,
          false,
          false,
          false,
          false,
          false,
          false,
          false,
          false,
          false,
          false,
          false,
          false,
          false,
          false,
          false,
          false,
          false,
          false,
          false,
          false,
          false,
          false,
          false,
          false,
          false,
          false,
          false,
          false,
          false,
          false,
          false,
          false,
          false,
          false,
          false,
          false,
          false,
          false,
          false,
          false,
          false,
          false,
          false,
          false,
          false,
          false,
          false,
          false,
          false,
          false,
          false,
          false,
          false,
          false,
          false,
          false,
          false,
          false,
          false,
          false,
          false,
          false,
          false,
          false,
          false,
          false,
          false,
          false,
          false,
          false,
          false,
          false,
          false,
          false,
          false,
          false,
          false,
          false,
          false,
          false,
          false,
          false,
          false,
          false,
          false,
          false,
          false,
          false,
          false,
          false,
          false,
          false,
          false,
          false,
          false,
          false,
          false,
          false,
          false,
          false,
          false,
          false,
          false,
          false,
          false,
          false,
          false,
          false,
          false,
          false,
          false,
          false,
          false,
          false,
          false,
          false,
          false,
          false,
          false,
          false,
          false,
          false,
          false,
          false,
          false,
          false,
          false,
          false,
          false,
          false,
          false,
          false,
          false,
          false,
          false,
          false,
          false,
          false,
          false,
          false,
          false,
          false,
          false,
          false,
          false,
          false,
          false,
          false,
          false,
          false,
          false,
          false,
          false,
          false,
          false,
          false,
          false,
          false,
          false,
          false,
          false,
          false,
          false,
          false,
          false,
          false,
          false,
          false,
          false,
          false,
          false,
          false,
          false,
          false,
          false,
          false,
          false,
          false,
          false,
          false,
          false,
          false,
          false,
          false,
          false,
          false,
          false,
          false,
          false,
          false,
          false,
          false,
          false,
          false,
          false,
          false,
          false,
          false,
          false,
          false,
          false,
          false,
          false,
          false,
          false,
          false,
          false,
          false,
          false,
          false,
          false,
          false,
          false,
          false,
          false,
          false,
          false,
          false,
          false,
          false,
          false,
          false,
          false,
          false,
          false,
          false,
          false,
          false,
          false,
          false,
          false,
          false,
          false,
          false,
          false,
          false,
          false,
          false,
          false,
          false,
          false,
          false,
          false,
          false,
          false,
          false,
          false,
          false,
          false,
          false,
          false,
          false,
          false,
          false,
          false,
          false,
          false,
          false,
          false,
          false,
          false,
          false,
          false,
          false,
          false,
          false,
          false,
          false,
          false,
          false,
          false,
          false,
          false,
          false,
          false,
          false,
          false,
          false,
          false,
          false,
          false,
          false,
          false,
          false,
          false,
          false,
          false,
          false,
          false,
          false,
          false,
          false,
          false,
          false,
          false,
          false,
          false,
          false,
          false,
          false,
          false,
          false,
          false,
          false,
          false,
          false,
          false,
          false,
          false,
          false,
          false,
          false,
          false,
          false,
          false,
          false,
          false,
          false,
          false,
          false,
          false,
          false,
          false,
          false,
          false,
          false,
          false,
          false,
          false,
          false,
          false,
          false,
          false,
          false,
          false,
          false,
          false,
          false,
          false,
          false,
          false,
          false,
          false,
          false,
          false,
          false,
          false,
          false,
          false,
          false,
          false,
          false,
          false,
          false,
          false,
          false,
          false,
          false,
          false,
          false,
          false,
          false,
          false,
          false,
          false,
          false,
          false,
          false,
          false,
          false,
          false,
          false,
          false,
          false,
          false,
          false,
          false,
          false,
          false,
          false,
          false,
          false,
          false,
          false,
          false,
          false,
          false,
          false,
          false,
          false,
          false,
          false,
          false,
          false,
          false,
          false,
          false,
          false,
          false,
          false,
          false,
          false,
          false,
          false,
          false,
          false,
          false,
          false,
          false,
          false,
          false,
          false,
          false,
          false,
          false,
          false,
          false,
          false,
          false,
          false,
          false,
          false,
          false,
          false,
          false,
          false,
          false,
          false,
          false,
          false,
          false,
          false,
          false,
          false,
          false,
          false,
          false,
          false,
          false,
          false,
          false,
          false,
          false,
          false,
          false,
          false,
          false,
          false,
          false,
          false,
          false,
          false,
          false,
          false,
          false,
          false,
          false,
          false,
          false,
          false,
          false,
          false,
          false,
          false,
          false,
          false,
          false,
          false,
          false,
          false,
          false,
          false,
          false,
          false,
          false,
          false,
          false,
          false,
          false,
          false,
          false,
          false,
          false,
          false,
          false,
          false,
          false,
          false,
          false,
          false,
          false,
          false,
          false,
          false,
          false,
          false,
          false,
          false,
          false,
          false,
          false,
          false,
          false,
          false,
          false,
          false,
          false,
          false,
          false,
          false,
          false,
          false,
          false,
          false,
          false,
          false,
          false,
          false,
          false,
          false,
          false,
          false,
          false,
          false,
          false,
          false,
          false,
          false,
          false,
          false,
          false,
          false,
          false,
          false,
          false,
          false,
          false,
          false,
          false,
          false,
          false,
          false,
          false,
          false,
          false,
          false,
          false,
          false,
          false,
          false,
          false,
          false,
          false,
          false,
          false,
          false,
          false,
          false,
          false,
          false,
          false,
          false,
          false,
          false,
          false,
          false,
          false,
          false,
          false,
          false,
          false,
          false,
          false,
          false,
          false,
          false,
          false,
          false,
          false,
          false,
          false,
          false,
          false,
          false,
          false,
          false,
          false,
          false,
          false,
          false,
          false,
          false,
          false,
          false,
          false,
          false,
          false,
          false,
          false,
          false,
          false,
          false,
          false,
          false,
          false,
          false,
          false,
          false,
          false,
          false,
          false,
          false,
          false,
          false,
          false,
          false,
          false,
          false,
          false,
          false,
          false,
          false,
          false,
          false,
          false,
          false,
          false,
          false,
          false,
          false,
          false,
          false,
          false,
          false,
          false,
          false,
          false,
          false,
          false,
          false,
          false,
          false,
          false,
          false,
          false,
          false,
          false,
          false,
          false,
          false,
          false,
          false,
          false,
          false,
          false,
          false,
          false,
          false,
          false,
          false,
          false,
          false,
          false,
          false,
          false,
          false,
          false,
          false,
          false,
          false,
          false,
          false,
          false,
          false,
          false,
          false,
          false,
          false,
          false,
          false,
          false,
          false,
          false,
          false,
          false,
          false,
          false,
          false,
          false,
          false,
          false,
          false,
          false,
          false,
          false,
          false,
          false,
          false,
          false,
          false,
          false,
          false,
          false,
          false,
          false,
          false,
          false,
          false,
          false,
          false,
          false,
          false,
          false,
          false,
          false,
          false,
          false,
          false,
          false,
          false,
          false,
          false,
          false,
          false,
          false,
          false,
          false,
          false,
          false,
          false,
          false,
          false,
          false,
          false,
          false,
          false,
          false,
          false,
          false,
          false,
          false,
          false,
          false,
          false,
          false,
          false,
          false,
          false,
          false,
          false,
          false,
          false,
          false,
          false,
          false,
          false,
          false,
          false,
          false,
          false,
          false,
          false,
          false,
          false,
          false,
          false,
          false,
          false,
          false,
          false,
          false,
          false,
          false,
          false,
          false,
          false,
          false,
          false,
          false,
          false,
          false,
          false,
          false,
          false,
          false
         ],
         "x0": " ",
         "xaxis": "x",
         "y": [
          14598571,
          171757863,
          2473668,
          4350000,
          30749142,
          6203044,
          42064105,
          9085049,
          374111707,
          623933331,
          1700000,
          102616183,
          18012,
          15998178,
          12461773,
          459824,
          14867086,
          33500000,
          1425000,
          734357,
          37105289,
          3547684,
          3000000,
          101308161,
          6250000,
          23371905,
          848754768,
          33013805,
          13800000,
          33426588,
          4700000,
          2000000,
          35419397,
          218947037,
          49805462,
          51718367,
          181490000,
          181490000,
          1370000,
          6330054,
          2038450,
          69787663,
          934416487,
          19463185,
          1950000,
          3700000,
          50632037,
          20439793,
          5000000,
          135458097,
          135458097,
          135458097,
          26890068,
          27520098,
          27520098,
          3473905,
          62198945,
          10082005,
          2783840,
          2618000,
          75868,
          896911078,
          27945225,
          19598588,
          50888729,
          1741435,
          25942000,
          463407268,
          16724933,
          25372294,
          666922,
          267109,
          44567606,
          89162162,
          78146652,
          45636368,
          4150000,
          270248367,
          89657398,
          1800000,
          178120010,
          20714400,
          20714400,
          6455000,
          82343495,
          3418141,
          39000000,
          102001626,
          22549338,
          73052428,
          93945766,
          30000000,
          716891482,
          317375031,
          2897757,
          53653224,
          142044638,
          142044638,
          22034832,
          22034832,
          14815898,
          2986932,
          128798265,
          609841637,
          3574256,
          18575768,
          939885929,
          939885929,
          26412163,
          1547397,
          151119219,
          151119219,
          19642013,
          128038368,
          459359555,
          1123746996,
          3000000,
          30441738,
          631442092,
          452191,
          1650000,
          15705007,
          1104000,
          10432366,
          10432366,
          1900000,
          13351357,
          6070725,
          6070725,
          2650000,
          3221280,
          4708156,
          4708156,
          2000000,
          34633353,
          34633353,
          23631929,
          23631929,
          33035397,
          55707411,
          111721910,
          40170568,
          68336997,
          68336997,
          10697276,
          29524289,
          29524289,
          6153939,
          124305181,
          12793213,
          8797839,
          1078008948,
          22905522,
          22905522,
          22905522,
          7000000,
          1206000,
          17487531,
          17487531,
          3000000,
          2750000,
          2301555,
          20408163,
          8488000,
          40716963,
          35208854,
          52090187,
          52090187,
          206678440,
          23032565,
          1200000,
          1800000,
          695000,
          592000,
          132511035,
          8253123,
          6836201,
          1167000,
          42800000,
          140081992,
          1300000,
          134361879,
          3790493,
          1500000,
          457364600,
          40218899,
          40218899,
          52034889,
          449300000,
          50865589,
          1000000,
          15151736,
          218613188,
          218613188,
          10372291,
          156835339,
          156835339,
          22697691,
          32556175,
          21706100,
          5979947,
          5979947,
          1328111219,
          1328111219,
          956399711,
          81640278,
          59619,
          583000,
          24441725,
          32255440,
          350448145,
          5000000,
          199043242,
          40105542,
          4517000,
          137885,
          109578115,
          196114570,
          2000000,
          182057016,
          1851761,
          185991646,
          88933562,
          88933562,
          299288605,
          14999969,
          100076342,
          71441250,
          4079895,
          2250000,
          336529844,
          2500000,
          4821759,
          102854431,
          604491,
          30950002,
          96542059,
          14851083,
          7286310,
          4263651,
          182016617,
          9366227,
          1075000,
          50907234,
          305153249,
          72258126,
          283081,
          27635236,
          497000,
          497000,
          1250000,
          49718611,
          1390000,
          115505027,
          115505027,
          400000000,
          1350000,
          15942628,
          219069702,
          117615211,
          124914842,
          124914842,
          7724701,
          64466140,
          199006387,
          6908797,
          27484464,
          793815,
          53457,
          144877632,
          144877632,
          180622424,
          37823676,
          3202000,
          43318349,
          73498611,
          18344729,
          2500000,
          75226021,
          75226021,
          1250000,
          1000000,
          73090611,
          1018753,
          134748021,
          878979634,
          796688549,
          796688549,
          796688549,
          17749000,
          38955598,
          50000000,
          798958162,
          2400000,
          12531831,
          74134790,
          74134790,
          21042667,
          2807000,
          31596911,
          10340263,
          3710000,
          8218695,
          1700000,
          278720,
          278720,
          57958696,
          3100000,
          2500000,
          543113985,
          14644335,
          25010896,
          76594107,
          10004817,
          10004817,
          10004817,
          10004817,
          10004817,
          1100000,
          36348784,
          12161038,
          12161038,
          12161038,
          12161038,
          418689,
          65088797,
          36967750,
          29200000,
          21284514,
          14560084,
          14560084,
          26877589,
          222559,
          24600000,
          14000000,
          55181129,
          55181129,
          41833324,
          2850000,
          162835167,
          41600020,
          41600020,
          19379387,
          2270000,
          2270000,
          2270000,
          94216343,
          46720491,
          296339527,
          9194283,
          10000000,
          29712172,
          66132626,
          5200000,
          25534703,
          752600867,
          22847564,
          22847564,
          89325780,
          14681192,
          14681192,
          50700000,
          25978442,
          28221552,
          52304001,
          52304001,
          268500000,
          171120329,
          409144,
          2250000,
          4611062,
          16153953,
          20000000,
          4412203,
          14700000,
          2100000,
          2500000,
          29202884,
          1700000,
          49332692,
          267249,
          5008276,
          1100000,
          4479470,
          4479470,
          291390,
          5080409,
          35825316,
          106683817,
          112462508,
          100489151,
          3300000,
          20123742,
          2500000,
          14296438,
          139700000,
          139700000,
          33000000,
          24361867,
          18272894,
          26712476,
          6877842,
          141337989,
          15610299,
          8547733,
          292810686,
          8049666,
          8049666,
          9450897,
          27816,
          19319254,
          3300000,
          19344615,
          2007290,
          2000000,
          1493782,
          28215453,
          39071603,
          39071603,
          5000000,
          71868327,
          36764313,
          118676606,
          118676606,
          15782759,
          831000,
          326551094,
          57777778,
          119418501,
          119418501,
          287594577,
          14000000,
          14000000,
          2550000,
          2727000,
          16371128,
          16371128,
          1008000,
          257043,
          48351036,
          168335153,
          604000,
          9640000,
          36145695,
          36145695,
          752216557,
          29413966,
          1279000,
          205400000,
          1852655,
          3200000,
          35078918,
          677387716,
          103291131,
          66845033,
          214918407,
          2613717,
          2613717,
          3550000,
          140073390,
          8000000,
          126737428,
          98410061,
          61801971,
          2400000,
          51803305,
          51803305,
          33833201,
          17471727,
          1296937,
          63513,
          92283851,
          51880044,
          2484226,
          193000000,
          21508,
          1083486,
          1302067,
          22654650,
          13474588,
          3981000,
          4366722,
          974755371,
          110627965,
          48878502,
          3100000,
          34266564,
          15565363,
          21333333,
          34967437,
          1276000,
          4739023,
          7828841,
          30177511,
          726354,
          137783840,
          176070171,
          14334401,
          7467504,
          7467504,
          1300000,
          154749918,
          147780440,
          3475000,
          1342903,
          382946,
          2150000,
          4650000,
          819118,
          9871065,
          38016380,
          5129058,
          193967670,
          33035245,
          46471023,
          35000000,
          67331309,
          159710793,
          159710793,
          505675,
          70115868,
          70115868,
          6011745,
          372234864,
          372234864,
          3700000,
          8345845,
          5024782,
          3700000,
          432274,
          11819244,
          6370816,
          6370816,
          1027044677,
          1500000,
          105834556,
          7400000,
          1253985,
          1253985,
          235926552,
          63000000,
          34335025,
          108431355,
          6326051,
          13046465,
          13046465,
          195268056,
          6919198,
          12000000,
          624386746,
          266728738,
          266728738,
          7000000,
          7000000,
          1300000,
          494471524,
          10161099,
          4000000,
          37311672,
          2000000,
          531957538,
          11300653,
          11300653,
          97169156,
          1000000,
          3242342,
          72000000,
          62450361,
          533569,
          33208099,
          2735731,
          2735731,
          15351421,
          141069860,
          69485490,
          34585416,
          6375000,
          6375000,
          57756408,
          57756408,
          1600000,
          31181347,
          27807627,
          71215869,
          23438120,
          1820049,
          14821658,
          128406887,
          12767815,
          497409852,
          20837000,
          310650585,
          44268170,
          649398328,
          49782400,
          36489888,
          5200000,
          113714830,
          128499205,
          47383689,
          4803039,
          44917151,
          44917151,
          58785180,
          54579,
          10332256,
          1109000,
          6500000,
          516642939,
          1550000,
          2401743,
          450717150,
          1765545,
          113996937,
          21302121,
          200687492,
          4100000,
          106260000,
          102202,
          108144200,
          43749,
          25147055,
          25147055,
          175000000,
          161128228,
          585349010,
          24406761,
          49919870,
          204594016,
          4500000,
          1562923,
          1562923,
          84146832,
          3692836,
          39459427,
          30038362,
          4218701,
          4218701,
          55494066,
          55494066,
          13982357,
          2276900,
          2276900,
          6650206,
          60000000,
          2500000,
          1200000,
          473993,
          15055091,
          15055091,
          618017,
          131052444,
          7390108,
          90614445,
          2240000,
          1465000,
          407711549,
          21589395,
          441286195,
          91445389,
          2036599,
          4864980,
          56714147,
          78000000,
          101393569,
          13583690,
          13583690,
          9191638,
          25627836,
          25627836,
          20016753,
          22844291,
          22231658,
          13000000,
          216485654,
          216485654,
          216485654,
          85313124,
          5786368,
          20831000,
          65754228,
          162944923,
          41509797,
          396397203,
          5979292,
          24652021,
          2004742,
          2004742,
          1100000,
          141774679,
          205135175,
          1400591,
          11092559,
          1762000,
          1762000,
          23925492,
          7393346,
          10011050,
          10011050,
          37734758,
          1100000,
          59945183,
          889352,
          889352,
          889352,
          44432255,
          5768142,
          82102379,
          82102379,
          82102379,
          12729675,
          3800000,
          683131,
          363889700,
          246942017,
          309457509,
          129538392,
          147080413,
          2200000,
          2200000,
          1500000,
          42913571,
          42913571,
          18600000,
          103290500,
          6263883,
          624026776,
          2340336,
          12320393,
          2935242,
          2935242,
          2185372302,
          2185372302,
          23681338,
          3393161,
          2000000,
          73839240,
          73839240,
          73839240,
          5111000,
          25000000,
          72178895,
          41000000,
          441071011,
          511225,
          3293658,
          16624456,
          886461,
          57319029,
          4250000,
          4250000,
          115267375,
          26616840,
          32051917,
          162091208,
          4000000,
          471210,
          45284974,
          1250000,
          40400657,
          260718330,
          2335000,
          29506464,
          121969216,
          29133000,
          2900000,
          9000000,
          161451538,
          3438804,
          3438804,
          31559552,
          11403529,
          1740000,
          30762621,
          2000000,
          9000000,
          9000000,
          187436818,
          21156270,
          15978422,
          3000000,
          88545092,
          770000,
          8000000,
          231605150,
          101370000,
          112215759,
          30000000,
          1263279,
          2900000,
          9612469,
          9056073,
          7325177,
          164508066,
          1825000,
          9230769,
          6110979,
          97838349,
          8543587,
          29612137,
          46029,
          1800000,
          26355483,
          26355483,
          4700000,
          6202756,
          335976,
          63766510,
          63766510,
          4615255,
          12096881,
          5656388,
          159055768,
          177200000,
          1900000,
          43368779,
          353624124,
          6000000,
          585174222,
          8000000,
          214104620,
          162738726,
          170128460,
          1628000,
          431900000,
          10353438,
          900000,
          24047675,
          22512655,
          45360915,
          2200000,
          179213434,
          12890752,
          119285432,
          25889208,
          32801173,
          6110000,
          3542353,
          136766062,
          10000000,
          954046,
          825532764,
          300854823,
          300854823,
          300854823,
          10851261,
          4456346,
          4456346,
          12643776,
          59509925,
          13406717,
          1850000,
          13030214,
          7928412,
          12200000,
          1890437,
          3100000,
          14789113,
          17290970,
          29419291,
          211342221,
          14902041,
          19994515,
          512451,
          33800000,
          156491279,
          468684,
          41382841,
          14473370,
          80000000,
          34562222,
          16171098,
          915840,
          183031272,
          95904091,
          95904091,
          95904091,
          286214286,
          27038732,
          27038732,
          724912,
          21968877,
          47847881,
          7000000,
          20966644,
          58292295,
          3250000,
          542762,
          34603943,
          11132900,
          11132900,
          5142858,
          17518220,
          17518220,
          1723319,
          563358,
          1362303,
          857000,
          112547,
          1350000,
          96000,
          139796,
          18924919,
          531000,
          11647000,
          169852759,
          17957265,
          17957265,
          17957265,
          93621340,
          35150546,
          346594,
          18914307,
          18914307,
          24164,
          13831503,
          71518503,
          296655431,
          6410058,
          45566200,
          45566200,
          17080167,
          44722,
          1600000,
          14543394,
          81471882,
          38068353,
          28078073,
          686533290,
          141181969,
          12600000,
          131426169,
          131426169,
          131426169,
          131426169,
          1250000,
          2100000,
          15510,
          163733697,
          163733697,
          5816000,
          1000000,
          9689816,
          93888185,
          28262574,
          13342790,
          309208309,
          77713866,
          23624242,
          23624242,
          23624242,
          74865517,
          1083000,
          1200000,
          1511757910,
          48668907,
          15614000,
          13414416,
          4454295,
          16680836,
          381509870,
          900000,
          223387299,
          2507995,
          6000000,
          6000000,
          83073883,
          110463140,
          6000000,
          20529194,
          8200000,
          44093014,
          11285588,
          8142237,
          17989227,
          10670,
          10670,
          362744280,
          75902208,
          75902208,
          1731000,
          26010864,
          173013509,
          173013509,
          50000000,
          15000000,
          1300000,
          613285,
          13204291,
          919838758,
          196400000,
          196400000,
          136982834,
          14859394,
          4984663,
          152944660,
          7460797,
          9685976,
          4764606,
          12686,
          7603766,
          7603766,
          110000000,
          5249881,
          85498534,
          1750000,
          384335608,
          149022650,
          17550741,
          4269426,
          27058304,
          96105964,
          402480000,
          306319,
          1975000,
          20597806,
          17100369,
          1300000,
          211608112,
          5078660,
          38755073,
          108846072,
          1945552,
          87754044,
          87754044,
          1161063,
          122489822,
          2000000,
          117094902,
          65784503,
          2500000,
          66976317,
          1300000,
          10700000,
          622503,
          1660000,
          10128960,
          5500000,
          182291969,
          40055897,
          82264675,
          82264675,
          2000000,
          1545000,
          6419876,
          18916623,
          295493,
          429632142,
          10500000,
          10500000,
          1001000,
          5963000,
          122919055,
          122919055,
          4013506,
          53998806,
          53998806,
          53998806,
          9488998,
          14189860,
          24856478,
          40263020,
          9710055,
          14942422,
          8217997,
          141591324,
          1029721,
          15826984,
          134993774,
          134993774,
          3252000,
          29000000,
          68792531,
          6500000,
          8328666,
          20642922,
          17793000,
          20000000,
          1425000,
          1425000,
          44090741,
          39491975,
          18663238,
          22540359,
          3510605,
          1258000,
          2750000,
          3800000,
          14000000,
          18245244,
          2168000,
          9789900,
          340487652,
          340487652,
          32168970,
          12638294,
          122035,
          1352000,
          10738000,
          104478416,
          1229000,
          204000,
          233093859,
          119000410,
          9217530,
          31096918,
          104901839,
          62771059,
          887000,
          887000,
          174999005,
          38000000,
          66000000,
          39946780,
          39946780,
          2450000,
          1750000,
          152266007,
          63954968,
          5145823,
          1500000,
          25000,
          32511047,
          209073645,
          13000000,
          157920733,
          3261638,
          1357000,
          341631208,
          341631208,
          1774000,
          69474661,
          95461682,
          3330352,
          4865997,
          1800141,
          5400000,
          5400000
         ],
         "y0": " ",
         "yaxis": "y"
        },
        {
         "alignmentgroup": "True",
         "hovertemplate": "Movie Type=%{x}<br>Box Office Revenue ($)=%{y}<extra></extra>",
         "legendgroup": "True",
         "marker": {
          "color": "#EF553B"
         },
         "name": "True",
         "notched": false,
         "offsetgroup": "True",
         "orientation": "v",
         "showlegend": true,
         "type": "box",
         "x": [
          true,
          true,
          true,
          true,
          true,
          true,
          true,
          true,
          true,
          true,
          true,
          true,
          true,
          true,
          true,
          true,
          true,
          true,
          true,
          true,
          true,
          true,
          true,
          true,
          true,
          true,
          true,
          true,
          true,
          true,
          true,
          true,
          true,
          true,
          true,
          true,
          true,
          true,
          true,
          true,
          true,
          true,
          true,
          true,
          true,
          true,
          true,
          true,
          true,
          true,
          true,
          true,
          true,
          true,
          true,
          true,
          true,
          true,
          true,
          true,
          true,
          true,
          true
         ],
         "x0": " ",
         "xaxis": "x",
         "y": [
          60378584,
          86274793,
          1750000,
          108901967,
          156239800,
          8000000,
          102272727,
          3359465,
          1400000,
          25966555,
          61276872,
          400000000,
          31853080,
          2000000,
          114943631,
          42765000,
          16800000,
          30036000,
          40157856,
          272742922,
          4150000,
          289317794,
          58500000,
          1700000,
          34901614,
          44909486,
          7552000,
          40000000,
          5641711,
          22228000,
          329398046,
          3500000,
          2385000,
          32653905,
          18600000,
          314178011,
          582000,
          12000000,
          256271286,
          2500000,
          56666667,
          216763646,
          4613000,
          119285432,
          60611975,
          4500000,
          32078318,
          108981275,
          309208309,
          186438883,
          67182787,
          38251425,
          22276975,
          4200000,
          11533945,
          12512637,
          108846072,
          2300000,
          6900000,
          145793296,
          108423489,
          8878000,
          83088295
         ],
         "y0": " ",
         "yaxis": "y"
        }
       ],
       "layout": {
        "boxmode": "overlay",
        "height": 600,
        "legend": {
         "title": {
          "text": "Movie Type"
         },
         "tracegroupgap": 0
        },
        "template": {
         "data": {
          "bar": [
           {
            "error_x": {
             "color": "#2a3f5f"
            },
            "error_y": {
             "color": "#2a3f5f"
            },
            "marker": {
             "line": {
              "color": "#E5ECF6",
              "width": 0.5
             },
             "pattern": {
              "fillmode": "overlay",
              "size": 10,
              "solidity": 0.2
             }
            },
            "type": "bar"
           }
          ],
          "barpolar": [
           {
            "marker": {
             "line": {
              "color": "#E5ECF6",
              "width": 0.5
             },
             "pattern": {
              "fillmode": "overlay",
              "size": 10,
              "solidity": 0.2
             }
            },
            "type": "barpolar"
           }
          ],
          "carpet": [
           {
            "aaxis": {
             "endlinecolor": "#2a3f5f",
             "gridcolor": "white",
             "linecolor": "white",
             "minorgridcolor": "white",
             "startlinecolor": "#2a3f5f"
            },
            "baxis": {
             "endlinecolor": "#2a3f5f",
             "gridcolor": "white",
             "linecolor": "white",
             "minorgridcolor": "white",
             "startlinecolor": "#2a3f5f"
            },
            "type": "carpet"
           }
          ],
          "choropleth": [
           {
            "colorbar": {
             "outlinewidth": 0,
             "ticks": ""
            },
            "type": "choropleth"
           }
          ],
          "contour": [
           {
            "colorbar": {
             "outlinewidth": 0,
             "ticks": ""
            },
            "colorscale": [
             [
              0,
              "#0d0887"
             ],
             [
              0.1111111111111111,
              "#46039f"
             ],
             [
              0.2222222222222222,
              "#7201a8"
             ],
             [
              0.3333333333333333,
              "#9c179e"
             ],
             [
              0.4444444444444444,
              "#bd3786"
             ],
             [
              0.5555555555555556,
              "#d8576b"
             ],
             [
              0.6666666666666666,
              "#ed7953"
             ],
             [
              0.7777777777777778,
              "#fb9f3a"
             ],
             [
              0.8888888888888888,
              "#fdca26"
             ],
             [
              1,
              "#f0f921"
             ]
            ],
            "type": "contour"
           }
          ],
          "contourcarpet": [
           {
            "colorbar": {
             "outlinewidth": 0,
             "ticks": ""
            },
            "type": "contourcarpet"
           }
          ],
          "heatmap": [
           {
            "colorbar": {
             "outlinewidth": 0,
             "ticks": ""
            },
            "colorscale": [
             [
              0,
              "#0d0887"
             ],
             [
              0.1111111111111111,
              "#46039f"
             ],
             [
              0.2222222222222222,
              "#7201a8"
             ],
             [
              0.3333333333333333,
              "#9c179e"
             ],
             [
              0.4444444444444444,
              "#bd3786"
             ],
             [
              0.5555555555555556,
              "#d8576b"
             ],
             [
              0.6666666666666666,
              "#ed7953"
             ],
             [
              0.7777777777777778,
              "#fb9f3a"
             ],
             [
              0.8888888888888888,
              "#fdca26"
             ],
             [
              1,
              "#f0f921"
             ]
            ],
            "type": "heatmap"
           }
          ],
          "heatmapgl": [
           {
            "colorbar": {
             "outlinewidth": 0,
             "ticks": ""
            },
            "colorscale": [
             [
              0,
              "#0d0887"
             ],
             [
              0.1111111111111111,
              "#46039f"
             ],
             [
              0.2222222222222222,
              "#7201a8"
             ],
             [
              0.3333333333333333,
              "#9c179e"
             ],
             [
              0.4444444444444444,
              "#bd3786"
             ],
             [
              0.5555555555555556,
              "#d8576b"
             ],
             [
              0.6666666666666666,
              "#ed7953"
             ],
             [
              0.7777777777777778,
              "#fb9f3a"
             ],
             [
              0.8888888888888888,
              "#fdca26"
             ],
             [
              1,
              "#f0f921"
             ]
            ],
            "type": "heatmapgl"
           }
          ],
          "histogram": [
           {
            "marker": {
             "pattern": {
              "fillmode": "overlay",
              "size": 10,
              "solidity": 0.2
             }
            },
            "type": "histogram"
           }
          ],
          "histogram2d": [
           {
            "colorbar": {
             "outlinewidth": 0,
             "ticks": ""
            },
            "colorscale": [
             [
              0,
              "#0d0887"
             ],
             [
              0.1111111111111111,
              "#46039f"
             ],
             [
              0.2222222222222222,
              "#7201a8"
             ],
             [
              0.3333333333333333,
              "#9c179e"
             ],
             [
              0.4444444444444444,
              "#bd3786"
             ],
             [
              0.5555555555555556,
              "#d8576b"
             ],
             [
              0.6666666666666666,
              "#ed7953"
             ],
             [
              0.7777777777777778,
              "#fb9f3a"
             ],
             [
              0.8888888888888888,
              "#fdca26"
             ],
             [
              1,
              "#f0f921"
             ]
            ],
            "type": "histogram2d"
           }
          ],
          "histogram2dcontour": [
           {
            "colorbar": {
             "outlinewidth": 0,
             "ticks": ""
            },
            "colorscale": [
             [
              0,
              "#0d0887"
             ],
             [
              0.1111111111111111,
              "#46039f"
             ],
             [
              0.2222222222222222,
              "#7201a8"
             ],
             [
              0.3333333333333333,
              "#9c179e"
             ],
             [
              0.4444444444444444,
              "#bd3786"
             ],
             [
              0.5555555555555556,
              "#d8576b"
             ],
             [
              0.6666666666666666,
              "#ed7953"
             ],
             [
              0.7777777777777778,
              "#fb9f3a"
             ],
             [
              0.8888888888888888,
              "#fdca26"
             ],
             [
              1,
              "#f0f921"
             ]
            ],
            "type": "histogram2dcontour"
           }
          ],
          "mesh3d": [
           {
            "colorbar": {
             "outlinewidth": 0,
             "ticks": ""
            },
            "type": "mesh3d"
           }
          ],
          "parcoords": [
           {
            "line": {
             "colorbar": {
              "outlinewidth": 0,
              "ticks": ""
             }
            },
            "type": "parcoords"
           }
          ],
          "pie": [
           {
            "automargin": true,
            "type": "pie"
           }
          ],
          "scatter": [
           {
            "fillpattern": {
             "fillmode": "overlay",
             "size": 10,
             "solidity": 0.2
            },
            "type": "scatter"
           }
          ],
          "scatter3d": [
           {
            "line": {
             "colorbar": {
              "outlinewidth": 0,
              "ticks": ""
             }
            },
            "marker": {
             "colorbar": {
              "outlinewidth": 0,
              "ticks": ""
             }
            },
            "type": "scatter3d"
           }
          ],
          "scattercarpet": [
           {
            "marker": {
             "colorbar": {
              "outlinewidth": 0,
              "ticks": ""
             }
            },
            "type": "scattercarpet"
           }
          ],
          "scattergeo": [
           {
            "marker": {
             "colorbar": {
              "outlinewidth": 0,
              "ticks": ""
             }
            },
            "type": "scattergeo"
           }
          ],
          "scattergl": [
           {
            "marker": {
             "colorbar": {
              "outlinewidth": 0,
              "ticks": ""
             }
            },
            "type": "scattergl"
           }
          ],
          "scattermapbox": [
           {
            "marker": {
             "colorbar": {
              "outlinewidth": 0,
              "ticks": ""
             }
            },
            "type": "scattermapbox"
           }
          ],
          "scatterpolar": [
           {
            "marker": {
             "colorbar": {
              "outlinewidth": 0,
              "ticks": ""
             }
            },
            "type": "scatterpolar"
           }
          ],
          "scatterpolargl": [
           {
            "marker": {
             "colorbar": {
              "outlinewidth": 0,
              "ticks": ""
             }
            },
            "type": "scatterpolargl"
           }
          ],
          "scatterternary": [
           {
            "marker": {
             "colorbar": {
              "outlinewidth": 0,
              "ticks": ""
             }
            },
            "type": "scatterternary"
           }
          ],
          "surface": [
           {
            "colorbar": {
             "outlinewidth": 0,
             "ticks": ""
            },
            "colorscale": [
             [
              0,
              "#0d0887"
             ],
             [
              0.1111111111111111,
              "#46039f"
             ],
             [
              0.2222222222222222,
              "#7201a8"
             ],
             [
              0.3333333333333333,
              "#9c179e"
             ],
             [
              0.4444444444444444,
              "#bd3786"
             ],
             [
              0.5555555555555556,
              "#d8576b"
             ],
             [
              0.6666666666666666,
              "#ed7953"
             ],
             [
              0.7777777777777778,
              "#fb9f3a"
             ],
             [
              0.8888888888888888,
              "#fdca26"
             ],
             [
              1,
              "#f0f921"
             ]
            ],
            "type": "surface"
           }
          ],
          "table": [
           {
            "cells": {
             "fill": {
              "color": "#EBF0F8"
             },
             "line": {
              "color": "white"
             }
            },
            "header": {
             "fill": {
              "color": "#C8D4E3"
             },
             "line": {
              "color": "white"
             }
            },
            "type": "table"
           }
          ]
         },
         "layout": {
          "annotationdefaults": {
           "arrowcolor": "#2a3f5f",
           "arrowhead": 0,
           "arrowwidth": 1
          },
          "autotypenumbers": "strict",
          "coloraxis": {
           "colorbar": {
            "outlinewidth": 0,
            "ticks": ""
           }
          },
          "colorscale": {
           "diverging": [
            [
             0,
             "#8e0152"
            ],
            [
             0.1,
             "#c51b7d"
            ],
            [
             0.2,
             "#de77ae"
            ],
            [
             0.3,
             "#f1b6da"
            ],
            [
             0.4,
             "#fde0ef"
            ],
            [
             0.5,
             "#f7f7f7"
            ],
            [
             0.6,
             "#e6f5d0"
            ],
            [
             0.7,
             "#b8e186"
            ],
            [
             0.8,
             "#7fbc41"
            ],
            [
             0.9,
             "#4d9221"
            ],
            [
             1,
             "#276419"
            ]
           ],
           "sequential": [
            [
             0,
             "#0d0887"
            ],
            [
             0.1111111111111111,
             "#46039f"
            ],
            [
             0.2222222222222222,
             "#7201a8"
            ],
            [
             0.3333333333333333,
             "#9c179e"
            ],
            [
             0.4444444444444444,
             "#bd3786"
            ],
            [
             0.5555555555555556,
             "#d8576b"
            ],
            [
             0.6666666666666666,
             "#ed7953"
            ],
            [
             0.7777777777777778,
             "#fb9f3a"
            ],
            [
             0.8888888888888888,
             "#fdca26"
            ],
            [
             1,
             "#f0f921"
            ]
           ],
           "sequentialminus": [
            [
             0,
             "#0d0887"
            ],
            [
             0.1111111111111111,
             "#46039f"
            ],
            [
             0.2222222222222222,
             "#7201a8"
            ],
            [
             0.3333333333333333,
             "#9c179e"
            ],
            [
             0.4444444444444444,
             "#bd3786"
            ],
            [
             0.5555555555555556,
             "#d8576b"
            ],
            [
             0.6666666666666666,
             "#ed7953"
            ],
            [
             0.7777777777777778,
             "#fb9f3a"
            ],
            [
             0.8888888888888888,
             "#fdca26"
            ],
            [
             1,
             "#f0f921"
            ]
           ]
          },
          "colorway": [
           "#636efa",
           "#EF553B",
           "#00cc96",
           "#ab63fa",
           "#FFA15A",
           "#19d3f3",
           "#FF6692",
           "#B6E880",
           "#FF97FF",
           "#FECB52"
          ],
          "font": {
           "color": "#2a3f5f"
          },
          "geo": {
           "bgcolor": "white",
           "lakecolor": "white",
           "landcolor": "#E5ECF6",
           "showlakes": true,
           "showland": true,
           "subunitcolor": "white"
          },
          "hoverlabel": {
           "align": "left"
          },
          "hovermode": "closest",
          "mapbox": {
           "style": "light"
          },
          "paper_bgcolor": "white",
          "plot_bgcolor": "#E5ECF6",
          "polar": {
           "angularaxis": {
            "gridcolor": "white",
            "linecolor": "white",
            "ticks": ""
           },
           "bgcolor": "#E5ECF6",
           "radialaxis": {
            "gridcolor": "white",
            "linecolor": "white",
            "ticks": ""
           }
          },
          "scene": {
           "xaxis": {
            "backgroundcolor": "#E5ECF6",
            "gridcolor": "white",
            "gridwidth": 2,
            "linecolor": "white",
            "showbackground": true,
            "ticks": "",
            "zerolinecolor": "white"
           },
           "yaxis": {
            "backgroundcolor": "#E5ECF6",
            "gridcolor": "white",
            "gridwidth": 2,
            "linecolor": "white",
            "showbackground": true,
            "ticks": "",
            "zerolinecolor": "white"
           },
           "zaxis": {
            "backgroundcolor": "#E5ECF6",
            "gridcolor": "white",
            "gridwidth": 2,
            "linecolor": "white",
            "showbackground": true,
            "ticks": "",
            "zerolinecolor": "white"
           }
          },
          "shapedefaults": {
           "line": {
            "color": "#2a3f5f"
           }
          },
          "ternary": {
           "aaxis": {
            "gridcolor": "white",
            "linecolor": "white",
            "ticks": ""
           },
           "baxis": {
            "gridcolor": "white",
            "linecolor": "white",
            "ticks": ""
           },
           "bgcolor": "#E5ECF6",
           "caxis": {
            "gridcolor": "white",
            "linecolor": "white",
            "ticks": ""
           }
          },
          "title": {
           "x": 0.05
          },
          "xaxis": {
           "automargin": true,
           "gridcolor": "white",
           "linecolor": "white",
           "ticks": "",
           "title": {
            "standoff": 15
           },
           "zerolinecolor": "white",
           "zerolinewidth": 2
          },
          "yaxis": {
           "automargin": true,
           "gridcolor": "white",
           "linecolor": "white",
           "ticks": "",
           "title": {
            "standoff": 15
           },
           "zerolinecolor": "white",
           "zerolinewidth": 2
          }
         }
        },
        "title": {
         "text": "Box Office Revenue Distribution (Oscar-Winning vs Non-Oscar-Winning)"
        },
        "width": 800,
        "xaxis": {
         "anchor": "y",
         "categoryarray": [
          false,
          true
         ],
         "categoryorder": "array",
         "domain": [
          0,
          1
         ],
         "title": {
          "text": "Best Actress Reward"
         }
        },
        "yaxis": {
         "anchor": "x",
         "domain": [
          0,
          1
         ],
         "tickformat": "$,.0f",
         "title": {
          "text": "Box Office Revenue ($)"
         }
        }
       }
      }
     },
     "metadata": {},
     "output_type": "display_data"
    }
   ],
   "source": [
    "# Prepare data for box office revenue comparison\n",
    "box_office_data = oscar_actress_movies_all[['Movie box office revenue', 'Best Actress Reward']].dropna()\n",
    "\n",
    "# Create a box plot to show the distribution of box office revenue\n",
    "fig = px.box(\n",
    "    box_office_data,\n",
    "    x='Best Actress Reward',\n",
    "    y='Movie box office revenue',\n",
    "    title='Box Office Revenue Distribution (Oscar-Winning vs Non-Oscar-Winning)',\n",
    "    labels={'Best Actress Reward': 'Movie Type', 'Movie box office revenue': 'Box Office Revenue ($)'},\n",
    "    color='Best Actress Reward'\n",
    ")\n",
    "\n",
    "# Update layout for better readability⁄\n",
    "fig.update_layout(\n",
    "    xaxis=dict(title='Best Actress Reward'),\n",
    "    yaxis=dict(title='Box Office Revenue ($)', tickformat='$,.0f'),\n",
    "    width=800,  # Adjust figure width\n",
    "    height=600  # Adjust figure height\n",
    ")\n",
    "\n",
    "# Uncomment this to visualize\n",
    "fig.show()"
   ]
  },
  {
   "cell_type": "code",
   "execution_count": 124,
   "metadata": {},
   "outputs": [
    {
     "data": {
      "application/vnd.plotly.v1+json": {
       "config": {
        "plotlyServerURL": "https://plot.ly"
       },
       "data": [
        {
         "hovertemplate": "Age at Movie Release=%{x}<br>Box Office Revenue ($)=%{marker.size}<extra></extra>",
         "legendgroup": "",
         "marker": {
          "color": "purple",
          "size": [
           1750000,
           1700000,
           582000,
           56666667,
           22276975,
           119285432,
           2500000,
           400000000,
           8000000,
           2385000,
           4500000,
           8878000,
           4613000,
           2300000,
           4150000,
           12000000,
           6900000,
           4200000,
           1400000,
           5641711,
           7552000,
           40000000,
           102272727,
           58500000,
           16800000,
           12512637,
           32653905,
           42765000,
           18600000,
           108981275,
           38251425,
           22228000,
           34901614,
           67182787,
           30036000,
           114943631,
           108423489,
           31853080,
           156239800,
           32078318,
           272742922,
           145793296,
           61276872,
           25966555,
           40157856,
           3359465,
           83088295,
           60611975,
           314178011,
           289317794,
           11533945,
           216763646,
           256271286,
           44909486,
           108846072,
           60378584,
           186438883,
           86274793,
           108901967,
           309208309,
           329398046
          ],
          "sizemode": "area",
          "sizeref": 1000000,
          "symbol": "circle"
         },
         "mode": "markers",
         "name": "",
         "orientation": "v",
         "showlegend": false,
         "type": "scatter",
         "x": [
          20,
          21,
          26,
          60,
          61,
          74,
          30,
          26,
          38,
          29,
          24,
          37,
          28,
          33,
          29,
          24,
          25,
          47,
          27,
          41,
          28,
          34,
          28,
          26,
          37,
          33,
          40,
          25,
          42,
          41,
          31,
          32,
          37,
          30,
          33,
          62,
          49,
          21,
          40,
          25,
          28,
          80,
          42,
          32,
          35,
          45,
          49,
          38,
          34,
          26,
          25,
          30,
          32,
          35,
          35,
          28,
          29,
          31,
          33,
          45,
          29
         ],
         "xaxis": "x",
         "y": [
          1750000,
          1700000,
          582000,
          56666667,
          22276975,
          119285432,
          2500000,
          400000000,
          8000000,
          2385000,
          4500000,
          8878000,
          4613000,
          2300000,
          4150000,
          12000000,
          6900000,
          4200000,
          1400000,
          5641711,
          7552000,
          40000000,
          102272727,
          58500000,
          16800000,
          12512637,
          32653905,
          42765000,
          18600000,
          108981275,
          38251425,
          22228000,
          34901614,
          67182787,
          30036000,
          114943631,
          108423489,
          31853080,
          156239800,
          32078318,
          272742922,
          145793296,
          61276872,
          25966555,
          40157856,
          3359465,
          83088295,
          60611975,
          314178011,
          289317794,
          11533945,
          216763646,
          256271286,
          44909486,
          108846072,
          60378584,
          186438883,
          86274793,
          108901967,
          309208309,
          329398046
         ],
         "yaxis": "y"
        }
       ],
       "layout": {
        "height": 600,
        "legend": {
         "itemsizing": "constant",
         "tracegroupgap": 0
        },
        "template": {
         "data": {
          "bar": [
           {
            "error_x": {
             "color": "#2a3f5f"
            },
            "error_y": {
             "color": "#2a3f5f"
            },
            "marker": {
             "line": {
              "color": "#E5ECF6",
              "width": 0.5
             },
             "pattern": {
              "fillmode": "overlay",
              "size": 10,
              "solidity": 0.2
             }
            },
            "type": "bar"
           }
          ],
          "barpolar": [
           {
            "marker": {
             "line": {
              "color": "#E5ECF6",
              "width": 0.5
             },
             "pattern": {
              "fillmode": "overlay",
              "size": 10,
              "solidity": 0.2
             }
            },
            "type": "barpolar"
           }
          ],
          "carpet": [
           {
            "aaxis": {
             "endlinecolor": "#2a3f5f",
             "gridcolor": "white",
             "linecolor": "white",
             "minorgridcolor": "white",
             "startlinecolor": "#2a3f5f"
            },
            "baxis": {
             "endlinecolor": "#2a3f5f",
             "gridcolor": "white",
             "linecolor": "white",
             "minorgridcolor": "white",
             "startlinecolor": "#2a3f5f"
            },
            "type": "carpet"
           }
          ],
          "choropleth": [
           {
            "colorbar": {
             "outlinewidth": 0,
             "ticks": ""
            },
            "type": "choropleth"
           }
          ],
          "contour": [
           {
            "colorbar": {
             "outlinewidth": 0,
             "ticks": ""
            },
            "colorscale": [
             [
              0,
              "#0d0887"
             ],
             [
              0.1111111111111111,
              "#46039f"
             ],
             [
              0.2222222222222222,
              "#7201a8"
             ],
             [
              0.3333333333333333,
              "#9c179e"
             ],
             [
              0.4444444444444444,
              "#bd3786"
             ],
             [
              0.5555555555555556,
              "#d8576b"
             ],
             [
              0.6666666666666666,
              "#ed7953"
             ],
             [
              0.7777777777777778,
              "#fb9f3a"
             ],
             [
              0.8888888888888888,
              "#fdca26"
             ],
             [
              1,
              "#f0f921"
             ]
            ],
            "type": "contour"
           }
          ],
          "contourcarpet": [
           {
            "colorbar": {
             "outlinewidth": 0,
             "ticks": ""
            },
            "type": "contourcarpet"
           }
          ],
          "heatmap": [
           {
            "colorbar": {
             "outlinewidth": 0,
             "ticks": ""
            },
            "colorscale": [
             [
              0,
              "#0d0887"
             ],
             [
              0.1111111111111111,
              "#46039f"
             ],
             [
              0.2222222222222222,
              "#7201a8"
             ],
             [
              0.3333333333333333,
              "#9c179e"
             ],
             [
              0.4444444444444444,
              "#bd3786"
             ],
             [
              0.5555555555555556,
              "#d8576b"
             ],
             [
              0.6666666666666666,
              "#ed7953"
             ],
             [
              0.7777777777777778,
              "#fb9f3a"
             ],
             [
              0.8888888888888888,
              "#fdca26"
             ],
             [
              1,
              "#f0f921"
             ]
            ],
            "type": "heatmap"
           }
          ],
          "heatmapgl": [
           {
            "colorbar": {
             "outlinewidth": 0,
             "ticks": ""
            },
            "colorscale": [
             [
              0,
              "#0d0887"
             ],
             [
              0.1111111111111111,
              "#46039f"
             ],
             [
              0.2222222222222222,
              "#7201a8"
             ],
             [
              0.3333333333333333,
              "#9c179e"
             ],
             [
              0.4444444444444444,
              "#bd3786"
             ],
             [
              0.5555555555555556,
              "#d8576b"
             ],
             [
              0.6666666666666666,
              "#ed7953"
             ],
             [
              0.7777777777777778,
              "#fb9f3a"
             ],
             [
              0.8888888888888888,
              "#fdca26"
             ],
             [
              1,
              "#f0f921"
             ]
            ],
            "type": "heatmapgl"
           }
          ],
          "histogram": [
           {
            "marker": {
             "pattern": {
              "fillmode": "overlay",
              "size": 10,
              "solidity": 0.2
             }
            },
            "type": "histogram"
           }
          ],
          "histogram2d": [
           {
            "colorbar": {
             "outlinewidth": 0,
             "ticks": ""
            },
            "colorscale": [
             [
              0,
              "#0d0887"
             ],
             [
              0.1111111111111111,
              "#46039f"
             ],
             [
              0.2222222222222222,
              "#7201a8"
             ],
             [
              0.3333333333333333,
              "#9c179e"
             ],
             [
              0.4444444444444444,
              "#bd3786"
             ],
             [
              0.5555555555555556,
              "#d8576b"
             ],
             [
              0.6666666666666666,
              "#ed7953"
             ],
             [
              0.7777777777777778,
              "#fb9f3a"
             ],
             [
              0.8888888888888888,
              "#fdca26"
             ],
             [
              1,
              "#f0f921"
             ]
            ],
            "type": "histogram2d"
           }
          ],
          "histogram2dcontour": [
           {
            "colorbar": {
             "outlinewidth": 0,
             "ticks": ""
            },
            "colorscale": [
             [
              0,
              "#0d0887"
             ],
             [
              0.1111111111111111,
              "#46039f"
             ],
             [
              0.2222222222222222,
              "#7201a8"
             ],
             [
              0.3333333333333333,
              "#9c179e"
             ],
             [
              0.4444444444444444,
              "#bd3786"
             ],
             [
              0.5555555555555556,
              "#d8576b"
             ],
             [
              0.6666666666666666,
              "#ed7953"
             ],
             [
              0.7777777777777778,
              "#fb9f3a"
             ],
             [
              0.8888888888888888,
              "#fdca26"
             ],
             [
              1,
              "#f0f921"
             ]
            ],
            "type": "histogram2dcontour"
           }
          ],
          "mesh3d": [
           {
            "colorbar": {
             "outlinewidth": 0,
             "ticks": ""
            },
            "type": "mesh3d"
           }
          ],
          "parcoords": [
           {
            "line": {
             "colorbar": {
              "outlinewidth": 0,
              "ticks": ""
             }
            },
            "type": "parcoords"
           }
          ],
          "pie": [
           {
            "automargin": true,
            "type": "pie"
           }
          ],
          "scatter": [
           {
            "fillpattern": {
             "fillmode": "overlay",
             "size": 10,
             "solidity": 0.2
            },
            "type": "scatter"
           }
          ],
          "scatter3d": [
           {
            "line": {
             "colorbar": {
              "outlinewidth": 0,
              "ticks": ""
             }
            },
            "marker": {
             "colorbar": {
              "outlinewidth": 0,
              "ticks": ""
             }
            },
            "type": "scatter3d"
           }
          ],
          "scattercarpet": [
           {
            "marker": {
             "colorbar": {
              "outlinewidth": 0,
              "ticks": ""
             }
            },
            "type": "scattercarpet"
           }
          ],
          "scattergeo": [
           {
            "marker": {
             "colorbar": {
              "outlinewidth": 0,
              "ticks": ""
             }
            },
            "type": "scattergeo"
           }
          ],
          "scattergl": [
           {
            "marker": {
             "colorbar": {
              "outlinewidth": 0,
              "ticks": ""
             }
            },
            "type": "scattergl"
           }
          ],
          "scattermapbox": [
           {
            "marker": {
             "colorbar": {
              "outlinewidth": 0,
              "ticks": ""
             }
            },
            "type": "scattermapbox"
           }
          ],
          "scatterpolar": [
           {
            "marker": {
             "colorbar": {
              "outlinewidth": 0,
              "ticks": ""
             }
            },
            "type": "scatterpolar"
           }
          ],
          "scatterpolargl": [
           {
            "marker": {
             "colorbar": {
              "outlinewidth": 0,
              "ticks": ""
             }
            },
            "type": "scatterpolargl"
           }
          ],
          "scatterternary": [
           {
            "marker": {
             "colorbar": {
              "outlinewidth": 0,
              "ticks": ""
             }
            },
            "type": "scatterternary"
           }
          ],
          "surface": [
           {
            "colorbar": {
             "outlinewidth": 0,
             "ticks": ""
            },
            "colorscale": [
             [
              0,
              "#0d0887"
             ],
             [
              0.1111111111111111,
              "#46039f"
             ],
             [
              0.2222222222222222,
              "#7201a8"
             ],
             [
              0.3333333333333333,
              "#9c179e"
             ],
             [
              0.4444444444444444,
              "#bd3786"
             ],
             [
              0.5555555555555556,
              "#d8576b"
             ],
             [
              0.6666666666666666,
              "#ed7953"
             ],
             [
              0.7777777777777778,
              "#fb9f3a"
             ],
             [
              0.8888888888888888,
              "#fdca26"
             ],
             [
              1,
              "#f0f921"
             ]
            ],
            "type": "surface"
           }
          ],
          "table": [
           {
            "cells": {
             "fill": {
              "color": "#EBF0F8"
             },
             "line": {
              "color": "white"
             }
            },
            "header": {
             "fill": {
              "color": "#C8D4E3"
             },
             "line": {
              "color": "white"
             }
            },
            "type": "table"
           }
          ]
         },
         "layout": {
          "annotationdefaults": {
           "arrowcolor": "#2a3f5f",
           "arrowhead": 0,
           "arrowwidth": 1
          },
          "autotypenumbers": "strict",
          "coloraxis": {
           "colorbar": {
            "outlinewidth": 0,
            "ticks": ""
           }
          },
          "colorscale": {
           "diverging": [
            [
             0,
             "#8e0152"
            ],
            [
             0.1,
             "#c51b7d"
            ],
            [
             0.2,
             "#de77ae"
            ],
            [
             0.3,
             "#f1b6da"
            ],
            [
             0.4,
             "#fde0ef"
            ],
            [
             0.5,
             "#f7f7f7"
            ],
            [
             0.6,
             "#e6f5d0"
            ],
            [
             0.7,
             "#b8e186"
            ],
            [
             0.8,
             "#7fbc41"
            ],
            [
             0.9,
             "#4d9221"
            ],
            [
             1,
             "#276419"
            ]
           ],
           "sequential": [
            [
             0,
             "#0d0887"
            ],
            [
             0.1111111111111111,
             "#46039f"
            ],
            [
             0.2222222222222222,
             "#7201a8"
            ],
            [
             0.3333333333333333,
             "#9c179e"
            ],
            [
             0.4444444444444444,
             "#bd3786"
            ],
            [
             0.5555555555555556,
             "#d8576b"
            ],
            [
             0.6666666666666666,
             "#ed7953"
            ],
            [
             0.7777777777777778,
             "#fb9f3a"
            ],
            [
             0.8888888888888888,
             "#fdca26"
            ],
            [
             1,
             "#f0f921"
            ]
           ],
           "sequentialminus": [
            [
             0,
             "#0d0887"
            ],
            [
             0.1111111111111111,
             "#46039f"
            ],
            [
             0.2222222222222222,
             "#7201a8"
            ],
            [
             0.3333333333333333,
             "#9c179e"
            ],
            [
             0.4444444444444444,
             "#bd3786"
            ],
            [
             0.5555555555555556,
             "#d8576b"
            ],
            [
             0.6666666666666666,
             "#ed7953"
            ],
            [
             0.7777777777777778,
             "#fb9f3a"
            ],
            [
             0.8888888888888888,
             "#fdca26"
            ],
            [
             1,
             "#f0f921"
            ]
           ]
          },
          "colorway": [
           "#636efa",
           "#EF553B",
           "#00cc96",
           "#ab63fa",
           "#FFA15A",
           "#19d3f3",
           "#FF6692",
           "#B6E880",
           "#FF97FF",
           "#FECB52"
          ],
          "font": {
           "color": "#2a3f5f"
          },
          "geo": {
           "bgcolor": "white",
           "lakecolor": "white",
           "landcolor": "#E5ECF6",
           "showlakes": true,
           "showland": true,
           "subunitcolor": "white"
          },
          "hoverlabel": {
           "align": "left"
          },
          "hovermode": "closest",
          "mapbox": {
           "style": "light"
          },
          "paper_bgcolor": "white",
          "plot_bgcolor": "#E5ECF6",
          "polar": {
           "angularaxis": {
            "gridcolor": "white",
            "linecolor": "white",
            "ticks": ""
           },
           "bgcolor": "#E5ECF6",
           "radialaxis": {
            "gridcolor": "white",
            "linecolor": "white",
            "ticks": ""
           }
          },
          "scene": {
           "xaxis": {
            "backgroundcolor": "#E5ECF6",
            "gridcolor": "white",
            "gridwidth": 2,
            "linecolor": "white",
            "showbackground": true,
            "ticks": "",
            "zerolinecolor": "white"
           },
           "yaxis": {
            "backgroundcolor": "#E5ECF6",
            "gridcolor": "white",
            "gridwidth": 2,
            "linecolor": "white",
            "showbackground": true,
            "ticks": "",
            "zerolinecolor": "white"
           },
           "zaxis": {
            "backgroundcolor": "#E5ECF6",
            "gridcolor": "white",
            "gridwidth": 2,
            "linecolor": "white",
            "showbackground": true,
            "ticks": "",
            "zerolinecolor": "white"
           }
          },
          "shapedefaults": {
           "line": {
            "color": "#2a3f5f"
           }
          },
          "ternary": {
           "aaxis": {
            "gridcolor": "white",
            "linecolor": "white",
            "ticks": ""
           },
           "baxis": {
            "gridcolor": "white",
            "linecolor": "white",
            "ticks": ""
           },
           "bgcolor": "#E5ECF6",
           "caxis": {
            "gridcolor": "white",
            "linecolor": "white",
            "ticks": ""
           }
          },
          "title": {
           "x": 0.05
          },
          "xaxis": {
           "automargin": true,
           "gridcolor": "white",
           "linecolor": "white",
           "ticks": "",
           "title": {
            "standoff": 15
           },
           "zerolinecolor": "white",
           "zerolinewidth": 2
          },
          "yaxis": {
           "automargin": true,
           "gridcolor": "white",
           "linecolor": "white",
           "ticks": "",
           "title": {
            "standoff": 15
           },
           "zerolinecolor": "white",
           "zerolinewidth": 2
          }
         }
        },
        "title": {
         "text": "Actress Age vs. Movie Box Office Revenue (Oscar-Winning Movies)"
        },
        "width": 800,
        "xaxis": {
         "anchor": "y",
         "domain": [
          0,
          1
         ],
         "title": {
          "text": "Age at Movie Release"
         }
        },
        "yaxis": {
         "anchor": "x",
         "domain": [
          0,
          1
         ],
         "tickformat": "$,.0f",
         "title": {
          "text": "Box Office Revenue ($)"
         }
        }
       }
      }
     },
     "metadata": {},
     "output_type": "display_data"
    }
   ],
   "source": [
    "scatter_data = oscar_actress_info[['Actor age at movie release', 'Movie box office revenue']].dropna()\n",
    "\n",
    "\n",
    "fig = px.scatter(\n",
    "    scatter_data,\n",
    "    x='Actor age at movie release',\n",
    "    y='Movie box office revenue',\n",
    "    title='Actress Age vs. Movie Box Office Revenue (Oscar-Winning Movies)',\n",
    "    labels={\n",
    "        'Actor age at movie release': 'Age at Movie Release',\n",
    "        'Movie box office revenue': 'Box Office Revenue ($)'\n",
    "    },\n",
    "    size='Movie box office revenue',\n",
    "    hover_data=['Actor age at movie release'],\n",
    "    color_discrete_sequence=['purple']\n",
    ")\n",
    "\n",
    "\n",
    "fig.update_layout(\n",
    "    xaxis=dict(title='Age at Movie Release'),\n",
    "    yaxis=dict(title='Box Office Revenue ($)', tickformat='$,.0f'),\n",
    "    width=800,  \n",
    "    height=600  \n",
    ")\n",
    "\n",
    "fig.show()"
   ]
  },
  {
   "cell_type": "code",
   "execution_count": 125,
   "metadata": {},
   "outputs": [
    {
     "data": {
      "application/vnd.plotly.v1+json": {
       "config": {
        "plotlyServerURL": "https://plot.ly"
       },
       "data": [
        {
         "alignmentgroup": "True",
         "hovertemplate": "Movie Genre=%{x}<br>Number of Movies=%{text}<extra></extra>",
         "legendgroup": "Drama",
         "marker": {
          "color": "#636efa",
          "pattern": {
           "shape": ""
          }
         },
         "name": "Drama",
         "offsetgroup": "Drama",
         "orientation": "v",
         "showlegend": true,
         "text": [
          81
         ],
         "textposition": "auto",
         "type": "bar",
         "x": [
          "Drama"
         ],
         "xaxis": "x",
         "y": [
          81
         ],
         "yaxis": "y"
        },
        {
         "alignmentgroup": "True",
         "hovertemplate": "Movie Genre=%{x}<br>Number of Movies=%{text}<extra></extra>",
         "legendgroup": "Romance Film",
         "marker": {
          "color": "#EF553B",
          "pattern": {
           "shape": ""
          }
         },
         "name": "Romance Film",
         "offsetgroup": "Romance Film",
         "orientation": "v",
         "showlegend": true,
         "text": [
          41
         ],
         "textposition": "auto",
         "type": "bar",
         "x": [
          "Romance Film"
         ],
         "xaxis": "x",
         "y": [
          41
         ],
         "yaxis": "y"
        },
        {
         "alignmentgroup": "True",
         "hovertemplate": "Movie Genre=%{x}<br>Number of Movies=%{text}<extra></extra>",
         "legendgroup": "Black-and-white",
         "marker": {
          "color": "#00cc96",
          "pattern": {
           "shape": ""
          }
         },
         "name": "Black-and-white",
         "offsetgroup": "Black-and-white",
         "orientation": "v",
         "showlegend": true,
         "text": [
          26
         ],
         "textposition": "auto",
         "type": "bar",
         "x": [
          "Black-and-white"
         ],
         "xaxis": "x",
         "y": [
          26
         ],
         "yaxis": "y"
        },
        {
         "alignmentgroup": "True",
         "hovertemplate": "Movie Genre=%{x}<br>Number of Movies=%{text}<extra></extra>",
         "legendgroup": "Romantic drama",
         "marker": {
          "color": "#ab63fa",
          "pattern": {
           "shape": ""
          }
         },
         "name": "Romantic drama",
         "offsetgroup": "Romantic drama",
         "orientation": "v",
         "showlegend": true,
         "text": [
          26
         ],
         "textposition": "auto",
         "type": "bar",
         "x": [
          "Romantic drama"
         ],
         "xaxis": "x",
         "y": [
          26
         ],
         "yaxis": "y"
        },
        {
         "alignmentgroup": "True",
         "hovertemplate": "Movie Genre=%{x}<br>Number of Movies=%{text}<extra></extra>",
         "legendgroup": "Period piece",
         "marker": {
          "color": "#FFA15A",
          "pattern": {
           "shape": ""
          }
         },
         "name": "Period piece",
         "offsetgroup": "Period piece",
         "orientation": "v",
         "showlegend": true,
         "text": [
          21
         ],
         "textposition": "auto",
         "type": "bar",
         "x": [
          "Period piece"
         ],
         "xaxis": "x",
         "y": [
          21
         ],
         "yaxis": "y"
        },
        {
         "alignmentgroup": "True",
         "hovertemplate": "Movie Genre=%{x}<br>Number of Movies=%{text}<extra></extra>",
         "legendgroup": "Film adaptation",
         "marker": {
          "color": "#19d3f3",
          "pattern": {
           "shape": ""
          }
         },
         "name": "Film adaptation",
         "offsetgroup": "Film adaptation",
         "orientation": "v",
         "showlegend": true,
         "text": [
          20
         ],
         "textposition": "auto",
         "type": "bar",
         "x": [
          "Film adaptation"
         ],
         "xaxis": "x",
         "y": [
          20
         ],
         "yaxis": "y"
        },
        {
         "alignmentgroup": "True",
         "hovertemplate": "Movie Genre=%{x}<br>Number of Movies=%{text}<extra></extra>",
         "legendgroup": "Comedy",
         "marker": {
          "color": "#FF6692",
          "pattern": {
           "shape": ""
          }
         },
         "name": "Comedy",
         "offsetgroup": "Comedy",
         "orientation": "v",
         "showlegend": true,
         "text": [
          15
         ],
         "textposition": "auto",
         "type": "bar",
         "x": [
          "Comedy"
         ],
         "xaxis": "x",
         "y": [
          15
         ],
         "yaxis": "y"
        },
        {
         "alignmentgroup": "True",
         "hovertemplate": "Movie Genre=%{x}<br>Number of Movies=%{text}<extra></extra>",
         "legendgroup": "Biography",
         "marker": {
          "color": "#B6E880",
          "pattern": {
           "shape": ""
          }
         },
         "name": "Biography",
         "offsetgroup": "Biography",
         "orientation": "v",
         "showlegend": true,
         "text": [
          11
         ],
         "textposition": "auto",
         "type": "bar",
         "x": [
          "Biography"
         ],
         "xaxis": "x",
         "y": [
          11
         ],
         "yaxis": "y"
        },
        {
         "alignmentgroup": "True",
         "hovertemplate": "Movie Genre=%{x}<br>Number of Movies=%{text}<extra></extra>",
         "legendgroup": "Romantic comedy",
         "marker": {
          "color": "#FF97FF",
          "pattern": {
           "shape": ""
          }
         },
         "name": "Romantic comedy",
         "offsetgroup": "Romantic comedy",
         "orientation": "v",
         "showlegend": true,
         "text": [
          10
         ],
         "textposition": "auto",
         "type": "bar",
         "x": [
          "Romantic comedy"
         ],
         "xaxis": "x",
         "y": [
          10
         ],
         "yaxis": "y"
        },
        {
         "alignmentgroup": "True",
         "hovertemplate": "Movie Genre=%{x}<br>Number of Movies=%{text}<extra></extra>",
         "legendgroup": "Crime Fiction",
         "marker": {
          "color": "#FECB52",
          "pattern": {
           "shape": ""
          }
         },
         "name": "Crime Fiction",
         "offsetgroup": "Crime Fiction",
         "orientation": "v",
         "showlegend": true,
         "text": [
          8
         ],
         "textposition": "auto",
         "type": "bar",
         "x": [
          "Crime Fiction"
         ],
         "xaxis": "x",
         "y": [
          8
         ],
         "yaxis": "y"
        }
       ],
       "layout": {
        "barmode": "relative",
        "height": 600,
        "legend": {
         "title": {
          "text": "Movie Genre"
         },
         "tracegroupgap": 0
        },
        "template": {
         "data": {
          "bar": [
           {
            "error_x": {
             "color": "#2a3f5f"
            },
            "error_y": {
             "color": "#2a3f5f"
            },
            "marker": {
             "line": {
              "color": "#E5ECF6",
              "width": 0.5
             },
             "pattern": {
              "fillmode": "overlay",
              "size": 10,
              "solidity": 0.2
             }
            },
            "type": "bar"
           }
          ],
          "barpolar": [
           {
            "marker": {
             "line": {
              "color": "#E5ECF6",
              "width": 0.5
             },
             "pattern": {
              "fillmode": "overlay",
              "size": 10,
              "solidity": 0.2
             }
            },
            "type": "barpolar"
           }
          ],
          "carpet": [
           {
            "aaxis": {
             "endlinecolor": "#2a3f5f",
             "gridcolor": "white",
             "linecolor": "white",
             "minorgridcolor": "white",
             "startlinecolor": "#2a3f5f"
            },
            "baxis": {
             "endlinecolor": "#2a3f5f",
             "gridcolor": "white",
             "linecolor": "white",
             "minorgridcolor": "white",
             "startlinecolor": "#2a3f5f"
            },
            "type": "carpet"
           }
          ],
          "choropleth": [
           {
            "colorbar": {
             "outlinewidth": 0,
             "ticks": ""
            },
            "type": "choropleth"
           }
          ],
          "contour": [
           {
            "colorbar": {
             "outlinewidth": 0,
             "ticks": ""
            },
            "colorscale": [
             [
              0,
              "#0d0887"
             ],
             [
              0.1111111111111111,
              "#46039f"
             ],
             [
              0.2222222222222222,
              "#7201a8"
             ],
             [
              0.3333333333333333,
              "#9c179e"
             ],
             [
              0.4444444444444444,
              "#bd3786"
             ],
             [
              0.5555555555555556,
              "#d8576b"
             ],
             [
              0.6666666666666666,
              "#ed7953"
             ],
             [
              0.7777777777777778,
              "#fb9f3a"
             ],
             [
              0.8888888888888888,
              "#fdca26"
             ],
             [
              1,
              "#f0f921"
             ]
            ],
            "type": "contour"
           }
          ],
          "contourcarpet": [
           {
            "colorbar": {
             "outlinewidth": 0,
             "ticks": ""
            },
            "type": "contourcarpet"
           }
          ],
          "heatmap": [
           {
            "colorbar": {
             "outlinewidth": 0,
             "ticks": ""
            },
            "colorscale": [
             [
              0,
              "#0d0887"
             ],
             [
              0.1111111111111111,
              "#46039f"
             ],
             [
              0.2222222222222222,
              "#7201a8"
             ],
             [
              0.3333333333333333,
              "#9c179e"
             ],
             [
              0.4444444444444444,
              "#bd3786"
             ],
             [
              0.5555555555555556,
              "#d8576b"
             ],
             [
              0.6666666666666666,
              "#ed7953"
             ],
             [
              0.7777777777777778,
              "#fb9f3a"
             ],
             [
              0.8888888888888888,
              "#fdca26"
             ],
             [
              1,
              "#f0f921"
             ]
            ],
            "type": "heatmap"
           }
          ],
          "heatmapgl": [
           {
            "colorbar": {
             "outlinewidth": 0,
             "ticks": ""
            },
            "colorscale": [
             [
              0,
              "#0d0887"
             ],
             [
              0.1111111111111111,
              "#46039f"
             ],
             [
              0.2222222222222222,
              "#7201a8"
             ],
             [
              0.3333333333333333,
              "#9c179e"
             ],
             [
              0.4444444444444444,
              "#bd3786"
             ],
             [
              0.5555555555555556,
              "#d8576b"
             ],
             [
              0.6666666666666666,
              "#ed7953"
             ],
             [
              0.7777777777777778,
              "#fb9f3a"
             ],
             [
              0.8888888888888888,
              "#fdca26"
             ],
             [
              1,
              "#f0f921"
             ]
            ],
            "type": "heatmapgl"
           }
          ],
          "histogram": [
           {
            "marker": {
             "pattern": {
              "fillmode": "overlay",
              "size": 10,
              "solidity": 0.2
             }
            },
            "type": "histogram"
           }
          ],
          "histogram2d": [
           {
            "colorbar": {
             "outlinewidth": 0,
             "ticks": ""
            },
            "colorscale": [
             [
              0,
              "#0d0887"
             ],
             [
              0.1111111111111111,
              "#46039f"
             ],
             [
              0.2222222222222222,
              "#7201a8"
             ],
             [
              0.3333333333333333,
              "#9c179e"
             ],
             [
              0.4444444444444444,
              "#bd3786"
             ],
             [
              0.5555555555555556,
              "#d8576b"
             ],
             [
              0.6666666666666666,
              "#ed7953"
             ],
             [
              0.7777777777777778,
              "#fb9f3a"
             ],
             [
              0.8888888888888888,
              "#fdca26"
             ],
             [
              1,
              "#f0f921"
             ]
            ],
            "type": "histogram2d"
           }
          ],
          "histogram2dcontour": [
           {
            "colorbar": {
             "outlinewidth": 0,
             "ticks": ""
            },
            "colorscale": [
             [
              0,
              "#0d0887"
             ],
             [
              0.1111111111111111,
              "#46039f"
             ],
             [
              0.2222222222222222,
              "#7201a8"
             ],
             [
              0.3333333333333333,
              "#9c179e"
             ],
             [
              0.4444444444444444,
              "#bd3786"
             ],
             [
              0.5555555555555556,
              "#d8576b"
             ],
             [
              0.6666666666666666,
              "#ed7953"
             ],
             [
              0.7777777777777778,
              "#fb9f3a"
             ],
             [
              0.8888888888888888,
              "#fdca26"
             ],
             [
              1,
              "#f0f921"
             ]
            ],
            "type": "histogram2dcontour"
           }
          ],
          "mesh3d": [
           {
            "colorbar": {
             "outlinewidth": 0,
             "ticks": ""
            },
            "type": "mesh3d"
           }
          ],
          "parcoords": [
           {
            "line": {
             "colorbar": {
              "outlinewidth": 0,
              "ticks": ""
             }
            },
            "type": "parcoords"
           }
          ],
          "pie": [
           {
            "automargin": true,
            "type": "pie"
           }
          ],
          "scatter": [
           {
            "fillpattern": {
             "fillmode": "overlay",
             "size": 10,
             "solidity": 0.2
            },
            "type": "scatter"
           }
          ],
          "scatter3d": [
           {
            "line": {
             "colorbar": {
              "outlinewidth": 0,
              "ticks": ""
             }
            },
            "marker": {
             "colorbar": {
              "outlinewidth": 0,
              "ticks": ""
             }
            },
            "type": "scatter3d"
           }
          ],
          "scattercarpet": [
           {
            "marker": {
             "colorbar": {
              "outlinewidth": 0,
              "ticks": ""
             }
            },
            "type": "scattercarpet"
           }
          ],
          "scattergeo": [
           {
            "marker": {
             "colorbar": {
              "outlinewidth": 0,
              "ticks": ""
             }
            },
            "type": "scattergeo"
           }
          ],
          "scattergl": [
           {
            "marker": {
             "colorbar": {
              "outlinewidth": 0,
              "ticks": ""
             }
            },
            "type": "scattergl"
           }
          ],
          "scattermapbox": [
           {
            "marker": {
             "colorbar": {
              "outlinewidth": 0,
              "ticks": ""
             }
            },
            "type": "scattermapbox"
           }
          ],
          "scatterpolar": [
           {
            "marker": {
             "colorbar": {
              "outlinewidth": 0,
              "ticks": ""
             }
            },
            "type": "scatterpolar"
           }
          ],
          "scatterpolargl": [
           {
            "marker": {
             "colorbar": {
              "outlinewidth": 0,
              "ticks": ""
             }
            },
            "type": "scatterpolargl"
           }
          ],
          "scatterternary": [
           {
            "marker": {
             "colorbar": {
              "outlinewidth": 0,
              "ticks": ""
             }
            },
            "type": "scatterternary"
           }
          ],
          "surface": [
           {
            "colorbar": {
             "outlinewidth": 0,
             "ticks": ""
            },
            "colorscale": [
             [
              0,
              "#0d0887"
             ],
             [
              0.1111111111111111,
              "#46039f"
             ],
             [
              0.2222222222222222,
              "#7201a8"
             ],
             [
              0.3333333333333333,
              "#9c179e"
             ],
             [
              0.4444444444444444,
              "#bd3786"
             ],
             [
              0.5555555555555556,
              "#d8576b"
             ],
             [
              0.6666666666666666,
              "#ed7953"
             ],
             [
              0.7777777777777778,
              "#fb9f3a"
             ],
             [
              0.8888888888888888,
              "#fdca26"
             ],
             [
              1,
              "#f0f921"
             ]
            ],
            "type": "surface"
           }
          ],
          "table": [
           {
            "cells": {
             "fill": {
              "color": "#EBF0F8"
             },
             "line": {
              "color": "white"
             }
            },
            "header": {
             "fill": {
              "color": "#C8D4E3"
             },
             "line": {
              "color": "white"
             }
            },
            "type": "table"
           }
          ]
         },
         "layout": {
          "annotationdefaults": {
           "arrowcolor": "#2a3f5f",
           "arrowhead": 0,
           "arrowwidth": 1
          },
          "autotypenumbers": "strict",
          "coloraxis": {
           "colorbar": {
            "outlinewidth": 0,
            "ticks": ""
           }
          },
          "colorscale": {
           "diverging": [
            [
             0,
             "#8e0152"
            ],
            [
             0.1,
             "#c51b7d"
            ],
            [
             0.2,
             "#de77ae"
            ],
            [
             0.3,
             "#f1b6da"
            ],
            [
             0.4,
             "#fde0ef"
            ],
            [
             0.5,
             "#f7f7f7"
            ],
            [
             0.6,
             "#e6f5d0"
            ],
            [
             0.7,
             "#b8e186"
            ],
            [
             0.8,
             "#7fbc41"
            ],
            [
             0.9,
             "#4d9221"
            ],
            [
             1,
             "#276419"
            ]
           ],
           "sequential": [
            [
             0,
             "#0d0887"
            ],
            [
             0.1111111111111111,
             "#46039f"
            ],
            [
             0.2222222222222222,
             "#7201a8"
            ],
            [
             0.3333333333333333,
             "#9c179e"
            ],
            [
             0.4444444444444444,
             "#bd3786"
            ],
            [
             0.5555555555555556,
             "#d8576b"
            ],
            [
             0.6666666666666666,
             "#ed7953"
            ],
            [
             0.7777777777777778,
             "#fb9f3a"
            ],
            [
             0.8888888888888888,
             "#fdca26"
            ],
            [
             1,
             "#f0f921"
            ]
           ],
           "sequentialminus": [
            [
             0,
             "#0d0887"
            ],
            [
             0.1111111111111111,
             "#46039f"
            ],
            [
             0.2222222222222222,
             "#7201a8"
            ],
            [
             0.3333333333333333,
             "#9c179e"
            ],
            [
             0.4444444444444444,
             "#bd3786"
            ],
            [
             0.5555555555555556,
             "#d8576b"
            ],
            [
             0.6666666666666666,
             "#ed7953"
            ],
            [
             0.7777777777777778,
             "#fb9f3a"
            ],
            [
             0.8888888888888888,
             "#fdca26"
            ],
            [
             1,
             "#f0f921"
            ]
           ]
          },
          "colorway": [
           "#636efa",
           "#EF553B",
           "#00cc96",
           "#ab63fa",
           "#FFA15A",
           "#19d3f3",
           "#FF6692",
           "#B6E880",
           "#FF97FF",
           "#FECB52"
          ],
          "font": {
           "color": "#2a3f5f"
          },
          "geo": {
           "bgcolor": "white",
           "lakecolor": "white",
           "landcolor": "#E5ECF6",
           "showlakes": true,
           "showland": true,
           "subunitcolor": "white"
          },
          "hoverlabel": {
           "align": "left"
          },
          "hovermode": "closest",
          "mapbox": {
           "style": "light"
          },
          "paper_bgcolor": "white",
          "plot_bgcolor": "#E5ECF6",
          "polar": {
           "angularaxis": {
            "gridcolor": "white",
            "linecolor": "white",
            "ticks": ""
           },
           "bgcolor": "#E5ECF6",
           "radialaxis": {
            "gridcolor": "white",
            "linecolor": "white",
            "ticks": ""
           }
          },
          "scene": {
           "xaxis": {
            "backgroundcolor": "#E5ECF6",
            "gridcolor": "white",
            "gridwidth": 2,
            "linecolor": "white",
            "showbackground": true,
            "ticks": "",
            "zerolinecolor": "white"
           },
           "yaxis": {
            "backgroundcolor": "#E5ECF6",
            "gridcolor": "white",
            "gridwidth": 2,
            "linecolor": "white",
            "showbackground": true,
            "ticks": "",
            "zerolinecolor": "white"
           },
           "zaxis": {
            "backgroundcolor": "#E5ECF6",
            "gridcolor": "white",
            "gridwidth": 2,
            "linecolor": "white",
            "showbackground": true,
            "ticks": "",
            "zerolinecolor": "white"
           }
          },
          "shapedefaults": {
           "line": {
            "color": "#2a3f5f"
           }
          },
          "ternary": {
           "aaxis": {
            "gridcolor": "white",
            "linecolor": "white",
            "ticks": ""
           },
           "baxis": {
            "gridcolor": "white",
            "linecolor": "white",
            "ticks": ""
           },
           "bgcolor": "#E5ECF6",
           "caxis": {
            "gridcolor": "white",
            "linecolor": "white",
            "ticks": ""
           }
          },
          "title": {
           "x": 0.05
          },
          "xaxis": {
           "automargin": true,
           "gridcolor": "white",
           "linecolor": "white",
           "ticks": "",
           "title": {
            "standoff": 15
           },
           "zerolinecolor": "white",
           "zerolinewidth": 2
          },
          "yaxis": {
           "automargin": true,
           "gridcolor": "white",
           "linecolor": "white",
           "ticks": "",
           "title": {
            "standoff": 15
           },
           "zerolinecolor": "white",
           "zerolinewidth": 2
          }
         }
        },
        "title": {
         "text": "Top 10 Genres in Oscar-Winning Movies"
        },
        "width": 800,
        "xaxis": {
         "anchor": "y",
         "categoryarray": [
          "Drama",
          "Romance Film",
          "Black-and-white",
          "Romantic drama",
          "Period piece",
          "Film adaptation",
          "Comedy",
          "Biography",
          "Romantic comedy",
          "Crime Fiction"
         ],
         "categoryorder": "array",
         "domain": [
          0,
          1
         ],
         "tickangle": 45,
         "title": {
          "text": "Movie Genre"
         }
        },
        "yaxis": {
         "anchor": "x",
         "domain": [
          0,
          1
         ],
         "title": {
          "text": "Number of Movies"
         }
        }
       }
      }
     },
     "metadata": {},
     "output_type": "display_data"
    }
   ],
   "source": [
    "genres_data = oscar_actress_info[['Movie genres']].dropna()\n",
    "genres_data = genres_data.assign(Movie_genres_split=genres_data['Movie genres'].str.split(', ')).explode('Movie_genres_split')\n",
    "\n",
    "genre_counts = genres_data['Movie_genres_split'].value_counts().reset_index()\n",
    "genre_counts.columns = ['Genre', 'Count']\n",
    "\n",
    "\n",
    "fig = px.bar(\n",
    "    genre_counts.head(10), \n",
    "    x='Genre',\n",
    "    y='Count',\n",
    "    title='Top 10 Genres in Oscar-Winning Movies',\n",
    "    labels={'Genre': 'Movie Genre', 'Count': 'Number of Movies'},\n",
    "    text='Count',\n",
    "    color='Genre'\n",
    ")\n",
    "\n",
    "# Update layout for better readability\n",
    "fig.update_layout(\n",
    "    xaxis=dict(title='Movie Genre', tickangle=45),\n",
    "    yaxis=dict(title='Number of Movies'),\n",
    "    width=800,\n",
    "    height=600 \n",
    ")\n",
    "\n",
    "\n",
    "fig.show()"
   ]
  },
  {
   "cell_type": "code",
   "execution_count": 127,
   "metadata": {},
   "outputs": [
    {
     "name": "stderr",
     "output_type": "stream",
     "text": [
      "/var/folders/8_/9rv7b7fd60g0_ghqkjccmhkc0000gn/T/ipykernel_13710/2933778532.py:20: DeprecationWarning:\n",
      "\n",
      "DataFrameGroupBy.apply operated on the grouping columns. This behavior is deprecated, and in a future version of pandas the grouping columns will be excluded from the operation. Either pass `include_groups=False` to exclude the groupings or explicitly select the grouping columns after groupby to silence this warning.\n",
      "\n"
     ]
    },
    {
     "data": {
      "application/vnd.plotly.v1+json": {
       "config": {
        "plotlyServerURL": "https://plot.ly"
       },
       "data": [
        {
         "alignmentgroup": "True",
         "hovertemplate": "Actress=%{x}<br>Movies Before First Oscar=%{marker.color}<extra></extra>",
         "legendgroup": "",
         "marker": {
          "color": [
           52,
           47,
           42,
           40,
           33,
           29,
           24,
           23,
           22,
           22,
           21,
           20,
           19,
           19,
           18,
           18,
           18,
           17,
           17,
           17,
           17,
           15,
           15,
           14,
           14,
           14,
           14,
           14,
           14,
           13,
           12,
           12,
           12,
           11,
           11,
           9,
           8,
           8,
           8,
           7,
           7,
           6,
           6,
           5,
           5,
           5,
           4,
           4,
           4,
           4,
           3,
           3,
           3,
           3,
           3,
           3,
           1,
           1,
           1,
           1,
           1,
           1,
           1,
           1,
           1,
           1,
           0,
           0,
           0,
           0,
           0
          ],
          "coloraxis": "coloraxis",
          "pattern": {
           "shape": ""
          }
         },
         "name": "",
         "offsetgroup": "",
         "orientation": "v",
         "showlegend": false,
         "text": [
          52,
          47,
          42,
          40,
          33,
          29,
          24,
          23,
          22,
          22,
          21,
          20,
          19,
          19,
          18,
          18,
          18,
          17,
          17,
          17,
          17,
          15,
          15,
          14,
          14,
          14,
          14,
          14,
          14,
          13,
          12,
          12,
          12,
          11,
          11,
          9,
          8,
          8,
          8,
          7,
          7,
          6,
          6,
          5,
          5,
          5,
          4,
          4,
          4,
          4,
          3,
          3,
          3,
          3,
          3,
          3,
          1,
          1,
          1,
          1,
          1,
          1,
          1,
          1,
          1,
          1,
          0,
          0,
          0,
          0,
          0
         ],
         "textposition": "auto",
         "type": "bar",
         "x": [
          "Joan Crawford",
          "Mary Pickford",
          "Maggie Smith",
          "Helen Mirren",
          "Loretta Young",
          "Sandra Bullock",
          "Ginger Rogers",
          "Jane Wyman",
          "Susan Sarandon",
          "Natalie Portman",
          "Kate Winslet",
          "Susan Hayward",
          "Elizabeth Taylor",
          "Julia Roberts",
          "Halle Berry",
          "Charlize Theron",
          "Claudette Colbert",
          "Norma Shearer",
          "Helen Hunt",
          "Reese Witherspoon",
          "Jessica Tandy",
          "Jodie Foster",
          "Bette Davis",
          "Shirley MacLaine",
          "Jessica Lange",
          "Gwyneth Paltrow",
          "Sophia Loren",
          "Jane Fonda",
          "Olivia de Havilland",
          "Cher",
          "Nicole Kidman",
          "Ingrid Bergman",
          "Patricia Neal",
          "Geraldine Page",
          "Faye Dunaway",
          "Frances McDormand",
          "Holly Hunter",
          "Sally Field",
          "Marion Cotillard",
          "Diane Keaton",
          "Marie Dressler",
          "Simone Signoret",
          "Sissy Spacek",
          "Jennifer Lawrence",
          "Kathy Bates",
          "Joan Fontaine",
          "Meryl Streep",
          "Vivien Leigh",
          "Janet Gaynor",
          "Emma Thompson",
          "Liza Minnelli",
          "Ellen Burstyn",
          "Grace Kelly",
          "Greer Garson",
          "Anne Bancroft",
          "Hilary Swank",
          "Louise Fletcher",
          "Glenda Jackson",
          "Helen Hayes",
          "Luise Rainer",
          "Jennifer Jones",
          "Joanne Woodward",
          "Judy Holliday",
          "Julie Andrews",
          "Katharine Hepburn",
          "Anna Magnani",
          "Shirley Booth",
          "Julie Christie",
          "Marlee Matlin",
          "Barbra Streisand",
          "Audrey Hepburn"
         ],
         "xaxis": "x",
         "y": [
          52,
          47,
          42,
          40,
          33,
          29,
          24,
          23,
          22,
          22,
          21,
          20,
          19,
          19,
          18,
          18,
          18,
          17,
          17,
          17,
          17,
          15,
          15,
          14,
          14,
          14,
          14,
          14,
          14,
          13,
          12,
          12,
          12,
          11,
          11,
          9,
          8,
          8,
          8,
          7,
          7,
          6,
          6,
          5,
          5,
          5,
          4,
          4,
          4,
          4,
          3,
          3,
          3,
          3,
          3,
          3,
          1,
          1,
          1,
          1,
          1,
          1,
          1,
          1,
          1,
          1,
          0,
          0,
          0,
          0,
          0
         ],
         "yaxis": "y"
        }
       ],
       "layout": {
        "barmode": "relative",
        "coloraxis": {
         "colorbar": {
          "title": {
           "text": "Movies Before First Oscar"
          }
         },
         "colorscale": [
          [
           0,
           "rgb(247,251,255)"
          ],
          [
           0.125,
           "rgb(222,235,247)"
          ],
          [
           0.25,
           "rgb(198,219,239)"
          ],
          [
           0.375,
           "rgb(158,202,225)"
          ],
          [
           0.5,
           "rgb(107,174,214)"
          ],
          [
           0.625,
           "rgb(66,146,198)"
          ],
          [
           0.75,
           "rgb(33,113,181)"
          ],
          [
           0.875,
           "rgb(8,81,156)"
          ],
          [
           1,
           "rgb(8,48,107)"
          ]
         ]
        },
        "height": 600,
        "legend": {
         "tracegroupgap": 0
        },
        "template": {
         "data": {
          "bar": [
           {
            "error_x": {
             "color": "#2a3f5f"
            },
            "error_y": {
             "color": "#2a3f5f"
            },
            "marker": {
             "line": {
              "color": "#E5ECF6",
              "width": 0.5
             },
             "pattern": {
              "fillmode": "overlay",
              "size": 10,
              "solidity": 0.2
             }
            },
            "type": "bar"
           }
          ],
          "barpolar": [
           {
            "marker": {
             "line": {
              "color": "#E5ECF6",
              "width": 0.5
             },
             "pattern": {
              "fillmode": "overlay",
              "size": 10,
              "solidity": 0.2
             }
            },
            "type": "barpolar"
           }
          ],
          "carpet": [
           {
            "aaxis": {
             "endlinecolor": "#2a3f5f",
             "gridcolor": "white",
             "linecolor": "white",
             "minorgridcolor": "white",
             "startlinecolor": "#2a3f5f"
            },
            "baxis": {
             "endlinecolor": "#2a3f5f",
             "gridcolor": "white",
             "linecolor": "white",
             "minorgridcolor": "white",
             "startlinecolor": "#2a3f5f"
            },
            "type": "carpet"
           }
          ],
          "choropleth": [
           {
            "colorbar": {
             "outlinewidth": 0,
             "ticks": ""
            },
            "type": "choropleth"
           }
          ],
          "contour": [
           {
            "colorbar": {
             "outlinewidth": 0,
             "ticks": ""
            },
            "colorscale": [
             [
              0,
              "#0d0887"
             ],
             [
              0.1111111111111111,
              "#46039f"
             ],
             [
              0.2222222222222222,
              "#7201a8"
             ],
             [
              0.3333333333333333,
              "#9c179e"
             ],
             [
              0.4444444444444444,
              "#bd3786"
             ],
             [
              0.5555555555555556,
              "#d8576b"
             ],
             [
              0.6666666666666666,
              "#ed7953"
             ],
             [
              0.7777777777777778,
              "#fb9f3a"
             ],
             [
              0.8888888888888888,
              "#fdca26"
             ],
             [
              1,
              "#f0f921"
             ]
            ],
            "type": "contour"
           }
          ],
          "contourcarpet": [
           {
            "colorbar": {
             "outlinewidth": 0,
             "ticks": ""
            },
            "type": "contourcarpet"
           }
          ],
          "heatmap": [
           {
            "colorbar": {
             "outlinewidth": 0,
             "ticks": ""
            },
            "colorscale": [
             [
              0,
              "#0d0887"
             ],
             [
              0.1111111111111111,
              "#46039f"
             ],
             [
              0.2222222222222222,
              "#7201a8"
             ],
             [
              0.3333333333333333,
              "#9c179e"
             ],
             [
              0.4444444444444444,
              "#bd3786"
             ],
             [
              0.5555555555555556,
              "#d8576b"
             ],
             [
              0.6666666666666666,
              "#ed7953"
             ],
             [
              0.7777777777777778,
              "#fb9f3a"
             ],
             [
              0.8888888888888888,
              "#fdca26"
             ],
             [
              1,
              "#f0f921"
             ]
            ],
            "type": "heatmap"
           }
          ],
          "heatmapgl": [
           {
            "colorbar": {
             "outlinewidth": 0,
             "ticks": ""
            },
            "colorscale": [
             [
              0,
              "#0d0887"
             ],
             [
              0.1111111111111111,
              "#46039f"
             ],
             [
              0.2222222222222222,
              "#7201a8"
             ],
             [
              0.3333333333333333,
              "#9c179e"
             ],
             [
              0.4444444444444444,
              "#bd3786"
             ],
             [
              0.5555555555555556,
              "#d8576b"
             ],
             [
              0.6666666666666666,
              "#ed7953"
             ],
             [
              0.7777777777777778,
              "#fb9f3a"
             ],
             [
              0.8888888888888888,
              "#fdca26"
             ],
             [
              1,
              "#f0f921"
             ]
            ],
            "type": "heatmapgl"
           }
          ],
          "histogram": [
           {
            "marker": {
             "pattern": {
              "fillmode": "overlay",
              "size": 10,
              "solidity": 0.2
             }
            },
            "type": "histogram"
           }
          ],
          "histogram2d": [
           {
            "colorbar": {
             "outlinewidth": 0,
             "ticks": ""
            },
            "colorscale": [
             [
              0,
              "#0d0887"
             ],
             [
              0.1111111111111111,
              "#46039f"
             ],
             [
              0.2222222222222222,
              "#7201a8"
             ],
             [
              0.3333333333333333,
              "#9c179e"
             ],
             [
              0.4444444444444444,
              "#bd3786"
             ],
             [
              0.5555555555555556,
              "#d8576b"
             ],
             [
              0.6666666666666666,
              "#ed7953"
             ],
             [
              0.7777777777777778,
              "#fb9f3a"
             ],
             [
              0.8888888888888888,
              "#fdca26"
             ],
             [
              1,
              "#f0f921"
             ]
            ],
            "type": "histogram2d"
           }
          ],
          "histogram2dcontour": [
           {
            "colorbar": {
             "outlinewidth": 0,
             "ticks": ""
            },
            "colorscale": [
             [
              0,
              "#0d0887"
             ],
             [
              0.1111111111111111,
              "#46039f"
             ],
             [
              0.2222222222222222,
              "#7201a8"
             ],
             [
              0.3333333333333333,
              "#9c179e"
             ],
             [
              0.4444444444444444,
              "#bd3786"
             ],
             [
              0.5555555555555556,
              "#d8576b"
             ],
             [
              0.6666666666666666,
              "#ed7953"
             ],
             [
              0.7777777777777778,
              "#fb9f3a"
             ],
             [
              0.8888888888888888,
              "#fdca26"
             ],
             [
              1,
              "#f0f921"
             ]
            ],
            "type": "histogram2dcontour"
           }
          ],
          "mesh3d": [
           {
            "colorbar": {
             "outlinewidth": 0,
             "ticks": ""
            },
            "type": "mesh3d"
           }
          ],
          "parcoords": [
           {
            "line": {
             "colorbar": {
              "outlinewidth": 0,
              "ticks": ""
             }
            },
            "type": "parcoords"
           }
          ],
          "pie": [
           {
            "automargin": true,
            "type": "pie"
           }
          ],
          "scatter": [
           {
            "fillpattern": {
             "fillmode": "overlay",
             "size": 10,
             "solidity": 0.2
            },
            "type": "scatter"
           }
          ],
          "scatter3d": [
           {
            "line": {
             "colorbar": {
              "outlinewidth": 0,
              "ticks": ""
             }
            },
            "marker": {
             "colorbar": {
              "outlinewidth": 0,
              "ticks": ""
             }
            },
            "type": "scatter3d"
           }
          ],
          "scattercarpet": [
           {
            "marker": {
             "colorbar": {
              "outlinewidth": 0,
              "ticks": ""
             }
            },
            "type": "scattercarpet"
           }
          ],
          "scattergeo": [
           {
            "marker": {
             "colorbar": {
              "outlinewidth": 0,
              "ticks": ""
             }
            },
            "type": "scattergeo"
           }
          ],
          "scattergl": [
           {
            "marker": {
             "colorbar": {
              "outlinewidth": 0,
              "ticks": ""
             }
            },
            "type": "scattergl"
           }
          ],
          "scattermapbox": [
           {
            "marker": {
             "colorbar": {
              "outlinewidth": 0,
              "ticks": ""
             }
            },
            "type": "scattermapbox"
           }
          ],
          "scatterpolar": [
           {
            "marker": {
             "colorbar": {
              "outlinewidth": 0,
              "ticks": ""
             }
            },
            "type": "scatterpolar"
           }
          ],
          "scatterpolargl": [
           {
            "marker": {
             "colorbar": {
              "outlinewidth": 0,
              "ticks": ""
             }
            },
            "type": "scatterpolargl"
           }
          ],
          "scatterternary": [
           {
            "marker": {
             "colorbar": {
              "outlinewidth": 0,
              "ticks": ""
             }
            },
            "type": "scatterternary"
           }
          ],
          "surface": [
           {
            "colorbar": {
             "outlinewidth": 0,
             "ticks": ""
            },
            "colorscale": [
             [
              0,
              "#0d0887"
             ],
             [
              0.1111111111111111,
              "#46039f"
             ],
             [
              0.2222222222222222,
              "#7201a8"
             ],
             [
              0.3333333333333333,
              "#9c179e"
             ],
             [
              0.4444444444444444,
              "#bd3786"
             ],
             [
              0.5555555555555556,
              "#d8576b"
             ],
             [
              0.6666666666666666,
              "#ed7953"
             ],
             [
              0.7777777777777778,
              "#fb9f3a"
             ],
             [
              0.8888888888888888,
              "#fdca26"
             ],
             [
              1,
              "#f0f921"
             ]
            ],
            "type": "surface"
           }
          ],
          "table": [
           {
            "cells": {
             "fill": {
              "color": "#EBF0F8"
             },
             "line": {
              "color": "white"
             }
            },
            "header": {
             "fill": {
              "color": "#C8D4E3"
             },
             "line": {
              "color": "white"
             }
            },
            "type": "table"
           }
          ]
         },
         "layout": {
          "annotationdefaults": {
           "arrowcolor": "#2a3f5f",
           "arrowhead": 0,
           "arrowwidth": 1
          },
          "autotypenumbers": "strict",
          "coloraxis": {
           "colorbar": {
            "outlinewidth": 0,
            "ticks": ""
           }
          },
          "colorscale": {
           "diverging": [
            [
             0,
             "#8e0152"
            ],
            [
             0.1,
             "#c51b7d"
            ],
            [
             0.2,
             "#de77ae"
            ],
            [
             0.3,
             "#f1b6da"
            ],
            [
             0.4,
             "#fde0ef"
            ],
            [
             0.5,
             "#f7f7f7"
            ],
            [
             0.6,
             "#e6f5d0"
            ],
            [
             0.7,
             "#b8e186"
            ],
            [
             0.8,
             "#7fbc41"
            ],
            [
             0.9,
             "#4d9221"
            ],
            [
             1,
             "#276419"
            ]
           ],
           "sequential": [
            [
             0,
             "#0d0887"
            ],
            [
             0.1111111111111111,
             "#46039f"
            ],
            [
             0.2222222222222222,
             "#7201a8"
            ],
            [
             0.3333333333333333,
             "#9c179e"
            ],
            [
             0.4444444444444444,
             "#bd3786"
            ],
            [
             0.5555555555555556,
             "#d8576b"
            ],
            [
             0.6666666666666666,
             "#ed7953"
            ],
            [
             0.7777777777777778,
             "#fb9f3a"
            ],
            [
             0.8888888888888888,
             "#fdca26"
            ],
            [
             1,
             "#f0f921"
            ]
           ],
           "sequentialminus": [
            [
             0,
             "#0d0887"
            ],
            [
             0.1111111111111111,
             "#46039f"
            ],
            [
             0.2222222222222222,
             "#7201a8"
            ],
            [
             0.3333333333333333,
             "#9c179e"
            ],
            [
             0.4444444444444444,
             "#bd3786"
            ],
            [
             0.5555555555555556,
             "#d8576b"
            ],
            [
             0.6666666666666666,
             "#ed7953"
            ],
            [
             0.7777777777777778,
             "#fb9f3a"
            ],
            [
             0.8888888888888888,
             "#fdca26"
            ],
            [
             1,
             "#f0f921"
            ]
           ]
          },
          "colorway": [
           "#636efa",
           "#EF553B",
           "#00cc96",
           "#ab63fa",
           "#FFA15A",
           "#19d3f3",
           "#FF6692",
           "#B6E880",
           "#FF97FF",
           "#FECB52"
          ],
          "font": {
           "color": "#2a3f5f"
          },
          "geo": {
           "bgcolor": "white",
           "lakecolor": "white",
           "landcolor": "#E5ECF6",
           "showlakes": true,
           "showland": true,
           "subunitcolor": "white"
          },
          "hoverlabel": {
           "align": "left"
          },
          "hovermode": "closest",
          "mapbox": {
           "style": "light"
          },
          "paper_bgcolor": "white",
          "plot_bgcolor": "#E5ECF6",
          "polar": {
           "angularaxis": {
            "gridcolor": "white",
            "linecolor": "white",
            "ticks": ""
           },
           "bgcolor": "#E5ECF6",
           "radialaxis": {
            "gridcolor": "white",
            "linecolor": "white",
            "ticks": ""
           }
          },
          "scene": {
           "xaxis": {
            "backgroundcolor": "#E5ECF6",
            "gridcolor": "white",
            "gridwidth": 2,
            "linecolor": "white",
            "showbackground": true,
            "ticks": "",
            "zerolinecolor": "white"
           },
           "yaxis": {
            "backgroundcolor": "#E5ECF6",
            "gridcolor": "white",
            "gridwidth": 2,
            "linecolor": "white",
            "showbackground": true,
            "ticks": "",
            "zerolinecolor": "white"
           },
           "zaxis": {
            "backgroundcolor": "#E5ECF6",
            "gridcolor": "white",
            "gridwidth": 2,
            "linecolor": "white",
            "showbackground": true,
            "ticks": "",
            "zerolinecolor": "white"
           }
          },
          "shapedefaults": {
           "line": {
            "color": "#2a3f5f"
           }
          },
          "ternary": {
           "aaxis": {
            "gridcolor": "white",
            "linecolor": "white",
            "ticks": ""
           },
           "baxis": {
            "gridcolor": "white",
            "linecolor": "white",
            "ticks": ""
           },
           "bgcolor": "#E5ECF6",
           "caxis": {
            "gridcolor": "white",
            "linecolor": "white",
            "ticks": ""
           }
          },
          "title": {
           "x": 0.05
          },
          "xaxis": {
           "automargin": true,
           "gridcolor": "white",
           "linecolor": "white",
           "ticks": "",
           "title": {
            "standoff": 15
           },
           "zerolinecolor": "white",
           "zerolinewidth": 2
          },
          "yaxis": {
           "automargin": true,
           "gridcolor": "white",
           "linecolor": "white",
           "ticks": "",
           "title": {
            "standoff": 15
           },
           "zerolinecolor": "white",
           "zerolinewidth": 2
          }
         }
        },
        "title": {
         "text": "Number of Movies Before First Oscar per Actress"
        },
        "width": 1000,
        "xaxis": {
         "anchor": "y",
         "domain": [
          0,
          1
         ],
         "tickangle": 45,
         "title": {
          "text": "Actress"
         }
        },
        "yaxis": {
         "anchor": "x",
         "domain": [
          0,
          1
         ],
         "title": {
          "text": "Number of Movies"
         }
        }
       }
      }
     },
     "metadata": {},
     "output_type": "display_data"
    }
   ],
   "source": [
    "# Ensure the date column is in datetime format for comparison\n",
    "oscar_actress_movies_all['Movie release date'] = pd.to_datetime(oscar_actress_movies_all['Movie release date'], errors='coerce')\n",
    "\n",
    "# Filter to only valid rows with release dates\n",
    "oscar_movies_filtered = oscar_actress_movies_all.dropna(subset=['Movie release date'])\n",
    "\n",
    "\n",
    "def count_movies_before_first_oscar(group):\n",
    "    # Sort movies by release date\n",
    "    group = group.sort_values(by='Movie release date')\n",
    "    # Find the first Oscar-winning movie\n",
    "    first_oscar_date = group.loc[group['Best Actress Reward'], 'Movie release date'].min()\n",
    "    # Count movies before the first Oscar-winning movie\n",
    "    if pd.notnull(first_oscar_date):\n",
    "        return group[group['Movie release date'] < first_oscar_date].shape[0]\n",
    "    else:\n",
    "        return group.shape[0]  # If no Oscar win, count all movies\n",
    "\n",
    "\n",
    "movies_before_first_oscar = oscar_movies_filtered.groupby('Actor name').apply(count_movies_before_first_oscar).reset_index()\n",
    "movies_before_first_oscar.columns = ['Actor name', 'Movies Before First Oscar']\n",
    "\n",
    "\n",
    "fig = px.bar(\n",
    "    movies_before_first_oscar.sort_values('Movies Before First Oscar', ascending=False),\n",
    "    x='Actor name',\n",
    "    y='Movies Before First Oscar',\n",
    "    title='Number of Movies Before First Oscar per Actress',\n",
    "    labels={'Actor name': 'Actress', 'Movies Before First Oscar': 'Movies Before First Oscar'},\n",
    "    text='Movies Before First Oscar',\n",
    "    color='Movies Before First Oscar',\n",
    "    color_continuous_scale='Blues'\n",
    ")\n",
    "\n",
    "# Update layout for better readability\n",
    "fig.update_layout(\n",
    "    xaxis=dict(title='Actress', tickangle=45),\n",
    "    yaxis=dict(title='Number of Movies'),\n",
    "    width=1000,  # Adjust figure width\n",
    "    height=600  # Adjust figure height\n",
    ")\n",
    "\n",
    "# Uncomment this line to display the graph\n",
    "fig.show()"
   ]
  },
  {
   "cell_type": "code",
   "execution_count": null,
   "metadata": {},
   "outputs": [],
   "source": []
  }
 ],
 "metadata": {
  "kernelspec": {
   "display_name": "Python 3",
   "language": "python",
   "name": "python3"
  },
  "language_info": {
   "codemirror_mode": {
    "name": "ipython",
    "version": 3
   },
   "file_extension": ".py",
   "mimetype": "text/x-python",
   "name": "python",
   "nbconvert_exporter": "python",
   "pygments_lexer": "ipython3",
   "version": "3.13.0"
  }
 },
 "nbformat": 4,
 "nbformat_minor": 2
}
