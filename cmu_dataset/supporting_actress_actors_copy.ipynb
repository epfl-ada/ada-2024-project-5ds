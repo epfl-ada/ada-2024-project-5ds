{
 "cells": [
  {
   "cell_type": "code",
   "execution_count": 295,
   "metadata": {},
   "outputs": [
    {
     "name": "stdout",
     "output_type": "stream",
     "text": [
      "The autoreload extension is already loaded. To reload it, use:\n",
      "  %reload_ext autoreload\n"
     ]
    }
   ],
   "source": [
    "from src.utils.data_utils import load_dataframe_from_csv\n",
    "from src.data.dataloader import load_initial_dataset\n",
    "from src.utils.clean_cmu import clean_movies_cmu\n",
    "from config import *\n",
    "\n",
    "import plotly.express as px\n",
    "import pandas as pd\n",
    "import plotly\n",
    "import seaborn as sns\n",
    "import matplotlib.pyplot as plt\n",
    "import numpy as np\n",
    "import plotly.graph_objects as go\n",
    "\n",
    "%load_ext autoreload\n",
    "%autoreload 2"
   ]
  },
  {
   "cell_type": "code",
   "execution_count": 296,
   "metadata": {},
   "outputs": [],
   "source": [
    "movie_cmu = load_dataframe_from_csv('movie_cmu.csv')\n",
    "character = load_dataframe_from_csv('character.csv')\n",
    "plot_summaries = load_dataframe_from_csv('plot_summaries.csv')\n",
    "tvtropes = load_dataframe_from_csv('tvtropes.csv')\n",
    "name_clusters = load_dataframe_from_csv('name_clusters.csv')\n",
    "oscar_winning_films = load_dataframe_from_csv('oscar_winning_films_ids.csv')\n",
    "oscar_winning_actors = load_dataframe_from_csv('oscar_winning_actors.csv')\n",
    "oscar_winning_actresses = load_dataframe_from_csv('oscar_winning_actresses.csv')\n",
    "oscar_supporting_actors = load_dataframe_from_csv('oscar_winning_supporting_actors.csv')\n",
    "oscar_supporting_actresses = load_dataframe_from_csv('oscar_winning_supporting_actresses.csv')\n",
    "extended_films = load_dataframe_from_csv('film_2015_2024.csv')\n",
    "academy_award_winning_films = load_dataframe_from_csv('acedemy_award_winning_films')\n",
    "winning_actors_info = load_dataframe_from_csv('winning_actors_information.csv')\n",
    "imdb_ratings = load_dataframe_from_csv('imdb_ratings.csv')\n",
    "oscar_actors_info = load_dataframe_from_csv('oscar_actors_info.csv')\n",
    "oscar_actress_info = load_dataframe_from_csv('oscar_actress_info.csv')"
   ]
  },
  {
   "cell_type": "code",
   "execution_count": 297,
   "metadata": {},
   "outputs": [],
   "source": [
    "extended_films[\"Movie genres\"] = extended_films[\"genres\"]\n",
    "extended_films[\"Movie release date\"] = extended_films[\"release_date\"]\n",
    "extended_films[\"Movie languages\"] = extended_films[\"languages\"]\n",
    "extended_films[\"Movie countries\"] = extended_films[\"countries\"]\n",
    "extended_films[\"Movie name\"] = extended_films[\"film\"]\n",
    "extended_films[\"Movie box office revenue\"] = extended_films[\"box_office\"]\n",
    "extended_films[\"Movie runtime\"] = extended_films[\"runtime\"]\n",
    "extended_films[\"Wikipedia movie ID\"] = extended_films[\"page_id\"]\n",
    "extended_films = extended_films.drop(columns=[\"genres\", \"release_date\", \"languages\", \"countries\", \"release date\", \"film\", \"box_office\", \"runtime\", \"page_id\"])\n",
    "\n",
    "winning_actors_info[\"Actor name\"] = winning_actors_info[\"actor\"]\n",
    "winning_actors_info = winning_actors_info.drop(columns=[\"actor\"])\n",
    "\n",
    "imdb_ratings['Movie release date'] = imdb_ratings['title_year']  \n",
    "imdb_ratings['Movie name'] = imdb_ratings['movie_title'] \n",
    "imdb_ratings = imdb_ratings.drop(columns=['title_year', 'movie_title'])\n"
   ]
  },
  {
   "cell_type": "code",
   "execution_count": 298,
   "metadata": {},
   "outputs": [],
   "source": [
    "oscar_supporting_act = pd.concat([oscar_supporting_actors, oscar_supporting_actresses], axis=0)\n",
    "oscar_supporting_act_movies_cmu  = pd.merge(oscar_supporting_act, movie_cmu, left_on='film_id', right_on='Wikipedia movie ID')\n",
    "oscar_supporting_act_movies_cmu.drop(columns=['film_id'], inplace=True) "
   ]
  },
  {
   "cell_type": "code",
   "execution_count": 299,
   "metadata": {},
   "outputs": [],
   "source": [
    "oscar_supporting_actress_movies_cmu  = pd.merge(oscar_supporting_actresses, movie_cmu, left_on='film_id', right_on='Wikipedia movie ID')\n",
    "oscar_supporting_actress_movies_cmu.drop(columns=['film_id'], inplace=True) \n",
    "\n",
    "oscar_supporting_actors_movies_cmu  = pd.merge(oscar_supporting_actors, movie_cmu, left_on='film_id', right_on='Wikipedia movie ID')\n",
    "oscar_supporting_actors_movies_cmu.drop(columns=['film_id'], inplace=True) "
   ]
  },
  {
   "cell_type": "code",
   "execution_count": 300,
   "metadata": {},
   "outputs": [
    {
     "name": "stdout",
     "output_type": "stream",
     "text": [
      "(153, 11)\n",
      "1936.0\n",
      "2012.0\n"
     ]
    }
   ],
   "source": [
    "print(oscar_supporting_act_movies_cmu.shape)\n",
    "print(oscar_supporting_act_movies_cmu['Movie release date'].min())\n",
    "print(oscar_supporting_act_movies_cmu['Movie release date'].max())\n"
   ]
  },
  {
   "cell_type": "code",
   "execution_count": 301,
   "metadata": {},
   "outputs": [],
   "source": [
    "oscar_supporting_act_movies_extendedDS  = pd.merge(oscar_supporting_act, extended_films, left_on='film_id', right_on='Wikipedia movie ID')\n",
    "oscar_supporting_act_movies_extendedDS.drop(columns=['film_id'], inplace=True) \n",
    "\n",
    "# Convert the 'Movie release date' column to datetime\n",
    "oscar_supporting_act_movies_extendedDS['Movie release date'] = pd.to_datetime(oscar_supporting_act_movies_extendedDS['Movie release date'])\n",
    "# Format the column to only show Year-Month-Day\n",
    "oscar_supporting_act_movies_extendedDS['Movie release date'] = oscar_supporting_act_movies_extendedDS['Movie release date'].dt.strftime('%Y-%m-%d')"
   ]
  },
  {
   "cell_type": "code",
   "execution_count": 302,
   "metadata": {},
   "outputs": [],
   "source": [
    "oscar_supporting_actress_movies_extendedDS  = pd.merge(oscar_supporting_actresses, extended_films, left_on='film_id', right_on='Wikipedia movie ID')\n",
    "oscar_supporting_actress_movies_extendedDS.drop(columns=['film_id'], inplace=True) \n",
    "\n",
    "# Convert the 'Movie release date' column to datetime\n",
    "oscar_supporting_actress_movies_extendedDS['Movie release date'] = pd.to_datetime(oscar_supporting_actress_movies_extendedDS['Movie release date'])\n",
    "# Format the column to only show Year-Month-Day\n",
    "oscar_supporting_actress_movies_extendedDS['Movie release date'] = oscar_supporting_actress_movies_extendedDS['Movie release date'].dt.strftime('%Y-%m-%d')\n",
    "\n",
    "\n",
    "\n",
    "oscar_supporting_actors_movies_extendedDS  = pd.merge(oscar_supporting_actors, extended_films, left_on='film_id', right_on='Wikipedia movie ID')\n",
    "oscar_supporting_actors_movies_extendedDS.drop(columns=['film_id'], inplace=True) \n",
    "\n",
    "# Convert the 'Movie release date' column to datetime\n",
    "oscar_supporting_actors_movies_extendedDS['Movie release date'] = pd.to_datetime(oscar_supporting_actors_movies_extendedDS['Movie release date'])\n",
    "# Format the column to only show Year-Month-Day\n",
    "oscar_supporting_actors_movies_extendedDS['Movie release date'] = oscar_supporting_actors_movies_extendedDS['Movie release date'].dt.strftime('%Y-%m-%d')\n",
    "\n"
   ]
  },
  {
   "cell_type": "code",
   "execution_count": 303,
   "metadata": {},
   "outputs": [
    {
     "name": "stdout",
     "output_type": "stream",
     "text": [
      "(15, 15)\n",
      "2015-01-01\n",
      "2023-10-27\n"
     ]
    }
   ],
   "source": [
    "print(oscar_supporting_act_movies_extendedDS.shape)\n",
    "print(oscar_supporting_act_movies_extendedDS['Movie release date'].min())\n",
    "print(oscar_supporting_act_movies_extendedDS['Movie release date'].max())"
   ]
  },
  {
   "cell_type": "code",
   "execution_count": 304,
   "metadata": {},
   "outputs": [
    {
     "name": "stdout",
     "output_type": "stream",
     "text": [
      "(168, 15)\n",
      "Index(['Supporting Actor id', 'Supporting Actress id', 'Wikipedia movie ID',\n",
      "       'Freebase movie ID', 'Movie name', 'Movie release date',\n",
      "       'Movie box office revenue', 'Movie runtime', 'Movie languages',\n",
      "       'Movie countries', 'Movie genres', 'reviewScores', 'awardsReceived',\n",
      "       'awardsNominated', 'capitalCost'],\n",
      "      dtype='object')\n"
     ]
    }
   ],
   "source": [
    "oscar_supporting_act_movies = pd.concat([oscar_supporting_act_movies_cmu, oscar_supporting_act_movies_extendedDS], axis=0)\n",
    "oscar_supporting_act_movies.drop(columns=['wikidata_id'], inplace=True)\n",
    "print(oscar_supporting_act_movies.shape)\n",
    "print(oscar_supporting_act_movies.columns)"
   ]
  },
  {
   "cell_type": "code",
   "execution_count": 305,
   "metadata": {},
   "outputs": [],
   "source": [
    "#SUPPORTING ACTORS\n",
    "oscar_supporting_actors_movies = pd.concat([oscar_supporting_actors_movies_cmu, oscar_supporting_actors_movies_extendedDS], axis=0)\n",
    "oscar_supporting_actors_movies.drop(columns=['wikidata_id'], inplace=True)\n",
    "\n",
    "\n",
    "#SUPPORTING ACTRESSES\n",
    "oscar_supporting_actress_movies = pd.concat([oscar_supporting_actress_movies_cmu, oscar_supporting_actress_movies_extendedDS], axis=0)\n",
    "oscar_supporting_actress_movies.drop(columns=['wikidata_id'], inplace=True)\n"
   ]
  },
  {
   "cell_type": "code",
   "execution_count": 306,
   "metadata": {},
   "outputs": [],
   "source": [
    "oscar_supporting_actress_info_copy = pd.merge(winning_actors_info, oscar_supporting_act_movies, left_on='page_id', right_on='Supporting Actress id')\n",
    "oscar_supporting_actors_info_copy = pd.merge(winning_actors_info, oscar_supporting_act_movies, left_on='page_id', right_on='Supporting Actor id')\n",
    "\n",
    "oscar_supporting_act_info = pd.concat([oscar_supporting_actors_info_copy, oscar_supporting_actress_info_copy], axis=0)\n",
    "# Check the type and standardize the date format\n",
    "def standardize_date_format(date):\n",
    "    if pd.isna(date):  # Handle NaN values explicitly\n",
    "        return None  # Or return a default value, e.g., -1 or an empty string\n",
    "    if isinstance(date, str):  # If it's a string (datetime-like), process it\n",
    "        return pd.to_datetime(date).year  # Extract just the year from the datetime\n",
    "    elif isinstance(date, float):  # If it's a float, treat it as a year\n",
    "        return int(date)  # Convert float year to integer year\n",
    "    return None  # Handle missing or invalid data\n",
    "\n",
    "# Apply the function to create a new column with unified format\n",
    "oscar_supporting_act_info['Movie release year'] = oscar_supporting_act_info['Movie release date'].apply(standardize_date_format)"
   ]
  },
  {
   "cell_type": "code",
   "execution_count": 307,
   "metadata": {},
   "outputs": [
    {
     "name": "stdout",
     "output_type": "stream",
     "text": [
      "Index(['page_id', 'wikidata_id', 'sexLabel', 'nativeLanguageLabel',\n",
      "       'countryOfCitizenshipLabel', 'ethnicGroupLabel', 'Actor name',\n",
      "       'Supporting Actor id', 'Supporting Actress id', 'Wikipedia movie ID',\n",
      "       'Freebase movie ID', 'Movie name', 'Movie release date',\n",
      "       'Movie box office revenue', 'Movie runtime', 'Movie languages',\n",
      "       'Movie countries', 'Movie genres', 'reviewScores', 'awardsReceived',\n",
      "       'awardsNominated', 'capitalCost', 'Movie release year'],\n",
      "      dtype='object')\n",
      "(168, 21)\n"
     ]
    }
   ],
   "source": [
    "print(oscar_supporting_act_info.columns)\n",
    "oscar_supporting_act_info.drop(columns=['Freebase movie ID', 'sexLabel'], inplace=True)  #Remove the columns that are in character.csv\n",
    "oscar_supporting_act_info.head(2)\n",
    "print(oscar_supporting_act_info.shape)"
   ]
  },
  {
   "cell_type": "code",
   "execution_count": 308,
   "metadata": {},
   "outputs": [
    {
     "data": {
      "application/vnd.plotly.v1+json": {
       "config": {
        "plotlyServerURL": "https://plot.ly"
       },
       "data": [
        {
         "hovertemplate": "Year=%{x}<br>Box Office Revenue ($)=%{y}<extra></extra>",
         "legendgroup": "",
         "line": {
          "color": "#636efa",
          "dash": "solid",
          "shape": "spline"
         },
         "marker": {
          "symbol": "circle"
         },
         "mode": "lines",
         "name": "",
         "orientation": "v",
         "showlegend": false,
         "type": "scatter",
         "x": [
          1939,
          1942,
          1945,
          1948,
          1950,
          1951,
          1952,
          1953,
          1954,
          1955,
          1956,
          1957,
          1959,
          1960,
          1961,
          1966,
          1967,
          1968,
          1969,
          1971,
          1972,
          1973,
          1974,
          1975,
          1976,
          1977,
          1978,
          1979,
          1980,
          1981,
          1982,
          1983,
          1984,
          1985,
          1988,
          1989,
          1990,
          1991,
          1992,
          1993,
          1994,
          1996,
          1997,
          1998,
          1999,
          2001,
          2002,
          2003,
          2004,
          2005,
          2006,
          2007,
          2008,
          2009,
          2010,
          2011,
          2015,
          2016,
          2017,
          2018,
          2019,
          2020,
          2022,
          2023
         ],
         "xaxis": "x",
         "y": [
          401103757,
          8878000,
          8488000,
          8125000,
          2600000,
          16000000,
          2350000,
          61000000,
          9600000,
          13500000,
          1600000,
          44000230,
          146900000,
          60000000,
          87400000,
          40000000,
          66917773,
          33395426,
          38489208,
          58266000,
          42765000,
          30933743,
          193000000,
          60000000,
          70600000,
          41428800,
          92913571,
          30177511,
          54766923,
          95461682,
          306995554,
          108423489,
          27187653,
          111970658,
          95125805,
          14743391,
          552538982,
          179033791,
          223245999,
          409033616,
          19271204,
          505529017,
          352150375,
          295647848,
          136895297,
          537212019,
          339577905,
          329835529,
          216763646,
          176441290,
          154852975,
          171627166,
          1100967096,
          384037271,
          272609707,
          211608112,
          229669871,
          129751364,
          177617449,
          321752656,
          374576363,
          15312445,
          195474400,
          955300000
         ],
         "yaxis": "y"
        }
       ],
       "layout": {
        "height": 600,
        "legend": {
         "tracegroupgap": 0
        },
        "template": {
         "data": {
          "bar": [
           {
            "error_x": {
             "color": "#2a3f5f"
            },
            "error_y": {
             "color": "#2a3f5f"
            },
            "marker": {
             "line": {
              "color": "#E5ECF6",
              "width": 0.5
             },
             "pattern": {
              "fillmode": "overlay",
              "size": 10,
              "solidity": 0.2
             }
            },
            "type": "bar"
           }
          ],
          "barpolar": [
           {
            "marker": {
             "line": {
              "color": "#E5ECF6",
              "width": 0.5
             },
             "pattern": {
              "fillmode": "overlay",
              "size": 10,
              "solidity": 0.2
             }
            },
            "type": "barpolar"
           }
          ],
          "carpet": [
           {
            "aaxis": {
             "endlinecolor": "#2a3f5f",
             "gridcolor": "white",
             "linecolor": "white",
             "minorgridcolor": "white",
             "startlinecolor": "#2a3f5f"
            },
            "baxis": {
             "endlinecolor": "#2a3f5f",
             "gridcolor": "white",
             "linecolor": "white",
             "minorgridcolor": "white",
             "startlinecolor": "#2a3f5f"
            },
            "type": "carpet"
           }
          ],
          "choropleth": [
           {
            "colorbar": {
             "outlinewidth": 0,
             "ticks": ""
            },
            "type": "choropleth"
           }
          ],
          "contour": [
           {
            "colorbar": {
             "outlinewidth": 0,
             "ticks": ""
            },
            "colorscale": [
             [
              0,
              "#0d0887"
             ],
             [
              0.1111111111111111,
              "#46039f"
             ],
             [
              0.2222222222222222,
              "#7201a8"
             ],
             [
              0.3333333333333333,
              "#9c179e"
             ],
             [
              0.4444444444444444,
              "#bd3786"
             ],
             [
              0.5555555555555556,
              "#d8576b"
             ],
             [
              0.6666666666666666,
              "#ed7953"
             ],
             [
              0.7777777777777778,
              "#fb9f3a"
             ],
             [
              0.8888888888888888,
              "#fdca26"
             ],
             [
              1,
              "#f0f921"
             ]
            ],
            "type": "contour"
           }
          ],
          "contourcarpet": [
           {
            "colorbar": {
             "outlinewidth": 0,
             "ticks": ""
            },
            "type": "contourcarpet"
           }
          ],
          "heatmap": [
           {
            "colorbar": {
             "outlinewidth": 0,
             "ticks": ""
            },
            "colorscale": [
             [
              0,
              "#0d0887"
             ],
             [
              0.1111111111111111,
              "#46039f"
             ],
             [
              0.2222222222222222,
              "#7201a8"
             ],
             [
              0.3333333333333333,
              "#9c179e"
             ],
             [
              0.4444444444444444,
              "#bd3786"
             ],
             [
              0.5555555555555556,
              "#d8576b"
             ],
             [
              0.6666666666666666,
              "#ed7953"
             ],
             [
              0.7777777777777778,
              "#fb9f3a"
             ],
             [
              0.8888888888888888,
              "#fdca26"
             ],
             [
              1,
              "#f0f921"
             ]
            ],
            "type": "heatmap"
           }
          ],
          "heatmapgl": [
           {
            "colorbar": {
             "outlinewidth": 0,
             "ticks": ""
            },
            "colorscale": [
             [
              0,
              "#0d0887"
             ],
             [
              0.1111111111111111,
              "#46039f"
             ],
             [
              0.2222222222222222,
              "#7201a8"
             ],
             [
              0.3333333333333333,
              "#9c179e"
             ],
             [
              0.4444444444444444,
              "#bd3786"
             ],
             [
              0.5555555555555556,
              "#d8576b"
             ],
             [
              0.6666666666666666,
              "#ed7953"
             ],
             [
              0.7777777777777778,
              "#fb9f3a"
             ],
             [
              0.8888888888888888,
              "#fdca26"
             ],
             [
              1,
              "#f0f921"
             ]
            ],
            "type": "heatmapgl"
           }
          ],
          "histogram": [
           {
            "marker": {
             "pattern": {
              "fillmode": "overlay",
              "size": 10,
              "solidity": 0.2
             }
            },
            "type": "histogram"
           }
          ],
          "histogram2d": [
           {
            "colorbar": {
             "outlinewidth": 0,
             "ticks": ""
            },
            "colorscale": [
             [
              0,
              "#0d0887"
             ],
             [
              0.1111111111111111,
              "#46039f"
             ],
             [
              0.2222222222222222,
              "#7201a8"
             ],
             [
              0.3333333333333333,
              "#9c179e"
             ],
             [
              0.4444444444444444,
              "#bd3786"
             ],
             [
              0.5555555555555556,
              "#d8576b"
             ],
             [
              0.6666666666666666,
              "#ed7953"
             ],
             [
              0.7777777777777778,
              "#fb9f3a"
             ],
             [
              0.8888888888888888,
              "#fdca26"
             ],
             [
              1,
              "#f0f921"
             ]
            ],
            "type": "histogram2d"
           }
          ],
          "histogram2dcontour": [
           {
            "colorbar": {
             "outlinewidth": 0,
             "ticks": ""
            },
            "colorscale": [
             [
              0,
              "#0d0887"
             ],
             [
              0.1111111111111111,
              "#46039f"
             ],
             [
              0.2222222222222222,
              "#7201a8"
             ],
             [
              0.3333333333333333,
              "#9c179e"
             ],
             [
              0.4444444444444444,
              "#bd3786"
             ],
             [
              0.5555555555555556,
              "#d8576b"
             ],
             [
              0.6666666666666666,
              "#ed7953"
             ],
             [
              0.7777777777777778,
              "#fb9f3a"
             ],
             [
              0.8888888888888888,
              "#fdca26"
             ],
             [
              1,
              "#f0f921"
             ]
            ],
            "type": "histogram2dcontour"
           }
          ],
          "mesh3d": [
           {
            "colorbar": {
             "outlinewidth": 0,
             "ticks": ""
            },
            "type": "mesh3d"
           }
          ],
          "parcoords": [
           {
            "line": {
             "colorbar": {
              "outlinewidth": 0,
              "ticks": ""
             }
            },
            "type": "parcoords"
           }
          ],
          "pie": [
           {
            "automargin": true,
            "type": "pie"
           }
          ],
          "scatter": [
           {
            "fillpattern": {
             "fillmode": "overlay",
             "size": 10,
             "solidity": 0.2
            },
            "type": "scatter"
           }
          ],
          "scatter3d": [
           {
            "line": {
             "colorbar": {
              "outlinewidth": 0,
              "ticks": ""
             }
            },
            "marker": {
             "colorbar": {
              "outlinewidth": 0,
              "ticks": ""
             }
            },
            "type": "scatter3d"
           }
          ],
          "scattercarpet": [
           {
            "marker": {
             "colorbar": {
              "outlinewidth": 0,
              "ticks": ""
             }
            },
            "type": "scattercarpet"
           }
          ],
          "scattergeo": [
           {
            "marker": {
             "colorbar": {
              "outlinewidth": 0,
              "ticks": ""
             }
            },
            "type": "scattergeo"
           }
          ],
          "scattergl": [
           {
            "marker": {
             "colorbar": {
              "outlinewidth": 0,
              "ticks": ""
             }
            },
            "type": "scattergl"
           }
          ],
          "scattermapbox": [
           {
            "marker": {
             "colorbar": {
              "outlinewidth": 0,
              "ticks": ""
             }
            },
            "type": "scattermapbox"
           }
          ],
          "scatterpolar": [
           {
            "marker": {
             "colorbar": {
              "outlinewidth": 0,
              "ticks": ""
             }
            },
            "type": "scatterpolar"
           }
          ],
          "scatterpolargl": [
           {
            "marker": {
             "colorbar": {
              "outlinewidth": 0,
              "ticks": ""
             }
            },
            "type": "scatterpolargl"
           }
          ],
          "scatterternary": [
           {
            "marker": {
             "colorbar": {
              "outlinewidth": 0,
              "ticks": ""
             }
            },
            "type": "scatterternary"
           }
          ],
          "surface": [
           {
            "colorbar": {
             "outlinewidth": 0,
             "ticks": ""
            },
            "colorscale": [
             [
              0,
              "#0d0887"
             ],
             [
              0.1111111111111111,
              "#46039f"
             ],
             [
              0.2222222222222222,
              "#7201a8"
             ],
             [
              0.3333333333333333,
              "#9c179e"
             ],
             [
              0.4444444444444444,
              "#bd3786"
             ],
             [
              0.5555555555555556,
              "#d8576b"
             ],
             [
              0.6666666666666666,
              "#ed7953"
             ],
             [
              0.7777777777777778,
              "#fb9f3a"
             ],
             [
              0.8888888888888888,
              "#fdca26"
             ],
             [
              1,
              "#f0f921"
             ]
            ],
            "type": "surface"
           }
          ],
          "table": [
           {
            "cells": {
             "fill": {
              "color": "#EBF0F8"
             },
             "line": {
              "color": "white"
             }
            },
            "header": {
             "fill": {
              "color": "#C8D4E3"
             },
             "line": {
              "color": "white"
             }
            },
            "type": "table"
           }
          ]
         },
         "layout": {
          "annotationdefaults": {
           "arrowcolor": "#2a3f5f",
           "arrowhead": 0,
           "arrowwidth": 1
          },
          "autotypenumbers": "strict",
          "coloraxis": {
           "colorbar": {
            "outlinewidth": 0,
            "ticks": ""
           }
          },
          "colorscale": {
           "diverging": [
            [
             0,
             "#8e0152"
            ],
            [
             0.1,
             "#c51b7d"
            ],
            [
             0.2,
             "#de77ae"
            ],
            [
             0.3,
             "#f1b6da"
            ],
            [
             0.4,
             "#fde0ef"
            ],
            [
             0.5,
             "#f7f7f7"
            ],
            [
             0.6,
             "#e6f5d0"
            ],
            [
             0.7,
             "#b8e186"
            ],
            [
             0.8,
             "#7fbc41"
            ],
            [
             0.9,
             "#4d9221"
            ],
            [
             1,
             "#276419"
            ]
           ],
           "sequential": [
            [
             0,
             "#0d0887"
            ],
            [
             0.1111111111111111,
             "#46039f"
            ],
            [
             0.2222222222222222,
             "#7201a8"
            ],
            [
             0.3333333333333333,
             "#9c179e"
            ],
            [
             0.4444444444444444,
             "#bd3786"
            ],
            [
             0.5555555555555556,
             "#d8576b"
            ],
            [
             0.6666666666666666,
             "#ed7953"
            ],
            [
             0.7777777777777778,
             "#fb9f3a"
            ],
            [
             0.8888888888888888,
             "#fdca26"
            ],
            [
             1,
             "#f0f921"
            ]
           ],
           "sequentialminus": [
            [
             0,
             "#0d0887"
            ],
            [
             0.1111111111111111,
             "#46039f"
            ],
            [
             0.2222222222222222,
             "#7201a8"
            ],
            [
             0.3333333333333333,
             "#9c179e"
            ],
            [
             0.4444444444444444,
             "#bd3786"
            ],
            [
             0.5555555555555556,
             "#d8576b"
            ],
            [
             0.6666666666666666,
             "#ed7953"
            ],
            [
             0.7777777777777778,
             "#fb9f3a"
            ],
            [
             0.8888888888888888,
             "#fdca26"
            ],
            [
             1,
             "#f0f921"
            ]
           ]
          },
          "colorway": [
           "#636efa",
           "#EF553B",
           "#00cc96",
           "#ab63fa",
           "#FFA15A",
           "#19d3f3",
           "#FF6692",
           "#B6E880",
           "#FF97FF",
           "#FECB52"
          ],
          "font": {
           "color": "#2a3f5f"
          },
          "geo": {
           "bgcolor": "white",
           "lakecolor": "white",
           "landcolor": "#E5ECF6",
           "showlakes": true,
           "showland": true,
           "subunitcolor": "white"
          },
          "hoverlabel": {
           "align": "left"
          },
          "hovermode": "closest",
          "mapbox": {
           "style": "light"
          },
          "paper_bgcolor": "white",
          "plot_bgcolor": "#E5ECF6",
          "polar": {
           "angularaxis": {
            "gridcolor": "white",
            "linecolor": "white",
            "ticks": ""
           },
           "bgcolor": "#E5ECF6",
           "radialaxis": {
            "gridcolor": "white",
            "linecolor": "white",
            "ticks": ""
           }
          },
          "scene": {
           "xaxis": {
            "backgroundcolor": "#E5ECF6",
            "gridcolor": "white",
            "gridwidth": 2,
            "linecolor": "white",
            "showbackground": true,
            "ticks": "",
            "zerolinecolor": "white"
           },
           "yaxis": {
            "backgroundcolor": "#E5ECF6",
            "gridcolor": "white",
            "gridwidth": 2,
            "linecolor": "white",
            "showbackground": true,
            "ticks": "",
            "zerolinecolor": "white"
           },
           "zaxis": {
            "backgroundcolor": "#E5ECF6",
            "gridcolor": "white",
            "gridwidth": 2,
            "linecolor": "white",
            "showbackground": true,
            "ticks": "",
            "zerolinecolor": "white"
           }
          },
          "shapedefaults": {
           "line": {
            "color": "#2a3f5f"
           }
          },
          "ternary": {
           "aaxis": {
            "gridcolor": "white",
            "linecolor": "white",
            "ticks": ""
           },
           "baxis": {
            "gridcolor": "white",
            "linecolor": "white",
            "ticks": ""
           },
           "bgcolor": "#E5ECF6",
           "caxis": {
            "gridcolor": "white",
            "linecolor": "white",
            "ticks": ""
           }
          },
          "title": {
           "x": 0.05
          },
          "xaxis": {
           "automargin": true,
           "gridcolor": "white",
           "linecolor": "white",
           "ticks": "",
           "title": {
            "standoff": 15
           },
           "zerolinecolor": "white",
           "zerolinewidth": 2
          },
          "yaxis": {
           "automargin": true,
           "gridcolor": "white",
           "linecolor": "white",
           "ticks": "",
           "title": {
            "standoff": 15
           },
           "zerolinecolor": "white",
           "zerolinewidth": 2
          }
         }
        },
        "title": {
         "text": "Evolution of Movie Box Office Revenue Over the Years"
        },
        "width": 1400,
        "xaxis": {
         "anchor": "y",
         "domain": [
          0,
          1
         ],
         "title": {
          "text": "Year"
         }
        },
        "yaxis": {
         "anchor": "x",
         "domain": [
          0,
          1
         ],
         "tickformat": "$,.0f",
         "title": {
          "text": "Total Box Office Revenue ($)"
         }
        }
       }
      }
     },
     "metadata": {},
     "output_type": "display_data"
    }
   ],
   "source": [
    "# Prepare data for box office revenue evolution\n",
    "oscar_revenue_data_corrected = oscar_supporting_act_info[['Movie box office revenue', 'Movie release year']].dropna()\n",
    "oscar_revenue_data_corrected = oscar_revenue_data_corrected.dropna(subset=['Movie release year'])\n",
    "\n",
    "# Group by year and calculate total box office revenue\n",
    "oscar_revenue_data_corrected['Year'] = oscar_revenue_data_corrected['Movie release year']\n",
    "revenue_by_year_corrected = oscar_revenue_data_corrected.groupby('Year')['Movie box office revenue'].sum().reset_index()\n",
    "\n",
    "# Create a line chart\n",
    "fig = px.line(\n",
    "    revenue_by_year_corrected,\n",
    "    x='Year',\n",
    "    y='Movie box office revenue',\n",
    "    title='Evolution of Movie Box Office Revenue Over the Years',\n",
    "    labels={'Year': 'Year', 'Movie box office revenue': 'Box Office Revenue ($)'},\n",
    "    line_shape='spline'\n",
    ")\n",
    "\n",
    "# Update layout for better readability\n",
    "fig.update_layout(\n",
    "    xaxis=dict(title='Year'),\n",
    "    yaxis=dict(title='Total Box Office Revenue ($)', tickformat='$,.0f'),\n",
    "    width=1400, \n",
    "    height=600  \n",
    ")\n",
    "\n",
    "fig.show()"
   ]
  },
  {
   "cell_type": "code",
   "execution_count": 309,
   "metadata": {},
   "outputs": [],
   "source": [
    "oscar_supporting_act_info = pd.merge(oscar_supporting_act_info, character[['Wikipedia movie ID', 'Actor name', 'Actor age at movie release', 'Actor date of birth', 'Actor ethnicity', 'Freebase actor ID']], on=['Wikipedia movie ID', 'Actor name'])"
   ]
  },
  {
   "cell_type": "code",
   "execution_count": 310,
   "metadata": {},
   "outputs": [
    {
     "data": {
      "application/vnd.plotly.v1+json": {
       "config": {
        "plotlyServerURL": "https://plot.ly"
       },
       "data": [
        {
         "alignmentgroup": "True",
         "hovertemplate": "Actor age at movie release=%{x}<br>Count=%{y}<extra></extra>",
         "legendgroup": "",
         "marker": {
          "color": "#636efa",
          "pattern": {
           "shape": ""
          }
         },
         "name": "",
         "offsetgroup": "",
         "orientation": "v",
         "showlegend": false,
         "textposition": "auto",
         "type": "bar",
         "x": [
          9,
          10,
          15,
          20,
          23,
          24,
          25,
          26,
          27,
          28,
          29,
          30,
          31,
          32,
          33,
          34,
          35,
          36,
          37,
          38,
          39,
          40,
          41,
          42,
          43,
          44,
          45,
          46,
          47,
          49,
          50,
          51,
          52,
          53,
          55,
          56,
          59,
          61,
          62,
          63,
          66,
          67,
          69,
          71,
          72,
          76,
          77,
          78,
          80
         ],
         "xaxis": "x",
         "y": [
          1,
          1,
          1,
          1,
          2,
          2,
          1,
          2,
          2,
          1,
          8,
          4,
          3,
          3,
          4,
          6,
          2,
          2,
          3,
          5,
          5,
          3,
          3,
          2,
          5,
          5,
          3,
          6,
          2,
          2,
          1,
          1,
          3,
          2,
          3,
          3,
          1,
          3,
          2,
          1,
          2,
          1,
          1,
          2,
          1,
          1,
          2,
          1,
          1
         ],
         "yaxis": "y"
        }
       ],
       "layout": {
        "barmode": "relative",
        "legend": {
         "tracegroupgap": 0
        },
        "template": {
         "data": {
          "bar": [
           {
            "error_x": {
             "color": "#2a3f5f"
            },
            "error_y": {
             "color": "#2a3f5f"
            },
            "marker": {
             "line": {
              "color": "#E5ECF6",
              "width": 0.5
             },
             "pattern": {
              "fillmode": "overlay",
              "size": 10,
              "solidity": 0.2
             }
            },
            "type": "bar"
           }
          ],
          "barpolar": [
           {
            "marker": {
             "line": {
              "color": "#E5ECF6",
              "width": 0.5
             },
             "pattern": {
              "fillmode": "overlay",
              "size": 10,
              "solidity": 0.2
             }
            },
            "type": "barpolar"
           }
          ],
          "carpet": [
           {
            "aaxis": {
             "endlinecolor": "#2a3f5f",
             "gridcolor": "white",
             "linecolor": "white",
             "minorgridcolor": "white",
             "startlinecolor": "#2a3f5f"
            },
            "baxis": {
             "endlinecolor": "#2a3f5f",
             "gridcolor": "white",
             "linecolor": "white",
             "minorgridcolor": "white",
             "startlinecolor": "#2a3f5f"
            },
            "type": "carpet"
           }
          ],
          "choropleth": [
           {
            "colorbar": {
             "outlinewidth": 0,
             "ticks": ""
            },
            "type": "choropleth"
           }
          ],
          "contour": [
           {
            "colorbar": {
             "outlinewidth": 0,
             "ticks": ""
            },
            "colorscale": [
             [
              0,
              "#0d0887"
             ],
             [
              0.1111111111111111,
              "#46039f"
             ],
             [
              0.2222222222222222,
              "#7201a8"
             ],
             [
              0.3333333333333333,
              "#9c179e"
             ],
             [
              0.4444444444444444,
              "#bd3786"
             ],
             [
              0.5555555555555556,
              "#d8576b"
             ],
             [
              0.6666666666666666,
              "#ed7953"
             ],
             [
              0.7777777777777778,
              "#fb9f3a"
             ],
             [
              0.8888888888888888,
              "#fdca26"
             ],
             [
              1,
              "#f0f921"
             ]
            ],
            "type": "contour"
           }
          ],
          "contourcarpet": [
           {
            "colorbar": {
             "outlinewidth": 0,
             "ticks": ""
            },
            "type": "contourcarpet"
           }
          ],
          "heatmap": [
           {
            "colorbar": {
             "outlinewidth": 0,
             "ticks": ""
            },
            "colorscale": [
             [
              0,
              "#0d0887"
             ],
             [
              0.1111111111111111,
              "#46039f"
             ],
             [
              0.2222222222222222,
              "#7201a8"
             ],
             [
              0.3333333333333333,
              "#9c179e"
             ],
             [
              0.4444444444444444,
              "#bd3786"
             ],
             [
              0.5555555555555556,
              "#d8576b"
             ],
             [
              0.6666666666666666,
              "#ed7953"
             ],
             [
              0.7777777777777778,
              "#fb9f3a"
             ],
             [
              0.8888888888888888,
              "#fdca26"
             ],
             [
              1,
              "#f0f921"
             ]
            ],
            "type": "heatmap"
           }
          ],
          "heatmapgl": [
           {
            "colorbar": {
             "outlinewidth": 0,
             "ticks": ""
            },
            "colorscale": [
             [
              0,
              "#0d0887"
             ],
             [
              0.1111111111111111,
              "#46039f"
             ],
             [
              0.2222222222222222,
              "#7201a8"
             ],
             [
              0.3333333333333333,
              "#9c179e"
             ],
             [
              0.4444444444444444,
              "#bd3786"
             ],
             [
              0.5555555555555556,
              "#d8576b"
             ],
             [
              0.6666666666666666,
              "#ed7953"
             ],
             [
              0.7777777777777778,
              "#fb9f3a"
             ],
             [
              0.8888888888888888,
              "#fdca26"
             ],
             [
              1,
              "#f0f921"
             ]
            ],
            "type": "heatmapgl"
           }
          ],
          "histogram": [
           {
            "marker": {
             "pattern": {
              "fillmode": "overlay",
              "size": 10,
              "solidity": 0.2
             }
            },
            "type": "histogram"
           }
          ],
          "histogram2d": [
           {
            "colorbar": {
             "outlinewidth": 0,
             "ticks": ""
            },
            "colorscale": [
             [
              0,
              "#0d0887"
             ],
             [
              0.1111111111111111,
              "#46039f"
             ],
             [
              0.2222222222222222,
              "#7201a8"
             ],
             [
              0.3333333333333333,
              "#9c179e"
             ],
             [
              0.4444444444444444,
              "#bd3786"
             ],
             [
              0.5555555555555556,
              "#d8576b"
             ],
             [
              0.6666666666666666,
              "#ed7953"
             ],
             [
              0.7777777777777778,
              "#fb9f3a"
             ],
             [
              0.8888888888888888,
              "#fdca26"
             ],
             [
              1,
              "#f0f921"
             ]
            ],
            "type": "histogram2d"
           }
          ],
          "histogram2dcontour": [
           {
            "colorbar": {
             "outlinewidth": 0,
             "ticks": ""
            },
            "colorscale": [
             [
              0,
              "#0d0887"
             ],
             [
              0.1111111111111111,
              "#46039f"
             ],
             [
              0.2222222222222222,
              "#7201a8"
             ],
             [
              0.3333333333333333,
              "#9c179e"
             ],
             [
              0.4444444444444444,
              "#bd3786"
             ],
             [
              0.5555555555555556,
              "#d8576b"
             ],
             [
              0.6666666666666666,
              "#ed7953"
             ],
             [
              0.7777777777777778,
              "#fb9f3a"
             ],
             [
              0.8888888888888888,
              "#fdca26"
             ],
             [
              1,
              "#f0f921"
             ]
            ],
            "type": "histogram2dcontour"
           }
          ],
          "mesh3d": [
           {
            "colorbar": {
             "outlinewidth": 0,
             "ticks": ""
            },
            "type": "mesh3d"
           }
          ],
          "parcoords": [
           {
            "line": {
             "colorbar": {
              "outlinewidth": 0,
              "ticks": ""
             }
            },
            "type": "parcoords"
           }
          ],
          "pie": [
           {
            "automargin": true,
            "type": "pie"
           }
          ],
          "scatter": [
           {
            "fillpattern": {
             "fillmode": "overlay",
             "size": 10,
             "solidity": 0.2
            },
            "type": "scatter"
           }
          ],
          "scatter3d": [
           {
            "line": {
             "colorbar": {
              "outlinewidth": 0,
              "ticks": ""
             }
            },
            "marker": {
             "colorbar": {
              "outlinewidth": 0,
              "ticks": ""
             }
            },
            "type": "scatter3d"
           }
          ],
          "scattercarpet": [
           {
            "marker": {
             "colorbar": {
              "outlinewidth": 0,
              "ticks": ""
             }
            },
            "type": "scattercarpet"
           }
          ],
          "scattergeo": [
           {
            "marker": {
             "colorbar": {
              "outlinewidth": 0,
              "ticks": ""
             }
            },
            "type": "scattergeo"
           }
          ],
          "scattergl": [
           {
            "marker": {
             "colorbar": {
              "outlinewidth": 0,
              "ticks": ""
             }
            },
            "type": "scattergl"
           }
          ],
          "scattermapbox": [
           {
            "marker": {
             "colorbar": {
              "outlinewidth": 0,
              "ticks": ""
             }
            },
            "type": "scattermapbox"
           }
          ],
          "scatterpolar": [
           {
            "marker": {
             "colorbar": {
              "outlinewidth": 0,
              "ticks": ""
             }
            },
            "type": "scatterpolar"
           }
          ],
          "scatterpolargl": [
           {
            "marker": {
             "colorbar": {
              "outlinewidth": 0,
              "ticks": ""
             }
            },
            "type": "scatterpolargl"
           }
          ],
          "scatterternary": [
           {
            "marker": {
             "colorbar": {
              "outlinewidth": 0,
              "ticks": ""
             }
            },
            "type": "scatterternary"
           }
          ],
          "surface": [
           {
            "colorbar": {
             "outlinewidth": 0,
             "ticks": ""
            },
            "colorscale": [
             [
              0,
              "#0d0887"
             ],
             [
              0.1111111111111111,
              "#46039f"
             ],
             [
              0.2222222222222222,
              "#7201a8"
             ],
             [
              0.3333333333333333,
              "#9c179e"
             ],
             [
              0.4444444444444444,
              "#bd3786"
             ],
             [
              0.5555555555555556,
              "#d8576b"
             ],
             [
              0.6666666666666666,
              "#ed7953"
             ],
             [
              0.7777777777777778,
              "#fb9f3a"
             ],
             [
              0.8888888888888888,
              "#fdca26"
             ],
             [
              1,
              "#f0f921"
             ]
            ],
            "type": "surface"
           }
          ],
          "table": [
           {
            "cells": {
             "fill": {
              "color": "#EBF0F8"
             },
             "line": {
              "color": "white"
             }
            },
            "header": {
             "fill": {
              "color": "#C8D4E3"
             },
             "line": {
              "color": "white"
             }
            },
            "type": "table"
           }
          ]
         },
         "layout": {
          "annotationdefaults": {
           "arrowcolor": "#2a3f5f",
           "arrowhead": 0,
           "arrowwidth": 1
          },
          "autotypenumbers": "strict",
          "coloraxis": {
           "colorbar": {
            "outlinewidth": 0,
            "ticks": ""
           }
          },
          "colorscale": {
           "diverging": [
            [
             0,
             "#8e0152"
            ],
            [
             0.1,
             "#c51b7d"
            ],
            [
             0.2,
             "#de77ae"
            ],
            [
             0.3,
             "#f1b6da"
            ],
            [
             0.4,
             "#fde0ef"
            ],
            [
             0.5,
             "#f7f7f7"
            ],
            [
             0.6,
             "#e6f5d0"
            ],
            [
             0.7,
             "#b8e186"
            ],
            [
             0.8,
             "#7fbc41"
            ],
            [
             0.9,
             "#4d9221"
            ],
            [
             1,
             "#276419"
            ]
           ],
           "sequential": [
            [
             0,
             "#0d0887"
            ],
            [
             0.1111111111111111,
             "#46039f"
            ],
            [
             0.2222222222222222,
             "#7201a8"
            ],
            [
             0.3333333333333333,
             "#9c179e"
            ],
            [
             0.4444444444444444,
             "#bd3786"
            ],
            [
             0.5555555555555556,
             "#d8576b"
            ],
            [
             0.6666666666666666,
             "#ed7953"
            ],
            [
             0.7777777777777778,
             "#fb9f3a"
            ],
            [
             0.8888888888888888,
             "#fdca26"
            ],
            [
             1,
             "#f0f921"
            ]
           ],
           "sequentialminus": [
            [
             0,
             "#0d0887"
            ],
            [
             0.1111111111111111,
             "#46039f"
            ],
            [
             0.2222222222222222,
             "#7201a8"
            ],
            [
             0.3333333333333333,
             "#9c179e"
            ],
            [
             0.4444444444444444,
             "#bd3786"
            ],
            [
             0.5555555555555556,
             "#d8576b"
            ],
            [
             0.6666666666666666,
             "#ed7953"
            ],
            [
             0.7777777777777778,
             "#fb9f3a"
            ],
            [
             0.8888888888888888,
             "#fdca26"
            ],
            [
             1,
             "#f0f921"
            ]
           ]
          },
          "colorway": [
           "#636efa",
           "#EF553B",
           "#00cc96",
           "#ab63fa",
           "#FFA15A",
           "#19d3f3",
           "#FF6692",
           "#B6E880",
           "#FF97FF",
           "#FECB52"
          ],
          "font": {
           "color": "#2a3f5f"
          },
          "geo": {
           "bgcolor": "white",
           "lakecolor": "white",
           "landcolor": "#E5ECF6",
           "showlakes": true,
           "showland": true,
           "subunitcolor": "white"
          },
          "hoverlabel": {
           "align": "left"
          },
          "hovermode": "closest",
          "mapbox": {
           "style": "light"
          },
          "paper_bgcolor": "white",
          "plot_bgcolor": "#E5ECF6",
          "polar": {
           "angularaxis": {
            "gridcolor": "white",
            "linecolor": "white",
            "ticks": ""
           },
           "bgcolor": "#E5ECF6",
           "radialaxis": {
            "gridcolor": "white",
            "linecolor": "white",
            "ticks": ""
           }
          },
          "scene": {
           "xaxis": {
            "backgroundcolor": "#E5ECF6",
            "gridcolor": "white",
            "gridwidth": 2,
            "linecolor": "white",
            "showbackground": true,
            "ticks": "",
            "zerolinecolor": "white"
           },
           "yaxis": {
            "backgroundcolor": "#E5ECF6",
            "gridcolor": "white",
            "gridwidth": 2,
            "linecolor": "white",
            "showbackground": true,
            "ticks": "",
            "zerolinecolor": "white"
           },
           "zaxis": {
            "backgroundcolor": "#E5ECF6",
            "gridcolor": "white",
            "gridwidth": 2,
            "linecolor": "white",
            "showbackground": true,
            "ticks": "",
            "zerolinecolor": "white"
           }
          },
          "shapedefaults": {
           "line": {
            "color": "#2a3f5f"
           }
          },
          "ternary": {
           "aaxis": {
            "gridcolor": "white",
            "linecolor": "white",
            "ticks": ""
           },
           "baxis": {
            "gridcolor": "white",
            "linecolor": "white",
            "ticks": ""
           },
           "bgcolor": "#E5ECF6",
           "caxis": {
            "gridcolor": "white",
            "linecolor": "white",
            "ticks": ""
           }
          },
          "title": {
           "x": 0.05
          },
          "xaxis": {
           "automargin": true,
           "gridcolor": "white",
           "linecolor": "white",
           "ticks": "",
           "title": {
            "standoff": 15
           },
           "zerolinecolor": "white",
           "zerolinewidth": 2
          },
          "yaxis": {
           "automargin": true,
           "gridcolor": "white",
           "linecolor": "white",
           "ticks": "",
           "title": {
            "standoff": 15
           },
           "zerolinecolor": "white",
           "zerolinewidth": 2
          }
         }
        },
        "title": {
         "text": "Age Distribution"
        },
        "xaxis": {
         "anchor": "y",
         "domain": [
          0,
          1
         ],
         "title": {
          "text": "Actor age at movie release"
         }
        },
        "yaxis": {
         "anchor": "x",
         "domain": [
          0,
          1
         ],
         "title": {
          "text": "Count"
         }
        }
       }
      }
     },
     "metadata": {},
     "output_type": "display_data"
    }
   ],
   "source": [
    "if 'Actor age at movie release' in oscar_supporting_act_info.columns:\n",
    "    # Count occurrences of each age\n",
    "    age_distribution = oscar_supporting_act_info['Actor age at movie release'].value_counts().reset_index()\n",
    "    age_distribution.columns = ['Actor age at movie release', 'count']\n",
    "    \n",
    "    # Sort by age for better visualization\n",
    "    age_distribution = age_distribution.sort_values(by='Actor age at movie release')\n",
    "\n",
    "    # Create the bar plot\n",
    "    fig = px.bar(age_distribution, x='Actor age at movie release', y='count', title='Age Distribution', labels={'age': 'Age', 'count': 'Count'})\n",
    "    fig.show()\n",
    "else:\n",
    "    print(\"The column 'age' does not exist in the provided file.\")"
   ]
  },
  {
   "cell_type": "code",
   "execution_count": 311,
   "metadata": {},
   "outputs": [],
   "source": [
    "supporting_actress_info = pd.merge(winning_actors_info, oscar_supporting_actress_movies, left_on='page_id', right_on='Supporting Actress id')\n",
    "supporting_actress_info = pd.merge(supporting_actress_info, character[['Wikipedia movie ID', 'Actor name', 'Actor age at movie release', 'Actor date of birth', 'Actor ethnicity', 'Freebase actor ID']], on=['Wikipedia movie ID', 'Actor name'])\n",
    "supporting_actress_info.drop(columns=['Freebase movie ID', 'sexLabel'], inplace=True)  #Remove the columns that are in character.csv\n",
    "\n",
    "\n",
    "\n",
    "\n",
    "supporting_actors_info = pd.merge(winning_actors_info, oscar_supporting_actors_movies, left_on='page_id', right_on='Supporting Actor id')\n",
    "supporting_actors_info = pd.merge(supporting_actors_info, character[['Wikipedia movie ID', 'Actor name', 'Actor age at movie release', 'Actor date of birth', 'Actor ethnicity', 'Freebase actor ID']], on=['Wikipedia movie ID', 'Actor name'])\n",
    "supporting_actors_info.drop(columns=['Freebase movie ID', 'sexLabel'], inplace=True)  #Remove the columns that are in character.csv\n",
    "\n"
   ]
  },
  {
   "cell_type": "code",
   "execution_count": 312,
   "metadata": {},
   "outputs": [
    {
     "data": {
      "application/vnd.plotly.v1+json": {
       "config": {
        "plotlyServerURL": "https://plot.ly"
       },
       "data": [
        {
         "alignmentgroup": "True",
         "hovertemplate": "Group=Actors<br>Age=%{x}<br>Count=%{y}<extra></extra>",
         "legendgroup": "Actors",
         "marker": {
          "color": "#636efa",
          "pattern": {
           "shape": ""
          }
         },
         "name": "Actors",
         "offsetgroup": "Actors",
         "orientation": "v",
         "showlegend": true,
         "textposition": "auto",
         "type": "bar",
         "x": [
          9,
          10,
          15,
          23,
          24,
          25,
          26,
          27,
          28,
          29,
          30,
          31,
          32,
          33,
          34,
          35,
          36,
          37,
          38,
          39,
          40,
          41,
          42,
          43,
          44,
          45,
          46,
          47,
          48,
          49,
          50,
          51,
          52,
          53,
          55,
          56,
          59,
          60,
          61,
          62,
          63,
          76
         ],
         "xaxis": "x",
         "y": [
          0,
          0,
          0,
          0,
          0,
          0,
          0,
          0,
          0,
          1,
          2,
          2,
          2,
          2,
          1,
          2,
          6,
          5,
          5,
          2,
          2,
          6,
          3,
          2,
          3,
          3,
          3,
          1,
          2,
          0,
          2,
          2,
          2,
          1,
          2,
          1,
          0,
          3,
          1,
          1,
          0,
          1
         ],
         "yaxis": "y"
        },
        {
         "alignmentgroup": "True",
         "hovertemplate": "Group=Actresses<br>Age=%{x}<br>Count=%{y}<extra></extra>",
         "legendgroup": "Actresses",
         "marker": {
          "color": "#EF553B",
          "pattern": {
           "shape": ""
          }
         },
         "name": "Actresses",
         "offsetgroup": "Actresses",
         "orientation": "v",
         "showlegend": true,
         "textposition": "auto",
         "type": "bar",
         "x": [
          9,
          10,
          15,
          23,
          24,
          25,
          26,
          27,
          28,
          29,
          30,
          31,
          32,
          33,
          34,
          35,
          36,
          37,
          38,
          39,
          40,
          41,
          42,
          43,
          44,
          45,
          46,
          47,
          48,
          49,
          50,
          51,
          52,
          53,
          55,
          56,
          59,
          60,
          61,
          62,
          63,
          76
         ],
         "xaxis": "x",
         "y": [
          1,
          1,
          1,
          2,
          2,
          1,
          2,
          1,
          1,
          7,
          2,
          1,
          3,
          3,
          5,
          1,
          0,
          2,
          2,
          2,
          2,
          2,
          1,
          2,
          3,
          1,
          2,
          0,
          0,
          1,
          1,
          0,
          0,
          1,
          2,
          0,
          1,
          0,
          0,
          1,
          1,
          1
         ],
         "yaxis": "y"
        }
       ],
       "layout": {
        "barmode": "group",
        "legend": {
         "title": {
          "text": "Group"
         },
         "tracegroupgap": 0
        },
        "template": {
         "data": {
          "bar": [
           {
            "error_x": {
             "color": "#2a3f5f"
            },
            "error_y": {
             "color": "#2a3f5f"
            },
            "marker": {
             "line": {
              "color": "#E5ECF6",
              "width": 0.5
             },
             "pattern": {
              "fillmode": "overlay",
              "size": 10,
              "solidity": 0.2
             }
            },
            "type": "bar"
           }
          ],
          "barpolar": [
           {
            "marker": {
             "line": {
              "color": "#E5ECF6",
              "width": 0.5
             },
             "pattern": {
              "fillmode": "overlay",
              "size": 10,
              "solidity": 0.2
             }
            },
            "type": "barpolar"
           }
          ],
          "carpet": [
           {
            "aaxis": {
             "endlinecolor": "#2a3f5f",
             "gridcolor": "white",
             "linecolor": "white",
             "minorgridcolor": "white",
             "startlinecolor": "#2a3f5f"
            },
            "baxis": {
             "endlinecolor": "#2a3f5f",
             "gridcolor": "white",
             "linecolor": "white",
             "minorgridcolor": "white",
             "startlinecolor": "#2a3f5f"
            },
            "type": "carpet"
           }
          ],
          "choropleth": [
           {
            "colorbar": {
             "outlinewidth": 0,
             "ticks": ""
            },
            "type": "choropleth"
           }
          ],
          "contour": [
           {
            "colorbar": {
             "outlinewidth": 0,
             "ticks": ""
            },
            "colorscale": [
             [
              0,
              "#0d0887"
             ],
             [
              0.1111111111111111,
              "#46039f"
             ],
             [
              0.2222222222222222,
              "#7201a8"
             ],
             [
              0.3333333333333333,
              "#9c179e"
             ],
             [
              0.4444444444444444,
              "#bd3786"
             ],
             [
              0.5555555555555556,
              "#d8576b"
             ],
             [
              0.6666666666666666,
              "#ed7953"
             ],
             [
              0.7777777777777778,
              "#fb9f3a"
             ],
             [
              0.8888888888888888,
              "#fdca26"
             ],
             [
              1,
              "#f0f921"
             ]
            ],
            "type": "contour"
           }
          ],
          "contourcarpet": [
           {
            "colorbar": {
             "outlinewidth": 0,
             "ticks": ""
            },
            "type": "contourcarpet"
           }
          ],
          "heatmap": [
           {
            "colorbar": {
             "outlinewidth": 0,
             "ticks": ""
            },
            "colorscale": [
             [
              0,
              "#0d0887"
             ],
             [
              0.1111111111111111,
              "#46039f"
             ],
             [
              0.2222222222222222,
              "#7201a8"
             ],
             [
              0.3333333333333333,
              "#9c179e"
             ],
             [
              0.4444444444444444,
              "#bd3786"
             ],
             [
              0.5555555555555556,
              "#d8576b"
             ],
             [
              0.6666666666666666,
              "#ed7953"
             ],
             [
              0.7777777777777778,
              "#fb9f3a"
             ],
             [
              0.8888888888888888,
              "#fdca26"
             ],
             [
              1,
              "#f0f921"
             ]
            ],
            "type": "heatmap"
           }
          ],
          "heatmapgl": [
           {
            "colorbar": {
             "outlinewidth": 0,
             "ticks": ""
            },
            "colorscale": [
             [
              0,
              "#0d0887"
             ],
             [
              0.1111111111111111,
              "#46039f"
             ],
             [
              0.2222222222222222,
              "#7201a8"
             ],
             [
              0.3333333333333333,
              "#9c179e"
             ],
             [
              0.4444444444444444,
              "#bd3786"
             ],
             [
              0.5555555555555556,
              "#d8576b"
             ],
             [
              0.6666666666666666,
              "#ed7953"
             ],
             [
              0.7777777777777778,
              "#fb9f3a"
             ],
             [
              0.8888888888888888,
              "#fdca26"
             ],
             [
              1,
              "#f0f921"
             ]
            ],
            "type": "heatmapgl"
           }
          ],
          "histogram": [
           {
            "marker": {
             "pattern": {
              "fillmode": "overlay",
              "size": 10,
              "solidity": 0.2
             }
            },
            "type": "histogram"
           }
          ],
          "histogram2d": [
           {
            "colorbar": {
             "outlinewidth": 0,
             "ticks": ""
            },
            "colorscale": [
             [
              0,
              "#0d0887"
             ],
             [
              0.1111111111111111,
              "#46039f"
             ],
             [
              0.2222222222222222,
              "#7201a8"
             ],
             [
              0.3333333333333333,
              "#9c179e"
             ],
             [
              0.4444444444444444,
              "#bd3786"
             ],
             [
              0.5555555555555556,
              "#d8576b"
             ],
             [
              0.6666666666666666,
              "#ed7953"
             ],
             [
              0.7777777777777778,
              "#fb9f3a"
             ],
             [
              0.8888888888888888,
              "#fdca26"
             ],
             [
              1,
              "#f0f921"
             ]
            ],
            "type": "histogram2d"
           }
          ],
          "histogram2dcontour": [
           {
            "colorbar": {
             "outlinewidth": 0,
             "ticks": ""
            },
            "colorscale": [
             [
              0,
              "#0d0887"
             ],
             [
              0.1111111111111111,
              "#46039f"
             ],
             [
              0.2222222222222222,
              "#7201a8"
             ],
             [
              0.3333333333333333,
              "#9c179e"
             ],
             [
              0.4444444444444444,
              "#bd3786"
             ],
             [
              0.5555555555555556,
              "#d8576b"
             ],
             [
              0.6666666666666666,
              "#ed7953"
             ],
             [
              0.7777777777777778,
              "#fb9f3a"
             ],
             [
              0.8888888888888888,
              "#fdca26"
             ],
             [
              1,
              "#f0f921"
             ]
            ],
            "type": "histogram2dcontour"
           }
          ],
          "mesh3d": [
           {
            "colorbar": {
             "outlinewidth": 0,
             "ticks": ""
            },
            "type": "mesh3d"
           }
          ],
          "parcoords": [
           {
            "line": {
             "colorbar": {
              "outlinewidth": 0,
              "ticks": ""
             }
            },
            "type": "parcoords"
           }
          ],
          "pie": [
           {
            "automargin": true,
            "type": "pie"
           }
          ],
          "scatter": [
           {
            "fillpattern": {
             "fillmode": "overlay",
             "size": 10,
             "solidity": 0.2
            },
            "type": "scatter"
           }
          ],
          "scatter3d": [
           {
            "line": {
             "colorbar": {
              "outlinewidth": 0,
              "ticks": ""
             }
            },
            "marker": {
             "colorbar": {
              "outlinewidth": 0,
              "ticks": ""
             }
            },
            "type": "scatter3d"
           }
          ],
          "scattercarpet": [
           {
            "marker": {
             "colorbar": {
              "outlinewidth": 0,
              "ticks": ""
             }
            },
            "type": "scattercarpet"
           }
          ],
          "scattergeo": [
           {
            "marker": {
             "colorbar": {
              "outlinewidth": 0,
              "ticks": ""
             }
            },
            "type": "scattergeo"
           }
          ],
          "scattergl": [
           {
            "marker": {
             "colorbar": {
              "outlinewidth": 0,
              "ticks": ""
             }
            },
            "type": "scattergl"
           }
          ],
          "scattermapbox": [
           {
            "marker": {
             "colorbar": {
              "outlinewidth": 0,
              "ticks": ""
             }
            },
            "type": "scattermapbox"
           }
          ],
          "scatterpolar": [
           {
            "marker": {
             "colorbar": {
              "outlinewidth": 0,
              "ticks": ""
             }
            },
            "type": "scatterpolar"
           }
          ],
          "scatterpolargl": [
           {
            "marker": {
             "colorbar": {
              "outlinewidth": 0,
              "ticks": ""
             }
            },
            "type": "scatterpolargl"
           }
          ],
          "scatterternary": [
           {
            "marker": {
             "colorbar": {
              "outlinewidth": 0,
              "ticks": ""
             }
            },
            "type": "scatterternary"
           }
          ],
          "surface": [
           {
            "colorbar": {
             "outlinewidth": 0,
             "ticks": ""
            },
            "colorscale": [
             [
              0,
              "#0d0887"
             ],
             [
              0.1111111111111111,
              "#46039f"
             ],
             [
              0.2222222222222222,
              "#7201a8"
             ],
             [
              0.3333333333333333,
              "#9c179e"
             ],
             [
              0.4444444444444444,
              "#bd3786"
             ],
             [
              0.5555555555555556,
              "#d8576b"
             ],
             [
              0.6666666666666666,
              "#ed7953"
             ],
             [
              0.7777777777777778,
              "#fb9f3a"
             ],
             [
              0.8888888888888888,
              "#fdca26"
             ],
             [
              1,
              "#f0f921"
             ]
            ],
            "type": "surface"
           }
          ],
          "table": [
           {
            "cells": {
             "fill": {
              "color": "#EBF0F8"
             },
             "line": {
              "color": "white"
             }
            },
            "header": {
             "fill": {
              "color": "#C8D4E3"
             },
             "line": {
              "color": "white"
             }
            },
            "type": "table"
           }
          ]
         },
         "layout": {
          "annotationdefaults": {
           "arrowcolor": "#2a3f5f",
           "arrowhead": 0,
           "arrowwidth": 1
          },
          "autotypenumbers": "strict",
          "coloraxis": {
           "colorbar": {
            "outlinewidth": 0,
            "ticks": ""
           }
          },
          "colorscale": {
           "diverging": [
            [
             0,
             "#8e0152"
            ],
            [
             0.1,
             "#c51b7d"
            ],
            [
             0.2,
             "#de77ae"
            ],
            [
             0.3,
             "#f1b6da"
            ],
            [
             0.4,
             "#fde0ef"
            ],
            [
             0.5,
             "#f7f7f7"
            ],
            [
             0.6,
             "#e6f5d0"
            ],
            [
             0.7,
             "#b8e186"
            ],
            [
             0.8,
             "#7fbc41"
            ],
            [
             0.9,
             "#4d9221"
            ],
            [
             1,
             "#276419"
            ]
           ],
           "sequential": [
            [
             0,
             "#0d0887"
            ],
            [
             0.1111111111111111,
             "#46039f"
            ],
            [
             0.2222222222222222,
             "#7201a8"
            ],
            [
             0.3333333333333333,
             "#9c179e"
            ],
            [
             0.4444444444444444,
             "#bd3786"
            ],
            [
             0.5555555555555556,
             "#d8576b"
            ],
            [
             0.6666666666666666,
             "#ed7953"
            ],
            [
             0.7777777777777778,
             "#fb9f3a"
            ],
            [
             0.8888888888888888,
             "#fdca26"
            ],
            [
             1,
             "#f0f921"
            ]
           ],
           "sequentialminus": [
            [
             0,
             "#0d0887"
            ],
            [
             0.1111111111111111,
             "#46039f"
            ],
            [
             0.2222222222222222,
             "#7201a8"
            ],
            [
             0.3333333333333333,
             "#9c179e"
            ],
            [
             0.4444444444444444,
             "#bd3786"
            ],
            [
             0.5555555555555556,
             "#d8576b"
            ],
            [
             0.6666666666666666,
             "#ed7953"
            ],
            [
             0.7777777777777778,
             "#fb9f3a"
            ],
            [
             0.8888888888888888,
             "#fdca26"
            ],
            [
             1,
             "#f0f921"
            ]
           ]
          },
          "colorway": [
           "#636efa",
           "#EF553B",
           "#00cc96",
           "#ab63fa",
           "#FFA15A",
           "#19d3f3",
           "#FF6692",
           "#B6E880",
           "#FF97FF",
           "#FECB52"
          ],
          "font": {
           "color": "#2a3f5f"
          },
          "geo": {
           "bgcolor": "white",
           "lakecolor": "white",
           "landcolor": "#E5ECF6",
           "showlakes": true,
           "showland": true,
           "subunitcolor": "white"
          },
          "hoverlabel": {
           "align": "left"
          },
          "hovermode": "closest",
          "mapbox": {
           "style": "light"
          },
          "paper_bgcolor": "white",
          "plot_bgcolor": "#E5ECF6",
          "polar": {
           "angularaxis": {
            "gridcolor": "white",
            "linecolor": "white",
            "ticks": ""
           },
           "bgcolor": "#E5ECF6",
           "radialaxis": {
            "gridcolor": "white",
            "linecolor": "white",
            "ticks": ""
           }
          },
          "scene": {
           "xaxis": {
            "backgroundcolor": "#E5ECF6",
            "gridcolor": "white",
            "gridwidth": 2,
            "linecolor": "white",
            "showbackground": true,
            "ticks": "",
            "zerolinecolor": "white"
           },
           "yaxis": {
            "backgroundcolor": "#E5ECF6",
            "gridcolor": "white",
            "gridwidth": 2,
            "linecolor": "white",
            "showbackground": true,
            "ticks": "",
            "zerolinecolor": "white"
           },
           "zaxis": {
            "backgroundcolor": "#E5ECF6",
            "gridcolor": "white",
            "gridwidth": 2,
            "linecolor": "white",
            "showbackground": true,
            "ticks": "",
            "zerolinecolor": "white"
           }
          },
          "shapedefaults": {
           "line": {
            "color": "#2a3f5f"
           }
          },
          "ternary": {
           "aaxis": {
            "gridcolor": "white",
            "linecolor": "white",
            "ticks": ""
           },
           "baxis": {
            "gridcolor": "white",
            "linecolor": "white",
            "ticks": ""
           },
           "bgcolor": "#E5ECF6",
           "caxis": {
            "gridcolor": "white",
            "linecolor": "white",
            "ticks": ""
           }
          },
          "title": {
           "x": 0.05
          },
          "xaxis": {
           "automargin": true,
           "gridcolor": "white",
           "linecolor": "white",
           "ticks": "",
           "title": {
            "standoff": 15
           },
           "zerolinecolor": "white",
           "zerolinewidth": 2
          },
          "yaxis": {
           "automargin": true,
           "gridcolor": "white",
           "linecolor": "white",
           "ticks": "",
           "title": {
            "standoff": 15
           },
           "zerolinecolor": "white",
           "zerolinewidth": 2
          }
         }
        },
        "title": {
         "text": "Age Distribution"
        },
        "xaxis": {
         "anchor": "y",
         "domain": [
          0,
          1
         ],
         "title": {
          "text": "Age"
         }
        },
        "yaxis": {
         "anchor": "x",
         "domain": [
          0,
          1
         ],
         "title": {
          "text": "Count"
         }
        }
       }
      }
     },
     "metadata": {},
     "output_type": "display_data"
    }
   ],
   "source": [
    "# Prepare data for men, women, and both\n",
    "# Assuming `age_distribution` contains combined data, and separate dataframes exist for men and women\n",
    "men = oscar_actors_info['Actor age at movie release'].value_counts().reset_index()\n",
    "women = supporting_actress_info['Actor age at movie release'].value_counts().reset_index()\n",
    "\n",
    "# Rename columns for consistency\n",
    "men.columns = ['Age', 'Actors']\n",
    "women.columns = ['Age', 'Actresses']\n",
    "\n",
    "# Merge all into a single dataframe for plotting\n",
    "merged = men.merge(women, on='Age', how='outer').fillna(0)\n",
    "\n",
    "# Melt the data for easier plotting with Plotly\n",
    "melted = merged.melt(id_vars='Age', value_vars=['Actors', 'Actresses'], \n",
    "                     var_name='Group', value_name='Count')\n",
    "\n",
    "# Plot grouped bar chart\n",
    "fig = px.bar(melted, x='Age', y='Count', color='Group', barmode='group',\n",
    "             labels={'Age': 'Age', 'Count': 'Count', 'Group': 'Group'},\n",
    "             title='Age Distribution')\n",
    "fig.show()"
   ]
  },
  {
   "cell_type": "code",
   "execution_count": 313,
   "metadata": {},
   "outputs": [
    {
     "name": "stdout",
     "output_type": "stream",
     "text": [
      "['White Americans' nan 'Italian Americans' 'African Americans'\n",
      " 'Irish people' 'Serbian Americans' 'Mexican Americans' 'Jewish people'\n",
      " 'English people' 'German Americans' 'Cambodian Americans'\n",
      " 'Scottish people' 'Ukrainian Americans' 'American Jews' 'Puerto Ricans'\n",
      " 'Irish Americans' 'Spaniards' 'Irish Australians' 'Swedish Americans'\n",
      " 'Sámi people' 'Danish Americans' 'Scotch-Irish Americans'\n",
      " 'names of the Greeks' 'White people' 'Hungarian Americans'\n",
      " 'White British' 'Dutch Americans' 'European Americans'\n",
      " 'Scottish Americans' 'Greek Americans' 'French' 'Slovak Americans'\n",
      " 'Welsh people' 'Ashkenazi Jews' 'French Americans']\n"
     ]
    }
   ],
   "source": [
    "# Print all unique values in the 'Actor ethnicity' column\n",
    "unique_ethnicities = oscar_supporting_act_info['Actor ethnicity'].unique()\n",
    "\n",
    "# Display the unique values\n",
    "print(unique_ethnicities)"
   ]
  },
  {
   "cell_type": "code",
   "execution_count": 314,
   "metadata": {},
   "outputs": [
    {
     "data": {
      "application/vnd.plotly.v1+json": {
       "config": {
        "plotlyServerURL": "https://plot.ly"
       },
       "data": [
        {
         "coloraxis": "coloraxis",
         "geo": "geo",
         "hovertemplate": "<b>%{hovertext}</b><br><br>Country=%{location}<br>Count=%{z}<extra></extra>",
         "hovertext": [
          "United States of America",
          "United Kingdom",
          "Ireland",
          "Spain",
          "Germany",
          "Canada",
          "France",
          "Cambodia",
          "Australia",
          "Sweden",
          "Greece",
          "Japan"
         ],
         "locationmode": "country names",
         "locations": [
          "United States of America",
          "United Kingdom",
          "Ireland",
          "Spain",
          "Germany",
          "Canada",
          "France",
          "Cambodia",
          "Australia",
          "Sweden",
          "Greece",
          "Japan"
         ],
         "name": "",
         "type": "choropleth",
         "z": [
          109,
          22,
          2,
          2,
          2,
          2,
          2,
          1,
          1,
          1,
          1,
          1
         ]
        }
       ],
       "layout": {
        "coloraxis": {
         "colorbar": {
          "title": {
           "text": "Count"
          }
         },
         "colorscale": [
          [
           0,
           "#0d0887"
          ],
          [
           0.1111111111111111,
           "#46039f"
          ],
          [
           0.2222222222222222,
           "#7201a8"
          ],
          [
           0.3333333333333333,
           "#9c179e"
          ],
          [
           0.4444444444444444,
           "#bd3786"
          ],
          [
           0.5555555555555556,
           "#d8576b"
          ],
          [
           0.6666666666666666,
           "#ed7953"
          ],
          [
           0.7777777777777778,
           "#fb9f3a"
          ],
          [
           0.8888888888888888,
           "#fdca26"
          ],
          [
           1,
           "#f0f921"
          ]
         ]
        },
        "geo": {
         "center": {},
         "domain": {
          "x": [
           0,
           1
          ],
          "y": [
           0,
           1
          ]
         },
         "showcountries": true
        },
        "legend": {
         "tracegroupgap": 0
        },
        "template": {
         "data": {
          "bar": [
           {
            "error_x": {
             "color": "#2a3f5f"
            },
            "error_y": {
             "color": "#2a3f5f"
            },
            "marker": {
             "line": {
              "color": "#E5ECF6",
              "width": 0.5
             },
             "pattern": {
              "fillmode": "overlay",
              "size": 10,
              "solidity": 0.2
             }
            },
            "type": "bar"
           }
          ],
          "barpolar": [
           {
            "marker": {
             "line": {
              "color": "#E5ECF6",
              "width": 0.5
             },
             "pattern": {
              "fillmode": "overlay",
              "size": 10,
              "solidity": 0.2
             }
            },
            "type": "barpolar"
           }
          ],
          "carpet": [
           {
            "aaxis": {
             "endlinecolor": "#2a3f5f",
             "gridcolor": "white",
             "linecolor": "white",
             "minorgridcolor": "white",
             "startlinecolor": "#2a3f5f"
            },
            "baxis": {
             "endlinecolor": "#2a3f5f",
             "gridcolor": "white",
             "linecolor": "white",
             "minorgridcolor": "white",
             "startlinecolor": "#2a3f5f"
            },
            "type": "carpet"
           }
          ],
          "choropleth": [
           {
            "colorbar": {
             "outlinewidth": 0,
             "ticks": ""
            },
            "type": "choropleth"
           }
          ],
          "contour": [
           {
            "colorbar": {
             "outlinewidth": 0,
             "ticks": ""
            },
            "colorscale": [
             [
              0,
              "#0d0887"
             ],
             [
              0.1111111111111111,
              "#46039f"
             ],
             [
              0.2222222222222222,
              "#7201a8"
             ],
             [
              0.3333333333333333,
              "#9c179e"
             ],
             [
              0.4444444444444444,
              "#bd3786"
             ],
             [
              0.5555555555555556,
              "#d8576b"
             ],
             [
              0.6666666666666666,
              "#ed7953"
             ],
             [
              0.7777777777777778,
              "#fb9f3a"
             ],
             [
              0.8888888888888888,
              "#fdca26"
             ],
             [
              1,
              "#f0f921"
             ]
            ],
            "type": "contour"
           }
          ],
          "contourcarpet": [
           {
            "colorbar": {
             "outlinewidth": 0,
             "ticks": ""
            },
            "type": "contourcarpet"
           }
          ],
          "heatmap": [
           {
            "colorbar": {
             "outlinewidth": 0,
             "ticks": ""
            },
            "colorscale": [
             [
              0,
              "#0d0887"
             ],
             [
              0.1111111111111111,
              "#46039f"
             ],
             [
              0.2222222222222222,
              "#7201a8"
             ],
             [
              0.3333333333333333,
              "#9c179e"
             ],
             [
              0.4444444444444444,
              "#bd3786"
             ],
             [
              0.5555555555555556,
              "#d8576b"
             ],
             [
              0.6666666666666666,
              "#ed7953"
             ],
             [
              0.7777777777777778,
              "#fb9f3a"
             ],
             [
              0.8888888888888888,
              "#fdca26"
             ],
             [
              1,
              "#f0f921"
             ]
            ],
            "type": "heatmap"
           }
          ],
          "heatmapgl": [
           {
            "colorbar": {
             "outlinewidth": 0,
             "ticks": ""
            },
            "colorscale": [
             [
              0,
              "#0d0887"
             ],
             [
              0.1111111111111111,
              "#46039f"
             ],
             [
              0.2222222222222222,
              "#7201a8"
             ],
             [
              0.3333333333333333,
              "#9c179e"
             ],
             [
              0.4444444444444444,
              "#bd3786"
             ],
             [
              0.5555555555555556,
              "#d8576b"
             ],
             [
              0.6666666666666666,
              "#ed7953"
             ],
             [
              0.7777777777777778,
              "#fb9f3a"
             ],
             [
              0.8888888888888888,
              "#fdca26"
             ],
             [
              1,
              "#f0f921"
             ]
            ],
            "type": "heatmapgl"
           }
          ],
          "histogram": [
           {
            "marker": {
             "pattern": {
              "fillmode": "overlay",
              "size": 10,
              "solidity": 0.2
             }
            },
            "type": "histogram"
           }
          ],
          "histogram2d": [
           {
            "colorbar": {
             "outlinewidth": 0,
             "ticks": ""
            },
            "colorscale": [
             [
              0,
              "#0d0887"
             ],
             [
              0.1111111111111111,
              "#46039f"
             ],
             [
              0.2222222222222222,
              "#7201a8"
             ],
             [
              0.3333333333333333,
              "#9c179e"
             ],
             [
              0.4444444444444444,
              "#bd3786"
             ],
             [
              0.5555555555555556,
              "#d8576b"
             ],
             [
              0.6666666666666666,
              "#ed7953"
             ],
             [
              0.7777777777777778,
              "#fb9f3a"
             ],
             [
              0.8888888888888888,
              "#fdca26"
             ],
             [
              1,
              "#f0f921"
             ]
            ],
            "type": "histogram2d"
           }
          ],
          "histogram2dcontour": [
           {
            "colorbar": {
             "outlinewidth": 0,
             "ticks": ""
            },
            "colorscale": [
             [
              0,
              "#0d0887"
             ],
             [
              0.1111111111111111,
              "#46039f"
             ],
             [
              0.2222222222222222,
              "#7201a8"
             ],
             [
              0.3333333333333333,
              "#9c179e"
             ],
             [
              0.4444444444444444,
              "#bd3786"
             ],
             [
              0.5555555555555556,
              "#d8576b"
             ],
             [
              0.6666666666666666,
              "#ed7953"
             ],
             [
              0.7777777777777778,
              "#fb9f3a"
             ],
             [
              0.8888888888888888,
              "#fdca26"
             ],
             [
              1,
              "#f0f921"
             ]
            ],
            "type": "histogram2dcontour"
           }
          ],
          "mesh3d": [
           {
            "colorbar": {
             "outlinewidth": 0,
             "ticks": ""
            },
            "type": "mesh3d"
           }
          ],
          "parcoords": [
           {
            "line": {
             "colorbar": {
              "outlinewidth": 0,
              "ticks": ""
             }
            },
            "type": "parcoords"
           }
          ],
          "pie": [
           {
            "automargin": true,
            "type": "pie"
           }
          ],
          "scatter": [
           {
            "fillpattern": {
             "fillmode": "overlay",
             "size": 10,
             "solidity": 0.2
            },
            "type": "scatter"
           }
          ],
          "scatter3d": [
           {
            "line": {
             "colorbar": {
              "outlinewidth": 0,
              "ticks": ""
             }
            },
            "marker": {
             "colorbar": {
              "outlinewidth": 0,
              "ticks": ""
             }
            },
            "type": "scatter3d"
           }
          ],
          "scattercarpet": [
           {
            "marker": {
             "colorbar": {
              "outlinewidth": 0,
              "ticks": ""
             }
            },
            "type": "scattercarpet"
           }
          ],
          "scattergeo": [
           {
            "marker": {
             "colorbar": {
              "outlinewidth": 0,
              "ticks": ""
             }
            },
            "type": "scattergeo"
           }
          ],
          "scattergl": [
           {
            "marker": {
             "colorbar": {
              "outlinewidth": 0,
              "ticks": ""
             }
            },
            "type": "scattergl"
           }
          ],
          "scattermapbox": [
           {
            "marker": {
             "colorbar": {
              "outlinewidth": 0,
              "ticks": ""
             }
            },
            "type": "scattermapbox"
           }
          ],
          "scatterpolar": [
           {
            "marker": {
             "colorbar": {
              "outlinewidth": 0,
              "ticks": ""
             }
            },
            "type": "scatterpolar"
           }
          ],
          "scatterpolargl": [
           {
            "marker": {
             "colorbar": {
              "outlinewidth": 0,
              "ticks": ""
             }
            },
            "type": "scatterpolargl"
           }
          ],
          "scatterternary": [
           {
            "marker": {
             "colorbar": {
              "outlinewidth": 0,
              "ticks": ""
             }
            },
            "type": "scatterternary"
           }
          ],
          "surface": [
           {
            "colorbar": {
             "outlinewidth": 0,
             "ticks": ""
            },
            "colorscale": [
             [
              0,
              "#0d0887"
             ],
             [
              0.1111111111111111,
              "#46039f"
             ],
             [
              0.2222222222222222,
              "#7201a8"
             ],
             [
              0.3333333333333333,
              "#9c179e"
             ],
             [
              0.4444444444444444,
              "#bd3786"
             ],
             [
              0.5555555555555556,
              "#d8576b"
             ],
             [
              0.6666666666666666,
              "#ed7953"
             ],
             [
              0.7777777777777778,
              "#fb9f3a"
             ],
             [
              0.8888888888888888,
              "#fdca26"
             ],
             [
              1,
              "#f0f921"
             ]
            ],
            "type": "surface"
           }
          ],
          "table": [
           {
            "cells": {
             "fill": {
              "color": "#EBF0F8"
             },
             "line": {
              "color": "white"
             }
            },
            "header": {
             "fill": {
              "color": "#C8D4E3"
             },
             "line": {
              "color": "white"
             }
            },
            "type": "table"
           }
          ]
         },
         "layout": {
          "annotationdefaults": {
           "arrowcolor": "#2a3f5f",
           "arrowhead": 0,
           "arrowwidth": 1
          },
          "autotypenumbers": "strict",
          "coloraxis": {
           "colorbar": {
            "outlinewidth": 0,
            "ticks": ""
           }
          },
          "colorscale": {
           "diverging": [
            [
             0,
             "#8e0152"
            ],
            [
             0.1,
             "#c51b7d"
            ],
            [
             0.2,
             "#de77ae"
            ],
            [
             0.3,
             "#f1b6da"
            ],
            [
             0.4,
             "#fde0ef"
            ],
            [
             0.5,
             "#f7f7f7"
            ],
            [
             0.6,
             "#e6f5d0"
            ],
            [
             0.7,
             "#b8e186"
            ],
            [
             0.8,
             "#7fbc41"
            ],
            [
             0.9,
             "#4d9221"
            ],
            [
             1,
             "#276419"
            ]
           ],
           "sequential": [
            [
             0,
             "#0d0887"
            ],
            [
             0.1111111111111111,
             "#46039f"
            ],
            [
             0.2222222222222222,
             "#7201a8"
            ],
            [
             0.3333333333333333,
             "#9c179e"
            ],
            [
             0.4444444444444444,
             "#bd3786"
            ],
            [
             0.5555555555555556,
             "#d8576b"
            ],
            [
             0.6666666666666666,
             "#ed7953"
            ],
            [
             0.7777777777777778,
             "#fb9f3a"
            ],
            [
             0.8888888888888888,
             "#fdca26"
            ],
            [
             1,
             "#f0f921"
            ]
           ],
           "sequentialminus": [
            [
             0,
             "#0d0887"
            ],
            [
             0.1111111111111111,
             "#46039f"
            ],
            [
             0.2222222222222222,
             "#7201a8"
            ],
            [
             0.3333333333333333,
             "#9c179e"
            ],
            [
             0.4444444444444444,
             "#bd3786"
            ],
            [
             0.5555555555555556,
             "#d8576b"
            ],
            [
             0.6666666666666666,
             "#ed7953"
            ],
            [
             0.7777777777777778,
             "#fb9f3a"
            ],
            [
             0.8888888888888888,
             "#fdca26"
            ],
            [
             1,
             "#f0f921"
            ]
           ]
          },
          "colorway": [
           "#636efa",
           "#EF553B",
           "#00cc96",
           "#ab63fa",
           "#FFA15A",
           "#19d3f3",
           "#FF6692",
           "#B6E880",
           "#FF97FF",
           "#FECB52"
          ],
          "font": {
           "color": "#2a3f5f"
          },
          "geo": {
           "bgcolor": "white",
           "lakecolor": "white",
           "landcolor": "#E5ECF6",
           "showlakes": true,
           "showland": true,
           "subunitcolor": "white"
          },
          "hoverlabel": {
           "align": "left"
          },
          "hovermode": "closest",
          "mapbox": {
           "style": "light"
          },
          "paper_bgcolor": "white",
          "plot_bgcolor": "#E5ECF6",
          "polar": {
           "angularaxis": {
            "gridcolor": "white",
            "linecolor": "white",
            "ticks": ""
           },
           "bgcolor": "#E5ECF6",
           "radialaxis": {
            "gridcolor": "white",
            "linecolor": "white",
            "ticks": ""
           }
          },
          "scene": {
           "xaxis": {
            "backgroundcolor": "#E5ECF6",
            "gridcolor": "white",
            "gridwidth": 2,
            "linecolor": "white",
            "showbackground": true,
            "ticks": "",
            "zerolinecolor": "white"
           },
           "yaxis": {
            "backgroundcolor": "#E5ECF6",
            "gridcolor": "white",
            "gridwidth": 2,
            "linecolor": "white",
            "showbackground": true,
            "ticks": "",
            "zerolinecolor": "white"
           },
           "zaxis": {
            "backgroundcolor": "#E5ECF6",
            "gridcolor": "white",
            "gridwidth": 2,
            "linecolor": "white",
            "showbackground": true,
            "ticks": "",
            "zerolinecolor": "white"
           }
          },
          "shapedefaults": {
           "line": {
            "color": "#2a3f5f"
           }
          },
          "ternary": {
           "aaxis": {
            "gridcolor": "white",
            "linecolor": "white",
            "ticks": ""
           },
           "baxis": {
            "gridcolor": "white",
            "linecolor": "white",
            "ticks": ""
           },
           "bgcolor": "#E5ECF6",
           "caxis": {
            "gridcolor": "white",
            "linecolor": "white",
            "ticks": ""
           }
          },
          "title": {
           "x": 0.05
          },
          "xaxis": {
           "automargin": true,
           "gridcolor": "white",
           "linecolor": "white",
           "ticks": "",
           "title": {
            "standoff": 15
           },
           "zerolinecolor": "white",
           "zerolinewidth": 2
          },
          "yaxis": {
           "automargin": true,
           "gridcolor": "white",
           "linecolor": "white",
           "ticks": "",
           "title": {
            "standoff": 15
           },
           "zerolinecolor": "white",
           "zerolinewidth": 2
          }
         }
        },
        "title": {
         "text": "Heatmap of Oscar Winning Actors by Country"
        }
       }
      }
     },
     "metadata": {},
     "output_type": "display_data"
    }
   ],
   "source": [
    "country_counts = oscar_supporting_act_info['countryOfCitizenshipLabel'].value_counts()\n",
    "country_counts = country_counts.reset_index()\n",
    "country_counts.columns = ['Country', 'Count']\n",
    "\n",
    "fig = px.choropleth(country_counts, \n",
    "                    locations=\"Country\", \n",
    "                    locationmode='country names', \n",
    "                    color=\"Count\", \n",
    "                    hover_name=\"Country\", \n",
    "                    title=\"Heatmap of Oscar Winning Actors by Country\")\n",
    "fig.update_geos(showcountries=True)\n",
    "fig.show()"
   ]
  },
  {
   "cell_type": "code",
   "execution_count": 315,
   "metadata": {},
   "outputs": [
    {
     "data": {
      "application/vnd.plotly.v1+json": {
       "config": {
        "plotlyServerURL": "https://plot.ly"
       },
       "data": [
        {
         "coloraxis": "coloraxis",
         "geo": "geo",
         "hovertemplate": "<b>%{hovertext}</b><br><br>Country=%{location}<br>Count=%{z}<extra></extra>",
         "hovertext": [
          "United States of America",
          "United Kingdom",
          "Ireland",
          "Spain",
          "Germany",
          "Canada",
          "France",
          "Cambodia",
          "Australia",
          "Sweden",
          "Greece",
          "Japan"
         ],
         "locationmode": "country names",
         "locations": [
          "United States of America",
          "United Kingdom",
          "Ireland",
          "Spain",
          "Germany",
          "Canada",
          "France",
          "Cambodia",
          "Australia",
          "Sweden",
          "Greece",
          "Japan"
         ],
         "name": "",
         "type": "choropleth",
         "z": [
          109,
          22,
          2,
          2,
          2,
          2,
          2,
          1,
          1,
          1,
          1,
          1
         ]
        }
       ],
       "layout": {
        "coloraxis": {
         "colorbar": {
          "title": {
           "text": "Count"
          }
         },
         "colorscale": [
          [
           0,
           "#0d0887"
          ],
          [
           0.1111111111111111,
           "#46039f"
          ],
          [
           0.2222222222222222,
           "#7201a8"
          ],
          [
           0.3333333333333333,
           "#9c179e"
          ],
          [
           0.4444444444444444,
           "#bd3786"
          ],
          [
           0.5555555555555556,
           "#d8576b"
          ],
          [
           0.6666666666666666,
           "#ed7953"
          ],
          [
           0.7777777777777778,
           "#fb9f3a"
          ],
          [
           0.8888888888888888,
           "#fdca26"
          ],
          [
           1,
           "#f0f921"
          ]
         ]
        },
        "geo": {
         "center": {},
         "domain": {
          "x": [
           0,
           1
          ],
          "y": [
           0,
           1
          ]
         },
         "lataxis": {
          "range": [
           35,
           70
          ]
         },
         "lonaxis": {
          "range": [
           -10,
           40
          ]
         },
         "showcountries": true,
         "visible": true
        },
        "legend": {
         "tracegroupgap": 0
        },
        "template": {
         "data": {
          "bar": [
           {
            "error_x": {
             "color": "#2a3f5f"
            },
            "error_y": {
             "color": "#2a3f5f"
            },
            "marker": {
             "line": {
              "color": "#E5ECF6",
              "width": 0.5
             },
             "pattern": {
              "fillmode": "overlay",
              "size": 10,
              "solidity": 0.2
             }
            },
            "type": "bar"
           }
          ],
          "barpolar": [
           {
            "marker": {
             "line": {
              "color": "#E5ECF6",
              "width": 0.5
             },
             "pattern": {
              "fillmode": "overlay",
              "size": 10,
              "solidity": 0.2
             }
            },
            "type": "barpolar"
           }
          ],
          "carpet": [
           {
            "aaxis": {
             "endlinecolor": "#2a3f5f",
             "gridcolor": "white",
             "linecolor": "white",
             "minorgridcolor": "white",
             "startlinecolor": "#2a3f5f"
            },
            "baxis": {
             "endlinecolor": "#2a3f5f",
             "gridcolor": "white",
             "linecolor": "white",
             "minorgridcolor": "white",
             "startlinecolor": "#2a3f5f"
            },
            "type": "carpet"
           }
          ],
          "choropleth": [
           {
            "colorbar": {
             "outlinewidth": 0,
             "ticks": ""
            },
            "type": "choropleth"
           }
          ],
          "contour": [
           {
            "colorbar": {
             "outlinewidth": 0,
             "ticks": ""
            },
            "colorscale": [
             [
              0,
              "#0d0887"
             ],
             [
              0.1111111111111111,
              "#46039f"
             ],
             [
              0.2222222222222222,
              "#7201a8"
             ],
             [
              0.3333333333333333,
              "#9c179e"
             ],
             [
              0.4444444444444444,
              "#bd3786"
             ],
             [
              0.5555555555555556,
              "#d8576b"
             ],
             [
              0.6666666666666666,
              "#ed7953"
             ],
             [
              0.7777777777777778,
              "#fb9f3a"
             ],
             [
              0.8888888888888888,
              "#fdca26"
             ],
             [
              1,
              "#f0f921"
             ]
            ],
            "type": "contour"
           }
          ],
          "contourcarpet": [
           {
            "colorbar": {
             "outlinewidth": 0,
             "ticks": ""
            },
            "type": "contourcarpet"
           }
          ],
          "heatmap": [
           {
            "colorbar": {
             "outlinewidth": 0,
             "ticks": ""
            },
            "colorscale": [
             [
              0,
              "#0d0887"
             ],
             [
              0.1111111111111111,
              "#46039f"
             ],
             [
              0.2222222222222222,
              "#7201a8"
             ],
             [
              0.3333333333333333,
              "#9c179e"
             ],
             [
              0.4444444444444444,
              "#bd3786"
             ],
             [
              0.5555555555555556,
              "#d8576b"
             ],
             [
              0.6666666666666666,
              "#ed7953"
             ],
             [
              0.7777777777777778,
              "#fb9f3a"
             ],
             [
              0.8888888888888888,
              "#fdca26"
             ],
             [
              1,
              "#f0f921"
             ]
            ],
            "type": "heatmap"
           }
          ],
          "heatmapgl": [
           {
            "colorbar": {
             "outlinewidth": 0,
             "ticks": ""
            },
            "colorscale": [
             [
              0,
              "#0d0887"
             ],
             [
              0.1111111111111111,
              "#46039f"
             ],
             [
              0.2222222222222222,
              "#7201a8"
             ],
             [
              0.3333333333333333,
              "#9c179e"
             ],
             [
              0.4444444444444444,
              "#bd3786"
             ],
             [
              0.5555555555555556,
              "#d8576b"
             ],
             [
              0.6666666666666666,
              "#ed7953"
             ],
             [
              0.7777777777777778,
              "#fb9f3a"
             ],
             [
              0.8888888888888888,
              "#fdca26"
             ],
             [
              1,
              "#f0f921"
             ]
            ],
            "type": "heatmapgl"
           }
          ],
          "histogram": [
           {
            "marker": {
             "pattern": {
              "fillmode": "overlay",
              "size": 10,
              "solidity": 0.2
             }
            },
            "type": "histogram"
           }
          ],
          "histogram2d": [
           {
            "colorbar": {
             "outlinewidth": 0,
             "ticks": ""
            },
            "colorscale": [
             [
              0,
              "#0d0887"
             ],
             [
              0.1111111111111111,
              "#46039f"
             ],
             [
              0.2222222222222222,
              "#7201a8"
             ],
             [
              0.3333333333333333,
              "#9c179e"
             ],
             [
              0.4444444444444444,
              "#bd3786"
             ],
             [
              0.5555555555555556,
              "#d8576b"
             ],
             [
              0.6666666666666666,
              "#ed7953"
             ],
             [
              0.7777777777777778,
              "#fb9f3a"
             ],
             [
              0.8888888888888888,
              "#fdca26"
             ],
             [
              1,
              "#f0f921"
             ]
            ],
            "type": "histogram2d"
           }
          ],
          "histogram2dcontour": [
           {
            "colorbar": {
             "outlinewidth": 0,
             "ticks": ""
            },
            "colorscale": [
             [
              0,
              "#0d0887"
             ],
             [
              0.1111111111111111,
              "#46039f"
             ],
             [
              0.2222222222222222,
              "#7201a8"
             ],
             [
              0.3333333333333333,
              "#9c179e"
             ],
             [
              0.4444444444444444,
              "#bd3786"
             ],
             [
              0.5555555555555556,
              "#d8576b"
             ],
             [
              0.6666666666666666,
              "#ed7953"
             ],
             [
              0.7777777777777778,
              "#fb9f3a"
             ],
             [
              0.8888888888888888,
              "#fdca26"
             ],
             [
              1,
              "#f0f921"
             ]
            ],
            "type": "histogram2dcontour"
           }
          ],
          "mesh3d": [
           {
            "colorbar": {
             "outlinewidth": 0,
             "ticks": ""
            },
            "type": "mesh3d"
           }
          ],
          "parcoords": [
           {
            "line": {
             "colorbar": {
              "outlinewidth": 0,
              "ticks": ""
             }
            },
            "type": "parcoords"
           }
          ],
          "pie": [
           {
            "automargin": true,
            "type": "pie"
           }
          ],
          "scatter": [
           {
            "fillpattern": {
             "fillmode": "overlay",
             "size": 10,
             "solidity": 0.2
            },
            "type": "scatter"
           }
          ],
          "scatter3d": [
           {
            "line": {
             "colorbar": {
              "outlinewidth": 0,
              "ticks": ""
             }
            },
            "marker": {
             "colorbar": {
              "outlinewidth": 0,
              "ticks": ""
             }
            },
            "type": "scatter3d"
           }
          ],
          "scattercarpet": [
           {
            "marker": {
             "colorbar": {
              "outlinewidth": 0,
              "ticks": ""
             }
            },
            "type": "scattercarpet"
           }
          ],
          "scattergeo": [
           {
            "marker": {
             "colorbar": {
              "outlinewidth": 0,
              "ticks": ""
             }
            },
            "type": "scattergeo"
           }
          ],
          "scattergl": [
           {
            "marker": {
             "colorbar": {
              "outlinewidth": 0,
              "ticks": ""
             }
            },
            "type": "scattergl"
           }
          ],
          "scattermapbox": [
           {
            "marker": {
             "colorbar": {
              "outlinewidth": 0,
              "ticks": ""
             }
            },
            "type": "scattermapbox"
           }
          ],
          "scatterpolar": [
           {
            "marker": {
             "colorbar": {
              "outlinewidth": 0,
              "ticks": ""
             }
            },
            "type": "scatterpolar"
           }
          ],
          "scatterpolargl": [
           {
            "marker": {
             "colorbar": {
              "outlinewidth": 0,
              "ticks": ""
             }
            },
            "type": "scatterpolargl"
           }
          ],
          "scatterternary": [
           {
            "marker": {
             "colorbar": {
              "outlinewidth": 0,
              "ticks": ""
             }
            },
            "type": "scatterternary"
           }
          ],
          "surface": [
           {
            "colorbar": {
             "outlinewidth": 0,
             "ticks": ""
            },
            "colorscale": [
             [
              0,
              "#0d0887"
             ],
             [
              0.1111111111111111,
              "#46039f"
             ],
             [
              0.2222222222222222,
              "#7201a8"
             ],
             [
              0.3333333333333333,
              "#9c179e"
             ],
             [
              0.4444444444444444,
              "#bd3786"
             ],
             [
              0.5555555555555556,
              "#d8576b"
             ],
             [
              0.6666666666666666,
              "#ed7953"
             ],
             [
              0.7777777777777778,
              "#fb9f3a"
             ],
             [
              0.8888888888888888,
              "#fdca26"
             ],
             [
              1,
              "#f0f921"
             ]
            ],
            "type": "surface"
           }
          ],
          "table": [
           {
            "cells": {
             "fill": {
              "color": "#EBF0F8"
             },
             "line": {
              "color": "white"
             }
            },
            "header": {
             "fill": {
              "color": "#C8D4E3"
             },
             "line": {
              "color": "white"
             }
            },
            "type": "table"
           }
          ]
         },
         "layout": {
          "annotationdefaults": {
           "arrowcolor": "#2a3f5f",
           "arrowhead": 0,
           "arrowwidth": 1
          },
          "autotypenumbers": "strict",
          "coloraxis": {
           "colorbar": {
            "outlinewidth": 0,
            "ticks": ""
           }
          },
          "colorscale": {
           "diverging": [
            [
             0,
             "#8e0152"
            ],
            [
             0.1,
             "#c51b7d"
            ],
            [
             0.2,
             "#de77ae"
            ],
            [
             0.3,
             "#f1b6da"
            ],
            [
             0.4,
             "#fde0ef"
            ],
            [
             0.5,
             "#f7f7f7"
            ],
            [
             0.6,
             "#e6f5d0"
            ],
            [
             0.7,
             "#b8e186"
            ],
            [
             0.8,
             "#7fbc41"
            ],
            [
             0.9,
             "#4d9221"
            ],
            [
             1,
             "#276419"
            ]
           ],
           "sequential": [
            [
             0,
             "#0d0887"
            ],
            [
             0.1111111111111111,
             "#46039f"
            ],
            [
             0.2222222222222222,
             "#7201a8"
            ],
            [
             0.3333333333333333,
             "#9c179e"
            ],
            [
             0.4444444444444444,
             "#bd3786"
            ],
            [
             0.5555555555555556,
             "#d8576b"
            ],
            [
             0.6666666666666666,
             "#ed7953"
            ],
            [
             0.7777777777777778,
             "#fb9f3a"
            ],
            [
             0.8888888888888888,
             "#fdca26"
            ],
            [
             1,
             "#f0f921"
            ]
           ],
           "sequentialminus": [
            [
             0,
             "#0d0887"
            ],
            [
             0.1111111111111111,
             "#46039f"
            ],
            [
             0.2222222222222222,
             "#7201a8"
            ],
            [
             0.3333333333333333,
             "#9c179e"
            ],
            [
             0.4444444444444444,
             "#bd3786"
            ],
            [
             0.5555555555555556,
             "#d8576b"
            ],
            [
             0.6666666666666666,
             "#ed7953"
            ],
            [
             0.7777777777777778,
             "#fb9f3a"
            ],
            [
             0.8888888888888888,
             "#fdca26"
            ],
            [
             1,
             "#f0f921"
            ]
           ]
          },
          "colorway": [
           "#636efa",
           "#EF553B",
           "#00cc96",
           "#ab63fa",
           "#FFA15A",
           "#19d3f3",
           "#FF6692",
           "#B6E880",
           "#FF97FF",
           "#FECB52"
          ],
          "font": {
           "color": "#2a3f5f"
          },
          "geo": {
           "bgcolor": "white",
           "lakecolor": "white",
           "landcolor": "#E5ECF6",
           "showlakes": true,
           "showland": true,
           "subunitcolor": "white"
          },
          "hoverlabel": {
           "align": "left"
          },
          "hovermode": "closest",
          "mapbox": {
           "style": "light"
          },
          "paper_bgcolor": "white",
          "plot_bgcolor": "#E5ECF6",
          "polar": {
           "angularaxis": {
            "gridcolor": "white",
            "linecolor": "white",
            "ticks": ""
           },
           "bgcolor": "#E5ECF6",
           "radialaxis": {
            "gridcolor": "white",
            "linecolor": "white",
            "ticks": ""
           }
          },
          "scene": {
           "xaxis": {
            "backgroundcolor": "#E5ECF6",
            "gridcolor": "white",
            "gridwidth": 2,
            "linecolor": "white",
            "showbackground": true,
            "ticks": "",
            "zerolinecolor": "white"
           },
           "yaxis": {
            "backgroundcolor": "#E5ECF6",
            "gridcolor": "white",
            "gridwidth": 2,
            "linecolor": "white",
            "showbackground": true,
            "ticks": "",
            "zerolinecolor": "white"
           },
           "zaxis": {
            "backgroundcolor": "#E5ECF6",
            "gridcolor": "white",
            "gridwidth": 2,
            "linecolor": "white",
            "showbackground": true,
            "ticks": "",
            "zerolinecolor": "white"
           }
          },
          "shapedefaults": {
           "line": {
            "color": "#2a3f5f"
           }
          },
          "ternary": {
           "aaxis": {
            "gridcolor": "white",
            "linecolor": "white",
            "ticks": ""
           },
           "baxis": {
            "gridcolor": "white",
            "linecolor": "white",
            "ticks": ""
           },
           "bgcolor": "#E5ECF6",
           "caxis": {
            "gridcolor": "white",
            "linecolor": "white",
            "ticks": ""
           }
          },
          "title": {
           "x": 0.05
          },
          "xaxis": {
           "automargin": true,
           "gridcolor": "white",
           "linecolor": "white",
           "ticks": "",
           "title": {
            "standoff": 15
           },
           "zerolinecolor": "white",
           "zerolinewidth": 2
          },
          "yaxis": {
           "automargin": true,
           "gridcolor": "white",
           "linecolor": "white",
           "ticks": "",
           "title": {
            "standoff": 15
           },
           "zerolinecolor": "white",
           "zerolinewidth": 2
          }
         }
        },
        "title": {
         "text": "Heatmap of Oscar Winning Actors by Country"
        }
       }
      }
     },
     "metadata": {},
     "output_type": "display_data"
    }
   ],
   "source": [
    "country_counts = oscar_supporting_act_info['countryOfCitizenshipLabel'].value_counts()\n",
    "country_counts = country_counts.reset_index()\n",
    "country_counts.columns = ['Country', 'Count']\n",
    "\n",
    "fig = px.choropleth(country_counts, \n",
    "                    locations=\"Country\", \n",
    "                    locationmode='country names', \n",
    "                    color=\"Count\", \n",
    "                    hover_name=\"Country\", \n",
    "                    title=\"Heatmap of Oscar Winning Actors by Country\")\n",
    "fig.update_geos(showcountries=True, visible=True)\n",
    "fig.update_geos(lonaxis_range=[-10, 40], lataxis_range=[35, 70])\n",
    "fig.show()"
   ]
  },
  {
   "cell_type": "code",
   "execution_count": 316,
   "metadata": {},
   "outputs": [
    {
     "name": "stdout",
     "output_type": "stream",
     "text": [
      "Average Capital Cost of the movies starring the actresses: 20500000.0\n",
      "Average Box Office revenue of the movies starring the actresses: 48350205.0\n",
      "Average Benefits of the movies starring the actresses: 68286901.5\n"
     ]
    }
   ],
   "source": [
    "print('Average Capital Cost of the movies starring the actresses:', oscar_supporting_act_movies['capitalCost'].median()) \n",
    "print('Average Box Office revenue of the movies starring the actresses:', oscar_supporting_act_movies['Movie box office revenue'].median())\n",
    "print('Average Benefits of the movies starring the actresses:', (oscar_supporting_act_movies['Movie box office revenue'] - oscar_supporting_act_movies['capitalCost']).median())\n"
   ]
  },
  {
   "cell_type": "code",
   "execution_count": 317,
   "metadata": {},
   "outputs": [
    {
     "name": "stdout",
     "output_type": "stream",
     "text": [
      "Shape: (5381, 19)\n",
      "Columns: Index(['Wikipedia movie ID', 'Character name', 'Actor date of birth',\n",
      "       ' Actor gender', 'Actor height)', 'Actor ethnicity', 'Actor name',\n",
      "       'Actor age at movie release', 'Freebase character',\n",
      "       'Freebase character ID', 'Freebase actor ID', 'Freebase movie ID',\n",
      "       'Movie name', 'Movie release date', 'Movie box office revenue',\n",
      "       'Movie runtime', 'Movie languages', 'Movie countries', 'Movie genres'],\n",
      "      dtype='object')\n",
      "Date boundary: 1911.0 - 2014.0\n"
     ]
    }
   ],
   "source": [
    "oscar_act_movies_all = character[character['Freebase actor ID'].isin(oscar_supporting_act_info['Freebase actor ID'])]\n",
    "oscar_act_movies_all = oscar_act_movies_all.drop(columns=['Freebase movie ID', 'Movie release date'])\n",
    "oscar_act_movies_all = oscar_act_movies_all.merge(movie_cmu, on='Wikipedia movie ID', how='left')\n",
    "print('Shape:', oscar_act_movies_all.shape)\n",
    "print('Columns:', oscar_act_movies_all.columns)\n",
    "print('Date boundary:', oscar_act_movies_all['Movie release date'].min(), '-', oscar_act_movies_all['Movie release date'].max())"
   ]
  },
  {
   "cell_type": "code",
   "execution_count": 318,
   "metadata": {},
   "outputs": [],
   "source": [
    "# Create a set of unique (Actor name, Wikipedia movie ID) combinations for rewards\n",
    "best_act_movies = set(\n",
    "    zip(oscar_supporting_act_info['Actor name'], oscar_supporting_act_info['Wikipedia movie ID'])\n",
    ")\n",
    "\n",
    "# Add a new column indicating if the movie is a Best Actress Reward\n",
    "oscar_act_movies_all['Best Actress Reward'] = oscar_act_movies_all.apply(\n",
    "    lambda row: (row['Actor name'], row['Wikipedia movie ID']) in best_act_movies,\n",
    "    axis=1\n",
    ")"
   ]
  },
  {
   "cell_type": "code",
   "execution_count": 319,
   "metadata": {},
   "outputs": [
    {
     "data": {
      "application/vnd.plotly.v1+json": {
       "config": {
        "plotlyServerURL": "https://plot.ly"
       },
       "data": [
        {
         "alignmentgroup": "True",
         "hovertemplate": "Best Actress Reward=Non-Oscar-Winning<br>Movie Genre=%{x}<br>Number of Movies=%{y}<extra></extra>",
         "legendgroup": "Non-Oscar-Winning",
         "marker": {
          "color": "#636efa",
          "pattern": {
           "shape": ""
          }
         },
         "name": "Non-Oscar-Winning",
         "offsetgroup": "Non-Oscar-Winning",
         "orientation": "v",
         "showlegend": true,
         "textposition": "auto",
         "type": "bar",
         "x": [
          "Drama",
          "Comedy",
          "Romance Film",
          "Thriller",
          "Crime Fiction",
          "Action",
          "Action/Adventure",
          "Black-and-white",
          "Adventure",
          "Period piece",
          "Film adaptation",
          "Romantic drama",
          "Indie",
          "Mystery",
          "Romantic comedy"
         ],
         "xaxis": "x",
         "y": [
          3162,
          1670,
          1176,
          1102,
          826,
          791,
          702,
          613,
          583,
          522,
          517,
          489,
          489,
          478,
          438
         ],
         "yaxis": "y"
        },
        {
         "alignmentgroup": "True",
         "hovertemplate": "Best Actress Reward=Oscar-Winning<br>Movie Genre=%{x}<br>Number of Movies=%{y}<extra></extra>",
         "legendgroup": "Oscar-Winning",
         "marker": {
          "color": "#EF553B",
          "pattern": {
           "shape": ""
          }
         },
         "name": "Oscar-Winning",
         "offsetgroup": "Oscar-Winning",
         "orientation": "v",
         "showlegend": true,
         "textposition": "auto",
         "type": "bar",
         "x": [
          "Drama",
          "Romance Film",
          "Film adaptation",
          "Comedy",
          "Romantic drama",
          "Black-and-white",
          "Crime Fiction",
          "Period piece",
          "Thriller",
          "Romantic comedy",
          "Action/Adventure",
          "Action",
          "Mystery",
          "Indie",
          "Adventure"
         ],
         "xaxis": "x",
         "y": [
          131,
          55,
          36,
          35,
          33,
          30,
          29,
          27,
          17,
          14,
          14,
          13,
          9,
          8,
          8
         ],
         "yaxis": "y"
        }
       ],
       "layout": {
        "barmode": "group",
        "height": 500,
        "legend": {
         "title": {
          "text": "Best Actress Reward"
         },
         "tracegroupgap": 0
        },
        "template": {
         "data": {
          "bar": [
           {
            "error_x": {
             "color": "#2a3f5f"
            },
            "error_y": {
             "color": "#2a3f5f"
            },
            "marker": {
             "line": {
              "color": "#E5ECF6",
              "width": 0.5
             },
             "pattern": {
              "fillmode": "overlay",
              "size": 10,
              "solidity": 0.2
             }
            },
            "type": "bar"
           }
          ],
          "barpolar": [
           {
            "marker": {
             "line": {
              "color": "#E5ECF6",
              "width": 0.5
             },
             "pattern": {
              "fillmode": "overlay",
              "size": 10,
              "solidity": 0.2
             }
            },
            "type": "barpolar"
           }
          ],
          "carpet": [
           {
            "aaxis": {
             "endlinecolor": "#2a3f5f",
             "gridcolor": "white",
             "linecolor": "white",
             "minorgridcolor": "white",
             "startlinecolor": "#2a3f5f"
            },
            "baxis": {
             "endlinecolor": "#2a3f5f",
             "gridcolor": "white",
             "linecolor": "white",
             "minorgridcolor": "white",
             "startlinecolor": "#2a3f5f"
            },
            "type": "carpet"
           }
          ],
          "choropleth": [
           {
            "colorbar": {
             "outlinewidth": 0,
             "ticks": ""
            },
            "type": "choropleth"
           }
          ],
          "contour": [
           {
            "colorbar": {
             "outlinewidth": 0,
             "ticks": ""
            },
            "colorscale": [
             [
              0,
              "#0d0887"
             ],
             [
              0.1111111111111111,
              "#46039f"
             ],
             [
              0.2222222222222222,
              "#7201a8"
             ],
             [
              0.3333333333333333,
              "#9c179e"
             ],
             [
              0.4444444444444444,
              "#bd3786"
             ],
             [
              0.5555555555555556,
              "#d8576b"
             ],
             [
              0.6666666666666666,
              "#ed7953"
             ],
             [
              0.7777777777777778,
              "#fb9f3a"
             ],
             [
              0.8888888888888888,
              "#fdca26"
             ],
             [
              1,
              "#f0f921"
             ]
            ],
            "type": "contour"
           }
          ],
          "contourcarpet": [
           {
            "colorbar": {
             "outlinewidth": 0,
             "ticks": ""
            },
            "type": "contourcarpet"
           }
          ],
          "heatmap": [
           {
            "colorbar": {
             "outlinewidth": 0,
             "ticks": ""
            },
            "colorscale": [
             [
              0,
              "#0d0887"
             ],
             [
              0.1111111111111111,
              "#46039f"
             ],
             [
              0.2222222222222222,
              "#7201a8"
             ],
             [
              0.3333333333333333,
              "#9c179e"
             ],
             [
              0.4444444444444444,
              "#bd3786"
             ],
             [
              0.5555555555555556,
              "#d8576b"
             ],
             [
              0.6666666666666666,
              "#ed7953"
             ],
             [
              0.7777777777777778,
              "#fb9f3a"
             ],
             [
              0.8888888888888888,
              "#fdca26"
             ],
             [
              1,
              "#f0f921"
             ]
            ],
            "type": "heatmap"
           }
          ],
          "heatmapgl": [
           {
            "colorbar": {
             "outlinewidth": 0,
             "ticks": ""
            },
            "colorscale": [
             [
              0,
              "#0d0887"
             ],
             [
              0.1111111111111111,
              "#46039f"
             ],
             [
              0.2222222222222222,
              "#7201a8"
             ],
             [
              0.3333333333333333,
              "#9c179e"
             ],
             [
              0.4444444444444444,
              "#bd3786"
             ],
             [
              0.5555555555555556,
              "#d8576b"
             ],
             [
              0.6666666666666666,
              "#ed7953"
             ],
             [
              0.7777777777777778,
              "#fb9f3a"
             ],
             [
              0.8888888888888888,
              "#fdca26"
             ],
             [
              1,
              "#f0f921"
             ]
            ],
            "type": "heatmapgl"
           }
          ],
          "histogram": [
           {
            "marker": {
             "pattern": {
              "fillmode": "overlay",
              "size": 10,
              "solidity": 0.2
             }
            },
            "type": "histogram"
           }
          ],
          "histogram2d": [
           {
            "colorbar": {
             "outlinewidth": 0,
             "ticks": ""
            },
            "colorscale": [
             [
              0,
              "#0d0887"
             ],
             [
              0.1111111111111111,
              "#46039f"
             ],
             [
              0.2222222222222222,
              "#7201a8"
             ],
             [
              0.3333333333333333,
              "#9c179e"
             ],
             [
              0.4444444444444444,
              "#bd3786"
             ],
             [
              0.5555555555555556,
              "#d8576b"
             ],
             [
              0.6666666666666666,
              "#ed7953"
             ],
             [
              0.7777777777777778,
              "#fb9f3a"
             ],
             [
              0.8888888888888888,
              "#fdca26"
             ],
             [
              1,
              "#f0f921"
             ]
            ],
            "type": "histogram2d"
           }
          ],
          "histogram2dcontour": [
           {
            "colorbar": {
             "outlinewidth": 0,
             "ticks": ""
            },
            "colorscale": [
             [
              0,
              "#0d0887"
             ],
             [
              0.1111111111111111,
              "#46039f"
             ],
             [
              0.2222222222222222,
              "#7201a8"
             ],
             [
              0.3333333333333333,
              "#9c179e"
             ],
             [
              0.4444444444444444,
              "#bd3786"
             ],
             [
              0.5555555555555556,
              "#d8576b"
             ],
             [
              0.6666666666666666,
              "#ed7953"
             ],
             [
              0.7777777777777778,
              "#fb9f3a"
             ],
             [
              0.8888888888888888,
              "#fdca26"
             ],
             [
              1,
              "#f0f921"
             ]
            ],
            "type": "histogram2dcontour"
           }
          ],
          "mesh3d": [
           {
            "colorbar": {
             "outlinewidth": 0,
             "ticks": ""
            },
            "type": "mesh3d"
           }
          ],
          "parcoords": [
           {
            "line": {
             "colorbar": {
              "outlinewidth": 0,
              "ticks": ""
             }
            },
            "type": "parcoords"
           }
          ],
          "pie": [
           {
            "automargin": true,
            "type": "pie"
           }
          ],
          "scatter": [
           {
            "fillpattern": {
             "fillmode": "overlay",
             "size": 10,
             "solidity": 0.2
            },
            "type": "scatter"
           }
          ],
          "scatter3d": [
           {
            "line": {
             "colorbar": {
              "outlinewidth": 0,
              "ticks": ""
             }
            },
            "marker": {
             "colorbar": {
              "outlinewidth": 0,
              "ticks": ""
             }
            },
            "type": "scatter3d"
           }
          ],
          "scattercarpet": [
           {
            "marker": {
             "colorbar": {
              "outlinewidth": 0,
              "ticks": ""
             }
            },
            "type": "scattercarpet"
           }
          ],
          "scattergeo": [
           {
            "marker": {
             "colorbar": {
              "outlinewidth": 0,
              "ticks": ""
             }
            },
            "type": "scattergeo"
           }
          ],
          "scattergl": [
           {
            "marker": {
             "colorbar": {
              "outlinewidth": 0,
              "ticks": ""
             }
            },
            "type": "scattergl"
           }
          ],
          "scattermapbox": [
           {
            "marker": {
             "colorbar": {
              "outlinewidth": 0,
              "ticks": ""
             }
            },
            "type": "scattermapbox"
           }
          ],
          "scatterpolar": [
           {
            "marker": {
             "colorbar": {
              "outlinewidth": 0,
              "ticks": ""
             }
            },
            "type": "scatterpolar"
           }
          ],
          "scatterpolargl": [
           {
            "marker": {
             "colorbar": {
              "outlinewidth": 0,
              "ticks": ""
             }
            },
            "type": "scatterpolargl"
           }
          ],
          "scatterternary": [
           {
            "marker": {
             "colorbar": {
              "outlinewidth": 0,
              "ticks": ""
             }
            },
            "type": "scatterternary"
           }
          ],
          "surface": [
           {
            "colorbar": {
             "outlinewidth": 0,
             "ticks": ""
            },
            "colorscale": [
             [
              0,
              "#0d0887"
             ],
             [
              0.1111111111111111,
              "#46039f"
             ],
             [
              0.2222222222222222,
              "#7201a8"
             ],
             [
              0.3333333333333333,
              "#9c179e"
             ],
             [
              0.4444444444444444,
              "#bd3786"
             ],
             [
              0.5555555555555556,
              "#d8576b"
             ],
             [
              0.6666666666666666,
              "#ed7953"
             ],
             [
              0.7777777777777778,
              "#fb9f3a"
             ],
             [
              0.8888888888888888,
              "#fdca26"
             ],
             [
              1,
              "#f0f921"
             ]
            ],
            "type": "surface"
           }
          ],
          "table": [
           {
            "cells": {
             "fill": {
              "color": "#EBF0F8"
             },
             "line": {
              "color": "white"
             }
            },
            "header": {
             "fill": {
              "color": "#C8D4E3"
             },
             "line": {
              "color": "white"
             }
            },
            "type": "table"
           }
          ]
         },
         "layout": {
          "annotationdefaults": {
           "arrowcolor": "#2a3f5f",
           "arrowhead": 0,
           "arrowwidth": 1
          },
          "autotypenumbers": "strict",
          "coloraxis": {
           "colorbar": {
            "outlinewidth": 0,
            "ticks": ""
           }
          },
          "colorscale": {
           "diverging": [
            [
             0,
             "#8e0152"
            ],
            [
             0.1,
             "#c51b7d"
            ],
            [
             0.2,
             "#de77ae"
            ],
            [
             0.3,
             "#f1b6da"
            ],
            [
             0.4,
             "#fde0ef"
            ],
            [
             0.5,
             "#f7f7f7"
            ],
            [
             0.6,
             "#e6f5d0"
            ],
            [
             0.7,
             "#b8e186"
            ],
            [
             0.8,
             "#7fbc41"
            ],
            [
             0.9,
             "#4d9221"
            ],
            [
             1,
             "#276419"
            ]
           ],
           "sequential": [
            [
             0,
             "#0d0887"
            ],
            [
             0.1111111111111111,
             "#46039f"
            ],
            [
             0.2222222222222222,
             "#7201a8"
            ],
            [
             0.3333333333333333,
             "#9c179e"
            ],
            [
             0.4444444444444444,
             "#bd3786"
            ],
            [
             0.5555555555555556,
             "#d8576b"
            ],
            [
             0.6666666666666666,
             "#ed7953"
            ],
            [
             0.7777777777777778,
             "#fb9f3a"
            ],
            [
             0.8888888888888888,
             "#fdca26"
            ],
            [
             1,
             "#f0f921"
            ]
           ],
           "sequentialminus": [
            [
             0,
             "#0d0887"
            ],
            [
             0.1111111111111111,
             "#46039f"
            ],
            [
             0.2222222222222222,
             "#7201a8"
            ],
            [
             0.3333333333333333,
             "#9c179e"
            ],
            [
             0.4444444444444444,
             "#bd3786"
            ],
            [
             0.5555555555555556,
             "#d8576b"
            ],
            [
             0.6666666666666666,
             "#ed7953"
            ],
            [
             0.7777777777777778,
             "#fb9f3a"
            ],
            [
             0.8888888888888888,
             "#fdca26"
            ],
            [
             1,
             "#f0f921"
            ]
           ]
          },
          "colorway": [
           "#636efa",
           "#EF553B",
           "#00cc96",
           "#ab63fa",
           "#FFA15A",
           "#19d3f3",
           "#FF6692",
           "#B6E880",
           "#FF97FF",
           "#FECB52"
          ],
          "font": {
           "color": "#2a3f5f"
          },
          "geo": {
           "bgcolor": "white",
           "lakecolor": "white",
           "landcolor": "#E5ECF6",
           "showlakes": true,
           "showland": true,
           "subunitcolor": "white"
          },
          "hoverlabel": {
           "align": "left"
          },
          "hovermode": "closest",
          "mapbox": {
           "style": "light"
          },
          "paper_bgcolor": "white",
          "plot_bgcolor": "#E5ECF6",
          "polar": {
           "angularaxis": {
            "gridcolor": "white",
            "linecolor": "white",
            "ticks": ""
           },
           "bgcolor": "#E5ECF6",
           "radialaxis": {
            "gridcolor": "white",
            "linecolor": "white",
            "ticks": ""
           }
          },
          "scene": {
           "xaxis": {
            "backgroundcolor": "#E5ECF6",
            "gridcolor": "white",
            "gridwidth": 2,
            "linecolor": "white",
            "showbackground": true,
            "ticks": "",
            "zerolinecolor": "white"
           },
           "yaxis": {
            "backgroundcolor": "#E5ECF6",
            "gridcolor": "white",
            "gridwidth": 2,
            "linecolor": "white",
            "showbackground": true,
            "ticks": "",
            "zerolinecolor": "white"
           },
           "zaxis": {
            "backgroundcolor": "#E5ECF6",
            "gridcolor": "white",
            "gridwidth": 2,
            "linecolor": "white",
            "showbackground": true,
            "ticks": "",
            "zerolinecolor": "white"
           }
          },
          "shapedefaults": {
           "line": {
            "color": "#2a3f5f"
           }
          },
          "ternary": {
           "aaxis": {
            "gridcolor": "white",
            "linecolor": "white",
            "ticks": ""
           },
           "baxis": {
            "gridcolor": "white",
            "linecolor": "white",
            "ticks": ""
           },
           "bgcolor": "#E5ECF6",
           "caxis": {
            "gridcolor": "white",
            "linecolor": "white",
            "ticks": ""
           }
          },
          "title": {
           "x": 0.05
          },
          "xaxis": {
           "automargin": true,
           "gridcolor": "white",
           "linecolor": "white",
           "ticks": "",
           "title": {
            "standoff": 15
           },
           "zerolinecolor": "white",
           "zerolinewidth": 2
          },
          "yaxis": {
           "automargin": true,
           "gridcolor": "white",
           "linecolor": "white",
           "ticks": "",
           "title": {
            "standoff": 15
           },
           "zerolinecolor": "white",
           "zerolinewidth": 2
          }
         }
        },
        "title": {
         "text": "Top 15 Movie Genres (Oscar-Winning vs Non-Oscar-Winning)"
        },
        "width": 1000,
        "xaxis": {
         "anchor": "y",
         "domain": [
          0,
          1
         ],
         "tickangle": 45,
         "title": {
          "text": "Movie Genre"
         }
        },
        "yaxis": {
         "anchor": "x",
         "domain": [
          0,
          1
         ],
         "title": {
          "text": "Number of Movies"
         }
        }
       }
      }
     },
     "metadata": {},
     "output_type": "display_data"
    }
   ],
   "source": [
    "\n",
    "# Prepare the data for the bar chart\n",
    "oscar_movies_all = oscar_act_movies_all.copy()\n",
    "oscar_movies_all['Movie genres'] = oscar_movies_all['Movie genres'].fillna('Unknown')\n",
    "oscar_movies_all['Best Actress Reward'] = oscar_movies_all['Best Actress Reward'].map({True: 'Oscar-Winning', False: 'Non-Oscar-Winning'})\n",
    "\n",
    "# Split the genres into individual rows for analysis\n",
    "genres_split = oscar_movies_all.assign(Movie_genres_split=oscar_movies_all['Movie genres'].str.split(', ')).explode('Movie_genres_split')\n",
    "\n",
    "# Group and count movies by genre and whether they won an Oscar\n",
    "genre_counts = genres_split.groupby(['Movie_genres_split', 'Best Actress Reward']).size().reset_index(name='Count')\n",
    "\n",
    "# Limit to the top 15 genres with the highest total count\n",
    "top_genres = genre_counts.groupby('Movie_genres_split')['Count'].sum().nlargest(15).index\n",
    "filtered_genre_counts = genre_counts[genre_counts['Movie_genres_split'].isin(top_genres)]\n",
    "\n",
    "# Create the improved bar chart\n",
    "fig = px.bar(\n",
    "    filtered_genre_counts.sort_values('Count', ascending=False),\n",
    "    x='Movie_genres_split',\n",
    "    y='Count',\n",
    "    color='Best Actress Reward',\n",
    "    title='Top 15 Movie Genres (Oscar-Winning vs Non-Oscar-Winning)',\n",
    "    labels={'Movie_genres_split': 'Movie Genre', 'Count': 'Number of Movies'},\n",
    "    barmode='group'\n",
    ")\n",
    "\n",
    "# Update layout for better readability\n",
    "fig.update_layout(\n",
    "    xaxis=dict(tickangle=45, title='Movie Genre'),\n",
    "    yaxis=dict(title='Number of Movies'),\n",
    "    width=1000,  # Increase figure width\n",
    "    height=500   # Adjust height\n",
    ")\n",
    "\n",
    "# Uncomment this to visualize\n",
    "# fig.show()"
   ]
  },
  {
   "cell_type": "code",
   "execution_count": 320,
   "metadata": {},
   "outputs": [
    {
     "data": {
      "application/vnd.plotly.v1+json": {
       "config": {
        "plotlyServerURL": "https://plot.ly"
       },
       "data": [
        {
         "alignmentgroup": "True",
         "hovertemplate": "Movie Type=%{x}<br>Box Office Revenue ($)=%{y}<extra></extra>",
         "legendgroup": "False",
         "marker": {
          "color": "#636efa"
         },
         "name": "False",
         "notched": false,
         "offsetgroup": "False",
         "orientation": "v",
         "showlegend": true,
         "type": "box",
         "x": [
          false,
          false,
          false,
          false,
          false,
          false,
          false,
          false,
          false,
          false,
          false,
          false,
          false,
          false,
          false,
          false,
          false,
          false,
          false,
          false,
          false,
          false,
          false,
          false,
          false,
          false,
          false,
          false,
          false,
          false,
          false,
          false,
          false,
          false,
          false,
          false,
          false,
          false,
          false,
          false,
          false,
          false,
          false,
          false,
          false,
          false,
          false,
          false,
          false,
          false,
          false,
          false,
          false,
          false,
          false,
          false,
          false,
          false,
          false,
          false,
          false,
          false,
          false,
          false,
          false,
          false,
          false,
          false,
          false,
          false,
          false,
          false,
          false,
          false,
          false,
          false,
          false,
          false,
          false,
          false,
          false,
          false,
          false,
          false,
          false,
          false,
          false,
          false,
          false,
          false,
          false,
          false,
          false,
          false,
          false,
          false,
          false,
          false,
          false,
          false,
          false,
          false,
          false,
          false,
          false,
          false,
          false,
          false,
          false,
          false,
          false,
          false,
          false,
          false,
          false,
          false,
          false,
          false,
          false,
          false,
          false,
          false,
          false,
          false,
          false,
          false,
          false,
          false,
          false,
          false,
          false,
          false,
          false,
          false,
          false,
          false,
          false,
          false,
          false,
          false,
          false,
          false,
          false,
          false,
          false,
          false,
          false,
          false,
          false,
          false,
          false,
          false,
          false,
          false,
          false,
          false,
          false,
          false,
          false,
          false,
          false,
          false,
          false,
          false,
          false,
          false,
          false,
          false,
          false,
          false,
          false,
          false,
          false,
          false,
          false,
          false,
          false,
          false,
          false,
          false,
          false,
          false,
          false,
          false,
          false,
          false,
          false,
          false,
          false,
          false,
          false,
          false,
          false,
          false,
          false,
          false,
          false,
          false,
          false,
          false,
          false,
          false,
          false,
          false,
          false,
          false,
          false,
          false,
          false,
          false,
          false,
          false,
          false,
          false,
          false,
          false,
          false,
          false,
          false,
          false,
          false,
          false,
          false,
          false,
          false,
          false,
          false,
          false,
          false,
          false,
          false,
          false,
          false,
          false,
          false,
          false,
          false,
          false,
          false,
          false,
          false,
          false,
          false,
          false,
          false,
          false,
          false,
          false,
          false,
          false,
          false,
          false,
          false,
          false,
          false,
          false,
          false,
          false,
          false,
          false,
          false,
          false,
          false,
          false,
          false,
          false,
          false,
          false,
          false,
          false,
          false,
          false,
          false,
          false,
          false,
          false,
          false,
          false,
          false,
          false,
          false,
          false,
          false,
          false,
          false,
          false,
          false,
          false,
          false,
          false,
          false,
          false,
          false,
          false,
          false,
          false,
          false,
          false,
          false,
          false,
          false,
          false,
          false,
          false,
          false,
          false,
          false,
          false,
          false,
          false,
          false,
          false,
          false,
          false,
          false,
          false,
          false,
          false,
          false,
          false,
          false,
          false,
          false,
          false,
          false,
          false,
          false,
          false,
          false,
          false,
          false,
          false,
          false,
          false,
          false,
          false,
          false,
          false,
          false,
          false,
          false,
          false,
          false,
          false,
          false,
          false,
          false,
          false,
          false,
          false,
          false,
          false,
          false,
          false,
          false,
          false,
          false,
          false,
          false,
          false,
          false,
          false,
          false,
          false,
          false,
          false,
          false,
          false,
          false,
          false,
          false,
          false,
          false,
          false,
          false,
          false,
          false,
          false,
          false,
          false,
          false,
          false,
          false,
          false,
          false,
          false,
          false,
          false,
          false,
          false,
          false,
          false,
          false,
          false,
          false,
          false,
          false,
          false,
          false,
          false,
          false,
          false,
          false,
          false,
          false,
          false,
          false,
          false,
          false,
          false,
          false,
          false,
          false,
          false,
          false,
          false,
          false,
          false,
          false,
          false,
          false,
          false,
          false,
          false,
          false,
          false,
          false,
          false,
          false,
          false,
          false,
          false,
          false,
          false,
          false,
          false,
          false,
          false,
          false,
          false,
          false,
          false,
          false,
          false,
          false,
          false,
          false,
          false,
          false,
          false,
          false,
          false,
          false,
          false,
          false,
          false,
          false,
          false,
          false,
          false,
          false,
          false,
          false,
          false,
          false,
          false,
          false,
          false,
          false,
          false,
          false,
          false,
          false,
          false,
          false,
          false,
          false,
          false,
          false,
          false,
          false,
          false,
          false,
          false,
          false,
          false,
          false,
          false,
          false,
          false,
          false,
          false,
          false,
          false,
          false,
          false,
          false,
          false,
          false,
          false,
          false,
          false,
          false,
          false,
          false,
          false,
          false,
          false,
          false,
          false,
          false,
          false,
          false,
          false,
          false,
          false,
          false,
          false,
          false,
          false,
          false,
          false,
          false,
          false,
          false,
          false,
          false,
          false,
          false,
          false,
          false,
          false,
          false,
          false,
          false,
          false,
          false,
          false,
          false,
          false,
          false,
          false,
          false,
          false,
          false,
          false,
          false,
          false,
          false,
          false,
          false,
          false,
          false,
          false,
          false,
          false,
          false,
          false,
          false,
          false,
          false,
          false,
          false,
          false,
          false,
          false,
          false,
          false,
          false,
          false,
          false,
          false,
          false,
          false,
          false,
          false,
          false,
          false,
          false,
          false,
          false,
          false,
          false,
          false,
          false,
          false,
          false,
          false,
          false,
          false,
          false,
          false,
          false,
          false,
          false,
          false,
          false,
          false,
          false,
          false,
          false,
          false,
          false,
          false,
          false,
          false,
          false,
          false,
          false,
          false,
          false,
          false,
          false,
          false,
          false,
          false,
          false,
          false,
          false,
          false,
          false,
          false,
          false,
          false,
          false,
          false,
          false,
          false,
          false,
          false,
          false,
          false,
          false,
          false,
          false,
          false,
          false,
          false,
          false,
          false,
          false,
          false,
          false,
          false,
          false,
          false,
          false,
          false,
          false,
          false,
          false,
          false,
          false,
          false,
          false,
          false,
          false,
          false,
          false,
          false,
          false,
          false,
          false,
          false,
          false,
          false,
          false,
          false,
          false,
          false,
          false,
          false,
          false,
          false,
          false,
          false,
          false,
          false,
          false,
          false,
          false,
          false,
          false,
          false,
          false,
          false,
          false,
          false,
          false,
          false,
          false,
          false,
          false,
          false,
          false,
          false,
          false,
          false,
          false,
          false,
          false,
          false,
          false,
          false,
          false,
          false,
          false,
          false,
          false,
          false,
          false,
          false,
          false,
          false,
          false,
          false,
          false,
          false,
          false,
          false,
          false,
          false,
          false,
          false,
          false,
          false,
          false,
          false,
          false,
          false,
          false,
          false,
          false,
          false,
          false,
          false,
          false,
          false,
          false,
          false,
          false,
          false,
          false,
          false,
          false,
          false,
          false,
          false,
          false,
          false,
          false,
          false,
          false,
          false,
          false,
          false,
          false,
          false,
          false,
          false,
          false,
          false,
          false,
          false,
          false,
          false,
          false,
          false,
          false,
          false,
          false,
          false,
          false,
          false,
          false,
          false,
          false,
          false,
          false,
          false,
          false,
          false,
          false,
          false,
          false,
          false,
          false,
          false,
          false,
          false,
          false,
          false,
          false,
          false,
          false,
          false,
          false,
          false,
          false,
          false,
          false,
          false,
          false,
          false,
          false,
          false,
          false,
          false,
          false,
          false,
          false,
          false,
          false,
          false,
          false,
          false,
          false,
          false,
          false,
          false,
          false,
          false,
          false,
          false,
          false,
          false,
          false,
          false,
          false,
          false,
          false,
          false,
          false,
          false,
          false,
          false,
          false,
          false,
          false,
          false,
          false,
          false,
          false,
          false,
          false,
          false,
          false,
          false,
          false,
          false,
          false,
          false,
          false,
          false,
          false,
          false,
          false,
          false,
          false,
          false,
          false,
          false,
          false,
          false,
          false,
          false,
          false,
          false,
          false,
          false,
          false,
          false,
          false,
          false,
          false,
          false,
          false,
          false,
          false,
          false,
          false,
          false,
          false,
          false,
          false,
          false,
          false,
          false,
          false,
          false,
          false,
          false,
          false,
          false,
          false,
          false,
          false,
          false,
          false,
          false,
          false,
          false,
          false,
          false,
          false,
          false,
          false,
          false,
          false,
          false,
          false,
          false,
          false,
          false,
          false,
          false,
          false,
          false,
          false,
          false,
          false,
          false,
          false,
          false,
          false,
          false,
          false,
          false,
          false,
          false,
          false,
          false,
          false,
          false,
          false,
          false,
          false,
          false,
          false,
          false,
          false,
          false,
          false,
          false,
          false,
          false,
          false,
          false,
          false,
          false,
          false,
          false,
          false,
          false,
          false,
          false,
          false,
          false,
          false,
          false,
          false,
          false,
          false,
          false,
          false,
          false,
          false,
          false,
          false,
          false,
          false,
          false,
          false,
          false,
          false,
          false,
          false,
          false,
          false,
          false,
          false,
          false,
          false,
          false,
          false,
          false,
          false,
          false,
          false,
          false,
          false,
          false,
          false,
          false,
          false,
          false,
          false,
          false,
          false,
          false,
          false,
          false,
          false,
          false,
          false,
          false,
          false,
          false,
          false,
          false,
          false,
          false,
          false,
          false,
          false,
          false,
          false,
          false,
          false,
          false,
          false,
          false,
          false,
          false,
          false,
          false,
          false,
          false,
          false,
          false,
          false,
          false,
          false,
          false,
          false,
          false,
          false,
          false,
          false,
          false,
          false,
          false,
          false,
          false,
          false,
          false,
          false,
          false,
          false,
          false,
          false,
          false,
          false,
          false,
          false,
          false,
          false,
          false,
          false,
          false,
          false,
          false,
          false,
          false,
          false,
          false,
          false,
          false,
          false,
          false,
          false,
          false,
          false,
          false,
          false,
          false,
          false,
          false,
          false,
          false,
          false,
          false,
          false,
          false,
          false,
          false,
          false,
          false,
          false,
          false,
          false,
          false,
          false,
          false,
          false,
          false,
          false,
          false,
          false,
          false,
          false,
          false,
          false,
          false,
          false,
          false,
          false,
          false,
          false,
          false,
          false,
          false,
          false,
          false,
          false,
          false,
          false,
          false,
          false,
          false,
          false,
          false,
          false,
          false,
          false,
          false,
          false,
          false,
          false,
          false,
          false,
          false,
          false,
          false,
          false,
          false,
          false,
          false,
          false,
          false,
          false,
          false,
          false,
          false,
          false,
          false,
          false,
          false,
          false,
          false,
          false,
          false,
          false,
          false,
          false,
          false,
          false,
          false,
          false,
          false,
          false,
          false,
          false,
          false,
          false,
          false,
          false,
          false,
          false,
          false,
          false,
          false,
          false,
          false,
          false,
          false,
          false,
          false,
          false,
          false,
          false,
          false,
          false,
          false,
          false,
          false,
          false,
          false,
          false,
          false,
          false,
          false,
          false,
          false,
          false,
          false,
          false,
          false,
          false,
          false,
          false,
          false,
          false,
          false,
          false,
          false,
          false,
          false,
          false,
          false,
          false,
          false,
          false,
          false,
          false,
          false,
          false,
          false,
          false,
          false,
          false,
          false,
          false,
          false,
          false,
          false,
          false,
          false,
          false,
          false,
          false,
          false,
          false,
          false,
          false,
          false,
          false,
          false,
          false,
          false,
          false,
          false,
          false,
          false,
          false,
          false,
          false,
          false,
          false,
          false,
          false,
          false,
          false,
          false,
          false,
          false,
          false,
          false,
          false,
          false,
          false,
          false,
          false,
          false,
          false,
          false,
          false,
          false,
          false,
          false,
          false,
          false,
          false,
          false,
          false,
          false,
          false,
          false,
          false,
          false,
          false,
          false,
          false,
          false,
          false,
          false,
          false,
          false,
          false,
          false,
          false,
          false,
          false,
          false,
          false,
          false,
          false,
          false,
          false,
          false,
          false,
          false,
          false,
          false,
          false,
          false,
          false,
          false,
          false,
          false,
          false,
          false,
          false,
          false,
          false,
          false,
          false,
          false,
          false,
          false,
          false,
          false,
          false,
          false,
          false,
          false,
          false,
          false,
          false,
          false,
          false,
          false,
          false,
          false,
          false,
          false,
          false,
          false,
          false,
          false,
          false,
          false,
          false,
          false,
          false,
          false,
          false,
          false,
          false,
          false,
          false,
          false,
          false,
          false,
          false,
          false,
          false,
          false,
          false,
          false,
          false,
          false,
          false,
          false,
          false,
          false,
          false,
          false,
          false,
          false,
          false,
          false,
          false,
          false,
          false,
          false,
          false,
          false,
          false,
          false,
          false,
          false,
          false,
          false,
          false,
          false,
          false,
          false,
          false,
          false,
          false,
          false,
          false,
          false,
          false,
          false,
          false,
          false,
          false,
          false,
          false,
          false,
          false,
          false,
          false,
          false,
          false,
          false,
          false,
          false,
          false,
          false,
          false,
          false,
          false,
          false,
          false,
          false,
          false,
          false,
          false,
          false,
          false,
          false,
          false,
          false,
          false,
          false,
          false,
          false,
          false,
          false,
          false,
          false,
          false,
          false,
          false,
          false,
          false,
          false,
          false,
          false,
          false,
          false,
          false,
          false,
          false,
          false,
          false,
          false,
          false,
          false,
          false,
          false,
          false,
          false,
          false,
          false,
          false,
          false,
          false,
          false,
          false,
          false,
          false,
          false,
          false,
          false,
          false,
          false,
          false,
          false,
          false,
          false,
          false,
          false,
          false,
          false,
          false,
          false,
          false,
          false,
          false,
          false,
          false,
          false,
          false,
          false,
          false,
          false,
          false,
          false,
          false,
          false,
          false,
          false,
          false,
          false,
          false,
          false,
          false,
          false,
          false,
          false,
          false,
          false,
          false,
          false,
          false,
          false,
          false,
          false,
          false,
          false,
          false,
          false,
          false,
          false,
          false,
          false,
          false,
          false,
          false,
          false,
          false,
          false,
          false,
          false,
          false,
          false,
          false,
          false,
          false,
          false,
          false,
          false,
          false,
          false,
          false,
          false,
          false,
          false,
          false,
          false,
          false,
          false,
          false,
          false,
          false,
          false,
          false,
          false,
          false,
          false,
          false,
          false,
          false,
          false,
          false,
          false,
          false,
          false,
          false,
          false,
          false,
          false,
          false,
          false,
          false,
          false,
          false,
          false,
          false,
          false,
          false,
          false,
          false,
          false,
          false,
          false,
          false,
          false,
          false,
          false,
          false,
          false,
          false,
          false,
          false,
          false,
          false,
          false,
          false,
          false,
          false,
          false,
          false,
          false,
          false,
          false,
          false,
          false,
          false,
          false,
          false,
          false,
          false,
          false,
          false,
          false,
          false,
          false,
          false,
          false,
          false,
          false,
          false,
          false,
          false,
          false,
          false,
          false,
          false,
          false,
          false,
          false,
          false,
          false,
          false,
          false,
          false,
          false,
          false,
          false,
          false,
          false,
          false,
          false,
          false,
          false,
          false,
          false,
          false,
          false,
          false,
          false,
          false,
          false,
          false,
          false,
          false,
          false,
          false,
          false,
          false,
          false,
          false,
          false,
          false,
          false,
          false,
          false,
          false,
          false,
          false,
          false,
          false,
          false,
          false,
          false,
          false,
          false,
          false,
          false,
          false,
          false,
          false,
          false,
          false,
          false,
          false,
          false,
          false,
          false,
          false,
          false,
          false,
          false,
          false,
          false,
          false,
          false,
          false,
          false,
          false,
          false,
          false,
          false,
          false,
          false,
          false,
          false,
          false,
          false,
          false,
          false,
          false,
          false,
          false,
          false,
          false,
          false,
          false,
          false,
          false,
          false,
          false,
          false,
          false,
          false,
          false,
          false,
          false,
          false,
          false,
          false,
          false,
          false,
          false,
          false,
          false,
          false,
          false,
          false,
          false,
          false,
          false,
          false,
          false,
          false,
          false,
          false,
          false,
          false,
          false,
          false,
          false,
          false,
          false,
          false,
          false,
          false,
          false,
          false,
          false,
          false,
          false,
          false,
          false,
          false,
          false,
          false,
          false,
          false,
          false,
          false,
          false,
          false,
          false,
          false,
          false,
          false,
          false,
          false,
          false,
          false,
          false,
          false,
          false,
          false,
          false,
          false,
          false,
          false,
          false,
          false,
          false,
          false,
          false,
          false,
          false,
          false,
          false,
          false,
          false,
          false,
          false,
          false,
          false,
          false,
          false,
          false,
          false,
          false,
          false,
          false,
          false,
          false,
          false,
          false,
          false,
          false,
          false,
          false,
          false,
          false,
          false,
          false,
          false,
          false,
          false,
          false,
          false,
          false,
          false,
          false,
          false,
          false,
          false,
          false,
          false,
          false,
          false,
          false,
          false,
          false,
          false,
          false,
          false,
          false,
          false,
          false,
          false,
          false,
          false,
          false,
          false,
          false,
          false,
          false,
          false,
          false,
          false,
          false,
          false,
          false,
          false,
          false,
          false,
          false,
          false,
          false,
          false,
          false,
          false,
          false,
          false,
          false,
          false,
          false,
          false,
          false,
          false,
          false,
          false,
          false,
          false,
          false,
          false,
          false,
          false,
          false,
          false,
          false,
          false,
          false,
          false,
          false,
          false,
          false,
          false,
          false,
          false,
          false,
          false,
          false,
          false,
          false,
          false,
          false,
          false,
          false,
          false,
          false,
          false,
          false,
          false,
          false,
          false,
          false,
          false,
          false,
          false,
          false,
          false,
          false,
          false,
          false,
          false,
          false,
          false,
          false,
          false,
          false,
          false,
          false,
          false,
          false,
          false,
          false,
          false,
          false,
          false,
          false,
          false,
          false,
          false,
          false,
          false,
          false,
          false,
          false,
          false,
          false,
          false,
          false,
          false,
          false,
          false,
          false,
          false,
          false,
          false,
          false,
          false,
          false,
          false,
          false,
          false,
          false,
          false,
          false,
          false,
          false,
          false,
          false,
          false,
          false,
          false,
          false,
          false,
          false,
          false,
          false,
          false,
          false,
          false,
          false,
          false,
          false,
          false,
          false,
          false,
          false,
          false,
          false,
          false,
          false,
          false,
          false,
          false,
          false,
          false,
          false,
          false,
          false,
          false,
          false,
          false,
          false,
          false,
          false,
          false,
          false,
          false,
          false,
          false,
          false,
          false,
          false,
          false,
          false,
          false,
          false,
          false,
          false,
          false,
          false,
          false,
          false,
          false,
          false,
          false,
          false,
          false,
          false,
          false,
          false,
          false,
          false,
          false,
          false,
          false,
          false,
          false,
          false,
          false,
          false,
          false,
          false,
          false,
          false,
          false,
          false,
          false,
          false,
          false,
          false,
          false,
          false,
          false,
          false,
          false,
          false,
          false,
          false,
          false,
          false,
          false,
          false,
          false,
          false,
          false,
          false,
          false,
          false,
          false,
          false,
          false,
          false,
          false,
          false,
          false,
          false,
          false,
          false,
          false,
          false,
          false,
          false,
          false,
          false,
          false,
          false,
          false,
          false,
          false,
          false,
          false,
          false,
          false,
          false,
          false,
          false,
          false,
          false,
          false,
          false,
          false,
          false,
          false,
          false,
          false,
          false,
          false,
          false,
          false,
          false,
          false,
          false,
          false,
          false,
          false,
          false,
          false,
          false,
          false,
          false,
          false,
          false,
          false,
          false,
          false,
          false,
          false,
          false,
          false,
          false,
          false,
          false,
          false,
          false,
          false,
          false,
          false,
          false,
          false,
          false,
          false,
          false,
          false,
          false,
          false,
          false,
          false,
          false,
          false,
          false,
          false,
          false,
          false,
          false,
          false,
          false,
          false,
          false,
          false,
          false,
          false,
          false,
          false,
          false,
          false,
          false,
          false,
          false,
          false,
          false,
          false,
          false,
          false,
          false,
          false,
          false,
          false,
          false,
          false,
          false,
          false,
          false
         ],
         "x0": " ",
         "xaxis": "x",
         "y": [
          21521,
          23272306,
          300218018,
          168839459,
          160430,
          171757863,
          171757863,
          5549200,
          30114487,
          6715067,
          1200000,
          4028293,
          8382938,
          1412799,
          1412799,
          14000000,
          14000000,
          4096030,
          230685453,
          230685453,
          1299985,
          1299985,
          12000000,
          12000000,
          12000000,
          12000000,
          35892330,
          9085049,
          374111707,
          45500797,
          2000000,
          2000000,
          97138686,
          2550000,
          1700000,
          126216940,
          1600000,
          16458459,
          107212751,
          14702438,
          3335984,
          3335984,
          23278931,
          10309370,
          27002097,
          14867086,
          50466747,
          171627166,
          87528173,
          22000000,
          1425000,
          2000000,
          8539181,
          113069,
          28607524,
          101308161,
          101308161,
          6250000,
          39947322,
          23371905,
          23371905,
          33013805,
          13800000,
          31000000,
          15379253,
          15379253,
          23562716,
          23562716,
          57405220,
          2554476,
          2000000,
          1600000,
          1600000,
          14515490,
          14515490,
          4389522,
          4143414,
          4143414,
          1783190,
          1783190,
          2490000,
          2200000,
          51718367,
          181490000,
          181490000,
          181490000,
          181490000,
          167805466,
          4100000,
          4100000,
          62000000,
          62000000,
          51881013,
          12303904,
          69787663,
          39673162,
          934416487,
          934416487,
          12290017,
          142940100,
          1421000,
          1421000,
          19463185,
          669276,
          1250000,
          2000000,
          1450000,
          695876,
          695876,
          5899797,
          5899797,
          15132763,
          48424341,
          48424341,
          20439793,
          20439793,
          7200000,
          876775,
          325338851,
          93300000,
          93300000,
          93300000,
          93300000,
          57293715,
          9079402,
          88929111,
          85280250,
          30143795,
          26890068,
          27520098,
          3473905,
          44143410,
          250288523,
          896911078,
          27945225,
          161626121,
          50888729,
          5669831,
          21378000,
          23187984,
          666922,
          13323144,
          6892098,
          73707461,
          267109,
          64321501,
          98005666,
          44567606,
          68377859,
          68377859,
          32192570,
          32192570,
          715983,
          18626419,
          18626419,
          28084357,
          3000000,
          388532,
          55003135,
          110013167,
          270248367,
          13015688,
          13015688,
          13015688,
          13015688,
          115049554,
          185260553,
          185260553,
          185260553,
          11526099,
          51061196,
          20714400,
          45661556,
          29235353,
          2400000,
          86947965,
          6455000,
          82343495,
          6455330,
          1897404,
          278346189,
          102001626,
          70692101,
          2300000,
          22549338,
          30000000,
          30000000,
          30000000,
          352927224,
          156563139,
          44332015,
          11000863,
          24128852,
          3982459,
          3982459,
          317375031,
          3750000,
          58586889,
          242295562,
          53653224,
          399138,
          399138,
          399138,
          413106170,
          12844057,
          12844057,
          5500000,
          142044638,
          127392693,
          35000000,
          35000000,
          111974,
          40990563,
          2710161,
          2900000,
          1519366,
          2500000,
          367275019,
          367275019,
          367275019,
          12145169,
          2986932,
          2986932,
          147934180,
          90404800,
          128798265,
          311087474,
          609841637,
          50054511,
          3067917,
          6132924,
          18575768,
          939885929,
          15541549,
          92991835,
          1547397,
          1180000,
          1180000,
          459359555,
          50871113,
          152699946,
          152699946,
          5741608,
          56706628,
          1650000,
          1650000,
          6734844,
          11560806,
          10432366,
          336620,
          7266973,
          1464625,
          38200000,
          5552441,
          6070725,
          34209788,
          4708156,
          4708156,
          4708156,
          4708156,
          4708156,
          34633353,
          46090442,
          41299492,
          41299492,
          55707411,
          28544120,
          68336997,
          12421181,
          29524289,
          40000000,
          732000,
          519596,
          8797839,
          110768122,
          504050219,
          504050219,
          38535221,
          2685453,
          1078008948,
          1078008948,
          1078008948,
          1078008948,
          1078008948,
          22905522,
          29907685,
          15691192,
          6000000,
          7000000,
          29882645,
          24103594,
          1206000,
          1206000,
          67348218,
          67348218,
          574480841,
          2750000,
          6118683,
          2600000,
          900647,
          9285189,
          20408163,
          2843997,
          8488000,
          157927340,
          49483352,
          10006806,
          50427646,
          50427646,
          206678440,
          206678440,
          206678440,
          49136,
          49136,
          49136,
          312016858,
          107752036,
          126297830,
          126297830,
          126297830,
          24379978,
          441818803,
          20000000,
          4763917,
          4763917,
          130549455,
          484635760,
          32710894,
          116112375,
          116112375,
          120217409,
          120217409,
          1167000,
          1167000,
          1170000,
          132440069,
          300135367,
          2600000,
          134361879,
          134361879,
          12617845,
          141211,
          157091718,
          1600000,
          25232289,
          1053788,
          11772183,
          16633035,
          2819485,
          42349782,
          42349782,
          44793222,
          7196872,
          117487473,
          86406677,
          1516414,
          868979,
          868979,
          30862156,
          3359465,
          3359465,
          15260154,
          15260154,
          10372291,
          3602884,
          2000000,
          10500000,
          22697691,
          22912409,
          456127,
          40779241,
          288752301,
          21706100,
          21706100,
          6250000,
          5979947,
          1328111219,
          1328111219,
          313542341,
          77402877,
          29360400,
          29360400,
          956399711,
          58900031,
          583000,
          583000,
          1119929521,
          3482287,
          2450000,
          43042835,
          24441725,
          3306629,
          3306629,
          5262050,
          356400000,
          2050000,
          96888996,
          4517000,
          4517000,
          415933406,
          137885,
          273552592,
          2200000,
          80701064,
          80701064,
          3000000,
          496059,
          242875078,
          42039085,
          196114570,
          11336986,
          4000000,
          9929135,
          9929135,
          150406466,
          150406466,
          1851761,
          43343248,
          1000000,
          14999969,
          14999969,
          786636033,
          786636033,
          18636537,
          180557550,
          4420000,
          1950000,
          33589527,
          50068310,
          3675201,
          3675201,
          108539911,
          23396049,
          71441250,
          71441250,
          4079895,
          109535,
          109535,
          336529844,
          4821759,
          589390539,
          478939,
          30950002,
          30950002,
          2221994,
          2221994,
          14000000,
          356296601,
          356296601,
          476684675,
          250182,
          7286310,
          3000000,
          96976270,
          182016617,
          9398308,
          3000000,
          86273333,
          86273333,
          4994094,
          824597,
          50907234,
          83282296,
          8400000,
          8400000,
          8400000,
          25966555,
          305153249,
          5000000,
          17760000,
          17760000,
          17760000,
          21591800,
          21591800,
          283081,
          189176423,
          497000,
          152368585,
          61749765,
          275000,
          122233971,
          106524,
          37747016,
          30000000,
          400000000,
          19650000,
          150166126,
          219069702,
          117615211,
          16408286,
          16408286,
          12000000,
          694497,
          199006387,
          6908797,
          27484464,
          34808403,
          34808403,
          7532911,
          793815,
          793815,
          1600000,
          1600000,
          13000000,
          5936344,
          6801716,
          53457,
          201957688,
          220443451,
          1598435,
          1598435,
          37823676,
          1790840,
          9600000,
          9600000,
          116672912,
          27297450,
          1713459,
          1713459,
          103166989,
          2500000,
          18898806,
          526245,
          135330182,
          207515725,
          2158775,
          4557214,
          296999813,
          878979634,
          796688549,
          9250000,
          13936909,
          38955598,
          475940,
          475940,
          475940,
          14581765,
          14581765,
          50000000,
          50000000,
          2400000,
          361700000,
          25000000,
          6341825,
          114943631,
          114943631,
          26186631,
          5100000,
          31596911,
          2300000,
          368608363,
          3026272,
          741876,
          10340263,
          1700000,
          941414,
          18301610,
          171407179,
          57958696,
          3100000,
          15716828,
          13446769,
          200512643,
          25010896,
          3200000,
          37803872,
          2300000,
          10004817,
          10004817,
          1850000,
          121706019,
          12161038,
          12161038,
          12161038,
          25480490,
          45916769,
          152400000,
          7988000,
          18607492,
          71485043,
          48795021,
          30987695,
          18396382,
          156200000,
          48197805,
          48197805,
          76747202,
          76747202,
          1250000,
          13670688,
          136706683,
          29200000,
          19740070,
          67872296,
          3000000,
          3000000,
          12941817,
          14560084,
          14560084,
          14560084,
          121147947,
          41728598,
          97529550,
          24600000,
          14000000,
          55181129,
          66673516,
          5321508,
          138696,
          41833324,
          2850000,
          31206251,
          23903791,
          23903791,
          105316267,
          94216343,
          46720491,
          116000000,
          296339527,
          3011195,
          3011195,
          3011195,
          285444603,
          6000000,
          9194283,
          16140822,
          8203235,
          29712172,
          71368,
          2413427,
          2413427,
          2413427,
          3310000,
          10870198,
          484592874,
          8400000,
          4722310,
          54999651,
          2950000,
          23928503,
          16627188,
          16627188,
          4882577,
          4882577,
          61615296,
          158753820,
          1275999,
          159157447,
          14681192,
          21486757,
          3000000,
          50700000,
          25978442,
          25978442,
          25978442,
          14894347,
          28221552,
          415253641,
          55125,
          1250000,
          1250000,
          193772504,
          27200316,
          32153173,
          185898,
          39321715,
          55518613,
          4611062,
          1000000,
          169956806,
          16153953,
          4412203,
          14700000,
          10032765,
          81600000,
          784181,
          1400000,
          5628000,
          15645616,
          9439660,
          9439660,
          15681020,
          15681020,
          1700000,
          79666653,
          79666653,
          1499275,
          3155000,
          26691243,
          14200000,
          5008276,
          4479470,
          291390,
          291390,
          5080409,
          2536242,
          76432727,
          353816701,
          6000000,
          32382381,
          363398565,
          71026631,
          100489151,
          100489151,
          100489151,
          22510798,
          21756163,
          20246790,
          17380126,
          317382,
          1220058,
          15556340,
          2500000,
          478336279,
          2816518,
          1535829,
          33000000,
          33000000,
          33000000,
          33000000,
          24361867,
          16797191,
          53478166,
          237681299,
          6201757,
          147419472,
          105178561,
          3700000,
          1350000,
          141337989,
          135553760,
          8547733,
          292810686,
          11391093,
          11391093,
          8049666,
          8049666,
          130880,
          3000000,
          69307224,
          6700000,
          2007290,
          5027193,
          3000000,
          559852396,
          559852396,
          559852396,
          347512318,
          39071603,
          39071603,
          5000000,
          5000000,
          71868327,
          1890472,
          151668774,
          16357355,
          90508336,
          435000,
          45584036,
          765000,
          765000,
          15782759,
          78756177,
          83137603,
          29119434,
          227853986,
          326551094,
          326551094,
          166842739,
          57777778,
          279627,
          78084827,
          287594577,
          62548947,
          1100000,
          17500000,
          14000000,
          2550000,
          16371128,
          16371128,
          202292902,
          4250000,
          262520724,
          262520724,
          26713187,
          26713187,
          452152,
          2200000,
          168335153,
          9640000,
          9023199,
          9045364,
          9045364,
          3916303,
          1316865,
          5359645,
          180503,
          29413966,
          1279000,
          45496534,
          45496534,
          55041367,
          205400000,
          205400000,
          205400000,
          205400000,
          335062320,
          50750000,
          50750000,
          50750000,
          205843612,
          1852655,
          1852655,
          8380329,
          263601,
          55701900,
          417663,
          972000,
          5632086,
          67631903,
          46908987,
          25147786,
          16217773,
          39187783,
          35078918,
          36000000,
          36000000,
          2000000,
          77153487,
          731342744,
          66845033,
          63856929,
          63856929,
          94900635,
          179265204,
          43622150,
          26381221,
          26381221,
          35509515,
          30036000,
          30036000,
          19736932,
          12452362,
          58972904,
          14504277,
          1043871802,
          2308390,
          3487767,
          230884728,
          230884728,
          23367586,
          89446268,
          51803305,
          51803305,
          932000,
          172055,
          17471727,
          545582,
          8674093,
          1296937,
          18254702,
          18254702,
          25052000,
          51880044,
          51880044,
          16071990,
          16071990,
          25000000,
          25000000,
          2484226,
          12000000,
          12000000,
          13825794,
          397174,
          70600000,
          23650000,
          7306242,
          1083486,
          1083486,
          30000000,
          5958456,
          1066000,
          871530324,
          13474588,
          13474588,
          13474588,
          11585483,
          11585483,
          49666,
          341433252,
          341433252,
          12211068,
          12923936,
          206071502,
          206071502,
          1039824,
          15122000,
          974755371,
          1250000,
          295750,
          16086247,
          101982854,
          101982854,
          3000000,
          34266564,
          21333333,
          43838238,
          156505388,
          1276000,
          217764291,
          3500000,
          117270765,
          7563728,
          2084559,
          10639686,
          400000,
          51684798,
          1106475,
          1500000,
          23472449,
          3184348,
          8000000,
          8000000,
          142851197,
          147780440,
          3475000,
          2250000,
          4357406,
          23380203,
          23380203,
          349618,
          349618,
          9566593,
          1400000,
          16020184,
          2100000,
          463972,
          124900000,
          36853222,
          42724017,
          18561998,
          1369647,
          102953112,
          102953112,
          54641191,
          219851172,
          1650000,
          38016380,
          5129058,
          21577624,
          63781810,
          197011982,
          44083657,
          193967670,
          193967670,
          1200000,
          352810,
          102367405,
          33351557,
          56342711,
          249488115,
          89456761,
          89456761,
          96889998,
          71986895,
          1290000,
          33035245,
          107196498,
          46471023,
          46471023,
          35000000,
          50000000,
          50000000,
          50000000,
          67331309,
          12195695,
          14255801,
          1278516,
          505675,
          505675,
          11439193,
          328718434,
          5000000,
          31672908,
          196393745,
          6011745,
          25032129,
          741394,
          3700000,
          73956241,
          3700000,
          177311151,
          12532777,
          105834556,
          2650000,
          2650000,
          96408652,
          1253985,
          65278569,
          235926552,
          235926552,
          26000000,
          1100000,
          63000000,
          12308521,
          4373074,
          190320568,
          1491434,
          52767889,
          52767889,
          62112895,
          62112895,
          2500000,
          22482952,
          22482952,
          195268056,
          18999718,
          11657385,
          2268000,
          266728738,
          93974620,
          93974620,
          7000000,
          7000000,
          41833347,
          58405313,
          237202298,
          2280148,
          202614288,
          202614288,
          19146711,
          3600000,
          10161099,
          10161099,
          17810894,
          529677,
          37311672,
          37311672,
          9493259,
          9493259,
          44480039,
          303841,
          2000000,
          40443010,
          2209322,
          10360553,
          10360553,
          11300653,
          11300653,
          11300653,
          1000000,
          1000000,
          18135531,
          322871,
          408000,
          62450361,
          62450361,
          533569,
          533569,
          148853,
          151493655,
          151493655,
          1400000,
          33208099,
          30680,
          17014653,
          1324974,
          15351421,
          15351421,
          2450000,
          2450000,
          6856989,
          10000000,
          86369815,
          4092682,
          6375000,
          44909486,
          26960191,
          122823468,
          57756408,
          36402320,
          36402320,
          2694234,
          1600000,
          905291,
          905291,
          31181347,
          1850000,
          149705852,
          4134992,
          3300000,
          3300000,
          5530764,
          1600000,
          23438120,
          1733000,
          1733000,
          14821658,
          30536013,
          30536013,
          12885193,
          9479718,
          115035090,
          44703995,
          35319689,
          12767815,
          4000000,
          4091378,
          343786,
          513176,
          23159305,
          5455736,
          2049769,
          16918723,
          48451803,
          20837000,
          20837000,
          70124099,
          48919043,
          22313201,
          37691644,
          177841558,
          310650585,
          21693114,
          21693114,
          47285152,
          273961019,
          36489888,
          36489888,
          8630068,
          5200000,
          113714830,
          128499205,
          1105041,
          47383689,
          4803039,
          4803039,
          1932642,
          1932642,
          77741732,
          95311434,
          177977226,
          177977226,
          60427839,
          60427839,
          10332256,
          137298489,
          137298489,
          34326249,
          1000000,
          76669806,
          1119112,
          1400000,
          4030793,
          14760451,
          1109000,
          110996879,
          516642939,
          41700000,
          4872444,
          1550000,
          2500000,
          142634358,
          7237794,
          450717150,
          18369,
          926047111,
          1798862,
          1798862,
          2700000,
          38364277,
          38364277,
          38364277,
          122417389,
          1500000,
          25000000,
          67876281,
          37828420,
          1024299904,
          102202,
          10005969,
          2000000,
          76657000,
          76657000,
          1102469,
          1102469,
          1102469,
          13560960,
          5410553,
          305102,
          157387195,
          157387195,
          460000,
          65470529,
          13000000,
          274703340,
          54682547,
          54682547,
          26828365,
          5100000,
          161128228,
          32589624,
          1250000,
          79181750,
          204594016,
          108185706,
          2000000,
          2000000,
          104942695,
          3692836,
          3692836,
          3692836,
          39459427,
          311312624,
          20845016,
          92601050,
          121475,
          30925690,
          76057639,
          474171806,
          55494066,
          55494066,
          33956608,
          80767884,
          2276900,
          6650206,
          60000000,
          442515,
          13275000,
          13275000,
          222105681,
          37591674,
          2100000,
          84471,
          1200000,
          86024005,
          86024005,
          5200601,
          2750000,
          2750000,
          15055091,
          2955917,
          1100000,
          1800000,
          65797,
          7390108,
          44527234,
          44527234,
          17218080,
          90614445,
          1221366,
          1750000,
          15368897,
          1465000,
          193921372,
          407711549,
          591745550,
          591745550,
          52096475,
          52096475,
          166228,
          441286195,
          6968359,
          4864980,
          2200000,
          13583690,
          19623396,
          20016753,
          20016753,
          391081192,
          391081192,
          22844291,
          5300000,
          13000000,
          13000000,
          28277918,
          1402962,
          22365133,
          75993061,
          75993061,
          13069740,
          216485654,
          85313124,
          486434,
          214034224,
          44999621,
          17613720,
          90574188,
          14648076,
          75450437,
          403701,
          7305209,
          1740156,
          1740156,
          41509797,
          83557872,
          1400000,
          2609412,
          48169910,
          48169910,
          87423861,
          232617430,
          149270999,
          149270999,
          1963756,
          580129,
          47902566,
          28590665,
          10725228,
          10725228,
          10725228,
          433013274,
          433013274,
          7393346,
          7393346,
          1150000,
          9077269,
          44229441,
          44229441,
          21006361,
          44432255,
          44432255,
          1649655,
          5768142,
          750000,
          750000,
          8974829,
          11000000,
          11000000,
          3800000,
          3800000,
          3800000,
          18517322,
          8914881,
          48585416,
          48585416,
          6484246,
          56308881,
          1900000,
          39468111,
          56422687,
          22944502,
          173418781,
          1350000,
          23844,
          129538392,
          195745823,
          195745823,
          2200000,
          3052738,
          26657534,
          42913571,
          42913571,
          28738096,
          28738096,
          175372502,
          175372502,
          339500000,
          14400327,
          14400327,
          15395087,
          50008143,
          6263883,
          624026776,
          80000000,
          2935242,
          63797,
          3588602,
          5914908,
          5914908,
          122650962,
          122650962,
          314178011,
          73839240,
          43220000,
          5887457,
          5111000,
          25000000,
          72178895,
          41000000,
          591700000,
          5000000,
          98126565,
          441071011,
          441071011,
          5093000,
          517872,
          3293658,
          6278139,
          19870567,
          266465037,
          31102578,
          2669000,
          57319029,
          57319029,
          57319029,
          596400000,
          6566277,
          31337584,
          2750741,
          13027857,
          115267375,
          47053625,
          26616840,
          26616840,
          238207122,
          266822354,
          148336445,
          2770941,
          713234,
          900000,
          69959751,
          471210,
          128884132,
          128884132,
          74237563,
          3062530,
          3062530,
          3594997,
          1038959,
          12200000,
          2000000,
          1450000,
          30057974,
          6347072,
          260718330,
          260718330,
          260718330,
          158431237,
          28341469,
          28341469,
          7000000,
          1450000,
          38502340,
          38590500,
          46836394,
          5321508,
          5321508,
          5321508,
          2900000,
          2900000,
          26285544,
          2250000,
          11000000,
          60694737,
          31559552,
          16942795,
          3484331,
          142400065,
          187436818,
          16318449,
          154026136,
          1350000,
          21830957,
          15978422,
          15978422,
          51132598,
          41067311,
          69847348,
          770000,
          17100000,
          145071,
          164433867,
          1700000,
          26118851,
          158851357,
          231605150,
          231605150,
          95404397,
          1750000,
          101370000,
          101370000,
          209600000,
          15094530,
          71406573,
          13806137,
          330444045,
          26000000,
          2743336,
          470000,
          85507593,
          549000,
          12348905,
          46495,
          7325177,
          16153600,
          24405825,
          24405825,
          24405825,
          41237658,
          41237658,
          1825000,
          41895491,
          16872671,
          23859382,
          6110979,
          6110979,
          91753202,
          97838349,
          97838349,
          203388341,
          9923855,
          19039770,
          8527517,
          7555256,
          4460000,
          52620104,
          55495563,
          26355483,
          26355483,
          26355483,
          23646952,
          1081957,
          1081957,
          1250000,
          6202756,
          6202756,
          9012000,
          63766510,
          8500000,
          44547681,
          4681651,
          12988801,
          136397186,
          321669730,
          191502246,
          251501840,
          1000000,
          22619589,
          29010817,
          90754475,
          177200000,
          33975,
          33975,
          2250000,
          333932083,
          43368779,
          1350000,
          624643,
          10631333,
          123922370,
          20340204,
          20112339,
          870532,
          260562,
          260562,
          262797249,
          214104620,
          1004558444,
          1004558444,
          1004558444,
          162738726,
          18618284,
          431900000,
          18381890,
          24047675,
          45360915,
          4613000,
          179213434,
          533479,
          142000000,
          25889208,
          25889208,
          20164171,
          20164171,
          100860818,
          8500000,
          64088552,
          32801173,
          6110000,
          6110000,
          32925,
          67308282,
          17130087,
          20378470,
          26810113,
          4250000,
          1945658,
          131002597,
          131002597,
          4000000,
          12281551,
          12281551,
          102313925,
          5194491,
          32222567,
          50236831,
          36000000,
          17218023,
          10000000,
          10000000,
          10000000,
          825532764,
          1103757,
          1103757,
          1103757,
          300854823,
          300854823,
          28623000,
          28623000,
          9771658,
          21538850,
          21538850,
          44017374,
          1063171911,
          896298,
          1000000,
          213928762,
          4456346,
          2000000,
          12643776,
          21540050,
          285176741,
          12728,
          10680275,
          13411957,
          56255142,
          7928412,
          7928412,
          84542002,
          28510652,
          100086793,
          14205021,
          27503037,
          27503037,
          27503037,
          12200000,
          12200000,
          12200000,
          12046526,
          321731527,
          12000000,
          12000000,
          25068724,
          51700000,
          516350,
          76270454,
          17290970,
          29419291,
          29419291,
          29419291,
          346079773,
          346079773,
          11302884,
          2000000,
          11005304,
          670000,
          115101622,
          129266061,
          10194274,
          13383747,
          47951979,
          347328,
          5753678,
          45300000,
          106269971,
          65001485,
          49752391,
          49752391,
          34562222,
          5418216,
          67210347,
          11098131,
          7310000,
          49454000,
          631744560,
          183031272,
          183031272,
          95904091,
          82751189,
          37566230,
          286214286,
          735992,
          27038732,
          27038732,
          7000000,
          724912,
          21968877,
          25836616,
          39171,
          7000000,
          7000000,
          243240178,
          20966644,
          20966644,
          15986449,
          15986449,
          84565230,
          32056467,
          32056467,
          177243185,
          58292295,
          127600435,
          127600435,
          7448385,
          7448385,
          4573000,
          4573000,
          18099091,
          30002758,
          18133495,
          9292446,
          3005295,
          212404396,
          212404396,
          19288130,
          2250000,
          27536746,
          27536746,
          79006030,
          77224232,
          3728888,
          34603943,
          7993039,
          138510230,
          218626,
          2119000,
          2119000,
          951583777,
          1350000,
          1350000,
          189859560,
          189859560,
          52850,
          108981275,
          108981275,
          32005248,
          18924919,
          18924919,
          3252671,
          289847354,
          6995302,
          215294342,
          215294342,
          219417255,
          11238,
          12442673,
          17957265,
          93621340,
          35150546,
          27935,
          55447968,
          55447968,
          24164,
          17323326,
          873808,
          1100000,
          26518355,
          35078241,
          71518503,
          71518503,
          12800000,
          12729917,
          20000000,
          20000000,
          17929684,
          17929684,
          296655431,
          296655431,
          296655431,
          4956401,
          4956401,
          6410058,
          1150000,
          45566200,
          45566200,
          141200000,
          4257354,
          5696391,
          160000000,
          160000000,
          67312826,
          12423831,
          38068353,
          2000000,
          28078073,
          43995918,
          12600000,
          131426169,
          245360480,
          1680000,
          163733697,
          35681080,
          80573774,
          80573774,
          5816000,
          6819587,
          4000000,
          18195610,
          9689816,
          28262574,
          8450000,
          15478800,
          327418,
          13908762,
          358994850,
          358994850,
          92913171,
          31899000,
          455000,
          27388767,
          20387597,
          1924733,
          1924733,
          1924733,
          1924733,
          30236407,
          72689,
          187349,
          1066141,
          4736202,
          48668907,
          65000000,
          2800000,
          349464665,
          349464665,
          52223306,
          12454768,
          4454295,
          3651462,
          3651462,
          3651462,
          244527583,
          32324557,
          381509870,
          10569071,
          82150642,
          82150642,
          390493908,
          390493908,
          2507995,
          116300000,
          33243020,
          123118386,
          620000,
          540152,
          128107642,
          1000000,
          411348924,
          411348924,
          411348924,
          110463140,
          63434,
          27281507,
          6000000,
          10647219,
          10647219,
          67182787,
          86579130,
          32492674,
          4104962,
          4104962,
          11285588,
          17989227,
          104876233,
          362744280,
          362744280,
          1800000,
          191125,
          191125,
          191125,
          28121100,
          38251425,
          1731000,
          26010864,
          7258543,
          7258543,
          96753696,
          2375097,
          186883563,
          186883563,
          50000000,
          50000000,
          1070000,
          178846899,
          15000000,
          15000000,
          48428063,
          48428063,
          48428063,
          20016254,
          47774193,
          371353001,
          29548291,
          29548291,
          15476862,
          12000000,
          2850000,
          70687344,
          102308889,
          61746888,
          251212670,
          5997566,
          800000,
          59600000,
          78900000,
          4750660,
          9996178,
          34409206,
          63408614,
          122000000,
          457696359,
          1150000,
          580862,
          526366597,
          2000000,
          34675800,
          14155617,
          7716923,
          9480198,
          9480198,
          10873237,
          1000000,
          57252,
          14859394,
          14859394,
          1250000,
          7875862,
          16116878,
          27627310,
          27627310,
          70016220,
          20667959,
          103951461,
          26558,
          50007546,
          14904910,
          4764606,
          4764606,
          9243140,
          20036242,
          15000,
          36911617,
          36911617,
          80035402,
          7603766,
          85498534,
          64256513,
          2000000,
          11523779,
          11523779,
          11523779,
          11523779,
          325860290,
          253625427,
          384335608,
          384335608,
          113020255,
          149022650,
          149022650,
          17550741,
          11099118,
          11099118,
          1200000,
          96105964,
          96105964,
          37962774,
          31063038,
          2865916,
          7261490,
          1975000,
          3500000,
          3500000,
          2300684,
          109676311,
          109676311,
          156822020,
          6063556,
          4000000,
          63456988,
          63270710,
          18587135,
          227817248,
          2035468,
          211608112,
          10000000,
          306776732,
          30716901,
          30716901,
          281929795,
          281929795,
          108846072,
          12000000,
          126793,
          48350205,
          48350205,
          87754044,
          1161063,
          47126295,
          47126295,
          117094902,
          117094902,
          2500000,
          97818139,
          97818139,
          874148,
          622503,
          2250000,
          1660000,
          5500000,
          16115878,
          16118077,
          66240000,
          182291969,
          182291969,
          182291969,
          29309766,
          80916492,
          12000000,
          31906454,
          302393,
          21672284,
          6419876,
          12484444,
          14000000,
          14000000,
          44862187,
          14110589,
          1293976,
          7622365,
          165615285,
          10500000,
          8408835,
          8408835,
          1001000,
          99480480,
          99480480,
          99480480,
          99480480,
          5963000,
          122919055,
          56032889,
          4013506,
          21567853,
          53998806,
          53998806,
          7411659,
          145793296,
          10555348,
          40263020,
          74123100,
          9710055,
          141591324,
          35003235,
          16186793,
          2600000,
          49233161,
          30991660,
          3252000,
          235860116,
          42365581,
          42365581,
          42365581,
          3200000,
          2000000,
          29000000,
          9760104,
          6500000,
          6500000,
          2447576,
          7435671,
          7435671,
          7435671,
          20000000,
          4350000,
          77745568,
          140894675,
          202548575,
          55211028,
          22540359,
          3510605,
          3000000,
          3000000,
          3800000,
          46509,
          1083683,
          27641569,
          18635620,
          1455890,
          18196170,
          8083123,
          35143820,
          35143820,
          1562749,
          1562749,
          1562749,
          2500000,
          2500000,
          2500000,
          2500000,
          7074234,
          84021052,
          132274484,
          1500000,
          25000000,
          13854000,
          130293714,
          130293714,
          63782078,
          12638294,
          12638294,
          1157153,
          47267829,
          40953935,
          49998613,
          1384395,
          60527873,
          233093859,
          3783003,
          352114312,
          4485485,
          3300000,
          178062759,
          178062759,
          18935657,
          60629159,
          1250000,
          1250000,
          11922000,
          20000000,
          372438,
          38000000,
          86930411,
          8175346,
          39946780,
          29844101,
          2600000,
          47267001,
          1750000,
          152266007,
          152266007,
          152266007,
          27409889,
          18124262,
          202482728,
          4166918,
          4166918,
          16907725,
          41032915,
          8894289,
          372710015,
          372710015,
          372710015,
          20766616,
          32511047,
          41174,
          66500000,
          209073645,
          7266209,
          1250000,
          13000000,
          35323292,
          25143818,
          47789074,
          12000000,
          12000000,
          934550,
          10452012,
          10452012,
          10452012,
          7177143,
          1950000,
          72028752,
          30155037,
          29413900,
          17185632,
          3246063,
          167298192,
          167298192,
          1774000,
          8038061,
          112006296,
          5000000,
          22490039,
          19537346,
          22998000,
          1800141,
          7093284,
          107198790,
          5400000
         ],
         "y0": " ",
         "yaxis": "y"
        },
        {
         "alignmentgroup": "True",
         "hovertemplate": "Movie Type=%{x}<br>Box Office Revenue ($)=%{y}<extra></extra>",
         "legendgroup": "True",
         "marker": {
          "color": "#EF553B"
         },
         "name": "True",
         "notched": false,
         "offsetgroup": "True",
         "orientation": "v",
         "showlegend": true,
         "type": "box",
         "x": [
          true,
          true,
          true,
          true,
          true,
          true,
          true,
          true,
          true,
          true,
          true,
          true,
          true,
          true,
          true,
          true,
          true,
          true,
          true,
          true,
          true,
          true,
          true,
          true,
          true,
          true,
          true,
          true,
          true,
          true,
          true,
          true,
          true,
          true,
          true,
          true,
          true,
          true,
          true,
          true,
          true,
          true,
          true,
          true,
          true,
          true,
          true,
          true,
          true,
          true,
          true,
          true,
          true,
          true,
          true,
          true,
          true,
          true,
          true,
          true,
          true,
          true,
          true,
          true,
          true,
          true,
          true,
          true,
          true,
          true,
          true,
          true,
          true,
          true,
          true,
          true,
          true,
          true,
          true,
          true,
          true,
          true,
          true,
          true,
          true,
          true,
          true,
          true,
          true,
          true,
          true,
          true,
          true,
          true,
          true,
          true,
          true,
          true,
          true,
          true,
          true,
          true,
          true,
          true,
          true
         ],
         "x0": " ",
         "xaxis": "x",
         "y": [
          23272306,
          126216940,
          171627166,
          6330054,
          32632093,
          20714400,
          20714400,
          156239800,
          8000000,
          8000000,
          6000000,
          146900000,
          8488000,
          3225000,
          60000000,
          313542341,
          225933435,
          30500000,
          30500000,
          62493712,
          3250000,
          5000000,
          400000000,
          59000000,
          59000000,
          9600000,
          207515725,
          50000000,
          368875760,
          6000000,
          8125000,
          159157447,
          50700000,
          213741459,
          16153953,
          42765000,
          100489151,
          43700000,
          43700000,
          320389438,
          16217773,
          14227969,
          40157856,
          289317794,
          193000000,
          70600000,
          23650000,
          30177511,
          2400000,
          14743391,
          505702588,
          154852975,
          96408652,
          26000000,
          93974620,
          34700291,
          129190869,
          129190869,
          106260000,
          40000000,
          26828365,
          60000000,
          85313124,
          1900000,
          2350000,
          30933743,
          26657534,
          42913571,
          5887457,
          8500000,
          22000115,
          22000115,
          46836394,
          29133000,
          2900000,
          82466670,
          88545092,
          41895491,
          177200000,
          1004558444,
          30846306,
          216763646,
          25889208,
          64088552,
          2600000,
          32801173,
          76270454,
          1600000,
          27187653,
          13383747,
          33395426,
          12600000,
          54766923,
          173013509,
          50000000,
          179033791,
          156822020,
          211608112,
          306776732,
          48350205,
          108423489,
          8878000,
          3150000,
          231976425,
          95461682
         ],
         "y0": " ",
         "yaxis": "y"
        }
       ],
       "layout": {
        "boxmode": "overlay",
        "height": 600,
        "legend": {
         "title": {
          "text": "Movie Type"
         },
         "tracegroupgap": 0
        },
        "template": {
         "data": {
          "bar": [
           {
            "error_x": {
             "color": "#2a3f5f"
            },
            "error_y": {
             "color": "#2a3f5f"
            },
            "marker": {
             "line": {
              "color": "#E5ECF6",
              "width": 0.5
             },
             "pattern": {
              "fillmode": "overlay",
              "size": 10,
              "solidity": 0.2
             }
            },
            "type": "bar"
           }
          ],
          "barpolar": [
           {
            "marker": {
             "line": {
              "color": "#E5ECF6",
              "width": 0.5
             },
             "pattern": {
              "fillmode": "overlay",
              "size": 10,
              "solidity": 0.2
             }
            },
            "type": "barpolar"
           }
          ],
          "carpet": [
           {
            "aaxis": {
             "endlinecolor": "#2a3f5f",
             "gridcolor": "white",
             "linecolor": "white",
             "minorgridcolor": "white",
             "startlinecolor": "#2a3f5f"
            },
            "baxis": {
             "endlinecolor": "#2a3f5f",
             "gridcolor": "white",
             "linecolor": "white",
             "minorgridcolor": "white",
             "startlinecolor": "#2a3f5f"
            },
            "type": "carpet"
           }
          ],
          "choropleth": [
           {
            "colorbar": {
             "outlinewidth": 0,
             "ticks": ""
            },
            "type": "choropleth"
           }
          ],
          "contour": [
           {
            "colorbar": {
             "outlinewidth": 0,
             "ticks": ""
            },
            "colorscale": [
             [
              0,
              "#0d0887"
             ],
             [
              0.1111111111111111,
              "#46039f"
             ],
             [
              0.2222222222222222,
              "#7201a8"
             ],
             [
              0.3333333333333333,
              "#9c179e"
             ],
             [
              0.4444444444444444,
              "#bd3786"
             ],
             [
              0.5555555555555556,
              "#d8576b"
             ],
             [
              0.6666666666666666,
              "#ed7953"
             ],
             [
              0.7777777777777778,
              "#fb9f3a"
             ],
             [
              0.8888888888888888,
              "#fdca26"
             ],
             [
              1,
              "#f0f921"
             ]
            ],
            "type": "contour"
           }
          ],
          "contourcarpet": [
           {
            "colorbar": {
             "outlinewidth": 0,
             "ticks": ""
            },
            "type": "contourcarpet"
           }
          ],
          "heatmap": [
           {
            "colorbar": {
             "outlinewidth": 0,
             "ticks": ""
            },
            "colorscale": [
             [
              0,
              "#0d0887"
             ],
             [
              0.1111111111111111,
              "#46039f"
             ],
             [
              0.2222222222222222,
              "#7201a8"
             ],
             [
              0.3333333333333333,
              "#9c179e"
             ],
             [
              0.4444444444444444,
              "#bd3786"
             ],
             [
              0.5555555555555556,
              "#d8576b"
             ],
             [
              0.6666666666666666,
              "#ed7953"
             ],
             [
              0.7777777777777778,
              "#fb9f3a"
             ],
             [
              0.8888888888888888,
              "#fdca26"
             ],
             [
              1,
              "#f0f921"
             ]
            ],
            "type": "heatmap"
           }
          ],
          "heatmapgl": [
           {
            "colorbar": {
             "outlinewidth": 0,
             "ticks": ""
            },
            "colorscale": [
             [
              0,
              "#0d0887"
             ],
             [
              0.1111111111111111,
              "#46039f"
             ],
             [
              0.2222222222222222,
              "#7201a8"
             ],
             [
              0.3333333333333333,
              "#9c179e"
             ],
             [
              0.4444444444444444,
              "#bd3786"
             ],
             [
              0.5555555555555556,
              "#d8576b"
             ],
             [
              0.6666666666666666,
              "#ed7953"
             ],
             [
              0.7777777777777778,
              "#fb9f3a"
             ],
             [
              0.8888888888888888,
              "#fdca26"
             ],
             [
              1,
              "#f0f921"
             ]
            ],
            "type": "heatmapgl"
           }
          ],
          "histogram": [
           {
            "marker": {
             "pattern": {
              "fillmode": "overlay",
              "size": 10,
              "solidity": 0.2
             }
            },
            "type": "histogram"
           }
          ],
          "histogram2d": [
           {
            "colorbar": {
             "outlinewidth": 0,
             "ticks": ""
            },
            "colorscale": [
             [
              0,
              "#0d0887"
             ],
             [
              0.1111111111111111,
              "#46039f"
             ],
             [
              0.2222222222222222,
              "#7201a8"
             ],
             [
              0.3333333333333333,
              "#9c179e"
             ],
             [
              0.4444444444444444,
              "#bd3786"
             ],
             [
              0.5555555555555556,
              "#d8576b"
             ],
             [
              0.6666666666666666,
              "#ed7953"
             ],
             [
              0.7777777777777778,
              "#fb9f3a"
             ],
             [
              0.8888888888888888,
              "#fdca26"
             ],
             [
              1,
              "#f0f921"
             ]
            ],
            "type": "histogram2d"
           }
          ],
          "histogram2dcontour": [
           {
            "colorbar": {
             "outlinewidth": 0,
             "ticks": ""
            },
            "colorscale": [
             [
              0,
              "#0d0887"
             ],
             [
              0.1111111111111111,
              "#46039f"
             ],
             [
              0.2222222222222222,
              "#7201a8"
             ],
             [
              0.3333333333333333,
              "#9c179e"
             ],
             [
              0.4444444444444444,
              "#bd3786"
             ],
             [
              0.5555555555555556,
              "#d8576b"
             ],
             [
              0.6666666666666666,
              "#ed7953"
             ],
             [
              0.7777777777777778,
              "#fb9f3a"
             ],
             [
              0.8888888888888888,
              "#fdca26"
             ],
             [
              1,
              "#f0f921"
             ]
            ],
            "type": "histogram2dcontour"
           }
          ],
          "mesh3d": [
           {
            "colorbar": {
             "outlinewidth": 0,
             "ticks": ""
            },
            "type": "mesh3d"
           }
          ],
          "parcoords": [
           {
            "line": {
             "colorbar": {
              "outlinewidth": 0,
              "ticks": ""
             }
            },
            "type": "parcoords"
           }
          ],
          "pie": [
           {
            "automargin": true,
            "type": "pie"
           }
          ],
          "scatter": [
           {
            "fillpattern": {
             "fillmode": "overlay",
             "size": 10,
             "solidity": 0.2
            },
            "type": "scatter"
           }
          ],
          "scatter3d": [
           {
            "line": {
             "colorbar": {
              "outlinewidth": 0,
              "ticks": ""
             }
            },
            "marker": {
             "colorbar": {
              "outlinewidth": 0,
              "ticks": ""
             }
            },
            "type": "scatter3d"
           }
          ],
          "scattercarpet": [
           {
            "marker": {
             "colorbar": {
              "outlinewidth": 0,
              "ticks": ""
             }
            },
            "type": "scattercarpet"
           }
          ],
          "scattergeo": [
           {
            "marker": {
             "colorbar": {
              "outlinewidth": 0,
              "ticks": ""
             }
            },
            "type": "scattergeo"
           }
          ],
          "scattergl": [
           {
            "marker": {
             "colorbar": {
              "outlinewidth": 0,
              "ticks": ""
             }
            },
            "type": "scattergl"
           }
          ],
          "scattermapbox": [
           {
            "marker": {
             "colorbar": {
              "outlinewidth": 0,
              "ticks": ""
             }
            },
            "type": "scattermapbox"
           }
          ],
          "scatterpolar": [
           {
            "marker": {
             "colorbar": {
              "outlinewidth": 0,
              "ticks": ""
             }
            },
            "type": "scatterpolar"
           }
          ],
          "scatterpolargl": [
           {
            "marker": {
             "colorbar": {
              "outlinewidth": 0,
              "ticks": ""
             }
            },
            "type": "scatterpolargl"
           }
          ],
          "scatterternary": [
           {
            "marker": {
             "colorbar": {
              "outlinewidth": 0,
              "ticks": ""
             }
            },
            "type": "scatterternary"
           }
          ],
          "surface": [
           {
            "colorbar": {
             "outlinewidth": 0,
             "ticks": ""
            },
            "colorscale": [
             [
              0,
              "#0d0887"
             ],
             [
              0.1111111111111111,
              "#46039f"
             ],
             [
              0.2222222222222222,
              "#7201a8"
             ],
             [
              0.3333333333333333,
              "#9c179e"
             ],
             [
              0.4444444444444444,
              "#bd3786"
             ],
             [
              0.5555555555555556,
              "#d8576b"
             ],
             [
              0.6666666666666666,
              "#ed7953"
             ],
             [
              0.7777777777777778,
              "#fb9f3a"
             ],
             [
              0.8888888888888888,
              "#fdca26"
             ],
             [
              1,
              "#f0f921"
             ]
            ],
            "type": "surface"
           }
          ],
          "table": [
           {
            "cells": {
             "fill": {
              "color": "#EBF0F8"
             },
             "line": {
              "color": "white"
             }
            },
            "header": {
             "fill": {
              "color": "#C8D4E3"
             },
             "line": {
              "color": "white"
             }
            },
            "type": "table"
           }
          ]
         },
         "layout": {
          "annotationdefaults": {
           "arrowcolor": "#2a3f5f",
           "arrowhead": 0,
           "arrowwidth": 1
          },
          "autotypenumbers": "strict",
          "coloraxis": {
           "colorbar": {
            "outlinewidth": 0,
            "ticks": ""
           }
          },
          "colorscale": {
           "diverging": [
            [
             0,
             "#8e0152"
            ],
            [
             0.1,
             "#c51b7d"
            ],
            [
             0.2,
             "#de77ae"
            ],
            [
             0.3,
             "#f1b6da"
            ],
            [
             0.4,
             "#fde0ef"
            ],
            [
             0.5,
             "#f7f7f7"
            ],
            [
             0.6,
             "#e6f5d0"
            ],
            [
             0.7,
             "#b8e186"
            ],
            [
             0.8,
             "#7fbc41"
            ],
            [
             0.9,
             "#4d9221"
            ],
            [
             1,
             "#276419"
            ]
           ],
           "sequential": [
            [
             0,
             "#0d0887"
            ],
            [
             0.1111111111111111,
             "#46039f"
            ],
            [
             0.2222222222222222,
             "#7201a8"
            ],
            [
             0.3333333333333333,
             "#9c179e"
            ],
            [
             0.4444444444444444,
             "#bd3786"
            ],
            [
             0.5555555555555556,
             "#d8576b"
            ],
            [
             0.6666666666666666,
             "#ed7953"
            ],
            [
             0.7777777777777778,
             "#fb9f3a"
            ],
            [
             0.8888888888888888,
             "#fdca26"
            ],
            [
             1,
             "#f0f921"
            ]
           ],
           "sequentialminus": [
            [
             0,
             "#0d0887"
            ],
            [
             0.1111111111111111,
             "#46039f"
            ],
            [
             0.2222222222222222,
             "#7201a8"
            ],
            [
             0.3333333333333333,
             "#9c179e"
            ],
            [
             0.4444444444444444,
             "#bd3786"
            ],
            [
             0.5555555555555556,
             "#d8576b"
            ],
            [
             0.6666666666666666,
             "#ed7953"
            ],
            [
             0.7777777777777778,
             "#fb9f3a"
            ],
            [
             0.8888888888888888,
             "#fdca26"
            ],
            [
             1,
             "#f0f921"
            ]
           ]
          },
          "colorway": [
           "#636efa",
           "#EF553B",
           "#00cc96",
           "#ab63fa",
           "#FFA15A",
           "#19d3f3",
           "#FF6692",
           "#B6E880",
           "#FF97FF",
           "#FECB52"
          ],
          "font": {
           "color": "#2a3f5f"
          },
          "geo": {
           "bgcolor": "white",
           "lakecolor": "white",
           "landcolor": "#E5ECF6",
           "showlakes": true,
           "showland": true,
           "subunitcolor": "white"
          },
          "hoverlabel": {
           "align": "left"
          },
          "hovermode": "closest",
          "mapbox": {
           "style": "light"
          },
          "paper_bgcolor": "white",
          "plot_bgcolor": "#E5ECF6",
          "polar": {
           "angularaxis": {
            "gridcolor": "white",
            "linecolor": "white",
            "ticks": ""
           },
           "bgcolor": "#E5ECF6",
           "radialaxis": {
            "gridcolor": "white",
            "linecolor": "white",
            "ticks": ""
           }
          },
          "scene": {
           "xaxis": {
            "backgroundcolor": "#E5ECF6",
            "gridcolor": "white",
            "gridwidth": 2,
            "linecolor": "white",
            "showbackground": true,
            "ticks": "",
            "zerolinecolor": "white"
           },
           "yaxis": {
            "backgroundcolor": "#E5ECF6",
            "gridcolor": "white",
            "gridwidth": 2,
            "linecolor": "white",
            "showbackground": true,
            "ticks": "",
            "zerolinecolor": "white"
           },
           "zaxis": {
            "backgroundcolor": "#E5ECF6",
            "gridcolor": "white",
            "gridwidth": 2,
            "linecolor": "white",
            "showbackground": true,
            "ticks": "",
            "zerolinecolor": "white"
           }
          },
          "shapedefaults": {
           "line": {
            "color": "#2a3f5f"
           }
          },
          "ternary": {
           "aaxis": {
            "gridcolor": "white",
            "linecolor": "white",
            "ticks": ""
           },
           "baxis": {
            "gridcolor": "white",
            "linecolor": "white",
            "ticks": ""
           },
           "bgcolor": "#E5ECF6",
           "caxis": {
            "gridcolor": "white",
            "linecolor": "white",
            "ticks": ""
           }
          },
          "title": {
           "x": 0.05
          },
          "xaxis": {
           "automargin": true,
           "gridcolor": "white",
           "linecolor": "white",
           "ticks": "",
           "title": {
            "standoff": 15
           },
           "zerolinecolor": "white",
           "zerolinewidth": 2
          },
          "yaxis": {
           "automargin": true,
           "gridcolor": "white",
           "linecolor": "white",
           "ticks": "",
           "title": {
            "standoff": 15
           },
           "zerolinecolor": "white",
           "zerolinewidth": 2
          }
         }
        },
        "title": {
         "text": "Box Office Revenue Distribution (Oscar-Winning vs Non-Oscar-Winning)"
        },
        "width": 800,
        "xaxis": {
         "anchor": "y",
         "categoryarray": [
          false,
          true
         ],
         "categoryorder": "array",
         "domain": [
          0,
          1
         ],
         "title": {
          "text": "Best Actress Reward"
         }
        },
        "yaxis": {
         "anchor": "x",
         "domain": [
          0,
          1
         ],
         "tickformat": "$,.0f",
         "title": {
          "text": "Box Office Revenue ($)"
         }
        }
       }
      }
     },
     "metadata": {},
     "output_type": "display_data"
    }
   ],
   "source": [
    "# Prepare data for box office revenue comparison\n",
    "box_office_data = oscar_act_movies_all[['Movie box office revenue', 'Best Actress Reward']].dropna()\n",
    "\n",
    "# Create a box plot to show the distribution of box office revenue\n",
    "fig = px.box(\n",
    "    box_office_data,\n",
    "    x='Best Actress Reward',\n",
    "    y='Movie box office revenue',\n",
    "    title='Box Office Revenue Distribution (Oscar-Winning vs Non-Oscar-Winning)',\n",
    "    labels={'Best Actress Reward': 'Movie Type', 'Movie box office revenue': 'Box Office Revenue ($)'},\n",
    "    color='Best Actress Reward'\n",
    ")\n",
    "\n",
    "# Update layout for better readability⁄\n",
    "fig.update_layout(\n",
    "    xaxis=dict(title='Best Actress Reward'),\n",
    "    yaxis=dict(title='Box Office Revenue ($)', tickformat='$,.0f'),\n",
    "    width=800,  # Adjust figure width\n",
    "    height=600  # Adjust figure height\n",
    ")\n",
    "\n",
    "# Uncomment this to visualize\n",
    "fig.show()"
   ]
  },
  {
   "cell_type": "code",
   "execution_count": 321,
   "metadata": {},
   "outputs": [
    {
     "data": {
      "application/vnd.plotly.v1+json": {
       "config": {
        "plotlyServerURL": "https://plot.ly"
       },
       "data": [
        {
         "hovertemplate": "Age at Movie Release=%{x}<br>Box Office Revenue ($)=%{marker.size}<extra></extra>",
         "legendgroup": "",
         "marker": {
          "color": "purple",
          "size": [
           159157447,
           8500000,
           108423489,
           193000000,
           26828365,
           23650000,
           3225000,
           2900000,
           8000000,
           1900000,
           1600000,
           30500000,
           3250000,
           22000115,
           146900000,
           60000000,
           43700000,
           30177511,
           6000000,
           16217773,
           12600000,
           30846306,
           42765000,
           70600000,
           20714400,
           50000000,
           54766923,
           95461682,
           34700291,
           85313124,
           59000000,
           88545092,
           76270454,
           62493712,
           46836394,
           179033791,
           368875760,
           5887457,
           225933435,
           6330054,
           207515725,
           16153953,
           32801173,
           156822020,
           216763646,
           93974620,
           171627166,
           1004558444,
           320389438,
           129190869,
           14227969,
           42913571,
           106260000,
           177200000,
           213741459,
           173013509,
           8878000,
           8488000,
           8125000,
           8000000,
           2350000,
           30500000,
           9600000,
           5000000,
           22000115,
           43700000,
           40000000,
           50700000,
           25889208,
           29133000,
           30933743,
           60000000,
           20714400,
           50000000,
           27187653,
           26657534,
           59000000,
           13383747,
           156239800,
           32632093,
           14743391,
           505702588,
           64088552,
           40157856,
           231976425,
           126216940,
           289317794,
           48350205,
           313542341,
           306776732,
           82466670,
           154852975,
           96408652,
           129190869,
           211608112
          ],
          "sizemode": "area",
          "sizeref": 2511396.11,
          "symbol": "circle"
         },
         "mode": "markers",
         "name": "",
         "orientation": "v",
         "showlegend": false,
         "type": "scatter",
         "x": [
          62,
          30,
          46,
          31,
          34,
          31,
          45,
          43,
          39,
          36,
          41,
          37,
          38,
          38,
          47,
          39,
          27,
          78,
          45,
          42,
          56,
          61,
          39,
          53,
          55,
          35,
          20,
          77,
          43,
          77,
          52,
          66,
          56,
          40,
          47,
          72,
          46,
          66,
          46,
          69,
          33,
          52,
          51,
          44,
          67,
          44,
          38,
          29,
          52,
          36,
          80,
          43,
          29,
          33,
          34,
          34,
          23,
          41,
          38,
          29,
          29,
          32,
          29,
          40,
          28,
          29,
          29,
          39,
          24,
          45,
          9,
          49,
          40,
          55,
          76,
          33,
          37,
          46,
          55,
          32,
          44,
          34,
          27,
          10,
          32,
          43,
          63,
          24,
          31,
          33,
          35,
          25,
          34,
          50,
          39
         ],
         "xaxis": "x",
         "y": [
          159157447,
          8500000,
          108423489,
          193000000,
          26828365,
          23650000,
          3225000,
          2900000,
          8000000,
          1900000,
          1600000,
          30500000,
          3250000,
          22000115,
          146900000,
          60000000,
          43700000,
          30177511,
          6000000,
          16217773,
          12600000,
          30846306,
          42765000,
          70600000,
          20714400,
          50000000,
          54766923,
          95461682,
          34700291,
          85313124,
          59000000,
          88545092,
          76270454,
          62493712,
          46836394,
          179033791,
          368875760,
          5887457,
          225933435,
          6330054,
          207515725,
          16153953,
          32801173,
          156822020,
          216763646,
          93974620,
          171627166,
          1004558444,
          320389438,
          129190869,
          14227969,
          42913571,
          106260000,
          177200000,
          213741459,
          173013509,
          8878000,
          8488000,
          8125000,
          8000000,
          2350000,
          30500000,
          9600000,
          5000000,
          22000115,
          43700000,
          40000000,
          50700000,
          25889208,
          29133000,
          30933743,
          60000000,
          20714400,
          50000000,
          27187653,
          26657534,
          59000000,
          13383747,
          156239800,
          32632093,
          14743391,
          505702588,
          64088552,
          40157856,
          231976425,
          126216940,
          289317794,
          48350205,
          313542341,
          306776732,
          82466670,
          154852975,
          96408652,
          129190869,
          211608112
         ],
         "yaxis": "y"
        }
       ],
       "layout": {
        "height": 600,
        "legend": {
         "itemsizing": "constant",
         "tracegroupgap": 0
        },
        "template": {
         "data": {
          "bar": [
           {
            "error_x": {
             "color": "#2a3f5f"
            },
            "error_y": {
             "color": "#2a3f5f"
            },
            "marker": {
             "line": {
              "color": "#E5ECF6",
              "width": 0.5
             },
             "pattern": {
              "fillmode": "overlay",
              "size": 10,
              "solidity": 0.2
             }
            },
            "type": "bar"
           }
          ],
          "barpolar": [
           {
            "marker": {
             "line": {
              "color": "#E5ECF6",
              "width": 0.5
             },
             "pattern": {
              "fillmode": "overlay",
              "size": 10,
              "solidity": 0.2
             }
            },
            "type": "barpolar"
           }
          ],
          "carpet": [
           {
            "aaxis": {
             "endlinecolor": "#2a3f5f",
             "gridcolor": "white",
             "linecolor": "white",
             "minorgridcolor": "white",
             "startlinecolor": "#2a3f5f"
            },
            "baxis": {
             "endlinecolor": "#2a3f5f",
             "gridcolor": "white",
             "linecolor": "white",
             "minorgridcolor": "white",
             "startlinecolor": "#2a3f5f"
            },
            "type": "carpet"
           }
          ],
          "choropleth": [
           {
            "colorbar": {
             "outlinewidth": 0,
             "ticks": ""
            },
            "type": "choropleth"
           }
          ],
          "contour": [
           {
            "colorbar": {
             "outlinewidth": 0,
             "ticks": ""
            },
            "colorscale": [
             [
              0,
              "#0d0887"
             ],
             [
              0.1111111111111111,
              "#46039f"
             ],
             [
              0.2222222222222222,
              "#7201a8"
             ],
             [
              0.3333333333333333,
              "#9c179e"
             ],
             [
              0.4444444444444444,
              "#bd3786"
             ],
             [
              0.5555555555555556,
              "#d8576b"
             ],
             [
              0.6666666666666666,
              "#ed7953"
             ],
             [
              0.7777777777777778,
              "#fb9f3a"
             ],
             [
              0.8888888888888888,
              "#fdca26"
             ],
             [
              1,
              "#f0f921"
             ]
            ],
            "type": "contour"
           }
          ],
          "contourcarpet": [
           {
            "colorbar": {
             "outlinewidth": 0,
             "ticks": ""
            },
            "type": "contourcarpet"
           }
          ],
          "heatmap": [
           {
            "colorbar": {
             "outlinewidth": 0,
             "ticks": ""
            },
            "colorscale": [
             [
              0,
              "#0d0887"
             ],
             [
              0.1111111111111111,
              "#46039f"
             ],
             [
              0.2222222222222222,
              "#7201a8"
             ],
             [
              0.3333333333333333,
              "#9c179e"
             ],
             [
              0.4444444444444444,
              "#bd3786"
             ],
             [
              0.5555555555555556,
              "#d8576b"
             ],
             [
              0.6666666666666666,
              "#ed7953"
             ],
             [
              0.7777777777777778,
              "#fb9f3a"
             ],
             [
              0.8888888888888888,
              "#fdca26"
             ],
             [
              1,
              "#f0f921"
             ]
            ],
            "type": "heatmap"
           }
          ],
          "heatmapgl": [
           {
            "colorbar": {
             "outlinewidth": 0,
             "ticks": ""
            },
            "colorscale": [
             [
              0,
              "#0d0887"
             ],
             [
              0.1111111111111111,
              "#46039f"
             ],
             [
              0.2222222222222222,
              "#7201a8"
             ],
             [
              0.3333333333333333,
              "#9c179e"
             ],
             [
              0.4444444444444444,
              "#bd3786"
             ],
             [
              0.5555555555555556,
              "#d8576b"
             ],
             [
              0.6666666666666666,
              "#ed7953"
             ],
             [
              0.7777777777777778,
              "#fb9f3a"
             ],
             [
              0.8888888888888888,
              "#fdca26"
             ],
             [
              1,
              "#f0f921"
             ]
            ],
            "type": "heatmapgl"
           }
          ],
          "histogram": [
           {
            "marker": {
             "pattern": {
              "fillmode": "overlay",
              "size": 10,
              "solidity": 0.2
             }
            },
            "type": "histogram"
           }
          ],
          "histogram2d": [
           {
            "colorbar": {
             "outlinewidth": 0,
             "ticks": ""
            },
            "colorscale": [
             [
              0,
              "#0d0887"
             ],
             [
              0.1111111111111111,
              "#46039f"
             ],
             [
              0.2222222222222222,
              "#7201a8"
             ],
             [
              0.3333333333333333,
              "#9c179e"
             ],
             [
              0.4444444444444444,
              "#bd3786"
             ],
             [
              0.5555555555555556,
              "#d8576b"
             ],
             [
              0.6666666666666666,
              "#ed7953"
             ],
             [
              0.7777777777777778,
              "#fb9f3a"
             ],
             [
              0.8888888888888888,
              "#fdca26"
             ],
             [
              1,
              "#f0f921"
             ]
            ],
            "type": "histogram2d"
           }
          ],
          "histogram2dcontour": [
           {
            "colorbar": {
             "outlinewidth": 0,
             "ticks": ""
            },
            "colorscale": [
             [
              0,
              "#0d0887"
             ],
             [
              0.1111111111111111,
              "#46039f"
             ],
             [
              0.2222222222222222,
              "#7201a8"
             ],
             [
              0.3333333333333333,
              "#9c179e"
             ],
             [
              0.4444444444444444,
              "#bd3786"
             ],
             [
              0.5555555555555556,
              "#d8576b"
             ],
             [
              0.6666666666666666,
              "#ed7953"
             ],
             [
              0.7777777777777778,
              "#fb9f3a"
             ],
             [
              0.8888888888888888,
              "#fdca26"
             ],
             [
              1,
              "#f0f921"
             ]
            ],
            "type": "histogram2dcontour"
           }
          ],
          "mesh3d": [
           {
            "colorbar": {
             "outlinewidth": 0,
             "ticks": ""
            },
            "type": "mesh3d"
           }
          ],
          "parcoords": [
           {
            "line": {
             "colorbar": {
              "outlinewidth": 0,
              "ticks": ""
             }
            },
            "type": "parcoords"
           }
          ],
          "pie": [
           {
            "automargin": true,
            "type": "pie"
           }
          ],
          "scatter": [
           {
            "fillpattern": {
             "fillmode": "overlay",
             "size": 10,
             "solidity": 0.2
            },
            "type": "scatter"
           }
          ],
          "scatter3d": [
           {
            "line": {
             "colorbar": {
              "outlinewidth": 0,
              "ticks": ""
             }
            },
            "marker": {
             "colorbar": {
              "outlinewidth": 0,
              "ticks": ""
             }
            },
            "type": "scatter3d"
           }
          ],
          "scattercarpet": [
           {
            "marker": {
             "colorbar": {
              "outlinewidth": 0,
              "ticks": ""
             }
            },
            "type": "scattercarpet"
           }
          ],
          "scattergeo": [
           {
            "marker": {
             "colorbar": {
              "outlinewidth": 0,
              "ticks": ""
             }
            },
            "type": "scattergeo"
           }
          ],
          "scattergl": [
           {
            "marker": {
             "colorbar": {
              "outlinewidth": 0,
              "ticks": ""
             }
            },
            "type": "scattergl"
           }
          ],
          "scattermapbox": [
           {
            "marker": {
             "colorbar": {
              "outlinewidth": 0,
              "ticks": ""
             }
            },
            "type": "scattermapbox"
           }
          ],
          "scatterpolar": [
           {
            "marker": {
             "colorbar": {
              "outlinewidth": 0,
              "ticks": ""
             }
            },
            "type": "scatterpolar"
           }
          ],
          "scatterpolargl": [
           {
            "marker": {
             "colorbar": {
              "outlinewidth": 0,
              "ticks": ""
             }
            },
            "type": "scatterpolargl"
           }
          ],
          "scatterternary": [
           {
            "marker": {
             "colorbar": {
              "outlinewidth": 0,
              "ticks": ""
             }
            },
            "type": "scatterternary"
           }
          ],
          "surface": [
           {
            "colorbar": {
             "outlinewidth": 0,
             "ticks": ""
            },
            "colorscale": [
             [
              0,
              "#0d0887"
             ],
             [
              0.1111111111111111,
              "#46039f"
             ],
             [
              0.2222222222222222,
              "#7201a8"
             ],
             [
              0.3333333333333333,
              "#9c179e"
             ],
             [
              0.4444444444444444,
              "#bd3786"
             ],
             [
              0.5555555555555556,
              "#d8576b"
             ],
             [
              0.6666666666666666,
              "#ed7953"
             ],
             [
              0.7777777777777778,
              "#fb9f3a"
             ],
             [
              0.8888888888888888,
              "#fdca26"
             ],
             [
              1,
              "#f0f921"
             ]
            ],
            "type": "surface"
           }
          ],
          "table": [
           {
            "cells": {
             "fill": {
              "color": "#EBF0F8"
             },
             "line": {
              "color": "white"
             }
            },
            "header": {
             "fill": {
              "color": "#C8D4E3"
             },
             "line": {
              "color": "white"
             }
            },
            "type": "table"
           }
          ]
         },
         "layout": {
          "annotationdefaults": {
           "arrowcolor": "#2a3f5f",
           "arrowhead": 0,
           "arrowwidth": 1
          },
          "autotypenumbers": "strict",
          "coloraxis": {
           "colorbar": {
            "outlinewidth": 0,
            "ticks": ""
           }
          },
          "colorscale": {
           "diverging": [
            [
             0,
             "#8e0152"
            ],
            [
             0.1,
             "#c51b7d"
            ],
            [
             0.2,
             "#de77ae"
            ],
            [
             0.3,
             "#f1b6da"
            ],
            [
             0.4,
             "#fde0ef"
            ],
            [
             0.5,
             "#f7f7f7"
            ],
            [
             0.6,
             "#e6f5d0"
            ],
            [
             0.7,
             "#b8e186"
            ],
            [
             0.8,
             "#7fbc41"
            ],
            [
             0.9,
             "#4d9221"
            ],
            [
             1,
             "#276419"
            ]
           ],
           "sequential": [
            [
             0,
             "#0d0887"
            ],
            [
             0.1111111111111111,
             "#46039f"
            ],
            [
             0.2222222222222222,
             "#7201a8"
            ],
            [
             0.3333333333333333,
             "#9c179e"
            ],
            [
             0.4444444444444444,
             "#bd3786"
            ],
            [
             0.5555555555555556,
             "#d8576b"
            ],
            [
             0.6666666666666666,
             "#ed7953"
            ],
            [
             0.7777777777777778,
             "#fb9f3a"
            ],
            [
             0.8888888888888888,
             "#fdca26"
            ],
            [
             1,
             "#f0f921"
            ]
           ],
           "sequentialminus": [
            [
             0,
             "#0d0887"
            ],
            [
             0.1111111111111111,
             "#46039f"
            ],
            [
             0.2222222222222222,
             "#7201a8"
            ],
            [
             0.3333333333333333,
             "#9c179e"
            ],
            [
             0.4444444444444444,
             "#bd3786"
            ],
            [
             0.5555555555555556,
             "#d8576b"
            ],
            [
             0.6666666666666666,
             "#ed7953"
            ],
            [
             0.7777777777777778,
             "#fb9f3a"
            ],
            [
             0.8888888888888888,
             "#fdca26"
            ],
            [
             1,
             "#f0f921"
            ]
           ]
          },
          "colorway": [
           "#636efa",
           "#EF553B",
           "#00cc96",
           "#ab63fa",
           "#FFA15A",
           "#19d3f3",
           "#FF6692",
           "#B6E880",
           "#FF97FF",
           "#FECB52"
          ],
          "font": {
           "color": "#2a3f5f"
          },
          "geo": {
           "bgcolor": "white",
           "lakecolor": "white",
           "landcolor": "#E5ECF6",
           "showlakes": true,
           "showland": true,
           "subunitcolor": "white"
          },
          "hoverlabel": {
           "align": "left"
          },
          "hovermode": "closest",
          "mapbox": {
           "style": "light"
          },
          "paper_bgcolor": "white",
          "plot_bgcolor": "#E5ECF6",
          "polar": {
           "angularaxis": {
            "gridcolor": "white",
            "linecolor": "white",
            "ticks": ""
           },
           "bgcolor": "#E5ECF6",
           "radialaxis": {
            "gridcolor": "white",
            "linecolor": "white",
            "ticks": ""
           }
          },
          "scene": {
           "xaxis": {
            "backgroundcolor": "#E5ECF6",
            "gridcolor": "white",
            "gridwidth": 2,
            "linecolor": "white",
            "showbackground": true,
            "ticks": "",
            "zerolinecolor": "white"
           },
           "yaxis": {
            "backgroundcolor": "#E5ECF6",
            "gridcolor": "white",
            "gridwidth": 2,
            "linecolor": "white",
            "showbackground": true,
            "ticks": "",
            "zerolinecolor": "white"
           },
           "zaxis": {
            "backgroundcolor": "#E5ECF6",
            "gridcolor": "white",
            "gridwidth": 2,
            "linecolor": "white",
            "showbackground": true,
            "ticks": "",
            "zerolinecolor": "white"
           }
          },
          "shapedefaults": {
           "line": {
            "color": "#2a3f5f"
           }
          },
          "ternary": {
           "aaxis": {
            "gridcolor": "white",
            "linecolor": "white",
            "ticks": ""
           },
           "baxis": {
            "gridcolor": "white",
            "linecolor": "white",
            "ticks": ""
           },
           "bgcolor": "#E5ECF6",
           "caxis": {
            "gridcolor": "white",
            "linecolor": "white",
            "ticks": ""
           }
          },
          "title": {
           "x": 0.05
          },
          "xaxis": {
           "automargin": true,
           "gridcolor": "white",
           "linecolor": "white",
           "ticks": "",
           "title": {
            "standoff": 15
           },
           "zerolinecolor": "white",
           "zerolinewidth": 2
          },
          "yaxis": {
           "automargin": true,
           "gridcolor": "white",
           "linecolor": "white",
           "ticks": "",
           "title": {
            "standoff": 15
           },
           "zerolinecolor": "white",
           "zerolinewidth": 2
          }
         }
        },
        "title": {
         "text": "Actress Age vs. Movie Box Office Revenue (Oscar-Winning Movies)"
        },
        "width": 800,
        "xaxis": {
         "anchor": "y",
         "domain": [
          0,
          1
         ],
         "title": {
          "text": "Age at Movie Release"
         }
        },
        "yaxis": {
         "anchor": "x",
         "domain": [
          0,
          1
         ],
         "tickformat": "$,.0f",
         "title": {
          "text": "Box Office Revenue ($)"
         }
        }
       }
      }
     },
     "metadata": {},
     "output_type": "display_data"
    }
   ],
   "source": [
    "scatter_data = oscar_supporting_act_info[['Actor age at movie release', 'Movie box office revenue']].dropna()\n",
    "\n",
    "\n",
    "fig = px.scatter(\n",
    "    scatter_data,\n",
    "    x='Actor age at movie release',\n",
    "    y='Movie box office revenue',\n",
    "    title='Actress Age vs. Movie Box Office Revenue (Oscar-Winning Movies)',\n",
    "    labels={\n",
    "        'Actor age at movie release': 'Age at Movie Release',\n",
    "        'Movie box office revenue': 'Box Office Revenue ($)'\n",
    "    },\n",
    "    size='Movie box office revenue',\n",
    "    hover_data=['Actor age at movie release'],\n",
    "    color_discrete_sequence=['purple']\n",
    ")\n",
    "\n",
    "\n",
    "fig.update_layout(\n",
    "    xaxis=dict(title='Age at Movie Release'),\n",
    "    yaxis=dict(title='Box Office Revenue ($)', tickformat='$,.0f'),\n",
    "    width=800,  \n",
    "    height=600  \n",
    ")\n",
    "\n",
    "fig.show()"
   ]
  },
  {
   "cell_type": "code",
   "execution_count": 322,
   "metadata": {},
   "outputs": [
    {
     "data": {
      "application/vnd.plotly.v1+json": {
       "config": {
        "plotlyServerURL": "https://plot.ly"
       },
       "data": [
        {
         "customdata": [
          [
           "Drama"
          ],
          [
           "Romance Film"
          ],
          [
           "Film adaptation"
          ],
          [
           "Comedy"
          ],
          [
           "Romantic drama"
          ],
          [
           "Black-and-white"
          ],
          [
           "Crime Fiction"
          ],
          [
           "Period piece"
          ],
          [
           "War film"
          ],
          [
           "Thriller"
          ]
         ],
         "domain": {
          "x": [
           0,
           1
          ],
          "y": [
           0,
           1
          ]
         },
         "hovertemplate": "Movie Genre=%{customdata[0]}<br>Number of Movies=%{value}<extra></extra>",
         "labels": [
          "Drama",
          "Romance Film",
          "Film adaptation",
          "Comedy",
          "Romantic drama",
          "Black-and-white",
          "Crime Fiction",
          "Period piece",
          "War film",
          "Thriller"
         ],
         "legendgroup": "",
         "marker": {
          "colors": [
           "#636efa",
           "#EF553B",
           "#00cc96",
           "#ab63fa",
           "#FFA15A",
           "#19d3f3",
           "#FF6692",
           "#B6E880",
           "#FF97FF",
           "#FECB52"
          ]
         },
         "name": "",
         "showlegend": true,
         "type": "pie",
         "values": [
          131,
          55,
          36,
          35,
          33,
          30,
          29,
          27,
          21,
          17
         ]
        }
       ],
       "layout": {
        "height": 600,
        "legend": {
         "tracegroupgap": 0
        },
        "template": {
         "data": {
          "bar": [
           {
            "error_x": {
             "color": "#2a3f5f"
            },
            "error_y": {
             "color": "#2a3f5f"
            },
            "marker": {
             "line": {
              "color": "#E5ECF6",
              "width": 0.5
             },
             "pattern": {
              "fillmode": "overlay",
              "size": 10,
              "solidity": 0.2
             }
            },
            "type": "bar"
           }
          ],
          "barpolar": [
           {
            "marker": {
             "line": {
              "color": "#E5ECF6",
              "width": 0.5
             },
             "pattern": {
              "fillmode": "overlay",
              "size": 10,
              "solidity": 0.2
             }
            },
            "type": "barpolar"
           }
          ],
          "carpet": [
           {
            "aaxis": {
             "endlinecolor": "#2a3f5f",
             "gridcolor": "white",
             "linecolor": "white",
             "minorgridcolor": "white",
             "startlinecolor": "#2a3f5f"
            },
            "baxis": {
             "endlinecolor": "#2a3f5f",
             "gridcolor": "white",
             "linecolor": "white",
             "minorgridcolor": "white",
             "startlinecolor": "#2a3f5f"
            },
            "type": "carpet"
           }
          ],
          "choropleth": [
           {
            "colorbar": {
             "outlinewidth": 0,
             "ticks": ""
            },
            "type": "choropleth"
           }
          ],
          "contour": [
           {
            "colorbar": {
             "outlinewidth": 0,
             "ticks": ""
            },
            "colorscale": [
             [
              0,
              "#0d0887"
             ],
             [
              0.1111111111111111,
              "#46039f"
             ],
             [
              0.2222222222222222,
              "#7201a8"
             ],
             [
              0.3333333333333333,
              "#9c179e"
             ],
             [
              0.4444444444444444,
              "#bd3786"
             ],
             [
              0.5555555555555556,
              "#d8576b"
             ],
             [
              0.6666666666666666,
              "#ed7953"
             ],
             [
              0.7777777777777778,
              "#fb9f3a"
             ],
             [
              0.8888888888888888,
              "#fdca26"
             ],
             [
              1,
              "#f0f921"
             ]
            ],
            "type": "contour"
           }
          ],
          "contourcarpet": [
           {
            "colorbar": {
             "outlinewidth": 0,
             "ticks": ""
            },
            "type": "contourcarpet"
           }
          ],
          "heatmap": [
           {
            "colorbar": {
             "outlinewidth": 0,
             "ticks": ""
            },
            "colorscale": [
             [
              0,
              "#0d0887"
             ],
             [
              0.1111111111111111,
              "#46039f"
             ],
             [
              0.2222222222222222,
              "#7201a8"
             ],
             [
              0.3333333333333333,
              "#9c179e"
             ],
             [
              0.4444444444444444,
              "#bd3786"
             ],
             [
              0.5555555555555556,
              "#d8576b"
             ],
             [
              0.6666666666666666,
              "#ed7953"
             ],
             [
              0.7777777777777778,
              "#fb9f3a"
             ],
             [
              0.8888888888888888,
              "#fdca26"
             ],
             [
              1,
              "#f0f921"
             ]
            ],
            "type": "heatmap"
           }
          ],
          "heatmapgl": [
           {
            "colorbar": {
             "outlinewidth": 0,
             "ticks": ""
            },
            "colorscale": [
             [
              0,
              "#0d0887"
             ],
             [
              0.1111111111111111,
              "#46039f"
             ],
             [
              0.2222222222222222,
              "#7201a8"
             ],
             [
              0.3333333333333333,
              "#9c179e"
             ],
             [
              0.4444444444444444,
              "#bd3786"
             ],
             [
              0.5555555555555556,
              "#d8576b"
             ],
             [
              0.6666666666666666,
              "#ed7953"
             ],
             [
              0.7777777777777778,
              "#fb9f3a"
             ],
             [
              0.8888888888888888,
              "#fdca26"
             ],
             [
              1,
              "#f0f921"
             ]
            ],
            "type": "heatmapgl"
           }
          ],
          "histogram": [
           {
            "marker": {
             "pattern": {
              "fillmode": "overlay",
              "size": 10,
              "solidity": 0.2
             }
            },
            "type": "histogram"
           }
          ],
          "histogram2d": [
           {
            "colorbar": {
             "outlinewidth": 0,
             "ticks": ""
            },
            "colorscale": [
             [
              0,
              "#0d0887"
             ],
             [
              0.1111111111111111,
              "#46039f"
             ],
             [
              0.2222222222222222,
              "#7201a8"
             ],
             [
              0.3333333333333333,
              "#9c179e"
             ],
             [
              0.4444444444444444,
              "#bd3786"
             ],
             [
              0.5555555555555556,
              "#d8576b"
             ],
             [
              0.6666666666666666,
              "#ed7953"
             ],
             [
              0.7777777777777778,
              "#fb9f3a"
             ],
             [
              0.8888888888888888,
              "#fdca26"
             ],
             [
              1,
              "#f0f921"
             ]
            ],
            "type": "histogram2d"
           }
          ],
          "histogram2dcontour": [
           {
            "colorbar": {
             "outlinewidth": 0,
             "ticks": ""
            },
            "colorscale": [
             [
              0,
              "#0d0887"
             ],
             [
              0.1111111111111111,
              "#46039f"
             ],
             [
              0.2222222222222222,
              "#7201a8"
             ],
             [
              0.3333333333333333,
              "#9c179e"
             ],
             [
              0.4444444444444444,
              "#bd3786"
             ],
             [
              0.5555555555555556,
              "#d8576b"
             ],
             [
              0.6666666666666666,
              "#ed7953"
             ],
             [
              0.7777777777777778,
              "#fb9f3a"
             ],
             [
              0.8888888888888888,
              "#fdca26"
             ],
             [
              1,
              "#f0f921"
             ]
            ],
            "type": "histogram2dcontour"
           }
          ],
          "mesh3d": [
           {
            "colorbar": {
             "outlinewidth": 0,
             "ticks": ""
            },
            "type": "mesh3d"
           }
          ],
          "parcoords": [
           {
            "line": {
             "colorbar": {
              "outlinewidth": 0,
              "ticks": ""
             }
            },
            "type": "parcoords"
           }
          ],
          "pie": [
           {
            "automargin": true,
            "type": "pie"
           }
          ],
          "scatter": [
           {
            "fillpattern": {
             "fillmode": "overlay",
             "size": 10,
             "solidity": 0.2
            },
            "type": "scatter"
           }
          ],
          "scatter3d": [
           {
            "line": {
             "colorbar": {
              "outlinewidth": 0,
              "ticks": ""
             }
            },
            "marker": {
             "colorbar": {
              "outlinewidth": 0,
              "ticks": ""
             }
            },
            "type": "scatter3d"
           }
          ],
          "scattercarpet": [
           {
            "marker": {
             "colorbar": {
              "outlinewidth": 0,
              "ticks": ""
             }
            },
            "type": "scattercarpet"
           }
          ],
          "scattergeo": [
           {
            "marker": {
             "colorbar": {
              "outlinewidth": 0,
              "ticks": ""
             }
            },
            "type": "scattergeo"
           }
          ],
          "scattergl": [
           {
            "marker": {
             "colorbar": {
              "outlinewidth": 0,
              "ticks": ""
             }
            },
            "type": "scattergl"
           }
          ],
          "scattermapbox": [
           {
            "marker": {
             "colorbar": {
              "outlinewidth": 0,
              "ticks": ""
             }
            },
            "type": "scattermapbox"
           }
          ],
          "scatterpolar": [
           {
            "marker": {
             "colorbar": {
              "outlinewidth": 0,
              "ticks": ""
             }
            },
            "type": "scatterpolar"
           }
          ],
          "scatterpolargl": [
           {
            "marker": {
             "colorbar": {
              "outlinewidth": 0,
              "ticks": ""
             }
            },
            "type": "scatterpolargl"
           }
          ],
          "scatterternary": [
           {
            "marker": {
             "colorbar": {
              "outlinewidth": 0,
              "ticks": ""
             }
            },
            "type": "scatterternary"
           }
          ],
          "surface": [
           {
            "colorbar": {
             "outlinewidth": 0,
             "ticks": ""
            },
            "colorscale": [
             [
              0,
              "#0d0887"
             ],
             [
              0.1111111111111111,
              "#46039f"
             ],
             [
              0.2222222222222222,
              "#7201a8"
             ],
             [
              0.3333333333333333,
              "#9c179e"
             ],
             [
              0.4444444444444444,
              "#bd3786"
             ],
             [
              0.5555555555555556,
              "#d8576b"
             ],
             [
              0.6666666666666666,
              "#ed7953"
             ],
             [
              0.7777777777777778,
              "#fb9f3a"
             ],
             [
              0.8888888888888888,
              "#fdca26"
             ],
             [
              1,
              "#f0f921"
             ]
            ],
            "type": "surface"
           }
          ],
          "table": [
           {
            "cells": {
             "fill": {
              "color": "#EBF0F8"
             },
             "line": {
              "color": "white"
             }
            },
            "header": {
             "fill": {
              "color": "#C8D4E3"
             },
             "line": {
              "color": "white"
             }
            },
            "type": "table"
           }
          ]
         },
         "layout": {
          "annotationdefaults": {
           "arrowcolor": "#2a3f5f",
           "arrowhead": 0,
           "arrowwidth": 1
          },
          "autotypenumbers": "strict",
          "coloraxis": {
           "colorbar": {
            "outlinewidth": 0,
            "ticks": ""
           }
          },
          "colorscale": {
           "diverging": [
            [
             0,
             "#8e0152"
            ],
            [
             0.1,
             "#c51b7d"
            ],
            [
             0.2,
             "#de77ae"
            ],
            [
             0.3,
             "#f1b6da"
            ],
            [
             0.4,
             "#fde0ef"
            ],
            [
             0.5,
             "#f7f7f7"
            ],
            [
             0.6,
             "#e6f5d0"
            ],
            [
             0.7,
             "#b8e186"
            ],
            [
             0.8,
             "#7fbc41"
            ],
            [
             0.9,
             "#4d9221"
            ],
            [
             1,
             "#276419"
            ]
           ],
           "sequential": [
            [
             0,
             "#0d0887"
            ],
            [
             0.1111111111111111,
             "#46039f"
            ],
            [
             0.2222222222222222,
             "#7201a8"
            ],
            [
             0.3333333333333333,
             "#9c179e"
            ],
            [
             0.4444444444444444,
             "#bd3786"
            ],
            [
             0.5555555555555556,
             "#d8576b"
            ],
            [
             0.6666666666666666,
             "#ed7953"
            ],
            [
             0.7777777777777778,
             "#fb9f3a"
            ],
            [
             0.8888888888888888,
             "#fdca26"
            ],
            [
             1,
             "#f0f921"
            ]
           ],
           "sequentialminus": [
            [
             0,
             "#0d0887"
            ],
            [
             0.1111111111111111,
             "#46039f"
            ],
            [
             0.2222222222222222,
             "#7201a8"
            ],
            [
             0.3333333333333333,
             "#9c179e"
            ],
            [
             0.4444444444444444,
             "#bd3786"
            ],
            [
             0.5555555555555556,
             "#d8576b"
            ],
            [
             0.6666666666666666,
             "#ed7953"
            ],
            [
             0.7777777777777778,
             "#fb9f3a"
            ],
            [
             0.8888888888888888,
             "#fdca26"
            ],
            [
             1,
             "#f0f921"
            ]
           ]
          },
          "colorway": [
           "#636efa",
           "#EF553B",
           "#00cc96",
           "#ab63fa",
           "#FFA15A",
           "#19d3f3",
           "#FF6692",
           "#B6E880",
           "#FF97FF",
           "#FECB52"
          ],
          "font": {
           "color": "#2a3f5f"
          },
          "geo": {
           "bgcolor": "white",
           "lakecolor": "white",
           "landcolor": "#E5ECF6",
           "showlakes": true,
           "showland": true,
           "subunitcolor": "white"
          },
          "hoverlabel": {
           "align": "left"
          },
          "hovermode": "closest",
          "mapbox": {
           "style": "light"
          },
          "paper_bgcolor": "white",
          "plot_bgcolor": "#E5ECF6",
          "polar": {
           "angularaxis": {
            "gridcolor": "white",
            "linecolor": "white",
            "ticks": ""
           },
           "bgcolor": "#E5ECF6",
           "radialaxis": {
            "gridcolor": "white",
            "linecolor": "white",
            "ticks": ""
           }
          },
          "scene": {
           "xaxis": {
            "backgroundcolor": "#E5ECF6",
            "gridcolor": "white",
            "gridwidth": 2,
            "linecolor": "white",
            "showbackground": true,
            "ticks": "",
            "zerolinecolor": "white"
           },
           "yaxis": {
            "backgroundcolor": "#E5ECF6",
            "gridcolor": "white",
            "gridwidth": 2,
            "linecolor": "white",
            "showbackground": true,
            "ticks": "",
            "zerolinecolor": "white"
           },
           "zaxis": {
            "backgroundcolor": "#E5ECF6",
            "gridcolor": "white",
            "gridwidth": 2,
            "linecolor": "white",
            "showbackground": true,
            "ticks": "",
            "zerolinecolor": "white"
           }
          },
          "shapedefaults": {
           "line": {
            "color": "#2a3f5f"
           }
          },
          "ternary": {
           "aaxis": {
            "gridcolor": "white",
            "linecolor": "white",
            "ticks": ""
           },
           "baxis": {
            "gridcolor": "white",
            "linecolor": "white",
            "ticks": ""
           },
           "bgcolor": "#E5ECF6",
           "caxis": {
            "gridcolor": "white",
            "linecolor": "white",
            "ticks": ""
           }
          },
          "title": {
           "x": 0.05
          },
          "xaxis": {
           "automargin": true,
           "gridcolor": "white",
           "linecolor": "white",
           "ticks": "",
           "title": {
            "standoff": 15
           },
           "zerolinecolor": "white",
           "zerolinewidth": 2
          },
          "yaxis": {
           "automargin": true,
           "gridcolor": "white",
           "linecolor": "white",
           "ticks": "",
           "title": {
            "standoff": 15
           },
           "zerolinecolor": "white",
           "zerolinewidth": 2
          }
         }
        },
        "title": {
         "text": "Top 10 Genres in Best Actor/Actress Academy Award Movies"
        },
        "width": 800,
        "xaxis": {
         "tickangle": 45,
         "title": {
          "text": "Movie Genre"
         }
        },
        "yaxis": {
         "title": {
          "text": "Number of Movies"
         }
        }
       }
      }
     },
     "metadata": {},
     "output_type": "display_data"
    }
   ],
   "source": [
    "genres_data = oscar_supporting_act_info[['Movie genres']].dropna()\n",
    "genres_data = genres_data.assign(Movie_genres_split=genres_data['Movie genres'].str.split(', ')).explode('Movie_genres_split')\n",
    "\n",
    "genre_counts = genres_data['Movie_genres_split'].value_counts().reset_index()\n",
    "genre_counts.columns = ['Genre', 'Count']\n",
    "\n",
    "\n",
    "fig = px.pie(\n",
    "    genre_counts.head(10), \n",
    "    values='Count',\n",
    "    title='Top 10 Genres in Best Actor/Actress Academy Award Movies',\n",
    "    labels={'Genre': 'Movie Genre', 'Count': 'Number of Movies'},\n",
    "    names='Genre',\n",
    "    color='Genre'\n",
    ")\n",
    "\n",
    "# Update layout for better readability\n",
    "fig.update_layout(\n",
    "    xaxis=dict(title='Movie Genre', tickangle=45),\n",
    "    yaxis=dict(title='Number of Movies'),\n",
    "    width=800,\n",
    "    height=600 \n",
    ")\n",
    "\n",
    "\n",
    "fig.show()"
   ]
  },
  {
   "cell_type": "code",
   "execution_count": 323,
   "metadata": {},
   "outputs": [
    {
     "name": "stdout",
     "output_type": "stream",
     "text": [
      "         Actor name  Movies Before First Oscar  First Oscar Date\n",
      "0        Alan Arkin                       50.0            2006.0\n",
      "1       Alice Brady                        7.0               NaN\n",
      "2    Angelina Jolie                        9.0            1999.0\n",
      "3   Anjelica Huston                        7.0            1985.0\n",
      "4       Anna Paquin                        1.0            1993.0\n",
      "5       Anne Baxter                        5.0            1946.0\n",
      "6     Anne Hathaway                       19.0            2012.0\n",
      "7       Anne Revere                        3.0            1945.0\n",
      "8     Anthony Quinn                       27.0            1956.0\n",
      "9  Barry Fitzgerald                        5.0            1944.0\n"
     ]
    },
    {
     "name": "stderr",
     "output_type": "stream",
     "text": [
      "/var/folders/8_/9rv7b7fd60g0_ghqkjccmhkc0000gn/T/ipykernel_3423/2452146689.py:19: DeprecationWarning:\n",
      "\n",
      "DataFrameGroupBy.apply operated on the grouping columns. This behavior is deprecated, and in a future version of pandas the grouping columns will be excluded from the operation. Either pass `include_groups=False` to exclude the groupings or explicitly select the grouping columns after groupby to silence this warning.\n",
      "\n"
     ]
    },
    {
     "data": {
      "application/vnd.plotly.v1+json": {
       "config": {
        "plotlyServerURL": "https://plot.ly"
       },
       "data": [
        {
         "alignmentgroup": "True",
         "customdata": [
          [
           2010
          ],
          [
           2006
          ],
          [
           1999
          ],
          [
           null
          ],
          [
           null
          ],
          [
           null
          ],
          [
           null
          ],
          [
           null
          ],
          [
           null
          ],
          [
           null
          ],
          [
           null
          ],
          [
           2010
          ],
          [
           null
          ],
          [
           1998
          ],
          [
           null
          ],
          [
           1992
          ],
          [
           null
          ],
          [
           2004
          ],
          [
           1979
          ],
          [
           null
          ],
          [
           1997
          ],
          [
           2003
          ],
          [
           1956
          ],
          [
           null
          ],
          [
           null
          ],
          [
           null
          ],
          [
           1991
          ],
          [
           1983
          ],
          [
           2005
          ],
          [
           null
          ],
          [
           null
          ],
          [
           2008
          ],
          [
           null
          ],
          [
           1981
          ],
          [
           1974
          ],
          [
           2012
          ],
          [
           2010
          ],
          [
           null
          ],
          [
           null
          ],
          [
           2002
          ],
          [
           2003
          ],
          [
           2001
          ],
          [
           1994
          ],
          [
           2001
          ],
          [
           2005
          ],
          [
           null
          ],
          [
           1969
          ],
          [
           null
          ],
          [
           1985
          ],
          [
           2008
          ],
          [
           1939
          ],
          [
           1993
          ],
          [
           1997
          ],
          [
           1977
          ],
          [
           1943
          ],
          [
           null
          ],
          [
           null
          ],
          [
           1959
          ],
          [
           2001
          ],
          [
           1940
          ],
          [
           1996
          ],
          [
           2001
          ],
          [
           null
          ],
          [
           1994
          ],
          [
           2007
          ],
          [
           2002
          ],
          [
           1948
          ],
          [
           null
          ],
          [
           1976
          ],
          [
           1953
          ],
          [
           1999
          ],
          [
           1968
          ],
          [
           2011
          ],
          [
           1975
          ],
          [
           1940
          ],
          [
           1998
          ],
          [
           null
          ],
          [
           1990
          ],
          [
           1978
          ],
          [
           1985
          ],
          [
           1960
          ],
          [
           1974
          ],
          [
           1990
          ],
          [
           1988
          ],
          [
           1975
          ],
          [
           null
          ],
          [
           1951
          ],
          [
           1944
          ],
          [
           1946
          ],
          [
           1952
          ],
          [
           1965
          ],
          [
           1971
          ],
          [
           1959
          ],
          [
           1967
          ],
          [
           1953
          ],
          [
           null
          ],
          [
           1945
          ],
          [
           2009
          ],
          [
           1961
          ],
          [
           1988
          ],
          [
           1958
          ],
          [
           1960
          ],
          [
           1976
          ],
          [
           1972
          ],
          [
           1941
          ],
          [
           1978
          ],
          [
           1944
          ],
          [
           1982
          ],
          [
           1955
          ],
          [
           1992
          ],
          [
           1950
          ],
          [
           1957
          ],
          [
           null
          ],
          [
           1968
          ],
          [
           1993
          ],
          [
           1964
          ],
          [
           1983
          ],
          [
           1980
          ],
          [
           1942
          ],
          [
           1972
          ],
          [
           1936
          ],
          [
           2006
          ],
          [
           null
          ],
          [
           1969
          ],
          [
           1961
          ],
          [
           1967
          ],
          [
           1984
          ],
          [
           1966
          ],
          [
           1954
          ],
          [
           1955
          ],
          [
           1973
          ],
          [
           1989
          ],
          [
           1973
          ],
          [
           1962
          ],
          [
           1951
          ],
          [
           1957
          ]
         ],
         "hovertemplate": "Actress=%{x}<br>Movies Before First Oscar=%{marker.color}<br>First Oscar Date=%{customdata[0]}<extra></extra>",
         "legendgroup": "",
         "marker": {
          "color": [
           68,
           50,
           50,
           48,
           47,
           46,
           43,
           40,
           40,
           38,
           38,
           34,
           34,
           33,
           33,
           32,
           32,
           32,
           31,
           31,
           28,
           27,
           27,
           26,
           26,
           26,
           25,
           23,
           22,
           21,
           21,
           21,
           21,
           21,
           20,
           19,
           19,
           19,
           18,
           18,
           18,
           17,
           17,
           16,
           16,
           16,
           16,
           16,
           15,
           15,
           15,
           15,
           14,
           13,
           12,
           12,
           12,
           12,
           12,
           11,
           11,
           11,
           11,
           11,
           11,
           10,
           10,
           10,
           9,
           9,
           9,
           9,
           9,
           9,
           8,
           8,
           7,
           7,
           7,
           7,
           6,
           6,
           6,
           6,
           6,
           6,
           5,
           5,
           5,
           5,
           5,
           5,
           4,
           4,
           4,
           4,
           3,
           3,
           3,
           3,
           3,
           3,
           3,
           3,
           3,
           3,
           3,
           3,
           3,
           3,
           2,
           2,
           2,
           1,
           1,
           1,
           1,
           1,
           1,
           1,
           1,
           1,
           1,
           1,
           1,
           1,
           1,
           1,
           0,
           0,
           0,
           0,
           0,
           0,
           0,
           0
          ],
          "coloraxis": "coloraxis",
          "pattern": {
           "shape": ""
          }
         },
         "name": "",
         "offsetgroup": "",
         "orientation": "v",
         "showlegend": false,
         "text": [
          68,
          50,
          50,
          48,
          47,
          46,
          43,
          40,
          40,
          38,
          38,
          34,
          34,
          33,
          33,
          32,
          32,
          32,
          31,
          31,
          28,
          27,
          27,
          26,
          26,
          26,
          25,
          23,
          22,
          21,
          21,
          21,
          21,
          21,
          20,
          19,
          19,
          19,
          18,
          18,
          18,
          17,
          17,
          16,
          16,
          16,
          16,
          16,
          15,
          15,
          15,
          15,
          14,
          13,
          12,
          12,
          12,
          12,
          12,
          11,
          11,
          11,
          11,
          11,
          11,
          10,
          10,
          10,
          9,
          9,
          9,
          9,
          9,
          9,
          8,
          8,
          7,
          7,
          7,
          7,
          6,
          6,
          6,
          6,
          6,
          6,
          5,
          5,
          5,
          5,
          5,
          5,
          4,
          4,
          4,
          4,
          3,
          3,
          3,
          3,
          3,
          3,
          3,
          3,
          3,
          3,
          3,
          3,
          3,
          3,
          2,
          2,
          2,
          1,
          1,
          1,
          1,
          1,
          1,
          1,
          1,
          1,
          1,
          1,
          1,
          1,
          1,
          1,
          0,
          0,
          0,
          0,
          0,
          0,
          0,
          0
         ],
         "textposition": "auto",
         "type": "bar",
         "x": [
          "Christopher Plummer",
          "Alan Arkin",
          "Michael Caine",
          "Sean Connery",
          "George Sanders",
          "Walter Matthau",
          "Kevin Spacey",
          "Mary Steenburgen",
          "Mary Astor",
          "Denzel Washington",
          "Meryl Streep",
          "Christian Bale",
          "Edmond O'Brien",
          "James Coburn",
          "John Mills",
          "Gene Hackman",
          "Donald Crisp",
          "Morgan Freeman",
          "Melvyn Douglas",
          "Cate Blanchett",
          "Robin Williams",
          "Tim Robbins",
          "Anthony Quinn",
          "Dean Jagger",
          "Olympia Dukakis",
          "Edmund Gwenn",
          "Jack Palance",
          "Jack Nicholson",
          "George Clooney",
          "Mercedes Ruehl",
          "Patricia Arquette",
          "Penélope Cruz",
          "Walter Huston",
          "John Gielgud",
          "Ingrid Bergman",
          "Anne Hathaway",
          "Melissa Leo",
          "Mira Sorvino",
          "Dorothy Malone",
          "Chris Cooper",
          "Renée Zellweger",
          "Jim Broadbent",
          "Martin Landau",
          "Benicio del Toro",
          "Rachel Weisz",
          "Maureen Stapleton",
          "Gig Young",
          "Joseph Schildkraut",
          "Don Ameche",
          "Heath Ledger",
          "Hattie McDaniel",
          "Tommy Lee Jones",
          "Kim Basinger",
          "Vanessa Redgrave",
          "Charles Coburn",
          "Helen Hayes",
          "Fay Bainter",
          "Shelley Winters",
          "Jennifer Connelly",
          "Walter Brennan",
          "Juliette Binoche",
          "Marcia Gay Harden",
          "Margaret Rutherford",
          "Dianne Wiest",
          "Javier Bardem",
          "Catherine Zeta-Jones",
          "Claire Trevor",
          "Mercedes McCambridge",
          "Jason Robards",
          "Frank Sinatra",
          "Angelina Jolie",
          "Jack Albertson",
          "Octavia Spencer",
          "Lee Grant",
          "Jane Darwell",
          "Judi Dench",
          "Alice Brady",
          "Joe Pesci",
          "Maggie Smith",
          "Anjelica Huston",
          "Peter Ustinov",
          "Robert De Niro",
          "Whoopi Goldberg",
          "Kevin Kline",
          "George Burns",
          "Celeste Holm",
          "Karl Malden",
          "Barry Fitzgerald",
          "Anne Baxter",
          "Gloria Grahame",
          "Martin Balsam",
          "Cloris Leachman",
          "Hugh Griffith",
          "George Kennedy",
          "Donna Reed",
          "Katina Paxinou",
          "Anne Revere",
          "Christoph Waltz",
          "Rita Moreno",
          "Geena Davis",
          "Burl Ives",
          "Shirley Jones",
          "Beatrice Straight",
          "Eileen Heckart",
          "Van Heflin",
          "Christopher Walken",
          "Ethel Barrymore",
          "Jessica Lange",
          "Jack Lemmon",
          "Marisa Tomei",
          "Josephine Hull",
          "Red Buttons",
          "Haing S. Ngor",
          "Ruth Gordon",
          "Anna Paquin",
          "Lila Kedrova",
          "Linda Hunt",
          "Timothy Hutton",
          "Teresa Wright",
          "Joel Grey",
          "Gale Sondergaard",
          "Jennifer Hudson",
          "Harold Russell",
          "Goldie Hawn",
          "George Chakiris",
          "Estelle Parsons",
          "Peggy Ashcroft",
          "Sandy Dennis",
          "Eva Marie Saint",
          "Jo Van Fleet",
          "Tatum O'Neal",
          "Brenda Fricker",
          "John Houseman",
          "Patty Duke",
          "Kim Hunter",
          "Miyoshi Umeki"
         ],
         "xaxis": "x",
         "y": [
          68,
          50,
          50,
          48,
          47,
          46,
          43,
          40,
          40,
          38,
          38,
          34,
          34,
          33,
          33,
          32,
          32,
          32,
          31,
          31,
          28,
          27,
          27,
          26,
          26,
          26,
          25,
          23,
          22,
          21,
          21,
          21,
          21,
          21,
          20,
          19,
          19,
          19,
          18,
          18,
          18,
          17,
          17,
          16,
          16,
          16,
          16,
          16,
          15,
          15,
          15,
          15,
          14,
          13,
          12,
          12,
          12,
          12,
          12,
          11,
          11,
          11,
          11,
          11,
          11,
          10,
          10,
          10,
          9,
          9,
          9,
          9,
          9,
          9,
          8,
          8,
          7,
          7,
          7,
          7,
          6,
          6,
          6,
          6,
          6,
          6,
          5,
          5,
          5,
          5,
          5,
          5,
          4,
          4,
          4,
          4,
          3,
          3,
          3,
          3,
          3,
          3,
          3,
          3,
          3,
          3,
          3,
          3,
          3,
          3,
          2,
          2,
          2,
          1,
          1,
          1,
          1,
          1,
          1,
          1,
          1,
          1,
          1,
          1,
          1,
          1,
          1,
          1,
          0,
          0,
          0,
          0,
          0,
          0,
          0,
          0
         ],
         "yaxis": "y"
        }
       ],
       "layout": {
        "barmode": "relative",
        "coloraxis": {
         "colorbar": {
          "title": {
           "text": "Movies Before First Oscar"
          }
         },
         "colorscale": [
          [
           0,
           "rgb(255,245,240)"
          ],
          [
           0.125,
           "rgb(254,224,210)"
          ],
          [
           0.25,
           "rgb(252,187,161)"
          ],
          [
           0.375,
           "rgb(252,146,114)"
          ],
          [
           0.5,
           "rgb(251,106,74)"
          ],
          [
           0.625,
           "rgb(239,59,44)"
          ],
          [
           0.75,
           "rgb(203,24,29)"
          ],
          [
           0.875,
           "rgb(165,15,21)"
          ],
          [
           1,
           "rgb(103,0,13)"
          ]
         ]
        },
        "height": 700,
        "legend": {
         "tracegroupgap": 0
        },
        "template": {
         "data": {
          "bar": [
           {
            "error_x": {
             "color": "#2a3f5f"
            },
            "error_y": {
             "color": "#2a3f5f"
            },
            "marker": {
             "line": {
              "color": "#E5ECF6",
              "width": 0.5
             },
             "pattern": {
              "fillmode": "overlay",
              "size": 10,
              "solidity": 0.2
             }
            },
            "type": "bar"
           }
          ],
          "barpolar": [
           {
            "marker": {
             "line": {
              "color": "#E5ECF6",
              "width": 0.5
             },
             "pattern": {
              "fillmode": "overlay",
              "size": 10,
              "solidity": 0.2
             }
            },
            "type": "barpolar"
           }
          ],
          "carpet": [
           {
            "aaxis": {
             "endlinecolor": "#2a3f5f",
             "gridcolor": "white",
             "linecolor": "white",
             "minorgridcolor": "white",
             "startlinecolor": "#2a3f5f"
            },
            "baxis": {
             "endlinecolor": "#2a3f5f",
             "gridcolor": "white",
             "linecolor": "white",
             "minorgridcolor": "white",
             "startlinecolor": "#2a3f5f"
            },
            "type": "carpet"
           }
          ],
          "choropleth": [
           {
            "colorbar": {
             "outlinewidth": 0,
             "ticks": ""
            },
            "type": "choropleth"
           }
          ],
          "contour": [
           {
            "colorbar": {
             "outlinewidth": 0,
             "ticks": ""
            },
            "colorscale": [
             [
              0,
              "#0d0887"
             ],
             [
              0.1111111111111111,
              "#46039f"
             ],
             [
              0.2222222222222222,
              "#7201a8"
             ],
             [
              0.3333333333333333,
              "#9c179e"
             ],
             [
              0.4444444444444444,
              "#bd3786"
             ],
             [
              0.5555555555555556,
              "#d8576b"
             ],
             [
              0.6666666666666666,
              "#ed7953"
             ],
             [
              0.7777777777777778,
              "#fb9f3a"
             ],
             [
              0.8888888888888888,
              "#fdca26"
             ],
             [
              1,
              "#f0f921"
             ]
            ],
            "type": "contour"
           }
          ],
          "contourcarpet": [
           {
            "colorbar": {
             "outlinewidth": 0,
             "ticks": ""
            },
            "type": "contourcarpet"
           }
          ],
          "heatmap": [
           {
            "colorbar": {
             "outlinewidth": 0,
             "ticks": ""
            },
            "colorscale": [
             [
              0,
              "#0d0887"
             ],
             [
              0.1111111111111111,
              "#46039f"
             ],
             [
              0.2222222222222222,
              "#7201a8"
             ],
             [
              0.3333333333333333,
              "#9c179e"
             ],
             [
              0.4444444444444444,
              "#bd3786"
             ],
             [
              0.5555555555555556,
              "#d8576b"
             ],
             [
              0.6666666666666666,
              "#ed7953"
             ],
             [
              0.7777777777777778,
              "#fb9f3a"
             ],
             [
              0.8888888888888888,
              "#fdca26"
             ],
             [
              1,
              "#f0f921"
             ]
            ],
            "type": "heatmap"
           }
          ],
          "heatmapgl": [
           {
            "colorbar": {
             "outlinewidth": 0,
             "ticks": ""
            },
            "colorscale": [
             [
              0,
              "#0d0887"
             ],
             [
              0.1111111111111111,
              "#46039f"
             ],
             [
              0.2222222222222222,
              "#7201a8"
             ],
             [
              0.3333333333333333,
              "#9c179e"
             ],
             [
              0.4444444444444444,
              "#bd3786"
             ],
             [
              0.5555555555555556,
              "#d8576b"
             ],
             [
              0.6666666666666666,
              "#ed7953"
             ],
             [
              0.7777777777777778,
              "#fb9f3a"
             ],
             [
              0.8888888888888888,
              "#fdca26"
             ],
             [
              1,
              "#f0f921"
             ]
            ],
            "type": "heatmapgl"
           }
          ],
          "histogram": [
           {
            "marker": {
             "pattern": {
              "fillmode": "overlay",
              "size": 10,
              "solidity": 0.2
             }
            },
            "type": "histogram"
           }
          ],
          "histogram2d": [
           {
            "colorbar": {
             "outlinewidth": 0,
             "ticks": ""
            },
            "colorscale": [
             [
              0,
              "#0d0887"
             ],
             [
              0.1111111111111111,
              "#46039f"
             ],
             [
              0.2222222222222222,
              "#7201a8"
             ],
             [
              0.3333333333333333,
              "#9c179e"
             ],
             [
              0.4444444444444444,
              "#bd3786"
             ],
             [
              0.5555555555555556,
              "#d8576b"
             ],
             [
              0.6666666666666666,
              "#ed7953"
             ],
             [
              0.7777777777777778,
              "#fb9f3a"
             ],
             [
              0.8888888888888888,
              "#fdca26"
             ],
             [
              1,
              "#f0f921"
             ]
            ],
            "type": "histogram2d"
           }
          ],
          "histogram2dcontour": [
           {
            "colorbar": {
             "outlinewidth": 0,
             "ticks": ""
            },
            "colorscale": [
             [
              0,
              "#0d0887"
             ],
             [
              0.1111111111111111,
              "#46039f"
             ],
             [
              0.2222222222222222,
              "#7201a8"
             ],
             [
              0.3333333333333333,
              "#9c179e"
             ],
             [
              0.4444444444444444,
              "#bd3786"
             ],
             [
              0.5555555555555556,
              "#d8576b"
             ],
             [
              0.6666666666666666,
              "#ed7953"
             ],
             [
              0.7777777777777778,
              "#fb9f3a"
             ],
             [
              0.8888888888888888,
              "#fdca26"
             ],
             [
              1,
              "#f0f921"
             ]
            ],
            "type": "histogram2dcontour"
           }
          ],
          "mesh3d": [
           {
            "colorbar": {
             "outlinewidth": 0,
             "ticks": ""
            },
            "type": "mesh3d"
           }
          ],
          "parcoords": [
           {
            "line": {
             "colorbar": {
              "outlinewidth": 0,
              "ticks": ""
             }
            },
            "type": "parcoords"
           }
          ],
          "pie": [
           {
            "automargin": true,
            "type": "pie"
           }
          ],
          "scatter": [
           {
            "fillpattern": {
             "fillmode": "overlay",
             "size": 10,
             "solidity": 0.2
            },
            "type": "scatter"
           }
          ],
          "scatter3d": [
           {
            "line": {
             "colorbar": {
              "outlinewidth": 0,
              "ticks": ""
             }
            },
            "marker": {
             "colorbar": {
              "outlinewidth": 0,
              "ticks": ""
             }
            },
            "type": "scatter3d"
           }
          ],
          "scattercarpet": [
           {
            "marker": {
             "colorbar": {
              "outlinewidth": 0,
              "ticks": ""
             }
            },
            "type": "scattercarpet"
           }
          ],
          "scattergeo": [
           {
            "marker": {
             "colorbar": {
              "outlinewidth": 0,
              "ticks": ""
             }
            },
            "type": "scattergeo"
           }
          ],
          "scattergl": [
           {
            "marker": {
             "colorbar": {
              "outlinewidth": 0,
              "ticks": ""
             }
            },
            "type": "scattergl"
           }
          ],
          "scattermapbox": [
           {
            "marker": {
             "colorbar": {
              "outlinewidth": 0,
              "ticks": ""
             }
            },
            "type": "scattermapbox"
           }
          ],
          "scatterpolar": [
           {
            "marker": {
             "colorbar": {
              "outlinewidth": 0,
              "ticks": ""
             }
            },
            "type": "scatterpolar"
           }
          ],
          "scatterpolargl": [
           {
            "marker": {
             "colorbar": {
              "outlinewidth": 0,
              "ticks": ""
             }
            },
            "type": "scatterpolargl"
           }
          ],
          "scatterternary": [
           {
            "marker": {
             "colorbar": {
              "outlinewidth": 0,
              "ticks": ""
             }
            },
            "type": "scatterternary"
           }
          ],
          "surface": [
           {
            "colorbar": {
             "outlinewidth": 0,
             "ticks": ""
            },
            "colorscale": [
             [
              0,
              "#0d0887"
             ],
             [
              0.1111111111111111,
              "#46039f"
             ],
             [
              0.2222222222222222,
              "#7201a8"
             ],
             [
              0.3333333333333333,
              "#9c179e"
             ],
             [
              0.4444444444444444,
              "#bd3786"
             ],
             [
              0.5555555555555556,
              "#d8576b"
             ],
             [
              0.6666666666666666,
              "#ed7953"
             ],
             [
              0.7777777777777778,
              "#fb9f3a"
             ],
             [
              0.8888888888888888,
              "#fdca26"
             ],
             [
              1,
              "#f0f921"
             ]
            ],
            "type": "surface"
           }
          ],
          "table": [
           {
            "cells": {
             "fill": {
              "color": "#EBF0F8"
             },
             "line": {
              "color": "white"
             }
            },
            "header": {
             "fill": {
              "color": "#C8D4E3"
             },
             "line": {
              "color": "white"
             }
            },
            "type": "table"
           }
          ]
         },
         "layout": {
          "annotationdefaults": {
           "arrowcolor": "#2a3f5f",
           "arrowhead": 0,
           "arrowwidth": 1
          },
          "autotypenumbers": "strict",
          "coloraxis": {
           "colorbar": {
            "outlinewidth": 0,
            "ticks": ""
           }
          },
          "colorscale": {
           "diverging": [
            [
             0,
             "#8e0152"
            ],
            [
             0.1,
             "#c51b7d"
            ],
            [
             0.2,
             "#de77ae"
            ],
            [
             0.3,
             "#f1b6da"
            ],
            [
             0.4,
             "#fde0ef"
            ],
            [
             0.5,
             "#f7f7f7"
            ],
            [
             0.6,
             "#e6f5d0"
            ],
            [
             0.7,
             "#b8e186"
            ],
            [
             0.8,
             "#7fbc41"
            ],
            [
             0.9,
             "#4d9221"
            ],
            [
             1,
             "#276419"
            ]
           ],
           "sequential": [
            [
             0,
             "#0d0887"
            ],
            [
             0.1111111111111111,
             "#46039f"
            ],
            [
             0.2222222222222222,
             "#7201a8"
            ],
            [
             0.3333333333333333,
             "#9c179e"
            ],
            [
             0.4444444444444444,
             "#bd3786"
            ],
            [
             0.5555555555555556,
             "#d8576b"
            ],
            [
             0.6666666666666666,
             "#ed7953"
            ],
            [
             0.7777777777777778,
             "#fb9f3a"
            ],
            [
             0.8888888888888888,
             "#fdca26"
            ],
            [
             1,
             "#f0f921"
            ]
           ],
           "sequentialminus": [
            [
             0,
             "#0d0887"
            ],
            [
             0.1111111111111111,
             "#46039f"
            ],
            [
             0.2222222222222222,
             "#7201a8"
            ],
            [
             0.3333333333333333,
             "#9c179e"
            ],
            [
             0.4444444444444444,
             "#bd3786"
            ],
            [
             0.5555555555555556,
             "#d8576b"
            ],
            [
             0.6666666666666666,
             "#ed7953"
            ],
            [
             0.7777777777777778,
             "#fb9f3a"
            ],
            [
             0.8888888888888888,
             "#fdca26"
            ],
            [
             1,
             "#f0f921"
            ]
           ]
          },
          "colorway": [
           "#636efa",
           "#EF553B",
           "#00cc96",
           "#ab63fa",
           "#FFA15A",
           "#19d3f3",
           "#FF6692",
           "#B6E880",
           "#FF97FF",
           "#FECB52"
          ],
          "font": {
           "color": "#2a3f5f"
          },
          "geo": {
           "bgcolor": "white",
           "lakecolor": "white",
           "landcolor": "#E5ECF6",
           "showlakes": true,
           "showland": true,
           "subunitcolor": "white"
          },
          "hoverlabel": {
           "align": "left"
          },
          "hovermode": "closest",
          "mapbox": {
           "style": "light"
          },
          "paper_bgcolor": "white",
          "plot_bgcolor": "#E5ECF6",
          "polar": {
           "angularaxis": {
            "gridcolor": "white",
            "linecolor": "white",
            "ticks": ""
           },
           "bgcolor": "#E5ECF6",
           "radialaxis": {
            "gridcolor": "white",
            "linecolor": "white",
            "ticks": ""
           }
          },
          "scene": {
           "xaxis": {
            "backgroundcolor": "#E5ECF6",
            "gridcolor": "white",
            "gridwidth": 2,
            "linecolor": "white",
            "showbackground": true,
            "ticks": "",
            "zerolinecolor": "white"
           },
           "yaxis": {
            "backgroundcolor": "#E5ECF6",
            "gridcolor": "white",
            "gridwidth": 2,
            "linecolor": "white",
            "showbackground": true,
            "ticks": "",
            "zerolinecolor": "white"
           },
           "zaxis": {
            "backgroundcolor": "#E5ECF6",
            "gridcolor": "white",
            "gridwidth": 2,
            "linecolor": "white",
            "showbackground": true,
            "ticks": "",
            "zerolinecolor": "white"
           }
          },
          "shapedefaults": {
           "line": {
            "color": "#2a3f5f"
           }
          },
          "ternary": {
           "aaxis": {
            "gridcolor": "white",
            "linecolor": "white",
            "ticks": ""
           },
           "baxis": {
            "gridcolor": "white",
            "linecolor": "white",
            "ticks": ""
           },
           "bgcolor": "#E5ECF6",
           "caxis": {
            "gridcolor": "white",
            "linecolor": "white",
            "ticks": ""
           }
          },
          "title": {
           "x": 0.05
          },
          "xaxis": {
           "automargin": true,
           "gridcolor": "white",
           "linecolor": "white",
           "ticks": "",
           "title": {
            "standoff": 15
           },
           "zerolinecolor": "white",
           "zerolinewidth": 2
          },
          "yaxis": {
           "automargin": true,
           "gridcolor": "white",
           "linecolor": "white",
           "ticks": "",
           "title": {
            "standoff": 15
           },
           "zerolinecolor": "white",
           "zerolinewidth": 2
          }
         }
        },
        "title": {
         "text": "Number of Movies Before First Oscar"
        },
        "width": 2000,
        "xaxis": {
         "anchor": "y",
         "domain": [
          0,
          1
         ],
         "tickangle": 45,
         "title": {
          "text": "Actress"
         }
        },
        "yaxis": {
         "anchor": "x",
         "domain": [
          0,
          1
         ],
         "title": {
          "text": "Number of Movies"
         }
        }
       }
      }
     },
     "metadata": {},
     "output_type": "display_data"
    }
   ],
   "source": [
    "# Filter to only valid rows with release dates\n",
    "oscar_movies_filtered = oscar_act_movies_all.dropna(subset=['Movie release date'])\n",
    "\n",
    "def get_movies_and_first_oscar_date(group):\n",
    "    # Sort movies by release date\n",
    "    group = group.sort_values(by='Movie release date')\n",
    "    # Find the first Oscar-winning movie and its date\n",
    "    first_oscar = group.loc[group['Best Actress Reward']].nsmallest(1, 'Movie release date')\n",
    "    first_oscar_date = first_oscar['Movie release date'].iloc[0] if not first_oscar.empty else None\n",
    "    # Count movies before the first Oscar-winning movie\n",
    "    if pd.notnull(first_oscar_date):\n",
    "        movies_before = group[group['Movie release date'] < first_oscar_date].shape[0]\n",
    "    else:\n",
    "        movies_before = group.shape[0]  # If no Oscar win, count all movies\n",
    "    \n",
    "    return pd.Series({'Movies Before First Oscar': movies_before, 'First Oscar Date': first_oscar_date})\n",
    "\n",
    "\n",
    "movies_before_first_oscar = oscar_movies_filtered.groupby('Actor name').apply(get_movies_and_first_oscar_date).reset_index()\n",
    "print(movies_before_first_oscar.head(10))\n",
    "\n",
    "\n",
    "fig = px.bar(\n",
    "    movies_before_first_oscar.sort_values('Movies Before First Oscar', ascending=False),\n",
    "    x='Actor name',\n",
    "    y='Movies Before First Oscar',\n",
    "    title='Number of Movies Before First Oscar',\n",
    "    labels={'Actor name': 'Actress', 'Movies Before First Oscar': 'Movies Before First Oscar'},\n",
    "    hover_data='First Oscar Date',\n",
    "    text='Movies Before First Oscar',\n",
    "    color='Movies Before First Oscar',\n",
    "    color_continuous_scale='Reds'\n",
    "    \n",
    ")\n",
    "\n",
    "# Update layout for better readability\n",
    "fig.update_layout(\n",
    "    xaxis=dict(title='Actress', tickangle=45),\n",
    "    yaxis=dict(title='Number of Movies'),\n",
    "    width=2000,  # Adjust figure width\n",
    "    height=700  # Adjust figure height\n",
    ")\n",
    "\n",
    "# Uncomment this line to display the graph\n",
    "fig.show()"
   ]
  },
  {
   "cell_type": "code",
   "execution_count": 324,
   "metadata": {},
   "outputs": [],
   "source": [
    "imdb_ratings['Movie name'] = imdb_ratings['Movie name'].str.strip()\n",
    "filtered_ratings = imdb_ratings[['Movie name', 'Movie release date', 'imdb_score']]\n",
    "filtered_oscar_actress = oscar_act_movies_all[['Movie name', 'Movie release date', 'Actor name', 'Best Actress Reward']]"
   ]
  },
  {
   "cell_type": "code",
   "execution_count": 325,
   "metadata": {},
   "outputs": [
    {
     "data": {
      "text/html": [
       "<div>\n",
       "<style scoped>\n",
       "    .dataframe tbody tr th:only-of-type {\n",
       "        vertical-align: middle;\n",
       "    }\n",
       "\n",
       "    .dataframe tbody tr th {\n",
       "        vertical-align: top;\n",
       "    }\n",
       "\n",
       "    .dataframe thead th {\n",
       "        text-align: right;\n",
       "    }\n",
       "</style>\n",
       "<table border=\"1\" class=\"dataframe\">\n",
       "  <thead>\n",
       "    <tr style=\"text-align: right;\">\n",
       "      <th></th>\n",
       "      <th>Movie name</th>\n",
       "      <th>Movie release date</th>\n",
       "      <th>imdb_score</th>\n",
       "      <th>Actor name</th>\n",
       "      <th>Best Actress Reward</th>\n",
       "    </tr>\n",
       "  </thead>\n",
       "  <tbody>\n",
       "    <tr>\n",
       "      <th>0</th>\n",
       "      <td>Fast Company</td>\n",
       "      <td>1938.0</td>\n",
       "      <td>NaN</td>\n",
       "      <td>Melvyn Douglas</td>\n",
       "      <td>False</td>\n",
       "    </tr>\n",
       "    <tr>\n",
       "      <th>1</th>\n",
       "      <td>New Rose Hotel</td>\n",
       "      <td>1999.0</td>\n",
       "      <td>NaN</td>\n",
       "      <td>Christopher Walken</td>\n",
       "      <td>False</td>\n",
       "    </tr>\n",
       "    <tr>\n",
       "      <th>2</th>\n",
       "      <td>The Usual Suspects</td>\n",
       "      <td>NaN</td>\n",
       "      <td>NaN</td>\n",
       "      <td>Benicio del Toro</td>\n",
       "      <td>False</td>\n",
       "    </tr>\n",
       "    <tr>\n",
       "      <th>3</th>\n",
       "      <td>The Usual Suspects</td>\n",
       "      <td>NaN</td>\n",
       "      <td>NaN</td>\n",
       "      <td>Kevin Spacey</td>\n",
       "      <td>True</td>\n",
       "    </tr>\n",
       "    <tr>\n",
       "      <th>4</th>\n",
       "      <td>Ladybug Ladybug</td>\n",
       "      <td>1963.0</td>\n",
       "      <td>NaN</td>\n",
       "      <td>Estelle Parsons</td>\n",
       "      <td>False</td>\n",
       "    </tr>\n",
       "  </tbody>\n",
       "</table>\n",
       "</div>"
      ],
      "text/plain": [
       "           Movie name  Movie release date  imdb_score          Actor name  \\\n",
       "0        Fast Company              1938.0         NaN      Melvyn Douglas   \n",
       "1      New Rose Hotel              1999.0         NaN  Christopher Walken   \n",
       "2  The Usual Suspects                 NaN         NaN    Benicio del Toro   \n",
       "3  The Usual Suspects                 NaN         NaN        Kevin Spacey   \n",
       "4     Ladybug Ladybug              1963.0         NaN     Estelle Parsons   \n",
       "\n",
       "   Best Actress Reward  \n",
       "0                False  \n",
       "1                False  \n",
       "2                False  \n",
       "3                 True  \n",
       "4                False  "
      ]
     },
     "execution_count": 325,
     "metadata": {},
     "output_type": "execute_result"
    }
   ],
   "source": [
    "merged_data = pd.merge(filtered_ratings, filtered_oscar_actress, how='right', on=['Movie name', 'Movie release date'])\n",
    "merged_data.head()"
   ]
  },
  {
   "cell_type": "code",
   "execution_count": 326,
   "metadata": {},
   "outputs": [],
   "source": [
    "# Extract relevant columns for analysis\n",
    "rating_evolution = merged_data[['Actor name', 'Movie name', 'Movie release date', 'imdb_score', 'Best Actress Reward']]\n",
    "\n",
    "# Convert release_year to numeric for proper sorting\n",
    "rating_evolution['Movie release date'] = pd.to_numeric(rating_evolution['Movie release date'], errors='coerce')\n",
    "\n",
    "\n",
    "# Filter data for movies released from 1980 onwards\n",
    "rating_evolution = rating_evolution[rating_evolution['Movie release date'] >= 1980]\n",
    "\n",
    "# Remove rows with missing or invalid IMDb score\n",
    "rating_evolution = rating_evolution.dropna(subset=['Movie release date', 'imdb_score'])\n",
    "\n",
    "# Sort data by actress name and release date\n",
    "rating_evolution = rating_evolution.sort_values(by=['Actor name', 'Movie release date'])\n"
   ]
  },
  {
   "cell_type": "code",
   "execution_count": 327,
   "metadata": {},
   "outputs": [
    {
     "data": {
      "application/vnd.plotly.v1+json": {
       "config": {
        "plotlyServerURL": "https://plot.ly"
       },
       "data": [
        {
         "legendgroup": "Alan Arkin",
         "marker": {
          "color": "#636EFA",
          "size": 8,
          "symbol": "circle"
         },
         "mode": "markers",
         "name": "Alan Arkin",
         "showlegend": true,
         "type": "scatter",
         "x": [
          null
         ],
         "y": [
          null
         ]
        },
        {
         "legendgroup": "Angelina Jolie",
         "marker": {
          "color": "#EF553B",
          "size": 8,
          "symbol": "circle"
         },
         "mode": "markers",
         "name": "Angelina Jolie",
         "showlegend": true,
         "type": "scatter",
         "x": [
          null
         ],
         "y": [
          null
         ]
        },
        {
         "legendgroup": "Anna Paquin",
         "marker": {
          "color": "#00CC96",
          "size": 8,
          "symbol": "circle"
         },
         "mode": "markers",
         "name": "Anna Paquin",
         "showlegend": true,
         "type": "scatter",
         "x": [
          null
         ],
         "y": [
          null
         ]
        },
        {
         "legendgroup": "Anne Hathaway",
         "marker": {
          "color": "#AB63FA",
          "size": 8,
          "symbol": "circle"
         },
         "mode": "markers",
         "name": "Anne Hathaway",
         "showlegend": true,
         "type": "scatter",
         "x": [
          null
         ],
         "y": [
          null
         ]
        },
        {
         "legendgroup": "Catherine Zeta-Jones",
         "marker": {
          "color": "#FFA15A",
          "size": 8,
          "symbol": "circle"
         },
         "mode": "markers",
         "name": "Catherine Zeta-Jones",
         "showlegend": true,
         "type": "scatter",
         "x": [
          null
         ],
         "y": [
          null
         ]
        },
        {
         "legendgroup": "Christian Bale",
         "marker": {
          "color": "#19D3F3",
          "size": 8,
          "symbol": "circle"
         },
         "mode": "markers",
         "name": "Christian Bale",
         "showlegend": true,
         "type": "scatter",
         "x": [
          null
         ],
         "y": [
          null
         ]
        },
        {
         "legendgroup": "Christoph Waltz",
         "marker": {
          "color": "#FF6692",
          "size": 8,
          "symbol": "circle"
         },
         "mode": "markers",
         "name": "Christoph Waltz",
         "showlegend": true,
         "type": "scatter",
         "x": [
          null
         ],
         "y": [
          null
         ]
        },
        {
         "legendgroup": "Christopher Plummer",
         "marker": {
          "color": "#B6E880",
          "size": 8,
          "symbol": "circle"
         },
         "mode": "markers",
         "name": "Christopher Plummer",
         "showlegend": true,
         "type": "scatter",
         "x": [
          null
         ],
         "y": [
          null
         ]
        },
        {
         "legendgroup": "Dianne Wiest",
         "marker": {
          "color": "#FF97FF",
          "size": 8,
          "symbol": "circle"
         },
         "mode": "markers",
         "name": "Dianne Wiest",
         "showlegend": true,
         "type": "scatter",
         "x": [
          null
         ],
         "y": [
          null
         ]
        },
        {
         "legendgroup": "Gene Hackman",
         "marker": {
          "color": "#FECB52",
          "size": 8,
          "symbol": "circle"
         },
         "mode": "markers",
         "name": "Gene Hackman",
         "showlegend": true,
         "type": "scatter",
         "x": [
          null
         ],
         "y": [
          null
         ]
        },
        {
         "legendgroup": "George Clooney",
         "marker": {
          "color": "#636EFA",
          "size": 8,
          "symbol": "circle"
         },
         "mode": "markers",
         "name": "George Clooney",
         "showlegend": true,
         "type": "scatter",
         "x": [
          null
         ],
         "y": [
          null
         ]
        },
        {
         "legendgroup": "Heath Ledger",
         "marker": {
          "color": "#EF553B",
          "size": 8,
          "symbol": "circle"
         },
         "mode": "markers",
         "name": "Heath Ledger",
         "showlegend": true,
         "type": "scatter",
         "x": [
          null
         ],
         "y": [
          null
         ]
        },
        {
         "legendgroup": "Javier Bardem",
         "marker": {
          "color": "#00CC96",
          "size": 8,
          "symbol": "circle"
         },
         "mode": "markers",
         "name": "Javier Bardem",
         "showlegend": true,
         "type": "scatter",
         "x": [
          null
         ],
         "y": [
          null
         ]
        },
        {
         "legendgroup": "Jennifer Connelly",
         "marker": {
          "color": "#AB63FA",
          "size": 8,
          "symbol": "circle"
         },
         "mode": "markers",
         "name": "Jennifer Connelly",
         "showlegend": true,
         "type": "scatter",
         "x": [
          null
         ],
         "y": [
          null
         ]
        },
        {
         "legendgroup": "Jessica Lange",
         "marker": {
          "color": "#FFA15A",
          "size": 8,
          "symbol": "circle"
         },
         "mode": "markers",
         "name": "Jessica Lange",
         "showlegend": true,
         "type": "scatter",
         "x": [
          null
         ],
         "y": [
          null
         ]
        },
        {
         "legendgroup": "Jim Broadbent",
         "marker": {
          "color": "#19D3F3",
          "size": 8,
          "symbol": "circle"
         },
         "mode": "markers",
         "name": "Jim Broadbent",
         "showlegend": true,
         "type": "scatter",
         "x": [
          null
         ],
         "y": [
          null
         ]
        },
        {
         "legendgroup": "Joe Pesci",
         "marker": {
          "color": "#FF6692",
          "size": 8,
          "symbol": "circle"
         },
         "mode": "markers",
         "name": "Joe Pesci",
         "showlegend": true,
         "type": "scatter",
         "x": [
          null
         ],
         "y": [
          null
         ]
        },
        {
         "legendgroup": "Judi Dench",
         "marker": {
          "color": "#B6E880",
          "size": 8,
          "symbol": "circle"
         },
         "mode": "markers",
         "name": "Judi Dench",
         "showlegend": true,
         "type": "scatter",
         "x": [
          null
         ],
         "y": [
          null
         ]
        },
        {
         "legendgroup": "Juliette Binoche",
         "marker": {
          "color": "#FF97FF",
          "size": 8,
          "symbol": "circle"
         },
         "mode": "markers",
         "name": "Juliette Binoche",
         "showlegend": true,
         "type": "scatter",
         "x": [
          null
         ],
         "y": [
          null
         ]
        },
        {
         "legendgroup": "Kim Basinger",
         "marker": {
          "color": "#FECB52",
          "size": 8,
          "symbol": "circle"
         },
         "mode": "markers",
         "name": "Kim Basinger",
         "showlegend": true,
         "type": "scatter",
         "x": [
          null
         ],
         "y": [
          null
         ]
        },
        {
         "legendgroup": "Marisa Tomei",
         "marker": {
          "color": "#636EFA",
          "size": 8,
          "symbol": "circle"
         },
         "mode": "markers",
         "name": "Marisa Tomei",
         "showlegend": true,
         "type": "scatter",
         "x": [
          null
         ],
         "y": [
          null
         ]
        },
        {
         "legendgroup": "Martin Landau",
         "marker": {
          "color": "#EF553B",
          "size": 8,
          "symbol": "circle"
         },
         "mode": "markers",
         "name": "Martin Landau",
         "showlegend": true,
         "type": "scatter",
         "x": [
          null
         ],
         "y": [
          null
         ]
        },
        {
         "legendgroup": "Melissa Leo",
         "marker": {
          "color": "#00CC96",
          "size": 8,
          "symbol": "circle"
         },
         "mode": "markers",
         "name": "Melissa Leo",
         "showlegend": true,
         "type": "scatter",
         "x": [
          null
         ],
         "y": [
          null
         ]
        },
        {
         "legendgroup": "Morgan Freeman",
         "marker": {
          "color": "#AB63FA",
          "size": 8,
          "symbol": "circle"
         },
         "mode": "markers",
         "name": "Morgan Freeman",
         "showlegend": true,
         "type": "scatter",
         "x": [
          null
         ],
         "y": [
          null
         ]
        },
        {
         "legendgroup": "Octavia Spencer",
         "marker": {
          "color": "#FFA15A",
          "size": 8,
          "symbol": "circle"
         },
         "mode": "markers",
         "name": "Octavia Spencer",
         "showlegend": true,
         "type": "scatter",
         "x": [
          null
         ],
         "y": [
          null
         ]
        },
        {
         "legendgroup": "Penélope Cruz",
         "marker": {
          "color": "#19D3F3",
          "size": 8,
          "symbol": "circle"
         },
         "mode": "markers",
         "name": "Penélope Cruz",
         "showlegend": true,
         "type": "scatter",
         "x": [
          null
         ],
         "y": [
          null
         ]
        },
        {
         "legendgroup": "Rachel Weisz",
         "marker": {
          "color": "#FF6692",
          "size": 8,
          "symbol": "circle"
         },
         "mode": "markers",
         "name": "Rachel Weisz",
         "showlegend": true,
         "type": "scatter",
         "x": [
          null
         ],
         "y": [
          null
         ]
        },
        {
         "legendgroup": "Renée Zellweger",
         "marker": {
          "color": "#B6E880",
          "size": 8,
          "symbol": "circle"
         },
         "mode": "markers",
         "name": "Renée Zellweger",
         "showlegend": true,
         "type": "scatter",
         "x": [
          null
         ],
         "y": [
          null
         ]
        },
        {
         "legendgroup": "Robin Williams",
         "marker": {
          "color": "#FF97FF",
          "size": 8,
          "symbol": "circle"
         },
         "mode": "markers",
         "name": "Robin Williams",
         "showlegend": true,
         "type": "scatter",
         "x": [
          null
         ],
         "y": [
          null
         ]
        },
        {
         "legendgroup": "Tim Robbins",
         "marker": {
          "color": "#FECB52",
          "size": 8,
          "symbol": "circle"
         },
         "mode": "markers",
         "name": "Tim Robbins",
         "showlegend": true,
         "type": "scatter",
         "x": [
          null
         ],
         "y": [
          null
         ]
        },
        {
         "legendgroup": "Timothy Hutton",
         "marker": {
          "color": "#636EFA",
          "size": 8,
          "symbol": "circle"
         },
         "mode": "markers",
         "name": "Timothy Hutton",
         "showlegend": true,
         "type": "scatter",
         "x": [
          null
         ],
         "y": [
          null
         ]
        },
        {
         "legendgroup": "Tommy Lee Jones",
         "marker": {
          "color": "#EF553B",
          "size": 8,
          "symbol": "circle"
         },
         "mode": "markers",
         "name": "Tommy Lee Jones",
         "showlegend": true,
         "type": "scatter",
         "x": [
          null
         ],
         "y": [
          null
         ]
        },
        {
         "legendgroup": "Whoopi Goldberg",
         "marker": {
          "color": "#00CC96",
          "size": 8,
          "symbol": "circle"
         },
         "mode": "markers",
         "name": "Whoopi Goldberg",
         "showlegend": true,
         "type": "scatter",
         "x": [
          null
         ],
         "y": [
          null
         ]
        },
        {
         "hoverinfo": "text",
         "hovertext": [
          "Name: Alan Arkin<br>Movie: Edward Scissorhands<br>IMDb Score: 7.9<br>Release Date: 1990<br>Academy Award for Best Actor/Actress: No",
          "Name: Alan Arkin<br>Movie: Grosse Pointe Blank<br>IMDb Score: 7.4<br>Release Date: 1997<br>Academy Award for Best Actor/Actress: No",
          "Name: Alan Arkin<br>Movie: Gattaca<br>IMDb Score: 7.8<br>Release Date: 1997<br>Academy Award for Best Actor/Actress: No",
          "Name: Alan Arkin<br>Movie: Slums of Beverly Hills<br>IMDb Score: 6.6<br>Release Date: 1998<br>Academy Award for Best Actor/Actress: No",
          "Name: Alan Arkin<br>Movie: Jakob the Liar<br>IMDb Score: 6.5<br>Release Date: 1999<br>Academy Award for Best Actor/Actress: No",
          "Name: Alan Arkin<br>Movie: America's Sweethearts<br>IMDb Score: 5.7<br>Release Date: 2001<br>Academy Award for Best Actor/Actress: No",
          "Name: Alan Arkin<br>Movie: Thirteen Conversations About One Thing<br>IMDb Score: 7.1<br>Release Date: 2001<br>Academy Award for Best Actor/Actress: No",
          "Name: Alan Arkin<br>Movie: Little Miss Sunshine<br>IMDb Score: 7.9<br>Release Date: 2006<br>Academy Award for Best Actor/Actress: Yes",
          "Name: Alan Arkin<br>Movie: Firewall<br>IMDb Score: 5.8<br>Release Date: 2006<br>Academy Award for Best Actor/Actress: No",
          "Name: Alan Arkin<br>Movie: Rendition<br>IMDb Score: 6.8<br>Release Date: 2007<br>Academy Award for Best Actor/Actress: No",
          "Name: Alan Arkin<br>Movie: Get Smart<br>IMDb Score: 6.5<br>Release Date: 2008<br>Academy Award for Best Actor/Actress: No",
          "Name: Alan Arkin<br>Movie: Sunshine Cleaning<br>IMDb Score: 6.9<br>Release Date: 2008<br>Academy Award for Best Actor/Actress: No",
          "Name: Alan Arkin<br>Movie: City Island<br>IMDb Score: 7.4<br>Release Date: 2009<br>Academy Award for Best Actor/Actress: No",
          "Name: Alan Arkin<br>Movie: The Change-Up<br>IMDb Score: 6.4<br>Release Date: 2011<br>Academy Award for Best Actor/Actress: No",
          "Name: Alan Arkin<br>Movie: Argo<br>IMDb Score: 7.7<br>Release Date: 2012<br>Academy Award for Best Actor/Actress: No"
         ],
         "legendgroup": "Alan Arkin",
         "marker": {
          "color": "#636EFA",
          "size": [
           8,
           8,
           8,
           8,
           8,
           8,
           8,
           15,
           8,
           8,
           8,
           8,
           8,
           8,
           8
          ],
          "symbol": [
           "circle",
           "circle",
           "circle",
           "circle",
           "circle",
           "circle",
           "circle",
           "star",
           "circle",
           "circle",
           "circle",
           "circle",
           "circle",
           "circle",
           "circle"
          ]
         },
         "mode": "markers",
         "name": "Alan Arkin",
         "showlegend": false,
         "type": "scatter",
         "x": [
          1990,
          1997,
          1997,
          1998,
          1999,
          2001,
          2001,
          2006,
          2006,
          2007,
          2008,
          2008,
          2009,
          2011,
          2012
         ],
         "y": [
          7.9,
          7.4,
          7.8,
          6.6,
          6.5,
          5.7,
          7.1,
          7.9,
          5.8,
          6.8,
          6.5,
          6.9,
          7.4,
          6.4,
          7.7
         ]
        },
        {
         "hoverinfo": "text",
         "hovertext": [
          "Name: Angelina Jolie<br>Movie: Hackers<br>IMDb Score: 6.2<br>Release Date: 1995<br>Academy Award for Best Actor/Actress: No",
          "Name: Angelina Jolie<br>Movie: The Bone Collector<br>IMDb Score: 6.7<br>Release Date: 1999<br>Academy Award for Best Actor/Actress: No",
          "Name: Angelina Jolie<br>Movie: Girl, Interrupted<br>IMDb Score: 7.3<br>Release Date: 1999<br>Academy Award for Best Actor/Actress: Yes",
          "Name: Angelina Jolie<br>Movie: Pushing Tin<br>IMDb Score: 6.0<br>Release Date: 1999<br>Academy Award for Best Actor/Actress: No",
          "Name: Angelina Jolie<br>Movie: Original Sin<br>IMDb Score: 6.0<br>Release Date: 2001<br>Academy Award for Best Actor/Actress: No",
          "Name: Angelina Jolie<br>Movie: Original Sin<br>IMDb Score: 6.0<br>Release Date: 2001<br>Academy Award for Best Actor/Actress: No",
          "Name: Angelina Jolie<br>Movie: Lara Croft: Tomb Raider<br>IMDb Score: 5.7<br>Release Date: 2001<br>Academy Award for Best Actor/Actress: No",
          "Name: Angelina Jolie<br>Movie: Life or Something Like It<br>IMDb Score: 5.8<br>Release Date: 2002<br>Academy Award for Best Actor/Actress: No",
          "Name: Angelina Jolie<br>Movie: Beyond Borders<br>IMDb Score: 6.5<br>Release Date: 2003<br>Academy Award for Best Actor/Actress: No",
          "Name: Angelina Jolie<br>Movie: Lara Croft Tomb Raider: The Cradle of Life<br>IMDb Score: 5.5<br>Release Date: 2003<br>Academy Award for Best Actor/Actress: No",
          "Name: Angelina Jolie<br>Movie: Shark Tale<br>IMDb Score: 6.0<br>Release Date: 2004<br>Academy Award for Best Actor/Actress: No",
          "Name: Angelina Jolie<br>Movie: Sky Captain and the World of Tomorrow<br>IMDb Score: 6.1<br>Release Date: 2004<br>Academy Award for Best Actor/Actress: No",
          "Name: Angelina Jolie<br>Movie: Alexander<br>IMDb Score: 5.5<br>Release Date: 2004<br>Academy Award for Best Actor/Actress: No",
          "Name: Angelina Jolie<br>Movie: Mr. & Mrs. Smith<br>IMDb Score: 6.5<br>Release Date: 2005<br>Academy Award for Best Actor/Actress: No",
          "Name: Angelina Jolie<br>Movie: Beowulf<br>IMDb Score: 6.3<br>Release Date: 2007<br>Academy Award for Best Actor/Actress: No",
          "Name: Angelina Jolie<br>Movie: A Mighty Heart<br>IMDb Score: 6.7<br>Release Date: 2007<br>Academy Award for Best Actor/Actress: No",
          "Name: Angelina Jolie<br>Movie: Wanted<br>IMDb Score: 6.7<br>Release Date: 2008<br>Academy Award for Best Actor/Actress: No",
          "Name: Angelina Jolie<br>Movie: Kung Fu Panda<br>IMDb Score: 7.6<br>Release Date: 2008<br>Academy Award for Best Actor/Actress: No",
          "Name: Angelina Jolie<br>Movie: Changeling<br>IMDb Score: 7.8<br>Release Date: 2008<br>Academy Award for Best Actor/Actress: No",
          "Name: Angelina Jolie<br>Movie: The Tourist<br>IMDb Score: 6.0<br>Release Date: 2010<br>Academy Award for Best Actor/Actress: No",
          "Name: Angelina Jolie<br>Movie: The Tourist<br>IMDb Score: 6.0<br>Release Date: 2010<br>Academy Award for Best Actor/Actress: No",
          "Name: Angelina Jolie<br>Movie: Salt<br>IMDb Score: 6.4<br>Release Date: 2010<br>Academy Award for Best Actor/Actress: No",
          "Name: Angelina Jolie<br>Movie: Kung Fu Panda 2<br>IMDb Score: 7.3<br>Release Date: 2011<br>Academy Award for Best Actor/Actress: No",
          "Name: Angelina Jolie<br>Movie: Maleficent<br>IMDb Score: 7.0<br>Release Date: 2014<br>Academy Award for Best Actor/Actress: No"
         ],
         "legendgroup": "Angelina Jolie",
         "marker": {
          "color": "#EF553B",
          "size": [
           8,
           8,
           15,
           8,
           8,
           8,
           8,
           8,
           8,
           8,
           8,
           8,
           8,
           8,
           8,
           8,
           8,
           8,
           8,
           8,
           8,
           8,
           8,
           8
          ],
          "symbol": [
           "circle",
           "circle",
           "star",
           "circle",
           "circle",
           "circle",
           "circle",
           "circle",
           "circle",
           "circle",
           "circle",
           "circle",
           "circle",
           "circle",
           "circle",
           "circle",
           "circle",
           "circle",
           "circle",
           "circle",
           "circle",
           "circle",
           "circle",
           "circle"
          ]
         },
         "mode": "markers",
         "name": "Angelina Jolie",
         "showlegend": false,
         "type": "scatter",
         "x": [
          1995,
          1999,
          1999,
          1999,
          2001,
          2001,
          2001,
          2002,
          2003,
          2003,
          2004,
          2004,
          2004,
          2005,
          2007,
          2007,
          2008,
          2008,
          2008,
          2010,
          2010,
          2010,
          2011,
          2014
         ],
         "y": [
          6.2,
          6.7,
          7.3,
          6,
          6,
          6,
          5.7,
          5.8,
          6.5,
          5.5,
          6,
          6.1,
          5.5,
          6.5,
          6.3,
          6.7,
          6.7,
          7.6,
          7.8,
          6,
          6,
          6.4,
          7.3,
          7
         ]
        },
        {
         "hoverinfo": "text",
         "hovertext": [
          "Name: Anna Paquin<br>Movie: The Piano<br>IMDb Score: 7.6<br>Release Date: 1993<br>Academy Award for Best Actor/Actress: Yes",
          "Name: Anna Paquin<br>Movie: Amistad<br>IMDb Score: 7.2<br>Release Date: 1997<br>Academy Award for Best Actor/Actress: No",
          "Name: Anna Paquin<br>Movie: She's All That<br>IMDb Score: 5.8<br>Release Date: 1999<br>Academy Award for Best Actor/Actress: No",
          "Name: Anna Paquin<br>Movie: A Walk on the Moon<br>IMDb Score: 6.6<br>Release Date: 1999<br>Academy Award for Best Actor/Actress: No",
          "Name: Anna Paquin<br>Movie: Finding Forrester<br>IMDb Score: 7.3<br>Release Date: 2000<br>Academy Award for Best Actor/Actress: No",
          "Name: Anna Paquin<br>Movie: X-Men<br>IMDb Score: 7.4<br>Release Date: 2000<br>Academy Award for Best Actor/Actress: No",
          "Name: Anna Paquin<br>Movie: Almost Famous<br>IMDb Score: 7.9<br>Release Date: 2000<br>Academy Award for Best Actor/Actress: No",
          "Name: Anna Paquin<br>Movie: 25th Hour<br>IMDb Score: 7.7<br>Release Date: 2002<br>Academy Award for Best Actor/Actress: No",
          "Name: Anna Paquin<br>Movie: Darkness<br>IMDb Score: 5.4<br>Release Date: 2002<br>Academy Award for Best Actor/Actress: No",
          "Name: Anna Paquin<br>Movie: X-Men: The Last Stand<br>IMDb Score: 6.8<br>Release Date: 2006<br>Academy Award for Best Actor/Actress: No",
          "Name: Anna Paquin<br>Movie: Scream 4<br>IMDb Score: 6.2<br>Release Date: 2011<br>Academy Award for Best Actor/Actress: No",
          "Name: Anna Paquin<br>Movie: Margaret<br>IMDb Score: 6.5<br>Release Date: 2011<br>Academy Award for Best Actor/Actress: No"
         ],
         "legendgroup": "Anna Paquin",
         "marker": {
          "color": "#00CC96",
          "size": [
           15,
           8,
           8,
           8,
           8,
           8,
           8,
           8,
           8,
           8,
           8,
           8
          ],
          "symbol": [
           "star",
           "circle",
           "circle",
           "circle",
           "circle",
           "circle",
           "circle",
           "circle",
           "circle",
           "circle",
           "circle",
           "circle"
          ]
         },
         "mode": "markers",
         "name": "Anna Paquin",
         "showlegend": false,
         "type": "scatter",
         "x": [
          1993,
          1997,
          1999,
          1999,
          2000,
          2000,
          2000,
          2002,
          2002,
          2006,
          2011,
          2011
         ],
         "y": [
          7.6,
          7.2,
          5.8,
          6.6,
          7.3,
          7.4,
          7.9,
          7.7,
          5.4,
          6.8,
          6.2,
          6.5
         ]
        },
        {
         "hoverinfo": "text",
         "hovertext": [
          "Name: Anne Hathaway<br>Movie: Nicholas Nickleby<br>IMDb Score: 7.2<br>Release Date: 2002<br>Academy Award for Best Actor/Actress: No",
          "Name: Anne Hathaway<br>Movie: The Princess Diaries 2: Royal Engagement<br>IMDb Score: 5.7<br>Release Date: 2004<br>Academy Award for Best Actor/Actress: No",
          "Name: Anne Hathaway<br>Movie: Ella Enchanted<br>IMDb Score: 6.3<br>Release Date: 2004<br>Academy Award for Best Actor/Actress: No",
          "Name: Anne Hathaway<br>Movie: Brokeback Mountain<br>IMDb Score: 7.7<br>Release Date: 2005<br>Academy Award for Best Actor/Actress: No",
          "Name: Anne Hathaway<br>Movie: The Devil Wears Prada<br>IMDb Score: 6.8<br>Release Date: 2006<br>Academy Award for Best Actor/Actress: No",
          "Name: Anne Hathaway<br>Movie: Becoming Jane<br>IMDb Score: 7.1<br>Release Date: 2007<br>Academy Award for Best Actor/Actress: No",
          "Name: Anne Hathaway<br>Movie: Get Smart<br>IMDb Score: 6.5<br>Release Date: 2008<br>Academy Award for Best Actor/Actress: No",
          "Name: Anne Hathaway<br>Movie: Rachel Getting Married<br>IMDb Score: 6.7<br>Release Date: 2008<br>Academy Award for Best Actor/Actress: No",
          "Name: Anne Hathaway<br>Movie: Bride Wars<br>IMDb Score: 5.4<br>Release Date: 2009<br>Academy Award for Best Actor/Actress: No",
          "Name: Anne Hathaway<br>Movie: Alice in Wonderland<br>IMDb Score: 6.5<br>Release Date: 2010<br>Academy Award for Best Actor/Actress: No",
          "Name: Anne Hathaway<br>Movie: Alice in Wonderland<br>IMDb Score: 6.5<br>Release Date: 2010<br>Academy Award for Best Actor/Actress: No",
          "Name: Anne Hathaway<br>Movie: Valentine's Day<br>IMDb Score: 5.7<br>Release Date: 2010<br>Academy Award for Best Actor/Actress: No",
          "Name: Anne Hathaway<br>Movie: One Day<br>IMDb Score: 7.0<br>Release Date: 2011<br>Academy Award for Best Actor/Actress: No",
          "Name: Anne Hathaway<br>Movie: Rio<br>IMDb Score: 7.0<br>Release Date: 2011<br>Academy Award for Best Actor/Actress: No",
          "Name: Anne Hathaway<br>Movie: The Dark Knight Rises<br>IMDb Score: 8.5<br>Release Date: 2012<br>Academy Award for Best Actor/Actress: No",
          "Name: Anne Hathaway<br>Movie: Les Misérables<br>IMDb Score: 7.6<br>Release Date: 2012<br>Academy Award for Best Actor/Actress: Yes"
         ],
         "legendgroup": "Anne Hathaway",
         "marker": {
          "color": "#AB63FA",
          "size": [
           8,
           8,
           8,
           8,
           8,
           8,
           8,
           8,
           8,
           8,
           8,
           8,
           8,
           8,
           8,
           15
          ],
          "symbol": [
           "circle",
           "circle",
           "circle",
           "circle",
           "circle",
           "circle",
           "circle",
           "circle",
           "circle",
           "circle",
           "circle",
           "circle",
           "circle",
           "circle",
           "circle",
           "star"
          ]
         },
         "mode": "markers",
         "name": "Anne Hathaway",
         "showlegend": false,
         "type": "scatter",
         "x": [
          2002,
          2004,
          2004,
          2005,
          2006,
          2007,
          2008,
          2008,
          2009,
          2010,
          2010,
          2010,
          2011,
          2011,
          2012,
          2012
         ],
         "y": [
          7.2,
          5.7,
          6.3,
          7.7,
          6.8,
          7.1,
          6.5,
          6.7,
          5.4,
          6.5,
          6.5,
          5.7,
          7,
          7,
          8.5,
          7.6
         ]
        },
        {
         "hoverinfo": "text",
         "hovertext": [
          "Name: Catherine Zeta-Jones<br>Movie: The Phantom<br>IMDb Score: 4.9<br>Release Date: 1996<br>Academy Award for Best Actor/Actress: No",
          "Name: Catherine Zeta-Jones<br>Movie: The Mask of Zorro<br>IMDb Score: 6.7<br>Release Date: 1998<br>Academy Award for Best Actor/Actress: No",
          "Name: Catherine Zeta-Jones<br>Movie: The Haunting<br>IMDb Score: 4.9<br>Release Date: 1999<br>Academy Award for Best Actor/Actress: No",
          "Name: Catherine Zeta-Jones<br>Movie: Entrapment<br>IMDb Score: 6.2<br>Release Date: 1999<br>Academy Award for Best Actor/Actress: No",
          "Name: Catherine Zeta-Jones<br>Movie: High Fidelity<br>IMDb Score: 7.6<br>Release Date: 2000<br>Academy Award for Best Actor/Actress: No",
          "Name: Catherine Zeta-Jones<br>Movie: America's Sweethearts<br>IMDb Score: 5.7<br>Release Date: 2001<br>Academy Award for Best Actor/Actress: No",
          "Name: Catherine Zeta-Jones<br>Movie: Chicago<br>IMDb Score: 7.2<br>Release Date: 2002<br>Academy Award for Best Actor/Actress: Yes",
          "Name: Catherine Zeta-Jones<br>Movie: Intolerable Cruelty<br>IMDb Score: 6.3<br>Release Date: 2003<br>Academy Award for Best Actor/Actress: No",
          "Name: Catherine Zeta-Jones<br>Movie: Sinbad: Legend of the Seven Seas<br>IMDb Score: 6.7<br>Release Date: 2003<br>Academy Award for Best Actor/Actress: No",
          "Name: Catherine Zeta-Jones<br>Movie: The Terminal<br>IMDb Score: 7.3<br>Release Date: 2004<br>Academy Award for Best Actor/Actress: No",
          "Name: Catherine Zeta-Jones<br>Movie: Ocean's Twelve<br>IMDb Score: 6.4<br>Release Date: 2004<br>Academy Award for Best Actor/Actress: No",
          "Name: Catherine Zeta-Jones<br>Movie: The Legend of Zorro<br>IMDb Score: 5.9<br>Release Date: 2005<br>Academy Award for Best Actor/Actress: No",
          "Name: Catherine Zeta-Jones<br>Movie: No Reservations<br>IMDb Score: 6.3<br>Release Date: 2007<br>Academy Award for Best Actor/Actress: No",
          "Name: Catherine Zeta-Jones<br>Movie: Playing for Keeps<br>IMDb Score: 5.7<br>Release Date: 2012<br>Academy Award for Best Actor/Actress: No",
          "Name: Catherine Zeta-Jones<br>Movie: Rock of Ages<br>IMDb Score: 5.9<br>Release Date: 2012<br>Academy Award for Best Actor/Actress: No",
          "Name: Catherine Zeta-Jones<br>Movie: Broken City<br>IMDb Score: 6.2<br>Release Date: 2013<br>Academy Award for Best Actor/Actress: No"
         ],
         "legendgroup": "Catherine Zeta-Jones",
         "marker": {
          "color": "#FFA15A",
          "size": [
           8,
           8,
           8,
           8,
           8,
           8,
           15,
           8,
           8,
           8,
           8,
           8,
           8,
           8,
           8,
           8
          ],
          "symbol": [
           "circle",
           "circle",
           "circle",
           "circle",
           "circle",
           "circle",
           "star",
           "circle",
           "circle",
           "circle",
           "circle",
           "circle",
           "circle",
           "circle",
           "circle",
           "circle"
          ]
         },
         "mode": "markers",
         "name": "Catherine Zeta-Jones",
         "showlegend": false,
         "type": "scatter",
         "x": [
          1996,
          1998,
          1999,
          1999,
          2000,
          2001,
          2002,
          2003,
          2003,
          2004,
          2004,
          2005,
          2007,
          2012,
          2012,
          2013
         ],
         "y": [
          4.9,
          6.7,
          4.9,
          6.2,
          7.6,
          5.7,
          7.2,
          6.3,
          6.7,
          7.3,
          6.4,
          5.9,
          6.3,
          5.7,
          5.9,
          6.2
         ]
        },
        {
         "hoverinfo": "text",
         "hovertext": [
          "Name: Christian Bale<br>Movie: Henry V<br>IMDb Score: 7.7<br>Release Date: 1989<br>Academy Award for Best Actor/Actress: No",
          "Name: Christian Bale<br>Movie: Little Women<br>IMDb Score: 7.3<br>Release Date: 1994<br>Academy Award for Best Actor/Actress: No",
          "Name: Christian Bale<br>Movie: Pocahontas<br>IMDb Score: 6.6<br>Release Date: 1995<br>Academy Award for Best Actor/Actress: No",
          "Name: Christian Bale<br>Movie: Velvet Goldmine<br>IMDb Score: 7.0<br>Release Date: 1998<br>Academy Award for Best Actor/Actress: No",
          "Name: Christian Bale<br>Movie: American Psycho<br>IMDb Score: 7.6<br>Release Date: 2000<br>Academy Award for Best Actor/Actress: No",
          "Name: Christian Bale<br>Movie: Shaft<br>IMDb Score: 5.9<br>Release Date: 2000<br>Academy Award for Best Actor/Actress: No",
          "Name: Christian Bale<br>Movie: Captain Corelli's Mandolin<br>IMDb Score: 5.9<br>Release Date: 2001<br>Academy Award for Best Actor/Actress: No",
          "Name: Christian Bale<br>Movie: Equilibrium<br>IMDb Score: 7.5<br>Release Date: 2002<br>Academy Award for Best Actor/Actress: No",
          "Name: Christian Bale<br>Movie: Reign of Fire<br>IMDb Score: 6.2<br>Release Date: 2002<br>Academy Award for Best Actor/Actress: No",
          "Name: Christian Bale<br>Movie: The Machinist<br>IMDb Score: 7.7<br>Release Date: 2004<br>Academy Award for Best Actor/Actress: No",
          "Name: Christian Bale<br>Movie: Howl's Moving Castle<br>IMDb Score: 8.2<br>Release Date: 2004<br>Academy Award for Best Actor/Actress: No",
          "Name: Christian Bale<br>Movie: The New World<br>IMDb Score: 6.7<br>Release Date: 2005<br>Academy Award for Best Actor/Actress: No",
          "Name: Christian Bale<br>Movie: Harsh Times<br>IMDb Score: 7.0<br>Release Date: 2005<br>Academy Award for Best Actor/Actress: No",
          "Name: Christian Bale<br>Movie: Batman Begins<br>IMDb Score: 8.3<br>Release Date: 2005<br>Academy Award for Best Actor/Actress: No",
          "Name: Christian Bale<br>Movie: The Prestige<br>IMDb Score: 8.5<br>Release Date: 2006<br>Academy Award for Best Actor/Actress: No",
          "Name: Christian Bale<br>Movie: Rescue Dawn<br>IMDb Score: 7.3<br>Release Date: 2006<br>Academy Award for Best Actor/Actress: No",
          "Name: Christian Bale<br>Movie: 3:10 to Yuma<br>IMDb Score: 7.8<br>Release Date: 2007<br>Academy Award for Best Actor/Actress: No",
          "Name: Christian Bale<br>Movie: The Dark Knight<br>IMDb Score: 9.0<br>Release Date: 2008<br>Academy Award for Best Actor/Actress: No",
          "Name: Christian Bale<br>Movie: Public Enemies<br>IMDb Score: 7.0<br>Release Date: 2009<br>Academy Award for Best Actor/Actress: No",
          "Name: Christian Bale<br>Movie: Terminator Salvation<br>IMDb Score: 6.6<br>Release Date: 2009<br>Academy Award for Best Actor/Actress: No",
          "Name: Christian Bale<br>Movie: The Fighter<br>IMDb Score: 7.9<br>Release Date: 2010<br>Academy Award for Best Actor/Actress: Yes",
          "Name: Christian Bale<br>Movie: The Flowers of War<br>IMDb Score: 7.6<br>Release Date: 2011<br>Academy Award for Best Actor/Actress: No",
          "Name: Christian Bale<br>Movie: The Dark Knight Rises<br>IMDb Score: 8.5<br>Release Date: 2012<br>Academy Award for Best Actor/Actress: No",
          "Name: Christian Bale<br>Movie: The Dark Knight Rises<br>IMDb Score: 8.5<br>Release Date: 2012<br>Academy Award for Best Actor/Actress: No"
         ],
         "legendgroup": "Christian Bale",
         "marker": {
          "color": "#19D3F3",
          "size": [
           8,
           8,
           8,
           8,
           8,
           8,
           8,
           8,
           8,
           8,
           8,
           8,
           8,
           8,
           8,
           8,
           8,
           8,
           8,
           8,
           15,
           8,
           8,
           8
          ],
          "symbol": [
           "circle",
           "circle",
           "circle",
           "circle",
           "circle",
           "circle",
           "circle",
           "circle",
           "circle",
           "circle",
           "circle",
           "circle",
           "circle",
           "circle",
           "circle",
           "circle",
           "circle",
           "circle",
           "circle",
           "circle",
           "star",
           "circle",
           "circle",
           "circle"
          ]
         },
         "mode": "markers",
         "name": "Christian Bale",
         "showlegend": false,
         "type": "scatter",
         "x": [
          1989,
          1994,
          1995,
          1998,
          2000,
          2000,
          2001,
          2002,
          2002,
          2004,
          2004,
          2005,
          2005,
          2005,
          2006,
          2006,
          2007,
          2008,
          2009,
          2009,
          2010,
          2011,
          2012,
          2012
         ],
         "y": [
          7.7,
          7.3,
          6.6,
          7,
          7.6,
          5.9,
          5.9,
          7.5,
          6.2,
          7.7,
          8.2,
          6.7,
          7,
          8.3,
          8.5,
          7.3,
          7.8,
          9,
          7,
          6.6,
          7.9,
          7.6,
          8.5,
          8.5
         ]
        },
        {
         "hoverinfo": "text",
         "hovertext": [
          "Name: Christoph Waltz<br>Movie: Inglourious Basterds<br>IMDb Score: 8.3<br>Release Date: 2009<br>Academy Award for Best Actor/Actress: Yes",
          "Name: Christoph Waltz<br>Movie: Carnage<br>IMDb Score: 7.2<br>Release Date: 2011<br>Academy Award for Best Actor/Actress: No",
          "Name: Christoph Waltz<br>Movie: The Green Hornet<br>IMDb Score: 5.8<br>Release Date: 2011<br>Academy Award for Best Actor/Actress: No",
          "Name: Christoph Waltz<br>Movie: Water for Elephants<br>IMDb Score: 6.9<br>Release Date: 2011<br>Academy Award for Best Actor/Actress: No",
          "Name: Christoph Waltz<br>Movie: Water for Elephants<br>IMDb Score: 6.9<br>Release Date: 2011<br>Academy Award for Best Actor/Actress: No",
          "Name: Christoph Waltz<br>Movie: The Three Musketeers<br>IMDb Score: 5.8<br>Release Date: 2011<br>Academy Award for Best Actor/Actress: No",
          "Name: Christoph Waltz<br>Movie: Django Unchained<br>IMDb Score: 8.5<br>Release Date: 2012<br>Academy Award for Best Actor/Actress: Yes"
         ],
         "legendgroup": "Christoph Waltz",
         "marker": {
          "color": "#FF6692",
          "size": [
           15,
           8,
           8,
           8,
           8,
           8,
           15
          ],
          "symbol": [
           "star",
           "circle",
           "circle",
           "circle",
           "circle",
           "circle",
           "star"
          ]
         },
         "mode": "markers",
         "name": "Christoph Waltz",
         "showlegend": false,
         "type": "scatter",
         "x": [
          2009,
          2011,
          2011,
          2011,
          2011,
          2011,
          2012
         ],
         "y": [
          8.3,
          7.2,
          5.8,
          6.9,
          6.9,
          5.8,
          8.5
         ]
        },
        {
         "hoverinfo": "text",
         "hovertext": [
          "Name: Christopher Plummer<br>Movie: Somewhere in Time<br>IMDb Score: 7.3<br>Release Date: 1980<br>Academy Award for Best Actor/Actress: No",
          "Name: Christopher Plummer<br>Movie: Star Trek VI: The Undiscovered Country<br>IMDb Score: 7.2<br>Release Date: 1991<br>Academy Award for Best Actor/Actress: No",
          "Name: Christopher Plummer<br>Movie: Malcolm X<br>IMDb Score: 7.7<br>Release Date: 1992<br>Academy Award for Best Actor/Actress: No",
          "Name: Christopher Plummer<br>Movie: Wolf<br>IMDb Score: 6.2<br>Release Date: 1994<br>Academy Award for Best Actor/Actress: No",
          "Name: Christopher Plummer<br>Movie: The Insider<br>IMDb Score: 7.9<br>Release Date: 1999<br>Academy Award for Best Actor/Actress: No",
          "Name: Christopher Plummer<br>Movie: Dracula 2000<br>IMDb Score: 4.9<br>Release Date: 2000<br>Academy Award for Best Actor/Actress: No",
          "Name: Christopher Plummer<br>Movie: A Beautiful Mind<br>IMDb Score: 8.2<br>Release Date: 2001<br>Academy Award for Best Actor/Actress: No",
          "Name: Christopher Plummer<br>Movie: Lucky Break<br>IMDb Score: 6.2<br>Release Date: 2001<br>Academy Award for Best Actor/Actress: No",
          "Name: Christopher Plummer<br>Movie: Ararat<br>IMDb Score: 6.6<br>Release Date: 2002<br>Academy Award for Best Actor/Actress: No",
          "Name: Christopher Plummer<br>Movie: Nicholas Nickleby<br>IMDb Score: 7.2<br>Release Date: 2002<br>Academy Award for Best Actor/Actress: No",
          "Name: Christopher Plummer<br>Movie: National Treasure<br>IMDb Score: 6.9<br>Release Date: 2004<br>Academy Award for Best Actor/Actress: No",
          "Name: Christopher Plummer<br>Movie: Alexander<br>IMDb Score: 5.5<br>Release Date: 2004<br>Academy Award for Best Actor/Actress: No",
          "Name: Christopher Plummer<br>Movie: Syriana<br>IMDb Score: 7.0<br>Release Date: 2005<br>Academy Award for Best Actor/Actress: No",
          "Name: Christopher Plummer<br>Movie: Syriana<br>IMDb Score: 7.0<br>Release Date: 2005<br>Academy Award for Best Actor/Actress: No",
          "Name: Christopher Plummer<br>Movie: Must Love Dogs<br>IMDb Score: 5.9<br>Release Date: 2005<br>Academy Award for Best Actor/Actress: No",
          "Name: Christopher Plummer<br>Movie: The New World<br>IMDb Score: 6.7<br>Release Date: 2005<br>Academy Award for Best Actor/Actress: No",
          "Name: Christopher Plummer<br>Movie: The Lake House<br>IMDb Score: 6.8<br>Release Date: 2006<br>Academy Award for Best Actor/Actress: No",
          "Name: Christopher Plummer<br>Movie: Inside Man<br>IMDb Score: 7.6<br>Release Date: 2006<br>Academy Award for Best Actor/Actress: No",
          "Name: Christopher Plummer<br>Movie: Up<br>IMDb Score: 8.3<br>Release Date: 2009<br>Academy Award for Best Actor/Actress: No",
          "Name: Christopher Plummer<br>Movie: The Last Station<br>IMDb Score: 7.0<br>Release Date: 2009<br>Academy Award for Best Actor/Actress: No",
          "Name: Christopher Plummer<br>Movie: 9<br>IMDb Score: 7.1<br>Release Date: 2009<br>Academy Award for Best Actor/Actress: No",
          "Name: Christopher Plummer<br>Movie: Beginners<br>IMDb Score: 7.2<br>Release Date: 2010<br>Academy Award for Best Actor/Actress: Yes",
          "Name: Christopher Plummer<br>Movie: The Girl with the Dragon Tattoo<br>IMDb Score: 7.8<br>Release Date: 2011<br>Academy Award for Best Actor/Actress: No",
          "Name: Christopher Plummer<br>Movie: Priest<br>IMDb Score: 5.7<br>Release Date: 2011<br>Academy Award for Best Actor/Actress: No"
         ],
         "legendgroup": "Christopher Plummer",
         "marker": {
          "color": "#B6E880",
          "size": [
           8,
           8,
           8,
           8,
           8,
           8,
           8,
           8,
           8,
           8,
           8,
           8,
           8,
           8,
           8,
           8,
           8,
           8,
           8,
           8,
           8,
           15,
           8,
           8
          ],
          "symbol": [
           "circle",
           "circle",
           "circle",
           "circle",
           "circle",
           "circle",
           "circle",
           "circle",
           "circle",
           "circle",
           "circle",
           "circle",
           "circle",
           "circle",
           "circle",
           "circle",
           "circle",
           "circle",
           "circle",
           "circle",
           "circle",
           "star",
           "circle",
           "circle"
          ]
         },
         "mode": "markers",
         "name": "Christopher Plummer",
         "showlegend": false,
         "type": "scatter",
         "x": [
          1980,
          1991,
          1992,
          1994,
          1999,
          2000,
          2001,
          2001,
          2002,
          2002,
          2004,
          2004,
          2005,
          2005,
          2005,
          2005,
          2006,
          2006,
          2009,
          2009,
          2009,
          2010,
          2011,
          2011
         ],
         "y": [
          7.3,
          7.2,
          7.7,
          6.2,
          7.9,
          4.9,
          8.2,
          6.2,
          6.6,
          7.2,
          6.9,
          5.5,
          7,
          7,
          5.9,
          6.7,
          6.8,
          7.6,
          8.3,
          7,
          7.1,
          7.2,
          7.8,
          5.7
         ]
        },
        {
         "hoverinfo": "text",
         "hovertext": [
          "Name: Dianne Wiest<br>Movie: Footloose<br>IMDb Score: 6.5<br>Release Date: 1984<br>Academy Award for Best Actor/Actress: No",
          "Name: Dianne Wiest<br>Movie: Footloose<br>IMDb Score: 6.5<br>Release Date: 1984<br>Academy Award for Best Actor/Actress: No",
          "Name: Dianne Wiest<br>Movie: Radio Days<br>IMDb Score: 7.6<br>Release Date: 1987<br>Academy Award for Best Actor/Actress: No",
          "Name: Dianne Wiest<br>Movie: The Lost Boys<br>IMDb Score: 7.2<br>Release Date: 1987<br>Academy Award for Best Actor/Actress: No",
          "Name: Dianne Wiest<br>Movie: Bright Lights, Big City<br>IMDb Score: 5.6<br>Release Date: 1988<br>Academy Award for Best Actor/Actress: No",
          "Name: Dianne Wiest<br>Movie: Edward Scissorhands<br>IMDb Score: 7.9<br>Release Date: 1990<br>Academy Award for Best Actor/Actress: No",
          "Name: Dianne Wiest<br>Movie: Bullets Over Broadway<br>IMDb Score: 7.5<br>Release Date: 1994<br>Academy Award for Best Actor/Actress: Yes",
          "Name: Dianne Wiest<br>Movie: Practical Magic<br>IMDb Score: 6.1<br>Release Date: 1998<br>Academy Award for Best Actor/Actress: No",
          "Name: Dianne Wiest<br>Movie: The Horse Whisperer<br>IMDb Score: 6.5<br>Release Date: 1998<br>Academy Award for Best Actor/Actress: No",
          "Name: Dianne Wiest<br>Movie: I Am Sam<br>IMDb Score: 7.6<br>Release Date: 2001<br>Academy Award for Best Actor/Actress: No",
          "Name: Dianne Wiest<br>Movie: Synecdoche, New York<br>IMDb Score: 7.5<br>Release Date: 2008<br>Academy Award for Best Actor/Actress: No",
          "Name: Dianne Wiest<br>Movie: Rabbit Hole<br>IMDb Score: 7.0<br>Release Date: 2010<br>Academy Award for Best Actor/Actress: No",
          "Name: Dianne Wiest<br>Movie: The Big Year<br>IMDb Score: 6.2<br>Release Date: 2011<br>Academy Award for Best Actor/Actress: No",
          "Name: Dianne Wiest<br>Movie: The Odd Life of Timothy Green<br>IMDb Score: 6.6<br>Release Date: 2012<br>Academy Award for Best Actor/Actress: No",
          "Name: Dianne Wiest<br>Movie: Darling Companion<br>IMDb Score: 5.1<br>Release Date: 2012<br>Academy Award for Best Actor/Actress: No"
         ],
         "legendgroup": "Dianne Wiest",
         "marker": {
          "color": "#FF97FF",
          "size": [
           8,
           8,
           8,
           8,
           8,
           8,
           15,
           8,
           8,
           8,
           8,
           8,
           8,
           8,
           8
          ],
          "symbol": [
           "circle",
           "circle",
           "circle",
           "circle",
           "circle",
           "circle",
           "star",
           "circle",
           "circle",
           "circle",
           "circle",
           "circle",
           "circle",
           "circle",
           "circle"
          ]
         },
         "mode": "markers",
         "name": "Dianne Wiest",
         "showlegend": false,
         "type": "scatter",
         "x": [
          1984,
          1984,
          1987,
          1987,
          1988,
          1990,
          1994,
          1998,
          1998,
          2001,
          2008,
          2010,
          2011,
          2012,
          2012
         ],
         "y": [
          6.5,
          6.5,
          7.6,
          7.2,
          5.6,
          7.9,
          7.5,
          6.1,
          6.5,
          7.6,
          7.5,
          7,
          6.2,
          6.6,
          5.1
         ]
        },
        {
         "hoverinfo": "text",
         "hovertext": [
          "Name: Gene Hackman<br>Movie: Unforgiven<br>IMDb Score: 8.3<br>Release Date: 1992<br>Academy Award for Best Actor/Actress: Yes",
          "Name: Gene Hackman<br>Movie: The Firm<br>IMDb Score: 6.8<br>Release Date: 1993<br>Academy Award for Best Actor/Actress: No",
          "Name: Gene Hackman<br>Movie: Wyatt Earp<br>IMDb Score: 6.6<br>Release Date: 1994<br>Academy Award for Best Actor/Actress: No",
          "Name: Gene Hackman<br>Movie: The Quick and the Dead<br>IMDb Score: 6.4<br>Release Date: 1995<br>Academy Award for Best Actor/Actress: No",
          "Name: Gene Hackman<br>Movie: Crimson Tide<br>IMDb Score: 7.3<br>Release Date: 1995<br>Academy Award for Best Actor/Actress: No",
          "Name: Gene Hackman<br>Movie: Get Shorty<br>IMDb Score: 6.9<br>Release Date: 1995<br>Academy Award for Best Actor/Actress: No",
          "Name: Gene Hackman<br>Movie: Extreme Measures<br>IMDb Score: 6.1<br>Release Date: 1996<br>Academy Award for Best Actor/Actress: No",
          "Name: Gene Hackman<br>Movie: Absolute Power<br>IMDb Score: 6.7<br>Release Date: 1997<br>Academy Award for Best Actor/Actress: No",
          "Name: Gene Hackman<br>Movie: Antz<br>IMDb Score: 6.6<br>Release Date: 1998<br>Academy Award for Best Actor/Actress: No",
          "Name: Gene Hackman<br>Movie: Enemy of the State<br>IMDb Score: 7.3<br>Release Date: 1998<br>Academy Award for Best Actor/Actress: No",
          "Name: Gene Hackman<br>Movie: The Replacements<br>IMDb Score: 6.5<br>Release Date: 2000<br>Academy Award for Best Actor/Actress: No",
          "Name: Gene Hackman<br>Movie: The Royal Tenenbaums<br>IMDb Score: 7.6<br>Release Date: 2001<br>Academy Award for Best Actor/Actress: No",
          "Name: Gene Hackman<br>Movie: The Mexican<br>IMDb Score: 6.1<br>Release Date: 2001<br>Academy Award for Best Actor/Actress: No",
          "Name: Gene Hackman<br>Movie: Heartbreakers<br>IMDb Score: 6.2<br>Release Date: 2001<br>Academy Award for Best Actor/Actress: No",
          "Name: Gene Hackman<br>Movie: Behind Enemy Lines<br>IMDb Score: 6.4<br>Release Date: 2001<br>Academy Award for Best Actor/Actress: No",
          "Name: Gene Hackman<br>Movie: Welcome to Mooseport<br>IMDb Score: 5.2<br>Release Date: 2004<br>Academy Award for Best Actor/Actress: No"
         ],
         "legendgroup": "Gene Hackman",
         "marker": {
          "color": "#FECB52",
          "size": [
           15,
           8,
           8,
           8,
           8,
           8,
           8,
           8,
           8,
           8,
           8,
           8,
           8,
           8,
           8,
           8
          ],
          "symbol": [
           "star",
           "circle",
           "circle",
           "circle",
           "circle",
           "circle",
           "circle",
           "circle",
           "circle",
           "circle",
           "circle",
           "circle",
           "circle",
           "circle",
           "circle",
           "circle"
          ]
         },
         "mode": "markers",
         "name": "Gene Hackman",
         "showlegend": false,
         "type": "scatter",
         "x": [
          1992,
          1993,
          1994,
          1995,
          1995,
          1995,
          1996,
          1997,
          1998,
          1998,
          2000,
          2001,
          2001,
          2001,
          2001,
          2004
         ],
         "y": [
          8.3,
          6.8,
          6.6,
          6.4,
          7.3,
          6.9,
          6.1,
          6.7,
          6.6,
          7.3,
          6.5,
          7.6,
          6.1,
          6.2,
          6.4,
          5.2
         ]
        },
        {
         "hoverinfo": "text",
         "hovertext": [
          "Name: George Clooney<br>Movie: From Dusk Till Dawn<br>IMDb Score: 7.3<br>Release Date: 1996<br>Academy Award for Best Actor/Actress: No",
          "Name: George Clooney<br>Movie: Batman & Robin<br>IMDb Score: 3.7<br>Release Date: 1997<br>Academy Award for Best Actor/Actress: No",
          "Name: George Clooney<br>Movie: The Peacemaker<br>IMDb Score: 5.9<br>Release Date: 1997<br>Academy Award for Best Actor/Actress: No",
          "Name: George Clooney<br>Movie: The Thin Red Line<br>IMDb Score: 7.6<br>Release Date: 1998<br>Academy Award for Best Actor/Actress: No",
          "Name: George Clooney<br>Movie: Out of Sight<br>IMDb Score: 7.0<br>Release Date: 1998<br>Academy Award for Best Actor/Actress: No",
          "Name: George Clooney<br>Movie: Three Kings<br>IMDb Score: 7.1<br>Release Date: 1999<br>Academy Award for Best Actor/Actress: No",
          "Name: George Clooney<br>Movie: O Brother, Where Art Thou?<br>IMDb Score: 7.8<br>Release Date: 2000<br>Academy Award for Best Actor/Actress: No",
          "Name: George Clooney<br>Movie: The Perfect Storm<br>IMDb Score: 6.4<br>Release Date: 2000<br>Academy Award for Best Actor/Actress: No",
          "Name: George Clooney<br>Movie: Spy Kids<br>IMDb Score: 5.4<br>Release Date: 2001<br>Academy Award for Best Actor/Actress: No",
          "Name: George Clooney<br>Movie: Ocean's Eleven<br>IMDb Score: 7.8<br>Release Date: 2001<br>Academy Award for Best Actor/Actress: No",
          "Name: George Clooney<br>Movie: Confessions of a Dangerous Mind<br>IMDb Score: 7.1<br>Release Date: 2002<br>Academy Award for Best Actor/Actress: No",
          "Name: George Clooney<br>Movie: Welcome to Collinwood<br>IMDb Score: 6.4<br>Release Date: 2002<br>Academy Award for Best Actor/Actress: No",
          "Name: George Clooney<br>Movie: Intolerable Cruelty<br>IMDb Score: 6.3<br>Release Date: 2003<br>Academy Award for Best Actor/Actress: No",
          "Name: George Clooney<br>Movie: Spy Kids 3-D: Game Over<br>IMDb Score: 4.1<br>Release Date: 2003<br>Academy Award for Best Actor/Actress: No",
          "Name: George Clooney<br>Movie: Ocean's Twelve<br>IMDb Score: 6.4<br>Release Date: 2004<br>Academy Award for Best Actor/Actress: No",
          "Name: George Clooney<br>Movie: Good Night, and Good Luck.<br>IMDb Score: 7.5<br>Release Date: 2005<br>Academy Award for Best Actor/Actress: No",
          "Name: George Clooney<br>Movie: Syriana<br>IMDb Score: 7.0<br>Release Date: 2005<br>Academy Award for Best Actor/Actress: Yes",
          "Name: George Clooney<br>Movie: Syriana<br>IMDb Score: 7.0<br>Release Date: 2005<br>Academy Award for Best Actor/Actress: Yes",
          "Name: George Clooney<br>Movie: The Good German<br>IMDb Score: 6.1<br>Release Date: 2006<br>Academy Award for Best Actor/Actress: No",
          "Name: George Clooney<br>Movie: Michael Clayton<br>IMDb Score: 7.3<br>Release Date: 2007<br>Academy Award for Best Actor/Actress: No",
          "Name: George Clooney<br>Movie: Ocean's Thirteen<br>IMDb Score: 6.9<br>Release Date: 2007<br>Academy Award for Best Actor/Actress: No",
          "Name: George Clooney<br>Movie: Leatherheads<br>IMDb Score: 6.0<br>Release Date: 2008<br>Academy Award for Best Actor/Actress: No",
          "Name: George Clooney<br>Movie: Burn After Reading<br>IMDb Score: 7.0<br>Release Date: 2008<br>Academy Award for Best Actor/Actress: No",
          "Name: George Clooney<br>Movie: The Men Who Stare at Goats<br>IMDb Score: 6.2<br>Release Date: 2009<br>Academy Award for Best Actor/Actress: No",
          "Name: George Clooney<br>Movie: Up in the Air<br>IMDb Score: 7.4<br>Release Date: 2009<br>Academy Award for Best Actor/Actress: No",
          "Name: George Clooney<br>Movie: Fantastic Mr. Fox<br>IMDb Score: 7.8<br>Release Date: 2009<br>Academy Award for Best Actor/Actress: No",
          "Name: George Clooney<br>Movie: The American<br>IMDb Score: 6.3<br>Release Date: 2010<br>Academy Award for Best Actor/Actress: No",
          "Name: George Clooney<br>Movie: The Ides of March<br>IMDb Score: 7.1<br>Release Date: 2011<br>Academy Award for Best Actor/Actress: No",
          "Name: George Clooney<br>Movie: The Descendants<br>IMDb Score: 7.3<br>Release Date: 2011<br>Academy Award for Best Actor/Actress: No"
         ],
         "legendgroup": "George Clooney",
         "marker": {
          "color": "#636EFA",
          "size": [
           8,
           8,
           8,
           8,
           8,
           8,
           8,
           8,
           8,
           8,
           8,
           8,
           8,
           8,
           8,
           8,
           15,
           15,
           8,
           8,
           8,
           8,
           8,
           8,
           8,
           8,
           8,
           8,
           8
          ],
          "symbol": [
           "circle",
           "circle",
           "circle",
           "circle",
           "circle",
           "circle",
           "circle",
           "circle",
           "circle",
           "circle",
           "circle",
           "circle",
           "circle",
           "circle",
           "circle",
           "circle",
           "star",
           "star",
           "circle",
           "circle",
           "circle",
           "circle",
           "circle",
           "circle",
           "circle",
           "circle",
           "circle",
           "circle",
           "circle"
          ]
         },
         "mode": "markers",
         "name": "George Clooney",
         "showlegend": false,
         "type": "scatter",
         "x": [
          1996,
          1997,
          1997,
          1998,
          1998,
          1999,
          2000,
          2000,
          2001,
          2001,
          2002,
          2002,
          2003,
          2003,
          2004,
          2005,
          2005,
          2005,
          2006,
          2007,
          2007,
          2008,
          2008,
          2009,
          2009,
          2009,
          2010,
          2011,
          2011
         ],
         "y": [
          7.3,
          3.7,
          5.9,
          7.6,
          7,
          7.1,
          7.8,
          6.4,
          5.4,
          7.8,
          7.1,
          6.4,
          6.3,
          4.1,
          6.4,
          7.5,
          7,
          7,
          6.1,
          7.3,
          6.9,
          6,
          7,
          6.2,
          7.4,
          7.8,
          6.3,
          7.1,
          7.3
         ]
        },
        {
         "hoverinfo": "text",
         "hovertext": [
          "Name: Heath Ledger<br>Movie: 10 Things I Hate About You<br>IMDb Score: 7.2<br>Release Date: 1999<br>Academy Award for Best Actor/Actress: No",
          "Name: Heath Ledger<br>Movie: The Patriot<br>IMDb Score: 7.1<br>Release Date: 2000<br>Academy Award for Best Actor/Actress: No",
          "Name: Heath Ledger<br>Movie: A Knight's Tale<br>IMDb Score: 6.9<br>Release Date: 2001<br>Academy Award for Best Actor/Actress: No",
          "Name: Heath Ledger<br>Movie: Monster's Ball<br>IMDb Score: 7.1<br>Release Date: 2001<br>Academy Award for Best Actor/Actress: No",
          "Name: Heath Ledger<br>Movie: The Four Feathers<br>IMDb Score: 6.5<br>Release Date: 2002<br>Academy Award for Best Actor/Actress: No",
          "Name: Heath Ledger<br>Movie: The Order<br>IMDb Score: 5.1<br>Release Date: 2003<br>Academy Award for Best Actor/Actress: No",
          "Name: Heath Ledger<br>Movie: The Brothers Grimm<br>IMDb Score: 5.9<br>Release Date: 2005<br>Academy Award for Best Actor/Actress: No",
          "Name: Heath Ledger<br>Movie: Lords of Dogtown<br>IMDb Score: 7.1<br>Release Date: 2005<br>Academy Award for Best Actor/Actress: No",
          "Name: Heath Ledger<br>Movie: Brokeback Mountain<br>IMDb Score: 7.7<br>Release Date: 2005<br>Academy Award for Best Actor/Actress: No",
          "Name: Heath Ledger<br>Movie: The Dark Knight<br>IMDb Score: 9.0<br>Release Date: 2008<br>Academy Award for Best Actor/Actress: Yes"
         ],
         "legendgroup": "Heath Ledger",
         "marker": {
          "color": "#EF553B",
          "size": [
           8,
           8,
           8,
           8,
           8,
           8,
           8,
           8,
           8,
           15
          ],
          "symbol": [
           "circle",
           "circle",
           "circle",
           "circle",
           "circle",
           "circle",
           "circle",
           "circle",
           "circle",
           "star"
          ]
         },
         "mode": "markers",
         "name": "Heath Ledger",
         "showlegend": false,
         "type": "scatter",
         "x": [
          1999,
          2000,
          2001,
          2001,
          2002,
          2003,
          2005,
          2005,
          2005,
          2008
         ],
         "y": [
          7.2,
          7.1,
          6.9,
          7.1,
          6.5,
          5.1,
          5.9,
          7.1,
          7.7,
          9
         ]
        },
        {
         "hoverinfo": "text",
         "hovertext": [
          "Name: Javier Bardem<br>Movie: The Sea Inside<br>IMDb Score: 8.1<br>Release Date: 2004<br>Academy Award for Best Actor/Actress: No",
          "Name: Javier Bardem<br>Movie: Collateral<br>IMDb Score: 7.6<br>Release Date: 2004<br>Academy Award for Best Actor/Actress: No",
          "Name: Javier Bardem<br>Movie: No Country for Old Men<br>IMDb Score: 8.1<br>Release Date: 2007<br>Academy Award for Best Actor/Actress: Yes",
          "Name: Javier Bardem<br>Movie: Love in the Time of Cholera<br>IMDb Score: 6.4<br>Release Date: 2007<br>Academy Award for Best Actor/Actress: No",
          "Name: Javier Bardem<br>Movie: Vicky Cristina Barcelona<br>IMDb Score: 7.2<br>Release Date: 2008<br>Academy Award for Best Actor/Actress: No",
          "Name: Javier Bardem<br>Movie: Biutiful<br>IMDb Score: 7.5<br>Release Date: 2010<br>Academy Award for Best Actor/Actress: No",
          "Name: Javier Bardem<br>Movie: Eat Pray Love<br>IMDb Score: 5.7<br>Release Date: 2010<br>Academy Award for Best Actor/Actress: No",
          "Name: Javier Bardem<br>Movie: Skyfall<br>IMDb Score: 7.8<br>Release Date: 2012<br>Academy Award for Best Actor/Actress: No",
          "Name: Javier Bardem<br>Movie: Skyfall<br>IMDb Score: 7.8<br>Release Date: 2012<br>Academy Award for Best Actor/Actress: No"
         ],
         "legendgroup": "Javier Bardem",
         "marker": {
          "color": "#00CC96",
          "size": [
           8,
           8,
           15,
           8,
           8,
           8,
           8,
           8,
           8
          ],
          "symbol": [
           "circle",
           "circle",
           "star",
           "circle",
           "circle",
           "circle",
           "circle",
           "circle",
           "circle"
          ]
         },
         "mode": "markers",
         "name": "Javier Bardem",
         "showlegend": false,
         "type": "scatter",
         "x": [
          2004,
          2004,
          2007,
          2007,
          2008,
          2010,
          2010,
          2012,
          2012
         ],
         "y": [
          8.1,
          7.6,
          8.1,
          6.4,
          7.2,
          7.5,
          5.7,
          7.8,
          7.8
         ]
        },
        {
         "hoverinfo": "text",
         "hovertext": [
          "Name: Jennifer Connelly<br>Movie: Once Upon a Time in America<br>IMDb Score: 8.4<br>Release Date: 1984<br>Academy Award for Best Actor/Actress: No",
          "Name: Jennifer Connelly<br>Movie: Dark City<br>IMDb Score: 7.7<br>Release Date: 1998<br>Academy Award for Best Actor/Actress: No",
          "Name: Jennifer Connelly<br>Movie: Requiem for a Dream<br>IMDb Score: 8.4<br>Release Date: 2000<br>Academy Award for Best Actor/Actress: No",
          "Name: Jennifer Connelly<br>Movie: A Beautiful Mind<br>IMDb Score: 8.2<br>Release Date: 2001<br>Academy Award for Best Actor/Actress: Yes",
          "Name: Jennifer Connelly<br>Movie: House of Sand and Fog<br>IMDb Score: 7.6<br>Release Date: 2003<br>Academy Award for Best Actor/Actress: No",
          "Name: Jennifer Connelly<br>Movie: Hulk<br>IMDb Score: 5.7<br>Release Date: 2003<br>Academy Award for Best Actor/Actress: No",
          "Name: Jennifer Connelly<br>Movie: Dark Water<br>IMDb Score: 5.6<br>Release Date: 2005<br>Academy Award for Best Actor/Actress: No",
          "Name: Jennifer Connelly<br>Movie: Blood Diamond<br>IMDb Score: 8.0<br>Release Date: 2006<br>Academy Award for Best Actor/Actress: No",
          "Name: Jennifer Connelly<br>Movie: Little Children<br>IMDb Score: 7.6<br>Release Date: 2006<br>Academy Award for Best Actor/Actress: No",
          "Name: Jennifer Connelly<br>Movie: Inkheart<br>IMDb Score: 6.1<br>Release Date: 2008<br>Academy Award for Best Actor/Actress: No",
          "Name: Jennifer Connelly<br>Movie: The Day the Earth Stood Still<br>IMDb Score: 5.5<br>Release Date: 2008<br>Academy Award for Best Actor/Actress: No",
          "Name: Jennifer Connelly<br>Movie: The Day the Earth Stood Still<br>IMDb Score: 5.5<br>Release Date: 2008<br>Academy Award for Best Actor/Actress: No",
          "Name: Jennifer Connelly<br>Movie: He's Just Not That Into You<br>IMDb Score: 6.4<br>Release Date: 2009<br>Academy Award for Best Actor/Actress: No",
          "Name: Jennifer Connelly<br>Movie: 9<br>IMDb Score: 7.1<br>Release Date: 2009<br>Academy Award for Best Actor/Actress: No",
          "Name: Jennifer Connelly<br>Movie: The Dilemma<br>IMDb Score: 5.3<br>Release Date: 2011<br>Academy Award for Best Actor/Actress: No",
          "Name: Jennifer Connelly<br>Movie: Salvation Boulevard<br>IMDb Score: 5.3<br>Release Date: 2011<br>Academy Award for Best Actor/Actress: No",
          "Name: Jennifer Connelly<br>Movie: Noah<br>IMDb Score: 5.8<br>Release Date: 2014<br>Academy Award for Best Actor/Actress: No"
         ],
         "legendgroup": "Jennifer Connelly",
         "marker": {
          "color": "#AB63FA",
          "size": [
           8,
           8,
           8,
           15,
           8,
           8,
           8,
           8,
           8,
           8,
           8,
           8,
           8,
           8,
           8,
           8,
           8
          ],
          "symbol": [
           "circle",
           "circle",
           "circle",
           "star",
           "circle",
           "circle",
           "circle",
           "circle",
           "circle",
           "circle",
           "circle",
           "circle",
           "circle",
           "circle",
           "circle",
           "circle",
           "circle"
          ]
         },
         "mode": "markers",
         "name": "Jennifer Connelly",
         "showlegend": false,
         "type": "scatter",
         "x": [
          1984,
          1998,
          2000,
          2001,
          2003,
          2003,
          2005,
          2006,
          2006,
          2008,
          2008,
          2008,
          2009,
          2009,
          2011,
          2011,
          2014
         ],
         "y": [
          8.4,
          7.7,
          8.4,
          8.2,
          7.6,
          5.7,
          5.6,
          8,
          7.6,
          6.1,
          5.5,
          5.5,
          6.4,
          7.1,
          5.3,
          5.3,
          5.8
         ]
        },
        {
         "hoverinfo": "text",
         "hovertext": [
          "Name: Jessica Lange<br>Movie: The Postman Always Rings Twice<br>IMDb Score: 6.6<br>Release Date: 1981<br>Academy Award for Best Actor/Actress: No",
          "Name: Jessica Lange<br>Movie: Tootsie<br>IMDb Score: 7.4<br>Release Date: 1982<br>Academy Award for Best Actor/Actress: Yes",
          "Name: Jessica Lange<br>Movie: Cape Fear<br>IMDb Score: 7.3<br>Release Date: 1991<br>Academy Award for Best Actor/Actress: No",
          "Name: Jessica Lange<br>Movie: Rob Roy<br>IMDb Score: 6.9<br>Release Date: 1995<br>Academy Award for Best Actor/Actress: No",
          "Name: Jessica Lange<br>Movie: The Vow<br>IMDb Score: 6.8<br>Release Date: 2012<br>Academy Award for Best Actor/Actress: No"
         ],
         "legendgroup": "Jessica Lange",
         "marker": {
          "color": "#FFA15A",
          "size": [
           8,
           15,
           8,
           8,
           8
          ],
          "symbol": [
           "circle",
           "star",
           "circle",
           "circle",
           "circle"
          ]
         },
         "mode": "markers",
         "name": "Jessica Lange",
         "showlegend": false,
         "type": "scatter",
         "x": [
          1981,
          1982,
          1991,
          1995,
          2012
         ],
         "y": [
          6.6,
          7.4,
          7.3,
          6.9,
          6.8
         ]
        },
        {
         "hoverinfo": "text",
         "hovertext": [
          "Name: Jim Broadbent<br>Movie: Time Bandits<br>IMDb Score: 7.0<br>Release Date: 1981<br>Academy Award for Best Actor/Actress: No",
          "Name: Jim Broadbent<br>Movie: Brazil<br>IMDb Score: 8.0<br>Release Date: 1985<br>Academy Award for Best Actor/Actress: No",
          "Name: Jim Broadbent<br>Movie: The Crying Game<br>IMDb Score: 7.3<br>Release Date: 1992<br>Academy Award for Best Actor/Actress: No",
          "Name: Jim Broadbent<br>Movie: Bullets Over Broadway<br>IMDb Score: 7.5<br>Release Date: 1994<br>Academy Award for Best Actor/Actress: No",
          "Name: Jim Broadbent<br>Movie: Richard III<br>IMDb Score: 7.5<br>Release Date: 1995<br>Academy Award for Best Actor/Actress: No",
          "Name: Jim Broadbent<br>Movie: Smilla's Sense of Snow<br>IMDb Score: 6.4<br>Release Date: 1997<br>Academy Award for Best Actor/Actress: No",
          "Name: Jim Broadbent<br>Movie: The Borrowers<br>IMDb Score: 5.8<br>Release Date: 1997<br>Academy Award for Best Actor/Actress: No",
          "Name: Jim Broadbent<br>Movie: Little Voice<br>IMDb Score: 7.0<br>Release Date: 1998<br>Academy Award for Best Actor/Actress: No",
          "Name: Jim Broadbent<br>Movie: Iris<br>IMDb Score: 7.1<br>Release Date: 2001<br>Academy Award for Best Actor/Actress: Yes",
          "Name: Jim Broadbent<br>Movie: Bridget Jones's Diary<br>IMDb Score: 6.7<br>Release Date: 2001<br>Academy Award for Best Actor/Actress: No",
          "Name: Jim Broadbent<br>Movie: Gangs of New York<br>IMDb Score: 7.5<br>Release Date: 2002<br>Academy Award for Best Actor/Actress: No",
          "Name: Jim Broadbent<br>Movie: Nicholas Nickleby<br>IMDb Score: 7.2<br>Release Date: 2002<br>Academy Award for Best Actor/Actress: No",
          "Name: Jim Broadbent<br>Movie: Vanity Fair<br>IMDb Score: 6.2<br>Release Date: 2004<br>Academy Award for Best Actor/Actress: No",
          "Name: Jim Broadbent<br>Movie: Vera Drake<br>IMDb Score: 7.7<br>Release Date: 2004<br>Academy Award for Best Actor/Actress: No",
          "Name: Jim Broadbent<br>Movie: Bridget Jones: The Edge of Reason<br>IMDb Score: 5.9<br>Release Date: 2004<br>Academy Award for Best Actor/Actress: No",
          "Name: Jim Broadbent<br>Movie: Around the World in 80 Days<br>IMDb Score: 5.8<br>Release Date: 2004<br>Academy Award for Best Actor/Actress: No",
          "Name: Jim Broadbent<br>Movie: Around the World in 80 Days<br>IMDb Score: 5.8<br>Release Date: 2004<br>Academy Award for Best Actor/Actress: No",
          "Name: Jim Broadbent<br>Movie: Valiant<br>IMDb Score: 5.6<br>Release Date: 2005<br>Academy Award for Best Actor/Actress: No",
          "Name: Jim Broadbent<br>Movie: The Chronicles of Narnia: The Lion, the Witch and the Wardrobe<br>IMDb Score: 6.9<br>Release Date: 2005<br>Academy Award for Best Actor/Actress: No",
          "Name: Jim Broadbent<br>Movie: When Did You Last See Your Father?<br>IMDb Score: 6.9<br>Release Date: 2007<br>Academy Award for Best Actor/Actress: No",
          "Name: Jim Broadbent<br>Movie: Hot Fuzz<br>IMDb Score: 7.9<br>Release Date: 2007<br>Academy Award for Best Actor/Actress: No",
          "Name: Jim Broadbent<br>Movie: Indiana Jones and the Kingdom of the Crystal Skull<br>IMDb Score: 6.2<br>Release Date: 2008<br>Academy Award for Best Actor/Actress: No",
          "Name: Jim Broadbent<br>Movie: Inkheart<br>IMDb Score: 6.1<br>Release Date: 2008<br>Academy Award for Best Actor/Actress: No",
          "Name: Jim Broadbent<br>Movie: Harry Potter and the Half-Blood Prince<br>IMDb Score: 7.5<br>Release Date: 2009<br>Academy Award for Best Actor/Actress: No",
          "Name: Jim Broadbent<br>Movie: The Damned United<br>IMDb Score: 7.6<br>Release Date: 2009<br>Academy Award for Best Actor/Actress: No",
          "Name: Jim Broadbent<br>Movie: The Young Victoria<br>IMDb Score: 7.3<br>Release Date: 2009<br>Academy Award for Best Actor/Actress: No",
          "Name: Jim Broadbent<br>Movie: Animals United<br>IMDb Score: 4.9<br>Release Date: 2010<br>Academy Award for Best Actor/Actress: No",
          "Name: Jim Broadbent<br>Movie: Another Year<br>IMDb Score: 7.3<br>Release Date: 2010<br>Academy Award for Best Actor/Actress: No",
          "Name: Jim Broadbent<br>Movie: The Iron Lady<br>IMDb Score: 6.4<br>Release Date: 2011<br>Academy Award for Best Actor/Actress: No",
          "Name: Jim Broadbent<br>Movie: Arthur Christmas<br>IMDb Score: 7.1<br>Release Date: 2011<br>Academy Award for Best Actor/Actress: No",
          "Name: Jim Broadbent<br>Movie: Cloud Atlas<br>IMDb Score: 7.5<br>Release Date: 2012<br>Academy Award for Best Actor/Actress: No",
          "Name: Jim Broadbent<br>Movie: Cloud Atlas<br>IMDb Score: 7.5<br>Release Date: 2012<br>Academy Award for Best Actor/Actress: No",
          "Name: Jim Broadbent<br>Movie: Cloud Atlas<br>IMDb Score: 7.5<br>Release Date: 2012<br>Academy Award for Best Actor/Actress: No"
         ],
         "legendgroup": "Jim Broadbent",
         "marker": {
          "color": "#19D3F3",
          "size": [
           8,
           8,
           8,
           8,
           8,
           8,
           8,
           8,
           15,
           8,
           8,
           8,
           8,
           8,
           8,
           8,
           8,
           8,
           8,
           8,
           8,
           8,
           8,
           8,
           8,
           8,
           8,
           8,
           8,
           8,
           8,
           8,
           8
          ],
          "symbol": [
           "circle",
           "circle",
           "circle",
           "circle",
           "circle",
           "circle",
           "circle",
           "circle",
           "star",
           "circle",
           "circle",
           "circle",
           "circle",
           "circle",
           "circle",
           "circle",
           "circle",
           "circle",
           "circle",
           "circle",
           "circle",
           "circle",
           "circle",
           "circle",
           "circle",
           "circle",
           "circle",
           "circle",
           "circle",
           "circle",
           "circle",
           "circle",
           "circle"
          ]
         },
         "mode": "markers",
         "name": "Jim Broadbent",
         "showlegend": false,
         "type": "scatter",
         "x": [
          1981,
          1985,
          1992,
          1994,
          1995,
          1997,
          1997,
          1998,
          2001,
          2001,
          2002,
          2002,
          2004,
          2004,
          2004,
          2004,
          2004,
          2005,
          2005,
          2007,
          2007,
          2008,
          2008,
          2009,
          2009,
          2009,
          2010,
          2010,
          2011,
          2011,
          2012,
          2012,
          2012
         ],
         "y": [
          7,
          8,
          7.3,
          7.5,
          7.5,
          6.4,
          5.8,
          7,
          7.1,
          6.7,
          7.5,
          7.2,
          6.2,
          7.7,
          5.9,
          5.8,
          5.8,
          5.6,
          6.9,
          6.9,
          7.9,
          6.2,
          6.1,
          7.5,
          7.6,
          7.3,
          4.9,
          7.3,
          6.4,
          7.1,
          7.5,
          7.5,
          7.5
         ]
        },
        {
         "hoverinfo": "text",
         "hovertext": [
          "Name: Joe Pesci<br>Movie: Raging Bull<br>IMDb Score: 8.3<br>Release Date: 1980<br>Academy Award for Best Actor/Actress: No",
          "Name: Joe Pesci<br>Movie: Once Upon a Time in America<br>IMDb Score: 8.4<br>Release Date: 1984<br>Academy Award for Best Actor/Actress: No",
          "Name: Joe Pesci<br>Movie: Home Alone<br>IMDb Score: 7.5<br>Release Date: 1990<br>Academy Award for Best Actor/Actress: No",
          "Name: Joe Pesci<br>Movie: Goodfellas<br>IMDb Score: 8.7<br>Release Date: 1990<br>Academy Award for Best Actor/Actress: Yes",
          "Name: Joe Pesci<br>Movie: JFK<br>IMDb Score: 8.0<br>Release Date: 1991<br>Academy Award for Best Actor/Actress: No",
          "Name: Joe Pesci<br>Movie: My Cousin Vinny<br>IMDb Score: 7.5<br>Release Date: 1992<br>Academy Award for Best Actor/Actress: No",
          "Name: Joe Pesci<br>Movie: Lethal Weapon 3<br>IMDb Score: 6.7<br>Release Date: 1992<br>Academy Award for Best Actor/Actress: No",
          "Name: Joe Pesci<br>Movie: Home Alone 2: Lost in New York<br>IMDb Score: 6.6<br>Release Date: 1992<br>Academy Award for Best Actor/Actress: No",
          "Name: Joe Pesci<br>Movie: Casino<br>IMDb Score: 8.2<br>Release Date: 1995<br>Academy Award for Best Actor/Actress: No",
          "Name: Joe Pesci<br>Movie: 8 Heads in a Duffel Bag<br>IMDb Score: 5.3<br>Release Date: 1997<br>Academy Award for Best Actor/Actress: No",
          "Name: Joe Pesci<br>Movie: Lethal Weapon 4<br>IMDb Score: 6.6<br>Release Date: 1998<br>Academy Award for Best Actor/Actress: No"
         ],
         "legendgroup": "Joe Pesci",
         "marker": {
          "color": "#FF6692",
          "size": [
           8,
           8,
           8,
           15,
           8,
           8,
           8,
           8,
           8,
           8,
           8
          ],
          "symbol": [
           "circle",
           "circle",
           "circle",
           "star",
           "circle",
           "circle",
           "circle",
           "circle",
           "circle",
           "circle",
           "circle"
          ]
         },
         "mode": "markers",
         "name": "Joe Pesci",
         "showlegend": false,
         "type": "scatter",
         "x": [
          1980,
          1984,
          1990,
          1990,
          1991,
          1992,
          1992,
          1992,
          1995,
          1997,
          1998
         ],
         "y": [
          8.3,
          8.4,
          7.5,
          8.7,
          8,
          7.5,
          6.7,
          6.6,
          8.2,
          5.3,
          6.6
         ]
        },
        {
         "hoverinfo": "text",
         "hovertext": [
          "Name: Judi Dench<br>Movie: A Room with a View<br>IMDb Score: 7.4<br>Release Date: 1985<br>Academy Award for Best Actor/Actress: No",
          "Name: Judi Dench<br>Movie: Henry V<br>IMDb Score: 7.7<br>Release Date: 1989<br>Academy Award for Best Actor/Actress: No",
          "Name: Judi Dench<br>Movie: GoldenEye<br>IMDb Score: 7.2<br>Release Date: 1995<br>Academy Award for Best Actor/Actress: No",
          "Name: Judi Dench<br>Movie: Hamlet<br>IMDb Score: 7.8<br>Release Date: 1996<br>Academy Award for Best Actor/Actress: No",
          "Name: Judi Dench<br>Movie: Hamlet<br>IMDb Score: 7.8<br>Release Date: 1996<br>Academy Award for Best Actor/Actress: No",
          "Name: Judi Dench<br>Movie: Tomorrow Never Dies<br>IMDb Score: 6.5<br>Release Date: 1997<br>Academy Award for Best Actor/Actress: No",
          "Name: Judi Dench<br>Movie: Shakespeare in Love<br>IMDb Score: 7.2<br>Release Date: 1998<br>Academy Award for Best Actor/Actress: Yes",
          "Name: Judi Dench<br>Movie: The World Is Not Enough<br>IMDb Score: 6.4<br>Release Date: 1999<br>Academy Award for Best Actor/Actress: No",
          "Name: Judi Dench<br>Movie: Chocolat<br>IMDb Score: 7.3<br>Release Date: 2000<br>Academy Award for Best Actor/Actress: No",
          "Name: Judi Dench<br>Movie: Iris<br>IMDb Score: 7.1<br>Release Date: 2001<br>Academy Award for Best Actor/Actress: No",
          "Name: Judi Dench<br>Movie: The Shipping News<br>IMDb Score: 6.8<br>Release Date: 2001<br>Academy Award for Best Actor/Actress: No",
          "Name: Judi Dench<br>Movie: Die Another Day<br>IMDb Score: 6.1<br>Release Date: 2002<br>Academy Award for Best Actor/Actress: No",
          "Name: Judi Dench<br>Movie: The Importance of Being Earnest<br>IMDb Score: 6.9<br>Release Date: 2002<br>Academy Award for Best Actor/Actress: No",
          "Name: Judi Dench<br>Movie: The Chronicles of Riddick<br>IMDb Score: 6.7<br>Release Date: 2004<br>Academy Award for Best Actor/Actress: No",
          "Name: Judi Dench<br>Movie: Home on the Range<br>IMDb Score: 5.4<br>Release Date: 2004<br>Academy Award for Best Actor/Actress: No",
          "Name: Judi Dench<br>Movie: Pride & Prejudice<br>IMDb Score: 7.8<br>Release Date: 2005<br>Academy Award for Best Actor/Actress: No",
          "Name: Judi Dench<br>Movie: Casino Royale<br>IMDb Score: 8.0<br>Release Date: 2006<br>Academy Award for Best Actor/Actress: No",
          "Name: Judi Dench<br>Movie: Casino Royale<br>IMDb Score: 8.0<br>Release Date: 2006<br>Academy Award for Best Actor/Actress: No",
          "Name: Judi Dench<br>Movie: Notes on a Scandal<br>IMDb Score: 7.4<br>Release Date: 2006<br>Academy Award for Best Actor/Actress: No",
          "Name: Judi Dench<br>Movie: Quantum of Solace<br>IMDb Score: 6.7<br>Release Date: 2008<br>Academy Award for Best Actor/Actress: No",
          "Name: Judi Dench<br>Movie: Nine<br>IMDb Score: 5.8<br>Release Date: 2009<br>Academy Award for Best Actor/Actress: No",
          "Name: Judi Dench<br>Movie: The Best Exotic Marigold Hotel<br>IMDb Score: 7.3<br>Release Date: 2011<br>Academy Award for Best Actor/Actress: No",
          "Name: Judi Dench<br>Movie: My Week with Marilyn<br>IMDb Score: 7.0<br>Release Date: 2011<br>Academy Award for Best Actor/Actress: No",
          "Name: Judi Dench<br>Movie: J. Edgar<br>IMDb Score: 6.6<br>Release Date: 2011<br>Academy Award for Best Actor/Actress: No",
          "Name: Judi Dench<br>Movie: Skyfall<br>IMDb Score: 7.8<br>Release Date: 2012<br>Academy Award for Best Actor/Actress: No",
          "Name: Judi Dench<br>Movie: Skyfall<br>IMDb Score: 7.8<br>Release Date: 2012<br>Academy Award for Best Actor/Actress: No"
         ],
         "legendgroup": "Judi Dench",
         "marker": {
          "color": "#B6E880",
          "size": [
           8,
           8,
           8,
           8,
           8,
           8,
           15,
           8,
           8,
           8,
           8,
           8,
           8,
           8,
           8,
           8,
           8,
           8,
           8,
           8,
           8,
           8,
           8,
           8,
           8,
           8
          ],
          "symbol": [
           "circle",
           "circle",
           "circle",
           "circle",
           "circle",
           "circle",
           "star",
           "circle",
           "circle",
           "circle",
           "circle",
           "circle",
           "circle",
           "circle",
           "circle",
           "circle",
           "circle",
           "circle",
           "circle",
           "circle",
           "circle",
           "circle",
           "circle",
           "circle",
           "circle",
           "circle"
          ]
         },
         "mode": "markers",
         "name": "Judi Dench",
         "showlegend": false,
         "type": "scatter",
         "x": [
          1985,
          1989,
          1995,
          1996,
          1996,
          1997,
          1998,
          1999,
          2000,
          2001,
          2001,
          2002,
          2002,
          2004,
          2004,
          2005,
          2006,
          2006,
          2006,
          2008,
          2009,
          2011,
          2011,
          2011,
          2012,
          2012
         ],
         "y": [
          7.4,
          7.7,
          7.2,
          7.8,
          7.8,
          6.5,
          7.2,
          6.4,
          7.3,
          7.1,
          6.8,
          6.1,
          6.9,
          6.7,
          5.4,
          7.8,
          8,
          8,
          7.4,
          6.7,
          5.8,
          7.3,
          7,
          6.6,
          7.8,
          7.8
         ]
        },
        {
         "hoverinfo": "text",
         "hovertext": [
          "Name: Juliette Binoche<br>Movie: The Horseman on the Roof<br>IMDb Score: 7.1<br>Release Date: 1995<br>Academy Award for Best Actor/Actress: No",
          "Name: Juliette Binoche<br>Movie: The English Patient<br>IMDb Score: 7.4<br>Release Date: 1996<br>Academy Award for Best Actor/Actress: Yes",
          "Name: Juliette Binoche<br>Movie: Chocolat<br>IMDb Score: 7.3<br>Release Date: 2000<br>Academy Award for Best Actor/Actress: No",
          "Name: Juliette Binoche<br>Movie: Paris, je t'aime<br>IMDb Score: 7.3<br>Release Date: 2006<br>Academy Award for Best Actor/Actress: No",
          "Name: Juliette Binoche<br>Movie: The Son of No One<br>IMDb Score: 5.1<br>Release Date: 2011<br>Academy Award for Best Actor/Actress: No"
         ],
         "legendgroup": "Juliette Binoche",
         "marker": {
          "color": "#FF97FF",
          "size": [
           8,
           15,
           8,
           8,
           8
          ],
          "symbol": [
           "circle",
           "star",
           "circle",
           "circle",
           "circle"
          ]
         },
         "mode": "markers",
         "name": "Juliette Binoche",
         "showlegend": false,
         "type": "scatter",
         "x": [
          1995,
          1996,
          2000,
          2006,
          2011
         ],
         "y": [
          7.1,
          7.4,
          7.3,
          7.3,
          5.1
         ]
        },
        {
         "hoverinfo": "text",
         "hovertext": [
          "Name: Kim Basinger<br>Movie: 9½ Weeks<br>IMDb Score: 5.9<br>Release Date: 1986<br>Academy Award for Best Actor/Actress: No",
          "Name: Kim Basinger<br>Movie: My Stepmother Is an Alien<br>IMDb Score: 5.2<br>Release Date: 1988<br>Academy Award for Best Actor/Actress: No",
          "Name: Kim Basinger<br>Movie: Batman<br>IMDb Score: 7.6<br>Release Date: 1989<br>Academy Award for Best Actor/Actress: No",
          "Name: Kim Basinger<br>Movie: L.A. Confidential<br>IMDb Score: 8.3<br>Release Date: 1997<br>Academy Award for Best Actor/Actress: Yes",
          "Name: Kim Basinger<br>Movie: The Newton Boys<br>IMDb Score: 6.0<br>Release Date: 1998<br>Academy Award for Best Actor/Actress: No",
          "Name: Kim Basinger<br>Movie: Bless the Child<br>IMDb Score: 5.1<br>Release Date: 2000<br>Academy Award for Best Actor/Actress: No",
          "Name: Kim Basinger<br>Movie: I Dreamed of Africa<br>IMDb Score: 5.6<br>Release Date: 2000<br>Academy Award for Best Actor/Actress: No",
          "Name: Kim Basinger<br>Movie: 8 Mile<br>IMDb Score: 7.0<br>Release Date: 2002<br>Academy Award for Best Actor/Actress: No",
          "Name: Kim Basinger<br>Movie: People I Know<br>IMDb Score: 5.5<br>Release Date: 2002<br>Academy Award for Best Actor/Actress: No",
          "Name: Kim Basinger<br>Movie: Cellular<br>IMDb Score: 6.5<br>Release Date: 2004<br>Academy Award for Best Actor/Actress: No",
          "Name: Kim Basinger<br>Movie: The Sentinel<br>IMDb Score: 6.1<br>Release Date: 2006<br>Academy Award for Best Actor/Actress: No",
          "Name: Kim Basinger<br>Movie: Charlie St. Cloud<br>IMDb Score: 6.5<br>Release Date: 2010<br>Academy Award for Best Actor/Actress: No"
         ],
         "legendgroup": "Kim Basinger",
         "marker": {
          "color": "#FECB52",
          "size": [
           8,
           8,
           8,
           15,
           8,
           8,
           8,
           8,
           8,
           8,
           8,
           8
          ],
          "symbol": [
           "circle",
           "circle",
           "circle",
           "star",
           "circle",
           "circle",
           "circle",
           "circle",
           "circle",
           "circle",
           "circle",
           "circle"
          ]
         },
         "mode": "markers",
         "name": "Kim Basinger",
         "showlegend": false,
         "type": "scatter",
         "x": [
          1986,
          1988,
          1989,
          1997,
          1998,
          2000,
          2000,
          2002,
          2002,
          2004,
          2006,
          2010
         ],
         "y": [
          5.9,
          5.2,
          7.6,
          8.3,
          6,
          5.1,
          5.6,
          7,
          5.5,
          6.5,
          6.1,
          6.5
         ]
        },
        {
         "hoverinfo": "text",
         "hovertext": [
          "Name: Marisa Tomei<br>Movie: My Cousin Vinny<br>IMDb Score: 7.5<br>Release Date: 1992<br>Academy Award for Best Actor/Actress: Yes",
          "Name: Marisa Tomei<br>Movie: The Perez Family<br>IMDb Score: 6.2<br>Release Date: 1995<br>Academy Award for Best Actor/Actress: No",
          "Name: Marisa Tomei<br>Movie: Four Rooms<br>IMDb Score: 6.7<br>Release Date: 1995<br>Academy Award for Best Actor/Actress: No",
          "Name: Marisa Tomei<br>Movie: Slums of Beverly Hills<br>IMDb Score: 6.6<br>Release Date: 1998<br>Academy Award for Best Actor/Actress: No",
          "Name: Marisa Tomei<br>Movie: The Newton Boys<br>IMDb Score: 6.0<br>Release Date: 1998<br>Academy Award for Best Actor/Actress: No",
          "Name: Marisa Tomei<br>Movie: What Women Want<br>IMDb Score: 6.4<br>Release Date: 2000<br>Academy Award for Best Actor/Actress: No",
          "Name: Marisa Tomei<br>Movie: The Watcher<br>IMDb Score: 5.3<br>Release Date: 2000<br>Academy Award for Best Actor/Actress: No",
          "Name: Marisa Tomei<br>Movie: In the Bedroom<br>IMDb Score: 7.5<br>Release Date: 2001<br>Academy Award for Best Actor/Actress: No",
          "Name: Marisa Tomei<br>Movie: The Guru<br>IMDb Score: 5.4<br>Release Date: 2002<br>Academy Award for Best Actor/Actress: No",
          "Name: Marisa Tomei<br>Movie: Alfie<br>IMDb Score: 6.2<br>Release Date: 2004<br>Academy Award for Best Actor/Actress: No",
          "Name: Marisa Tomei<br>Movie: Wild Hogs<br>IMDb Score: 5.9<br>Release Date: 2007<br>Academy Award for Best Actor/Actress: No",
          "Name: Marisa Tomei<br>Movie: The Wrestler<br>IMDb Score: 7.9<br>Release Date: 2008<br>Academy Award for Best Actor/Actress: No",
          "Name: Marisa Tomei<br>Movie: Cyrus<br>IMDb Score: 6.3<br>Release Date: 2010<br>Academy Award for Best Actor/Actress: No",
          "Name: Marisa Tomei<br>Movie: Crazy, Stupid, Love.<br>IMDb Score: 7.4<br>Release Date: 2011<br>Academy Award for Best Actor/Actress: No",
          "Name: Marisa Tomei<br>Movie: Salvation Boulevard<br>IMDb Score: 5.3<br>Release Date: 2011<br>Academy Award for Best Actor/Actress: No",
          "Name: Marisa Tomei<br>Movie: The Ides of March<br>IMDb Score: 7.1<br>Release Date: 2011<br>Academy Award for Best Actor/Actress: No",
          "Name: Marisa Tomei<br>Movie: The Lincoln Lawyer<br>IMDb Score: 7.3<br>Release Date: 2011<br>Academy Award for Best Actor/Actress: No",
          "Name: Marisa Tomei<br>Movie: Parental Guidance<br>IMDb Score: 6.1<br>Release Date: 2012<br>Academy Award for Best Actor/Actress: No"
         ],
         "legendgroup": "Marisa Tomei",
         "marker": {
          "color": "#636EFA",
          "size": [
           15,
           8,
           8,
           8,
           8,
           8,
           8,
           8,
           8,
           8,
           8,
           8,
           8,
           8,
           8,
           8,
           8,
           8
          ],
          "symbol": [
           "star",
           "circle",
           "circle",
           "circle",
           "circle",
           "circle",
           "circle",
           "circle",
           "circle",
           "circle",
           "circle",
           "circle",
           "circle",
           "circle",
           "circle",
           "circle",
           "circle",
           "circle"
          ]
         },
         "mode": "markers",
         "name": "Marisa Tomei",
         "showlegend": false,
         "type": "scatter",
         "x": [
          1992,
          1995,
          1995,
          1998,
          1998,
          2000,
          2000,
          2001,
          2002,
          2004,
          2007,
          2008,
          2010,
          2011,
          2011,
          2011,
          2011,
          2012
         ],
         "y": [
          7.5,
          6.2,
          6.7,
          6.6,
          6,
          6.4,
          5.3,
          7.5,
          5.4,
          6.2,
          5.9,
          7.9,
          6.3,
          7.4,
          5.3,
          7.1,
          7.3,
          6.1
         ]
        },
        {
         "hoverinfo": "text",
         "hovertext": [
          "Name: Martin Landau<br>Movie: Ed Wood<br>IMDb Score: 7.9<br>Release Date: 1994<br>Academy Award for Best Actor/Actress: Yes",
          "Name: Martin Landau<br>Movie: The Adventures of Pinocchio<br>IMDb Score: 5.3<br>Release Date: 1996<br>Academy Award for Best Actor/Actress: No",
          "Name: Martin Landau<br>Movie: Rounders<br>IMDb Score: 7.4<br>Release Date: 1998<br>Academy Award for Best Actor/Actress: No",
          "Name: Martin Landau<br>Movie: The X Files<br>IMDb Score: 7.0<br>Release Date: 1998<br>Academy Award for Best Actor/Actress: No",
          "Name: Martin Landau<br>Movie: Ready to Rumble<br>IMDb Score: 5.3<br>Release Date: 2000<br>Academy Award for Best Actor/Actress: No",
          "Name: Martin Landau<br>Movie: The Majestic<br>IMDb Score: 6.9<br>Release Date: 2001<br>Academy Award for Best Actor/Actress: No",
          "Name: Martin Landau<br>Movie: Hollywood Homicide<br>IMDb Score: 5.3<br>Release Date: 2003<br>Academy Award for Best Actor/Actress: No",
          "Name: Martin Landau<br>Movie: City of Ember<br>IMDb Score: 6.5<br>Release Date: 2008<br>Academy Award for Best Actor/Actress: No",
          "Name: Martin Landau<br>Movie: 9<br>IMDb Score: 7.1<br>Release Date: 2009<br>Academy Award for Best Actor/Actress: No",
          "Name: Martin Landau<br>Movie: Frankenweenie<br>IMDb Score: 7.0<br>Release Date: 2012<br>Academy Award for Best Actor/Actress: No"
         ],
         "legendgroup": "Martin Landau",
         "marker": {
          "color": "#EF553B",
          "size": [
           15,
           8,
           8,
           8,
           8,
           8,
           8,
           8,
           8,
           8
          ],
          "symbol": [
           "star",
           "circle",
           "circle",
           "circle",
           "circle",
           "circle",
           "circle",
           "circle",
           "circle",
           "circle"
          ]
         },
         "mode": "markers",
         "name": "Martin Landau",
         "showlegend": false,
         "type": "scatter",
         "x": [
          1994,
          1996,
          1998,
          1998,
          2000,
          2001,
          2003,
          2008,
          2009,
          2012
         ],
         "y": [
          7.9,
          5.3,
          7.4,
          7,
          5.3,
          6.9,
          5.3,
          6.5,
          7.1,
          7
         ]
        },
        {
         "hoverinfo": "text",
         "hovertext": [
          "Name: Melissa Leo<br>Movie: 21 Grams<br>IMDb Score: 7.7<br>Release Date: 2003<br>Academy Award for Best Actor/Actress: No",
          "Name: Melissa Leo<br>Movie: Hide and Seek<br>IMDb Score: 5.9<br>Release Date: 2005<br>Academy Award for Best Actor/Actress: No",
          "Name: Melissa Leo<br>Movie: Frozen River<br>IMDb Score: 7.2<br>Release Date: 2008<br>Academy Award for Best Actor/Actress: No",
          "Name: Melissa Leo<br>Movie: Righteous Kill<br>IMDb Score: 6.0<br>Release Date: 2008<br>Academy Award for Best Actor/Actress: No",
          "Name: Melissa Leo<br>Movie: Veronika Decides to Die<br>IMDb Score: 6.5<br>Release Date: 2009<br>Academy Award for Best Actor/Actress: No",
          "Name: Melissa Leo<br>Movie: Everybody's Fine<br>IMDb Score: 7.2<br>Release Date: 2009<br>Academy Award for Best Actor/Actress: No",
          "Name: Melissa Leo<br>Movie: Welcome to the Rileys<br>IMDb Score: 7.0<br>Release Date: 2010<br>Academy Award for Best Actor/Actress: No",
          "Name: Melissa Leo<br>Movie: The Fighter<br>IMDb Score: 7.9<br>Release Date: 2010<br>Academy Award for Best Actor/Actress: Yes",
          "Name: Melissa Leo<br>Movie: Flight<br>IMDb Score: 7.3<br>Release Date: 2012<br>Academy Award for Best Actor/Actress: No"
         ],
         "legendgroup": "Melissa Leo",
         "marker": {
          "color": "#00CC96",
          "size": [
           8,
           8,
           8,
           8,
           8,
           8,
           8,
           15,
           8
          ],
          "symbol": [
           "circle",
           "circle",
           "circle",
           "circle",
           "circle",
           "circle",
           "circle",
           "star",
           "circle"
          ]
         },
         "mode": "markers",
         "name": "Melissa Leo",
         "showlegend": false,
         "type": "scatter",
         "x": [
          2003,
          2005,
          2008,
          2008,
          2009,
          2009,
          2010,
          2010,
          2012
         ],
         "y": [
          7.7,
          5.9,
          7.2,
          6,
          6.5,
          7.2,
          7,
          7.9,
          7.3
         ]
        },
        {
         "hoverinfo": "text",
         "hovertext": [
          "Name: Morgan Freeman<br>Movie: Driving Miss Daisy<br>IMDb Score: 7.4<br>Release Date: 1989<br>Academy Award for Best Actor/Actress: No",
          "Name: Morgan Freeman<br>Movie: Robin Hood: Prince of Thieves<br>IMDb Score: 6.9<br>Release Date: 1991<br>Academy Award for Best Actor/Actress: No",
          "Name: Morgan Freeman<br>Movie: Unforgiven<br>IMDb Score: 8.3<br>Release Date: 1992<br>Academy Award for Best Actor/Actress: No",
          "Name: Morgan Freeman<br>Movie: The Shawshank Redemption<br>IMDb Score: 9.3<br>Release Date: 1994<br>Academy Award for Best Actor/Actress: No",
          "Name: Morgan Freeman<br>Movie: Outbreak<br>IMDb Score: 6.6<br>Release Date: 1995<br>Academy Award for Best Actor/Actress: No",
          "Name: Morgan Freeman<br>Movie: Chain Reaction<br>IMDb Score: 5.6<br>Release Date: 1996<br>Academy Award for Best Actor/Actress: No",
          "Name: Morgan Freeman<br>Movie: Amistad<br>IMDb Score: 7.2<br>Release Date: 1997<br>Academy Award for Best Actor/Actress: No",
          "Name: Morgan Freeman<br>Movie: Kiss the Girls<br>IMDb Score: 6.6<br>Release Date: 1997<br>Academy Award for Best Actor/Actress: No",
          "Name: Morgan Freeman<br>Movie: Hard Rain<br>IMDb Score: 5.8<br>Release Date: 1998<br>Academy Award for Best Actor/Actress: No",
          "Name: Morgan Freeman<br>Movie: Deep Impact<br>IMDb Score: 6.1<br>Release Date: 1998<br>Academy Award for Best Actor/Actress: No",
          "Name: Morgan Freeman<br>Movie: Nurse Betty<br>IMDb Score: 6.3<br>Release Date: 2000<br>Academy Award for Best Actor/Actress: No",
          "Name: Morgan Freeman<br>Movie: Along Came a Spider<br>IMDb Score: 6.3<br>Release Date: 2001<br>Academy Award for Best Actor/Actress: No",
          "Name: Morgan Freeman<br>Movie: High Crimes<br>IMDb Score: 6.3<br>Release Date: 2002<br>Academy Award for Best Actor/Actress: No",
          "Name: Morgan Freeman<br>Movie: The Sum of All Fears<br>IMDb Score: 6.4<br>Release Date: 2002<br>Academy Award for Best Actor/Actress: No",
          "Name: Morgan Freeman<br>Movie: Dreamcatcher<br>IMDb Score: 5.5<br>Release Date: 2003<br>Academy Award for Best Actor/Actress: No",
          "Name: Morgan Freeman<br>Movie: Bruce Almighty<br>IMDb Score: 6.7<br>Release Date: 2003<br>Academy Award for Best Actor/Actress: No",
          "Name: Morgan Freeman<br>Movie: The Big Bounce<br>IMDb Score: 4.9<br>Release Date: 2004<br>Academy Award for Best Actor/Actress: No",
          "Name: Morgan Freeman<br>Movie: Million Dollar Baby<br>IMDb Score: 8.1<br>Release Date: 2004<br>Academy Award for Best Actor/Actress: Yes",
          "Name: Morgan Freeman<br>Movie: March of the Penguins<br>IMDb Score: 7.6<br>Release Date: 2005<br>Academy Award for Best Actor/Actress: No",
          "Name: Morgan Freeman<br>Movie: Unleashed<br>IMDb Score: 7.0<br>Release Date: 2005<br>Academy Award for Best Actor/Actress: No",
          "Name: Morgan Freeman<br>Movie: War of the Worlds<br>IMDb Score: 6.5<br>Release Date: 2005<br>Academy Award for Best Actor/Actress: No",
          "Name: Morgan Freeman<br>Movie: An Unfinished Life<br>IMDb Score: 7.0<br>Release Date: 2005<br>Academy Award for Best Actor/Actress: No",
          "Name: Morgan Freeman<br>Movie: Batman Begins<br>IMDb Score: 8.3<br>Release Date: 2005<br>Academy Award for Best Actor/Actress: No",
          "Name: Morgan Freeman<br>Movie: Evan Almighty<br>IMDb Score: 5.4<br>Release Date: 2007<br>Academy Award for Best Actor/Actress: No",
          "Name: Morgan Freeman<br>Movie: The Bucket List<br>IMDb Score: 7.4<br>Release Date: 2007<br>Academy Award for Best Actor/Actress: No",
          "Name: Morgan Freeman<br>Movie: Wanted<br>IMDb Score: 6.7<br>Release Date: 2008<br>Academy Award for Best Actor/Actress: No",
          "Name: Morgan Freeman<br>Movie: The Dark Knight<br>IMDb Score: 9.0<br>Release Date: 2008<br>Academy Award for Best Actor/Actress: No",
          "Name: Morgan Freeman<br>Movie: Invictus<br>IMDb Score: 7.4<br>Release Date: 2009<br>Academy Award for Best Actor/Actress: No",
          "Name: Morgan Freeman<br>Movie: Dolphin Tale<br>IMDb Score: 6.9<br>Release Date: 2011<br>Academy Award for Best Actor/Actress: No",
          "Name: Morgan Freeman<br>Movie: The Dark Knight Rises<br>IMDb Score: 8.5<br>Release Date: 2012<br>Academy Award for Best Actor/Actress: No",
          "Name: Morgan Freeman<br>Movie: Now You See Me<br>IMDb Score: 7.3<br>Release Date: 2013<br>Academy Award for Best Actor/Actress: No"
         ],
         "legendgroup": "Morgan Freeman",
         "marker": {
          "color": "#AB63FA",
          "size": [
           8,
           8,
           8,
           8,
           8,
           8,
           8,
           8,
           8,
           8,
           8,
           8,
           8,
           8,
           8,
           8,
           8,
           15,
           8,
           8,
           8,
           8,
           8,
           8,
           8,
           8,
           8,
           8,
           8,
           8,
           8
          ],
          "symbol": [
           "circle",
           "circle",
           "circle",
           "circle",
           "circle",
           "circle",
           "circle",
           "circle",
           "circle",
           "circle",
           "circle",
           "circle",
           "circle",
           "circle",
           "circle",
           "circle",
           "circle",
           "star",
           "circle",
           "circle",
           "circle",
           "circle",
           "circle",
           "circle",
           "circle",
           "circle",
           "circle",
           "circle",
           "circle",
           "circle",
           "circle"
          ]
         },
         "mode": "markers",
         "name": "Morgan Freeman",
         "showlegend": false,
         "type": "scatter",
         "x": [
          1989,
          1991,
          1992,
          1994,
          1995,
          1996,
          1997,
          1997,
          1998,
          1998,
          2000,
          2001,
          2002,
          2002,
          2003,
          2003,
          2004,
          2004,
          2005,
          2005,
          2005,
          2005,
          2005,
          2007,
          2007,
          2008,
          2008,
          2009,
          2011,
          2012,
          2013
         ],
         "y": [
          7.4,
          6.9,
          8.3,
          9.3,
          6.6,
          5.6,
          7.2,
          6.6,
          5.8,
          6.1,
          6.3,
          6.3,
          6.3,
          6.4,
          5.5,
          6.7,
          4.9,
          8.1,
          7.6,
          7,
          6.5,
          7,
          8.3,
          5.4,
          7.4,
          6.7,
          9,
          7.4,
          6.9,
          8.5,
          7.3
         ]
        },
        {
         "hoverinfo": "text",
         "hovertext": [
          "Name: Octavia Spencer<br>Movie: Being John Malkovich<br>IMDb Score: 7.8<br>Release Date: 1999<br>Academy Award for Best Actor/Actress: No",
          "Name: Octavia Spencer<br>Movie: Win a Date with Tad Hamilton!<br>IMDb Score: 5.6<br>Release Date: 2004<br>Academy Award for Best Actor/Actress: No",
          "Name: Octavia Spencer<br>Movie: Coach Carter<br>IMDb Score: 7.2<br>Release Date: 2005<br>Academy Award for Best Actor/Actress: No",
          "Name: Octavia Spencer<br>Movie: Pulse<br>IMDb Score: 4.7<br>Release Date: 2006<br>Academy Award for Best Actor/Actress: No",
          "Name: Octavia Spencer<br>Movie: Halloween II<br>IMDb Score: 4.9<br>Release Date: 2009<br>Academy Award for Best Actor/Actress: No",
          "Name: Octavia Spencer<br>Movie: Halloween II<br>IMDb Score: 4.9<br>Release Date: 2009<br>Academy Award for Best Actor/Actress: No",
          "Name: Octavia Spencer<br>Movie: The Help<br>IMDb Score: 8.1<br>Release Date: 2011<br>Academy Award for Best Actor/Actress: Yes"
         ],
         "legendgroup": "Octavia Spencer",
         "marker": {
          "color": "#FFA15A",
          "size": [
           8,
           8,
           8,
           8,
           8,
           8,
           15
          ],
          "symbol": [
           "circle",
           "circle",
           "circle",
           "circle",
           "circle",
           "circle",
           "star"
          ]
         },
         "mode": "markers",
         "name": "Octavia Spencer",
         "showlegend": false,
         "type": "scatter",
         "x": [
          1999,
          2004,
          2005,
          2006,
          2009,
          2009,
          2011
         ],
         "y": [
          7.8,
          5.6,
          7.2,
          4.7,
          4.9,
          4.9,
          8.1
         ]
        },
        {
         "hoverinfo": "text",
         "hovertext": [
          "Name: Penélope Cruz<br>Movie: Blow<br>IMDb Score: 7.6<br>Release Date: 2001<br>Academy Award for Best Actor/Actress: No",
          "Name: Penélope Cruz<br>Movie: Captain Corelli's Mandolin<br>IMDb Score: 5.9<br>Release Date: 2001<br>Academy Award for Best Actor/Actress: No",
          "Name: Penélope Cruz<br>Movie: Vanilla Sky<br>IMDb Score: 6.9<br>Release Date: 2001<br>Academy Award for Best Actor/Actress: No",
          "Name: Penélope Cruz<br>Movie: Gothika<br>IMDb Score: 5.8<br>Release Date: 2003<br>Academy Award for Best Actor/Actress: No",
          "Name: Penélope Cruz<br>Movie: Sahara<br>IMDb Score: 6.0<br>Release Date: 2005<br>Academy Award for Best Actor/Actress: No",
          "Name: Penélope Cruz<br>Movie: Bandidas<br>IMDb Score: 5.7<br>Release Date: 2006<br>Academy Award for Best Actor/Actress: No",
          "Name: Penélope Cruz<br>Movie: The Good Night<br>IMDb Score: 5.9<br>Release Date: 2007<br>Academy Award for Best Actor/Actress: No",
          "Name: Penélope Cruz<br>Movie: The Good Night<br>IMDb Score: 5.9<br>Release Date: 2007<br>Academy Award for Best Actor/Actress: No",
          "Name: Penélope Cruz<br>Movie: Vicky Cristina Barcelona<br>IMDb Score: 7.2<br>Release Date: 2008<br>Academy Award for Best Actor/Actress: Yes",
          "Name: Penélope Cruz<br>Movie: G-Force<br>IMDb Score: 5.1<br>Release Date: 2009<br>Academy Award for Best Actor/Actress: No",
          "Name: Penélope Cruz<br>Movie: Nine<br>IMDb Score: 5.8<br>Release Date: 2009<br>Academy Award for Best Actor/Actress: No",
          "Name: Penélope Cruz<br>Movie: Sex and the City 2<br>IMDb Score: 4.3<br>Release Date: 2010<br>Academy Award for Best Actor/Actress: No",
          "Name: Penélope Cruz<br>Movie: Pirates of the Caribbean: On Stranger Tides<br>IMDb Score: 6.7<br>Release Date: 2011<br>Academy Award for Best Actor/Actress: No",
          "Name: Penélope Cruz<br>Movie: To Rome with Love<br>IMDb Score: 6.3<br>Release Date: 2012<br>Academy Award for Best Actor/Actress: No"
         ],
         "legendgroup": "Penélope Cruz",
         "marker": {
          "color": "#19D3F3",
          "size": [
           8,
           8,
           8,
           8,
           8,
           8,
           8,
           8,
           15,
           8,
           8,
           8,
           8,
           8
          ],
          "symbol": [
           "circle",
           "circle",
           "circle",
           "circle",
           "circle",
           "circle",
           "circle",
           "circle",
           "star",
           "circle",
           "circle",
           "circle",
           "circle",
           "circle"
          ]
         },
         "mode": "markers",
         "name": "Penélope Cruz",
         "showlegend": false,
         "type": "scatter",
         "x": [
          2001,
          2001,
          2001,
          2003,
          2005,
          2006,
          2007,
          2007,
          2008,
          2009,
          2009,
          2010,
          2011,
          2012
         ],
         "y": [
          7.6,
          5.9,
          6.9,
          5.8,
          6,
          5.7,
          5.9,
          5.9,
          7.2,
          5.1,
          5.8,
          4.3,
          6.7,
          6.3
         ]
        },
        {
         "hoverinfo": "text",
         "hovertext": [
          "Name: Rachel Weisz<br>Movie: Chain Reaction<br>IMDb Score: 5.6<br>Release Date: 1996<br>Academy Award for Best Actor/Actress: No",
          "Name: Rachel Weisz<br>Movie: The Land Girls<br>IMDb Score: 6.3<br>Release Date: 1998<br>Academy Award for Best Actor/Actress: No",
          "Name: Rachel Weisz<br>Movie: Enemy at the Gates<br>IMDb Score: 7.6<br>Release Date: 2001<br>Academy Award for Best Actor/Actress: No",
          "Name: Rachel Weisz<br>Movie: The Mummy Returns<br>IMDb Score: 6.3<br>Release Date: 2001<br>Academy Award for Best Actor/Actress: No",
          "Name: Rachel Weisz<br>Movie: The Mummy Returns<br>IMDb Score: 6.3<br>Release Date: 2001<br>Academy Award for Best Actor/Actress: No",
          "Name: Rachel Weisz<br>Movie: About a Boy<br>IMDb Score: 7.1<br>Release Date: 2002<br>Academy Award for Best Actor/Actress: No",
          "Name: Rachel Weisz<br>Movie: Confidence<br>IMDb Score: 6.7<br>Release Date: 2003<br>Academy Award for Best Actor/Actress: No",
          "Name: Rachel Weisz<br>Movie: Envy<br>IMDb Score: 4.8<br>Release Date: 2004<br>Academy Award for Best Actor/Actress: No",
          "Name: Rachel Weisz<br>Movie: The Constant Gardener<br>IMDb Score: 7.5<br>Release Date: 2005<br>Academy Award for Best Actor/Actress: Yes",
          "Name: Rachel Weisz<br>Movie: Eragon<br>IMDb Score: 5.1<br>Release Date: 2006<br>Academy Award for Best Actor/Actress: No",
          "Name: Rachel Weisz<br>Movie: The Fountain<br>IMDb Score: 7.3<br>Release Date: 2006<br>Academy Award for Best Actor/Actress: No",
          "Name: Rachel Weisz<br>Movie: The Fountain<br>IMDb Score: 7.3<br>Release Date: 2006<br>Academy Award for Best Actor/Actress: No",
          "Name: Rachel Weisz<br>Movie: My Blueberry Nights<br>IMDb Score: 6.7<br>Release Date: 2007<br>Academy Award for Best Actor/Actress: No",
          "Name: Rachel Weisz<br>Movie: The Brothers Bloom<br>IMDb Score: 6.9<br>Release Date: 2008<br>Academy Award for Best Actor/Actress: No",
          "Name: Rachel Weisz<br>Movie: Definitely, Maybe<br>IMDb Score: 7.2<br>Release Date: 2008<br>Academy Award for Best Actor/Actress: No",
          "Name: Rachel Weisz<br>Movie: Agora<br>IMDb Score: 7.2<br>Release Date: 2009<br>Academy Award for Best Actor/Actress: No",
          "Name: Rachel Weisz<br>Movie: The Lovely Bones<br>IMDb Score: 6.7<br>Release Date: 2009<br>Academy Award for Best Actor/Actress: No",
          "Name: Rachel Weisz<br>Movie: The Lovely Bones<br>IMDb Score: 6.7<br>Release Date: 2009<br>Academy Award for Best Actor/Actress: No",
          "Name: Rachel Weisz<br>Movie: Dream House<br>IMDb Score: 6.0<br>Release Date: 2011<br>Academy Award for Best Actor/Actress: No",
          "Name: Rachel Weisz<br>Movie: The Bourne Legacy<br>IMDb Score: 6.7<br>Release Date: 2012<br>Academy Award for Best Actor/Actress: No"
         ],
         "legendgroup": "Rachel Weisz",
         "marker": {
          "color": "#FF6692",
          "size": [
           8,
           8,
           8,
           8,
           8,
           8,
           8,
           8,
           15,
           8,
           8,
           8,
           8,
           8,
           8,
           8,
           8,
           8,
           8,
           8
          ],
          "symbol": [
           "circle",
           "circle",
           "circle",
           "circle",
           "circle",
           "circle",
           "circle",
           "circle",
           "star",
           "circle",
           "circle",
           "circle",
           "circle",
           "circle",
           "circle",
           "circle",
           "circle",
           "circle",
           "circle",
           "circle"
          ]
         },
         "mode": "markers",
         "name": "Rachel Weisz",
         "showlegend": false,
         "type": "scatter",
         "x": [
          1996,
          1998,
          2001,
          2001,
          2001,
          2002,
          2003,
          2004,
          2005,
          2006,
          2006,
          2006,
          2007,
          2008,
          2008,
          2009,
          2009,
          2009,
          2011,
          2012
         ],
         "y": [
          5.6,
          6.3,
          7.6,
          6.3,
          6.3,
          7.1,
          6.7,
          4.8,
          7.5,
          5.1,
          7.3,
          7.3,
          6.7,
          6.9,
          7.2,
          7.2,
          6.7,
          6.7,
          6,
          6.7
         ]
        },
        {
         "hoverinfo": "text",
         "hovertext": [
          "Name: Renée Zellweger<br>Movie: Dazed and Confused<br>IMDb Score: 7.7<br>Release Date: 1993<br>Academy Award for Best Actor/Actress: No",
          "Name: Renée Zellweger<br>Movie: Jerry Maguire<br>IMDb Score: 7.3<br>Release Date: 1996<br>Academy Award for Best Actor/Actress: No",
          "Name: Renée Zellweger<br>Movie: One True Thing<br>IMDb Score: 7.0<br>Release Date: 1998<br>Academy Award for Best Actor/Actress: No",
          "Name: Renée Zellweger<br>Movie: Nurse Betty<br>IMDb Score: 6.3<br>Release Date: 2000<br>Academy Award for Best Actor/Actress: No",
          "Name: Renée Zellweger<br>Movie: Me, Myself & Irene<br>IMDb Score: 6.5<br>Release Date: 2000<br>Academy Award for Best Actor/Actress: No",
          "Name: Renée Zellweger<br>Movie: Bridget Jones's Diary<br>IMDb Score: 6.7<br>Release Date: 2001<br>Academy Award for Best Actor/Actress: No",
          "Name: Renée Zellweger<br>Movie: Chicago<br>IMDb Score: 7.2<br>Release Date: 2002<br>Academy Award for Best Actor/Actress: No",
          "Name: Renée Zellweger<br>Movie: White Oleander<br>IMDb Score: 7.2<br>Release Date: 2002<br>Academy Award for Best Actor/Actress: No",
          "Name: Renée Zellweger<br>Movie: Cold Mountain<br>IMDb Score: 7.2<br>Release Date: 2003<br>Academy Award for Best Actor/Actress: Yes",
          "Name: Renée Zellweger<br>Movie: Shark Tale<br>IMDb Score: 6.0<br>Release Date: 2004<br>Academy Award for Best Actor/Actress: No",
          "Name: Renée Zellweger<br>Movie: Bridget Jones: The Edge of Reason<br>IMDb Score: 5.9<br>Release Date: 2004<br>Academy Award for Best Actor/Actress: No",
          "Name: Renée Zellweger<br>Movie: Cinderella Man<br>IMDb Score: 8.0<br>Release Date: 2005<br>Academy Award for Best Actor/Actress: No",
          "Name: Renée Zellweger<br>Movie: Miss Potter<br>IMDb Score: 7.0<br>Release Date: 2006<br>Academy Award for Best Actor/Actress: No",
          "Name: Renée Zellweger<br>Movie: Bee Movie<br>IMDb Score: 6.2<br>Release Date: 2007<br>Academy Award for Best Actor/Actress: No",
          "Name: Renée Zellweger<br>Movie: Leatherheads<br>IMDb Score: 6.0<br>Release Date: 2008<br>Academy Award for Best Actor/Actress: No",
          "Name: Renée Zellweger<br>Movie: Appaloosa<br>IMDb Score: 6.8<br>Release Date: 2008<br>Academy Award for Best Actor/Actress: No",
          "Name: Renée Zellweger<br>Movie: Case 39<br>IMDb Score: 6.2<br>Release Date: 2009<br>Academy Award for Best Actor/Actress: No",
          "Name: Renée Zellweger<br>Movie: Monsters vs. Aliens<br>IMDb Score: 6.5<br>Release Date: 2009<br>Academy Award for Best Actor/Actress: No"
         ],
         "legendgroup": "Renée Zellweger",
         "marker": {
          "color": "#B6E880",
          "size": [
           8,
           8,
           8,
           8,
           8,
           8,
           8,
           8,
           15,
           8,
           8,
           8,
           8,
           8,
           8,
           8,
           8,
           8
          ],
          "symbol": [
           "circle",
           "circle",
           "circle",
           "circle",
           "circle",
           "circle",
           "circle",
           "circle",
           "star",
           "circle",
           "circle",
           "circle",
           "circle",
           "circle",
           "circle",
           "circle",
           "circle",
           "circle"
          ]
         },
         "mode": "markers",
         "name": "Renée Zellweger",
         "showlegend": false,
         "type": "scatter",
         "x": [
          1993,
          1996,
          1998,
          2000,
          2000,
          2001,
          2002,
          2002,
          2003,
          2004,
          2004,
          2005,
          2006,
          2007,
          2008,
          2008,
          2009,
          2009
         ],
         "y": [
          7.7,
          7.3,
          7,
          6.3,
          6.5,
          6.7,
          7.2,
          7.2,
          7.2,
          6,
          5.9,
          8,
          7,
          6.2,
          6,
          6.8,
          6.2,
          6.5
         ]
        },
        {
         "hoverinfo": "text",
         "hovertext": [
          "Name: Robin Williams<br>Movie: Good Morning, Vietnam<br>IMDb Score: 7.3<br>Release Date: 1987<br>Academy Award for Best Actor/Actress: No",
          "Name: Robin Williams<br>Movie: Dead Poets Society<br>IMDb Score: 8.0<br>Release Date: 1989<br>Academy Award for Best Actor/Actress: No",
          "Name: Robin Williams<br>Movie: Hook<br>IMDb Score: 6.7<br>Release Date: 1991<br>Academy Award for Best Actor/Actress: No",
          "Name: Robin Williams<br>Movie: Aladdin<br>IMDb Score: 8.0<br>Release Date: 1992<br>Academy Award for Best Actor/Actress: No",
          "Name: Robin Williams<br>Movie: Aladdin<br>IMDb Score: 8.0<br>Release Date: 1992<br>Academy Award for Best Actor/Actress: No",
          "Name: Robin Williams<br>Movie: Mrs. Doubtfire<br>IMDb Score: 6.9<br>Release Date: 1993<br>Academy Award for Best Actor/Actress: No",
          "Name: Robin Williams<br>Movie: Hamlet<br>IMDb Score: 7.8<br>Release Date: 1996<br>Academy Award for Best Actor/Actress: No",
          "Name: Robin Williams<br>Movie: Hamlet<br>IMDb Score: 7.8<br>Release Date: 1996<br>Academy Award for Best Actor/Actress: No",
          "Name: Robin Williams<br>Movie: Good Will Hunting<br>IMDb Score: 8.3<br>Release Date: 1997<br>Academy Award for Best Actor/Actress: Yes",
          "Name: Robin Williams<br>Movie: Flubber<br>IMDb Score: 5.2<br>Release Date: 1997<br>Academy Award for Best Actor/Actress: No",
          "Name: Robin Williams<br>Movie: Deconstructing Harry<br>IMDb Score: 7.4<br>Release Date: 1997<br>Academy Award for Best Actor/Actress: No",
          "Name: Robin Williams<br>Movie: What Dreams May Come<br>IMDb Score: 7.0<br>Release Date: 1998<br>Academy Award for Best Actor/Actress: No",
          "Name: Robin Williams<br>Movie: Patch Adams<br>IMDb Score: 6.7<br>Release Date: 1998<br>Academy Award for Best Actor/Actress: No",
          "Name: Robin Williams<br>Movie: Bicentennial Man<br>IMDb Score: 6.8<br>Release Date: 1999<br>Academy Award for Best Actor/Actress: No",
          "Name: Robin Williams<br>Movie: Jakob the Liar<br>IMDb Score: 6.5<br>Release Date: 1999<br>Academy Award for Best Actor/Actress: No",
          "Name: Robin Williams<br>Movie: A.I. Artificial Intelligence<br>IMDb Score: 7.1<br>Release Date: 2001<br>Academy Award for Best Actor/Actress: No",
          "Name: Robin Williams<br>Movie: Death to Smoochy<br>IMDb Score: 6.4<br>Release Date: 2002<br>Academy Award for Best Actor/Actress: No",
          "Name: Robin Williams<br>Movie: Insomnia<br>IMDb Score: 7.2<br>Release Date: 2002<br>Academy Award for Best Actor/Actress: No",
          "Name: Robin Williams<br>Movie: One Hour Photo<br>IMDb Score: 6.8<br>Release Date: 2002<br>Academy Award for Best Actor/Actress: No",
          "Name: Robin Williams<br>Movie: House of D<br>IMDb Score: 7.0<br>Release Date: 2004<br>Academy Award for Best Actor/Actress: No",
          "Name: Robin Williams<br>Movie: Night at the Museum<br>IMDb Score: 6.4<br>Release Date: 2006<br>Academy Award for Best Actor/Actress: No",
          "Name: Robin Williams<br>Movie: The Night Listener<br>IMDb Score: 5.9<br>Release Date: 2006<br>Academy Award for Best Actor/Actress: No",
          "Name: Robin Williams<br>Movie: Man of the Year<br>IMDb Score: 6.2<br>Release Date: 2006<br>Academy Award for Best Actor/Actress: No",
          "Name: Robin Williams<br>Movie: Happy Feet<br>IMDb Score: 6.5<br>Release Date: 2006<br>Academy Award for Best Actor/Actress: No",
          "Name: Robin Williams<br>Movie: Happy Feet<br>IMDb Score: 6.5<br>Release Date: 2006<br>Academy Award for Best Actor/Actress: No",
          "Name: Robin Williams<br>Movie: License to Wed<br>IMDb Score: 5.3<br>Release Date: 2007<br>Academy Award for Best Actor/Actress: No",
          "Name: Robin Williams<br>Movie: August Rush<br>IMDb Score: 7.5<br>Release Date: 2007<br>Academy Award for Best Actor/Actress: No",
          "Name: Robin Williams<br>Movie: Night at the Museum: Battle of the Smithsonian<br>IMDb Score: 5.9<br>Release Date: 2009<br>Academy Award for Best Actor/Actress: No",
          "Name: Robin Williams<br>Movie: World's Greatest Dad<br>IMDb Score: 6.9<br>Release Date: 2009<br>Academy Award for Best Actor/Actress: No",
          "Name: Robin Williams<br>Movie: Old Dogs<br>IMDb Score: 5.4<br>Release Date: 2009<br>Academy Award for Best Actor/Actress: No"
         ],
         "legendgroup": "Robin Williams",
         "marker": {
          "color": "#FF97FF",
          "size": [
           8,
           8,
           8,
           8,
           8,
           8,
           8,
           8,
           15,
           8,
           8,
           8,
           8,
           8,
           8,
           8,
           8,
           8,
           8,
           8,
           8,
           8,
           8,
           8,
           8,
           8,
           8,
           8,
           8,
           8
          ],
          "symbol": [
           "circle",
           "circle",
           "circle",
           "circle",
           "circle",
           "circle",
           "circle",
           "circle",
           "star",
           "circle",
           "circle",
           "circle",
           "circle",
           "circle",
           "circle",
           "circle",
           "circle",
           "circle",
           "circle",
           "circle",
           "circle",
           "circle",
           "circle",
           "circle",
           "circle",
           "circle",
           "circle",
           "circle",
           "circle",
           "circle"
          ]
         },
         "mode": "markers",
         "name": "Robin Williams",
         "showlegend": false,
         "type": "scatter",
         "x": [
          1987,
          1989,
          1991,
          1992,
          1992,
          1993,
          1996,
          1996,
          1997,
          1997,
          1997,
          1998,
          1998,
          1999,
          1999,
          2001,
          2002,
          2002,
          2002,
          2004,
          2006,
          2006,
          2006,
          2006,
          2006,
          2007,
          2007,
          2009,
          2009,
          2009
         ],
         "y": [
          7.3,
          8,
          6.7,
          8,
          8,
          6.9,
          7.8,
          7.8,
          8.3,
          5.2,
          7.4,
          7,
          6.7,
          6.8,
          6.5,
          7.1,
          6.4,
          7.2,
          6.8,
          7,
          6.4,
          5.9,
          6.2,
          6.5,
          6.5,
          5.3,
          7.5,
          5.9,
          6.9,
          5.4
         ]
        },
        {
         "hoverinfo": "text",
         "hovertext": [
          "Name: Tim Robbins<br>Movie: Top Gun<br>IMDb Score: 6.9<br>Release Date: 1986<br>Academy Award for Best Actor/Actress: No",
          "Name: Tim Robbins<br>Movie: Howard the Duck<br>IMDb Score: 4.6<br>Release Date: 1986<br>Academy Award for Best Actor/Actress: No",
          "Name: Tim Robbins<br>Movie: The Hudsucker Proxy<br>IMDb Score: 7.3<br>Release Date: 1994<br>Academy Award for Best Actor/Actress: No",
          "Name: Tim Robbins<br>Movie: The Shawshank Redemption<br>IMDb Score: 9.3<br>Release Date: 1994<br>Academy Award for Best Actor/Actress: No",
          "Name: Tim Robbins<br>Movie: Nothing to Lose<br>IMDb Score: 6.7<br>Release Date: 1997<br>Academy Award for Best Actor/Actress: No",
          "Name: Tim Robbins<br>Movie: Cradle Will Rock<br>IMDb Score: 6.9<br>Release Date: 1999<br>Academy Award for Best Actor/Actress: No",
          "Name: Tim Robbins<br>Movie: Austin Powers: The Spy Who Shagged Me<br>IMDb Score: 6.6<br>Release Date: 1999<br>Academy Award for Best Actor/Actress: No",
          "Name: Tim Robbins<br>Movie: Arlington Road<br>IMDb Score: 7.2<br>Release Date: 1999<br>Academy Award for Best Actor/Actress: No",
          "Name: Tim Robbins<br>Movie: High Fidelity<br>IMDb Score: 7.6<br>Release Date: 2000<br>Academy Award for Best Actor/Actress: No",
          "Name: Tim Robbins<br>Movie: Antitrust<br>IMDb Score: 6.1<br>Release Date: 2001<br>Academy Award for Best Actor/Actress: No",
          "Name: Tim Robbins<br>Movie: Mystic River<br>IMDb Score: 8.0<br>Release Date: 2003<br>Academy Award for Best Actor/Actress: Yes",
          "Name: Tim Robbins<br>Movie: Anchorman: The Legend of Ron Burgundy<br>IMDb Score: 7.2<br>Release Date: 2004<br>Academy Award for Best Actor/Actress: No",
          "Name: Tim Robbins<br>Movie: War of the Worlds<br>IMDb Score: 6.5<br>Release Date: 2005<br>Academy Award for Best Actor/Actress: No",
          "Name: Tim Robbins<br>Movie: Catch a Fire<br>IMDb Score: 6.7<br>Release Date: 2006<br>Academy Award for Best Actor/Actress: No",
          "Name: Tim Robbins<br>Movie: The Lucky Ones<br>IMDb Score: 7.0<br>Release Date: 2008<br>Academy Award for Best Actor/Actress: No",
          "Name: Tim Robbins<br>Movie: City of Ember<br>IMDb Score: 6.5<br>Release Date: 2008<br>Academy Award for Best Actor/Actress: No",
          "Name: Tim Robbins<br>Movie: Green Lantern<br>IMDb Score: 5.6<br>Release Date: 2011<br>Academy Award for Best Actor/Actress: No"
         ],
         "legendgroup": "Tim Robbins",
         "marker": {
          "color": "#FECB52",
          "size": [
           8,
           8,
           8,
           8,
           8,
           8,
           8,
           8,
           8,
           8,
           15,
           8,
           8,
           8,
           8,
           8,
           8
          ],
          "symbol": [
           "circle",
           "circle",
           "circle",
           "circle",
           "circle",
           "circle",
           "circle",
           "circle",
           "circle",
           "circle",
           "star",
           "circle",
           "circle",
           "circle",
           "circle",
           "circle",
           "circle"
          ]
         },
         "mode": "markers",
         "name": "Tim Robbins",
         "showlegend": false,
         "type": "scatter",
         "x": [
          1986,
          1986,
          1994,
          1994,
          1997,
          1999,
          1999,
          1999,
          2000,
          2001,
          2003,
          2004,
          2005,
          2006,
          2008,
          2008,
          2011
         ],
         "y": [
          6.9,
          4.6,
          7.3,
          9.3,
          6.7,
          6.9,
          6.6,
          7.2,
          7.6,
          6.1,
          8,
          7.2,
          6.5,
          6.7,
          7,
          6.5,
          5.6
         ]
        },
        {
         "hoverinfo": "text",
         "hovertext": [
          "Name: Timothy Hutton<br>Movie: Ordinary People<br>IMDb Score: 7.8<br>Release Date: 1980<br>Academy Award for Best Actor/Actress: Yes",
          "Name: Timothy Hutton<br>Movie: The General's Daughter<br>IMDb Score: 6.3<br>Release Date: 1999<br>Academy Award for Best Actor/Actress: No",
          "Name: Timothy Hutton<br>Movie: Sunshine State<br>IMDb Score: 6.9<br>Release Date: 2002<br>Academy Award for Best Actor/Actress: No",
          "Name: Timothy Hutton<br>Movie: Kinsey<br>IMDb Score: 7.1<br>Release Date: 2004<br>Academy Award for Best Actor/Actress: No",
          "Name: Timothy Hutton<br>Movie: Secret Window<br>IMDb Score: 6.6<br>Release Date: 2004<br>Academy Award for Best Actor/Actress: No",
          "Name: Timothy Hutton<br>Movie: The Ghost Writer<br>IMDb Score: 7.2<br>Release Date: 2010<br>Academy Award for Best Actor/Actress: No"
         ],
         "legendgroup": "Timothy Hutton",
         "marker": {
          "color": "#636EFA",
          "size": [
           15,
           8,
           8,
           8,
           8,
           8
          ],
          "symbol": [
           "star",
           "circle",
           "circle",
           "circle",
           "circle",
           "circle"
          ]
         },
         "mode": "markers",
         "name": "Timothy Hutton",
         "showlegend": false,
         "type": "scatter",
         "x": [
          1980,
          1999,
          2002,
          2004,
          2004,
          2010
         ],
         "y": [
          7.8,
          6.3,
          6.9,
          7.1,
          6.6,
          7.2
         ]
        },
        {
         "hoverinfo": "text",
         "hovertext": [
          "Name: Tommy Lee Jones<br>Movie: Coal Miner's Daughter<br>IMDb Score: 7.5<br>Release Date: 1980<br>Academy Award for Best Actor/Actress: No",
          "Name: Tommy Lee Jones<br>Movie: JFK<br>IMDb Score: 8.0<br>Release Date: 1991<br>Academy Award for Best Actor/Actress: No",
          "Name: Tommy Lee Jones<br>Movie: The Fugitive<br>IMDb Score: 7.8<br>Release Date: 1993<br>Academy Award for Best Actor/Actress: Yes",
          "Name: Tommy Lee Jones<br>Movie: The Client<br>IMDb Score: 6.7<br>Release Date: 1994<br>Academy Award for Best Actor/Actress: No",
          "Name: Tommy Lee Jones<br>Movie: Batman Forever<br>IMDb Score: 5.4<br>Release Date: 1995<br>Academy Award for Best Actor/Actress: No",
          "Name: Tommy Lee Jones<br>Movie: Men in Black<br>IMDb Score: 7.3<br>Release Date: 1997<br>Academy Award for Best Actor/Actress: No",
          "Name: Tommy Lee Jones<br>Movie: Volcano<br>IMDb Score: 5.4<br>Release Date: 1997<br>Academy Award for Best Actor/Actress: No",
          "Name: Tommy Lee Jones<br>Movie: Small Soldiers<br>IMDb Score: 6.1<br>Release Date: 1998<br>Academy Award for Best Actor/Actress: No",
          "Name: Tommy Lee Jones<br>Movie: Double Jeopardy<br>IMDb Score: 6.4<br>Release Date: 1999<br>Academy Award for Best Actor/Actress: No",
          "Name: Tommy Lee Jones<br>Movie: Space Cowboys<br>IMDb Score: 6.4<br>Release Date: 2000<br>Academy Award for Best Actor/Actress: No",
          "Name: Tommy Lee Jones<br>Movie: Men in Black II<br>IMDb Score: 6.1<br>Release Date: 2002<br>Academy Award for Best Actor/Actress: No",
          "Name: Tommy Lee Jones<br>Movie: The Hunted<br>IMDb Score: 6.0<br>Release Date: 2003<br>Academy Award for Best Actor/Actress: No",
          "Name: Tommy Lee Jones<br>Movie: Man of the House<br>IMDb Score: 5.4<br>Release Date: 2005<br>Academy Award for Best Actor/Actress: No",
          "Name: Tommy Lee Jones<br>Movie: A Prairie Home Companion<br>IMDb Score: 6.8<br>Release Date: 2006<br>Academy Award for Best Actor/Actress: No",
          "Name: Tommy Lee Jones<br>Movie: No Country for Old Men<br>IMDb Score: 8.1<br>Release Date: 2007<br>Academy Award for Best Actor/Actress: No",
          "Name: Tommy Lee Jones<br>Movie: In the Valley of Elah<br>IMDb Score: 7.2<br>Release Date: 2007<br>Academy Award for Best Actor/Actress: No",
          "Name: Tommy Lee Jones<br>Movie: Captain America: The First Avenger<br>IMDb Score: 6.9<br>Release Date: 2011<br>Academy Award for Best Actor/Actress: No",
          "Name: Tommy Lee Jones<br>Movie: Hope Springs<br>IMDb Score: 6.3<br>Release Date: 2012<br>Academy Award for Best Actor/Actress: No",
          "Name: Tommy Lee Jones<br>Movie: Men in Black 3<br>IMDb Score: 6.8<br>Release Date: 2012<br>Academy Award for Best Actor/Actress: No",
          "Name: Tommy Lee Jones<br>Movie: Lincoln<br>IMDb Score: 7.4<br>Release Date: 2012<br>Academy Award for Best Actor/Actress: No"
         ],
         "legendgroup": "Tommy Lee Jones",
         "marker": {
          "color": "#EF553B",
          "size": [
           8,
           8,
           15,
           8,
           8,
           8,
           8,
           8,
           8,
           8,
           8,
           8,
           8,
           8,
           8,
           8,
           8,
           8,
           8,
           8
          ],
          "symbol": [
           "circle",
           "circle",
           "star",
           "circle",
           "circle",
           "circle",
           "circle",
           "circle",
           "circle",
           "circle",
           "circle",
           "circle",
           "circle",
           "circle",
           "circle",
           "circle",
           "circle",
           "circle",
           "circle",
           "circle"
          ]
         },
         "mode": "markers",
         "name": "Tommy Lee Jones",
         "showlegend": false,
         "type": "scatter",
         "x": [
          1980,
          1991,
          1993,
          1994,
          1995,
          1997,
          1997,
          1998,
          1999,
          2000,
          2002,
          2003,
          2005,
          2006,
          2007,
          2007,
          2011,
          2012,
          2012,
          2012
         ],
         "y": [
          7.5,
          8,
          7.8,
          6.7,
          5.4,
          7.3,
          5.4,
          6.1,
          6.4,
          6.4,
          6.1,
          6,
          5.4,
          6.8,
          8.1,
          7.2,
          6.9,
          6.3,
          6.8,
          7.4
         ]
        },
        {
         "hoverinfo": "text",
         "hovertext": [
          "Name: Whoopi Goldberg<br>Movie: The Color Purple<br>IMDb Score: 7.8<br>Release Date: 1985<br>Academy Award for Best Actor/Actress: No",
          "Name: Whoopi Goldberg<br>Movie: Ghost<br>IMDb Score: 7.0<br>Release Date: 1990<br>Academy Award for Best Actor/Actress: Yes",
          "Name: Whoopi Goldberg<br>Movie: The Lion King<br>IMDb Score: 8.5<br>Release Date: 1994<br>Academy Award for Best Actor/Actress: No",
          "Name: Whoopi Goldberg<br>Movie: Ghosts of Mississippi<br>IMDb Score: 6.7<br>Release Date: 1996<br>Academy Award for Best Actor/Actress: No",
          "Name: Whoopi Goldberg<br>Movie: Bogus<br>IMDb Score: 5.3<br>Release Date: 1996<br>Academy Award for Best Actor/Actress: No",
          "Name: Whoopi Goldberg<br>Movie: In & Out<br>IMDb Score: 6.3<br>Release Date: 1997<br>Academy Award for Best Actor/Actress: No",
          "Name: Whoopi Goldberg<br>Movie: How Stella Got Her Groove Back<br>IMDb Score: 5.5<br>Release Date: 1998<br>Academy Award for Best Actor/Actress: No",
          "Name: Whoopi Goldberg<br>Movie: The Rugrats Movie<br>IMDb Score: 5.9<br>Release Date: 1998<br>Academy Award for Best Actor/Actress: No",
          "Name: Whoopi Goldberg<br>Movie: The Deep End of the Ocean<br>IMDb Score: 6.3<br>Release Date: 1999<br>Academy Award for Best Actor/Actress: No",
          "Name: Whoopi Goldberg<br>Movie: Girl, Interrupted<br>IMDb Score: 7.3<br>Release Date: 1999<br>Academy Award for Best Actor/Actress: No",
          "Name: Whoopi Goldberg<br>Movie: Rat Race<br>IMDb Score: 6.4<br>Release Date: 2001<br>Academy Award for Best Actor/Actress: No",
          "Name: Whoopi Goldberg<br>Movie: Monkeybone<br>IMDb Score: 4.7<br>Release Date: 2001<br>Academy Award for Best Actor/Actress: No",
          "Name: Whoopi Goldberg<br>Movie: Racing Stripes<br>IMDb Score: 5.2<br>Release Date: 2005<br>Academy Award for Best Actor/Actress: No",
          "Name: Whoopi Goldberg<br>Movie: Madea Goes to Jail<br>IMDb Score: 4.1<br>Release Date: 2009<br>Academy Award for Best Actor/Actress: No",
          "Name: Whoopi Goldberg<br>Movie: For Colored Girls<br>IMDb Score: 6.0<br>Release Date: 2010<br>Academy Award for Best Actor/Actress: No",
          "Name: Whoopi Goldberg<br>Movie: Toy Story 3<br>IMDb Score: 8.3<br>Release Date: 2010<br>Academy Award for Best Actor/Actress: No"
         ],
         "legendgroup": "Whoopi Goldberg",
         "marker": {
          "color": "#00CC96",
          "size": [
           8,
           15,
           8,
           8,
           8,
           8,
           8,
           8,
           8,
           8,
           8,
           8,
           8,
           8,
           8,
           8
          ],
          "symbol": [
           "circle",
           "star",
           "circle",
           "circle",
           "circle",
           "circle",
           "circle",
           "circle",
           "circle",
           "circle",
           "circle",
           "circle",
           "circle",
           "circle",
           "circle",
           "circle"
          ]
         },
         "mode": "markers",
         "name": "Whoopi Goldberg",
         "showlegend": false,
         "type": "scatter",
         "x": [
          1985,
          1990,
          1994,
          1996,
          1996,
          1997,
          1998,
          1998,
          1999,
          1999,
          2001,
          2001,
          2005,
          2009,
          2010,
          2010
         ],
         "y": [
          7.8,
          7,
          8.5,
          6.7,
          5.3,
          6.3,
          5.5,
          5.9,
          6.3,
          7.3,
          6.4,
          4.7,
          5.2,
          4.1,
          6,
          8.3
         ]
        },
        {
         "hoverinfo": "text",
         "hovertext": [
          "Movie: Edward Scissorhands<br>IMDb Score: 7.9<br>Release Date: 1990<br>Academy Award for Best Actor/Actress : No",
          "Movie: Grosse Pointe Blank<br>IMDb Score: 7.4<br>Release Date: 1997<br>Academy Award for Best Actor/Actress : No",
          "Movie: Gattaca<br>IMDb Score: 7.8<br>Release Date: 1997<br>Academy Award for Best Actor/Actress : No",
          "Movie: Slums of Beverly Hills<br>IMDb Score: 6.6<br>Release Date: 1998<br>Academy Award for Best Actor/Actress : No",
          "Movie: Jakob the Liar<br>IMDb Score: 6.5<br>Release Date: 1999<br>Academy Award for Best Actor/Actress : No",
          "Movie: America's Sweethearts<br>IMDb Score: 5.7<br>Release Date: 2001<br>Academy Award for Best Actor/Actress : No",
          "Movie: Thirteen Conversations About One Thing<br>IMDb Score: 7.1<br>Release Date: 2001<br>Academy Award for Best Actor/Actress : No",
          "Movie: Little Miss Sunshine<br>IMDb Score: 7.9<br>Release Date: 2006<br>Academy Award for Best Actor/Actress : Yes",
          "Movie: Firewall<br>IMDb Score: 5.8<br>Release Date: 2006<br>Academy Award for Best Actor/Actress : No",
          "Movie: Rendition<br>IMDb Score: 6.8<br>Release Date: 2007<br>Academy Award for Best Actor/Actress : No",
          "Movie: Get Smart<br>IMDb Score: 6.5<br>Release Date: 2008<br>Academy Award for Best Actor/Actress : No",
          "Movie: Sunshine Cleaning<br>IMDb Score: 6.9<br>Release Date: 2008<br>Academy Award for Best Actor/Actress : No",
          "Movie: City Island<br>IMDb Score: 7.4<br>Release Date: 2009<br>Academy Award for Best Actor/Actress : No",
          "Movie: The Change-Up<br>IMDb Score: 6.4<br>Release Date: 2011<br>Academy Award for Best Actor/Actress : No",
          "Movie: Argo<br>IMDb Score: 7.7<br>Release Date: 2012<br>Academy Award for Best Actor/Actress : No"
         ],
         "legendgroup": "Alan Arkin",
         "line": {
          "color": "#636EFA"
         },
         "marker": {
          "size": [
           8,
           8,
           8,
           8,
           8,
           8,
           8,
           15,
           8,
           8,
           8,
           8,
           8,
           8,
           8
          ],
          "symbol": [
           "circle",
           "circle",
           "circle",
           "circle",
           "circle",
           "circle",
           "circle",
           "star",
           "circle",
           "circle",
           "circle",
           "circle",
           "circle",
           "circle",
           "circle"
          ]
         },
         "mode": "lines+markers",
         "name": "Alan Arkin",
         "type": "scatter",
         "visible": false,
         "x": [
          1990,
          1997,
          1997,
          1998,
          1999,
          2001,
          2001,
          2006,
          2006,
          2007,
          2008,
          2008,
          2009,
          2011,
          2012
         ],
         "y": [
          7.9,
          7.4,
          7.8,
          6.6,
          6.5,
          5.7,
          7.1,
          7.9,
          5.8,
          6.8,
          6.5,
          6.9,
          7.4,
          6.4,
          7.7
         ]
        },
        {
         "hoverinfo": "text",
         "hovertext": [
          "Movie: Hackers<br>IMDb Score: 6.2<br>Release Date: 1995<br>Academy Award for Best Actor/Actress : No",
          "Movie: The Bone Collector<br>IMDb Score: 6.7<br>Release Date: 1999<br>Academy Award for Best Actor/Actress : No",
          "Movie: Girl, Interrupted<br>IMDb Score: 7.3<br>Release Date: 1999<br>Academy Award for Best Actor/Actress : Yes",
          "Movie: Pushing Tin<br>IMDb Score: 6.0<br>Release Date: 1999<br>Academy Award for Best Actor/Actress : No",
          "Movie: Original Sin<br>IMDb Score: 6.0<br>Release Date: 2001<br>Academy Award for Best Actor/Actress : No",
          "Movie: Original Sin<br>IMDb Score: 6.0<br>Release Date: 2001<br>Academy Award for Best Actor/Actress : No",
          "Movie: Lara Croft: Tomb Raider<br>IMDb Score: 5.7<br>Release Date: 2001<br>Academy Award for Best Actor/Actress : No",
          "Movie: Life or Something Like It<br>IMDb Score: 5.8<br>Release Date: 2002<br>Academy Award for Best Actor/Actress : No",
          "Movie: Beyond Borders<br>IMDb Score: 6.5<br>Release Date: 2003<br>Academy Award for Best Actor/Actress : No",
          "Movie: Lara Croft Tomb Raider: The Cradle of Life<br>IMDb Score: 5.5<br>Release Date: 2003<br>Academy Award for Best Actor/Actress : No",
          "Movie: Shark Tale<br>IMDb Score: 6.0<br>Release Date: 2004<br>Academy Award for Best Actor/Actress : No",
          "Movie: Sky Captain and the World of Tomorrow<br>IMDb Score: 6.1<br>Release Date: 2004<br>Academy Award for Best Actor/Actress : No",
          "Movie: Alexander<br>IMDb Score: 5.5<br>Release Date: 2004<br>Academy Award for Best Actor/Actress : No",
          "Movie: Mr. & Mrs. Smith<br>IMDb Score: 6.5<br>Release Date: 2005<br>Academy Award for Best Actor/Actress : No",
          "Movie: Beowulf<br>IMDb Score: 6.3<br>Release Date: 2007<br>Academy Award for Best Actor/Actress : No",
          "Movie: A Mighty Heart<br>IMDb Score: 6.7<br>Release Date: 2007<br>Academy Award for Best Actor/Actress : No",
          "Movie: Wanted<br>IMDb Score: 6.7<br>Release Date: 2008<br>Academy Award for Best Actor/Actress : No",
          "Movie: Kung Fu Panda<br>IMDb Score: 7.6<br>Release Date: 2008<br>Academy Award for Best Actor/Actress : No",
          "Movie: Changeling<br>IMDb Score: 7.8<br>Release Date: 2008<br>Academy Award for Best Actor/Actress : No",
          "Movie: The Tourist<br>IMDb Score: 6.0<br>Release Date: 2010<br>Academy Award for Best Actor/Actress : No",
          "Movie: The Tourist<br>IMDb Score: 6.0<br>Release Date: 2010<br>Academy Award for Best Actor/Actress : No",
          "Movie: Salt<br>IMDb Score: 6.4<br>Release Date: 2010<br>Academy Award for Best Actor/Actress : No",
          "Movie: Kung Fu Panda 2<br>IMDb Score: 7.3<br>Release Date: 2011<br>Academy Award for Best Actor/Actress : No",
          "Movie: Maleficent<br>IMDb Score: 7.0<br>Release Date: 2014<br>Academy Award for Best Actor/Actress : No"
         ],
         "legendgroup": "Angelina Jolie",
         "line": {
          "color": "#EF553B"
         },
         "marker": {
          "size": [
           8,
           8,
           15,
           8,
           8,
           8,
           8,
           8,
           8,
           8,
           8,
           8,
           8,
           8,
           8,
           8,
           8,
           8,
           8,
           8,
           8,
           8,
           8,
           8
          ],
          "symbol": [
           "circle",
           "circle",
           "star",
           "circle",
           "circle",
           "circle",
           "circle",
           "circle",
           "circle",
           "circle",
           "circle",
           "circle",
           "circle",
           "circle",
           "circle",
           "circle",
           "circle",
           "circle",
           "circle",
           "circle",
           "circle",
           "circle",
           "circle",
           "circle"
          ]
         },
         "mode": "lines+markers",
         "name": "Angelina Jolie",
         "type": "scatter",
         "visible": false,
         "x": [
          1995,
          1999,
          1999,
          1999,
          2001,
          2001,
          2001,
          2002,
          2003,
          2003,
          2004,
          2004,
          2004,
          2005,
          2007,
          2007,
          2008,
          2008,
          2008,
          2010,
          2010,
          2010,
          2011,
          2014
         ],
         "y": [
          6.2,
          6.7,
          7.3,
          6,
          6,
          6,
          5.7,
          5.8,
          6.5,
          5.5,
          6,
          6.1,
          5.5,
          6.5,
          6.3,
          6.7,
          6.7,
          7.6,
          7.8,
          6,
          6,
          6.4,
          7.3,
          7
         ]
        },
        {
         "hoverinfo": "text",
         "hovertext": [
          "Movie: The Piano<br>IMDb Score: 7.6<br>Release Date: 1993<br>Academy Award for Best Actor/Actress : Yes",
          "Movie: Amistad<br>IMDb Score: 7.2<br>Release Date: 1997<br>Academy Award for Best Actor/Actress : No",
          "Movie: She's All That<br>IMDb Score: 5.8<br>Release Date: 1999<br>Academy Award for Best Actor/Actress : No",
          "Movie: A Walk on the Moon<br>IMDb Score: 6.6<br>Release Date: 1999<br>Academy Award for Best Actor/Actress : No",
          "Movie: Finding Forrester<br>IMDb Score: 7.3<br>Release Date: 2000<br>Academy Award for Best Actor/Actress : No",
          "Movie: X-Men<br>IMDb Score: 7.4<br>Release Date: 2000<br>Academy Award for Best Actor/Actress : No",
          "Movie: Almost Famous<br>IMDb Score: 7.9<br>Release Date: 2000<br>Academy Award for Best Actor/Actress : No",
          "Movie: 25th Hour<br>IMDb Score: 7.7<br>Release Date: 2002<br>Academy Award for Best Actor/Actress : No",
          "Movie: Darkness<br>IMDb Score: 5.4<br>Release Date: 2002<br>Academy Award for Best Actor/Actress : No",
          "Movie: X-Men: The Last Stand<br>IMDb Score: 6.8<br>Release Date: 2006<br>Academy Award for Best Actor/Actress : No",
          "Movie: Scream 4<br>IMDb Score: 6.2<br>Release Date: 2011<br>Academy Award for Best Actor/Actress : No",
          "Movie: Margaret<br>IMDb Score: 6.5<br>Release Date: 2011<br>Academy Award for Best Actor/Actress : No"
         ],
         "legendgroup": "Anna Paquin",
         "line": {
          "color": "#00CC96"
         },
         "marker": {
          "size": [
           15,
           8,
           8,
           8,
           8,
           8,
           8,
           8,
           8,
           8,
           8,
           8
          ],
          "symbol": [
           "star",
           "circle",
           "circle",
           "circle",
           "circle",
           "circle",
           "circle",
           "circle",
           "circle",
           "circle",
           "circle",
           "circle"
          ]
         },
         "mode": "lines+markers",
         "name": "Anna Paquin",
         "type": "scatter",
         "visible": false,
         "x": [
          1993,
          1997,
          1999,
          1999,
          2000,
          2000,
          2000,
          2002,
          2002,
          2006,
          2011,
          2011
         ],
         "y": [
          7.6,
          7.2,
          5.8,
          6.6,
          7.3,
          7.4,
          7.9,
          7.7,
          5.4,
          6.8,
          6.2,
          6.5
         ]
        },
        {
         "hoverinfo": "text",
         "hovertext": [
          "Movie: Nicholas Nickleby<br>IMDb Score: 7.2<br>Release Date: 2002<br>Academy Award for Best Actor/Actress : No",
          "Movie: The Princess Diaries 2: Royal Engagement<br>IMDb Score: 5.7<br>Release Date: 2004<br>Academy Award for Best Actor/Actress : No",
          "Movie: Ella Enchanted<br>IMDb Score: 6.3<br>Release Date: 2004<br>Academy Award for Best Actor/Actress : No",
          "Movie: Brokeback Mountain<br>IMDb Score: 7.7<br>Release Date: 2005<br>Academy Award for Best Actor/Actress : No",
          "Movie: The Devil Wears Prada<br>IMDb Score: 6.8<br>Release Date: 2006<br>Academy Award for Best Actor/Actress : No",
          "Movie: Becoming Jane<br>IMDb Score: 7.1<br>Release Date: 2007<br>Academy Award for Best Actor/Actress : No",
          "Movie: Get Smart<br>IMDb Score: 6.5<br>Release Date: 2008<br>Academy Award for Best Actor/Actress : No",
          "Movie: Rachel Getting Married<br>IMDb Score: 6.7<br>Release Date: 2008<br>Academy Award for Best Actor/Actress : No",
          "Movie: Bride Wars<br>IMDb Score: 5.4<br>Release Date: 2009<br>Academy Award for Best Actor/Actress : No",
          "Movie: Alice in Wonderland<br>IMDb Score: 6.5<br>Release Date: 2010<br>Academy Award for Best Actor/Actress : No",
          "Movie: Alice in Wonderland<br>IMDb Score: 6.5<br>Release Date: 2010<br>Academy Award for Best Actor/Actress : No",
          "Movie: Valentine's Day<br>IMDb Score: 5.7<br>Release Date: 2010<br>Academy Award for Best Actor/Actress : No",
          "Movie: One Day<br>IMDb Score: 7.0<br>Release Date: 2011<br>Academy Award for Best Actor/Actress : No",
          "Movie: Rio<br>IMDb Score: 7.0<br>Release Date: 2011<br>Academy Award for Best Actor/Actress : No",
          "Movie: The Dark Knight Rises<br>IMDb Score: 8.5<br>Release Date: 2012<br>Academy Award for Best Actor/Actress : No",
          "Movie: Les Misérables<br>IMDb Score: 7.6<br>Release Date: 2012<br>Academy Award for Best Actor/Actress : Yes"
         ],
         "legendgroup": "Anne Hathaway",
         "line": {
          "color": "#AB63FA"
         },
         "marker": {
          "size": [
           8,
           8,
           8,
           8,
           8,
           8,
           8,
           8,
           8,
           8,
           8,
           8,
           8,
           8,
           8,
           15
          ],
          "symbol": [
           "circle",
           "circle",
           "circle",
           "circle",
           "circle",
           "circle",
           "circle",
           "circle",
           "circle",
           "circle",
           "circle",
           "circle",
           "circle",
           "circle",
           "circle",
           "star"
          ]
         },
         "mode": "lines+markers",
         "name": "Anne Hathaway",
         "type": "scatter",
         "visible": false,
         "x": [
          2002,
          2004,
          2004,
          2005,
          2006,
          2007,
          2008,
          2008,
          2009,
          2010,
          2010,
          2010,
          2011,
          2011,
          2012,
          2012
         ],
         "y": [
          7.2,
          5.7,
          6.3,
          7.7,
          6.8,
          7.1,
          6.5,
          6.7,
          5.4,
          6.5,
          6.5,
          5.7,
          7,
          7,
          8.5,
          7.6
         ]
        },
        {
         "hoverinfo": "text",
         "hovertext": [
          "Movie: The Phantom<br>IMDb Score: 4.9<br>Release Date: 1996<br>Academy Award for Best Actor/Actress : No",
          "Movie: The Mask of Zorro<br>IMDb Score: 6.7<br>Release Date: 1998<br>Academy Award for Best Actor/Actress : No",
          "Movie: The Haunting<br>IMDb Score: 4.9<br>Release Date: 1999<br>Academy Award for Best Actor/Actress : No",
          "Movie: Entrapment<br>IMDb Score: 6.2<br>Release Date: 1999<br>Academy Award for Best Actor/Actress : No",
          "Movie: High Fidelity<br>IMDb Score: 7.6<br>Release Date: 2000<br>Academy Award for Best Actor/Actress : No",
          "Movie: America's Sweethearts<br>IMDb Score: 5.7<br>Release Date: 2001<br>Academy Award for Best Actor/Actress : No",
          "Movie: Chicago<br>IMDb Score: 7.2<br>Release Date: 2002<br>Academy Award for Best Actor/Actress : Yes",
          "Movie: Intolerable Cruelty<br>IMDb Score: 6.3<br>Release Date: 2003<br>Academy Award for Best Actor/Actress : No",
          "Movie: Sinbad: Legend of the Seven Seas<br>IMDb Score: 6.7<br>Release Date: 2003<br>Academy Award for Best Actor/Actress : No",
          "Movie: The Terminal<br>IMDb Score: 7.3<br>Release Date: 2004<br>Academy Award for Best Actor/Actress : No",
          "Movie: Ocean's Twelve<br>IMDb Score: 6.4<br>Release Date: 2004<br>Academy Award for Best Actor/Actress : No",
          "Movie: The Legend of Zorro<br>IMDb Score: 5.9<br>Release Date: 2005<br>Academy Award for Best Actor/Actress : No",
          "Movie: No Reservations<br>IMDb Score: 6.3<br>Release Date: 2007<br>Academy Award for Best Actor/Actress : No",
          "Movie: Playing for Keeps<br>IMDb Score: 5.7<br>Release Date: 2012<br>Academy Award for Best Actor/Actress : No",
          "Movie: Rock of Ages<br>IMDb Score: 5.9<br>Release Date: 2012<br>Academy Award for Best Actor/Actress : No",
          "Movie: Broken City<br>IMDb Score: 6.2<br>Release Date: 2013<br>Academy Award for Best Actor/Actress : No"
         ],
         "legendgroup": "Catherine Zeta-Jones",
         "line": {
          "color": "#FFA15A"
         },
         "marker": {
          "size": [
           8,
           8,
           8,
           8,
           8,
           8,
           15,
           8,
           8,
           8,
           8,
           8,
           8,
           8,
           8,
           8
          ],
          "symbol": [
           "circle",
           "circle",
           "circle",
           "circle",
           "circle",
           "circle",
           "star",
           "circle",
           "circle",
           "circle",
           "circle",
           "circle",
           "circle",
           "circle",
           "circle",
           "circle"
          ]
         },
         "mode": "lines+markers",
         "name": "Catherine Zeta-Jones",
         "type": "scatter",
         "visible": false,
         "x": [
          1996,
          1998,
          1999,
          1999,
          2000,
          2001,
          2002,
          2003,
          2003,
          2004,
          2004,
          2005,
          2007,
          2012,
          2012,
          2013
         ],
         "y": [
          4.9,
          6.7,
          4.9,
          6.2,
          7.6,
          5.7,
          7.2,
          6.3,
          6.7,
          7.3,
          6.4,
          5.9,
          6.3,
          5.7,
          5.9,
          6.2
         ]
        },
        {
         "hoverinfo": "text",
         "hovertext": [
          "Movie: Henry V<br>IMDb Score: 7.7<br>Release Date: 1989<br>Academy Award for Best Actor/Actress : No",
          "Movie: Little Women<br>IMDb Score: 7.3<br>Release Date: 1994<br>Academy Award for Best Actor/Actress : No",
          "Movie: Pocahontas<br>IMDb Score: 6.6<br>Release Date: 1995<br>Academy Award for Best Actor/Actress : No",
          "Movie: Velvet Goldmine<br>IMDb Score: 7.0<br>Release Date: 1998<br>Academy Award for Best Actor/Actress : No",
          "Movie: American Psycho<br>IMDb Score: 7.6<br>Release Date: 2000<br>Academy Award for Best Actor/Actress : No",
          "Movie: Shaft<br>IMDb Score: 5.9<br>Release Date: 2000<br>Academy Award for Best Actor/Actress : No",
          "Movie: Captain Corelli's Mandolin<br>IMDb Score: 5.9<br>Release Date: 2001<br>Academy Award for Best Actor/Actress : No",
          "Movie: Equilibrium<br>IMDb Score: 7.5<br>Release Date: 2002<br>Academy Award for Best Actor/Actress : No",
          "Movie: Reign of Fire<br>IMDb Score: 6.2<br>Release Date: 2002<br>Academy Award for Best Actor/Actress : No",
          "Movie: The Machinist<br>IMDb Score: 7.7<br>Release Date: 2004<br>Academy Award for Best Actor/Actress : No",
          "Movie: Howl's Moving Castle<br>IMDb Score: 8.2<br>Release Date: 2004<br>Academy Award for Best Actor/Actress : No",
          "Movie: The New World<br>IMDb Score: 6.7<br>Release Date: 2005<br>Academy Award for Best Actor/Actress : No",
          "Movie: Harsh Times<br>IMDb Score: 7.0<br>Release Date: 2005<br>Academy Award for Best Actor/Actress : No",
          "Movie: Batman Begins<br>IMDb Score: 8.3<br>Release Date: 2005<br>Academy Award for Best Actor/Actress : No",
          "Movie: The Prestige<br>IMDb Score: 8.5<br>Release Date: 2006<br>Academy Award for Best Actor/Actress : No",
          "Movie: Rescue Dawn<br>IMDb Score: 7.3<br>Release Date: 2006<br>Academy Award for Best Actor/Actress : No",
          "Movie: 3:10 to Yuma<br>IMDb Score: 7.8<br>Release Date: 2007<br>Academy Award for Best Actor/Actress : No",
          "Movie: The Dark Knight<br>IMDb Score: 9.0<br>Release Date: 2008<br>Academy Award for Best Actor/Actress : No",
          "Movie: Public Enemies<br>IMDb Score: 7.0<br>Release Date: 2009<br>Academy Award for Best Actor/Actress : No",
          "Movie: Terminator Salvation<br>IMDb Score: 6.6<br>Release Date: 2009<br>Academy Award for Best Actor/Actress : No",
          "Movie: The Fighter<br>IMDb Score: 7.9<br>Release Date: 2010<br>Academy Award for Best Actor/Actress : Yes",
          "Movie: The Flowers of War<br>IMDb Score: 7.6<br>Release Date: 2011<br>Academy Award for Best Actor/Actress : No",
          "Movie: The Dark Knight Rises<br>IMDb Score: 8.5<br>Release Date: 2012<br>Academy Award for Best Actor/Actress : No",
          "Movie: The Dark Knight Rises<br>IMDb Score: 8.5<br>Release Date: 2012<br>Academy Award for Best Actor/Actress : No"
         ],
         "legendgroup": "Christian Bale",
         "line": {
          "color": "#19D3F3"
         },
         "marker": {
          "size": [
           8,
           8,
           8,
           8,
           8,
           8,
           8,
           8,
           8,
           8,
           8,
           8,
           8,
           8,
           8,
           8,
           8,
           8,
           8,
           8,
           15,
           8,
           8,
           8
          ],
          "symbol": [
           "circle",
           "circle",
           "circle",
           "circle",
           "circle",
           "circle",
           "circle",
           "circle",
           "circle",
           "circle",
           "circle",
           "circle",
           "circle",
           "circle",
           "circle",
           "circle",
           "circle",
           "circle",
           "circle",
           "circle",
           "star",
           "circle",
           "circle",
           "circle"
          ]
         },
         "mode": "lines+markers",
         "name": "Christian Bale",
         "type": "scatter",
         "visible": false,
         "x": [
          1989,
          1994,
          1995,
          1998,
          2000,
          2000,
          2001,
          2002,
          2002,
          2004,
          2004,
          2005,
          2005,
          2005,
          2006,
          2006,
          2007,
          2008,
          2009,
          2009,
          2010,
          2011,
          2012,
          2012
         ],
         "y": [
          7.7,
          7.3,
          6.6,
          7,
          7.6,
          5.9,
          5.9,
          7.5,
          6.2,
          7.7,
          8.2,
          6.7,
          7,
          8.3,
          8.5,
          7.3,
          7.8,
          9,
          7,
          6.6,
          7.9,
          7.6,
          8.5,
          8.5
         ]
        },
        {
         "hoverinfo": "text",
         "hovertext": [
          "Movie: Inglourious Basterds<br>IMDb Score: 8.3<br>Release Date: 2009<br>Academy Award for Best Actor/Actress : Yes",
          "Movie: Carnage<br>IMDb Score: 7.2<br>Release Date: 2011<br>Academy Award for Best Actor/Actress : No",
          "Movie: The Green Hornet<br>IMDb Score: 5.8<br>Release Date: 2011<br>Academy Award for Best Actor/Actress : No",
          "Movie: Water for Elephants<br>IMDb Score: 6.9<br>Release Date: 2011<br>Academy Award for Best Actor/Actress : No",
          "Movie: Water for Elephants<br>IMDb Score: 6.9<br>Release Date: 2011<br>Academy Award for Best Actor/Actress : No",
          "Movie: The Three Musketeers<br>IMDb Score: 5.8<br>Release Date: 2011<br>Academy Award for Best Actor/Actress : No",
          "Movie: Django Unchained<br>IMDb Score: 8.5<br>Release Date: 2012<br>Academy Award for Best Actor/Actress : Yes"
         ],
         "legendgroup": "Christoph Waltz",
         "line": {
          "color": "#FF6692"
         },
         "marker": {
          "size": [
           15,
           8,
           8,
           8,
           8,
           8,
           15
          ],
          "symbol": [
           "star",
           "circle",
           "circle",
           "circle",
           "circle",
           "circle",
           "star"
          ]
         },
         "mode": "lines+markers",
         "name": "Christoph Waltz",
         "type": "scatter",
         "visible": false,
         "x": [
          2009,
          2011,
          2011,
          2011,
          2011,
          2011,
          2012
         ],
         "y": [
          8.3,
          7.2,
          5.8,
          6.9,
          6.9,
          5.8,
          8.5
         ]
        },
        {
         "hoverinfo": "text",
         "hovertext": [
          "Movie: Somewhere in Time<br>IMDb Score: 7.3<br>Release Date: 1980<br>Academy Award for Best Actor/Actress : No",
          "Movie: Star Trek VI: The Undiscovered Country<br>IMDb Score: 7.2<br>Release Date: 1991<br>Academy Award for Best Actor/Actress : No",
          "Movie: Malcolm X<br>IMDb Score: 7.7<br>Release Date: 1992<br>Academy Award for Best Actor/Actress : No",
          "Movie: Wolf<br>IMDb Score: 6.2<br>Release Date: 1994<br>Academy Award for Best Actor/Actress : No",
          "Movie: The Insider<br>IMDb Score: 7.9<br>Release Date: 1999<br>Academy Award for Best Actor/Actress : No",
          "Movie: Dracula 2000<br>IMDb Score: 4.9<br>Release Date: 2000<br>Academy Award for Best Actor/Actress : No",
          "Movie: A Beautiful Mind<br>IMDb Score: 8.2<br>Release Date: 2001<br>Academy Award for Best Actor/Actress : No",
          "Movie: Lucky Break<br>IMDb Score: 6.2<br>Release Date: 2001<br>Academy Award for Best Actor/Actress : No",
          "Movie: Ararat<br>IMDb Score: 6.6<br>Release Date: 2002<br>Academy Award for Best Actor/Actress : No",
          "Movie: Nicholas Nickleby<br>IMDb Score: 7.2<br>Release Date: 2002<br>Academy Award for Best Actor/Actress : No",
          "Movie: National Treasure<br>IMDb Score: 6.9<br>Release Date: 2004<br>Academy Award for Best Actor/Actress : No",
          "Movie: Alexander<br>IMDb Score: 5.5<br>Release Date: 2004<br>Academy Award for Best Actor/Actress : No",
          "Movie: Syriana<br>IMDb Score: 7.0<br>Release Date: 2005<br>Academy Award for Best Actor/Actress : No",
          "Movie: Syriana<br>IMDb Score: 7.0<br>Release Date: 2005<br>Academy Award for Best Actor/Actress : No",
          "Movie: Must Love Dogs<br>IMDb Score: 5.9<br>Release Date: 2005<br>Academy Award for Best Actor/Actress : No",
          "Movie: The New World<br>IMDb Score: 6.7<br>Release Date: 2005<br>Academy Award for Best Actor/Actress : No",
          "Movie: The Lake House<br>IMDb Score: 6.8<br>Release Date: 2006<br>Academy Award for Best Actor/Actress : No",
          "Movie: Inside Man<br>IMDb Score: 7.6<br>Release Date: 2006<br>Academy Award for Best Actor/Actress : No",
          "Movie: Up<br>IMDb Score: 8.3<br>Release Date: 2009<br>Academy Award for Best Actor/Actress : No",
          "Movie: The Last Station<br>IMDb Score: 7.0<br>Release Date: 2009<br>Academy Award for Best Actor/Actress : No",
          "Movie: 9<br>IMDb Score: 7.1<br>Release Date: 2009<br>Academy Award for Best Actor/Actress : No",
          "Movie: Beginners<br>IMDb Score: 7.2<br>Release Date: 2010<br>Academy Award for Best Actor/Actress : Yes",
          "Movie: The Girl with the Dragon Tattoo<br>IMDb Score: 7.8<br>Release Date: 2011<br>Academy Award for Best Actor/Actress : No",
          "Movie: Priest<br>IMDb Score: 5.7<br>Release Date: 2011<br>Academy Award for Best Actor/Actress : No"
         ],
         "legendgroup": "Christopher Plummer",
         "line": {
          "color": "#B6E880"
         },
         "marker": {
          "size": [
           8,
           8,
           8,
           8,
           8,
           8,
           8,
           8,
           8,
           8,
           8,
           8,
           8,
           8,
           8,
           8,
           8,
           8,
           8,
           8,
           8,
           15,
           8,
           8
          ],
          "symbol": [
           "circle",
           "circle",
           "circle",
           "circle",
           "circle",
           "circle",
           "circle",
           "circle",
           "circle",
           "circle",
           "circle",
           "circle",
           "circle",
           "circle",
           "circle",
           "circle",
           "circle",
           "circle",
           "circle",
           "circle",
           "circle",
           "star",
           "circle",
           "circle"
          ]
         },
         "mode": "lines+markers",
         "name": "Christopher Plummer",
         "type": "scatter",
         "visible": false,
         "x": [
          1980,
          1991,
          1992,
          1994,
          1999,
          2000,
          2001,
          2001,
          2002,
          2002,
          2004,
          2004,
          2005,
          2005,
          2005,
          2005,
          2006,
          2006,
          2009,
          2009,
          2009,
          2010,
          2011,
          2011
         ],
         "y": [
          7.3,
          7.2,
          7.7,
          6.2,
          7.9,
          4.9,
          8.2,
          6.2,
          6.6,
          7.2,
          6.9,
          5.5,
          7,
          7,
          5.9,
          6.7,
          6.8,
          7.6,
          8.3,
          7,
          7.1,
          7.2,
          7.8,
          5.7
         ]
        },
        {
         "hoverinfo": "text",
         "hovertext": [
          "Movie: Footloose<br>IMDb Score: 6.5<br>Release Date: 1984<br>Academy Award for Best Actor/Actress : No",
          "Movie: Footloose<br>IMDb Score: 6.5<br>Release Date: 1984<br>Academy Award for Best Actor/Actress : No",
          "Movie: Radio Days<br>IMDb Score: 7.6<br>Release Date: 1987<br>Academy Award for Best Actor/Actress : No",
          "Movie: The Lost Boys<br>IMDb Score: 7.2<br>Release Date: 1987<br>Academy Award for Best Actor/Actress : No",
          "Movie: Bright Lights, Big City<br>IMDb Score: 5.6<br>Release Date: 1988<br>Academy Award for Best Actor/Actress : No",
          "Movie: Edward Scissorhands<br>IMDb Score: 7.9<br>Release Date: 1990<br>Academy Award for Best Actor/Actress : No",
          "Movie: Bullets Over Broadway<br>IMDb Score: 7.5<br>Release Date: 1994<br>Academy Award for Best Actor/Actress : Yes",
          "Movie: Practical Magic<br>IMDb Score: 6.1<br>Release Date: 1998<br>Academy Award for Best Actor/Actress : No",
          "Movie: The Horse Whisperer<br>IMDb Score: 6.5<br>Release Date: 1998<br>Academy Award for Best Actor/Actress : No",
          "Movie: I Am Sam<br>IMDb Score: 7.6<br>Release Date: 2001<br>Academy Award for Best Actor/Actress : No",
          "Movie: Synecdoche, New York<br>IMDb Score: 7.5<br>Release Date: 2008<br>Academy Award for Best Actor/Actress : No",
          "Movie: Rabbit Hole<br>IMDb Score: 7.0<br>Release Date: 2010<br>Academy Award for Best Actor/Actress : No",
          "Movie: The Big Year<br>IMDb Score: 6.2<br>Release Date: 2011<br>Academy Award for Best Actor/Actress : No",
          "Movie: The Odd Life of Timothy Green<br>IMDb Score: 6.6<br>Release Date: 2012<br>Academy Award for Best Actor/Actress : No",
          "Movie: Darling Companion<br>IMDb Score: 5.1<br>Release Date: 2012<br>Academy Award for Best Actor/Actress : No"
         ],
         "legendgroup": "Dianne Wiest",
         "line": {
          "color": "#FF97FF"
         },
         "marker": {
          "size": [
           8,
           8,
           8,
           8,
           8,
           8,
           15,
           8,
           8,
           8,
           8,
           8,
           8,
           8,
           8
          ],
          "symbol": [
           "circle",
           "circle",
           "circle",
           "circle",
           "circle",
           "circle",
           "star",
           "circle",
           "circle",
           "circle",
           "circle",
           "circle",
           "circle",
           "circle",
           "circle"
          ]
         },
         "mode": "lines+markers",
         "name": "Dianne Wiest",
         "type": "scatter",
         "visible": false,
         "x": [
          1984,
          1984,
          1987,
          1987,
          1988,
          1990,
          1994,
          1998,
          1998,
          2001,
          2008,
          2010,
          2011,
          2012,
          2012
         ],
         "y": [
          6.5,
          6.5,
          7.6,
          7.2,
          5.6,
          7.9,
          7.5,
          6.1,
          6.5,
          7.6,
          7.5,
          7,
          6.2,
          6.6,
          5.1
         ]
        },
        {
         "hoverinfo": "text",
         "hovertext": [
          "Movie: Unforgiven<br>IMDb Score: 8.3<br>Release Date: 1992<br>Academy Award for Best Actor/Actress : Yes",
          "Movie: The Firm<br>IMDb Score: 6.8<br>Release Date: 1993<br>Academy Award for Best Actor/Actress : No",
          "Movie: Wyatt Earp<br>IMDb Score: 6.6<br>Release Date: 1994<br>Academy Award for Best Actor/Actress : No",
          "Movie: The Quick and the Dead<br>IMDb Score: 6.4<br>Release Date: 1995<br>Academy Award for Best Actor/Actress : No",
          "Movie: Crimson Tide<br>IMDb Score: 7.3<br>Release Date: 1995<br>Academy Award for Best Actor/Actress : No",
          "Movie: Get Shorty<br>IMDb Score: 6.9<br>Release Date: 1995<br>Academy Award for Best Actor/Actress : No",
          "Movie: Extreme Measures<br>IMDb Score: 6.1<br>Release Date: 1996<br>Academy Award for Best Actor/Actress : No",
          "Movie: Absolute Power<br>IMDb Score: 6.7<br>Release Date: 1997<br>Academy Award for Best Actor/Actress : No",
          "Movie: Antz<br>IMDb Score: 6.6<br>Release Date: 1998<br>Academy Award for Best Actor/Actress : No",
          "Movie: Enemy of the State<br>IMDb Score: 7.3<br>Release Date: 1998<br>Academy Award for Best Actor/Actress : No",
          "Movie: The Replacements<br>IMDb Score: 6.5<br>Release Date: 2000<br>Academy Award for Best Actor/Actress : No",
          "Movie: The Royal Tenenbaums<br>IMDb Score: 7.6<br>Release Date: 2001<br>Academy Award for Best Actor/Actress : No",
          "Movie: The Mexican<br>IMDb Score: 6.1<br>Release Date: 2001<br>Academy Award for Best Actor/Actress : No",
          "Movie: Heartbreakers<br>IMDb Score: 6.2<br>Release Date: 2001<br>Academy Award for Best Actor/Actress : No",
          "Movie: Behind Enemy Lines<br>IMDb Score: 6.4<br>Release Date: 2001<br>Academy Award for Best Actor/Actress : No",
          "Movie: Welcome to Mooseport<br>IMDb Score: 5.2<br>Release Date: 2004<br>Academy Award for Best Actor/Actress : No"
         ],
         "legendgroup": "Gene Hackman",
         "line": {
          "color": "#FECB52"
         },
         "marker": {
          "size": [
           15,
           8,
           8,
           8,
           8,
           8,
           8,
           8,
           8,
           8,
           8,
           8,
           8,
           8,
           8,
           8
          ],
          "symbol": [
           "star",
           "circle",
           "circle",
           "circle",
           "circle",
           "circle",
           "circle",
           "circle",
           "circle",
           "circle",
           "circle",
           "circle",
           "circle",
           "circle",
           "circle",
           "circle"
          ]
         },
         "mode": "lines+markers",
         "name": "Gene Hackman",
         "type": "scatter",
         "visible": false,
         "x": [
          1992,
          1993,
          1994,
          1995,
          1995,
          1995,
          1996,
          1997,
          1998,
          1998,
          2000,
          2001,
          2001,
          2001,
          2001,
          2004
         ],
         "y": [
          8.3,
          6.8,
          6.6,
          6.4,
          7.3,
          6.9,
          6.1,
          6.7,
          6.6,
          7.3,
          6.5,
          7.6,
          6.1,
          6.2,
          6.4,
          5.2
         ]
        },
        {
         "hoverinfo": "text",
         "hovertext": [
          "Movie: From Dusk Till Dawn<br>IMDb Score: 7.3<br>Release Date: 1996<br>Academy Award for Best Actor/Actress : No",
          "Movie: Batman & Robin<br>IMDb Score: 3.7<br>Release Date: 1997<br>Academy Award for Best Actor/Actress : No",
          "Movie: The Peacemaker<br>IMDb Score: 5.9<br>Release Date: 1997<br>Academy Award for Best Actor/Actress : No",
          "Movie: The Thin Red Line<br>IMDb Score: 7.6<br>Release Date: 1998<br>Academy Award for Best Actor/Actress : No",
          "Movie: Out of Sight<br>IMDb Score: 7.0<br>Release Date: 1998<br>Academy Award for Best Actor/Actress : No",
          "Movie: Three Kings<br>IMDb Score: 7.1<br>Release Date: 1999<br>Academy Award for Best Actor/Actress : No",
          "Movie: O Brother, Where Art Thou?<br>IMDb Score: 7.8<br>Release Date: 2000<br>Academy Award for Best Actor/Actress : No",
          "Movie: The Perfect Storm<br>IMDb Score: 6.4<br>Release Date: 2000<br>Academy Award for Best Actor/Actress : No",
          "Movie: Spy Kids<br>IMDb Score: 5.4<br>Release Date: 2001<br>Academy Award for Best Actor/Actress : No",
          "Movie: Ocean's Eleven<br>IMDb Score: 7.8<br>Release Date: 2001<br>Academy Award for Best Actor/Actress : No",
          "Movie: Confessions of a Dangerous Mind<br>IMDb Score: 7.1<br>Release Date: 2002<br>Academy Award for Best Actor/Actress : No",
          "Movie: Welcome to Collinwood<br>IMDb Score: 6.4<br>Release Date: 2002<br>Academy Award for Best Actor/Actress : No",
          "Movie: Intolerable Cruelty<br>IMDb Score: 6.3<br>Release Date: 2003<br>Academy Award for Best Actor/Actress : No",
          "Movie: Spy Kids 3-D: Game Over<br>IMDb Score: 4.1<br>Release Date: 2003<br>Academy Award for Best Actor/Actress : No",
          "Movie: Ocean's Twelve<br>IMDb Score: 6.4<br>Release Date: 2004<br>Academy Award for Best Actor/Actress : No",
          "Movie: Good Night, and Good Luck.<br>IMDb Score: 7.5<br>Release Date: 2005<br>Academy Award for Best Actor/Actress : No",
          "Movie: Syriana<br>IMDb Score: 7.0<br>Release Date: 2005<br>Academy Award for Best Actor/Actress : Yes",
          "Movie: Syriana<br>IMDb Score: 7.0<br>Release Date: 2005<br>Academy Award for Best Actor/Actress : Yes",
          "Movie: The Good German<br>IMDb Score: 6.1<br>Release Date: 2006<br>Academy Award for Best Actor/Actress : No",
          "Movie: Michael Clayton<br>IMDb Score: 7.3<br>Release Date: 2007<br>Academy Award for Best Actor/Actress : No",
          "Movie: Ocean's Thirteen<br>IMDb Score: 6.9<br>Release Date: 2007<br>Academy Award for Best Actor/Actress : No",
          "Movie: Leatherheads<br>IMDb Score: 6.0<br>Release Date: 2008<br>Academy Award for Best Actor/Actress : No",
          "Movie: Burn After Reading<br>IMDb Score: 7.0<br>Release Date: 2008<br>Academy Award for Best Actor/Actress : No",
          "Movie: The Men Who Stare at Goats<br>IMDb Score: 6.2<br>Release Date: 2009<br>Academy Award for Best Actor/Actress : No",
          "Movie: Up in the Air<br>IMDb Score: 7.4<br>Release Date: 2009<br>Academy Award for Best Actor/Actress : No",
          "Movie: Fantastic Mr. Fox<br>IMDb Score: 7.8<br>Release Date: 2009<br>Academy Award for Best Actor/Actress : No",
          "Movie: The American<br>IMDb Score: 6.3<br>Release Date: 2010<br>Academy Award for Best Actor/Actress : No",
          "Movie: The Ides of March<br>IMDb Score: 7.1<br>Release Date: 2011<br>Academy Award for Best Actor/Actress : No",
          "Movie: The Descendants<br>IMDb Score: 7.3<br>Release Date: 2011<br>Academy Award for Best Actor/Actress : No"
         ],
         "legendgroup": "George Clooney",
         "line": {
          "color": "#636EFA"
         },
         "marker": {
          "size": [
           8,
           8,
           8,
           8,
           8,
           8,
           8,
           8,
           8,
           8,
           8,
           8,
           8,
           8,
           8,
           8,
           15,
           15,
           8,
           8,
           8,
           8,
           8,
           8,
           8,
           8,
           8,
           8,
           8
          ],
          "symbol": [
           "circle",
           "circle",
           "circle",
           "circle",
           "circle",
           "circle",
           "circle",
           "circle",
           "circle",
           "circle",
           "circle",
           "circle",
           "circle",
           "circle",
           "circle",
           "circle",
           "star",
           "star",
           "circle",
           "circle",
           "circle",
           "circle",
           "circle",
           "circle",
           "circle",
           "circle",
           "circle",
           "circle",
           "circle"
          ]
         },
         "mode": "lines+markers",
         "name": "George Clooney",
         "type": "scatter",
         "visible": false,
         "x": [
          1996,
          1997,
          1997,
          1998,
          1998,
          1999,
          2000,
          2000,
          2001,
          2001,
          2002,
          2002,
          2003,
          2003,
          2004,
          2005,
          2005,
          2005,
          2006,
          2007,
          2007,
          2008,
          2008,
          2009,
          2009,
          2009,
          2010,
          2011,
          2011
         ],
         "y": [
          7.3,
          3.7,
          5.9,
          7.6,
          7,
          7.1,
          7.8,
          6.4,
          5.4,
          7.8,
          7.1,
          6.4,
          6.3,
          4.1,
          6.4,
          7.5,
          7,
          7,
          6.1,
          7.3,
          6.9,
          6,
          7,
          6.2,
          7.4,
          7.8,
          6.3,
          7.1,
          7.3
         ]
        },
        {
         "hoverinfo": "text",
         "hovertext": [
          "Movie: 10 Things I Hate About You<br>IMDb Score: 7.2<br>Release Date: 1999<br>Academy Award for Best Actor/Actress : No",
          "Movie: The Patriot<br>IMDb Score: 7.1<br>Release Date: 2000<br>Academy Award for Best Actor/Actress : No",
          "Movie: A Knight's Tale<br>IMDb Score: 6.9<br>Release Date: 2001<br>Academy Award for Best Actor/Actress : No",
          "Movie: Monster's Ball<br>IMDb Score: 7.1<br>Release Date: 2001<br>Academy Award for Best Actor/Actress : No",
          "Movie: The Four Feathers<br>IMDb Score: 6.5<br>Release Date: 2002<br>Academy Award for Best Actor/Actress : No",
          "Movie: The Order<br>IMDb Score: 5.1<br>Release Date: 2003<br>Academy Award for Best Actor/Actress : No",
          "Movie: The Brothers Grimm<br>IMDb Score: 5.9<br>Release Date: 2005<br>Academy Award for Best Actor/Actress : No",
          "Movie: Lords of Dogtown<br>IMDb Score: 7.1<br>Release Date: 2005<br>Academy Award for Best Actor/Actress : No",
          "Movie: Brokeback Mountain<br>IMDb Score: 7.7<br>Release Date: 2005<br>Academy Award for Best Actor/Actress : No",
          "Movie: The Dark Knight<br>IMDb Score: 9.0<br>Release Date: 2008<br>Academy Award for Best Actor/Actress : Yes"
         ],
         "legendgroup": "Heath Ledger",
         "line": {
          "color": "#EF553B"
         },
         "marker": {
          "size": [
           8,
           8,
           8,
           8,
           8,
           8,
           8,
           8,
           8,
           15
          ],
          "symbol": [
           "circle",
           "circle",
           "circle",
           "circle",
           "circle",
           "circle",
           "circle",
           "circle",
           "circle",
           "star"
          ]
         },
         "mode": "lines+markers",
         "name": "Heath Ledger",
         "type": "scatter",
         "visible": false,
         "x": [
          1999,
          2000,
          2001,
          2001,
          2002,
          2003,
          2005,
          2005,
          2005,
          2008
         ],
         "y": [
          7.2,
          7.1,
          6.9,
          7.1,
          6.5,
          5.1,
          5.9,
          7.1,
          7.7,
          9
         ]
        },
        {
         "hoverinfo": "text",
         "hovertext": [
          "Movie: The Sea Inside<br>IMDb Score: 8.1<br>Release Date: 2004<br>Academy Award for Best Actor/Actress : No",
          "Movie: Collateral<br>IMDb Score: 7.6<br>Release Date: 2004<br>Academy Award for Best Actor/Actress : No",
          "Movie: No Country for Old Men<br>IMDb Score: 8.1<br>Release Date: 2007<br>Academy Award for Best Actor/Actress : Yes",
          "Movie: Love in the Time of Cholera<br>IMDb Score: 6.4<br>Release Date: 2007<br>Academy Award for Best Actor/Actress : No",
          "Movie: Vicky Cristina Barcelona<br>IMDb Score: 7.2<br>Release Date: 2008<br>Academy Award for Best Actor/Actress : No",
          "Movie: Biutiful<br>IMDb Score: 7.5<br>Release Date: 2010<br>Academy Award for Best Actor/Actress : No",
          "Movie: Eat Pray Love<br>IMDb Score: 5.7<br>Release Date: 2010<br>Academy Award for Best Actor/Actress : No",
          "Movie: Skyfall<br>IMDb Score: 7.8<br>Release Date: 2012<br>Academy Award for Best Actor/Actress : No",
          "Movie: Skyfall<br>IMDb Score: 7.8<br>Release Date: 2012<br>Academy Award for Best Actor/Actress : No"
         ],
         "legendgroup": "Javier Bardem",
         "line": {
          "color": "#00CC96"
         },
         "marker": {
          "size": [
           8,
           8,
           15,
           8,
           8,
           8,
           8,
           8,
           8
          ],
          "symbol": [
           "circle",
           "circle",
           "star",
           "circle",
           "circle",
           "circle",
           "circle",
           "circle",
           "circle"
          ]
         },
         "mode": "lines+markers",
         "name": "Javier Bardem",
         "type": "scatter",
         "visible": false,
         "x": [
          2004,
          2004,
          2007,
          2007,
          2008,
          2010,
          2010,
          2012,
          2012
         ],
         "y": [
          8.1,
          7.6,
          8.1,
          6.4,
          7.2,
          7.5,
          5.7,
          7.8,
          7.8
         ]
        },
        {
         "hoverinfo": "text",
         "hovertext": [
          "Movie: Once Upon a Time in America<br>IMDb Score: 8.4<br>Release Date: 1984<br>Academy Award for Best Actor/Actress : No",
          "Movie: Dark City<br>IMDb Score: 7.7<br>Release Date: 1998<br>Academy Award for Best Actor/Actress : No",
          "Movie: Requiem for a Dream<br>IMDb Score: 8.4<br>Release Date: 2000<br>Academy Award for Best Actor/Actress : No",
          "Movie: A Beautiful Mind<br>IMDb Score: 8.2<br>Release Date: 2001<br>Academy Award for Best Actor/Actress : Yes",
          "Movie: House of Sand and Fog<br>IMDb Score: 7.6<br>Release Date: 2003<br>Academy Award for Best Actor/Actress : No",
          "Movie: Hulk<br>IMDb Score: 5.7<br>Release Date: 2003<br>Academy Award for Best Actor/Actress : No",
          "Movie: Dark Water<br>IMDb Score: 5.6<br>Release Date: 2005<br>Academy Award for Best Actor/Actress : No",
          "Movie: Blood Diamond<br>IMDb Score: 8.0<br>Release Date: 2006<br>Academy Award for Best Actor/Actress : No",
          "Movie: Little Children<br>IMDb Score: 7.6<br>Release Date: 2006<br>Academy Award for Best Actor/Actress : No",
          "Movie: Inkheart<br>IMDb Score: 6.1<br>Release Date: 2008<br>Academy Award for Best Actor/Actress : No",
          "Movie: The Day the Earth Stood Still<br>IMDb Score: 5.5<br>Release Date: 2008<br>Academy Award for Best Actor/Actress : No",
          "Movie: The Day the Earth Stood Still<br>IMDb Score: 5.5<br>Release Date: 2008<br>Academy Award for Best Actor/Actress : No",
          "Movie: He's Just Not That Into You<br>IMDb Score: 6.4<br>Release Date: 2009<br>Academy Award for Best Actor/Actress : No",
          "Movie: 9<br>IMDb Score: 7.1<br>Release Date: 2009<br>Academy Award for Best Actor/Actress : No",
          "Movie: The Dilemma<br>IMDb Score: 5.3<br>Release Date: 2011<br>Academy Award for Best Actor/Actress : No",
          "Movie: Salvation Boulevard<br>IMDb Score: 5.3<br>Release Date: 2011<br>Academy Award for Best Actor/Actress : No",
          "Movie: Noah<br>IMDb Score: 5.8<br>Release Date: 2014<br>Academy Award for Best Actor/Actress : No"
         ],
         "legendgroup": "Jennifer Connelly",
         "line": {
          "color": "#AB63FA"
         },
         "marker": {
          "size": [
           8,
           8,
           8,
           15,
           8,
           8,
           8,
           8,
           8,
           8,
           8,
           8,
           8,
           8,
           8,
           8,
           8
          ],
          "symbol": [
           "circle",
           "circle",
           "circle",
           "star",
           "circle",
           "circle",
           "circle",
           "circle",
           "circle",
           "circle",
           "circle",
           "circle",
           "circle",
           "circle",
           "circle",
           "circle",
           "circle"
          ]
         },
         "mode": "lines+markers",
         "name": "Jennifer Connelly",
         "type": "scatter",
         "visible": false,
         "x": [
          1984,
          1998,
          2000,
          2001,
          2003,
          2003,
          2005,
          2006,
          2006,
          2008,
          2008,
          2008,
          2009,
          2009,
          2011,
          2011,
          2014
         ],
         "y": [
          8.4,
          7.7,
          8.4,
          8.2,
          7.6,
          5.7,
          5.6,
          8,
          7.6,
          6.1,
          5.5,
          5.5,
          6.4,
          7.1,
          5.3,
          5.3,
          5.8
         ]
        },
        {
         "hoverinfo": "text",
         "hovertext": [
          "Movie: The Postman Always Rings Twice<br>IMDb Score: 6.6<br>Release Date: 1981<br>Academy Award for Best Actor/Actress : No",
          "Movie: Tootsie<br>IMDb Score: 7.4<br>Release Date: 1982<br>Academy Award for Best Actor/Actress : Yes",
          "Movie: Cape Fear<br>IMDb Score: 7.3<br>Release Date: 1991<br>Academy Award for Best Actor/Actress : No",
          "Movie: Rob Roy<br>IMDb Score: 6.9<br>Release Date: 1995<br>Academy Award for Best Actor/Actress : No",
          "Movie: The Vow<br>IMDb Score: 6.8<br>Release Date: 2012<br>Academy Award for Best Actor/Actress : No"
         ],
         "legendgroup": "Jessica Lange",
         "line": {
          "color": "#FFA15A"
         },
         "marker": {
          "size": [
           8,
           15,
           8,
           8,
           8
          ],
          "symbol": [
           "circle",
           "star",
           "circle",
           "circle",
           "circle"
          ]
         },
         "mode": "lines+markers",
         "name": "Jessica Lange",
         "type": "scatter",
         "visible": false,
         "x": [
          1981,
          1982,
          1991,
          1995,
          2012
         ],
         "y": [
          6.6,
          7.4,
          7.3,
          6.9,
          6.8
         ]
        },
        {
         "hoverinfo": "text",
         "hovertext": [
          "Movie: Time Bandits<br>IMDb Score: 7.0<br>Release Date: 1981<br>Academy Award for Best Actor/Actress : No",
          "Movie: Brazil<br>IMDb Score: 8.0<br>Release Date: 1985<br>Academy Award for Best Actor/Actress : No",
          "Movie: The Crying Game<br>IMDb Score: 7.3<br>Release Date: 1992<br>Academy Award for Best Actor/Actress : No",
          "Movie: Bullets Over Broadway<br>IMDb Score: 7.5<br>Release Date: 1994<br>Academy Award for Best Actor/Actress : No",
          "Movie: Richard III<br>IMDb Score: 7.5<br>Release Date: 1995<br>Academy Award for Best Actor/Actress : No",
          "Movie: Smilla's Sense of Snow<br>IMDb Score: 6.4<br>Release Date: 1997<br>Academy Award for Best Actor/Actress : No",
          "Movie: The Borrowers<br>IMDb Score: 5.8<br>Release Date: 1997<br>Academy Award for Best Actor/Actress : No",
          "Movie: Little Voice<br>IMDb Score: 7.0<br>Release Date: 1998<br>Academy Award for Best Actor/Actress : No",
          "Movie: Iris<br>IMDb Score: 7.1<br>Release Date: 2001<br>Academy Award for Best Actor/Actress : Yes",
          "Movie: Bridget Jones's Diary<br>IMDb Score: 6.7<br>Release Date: 2001<br>Academy Award for Best Actor/Actress : No",
          "Movie: Gangs of New York<br>IMDb Score: 7.5<br>Release Date: 2002<br>Academy Award for Best Actor/Actress : No",
          "Movie: Nicholas Nickleby<br>IMDb Score: 7.2<br>Release Date: 2002<br>Academy Award for Best Actor/Actress : No",
          "Movie: Vanity Fair<br>IMDb Score: 6.2<br>Release Date: 2004<br>Academy Award for Best Actor/Actress : No",
          "Movie: Vera Drake<br>IMDb Score: 7.7<br>Release Date: 2004<br>Academy Award for Best Actor/Actress : No",
          "Movie: Bridget Jones: The Edge of Reason<br>IMDb Score: 5.9<br>Release Date: 2004<br>Academy Award for Best Actor/Actress : No",
          "Movie: Around the World in 80 Days<br>IMDb Score: 5.8<br>Release Date: 2004<br>Academy Award for Best Actor/Actress : No",
          "Movie: Around the World in 80 Days<br>IMDb Score: 5.8<br>Release Date: 2004<br>Academy Award for Best Actor/Actress : No",
          "Movie: Valiant<br>IMDb Score: 5.6<br>Release Date: 2005<br>Academy Award for Best Actor/Actress : No",
          "Movie: The Chronicles of Narnia: The Lion, the Witch and the Wardrobe<br>IMDb Score: 6.9<br>Release Date: 2005<br>Academy Award for Best Actor/Actress : No",
          "Movie: When Did You Last See Your Father?<br>IMDb Score: 6.9<br>Release Date: 2007<br>Academy Award for Best Actor/Actress : No",
          "Movie: Hot Fuzz<br>IMDb Score: 7.9<br>Release Date: 2007<br>Academy Award for Best Actor/Actress : No",
          "Movie: Indiana Jones and the Kingdom of the Crystal Skull<br>IMDb Score: 6.2<br>Release Date: 2008<br>Academy Award for Best Actor/Actress : No",
          "Movie: Inkheart<br>IMDb Score: 6.1<br>Release Date: 2008<br>Academy Award for Best Actor/Actress : No",
          "Movie: Harry Potter and the Half-Blood Prince<br>IMDb Score: 7.5<br>Release Date: 2009<br>Academy Award for Best Actor/Actress : No",
          "Movie: The Damned United<br>IMDb Score: 7.6<br>Release Date: 2009<br>Academy Award for Best Actor/Actress : No",
          "Movie: The Young Victoria<br>IMDb Score: 7.3<br>Release Date: 2009<br>Academy Award for Best Actor/Actress : No",
          "Movie: Animals United<br>IMDb Score: 4.9<br>Release Date: 2010<br>Academy Award for Best Actor/Actress : No",
          "Movie: Another Year<br>IMDb Score: 7.3<br>Release Date: 2010<br>Academy Award for Best Actor/Actress : No",
          "Movie: The Iron Lady<br>IMDb Score: 6.4<br>Release Date: 2011<br>Academy Award for Best Actor/Actress : No",
          "Movie: Arthur Christmas<br>IMDb Score: 7.1<br>Release Date: 2011<br>Academy Award for Best Actor/Actress : No",
          "Movie: Cloud Atlas<br>IMDb Score: 7.5<br>Release Date: 2012<br>Academy Award for Best Actor/Actress : No",
          "Movie: Cloud Atlas<br>IMDb Score: 7.5<br>Release Date: 2012<br>Academy Award for Best Actor/Actress : No",
          "Movie: Cloud Atlas<br>IMDb Score: 7.5<br>Release Date: 2012<br>Academy Award for Best Actor/Actress : No"
         ],
         "legendgroup": "Jim Broadbent",
         "line": {
          "color": "#19D3F3"
         },
         "marker": {
          "size": [
           8,
           8,
           8,
           8,
           8,
           8,
           8,
           8,
           15,
           8,
           8,
           8,
           8,
           8,
           8,
           8,
           8,
           8,
           8,
           8,
           8,
           8,
           8,
           8,
           8,
           8,
           8,
           8,
           8,
           8,
           8,
           8,
           8
          ],
          "symbol": [
           "circle",
           "circle",
           "circle",
           "circle",
           "circle",
           "circle",
           "circle",
           "circle",
           "star",
           "circle",
           "circle",
           "circle",
           "circle",
           "circle",
           "circle",
           "circle",
           "circle",
           "circle",
           "circle",
           "circle",
           "circle",
           "circle",
           "circle",
           "circle",
           "circle",
           "circle",
           "circle",
           "circle",
           "circle",
           "circle",
           "circle",
           "circle",
           "circle"
          ]
         },
         "mode": "lines+markers",
         "name": "Jim Broadbent",
         "type": "scatter",
         "visible": false,
         "x": [
          1981,
          1985,
          1992,
          1994,
          1995,
          1997,
          1997,
          1998,
          2001,
          2001,
          2002,
          2002,
          2004,
          2004,
          2004,
          2004,
          2004,
          2005,
          2005,
          2007,
          2007,
          2008,
          2008,
          2009,
          2009,
          2009,
          2010,
          2010,
          2011,
          2011,
          2012,
          2012,
          2012
         ],
         "y": [
          7,
          8,
          7.3,
          7.5,
          7.5,
          6.4,
          5.8,
          7,
          7.1,
          6.7,
          7.5,
          7.2,
          6.2,
          7.7,
          5.9,
          5.8,
          5.8,
          5.6,
          6.9,
          6.9,
          7.9,
          6.2,
          6.1,
          7.5,
          7.6,
          7.3,
          4.9,
          7.3,
          6.4,
          7.1,
          7.5,
          7.5,
          7.5
         ]
        },
        {
         "hoverinfo": "text",
         "hovertext": [
          "Movie: Raging Bull<br>IMDb Score: 8.3<br>Release Date: 1980<br>Academy Award for Best Actor/Actress : No",
          "Movie: Once Upon a Time in America<br>IMDb Score: 8.4<br>Release Date: 1984<br>Academy Award for Best Actor/Actress : No",
          "Movie: Home Alone<br>IMDb Score: 7.5<br>Release Date: 1990<br>Academy Award for Best Actor/Actress : No",
          "Movie: Goodfellas<br>IMDb Score: 8.7<br>Release Date: 1990<br>Academy Award for Best Actor/Actress : Yes",
          "Movie: JFK<br>IMDb Score: 8.0<br>Release Date: 1991<br>Academy Award for Best Actor/Actress : No",
          "Movie: My Cousin Vinny<br>IMDb Score: 7.5<br>Release Date: 1992<br>Academy Award for Best Actor/Actress : No",
          "Movie: Lethal Weapon 3<br>IMDb Score: 6.7<br>Release Date: 1992<br>Academy Award for Best Actor/Actress : No",
          "Movie: Home Alone 2: Lost in New York<br>IMDb Score: 6.6<br>Release Date: 1992<br>Academy Award for Best Actor/Actress : No",
          "Movie: Casino<br>IMDb Score: 8.2<br>Release Date: 1995<br>Academy Award for Best Actor/Actress : No",
          "Movie: 8 Heads in a Duffel Bag<br>IMDb Score: 5.3<br>Release Date: 1997<br>Academy Award for Best Actor/Actress : No",
          "Movie: Lethal Weapon 4<br>IMDb Score: 6.6<br>Release Date: 1998<br>Academy Award for Best Actor/Actress : No"
         ],
         "legendgroup": "Joe Pesci",
         "line": {
          "color": "#FF6692"
         },
         "marker": {
          "size": [
           8,
           8,
           8,
           15,
           8,
           8,
           8,
           8,
           8,
           8,
           8
          ],
          "symbol": [
           "circle",
           "circle",
           "circle",
           "star",
           "circle",
           "circle",
           "circle",
           "circle",
           "circle",
           "circle",
           "circle"
          ]
         },
         "mode": "lines+markers",
         "name": "Joe Pesci",
         "type": "scatter",
         "visible": false,
         "x": [
          1980,
          1984,
          1990,
          1990,
          1991,
          1992,
          1992,
          1992,
          1995,
          1997,
          1998
         ],
         "y": [
          8.3,
          8.4,
          7.5,
          8.7,
          8,
          7.5,
          6.7,
          6.6,
          8.2,
          5.3,
          6.6
         ]
        },
        {
         "hoverinfo": "text",
         "hovertext": [
          "Movie: A Room with a View<br>IMDb Score: 7.4<br>Release Date: 1985<br>Academy Award for Best Actor/Actress : No",
          "Movie: Henry V<br>IMDb Score: 7.7<br>Release Date: 1989<br>Academy Award for Best Actor/Actress : No",
          "Movie: GoldenEye<br>IMDb Score: 7.2<br>Release Date: 1995<br>Academy Award for Best Actor/Actress : No",
          "Movie: Hamlet<br>IMDb Score: 7.8<br>Release Date: 1996<br>Academy Award for Best Actor/Actress : No",
          "Movie: Hamlet<br>IMDb Score: 7.8<br>Release Date: 1996<br>Academy Award for Best Actor/Actress : No",
          "Movie: Tomorrow Never Dies<br>IMDb Score: 6.5<br>Release Date: 1997<br>Academy Award for Best Actor/Actress : No",
          "Movie: Shakespeare in Love<br>IMDb Score: 7.2<br>Release Date: 1998<br>Academy Award for Best Actor/Actress : Yes",
          "Movie: The World Is Not Enough<br>IMDb Score: 6.4<br>Release Date: 1999<br>Academy Award for Best Actor/Actress : No",
          "Movie: Chocolat<br>IMDb Score: 7.3<br>Release Date: 2000<br>Academy Award for Best Actor/Actress : No",
          "Movie: Iris<br>IMDb Score: 7.1<br>Release Date: 2001<br>Academy Award for Best Actor/Actress : No",
          "Movie: The Shipping News<br>IMDb Score: 6.8<br>Release Date: 2001<br>Academy Award for Best Actor/Actress : No",
          "Movie: Die Another Day<br>IMDb Score: 6.1<br>Release Date: 2002<br>Academy Award for Best Actor/Actress : No",
          "Movie: The Importance of Being Earnest<br>IMDb Score: 6.9<br>Release Date: 2002<br>Academy Award for Best Actor/Actress : No",
          "Movie: The Chronicles of Riddick<br>IMDb Score: 6.7<br>Release Date: 2004<br>Academy Award for Best Actor/Actress : No",
          "Movie: Home on the Range<br>IMDb Score: 5.4<br>Release Date: 2004<br>Academy Award for Best Actor/Actress : No",
          "Movie: Pride & Prejudice<br>IMDb Score: 7.8<br>Release Date: 2005<br>Academy Award for Best Actor/Actress : No",
          "Movie: Casino Royale<br>IMDb Score: 8.0<br>Release Date: 2006<br>Academy Award for Best Actor/Actress : No",
          "Movie: Casino Royale<br>IMDb Score: 8.0<br>Release Date: 2006<br>Academy Award for Best Actor/Actress : No",
          "Movie: Notes on a Scandal<br>IMDb Score: 7.4<br>Release Date: 2006<br>Academy Award for Best Actor/Actress : No",
          "Movie: Quantum of Solace<br>IMDb Score: 6.7<br>Release Date: 2008<br>Academy Award for Best Actor/Actress : No",
          "Movie: Nine<br>IMDb Score: 5.8<br>Release Date: 2009<br>Academy Award for Best Actor/Actress : No",
          "Movie: The Best Exotic Marigold Hotel<br>IMDb Score: 7.3<br>Release Date: 2011<br>Academy Award for Best Actor/Actress : No",
          "Movie: My Week with Marilyn<br>IMDb Score: 7.0<br>Release Date: 2011<br>Academy Award for Best Actor/Actress : No",
          "Movie: J. Edgar<br>IMDb Score: 6.6<br>Release Date: 2011<br>Academy Award for Best Actor/Actress : No",
          "Movie: Skyfall<br>IMDb Score: 7.8<br>Release Date: 2012<br>Academy Award for Best Actor/Actress : No",
          "Movie: Skyfall<br>IMDb Score: 7.8<br>Release Date: 2012<br>Academy Award for Best Actor/Actress : No"
         ],
         "legendgroup": "Judi Dench",
         "line": {
          "color": "#B6E880"
         },
         "marker": {
          "size": [
           8,
           8,
           8,
           8,
           8,
           8,
           15,
           8,
           8,
           8,
           8,
           8,
           8,
           8,
           8,
           8,
           8,
           8,
           8,
           8,
           8,
           8,
           8,
           8,
           8,
           8
          ],
          "symbol": [
           "circle",
           "circle",
           "circle",
           "circle",
           "circle",
           "circle",
           "star",
           "circle",
           "circle",
           "circle",
           "circle",
           "circle",
           "circle",
           "circle",
           "circle",
           "circle",
           "circle",
           "circle",
           "circle",
           "circle",
           "circle",
           "circle",
           "circle",
           "circle",
           "circle",
           "circle"
          ]
         },
         "mode": "lines+markers",
         "name": "Judi Dench",
         "type": "scatter",
         "visible": false,
         "x": [
          1985,
          1989,
          1995,
          1996,
          1996,
          1997,
          1998,
          1999,
          2000,
          2001,
          2001,
          2002,
          2002,
          2004,
          2004,
          2005,
          2006,
          2006,
          2006,
          2008,
          2009,
          2011,
          2011,
          2011,
          2012,
          2012
         ],
         "y": [
          7.4,
          7.7,
          7.2,
          7.8,
          7.8,
          6.5,
          7.2,
          6.4,
          7.3,
          7.1,
          6.8,
          6.1,
          6.9,
          6.7,
          5.4,
          7.8,
          8,
          8,
          7.4,
          6.7,
          5.8,
          7.3,
          7,
          6.6,
          7.8,
          7.8
         ]
        },
        {
         "hoverinfo": "text",
         "hovertext": [
          "Movie: The Horseman on the Roof<br>IMDb Score: 7.1<br>Release Date: 1995<br>Academy Award for Best Actor/Actress : No",
          "Movie: The English Patient<br>IMDb Score: 7.4<br>Release Date: 1996<br>Academy Award for Best Actor/Actress : Yes",
          "Movie: Chocolat<br>IMDb Score: 7.3<br>Release Date: 2000<br>Academy Award for Best Actor/Actress : No",
          "Movie: Paris, je t'aime<br>IMDb Score: 7.3<br>Release Date: 2006<br>Academy Award for Best Actor/Actress : No",
          "Movie: The Son of No One<br>IMDb Score: 5.1<br>Release Date: 2011<br>Academy Award for Best Actor/Actress : No"
         ],
         "legendgroup": "Juliette Binoche",
         "line": {
          "color": "#FF97FF"
         },
         "marker": {
          "size": [
           8,
           15,
           8,
           8,
           8
          ],
          "symbol": [
           "circle",
           "star",
           "circle",
           "circle",
           "circle"
          ]
         },
         "mode": "lines+markers",
         "name": "Juliette Binoche",
         "type": "scatter",
         "visible": false,
         "x": [
          1995,
          1996,
          2000,
          2006,
          2011
         ],
         "y": [
          7.1,
          7.4,
          7.3,
          7.3,
          5.1
         ]
        },
        {
         "hoverinfo": "text",
         "hovertext": [
          "Movie: 9½ Weeks<br>IMDb Score: 5.9<br>Release Date: 1986<br>Academy Award for Best Actor/Actress : No",
          "Movie: My Stepmother Is an Alien<br>IMDb Score: 5.2<br>Release Date: 1988<br>Academy Award for Best Actor/Actress : No",
          "Movie: Batman<br>IMDb Score: 7.6<br>Release Date: 1989<br>Academy Award for Best Actor/Actress : No",
          "Movie: L.A. Confidential<br>IMDb Score: 8.3<br>Release Date: 1997<br>Academy Award for Best Actor/Actress : Yes",
          "Movie: The Newton Boys<br>IMDb Score: 6.0<br>Release Date: 1998<br>Academy Award for Best Actor/Actress : No",
          "Movie: Bless the Child<br>IMDb Score: 5.1<br>Release Date: 2000<br>Academy Award for Best Actor/Actress : No",
          "Movie: I Dreamed of Africa<br>IMDb Score: 5.6<br>Release Date: 2000<br>Academy Award for Best Actor/Actress : No",
          "Movie: 8 Mile<br>IMDb Score: 7.0<br>Release Date: 2002<br>Academy Award for Best Actor/Actress : No",
          "Movie: People I Know<br>IMDb Score: 5.5<br>Release Date: 2002<br>Academy Award for Best Actor/Actress : No",
          "Movie: Cellular<br>IMDb Score: 6.5<br>Release Date: 2004<br>Academy Award for Best Actor/Actress : No",
          "Movie: The Sentinel<br>IMDb Score: 6.1<br>Release Date: 2006<br>Academy Award for Best Actor/Actress : No",
          "Movie: Charlie St. Cloud<br>IMDb Score: 6.5<br>Release Date: 2010<br>Academy Award for Best Actor/Actress : No"
         ],
         "legendgroup": "Kim Basinger",
         "line": {
          "color": "#FECB52"
         },
         "marker": {
          "size": [
           8,
           8,
           8,
           15,
           8,
           8,
           8,
           8,
           8,
           8,
           8,
           8
          ],
          "symbol": [
           "circle",
           "circle",
           "circle",
           "star",
           "circle",
           "circle",
           "circle",
           "circle",
           "circle",
           "circle",
           "circle",
           "circle"
          ]
         },
         "mode": "lines+markers",
         "name": "Kim Basinger",
         "type": "scatter",
         "visible": false,
         "x": [
          1986,
          1988,
          1989,
          1997,
          1998,
          2000,
          2000,
          2002,
          2002,
          2004,
          2006,
          2010
         ],
         "y": [
          5.9,
          5.2,
          7.6,
          8.3,
          6,
          5.1,
          5.6,
          7,
          5.5,
          6.5,
          6.1,
          6.5
         ]
        },
        {
         "hoverinfo": "text",
         "hovertext": [
          "Movie: My Cousin Vinny<br>IMDb Score: 7.5<br>Release Date: 1992<br>Academy Award for Best Actor/Actress : Yes",
          "Movie: The Perez Family<br>IMDb Score: 6.2<br>Release Date: 1995<br>Academy Award for Best Actor/Actress : No",
          "Movie: Four Rooms<br>IMDb Score: 6.7<br>Release Date: 1995<br>Academy Award for Best Actor/Actress : No",
          "Movie: Slums of Beverly Hills<br>IMDb Score: 6.6<br>Release Date: 1998<br>Academy Award for Best Actor/Actress : No",
          "Movie: The Newton Boys<br>IMDb Score: 6.0<br>Release Date: 1998<br>Academy Award for Best Actor/Actress : No",
          "Movie: What Women Want<br>IMDb Score: 6.4<br>Release Date: 2000<br>Academy Award for Best Actor/Actress : No",
          "Movie: The Watcher<br>IMDb Score: 5.3<br>Release Date: 2000<br>Academy Award for Best Actor/Actress : No",
          "Movie: In the Bedroom<br>IMDb Score: 7.5<br>Release Date: 2001<br>Academy Award for Best Actor/Actress : No",
          "Movie: The Guru<br>IMDb Score: 5.4<br>Release Date: 2002<br>Academy Award for Best Actor/Actress : No",
          "Movie: Alfie<br>IMDb Score: 6.2<br>Release Date: 2004<br>Academy Award for Best Actor/Actress : No",
          "Movie: Wild Hogs<br>IMDb Score: 5.9<br>Release Date: 2007<br>Academy Award for Best Actor/Actress : No",
          "Movie: The Wrestler<br>IMDb Score: 7.9<br>Release Date: 2008<br>Academy Award for Best Actor/Actress : No",
          "Movie: Cyrus<br>IMDb Score: 6.3<br>Release Date: 2010<br>Academy Award for Best Actor/Actress : No",
          "Movie: Crazy, Stupid, Love.<br>IMDb Score: 7.4<br>Release Date: 2011<br>Academy Award for Best Actor/Actress : No",
          "Movie: Salvation Boulevard<br>IMDb Score: 5.3<br>Release Date: 2011<br>Academy Award for Best Actor/Actress : No",
          "Movie: The Ides of March<br>IMDb Score: 7.1<br>Release Date: 2011<br>Academy Award for Best Actor/Actress : No",
          "Movie: The Lincoln Lawyer<br>IMDb Score: 7.3<br>Release Date: 2011<br>Academy Award for Best Actor/Actress : No",
          "Movie: Parental Guidance<br>IMDb Score: 6.1<br>Release Date: 2012<br>Academy Award for Best Actor/Actress : No"
         ],
         "legendgroup": "Marisa Tomei",
         "line": {
          "color": "#636EFA"
         },
         "marker": {
          "size": [
           15,
           8,
           8,
           8,
           8,
           8,
           8,
           8,
           8,
           8,
           8,
           8,
           8,
           8,
           8,
           8,
           8,
           8
          ],
          "symbol": [
           "star",
           "circle",
           "circle",
           "circle",
           "circle",
           "circle",
           "circle",
           "circle",
           "circle",
           "circle",
           "circle",
           "circle",
           "circle",
           "circle",
           "circle",
           "circle",
           "circle",
           "circle"
          ]
         },
         "mode": "lines+markers",
         "name": "Marisa Tomei",
         "type": "scatter",
         "visible": false,
         "x": [
          1992,
          1995,
          1995,
          1998,
          1998,
          2000,
          2000,
          2001,
          2002,
          2004,
          2007,
          2008,
          2010,
          2011,
          2011,
          2011,
          2011,
          2012
         ],
         "y": [
          7.5,
          6.2,
          6.7,
          6.6,
          6,
          6.4,
          5.3,
          7.5,
          5.4,
          6.2,
          5.9,
          7.9,
          6.3,
          7.4,
          5.3,
          7.1,
          7.3,
          6.1
         ]
        },
        {
         "hoverinfo": "text",
         "hovertext": [
          "Movie: Ed Wood<br>IMDb Score: 7.9<br>Release Date: 1994<br>Academy Award for Best Actor/Actress : Yes",
          "Movie: The Adventures of Pinocchio<br>IMDb Score: 5.3<br>Release Date: 1996<br>Academy Award for Best Actor/Actress : No",
          "Movie: Rounders<br>IMDb Score: 7.4<br>Release Date: 1998<br>Academy Award for Best Actor/Actress : No",
          "Movie: The X Files<br>IMDb Score: 7.0<br>Release Date: 1998<br>Academy Award for Best Actor/Actress : No",
          "Movie: Ready to Rumble<br>IMDb Score: 5.3<br>Release Date: 2000<br>Academy Award for Best Actor/Actress : No",
          "Movie: The Majestic<br>IMDb Score: 6.9<br>Release Date: 2001<br>Academy Award for Best Actor/Actress : No",
          "Movie: Hollywood Homicide<br>IMDb Score: 5.3<br>Release Date: 2003<br>Academy Award for Best Actor/Actress : No",
          "Movie: City of Ember<br>IMDb Score: 6.5<br>Release Date: 2008<br>Academy Award for Best Actor/Actress : No",
          "Movie: 9<br>IMDb Score: 7.1<br>Release Date: 2009<br>Academy Award for Best Actor/Actress : No",
          "Movie: Frankenweenie<br>IMDb Score: 7.0<br>Release Date: 2012<br>Academy Award for Best Actor/Actress : No"
         ],
         "legendgroup": "Martin Landau",
         "line": {
          "color": "#EF553B"
         },
         "marker": {
          "size": [
           15,
           8,
           8,
           8,
           8,
           8,
           8,
           8,
           8,
           8
          ],
          "symbol": [
           "star",
           "circle",
           "circle",
           "circle",
           "circle",
           "circle",
           "circle",
           "circle",
           "circle",
           "circle"
          ]
         },
         "mode": "lines+markers",
         "name": "Martin Landau",
         "type": "scatter",
         "visible": false,
         "x": [
          1994,
          1996,
          1998,
          1998,
          2000,
          2001,
          2003,
          2008,
          2009,
          2012
         ],
         "y": [
          7.9,
          5.3,
          7.4,
          7,
          5.3,
          6.9,
          5.3,
          6.5,
          7.1,
          7
         ]
        },
        {
         "hoverinfo": "text",
         "hovertext": [
          "Movie: 21 Grams<br>IMDb Score: 7.7<br>Release Date: 2003<br>Academy Award for Best Actor/Actress : No",
          "Movie: Hide and Seek<br>IMDb Score: 5.9<br>Release Date: 2005<br>Academy Award for Best Actor/Actress : No",
          "Movie: Frozen River<br>IMDb Score: 7.2<br>Release Date: 2008<br>Academy Award for Best Actor/Actress : No",
          "Movie: Righteous Kill<br>IMDb Score: 6.0<br>Release Date: 2008<br>Academy Award for Best Actor/Actress : No",
          "Movie: Veronika Decides to Die<br>IMDb Score: 6.5<br>Release Date: 2009<br>Academy Award for Best Actor/Actress : No",
          "Movie: Everybody's Fine<br>IMDb Score: 7.2<br>Release Date: 2009<br>Academy Award for Best Actor/Actress : No",
          "Movie: Welcome to the Rileys<br>IMDb Score: 7.0<br>Release Date: 2010<br>Academy Award for Best Actor/Actress : No",
          "Movie: The Fighter<br>IMDb Score: 7.9<br>Release Date: 2010<br>Academy Award for Best Actor/Actress : Yes",
          "Movie: Flight<br>IMDb Score: 7.3<br>Release Date: 2012<br>Academy Award for Best Actor/Actress : No"
         ],
         "legendgroup": "Melissa Leo",
         "line": {
          "color": "#00CC96"
         },
         "marker": {
          "size": [
           8,
           8,
           8,
           8,
           8,
           8,
           8,
           15,
           8
          ],
          "symbol": [
           "circle",
           "circle",
           "circle",
           "circle",
           "circle",
           "circle",
           "circle",
           "star",
           "circle"
          ]
         },
         "mode": "lines+markers",
         "name": "Melissa Leo",
         "type": "scatter",
         "visible": false,
         "x": [
          2003,
          2005,
          2008,
          2008,
          2009,
          2009,
          2010,
          2010,
          2012
         ],
         "y": [
          7.7,
          5.9,
          7.2,
          6,
          6.5,
          7.2,
          7,
          7.9,
          7.3
         ]
        },
        {
         "hoverinfo": "text",
         "hovertext": [
          "Movie: Driving Miss Daisy<br>IMDb Score: 7.4<br>Release Date: 1989<br>Academy Award for Best Actor/Actress : No",
          "Movie: Robin Hood: Prince of Thieves<br>IMDb Score: 6.9<br>Release Date: 1991<br>Academy Award for Best Actor/Actress : No",
          "Movie: Unforgiven<br>IMDb Score: 8.3<br>Release Date: 1992<br>Academy Award for Best Actor/Actress : No",
          "Movie: The Shawshank Redemption<br>IMDb Score: 9.3<br>Release Date: 1994<br>Academy Award for Best Actor/Actress : No",
          "Movie: Outbreak<br>IMDb Score: 6.6<br>Release Date: 1995<br>Academy Award for Best Actor/Actress : No",
          "Movie: Chain Reaction<br>IMDb Score: 5.6<br>Release Date: 1996<br>Academy Award for Best Actor/Actress : No",
          "Movie: Amistad<br>IMDb Score: 7.2<br>Release Date: 1997<br>Academy Award for Best Actor/Actress : No",
          "Movie: Kiss the Girls<br>IMDb Score: 6.6<br>Release Date: 1997<br>Academy Award for Best Actor/Actress : No",
          "Movie: Hard Rain<br>IMDb Score: 5.8<br>Release Date: 1998<br>Academy Award for Best Actor/Actress : No",
          "Movie: Deep Impact<br>IMDb Score: 6.1<br>Release Date: 1998<br>Academy Award for Best Actor/Actress : No",
          "Movie: Nurse Betty<br>IMDb Score: 6.3<br>Release Date: 2000<br>Academy Award for Best Actor/Actress : No",
          "Movie: Along Came a Spider<br>IMDb Score: 6.3<br>Release Date: 2001<br>Academy Award for Best Actor/Actress : No",
          "Movie: High Crimes<br>IMDb Score: 6.3<br>Release Date: 2002<br>Academy Award for Best Actor/Actress : No",
          "Movie: The Sum of All Fears<br>IMDb Score: 6.4<br>Release Date: 2002<br>Academy Award for Best Actor/Actress : No",
          "Movie: Dreamcatcher<br>IMDb Score: 5.5<br>Release Date: 2003<br>Academy Award for Best Actor/Actress : No",
          "Movie: Bruce Almighty<br>IMDb Score: 6.7<br>Release Date: 2003<br>Academy Award for Best Actor/Actress : No",
          "Movie: The Big Bounce<br>IMDb Score: 4.9<br>Release Date: 2004<br>Academy Award for Best Actor/Actress : No",
          "Movie: Million Dollar Baby<br>IMDb Score: 8.1<br>Release Date: 2004<br>Academy Award for Best Actor/Actress : Yes",
          "Movie: March of the Penguins<br>IMDb Score: 7.6<br>Release Date: 2005<br>Academy Award for Best Actor/Actress : No",
          "Movie: Unleashed<br>IMDb Score: 7.0<br>Release Date: 2005<br>Academy Award for Best Actor/Actress : No",
          "Movie: War of the Worlds<br>IMDb Score: 6.5<br>Release Date: 2005<br>Academy Award for Best Actor/Actress : No",
          "Movie: An Unfinished Life<br>IMDb Score: 7.0<br>Release Date: 2005<br>Academy Award for Best Actor/Actress : No",
          "Movie: Batman Begins<br>IMDb Score: 8.3<br>Release Date: 2005<br>Academy Award for Best Actor/Actress : No",
          "Movie: Evan Almighty<br>IMDb Score: 5.4<br>Release Date: 2007<br>Academy Award for Best Actor/Actress : No",
          "Movie: The Bucket List<br>IMDb Score: 7.4<br>Release Date: 2007<br>Academy Award for Best Actor/Actress : No",
          "Movie: Wanted<br>IMDb Score: 6.7<br>Release Date: 2008<br>Academy Award for Best Actor/Actress : No",
          "Movie: The Dark Knight<br>IMDb Score: 9.0<br>Release Date: 2008<br>Academy Award for Best Actor/Actress : No",
          "Movie: Invictus<br>IMDb Score: 7.4<br>Release Date: 2009<br>Academy Award for Best Actor/Actress : No",
          "Movie: Dolphin Tale<br>IMDb Score: 6.9<br>Release Date: 2011<br>Academy Award for Best Actor/Actress : No",
          "Movie: The Dark Knight Rises<br>IMDb Score: 8.5<br>Release Date: 2012<br>Academy Award for Best Actor/Actress : No",
          "Movie: Now You See Me<br>IMDb Score: 7.3<br>Release Date: 2013<br>Academy Award for Best Actor/Actress : No"
         ],
         "legendgroup": "Morgan Freeman",
         "line": {
          "color": "#AB63FA"
         },
         "marker": {
          "size": [
           8,
           8,
           8,
           8,
           8,
           8,
           8,
           8,
           8,
           8,
           8,
           8,
           8,
           8,
           8,
           8,
           8,
           15,
           8,
           8,
           8,
           8,
           8,
           8,
           8,
           8,
           8,
           8,
           8,
           8,
           8
          ],
          "symbol": [
           "circle",
           "circle",
           "circle",
           "circle",
           "circle",
           "circle",
           "circle",
           "circle",
           "circle",
           "circle",
           "circle",
           "circle",
           "circle",
           "circle",
           "circle",
           "circle",
           "circle",
           "star",
           "circle",
           "circle",
           "circle",
           "circle",
           "circle",
           "circle",
           "circle",
           "circle",
           "circle",
           "circle",
           "circle",
           "circle",
           "circle"
          ]
         },
         "mode": "lines+markers",
         "name": "Morgan Freeman",
         "type": "scatter",
         "visible": false,
         "x": [
          1989,
          1991,
          1992,
          1994,
          1995,
          1996,
          1997,
          1997,
          1998,
          1998,
          2000,
          2001,
          2002,
          2002,
          2003,
          2003,
          2004,
          2004,
          2005,
          2005,
          2005,
          2005,
          2005,
          2007,
          2007,
          2008,
          2008,
          2009,
          2011,
          2012,
          2013
         ],
         "y": [
          7.4,
          6.9,
          8.3,
          9.3,
          6.6,
          5.6,
          7.2,
          6.6,
          5.8,
          6.1,
          6.3,
          6.3,
          6.3,
          6.4,
          5.5,
          6.7,
          4.9,
          8.1,
          7.6,
          7,
          6.5,
          7,
          8.3,
          5.4,
          7.4,
          6.7,
          9,
          7.4,
          6.9,
          8.5,
          7.3
         ]
        },
        {
         "hoverinfo": "text",
         "hovertext": [
          "Movie: Being John Malkovich<br>IMDb Score: 7.8<br>Release Date: 1999<br>Academy Award for Best Actor/Actress : No",
          "Movie: Win a Date with Tad Hamilton!<br>IMDb Score: 5.6<br>Release Date: 2004<br>Academy Award for Best Actor/Actress : No",
          "Movie: Coach Carter<br>IMDb Score: 7.2<br>Release Date: 2005<br>Academy Award for Best Actor/Actress : No",
          "Movie: Pulse<br>IMDb Score: 4.7<br>Release Date: 2006<br>Academy Award for Best Actor/Actress : No",
          "Movie: Halloween II<br>IMDb Score: 4.9<br>Release Date: 2009<br>Academy Award for Best Actor/Actress : No",
          "Movie: Halloween II<br>IMDb Score: 4.9<br>Release Date: 2009<br>Academy Award for Best Actor/Actress : No",
          "Movie: The Help<br>IMDb Score: 8.1<br>Release Date: 2011<br>Academy Award for Best Actor/Actress : Yes"
         ],
         "legendgroup": "Octavia Spencer",
         "line": {
          "color": "#FFA15A"
         },
         "marker": {
          "size": [
           8,
           8,
           8,
           8,
           8,
           8,
           15
          ],
          "symbol": [
           "circle",
           "circle",
           "circle",
           "circle",
           "circle",
           "circle",
           "star"
          ]
         },
         "mode": "lines+markers",
         "name": "Octavia Spencer",
         "type": "scatter",
         "visible": false,
         "x": [
          1999,
          2004,
          2005,
          2006,
          2009,
          2009,
          2011
         ],
         "y": [
          7.8,
          5.6,
          7.2,
          4.7,
          4.9,
          4.9,
          8.1
         ]
        },
        {
         "hoverinfo": "text",
         "hovertext": [
          "Movie: Blow<br>IMDb Score: 7.6<br>Release Date: 2001<br>Academy Award for Best Actor/Actress : No",
          "Movie: Captain Corelli's Mandolin<br>IMDb Score: 5.9<br>Release Date: 2001<br>Academy Award for Best Actor/Actress : No",
          "Movie: Vanilla Sky<br>IMDb Score: 6.9<br>Release Date: 2001<br>Academy Award for Best Actor/Actress : No",
          "Movie: Gothika<br>IMDb Score: 5.8<br>Release Date: 2003<br>Academy Award for Best Actor/Actress : No",
          "Movie: Sahara<br>IMDb Score: 6.0<br>Release Date: 2005<br>Academy Award for Best Actor/Actress : No",
          "Movie: Bandidas<br>IMDb Score: 5.7<br>Release Date: 2006<br>Academy Award for Best Actor/Actress : No",
          "Movie: The Good Night<br>IMDb Score: 5.9<br>Release Date: 2007<br>Academy Award for Best Actor/Actress : No",
          "Movie: The Good Night<br>IMDb Score: 5.9<br>Release Date: 2007<br>Academy Award for Best Actor/Actress : No",
          "Movie: Vicky Cristina Barcelona<br>IMDb Score: 7.2<br>Release Date: 2008<br>Academy Award for Best Actor/Actress : Yes",
          "Movie: G-Force<br>IMDb Score: 5.1<br>Release Date: 2009<br>Academy Award for Best Actor/Actress : No",
          "Movie: Nine<br>IMDb Score: 5.8<br>Release Date: 2009<br>Academy Award for Best Actor/Actress : No",
          "Movie: Sex and the City 2<br>IMDb Score: 4.3<br>Release Date: 2010<br>Academy Award for Best Actor/Actress : No",
          "Movie: Pirates of the Caribbean: On Stranger Tides<br>IMDb Score: 6.7<br>Release Date: 2011<br>Academy Award for Best Actor/Actress : No",
          "Movie: To Rome with Love<br>IMDb Score: 6.3<br>Release Date: 2012<br>Academy Award for Best Actor/Actress : No"
         ],
         "legendgroup": "Penélope Cruz",
         "line": {
          "color": "#19D3F3"
         },
         "marker": {
          "size": [
           8,
           8,
           8,
           8,
           8,
           8,
           8,
           8,
           15,
           8,
           8,
           8,
           8,
           8
          ],
          "symbol": [
           "circle",
           "circle",
           "circle",
           "circle",
           "circle",
           "circle",
           "circle",
           "circle",
           "star",
           "circle",
           "circle",
           "circle",
           "circle",
           "circle"
          ]
         },
         "mode": "lines+markers",
         "name": "Penélope Cruz",
         "type": "scatter",
         "visible": false,
         "x": [
          2001,
          2001,
          2001,
          2003,
          2005,
          2006,
          2007,
          2007,
          2008,
          2009,
          2009,
          2010,
          2011,
          2012
         ],
         "y": [
          7.6,
          5.9,
          6.9,
          5.8,
          6,
          5.7,
          5.9,
          5.9,
          7.2,
          5.1,
          5.8,
          4.3,
          6.7,
          6.3
         ]
        },
        {
         "hoverinfo": "text",
         "hovertext": [
          "Movie: Chain Reaction<br>IMDb Score: 5.6<br>Release Date: 1996<br>Academy Award for Best Actor/Actress : No",
          "Movie: The Land Girls<br>IMDb Score: 6.3<br>Release Date: 1998<br>Academy Award for Best Actor/Actress : No",
          "Movie: Enemy at the Gates<br>IMDb Score: 7.6<br>Release Date: 2001<br>Academy Award for Best Actor/Actress : No",
          "Movie: The Mummy Returns<br>IMDb Score: 6.3<br>Release Date: 2001<br>Academy Award for Best Actor/Actress : No",
          "Movie: The Mummy Returns<br>IMDb Score: 6.3<br>Release Date: 2001<br>Academy Award for Best Actor/Actress : No",
          "Movie: About a Boy<br>IMDb Score: 7.1<br>Release Date: 2002<br>Academy Award for Best Actor/Actress : No",
          "Movie: Confidence<br>IMDb Score: 6.7<br>Release Date: 2003<br>Academy Award for Best Actor/Actress : No",
          "Movie: Envy<br>IMDb Score: 4.8<br>Release Date: 2004<br>Academy Award for Best Actor/Actress : No",
          "Movie: The Constant Gardener<br>IMDb Score: 7.5<br>Release Date: 2005<br>Academy Award for Best Actor/Actress : Yes",
          "Movie: Eragon<br>IMDb Score: 5.1<br>Release Date: 2006<br>Academy Award for Best Actor/Actress : No",
          "Movie: The Fountain<br>IMDb Score: 7.3<br>Release Date: 2006<br>Academy Award for Best Actor/Actress : No",
          "Movie: The Fountain<br>IMDb Score: 7.3<br>Release Date: 2006<br>Academy Award for Best Actor/Actress : No",
          "Movie: My Blueberry Nights<br>IMDb Score: 6.7<br>Release Date: 2007<br>Academy Award for Best Actor/Actress : No",
          "Movie: The Brothers Bloom<br>IMDb Score: 6.9<br>Release Date: 2008<br>Academy Award for Best Actor/Actress : No",
          "Movie: Definitely, Maybe<br>IMDb Score: 7.2<br>Release Date: 2008<br>Academy Award for Best Actor/Actress : No",
          "Movie: Agora<br>IMDb Score: 7.2<br>Release Date: 2009<br>Academy Award for Best Actor/Actress : No",
          "Movie: The Lovely Bones<br>IMDb Score: 6.7<br>Release Date: 2009<br>Academy Award for Best Actor/Actress : No",
          "Movie: The Lovely Bones<br>IMDb Score: 6.7<br>Release Date: 2009<br>Academy Award for Best Actor/Actress : No",
          "Movie: Dream House<br>IMDb Score: 6.0<br>Release Date: 2011<br>Academy Award for Best Actor/Actress : No",
          "Movie: The Bourne Legacy<br>IMDb Score: 6.7<br>Release Date: 2012<br>Academy Award for Best Actor/Actress : No"
         ],
         "legendgroup": "Rachel Weisz",
         "line": {
          "color": "#FF6692"
         },
         "marker": {
          "size": [
           8,
           8,
           8,
           8,
           8,
           8,
           8,
           8,
           15,
           8,
           8,
           8,
           8,
           8,
           8,
           8,
           8,
           8,
           8,
           8
          ],
          "symbol": [
           "circle",
           "circle",
           "circle",
           "circle",
           "circle",
           "circle",
           "circle",
           "circle",
           "star",
           "circle",
           "circle",
           "circle",
           "circle",
           "circle",
           "circle",
           "circle",
           "circle",
           "circle",
           "circle",
           "circle"
          ]
         },
         "mode": "lines+markers",
         "name": "Rachel Weisz",
         "type": "scatter",
         "visible": false,
         "x": [
          1996,
          1998,
          2001,
          2001,
          2001,
          2002,
          2003,
          2004,
          2005,
          2006,
          2006,
          2006,
          2007,
          2008,
          2008,
          2009,
          2009,
          2009,
          2011,
          2012
         ],
         "y": [
          5.6,
          6.3,
          7.6,
          6.3,
          6.3,
          7.1,
          6.7,
          4.8,
          7.5,
          5.1,
          7.3,
          7.3,
          6.7,
          6.9,
          7.2,
          7.2,
          6.7,
          6.7,
          6,
          6.7
         ]
        },
        {
         "hoverinfo": "text",
         "hovertext": [
          "Movie: Dazed and Confused<br>IMDb Score: 7.7<br>Release Date: 1993<br>Academy Award for Best Actor/Actress : No",
          "Movie: Jerry Maguire<br>IMDb Score: 7.3<br>Release Date: 1996<br>Academy Award for Best Actor/Actress : No",
          "Movie: One True Thing<br>IMDb Score: 7.0<br>Release Date: 1998<br>Academy Award for Best Actor/Actress : No",
          "Movie: Nurse Betty<br>IMDb Score: 6.3<br>Release Date: 2000<br>Academy Award for Best Actor/Actress : No",
          "Movie: Me, Myself & Irene<br>IMDb Score: 6.5<br>Release Date: 2000<br>Academy Award for Best Actor/Actress : No",
          "Movie: Bridget Jones's Diary<br>IMDb Score: 6.7<br>Release Date: 2001<br>Academy Award for Best Actor/Actress : No",
          "Movie: Chicago<br>IMDb Score: 7.2<br>Release Date: 2002<br>Academy Award for Best Actor/Actress : No",
          "Movie: White Oleander<br>IMDb Score: 7.2<br>Release Date: 2002<br>Academy Award for Best Actor/Actress : No",
          "Movie: Cold Mountain<br>IMDb Score: 7.2<br>Release Date: 2003<br>Academy Award for Best Actor/Actress : Yes",
          "Movie: Shark Tale<br>IMDb Score: 6.0<br>Release Date: 2004<br>Academy Award for Best Actor/Actress : No",
          "Movie: Bridget Jones: The Edge of Reason<br>IMDb Score: 5.9<br>Release Date: 2004<br>Academy Award for Best Actor/Actress : No",
          "Movie: Cinderella Man<br>IMDb Score: 8.0<br>Release Date: 2005<br>Academy Award for Best Actor/Actress : No",
          "Movie: Miss Potter<br>IMDb Score: 7.0<br>Release Date: 2006<br>Academy Award for Best Actor/Actress : No",
          "Movie: Bee Movie<br>IMDb Score: 6.2<br>Release Date: 2007<br>Academy Award for Best Actor/Actress : No",
          "Movie: Leatherheads<br>IMDb Score: 6.0<br>Release Date: 2008<br>Academy Award for Best Actor/Actress : No",
          "Movie: Appaloosa<br>IMDb Score: 6.8<br>Release Date: 2008<br>Academy Award for Best Actor/Actress : No",
          "Movie: Case 39<br>IMDb Score: 6.2<br>Release Date: 2009<br>Academy Award for Best Actor/Actress : No",
          "Movie: Monsters vs. Aliens<br>IMDb Score: 6.5<br>Release Date: 2009<br>Academy Award for Best Actor/Actress : No"
         ],
         "legendgroup": "Renée Zellweger",
         "line": {
          "color": "#B6E880"
         },
         "marker": {
          "size": [
           8,
           8,
           8,
           8,
           8,
           8,
           8,
           8,
           15,
           8,
           8,
           8,
           8,
           8,
           8,
           8,
           8,
           8
          ],
          "symbol": [
           "circle",
           "circle",
           "circle",
           "circle",
           "circle",
           "circle",
           "circle",
           "circle",
           "star",
           "circle",
           "circle",
           "circle",
           "circle",
           "circle",
           "circle",
           "circle",
           "circle",
           "circle"
          ]
         },
         "mode": "lines+markers",
         "name": "Renée Zellweger",
         "type": "scatter",
         "visible": false,
         "x": [
          1993,
          1996,
          1998,
          2000,
          2000,
          2001,
          2002,
          2002,
          2003,
          2004,
          2004,
          2005,
          2006,
          2007,
          2008,
          2008,
          2009,
          2009
         ],
         "y": [
          7.7,
          7.3,
          7,
          6.3,
          6.5,
          6.7,
          7.2,
          7.2,
          7.2,
          6,
          5.9,
          8,
          7,
          6.2,
          6,
          6.8,
          6.2,
          6.5
         ]
        },
        {
         "hoverinfo": "text",
         "hovertext": [
          "Movie: Good Morning, Vietnam<br>IMDb Score: 7.3<br>Release Date: 1987<br>Academy Award for Best Actor/Actress : No",
          "Movie: Dead Poets Society<br>IMDb Score: 8.0<br>Release Date: 1989<br>Academy Award for Best Actor/Actress : No",
          "Movie: Hook<br>IMDb Score: 6.7<br>Release Date: 1991<br>Academy Award for Best Actor/Actress : No",
          "Movie: Aladdin<br>IMDb Score: 8.0<br>Release Date: 1992<br>Academy Award for Best Actor/Actress : No",
          "Movie: Aladdin<br>IMDb Score: 8.0<br>Release Date: 1992<br>Academy Award for Best Actor/Actress : No",
          "Movie: Mrs. Doubtfire<br>IMDb Score: 6.9<br>Release Date: 1993<br>Academy Award for Best Actor/Actress : No",
          "Movie: Hamlet<br>IMDb Score: 7.8<br>Release Date: 1996<br>Academy Award for Best Actor/Actress : No",
          "Movie: Hamlet<br>IMDb Score: 7.8<br>Release Date: 1996<br>Academy Award for Best Actor/Actress : No",
          "Movie: Good Will Hunting<br>IMDb Score: 8.3<br>Release Date: 1997<br>Academy Award for Best Actor/Actress : Yes",
          "Movie: Flubber<br>IMDb Score: 5.2<br>Release Date: 1997<br>Academy Award for Best Actor/Actress : No",
          "Movie: Deconstructing Harry<br>IMDb Score: 7.4<br>Release Date: 1997<br>Academy Award for Best Actor/Actress : No",
          "Movie: What Dreams May Come<br>IMDb Score: 7.0<br>Release Date: 1998<br>Academy Award for Best Actor/Actress : No",
          "Movie: Patch Adams<br>IMDb Score: 6.7<br>Release Date: 1998<br>Academy Award for Best Actor/Actress : No",
          "Movie: Bicentennial Man<br>IMDb Score: 6.8<br>Release Date: 1999<br>Academy Award for Best Actor/Actress : No",
          "Movie: Jakob the Liar<br>IMDb Score: 6.5<br>Release Date: 1999<br>Academy Award for Best Actor/Actress : No",
          "Movie: A.I. Artificial Intelligence<br>IMDb Score: 7.1<br>Release Date: 2001<br>Academy Award for Best Actor/Actress : No",
          "Movie: Death to Smoochy<br>IMDb Score: 6.4<br>Release Date: 2002<br>Academy Award for Best Actor/Actress : No",
          "Movie: Insomnia<br>IMDb Score: 7.2<br>Release Date: 2002<br>Academy Award for Best Actor/Actress : No",
          "Movie: One Hour Photo<br>IMDb Score: 6.8<br>Release Date: 2002<br>Academy Award for Best Actor/Actress : No",
          "Movie: House of D<br>IMDb Score: 7.0<br>Release Date: 2004<br>Academy Award for Best Actor/Actress : No",
          "Movie: Night at the Museum<br>IMDb Score: 6.4<br>Release Date: 2006<br>Academy Award for Best Actor/Actress : No",
          "Movie: The Night Listener<br>IMDb Score: 5.9<br>Release Date: 2006<br>Academy Award for Best Actor/Actress : No",
          "Movie: Man of the Year<br>IMDb Score: 6.2<br>Release Date: 2006<br>Academy Award for Best Actor/Actress : No",
          "Movie: Happy Feet<br>IMDb Score: 6.5<br>Release Date: 2006<br>Academy Award for Best Actor/Actress : No",
          "Movie: Happy Feet<br>IMDb Score: 6.5<br>Release Date: 2006<br>Academy Award for Best Actor/Actress : No",
          "Movie: License to Wed<br>IMDb Score: 5.3<br>Release Date: 2007<br>Academy Award for Best Actor/Actress : No",
          "Movie: August Rush<br>IMDb Score: 7.5<br>Release Date: 2007<br>Academy Award for Best Actor/Actress : No",
          "Movie: Night at the Museum: Battle of the Smithsonian<br>IMDb Score: 5.9<br>Release Date: 2009<br>Academy Award for Best Actor/Actress : No",
          "Movie: World's Greatest Dad<br>IMDb Score: 6.9<br>Release Date: 2009<br>Academy Award for Best Actor/Actress : No",
          "Movie: Old Dogs<br>IMDb Score: 5.4<br>Release Date: 2009<br>Academy Award for Best Actor/Actress : No"
         ],
         "legendgroup": "Robin Williams",
         "line": {
          "color": "#FF97FF"
         },
         "marker": {
          "size": [
           8,
           8,
           8,
           8,
           8,
           8,
           8,
           8,
           15,
           8,
           8,
           8,
           8,
           8,
           8,
           8,
           8,
           8,
           8,
           8,
           8,
           8,
           8,
           8,
           8,
           8,
           8,
           8,
           8,
           8
          ],
          "symbol": [
           "circle",
           "circle",
           "circle",
           "circle",
           "circle",
           "circle",
           "circle",
           "circle",
           "star",
           "circle",
           "circle",
           "circle",
           "circle",
           "circle",
           "circle",
           "circle",
           "circle",
           "circle",
           "circle",
           "circle",
           "circle",
           "circle",
           "circle",
           "circle",
           "circle",
           "circle",
           "circle",
           "circle",
           "circle",
           "circle"
          ]
         },
         "mode": "lines+markers",
         "name": "Robin Williams",
         "type": "scatter",
         "visible": false,
         "x": [
          1987,
          1989,
          1991,
          1992,
          1992,
          1993,
          1996,
          1996,
          1997,
          1997,
          1997,
          1998,
          1998,
          1999,
          1999,
          2001,
          2002,
          2002,
          2002,
          2004,
          2006,
          2006,
          2006,
          2006,
          2006,
          2007,
          2007,
          2009,
          2009,
          2009
         ],
         "y": [
          7.3,
          8,
          6.7,
          8,
          8,
          6.9,
          7.8,
          7.8,
          8.3,
          5.2,
          7.4,
          7,
          6.7,
          6.8,
          6.5,
          7.1,
          6.4,
          7.2,
          6.8,
          7,
          6.4,
          5.9,
          6.2,
          6.5,
          6.5,
          5.3,
          7.5,
          5.9,
          6.9,
          5.4
         ]
        },
        {
         "hoverinfo": "text",
         "hovertext": [
          "Movie: Top Gun<br>IMDb Score: 6.9<br>Release Date: 1986<br>Academy Award for Best Actor/Actress : No",
          "Movie: Howard the Duck<br>IMDb Score: 4.6<br>Release Date: 1986<br>Academy Award for Best Actor/Actress : No",
          "Movie: The Hudsucker Proxy<br>IMDb Score: 7.3<br>Release Date: 1994<br>Academy Award for Best Actor/Actress : No",
          "Movie: The Shawshank Redemption<br>IMDb Score: 9.3<br>Release Date: 1994<br>Academy Award for Best Actor/Actress : No",
          "Movie: Nothing to Lose<br>IMDb Score: 6.7<br>Release Date: 1997<br>Academy Award for Best Actor/Actress : No",
          "Movie: Cradle Will Rock<br>IMDb Score: 6.9<br>Release Date: 1999<br>Academy Award for Best Actor/Actress : No",
          "Movie: Austin Powers: The Spy Who Shagged Me<br>IMDb Score: 6.6<br>Release Date: 1999<br>Academy Award for Best Actor/Actress : No",
          "Movie: Arlington Road<br>IMDb Score: 7.2<br>Release Date: 1999<br>Academy Award for Best Actor/Actress : No",
          "Movie: High Fidelity<br>IMDb Score: 7.6<br>Release Date: 2000<br>Academy Award for Best Actor/Actress : No",
          "Movie: Antitrust<br>IMDb Score: 6.1<br>Release Date: 2001<br>Academy Award for Best Actor/Actress : No",
          "Movie: Mystic River<br>IMDb Score: 8.0<br>Release Date: 2003<br>Academy Award for Best Actor/Actress : Yes",
          "Movie: Anchorman: The Legend of Ron Burgundy<br>IMDb Score: 7.2<br>Release Date: 2004<br>Academy Award for Best Actor/Actress : No",
          "Movie: War of the Worlds<br>IMDb Score: 6.5<br>Release Date: 2005<br>Academy Award for Best Actor/Actress : No",
          "Movie: Catch a Fire<br>IMDb Score: 6.7<br>Release Date: 2006<br>Academy Award for Best Actor/Actress : No",
          "Movie: The Lucky Ones<br>IMDb Score: 7.0<br>Release Date: 2008<br>Academy Award for Best Actor/Actress : No",
          "Movie: City of Ember<br>IMDb Score: 6.5<br>Release Date: 2008<br>Academy Award for Best Actor/Actress : No",
          "Movie: Green Lantern<br>IMDb Score: 5.6<br>Release Date: 2011<br>Academy Award for Best Actor/Actress : No"
         ],
         "legendgroup": "Tim Robbins",
         "line": {
          "color": "#FECB52"
         },
         "marker": {
          "size": [
           8,
           8,
           8,
           8,
           8,
           8,
           8,
           8,
           8,
           8,
           15,
           8,
           8,
           8,
           8,
           8,
           8
          ],
          "symbol": [
           "circle",
           "circle",
           "circle",
           "circle",
           "circle",
           "circle",
           "circle",
           "circle",
           "circle",
           "circle",
           "star",
           "circle",
           "circle",
           "circle",
           "circle",
           "circle",
           "circle"
          ]
         },
         "mode": "lines+markers",
         "name": "Tim Robbins",
         "type": "scatter",
         "visible": false,
         "x": [
          1986,
          1986,
          1994,
          1994,
          1997,
          1999,
          1999,
          1999,
          2000,
          2001,
          2003,
          2004,
          2005,
          2006,
          2008,
          2008,
          2011
         ],
         "y": [
          6.9,
          4.6,
          7.3,
          9.3,
          6.7,
          6.9,
          6.6,
          7.2,
          7.6,
          6.1,
          8,
          7.2,
          6.5,
          6.7,
          7,
          6.5,
          5.6
         ]
        },
        {
         "hoverinfo": "text",
         "hovertext": [
          "Movie: Ordinary People<br>IMDb Score: 7.8<br>Release Date: 1980<br>Academy Award for Best Actor/Actress : Yes",
          "Movie: The General's Daughter<br>IMDb Score: 6.3<br>Release Date: 1999<br>Academy Award for Best Actor/Actress : No",
          "Movie: Sunshine State<br>IMDb Score: 6.9<br>Release Date: 2002<br>Academy Award for Best Actor/Actress : No",
          "Movie: Kinsey<br>IMDb Score: 7.1<br>Release Date: 2004<br>Academy Award for Best Actor/Actress : No",
          "Movie: Secret Window<br>IMDb Score: 6.6<br>Release Date: 2004<br>Academy Award for Best Actor/Actress : No",
          "Movie: The Ghost Writer<br>IMDb Score: 7.2<br>Release Date: 2010<br>Academy Award for Best Actor/Actress : No"
         ],
         "legendgroup": "Timothy Hutton",
         "line": {
          "color": "#636EFA"
         },
         "marker": {
          "size": [
           15,
           8,
           8,
           8,
           8,
           8
          ],
          "symbol": [
           "star",
           "circle",
           "circle",
           "circle",
           "circle",
           "circle"
          ]
         },
         "mode": "lines+markers",
         "name": "Timothy Hutton",
         "type": "scatter",
         "visible": false,
         "x": [
          1980,
          1999,
          2002,
          2004,
          2004,
          2010
         ],
         "y": [
          7.8,
          6.3,
          6.9,
          7.1,
          6.6,
          7.2
         ]
        },
        {
         "hoverinfo": "text",
         "hovertext": [
          "Movie: Coal Miner's Daughter<br>IMDb Score: 7.5<br>Release Date: 1980<br>Academy Award for Best Actor/Actress : No",
          "Movie: JFK<br>IMDb Score: 8.0<br>Release Date: 1991<br>Academy Award for Best Actor/Actress : No",
          "Movie: The Fugitive<br>IMDb Score: 7.8<br>Release Date: 1993<br>Academy Award for Best Actor/Actress : Yes",
          "Movie: The Client<br>IMDb Score: 6.7<br>Release Date: 1994<br>Academy Award for Best Actor/Actress : No",
          "Movie: Batman Forever<br>IMDb Score: 5.4<br>Release Date: 1995<br>Academy Award for Best Actor/Actress : No",
          "Movie: Men in Black<br>IMDb Score: 7.3<br>Release Date: 1997<br>Academy Award for Best Actor/Actress : No",
          "Movie: Volcano<br>IMDb Score: 5.4<br>Release Date: 1997<br>Academy Award for Best Actor/Actress : No",
          "Movie: Small Soldiers<br>IMDb Score: 6.1<br>Release Date: 1998<br>Academy Award for Best Actor/Actress : No",
          "Movie: Double Jeopardy<br>IMDb Score: 6.4<br>Release Date: 1999<br>Academy Award for Best Actor/Actress : No",
          "Movie: Space Cowboys<br>IMDb Score: 6.4<br>Release Date: 2000<br>Academy Award for Best Actor/Actress : No",
          "Movie: Men in Black II<br>IMDb Score: 6.1<br>Release Date: 2002<br>Academy Award for Best Actor/Actress : No",
          "Movie: The Hunted<br>IMDb Score: 6.0<br>Release Date: 2003<br>Academy Award for Best Actor/Actress : No",
          "Movie: Man of the House<br>IMDb Score: 5.4<br>Release Date: 2005<br>Academy Award for Best Actor/Actress : No",
          "Movie: A Prairie Home Companion<br>IMDb Score: 6.8<br>Release Date: 2006<br>Academy Award for Best Actor/Actress : No",
          "Movie: No Country for Old Men<br>IMDb Score: 8.1<br>Release Date: 2007<br>Academy Award for Best Actor/Actress : No",
          "Movie: In the Valley of Elah<br>IMDb Score: 7.2<br>Release Date: 2007<br>Academy Award for Best Actor/Actress : No",
          "Movie: Captain America: The First Avenger<br>IMDb Score: 6.9<br>Release Date: 2011<br>Academy Award for Best Actor/Actress : No",
          "Movie: Hope Springs<br>IMDb Score: 6.3<br>Release Date: 2012<br>Academy Award for Best Actor/Actress : No",
          "Movie: Men in Black 3<br>IMDb Score: 6.8<br>Release Date: 2012<br>Academy Award for Best Actor/Actress : No",
          "Movie: Lincoln<br>IMDb Score: 7.4<br>Release Date: 2012<br>Academy Award for Best Actor/Actress : No"
         ],
         "legendgroup": "Tommy Lee Jones",
         "line": {
          "color": "#EF553B"
         },
         "marker": {
          "size": [
           8,
           8,
           15,
           8,
           8,
           8,
           8,
           8,
           8,
           8,
           8,
           8,
           8,
           8,
           8,
           8,
           8,
           8,
           8,
           8
          ],
          "symbol": [
           "circle",
           "circle",
           "star",
           "circle",
           "circle",
           "circle",
           "circle",
           "circle",
           "circle",
           "circle",
           "circle",
           "circle",
           "circle",
           "circle",
           "circle",
           "circle",
           "circle",
           "circle",
           "circle",
           "circle"
          ]
         },
         "mode": "lines+markers",
         "name": "Tommy Lee Jones",
         "type": "scatter",
         "visible": false,
         "x": [
          1980,
          1991,
          1993,
          1994,
          1995,
          1997,
          1997,
          1998,
          1999,
          2000,
          2002,
          2003,
          2005,
          2006,
          2007,
          2007,
          2011,
          2012,
          2012,
          2012
         ],
         "y": [
          7.5,
          8,
          7.8,
          6.7,
          5.4,
          7.3,
          5.4,
          6.1,
          6.4,
          6.4,
          6.1,
          6,
          5.4,
          6.8,
          8.1,
          7.2,
          6.9,
          6.3,
          6.8,
          7.4
         ]
        },
        {
         "hoverinfo": "text",
         "hovertext": [
          "Movie: The Color Purple<br>IMDb Score: 7.8<br>Release Date: 1985<br>Academy Award for Best Actor/Actress : No",
          "Movie: Ghost<br>IMDb Score: 7.0<br>Release Date: 1990<br>Academy Award for Best Actor/Actress : Yes",
          "Movie: The Lion King<br>IMDb Score: 8.5<br>Release Date: 1994<br>Academy Award for Best Actor/Actress : No",
          "Movie: Ghosts of Mississippi<br>IMDb Score: 6.7<br>Release Date: 1996<br>Academy Award for Best Actor/Actress : No",
          "Movie: Bogus<br>IMDb Score: 5.3<br>Release Date: 1996<br>Academy Award for Best Actor/Actress : No",
          "Movie: In & Out<br>IMDb Score: 6.3<br>Release Date: 1997<br>Academy Award for Best Actor/Actress : No",
          "Movie: How Stella Got Her Groove Back<br>IMDb Score: 5.5<br>Release Date: 1998<br>Academy Award for Best Actor/Actress : No",
          "Movie: The Rugrats Movie<br>IMDb Score: 5.9<br>Release Date: 1998<br>Academy Award for Best Actor/Actress : No",
          "Movie: The Deep End of the Ocean<br>IMDb Score: 6.3<br>Release Date: 1999<br>Academy Award for Best Actor/Actress : No",
          "Movie: Girl, Interrupted<br>IMDb Score: 7.3<br>Release Date: 1999<br>Academy Award for Best Actor/Actress : No",
          "Movie: Rat Race<br>IMDb Score: 6.4<br>Release Date: 2001<br>Academy Award for Best Actor/Actress : No",
          "Movie: Monkeybone<br>IMDb Score: 4.7<br>Release Date: 2001<br>Academy Award for Best Actor/Actress : No",
          "Movie: Racing Stripes<br>IMDb Score: 5.2<br>Release Date: 2005<br>Academy Award for Best Actor/Actress : No",
          "Movie: Madea Goes to Jail<br>IMDb Score: 4.1<br>Release Date: 2009<br>Academy Award for Best Actor/Actress : No",
          "Movie: For Colored Girls<br>IMDb Score: 6.0<br>Release Date: 2010<br>Academy Award for Best Actor/Actress : No",
          "Movie: Toy Story 3<br>IMDb Score: 8.3<br>Release Date: 2010<br>Academy Award for Best Actor/Actress : No"
         ],
         "legendgroup": "Whoopi Goldberg",
         "line": {
          "color": "#00CC96"
         },
         "marker": {
          "size": [
           8,
           15,
           8,
           8,
           8,
           8,
           8,
           8,
           8,
           8,
           8,
           8,
           8,
           8,
           8,
           8
          ],
          "symbol": [
           "circle",
           "star",
           "circle",
           "circle",
           "circle",
           "circle",
           "circle",
           "circle",
           "circle",
           "circle",
           "circle",
           "circle",
           "circle",
           "circle",
           "circle",
           "circle"
          ]
         },
         "mode": "lines+markers",
         "name": "Whoopi Goldberg",
         "type": "scatter",
         "visible": false,
         "x": [
          1985,
          1990,
          1994,
          1996,
          1996,
          1997,
          1998,
          1998,
          1999,
          1999,
          2001,
          2001,
          2005,
          2009,
          2010,
          2010
         ],
         "y": [
          7.8,
          7,
          8.5,
          6.7,
          5.3,
          6.3,
          5.5,
          5.9,
          6.3,
          7.3,
          6.4,
          4.7,
          5.2,
          4.1,
          6,
          8.3
         ]
        }
       ],
       "layout": {
        "height": 700,
        "showlegend": true,
        "template": {
         "data": {
          "bar": [
           {
            "error_x": {
             "color": "#2a3f5f"
            },
            "error_y": {
             "color": "#2a3f5f"
            },
            "marker": {
             "line": {
              "color": "#E5ECF6",
              "width": 0.5
             },
             "pattern": {
              "fillmode": "overlay",
              "size": 10,
              "solidity": 0.2
             }
            },
            "type": "bar"
           }
          ],
          "barpolar": [
           {
            "marker": {
             "line": {
              "color": "#E5ECF6",
              "width": 0.5
             },
             "pattern": {
              "fillmode": "overlay",
              "size": 10,
              "solidity": 0.2
             }
            },
            "type": "barpolar"
           }
          ],
          "carpet": [
           {
            "aaxis": {
             "endlinecolor": "#2a3f5f",
             "gridcolor": "white",
             "linecolor": "white",
             "minorgridcolor": "white",
             "startlinecolor": "#2a3f5f"
            },
            "baxis": {
             "endlinecolor": "#2a3f5f",
             "gridcolor": "white",
             "linecolor": "white",
             "minorgridcolor": "white",
             "startlinecolor": "#2a3f5f"
            },
            "type": "carpet"
           }
          ],
          "choropleth": [
           {
            "colorbar": {
             "outlinewidth": 0,
             "ticks": ""
            },
            "type": "choropleth"
           }
          ],
          "contour": [
           {
            "colorbar": {
             "outlinewidth": 0,
             "ticks": ""
            },
            "colorscale": [
             [
              0,
              "#0d0887"
             ],
             [
              0.1111111111111111,
              "#46039f"
             ],
             [
              0.2222222222222222,
              "#7201a8"
             ],
             [
              0.3333333333333333,
              "#9c179e"
             ],
             [
              0.4444444444444444,
              "#bd3786"
             ],
             [
              0.5555555555555556,
              "#d8576b"
             ],
             [
              0.6666666666666666,
              "#ed7953"
             ],
             [
              0.7777777777777778,
              "#fb9f3a"
             ],
             [
              0.8888888888888888,
              "#fdca26"
             ],
             [
              1,
              "#f0f921"
             ]
            ],
            "type": "contour"
           }
          ],
          "contourcarpet": [
           {
            "colorbar": {
             "outlinewidth": 0,
             "ticks": ""
            },
            "type": "contourcarpet"
           }
          ],
          "heatmap": [
           {
            "colorbar": {
             "outlinewidth": 0,
             "ticks": ""
            },
            "colorscale": [
             [
              0,
              "#0d0887"
             ],
             [
              0.1111111111111111,
              "#46039f"
             ],
             [
              0.2222222222222222,
              "#7201a8"
             ],
             [
              0.3333333333333333,
              "#9c179e"
             ],
             [
              0.4444444444444444,
              "#bd3786"
             ],
             [
              0.5555555555555556,
              "#d8576b"
             ],
             [
              0.6666666666666666,
              "#ed7953"
             ],
             [
              0.7777777777777778,
              "#fb9f3a"
             ],
             [
              0.8888888888888888,
              "#fdca26"
             ],
             [
              1,
              "#f0f921"
             ]
            ],
            "type": "heatmap"
           }
          ],
          "heatmapgl": [
           {
            "colorbar": {
             "outlinewidth": 0,
             "ticks": ""
            },
            "colorscale": [
             [
              0,
              "#0d0887"
             ],
             [
              0.1111111111111111,
              "#46039f"
             ],
             [
              0.2222222222222222,
              "#7201a8"
             ],
             [
              0.3333333333333333,
              "#9c179e"
             ],
             [
              0.4444444444444444,
              "#bd3786"
             ],
             [
              0.5555555555555556,
              "#d8576b"
             ],
             [
              0.6666666666666666,
              "#ed7953"
             ],
             [
              0.7777777777777778,
              "#fb9f3a"
             ],
             [
              0.8888888888888888,
              "#fdca26"
             ],
             [
              1,
              "#f0f921"
             ]
            ],
            "type": "heatmapgl"
           }
          ],
          "histogram": [
           {
            "marker": {
             "pattern": {
              "fillmode": "overlay",
              "size": 10,
              "solidity": 0.2
             }
            },
            "type": "histogram"
           }
          ],
          "histogram2d": [
           {
            "colorbar": {
             "outlinewidth": 0,
             "ticks": ""
            },
            "colorscale": [
             [
              0,
              "#0d0887"
             ],
             [
              0.1111111111111111,
              "#46039f"
             ],
             [
              0.2222222222222222,
              "#7201a8"
             ],
             [
              0.3333333333333333,
              "#9c179e"
             ],
             [
              0.4444444444444444,
              "#bd3786"
             ],
             [
              0.5555555555555556,
              "#d8576b"
             ],
             [
              0.6666666666666666,
              "#ed7953"
             ],
             [
              0.7777777777777778,
              "#fb9f3a"
             ],
             [
              0.8888888888888888,
              "#fdca26"
             ],
             [
              1,
              "#f0f921"
             ]
            ],
            "type": "histogram2d"
           }
          ],
          "histogram2dcontour": [
           {
            "colorbar": {
             "outlinewidth": 0,
             "ticks": ""
            },
            "colorscale": [
             [
              0,
              "#0d0887"
             ],
             [
              0.1111111111111111,
              "#46039f"
             ],
             [
              0.2222222222222222,
              "#7201a8"
             ],
             [
              0.3333333333333333,
              "#9c179e"
             ],
             [
              0.4444444444444444,
              "#bd3786"
             ],
             [
              0.5555555555555556,
              "#d8576b"
             ],
             [
              0.6666666666666666,
              "#ed7953"
             ],
             [
              0.7777777777777778,
              "#fb9f3a"
             ],
             [
              0.8888888888888888,
              "#fdca26"
             ],
             [
              1,
              "#f0f921"
             ]
            ],
            "type": "histogram2dcontour"
           }
          ],
          "mesh3d": [
           {
            "colorbar": {
             "outlinewidth": 0,
             "ticks": ""
            },
            "type": "mesh3d"
           }
          ],
          "parcoords": [
           {
            "line": {
             "colorbar": {
              "outlinewidth": 0,
              "ticks": ""
             }
            },
            "type": "parcoords"
           }
          ],
          "pie": [
           {
            "automargin": true,
            "type": "pie"
           }
          ],
          "scatter": [
           {
            "fillpattern": {
             "fillmode": "overlay",
             "size": 10,
             "solidity": 0.2
            },
            "type": "scatter"
           }
          ],
          "scatter3d": [
           {
            "line": {
             "colorbar": {
              "outlinewidth": 0,
              "ticks": ""
             }
            },
            "marker": {
             "colorbar": {
              "outlinewidth": 0,
              "ticks": ""
             }
            },
            "type": "scatter3d"
           }
          ],
          "scattercarpet": [
           {
            "marker": {
             "colorbar": {
              "outlinewidth": 0,
              "ticks": ""
             }
            },
            "type": "scattercarpet"
           }
          ],
          "scattergeo": [
           {
            "marker": {
             "colorbar": {
              "outlinewidth": 0,
              "ticks": ""
             }
            },
            "type": "scattergeo"
           }
          ],
          "scattergl": [
           {
            "marker": {
             "colorbar": {
              "outlinewidth": 0,
              "ticks": ""
             }
            },
            "type": "scattergl"
           }
          ],
          "scattermapbox": [
           {
            "marker": {
             "colorbar": {
              "outlinewidth": 0,
              "ticks": ""
             }
            },
            "type": "scattermapbox"
           }
          ],
          "scatterpolar": [
           {
            "marker": {
             "colorbar": {
              "outlinewidth": 0,
              "ticks": ""
             }
            },
            "type": "scatterpolar"
           }
          ],
          "scatterpolargl": [
           {
            "marker": {
             "colorbar": {
              "outlinewidth": 0,
              "ticks": ""
             }
            },
            "type": "scatterpolargl"
           }
          ],
          "scatterternary": [
           {
            "marker": {
             "colorbar": {
              "outlinewidth": 0,
              "ticks": ""
             }
            },
            "type": "scatterternary"
           }
          ],
          "surface": [
           {
            "colorbar": {
             "outlinewidth": 0,
             "ticks": ""
            },
            "colorscale": [
             [
              0,
              "#0d0887"
             ],
             [
              0.1111111111111111,
              "#46039f"
             ],
             [
              0.2222222222222222,
              "#7201a8"
             ],
             [
              0.3333333333333333,
              "#9c179e"
             ],
             [
              0.4444444444444444,
              "#bd3786"
             ],
             [
              0.5555555555555556,
              "#d8576b"
             ],
             [
              0.6666666666666666,
              "#ed7953"
             ],
             [
              0.7777777777777778,
              "#fb9f3a"
             ],
             [
              0.8888888888888888,
              "#fdca26"
             ],
             [
              1,
              "#f0f921"
             ]
            ],
            "type": "surface"
           }
          ],
          "table": [
           {
            "cells": {
             "fill": {
              "color": "#EBF0F8"
             },
             "line": {
              "color": "white"
             }
            },
            "header": {
             "fill": {
              "color": "#C8D4E3"
             },
             "line": {
              "color": "white"
             }
            },
            "type": "table"
           }
          ]
         },
         "layout": {
          "annotationdefaults": {
           "arrowcolor": "#2a3f5f",
           "arrowhead": 0,
           "arrowwidth": 1
          },
          "autotypenumbers": "strict",
          "coloraxis": {
           "colorbar": {
            "outlinewidth": 0,
            "ticks": ""
           }
          },
          "colorscale": {
           "diverging": [
            [
             0,
             "#8e0152"
            ],
            [
             0.1,
             "#c51b7d"
            ],
            [
             0.2,
             "#de77ae"
            ],
            [
             0.3,
             "#f1b6da"
            ],
            [
             0.4,
             "#fde0ef"
            ],
            [
             0.5,
             "#f7f7f7"
            ],
            [
             0.6,
             "#e6f5d0"
            ],
            [
             0.7,
             "#b8e186"
            ],
            [
             0.8,
             "#7fbc41"
            ],
            [
             0.9,
             "#4d9221"
            ],
            [
             1,
             "#276419"
            ]
           ],
           "sequential": [
            [
             0,
             "#0d0887"
            ],
            [
             0.1111111111111111,
             "#46039f"
            ],
            [
             0.2222222222222222,
             "#7201a8"
            ],
            [
             0.3333333333333333,
             "#9c179e"
            ],
            [
             0.4444444444444444,
             "#bd3786"
            ],
            [
             0.5555555555555556,
             "#d8576b"
            ],
            [
             0.6666666666666666,
             "#ed7953"
            ],
            [
             0.7777777777777778,
             "#fb9f3a"
            ],
            [
             0.8888888888888888,
             "#fdca26"
            ],
            [
             1,
             "#f0f921"
            ]
           ],
           "sequentialminus": [
            [
             0,
             "#0d0887"
            ],
            [
             0.1111111111111111,
             "#46039f"
            ],
            [
             0.2222222222222222,
             "#7201a8"
            ],
            [
             0.3333333333333333,
             "#9c179e"
            ],
            [
             0.4444444444444444,
             "#bd3786"
            ],
            [
             0.5555555555555556,
             "#d8576b"
            ],
            [
             0.6666666666666666,
             "#ed7953"
            ],
            [
             0.7777777777777778,
             "#fb9f3a"
            ],
            [
             0.8888888888888888,
             "#fdca26"
            ],
            [
             1,
             "#f0f921"
            ]
           ]
          },
          "colorway": [
           "#636efa",
           "#EF553B",
           "#00cc96",
           "#ab63fa",
           "#FFA15A",
           "#19d3f3",
           "#FF6692",
           "#B6E880",
           "#FF97FF",
           "#FECB52"
          ],
          "font": {
           "color": "#2a3f5f"
          },
          "geo": {
           "bgcolor": "white",
           "lakecolor": "white",
           "landcolor": "#E5ECF6",
           "showlakes": true,
           "showland": true,
           "subunitcolor": "white"
          },
          "hoverlabel": {
           "align": "left"
          },
          "hovermode": "closest",
          "mapbox": {
           "style": "light"
          },
          "paper_bgcolor": "white",
          "plot_bgcolor": "#E5ECF6",
          "polar": {
           "angularaxis": {
            "gridcolor": "white",
            "linecolor": "white",
            "ticks": ""
           },
           "bgcolor": "#E5ECF6",
           "radialaxis": {
            "gridcolor": "white",
            "linecolor": "white",
            "ticks": ""
           }
          },
          "scene": {
           "xaxis": {
            "backgroundcolor": "#E5ECF6",
            "gridcolor": "white",
            "gridwidth": 2,
            "linecolor": "white",
            "showbackground": true,
            "ticks": "",
            "zerolinecolor": "white"
           },
           "yaxis": {
            "backgroundcolor": "#E5ECF6",
            "gridcolor": "white",
            "gridwidth": 2,
            "linecolor": "white",
            "showbackground": true,
            "ticks": "",
            "zerolinecolor": "white"
           },
           "zaxis": {
            "backgroundcolor": "#E5ECF6",
            "gridcolor": "white",
            "gridwidth": 2,
            "linecolor": "white",
            "showbackground": true,
            "ticks": "",
            "zerolinecolor": "white"
           }
          },
          "shapedefaults": {
           "line": {
            "color": "#2a3f5f"
           }
          },
          "ternary": {
           "aaxis": {
            "gridcolor": "white",
            "linecolor": "white",
            "ticks": ""
           },
           "baxis": {
            "gridcolor": "white",
            "linecolor": "white",
            "ticks": ""
           },
           "bgcolor": "#E5ECF6",
           "caxis": {
            "gridcolor": "white",
            "linecolor": "white",
            "ticks": ""
           }
          },
          "title": {
           "x": 0.05
          },
          "xaxis": {
           "automargin": true,
           "gridcolor": "white",
           "linecolor": "white",
           "ticks": "",
           "title": {
            "standoff": 15
           },
           "zerolinecolor": "white",
           "zerolinewidth": 2
          },
          "yaxis": {
           "automargin": true,
           "gridcolor": "white",
           "linecolor": "white",
           "ticks": "",
           "title": {
            "standoff": 15
           },
           "zerolinecolor": "white",
           "zerolinewidth": 2
          }
         }
        },
        "title": {
         "text": "Evolution of IMDb Scores for Movies Starring Oscar-Winning Actresses/Actors Before and After the Reward(s)"
        },
        "updatemenus": [
         {
          "buttons": [
           {
            "args": [
             {
              "visible": [
               true,
               true,
               true,
               true,
               true,
               true,
               true,
               true,
               true,
               true,
               true,
               true,
               true,
               true,
               true,
               true,
               true,
               true,
               true,
               true,
               true,
               true,
               true,
               true,
               true,
               true,
               true,
               true,
               true,
               true,
               true,
               true,
               true,
               true,
               true,
               true,
               true,
               true,
               true,
               true,
               true,
               true,
               true,
               true,
               true,
               true,
               true,
               true,
               true,
               true,
               true,
               true,
               true,
               true,
               true,
               true,
               true,
               true,
               true,
               true,
               true,
               true,
               true,
               true,
               true,
               true,
               false,
               false,
               false,
               false,
               false,
               false,
               false,
               false,
               false,
               false,
               false,
               false,
               false,
               false,
               false,
               false,
               false,
               false,
               false,
               false,
               false,
               false,
               false,
               false,
               false,
               false,
               false,
               false,
               false,
               false,
               false,
               false,
               false
              ]
             },
             {
              "title": "Evolution of IMDb Scores for Movies Starring Oscar-Winning Actresses (All Actresses)"
             }
            ],
            "label": "All",
            "method": "update"
           },
           {
            "args": [
             {
              "visible": [
               false,
               false,
               false,
               false,
               false,
               false,
               false,
               false,
               false,
               false,
               false,
               false,
               false,
               false,
               false,
               false,
               false,
               false,
               false,
               false,
               false,
               false,
               false,
               false,
               false,
               false,
               false,
               false,
               false,
               false,
               false,
               false,
               false,
               false,
               false,
               false,
               false,
               false,
               false,
               false,
               false,
               false,
               false,
               false,
               false,
               false,
               false,
               false,
               false,
               false,
               false,
               false,
               false,
               false,
               false,
               false,
               false,
               false,
               false,
               false,
               false,
               false,
               false,
               false,
               false,
               false,
               true,
               false,
               false,
               false,
               false,
               false,
               false,
               false,
               false,
               false,
               false,
               false,
               false,
               false,
               false,
               false,
               false,
               false,
               false,
               false,
               false,
               false,
               false,
               false,
               false,
               false,
               false,
               false,
               false,
               false,
               false,
               false,
               false
              ]
             },
             {
              "title": "Evolution of IMDb Scores for Movies Starring Alan Arkin"
             }
            ],
            "label": "Alan Arkin",
            "method": "update"
           },
           {
            "args": [
             {
              "visible": [
               false,
               false,
               false,
               false,
               false,
               false,
               false,
               false,
               false,
               false,
               false,
               false,
               false,
               false,
               false,
               false,
               false,
               false,
               false,
               false,
               false,
               false,
               false,
               false,
               false,
               false,
               false,
               false,
               false,
               false,
               false,
               false,
               false,
               false,
               false,
               false,
               false,
               false,
               false,
               false,
               false,
               false,
               false,
               false,
               false,
               false,
               false,
               false,
               false,
               false,
               false,
               false,
               false,
               false,
               false,
               false,
               false,
               false,
               false,
               false,
               false,
               false,
               false,
               false,
               false,
               false,
               false,
               true,
               false,
               false,
               false,
               false,
               false,
               false,
               false,
               false,
               false,
               false,
               false,
               false,
               false,
               false,
               false,
               false,
               false,
               false,
               false,
               false,
               false,
               false,
               false,
               false,
               false,
               false,
               false,
               false,
               false,
               false,
               false
              ]
             },
             {
              "title": "Evolution of IMDb Scores for Movies Starring Angelina Jolie"
             }
            ],
            "label": "Angelina Jolie",
            "method": "update"
           },
           {
            "args": [
             {
              "visible": [
               false,
               false,
               false,
               false,
               false,
               false,
               false,
               false,
               false,
               false,
               false,
               false,
               false,
               false,
               false,
               false,
               false,
               false,
               false,
               false,
               false,
               false,
               false,
               false,
               false,
               false,
               false,
               false,
               false,
               false,
               false,
               false,
               false,
               false,
               false,
               false,
               false,
               false,
               false,
               false,
               false,
               false,
               false,
               false,
               false,
               false,
               false,
               false,
               false,
               false,
               false,
               false,
               false,
               false,
               false,
               false,
               false,
               false,
               false,
               false,
               false,
               false,
               false,
               false,
               false,
               false,
               false,
               false,
               true,
               false,
               false,
               false,
               false,
               false,
               false,
               false,
               false,
               false,
               false,
               false,
               false,
               false,
               false,
               false,
               false,
               false,
               false,
               false,
               false,
               false,
               false,
               false,
               false,
               false,
               false,
               false,
               false,
               false,
               false
              ]
             },
             {
              "title": "Evolution of IMDb Scores for Movies Starring Anna Paquin"
             }
            ],
            "label": "Anna Paquin",
            "method": "update"
           },
           {
            "args": [
             {
              "visible": [
               false,
               false,
               false,
               false,
               false,
               false,
               false,
               false,
               false,
               false,
               false,
               false,
               false,
               false,
               false,
               false,
               false,
               false,
               false,
               false,
               false,
               false,
               false,
               false,
               false,
               false,
               false,
               false,
               false,
               false,
               false,
               false,
               false,
               false,
               false,
               false,
               false,
               false,
               false,
               false,
               false,
               false,
               false,
               false,
               false,
               false,
               false,
               false,
               false,
               false,
               false,
               false,
               false,
               false,
               false,
               false,
               false,
               false,
               false,
               false,
               false,
               false,
               false,
               false,
               false,
               false,
               false,
               false,
               false,
               true,
               false,
               false,
               false,
               false,
               false,
               false,
               false,
               false,
               false,
               false,
               false,
               false,
               false,
               false,
               false,
               false,
               false,
               false,
               false,
               false,
               false,
               false,
               false,
               false,
               false,
               false,
               false,
               false,
               false
              ]
             },
             {
              "title": "Evolution of IMDb Scores for Movies Starring Anne Hathaway"
             }
            ],
            "label": "Anne Hathaway",
            "method": "update"
           },
           {
            "args": [
             {
              "visible": [
               false,
               false,
               false,
               false,
               false,
               false,
               false,
               false,
               false,
               false,
               false,
               false,
               false,
               false,
               false,
               false,
               false,
               false,
               false,
               false,
               false,
               false,
               false,
               false,
               false,
               false,
               false,
               false,
               false,
               false,
               false,
               false,
               false,
               false,
               false,
               false,
               false,
               false,
               false,
               false,
               false,
               false,
               false,
               false,
               false,
               false,
               false,
               false,
               false,
               false,
               false,
               false,
               false,
               false,
               false,
               false,
               false,
               false,
               false,
               false,
               false,
               false,
               false,
               false,
               false,
               false,
               false,
               false,
               false,
               false,
               true,
               false,
               false,
               false,
               false,
               false,
               false,
               false,
               false,
               false,
               false,
               false,
               false,
               false,
               false,
               false,
               false,
               false,
               false,
               false,
               false,
               false,
               false,
               false,
               false,
               false,
               false,
               false,
               false
              ]
             },
             {
              "title": "Evolution of IMDb Scores for Movies Starring Catherine Zeta-Jones"
             }
            ],
            "label": "Catherine Zeta-Jones",
            "method": "update"
           },
           {
            "args": [
             {
              "visible": [
               false,
               false,
               false,
               false,
               false,
               false,
               false,
               false,
               false,
               false,
               false,
               false,
               false,
               false,
               false,
               false,
               false,
               false,
               false,
               false,
               false,
               false,
               false,
               false,
               false,
               false,
               false,
               false,
               false,
               false,
               false,
               false,
               false,
               false,
               false,
               false,
               false,
               false,
               false,
               false,
               false,
               false,
               false,
               false,
               false,
               false,
               false,
               false,
               false,
               false,
               false,
               false,
               false,
               false,
               false,
               false,
               false,
               false,
               false,
               false,
               false,
               false,
               false,
               false,
               false,
               false,
               false,
               false,
               false,
               false,
               false,
               true,
               false,
               false,
               false,
               false,
               false,
               false,
               false,
               false,
               false,
               false,
               false,
               false,
               false,
               false,
               false,
               false,
               false,
               false,
               false,
               false,
               false,
               false,
               false,
               false,
               false,
               false,
               false
              ]
             },
             {
              "title": "Evolution of IMDb Scores for Movies Starring Christian Bale"
             }
            ],
            "label": "Christian Bale",
            "method": "update"
           },
           {
            "args": [
             {
              "visible": [
               false,
               false,
               false,
               false,
               false,
               false,
               false,
               false,
               false,
               false,
               false,
               false,
               false,
               false,
               false,
               false,
               false,
               false,
               false,
               false,
               false,
               false,
               false,
               false,
               false,
               false,
               false,
               false,
               false,
               false,
               false,
               false,
               false,
               false,
               false,
               false,
               false,
               false,
               false,
               false,
               false,
               false,
               false,
               false,
               false,
               false,
               false,
               false,
               false,
               false,
               false,
               false,
               false,
               false,
               false,
               false,
               false,
               false,
               false,
               false,
               false,
               false,
               false,
               false,
               false,
               false,
               false,
               false,
               false,
               false,
               false,
               false,
               true,
               false,
               false,
               false,
               false,
               false,
               false,
               false,
               false,
               false,
               false,
               false,
               false,
               false,
               false,
               false,
               false,
               false,
               false,
               false,
               false,
               false,
               false,
               false,
               false,
               false,
               false
              ]
             },
             {
              "title": "Evolution of IMDb Scores for Movies Starring Christoph Waltz"
             }
            ],
            "label": "Christoph Waltz",
            "method": "update"
           },
           {
            "args": [
             {
              "visible": [
               false,
               false,
               false,
               false,
               false,
               false,
               false,
               false,
               false,
               false,
               false,
               false,
               false,
               false,
               false,
               false,
               false,
               false,
               false,
               false,
               false,
               false,
               false,
               false,
               false,
               false,
               false,
               false,
               false,
               false,
               false,
               false,
               false,
               false,
               false,
               false,
               false,
               false,
               false,
               false,
               false,
               false,
               false,
               false,
               false,
               false,
               false,
               false,
               false,
               false,
               false,
               false,
               false,
               false,
               false,
               false,
               false,
               false,
               false,
               false,
               false,
               false,
               false,
               false,
               false,
               false,
               false,
               false,
               false,
               false,
               false,
               false,
               false,
               true,
               false,
               false,
               false,
               false,
               false,
               false,
               false,
               false,
               false,
               false,
               false,
               false,
               false,
               false,
               false,
               false,
               false,
               false,
               false,
               false,
               false,
               false,
               false,
               false,
               false
              ]
             },
             {
              "title": "Evolution of IMDb Scores for Movies Starring Christopher Plummer"
             }
            ],
            "label": "Christopher Plummer",
            "method": "update"
           },
           {
            "args": [
             {
              "visible": [
               false,
               false,
               false,
               false,
               false,
               false,
               false,
               false,
               false,
               false,
               false,
               false,
               false,
               false,
               false,
               false,
               false,
               false,
               false,
               false,
               false,
               false,
               false,
               false,
               false,
               false,
               false,
               false,
               false,
               false,
               false,
               false,
               false,
               false,
               false,
               false,
               false,
               false,
               false,
               false,
               false,
               false,
               false,
               false,
               false,
               false,
               false,
               false,
               false,
               false,
               false,
               false,
               false,
               false,
               false,
               false,
               false,
               false,
               false,
               false,
               false,
               false,
               false,
               false,
               false,
               false,
               false,
               false,
               false,
               false,
               false,
               false,
               false,
               false,
               true,
               false,
               false,
               false,
               false,
               false,
               false,
               false,
               false,
               false,
               false,
               false,
               false,
               false,
               false,
               false,
               false,
               false,
               false,
               false,
               false,
               false,
               false,
               false,
               false
              ]
             },
             {
              "title": "Evolution of IMDb Scores for Movies Starring Dianne Wiest"
             }
            ],
            "label": "Dianne Wiest",
            "method": "update"
           },
           {
            "args": [
             {
              "visible": [
               false,
               false,
               false,
               false,
               false,
               false,
               false,
               false,
               false,
               false,
               false,
               false,
               false,
               false,
               false,
               false,
               false,
               false,
               false,
               false,
               false,
               false,
               false,
               false,
               false,
               false,
               false,
               false,
               false,
               false,
               false,
               false,
               false,
               false,
               false,
               false,
               false,
               false,
               false,
               false,
               false,
               false,
               false,
               false,
               false,
               false,
               false,
               false,
               false,
               false,
               false,
               false,
               false,
               false,
               false,
               false,
               false,
               false,
               false,
               false,
               false,
               false,
               false,
               false,
               false,
               false,
               false,
               false,
               false,
               false,
               false,
               false,
               false,
               false,
               false,
               true,
               false,
               false,
               false,
               false,
               false,
               false,
               false,
               false,
               false,
               false,
               false,
               false,
               false,
               false,
               false,
               false,
               false,
               false,
               false,
               false,
               false,
               false,
               false
              ]
             },
             {
              "title": "Evolution of IMDb Scores for Movies Starring Gene Hackman"
             }
            ],
            "label": "Gene Hackman",
            "method": "update"
           },
           {
            "args": [
             {
              "visible": [
               false,
               false,
               false,
               false,
               false,
               false,
               false,
               false,
               false,
               false,
               false,
               false,
               false,
               false,
               false,
               false,
               false,
               false,
               false,
               false,
               false,
               false,
               false,
               false,
               false,
               false,
               false,
               false,
               false,
               false,
               false,
               false,
               false,
               false,
               false,
               false,
               false,
               false,
               false,
               false,
               false,
               false,
               false,
               false,
               false,
               false,
               false,
               false,
               false,
               false,
               false,
               false,
               false,
               false,
               false,
               false,
               false,
               false,
               false,
               false,
               false,
               false,
               false,
               false,
               false,
               false,
               false,
               false,
               false,
               false,
               false,
               false,
               false,
               false,
               false,
               false,
               true,
               false,
               false,
               false,
               false,
               false,
               false,
               false,
               false,
               false,
               false,
               false,
               false,
               false,
               false,
               false,
               false,
               false,
               false,
               false,
               false,
               false,
               false
              ]
             },
             {
              "title": "Evolution of IMDb Scores for Movies Starring George Clooney"
             }
            ],
            "label": "George Clooney",
            "method": "update"
           },
           {
            "args": [
             {
              "visible": [
               false,
               false,
               false,
               false,
               false,
               false,
               false,
               false,
               false,
               false,
               false,
               false,
               false,
               false,
               false,
               false,
               false,
               false,
               false,
               false,
               false,
               false,
               false,
               false,
               false,
               false,
               false,
               false,
               false,
               false,
               false,
               false,
               false,
               false,
               false,
               false,
               false,
               false,
               false,
               false,
               false,
               false,
               false,
               false,
               false,
               false,
               false,
               false,
               false,
               false,
               false,
               false,
               false,
               false,
               false,
               false,
               false,
               false,
               false,
               false,
               false,
               false,
               false,
               false,
               false,
               false,
               false,
               false,
               false,
               false,
               false,
               false,
               false,
               false,
               false,
               false,
               false,
               true,
               false,
               false,
               false,
               false,
               false,
               false,
               false,
               false,
               false,
               false,
               false,
               false,
               false,
               false,
               false,
               false,
               false,
               false,
               false,
               false,
               false
              ]
             },
             {
              "title": "Evolution of IMDb Scores for Movies Starring Heath Ledger"
             }
            ],
            "label": "Heath Ledger",
            "method": "update"
           },
           {
            "args": [
             {
              "visible": [
               false,
               false,
               false,
               false,
               false,
               false,
               false,
               false,
               false,
               false,
               false,
               false,
               false,
               false,
               false,
               false,
               false,
               false,
               false,
               false,
               false,
               false,
               false,
               false,
               false,
               false,
               false,
               false,
               false,
               false,
               false,
               false,
               false,
               false,
               false,
               false,
               false,
               false,
               false,
               false,
               false,
               false,
               false,
               false,
               false,
               false,
               false,
               false,
               false,
               false,
               false,
               false,
               false,
               false,
               false,
               false,
               false,
               false,
               false,
               false,
               false,
               false,
               false,
               false,
               false,
               false,
               false,
               false,
               false,
               false,
               false,
               false,
               false,
               false,
               false,
               false,
               false,
               false,
               true,
               false,
               false,
               false,
               false,
               false,
               false,
               false,
               false,
               false,
               false,
               false,
               false,
               false,
               false,
               false,
               false,
               false,
               false,
               false,
               false
              ]
             },
             {
              "title": "Evolution of IMDb Scores for Movies Starring Javier Bardem"
             }
            ],
            "label": "Javier Bardem",
            "method": "update"
           },
           {
            "args": [
             {
              "visible": [
               false,
               false,
               false,
               false,
               false,
               false,
               false,
               false,
               false,
               false,
               false,
               false,
               false,
               false,
               false,
               false,
               false,
               false,
               false,
               false,
               false,
               false,
               false,
               false,
               false,
               false,
               false,
               false,
               false,
               false,
               false,
               false,
               false,
               false,
               false,
               false,
               false,
               false,
               false,
               false,
               false,
               false,
               false,
               false,
               false,
               false,
               false,
               false,
               false,
               false,
               false,
               false,
               false,
               false,
               false,
               false,
               false,
               false,
               false,
               false,
               false,
               false,
               false,
               false,
               false,
               false,
               false,
               false,
               false,
               false,
               false,
               false,
               false,
               false,
               false,
               false,
               false,
               false,
               false,
               true,
               false,
               false,
               false,
               false,
               false,
               false,
               false,
               false,
               false,
               false,
               false,
               false,
               false,
               false,
               false,
               false,
               false,
               false,
               false
              ]
             },
             {
              "title": "Evolution of IMDb Scores for Movies Starring Jennifer Connelly"
             }
            ],
            "label": "Jennifer Connelly",
            "method": "update"
           },
           {
            "args": [
             {
              "visible": [
               false,
               false,
               false,
               false,
               false,
               false,
               false,
               false,
               false,
               false,
               false,
               false,
               false,
               false,
               false,
               false,
               false,
               false,
               false,
               false,
               false,
               false,
               false,
               false,
               false,
               false,
               false,
               false,
               false,
               false,
               false,
               false,
               false,
               false,
               false,
               false,
               false,
               false,
               false,
               false,
               false,
               false,
               false,
               false,
               false,
               false,
               false,
               false,
               false,
               false,
               false,
               false,
               false,
               false,
               false,
               false,
               false,
               false,
               false,
               false,
               false,
               false,
               false,
               false,
               false,
               false,
               false,
               false,
               false,
               false,
               false,
               false,
               false,
               false,
               false,
               false,
               false,
               false,
               false,
               false,
               true,
               false,
               false,
               false,
               false,
               false,
               false,
               false,
               false,
               false,
               false,
               false,
               false,
               false,
               false,
               false,
               false,
               false,
               false
              ]
             },
             {
              "title": "Evolution of IMDb Scores for Movies Starring Jessica Lange"
             }
            ],
            "label": "Jessica Lange",
            "method": "update"
           },
           {
            "args": [
             {
              "visible": [
               false,
               false,
               false,
               false,
               false,
               false,
               false,
               false,
               false,
               false,
               false,
               false,
               false,
               false,
               false,
               false,
               false,
               false,
               false,
               false,
               false,
               false,
               false,
               false,
               false,
               false,
               false,
               false,
               false,
               false,
               false,
               false,
               false,
               false,
               false,
               false,
               false,
               false,
               false,
               false,
               false,
               false,
               false,
               false,
               false,
               false,
               false,
               false,
               false,
               false,
               false,
               false,
               false,
               false,
               false,
               false,
               false,
               false,
               false,
               false,
               false,
               false,
               false,
               false,
               false,
               false,
               false,
               false,
               false,
               false,
               false,
               false,
               false,
               false,
               false,
               false,
               false,
               false,
               false,
               false,
               false,
               true,
               false,
               false,
               false,
               false,
               false,
               false,
               false,
               false,
               false,
               false,
               false,
               false,
               false,
               false,
               false,
               false,
               false
              ]
             },
             {
              "title": "Evolution of IMDb Scores for Movies Starring Jim Broadbent"
             }
            ],
            "label": "Jim Broadbent",
            "method": "update"
           },
           {
            "args": [
             {
              "visible": [
               false,
               false,
               false,
               false,
               false,
               false,
               false,
               false,
               false,
               false,
               false,
               false,
               false,
               false,
               false,
               false,
               false,
               false,
               false,
               false,
               false,
               false,
               false,
               false,
               false,
               false,
               false,
               false,
               false,
               false,
               false,
               false,
               false,
               false,
               false,
               false,
               false,
               false,
               false,
               false,
               false,
               false,
               false,
               false,
               false,
               false,
               false,
               false,
               false,
               false,
               false,
               false,
               false,
               false,
               false,
               false,
               false,
               false,
               false,
               false,
               false,
               false,
               false,
               false,
               false,
               false,
               false,
               false,
               false,
               false,
               false,
               false,
               false,
               false,
               false,
               false,
               false,
               false,
               false,
               false,
               false,
               false,
               true,
               false,
               false,
               false,
               false,
               false,
               false,
               false,
               false,
               false,
               false,
               false,
               false,
               false,
               false,
               false,
               false
              ]
             },
             {
              "title": "Evolution of IMDb Scores for Movies Starring Joe Pesci"
             }
            ],
            "label": "Joe Pesci",
            "method": "update"
           },
           {
            "args": [
             {
              "visible": [
               false,
               false,
               false,
               false,
               false,
               false,
               false,
               false,
               false,
               false,
               false,
               false,
               false,
               false,
               false,
               false,
               false,
               false,
               false,
               false,
               false,
               false,
               false,
               false,
               false,
               false,
               false,
               false,
               false,
               false,
               false,
               false,
               false,
               false,
               false,
               false,
               false,
               false,
               false,
               false,
               false,
               false,
               false,
               false,
               false,
               false,
               false,
               false,
               false,
               false,
               false,
               false,
               false,
               false,
               false,
               false,
               false,
               false,
               false,
               false,
               false,
               false,
               false,
               false,
               false,
               false,
               false,
               false,
               false,
               false,
               false,
               false,
               false,
               false,
               false,
               false,
               false,
               false,
               false,
               false,
               false,
               false,
               false,
               true,
               false,
               false,
               false,
               false,
               false,
               false,
               false,
               false,
               false,
               false,
               false,
               false,
               false,
               false,
               false
              ]
             },
             {
              "title": "Evolution of IMDb Scores for Movies Starring Judi Dench"
             }
            ],
            "label": "Judi Dench",
            "method": "update"
           },
           {
            "args": [
             {
              "visible": [
               false,
               false,
               false,
               false,
               false,
               false,
               false,
               false,
               false,
               false,
               false,
               false,
               false,
               false,
               false,
               false,
               false,
               false,
               false,
               false,
               false,
               false,
               false,
               false,
               false,
               false,
               false,
               false,
               false,
               false,
               false,
               false,
               false,
               false,
               false,
               false,
               false,
               false,
               false,
               false,
               false,
               false,
               false,
               false,
               false,
               false,
               false,
               false,
               false,
               false,
               false,
               false,
               false,
               false,
               false,
               false,
               false,
               false,
               false,
               false,
               false,
               false,
               false,
               false,
               false,
               false,
               false,
               false,
               false,
               false,
               false,
               false,
               false,
               false,
               false,
               false,
               false,
               false,
               false,
               false,
               false,
               false,
               false,
               false,
               true,
               false,
               false,
               false,
               false,
               false,
               false,
               false,
               false,
               false,
               false,
               false,
               false,
               false,
               false
              ]
             },
             {
              "title": "Evolution of IMDb Scores for Movies Starring Juliette Binoche"
             }
            ],
            "label": "Juliette Binoche",
            "method": "update"
           },
           {
            "args": [
             {
              "visible": [
               false,
               false,
               false,
               false,
               false,
               false,
               false,
               false,
               false,
               false,
               false,
               false,
               false,
               false,
               false,
               false,
               false,
               false,
               false,
               false,
               false,
               false,
               false,
               false,
               false,
               false,
               false,
               false,
               false,
               false,
               false,
               false,
               false,
               false,
               false,
               false,
               false,
               false,
               false,
               false,
               false,
               false,
               false,
               false,
               false,
               false,
               false,
               false,
               false,
               false,
               false,
               false,
               false,
               false,
               false,
               false,
               false,
               false,
               false,
               false,
               false,
               false,
               false,
               false,
               false,
               false,
               false,
               false,
               false,
               false,
               false,
               false,
               false,
               false,
               false,
               false,
               false,
               false,
               false,
               false,
               false,
               false,
               false,
               false,
               false,
               true,
               false,
               false,
               false,
               false,
               false,
               false,
               false,
               false,
               false,
               false,
               false,
               false,
               false
              ]
             },
             {
              "title": "Evolution of IMDb Scores for Movies Starring Kim Basinger"
             }
            ],
            "label": "Kim Basinger",
            "method": "update"
           },
           {
            "args": [
             {
              "visible": [
               false,
               false,
               false,
               false,
               false,
               false,
               false,
               false,
               false,
               false,
               false,
               false,
               false,
               false,
               false,
               false,
               false,
               false,
               false,
               false,
               false,
               false,
               false,
               false,
               false,
               false,
               false,
               false,
               false,
               false,
               false,
               false,
               false,
               false,
               false,
               false,
               false,
               false,
               false,
               false,
               false,
               false,
               false,
               false,
               false,
               false,
               false,
               false,
               false,
               false,
               false,
               false,
               false,
               false,
               false,
               false,
               false,
               false,
               false,
               false,
               false,
               false,
               false,
               false,
               false,
               false,
               false,
               false,
               false,
               false,
               false,
               false,
               false,
               false,
               false,
               false,
               false,
               false,
               false,
               false,
               false,
               false,
               false,
               false,
               false,
               false,
               true,
               false,
               false,
               false,
               false,
               false,
               false,
               false,
               false,
               false,
               false,
               false,
               false
              ]
             },
             {
              "title": "Evolution of IMDb Scores for Movies Starring Marisa Tomei"
             }
            ],
            "label": "Marisa Tomei",
            "method": "update"
           },
           {
            "args": [
             {
              "visible": [
               false,
               false,
               false,
               false,
               false,
               false,
               false,
               false,
               false,
               false,
               false,
               false,
               false,
               false,
               false,
               false,
               false,
               false,
               false,
               false,
               false,
               false,
               false,
               false,
               false,
               false,
               false,
               false,
               false,
               false,
               false,
               false,
               false,
               false,
               false,
               false,
               false,
               false,
               false,
               false,
               false,
               false,
               false,
               false,
               false,
               false,
               false,
               false,
               false,
               false,
               false,
               false,
               false,
               false,
               false,
               false,
               false,
               false,
               false,
               false,
               false,
               false,
               false,
               false,
               false,
               false,
               false,
               false,
               false,
               false,
               false,
               false,
               false,
               false,
               false,
               false,
               false,
               false,
               false,
               false,
               false,
               false,
               false,
               false,
               false,
               false,
               false,
               true,
               false,
               false,
               false,
               false,
               false,
               false,
               false,
               false,
               false,
               false,
               false
              ]
             },
             {
              "title": "Evolution of IMDb Scores for Movies Starring Martin Landau"
             }
            ],
            "label": "Martin Landau",
            "method": "update"
           },
           {
            "args": [
             {
              "visible": [
               false,
               false,
               false,
               false,
               false,
               false,
               false,
               false,
               false,
               false,
               false,
               false,
               false,
               false,
               false,
               false,
               false,
               false,
               false,
               false,
               false,
               false,
               false,
               false,
               false,
               false,
               false,
               false,
               false,
               false,
               false,
               false,
               false,
               false,
               false,
               false,
               false,
               false,
               false,
               false,
               false,
               false,
               false,
               false,
               false,
               false,
               false,
               false,
               false,
               false,
               false,
               false,
               false,
               false,
               false,
               false,
               false,
               false,
               false,
               false,
               false,
               false,
               false,
               false,
               false,
               false,
               false,
               false,
               false,
               false,
               false,
               false,
               false,
               false,
               false,
               false,
               false,
               false,
               false,
               false,
               false,
               false,
               false,
               false,
               false,
               false,
               false,
               false,
               true,
               false,
               false,
               false,
               false,
               false,
               false,
               false,
               false,
               false,
               false
              ]
             },
             {
              "title": "Evolution of IMDb Scores for Movies Starring Melissa Leo"
             }
            ],
            "label": "Melissa Leo",
            "method": "update"
           },
           {
            "args": [
             {
              "visible": [
               false,
               false,
               false,
               false,
               false,
               false,
               false,
               false,
               false,
               false,
               false,
               false,
               false,
               false,
               false,
               false,
               false,
               false,
               false,
               false,
               false,
               false,
               false,
               false,
               false,
               false,
               false,
               false,
               false,
               false,
               false,
               false,
               false,
               false,
               false,
               false,
               false,
               false,
               false,
               false,
               false,
               false,
               false,
               false,
               false,
               false,
               false,
               false,
               false,
               false,
               false,
               false,
               false,
               false,
               false,
               false,
               false,
               false,
               false,
               false,
               false,
               false,
               false,
               false,
               false,
               false,
               false,
               false,
               false,
               false,
               false,
               false,
               false,
               false,
               false,
               false,
               false,
               false,
               false,
               false,
               false,
               false,
               false,
               false,
               false,
               false,
               false,
               false,
               false,
               true,
               false,
               false,
               false,
               false,
               false,
               false,
               false,
               false,
               false
              ]
             },
             {
              "title": "Evolution of IMDb Scores for Movies Starring Morgan Freeman"
             }
            ],
            "label": "Morgan Freeman",
            "method": "update"
           },
           {
            "args": [
             {
              "visible": [
               false,
               false,
               false,
               false,
               false,
               false,
               false,
               false,
               false,
               false,
               false,
               false,
               false,
               false,
               false,
               false,
               false,
               false,
               false,
               false,
               false,
               false,
               false,
               false,
               false,
               false,
               false,
               false,
               false,
               false,
               false,
               false,
               false,
               false,
               false,
               false,
               false,
               false,
               false,
               false,
               false,
               false,
               false,
               false,
               false,
               false,
               false,
               false,
               false,
               false,
               false,
               false,
               false,
               false,
               false,
               false,
               false,
               false,
               false,
               false,
               false,
               false,
               false,
               false,
               false,
               false,
               false,
               false,
               false,
               false,
               false,
               false,
               false,
               false,
               false,
               false,
               false,
               false,
               false,
               false,
               false,
               false,
               false,
               false,
               false,
               false,
               false,
               false,
               false,
               false,
               true,
               false,
               false,
               false,
               false,
               false,
               false,
               false,
               false
              ]
             },
             {
              "title": "Evolution of IMDb Scores for Movies Starring Octavia Spencer"
             }
            ],
            "label": "Octavia Spencer",
            "method": "update"
           },
           {
            "args": [
             {
              "visible": [
               false,
               false,
               false,
               false,
               false,
               false,
               false,
               false,
               false,
               false,
               false,
               false,
               false,
               false,
               false,
               false,
               false,
               false,
               false,
               false,
               false,
               false,
               false,
               false,
               false,
               false,
               false,
               false,
               false,
               false,
               false,
               false,
               false,
               false,
               false,
               false,
               false,
               false,
               false,
               false,
               false,
               false,
               false,
               false,
               false,
               false,
               false,
               false,
               false,
               false,
               false,
               false,
               false,
               false,
               false,
               false,
               false,
               false,
               false,
               false,
               false,
               false,
               false,
               false,
               false,
               false,
               false,
               false,
               false,
               false,
               false,
               false,
               false,
               false,
               false,
               false,
               false,
               false,
               false,
               false,
               false,
               false,
               false,
               false,
               false,
               false,
               false,
               false,
               false,
               false,
               false,
               true,
               false,
               false,
               false,
               false,
               false,
               false,
               false
              ]
             },
             {
              "title": "Evolution of IMDb Scores for Movies Starring Penélope Cruz"
             }
            ],
            "label": "Penélope Cruz",
            "method": "update"
           },
           {
            "args": [
             {
              "visible": [
               false,
               false,
               false,
               false,
               false,
               false,
               false,
               false,
               false,
               false,
               false,
               false,
               false,
               false,
               false,
               false,
               false,
               false,
               false,
               false,
               false,
               false,
               false,
               false,
               false,
               false,
               false,
               false,
               false,
               false,
               false,
               false,
               false,
               false,
               false,
               false,
               false,
               false,
               false,
               false,
               false,
               false,
               false,
               false,
               false,
               false,
               false,
               false,
               false,
               false,
               false,
               false,
               false,
               false,
               false,
               false,
               false,
               false,
               false,
               false,
               false,
               false,
               false,
               false,
               false,
               false,
               false,
               false,
               false,
               false,
               false,
               false,
               false,
               false,
               false,
               false,
               false,
               false,
               false,
               false,
               false,
               false,
               false,
               false,
               false,
               false,
               false,
               false,
               false,
               false,
               false,
               false,
               true,
               false,
               false,
               false,
               false,
               false,
               false
              ]
             },
             {
              "title": "Evolution of IMDb Scores for Movies Starring Rachel Weisz"
             }
            ],
            "label": "Rachel Weisz",
            "method": "update"
           },
           {
            "args": [
             {
              "visible": [
               false,
               false,
               false,
               false,
               false,
               false,
               false,
               false,
               false,
               false,
               false,
               false,
               false,
               false,
               false,
               false,
               false,
               false,
               false,
               false,
               false,
               false,
               false,
               false,
               false,
               false,
               false,
               false,
               false,
               false,
               false,
               false,
               false,
               false,
               false,
               false,
               false,
               false,
               false,
               false,
               false,
               false,
               false,
               false,
               false,
               false,
               false,
               false,
               false,
               false,
               false,
               false,
               false,
               false,
               false,
               false,
               false,
               false,
               false,
               false,
               false,
               false,
               false,
               false,
               false,
               false,
               false,
               false,
               false,
               false,
               false,
               false,
               false,
               false,
               false,
               false,
               false,
               false,
               false,
               false,
               false,
               false,
               false,
               false,
               false,
               false,
               false,
               false,
               false,
               false,
               false,
               false,
               false,
               true,
               false,
               false,
               false,
               false,
               false
              ]
             },
             {
              "title": "Evolution of IMDb Scores for Movies Starring Renée Zellweger"
             }
            ],
            "label": "Renée Zellweger",
            "method": "update"
           },
           {
            "args": [
             {
              "visible": [
               false,
               false,
               false,
               false,
               false,
               false,
               false,
               false,
               false,
               false,
               false,
               false,
               false,
               false,
               false,
               false,
               false,
               false,
               false,
               false,
               false,
               false,
               false,
               false,
               false,
               false,
               false,
               false,
               false,
               false,
               false,
               false,
               false,
               false,
               false,
               false,
               false,
               false,
               false,
               false,
               false,
               false,
               false,
               false,
               false,
               false,
               false,
               false,
               false,
               false,
               false,
               false,
               false,
               false,
               false,
               false,
               false,
               false,
               false,
               false,
               false,
               false,
               false,
               false,
               false,
               false,
               false,
               false,
               false,
               false,
               false,
               false,
               false,
               false,
               false,
               false,
               false,
               false,
               false,
               false,
               false,
               false,
               false,
               false,
               false,
               false,
               false,
               false,
               false,
               false,
               false,
               false,
               false,
               false,
               true,
               false,
               false,
               false,
               false
              ]
             },
             {
              "title": "Evolution of IMDb Scores for Movies Starring Robin Williams"
             }
            ],
            "label": "Robin Williams",
            "method": "update"
           },
           {
            "args": [
             {
              "visible": [
               false,
               false,
               false,
               false,
               false,
               false,
               false,
               false,
               false,
               false,
               false,
               false,
               false,
               false,
               false,
               false,
               false,
               false,
               false,
               false,
               false,
               false,
               false,
               false,
               false,
               false,
               false,
               false,
               false,
               false,
               false,
               false,
               false,
               false,
               false,
               false,
               false,
               false,
               false,
               false,
               false,
               false,
               false,
               false,
               false,
               false,
               false,
               false,
               false,
               false,
               false,
               false,
               false,
               false,
               false,
               false,
               false,
               false,
               false,
               false,
               false,
               false,
               false,
               false,
               false,
               false,
               false,
               false,
               false,
               false,
               false,
               false,
               false,
               false,
               false,
               false,
               false,
               false,
               false,
               false,
               false,
               false,
               false,
               false,
               false,
               false,
               false,
               false,
               false,
               false,
               false,
               false,
               false,
               false,
               false,
               true,
               false,
               false,
               false
              ]
             },
             {
              "title": "Evolution of IMDb Scores for Movies Starring Tim Robbins"
             }
            ],
            "label": "Tim Robbins",
            "method": "update"
           },
           {
            "args": [
             {
              "visible": [
               false,
               false,
               false,
               false,
               false,
               false,
               false,
               false,
               false,
               false,
               false,
               false,
               false,
               false,
               false,
               false,
               false,
               false,
               false,
               false,
               false,
               false,
               false,
               false,
               false,
               false,
               false,
               false,
               false,
               false,
               false,
               false,
               false,
               false,
               false,
               false,
               false,
               false,
               false,
               false,
               false,
               false,
               false,
               false,
               false,
               false,
               false,
               false,
               false,
               false,
               false,
               false,
               false,
               false,
               false,
               false,
               false,
               false,
               false,
               false,
               false,
               false,
               false,
               false,
               false,
               false,
               false,
               false,
               false,
               false,
               false,
               false,
               false,
               false,
               false,
               false,
               false,
               false,
               false,
               false,
               false,
               false,
               false,
               false,
               false,
               false,
               false,
               false,
               false,
               false,
               false,
               false,
               false,
               false,
               false,
               false,
               true,
               false,
               false
              ]
             },
             {
              "title": "Evolution of IMDb Scores for Movies Starring Timothy Hutton"
             }
            ],
            "label": "Timothy Hutton",
            "method": "update"
           },
           {
            "args": [
             {
              "visible": [
               false,
               false,
               false,
               false,
               false,
               false,
               false,
               false,
               false,
               false,
               false,
               false,
               false,
               false,
               false,
               false,
               false,
               false,
               false,
               false,
               false,
               false,
               false,
               false,
               false,
               false,
               false,
               false,
               false,
               false,
               false,
               false,
               false,
               false,
               false,
               false,
               false,
               false,
               false,
               false,
               false,
               false,
               false,
               false,
               false,
               false,
               false,
               false,
               false,
               false,
               false,
               false,
               false,
               false,
               false,
               false,
               false,
               false,
               false,
               false,
               false,
               false,
               false,
               false,
               false,
               false,
               false,
               false,
               false,
               false,
               false,
               false,
               false,
               false,
               false,
               false,
               false,
               false,
               false,
               false,
               false,
               false,
               false,
               false,
               false,
               false,
               false,
               false,
               false,
               false,
               false,
               false,
               false,
               false,
               false,
               false,
               false,
               true,
               false
              ]
             },
             {
              "title": "Evolution of IMDb Scores for Movies Starring Tommy Lee Jones"
             }
            ],
            "label": "Tommy Lee Jones",
            "method": "update"
           },
           {
            "args": [
             {
              "visible": [
               false,
               false,
               false,
               false,
               false,
               false,
               false,
               false,
               false,
               false,
               false,
               false,
               false,
               false,
               false,
               false,
               false,
               false,
               false,
               false,
               false,
               false,
               false,
               false,
               false,
               false,
               false,
               false,
               false,
               false,
               false,
               false,
               false,
               false,
               false,
               false,
               false,
               false,
               false,
               false,
               false,
               false,
               false,
               false,
               false,
               false,
               false,
               false,
               false,
               false,
               false,
               false,
               false,
               false,
               false,
               false,
               false,
               false,
               false,
               false,
               false,
               false,
               false,
               false,
               false,
               false,
               false,
               false,
               false,
               false,
               false,
               false,
               false,
               false,
               false,
               false,
               false,
               false,
               false,
               false,
               false,
               false,
               false,
               false,
               false,
               false,
               false,
               false,
               false,
               false,
               false,
               false,
               false,
               false,
               false,
               false,
               false,
               false,
               true
              ]
             },
             {
              "title": "Evolution of IMDb Scores for Movies Starring Whoopi Goldberg"
             }
            ],
            "label": "Whoopi Goldberg",
            "method": "update"
           }
          ],
          "direction": "down",
          "showactive": true
         }
        ],
        "width": 1200,
        "xaxis": {
         "range": [
          1975,
          2020
         ],
         "title": {
          "text": "Release Year"
         }
        },
        "yaxis": {
         "title": {
          "text": "IMDb Score"
         }
        }
       }
      }
     },
     "metadata": {},
     "output_type": "display_data"
    }
   ],
   "source": [
    "# Adjust x-axis range to start before the first movie release date\n",
    "rating_evolution['Movie release date'] = rating_evolution['Movie release date'].astype(int)\n",
    "x_range = [1975, 2020]  \n",
    "\n",
    "\n",
    "# Generate a color palette using Plotly's native discrete color scale\n",
    "actress_movies_count = rating_evolution['Actor name'].value_counts()\n",
    "relevant_actresses = actress_movies_count[actress_movies_count >= 4].index\n",
    "relevant_actresses = rating_evolution[rating_evolution['Actor name'].isin(relevant_actresses)]\n",
    "unique_actresses = relevant_actresses[relevant_actresses['Best Actress Reward'] == True]['Actor name'].unique()\n",
    "\n",
    "colors = px.colors.qualitative.Plotly  # Or use other palettes like `D3`, `Viridis`, etc.\n",
    "color_map = {actress: colors[i % len(colors)] for i, actress in enumerate(unique_actresses)}\n",
    "\n",
    "# Create legend-only traces\n",
    "legend_traces = [\n",
    "    go.Scatter(\n",
    "        x=[None],  # No data points for this trace\n",
    "        y=[None],  # No data points for this trace\n",
    "        mode=\"markers\",\n",
    "        marker=dict(\n",
    "            size=8,\n",
    "            color=color_map[actress],\n",
    "            symbol=\"circle\"  # Always use a circle for the legend\n",
    "        ),\n",
    "        name=actress,  # Actress name in the legend\n",
    "        showlegend=True,\n",
    "        legendgroup=actress  # Group legend items for the same actress\n",
    "    )\n",
    "    for actress in unique_actresses\n",
    "]\n",
    "\n",
    "\n",
    "scatter_traces = [\n",
    "    go.Scatter(\n",
    "        x=rating_evolution[rating_evolution['Actor name'] == actress]['Movie release date'],\n",
    "        y=rating_evolution[rating_evolution['Actor name'] == actress]['imdb_score'],\n",
    "        mode='markers',\n",
    "        marker=dict(\n",
    "            size=[15 if reward else 8 for reward in rating_evolution[rating_evolution['Actor name'] == actress]['Best Actress Reward']],\n",
    "            color=color_map[actress],\n",
    "            symbol=[\n",
    "                'star' if reward else 'circle'  # Conditional marker symbol\n",
    "                for reward in rating_evolution[rating_evolution['Actor name'] == actress]['Best Actress Reward']\n",
    "            ]\n",
    "        ),\n",
    "        name=actress,\n",
    "        legendgroup=actress,  # Group scatter and line for the same actress\n",
    "        showlegend=False,  # Show legend for scatter\n",
    "        hovertext=[\n",
    "            f\"Name: {actress_i}<br>Movie: {movie}<br>IMDb Score: {score}<br>Release Date: {year}<br>Academy Award for Best Actor/Actress: {'Yes' if reward else 'No'}\"\n",
    "            for movie, score, year, reward, actress_i in zip(\n",
    "                rating_evolution[rating_evolution['Actor name'] == actress]['Movie name'],\n",
    "                rating_evolution[rating_evolution['Actor name'] == actress]['imdb_score'],\n",
    "                rating_evolution[rating_evolution['Actor name'] == actress]['Movie release date'],\n",
    "                rating_evolution[rating_evolution['Actor name'] == actress]['Best Actress Reward'],\n",
    "                rating_evolution[rating_evolution['Actor name'] == actress]['Actor name']\n",
    "            )\n",
    "        ],\n",
    "        hoverinfo=\"text\",  # Show only hover text\n",
    "    )\n",
    "    for actress in unique_actresses\n",
    "]\n",
    "\n",
    "line_traces = [\n",
    "    go.Scatter(\n",
    "        x=rating_evolution[rating_evolution['Actor name'] == actress]['Movie release date'],\n",
    "        y=rating_evolution[rating_evolution['Actor name'] == actress]['imdb_score'],\n",
    "        mode='lines+markers',  # Add both lines and markers\n",
    "        line=dict(color=color_map[actress]),  # Use the same color as the scatter\n",
    "        marker=dict(\n",
    "            size=[15 if reward else 8 for reward in rating_evolution[rating_evolution['Actor name'] == actress]['Best Actress Reward']],\n",
    "            symbol=[\n",
    "                'star' if reward else 'circle'  # Conditional marker symbol\n",
    "                for reward in rating_evolution[rating_evolution['Actor name'] == actress]['Best Actress Reward']\n",
    "            ]\n",
    "        ),\n",
    "        name=actress,\n",
    "        legendgroup=actress,\n",
    "        visible=False,  # Start with lines hidden\n",
    "        hovertext=[\n",
    "            f\"Movie: {movie}<br>IMDb Score: {score}<br>Release Date: {year}<br>Academy Award for Best Actor/Actress : {'Yes' if reward else 'No'}\"\n",
    "            for movie, score, year, reward in zip(\n",
    "                rating_evolution[rating_evolution['Actor name'] == actress]['Movie name'],\n",
    "                rating_evolution[rating_evolution['Actor name'] == actress]['imdb_score'],\n",
    "                rating_evolution[rating_evolution['Actor name'] == actress]['Movie release date'],\n",
    "                rating_evolution[rating_evolution['Actor name'] == actress]['Best Actress Reward']\n",
    "            )\n",
    "        ],\n",
    "        hoverinfo=\"text\"  # Show only hover text\n",
    "    )\n",
    "    for actress in unique_actresses\n",
    "]\n",
    "\n",
    "# Combine scatter and line traces\n",
    "traces = legend_traces + scatter_traces + line_traces\n",
    "\n",
    "# Create dropdown buttons\n",
    "buttons = [\n",
    "    {\n",
    "        \"label\": \"All\",\n",
    "        \"method\": \"update\",\n",
    "        \"args\": [\n",
    "            {\"visible\": [True]*len(legend_traces) + [True] * len(scatter_traces) + [False] * len(line_traces)},  # Show scatter, hide all lines\n",
    "            {\"title\": \"Evolution of IMDb Scores for Movies Starring Oscar-Winning Actresses (All Actresses)\"}\n",
    "        ]\n",
    "    }\n",
    "]\n",
    "\n",
    "buttons += [\n",
    "    {\n",
    "        \"label\": actress,\n",
    "        \"method\": \"update\",\n",
    "        \"args\": [\n",
    "            {\"visible\": [False]*len(legend_traces) + [False] * len(scatter_traces) + [actress == a for a in unique_actresses]},\n",
    "            {\"title\": f\"Evolution of IMDb Scores for Movies Starring {actress}\"}\n",
    "        ]\n",
    "    }\n",
    "    for actress in unique_actresses\n",
    "]\n",
    "\n",
    "# Create layout\n",
    "layout = go.Layout(\n",
    "    title=\"Evolution of IMDb Scores for Movies Starring Oscar-Winning Actresses/Actors Before and After the Reward(s)\",\n",
    "    xaxis=dict(title=\"Release Year\", range=x_range),\n",
    "    yaxis=dict(title=\"IMDb Score\"),\n",
    "    updatemenus=[\n",
    "        {\n",
    "            \"buttons\": buttons,\n",
    "            \"direction\": \"down\",\n",
    "            \"showactive\": True,\n",
    "        }\n",
    "    ],\n",
    "    height=700,\n",
    "    width=1200,\n",
    "    showlegend=True  # Ensure legend is visible\n",
    ")\n",
    "\n",
    "# Create figure\n",
    "fig = go.Figure(data=traces, layout=layout)\n",
    "\n",
    "# Show figure\n",
    "fig.show()"
   ]
  },
  {
   "cell_type": "code",
   "execution_count": 328,
   "metadata": {},
   "outputs": [
    {
     "data": {
      "application/vnd.plotly.v1+json": {
       "config": {
        "plotlyServerURL": "https://plot.ly"
       },
       "data": [
        {
         "alignmentgroup": "True",
         "hovertemplate": "Movie genres=Action/Adventure<br>Actor=%{x}<br>Number of Movies=%{y}<extra></extra>",
         "legendgroup": "Action/Adventure",
         "marker": {
          "color": "#636efa",
          "pattern": {
           "shape": ""
          }
         },
         "name": "Action/Adventure",
         "offsetgroup": "Action/Adventure",
         "orientation": "v",
         "showlegend": true,
         "textposition": "auto",
         "type": "bar",
         "x": [
          "Alan Arkin",
          "Alice Brady",
          "Angelina Jolie",
          "Anjelica Huston",
          "Anna Paquin",
          "Anne Baxter",
          "Anne Hathaway",
          "Anne Revere",
          "Anthony Quinn",
          "Barry Fitzgerald",
          "Beatrice Straight",
          "Benicio del Toro",
          "Brenda Fricker",
          "Burl Ives",
          "Cate Blanchett",
          "Catherine Zeta-Jones",
          "Celeste Holm",
          "Charles Coburn",
          "Chris Cooper",
          "Christian Bale",
          "Christoph Waltz",
          "Christopher Plummer",
          "Christopher Walken",
          "Claire Trevor",
          "Cloris Leachman",
          "Dean Jagger",
          "Denzel Washington",
          "Dianne Wiest",
          "Don Ameche",
          "Donald Crisp",
          "Donna Reed",
          "Dorothy Malone",
          "Edmond O'Brien",
          "Edmund Gwenn",
          "Eileen Heckart",
          "Estelle Parsons",
          "Ethel Barrymore",
          "Eva Marie Saint",
          "Fay Bainter",
          "Frank Sinatra",
          "Gale Sondergaard",
          "Geena Davis",
          "Gene Hackman",
          "George Burns",
          "George Chakiris",
          "George Clooney",
          "George Kennedy",
          "George Sanders",
          "Gig Young",
          "Gloria Grahame",
          "Goldie Hawn",
          "Haing S. Ngor",
          "Harold Russell",
          "Hattie McDaniel",
          "Heath Ledger",
          "Helen Hayes",
          "Hugh Griffith",
          "Ingrid Bergman",
          "Jack Albertson",
          "Jack Lemmon",
          "Jack Nicholson",
          "Jack Palance",
          "James Coburn",
          "Jane Darwell",
          "Jason Robards",
          "Javier Bardem",
          "Jennifer Connelly",
          "Jennifer Hudson",
          "Jessica Lange",
          "Jim Broadbent",
          "Jo Van Fleet",
          "Joe Pesci",
          "Joel Grey",
          "John Gielgud",
          "John Houseman",
          "John Mills",
          "Joseph Schildkraut",
          "Josephine Hull",
          "Judi Dench",
          "Juliette Binoche",
          "Karl Malden",
          "Katina Paxinou",
          "Kevin Kline",
          "Kevin Spacey",
          "Kim Basinger",
          "Kim Hunter",
          "Lee Grant",
          "Lila Kedrova",
          "Linda Hunt",
          "Maggie Smith",
          "Marcia Gay Harden",
          "Margaret Rutherford",
          "Marisa Tomei",
          "Martin Balsam",
          "Martin Landau",
          "Mary Astor",
          "Mary Steenburgen",
          "Maureen Stapleton",
          "Melissa Leo",
          "Melvyn Douglas",
          "Mercedes McCambridge",
          "Mercedes Ruehl",
          "Meryl Streep",
          "Michael Caine",
          "Mira Sorvino",
          "Miyoshi Umeki",
          "Morgan Freeman",
          "Octavia Spencer",
          "Olympia Dukakis",
          "Patricia Arquette",
          "Patty Duke",
          "Peggy Ashcroft",
          "Penélope Cruz",
          "Peter Ustinov",
          "Rachel Weisz",
          "Red Buttons",
          "Renée Zellweger",
          "Rita Moreno",
          "Robert De Niro",
          "Robin Williams",
          "Ruth Gordon",
          "Sandy Dennis",
          "Sean Connery",
          "Shelley Winters",
          "Shirley Jones",
          "Tatum O'Neal",
          "Teresa Wright",
          "Tim Robbins",
          "Timothy Hutton",
          "Tommy Lee Jones",
          "Van Heflin",
          "Vanessa Redgrave",
          "Walter Brennan",
          "Walter Huston",
          "Walter Matthau",
          "Whoopi Goldberg"
         ],
         "xaxis": "x",
         "y": [
          49,
          1,
          75,
          45,
          22,
          18,
          14,
          6,
          126,
          19,
          4,
          46,
          21,
          14,
          48,
          28,
          2,
          14,
          34,
          63,
          15,
          105,
          99,
          33,
          46,
          38,
          74,
          8,
          12,
          28,
          18,
          26,
          44,
          13,
          8,
          7,
          7,
          24,
          4,
          51,
          14,
          20,
          129,
          5,
          12,
          61,
          87,
          86,
          32,
          20,
          17,
          3,
          1,
          5,
          29,
          11,
          26,
          15,
          11,
          24,
          56,
          76,
          87,
          14,
          35,
          17,
          30,
          1,
          22,
          58,
          6,
          25,
          9,
          46,
          14,
          63,
          9,
          1,
          40,
          14,
          50,
          10,
          20,
          47,
          48,
          16,
          30,
          11,
          25,
          41,
          27,
          13,
          29,
          71,
          54,
          21,
          35,
          7,
          31,
          25,
          10,
          11,
          24,
          191,
          26,
          1,
          93,
          4,
          22,
          26,
          9,
          3,
          24,
          45,
          45,
          33,
          13,
          3,
          95,
          54,
          16,
          4,
          156,
          47,
          11,
          3,
          16,
          50,
          36,
          95,
          37,
          58,
          45,
          23,
          33,
          36
         ],
         "yaxis": "y"
        },
        {
         "alignmentgroup": "True",
         "hovertemplate": "Movie genres=Animation<br>Actor=%{x}<br>Number of Movies=%{y}<extra></extra>",
         "legendgroup": "Animation",
         "marker": {
          "color": "#EF553B",
          "pattern": {
           "shape": ""
          }
         },
         "name": "Animation",
         "offsetgroup": "Animation",
         "orientation": "v",
         "showlegend": true,
         "textposition": "auto",
         "type": "bar",
         "x": [
          "Alan Arkin",
          "Angelina Jolie",
          "Anjelica Huston",
          "Anna Paquin",
          "Anne Hathaway",
          "Burl Ives",
          "Cate Blanchett",
          "Catherine Zeta-Jones",
          "Christian Bale",
          "Christopher Plummer",
          "Christopher Walken",
          "Cloris Leachman",
          "Dianne Wiest",
          "Dorothy Malone",
          "Geena Davis",
          "Gene Hackman",
          "George Burns",
          "George Clooney",
          "George Kennedy",
          "George Sanders",
          "Hattie McDaniel",
          "Jack Albertson",
          "Jack Palance",
          "James Coburn",
          "Jennifer Connelly",
          "Jennifer Hudson",
          "Jim Broadbent",
          "John Gielgud",
          "Judi Dench",
          "Kevin Kline",
          "Kevin Spacey",
          "Kim Basinger",
          "Linda Hunt",
          "Maggie Smith",
          "Margaret Rutherford",
          "Marisa Tomei",
          "Martin Landau",
          "Mary Astor",
          "Mary Steenburgen",
          "Meryl Streep",
          "Michael Caine",
          "Patty Duke",
          "Peter Ustinov",
          "Red Buttons",
          "Renée Zellweger",
          "Robert De Niro",
          "Robin Williams",
          "Sean Connery",
          "Shelley Winters",
          "Shirley Jones",
          "Tim Robbins",
          "Vanessa Redgrave",
          "Whoopi Goldberg"
         ],
         "xaxis": "x",
         "y": [
          2,
          10,
          10,
          5,
          7,
          4,
          2,
          1,
          3,
          11,
          2,
          12,
          1,
          1,
          3,
          2,
          1,
          3,
          1,
          1,
          1,
          1,
          1,
          3,
          2,
          1,
          12,
          1,
          1,
          4,
          2,
          1,
          3,
          2,
          1,
          1,
          4,
          1,
          1,
          6,
          3,
          2,
          6,
          4,
          6,
          4,
          15,
          1,
          3,
          1,
          2,
          5,
          16
         ],
         "yaxis": "y"
        },
        {
         "alignmentgroup": "True",
         "hovertemplate": "Movie genres=Comedy<br>Actor=%{x}<br>Number of Movies=%{y}<extra></extra>",
         "legendgroup": "Comedy",
         "marker": {
          "color": "#00cc96",
          "pattern": {
           "shape": ""
          }
         },
         "name": "Comedy",
         "offsetgroup": "Comedy",
         "orientation": "v",
         "showlegend": true,
         "textposition": "auto",
         "type": "bar",
         "x": [
          "Alan Arkin",
          "Alice Brady",
          "Angelina Jolie",
          "Anjelica Huston",
          "Anna Paquin",
          "Anne Baxter",
          "Anne Hathaway",
          "Anne Revere",
          "Anthony Quinn",
          "Barry Fitzgerald",
          "Beatrice Straight",
          "Benicio del Toro",
          "Brenda Fricker",
          "Burl Ives",
          "Cate Blanchett",
          "Catherine Zeta-Jones",
          "Celeste Holm",
          "Charles Coburn",
          "Chris Cooper",
          "Christian Bale",
          "Christoph Waltz",
          "Christopher Plummer",
          "Christopher Walken",
          "Claire Trevor",
          "Cloris Leachman",
          "Dean Jagger",
          "Denzel Washington",
          "Dianne Wiest",
          "Don Ameche",
          "Donald Crisp",
          "Donna Reed",
          "Dorothy Malone",
          "Edmond O'Brien",
          "Edmund Gwenn",
          "Eileen Heckart",
          "Estelle Parsons",
          "Ethel Barrymore",
          "Eva Marie Saint",
          "Fay Bainter",
          "Frank Sinatra",
          "Gale Sondergaard",
          "Geena Davis",
          "Gene Hackman",
          "George Burns",
          "George Chakiris",
          "George Clooney",
          "George Kennedy",
          "George Sanders",
          "Gig Young",
          "Gloria Grahame",
          "Goldie Hawn",
          "Harold Russell",
          "Hattie McDaniel",
          "Heath Ledger",
          "Helen Hayes",
          "Hugh Griffith",
          "Ingrid Bergman",
          "Jack Albertson",
          "Jack Lemmon",
          "Jack Nicholson",
          "Jack Palance",
          "James Coburn",
          "Jane Darwell",
          "Jason Robards",
          "Javier Bardem",
          "Jennifer Connelly",
          "Jennifer Hudson",
          "Jessica Lange",
          "Jim Broadbent",
          "Jo Van Fleet",
          "Joe Pesci",
          "Joel Grey",
          "John Gielgud",
          "John Houseman",
          "John Mills",
          "Joseph Schildkraut",
          "Josephine Hull",
          "Judi Dench",
          "Juliette Binoche",
          "Karl Malden",
          "Kevin Kline",
          "Kevin Spacey",
          "Kim Basinger",
          "Kim Hunter",
          "Lee Grant",
          "Lila Kedrova",
          "Linda Hunt",
          "Maggie Smith",
          "Marcia Gay Harden",
          "Margaret Rutherford",
          "Marisa Tomei",
          "Martin Balsam",
          "Martin Landau",
          "Mary Astor",
          "Mary Steenburgen",
          "Maureen Stapleton",
          "Melissa Leo",
          "Melvyn Douglas",
          "Mercedes Ruehl",
          "Meryl Streep",
          "Michael Caine",
          "Mira Sorvino",
          "Miyoshi Umeki",
          "Morgan Freeman",
          "Octavia Spencer",
          "Olympia Dukakis",
          "Patricia Arquette",
          "Patty Duke",
          "Peggy Ashcroft",
          "Penélope Cruz",
          "Peter Ustinov",
          "Rachel Weisz",
          "Red Buttons",
          "Renée Zellweger",
          "Rita Moreno",
          "Robert De Niro",
          "Robin Williams",
          "Ruth Gordon",
          "Sandy Dennis",
          "Sean Connery",
          "Shelley Winters",
          "Shirley Jones",
          "Tatum O'Neal",
          "Teresa Wright",
          "Tim Robbins",
          "Timothy Hutton",
          "Tommy Lee Jones",
          "Van Heflin",
          "Vanessa Redgrave",
          "Walter Brennan",
          "Walter Huston",
          "Walter Matthau",
          "Whoopi Goldberg"
         ],
         "xaxis": "x",
         "y": [
          65,
          16,
          20,
          59,
          15,
          15,
          24,
          7,
          31,
          15,
          3,
          16,
          14,
          7,
          16,
          26,
          15,
          42,
          13,
          5,
          4,
          15,
          75,
          7,
          61,
          9,
          11,
          35,
          40,
          9,
          5,
          4,
          7,
          24,
          11,
          12,
          3,
          9,
          12,
          44,
          12,
          24,
          24,
          40,
          5,
          42,
          26,
          15,
          23,
          8,
          62,
          1,
          20,
          11,
          7,
          32,
          9,
          13,
          84,
          53,
          23,
          43,
          14,
          30,
          13,
          13,
          4,
          13,
          45,
          5,
          25,
          12,
          20,
          5,
          30,
          7,
          5,
          16,
          12,
          11,
          44,
          31,
          21,
          3,
          26,
          4,
          19,
          42,
          27,
          38,
          57,
          17,
          22,
          28,
          53,
          19,
          10,
          39,
          30,
          40,
          71,
          18,
          1,
          25,
          19,
          37,
          25,
          8,
          2,
          37,
          24,
          19,
          18,
          32,
          16,
          50,
          77,
          19,
          7,
          13,
          36,
          19,
          5,
          4,
          55,
          17,
          13,
          4,
          21,
          31,
          4,
          72,
          64
         ],
         "yaxis": "y"
        },
        {
         "alignmentgroup": "True",
         "hovertemplate": "Movie genres=Crime<br>Actor=%{x}<br>Number of Movies=%{y}<extra></extra>",
         "legendgroup": "Crime",
         "marker": {
          "color": "#ab63fa",
          "pattern": {
           "shape": ""
          }
         },
         "name": "Crime",
         "offsetgroup": "Crime",
         "orientation": "v",
         "showlegend": true,
         "textposition": "auto",
         "type": "bar",
         "x": [
          "Alan Arkin",
          "Angelina Jolie",
          "Anjelica Huston",
          "Anna Paquin",
          "Anne Baxter",
          "Anne Hathaway",
          "Anne Revere",
          "Anthony Quinn",
          "Barry Fitzgerald",
          "Benicio del Toro",
          "Brenda Fricker",
          "Burl Ives",
          "Cate Blanchett",
          "Catherine Zeta-Jones",
          "Celeste Holm",
          "Charles Coburn",
          "Chris Cooper",
          "Christian Bale",
          "Christoph Waltz",
          "Christopher Plummer",
          "Christopher Walken",
          "Claire Trevor",
          "Cloris Leachman",
          "Dean Jagger",
          "Denzel Washington",
          "Dianne Wiest",
          "Don Ameche",
          "Donald Crisp",
          "Donna Reed",
          "Dorothy Malone",
          "Edmond O'Brien",
          "Edmund Gwenn",
          "Estelle Parsons",
          "Ethel Barrymore",
          "Eva Marie Saint",
          "Fay Bainter",
          "Frank Sinatra",
          "Gale Sondergaard",
          "Geena Davis",
          "Gene Hackman",
          "George Burns",
          "George Chakiris",
          "George Clooney",
          "George Kennedy",
          "George Sanders",
          "Gig Young",
          "Gloria Grahame",
          "Goldie Hawn",
          "Heath Ledger",
          "Helen Hayes",
          "Hugh Griffith",
          "Ingrid Bergman",
          "Jack Albertson",
          "Jack Lemmon",
          "Jack Nicholson",
          "Jack Palance",
          "James Coburn",
          "Jane Darwell",
          "Jason Robards",
          "Javier Bardem",
          "Jennifer Connelly",
          "Jennifer Hudson",
          "Jessica Lange",
          "Jim Broadbent",
          "Jo Van Fleet",
          "Joe Pesci",
          "Joel Grey",
          "John Gielgud",
          "John Houseman",
          "John Mills",
          "Joseph Schildkraut",
          "Josephine Hull",
          "Judi Dench",
          "Juliette Binoche",
          "Karl Malden",
          "Katina Paxinou",
          "Kevin Kline",
          "Kevin Spacey",
          "Kim Basinger",
          "Kim Hunter",
          "Lee Grant",
          "Lila Kedrova",
          "Maggie Smith",
          "Marcia Gay Harden",
          "Margaret Rutherford",
          "Marisa Tomei",
          "Martin Balsam",
          "Martin Landau",
          "Mary Astor",
          "Mary Steenburgen",
          "Maureen Stapleton",
          "Melissa Leo",
          "Melvyn Douglas",
          "Mercedes McCambridge",
          "Mercedes Ruehl",
          "Meryl Streep",
          "Michael Caine",
          "Mira Sorvino",
          "Morgan Freeman",
          "Octavia Spencer",
          "Olympia Dukakis",
          "Patricia Arquette",
          "Peggy Ashcroft",
          "Penélope Cruz",
          "Peter Ustinov",
          "Rachel Weisz",
          "Red Buttons",
          "Renée Zellweger",
          "Rita Moreno",
          "Robert De Niro",
          "Robin Williams",
          "Ruth Gordon",
          "Sandy Dennis",
          "Sean Connery",
          "Shelley Winters",
          "Tatum O'Neal",
          "Teresa Wright",
          "Tim Robbins",
          "Timothy Hutton",
          "Tommy Lee Jones",
          "Van Heflin",
          "Vanessa Redgrave",
          "Walter Brennan",
          "Walter Huston",
          "Walter Matthau",
          "Whoopi Goldberg"
         ],
         "xaxis": "x",
         "y": [
          6,
          9,
          12,
          3,
          11,
          3,
          6,
          17,
          6,
          14,
          5,
          2,
          9,
          6,
          2,
          9,
          11,
          10,
          3,
          15,
          32,
          22,
          11,
          7,
          23,
          3,
          4,
          3,
          8,
          14,
          29,
          6,
          2,
          6,
          2,
          1,
          14,
          2,
          4,
          23,
          2,
          2,
          16,
          7,
          40,
          6,
          21,
          4,
          5,
          2,
          4,
          6,
          2,
          2,
          16,
          17,
          15,
          3,
          4,
          5,
          4,
          1,
          6,
          8,
          2,
          15,
          3,
          7,
          2,
          9,
          1,
          1,
          8,
          4,
          15,
          3,
          7,
          18,
          13,
          5,
          5,
          1,
          6,
          8,
          7,
          9,
          13,
          11,
          14,
          5,
          4,
          8,
          5,
          2,
          5,
          5,
          26,
          8,
          23,
          1,
          3,
          5,
          1,
          3,
          9,
          5,
          1,
          5,
          3,
          34,
          4,
          2,
          2,
          22,
          25,
          2,
          7,
          6,
          9,
          17,
          18,
          11,
          8,
          8,
          6,
          6
         ],
         "yaxis": "y"
        },
        {
         "alignmentgroup": "True",
         "hovertemplate": "Movie genres=Documentary<br>Actor=%{x}<br>Number of Movies=%{y}<extra></extra>",
         "legendgroup": "Documentary",
         "marker": {
          "color": "#FFA15A",
          "pattern": {
           "shape": ""
          }
         },
         "name": "Documentary",
         "offsetgroup": "Documentary",
         "orientation": "v",
         "showlegend": true,
         "textposition": "auto",
         "type": "bar",
         "x": [
          "Alan Arkin",
          "Alice Brady",
          "Donna Reed",
          "Edmond O'Brien",
          "Eva Marie Saint",
          "Frank Sinatra",
          "Gene Hackman",
          "George Chakiris",
          "George Clooney",
          "Helen Hayes",
          "Ingrid Bergman",
          "Jane Darwell",
          "Jason Robards",
          "Joel Grey",
          "John Gielgud",
          "Judi Dench",
          "Juliette Binoche",
          "Kevin Spacey",
          "Marisa Tomei",
          "Martin Balsam",
          "Mercedes McCambridge",
          "Meryl Streep",
          "Morgan Freeman",
          "Patricia Arquette",
          "Peter Ustinov",
          "Rita Moreno",
          "Robert De Niro",
          "Robin Williams",
          "Ruth Gordon",
          "Teresa Wright",
          "Tommy Lee Jones",
          "Walter Huston",
          "Whoopi Goldberg"
         ],
         "xaxis": "x",
         "y": [
          1,
          1,
          1,
          1,
          2,
          1,
          1,
          1,
          2,
          1,
          1,
          1,
          4,
          1,
          1,
          1,
          1,
          1,
          1,
          1,
          1,
          2,
          6,
          1,
          3,
          1,
          3,
          3,
          1,
          1,
          1,
          1,
          2
         ],
         "yaxis": "y"
        },
        {
         "alignmentgroup": "True",
         "hovertemplate": "Movie genres=Drama<br>Actor=%{x}<br>Number of Movies=%{y}<extra></extra>",
         "legendgroup": "Drama",
         "marker": {
          "color": "#19d3f3",
          "pattern": {
           "shape": ""
          }
         },
         "name": "Drama",
         "offsetgroup": "Drama",
         "orientation": "v",
         "showlegend": true,
         "textposition": "auto",
         "type": "bar",
         "x": [
          "Alan Arkin",
          "Alice Brady",
          "Angelina Jolie",
          "Anjelica Huston",
          "Anna Paquin",
          "Anne Baxter",
          "Anne Hathaway",
          "Anne Revere",
          "Anthony Quinn",
          "Barry Fitzgerald",
          "Beatrice Straight",
          "Benicio del Toro",
          "Brenda Fricker",
          "Burl Ives",
          "Cate Blanchett",
          "Catherine Zeta-Jones",
          "Celeste Holm",
          "Charles Coburn",
          "Chris Cooper",
          "Christian Bale",
          "Christoph Waltz",
          "Christopher Plummer",
          "Christopher Walken",
          "Claire Trevor",
          "Cloris Leachman",
          "Dean Jagger",
          "Denzel Washington",
          "Dianne Wiest",
          "Don Ameche",
          "Donald Crisp",
          "Donna Reed",
          "Dorothy Malone",
          "Edmond O'Brien",
          "Edmund Gwenn",
          "Eileen Heckart",
          "Estelle Parsons",
          "Ethel Barrymore",
          "Eva Marie Saint",
          "Fay Bainter",
          "Frank Sinatra",
          "Gale Sondergaard",
          "Geena Davis",
          "Gene Hackman",
          "George Burns",
          "George Chakiris",
          "George Clooney",
          "George Kennedy",
          "George Sanders",
          "Gig Young",
          "Gloria Grahame",
          "Goldie Hawn",
          "Haing S. Ngor",
          "Harold Russell",
          "Hattie McDaniel",
          "Heath Ledger",
          "Helen Hayes",
          "Hugh Griffith",
          "Ingrid Bergman",
          "Jack Albertson",
          "Jack Lemmon",
          "Jack Nicholson",
          "Jack Palance",
          "James Coburn",
          "Jane Darwell",
          "Jason Robards",
          "Javier Bardem",
          "Jennifer Connelly",
          "Jennifer Hudson",
          "Jessica Lange",
          "Jim Broadbent",
          "Jo Van Fleet",
          "Joe Pesci",
          "Joel Grey",
          "John Gielgud",
          "John Houseman",
          "John Mills",
          "Joseph Schildkraut",
          "Josephine Hull",
          "Judi Dench",
          "Juliette Binoche",
          "Karl Malden",
          "Katina Paxinou",
          "Kevin Kline",
          "Kevin Spacey",
          "Kim Basinger",
          "Kim Hunter",
          "Lee Grant",
          "Lila Kedrova",
          "Linda Hunt",
          "Maggie Smith",
          "Marcia Gay Harden",
          "Margaret Rutherford",
          "Marisa Tomei",
          "Martin Balsam",
          "Martin Landau",
          "Mary Astor",
          "Mary Steenburgen",
          "Maureen Stapleton",
          "Melissa Leo",
          "Melvyn Douglas",
          "Mercedes McCambridge",
          "Mercedes Ruehl",
          "Meryl Streep",
          "Michael Caine",
          "Mira Sorvino",
          "Miyoshi Umeki",
          "Morgan Freeman",
          "Octavia Spencer",
          "Olympia Dukakis",
          "Patricia Arquette",
          "Patty Duke",
          "Peggy Ashcroft",
          "Penélope Cruz",
          "Peter Ustinov",
          "Rachel Weisz",
          "Red Buttons",
          "Renée Zellweger",
          "Rita Moreno",
          "Robert De Niro",
          "Robin Williams",
          "Ruth Gordon",
          "Sandy Dennis",
          "Sean Connery",
          "Shelley Winters",
          "Shirley Jones",
          "Tatum O'Neal",
          "Teresa Wright",
          "Tim Robbins",
          "Timothy Hutton",
          "Tommy Lee Jones",
          "Van Heflin",
          "Vanessa Redgrave",
          "Walter Brennan",
          "Walter Huston",
          "Walter Matthau",
          "Whoopi Goldberg"
         ],
         "xaxis": "x",
         "y": [
          56,
          12,
          36,
          70,
          33,
          42,
          28,
          17,
          83,
          26,
          9,
          30,
          34,
          19,
          57,
          27,
          8,
          37,
          58,
          64,
          11,
          87,
          76,
          28,
          64,
          22,
          63,
          46,
          24,
          71,
          20,
          28,
          51,
          37,
          6,
          17,
          20,
          31,
          14,
          35,
          16,
          17,
          71,
          1,
          13,
          31,
          34,
          54,
          24,
          20,
          21,
          8,
          6,
          29,
          25,
          13,
          30,
          49,
          19,
          41,
          76,
          41,
          37,
          34,
          67,
          35,
          35,
          6,
          55,
          65,
          7,
          24,
          14,
          76,
          10,
          74,
          29,
          1,
          60,
          64,
          45,
          11,
          47,
          69,
          30,
          26,
          35,
          8,
          23,
          55,
          53,
          17,
          44,
          44,
          42,
          49,
          60,
          27,
          43,
          47,
          11,
          36,
          73,
          100,
          41,
          4,
          74,
          12,
          54,
          29,
          24,
          10,
          61,
          40,
          52,
          25,
          39,
          28,
          87,
          53,
          14,
          15,
          62,
          64,
          21,
          18,
          30,
          51,
          50,
          56,
          48,
          115,
          52,
          45,
          50,
          61
         ],
         "yaxis": "y"
        },
        {
         "alignmentgroup": "True",
         "hovertemplate": "Movie genres=Historical<br>Actor=%{x}<br>Number of Movies=%{y}<extra></extra>",
         "legendgroup": "Historical",
         "marker": {
          "color": "#FF6692",
          "pattern": {
           "shape": ""
          }
         },
         "name": "Historical",
         "offsetgroup": "Historical",
         "orientation": "v",
         "showlegend": true,
         "textposition": "auto",
         "type": "bar",
         "x": [
          "Alan Arkin",
          "Alice Brady",
          "Angelina Jolie",
          "Anjelica Huston",
          "Anna Paquin",
          "Anne Baxter",
          "Anne Hathaway",
          "Anne Revere",
          "Anthony Quinn",
          "Barry Fitzgerald",
          "Beatrice Straight",
          "Benicio del Toro",
          "Brenda Fricker",
          "Cate Blanchett",
          "Catherine Zeta-Jones",
          "Charles Coburn",
          "Chris Cooper",
          "Christian Bale",
          "Christoph Waltz",
          "Christopher Plummer",
          "Christopher Walken",
          "Cloris Leachman",
          "Dean Jagger",
          "Denzel Washington",
          "Dianne Wiest",
          "Don Ameche",
          "Donald Crisp",
          "Donna Reed",
          "Dorothy Malone",
          "Edmond O'Brien",
          "Edmund Gwenn",
          "Eileen Heckart",
          "Eva Marie Saint",
          "Fay Bainter",
          "Frank Sinatra",
          "Gale Sondergaard",
          "Geena Davis",
          "Gene Hackman",
          "George Chakiris",
          "George Clooney",
          "George Kennedy",
          "George Sanders",
          "Gig Young",
          "Goldie Hawn",
          "Haing S. Ngor",
          "Hattie McDaniel",
          "Heath Ledger",
          "Helen Hayes",
          "Hugh Griffith",
          "Ingrid Bergman",
          "Jack Albertson",
          "Jack Lemmon",
          "Jack Nicholson",
          "Jack Palance",
          "James Coburn",
          "Jane Darwell",
          "Jason Robards",
          "Javier Bardem",
          "Jennifer Connelly",
          "Jennifer Hudson",
          "Jessica Lange",
          "Jim Broadbent",
          "Jo Van Fleet",
          "Joe Pesci",
          "Joel Grey",
          "John Gielgud",
          "John Mills",
          "Joseph Schildkraut",
          "Judi Dench",
          "Juliette Binoche",
          "Karl Malden",
          "Kevin Kline",
          "Kevin Spacey",
          "Kim Basinger",
          "Kim Hunter",
          "Lee Grant",
          "Lila Kedrova",
          "Linda Hunt",
          "Maggie Smith",
          "Marcia Gay Harden",
          "Margaret Rutherford",
          "Marisa Tomei",
          "Martin Balsam",
          "Martin Landau",
          "Mary Astor",
          "Mary Steenburgen",
          "Maureen Stapleton",
          "Melissa Leo",
          "Melvyn Douglas",
          "Mercedes Ruehl",
          "Meryl Streep",
          "Michael Caine",
          "Mira Sorvino",
          "Morgan Freeman",
          "Octavia Spencer",
          "Olympia Dukakis",
          "Patricia Arquette",
          "Patty Duke",
          "Peggy Ashcroft",
          "Penélope Cruz",
          "Peter Ustinov",
          "Rachel Weisz",
          "Red Buttons",
          "Renée Zellweger",
          "Rita Moreno",
          "Robert De Niro",
          "Robin Williams",
          "Ruth Gordon",
          "Sandy Dennis",
          "Sean Connery",
          "Shelley Winters",
          "Tatum O'Neal",
          "Teresa Wright",
          "Tim Robbins",
          "Timothy Hutton",
          "Tommy Lee Jones",
          "Van Heflin",
          "Vanessa Redgrave",
          "Walter Brennan",
          "Walter Huston",
          "Walter Matthau",
          "Whoopi Goldberg"
         ],
         "xaxis": "x",
         "y": [
          8,
          3,
          11,
          15,
          14,
          4,
          6,
          6,
          11,
          1,
          1,
          8,
          10,
          19,
          6,
          1,
          14,
          21,
          4,
          32,
          18,
          5,
          4,
          13,
          2,
          5,
          9,
          4,
          2,
          4,
          4,
          1,
          4,
          1,
          8,
          3,
          1,
          10,
          1,
          7,
          6,
          11,
          2,
          1,
          1,
          2,
          8,
          2,
          10,
          10,
          3,
          9,
          9,
          2,
          2,
          4,
          15,
          5,
          10,
          2,
          11,
          22,
          1,
          13,
          2,
          34,
          17,
          6,
          22,
          5,
          4,
          13,
          8,
          5,
          3,
          1,
          1,
          5,
          13,
          8,
          1,
          8,
          8,
          8,
          3,
          15,
          2,
          3,
          3,
          4,
          16,
          19,
          10,
          15,
          2,
          3,
          5,
          2,
          4,
          10,
          10,
          8,
          5,
          13,
          1,
          21,
          7,
          3,
          1,
          15,
          5,
          7,
          1,
          7,
          7,
          15,
          5,
          29,
          3,
          5,
          5,
          7
         ],
         "yaxis": "y"
        },
        {
         "alignmentgroup": "True",
         "hovertemplate": "Movie genres=Horror<br>Actor=%{x}<br>Number of Movies=%{y}<extra></extra>",
         "legendgroup": "Horror",
         "marker": {
          "color": "#B6E880",
          "pattern": {
           "shape": ""
          }
         },
         "name": "Horror",
         "offsetgroup": "Horror",
         "orientation": "v",
         "showlegend": true,
         "textposition": "auto",
         "type": "bar",
         "x": [
          "Alan Arkin",
          "Angelina Jolie",
          "Anjelica Huston",
          "Anna Paquin",
          "Anne Revere",
          "Anthony Quinn",
          "Beatrice Straight",
          "Benicio del Toro",
          "Burl Ives",
          "Catherine Zeta-Jones",
          "Christian Bale",
          "Christopher Plummer",
          "Christopher Walken",
          "Cloris Leachman",
          "Dean Jagger",
          "Dianne Wiest",
          "Don Ameche",
          "Donald Crisp",
          "Donna Reed",
          "Edmund Gwenn",
          "Eileen Heckart",
          "Eva Marie Saint",
          "Gale Sondergaard",
          "Geena Davis",
          "Gene Hackman",
          "George Clooney",
          "George Kennedy",
          "George Sanders",
          "Gig Young",
          "Gloria Grahame",
          "Goldie Hawn",
          "Heath Ledger",
          "Hugh Griffith",
          "Ingrid Bergman",
          "Jack Albertson",
          "Jack Nicholson",
          "Jack Palance",
          "Jason Robards",
          "Javier Bardem",
          "Jennifer Connelly",
          "Jessica Lange",
          "Jim Broadbent",
          "Jo Van Fleet",
          "John Gielgud",
          "John Houseman",
          "Karl Malden",
          "Katina Paxinou",
          "Kim Basinger",
          "Kim Hunter",
          "Lee Grant",
          "Lila Kedrova",
          "Linda Hunt",
          "Marcia Gay Harden",
          "Marisa Tomei",
          "Martin Balsam",
          "Martin Landau",
          "Mary Astor",
          "Mary Steenburgen",
          "Maureen Stapleton",
          "Melissa Leo",
          "Melvyn Douglas",
          "Mercedes McCambridge",
          "Meryl Streep",
          "Michael Caine",
          "Mira Sorvino",
          "Morgan Freeman",
          "Octavia Spencer",
          "Olympia Dukakis",
          "Patricia Arquette",
          "Patty Duke",
          "Penélope Cruz",
          "Rachel Weisz",
          "Renée Zellweger",
          "Robert De Niro",
          "Ruth Gordon",
          "Sandy Dennis",
          "Shelley Winters",
          "Tim Robbins",
          "Timothy Hutton",
          "Tommy Lee Jones",
          "Vanessa Redgrave",
          "Walter Brennan",
          "Walter Huston"
         ],
         "xaxis": "x",
         "y": [
          3,
          1,
          2,
          5,
          2,
          2,
          1,
          1,
          1,
          1,
          3,
          10,
          12,
          7,
          8,
          1,
          1,
          1,
          1,
          4,
          2,
          1,
          2,
          3,
          1,
          6,
          16,
          8,
          2,
          3,
          1,
          1,
          11,
          1,
          1,
          6,
          9,
          3,
          2,
          6,
          1,
          1,
          2,
          5,
          2,
          2,
          1,
          2,
          3,
          6,
          2,
          1,
          1,
          2,
          5,
          7,
          1,
          4,
          1,
          6,
          5,
          2,
          1,
          9,
          4,
          2,
          3,
          1,
          7,
          5,
          1,
          5,
          5,
          7,
          4,
          4,
          9,
          2,
          4,
          1,
          3,
          2,
          1
         ],
         "yaxis": "y"
        },
        {
         "alignmentgroup": "True",
         "hovertemplate": "Movie genres=Musical<br>Actor=%{x}<br>Number of Movies=%{y}<extra></extra>",
         "legendgroup": "Musical",
         "marker": {
          "color": "#FF97FF",
          "pattern": {
           "shape": ""
          }
         },
         "name": "Musical",
         "offsetgroup": "Musical",
         "orientation": "v",
         "showlegend": true,
         "textposition": "auto",
         "type": "bar",
         "x": [
          "Alan Arkin",
          "Alice Brady",
          "Angelina Jolie",
          "Anjelica Huston",
          "Anna Paquin",
          "Anne Baxter",
          "Anne Hathaway",
          "Anthony Quinn",
          "Barry Fitzgerald",
          "Burl Ives",
          "Cate Blanchett",
          "Catherine Zeta-Jones",
          "Celeste Holm",
          "Charles Coburn",
          "Chris Cooper",
          "Christian Bale",
          "Christoph Waltz",
          "Christopher Plummer",
          "Christopher Walken",
          "Claire Trevor",
          "Cloris Leachman",
          "Dean Jagger",
          "Denzel Washington",
          "Dianne Wiest",
          "Don Ameche",
          "Donna Reed",
          "Dorothy Malone",
          "Edmond O'Brien",
          "Edmund Gwenn",
          "Eileen Heckart",
          "Ethel Barrymore",
          "Eva Marie Saint",
          "Fay Bainter",
          "Frank Sinatra",
          "Gale Sondergaard",
          "Geena Davis",
          "George Burns",
          "George Chakiris",
          "George Clooney",
          "George Kennedy",
          "George Sanders",
          "Gig Young",
          "Gloria Grahame",
          "Goldie Hawn",
          "Hattie McDaniel",
          "Heath Ledger",
          "Helen Hayes",
          "Hugh Griffith",
          "Ingrid Bergman",
          "Jack Albertson",
          "Jack Lemmon",
          "Jack Nicholson",
          "Jack Palance",
          "James Coburn",
          "Jane Darwell",
          "Jason Robards",
          "Jennifer Hudson",
          "Jessica Lange",
          "Jim Broadbent",
          "Jo Van Fleet",
          "Joe Pesci",
          "Joel Grey",
          "John Gielgud",
          "John Mills",
          "Joseph Schildkraut",
          "Judi Dench",
          "Juliette Binoche",
          "Karl Malden",
          "Kevin Kline",
          "Kevin Spacey",
          "Kim Basinger",
          "Linda Hunt",
          "Maggie Smith",
          "Marisa Tomei",
          "Martin Landau",
          "Mary Astor",
          "Mary Steenburgen",
          "Maureen Stapleton",
          "Melissa Leo",
          "Melvyn Douglas",
          "Meryl Streep",
          "Michael Caine",
          "Miyoshi Umeki",
          "Octavia Spencer",
          "Olympia Dukakis",
          "Patty Duke",
          "Penélope Cruz",
          "Peter Ustinov",
          "Rachel Weisz",
          "Red Buttons",
          "Renée Zellweger",
          "Rita Moreno",
          "Robert De Niro",
          "Robin Williams",
          "Ruth Gordon",
          "Shelley Winters",
          "Shirley Jones",
          "Tatum O'Neal",
          "Tommy Lee Jones",
          "Van Heflin",
          "Vanessa Redgrave",
          "Walter Brennan",
          "Walter Huston",
          "Walter Matthau",
          "Whoopi Goldberg"
         ],
         "xaxis": "x",
         "y": [
          2,
          6,
          1,
          2,
          1,
          1,
          2,
          6,
          5,
          1,
          2,
          3,
          4,
          2,
          1,
          7,
          1,
          6,
          5,
          1,
          3,
          3,
          1,
          1,
          10,
          1,
          3,
          2,
          3,
          1,
          4,
          1,
          4,
          20,
          1,
          1,
          11,
          3,
          2,
          5,
          5,
          3,
          2,
          2,
          5,
          1,
          1,
          2,
          2,
          5,
          4,
          4,
          1,
          2,
          6,
          1,
          2,
          4,
          5,
          1,
          2,
          4,
          5,
          5,
          1,
          1,
          1,
          2,
          6,
          2,
          1,
          2,
          3,
          1,
          1,
          4,
          2,
          4,
          1,
          1,
          3,
          2,
          1,
          1,
          2,
          2,
          2,
          1,
          1,
          5,
          2,
          5,
          1,
          4,
          1,
          2,
          6,
          1,
          2,
          2,
          2,
          6,
          2,
          2,
          8
         ],
         "yaxis": "y"
        },
        {
         "alignmentgroup": "True",
         "hovertemplate": "Movie genres=Other<br>Actor=%{x}<br>Number of Movies=%{y}<extra></extra>",
         "legendgroup": "Other",
         "marker": {
          "color": "#FECB52",
          "pattern": {
           "shape": ""
          }
         },
         "name": "Other",
         "offsetgroup": "Other",
         "orientation": "v",
         "showlegend": true,
         "textposition": "auto",
         "type": "bar",
         "x": [
          "Alan Arkin",
          "Alice Brady",
          "Angelina Jolie",
          "Anjelica Huston",
          "Anna Paquin",
          "Anne Baxter",
          "Anne Hathaway",
          "Anne Revere",
          "Anthony Quinn",
          "Barry Fitzgerald",
          "Beatrice Straight",
          "Benicio del Toro",
          "Brenda Fricker",
          "Burl Ives",
          "Cate Blanchett",
          "Catherine Zeta-Jones",
          "Celeste Holm",
          "Charles Coburn",
          "Chris Cooper",
          "Christian Bale",
          "Christoph Waltz",
          "Christopher Plummer",
          "Christopher Walken",
          "Claire Trevor",
          "Cloris Leachman",
          "Dean Jagger",
          "Denzel Washington",
          "Dianne Wiest",
          "Don Ameche",
          "Donald Crisp",
          "Donna Reed",
          "Dorothy Malone",
          "Edmond O'Brien",
          "Edmund Gwenn",
          "Eileen Heckart",
          "Estelle Parsons",
          "Ethel Barrymore",
          "Eva Marie Saint",
          "Fay Bainter",
          "Frank Sinatra",
          "Gale Sondergaard",
          "Geena Davis",
          "Gene Hackman",
          "George Burns",
          "George Chakiris",
          "George Clooney",
          "George Kennedy",
          "George Sanders",
          "Gig Young",
          "Gloria Grahame",
          "Goldie Hawn",
          "Haing S. Ngor",
          "Harold Russell",
          "Hattie McDaniel",
          "Heath Ledger",
          "Helen Hayes",
          "Hugh Griffith",
          "Ingrid Bergman",
          "Jack Albertson",
          "Jack Lemmon",
          "Jack Nicholson",
          "Jack Palance",
          "James Coburn",
          "Jane Darwell",
          "Jason Robards",
          "Javier Bardem",
          "Jennifer Connelly",
          "Jennifer Hudson",
          "Jessica Lange",
          "Jim Broadbent",
          "Jo Van Fleet",
          "Joe Pesci",
          "Joel Grey",
          "John Gielgud",
          "John Houseman",
          "John Mills",
          "Joseph Schildkraut",
          "Josephine Hull",
          "Judi Dench",
          "Juliette Binoche",
          "Karl Malden",
          "Katina Paxinou",
          "Kevin Kline",
          "Kevin Spacey",
          "Kim Basinger",
          "Kim Hunter",
          "Lee Grant",
          "Lila Kedrova",
          "Linda Hunt",
          "Maggie Smith",
          "Marcia Gay Harden",
          "Margaret Rutherford",
          "Marisa Tomei",
          "Martin Balsam",
          "Martin Landau",
          "Mary Astor",
          "Mary Steenburgen",
          "Maureen Stapleton",
          "Melissa Leo",
          "Melvyn Douglas",
          "Mercedes McCambridge",
          "Mercedes Ruehl",
          "Meryl Streep",
          "Michael Caine",
          "Mira Sorvino",
          "Miyoshi Umeki",
          "Morgan Freeman",
          "Octavia Spencer",
          "Olympia Dukakis",
          "Patricia Arquette",
          "Patty Duke",
          "Peggy Ashcroft",
          "Penélope Cruz",
          "Peter Ustinov",
          "Rachel Weisz",
          "Red Buttons",
          "Renée Zellweger",
          "Rita Moreno",
          "Robert De Niro",
          "Robin Williams",
          "Ruth Gordon",
          "Sandy Dennis",
          "Sean Connery",
          "Shelley Winters",
          "Shirley Jones",
          "Tatum O'Neal",
          "Teresa Wright",
          "Tim Robbins",
          "Timothy Hutton",
          "Tommy Lee Jones",
          "Van Heflin",
          "Vanessa Redgrave",
          "Walter Brennan",
          "Walter Huston",
          "Walter Matthau",
          "Whoopi Goldberg"
         ],
         "xaxis": "x",
         "y": [
          84,
          18,
          66,
          102,
          47,
          41,
          42,
          25,
          110,
          29,
          16,
          50,
          39,
          27,
          69,
          24,
          15,
          47,
          58,
          77,
          11,
          126,
          129,
          46,
          131,
          44,
          50,
          44,
          38,
          89,
          22,
          31,
          41,
          53,
          11,
          25,
          15,
          30,
          20,
          58,
          28,
          42,
          93,
          27,
          11,
          71,
          83,
          113,
          30,
          25,
          30,
          1,
          7,
          48,
          41,
          27,
          40,
          56,
          24,
          60,
          99,
          55,
          65,
          35,
          54,
          44,
          52,
          9,
          52,
          108,
          18,
          54,
          23,
          105,
          24,
          82,
          40,
          2,
          55,
          49,
          47,
          15,
          57,
          62,
          49,
          32,
          47,
          15,
          43,
          79,
          68,
          42,
          60,
          49,
          78,
          74,
          98,
          23,
          46,
          64,
          18,
          30,
          78,
          149,
          30,
          1,
          97,
          11,
          47,
          56,
          24,
          14,
          52,
          88,
          51,
          32,
          71,
          26,
          125,
          119,
          31,
          15,
          99,
          82,
          18,
          27,
          26,
          84,
          58,
          70,
          44,
          125,
          58,
          51,
          66,
          108
         ],
         "yaxis": "y"
        },
        {
         "alignmentgroup": "True",
         "hovertemplate": "Movie genres=Romance<br>Actor=%{x}<br>Number of Movies=%{y}<extra></extra>",
         "legendgroup": "Romance",
         "marker": {
          "color": "#636efa",
          "pattern": {
           "shape": ""
          }
         },
         "name": "Romance",
         "offsetgroup": "Romance",
         "orientation": "v",
         "showlegend": true,
         "textposition": "auto",
         "type": "bar",
         "x": [
          "Alan Arkin",
          "Alice Brady",
          "Angelina Jolie",
          "Anjelica Huston",
          "Anna Paquin",
          "Anne Baxter",
          "Anne Hathaway",
          "Anne Revere",
          "Anthony Quinn",
          "Barry Fitzgerald",
          "Beatrice Straight",
          "Benicio del Toro",
          "Brenda Fricker",
          "Burl Ives",
          "Cate Blanchett",
          "Catherine Zeta-Jones",
          "Celeste Holm",
          "Charles Coburn",
          "Chris Cooper",
          "Christian Bale",
          "Christoph Waltz",
          "Christopher Plummer",
          "Christopher Walken",
          "Claire Trevor",
          "Cloris Leachman",
          "Dean Jagger",
          "Denzel Washington",
          "Dianne Wiest",
          "Don Ameche",
          "Donald Crisp",
          "Donna Reed",
          "Dorothy Malone",
          "Edmond O'Brien",
          "Edmund Gwenn",
          "Eileen Heckart",
          "Estelle Parsons",
          "Ethel Barrymore",
          "Eva Marie Saint",
          "Fay Bainter",
          "Frank Sinatra",
          "Gale Sondergaard",
          "Geena Davis",
          "Gene Hackman",
          "George Burns",
          "George Chakiris",
          "George Clooney",
          "George Kennedy",
          "George Sanders",
          "Gig Young",
          "Gloria Grahame",
          "Goldie Hawn",
          "Harold Russell",
          "Hattie McDaniel",
          "Heath Ledger",
          "Helen Hayes",
          "Hugh Griffith",
          "Ingrid Bergman",
          "Jack Albertson",
          "Jack Lemmon",
          "Jack Nicholson",
          "Jack Palance",
          "James Coburn",
          "Jane Darwell",
          "Jason Robards",
          "Javier Bardem",
          "Jennifer Connelly",
          "Jennifer Hudson",
          "Jessica Lange",
          "Jim Broadbent",
          "Jo Van Fleet",
          "Joe Pesci",
          "Joel Grey",
          "John Gielgud",
          "John Houseman",
          "John Mills",
          "Joseph Schildkraut",
          "Judi Dench",
          "Juliette Binoche",
          "Karl Malden",
          "Katina Paxinou",
          "Kevin Kline",
          "Kevin Spacey",
          "Kim Basinger",
          "Kim Hunter",
          "Lee Grant",
          "Lila Kedrova",
          "Linda Hunt",
          "Maggie Smith",
          "Marcia Gay Harden",
          "Margaret Rutherford",
          "Marisa Tomei",
          "Martin Balsam",
          "Martin Landau",
          "Mary Astor",
          "Mary Steenburgen",
          "Maureen Stapleton",
          "Melissa Leo",
          "Melvyn Douglas",
          "Mercedes McCambridge",
          "Mercedes Ruehl",
          "Meryl Streep",
          "Michael Caine",
          "Mira Sorvino",
          "Miyoshi Umeki",
          "Morgan Freeman",
          "Octavia Spencer",
          "Olympia Dukakis",
          "Patricia Arquette",
          "Patty Duke",
          "Peggy Ashcroft",
          "Penélope Cruz",
          "Peter Ustinov",
          "Rachel Weisz",
          "Red Buttons",
          "Renée Zellweger",
          "Rita Moreno",
          "Robert De Niro",
          "Robin Williams",
          "Ruth Gordon",
          "Sandy Dennis",
          "Sean Connery",
          "Shelley Winters",
          "Shirley Jones",
          "Tatum O'Neal",
          "Teresa Wright",
          "Tim Robbins",
          "Timothy Hutton",
          "Tommy Lee Jones",
          "Van Heflin",
          "Vanessa Redgrave",
          "Walter Brennan",
          "Walter Huston",
          "Walter Matthau",
          "Whoopi Goldberg"
         ],
         "xaxis": "x",
         "y": [
          10,
          4,
          11,
          16,
          7,
          8,
          12,
          6,
          19,
          6,
          2,
          1,
          5,
          4,
          13,
          11,
          4,
          18,
          9,
          8,
          6,
          18,
          22,
          5,
          14,
          5,
          5,
          13,
          10,
          10,
          5,
          4,
          6,
          11,
          3,
          7,
          6,
          7,
          6,
          16,
          5,
          6,
          8,
          2,
          4,
          9,
          4,
          14,
          14,
          6,
          17,
          1,
          14,
          5,
          3,
          11,
          16,
          9,
          20,
          13,
          5,
          6,
          7,
          10,
          7,
          11,
          1,
          8,
          16,
          3,
          1,
          2,
          12,
          1,
          12,
          7,
          16,
          23,
          6,
          1,
          14,
          6,
          10,
          5,
          8,
          2,
          6,
          14,
          8,
          8,
          19,
          6,
          7,
          12,
          15,
          7,
          3,
          10,
          2,
          10,
          17,
          21,
          8,
          3,
          4,
          5,
          16,
          9,
          5,
          1,
          29,
          6,
          19,
          6,
          14,
          10,
          13,
          15,
          1,
          3,
          10,
          16,
          8,
          2,
          7,
          14,
          9,
          8,
          9,
          26,
          17,
          8,
          18,
          13
         ],
         "yaxis": "y"
        },
        {
         "alignmentgroup": "True",
         "hovertemplate": "Movie genres=SciFi/Fantasy<br>Actor=%{x}<br>Number of Movies=%{y}<extra></extra>",
         "legendgroup": "SciFi/Fantasy",
         "marker": {
          "color": "#EF553B",
          "pattern": {
           "shape": ""
          }
         },
         "name": "SciFi/Fantasy",
         "offsetgroup": "SciFi/Fantasy",
         "orientation": "v",
         "showlegend": true,
         "textposition": "auto",
         "type": "bar",
         "x": [
          "Alan Arkin",
          "Angelina Jolie",
          "Anjelica Huston",
          "Anna Paquin",
          "Anne Baxter",
          "Anne Hathaway",
          "Anne Revere",
          "Anthony Quinn",
          "Beatrice Straight",
          "Brenda Fricker",
          "Burl Ives",
          "Cate Blanchett",
          "Catherine Zeta-Jones",
          "Charles Coburn",
          "Chris Cooper",
          "Christian Bale",
          "Christoph Waltz",
          "Christopher Plummer",
          "Christopher Walken",
          "Claire Trevor",
          "Cloris Leachman",
          "Dean Jagger",
          "Denzel Washington",
          "Dianne Wiest",
          "Don Ameche",
          "Donald Crisp",
          "Donna Reed",
          "Dorothy Malone",
          "Edmond O'Brien",
          "Edmund Gwenn",
          "Estelle Parsons",
          "Ethel Barrymore",
          "Eva Marie Saint",
          "Gale Sondergaard",
          "Geena Davis",
          "Gene Hackman",
          "George Burns",
          "George Clooney",
          "George Kennedy",
          "George Sanders",
          "Gloria Grahame",
          "Goldie Hawn",
          "Heath Ledger",
          "Helen Hayes",
          "Hugh Griffith",
          "Ingrid Bergman",
          "Jack Albertson",
          "Jack Lemmon",
          "Jack Nicholson",
          "Jack Palance",
          "James Coburn",
          "Jane Darwell",
          "Jason Robards",
          "Javier Bardem",
          "Jennifer Connelly",
          "Jessica Lange",
          "Jim Broadbent",
          "Joel Grey",
          "John Gielgud",
          "John Houseman",
          "John Mills",
          "Joseph Schildkraut",
          "Josephine Hull",
          "Judi Dench",
          "Karl Malden",
          "Kevin Kline",
          "Kevin Spacey",
          "Kim Basinger",
          "Kim Hunter",
          "Lee Grant",
          "Lila Kedrova",
          "Linda Hunt",
          "Maggie Smith",
          "Marcia Gay Harden",
          "Margaret Rutherford",
          "Marisa Tomei",
          "Martin Landau",
          "Mary Astor",
          "Mary Steenburgen",
          "Maureen Stapleton",
          "Mercedes Ruehl",
          "Meryl Streep",
          "Michael Caine",
          "Mira Sorvino",
          "Morgan Freeman",
          "Octavia Spencer",
          "Olympia Dukakis",
          "Patricia Arquette",
          "Patty Duke",
          "Penélope Cruz",
          "Peter Ustinov",
          "Rachel Weisz",
          "Red Buttons",
          "Renée Zellweger",
          "Robert De Niro",
          "Robin Williams",
          "Ruth Gordon",
          "Sandy Dennis",
          "Sean Connery",
          "Shelley Winters",
          "Shirley Jones",
          "Tatum O'Neal",
          "Teresa Wright",
          "Tim Robbins",
          "Timothy Hutton",
          "Tommy Lee Jones",
          "Vanessa Redgrave",
          "Walter Brennan",
          "Walter Huston",
          "Walter Matthau",
          "Whoopi Goldberg"
         ],
         "xaxis": "x",
         "y": [
          10,
          6,
          20,
          8,
          2,
          5,
          1,
          7,
          2,
          2,
          8,
          9,
          4,
          1,
          1,
          12,
          1,
          22,
          15,
          1,
          25,
          6,
          7,
          9,
          4,
          1,
          2,
          1,
          3,
          4,
          1,
          2,
          2,
          1,
          7,
          8,
          3,
          10,
          8,
          14,
          1,
          1,
          3,
          1,
          3,
          2,
          2,
          2,
          7,
          12,
          7,
          1,
          4,
          3,
          13,
          4,
          22,
          3,
          8,
          1,
          1,
          1,
          1,
          2,
          2,
          5,
          7,
          3,
          4,
          4,
          1,
          5,
          23,
          8,
          4,
          4,
          15,
          1,
          10,
          4,
          3,
          5,
          15,
          2,
          7,
          3,
          1,
          2,
          3,
          6,
          6,
          11,
          4,
          1,
          8,
          27,
          1,
          1,
          21,
          6,
          2,
          2,
          3,
          14,
          7,
          8,
          4,
          3,
          2,
          2,
          21
         ],
         "yaxis": "y"
        },
        {
         "alignmentgroup": "True",
         "hovertemplate": "Movie genres=Western<br>Actor=%{x}<br>Number of Movies=%{y}<extra></extra>",
         "legendgroup": "Western",
         "marker": {
          "color": "#00cc96",
          "pattern": {
           "shape": ""
          }
         },
         "name": "Western",
         "offsetgroup": "Western",
         "orientation": "v",
         "showlegend": true,
         "textposition": "auto",
         "type": "bar",
         "x": [
          "Alan Arkin",
          "Anjelica Huston",
          "Anna Paquin",
          "Anne Baxter",
          "Anne Hathaway",
          "Anthony Quinn",
          "Barry Fitzgerald",
          "Brenda Fricker",
          "Burl Ives",
          "Cate Blanchett",
          "Catherine Zeta-Jones",
          "Charles Coburn",
          "Chris Cooper",
          "Christian Bale",
          "Christoph Waltz",
          "Christopher Walken",
          "Claire Trevor",
          "Cloris Leachman",
          "Dean Jagger",
          "Denzel Washington",
          "Dianne Wiest",
          "Donald Crisp",
          "Donna Reed",
          "Dorothy Malone",
          "Edmond O'Brien",
          "Eileen Heckart",
          "Ethel Barrymore",
          "Eva Marie Saint",
          "Frank Sinatra",
          "Gale Sondergaard",
          "Gene Hackman",
          "George Kennedy",
          "George Sanders",
          "Gig Young",
          "Gloria Grahame",
          "Goldie Hawn",
          "Heath Ledger",
          "Jack Lemmon",
          "Jack Nicholson",
          "Jack Palance",
          "James Coburn",
          "Jane Darwell",
          "Jason Robards",
          "Javier Bardem",
          "Jessica Lange",
          "Jim Broadbent",
          "Jo Van Fleet",
          "Joel Grey",
          "John Mills",
          "Joseph Schildkraut",
          "Judi Dench",
          "Karl Malden",
          "Kevin Kline",
          "Kim Basinger",
          "Lee Grant",
          "Linda Hunt",
          "Marcia Gay Harden",
          "Marisa Tomei",
          "Martin Balsam",
          "Martin Landau",
          "Mary Steenburgen",
          "Melissa Leo",
          "Melvyn Douglas",
          "Mercedes McCambridge",
          "Morgan Freeman",
          "Patricia Arquette",
          "Patty Duke",
          "Penélope Cruz",
          "Peter Ustinov",
          "Rachel Weisz",
          "Red Buttons",
          "Renée Zellweger",
          "Rita Moreno",
          "Sean Connery",
          "Shelley Winters",
          "Shirley Jones",
          "Teresa Wright",
          "Tommy Lee Jones",
          "Van Heflin",
          "Walter Brennan",
          "Walter Huston",
          "Walter Matthau"
         ],
         "xaxis": "x",
         "y": [
          2,
          4,
          1,
          8,
          1,
          15,
          1,
          1,
          4,
          1,
          1,
          2,
          5,
          1,
          2,
          3,
          8,
          2,
          7,
          1,
          1,
          6,
          4,
          7,
          8,
          2,
          1,
          3,
          5,
          4,
          10,
          14,
          1,
          5,
          3,
          2,
          2,
          1,
          8,
          21,
          15,
          5,
          12,
          1,
          2,
          2,
          3,
          1,
          1,
          2,
          1,
          11,
          3,
          2,
          1,
          3,
          1,
          1,
          7,
          3,
          5,
          3,
          4,
          4,
          1,
          1,
          1,
          4,
          1,
          1,
          2,
          1,
          1,
          6,
          6,
          5,
          5,
          4,
          11,
          22,
          8,
          5
         ],
         "yaxis": "y"
        }
       ],
       "layout": {
        "barmode": "stack",
        "height": 800,
        "legend": {
         "title": {
          "text": "Genre"
         },
         "tracegroupgap": 0
        },
        "showlegend": true,
        "template": {
         "data": {
          "bar": [
           {
            "error_x": {
             "color": "#2a3f5f"
            },
            "error_y": {
             "color": "#2a3f5f"
            },
            "marker": {
             "line": {
              "color": "#E5ECF6",
              "width": 0.5
             },
             "pattern": {
              "fillmode": "overlay",
              "size": 10,
              "solidity": 0.2
             }
            },
            "type": "bar"
           }
          ],
          "barpolar": [
           {
            "marker": {
             "line": {
              "color": "#E5ECF6",
              "width": 0.5
             },
             "pattern": {
              "fillmode": "overlay",
              "size": 10,
              "solidity": 0.2
             }
            },
            "type": "barpolar"
           }
          ],
          "carpet": [
           {
            "aaxis": {
             "endlinecolor": "#2a3f5f",
             "gridcolor": "white",
             "linecolor": "white",
             "minorgridcolor": "white",
             "startlinecolor": "#2a3f5f"
            },
            "baxis": {
             "endlinecolor": "#2a3f5f",
             "gridcolor": "white",
             "linecolor": "white",
             "minorgridcolor": "white",
             "startlinecolor": "#2a3f5f"
            },
            "type": "carpet"
           }
          ],
          "choropleth": [
           {
            "colorbar": {
             "outlinewidth": 0,
             "ticks": ""
            },
            "type": "choropleth"
           }
          ],
          "contour": [
           {
            "colorbar": {
             "outlinewidth": 0,
             "ticks": ""
            },
            "colorscale": [
             [
              0,
              "#0d0887"
             ],
             [
              0.1111111111111111,
              "#46039f"
             ],
             [
              0.2222222222222222,
              "#7201a8"
             ],
             [
              0.3333333333333333,
              "#9c179e"
             ],
             [
              0.4444444444444444,
              "#bd3786"
             ],
             [
              0.5555555555555556,
              "#d8576b"
             ],
             [
              0.6666666666666666,
              "#ed7953"
             ],
             [
              0.7777777777777778,
              "#fb9f3a"
             ],
             [
              0.8888888888888888,
              "#fdca26"
             ],
             [
              1,
              "#f0f921"
             ]
            ],
            "type": "contour"
           }
          ],
          "contourcarpet": [
           {
            "colorbar": {
             "outlinewidth": 0,
             "ticks": ""
            },
            "type": "contourcarpet"
           }
          ],
          "heatmap": [
           {
            "colorbar": {
             "outlinewidth": 0,
             "ticks": ""
            },
            "colorscale": [
             [
              0,
              "#0d0887"
             ],
             [
              0.1111111111111111,
              "#46039f"
             ],
             [
              0.2222222222222222,
              "#7201a8"
             ],
             [
              0.3333333333333333,
              "#9c179e"
             ],
             [
              0.4444444444444444,
              "#bd3786"
             ],
             [
              0.5555555555555556,
              "#d8576b"
             ],
             [
              0.6666666666666666,
              "#ed7953"
             ],
             [
              0.7777777777777778,
              "#fb9f3a"
             ],
             [
              0.8888888888888888,
              "#fdca26"
             ],
             [
              1,
              "#f0f921"
             ]
            ],
            "type": "heatmap"
           }
          ],
          "heatmapgl": [
           {
            "colorbar": {
             "outlinewidth": 0,
             "ticks": ""
            },
            "colorscale": [
             [
              0,
              "#0d0887"
             ],
             [
              0.1111111111111111,
              "#46039f"
             ],
             [
              0.2222222222222222,
              "#7201a8"
             ],
             [
              0.3333333333333333,
              "#9c179e"
             ],
             [
              0.4444444444444444,
              "#bd3786"
             ],
             [
              0.5555555555555556,
              "#d8576b"
             ],
             [
              0.6666666666666666,
              "#ed7953"
             ],
             [
              0.7777777777777778,
              "#fb9f3a"
             ],
             [
              0.8888888888888888,
              "#fdca26"
             ],
             [
              1,
              "#f0f921"
             ]
            ],
            "type": "heatmapgl"
           }
          ],
          "histogram": [
           {
            "marker": {
             "pattern": {
              "fillmode": "overlay",
              "size": 10,
              "solidity": 0.2
             }
            },
            "type": "histogram"
           }
          ],
          "histogram2d": [
           {
            "colorbar": {
             "outlinewidth": 0,
             "ticks": ""
            },
            "colorscale": [
             [
              0,
              "#0d0887"
             ],
             [
              0.1111111111111111,
              "#46039f"
             ],
             [
              0.2222222222222222,
              "#7201a8"
             ],
             [
              0.3333333333333333,
              "#9c179e"
             ],
             [
              0.4444444444444444,
              "#bd3786"
             ],
             [
              0.5555555555555556,
              "#d8576b"
             ],
             [
              0.6666666666666666,
              "#ed7953"
             ],
             [
              0.7777777777777778,
              "#fb9f3a"
             ],
             [
              0.8888888888888888,
              "#fdca26"
             ],
             [
              1,
              "#f0f921"
             ]
            ],
            "type": "histogram2d"
           }
          ],
          "histogram2dcontour": [
           {
            "colorbar": {
             "outlinewidth": 0,
             "ticks": ""
            },
            "colorscale": [
             [
              0,
              "#0d0887"
             ],
             [
              0.1111111111111111,
              "#46039f"
             ],
             [
              0.2222222222222222,
              "#7201a8"
             ],
             [
              0.3333333333333333,
              "#9c179e"
             ],
             [
              0.4444444444444444,
              "#bd3786"
             ],
             [
              0.5555555555555556,
              "#d8576b"
             ],
             [
              0.6666666666666666,
              "#ed7953"
             ],
             [
              0.7777777777777778,
              "#fb9f3a"
             ],
             [
              0.8888888888888888,
              "#fdca26"
             ],
             [
              1,
              "#f0f921"
             ]
            ],
            "type": "histogram2dcontour"
           }
          ],
          "mesh3d": [
           {
            "colorbar": {
             "outlinewidth": 0,
             "ticks": ""
            },
            "type": "mesh3d"
           }
          ],
          "parcoords": [
           {
            "line": {
             "colorbar": {
              "outlinewidth": 0,
              "ticks": ""
             }
            },
            "type": "parcoords"
           }
          ],
          "pie": [
           {
            "automargin": true,
            "type": "pie"
           }
          ],
          "scatter": [
           {
            "fillpattern": {
             "fillmode": "overlay",
             "size": 10,
             "solidity": 0.2
            },
            "type": "scatter"
           }
          ],
          "scatter3d": [
           {
            "line": {
             "colorbar": {
              "outlinewidth": 0,
              "ticks": ""
             }
            },
            "marker": {
             "colorbar": {
              "outlinewidth": 0,
              "ticks": ""
             }
            },
            "type": "scatter3d"
           }
          ],
          "scattercarpet": [
           {
            "marker": {
             "colorbar": {
              "outlinewidth": 0,
              "ticks": ""
             }
            },
            "type": "scattercarpet"
           }
          ],
          "scattergeo": [
           {
            "marker": {
             "colorbar": {
              "outlinewidth": 0,
              "ticks": ""
             }
            },
            "type": "scattergeo"
           }
          ],
          "scattergl": [
           {
            "marker": {
             "colorbar": {
              "outlinewidth": 0,
              "ticks": ""
             }
            },
            "type": "scattergl"
           }
          ],
          "scattermapbox": [
           {
            "marker": {
             "colorbar": {
              "outlinewidth": 0,
              "ticks": ""
             }
            },
            "type": "scattermapbox"
           }
          ],
          "scatterpolar": [
           {
            "marker": {
             "colorbar": {
              "outlinewidth": 0,
              "ticks": ""
             }
            },
            "type": "scatterpolar"
           }
          ],
          "scatterpolargl": [
           {
            "marker": {
             "colorbar": {
              "outlinewidth": 0,
              "ticks": ""
             }
            },
            "type": "scatterpolargl"
           }
          ],
          "scatterternary": [
           {
            "marker": {
             "colorbar": {
              "outlinewidth": 0,
              "ticks": ""
             }
            },
            "type": "scatterternary"
           }
          ],
          "surface": [
           {
            "colorbar": {
             "outlinewidth": 0,
             "ticks": ""
            },
            "colorscale": [
             [
              0,
              "#0d0887"
             ],
             [
              0.1111111111111111,
              "#46039f"
             ],
             [
              0.2222222222222222,
              "#7201a8"
             ],
             [
              0.3333333333333333,
              "#9c179e"
             ],
             [
              0.4444444444444444,
              "#bd3786"
             ],
             [
              0.5555555555555556,
              "#d8576b"
             ],
             [
              0.6666666666666666,
              "#ed7953"
             ],
             [
              0.7777777777777778,
              "#fb9f3a"
             ],
             [
              0.8888888888888888,
              "#fdca26"
             ],
             [
              1,
              "#f0f921"
             ]
            ],
            "type": "surface"
           }
          ],
          "table": [
           {
            "cells": {
             "fill": {
              "color": "#EBF0F8"
             },
             "line": {
              "color": "white"
             }
            },
            "header": {
             "fill": {
              "color": "#C8D4E3"
             },
             "line": {
              "color": "white"
             }
            },
            "type": "table"
           }
          ]
         },
         "layout": {
          "annotationdefaults": {
           "arrowcolor": "#2a3f5f",
           "arrowhead": 0,
           "arrowwidth": 1
          },
          "autotypenumbers": "strict",
          "coloraxis": {
           "colorbar": {
            "outlinewidth": 0,
            "ticks": ""
           }
          },
          "colorscale": {
           "diverging": [
            [
             0,
             "#8e0152"
            ],
            [
             0.1,
             "#c51b7d"
            ],
            [
             0.2,
             "#de77ae"
            ],
            [
             0.3,
             "#f1b6da"
            ],
            [
             0.4,
             "#fde0ef"
            ],
            [
             0.5,
             "#f7f7f7"
            ],
            [
             0.6,
             "#e6f5d0"
            ],
            [
             0.7,
             "#b8e186"
            ],
            [
             0.8,
             "#7fbc41"
            ],
            [
             0.9,
             "#4d9221"
            ],
            [
             1,
             "#276419"
            ]
           ],
           "sequential": [
            [
             0,
             "#0d0887"
            ],
            [
             0.1111111111111111,
             "#46039f"
            ],
            [
             0.2222222222222222,
             "#7201a8"
            ],
            [
             0.3333333333333333,
             "#9c179e"
            ],
            [
             0.4444444444444444,
             "#bd3786"
            ],
            [
             0.5555555555555556,
             "#d8576b"
            ],
            [
             0.6666666666666666,
             "#ed7953"
            ],
            [
             0.7777777777777778,
             "#fb9f3a"
            ],
            [
             0.8888888888888888,
             "#fdca26"
            ],
            [
             1,
             "#f0f921"
            ]
           ],
           "sequentialminus": [
            [
             0,
             "#0d0887"
            ],
            [
             0.1111111111111111,
             "#46039f"
            ],
            [
             0.2222222222222222,
             "#7201a8"
            ],
            [
             0.3333333333333333,
             "#9c179e"
            ],
            [
             0.4444444444444444,
             "#bd3786"
            ],
            [
             0.5555555555555556,
             "#d8576b"
            ],
            [
             0.6666666666666666,
             "#ed7953"
            ],
            [
             0.7777777777777778,
             "#fb9f3a"
            ],
            [
             0.8888888888888888,
             "#fdca26"
            ],
            [
             1,
             "#f0f921"
            ]
           ]
          },
          "colorway": [
           "#636efa",
           "#EF553B",
           "#00cc96",
           "#ab63fa",
           "#FFA15A",
           "#19d3f3",
           "#FF6692",
           "#B6E880",
           "#FF97FF",
           "#FECB52"
          ],
          "font": {
           "color": "#2a3f5f"
          },
          "geo": {
           "bgcolor": "white",
           "lakecolor": "white",
           "landcolor": "#E5ECF6",
           "showlakes": true,
           "showland": true,
           "subunitcolor": "white"
          },
          "hoverlabel": {
           "align": "left"
          },
          "hovermode": "closest",
          "mapbox": {
           "style": "light"
          },
          "paper_bgcolor": "white",
          "plot_bgcolor": "#E5ECF6",
          "polar": {
           "angularaxis": {
            "gridcolor": "white",
            "linecolor": "white",
            "ticks": ""
           },
           "bgcolor": "#E5ECF6",
           "radialaxis": {
            "gridcolor": "white",
            "linecolor": "white",
            "ticks": ""
           }
          },
          "scene": {
           "xaxis": {
            "backgroundcolor": "#E5ECF6",
            "gridcolor": "white",
            "gridwidth": 2,
            "linecolor": "white",
            "showbackground": true,
            "ticks": "",
            "zerolinecolor": "white"
           },
           "yaxis": {
            "backgroundcolor": "#E5ECF6",
            "gridcolor": "white",
            "gridwidth": 2,
            "linecolor": "white",
            "showbackground": true,
            "ticks": "",
            "zerolinecolor": "white"
           },
           "zaxis": {
            "backgroundcolor": "#E5ECF6",
            "gridcolor": "white",
            "gridwidth": 2,
            "linecolor": "white",
            "showbackground": true,
            "ticks": "",
            "zerolinecolor": "white"
           }
          },
          "shapedefaults": {
           "line": {
            "color": "#2a3f5f"
           }
          },
          "ternary": {
           "aaxis": {
            "gridcolor": "white",
            "linecolor": "white",
            "ticks": ""
           },
           "baxis": {
            "gridcolor": "white",
            "linecolor": "white",
            "ticks": ""
           },
           "bgcolor": "#E5ECF6",
           "caxis": {
            "gridcolor": "white",
            "linecolor": "white",
            "ticks": ""
           }
          },
          "title": {
           "x": 0.05
          },
          "xaxis": {
           "automargin": true,
           "gridcolor": "white",
           "linecolor": "white",
           "ticks": "",
           "title": {
            "standoff": 15
           },
           "zerolinecolor": "white",
           "zerolinewidth": 2
          },
          "yaxis": {
           "automargin": true,
           "gridcolor": "white",
           "linecolor": "white",
           "ticks": "",
           "title": {
            "standoff": 15
           },
           "zerolinecolor": "white",
           "zerolinewidth": 2
          }
         }
        },
        "title": {
         "text": "Major Film Genres by Oscar-Winning Actor"
        },
        "xaxis": {
         "anchor": "y",
         "categoryorder": "total descending",
         "domain": [
          0,
          1
         ],
         "tickangle": -45,
         "title": {
          "text": "Actor"
         }
        },
        "yaxis": {
         "anchor": "x",
         "domain": [
          0,
          1
         ],
         "title": {
          "text": "Number of Movies"
         }
        }
       }
      }
     },
     "metadata": {},
     "output_type": "display_data"
    }
   ],
   "source": [
    "# First, let's get the genres for each actor\n",
    "genre_by_actor = oscar_act_movies_all.groupby('Actor name')['Movie genres'].apply(lambda x: ','.join([str(g) for g in x if pd.notna(g)])).reset_index()\n",
    "\n",
    "# Split the genres string and explode to get one row per genre\n",
    "genre_by_actor['Movie genres'] = genre_by_actor['Movie genres'].str.split(',')\n",
    "genre_by_actor = genre_by_actor.explode('Movie genres')\n",
    "\n",
    "# Clean up genres by stripping whitespace and removing empty strings\n",
    "genre_by_actor['Movie genres'] = genre_by_actor['Movie genres'].str.strip()\n",
    "genre_by_actor = genre_by_actor[genre_by_actor['Movie genres'] != '']\n",
    "\n",
    "# Define genre mappings to group similar genres\n",
    "genre_mappings = {\n",
    "    'Drama': ['Drama', 'Family Drama', 'Comedy-drama', 'Melodrama', 'Docudrama'],\n",
    "    'Comedy': ['Comedy', 'Romantic comedy', 'Comedy-drama', 'Black comedy'],\n",
    "    'Action/Adventure': ['Action', 'Adventure', 'Action/Adventure', 'Thriller', 'War film'],\n",
    "    'Crime': ['Crime Fiction', 'Crime film', 'Detective fiction', 'Film noir'],\n",
    "    'Historical': ['Period piece', 'Historical fiction', 'Biography', 'History'],\n",
    "    'Romance': ['Romance Film', 'Romantic drama', 'Romantic comedy'],\n",
    "    'Musical': ['Musical', 'Music film', 'Opera film', 'Concert film'],\n",
    "    'Horror': ['Horror', 'Supernatural horror', 'Slasher', 'Psychological horror'],\n",
    "    'Western': ['Western', 'Spaghetti Western', 'Contemporary Western'],\n",
    "    'SciFi/Fantasy': ['Science Fiction', 'Fantasy', 'Superhero film', 'Space opera'],\n",
    "    'Documentary': ['Documentary', 'Docudrama', 'Documentary drama'],\n",
    "    'Animation': ['Animation', 'Anime', 'Stop motion', 'Computer animation'],\n",
    "    'Other': [] # Will catch any genres not matched above\n",
    "}\n",
    "\n",
    "# Map genres to their groups\n",
    "def map_genre(genre):\n",
    "    for group, genres in genre_mappings.items():\n",
    "        if any(g.lower() in genre.lower() for g in genres):\n",
    "            return group\n",
    "    return 'Other'\n",
    "\n",
    "genre_by_actor['Movie genres'] = genre_by_actor['Movie genres'].apply(map_genre)\n",
    "\n",
    "# Count genres for each actor\n",
    "genre_counts = genre_by_actor.groupby(['Actor name', 'Movie genres']).size().reset_index(name='count')\n",
    "\n",
    "# Filter to only include genres that appear frequently\n",
    "min_appearances = 5\n",
    "frequent_genres = genre_counts.groupby('Movie genres')['count'].sum().reset_index()\n",
    "frequent_genres = frequent_genres[frequent_genres['count'] >= min_appearances]['Movie genres']\n",
    "genre_counts = genre_counts[genre_counts['Movie genres'].isin(frequent_genres)]\n",
    "\n",
    "# Create a grouped bar chart\n",
    "fig = px.bar(genre_counts, \n",
    "             x='Actor name', \n",
    "             y='count',\n",
    "             color='Movie genres',\n",
    "             title='Major Film Genres by Oscar-Winning Actor',\n",
    "             labels={'count': 'Number of Movies', 'Actor name': 'Actor'},\n",
    "             height=800)\n",
    "\n",
    "# Update layout for better readability\n",
    "fig.update_layout(\n",
    "    xaxis={'categoryorder':'total descending'},\n",
    "    showlegend=True,\n",
    "    legend_title='Genre',\n",
    "    barmode='stack',\n",
    "    xaxis_tickangle=-45\n",
    ")\n",
    "\n",
    "fig.show()"
   ]
  }
 ],
 "metadata": {
  "kernelspec": {
   "display_name": "Python 3",
   "language": "python",
   "name": "python3"
  },
  "language_info": {
   "codemirror_mode": {
    "name": "ipython",
    "version": 3
   },
   "file_extension": ".py",
   "mimetype": "text/x-python",
   "name": "python",
   "nbconvert_exporter": "python",
   "pygments_lexer": "ipython3",
   "version": "3.13.0"
  }
 },
 "nbformat": 4,
 "nbformat_minor": 2
}
