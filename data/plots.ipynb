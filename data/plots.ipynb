{
 "cells": [
  {
   "cell_type": "code",
   "execution_count": 5,
   "metadata": {},
   "outputs": [
    {
     "name": "stderr",
     "output_type": "stream",
     "text": [
      "C:\\Users\\wahid\\AppData\\Local\\Temp\\ipykernel_30944\\2971480383.py:6: DtypeWarning:\n",
      "\n",
      "Columns (16) have mixed types. Specify dtype option on import or set low_memory=False.\n",
      "\n"
     ]
    },
    {
     "data": {
      "text/html": [
       "<div>\n",
       "<style scoped>\n",
       "    .dataframe tbody tr th:only-of-type {\n",
       "        vertical-align: middle;\n",
       "    }\n",
       "\n",
       "    .dataframe tbody tr th {\n",
       "        vertical-align: top;\n",
       "    }\n",
       "\n",
       "    .dataframe thead th {\n",
       "        text-align: right;\n",
       "    }\n",
       "</style>\n",
       "<table border=\"1\" class=\"dataframe\">\n",
       "  <thead>\n",
       "    <tr style=\"text-align: right;\">\n",
       "      <th></th>\n",
       "      <th>wikipedia_id</th>\n",
       "      <th>dataset_id</th>\n",
       "      <th>title</th>\n",
       "      <th>release_date</th>\n",
       "      <th>box_office</th>\n",
       "      <th>runtime</th>\n",
       "      <th>languages</th>\n",
       "      <th>countries</th>\n",
       "      <th>genres</th>\n",
       "      <th>reviewScores</th>\n",
       "      <th>awardsReceived</th>\n",
       "      <th>awardsNominated</th>\n",
       "      <th>capitalCost</th>\n",
       "      <th>release date</th>\n",
       "      <th>categories</th>\n",
       "      <th>nbOscarReceived</th>\n",
       "      <th>nbOscarNominated</th>\n",
       "    </tr>\n",
       "  </thead>\n",
       "  <tbody>\n",
       "    <tr>\n",
       "      <th>0</th>\n",
       "      <td>29988427.0</td>\n",
       "      <td>/m/0cryrj0</td>\n",
       "      <td>!Women Art Revolution</td>\n",
       "      <td>2010-09-01</td>\n",
       "      <td>NaN</td>\n",
       "      <td>83.0</td>\n",
       "      <td>['English']</td>\n",
       "      <td>['United States of America', 'Canada']</td>\n",
       "      <td>['LGBT', 'History', 'Documentary']</td>\n",
       "      <td>NaN</td>\n",
       "      <td>[]</td>\n",
       "      <td>[]</td>\n",
       "      <td>NaN</td>\n",
       "      <td>NaN</td>\n",
       "      <td>['Documentary', 'Historical &amp; Period', 'Other']</td>\n",
       "      <td>NaN</td>\n",
       "      <td>NaN</td>\n",
       "    </tr>\n",
       "    <tr>\n",
       "      <th>1</th>\n",
       "      <td>54213693.0</td>\n",
       "      <td>Q22123892</td>\n",
       "      <td>\"Hataraku Saibō!!\" Saikyō no Teki, Futatabi. K...</td>\n",
       "      <td>NaN</td>\n",
       "      <td>NaN</td>\n",
       "      <td>NaN</td>\n",
       "      <td>NaN</td>\n",
       "      <td>NaN</td>\n",
       "      <td>NaN</td>\n",
       "      <td>NaN</td>\n",
       "      <td>['']</td>\n",
       "      <td>['']</td>\n",
       "      <td>NaN</td>\n",
       "      <td>NaN</td>\n",
       "      <td>['']</td>\n",
       "      <td>NaN</td>\n",
       "      <td>NaN</td>\n",
       "    </tr>\n",
       "    <tr>\n",
       "      <th>2</th>\n",
       "      <td>72256712.0</td>\n",
       "      <td>Q115213551</td>\n",
       "      <td>\"Sr.\"</td>\n",
       "      <td>2022-01-01</td>\n",
       "      <td>NaN</td>\n",
       "      <td>NaN</td>\n",
       "      <td>NaN</td>\n",
       "      <td>['United States of America']</td>\n",
       "      <td>['']</td>\n",
       "      <td>NaN</td>\n",
       "      <td>['Grierson Awards']</td>\n",
       "      <td>['']</td>\n",
       "      <td>NaN</td>\n",
       "      <td>2022</td>\n",
       "      <td>['']</td>\n",
       "      <td>NaN</td>\n",
       "      <td>NaN</td>\n",
       "    </tr>\n",
       "    <tr>\n",
       "      <th>3</th>\n",
       "      <td>30332673.0</td>\n",
       "      <td>/m/0crs0hx</td>\n",
       "      <td>#1 Cheerleader Camp</td>\n",
       "      <td>2010-01-01</td>\n",
       "      <td>NaN</td>\n",
       "      <td>90.0</td>\n",
       "      <td>NaN</td>\n",
       "      <td>['United States of America']</td>\n",
       "      <td>['Sports', 'Sex comedy', 'Comedy film', 'Comed...</td>\n",
       "      <td>NaN</td>\n",
       "      <td>[]</td>\n",
       "      <td>[]</td>\n",
       "      <td>NaN</td>\n",
       "      <td>NaN</td>\n",
       "      <td>['Drama', 'Sports', 'Comedy']</td>\n",
       "      <td>NaN</td>\n",
       "      <td>NaN</td>\n",
       "    </tr>\n",
       "    <tr>\n",
       "      <th>4</th>\n",
       "      <td>61446919.0</td>\n",
       "      <td>Q85740993</td>\n",
       "      <td>#Alive</td>\n",
       "      <td>2020-06-24</td>\n",
       "      <td>NaN</td>\n",
       "      <td>NaN</td>\n",
       "      <td>['Korean']</td>\n",
       "      <td>['South Korea']</td>\n",
       "      <td>['zombie', 'apocalyptic']</td>\n",
       "      <td>0.77</td>\n",
       "      <td>['']</td>\n",
       "      <td>['']</td>\n",
       "      <td>NaN</td>\n",
       "      <td>2020</td>\n",
       "      <td>['Horror', 'Action &amp; Adventure']</td>\n",
       "      <td>NaN</td>\n",
       "      <td>NaN</td>\n",
       "    </tr>\n",
       "    <tr>\n",
       "      <th>...</th>\n",
       "      <td>...</td>\n",
       "      <td>...</td>\n",
       "      <td>...</td>\n",
       "      <td>...</td>\n",
       "      <td>...</td>\n",
       "      <td>...</td>\n",
       "      <td>...</td>\n",
       "      <td>...</td>\n",
       "      <td>...</td>\n",
       "      <td>...</td>\n",
       "      <td>...</td>\n",
       "      <td>...</td>\n",
       "      <td>...</td>\n",
       "      <td>...</td>\n",
       "      <td>...</td>\n",
       "      <td>...</td>\n",
       "      <td>...</td>\n",
       "    </tr>\n",
       "    <tr>\n",
       "      <th>108955</th>\n",
       "      <td>12680019.0</td>\n",
       "      <td>/m/02x07kx</td>\n",
       "      <td>…All the Marbles</td>\n",
       "      <td>1981-01-01</td>\n",
       "      <td>NaN</td>\n",
       "      <td>113.0</td>\n",
       "      <td>['English']</td>\n",
       "      <td>['United States of America']</td>\n",
       "      <td>['Drama', 'Comedy-drama', 'Comedy']</td>\n",
       "      <td>NaN</td>\n",
       "      <td>[]</td>\n",
       "      <td>[]</td>\n",
       "      <td>NaN</td>\n",
       "      <td>NaN</td>\n",
       "      <td>['Drama', 'Comedy']</td>\n",
       "      <td>NaN</td>\n",
       "      <td>NaN</td>\n",
       "    </tr>\n",
       "    <tr>\n",
       "      <th>108956</th>\n",
       "      <td>27718784.0</td>\n",
       "      <td>/m/0cc744m</td>\n",
       "      <td>…and there wasn’t everafter…</td>\n",
       "      <td>NaN</td>\n",
       "      <td>NaN</td>\n",
       "      <td>21.0</td>\n",
       "      <td>['English']</td>\n",
       "      <td>['India']</td>\n",
       "      <td>['Short Film']</td>\n",
       "      <td>NaN</td>\n",
       "      <td>[]</td>\n",
       "      <td>[]</td>\n",
       "      <td>NaN</td>\n",
       "      <td>NaN</td>\n",
       "      <td>['Other']</td>\n",
       "      <td>NaN</td>\n",
       "      <td>NaN</td>\n",
       "    </tr>\n",
       "    <tr>\n",
       "      <th>108957</th>\n",
       "      <td>8277007.0</td>\n",
       "      <td>/m/026yqtg</td>\n",
       "      <td>…men Olsenbanden var ikke død</td>\n",
       "      <td>1984-01-01</td>\n",
       "      <td>NaN</td>\n",
       "      <td>89.0</td>\n",
       "      <td>['Norwegian']</td>\n",
       "      <td>['Norway']</td>\n",
       "      <td>['Crime Fiction', 'Comedy']</td>\n",
       "      <td>NaN</td>\n",
       "      <td>[]</td>\n",
       "      <td>[]</td>\n",
       "      <td>NaN</td>\n",
       "      <td>NaN</td>\n",
       "      <td>['Drama', 'Comedy']</td>\n",
       "      <td>NaN</td>\n",
       "      <td>NaN</td>\n",
       "    </tr>\n",
       "    <tr>\n",
       "      <th>108958</th>\n",
       "      <td>33021454.0</td>\n",
       "      <td>/m/0h54w6f</td>\n",
       "      <td>₤500 Reward</td>\n",
       "      <td>1918-01-01</td>\n",
       "      <td>NaN</td>\n",
       "      <td>NaN</td>\n",
       "      <td>['Silent film', 'English']</td>\n",
       "      <td>NaN</td>\n",
       "      <td>['Silent film']</td>\n",
       "      <td>NaN</td>\n",
       "      <td>[]</td>\n",
       "      <td>[]</td>\n",
       "      <td>NaN</td>\n",
       "      <td>NaN</td>\n",
       "      <td>['Other']</td>\n",
       "      <td>NaN</td>\n",
       "      <td>NaN</td>\n",
       "    </tr>\n",
       "    <tr>\n",
       "      <th>108959</th>\n",
       "      <td>6081671.0</td>\n",
       "      <td>/m/0fp5sw</td>\n",
       "      <td>春田花花同學會</td>\n",
       "      <td>2006-01-26</td>\n",
       "      <td>NaN</td>\n",
       "      <td>95.0</td>\n",
       "      <td>['Cantonese']</td>\n",
       "      <td>['Hong Kong']</td>\n",
       "      <td>['Chinese Movies', \"Children's\", 'Comedy', 'An...</td>\n",
       "      <td>NaN</td>\n",
       "      <td>[]</td>\n",
       "      <td>[]</td>\n",
       "      <td>NaN</td>\n",
       "      <td>NaN</td>\n",
       "      <td>['Animated &amp; Family', 'Comedy', 'Other']</td>\n",
       "      <td>NaN</td>\n",
       "      <td>NaN</td>\n",
       "    </tr>\n",
       "  </tbody>\n",
       "</table>\n",
       "<p>108960 rows × 17 columns</p>\n",
       "</div>"
      ],
      "text/plain": [
       "        wikipedia_id  dataset_id  \\\n",
       "0         29988427.0  /m/0cryrj0   \n",
       "1         54213693.0   Q22123892   \n",
       "2         72256712.0  Q115213551   \n",
       "3         30332673.0  /m/0crs0hx   \n",
       "4         61446919.0   Q85740993   \n",
       "...              ...         ...   \n",
       "108955    12680019.0  /m/02x07kx   \n",
       "108956    27718784.0  /m/0cc744m   \n",
       "108957     8277007.0  /m/026yqtg   \n",
       "108958    33021454.0  /m/0h54w6f   \n",
       "108959     6081671.0   /m/0fp5sw   \n",
       "\n",
       "                                                    title release_date  \\\n",
       "0                                   !Women Art Revolution   2010-09-01   \n",
       "1       \"Hataraku Saibō!!\" Saikyō no Teki, Futatabi. K...          NaN   \n",
       "2                                                   \"Sr.\"   2022-01-01   \n",
       "3                                     #1 Cheerleader Camp   2010-01-01   \n",
       "4                                                  #Alive   2020-06-24   \n",
       "...                                                   ...          ...   \n",
       "108955                                   …All the Marbles   1981-01-01   \n",
       "108956                       …and there wasn’t everafter…          NaN   \n",
       "108957                      …men Olsenbanden var ikke død   1984-01-01   \n",
       "108958                                        ₤500 Reward   1918-01-01   \n",
       "108959                                            春田花花同學會   2006-01-26   \n",
       "\n",
       "        box_office  runtime                   languages  \\\n",
       "0              NaN     83.0                 ['English']   \n",
       "1              NaN      NaN                         NaN   \n",
       "2              NaN      NaN                         NaN   \n",
       "3              NaN     90.0                         NaN   \n",
       "4              NaN      NaN                  ['Korean']   \n",
       "...            ...      ...                         ...   \n",
       "108955         NaN    113.0                 ['English']   \n",
       "108956         NaN     21.0                 ['English']   \n",
       "108957         NaN     89.0               ['Norwegian']   \n",
       "108958         NaN      NaN  ['Silent film', 'English']   \n",
       "108959         NaN     95.0               ['Cantonese']   \n",
       "\n",
       "                                     countries  \\\n",
       "0       ['United States of America', 'Canada']   \n",
       "1                                          NaN   \n",
       "2                 ['United States of America']   \n",
       "3                 ['United States of America']   \n",
       "4                              ['South Korea']   \n",
       "...                                        ...   \n",
       "108955            ['United States of America']   \n",
       "108956                               ['India']   \n",
       "108957                              ['Norway']   \n",
       "108958                                     NaN   \n",
       "108959                           ['Hong Kong']   \n",
       "\n",
       "                                                   genres  reviewScores  \\\n",
       "0                      ['LGBT', 'History', 'Documentary']           NaN   \n",
       "1                                                     NaN           NaN   \n",
       "2                                                    ['']           NaN   \n",
       "3       ['Sports', 'Sex comedy', 'Comedy film', 'Comed...           NaN   \n",
       "4                               ['zombie', 'apocalyptic']          0.77   \n",
       "...                                                   ...           ...   \n",
       "108955                ['Drama', 'Comedy-drama', 'Comedy']           NaN   \n",
       "108956                                     ['Short Film']           NaN   \n",
       "108957                        ['Crime Fiction', 'Comedy']           NaN   \n",
       "108958                                    ['Silent film']           NaN   \n",
       "108959  ['Chinese Movies', \"Children's\", 'Comedy', 'An...           NaN   \n",
       "\n",
       "             awardsReceived awardsNominated  capitalCost release date  \\\n",
       "0                        []              []          NaN          NaN   \n",
       "1                      ['']            ['']          NaN          NaN   \n",
       "2       ['Grierson Awards']            ['']          NaN         2022   \n",
       "3                        []              []          NaN          NaN   \n",
       "4                      ['']            ['']          NaN         2020   \n",
       "...                     ...             ...          ...          ...   \n",
       "108955                   []              []          NaN          NaN   \n",
       "108956                   []              []          NaN          NaN   \n",
       "108957                   []              []          NaN          NaN   \n",
       "108958                   []              []          NaN          NaN   \n",
       "108959                   []              []          NaN          NaN   \n",
       "\n",
       "                                             categories nbOscarReceived  \\\n",
       "0       ['Documentary', 'Historical & Period', 'Other']             NaN   \n",
       "1                                                  ['']             NaN   \n",
       "2                                                  ['']             NaN   \n",
       "3                         ['Drama', 'Sports', 'Comedy']             NaN   \n",
       "4                      ['Horror', 'Action & Adventure']             NaN   \n",
       "...                                                 ...             ...   \n",
       "108955                              ['Drama', 'Comedy']             NaN   \n",
       "108956                                        ['Other']             NaN   \n",
       "108957                              ['Drama', 'Comedy']             NaN   \n",
       "108958                                        ['Other']             NaN   \n",
       "108959         ['Animated & Family', 'Comedy', 'Other']             NaN   \n",
       "\n",
       "       nbOscarNominated  \n",
       "0                   NaN  \n",
       "1                   NaN  \n",
       "2                   NaN  \n",
       "3                   NaN  \n",
       "4                   NaN  \n",
       "...                 ...  \n",
       "108955              NaN  \n",
       "108956              NaN  \n",
       "108957              NaN  \n",
       "108958              NaN  \n",
       "108959              NaN  \n",
       "\n",
       "[108960 rows x 17 columns]"
      ]
     },
     "execution_count": 5,
     "metadata": {},
     "output_type": "execute_result"
    }
   ],
   "source": [
    "import pandas as pd\n",
    "import plotly.express as px\n",
    "\n",
    "# Load your dataset (replace 'file_path' with your dataset path)\n",
    "file_path = 'film_full_2.csv'\n",
    "movies_df = pd.read_csv(file_path)\n",
    "\n",
    "movies_df"
   ]
  },
  {
   "cell_type": "code",
   "execution_count": 6,
   "metadata": {},
   "outputs": [],
   "source": [
    "from operator import contains\n",
    "\n",
    "\n",
    "def get_num_awards(awards):\n",
    "    if pd.isna(awards):\n",
    "        return 0\n",
    "    if len(awards) <= 4:\n",
    "        return 0\n",
    "    awards = awards.replace(\"[\", \"\").replace(\"]\", \"\").replace(\"'\", \"\").split(\",\")\n",
    "    return len(awards)\n",
    "\n",
    "movies_df['nbOscarReceived'].value_counts()\n",
    "\n",
    "movies_df['nbOscarReceived'] = movies_df['nbOscarReceived'].apply(lambda x: 0 if pd.isna(x) else int(x.split(\" \")[0]) if isinstance(x, str) else x)\n",
    "movies_df['nbOscarNominated'] = movies_df['nbOscarNominated'].apply(lambda x: 0 if pd.isna(x) else int(x.split(\"[\")[0]) if isinstance(x, str) else x)\n",
    "\n",
    "# movies_df['num_awards'] = movies_df['awardsNominated'].apply(get_num_awards) + movies_df['awardsReceived'].apply(get_num_awards) + movies_df['nbOscarReceived'] + movies_df['nbOscarNominated']\n",
    "movies_df['num_awards'] = movies_df['awardsNominated'].apply(get_num_awards) + movies_df['nbOscarReceived']"
   ]
  },
  {
   "cell_type": "code",
   "execution_count": 7,
   "metadata": {},
   "outputs": [
    {
     "data": {
      "application/vnd.plotly.v1+json": {
       "config": {
        "plotlyServerURL": "https://plot.ly"
       },
       "data": [
        {
         "customdata": [
          [
           "10 Days in Sun City"
          ],
          [
           "A Fantastic Woman"
          ],
          [
           "Arrhythmia"
          ],
          [
           "Beauty and the Beast"
          ],
          [
           "Blade Runner 2049"
          ],
          [
           "C'est la vie!"
          ],
          [
           "Call Me by Your Name"
          ],
          [
           "Coco"
          ],
          [
           "Darkest Hour"
          ],
          [
           "Dunkirk"
          ],
          [
           "Get Out"
          ],
          [
           "I, Tonya"
          ],
          [
           "Jungle"
          ],
          [
           "Lady Bird"
          ],
          [
           "Let the Corpses Tan"
          ],
          [
           "Logan"
          ],
          [
           "Molly's Game"
          ],
          [
           "Murder on the Orient Express"
          ],
          [
           "Phantom Thread"
          ],
          [
           "Star Wars: Episode VIII – The Last Jedi"
          ],
          [
           "The Death of Stalin"
          ],
          [
           "The Disaster Artist"
          ],
          [
           "The Florida Project"
          ],
          [
           "The LEGO Batman Movie"
          ],
          [
           "The Shape of Water"
          ],
          [
           "The Villainess"
          ],
          [
           "Three Billboards Outside Ebbing, Missouri"
          ],
          [
           "Valérian and the City of a Thousand Planets"
          ]
         ],
         "hovertemplate": "release_date=2017<br>Box Office Revenue=%{x}<br>num_awards=%{y}<br>title=%{customdata[0]}<extra></extra>",
         "legendgroup": "2017",
         "marker": {
          "color": "#636efa",
          "symbol": "circle"
         },
         "mode": "markers",
         "name": "2017",
         "orientation": "v",
         "showlegend": true,
         "type": "scatter",
         "x": [
          176700000,
          3730327,
          66336524,
          1263521126,
          259239658,
          27700000,
          43143046,
          807817888,
          150847274,
          526940665,
          255745157,
          18844022,
          1906640,
          78986478,
          93409,
          619021436,
          59284015,
          352789811,
          47700000,
          1332698830,
          24646055,
          29820616,
          4870688,
          312136671,
          194349972,
          8830002,
          158773427,
          225164110
         ],
         "xaxis": "x",
         "y": [
          1,
          1,
          1,
          2,
          2,
          2,
          4,
          2,
          3,
          4,
          2,
          2,
          1,
          2,
          2,
          1,
          1,
          1,
          1,
          1,
          2,
          1,
          1,
          1,
          6,
          1,
          3,
          1
         ],
         "yaxis": "y"
        },
        {
         "customdata": [
          [
           "12 Years a Slave"
          ],
          [
           "20 Feet from Stardom"
          ],
          [
           "Blue Jasmine"
          ],
          [
           "Dallas Buyers Club"
          ],
          [
           "Frozen"
          ],
          [
           "Great (Great (Isambard Kingdom Brunel))"
          ],
          [
           "Ida"
          ],
          [
           "Inocente"
          ]
         ],
         "hovertemplate": "release_date=2013<br>Box Office Revenue=%{x}<br>num_awards=%{y}<br>title=%{customdata[0]}<extra></extra>",
         "legendgroup": "2013",
         "marker": {
          "color": "#EF553B",
          "symbol": "circle"
         },
         "mode": "markers",
         "name": "2013",
         "orientation": "v",
         "showlegend": true,
         "type": "scatter",
         "x": [
          56671993,
          4946445,
          33405481,
          27298285,
          400953009,
          144857996,
          3827060,
          2142342
         ],
         "xaxis": "x",
         "y": [
          3,
          1,
          1,
          3,
          2,
          1,
          1,
          1
         ],
         "yaxis": "y"
        },
        {
         "customdata": [
          [
           "1917"
          ],
          [
           "Aladdin"
          ],
          [
           "Colette"
          ],
          [
           "Ford v Ferrari"
          ],
          [
           "Glass (Glas)"
          ],
          [
           "Jojo Rabbit"
          ],
          [
           "Joker"
          ],
          [
           "Les Misérables"
          ],
          [
           "Little Women"
          ],
          [
           "Little Women"
          ],
          [
           "Marona's Fantastic Tale"
          ],
          [
           "Marriage Story"
          ],
          [
           "Once Upon a Time in Hollywood"
          ],
          [
           "Pain and Glory"
          ],
          [
           "Parasite"
          ],
          [
           "Portrait of a Lady on Fire"
          ],
          [
           "Rocketman"
          ],
          [
           "Shaft"
          ],
          [
           "So Long, My Son"
          ],
          [
           "The Traitor"
          ],
          [
           "Top End Wedding"
          ],
          [
           "Toy Story 4"
          ],
          [
           "Zavera"
          ]
         ],
         "hovertemplate": "release_date=2019<br>Box Office Revenue=%{x}<br>num_awards=%{y}<br>title=%{customdata[0]}<extra></extra>",
         "legendgroup": "2019",
         "marker": {
          "color": "#00cc96",
          "symbol": "circle"
         },
         "mode": "markers",
         "name": "2019",
         "orientation": "v",
         "showlegend": true,
         "type": "scatter",
         "x": [
          384919389,
          1050693953,
          5137622,
          172535062,
          111048468,
          90335025,
          1074458282,
          18900000,
          108101214,
          218843645,
          49714,
          232737,
          374343626,
          1626406,
          263136741,
          10106374,
          182581610,
          21360215,
          8096596,
          5329455,
          3681669,
          1073166397,
          1670
         ],
         "xaxis": "x",
         "y": [
          3,
          2,
          1,
          2,
          1,
          1,
          2,
          6,
          1,
          1,
          1,
          1,
          2,
          5,
          8,
          4,
          1,
          1,
          3,
          5,
          3,
          1,
          2
         ],
         "yaxis": "y"
        },
        {
         "customdata": [
          [
           "20,000 Leagues Under the Sea"
          ],
          [
           "A Star Is Born"
          ],
          [
           "Broken Lance"
          ],
          [
           "On the Waterfront"
          ],
          [
           "Sabrina"
          ],
          [
           "Seven Brides for Seven Brothers"
          ],
          [
           "The Barefoot Contessa"
          ],
          [
           "The Bridges at Toko-Ri"
          ],
          [
           "The Country Girl"
          ],
          [
           "The High and the Mighty"
          ],
          [
           "Young at Heart"
          ]
         ],
         "hovertemplate": "release_date=1954<br>Box Office Revenue=%{x}<br>num_awards=%{y}<br>title=%{customdata[0]}<extra></extra>",
         "legendgroup": "1954",
         "marker": {
          "color": "#ab63fa",
          "symbol": "circle"
         },
         "mode": "markers",
         "name": "1954",
         "orientation": "v",
         "showlegend": true,
         "type": "scatter",
         "x": [
          11267000,
          6000000,
          3800000,
          9600000,
          4000000,
          5000000,
          3250000,
          4700000,
          6900000,
          8500000,
          2500000
         ],
         "xaxis": "x",
         "y": [
          2,
          1,
          1,
          8,
          1,
          1,
          1,
          1,
          2,
          1,
          1
         ],
         "yaxis": "y"
        },
        {
         "customdata": [
          [
           "20,000 Species of Bees"
          ],
          [
           "Barbie"
          ],
          [
           "Godzilla Minus One"
          ],
          [
           "How to Have Sex"
          ],
          [
           "Jokes and cigarettes"
          ],
          [
           "Oppenheimer"
          ],
          [
           "Poor Things"
          ],
          [
           "The Little Mermaid"
          ]
         ],
         "hovertemplate": "release_date=2023<br>Box Office Revenue=%{x}<br>num_awards=%{y}<br>title=%{customdata[0]}<extra></extra>",
         "legendgroup": "2023",
         "marker": {
          "color": "#FFA15A",
          "symbol": "circle"
         },
         "mode": "markers",
         "name": "2023",
         "orientation": "v",
         "showlegend": true,
         "type": "scatter",
         "x": [
          1029862,
          1345183126,
          58463707,
          892340,
          986586,
          955300000,
          93499622,
          217500000
         ],
         "xaxis": "x",
         "y": [
          1,
          1,
          1,
          1,
          5,
          7,
          6,
          2
         ],
         "yaxis": "y"
        },
        {
         "customdata": [
          [
           "2001: A Space Odyssey"
          ],
          [
           "Bullitt"
          ],
          [
           "Charly"
          ],
          [
           "Funny Girl"
          ],
          [
           "Oliver!"
          ],
          [
           "Romeo and Juliet"
          ],
          [
           "Rosemary's Baby"
          ],
          [
           "The Lion in Winter"
          ],
          [
           "The Producers"
          ],
          [
           "The Thomas Crown Affair"
          ]
         ],
         "hovertemplate": "release_date=1968<br>Box Office Revenue=%{x}<br>num_awards=%{y}<br>title=%{customdata[0]}<extra></extra>",
         "legendgroup": "1968",
         "marker": {
          "color": "#19d3f3",
          "symbol": "circle"
         },
         "mode": "markers",
         "name": "1968",
         "orientation": "v",
         "showlegend": true,
         "type": "scatter",
         "x": [
          190000000,
          42300873,
          7260000,
          58500000,
          77402877,
          38901218,
          33395426,
          22276975,
          328673,
          14000000
         ],
         "xaxis": "x",
         "y": [
          1,
          1,
          1,
          1,
          5,
          2,
          1,
          3,
          1,
          1
         ],
         "yaxis": "y"
        },
        {
         "customdata": [
          [
           "8 Mile"
          ],
          [
           "Adaptation"
          ],
          [
           "Bowling for Columbine"
          ],
          [
           "Champion"
          ],
          [
           "Chicago"
          ],
          [
           "Frida"
          ],
          [
           "Road to Perdition"
          ],
          [
           "The Hours"
          ],
          [
           "The Lord of the Rings: The Two Towers"
          ],
          [
           "The Pianist"
          ],
          [
           "The Time Machine"
          ]
         ],
         "hovertemplate": "release_date=2002<br>Box Office Revenue=%{x}<br>num_awards=%{y}<br>title=%{customdata[0]}<extra></extra>",
         "legendgroup": "2002",
         "marker": {
          "color": "#FF6692",
          "symbol": "circle"
         },
         "mode": "markers",
         "name": "2002",
         "orientation": "v",
         "showlegend": true,
         "type": "scatter",
         "x": [
          242875078,
          32801173,
          58008423,
          10569737,
          306776732,
          25885000,
          181001478,
          108846072,
          926047111,
          120072577,
          123729176
         ],
         "xaxis": "x",
         "y": [
          1,
          1,
          1,
          1,
          6,
          2,
          1,
          1,
          2,
          3,
          1
         ],
         "yaxis": "y"
        },
        {
         "customdata": [
          [
           "A Beautiful Mind"
          ],
          [
           "Black Hawk Down"
          ],
          [
           "Gosford Park"
          ],
          [
           "Iris"
          ],
          [
           "Monster's Ball"
          ],
          [
           "Monsters, Inc."
          ],
          [
           "Moulin Rouge!"
          ],
          [
           "Pearl Harbor"
          ],
          [
           "Shrek"
          ],
          [
           "The Lord of the Rings: The Fellowship of the Ring"
          ],
          [
           "Traffic"
          ],
          [
           "Training Day"
          ]
         ],
         "hovertemplate": "release_date=2001<br>Box Office Revenue=%{x}<br>num_awards=%{y}<br>title=%{customdata[0]}<extra></extra>",
         "legendgroup": "2001",
         "marker": {
          "color": "#B6E880",
          "symbol": "circle"
         },
         "mode": "markers",
         "name": "2001",
         "orientation": "v",
         "showlegend": true,
         "type": "scatter",
         "x": [
          313542341,
          172989651,
          87754044,
          16153953,
          44909486,
          526366597,
          179213434,
          449220945,
          484409218,
          871530324,
          124115725,
          104876233
         ],
         "xaxis": "x",
         "y": [
          4,
          2,
          1,
          1,
          1,
          1,
          2,
          1,
          1,
          4,
          4,
          1
         ],
         "yaxis": "y"
        },
        {
         "customdata": [
          [
           "A Christmas Carol"
          ],
          [
           "Avatar"
          ],
          [
           "Crazy Heart"
          ],
          [
           "Fame"
          ],
          [
           "Inglourious Basterds"
          ],
          [
           "Precious"
          ],
          [
           "Star Trek"
          ],
          [
           "The Blind Side"
          ],
          [
           "The Box"
          ],
          [
           "The Cove"
          ],
          [
           "The Girl with the Dragon Tattoo"
          ],
          [
           "The Secret in Their Eyes"
          ],
          [
           "The Young Victoria"
          ],
          [
           "Up"
          ]
         ],
         "hovertemplate": "release_date=2009<br>Box Office Revenue=%{x}<br>num_awards=%{y}<br>title=%{customdata[0]}<extra></extra>",
         "legendgroup": "2009",
         "marker": {
          "color": "#FF97FF",
          "symbol": "circle"
         },
         "mode": "markers",
         "name": "2009",
         "orientation": "v",
         "showlegend": true,
         "type": "scatter",
         "x": [
          137855863,
          2782275172,
          47405566,
          77184633,
          320389438,
          47566524,
          385494555,
          309208309,
          15051977,
          1140043,
          104384415,
          33965279,
          27409889,
          731342744
         ],
         "xaxis": "x",
         "y": [
          1,
          3,
          2,
          2,
          1,
          2,
          1,
          1,
          1,
          1,
          1,
          1,
          1,
          1
         ],
         "yaxis": "y"
        },
        {
         "customdata": [
          [
           "A Damsel in Distress"
          ]
         ],
         "hovertemplate": "release_date=1937<br>Box Office Revenue=%{x}<br>num_awards=%{y}<br>title=%{customdata[0]}<extra></extra>",
         "legendgroup": "1937",
         "marker": {
          "color": "#FECB52",
          "symbol": "circle"
         },
         "mode": "markers",
         "name": "1937",
         "orientation": "v",
         "showlegend": true,
         "type": "scatter",
         "x": [
          1465000
         ],
         "xaxis": "x",
         "y": [
          1
         ],
         "yaxis": "y"
        },
        {
         "customdata": [
          [
           "A Fish Called Wanda"
          ],
          [
           "Babette's Feast (Babettes gæstebud)"
          ],
          [
           "Beetlejuice"
          ],
          [
           "Bird"
          ],
          [
           "Dangerous Liaisons"
          ],
          [
           "Mississippi Burning"
          ],
          [
           "Pelle the Conqueror (Pelle erobreren)"
          ],
          [
           "Rain Man"
          ],
          [
           "The Accidental Tourist"
          ],
          [
           "The Accused"
          ],
          [
           "The Milagro Beanfield War"
          ],
          [
           "Who Framed Roger Rabbit"
          ],
          [
           "Working Girl"
          ]
         ],
         "hovertemplate": "release_date=1988<br>Box Office Revenue=%{x}<br>num_awards=%{y}<br>title=%{customdata[0]}<extra></extra>",
         "legendgroup": "1988",
         "marker": {
          "color": "#636efa",
          "symbol": "circle"
         },
         "mode": "markers",
         "name": "1988",
         "orientation": "v",
         "showlegend": true,
         "type": "scatter",
         "x": [
          62493712,
          4398938,
          73707461,
          2181286,
          34700000,
          34603943,
          2063688,
          354825435,
          32632093,
          32078318,
          13825794,
          329803958,
          102953112
         ],
         "xaxis": "x",
         "y": [
          1,
          1,
          1,
          1,
          3,
          1,
          1,
          4,
          1,
          1,
          1,
          3,
          1
         ],
         "yaxis": "y"
        },
        {
         "customdata": [
          [
           "A Funny Thing Happened on the Way to the Forum"
          ],
          [
           "A Man and a Woman"
          ],
          [
           "Fantastic Voyage"
          ],
          [
           "Grand Prix"
          ],
          [
           "Stagecoach"
          ],
          [
           "The Fortune Cookie"
          ],
          [
           "Who's Afraid of Virginia Woolf?"
          ]
         ],
         "hovertemplate": "release_date=1966<br>Box Office Revenue=%{x}<br>num_awards=%{y}<br>title=%{customdata[0]}<extra></extra>",
         "legendgroup": "1966",
         "marker": {
          "color": "#EF553B",
          "symbol": "circle"
         },
         "mode": "markers",
         "name": "1966",
         "orientation": "v",
         "showlegend": true,
         "type": "scatter",
         "x": [
          3000000,
          14000000,
          12000000,
          20845016,
          3500000,
          6000000,
          40000000
         ],
         "xaxis": "x",
         "y": [
          1,
          2,
          2,
          3,
          2,
          1,
          5
         ],
         "yaxis": "y"
        },
        {
         "customdata": [
          [
           "A Man Called Ove"
          ],
          [
           "American Sniper"
          ],
          [
           "Amy"
          ],
          [
           "Ant-Man"
          ],
          [
           "Avengers: Age of Ultron"
          ],
          [
           "Bridge of Spies"
          ],
          [
           "Brooklyn"
          ],
          [
           "Ex Machina"
          ],
          [
           "Green Room"
          ],
          [
           "Inside Out"
          ],
          [
           "Lion"
          ],
          [
           "Liza, the Fox-Fairy"
          ],
          [
           "Look Who's Back"
          ],
          [
           "Mad Max: Fury Road"
          ],
          [
           "Neon Bull"
          ],
          [
           "Partisan"
          ],
          [
           "Paths of the Soul"
          ],
          [
           "Selma"
          ],
          [
           "Spectre"
          ],
          [
           "Spotlight"
          ],
          [
           "Still Alice"
          ],
          [
           "Straight Outta Compton"
          ],
          [
           "The Big Short"
          ],
          [
           "The Brand New Testament"
          ],
          [
           "The Clan"
          ],
          [
           "The Danish Girl"
          ],
          [
           "The Dressmaker"
          ],
          [
           "The Hateful Eight"
          ],
          [
           "The Martian"
          ],
          [
           "The Revenant"
          ],
          [
           "Youth"
          ]
         ],
         "hovertemplate": "release_date=2015<br>Box Office Revenue=%{x}<br>num_awards=%{y}<br>title=%{customdata[0]}<extra></extra>",
         "legendgroup": "2015",
         "marker": {
          "color": "#00cc96",
          "symbol": "circle"
         },
         "mode": "markers",
         "name": "2015",
         "orientation": "v",
         "showlegend": true,
         "type": "scatter",
         "x": [
          28700000,
          350159020,
          25000000,
          519311965,
          1402805868,
          165478348,
          62000000,
          25442958,
          3807503,
          356461711,
          140300000,
          540928,
          25513752,
          375709470,
          148913,
          91430,
          100100000,
          52076908,
          880674609,
          88346473,
          18754371,
          201600000,
          133346506,
          15700000,
          20381995,
          64191523,
          24000000,
          155760117,
          630161890,
          532950503,
          24000000
         ],
         "xaxis": "x",
         "y": [
          3,
          1,
          2,
          12,
          14,
          2,
          1,
          1,
          1,
          1,
          14,
          13,
          1,
          16,
          1,
          4,
          1,
          1,
          2,
          4,
          1,
          1,
          2,
          2,
          1,
          2,
          11,
          1,
          1,
          3,
          6
         ],
         "yaxis": "y"
        },
        {
         "customdata": [
          [
           "A Midsummer Night's Dream"
          ],
          [
           "Mutiny on the Bounty"
          ],
          [
           "The Informer"
          ]
         ],
         "hovertemplate": "release_date=1935<br>Box Office Revenue=%{x}<br>num_awards=%{y}<br>title=%{customdata[0]}<extra></extra>",
         "legendgroup": "1935",
         "marker": {
          "color": "#ab63fa",
          "symbol": "circle"
         },
         "mode": "markers",
         "name": "1935",
         "orientation": "v",
         "showlegend": true,
         "type": "scatter",
         "x": [
          1229000,
          4460000,
          950000
         ],
         "xaxis": "x",
         "y": [
          2,
          1,
          4
         ],
         "yaxis": "y"
        },
        {
         "customdata": [
          [
           "A Midsummer Night's Dream"
          ],
          [
           "American Beauty"
          ],
          [
           "Boys Don't Cry"
          ],
          [
           "Girl, Interrupted"
          ],
          [
           "Sleepy Hollow"
          ],
          [
           "Tarzan"
          ],
          [
           "The Cider House Rules"
          ],
          [
           "The Hurricane"
          ],
          [
           "The King and I"
          ],
          [
           "The Matrix"
          ],
          [
           "The Red Violin (Le violon rouge)"
          ],
          [
           "The Thomas Crown Affair"
          ]
         ],
         "hovertemplate": "release_date=1999<br>Box Office Revenue=%{x}<br>num_awards=%{y}<br>title=%{customdata[0]}<extra></extra>",
         "legendgroup": "1999",
         "marker": {
          "color": "#FFA15A",
          "symbol": "circle"
         },
         "mode": "markers",
         "name": "1999",
         "orientation": "v",
         "showlegend": true,
         "type": "scatter",
         "x": [
          16071990,
          356296601,
          11533945,
          48350205,
          206071502,
          448191819,
          88545092,
          73956241,
          11993021,
          463517383,
          10019109,
          124305181
         ],
         "xaxis": "x",
         "y": [
          2,
          5,
          1,
          1,
          1,
          1,
          2,
          1,
          5,
          4,
          1,
          1
         ],
         "yaxis": "y"
        },
        {
         "customdata": [
          [
           "A Passage to India"
          ],
          [
           "Amadeus"
          ],
          [
           "Dune"
          ],
          [
           "Indiana Jones and the Temple of Doom"
          ],
          [
           "Places in the Heart"
          ],
          [
           "Purple Rain"
          ],
          [
           "The Killing Fields"
          ],
          [
           "The Razor's Edge"
          ],
          [
           "The Times of Harvey Milk"
          ],
          [
           "The Woman in Red"
          ]
         ],
         "hovertemplate": "release_date=1984<br>Box Office Revenue=%{x}<br>num_awards=%{y}<br>title=%{customdata[0]}<extra></extra>",
         "legendgroup": "1984",
         "marker": {
          "color": "#19d3f3",
          "symbol": "circle"
         },
         "mode": "markers",
         "name": "1984",
         "orientation": "v",
         "showlegend": true,
         "type": "scatter",
         "x": [
          27187653,
          51973029,
          30925690,
          333107271,
          34901614,
          68392977,
          34700291,
          6551987,
          29802,
          25308147
         ],
         "xaxis": "x",
         "y": [
          2,
          8,
          6,
          1,
          2,
          1,
          3,
          1,
          1,
          1
         ],
         "yaxis": "y"
        },
        {
         "customdata": [
          [
           "A Place in the Sun"
          ],
          [
           "A Streetcar Named Desire"
          ],
          [
           "An American in Paris"
          ],
          [
           "Here Comes the Groom"
          ],
          [
           "When Worlds Collide"
          ]
         ],
         "hovertemplate": "release_date=1951<br>Box Office Revenue=%{x}<br>num_awards=%{y}<br>title=%{customdata[0]}<extra></extra>",
         "legendgroup": "1951",
         "marker": {
          "color": "#FF6692",
          "symbol": "circle"
         },
         "mode": "markers",
         "name": "1951",
         "orientation": "v",
         "showlegend": true,
         "type": "scatter",
         "x": [
          7000000,
          8000000,
          4500000,
          2550000,
          1600000
         ],
         "xaxis": "x",
         "y": [
          6,
          4,
          6,
          1,
          1
         ],
         "yaxis": "y"
        },
        {
         "customdata": [
          [
           "A Room with a View"
          ],
          [
           "Aliens"
          ],
          [
           "Children of a Lesser God"
          ],
          [
           "Hannah and Her Sisters"
          ],
          [
           "Platoon"
          ],
          [
           "The Color of Money"
          ],
          [
           "The Fly"
          ],
          [
           "The Fly (A Légy)"
          ],
          [
           "The Mission"
          ],
          [
           "Top Gun"
          ]
         ],
         "hovertemplate": "release_date=1986<br>Box Office Revenue=%{x}<br>num_awards=%{y}<br>title=%{customdata[0]}<extra></extra>",
         "legendgroup": "1986",
         "marker": {
          "color": "#B6E880",
          "symbol": "circle"
         },
         "mode": "markers",
         "name": "1986",
         "orientation": "v",
         "showlegend": true,
         "type": "scatter",
         "x": [
          20966644,
          131060248,
          31853080,
          59000000,
          138530565,
          52293982,
          60629159,
          40456565,
          17218023,
          353816701
         ],
         "xaxis": "x",
         "y": [
          3,
          2,
          1,
          3,
          4,
          1,
          1,
          1,
          1,
          1
         ],
         "yaxis": "y"
        },
        {
         "customdata": [
          [
           "A Star Is Born"
          ],
          [
           "Alice in Wonderland"
          ],
          [
           "All the President's Men"
          ],
          [
           "Rocky"
          ],
          [
           "The Omen"
          ]
         ],
         "hovertemplate": "release_date=1976<br>Box Office Revenue=%{x}<br>num_awards=%{y}<br>title=%{customdata[0]}<extra></extra>",
         "legendgroup": "1976",
         "marker": {
          "color": "#FF97FF",
          "symbol": "circle"
         },
         "mode": "markers",
         "name": "1976",
         "orientation": "v",
         "showlegend": true,
         "type": "scatter",
         "x": [
          80000000,
          90000000,
          70600000,
          225000000,
          60922980
         ],
         "xaxis": "x",
         "y": [
          1,
          2,
          4,
          3,
          1
         ],
         "yaxis": "y"
        },
        {
         "customdata": [
          [
           "A Star Is Born"
          ],
          [
           "Ash Is Purest White"
          ],
          [
           "Avengers: Infinity War"
          ],
          [
           "Birds of Passage"
          ],
          [
           "Black Panther"
          ],
          [
           "Bohemian Rhapsody"
          ],
          [
           "Early Man"
          ],
          [
           "Fantastic Beasts: The Crimes of Grindelwald"
          ],
          [
           "Girl"
          ],
          [
           "Green Book"
          ],
          [
           "Mamma Mia! Here We Go Again"
          ],
          [
           "Peter Rabbit"
          ],
          [
           "Real Love"
          ],
          [
           "Roma"
          ],
          [
           "Shadow"
          ],
          [
           "Shoplifters"
          ],
          [
           "Spider-Man: Into the Spider-Verse"
          ],
          [
           "The Guilty"
          ],
          [
           "They Shall Not Grow Old"
          ],
          [
           "Unforgiven"
          ],
          [
           "Upgrade"
          ]
         ],
         "hovertemplate": "release_date=2018<br>Box Office Revenue=%{x}<br>num_awards=%{y}<br>title=%{customdata[0]}<extra></extra>",
         "legendgroup": "2018",
         "marker": {
          "color": "#FECB52",
          "symbol": "circle"
         },
         "mode": "markers",
         "name": "2018",
         "orientation": "v",
         "showlegend": true,
         "type": "scatter",
         "x": [
          430718255,
          12000000,
          2048359754,
          1409188,
          1347597973,
          903655259,
          54622814,
          654855901,
          4100000,
          321752656,
          394700000,
          351300000,
          665603,
          1140769,
          91700000,
          67999335,
          363800000,
          4598051,
          17956913,
          5710418,
          14316615
         ],
         "xaxis": "x",
         "y": [
          1,
          1,
          1,
          1,
          3,
          4,
          1,
          1,
          4,
          3,
          1,
          2,
          1,
          6,
          1,
          1,
          1,
          3,
          1,
          4,
          5
         ],
         "yaxis": "y"
        },
        {
         "customdata": [
          [
           "A Touch of Class"
          ],
          [
           "Day for Night (La Nuit américaine)"
          ],
          [
           "Lost Horizon"
          ],
          [
           "Paper Moon"
          ],
          [
           "The Exorcist"
          ],
          [
           "The Sting"
          ],
          [
           "The Way We Were"
          ]
         ],
         "hovertemplate": "release_date=1973<br>Box Office Revenue=%{x}<br>num_awards=%{y}<br>title=%{customdata[0]}<extra></extra>",
         "legendgroup": "1973",
         "marker": {
          "color": "#636efa",
          "symbol": "circle"
         },
         "mode": "markers",
         "name": "1973",
         "orientation": "v",
         "showlegend": true,
         "type": "scatter",
         "x": [
          16800000,
          509,
          3000000,
          30933743,
          441071011,
          159616327,
          49919870
         ],
         "xaxis": "x",
         "y": [
          1,
          1,
          2,
          1,
          2,
          7,
          2
         ],
         "yaxis": "y"
        },
        {
         "customdata": [
          [
           "Adventures of Don Juan"
          ],
          [
           "Joan of Arc"
          ],
          [
           "Key Largo"
          ],
          [
           "The Red Shoes"
          ]
         ],
         "hovertemplate": "release_date=1948<br>Box Office Revenue=%{x}<br>num_awards=%{y}<br>title=%{customdata[0]}<extra></extra>",
         "legendgroup": "1948",
         "marker": {
          "color": "#EF553B",
          "symbol": "circle"
         },
         "mode": "markers",
         "name": "1948",
         "orientation": "v",
         "showlegend": true,
         "type": "scatter",
         "x": [
          5000000,
          5768142,
          8125000,
          5000000
         ],
         "xaxis": "x",
         "y": [
          1,
          2,
          1,
          2
         ],
         "yaxis": "y"
        },
        {
         "customdata": [
          [
           "Affliction"
          ],
          [
           "Character (Karakter)"
          ],
          [
           "Elizabeth"
          ],
          [
           "Gods and Monsters"
          ],
          [
           "Great Expectations"
          ],
          [
           "La Cucaracha"
          ],
          [
           "Les Misérables"
          ],
          [
           "Mighty Joe Young"
          ],
          [
           "Saving Private Ryan"
          ],
          [
           "Shakespeare in Love"
          ],
          [
           "Tango"
          ],
          [
           "The Prince of Egypt"
          ],
          [
           "What Dreams May Come"
          ]
         ],
         "hovertemplate": "release_date=1998<br>Box Office Revenue=%{x}<br>num_awards=%{y}<br>title=%{customdata[0]}<extra></extra>",
         "legendgroup": "1998",
         "marker": {
          "color": "#00cc96",
          "symbol": "circle"
         },
         "mode": "markers",
         "name": "1998",
         "orientation": "v",
         "showlegend": true,
         "type": "scatter",
         "x": [
          6330054,
          623983,
          82150642,
          6451628,
          26420672,
          14692,
          14096322,
          50632037,
          481840909,
          289317794,
          1687311,
          218613188,
          71485043
         ],
         "xaxis": "x",
         "y": [
          1,
          1,
          1,
          1,
          2,
          1,
          3,
          1,
          5,
          7,
          1,
          1,
          1
         ],
         "yaxis": "y"
        },
        {
         "customdata": [
          [
           "Aftersun"
          ],
          [
           "Alcarràs"
          ],
          [
           "Avatar: The Way of Water"
          ],
          [
           "Babylon"
          ],
          [
           "Black Panther: Wakanda Forever"
          ],
          [
           "Death on the Nile"
          ],
          [
           "Decision to Leave"
          ],
          [
           "Elvis"
          ],
          [
           "Empire of Light"
          ],
          [
           "Everything Everywhere All at Once"
          ],
          [
           "Glass Onion: A Knives Out Mystery"
          ],
          [
           "Holy Spider"
          ],
          [
           "Rise"
          ],
          [
           "Sonic the Hedgehog 2"
          ],
          [
           "Suzume"
          ],
          [
           "The Banshees of Inisherin"
          ],
          [
           "The Whale"
          ],
          [
           "Top Gun: Maverick"
          ],
          [
           "Tár"
          ],
          [
           "Uncharted"
          ]
         ],
         "hovertemplate": "release_date=2022<br>Box Office Revenue=%{x}<br>num_awards=%{y}<br>title=%{customdata[0]}<extra></extra>",
         "legendgroup": "2022",
         "marker": {
          "color": "#ab63fa",
          "symbol": "circle"
         },
         "mode": "markers",
         "name": "2022",
         "orientation": "v",
         "showlegend": true,
         "type": "scatter",
         "x": [
          8256890,
          2852615,
          2176229105,
          28551455,
          859208836,
          137307235,
          22863325,
          272075000,
          191343,
          97737200,
          15000000,
          1000915,
          10118003,
          401872904,
          323000000,
          49262687,
          17233000,
          1443725344,
          589168,
          231194293
         ],
         "xaxis": "x",
         "y": [
          4,
          4,
          2,
          1,
          1,
          1,
          1,
          2,
          1,
          8,
          2,
          4,
          1,
          1,
          3,
          1,
          13,
          3,
          2,
          1
         ],
         "yaxis": "y"
        },
        {
         "customdata": [
          [
           "Airport"
          ],
          [
           "Investigation of a Citizen Above Suspicion (Indagine su un cittadino al di sopra di ogni sospetto)"
          ],
          [
           "Love Story"
          ],
          [
           "M*A*S*H"
          ],
          [
           "Patton"
          ],
          [
           "Ryan's Daughter"
          ],
          [
           "Tora! Tora! Tora!"
          ],
          [
           "Woodstock"
          ]
         ],
         "hovertemplate": "release_date=1970<br>Box Office Revenue=%{x}<br>num_awards=%{y}<br>title=%{customdata[0]}<extra></extra>",
         "legendgroup": "1970",
         "marker": {
          "color": "#FFA15A",
          "symbol": "circle"
         },
         "mode": "markers",
         "name": "1970",
         "orientation": "v",
         "showlegend": true,
         "type": "scatter",
         "x": [
          100489151,
          265470,
          136397186,
          81600000,
          61749765,
          30846306,
          29548291,
          50000000
         ],
         "xaxis": "x",
         "y": [
          1,
          1,
          1,
          1,
          7,
          2,
          1,
          1
         ],
         "yaxis": "y"
        },
        {
         "customdata": [
          [
           "Aladdin"
          ],
          [
           "Bram Stoker's Dracula"
          ],
          [
           "Death Becomes Her"
          ],
          [
           "Gladiator"
          ],
          [
           "Howards End"
          ],
          [
           "My Cousin Vinny"
          ],
          [
           "The Crying Game"
          ],
          [
           "The Last of the Mohicans"
          ],
          [
           "Unforgiven"
          ],
          [
           "Van Gogh"
          ]
         ],
         "hovertemplate": "release_date=1992<br>Box Office Revenue=%{x}<br>num_awards=%{y}<br>title=%{customdata[0]}<extra></extra>",
         "legendgroup": "1992",
         "marker": {
          "color": "#19d3f3",
          "symbol": "circle"
         },
         "mode": "markers",
         "name": "1992",
         "orientation": "v",
         "showlegend": true,
         "type": "scatter",
         "x": [
          504050219,
          215862692,
          149022650,
          9223441,
          25966555,
          64088552,
          62548947,
          75505856,
          159157447,
          193205
         ],
         "xaxis": "x",
         "y": [
          2,
          3,
          1,
          5,
          3,
          1,
          1,
          1,
          4,
          1
         ],
         "yaxis": "y"
        },
        {
         "customdata": [
          [
           "Alexander's Ragtime Band"
          ],
          [
           "The Adventures of Robin Hood"
          ]
         ],
         "hovertemplate": "release_date=1938<br>Box Office Revenue=%{x}<br>num_awards=%{y}<br>title=%{customdata[0]}<extra></extra>",
         "legendgroup": "1938",
         "marker": {
          "color": "#FF6692",
          "symbol": "circle"
         },
         "mode": "markers",
         "name": "1938",
         "orientation": "v",
         "showlegend": true,
         "type": "scatter",
         "x": [
          3600000,
          3981000
         ],
         "xaxis": "x",
         "y": [
          1,
          3
         ],
         "yaxis": "y"
        },
        {
         "customdata": [
          [
           "Alice Doesn't Live Here Anymore"
          ],
          [
           "Chinatown"
          ],
          [
           "Earthquake"
          ],
          [
           "The Dove"
          ],
          [
           "The Godfather: Part II"
          ],
          [
           "The Great Gatsby"
          ],
          [
           "The Towering Inferno"
          ]
         ],
         "hovertemplate": "release_date=1974<br>Box Office Revenue=%{x}<br>num_awards=%{y}<br>title=%{customdata[0]}<extra></extra>",
         "legendgroup": "1974",
         "marker": {
          "color": "#B6E880",
          "symbol": "circle"
         },
         "mode": "markers",
         "name": "1974",
         "orientation": "v",
         "showlegend": true,
         "type": "scatter",
         "x": [
          18600000,
          29200000,
          79666653,
          329900,
          47834595,
          26533200,
          139700000
         ],
         "xaxis": "x",
         "y": [
          1,
          1,
          1,
          1,
          6,
          2,
          3
         ],
         "yaxis": "y"
        },
        {
         "customdata": [
          [
           "Alice in Wonderland"
          ],
          [
           "Beginners"
          ],
          [
           "Black Swan"
          ],
          [
           "In a Better World"
          ],
          [
           "Inception"
          ],
          [
           "Inside Job"
          ],
          [
           "Morning Glory"
          ],
          [
           "The Fighter"
          ],
          [
           "The Social Network"
          ],
          [
           "The Wolfman"
          ],
          [
           "Toy Story 3"
          ]
         ],
         "hovertemplate": "release_date=2010<br>Box Office Revenue=%{x}<br>num_awards=%{y}<br>title=%{customdata[0]}<extra></extra>",
         "legendgroup": "2010",
         "marker": {
          "color": "#FF97FF",
          "symbol": "circle"
         },
         "mode": "markers",
         "name": "2010",
         "orientation": "v",
         "showlegend": true,
         "type": "scatter",
         "x": [
          1024299904,
          14227969,
          329398046,
          9629826,
          825532764,
          7871522,
          31011732,
          129190869,
          224920315,
          142634358,
          1063171911
         ],
         "xaxis": "x",
         "y": [
          2,
          1,
          1,
          1,
          4,
          1,
          1,
          2,
          3,
          1,
          2
         ],
         "yaxis": "y"
        },
        {
         "customdata": [
          [
           "Alien"
          ],
          [
           "All That Jazz"
          ],
          [
           "Apocalypse Now"
          ],
          [
           "Being There"
          ],
          [
           "Breaking Away"
          ],
          [
           "Kramer vs. Kramer"
          ],
          [
           "Norma Rae"
          ],
          [
           "The Champ"
          ]
         ],
         "hovertemplate": "release_date=1979<br>Box Office Revenue=%{x}<br>num_awards=%{y}<br>title=%{customdata[0]}<extra></extra>",
         "legendgroup": "1979",
         "marker": {
          "color": "#FECB52",
          "symbol": "circle"
         },
         "mode": "markers",
         "name": "1979",
         "orientation": "v",
         "showlegend": true,
         "type": "scatter",
         "x": [
          104931801,
          37823676,
          78784010,
          30177511,
          20000000,
          106260000,
          22228000,
          30441738
         ],
         "xaxis": "x",
         "y": [
          1,
          4,
          2,
          1,
          1,
          5,
          2,
          2
         ],
         "yaxis": "y"
        },
        {
         "customdata": [
          [
           "All About Eve"
          ],
          [
           "Annie Get Your Gun"
          ],
          [
           "Born Yesterday"
          ],
          [
           "Cyrano de Bergerac"
          ],
          [
           "Harvey"
          ],
          [
           "King Solomon's Mines"
          ],
          [
           "Sunset Boulevard"
          ]
         ],
         "hovertemplate": "release_date=1950<br>Box Office Revenue=%{x}<br>num_awards=%{y}<br>title=%{customdata[0]}<extra></extra>",
         "legendgroup": "1950",
         "marker": {
          "color": "#636efa",
          "symbol": "circle"
         },
         "mode": "markers",
         "name": "1950",
         "orientation": "v",
         "showlegend": true,
         "type": "scatter",
         "x": [
          2900000,
          8000000,
          4150000,
          1900000,
          2600000,
          10050000,
          5000000
         ],
         "xaxis": "x",
         "y": [
          6,
          1,
          1,
          1,
          1,
          2,
          3
         ],
         "yaxis": "y"
        },
        {
         "customdata": [
          [
           "All About My Mother (Todo sobre mi madre)"
          ],
          [
           "Almost Famous"
          ],
          [
           "Boys and Girls"
          ],
          [
           "Crouching Tiger, Hidden Dragon"
          ],
          [
           "Erin Brockovich"
          ],
          [
           "Gladiator"
          ],
          [
           "Hamlet"
          ],
          [
           "How the Grinch Stole Christmas"
          ],
          [
           "Shaft"
          ],
          [
           "The Eyes of Tammy Faye"
          ],
          [
           "The Patriot"
          ],
          [
           "Topsy-Turvy"
          ],
          [
           "U-571"
          ],
          [
           "Wonder Boys"
          ]
         ],
         "hovertemplate": "release_date=2000<br>Box Office Revenue=%{x}<br>num_awards=%{y}<br>title=%{customdata[0]}<extra></extra>",
         "legendgroup": "2000",
         "marker": {
          "color": "#EF553B",
          "symbol": "circle"
         },
         "mode": "markers",
         "name": "2000",
         "orientation": "v",
         "showlegend": true,
         "type": "scatter",
         "x": [
          8344738,
          47383689,
          25850615,
          213525736,
          256271286,
          457640427,
          2046433,
          261415800,
          107196498,
          1029591,
          113330342,
          6208548,
          127666415,
          33426588
         ],
         "xaxis": "x",
         "y": [
          1,
          1,
          1,
          4,
          1,
          5,
          4,
          1,
          1,
          2,
          1,
          2,
          1,
          1
         ],
         "yaxis": "y"
        },
        {
         "customdata": [
          [
           "All the King's Men"
          ],
          [
           "An Inconvenient Truth"
          ],
          [
           "Babel"
          ],
          [
           "Dreamgirls"
          ],
          [
           "Happy Feet"
          ],
          [
           "Letters from Iwo Jima"
          ],
          [
           "Marie Antoinette"
          ],
          [
           "Once"
          ],
          [
           "The Departed"
          ],
          [
           "The Last King of Scotland"
          ],
          [
           "The Omen"
          ]
         ],
         "hovertemplate": "release_date=2006<br>Box Office Revenue=%{x}<br>num_awards=%{y}<br>title=%{customdata[0]}<extra></extra>",
         "legendgroup": "2006",
         "marker": {
          "color": "#00cc96",
          "symbol": "circle"
         },
         "mode": "markers",
         "name": "2006",
         "orientation": "v",
         "showlegend": true,
         "type": "scatter",
         "x": [
          7221458,
          49756507,
          135330182,
          154852975,
          384335608,
          68673228,
          60917189,
          20710513,
          289847354,
          48362207,
          119498909
         ],
         "xaxis": "x",
         "y": [
          3,
          2,
          1,
          2,
          1,
          1,
          1,
          1,
          4,
          1,
          1
         ],
         "yaxis": "y"
        },
        {
         "customdata": [
          [
           "An American Werewolf in London"
          ],
          [
           "Arthur"
          ],
          [
           "Chariots of Fire"
          ],
          [
           "On Golden Pond"
          ],
          [
           "Raiders of the Lost Ark"
          ],
          [
           "Reds"
          ]
         ],
         "hovertemplate": "release_date=1981<br>Box Office Revenue=%{x}<br>num_awards=%{y}<br>title=%{customdata[0]}<extra></extra>",
         "legendgroup": "1981",
         "marker": {
          "color": "#ab63fa",
          "symbol": "circle"
         },
         "mode": "markers",
         "name": "1981",
         "orientation": "v",
         "showlegend": true,
         "type": "scatter",
         "x": [
          61973249,
          95461682,
          58972904,
          119285432,
          248159971,
          50000000
         ],
         "xaxis": "x",
         "y": [
          1,
          2,
          4,
          3,
          4,
          3
         ],
         "yaxis": "y"
        },
        {
         "customdata": [
          [
           "An Officer and a Gentleman"
          ],
          [
           "E.T.: The Extra-Terrestrial"
          ],
          [
           "Gandhi"
          ],
          [
           "Sophie's Choice"
          ],
          [
           "Tempest"
          ],
          [
           "The Personals"
          ],
          [
           "Tootsie"
          ],
          [
           "Victor/Victoria"
          ]
         ],
         "hovertemplate": "release_date=1982<br>Box Office Revenue=%{x}<br>num_awards=%{y}<br>title=%{customdata[0]}<extra></extra>",
         "legendgroup": "1982",
         "marker": {
          "color": "#FFA15A",
          "symbol": "circle"
         },
         "mode": "markers",
         "name": "1982",
         "orientation": "v",
         "showlegend": true,
         "type": "scatter",
         "x": [
          129795554,
          439454989,
          52767889,
          30036000,
          5005245,
          2000000,
          177200000,
          28215453
         ],
         "xaxis": "x",
         "y": [
          2,
          4,
          8,
          1,
          1,
          1,
          1,
          1
         ],
         "yaxis": "y"
        },
        {
         "customdata": [
          [
           "Anastasia"
          ],
          [
           "Anna Karenina"
          ],
          [
           "As Good as It Gets"
          ],
          [
           "Good Will Hunting"
          ],
          [
           "L.A. Confidential"
          ],
          [
           "Life Is Beautiful (La vita è bella)"
          ],
          [
           "Men in Black"
          ],
          [
           "Titanic"
          ]
         ],
         "hovertemplate": "release_date=1997<br>Box Office Revenue=%{x}<br>num_awards=%{y}<br>title=%{customdata[0]}<extra></extra>",
         "legendgroup": "1997",
         "marker": {
          "color": "#19d3f3",
          "symbol": "circle"
         },
         "mode": "markers",
         "name": "1997",
         "orientation": "v",
         "showlegend": true,
         "type": "scatter",
         "x": [
          139804348,
          858553,
          314178011,
          225933435,
          126216940,
          57563264,
          589390539,
          2185372302
         ],
         "xaxis": "x",
         "y": [
          1,
          1,
          2,
          2,
          2,
          3,
          1,
          1
         ],
         "yaxis": "y"
        },
        {
         "customdata": [
          [
           "Anna Karenina"
          ],
          [
           "Argo"
          ],
          [
           "Brave"
          ],
          [
           "Silver Linings Playbook"
          ]
         ],
         "hovertemplate": "release_date=2012<br>Box Office Revenue=%{x}<br>num_awards=%{y}<br>title=%{customdata[0]}<extra></extra>",
         "legendgroup": "2012",
         "marker": {
          "color": "#FF6692",
          "symbol": "circle"
         },
         "mode": "markers",
         "name": "2012",
         "orientation": "v",
         "showlegend": true,
         "type": "scatter",
         "x": [
          9900000,
          67210347,
          531957538,
          132092958
         ],
         "xaxis": "x",
         "y": [
          1,
          3,
          1,
          1
         ],
         "yaxis": "y"
        },
        {
         "customdata": [
          [
           "Annie Hall"
          ],
          [
           "Close Encounters of the Third Kind"
          ],
          [
           "Julia"
          ],
          [
           "Star Wars"
          ],
          [
           "The Goodbye Girl"
          ]
         ],
         "hovertemplate": "release_date=1977<br>Box Office Revenue=%{x}<br>num_awards=%{y}<br>title=%{customdata[0]}<extra></extra>",
         "legendgroup": "1977",
         "marker": {
          "color": "#B6E880",
          "symbol": "circle"
         },
         "mode": "markers",
         "name": "1977",
         "orientation": "v",
         "showlegend": true,
         "type": "scatter",
         "x": [
          38251425,
          337700000,
          20714400,
          460998507,
          83700000
         ],
         "xaxis": "x",
         "y": [
          4,
          1,
          3,
          6,
          1
         ],
         "yaxis": "y"
        },
        {
         "customdata": [
          [
           "Antonia's Line (Antonia)"
          ],
          [
           "Evita"
          ],
          [
           "Fargo"
          ],
          [
           "Hamlet"
          ],
          [
           "Independence Day"
          ],
          [
           "Jerry Maguire"
          ],
          [
           "Kolya"
          ],
          [
           "Shine"
          ],
          [
           "Sling Blade"
          ],
          [
           "The English Patient"
          ],
          [
           "The Ghost and the Darkness"
          ],
          [
           "The Nutty Professor"
          ],
          [
           "The Substitute"
          ],
          [
           "When We Were Kings"
          ]
         ],
         "hovertemplate": "release_date=1996<br>Box Office Revenue=%{x}<br>num_awards=%{y}<br>title=%{customdata[0]}<extra></extra>",
         "legendgroup": "1996",
         "marker": {
          "color": "#FF97FF",
          "symbol": "circle"
         },
         "mode": "markers",
         "name": "1996",
         "orientation": "v",
         "showlegend": true,
         "type": "scatter",
         "x": [
          4228275,
          141047179,
          60611975,
          4708156,
          817400891,
          273552592,
          7730711,
          35892330,
          34175000,
          231976425,
          75019405,
          273961019,
          14818176,
          2789985
         ],
         "xaxis": "x",
         "y": [
          1,
          1,
          2,
          4,
          1,
          1,
          1,
          1,
          1,
          9,
          1,
          1,
          1,
          1
         ],
         "yaxis": "y"
        },
        {
         "customdata": [
          [
           "Apollo 13"
          ],
          [
           "Babe"
          ],
          [
           "Braveheart"
          ],
          [
           "Burnt by the Sun (Utomlyonnye solntsem)"
          ],
          [
           "Dead Man Walking"
          ],
          [
           "Leaving Las Vegas"
          ],
          [
           "Mighty Aphrodite"
          ],
          [
           "Pocahontas"
          ],
          [
           "Restoration"
          ],
          [
           "Sabrina"
          ],
          [
           "Sense and Sensibility"
          ]
         ],
         "hovertemplate": "release_date=1995<br>Box Office Revenue=%{x}<br>num_awards=%{y}<br>title=%{customdata[0]}<extra></extra>",
         "legendgroup": "1995",
         "marker": {
          "color": "#FECB52",
          "symbol": "circle"
         },
         "mode": "markers",
         "name": "1995",
         "orientation": "v",
         "showlegend": true,
         "type": "scatter",
         "x": [
          355237933,
          254134910,
          211409945,
          2302338,
          83088295,
          32029928,
          26000000,
          346079773,
          4005941,
          53458319,
          134993774
         ],
         "xaxis": "x",
         "y": [
          2,
          1,
          5,
          1,
          1,
          1,
          1,
          2,
          2,
          1,
          1
         ],
         "yaxis": "y"
        },
        {
         "customdata": [
          [
           "Around the World in 80 Days"
          ],
          [
           "Eternal Sunshine of the Spotless Mind"
          ],
          [
           "Finding Neverland"
          ],
          [
           "Lemony Snicket's A Series of Unfortunate Events"
          ],
          [
           "Million Dollar Baby"
          ],
          [
           "Ray"
          ],
          [
           "Sideways"
          ],
          [
           "Spider-Man 2"
          ],
          [
           "The Alamo"
          ],
          [
           "The Aviator"
          ],
          [
           "The Bridge of San Luis Rey"
          ],
          [
           "The Fog of War"
          ],
          [
           "The Incredibles"
          ],
          [
           "The Sea Inside"
          ]
         ],
         "hovertemplate": "release_date=2004<br>Box Office Revenue=%{x}<br>num_awards=%{y}<br>title=%{customdata[0]}<extra></extra>",
         "legendgroup": "2004",
         "marker": {
          "color": "#636efa",
          "symbol": "circle"
         },
         "mode": "markers",
         "name": "2004",
         "orientation": "v",
         "showlegend": true,
         "type": "scatter",
         "x": [
          24008137,
          72258126,
          118676606,
          209073645,
          216763646,
          124731534,
          109502303,
          783766341,
          25819961,
          213741459,
          49981,
          4198566,
          631442092,
          38535221
         ],
         "xaxis": "x",
         "y": [
          5,
          1,
          1,
          1,
          4,
          2,
          1,
          1,
          1,
          5,
          1,
          1,
          2,
          1
         ],
         "yaxis": "y"
        },
        {
         "customdata": [
          [
           "Arrival"
          ],
          [
           "Batman v Superman: Dawn of Justice"
          ],
          [
           "Ben-Hur"
          ],
          [
           "Bridget Jones's Baby"
          ],
          [
           "Captain America: Civil War"
          ],
          [
           "Chocolat"
          ],
          [
           "Earthquake"
          ],
          [
           "Elle"
          ],
          [
           "Fantastic Beasts and Where to Find Them"
          ],
          [
           "Fences"
          ],
          [
           "Florence Foster Jenkins"
          ],
          [
           "Frantz"
          ],
          [
           "Gods of Egypt"
          ],
          [
           "Gold"
          ],
          [
           "Hacksaw Ridge"
          ],
          [
           "Hell or High Water"
          ],
          [
           "Hidden Figures"
          ],
          [
           "La La Land"
          ],
          [
           "Lady Macbeth"
          ],
          [
           "Love & Friendship"
          ],
          [
           "Manchester by the Sea"
          ],
          [
           "Moonlight"
          ],
          [
           "Perfect Strangers"
          ],
          [
           "Rogue One: A Star Wars Story"
          ],
          [
           "Sing"
          ],
          [
           "Suicide Squad"
          ],
          [
           "The Accountant"
          ],
          [
           "The Jungle Book"
          ],
          [
           "The Love Witch"
          ],
          [
           "Zootopia"
          ]
         ],
         "hovertemplate": "release_date=2016<br>Box Office Revenue=%{x}<br>num_awards=%{y}<br>title=%{customdata[0]}<extra></extra>",
         "legendgroup": "2016",
         "marker": {
          "color": "#EF553B",
          "symbol": "circle"
         },
         "mode": "markers",
         "name": "2016",
         "orientation": "v",
         "showlegend": true,
         "type": "scatter",
         "x": [
          203388186,
          873637528,
          94061311,
          211952420,
          1153296293,
          4908376,
          3628615,
          2000000,
          814044001,
          64414761,
          48900000,
          7478354,
          150680864,
          14880939,
          180563636,
          35000000,
          235956898,
          471981104,
          5200000,
          21200000,
          38966212,
          65336603,
          21000000,
          1056057273,
          634151679,
          746846894,
          155160045,
          966550600,
          281063,
          1023784195
         ],
         "xaxis": "x",
         "y": [
          3,
          1,
          11,
          1,
          6,
          3,
          1,
          4,
          2,
          2,
          1,
          3,
          3,
          4,
          14,
          1,
          1,
          7,
          2,
          1,
          9,
          11,
          1,
          5,
          1,
          1,
          1,
          4,
          1,
          1
         ],
         "yaxis": "y"
        },
        {
         "customdata": [
          [
           "Arthur"
          ],
          [
           "Hugo"
          ],
          [
           "Midnight in Paris"
          ],
          [
           "Rango"
          ],
          [
           "The Artist"
          ],
          [
           "The Descendants"
          ],
          [
           "The Girl with the Dragon Tattoo"
          ],
          [
           "The Help"
          ],
          [
           "The Iron Lady"
          ],
          [
           "The Muppets"
          ],
          [
           "Undefeated"
          ]
         ],
         "hovertemplate": "release_date=2011<br>Box Office Revenue=%{x}<br>num_awards=%{y}<br>title=%{customdata[0]}<extra></extra>",
         "legendgroup": "2011",
         "marker": {
          "color": "#00cc96",
          "symbol": "circle"
         },
         "mode": "markers",
         "name": "2011",
         "orientation": "v",
         "showlegend": true,
         "type": "scatter",
         "x": [
          33035397,
          185770160,
          151119219,
          245375374,
          133432856,
          177243185,
          232617430,
          211608112,
          114943631,
          158431237,
          521476
         ],
         "xaxis": "x",
         "y": [
          2,
          5,
          1,
          1,
          5,
          1,
          1,
          1,
          2,
          1,
          1
         ],
         "yaxis": "y"
        },
        {
         "customdata": [
          [
           "Atonement"
          ],
          [
           "Elizabeth: The Golden Age"
          ],
          [
           "Feast"
          ],
          [
           "Juno"
          ],
          [
           "La Vie en rose"
          ],
          [
           "Michael Clayton"
          ],
          [
           "No Country for Old Men"
          ],
          [
           "Pan's Labyrinth (El laberinto del fauno)"
          ],
          [
           "Ratatouille"
          ],
          [
           "Sweeney Todd: The Demon Barber of Fleet Street"
          ],
          [
           "The Bourne Ultimatum"
          ],
          [
           "The Brave One"
          ],
          [
           "The Golden Compass"
          ],
          [
           "The Lives of Others (Das Leben der Anderen)"
          ],
          [
           "The Ten Commandments"
          ],
          [
           "There Will Be Blood"
          ]
         ],
         "hovertemplate": "release_date=2007<br>Box Office Revenue=%{x}<br>num_awards=%{y}<br>title=%{customdata[0]}<extra></extra>",
         "legendgroup": "2007",
         "marker": {
          "color": "#ab63fa",
          "symbol": "circle"
         },
         "mode": "markers",
         "name": "2007",
         "orientation": "v",
         "showlegend": true,
         "type": "scatter",
         "x": [
          129266061,
          74237563,
          56131,
          231411584,
          10301706,
          92991835,
          171627166,
          37646380,
          623722818,
          152523164,
          442824138,
          36793804,
          372234864,
          11286112,
          1051907,
          76181545
         ],
         "xaxis": "x",
         "y": [
          1,
          1,
          1,
          1,
          2,
          1,
          4,
          3,
          1,
          1,
          3,
          1,
          1,
          1,
          1,
          2
         ],
         "yaxis": "y"
        },
        {
         "customdata": [
          [
           "BUtterfield 8"
          ],
          [
           "La Dolce Vita"
          ],
          [
           "Spartacus"
          ],
          [
           "The Apartment"
          ],
          [
           "The Time Machine"
          ]
         ],
         "hovertemplate": "release_date=1960<br>Box Office Revenue=%{x}<br>num_awards=%{y}<br>title=%{customdata[0]}<extra></extra>",
         "legendgroup": "1960",
         "marker": {
          "color": "#FFA15A",
          "symbol": "circle"
         },
         "mode": "markers",
         "name": "1960",
         "orientation": "v",
         "showlegend": true,
         "type": "scatter",
         "x": [
          7552000,
          19516000,
          60000000,
          24600000,
          2610000
         ],
         "xaxis": "x",
         "y": [
          1,
          1,
          4,
          5,
          1
         ],
         "yaxis": "y"
        },
        {
         "customdata": [
          [
           "Back to the Future"
          ],
          [
           "Cocoon"
          ],
          [
           "King Solomon's Mines"
          ],
          [
           "Kiss of the Spider Woman"
          ],
          [
           "Mask"
          ],
          [
           "Out of Africa"
          ],
          [
           "Prizzi's Honor"
          ],
          [
           "The Aviator"
          ],
          [
           "The Official Story (La Historia Oficial)"
          ],
          [
           "White Nights"
          ],
          [
           "Witness"
          ]
         ],
         "hovertemplate": "release_date=1985<br>Box Office Revenue=%{x}<br>num_awards=%{y}<br>title=%{customdata[0]}<extra></extra>",
         "legendgroup": "1985",
         "marker": {
          "color": "#19d3f3",
          "symbol": "circle"
         },
         "mode": "markers",
         "name": "1985",
         "orientation": "v",
         "showlegend": true,
         "type": "scatter",
         "x": [
          383874862,
          85313124,
          14400000,
          17005229,
          108144200,
          128499205,
          26657534,
          1304192,
          29426,
          13046465,
          68706993
         ],
         "xaxis": "x",
         "y": [
          1,
          2,
          2,
          1,
          1,
          7,
          1,
          5,
          1,
          1,
          2
         ],
         "yaxis": "y"
        },
        {
         "customdata": [
          [
           "Barry Lyndon"
          ],
          [
           "Dog Day Afternoon"
          ],
          [
           "Jaws"
          ],
          [
           "Nashville"
          ],
          [
           "One Flew Over the Cuckoo's Nest"
          ],
          [
           "Shampoo"
          ]
         ],
         "hovertemplate": "release_date=1975<br>Box Office Revenue=%{x}<br>num_awards=%{y}<br>title=%{customdata[0]}<extra></extra>",
         "legendgroup": "1975",
         "marker": {
          "color": "#FF6692",
          "symbol": "circle"
         },
         "mode": "markers",
         "name": "1975",
         "orientation": "v",
         "showlegend": true,
         "type": "scatter",
         "x": [
          20000000,
          50000000,
          470653000,
          9984123,
          108981275,
          60000000
         ],
         "xaxis": "x",
         "y": [
          4,
          1,
          3,
          1,
          5,
          1
         ],
         "yaxis": "y"
        },
        {
         "customdata": [
          [
           "Batman"
          ],
          [
           "Born on the Fourth of July"
          ],
          [
           "Dead Poets Society"
          ],
          [
           "Driving Miss Daisy"
          ],
          [
           "Glory"
          ],
          [
           "Henry V"
          ],
          [
           "Henry V"
          ],
          [
           "My Left Foot"
          ],
          [
           "Sing"
          ],
          [
           "The Abyss"
          ],
          [
           "The Little Mermaid"
          ]
         ],
         "hovertemplate": "release_date=1989<br>Box Office Revenue=%{x}<br>num_awards=%{y}<br>title=%{customdata[0]}<extra></extra>",
         "legendgroup": "1989",
         "marker": {
          "color": "#B6E880",
          "symbol": "circle"
         },
         "mode": "markers",
         "name": "1989",
         "orientation": "v",
         "showlegend": true,
         "type": "scatter",
         "x": [
          411348924,
          232343002,
          235860116,
          145793296,
          26828365,
          10161099,
          10161099,
          14743391,
          2260616,
          90000098,
          211343479
         ],
         "xaxis": "x",
         "y": [
          1,
          2,
          1,
          4,
          3,
          1,
          1,
          2,
          1,
          1,
          2
         ],
         "yaxis": "y"
        },
        {
         "customdata": [
          [
           "Battleground"
          ],
          [
           "Champion"
          ],
          [
           "On the Town"
          ],
          [
           "The Heiress"
          ],
          [
           "Twelve O'Clock High"
          ]
         ],
         "hovertemplate": "release_date=1949<br>Box Office Revenue=%{x}<br>num_awards=%{y}<br>title=%{customdata[0]}<extra></extra>",
         "legendgroup": "1949",
         "marker": {
          "color": "#FF97FF",
          "symbol": "circle"
         },
         "mode": "markers",
         "name": "1949",
         "orientation": "v",
         "showlegend": true,
         "type": "scatter",
         "x": [
          4700000,
          2500000,
          2900000,
          2300000,
          3225000
         ],
         "xaxis": "x",
         "y": [
          2,
          1,
          1,
          4,
          2
         ],
         "yaxis": "y"
        },
        {
         "customdata": [
          [
           "Beauty and the Beast"
          ],
          [
           "Bugsy"
          ],
          [
           "City Slickers"
          ],
          [
           "Grand Canyon"
          ],
          [
           "JFK"
          ],
          [
           "Journey of Hope (Reise der Hoffnung)"
          ],
          [
           "The Fisher King"
          ],
          [
           "The Silence of the Lambs"
          ],
          [
           "Thelma & Louise"
          ]
         ],
         "hovertemplate": "release_date=1991<br>Box Office Revenue=%{x}<br>num_awards=%{y}<br>title=%{customdata[0]}<extra></extra>",
         "legendgroup": "1991",
         "marker": {
          "color": "#FECB52",
          "symbol": "circle"
         },
         "mode": "markers",
         "name": "1991",
         "orientation": "v",
         "showlegend": true,
         "type": "scatter",
         "x": [
          424967620,
          49114016,
          179033791,
          33243020,
          205400000,
          261718,
          41895491,
          272742922,
          45360915
         ],
         "xaxis": "x",
         "y": [
          2,
          2,
          1,
          1,
          2,
          1,
          1,
          5,
          1
         ],
         "yaxis": "y"
        },
        {
         "customdata": [
          [
           "Bedknobs and Broomsticks"
          ],
          [
           "Fiddler on the Roof"
          ],
          [
           "Klute"
          ],
          [
           "Summer of '42"
          ],
          [
           "The French Connection"
          ],
          [
           "The Garden of the Finzi-Continis (Il Giardino dei Finzi-Contini)"
          ],
          [
           "The Hospital"
          ],
          [
           "The Last Picture Show"
          ]
         ],
         "hovertemplate": "release_date=1971<br>Box Office Revenue=%{x}<br>num_awards=%{y}<br>title=%{customdata[0]}<extra></extra>",
         "legendgroup": "1971",
         "marker": {
          "color": "#636efa",
          "symbol": "circle"
         },
         "mode": "markers",
         "name": "1971",
         "orientation": "v",
         "showlegend": true,
         "type": "scatter",
         "x": [
          17871174,
          10404330,
          12512637,
          32063634,
          51700000,
          596694,
          14142409,
          29133000
         ],
         "xaxis": "x",
         "y": [
          1,
          3,
          1,
          1,
          5,
          1,
          1,
          2
         ],
         "yaxis": "y"
        },
        {
         "customdata": [
          [
           "Belfast"
          ],
          [
           "Blithe Spirit"
          ],
          [
           "Cruella"
          ],
          [
           "Drive My Car"
          ],
          [
           "Encanto"
          ],
          [
           "Judas and the Black Messiah"
          ],
          [
           "King Richard"
          ],
          [
           "No Time to Die"
          ],
          [
           "The Father"
          ]
         ],
         "hovertemplate": "release_date=2021<br>Box Office Revenue=%{x}<br>num_awards=%{y}<br>title=%{customdata[0]}<extra></extra>",
         "legendgroup": "2021",
         "marker": {
          "color": "#EF553B",
          "symbol": "circle"
         },
         "mode": "markers",
         "name": "2021",
         "orientation": "v",
         "showlegend": true,
         "type": "scatter",
         "x": [
          9250870,
          282500,
          86103234,
          2352240,
          96093622,
          5478009,
          15129285,
          160891007,
          2122771
         ],
         "xaxis": "x",
         "y": [
          1,
          1,
          1,
          1,
          1,
          2,
          1,
          1,
          2
         ],
         "yaxis": "y"
        },
        {
         "customdata": [
          [
           "Belle Epoque (The Beautiful Era)"
          ],
          [
           "Blue Sky"
          ],
          [
           "Bullets Over Broadway"
          ],
          [
           "Ed Wood"
          ],
          [
           "Fire at Sea"
          ],
          [
           "Forrest Gump"
          ],
          [
           "Legends of the Fall"
          ],
          [
           "Miracle on 34th Street"
          ],
          [
           "Pulp Fiction"
          ],
          [
           "Speed"
          ],
          [
           "The Adventures of Priscilla, Queen of the Desert"
          ],
          [
           "The Jungle Book"
          ],
          [
           "The Lion King"
          ],
          [
           "The Usual Suspects"
          ]
         ],
         "hovertemplate": "release_date=1994<br>Box Office Revenue=%{x}<br>num_awards=%{y}<br>title=%{customdata[0]}<extra></extra>",
         "legendgroup": "1994",
         "marker": {
          "color": "#00cc96",
          "symbol": "circle"
         },
         "mode": "markers",
         "name": "1994",
         "orientation": "v",
         "showlegend": true,
         "type": "scatter",
         "x": [
          5418216,
          3359465,
          13383747,
          5887457,
          1000000,
          677387716,
          66502573,
          46264384,
          213928762,
          350448145,
          29679915,
          43229904,
          951583777,
          23272306
         ],
         "xaxis": "x",
         "y": [
          1,
          1,
          1,
          2,
          4,
          6,
          1,
          3,
          1,
          2,
          1,
          1,
          2,
          2
         ],
         "yaxis": "y"
        },
        {
         "customdata": [
          [
           "Ben-Hur"
          ]
         ],
         "hovertemplate": "release_date=1925<br>Box Office Revenue=%{x}<br>num_awards=%{y}<br>title=%{customdata[0]}<extra></extra>",
         "legendgroup": "1925",
         "marker": {
          "color": "#ab63fa",
          "symbol": "circle"
         },
         "mode": "markers",
         "name": "1925",
         "orientation": "v",
         "showlegend": true,
         "type": "scatter",
         "x": [
          10738000
         ],
         "xaxis": "x",
         "y": [
          11
         ],
         "yaxis": "y"
        },
        {
         "customdata": [
          [
           "Ben-Hur"
          ],
          [
           "Separate Tables"
          ],
          [
           "Some Like It Hot"
          ]
         ],
         "hovertemplate": "release_date=1959<br>Box Office Revenue=%{x}<br>num_awards=%{y}<br>title=%{customdata[0]}<extra></extra>",
         "legendgroup": "1959",
         "marker": {
          "color": "#FFA15A",
          "symbol": "circle"
         },
         "mode": "markers",
         "name": "1959",
         "orientation": "v",
         "showlegend": true,
         "type": "scatter",
         "x": [
          146900000,
          7400000,
          25000000
         ],
         "xaxis": "x",
         "y": [
          11,
          2,
          1
         ],
         "yaxis": "y"
        },
        {
         "customdata": [
          [
           "Big Hero 6"
          ],
          [
           "Birdman or (The Unexpected Virtue of Ignorance)"
          ],
          [
           "Citizenfour"
          ],
          [
           "Her"
          ],
          [
           "The Grand Budapest Hotel"
          ],
          [
           "The Great Beauty"
          ],
          [
           "The Imitation Game"
          ],
          [
           "The Theory of Everything"
          ]
         ],
         "hovertemplate": "release_date=2014<br>Box Office Revenue=%{x}<br>num_awards=%{y}<br>title=%{customdata[0]}<extra></extra>",
         "legendgroup": "2014",
         "marker": {
          "color": "#19d3f3",
          "symbol": "circle"
         },
         "mode": "markers",
         "name": "2014",
         "orientation": "v",
         "showlegend": true,
         "type": "scatter",
         "x": [
          222527828,
          42340598,
          2800870,
          25568251,
          59301324,
          2852400,
          91125683,
          35893537
         ],
         "xaxis": "x",
         "y": [
          1,
          4,
          1,
          1,
          4,
          1,
          1,
          1
         ],
         "yaxis": "y"
        },
        {
         "customdata": [
          [
           "Bonnie and Clyde"
          ],
          [
           "Camelot"
          ],
          [
           "Cool Hand Luke"
          ],
          [
           "Doctor Dolittle"
          ],
          [
           "Guess Who's Coming to Dinner"
          ],
          [
           "In the Heat of the Night"
          ],
          [
           "The Dirty Dozen"
          ],
          [
           "The Graduate"
          ],
          [
           "The Jungle Book"
          ],
          [
           "Thoroughly Modern Millie"
          ]
         ],
         "hovertemplate": "release_date=1967<br>Box Office Revenue=%{x}<br>num_awards=%{y}<br>title=%{customdata[0]}<extra></extra>",
         "legendgroup": "1967",
         "marker": {
          "color": "#FF6692",
          "symbol": "circle"
         },
         "mode": "markers",
         "name": "1967",
         "orientation": "v",
         "showlegend": true,
         "type": "scatter",
         "x": [
          50700000,
          31102578,
          16217773,
          9000000,
          56666667,
          24379978,
          45300000,
          104901839,
          205843612,
          34335025
         ],
         "xaxis": "x",
         "y": [
          2,
          3,
          1,
          2,
          2,
          5,
          1,
          1,
          1,
          1
         ],
         "yaxis": "y"
        },
        {
         "customdata": [
          [
           "Born Yesterday"
          ],
          [
           "Jurassic Park"
          ],
          [
           "Mrs. Doubtfire"
          ],
          [
           "Philadelphia"
          ],
          [
           "Schindler's List"
          ],
          [
           "The Age of Innocence"
          ],
          [
           "The Fugitive"
          ],
          [
           "The Piano"
          ]
         ],
         "hovertemplate": "release_date=1993<br>Box Office Revenue=%{x}<br>num_awards=%{y}<br>title=%{customdata[0]}<extra></extra>",
         "legendgroup": "1993",
         "marker": {
          "color": "#B6E880",
          "symbol": "circle"
         },
         "mode": "markers",
         "name": "1993",
         "orientation": "v",
         "showlegend": true,
         "type": "scatter",
         "x": [
          17952857,
          914691118,
          441286195,
          206678440,
          321306305,
          32255440,
          368875760,
          40157856
         ],
         "xaxis": "x",
         "y": [
          1,
          3,
          1,
          2,
          7,
          1,
          1,
          3
         ],
         "yaxis": "y"
        },
        {
         "customdata": [
          [
           "Born into Brothels"
          ],
          [
           "Brokeback Mountain"
          ],
          [
           "Capote"
          ],
          [
           "Crash"
          ],
          [
           "Hustle & Flow"
          ],
          [
           "March of the Penguins (La Marche de l'empereur)"
          ],
          [
           "Memoirs of a Geisha"
          ],
          [
           "Saving Face"
          ],
          [
           "Syriana"
          ],
          [
           "The Constant Gardener"
          ],
          [
           "Tsotsi"
          ],
          [
           "Walk the Line"
          ],
          [
           "Wallace & Gromit: The Curse of the Were-Rabbit"
          ]
         ],
         "hovertemplate": "release_date=2005<br>Box Office Revenue=%{x}<br>num_awards=%{y}<br>title=%{customdata[0]}<extra></extra>",
         "legendgroup": "2005",
         "marker": {
          "color": "#FF97FF",
          "symbol": "circle"
         },
         "mode": "markers",
         "name": "2005",
         "orientation": "v",
         "showlegend": true,
         "type": "scatter",
         "x": [
          3515061,
          178062759,
          49233161,
          54580300,
          23563727,
          77437223,
          162242962,
          1187266,
          93974620,
          82466670,
          9879971,
          186438883,
          192610372
         ],
         "xaxis": "x",
         "y": [
          1,
          3,
          1,
          3,
          1,
          1,
          3,
          1,
          1,
          1,
          1,
          1,
          1
         ],
         "yaxis": "y"
        },
        {
         "customdata": [
          [
           "Breakfast at Tiffany's"
          ],
          [
           "Fanny & Alexander (Fanny och Alexander)"
          ],
          [
           "Judgment at Nuremberg"
          ],
          [
           "The Hustler"
          ],
          [
           "West Side Story"
          ]
         ],
         "hovertemplate": "release_date=1961<br>Box Office Revenue=%{x}<br>num_awards=%{y}<br>title=%{customdata[0]}<extra></extra>",
         "legendgroup": "1961",
         "marker": {
          "color": "#FECB52",
          "symbol": "circle"
         },
         "mode": "markers",
         "name": "1961",
         "orientation": "v",
         "showlegend": true,
         "type": "scatter",
         "x": [
          14000000,
          9996178,
          10000000,
          7600000,
          43700000
         ],
         "xaxis": "x",
         "y": [
          2,
          4,
          2,
          2,
          10
         ],
         "yaxis": "y"
        },
        {
         "customdata": [
          [
           "Butch Cassidy and the Sundance Kid"
          ],
          [
           "Cactus Flower"
          ],
          [
           "Hello, Dolly!"
          ],
          [
           "Midnight Cowboy"
          ],
          [
           "They Shoot Horses, Don't They?"
          ],
          [
           "True Grit"
          ],
          [
           "Z"
          ]
         ],
         "hovertemplate": "release_date=1969<br>Box Office Revenue=%{x}<br>num_awards=%{y}<br>title=%{customdata[0]}<extra></extra>",
         "legendgroup": "1969",
         "marker": {
          "color": "#636efa",
          "symbol": "circle"
         },
         "mode": "markers",
         "name": "1969",
         "orientation": "v",
         "showlegend": true,
         "type": "scatter",
         "x": [
          102308889,
          25889208,
          400881,
          44785053,
          12600000,
          31132592,
          14283305
         ],
         "xaxis": "x",
         "y": [
          4,
          1,
          3,
          3,
          1,
          1,
          2
         ],
         "yaxis": "y"
        },
        {
         "customdata": [
          [
           "Cabaret"
          ],
          [
           "The Discreet Charm of the Bourgeoisie (Le charme discret de la bourgeoisie)"
          ],
          [
           "The Godfather"
          ],
          [
           "The Poseidon Adventure"
          ]
         ],
         "hovertemplate": "release_date=1972<br>Box Office Revenue=%{x}<br>num_awards=%{y}<br>title=%{customdata[0]}<extra></extra>",
         "legendgroup": "1972",
         "marker": {
          "color": "#EF553B",
          "symbol": "circle"
         },
         "mode": "markers",
         "name": "1972",
         "orientation": "v",
         "showlegend": true,
         "type": "scatter",
         "x": [
          42765000,
          82471,
          268500000,
          93300000
         ],
         "xaxis": "x",
         "y": [
          8,
          1,
          3,
          1
         ],
         "yaxis": "y"
        },
        {
         "customdata": [
          [
           "Calamity Jane"
          ],
          [
           "Call Me Madam"
          ],
          [
           "From Here to Eternity"
          ],
          [
           "Lili"
          ],
          [
           "Peter & the Wolf"
          ],
          [
           "Roman Holiday"
          ],
          [
           "Shane"
          ],
          [
           "Stalag 17"
          ],
          [
           "The Glenn Miller Story"
          ],
          [
           "The Living Desert"
          ],
          [
           "The Robe"
          ],
          [
           "The War of the Worlds"
          ],
          [
           "Titanic"
          ]
         ],
         "hovertemplate": "release_date=1953<br>Box Office Revenue=%{x}<br>num_awards=%{y}<br>title=%{customdata[0]}<extra></extra>",
         "legendgroup": "1953",
         "marker": {
          "color": "#00cc96",
          "symbol": "circle"
         },
         "mode": "markers",
         "name": "1953",
         "orientation": "v",
         "showlegend": true,
         "type": "scatter",
         "x": [
          2500000,
          2850000,
          30500000,
          1500000,
          87404651,
          12000000,
          20000000,
          3300000,
          7000000,
          2600000,
          36000000,
          2000000,
          2250000
         ],
         "xaxis": "x",
         "y": [
          1,
          1,
          8,
          1,
          1,
          3,
          1,
          1,
          1,
          1,
          2,
          1,
          1
         ],
         "yaxis": "y"
        },
        {
         "customdata": [
          [
           "California Suite"
          ],
          [
           "Coming Home"
          ],
          [
           "Days of Heaven"
          ],
          [
           "Death on the Nile"
          ],
          [
           "Heaven Can Wait"
          ],
          [
           "Midnight Express"
          ],
          [
           "The Buddy Holly Story"
          ],
          [
           "The Deer Hunter"
          ]
         ],
         "hovertemplate": "release_date=1978<br>Box Office Revenue=%{x}<br>num_awards=%{y}<br>title=%{customdata[0]}<extra></extra>",
         "legendgroup": "1978",
         "marker": {
          "color": "#ab63fa",
          "symbol": "circle"
         },
         "mode": "markers",
         "name": "1978",
         "orientation": "v",
         "showlegend": true,
         "type": "scatter",
         "x": [
          42913571,
          32653905,
          3446749,
          14560084,
          81640278,
          35000000,
          14363400,
          50000000
         ],
         "xaxis": "x",
         "y": [
          1,
          3,
          1,
          1,
          1,
          2,
          1,
          5
         ],
         "yaxis": "y"
        },
        {
         "customdata": [
          [
           "Casablanca"
          ]
         ],
         "hovertemplate": "release_date=1943<br>Box Office Revenue=%{x}<br>num_awards=%{y}<br>title=%{customdata[0]}<extra></extra>",
         "legendgroup": "1943",
         "marker": {
          "color": "#FFA15A",
          "symbol": "circle"
         },
         "mode": "markers",
         "name": "1943",
         "orientation": "v",
         "showlegend": true,
         "type": "scatter",
         "x": [
          4219709
         ],
         "xaxis": "x",
         "y": [
          3
         ],
         "yaxis": "y"
        },
        {
         "customdata": [
          [
           "Cat Ballou"
          ],
          [
           "Doctor Zhivago"
          ],
          [
           "The Sound of Music"
          ],
          [
           "Thunderball"
          ]
         ],
         "hovertemplate": "release_date=1965<br>Box Office Revenue=%{x}<br>num_awards=%{y}<br>title=%{customdata[0]}<extra></extra>",
         "legendgroup": "1965",
         "marker": {
          "color": "#19d3f3",
          "symbol": "circle"
         },
         "mode": "markers",
         "name": "1965",
         "orientation": "v",
         "showlegend": true,
         "type": "scatter",
         "x": [
          20000000,
          111721910,
          286214286,
          141200000
         ],
         "xaxis": "x",
         "y": [
          1,
          5,
          5,
          1
         ],
         "yaxis": "y"
        },
        {
         "customdata": [
          [
           "Charade"
          ],
          [
           "Cleopatra"
          ],
          [
           "It's a Mad, Mad, Mad, Mad World"
          ],
          [
           "Tom Jones"
          ]
         ],
         "hovertemplate": "release_date=1963<br>Box Office Revenue=%{x}<br>num_awards=%{y}<br>title=%{customdata[0]}<extra></extra>",
         "legendgroup": "1963",
         "marker": {
          "color": "#FF6692",
          "symbol": "circle"
         },
         "mode": "markers",
         "name": "1963",
         "orientation": "v",
         "showlegend": true,
         "type": "scatter",
         "x": [
          13474588,
          57777778,
          46332858,
          11922000
         ],
         "xaxis": "x",
         "y": [
          1,
          4,
          1,
          4
         ],
         "yaxis": "y"
        },
        {
         "customdata": [
          [
           "Cinema Paradiso"
          ],
          [
           "Cyrano de Bergerac"
          ],
          [
           "Dances with Wolves"
          ],
          [
           "Dick Tracy"
          ],
          [
           "Ghost"
          ],
          [
           "Goodfellas"
          ],
          [
           "Hamlet"
          ],
          [
           "Misery"
          ],
          [
           "Reversal of Fortune"
          ],
          [
           "The Hunt for Red October"
          ]
         ],
         "hovertemplate": "release_date=1990<br>Box Office Revenue=%{x}<br>num_awards=%{y}<br>title=%{customdata[0]}<extra></extra>",
         "legendgroup": "1990",
         "marker": {
          "color": "#B6E880",
          "symbol": "circle"
         },
         "mode": "markers",
         "name": "1990",
         "orientation": "v",
         "showlegend": true,
         "type": "scatter",
         "x": [
          12397210,
          5820020,
          424208848,
          162738726,
          505702588,
          46836394,
          20710451,
          61276872,
          15445131,
          200512643
         ],
         "xaxis": "x",
         "y": [
          1,
          1,
          7,
          3,
          2,
          1,
          4,
          1,
          1,
          1
         ],
         "yaxis": "y"
        },
        {
         "customdata": [
          [
           "Citizen Kane"
          ],
          [
           "Dumbo"
          ],
          [
           "How Green Was My Valley"
          ],
          [
           "Sergeant York"
          ],
          [
           "Suspicion"
          ]
         ],
         "hovertemplate": "release_date=1941<br>Box Office Revenue=%{x}<br>num_awards=%{y}<br>title=%{customdata[0]}<extra></extra>",
         "legendgroup": "1941",
         "marker": {
          "color": "#FF97FF",
          "symbol": "circle"
         },
         "mode": "markers",
         "name": "1941",
         "orientation": "v",
         "showlegend": true,
         "type": "scatter",
         "x": [
          1585634,
          1600000,
          6000000,
          4000000,
          4500000
         ],
         "xaxis": "x",
         "y": [
          1,
          1,
          5,
          2,
          1
         ],
         "yaxis": "y"
        },
        {
         "customdata": [
          [
           "Coal Miner's Daughter"
          ],
          [
           "Fame"
          ],
          [
           "Ordinary People"
          ],
          [
           "Raging Bull"
          ],
          [
           "Tess"
          ],
          [
           "The Empire Strikes Back"
          ]
         ],
         "hovertemplate": "release_date=1980<br>Box Office Revenue=%{x}<br>num_awards=%{y}<br>title=%{customdata[0]}<extra></extra>",
         "legendgroup": "1980",
         "marker": {
          "color": "#FECB52",
          "symbol": "circle"
         },
         "mode": "markers",
         "name": "1980",
         "orientation": "v",
         "showlegend": true,
         "type": "scatter",
         "x": [
          67182787,
          21202829,
          54766923,
          23380203,
          20093330,
          292753960
         ],
         "xaxis": "x",
         "y": [
          1,
          2,
          4,
          2,
          3,
          1
         ],
         "yaxis": "y"
        },
        {
         "customdata": [
          [
           "Cold Mountain"
          ],
          [
           "Finding Nemo"
          ],
          [
           "Lost in Translation"
          ],
          [
           "Master and Commander: The Far Side of the World"
          ],
          [
           "Monster"
          ],
          [
           "Mystic River"
          ],
          [
           "Nowhere in Africa (Nirgendwo in Afrika)"
          ],
          [
           "Talk to Her (Hable con ella)"
          ],
          [
           "The Lord of the Rings: The Return of the King"
          ],
          [
           "Underworld"
          ]
         ],
         "hovertemplate": "release_date=2003<br>Box Office Revenue=%{x}<br>num_awards=%{y}<br>title=%{customdata[0]}<extra></extra>",
         "legendgroup": "2003",
         "marker": {
          "color": "#636efa",
          "symbol": "circle"
         },
         "mode": "markers",
         "name": "2003",
         "orientation": "v",
         "showlegend": true,
         "type": "scatter",
         "x": [
          173013509,
          921111197,
          119723856,
          212011111,
          60378584,
          156822020,
          6180200,
          9357911,
          1119929521,
          51970690
         ],
         "xaxis": "x",
         "y": [
          1,
          1,
          1,
          2,
          1,
          2,
          1,
          1,
          11,
          1
         ],
         "yaxis": "y"
        },
        {
         "customdata": [
          [
           "Come Back, Little Sheba"
          ],
          [
           "High Noon"
          ],
          [
           "Les Misérables"
          ],
          [
           "Plymouth Adventure"
          ],
          [
           "The Bad and the Beautiful"
          ],
          [
           "The Greatest Show on Earth"
          ],
          [
           "The Merry Widow"
          ],
          [
           "The Quiet Man"
          ],
          [
           "Viva Zapata!"
          ],
          [
           "With a Song in My Heart"
          ]
         ],
         "hovertemplate": "release_date=1952<br>Box Office Revenue=%{x}<br>num_awards=%{y}<br>title=%{customdata[0]}<extra></extra>",
         "legendgroup": "1952",
         "marker": {
          "color": "#EF553B",
          "symbol": "circle"
         },
         "mode": "markers",
         "name": "1952",
         "orientation": "v",
         "showlegend": true,
         "type": "scatter",
         "x": [
          3500000,
          8000000,
          1100000,
          3000000,
          2350000,
          12000000,
          4500000,
          3200000,
          1900000,
          3250000
         ],
         "xaxis": "x",
         "y": [
          1,
          4,
          3,
          1,
          5,
          2,
          1,
          2,
          1,
          1
         ],
         "yaxis": "y"
        },
        {
         "customdata": [
          [
           "Departures"
          ],
          [
           "Julia"
          ],
          [
           "Man on Wire"
          ],
          [
           "Milk"
          ],
          [
           "Slumdog Millionaire"
          ],
          [
           "The Counterfeiters (Die Fälscher)"
          ],
          [
           "The Curious Case of Benjamin Button"
          ],
          [
           "The Dark Knight"
          ],
          [
           "The Duchess"
          ],
          [
           "The Hurt Locker"
          ],
          [
           "The Reader"
          ],
          [
           "Vicky Cristina Barcelona"
          ],
          [
           "WALL-E"
          ]
         ],
         "hovertemplate": "release_date=2008<br>Box Office Revenue=%{x}<br>num_awards=%{y}<br>title=%{customdata[0]}<extra></extra>",
         "legendgroup": "2008",
         "marker": {
          "color": "#00cc96",
          "symbol": "circle"
         },
         "mode": "markers",
         "name": "2008",
         "orientation": "v",
         "showlegend": true,
         "type": "scatter",
         "x": [
          70000000,
          1327897,
          2962242,
          54501383,
          377910544,
          5488570,
          333932083,
          1004558444,
          43306325,
          49230772,
          108901967,
          96408652,
          521311860
         ],
         "xaxis": "x",
         "y": [
          1,
          3,
          1,
          2,
          8,
          1,
          3,
          2,
          1,
          6,
          1,
          1,
          1
         ],
         "yaxis": "y"
        },
        {
         "customdata": [
          [
           "Designing Woman"
          ],
          [
           "Nights of Cabiria (Le Notti di Cabiria)"
          ],
          [
           "Sayonara"
          ],
          [
           "The Bridge on the River Kwai"
          ],
          [
           "The Joker Is Wild"
          ],
          [
           "The Red Balloon (Le ballon rouge)"
          ],
          [
           "The Three Faces of Eve"
          ]
         ],
         "hovertemplate": "release_date=1957<br>Box Office Revenue=%{x}<br>num_awards=%{y}<br>title=%{customdata[0]}<extra></extra>",
         "legendgroup": "1957",
         "marker": {
          "color": "#ab63fa",
          "symbol": "circle"
         },
         "mode": "markers",
         "name": "1957",
         "orientation": "v",
         "showlegend": true,
         "type": "scatter",
         "x": [
          2250000,
          766530,
          22000115,
          33300000,
          3000000,
          34570,
          1400000
         ],
         "xaxis": "x",
         "y": [
          1,
          1,
          4,
          7,
          1,
          1,
          1
         ],
         "yaxis": "y"
        },
        {
         "customdata": [
          [
           "Dirty Dancing"
          ],
          [
           "Harry and the Hendersons"
          ],
          [
           "Innerspace"
          ],
          [
           "Moonstruck"
          ],
          [
           "No Man's Land"
          ],
          [
           "The Last Emperor"
          ],
          [
           "The Untouchables"
          ],
          [
           "Wall Street"
          ]
         ],
         "hovertemplate": "release_date=1987<br>Box Office Revenue=%{x}<br>num_awards=%{y}<br>title=%{customdata[0]}<extra></extra>",
         "legendgroup": "1987",
         "marker": {
          "color": "#FFA15A",
          "symbol": "circle"
         },
         "mode": "markers",
         "name": "1987",
         "orientation": "v",
         "showlegend": true,
         "type": "scatter",
         "x": [
          213954274,
          49998613,
          25893810,
          156239800,
          2877571,
          43984230,
          76270454,
          43848100
         ],
         "xaxis": "x",
         "y": [
          1,
          1,
          1,
          3,
          1,
          9,
          1,
          1
         ],
         "yaxis": "y"
        },
        {
         "customdata": [
          [
           "Dodsworth"
          ],
          [
           "San Francisco"
          ],
          [
           "Swing Time"
          ],
          [
           "The Milky Way"
          ]
         ],
         "hovertemplate": "release_date=1936<br>Box Office Revenue=%{x}<br>num_awards=%{y}<br>title=%{customdata[0]}<extra></extra>",
         "legendgroup": "1936",
         "marker": {
          "color": "#19d3f3",
          "symbol": "circle"
         },
         "mode": "markers",
         "name": "1936",
         "orientation": "v",
         "showlegend": true,
         "type": "scatter",
         "x": [
          1600000,
          2868000,
          2618000,
          1170000
         ],
         "xaxis": "x",
         "y": [
          1,
          1,
          1,
          1
         ],
         "yaxis": "y"
        },
        {
         "customdata": [
          [
           "East of Eden"
          ],
          [
           "I'll Cry Tomorrow"
          ],
          [
           "Interrupted Melody"
          ],
          [
           "Love Is a Many-Splendored Thing"
          ],
          [
           "Love Me or Leave Me"
          ],
          [
           "Marty"
          ],
          [
           "Mister Roberts"
          ],
          [
           "The Rose Tattoo"
          ],
          [
           "To Catch a Thief"
          ]
         ],
         "hovertemplate": "release_date=1955<br>Box Office Revenue=%{x}<br>num_awards=%{y}<br>title=%{customdata[0]}<extra></extra>",
         "legendgroup": "1955",
         "marker": {
          "color": "#FF6692",
          "symbol": "circle"
         },
         "mode": "markers",
         "name": "1955",
         "orientation": "v",
         "showlegend": true,
         "type": "scatter",
         "x": [
          5000000,
          6500000,
          1800000,
          3000000,
          4100000,
          2000000,
          8500000,
          4200000,
          4500000
         ],
         "xaxis": "x",
         "y": [
          1,
          1,
          1,
          3,
          1,
          4,
          1,
          3,
          1
         ],
         "yaxis": "y"
        },
        {
         "customdata": [
          [
           "Falling"
          ],
          [
           "Gunda"
          ],
          [
           "Minari"
          ],
          [
           "Nomadland"
          ],
          [
           "Omo Ghetto: The Saga"
          ],
          [
           "Quam's Money"
          ],
          [
           "Soul"
          ],
          [
           "Tenet"
          ],
          [
           "The Dry"
          ],
          [
           "The Father"
          ],
          [
           "The People Upstairs"
          ]
         ],
         "hovertemplate": "release_date=2020<br>Box Office Revenue=%{x}<br>num_awards=%{y}<br>title=%{customdata[0]}<extra></extra>",
         "legendgroup": "2020",
         "marker": {
          "color": "#B6E880",
          "symbol": "circle"
         },
         "mode": "markers",
         "name": "2020",
         "orientation": "v",
         "showlegend": true,
         "type": "scatter",
         "x": [
          489685,
          383128,
          15312445,
          9000000,
          636100000,
          89900000,
          946154,
          361300000,
          16924715,
          24777948,
          648622
         ],
         "xaxis": "x",
         "y": [
          1,
          1,
          1,
          3,
          1,
          1,
          2,
          1,
          11,
          5,
          1
         ],
         "yaxis": "y"
        },
        {
         "customdata": [
          [
           "Flashdance"
          ],
          [
           "Tender Mercies"
          ],
          [
           "Terms of Endearment"
          ],
          [
           "The Right Stuff"
          ],
          [
           "Yentl"
          ]
         ],
         "hovertemplate": "release_date=1983<br>Box Office Revenue=%{x}<br>num_awards=%{y}<br>title=%{customdata[0]}<extra></extra>",
         "legendgroup": "1983",
         "marker": {
          "color": "#FF97FF",
          "symbol": "circle"
         },
         "mode": "markers",
         "name": "1983",
         "orientation": "v",
         "showlegend": true,
         "type": "scatter",
         "x": [
          92921203,
          8440000,
          108423489,
          21192102,
          40218899
         ],
         "xaxis": "x",
         "y": [
          1,
          2,
          5,
          4,
          1
         ],
         "yaxis": "y"
        },
        {
         "customdata": [
          [
           "Gaslight"
          ]
         ],
         "hovertemplate": "release_date=1944<br>Box Office Revenue=%{x}<br>num_awards=%{y}<br>title=%{customdata[0]}<extra></extra>",
         "legendgroup": "1944",
         "marker": {
          "color": "#FECB52",
          "symbol": "circle"
         },
         "mode": "markers",
         "name": "1944",
         "orientation": "v",
         "showlegend": true,
         "type": "scatter",
         "x": [
          4613000
         ],
         "xaxis": "x",
         "y": [
          2
         ],
         "yaxis": "y"
        },
        {
         "customdata": [
          [
           "Giant"
          ],
          [
           "Lust for Life"
          ],
          [
           "Somebody Up There Likes Me"
          ],
          [
           "The King and I"
          ],
          [
           "The Man Who Knew Too Much"
          ],
          [
           "The Solid Gold Cadillac"
          ],
          [
           "The Ten Commandments"
          ]
         ],
         "hovertemplate": "release_date=1956<br>Box Office Revenue=%{x}<br>num_awards=%{y}<br>title=%{customdata[0]}<extra></extra>",
         "legendgroup": "1956",
         "marker": {
          "color": "#636efa",
          "symbol": "circle"
         },
         "mode": "markers",
         "name": "1956",
         "orientation": "v",
         "showlegend": true,
         "type": "scatter",
         "x": [
          35000000,
          1600000,
          2000000,
          8500000,
          4100000,
          2400000,
          80000000
         ],
         "xaxis": "x",
         "y": [
          1,
          1,
          2,
          5,
          1,
          1,
          1
         ],
         "yaxis": "y"
        },
        {
         "customdata": [
          [
           "Gigi"
          ],
          [
           "I Want to Live!"
          ],
          [
           "South Pacific"
          ]
         ],
         "hovertemplate": "release_date=1958<br>Box Office Revenue=%{x}<br>num_awards=%{y}<br>title=%{customdata[0]}<extra></extra>",
         "legendgroup": "1958",
         "marker": {
          "color": "#EF553B",
          "symbol": "circle"
         },
         "mode": "markers",
         "name": "1958",
         "orientation": "v",
         "showlegend": true,
         "type": "scatter",
         "x": [
          13208725,
          5641711,
          36800000
         ],
         "xaxis": "x",
         "y": [
          9,
          1,
          1
         ],
         "yaxis": "y"
        },
        {
         "customdata": [
          [
           "Goldfinger"
          ],
          [
           "Mary Poppins"
          ],
          [
           "My Fair Lady"
          ]
         ],
         "hovertemplate": "release_date=1964<br>Box Office Revenue=%{x}<br>num_awards=%{y}<br>title=%{customdata[0]}<extra></extra>",
         "legendgroup": "1964",
         "marker": {
          "color": "#00cc96",
          "symbol": "circle"
         },
         "mode": "markers",
         "name": "1964",
         "orientation": "v",
         "showlegend": true,
         "type": "scatter",
         "x": [
          124900000,
          102272727,
          72000000
         ],
         "xaxis": "x",
         "y": [
          1,
          5,
          8
         ],
         "yaxis": "y"
        },
        {
         "customdata": [
          [
           "Gone with the Wind"
          ],
          [
           "Goodbye, Mr. Chips"
          ],
          [
           "Mr. Smith Goes to Washington"
          ],
          [
           "Stagecoach"
          ],
          [
           "The Wizard of Oz"
          ],
          [
           "Wuthering Heights"
          ]
         ],
         "hovertemplate": "release_date=1939<br>Box Office Revenue=%{x}<br>num_awards=%{y}<br>title=%{customdata[0]}<extra></extra>",
         "legendgroup": "1939",
         "marker": {
          "color": "#ab63fa",
          "symbol": "circle"
         },
         "mode": "markers",
         "name": "1939",
         "orientation": "v",
         "showlegend": true,
         "type": "scatter",
         "x": [
          400000000,
          3252000,
          9000000,
          1103757,
          3017000,
          624643
         ],
         "xaxis": "x",
         "y": [
          8,
          1,
          1,
          2,
          2,
          1
         ],
         "yaxis": "y"
        },
        {
         "customdata": [
          [
           "Grand Hotel"
          ]
         ],
         "hovertemplate": "release_date=1932<br>Box Office Revenue=%{x}<br>num_awards=%{y}<br>title=%{customdata[0]}<extra></extra>",
         "legendgroup": "1932",
         "marker": {
          "color": "#FFA15A",
          "symbol": "circle"
         },
         "mode": "markers",
         "name": "1932",
         "orientation": "v",
         "showlegend": true,
         "type": "scatter",
         "x": [
          2250000
         ],
         "xaxis": "x",
         "y": [
          1
         ],
         "yaxis": "y"
        },
        {
         "customdata": [
          [
           "How the West Was Won"
          ],
          [
           "State Fair"
          ],
          [
           "The Longest Day"
          ],
          [
           "To Kill a Mockingbird"
          ],
          [
           "What Ever Happened to Baby Jane?"
          ]
         ],
         "hovertemplate": "release_date=1962<br>Box Office Revenue=%{x}<br>num_awards=%{y}<br>title=%{customdata[0]}<extra></extra>",
         "legendgroup": "1962",
         "marker": {
          "color": "#19d3f3",
          "symbol": "circle"
         },
         "mode": "markers",
         "name": "1962",
         "orientation": "v",
         "showlegend": true,
         "type": "scatter",
         "x": [
          35000000,
          3500000,
          50000000,
          20629846,
          9000000
         ],
         "xaxis": "x",
         "y": [
          3,
          1,
          2,
          3,
          1
         ],
         "yaxis": "y"
        },
        {
         "customdata": [
          [
           "It Happened One Night"
          ],
          [
           "The Gay Divorcee"
          ],
          [
           "The Merry Widow"
          ]
         ],
         "hovertemplate": "release_date=1934<br>Box Office Revenue=%{x}<br>num_awards=%{y}<br>title=%{customdata[0]}<extra></extra>",
         "legendgroup": "1934",
         "marker": {
          "color": "#FF6692",
          "symbol": "circle"
         },
         "mode": "markers",
         "name": "1934",
         "orientation": "v",
         "showlegend": true,
         "type": "scatter",
         "x": [
          2500000,
          1774000,
          861000
         ],
         "xaxis": "x",
         "y": [
          5,
          1,
          1
         ],
         "yaxis": "y"
        },
        {
         "customdata": [
          [
           "Little Women"
          ],
          [
           "State Fair"
          ]
         ],
         "hovertemplate": "release_date=1933<br>Box Office Revenue=%{x}<br>num_awards=%{y}<br>title=%{customdata[0]}<extra></extra>",
         "legendgroup": "1933",
         "marker": {
          "color": "#B6E880",
          "symbol": "circle"
         },
         "mode": "markers",
         "name": "1933",
         "orientation": "v",
         "showlegend": true,
         "type": "scatter",
         "x": [
          2000000,
          1800000
         ],
         "xaxis": "x",
         "y": [
          1,
          1
         ],
         "yaxis": "y"
        },
        {
         "customdata": [
          [
           "Min and Bill"
          ]
         ],
         "hovertemplate": "release_date=1930<br>Box Office Revenue=%{x}<br>num_awards=%{y}<br>title=%{customdata[0]}<extra></extra>",
         "legendgroup": "1930",
         "marker": {
          "color": "#FF97FF",
          "symbol": "circle"
         },
         "mode": "markers",
         "name": "1930",
         "orientation": "v",
         "showlegend": true,
         "type": "scatter",
         "x": [
          2000000
         ],
         "xaxis": "x",
         "y": [
          1
         ],
         "yaxis": "y"
        },
        {
         "customdata": [
          [
           "Miracle on 34th Street"
          ],
          [
           "The Bachelor and the Bobby-Soxer"
          ]
         ],
         "hovertemplate": "release_date=1947<br>Box Office Revenue=%{x}<br>num_awards=%{y}<br>title=%{customdata[0]}<extra></extra>",
         "legendgroup": "1947",
         "marker": {
          "color": "#FECB52",
          "symbol": "circle"
         },
         "mode": "markers",
         "name": "1947",
         "orientation": "v",
         "showlegend": true,
         "type": "scatter",
         "x": [
          3150000,
          5550000
         ],
         "xaxis": "x",
         "y": [
          3,
          1
         ],
         "yaxis": "y"
        },
        {
         "customdata": [
          [
           "Mrs. Miniver"
          ],
          [
           "My Gal Sal"
          ],
          [
           "Yankee Doodle Dandy"
          ]
         ],
         "hovertemplate": "release_date=1942<br>Box Office Revenue=%{x}<br>num_awards=%{y}<br>title=%{customdata[0]}<extra></extra>",
         "legendgroup": "1942",
         "marker": {
          "color": "#636efa",
          "symbol": "circle"
         },
         "mode": "markers",
         "name": "1942",
         "orientation": "v",
         "showlegend": true,
         "type": "scatter",
         "x": [
          8878000,
          2000000,
          4000000
         ],
         "xaxis": "x",
         "y": [
          6,
          1,
          3
         ],
         "yaxis": "y"
        },
        {
         "customdata": [
          [
           "National Velvet"
          ],
          [
           "Spellbound"
          ],
          [
           "The Bells of St. Mary's"
          ]
         ],
         "hovertemplate": "release_date=1945<br>Box Office Revenue=%{x}<br>num_awards=%{y}<br>title=%{customdata[0]}<extra></extra>",
         "legendgroup": "1945",
         "marker": {
          "color": "#EF553B",
          "symbol": "circle"
         },
         "mode": "markers",
         "name": "1945",
         "orientation": "v",
         "showlegend": true,
         "type": "scatter",
         "x": [
          8488000,
          7000000,
          21333333
         ],
         "xaxis": "x",
         "y": [
          2,
          1,
          1
         ],
         "yaxis": "y"
        },
        {
         "customdata": [
          [
           "Neptune's Daughter"
          ]
         ],
         "hovertemplate": "release_date=1914<br>Box Office Revenue=%{x}<br>num_awards=%{y}<br>title=%{customdata[0]}<extra></extra>",
         "legendgroup": "1914",
         "marker": {
          "color": "#00cc96",
          "symbol": "circle"
         },
         "mode": "markers",
         "name": "1914",
         "orientation": "v",
         "showlegend": true,
         "type": "scatter",
         "x": [
          1000000
         ],
         "xaxis": "x",
         "y": [
          1
         ],
         "yaxis": "y"
        },
        {
         "customdata": [
          [
           "Pinocchio"
          ],
          [
           "Pride and Prejudice"
          ],
          [
           "Strike Up the Band"
          ],
          [
           "The Philadelphia Story"
          ]
         ],
         "hovertemplate": "release_date=1940<br>Box Office Revenue=%{x}<br>num_awards=%{y}<br>title=%{customdata[0]}<extra></extra>",
         "legendgroup": "1940",
         "marker": {
          "color": "#ab63fa",
          "symbol": "circle"
         },
         "mode": "markers",
         "name": "1940",
         "orientation": "v",
         "showlegend": true,
         "type": "scatter",
         "x": [
          84254167,
          1001000,
          3494000,
          3000000
         ],
         "xaxis": "x",
         "y": [
          2,
          1,
          1,
          2
         ],
         "yaxis": "y"
        },
        {
         "customdata": [
          [
           "Song of the South"
          ],
          [
           "The Best Years of Our Lives"
          ],
          [
           "The Harvey Girls"
          ]
         ],
         "hovertemplate": "release_date=1946<br>Box Office Revenue=%{x}<br>num_awards=%{y}<br>title=%{customdata[0]}<extra></extra>",
         "legendgroup": "1946",
         "marker": {
          "color": "#FFA15A",
          "symbol": "circle"
         },
         "mode": "markers",
         "name": "1946",
         "orientation": "v",
         "showlegend": true,
         "type": "scatter",
         "x": [
          65000000,
          23650000,
          5200000
         ],
         "xaxis": "x",
         "y": [
          1,
          7,
          1
         ],
         "yaxis": "y"
        },
        {
         "customdata": [
          [
           "Street Angel"
          ]
         ],
         "hovertemplate": "release_date=1928<br>Box Office Revenue=%{x}<br>num_awards=%{y}<br>title=%{customdata[0]}<extra></extra>",
         "legendgroup": "1928",
         "marker": {
          "color": "#19d3f3",
          "symbol": "circle"
         },
         "mode": "markers",
         "name": "1928",
         "orientation": "v",
         "showlegend": true,
         "type": "scatter",
         "x": [
          3706000
         ],
         "xaxis": "x",
         "y": [
          1
         ],
         "yaxis": "y"
        },
        {
         "customdata": [
          [
           "The Broadway Melody"
          ]
         ],
         "hovertemplate": "release_date=1929<br>Box Office Revenue=%{x}<br>num_awards=%{y}<br>title=%{customdata[0]}<extra></extra>",
         "legendgroup": "1929",
         "marker": {
          "color": "#FF6692",
          "symbol": "circle"
         },
         "mode": "markers",
         "name": "1929",
         "orientation": "v",
         "showlegend": true,
         "type": "scatter",
         "x": [
          3000000
         ],
         "xaxis": "x",
         "y": [
          1
         ],
         "yaxis": "y"
        },
        {
         "customdata": [
          [
           "The Ten Commandments"
          ]
         ],
         "hovertemplate": "release_date=1923<br>Box Office Revenue=%{x}<br>num_awards=%{y}<br>title=%{customdata[0]}<extra></extra>",
         "legendgroup": "1923",
         "marker": {
          "color": "#B6E880",
          "symbol": "circle"
         },
         "mode": "markers",
         "name": "1923",
         "orientation": "v",
         "showlegend": true,
         "type": "scatter",
         "x": [
          4168790
         ],
         "xaxis": "x",
         "y": [
          1
         ],
         "yaxis": "y"
        }
       ],
       "layout": {
        "legend": {
         "title": {
          "text": "release_date"
         },
         "tracegroupgap": 0
        },
        "template": {
         "data": {
          "bar": [
           {
            "error_x": {
             "color": "#2a3f5f"
            },
            "error_y": {
             "color": "#2a3f5f"
            },
            "marker": {
             "line": {
              "color": "#E5ECF6",
              "width": 0.5
             },
             "pattern": {
              "fillmode": "overlay",
              "size": 10,
              "solidity": 0.2
             }
            },
            "type": "bar"
           }
          ],
          "barpolar": [
           {
            "marker": {
             "line": {
              "color": "#E5ECF6",
              "width": 0.5
             },
             "pattern": {
              "fillmode": "overlay",
              "size": 10,
              "solidity": 0.2
             }
            },
            "type": "barpolar"
           }
          ],
          "carpet": [
           {
            "aaxis": {
             "endlinecolor": "#2a3f5f",
             "gridcolor": "white",
             "linecolor": "white",
             "minorgridcolor": "white",
             "startlinecolor": "#2a3f5f"
            },
            "baxis": {
             "endlinecolor": "#2a3f5f",
             "gridcolor": "white",
             "linecolor": "white",
             "minorgridcolor": "white",
             "startlinecolor": "#2a3f5f"
            },
            "type": "carpet"
           }
          ],
          "choropleth": [
           {
            "colorbar": {
             "outlinewidth": 0,
             "ticks": ""
            },
            "type": "choropleth"
           }
          ],
          "contour": [
           {
            "colorbar": {
             "outlinewidth": 0,
             "ticks": ""
            },
            "colorscale": [
             [
              0,
              "#0d0887"
             ],
             [
              0.1111111111111111,
              "#46039f"
             ],
             [
              0.2222222222222222,
              "#7201a8"
             ],
             [
              0.3333333333333333,
              "#9c179e"
             ],
             [
              0.4444444444444444,
              "#bd3786"
             ],
             [
              0.5555555555555556,
              "#d8576b"
             ],
             [
              0.6666666666666666,
              "#ed7953"
             ],
             [
              0.7777777777777778,
              "#fb9f3a"
             ],
             [
              0.8888888888888888,
              "#fdca26"
             ],
             [
              1,
              "#f0f921"
             ]
            ],
            "type": "contour"
           }
          ],
          "contourcarpet": [
           {
            "colorbar": {
             "outlinewidth": 0,
             "ticks": ""
            },
            "type": "contourcarpet"
           }
          ],
          "heatmap": [
           {
            "colorbar": {
             "outlinewidth": 0,
             "ticks": ""
            },
            "colorscale": [
             [
              0,
              "#0d0887"
             ],
             [
              0.1111111111111111,
              "#46039f"
             ],
             [
              0.2222222222222222,
              "#7201a8"
             ],
             [
              0.3333333333333333,
              "#9c179e"
             ],
             [
              0.4444444444444444,
              "#bd3786"
             ],
             [
              0.5555555555555556,
              "#d8576b"
             ],
             [
              0.6666666666666666,
              "#ed7953"
             ],
             [
              0.7777777777777778,
              "#fb9f3a"
             ],
             [
              0.8888888888888888,
              "#fdca26"
             ],
             [
              1,
              "#f0f921"
             ]
            ],
            "type": "heatmap"
           }
          ],
          "heatmapgl": [
           {
            "colorbar": {
             "outlinewidth": 0,
             "ticks": ""
            },
            "colorscale": [
             [
              0,
              "#0d0887"
             ],
             [
              0.1111111111111111,
              "#46039f"
             ],
             [
              0.2222222222222222,
              "#7201a8"
             ],
             [
              0.3333333333333333,
              "#9c179e"
             ],
             [
              0.4444444444444444,
              "#bd3786"
             ],
             [
              0.5555555555555556,
              "#d8576b"
             ],
             [
              0.6666666666666666,
              "#ed7953"
             ],
             [
              0.7777777777777778,
              "#fb9f3a"
             ],
             [
              0.8888888888888888,
              "#fdca26"
             ],
             [
              1,
              "#f0f921"
             ]
            ],
            "type": "heatmapgl"
           }
          ],
          "histogram": [
           {
            "marker": {
             "pattern": {
              "fillmode": "overlay",
              "size": 10,
              "solidity": 0.2
             }
            },
            "type": "histogram"
           }
          ],
          "histogram2d": [
           {
            "colorbar": {
             "outlinewidth": 0,
             "ticks": ""
            },
            "colorscale": [
             [
              0,
              "#0d0887"
             ],
             [
              0.1111111111111111,
              "#46039f"
             ],
             [
              0.2222222222222222,
              "#7201a8"
             ],
             [
              0.3333333333333333,
              "#9c179e"
             ],
             [
              0.4444444444444444,
              "#bd3786"
             ],
             [
              0.5555555555555556,
              "#d8576b"
             ],
             [
              0.6666666666666666,
              "#ed7953"
             ],
             [
              0.7777777777777778,
              "#fb9f3a"
             ],
             [
              0.8888888888888888,
              "#fdca26"
             ],
             [
              1,
              "#f0f921"
             ]
            ],
            "type": "histogram2d"
           }
          ],
          "histogram2dcontour": [
           {
            "colorbar": {
             "outlinewidth": 0,
             "ticks": ""
            },
            "colorscale": [
             [
              0,
              "#0d0887"
             ],
             [
              0.1111111111111111,
              "#46039f"
             ],
             [
              0.2222222222222222,
              "#7201a8"
             ],
             [
              0.3333333333333333,
              "#9c179e"
             ],
             [
              0.4444444444444444,
              "#bd3786"
             ],
             [
              0.5555555555555556,
              "#d8576b"
             ],
             [
              0.6666666666666666,
              "#ed7953"
             ],
             [
              0.7777777777777778,
              "#fb9f3a"
             ],
             [
              0.8888888888888888,
              "#fdca26"
             ],
             [
              1,
              "#f0f921"
             ]
            ],
            "type": "histogram2dcontour"
           }
          ],
          "mesh3d": [
           {
            "colorbar": {
             "outlinewidth": 0,
             "ticks": ""
            },
            "type": "mesh3d"
           }
          ],
          "parcoords": [
           {
            "line": {
             "colorbar": {
              "outlinewidth": 0,
              "ticks": ""
             }
            },
            "type": "parcoords"
           }
          ],
          "pie": [
           {
            "automargin": true,
            "type": "pie"
           }
          ],
          "scatter": [
           {
            "fillpattern": {
             "fillmode": "overlay",
             "size": 10,
             "solidity": 0.2
            },
            "type": "scatter"
           }
          ],
          "scatter3d": [
           {
            "line": {
             "colorbar": {
              "outlinewidth": 0,
              "ticks": ""
             }
            },
            "marker": {
             "colorbar": {
              "outlinewidth": 0,
              "ticks": ""
             }
            },
            "type": "scatter3d"
           }
          ],
          "scattercarpet": [
           {
            "marker": {
             "colorbar": {
              "outlinewidth": 0,
              "ticks": ""
             }
            },
            "type": "scattercarpet"
           }
          ],
          "scattergeo": [
           {
            "marker": {
             "colorbar": {
              "outlinewidth": 0,
              "ticks": ""
             }
            },
            "type": "scattergeo"
           }
          ],
          "scattergl": [
           {
            "marker": {
             "colorbar": {
              "outlinewidth": 0,
              "ticks": ""
             }
            },
            "type": "scattergl"
           }
          ],
          "scattermapbox": [
           {
            "marker": {
             "colorbar": {
              "outlinewidth": 0,
              "ticks": ""
             }
            },
            "type": "scattermapbox"
           }
          ],
          "scatterpolar": [
           {
            "marker": {
             "colorbar": {
              "outlinewidth": 0,
              "ticks": ""
             }
            },
            "type": "scatterpolar"
           }
          ],
          "scatterpolargl": [
           {
            "marker": {
             "colorbar": {
              "outlinewidth": 0,
              "ticks": ""
             }
            },
            "type": "scatterpolargl"
           }
          ],
          "scatterternary": [
           {
            "marker": {
             "colorbar": {
              "outlinewidth": 0,
              "ticks": ""
             }
            },
            "type": "scatterternary"
           }
          ],
          "surface": [
           {
            "colorbar": {
             "outlinewidth": 0,
             "ticks": ""
            },
            "colorscale": [
             [
              0,
              "#0d0887"
             ],
             [
              0.1111111111111111,
              "#46039f"
             ],
             [
              0.2222222222222222,
              "#7201a8"
             ],
             [
              0.3333333333333333,
              "#9c179e"
             ],
             [
              0.4444444444444444,
              "#bd3786"
             ],
             [
              0.5555555555555556,
              "#d8576b"
             ],
             [
              0.6666666666666666,
              "#ed7953"
             ],
             [
              0.7777777777777778,
              "#fb9f3a"
             ],
             [
              0.8888888888888888,
              "#fdca26"
             ],
             [
              1,
              "#f0f921"
             ]
            ],
            "type": "surface"
           }
          ],
          "table": [
           {
            "cells": {
             "fill": {
              "color": "#EBF0F8"
             },
             "line": {
              "color": "white"
             }
            },
            "header": {
             "fill": {
              "color": "#C8D4E3"
             },
             "line": {
              "color": "white"
             }
            },
            "type": "table"
           }
          ]
         },
         "layout": {
          "annotationdefaults": {
           "arrowcolor": "#2a3f5f",
           "arrowhead": 0,
           "arrowwidth": 1
          },
          "autotypenumbers": "strict",
          "coloraxis": {
           "colorbar": {
            "outlinewidth": 0,
            "ticks": ""
           }
          },
          "colorscale": {
           "diverging": [
            [
             0,
             "#8e0152"
            ],
            [
             0.1,
             "#c51b7d"
            ],
            [
             0.2,
             "#de77ae"
            ],
            [
             0.3,
             "#f1b6da"
            ],
            [
             0.4,
             "#fde0ef"
            ],
            [
             0.5,
             "#f7f7f7"
            ],
            [
             0.6,
             "#e6f5d0"
            ],
            [
             0.7,
             "#b8e186"
            ],
            [
             0.8,
             "#7fbc41"
            ],
            [
             0.9,
             "#4d9221"
            ],
            [
             1,
             "#276419"
            ]
           ],
           "sequential": [
            [
             0,
             "#0d0887"
            ],
            [
             0.1111111111111111,
             "#46039f"
            ],
            [
             0.2222222222222222,
             "#7201a8"
            ],
            [
             0.3333333333333333,
             "#9c179e"
            ],
            [
             0.4444444444444444,
             "#bd3786"
            ],
            [
             0.5555555555555556,
             "#d8576b"
            ],
            [
             0.6666666666666666,
             "#ed7953"
            ],
            [
             0.7777777777777778,
             "#fb9f3a"
            ],
            [
             0.8888888888888888,
             "#fdca26"
            ],
            [
             1,
             "#f0f921"
            ]
           ],
           "sequentialminus": [
            [
             0,
             "#0d0887"
            ],
            [
             0.1111111111111111,
             "#46039f"
            ],
            [
             0.2222222222222222,
             "#7201a8"
            ],
            [
             0.3333333333333333,
             "#9c179e"
            ],
            [
             0.4444444444444444,
             "#bd3786"
            ],
            [
             0.5555555555555556,
             "#d8576b"
            ],
            [
             0.6666666666666666,
             "#ed7953"
            ],
            [
             0.7777777777777778,
             "#fb9f3a"
            ],
            [
             0.8888888888888888,
             "#fdca26"
            ],
            [
             1,
             "#f0f921"
            ]
           ]
          },
          "colorway": [
           "#636efa",
           "#EF553B",
           "#00cc96",
           "#ab63fa",
           "#FFA15A",
           "#19d3f3",
           "#FF6692",
           "#B6E880",
           "#FF97FF",
           "#FECB52"
          ],
          "font": {
           "color": "#2a3f5f"
          },
          "geo": {
           "bgcolor": "white",
           "lakecolor": "white",
           "landcolor": "#E5ECF6",
           "showlakes": true,
           "showland": true,
           "subunitcolor": "white"
          },
          "hoverlabel": {
           "align": "left"
          },
          "hovermode": "closest",
          "mapbox": {
           "style": "light"
          },
          "paper_bgcolor": "white",
          "plot_bgcolor": "#E5ECF6",
          "polar": {
           "angularaxis": {
            "gridcolor": "white",
            "linecolor": "white",
            "ticks": ""
           },
           "bgcolor": "#E5ECF6",
           "radialaxis": {
            "gridcolor": "white",
            "linecolor": "white",
            "ticks": ""
           }
          },
          "scene": {
           "xaxis": {
            "backgroundcolor": "#E5ECF6",
            "gridcolor": "white",
            "gridwidth": 2,
            "linecolor": "white",
            "showbackground": true,
            "ticks": "",
            "zerolinecolor": "white"
           },
           "yaxis": {
            "backgroundcolor": "#E5ECF6",
            "gridcolor": "white",
            "gridwidth": 2,
            "linecolor": "white",
            "showbackground": true,
            "ticks": "",
            "zerolinecolor": "white"
           },
           "zaxis": {
            "backgroundcolor": "#E5ECF6",
            "gridcolor": "white",
            "gridwidth": 2,
            "linecolor": "white",
            "showbackground": true,
            "ticks": "",
            "zerolinecolor": "white"
           }
          },
          "shapedefaults": {
           "line": {
            "color": "#2a3f5f"
           }
          },
          "ternary": {
           "aaxis": {
            "gridcolor": "white",
            "linecolor": "white",
            "ticks": ""
           },
           "baxis": {
            "gridcolor": "white",
            "linecolor": "white",
            "ticks": ""
           },
           "bgcolor": "#E5ECF6",
           "caxis": {
            "gridcolor": "white",
            "linecolor": "white",
            "ticks": ""
           }
          },
          "title": {
           "x": 0.05
          },
          "xaxis": {
           "automargin": true,
           "gridcolor": "white",
           "linecolor": "white",
           "ticks": "",
           "title": {
            "standoff": 15
           },
           "zerolinecolor": "white",
           "zerolinewidth": 2
          },
          "yaxis": {
           "automargin": true,
           "gridcolor": "white",
           "linecolor": "white",
           "ticks": "",
           "title": {
            "standoff": 15
           },
           "zerolinecolor": "white",
           "zerolinewidth": 2
          }
         }
        },
        "title": {
         "text": "Box Office Revenue vs. Awards Received"
        },
        "xaxis": {
         "anchor": "y",
         "domain": [
          0,
          1
         ],
         "title": {
          "text": "Box Office Revenue"
         },
         "type": "log"
        },
        "yaxis": {
         "anchor": "x",
         "domain": [
          0,
          1
         ],
         "title": {
          "text": "num_awards"
         }
        }
       }
      }
     },
     "metadata": {},
     "output_type": "display_data"
    },
    {
     "data": {
      "application/vnd.plotly.v1+json": {
       "config": {
        "plotlyServerURL": "https://plot.ly"
       },
       "data": [
        {
         "customdata": [
          [
           "1%"
          ],
          [
           "11 Minutes"
          ],
          [
           "12 Years a Slave"
          ],
          [
           "13 Minutes"
          ],
          [
           "150 Milligrams"
          ],
          [
           "1945"
          ],
          [
           "20 Days in Mariupol"
          ],
          [
           "20 Feet from Stardom"
          ],
          [
           "20,000 Leagues Under the Sea"
          ],
          [
           "20,000 Leagues Under the Sea"
          ],
          [
           "20,000 Leagues Under the Sea"
          ],
          [
           "20,000 Leagues Under the Sea"
          ],
          [
           "20,000 Leagues Under the Sea"
          ],
          [
           "20,000 Species of Bees"
          ],
          [
           "2001: A Space Odyssey"
          ],
          [
           "20th Century Women"
          ],
          [
           "21 Nights with Pattie"
          ],
          [
           "45 Years"
          ],
          [
           "6.9 on the Richter Scale"
          ],
          [
           "7th Heaven"
          ],
          [
           "8 Mile"
          ],
          [
           "A Beautiful Mind"
          ],
          [
           "A Boy and His Dog"
          ],
          [
           "A Chance to Live"
          ],
          [
           "A Christmas Carol"
          ],
          [
           "A Ciambra"
          ],
          [
           "A Close Shave"
          ],
          [
           "A Copy of My Mind"
          ],
          [
           "A Damsel in Distress"
          ],
          [
           "A Double Life"
          ],
          [
           "A Fantastic Woman"
          ],
          [
           "A Farewell to Arms"
          ],
          [
           "A Fish Called Wanda"
          ],
          [
           "A Flying Jatt"
          ],
          [
           "A Free Soul"
          ],
          [
           "A Funny Thing Happened on the Way to the Forum"
          ],
          [
           "A Greek Tragedy"
          ],
          [
           "A Greyhound of a Girl"
          ],
          [
           "A Hole in the Head"
          ],
          [
           "A House Made of Splinters"
          ],
          [
           "A Letter to Three Wives"
          ],
          [
           "A Little Night Music"
          ],
          [
           "A Little Romance"
          ],
          [
           "A Man Called Ove"
          ],
          [
           "A Man and a Woman"
          ],
          [
           "A Man for All Seasons"
          ],
          [
           "A Man for All Seasons"
          ],
          [
           "A Man of Integrity"
          ],
          [
           "A Midsummer Night's Dream"
          ],
          [
           "A Midsummer Night's Dream"
          ],
          [
           "A Midsummer Night's Dream"
          ],
          [
           "A Midsummer Night's Dream"
          ],
          [
           "A Monster Calls"
          ],
          [
           "A Note of Triumph: The Golden Age of Norman Corwin"
          ],
          [
           "A Passage to India"
          ],
          [
           "A Patch of Blue"
          ],
          [
           "A Place in the Sun"
          ],
          [
           "A Place to Stand"
          ],
          [
           "A Prayer Before Dawn"
          ],
          [
           "A River Runs Through It"
          ],
          [
           "A Room with a View"
          ],
          [
           "A Season in France"
          ],
          [
           "A Separation"
          ],
          [
           "A Shocking Accident"
          ],
          [
           "A Star Is Born"
          ],
          [
           "A Star Is Born"
          ],
          [
           "A Star Is Born"
          ],
          [
           "A Story of Healing"
          ],
          [
           "A Streetcar Named Desire"
          ],
          [
           "A Streetcar Named Desire"
          ],
          [
           "A Streetcar Named Desire"
          ],
          [
           "A Syrian Love Story"
          ],
          [
           "A Thousand Clowns"
          ],
          [
           "A Time Out of War"
          ],
          [
           "A Touch of Class"
          ],
          [
           "A Tree Grows in Brooklyn"
          ],
          [
           "A War"
          ],
          [
           "A Woman Captured"
          ],
          [
           "A Woman's Life"
          ],
          [
           "A Woman, a Part"
          ],
          [
           "A Year Toward Tomorrow"
          ],
          [
           "About Dry Grasses"
          ],
          [
           "Adaptation"
          ],
          [
           "Adventures of Don Juan"
          ],
          [
           "Aferim!"
          ],
          [
           "Affliction"
          ],
          [
           "Aftersun"
          ],
          [
           "Air Force"
          ],
          [
           "Airport"
          ],
          [
           "Ajji"
          ],
          [
           "Aladdin"
          ],
          [
           "Aladdin"
          ],
          [
           "Alba"
          ],
          [
           "Albert Schweitzer"
          ],
          [
           "Alcarràs"
          ],
          [
           "Alexander's Ragtime Band"
          ],
          [
           "Ali's Wedding"
          ],
          [
           "Alice Doesn't Live Here Anymore"
          ],
          [
           "Alice in Wonderland"
          ],
          [
           "Alice in Wonderland"
          ],
          [
           "Alice in Wonderland"
          ],
          [
           "Alice in Wonderland"
          ],
          [
           "Alice in Wonderland"
          ],
          [
           "Alice in Wonderland"
          ],
          [
           "Alice in Wonderland"
          ],
          [
           "Alice in Wonderland"
          ],
          [
           "Alice in Wonderland"
          ],
          [
           "Alice in Wonderland"
          ],
          [
           "Alice in Wonderland"
          ],
          [
           "Alice in Wonderland"
          ],
          [
           "Alice in Wonderland"
          ],
          [
           "Alice in Wonderland"
          ],
          [
           "Alien"
          ],
          [
           "Aliens"
          ],
          [
           "All About Eve"
          ],
          [
           "All About My Mother (Todo sobre mi madre)"
          ],
          [
           "All Quiet on the Western Front"
          ],
          [
           "All Quiet on the Western Front"
          ],
          [
           "All Quiet on the Western Front"
          ],
          [
           "All Quiet on the Western Front"
          ],
          [
           "All That Breathes"
          ],
          [
           "All That Jazz"
          ],
          [
           "All of Us Strangers"
          ],
          [
           "All the King's Men"
          ],
          [
           "All the President's Men"
          ],
          [
           "Almost Famous"
          ],
          [
           "AlphaGo"
          ],
          [
           "Ama Girls"
          ],
          [
           "Amadeus"
          ],
          [
           "Amarcord"
          ],
          [
           "America America"
          ],
          [
           "American Beauty"
          ],
          [
           "American Beauty"
          ],
          [
           "American Dream"
          ],
          [
           "American Fiction"
          ],
          [
           "American Sniper"
          ],
          [
           "Ammore e malavita"
          ],
          [
           "Amour"
          ],
          [
           "Amphibious Fighters"
          ],
          [
           "Amy"
          ],
          [
           "Amy"
          ],
          [
           "Amy"
          ],
          [
           "An American Werewolf in London"
          ],
          [
           "An American in Paris"
          ],
          [
           "An Inconvenient Truth"
          ],
          [
           "An Occurrence at Owl Creek Bridge"
          ],
          [
           "An Officer and a Gentleman"
          ],
          [
           "Anastasia"
          ],
          [
           "Anastasia"
          ],
          [
           "Anatomy of a Fall"
          ],
          [
           "Anchor and Hope"
          ],
          [
           "Anchors Aweigh"
          ],
          [
           "Angel and Big Joe"
          ],
          [
           "Anna & Bella"
          ],
          [
           "Anna Karenina"
          ],
          [
           "Anna Karenina"
          ],
          [
           "Anna Karenina"
          ],
          [
           "Anna Karenina"
          ],
          [
           "Anna Karenina"
          ],
          [
           "Anna Karenina"
          ],
          [
           "Anna and the King of Siam"
          ],
          [
           "Anne Frank Remembered"
          ],
          [
           "Anne of the Thousand Days"
          ],
          [
           "Annie Get Your Gun"
          ],
          [
           "Annie Hall"
          ],
          [
           "Ant-Man"
          ],
          [
           "Anthony Adverse"
          ],
          [
           "Antonia's Line (Antonia)"
          ],
          [
           "Apocalypse Now"
          ],
          [
           "Apollo 13"
          ],
          [
           "Apolonia, Apolonia"
          ],
          [
           "Aquatic House Party"
          ],
          [
           "Argentina, 1985"
          ],
          [
           "Argo"
          ],
          [
           "Argo"
          ],
          [
           "Arianna"
          ],
          [
           "Arise, My Love"
          ],
          [
           "Around the World in 80 Days"
          ],
          [
           "Arrhythmia"
          ],
          [
           "Arrival"
          ],
          [
           "Arthur"
          ],
          [
           "Arthur"
          ],
          [
           "Arthur Rubinstein – The Love of Life (L'amour de la vie - Artur Rubinstein)"
          ],
          [
           "Artie Shaw: Time Is All You've Got"
          ],
          [
           "As Good as It Gets"
          ],
          [
           "As I Open My Eyes"
          ],
          [
           "Atonement"
          ],
          [
           "Austerlitz"
          ],
          [
           "Australia Day"
          ],
          [
           "Avatar"
          ],
          [
           "Avatar"
          ],
          [
           "Avatar: The Way of Water"
          ],
          [
           "Avengers: Age of Ultron"
          ],
          [
           "BPM (Beats per Minute)"
          ],
          [
           "BUtterfield 8"
          ],
          [
           "Babe"
          ],
          [
           "Babel"
          ],
          [
           "Babette's Feast (Babettes gæstebud)"
          ],
          [
           "Babylon"
          ],
          [
           "Back to the Future"
          ],
          [
           "Bad Girl"
          ],
          [
           "Balance"
          ],
          [
           "Bao"
          ],
          [
           "Barbara"
          ],
          [
           "Barbie"
          ],
          [
           "Barry Lyndon"
          ],
          [
           "Batman"
          ],
          [
           "Batman"
          ],
          [
           "Batman v Superman: Dawn of Justice"
          ],
          [
           "Battleground"
          ],
          [
           "Bear Country"
          ],
          [
           "Bear Story"
          ],
          [
           "Beast"
          ],
          [
           "Beauty and the Beast"
          ],
          [
           "Beauty and the Beast"
          ],
          [
           "Beauty and the Beast"
          ],
          [
           "Beauty and the Beast"
          ],
          [
           "Beauty and the Beast"
          ],
          [
           "Beauty and the Beast"
          ],
          [
           "Beauty and the Beast"
          ],
          [
           "Becket"
          ],
          [
           "Bedknobs and Broomsticks"
          ],
          [
           "Beetlejuice"
          ],
          [
           "Before Dawn"
          ],
          [
           "Beginners"
          ],
          [
           "Being There"
          ],
          [
           "Belfast"
          ],
          [
           "Belle Epoque (The Beautiful Era)"
          ],
          [
           "Ben-Hur"
          ],
          [
           "Ben-Hur"
          ],
          [
           "Ben-Hur"
          ],
          [
           "Berlin Syndrome"
          ],
          [
           "Best Boy"
          ],
          [
           "Beyond the Line of Duty"
          ],
          [
           "Big Hero 6"
          ],
          [
           "Big Mama"
          ],
          [
           "Bird"
          ],
          [
           "Bird"
          ],
          [
           "Birdman or (The Unexpected Virtue of Ignorance)"
          ],
          [
           "Birds Anonymous"
          ],
          [
           "Birds Are Singing in Kigali"
          ],
          [
           "Black Hawk Down"
          ],
          [
           "Black Narcissus"
          ],
          [
           "Black Orpheus (Orfeu Negro)"
          ],
          [
           "Black Panther: Wakanda Forever"
          ],
          [
           "Black Rider (Schwarzfahrer)"
          ],
          [
           "Black Swan"
          ],
          [
           "Black and White in Color (Noirs et blancs en couleur)"
          ],
          [
           "Blade Runner 2049"
          ],
          [
           "Blithe Spirit"
          ],
          [
           "Blood and Sand"
          ],
          [
           "Blood and Sand"
          ],
          [
           "Blood and Sand"
          ],
          [
           "Blood and Sand"
          ],
          [
           "Blood on the Sun"
          ],
          [
           "Bloody Milk"
          ],
          [
           "Blossoms in the Dust"
          ],
          [
           "Blue Jasmine"
          ],
          [
           "Blue Sky"
          ],
          [
           "Bob's Birthday"
          ],
          [
           "Bodkin Ras"
          ],
          [
           "Body"
          ],
          [
           "Body and Soul"
          ],
          [
           "Body and Soul"
          ],
          [
           "Body and Soul"
          ],
          [
           "Body and Soul"
          ],
          [
           "Body and Soul"
          ],
          [
           "Bombshell"
          ],
          [
           "Bone Tomahawk"
          ],
          [
           "Bones and All"
          ],
          [
           "Bones and Names"
          ],
          [
           "Bonnie and Clyde"
          ],
          [
           "Bored of Education"
          ],
          [
           "Borg McEnroe"
          ],
          [
           "Born Free"
          ],
          [
           "Born Free"
          ],
          [
           "Born Yesterday"
          ],
          [
           "Born Yesterday"
          ],
          [
           "Born into Brothels"
          ],
          [
           "Born on the Fourth of July"
          ],
          [
           "Bound for Glory"
          ],
          [
           "Bowling for Columbine"
          ],
          [
           "Boy from Heaven"
          ],
          [
           "Boyhood"
          ],
          [
           "Boys Don't Cry"
          ],
          [
           "Boys Don't Cry"
          ],
          [
           "Boys Town"
          ],
          [
           "Boys and Girls"
          ],
          [
           "Boys and Girls"
          ],
          [
           "Boys in the Trees"
          ],
          [
           "Bram Stoker's Dracula"
          ],
          [
           "Brave"
          ],
          [
           "Brave"
          ],
          [
           "Braveheart"
          ],
          [
           "Braveheart"
          ],
          [
           "Breakfast at Tiffany's"
          ],
          [
           "Breaking Away"
          ],
          [
           "Breaking the Sound Barrier"
          ],
          [
           "Breath"
          ],
          [
           "Breathing Lessons: The Life and Work of Mark O'Brien"
          ],
          [
           "Bridge of Spies"
          ],
          [
           "Bridgend"
          ],
          [
           "Bridget Jones's Baby"
          ],
          [
           "Broadway Melody of 1936"
          ],
          [
           "Brokeback Mountain"
          ],
          [
           "Broken Lance"
          ],
          [
           "Broken Rainbow"
          ],
          [
           "Brooklyn"
          ],
          [
           "Bugsy"
          ],
          [
           "Bullets Over Broadway"
          ],
          [
           "Bullitt"
          ],
          [
           "Bunny"
          ],
          [
           "Burning Days"
          ],
          [
           "Burnt by the Sun (Utomlyonnye solntsem)"
          ],
          [
           "Busy Little Bears"
          ],
          [
           "Butch Cassidy and the Sundance Kid"
          ],
          [
           "Butterflies Are Free"
          ],
          [
           "C'est la vie!"
          ],
          [
           "CODA"
          ],
          [
           "Cabaret"
          ],
          [
           "Cactus Flower"
          ],
          [
           "Calamity Jane"
          ],
          [
           "Calamity Jane"
          ],
          [
           "California Suite"
          ],
          [
           "Call Me Madam"
          ],
          [
           "Call Me by Your Name"
          ],
          [
           "Camelot"
          ],
          [
           "Capote"
          ],
          [
           "Captain America: Civil War"
          ],
          [
           "Captain Carey, U.S.A."
          ],
          [
           "Captains Courageous"
          ],
          [
           "Cargo"
          ],
          [
           "Carol"
          ],
          [
           "Casablanca"
          ],
          [
           "Casals Conducts: 1964"
          ],
          [
           "Cat Ballou"
          ],
          [
           "Cavalcade"
          ],
          [
           "Chagall"
          ],
          [
           "Champion"
          ],
          [
           "Champion"
          ],
          [
           "Champion"
          ],
          [
           "Character (Karakter)"
          ],
          [
           "Charade"
          ],
          [
           "Charade"
          ],
          [
           "Charade"
          ],
          [
           "Chariots of Fire"
          ],
          [
           "Charly"
          ],
          [
           "Chernobyl Heart"
          ],
          [
           "Chicago"
          ],
          [
           "Chicago"
          ],
          [
           "Chicken for Linda!"
          ],
          [
           "Children of a Lesser God"
          ],
          [
           "Chinatown"
          ],
          [
           "Chocolat"
          ],
          [
           "Chuck Norris vs Communism"
          ],
          [
           "Churchill's Island"
          ],
          [
           "Cimarron"
          ],
          [
           "Cinema Paradiso"
          ],
          [
           "Citizen Kane"
          ],
          [
           "Citizenfour"
          ],
          [
           "City Slickers"
          ],
          [
           "City of Wax"
          ],
          [
           "Cleopatra"
          ],
          [
           "Cleopatra"
          ],
          [
           "Cleopatra"
          ],
          [
           "Cleopatra"
          ],
          [
           "Cleopatra"
          ],
          [
           "Cleopatra"
          ],
          [
           "Climbing the Matterhorn"
          ],
          [
           "Close"
          ],
          [
           "Close Encounters of the Third Kind"
          ],
          [
           "Close Harmony"
          ],
          [
           "Close Harmony"
          ],
          [
           "Closed Mondays"
          ],
          [
           "Closely Watched Trains (Ostre sledované vlaky)"
          ],
          [
           "Closeness"
          ],
          [
           "Coal Miner's Daughter"
          ],
          [
           "Coco"
          ],
          [
           "Coco"
          ],
          [
           "Cocoon"
          ],
          [
           "Cold Mountain"
          ],
          [
           "Colette"
          ],
          [
           "Come Back, Little Sheba"
          ],
          [
           "Come and Get It"
          ],
          [
           "Coming Home"
          ],
          [
           "Coming Home"
          ],
          [
           "Coming Home"
          ],
          [
           "Common Threads: Stories from the Quilt"
          ],
          [
           "Communion"
          ],
          [
           "Cook Off"
          ],
          [
           "Cool Hand Luke"
          ],
          [
           "Coquette"
          ],
          [
           "Cork"
          ],
          [
           "Corsage"
          ],
          [
           "Cover Girl"
          ],
          [
           "Crac"
          ],
          [
           "Crash"
          ],
          [
           "Crash Dive"
          ],
          [
           "Crashing the Water Barrier"
          ],
          [
           "Crazy Heart"
          ],
          [
           "Creature Comforts"
          ],
          [
           "Cries and Whispers (Viskningar och rop)"
          ],
          [
           "Crisis Hotline: Veterans Press 1"
          ],
          [
           "Cromwell"
          ],
          [
           "Crouching Tiger, Hidden Dragon"
          ],
          [
           "Cruella"
          ],
          [
           "Crumbs"
          ],
          [
           "Curfew"
          ],
          [
           "Custody"
          ],
          [
           "Cyrano de Bergerac"
          ],
          [
           "Cyrano de Bergerac"
          ],
          [
           "Cyrano de Bergerac"
          ],
          [
           "Cyrano de Bergerac"
          ],
          [
           "Cyrano de Bergerac"
          ],
          [
           "Czechoslovakia 1968"
          ],
          [
           "Dallas Buyers Club"
          ],
          [
           "Dances with Wolves"
          ],
          [
           "Dangerous"
          ],
          [
           "Dangerous Liaisons"
          ],
          [
           "Dangerous Liaisons"
          ],
          [
           "Dangerous Moves (La Diagonale du fou)"
          ],
          [
           "Darkest Hour"
          ],
          [
           "Darling"
          ],
          [
           "Darling"
          ],
          [
           "Darling"
          ],
          [
           "Darling"
          ],
          [
           "Darling"
          ],
          [
           "Darling"
          ],
          [
           "Day for Night (La Nuit américaine)"
          ],
          [
           "Day of the Painter"
          ],
          [
           "Daybreak in Udi"
          ],
          [
           "Days of Heaven"
          ],
          [
           "Days of Waiting"
          ],
          [
           "Days of Wine and Roses"
          ],
          [
           "Dead Man Walking"
          ],
          [
           "Dead Poets Society"
          ],
          [
           "Deadly Deception: General Electric, Nuclear Weapons and Our Environment"
          ],
          [
           "Dear Diary"
          ],
          [
           "Death Becomes Her"
          ],
          [
           "Death on the Nile"
          ],
          [
           "Death on the Nile"
          ],
          [
           "Death on the Nile"
          ],
          [
           "December 7th"
          ],
          [
           "Decision to Leave"
          ],
          [
           "Declaration of Independence"
          ],
          [
           "Defending Our Lives"
          ],
          [
           "Demolition"
          ],
          [
           "Departures"
          ],
          [
           "Der Fuehrer's Face"
          ],
          [
           "Dersu Uzala"
          ],
          [
           "Dersu Uzala"
          ],
          [
           "Desert Victory"
          ],
          [
           "Design for Death"
          ],
          [
           "Designing Woman"
          ],
          [
           "Destination Moon"
          ],
          [
           "Diary of a Fleeting Affair"
          ],
          [
           "Dick Tracy"
          ],
          [
           "Dick Tracy"
          ],
          [
           "Dick Tracy"
          ],
          [
           "Dirty Dancing"
          ],
          [
           "Disraeli"
          ],
          [
           "Dissonance"
          ],
          [
           "Divorce Italian Style"
          ],
          [
           "Doctor Dolittle"
          ],
          [
           "Doctor Zhivago"
          ],
          [
           "Dodsworth"
          ],
          [
           "Dog Day Afternoon"
          ],
          [
           "Dogs"
          ],
          [
           "Don't"
          ],
          [
           "Don't Be Bad"
          ],
          [
           "Don't Tell"
          ],
          [
           "Down Under"
          ],
          [
           "Down and Out in America"
          ],
          [
           "Dr. Jekyll and Mr. Hyde"
          ],
          [
           "Dream Scenario"
          ],
          [
           "Dreamgirls"
          ],
          [
           "Dreams Rewired"
          ],
          [
           "Drive My Car"
          ],
          [
           "Driving Miss Daisy"
          ],
          [
           "Dumbo"
          ],
          [
           "Dune"
          ],
          [
           "Dunkirk"
          ],
          [
           "Dunkirk"
          ],
          [
           "Dylan Thomas"
          ],
          [
           "E.T.: The Extra-Terrestrial"
          ],
          [
           "EO"
          ],
          [
           "Earthquake"
          ],
          [
           "Earthquake"
          ],
          [
           "East of Eden"
          ],
          [
           "Easter Parade"
          ],
          [
           "Ed Wood"
          ],
          [
           "Educating Peter"
          ],
          [
           "Election Night (Valgaften)"
          ],
          [
           "Elizabeth"
          ],
          [
           "Elizabeth: The Golden Age"
          ],
          [
           "Elle"
          ],
          [
           "Elmer Gantry"
          ],
          [
           "Elvis"
          ],
          [
           "Embrace of the Serpent"
          ],
          [
           "Empire of Light"
          ],
          [
           "Encanto"
          ],
          [
           "Erin Brockovich"
          ],
          [
           "Eskimo"
          ],
          [
           "Eternal Sunshine of the Spotless Mind"
          ],
          [
           "Every Child"
          ],
          [
           "Everything Everywhere All at Once"
          ],
          [
           "Evita"
          ],
          [
           "Evita"
          ],
          [
           "Ex Machina"
          ],
          [
           "Exodus"
          ],
          [
           "Exodus"
          ],
          [
           "Exodus"
          ],
          [
           "Exodus"
          ],
          [
           "Facing Your Danger"
          ],
          [
           "Falcon Lake"
          ],
          [
           "Fallen Leaves"
          ],
          [
           "Fame"
          ],
          [
           "Fame"
          ],
          [
           "Fanny & Alexander (Fanny och Alexander)"
          ],
          [
           "Fantastic Beasts and Where to Find Them"
          ],
          [
           "Fantastic Voyage"
          ],
          [
           "Fargo"
          ],
          [
           "Father Goose"
          ],
          [
           "Fatima"
          ],
          [
           "Feast"
          ],
          [
           "Federico Fellini's 8½"
          ],
          [
           "Fences"
          ],
          [
           "Fiddler on the Roof"
          ],
          [
           "Filip"
          ],
          [
           "Film Stars Don't Die in Liverpool"
          ],
          [
           "Finding Nemo"
          ],
          [
           "Finding Neverland"
          ],
          [
           "Fiore"
          ],
          [
           "Fire at Sea"
          ],
          [
           "First Steps"
          ],
          [
           "Flamenco at 5:15"
          ],
          [
           "Flashdance"
          ],
          [
           "Florence Foster Jenkins"
          ],
          [
           "Folies Bergere"
          ],
          [
           "For Whom the Bell Tolls"
          ],
          [
           "For the Birds"
          ],
          [
           "Forever Young"
          ],
          [
           "Forrest Gump"
          ],
          [
           "Four Daughters"
          ],
          [
           "Foxtrot"
          ],
          [
           "Frank Film"
          ],
          [
           "Frantz"
          ],
          [
           "Franz Kafka's It's a Wonderful Life"
          ],
          [
           "Free In Deed"
          ],
          [
           "Freeheld"
          ],
          [
           "Freeheld"
          ],
          [
           "Frenchman's Creek"
          ],
          [
           "Frida"
          ],
          [
           "Frida"
          ],
          [
           "From Here to Eternity"
          ],
          [
           "From Here to Eternity"
          ],
          [
           "From Mao to Mozart: Isaac Stern in China"
          ],
          [
           "From the Land of the Moon"
          ],
          [
           "Frozen"
          ],
          [
           "Funny Girl"
          ],
          [
           "Gabriel and the Mountain"
          ],
          [
           "Gandhi"
          ],
          [
           "Gaslight"
          ],
          [
           "Gaslight"
          ],
          [
           "Gate of Hell (Jigokumon)"
          ],
          [
           "Genocide"
          ],
          [
           "Gentleman's Agreement"
          ],
          [
           "Gerald McBoing-Boing"
          ],
          [
           "Geri's Game"
          ],
          [
           "Get Out"
          ],
          [
           "Get Out Your Handkerchiefs (Préparez vos mouchoirs)"
          ],
          [
           "Ghost"
          ],
          [
           "Giant"
          ],
          [
           "Giant"
          ],
          [
           "Gigi"
          ],
          [
           "Gigi"
          ],
          [
           "Girl Asleep"
          ],
          [
           "Girl, Interrupted"
          ],
          [
           "Girls Lost"
          ],
          [
           "Giuseppina"
          ],
          [
           "Give Me Liberty"
          ],
          [
           "Gladiator"
          ],
          [
           "Gladiator"
          ],
          [
           "Glass (Glas)"
          ],
          [
           "Glass Onion: A Knives Out Mystery"
          ],
          [
           "Glory"
          ],
          [
           "Glory"
          ],
          [
           "Glory"
          ],
          [
           "God of Love"
          ],
          [
           "Godland"
          ],
          [
           "Godless"
          ],
          [
           "Gods and Monsters"
          ],
          [
           "Gods of Egypt"
          ],
          [
           "Godzilla Minus One"
          ],
          [
           "Going My Way"
          ],
          [
           "Gold"
          ],
          [
           "Gold Diggers of 1935"
          ],
          [
           "Goldfinger"
          ],
          [
           "Goldstone"
          ],
          [
           "Gone with the Wind"
          ],
          [
           "Good Manners"
          ],
          [
           "Good Will Hunting"
          ],
          [
           "Goodbye, Miss Turlock"
          ],
          [
           "Goodbye, Mr. Chips"
          ],
          [
           "Goodbye, Mr. Chips"
          ],
          [
           "Goodfellas"
          ],
          [
           "Gosford Park"
          ],
          [
           "Graduation"
          ],
          [
           "Gran Turismo"
          ],
          [
           "Grand Canyon"
          ],
          [
           "Grand Canyon"
          ],
          [
           "Grand Hotel"
          ],
          [
           "Grand Prix"
          ],
          [
           "Grand Prix"
          ],
          [
           "Grand Prix"
          ],
          [
           "Gravity Is My Enemy"
          ],
          [
           "Great (Great (Isambard Kingdom Brunel))"
          ],
          [
           "Great Expectations"
          ],
          [
           "Green Border"
          ],
          [
           "Green Dolphin Street"
          ],
          [
           "Green Room"
          ],
          [
           "Greetings from Fukushima"
          ],
          [
           "Guess Who's Coming to Dinner"
          ],
          [
           "Gutland"
          ],
          [
           "Hacksaw Ridge"
          ],
          [
           "Halal Love"
          ],
          [
           "Hamlet"
          ],
          [
           "Hamlet"
          ],
          [
           "Hamlet"
          ],
          [
           "Hamlet"
          ],
          [
           "Hamlet"
          ],
          [
           "Hamlet"
          ],
          [
           "Hamlet"
          ],
          [
           "Hamlet"
          ],
          [
           "Hamlet"
          ],
          [
           "Hanagatami"
          ],
          [
           "Hannah and Her Sisters"
          ],
          [
           "Happy Anniversary (Heureux Anniversaire)"
          ],
          [
           "Happy End"
          ],
          [
           "Happy Feet"
          ],
          [
           "Happy Feet"
          ],
          [
           "Harlan County, USA"
          ],
          [
           "Harry and Tonto"
          ],
          [
           "Harry and the Hendersons"
          ],
          [
           "Harvey"
          ],
          [
           "Harvey"
          ],
          [
           "Harvie Krumpet"
          ],
          [
           "He Makes Me Feel Like Dancin'"
          ],
          [
           "Heart of Oak"
          ],
          [
           "Heart of a Dog"
          ],
          [
           "Hearts and Minds"
          ],
          [
           "Heartstone"
          ],
          [
           "Heaven Can Wait"
          ],
          [
           "Heaven Can Wait"
          ],
          [
           "Heaven Is a Traffic Jam on the 405"
          ],
          [
           "Heavenly Music"
          ],
          [
           "Helium"
          ],
          [
           "Hell or High Water"
          ],
          [
           "Hello, Dolly!"
          ],
          [
           "Hello, Frisco, Hello"
          ],
          [
           "Henry V"
          ],
          [
           "Henry V"
          ],
          [
           "Henry V"
          ],
          [
           "Her"
          ],
          [
           "Here Comes Mr. Jordan"
          ],
          [
           "Here Comes the Groom"
          ],
          [
           "Hidden Figures"
          ],
          [
           "High Noon"
          ],
          [
           "High Noon"
          ],
          [
           "High-Rise"
          ],
          [
           "Hitler Lives"
          ],
          [
           "Holding the Man"
          ],
          [
           "Holiday Inn"
          ],
          [
           "Holy Spider"
          ],
          [
           "Home"
          ],
          [
           "Hounds of Love"
          ],
          [
           "How Green Was My Valley"
          ],
          [
           "How the Grinch Stole Christmas"
          ],
          [
           "How the West Was Won"
          ],
          [
           "How to Have Sex"
          ],
          [
           "How to Sleep"
          ],
          [
           "Howards End"
          ],
          [
           "Hud"
          ],
          [
           "Hud"
          ],
          [
           "Hugo"
          ],
          [
           "Hustle & Flow"
          ],
          [
           "Hôtel Terminus: The Life and Times of Klaus Barbie"
          ],
          [
           "I Am Not a Witch"
          ],
          [
           "I Am Your Father"
          ],
          [
           "I Am a Promise: The Children of Stanton Elementary School"
          ],
          [
           "I Want to Live!"
          ],
          [
           "I Wanted Wings"
          ],
          [
           "I Won't Play"
          ],
          [
           "I'll Cry Tomorrow"
          ],
          [
           "I'll Find a Way"
          ],
          [
           "I, Daniel Blake"
          ],
          [
           "I, Tonya"
          ],
          [
           "Icarus"
          ],
          [
           "Icarus"
          ],
          [
           "Ida"
          ],
          [
           "If You Love This Planet"
          ],
          [
           "In Beaver Valley"
          ],
          [
           "In Bed with Victoria"
          ],
          [
           "In Old Arizona"
          ],
          [
           "In Old Chicago"
          ],
          [
           "In a Better World"
          ],
          [
           "In the Fade"
          ],
          [
           "In the Heat of the Night"
          ],
          [
           "In the Region of Ice"
          ],
          [
           "In the Shadow of the Stars"
          ],
          [
           "Inception"
          ],
          [
           "Incident Light"
          ],
          [
           "Independence Day"
          ],
          [
           "Independence Day"
          ],
          [
           "Indiana Jones and the Temple of Doom"
          ],
          [
           "Indivisible"
          ],
          [
           "Indochine"
          ],
          [
           "Inglourious Basterds"
          ],
          [
           "Innerspace"
          ],
          [
           "Innocence of Memories"
          ],
          [
           "Inocente"
          ],
          [
           "Inside Job"
          ],
          [
           "Inside Out"
          ],
          [
           "Interrupted Melody"
          ],
          [
           "Interviews with My Lai Veterans"
          ],
          [
           "Into the Arms of Strangers: Stories of the Kindertransport"
          ],
          [
           "Investigation of a Citizen Above Suspicion (Indagine su un cittadino al di sopra di ogni sospetto)"
          ],
          [
           "Io capitano"
          ],
          [
           "Iris"
          ],
          [
           "Iris"
          ],
          [
           "Irma la Douce"
          ],
          [
           "Irréprochable"
          ],
          [
           "Is It Always Right to Be Right?"
          ],
          [
           "It Happened One Night"
          ],
          [
           "It's a Mad, Mad, Mad, Mad World"
          ],
          [
           "Italian Race"
          ],
          [
           "JFK"
          ],
          [
           "Jasper Jones"
          ],
          [
           "Jaws"
          ],
          [
           "Jerry Maguire"
          ],
          [
           "Jeune Femme"
          ],
          [
           "Jezebel"
          ],
          [
           "Joan of Arc"
          ],
          [
           "Joan of Arc"
          ],
          [
           "Joan of Arc"
          ],
          [
           "Joe Cinque's Consolation"
          ],
          [
           "Johnny Belinda"
          ],
          [
           "Johnny Belinda"
          ],
          [
           "Johnny Eager"
          ],
          [
           "Journey into Self"
          ],
          [
           "Journey of Hope (Reise der Hoffnung)"
          ],
          [
           "Judas and the Black Messiah"
          ],
          [
           "Judgment at Nuremberg"
          ],
          [
           "Julia"
          ],
          [
           "Julia"
          ],
          [
           "Julieta"
          ],
          [
           "Julius Caesar"
          ],
          [
           "Julius Caesar"
          ],
          [
           "Julius Caesar"
          ],
          [
           "Julius Caesar"
          ],
          [
           "Jungle"
          ],
          [
           "Juno"
          ],
          [
           "Jupiter's Moon"
          ],
          [
           "Jurassic Park"
          ],
          [
           "Just Another Missing Kid"
          ],
          [
           "Karl Hess: Toward Liberty"
          ],
          [
           "Keeper"
          ],
          [
           "Kentucky"
          ],
          [
           "Key House Mirror"
          ],
          [
           "Key Largo"
          ],
          [
           "Kill the Jockey"
          ],
          [
           "King Richard"
          ],
          [
           "King Solomon's Mines"
          ],
          [
           "King Solomon's Mines"
          ],
          [
           "King Solomon's Mines"
          ],
          [
           "King Solomon's Mines"
          ],
          [
           "King of Jazz"
          ],
          [
           "King of the Belgians"
          ],
          [
           "Kiss of the Spider Woman"
          ],
          [
           "Kitchen Brigade"
          ],
          [
           "Kitty Foyle (Kitty Foyle: The Natural History of a Woman)"
          ],
          [
           "Klute"
          ],
          [
           "Kokoda Front Line!"
          ],
          [
           "Kolya"
          ],
          [
           "Kon-Tiki"
          ],
          [
           "Krakatoa"
          ],
          [
           "Kramer vs. Kramer"
          ],
          [
           "L'Astragale"
          ],
          [
           "L.A. Confidential"
          ],
          [
           "La Cucaracha"
          ],
          [
           "La Cucaracha"
          ],
          [
           "La Cucaracha"
          ],
          [
           "La Dolce Vita"
          ],
          [
           "La La La at Rock Bottom"
          ],
          [
           "La La Land"
          ],
          [
           "La Maison en Petits Cubes"
          ],
          [
           "La Strada (The Road)"
          ],
          [
           "La Vie en rose"
          ],
          [
           "Lady Be Good"
          ],
          [
           "Lady Bird"
          ],
          [
           "Lady Macbeth"
          ],
          [
           "Lamb"
          ],
          [
           "Last Cab To Darwin"
          ],
          [
           "Laura"
          ],
          [
           "Laura"
          ],
          [
           "Lawrence of Arabia"
          ],
          [
           "Lean on Pete"
          ],
          [
           "Leave Her to Heaven"
          ],
          [
           "Leaving Las Vegas"
          ],
          [
           "Legends of the Fall"
          ],
          [
           "Leisure"
          ],
          [
           "Lemony Snicket's A Series of Unfortunate Events"
          ],
          [
           "Les Girls"
          ],
          [
           "Les Misérables"
          ],
          [
           "Les Misérables"
          ],
          [
           "Les Misérables"
          ],
          [
           "Les Misérables"
          ],
          [
           "Les Misérables"
          ],
          [
           "Les Misérables"
          ],
          [
           "Les Misérables"
          ],
          [
           "Les Misérables"
          ],
          [
           "Les Misérables"
          ],
          [
           "Les Misérables"
          ],
          [
           "Les Ogres"
          ],
          [
           "Let It Be"
          ],
          [
           "Let the Sunshine In"
          ],
          [
           "Letters from Iwo Jima"
          ],
          [
           "Lieberman in Love"
          ],
          [
           "Life Is Beautiful (La vita è bella)"
          ],
          [
           "Life of Pi"
          ],
          [
           "Light in the Window"
          ],
          [
           "Like Crazy"
          ],
          [
           "Lili"
          ],
          [
           "Lilies of the Field"
          ],
          [
           "Lilies of the Field"
          ],
          [
           "Lilies of the Field"
          ],
          [
           "Limelight"
          ],
          [
           "Lion"
          ],
          [
           "Little Miss Sunshine"
          ],
          [
           "Little Nicholas - Happy as Can Be"
          ],
          [
           "Little Wing"
          ],
          [
           "Little Women"
          ],
          [
           "Little Women"
          ],
          [
           "Little Women"
          ],
          [
           "Little Women"
          ],
          [
           "Little Women"
          ],
          [
           "Living"
          ],
          [
           "Liza, the Fox-Fairy"
          ],
          [
           "Logan"
          ],
          [
           "Logorama"
          ],
          [
           "Look Who's Back"
          ],
          [
           "Lost Horizon"
          ],
          [
           "Lost Horizon"
          ],
          [
           "Lost and Beautiful"
          ],
          [
           "Lost in Translation"
          ],
          [
           "Love & Friendship"
          ],
          [
           "Love According to Dalva"
          ],
          [
           "Love Is a Many-Splendored Thing"
          ],
          [
           "Love Me or Leave Me"
          ],
          [
           "Love Story"
          ],
          [
           "Love Story"
          ],
          [
           "Love Story"
          ],
          [
           "Love Story"
          ],
          [
           "Love Story"
          ],
          [
           "Love Story"
          ],
          [
           "Love Story"
          ],
          [
           "Loveless"
          ],
          [
           "Lovers and Other Strangers"
          ],
          [
           "Lust for Life"
          ],
          [
           "M*A*S*H"
          ],
          [
           "M. and Mme Adelman"
          ],
          [
           "Mabata Bata"
          ],
          [
           "Mad Max: Fury Road"
          ],
          [
           "Madame Rosa (La Vie devant soi)"
          ],
          [
           "Main Street on the March!"
          ],
          [
           "Mammal"
          ],
          [
           "Man on Wire"
          ],
          [
           "Manchester by the Sea"
          ],
          [
           "Manhattan Melodrama"
          ],
          [
           "Manipulation"
          ],
          [
           "Mantícora"
          ],
          [
           "Marcel!"
          ],
          [
           "March of the Penguins (La Marche de l'empereur)"
          ],
          [
           "Marguerite"
          ],
          [
           "Maria"
          ],
          [
           "Marie Antoinette"
          ],
          [
           "Marie Antoinette"
          ],
          [
           "Marjoe"
          ],
          [
           "Marlina the Murderer in Four Acts"
          ],
          [
           "Marooned"
          ],
          [
           "Marty"
          ],
          [
           "Mary Poppins"
          ],
          [
           "Mask"
          ],
          [
           "Master and Commander: The Far Side of the World"
          ],
          [
           "Maya Lin: A Strong Clear Vision"
          ],
          [
           "Meda or the Not So Bright Side of Things"
          ],
          [
           "Mediterranea"
          ],
          [
           "Mediterraneo"
          ],
          [
           "Melvin and Howard"
          ],
          [
           "Memoirs of a Geisha"
          ],
          [
           "Men & Chicken"
          ],
          [
           "Men Against the Arctic"
          ],
          [
           "Men in Black"
          ],
          [
           "Mephisto"
          ],
          [
           "Michael Clayton"
          ],
          [
           "Midnight Cowboy"
          ],
          [
           "Midnight Express"
          ],
          [
           "Midnight in Paris"
          ],
          [
           "Mighty Aphrodite"
          ],
          [
           "Mighty Joe Young"
          ],
          [
           "Mighty Joe Young"
          ],
          [
           "Mighty Times: The Children's March"
          ],
          [
           "Mildred Pierce"
          ],
          [
           "Milk"
          ],
          [
           "Million Dollar Baby"
          ],
          [
           "Million Dollar Baby"
          ],
          [
           "Min and Bill"
          ],
          [
           "Miracle on 34th Street"
          ],
          [
           "Miracle on 34th Street"
          ],
          [
           "Miracle on 34th Street"
          ],
          [
           "Misery"
          ],
          [
           "Missing"
          ],
          [
           "Missing"
          ],
          [
           "Mississippi Burning"
          ],
          [
           "Mister Roberts"
          ],
          [
           "Mister Roberts"
          ],
          [
           "Molly's Game"
          ],
          [
           "Molly's Pilgrim"
          ],
          [
           "Mom and Other Loonies in the Family"
          ],
          [
           "Mon roi"
          ],
          [
           "Mona Lisa Descending a Staircase"
          ],
          [
           "Monster"
          ],
          [
           "Monster"
          ],
          [
           "Monster"
          ],
          [
           "Monster"
          ],
          [
           "Monster's Ball"
          ],
          [
           "Monsters, Inc."
          ],
          [
           "Montreal, White City"
          ],
          [
           "Moonlight"
          ],
          [
           "Moonstruck"
          ],
          [
           "Morning Glory"
          ],
          [
           "Moscow Does Not Believe in Tears"
          ],
          [
           "Mother Wore Tights"
          ],
          [
           "Moulin Rouge"
          ],
          [
           "Moulin Rouge"
          ],
          [
           "Moulin Rouge"
          ],
          [
           "Moulin Rouge!"
          ],
          [
           "Mountains May Depart"
          ],
          [
           "Mr Hublot"
          ],
          [
           "Mr. Deeds Goes to Town"
          ],
          [
           "Mr. Smith Goes to Washington"
          ],
          [
           "Mrs. Doubtfire"
          ],
          [
           "Mrs. Miniver"
          ],
          [
           "Much Loved"
          ],
          [
           "Mudbound"
          ],
          [
           "Munro"
          ],
          [
           "Murder on a Sunday Morning (Un coupable idéal)"
          ],
          [
           "Murder on the Orient Express"
          ],
          [
           "Murder on the Orient Express"
          ],
          [
           "Murder on the Orient Express"
          ],
          [
           "Music by Prudence"
          ],
          [
           "Mustang"
          ],
          [
           "Mutiny on the Bounty"
          ],
          [
           "Mutiny on the Bounty"
          ],
          [
           "My Cousin Vinny"
          ],
          [
           "My Fair Lady"
          ],
          [
           "My Gal Sal"
          ],
          [
           "My Left Foot"
          ],
          [
           "My Love Affair with Marriage"
          ],
          [
           "My Mother"
          ],
          [
           "My Mother Dreams the Satan's Disciples in New York"
          ],
          [
           "My Uncle (Mon oncle)"
          ],
          [
           "Mystic River"
          ],
          [
           "Napoli velata"
          ],
          [
           "Nashville"
          ],
          [
           "National Velvet"
          ],
          [
           "Nature's Half Acre"
          ],
          [
           "Naughty Marietta"
          ],
          [
           "Navalny"
          ],
          [
           "Nefarious"
          ],
          [
           "Neighbours"
          ],
          [
           "Neon Bull"
          ],
          [
           "Neptune's Daughter"
          ],
          [
           "Network"
          ],
          [
           "Never on Sunday (Pote tin Kyriaki)"
          ],
          [
           "Nicholas and Alexandra"
          ],
          [
           "Nico, 1988"
          ],
          [
           "Night and Fog in Zona"
          ],
          [
           "Nights of Cabiria (Le Notti di Cabiria)"
          ],
          [
           "Nina"
          ],
          [
           "Nine from Little Rock"
          ],
          [
           "No Country for Old Men"
          ],
          [
           "No Man's Land"
          ],
          [
           "No Man's Land"
          ],
          [
           "No Man's Land"
          ],
          [
           "No Men Beyond This Point"
          ],
          [
           "No Time to Die"
          ],
          [
           "Nocturnal Animals"
          ],
          [
           "None But the Lonely Heart"
          ],
          [
           "Norma Rae"
          ],
          [
           "Norman Rockwell's World... An American Dream"
          ],
          [
           "North West Mounted Police"
          ],
          [
           "Nostalgia"
          ],
          [
           "Now Add Honey"
          ],
          [
           "Now, Voyager"
          ],
          [
           "Nowhere in Africa (Nirgendwo in Afrika)"
          ],
          [
           "Number Our Days"
          ],
          [
           "Nuts!"
          ],
          [
           "O.J.: Made in America"
          ],
          [
           "Oblivion Verses"
          ],
          [
           "Oddball"
          ],
          [
           "Of Fathers and Sons"
          ],
          [
           "Of Pups and Puzzles"
          ],
          [
           "Oklahoma!"
          ],
          [
           "Oliver!"
          ],
          [
           "Omnibus"
          ],
          [
           "On Body and Soul"
          ],
          [
           "On Golden Pond"
          ],
          [
           "On the Adamant"
          ],
          [
           "On the Town"
          ],
          [
           "On the Waterfront"
          ],
          [
           "Once"
          ],
          [
           "One Day in September"
          ],
          [
           "One Fine Morning"
          ],
          [
           "One Flew Over the Cuckoo's Nest"
          ],
          [
           "One Hundred Men and a Girl"
          ],
          [
           "One Man and His Cow"
          ],
          [
           "One Night of Love"
          ],
          [
           "One Survivor Remembers"
          ],
          [
           "One Way Passage"
          ],
          [
           "One-Eyed Men Are Kings (...borgnes sont rois, Les)"
          ],
          [
           "Operation Avalanche"
          ],
          [
           "Oppenheimer"
          ],
          [
           "Ordinary People"
          ],
          [
           "Ordinary People"
          ],
          [
           "Oscuro Animal"
          ],
          [
           "Out"
          ],
          [
           "Out of Africa"
          ],
          [
           "Overture to The Merry Wives of Windsor"
          ],
          [
           "Pacifiction"
          ],
          [
           "Pamfir"
          ],
          [
           "Pan's Labyrinth (El laberinto del fauno)"
          ],
          [
           "Panic in the Streets"
          ],
          [
           "Papa's Delicate Condition"
          ],
          [
           "Paper Moon"
          ],
          [
           "Paper Planes"
          ],
          [
           "Parasite"
          ],
          [
           "Partisan"
          ],
          [
           "Paths of the Soul"
          ],
          [
           "Patton"
          ],
          [
           "Paul Robeson: Tribute to an Artist"
          ],
          [
           "Pearl Harbor"
          ],
          [
           "Pelle the Conqueror (Pelle erobreren)"
          ],
          [
           "Penny Wisdom"
          ],
          [
           "Per amor vostro"
          ],
          [
           "Perfect Days"
          ],
          [
           "Perfect Strangers"
          ],
          [
           "Peter & the Wolf"
          ],
          [
           "Phantom Thread"
          ],
          [
           "Phantom of the Opera"
          ],
          [
           "Philadelphia"
          ],
          [
           "Picnic"
          ],
          [
           "Picnic"
          ],
          [
           "Pieta in the Toilet"
          ],
          [
           "Pillow Talk"
          ],
          [
           "Pin Cushion"
          ],
          [
           "Pinocchio"
          ],
          [
           "Pinocchio"
          ],
          [
           "Pinocchio"
          ],
          [
           "Pinocchio"
          ],
          [
           "Piper"
          ],
          [
           "Pirates of the Caribbean: Dead Man's Chest"
          ],
          [
           "Places in the Heart"
          ],
          [
           "Plan 75"
          ],
          [
           "Platoon"
          ],
          [
           "Plymouth Adventure"
          ],
          [
           "Pocahontas"
          ],
          [
           "Pocahontas"
          ],
          [
           "Poet on a Business Trip"
          ],
          [
           "Pollock"
          ],
          [
           "Poor Things"
          ],
          [
           "Porgy and Bess"
          ],
          [
           "Pororoca"
          ],
          [
           "Portrait of Jennie"
          ],
          [
           "Precious"
          ],
          [
           "Precious Images"
          ],
          [
           "Prejudice"
          ],
          [
           "Prelude to War"
          ],
          [
           "Price of Love"
          ],
          [
           "Pride and Prejudice"
          ],
          [
           "Princess O'Rourke"
          ],
          [
           "Princeton: A Search for Answers"
          ],
          [
           "Prizzi's Honor"
          ],
          [
           "Pulp Fiction"
          ],
          [
           "Purple Rain"
          ],
          [
           "Pygmalion"
          ],
          [
           "Pygmalion"
          ],
          [
           "Pygmalion"
          ],
          [
           "Pygmalion"
          ],
          [
           "Quest"
          ],
          [
           "Quest for Fire"
          ],
          [
           "Quicker'n a Wink"
          ],
          [
           "RRR"
          ],
          [
           "Rabiye Kurnaz vs. George W. Bush"
          ],
          [
           "Radiance"
          ],
          [
           "Radio Dreams"
          ],
          [
           "Raging Bull"
          ],
          [
           "Raiders of the Lost Ark"
          ],
          [
           "Raiders!: The Story of the Greatest Fan Film Ever Made"
          ],
          [
           "Rain Man"
          ],
          [
           "Rams"
          ],
          [
           "Ran"
          ],
          [
           "Rango"
          ],
          [
           "Rango"
          ],
          [
           "Ratatouille"
          ],
          [
           "Ravens"
          ],
          [
           "Raw"
          ],
          [
           "Ray"
          ],
          [
           "Ray's Male Heterosexual Dance Hall"
          ],
          [
           "Razzia"
          ],
          [
           "Reap the Wild Wind"
          ],
          [
           "Rebecca"
          ],
          [
           "Rebecca"
          ],
          [
           "Rebecca"
          ],
          [
           "Red Dog: True Blue"
          ],
          [
           "Reds"
          ],
          [
           "Respect"
          ],
          [
           "Restoration"
          ],
          [
           "Reversal of Fortune"
          ],
          [
           "Reversal of Fortune"
          ],
          [
           "Reversal of Fortune"
          ],
          [
           "Rise"
          ],
          [
           "Road to Perdition"
          ],
          [
           "Robert Frost: A Lover's Quarrel with the World"
          ],
          [
           "Robot Dreams"
          ],
          [
           "Rocky"
          ],
          [
           "Rocky"
          ],
          [
           "Rogue One: A Star Wars Story"
          ],
          [
           "Roma"
          ],
          [
           "Roma"
          ],
          [
           "Roman Holiday"
          ],
          [
           "Roman Holiday"
          ],
          [
           "Romeo and Juliet"
          ],
          [
           "Romeo and Juliet"
          ],
          [
           "Romeo and Juliet"
          ],
          [
           "Romeo and Juliet"
          ],
          [
           "Romeo and Juliet"
          ],
          [
           "Romeo and Juliet"
          ],
          [
           "Romeo and Juliet"
          ],
          [
           "Room"
          ],
          [
           "Room at the Top"
          ],
          [
           "Room at the Top"
          ],
          [
           "Rosemary's Baby"
          ],
          [
           "Round Midnight"
          ],
          [
           "Ruben Guthrie"
          ],
          [
           "Ryan"
          ],
          [
           "Ryan's Daughter"
          ],
          [
           "S Is for Stanley"
          ],
          [
           "Sabrina"
          ],
          [
           "Sabrina"
          ],
          [
           "Safe Place"
          ],
          [
           "Saint Omer"
          ],
          [
           "Sami Blood"
          ],
          [
           "Samson and Delilah"
          ],
          [
           "San Francisco"
          ],
          [
           "San Francisco"
          ],
          [
           "Sand Storm"
          ],
          [
           "Satan's Slaves"
          ],
          [
           "Save the Tiger"
          ],
          [
           "Saving Face"
          ],
          [
           "Saving Private Ryan"
          ],
          [
           "Sayonara"
          ],
          [
           "Sayonara"
          ],
          [
           "Scared Straight!"
          ],
          [
           "Scary Mother"
          ],
          [
           "Scent of a Woman"
          ],
          [
           "Schindler's List"
          ],
          [
           "Seal Island"
          ],
          [
           "Searching for Sugar Man"
          ],
          [
           "Seawards the Great Ships"
          ],
          [
           "Seeds of Destiny"
          ],
          [
           "Selma"
          ],
          [
           "Sense and Sensibility"
          ],
          [
           "Sentinels of Silence"
          ],
          [
           "Separate Tables"
          ],
          [
           "Sergeant York"
          ],
          [
           "Servant of the People 2"
          ],
          [
           "Session Man"
          ],
          [
           "Seven Brides for Seven Brothers"
          ],
          [
           "Seven Days to Noon"
          ],
          [
           "Shaft"
          ],
          [
           "Shaft"
          ],
          [
           "Shakespeare in Love"
          ],
          [
           "Shampoo"
          ],
          [
           "Shane"
          ],
          [
           "Shanghai Express"
          ],
          [
           "She Wore a Yellow Ribbon"
          ],
          [
           "Shine"
          ],
          [
           "Ship of Fools"
          ],
          [
           "Showing Up"
          ],
          [
           "Shrek"
          ],
          [
           "Sideways"
          ],
          [
           "Silver Linings Playbook"
          ],
          [
           "Silver Rain"
          ],
          [
           "Since You Went Away"
          ],
          [
           "Sing"
          ],
          [
           "Sing"
          ],
          [
           "Six Shooter"
          ],
          [
           "Skin"
          ],
          [
           "Skippy"
          ],
          [
           "Sleepy Hollow"
          ],
          [
           "Sling Blade"
          ],
          [
           "Slow West"
          ],
          [
           "Slumdog Millionaire"
          ],
          [
           "Smile Pinki"
          ],
          [
           "Smoke Sauna Sisterhood"
          ],
          [
           "So Much for So Little"
          ],
          [
           "So This Is Harris!"
          ],
          [
           "Some Like It Hot"
          ],
          [
           "Some Like It Hot"
          ],
          [
           "Somebody Up There Likes Me"
          ],
          [
           "Son of Mine"
          ],
          [
           "Son of Saul"
          ],
          [
           "Song Without End"
          ],
          [
           "Song of the South"
          ],
          [
           "Sonic the Hedgehog 2"
          ],
          [
           "Sons and Lovers"
          ],
          [
           "Sons of Liberty"
          ],
          [
           "Sophie's Choice"
          ],
          [
           "Soul"
          ],
          [
           "South Pacific"
          ],
          [
           "South Pacific"
          ],
          [
           "South of 8"
          ],
          [
           "Spartacus"
          ],
          [
           "Spartacus"
          ],
          [
           "Speaking of Animals and Their Families"
          ],
          [
           "Spear"
          ],
          [
           "Special Delivery"
          ],
          [
           "Spectre"
          ],
          [
           "Spectre"
          ],
          [
           "Speed"
          ],
          [
           "Speed"
          ],
          [
           "Speed"
          ],
          [
           "Spellbound"
          ],
          [
           "Spellbound"
          ],
          [
           "Spellbound"
          ],
          [
           "Spellbound"
          ],
          [
           "Spellbound"
          ],
          [
           "Spider-Man 2"
          ],
          [
           "Spirited Away"
          ],
          [
           "Splendor in the Grass"
          ],
          [
           "Splendor in the Grass"
          ],
          [
           "Spotlight"
          ],
          [
           "Stagecoach"
          ],
          [
           "Stagecoach"
          ],
          [
           "Stagecoach"
          ],
          [
           "Stairway to Light"
          ],
          [
           "Stalag 17"
          ],
          [
           "Standing Tall"
          ],
          [
           "Star Trek"
          ],
          [
           "Star Wars"
          ],
          [
           "Star Wars: Episode VIII – The Last Jedi"
          ],
          [
           "Star in the Night"
          ],
          [
           "State Fair"
          ],
          [
           "State Fair"
          ],
          [
           "State Fair"
          ],
          [
           "Still Alice"
          ],
          [
           "Straight Outta Compton"
          ],
          [
           "Strangers No More"
          ],
          [
           "Street Angel"
          ],
          [
           "Strike Up the Band"
          ],
          [
           "Stutterer"
          ],
          [
           "Suburra"
          ],
          [
           "Suicide Squad"
          ],
          [
           "Summer 1993"
          ],
          [
           "Summer of '42"
          ],
          [
           "Summertime"
          ],
          [
           "Sundae in New York"
          ],
          [
           "Sundays and Cybele (Le Dimanches de Ville d'Avray)"
          ],
          [
           "Sunrise"
          ],
          [
           "Sunset Boulevard"
          ],
          [
           "Suntan"
          ],
          [
           "Survival City"
          ],
          [
           "Suspicion"
          ],
          [
           "Suzume"
          ],
          [
           "Sweeney Todd: The Demon Barber of Fleet Street"
          ],
          [
           "Sweet Bean"
          ],
          [
           "Sweet Bird of Youth"
          ],
          [
           "Sweet Country"
          ],
          [
           "Sweet Dreams"
          ],
          [
           "Swing Time"
          ],
          [
           "Symphony of a City"
          ],
          [
           "Syriana"
          ],
          [
           "Tabu"
          ],
          [
           "Tale of Tales"
          ],
          [
           "Talk to Her (Hable con ella)"
          ],
          [
           "Tango"
          ],
          [
           "Tanna"
          ],
          [
           "Tarzan"
          ],
          [
           "Taxi to the Dark Side"
          ],
          [
           "Teddy, the Rough Rider"
          ],
          [
           "Teenage Father"
          ],
          [
           "Teenage Kicks"
          ],
          [
           "Tempest"
          ],
          [
           "Tender Mercies"
          ],
          [
           "Tenderness"
          ],
          [
           "Terms of Endearment"
          ],
          [
           "Tess"
          ],
          [
           "Thank God It's Friday"
          ],
          [
           "That Hamilton Woman"
          ],
          [
           "That Mothers Might Live"
          ],
          [
           "The Abyss"
          ],
          [
           "The Abyss"
          ],
          [
           "The Abyss"
          ],
          [
           "The Accidental Tourist"
          ],
          [
           "The Accountant"
          ],
          [
           "The Accountant"
          ],
          [
           "The Accused"
          ],
          [
           "The Accused"
          ],
          [
           "The Adventures of Priscilla, Queen of the Desert"
          ],
          [
           "The Adventures of Robin Hood"
          ],
          [
           "The African Queen"
          ],
          [
           "The Age of Innocence"
          ],
          [
           "The Age of Innocence"
          ],
          [
           "The Alamo"
          ],
          [
           "The Alamo"
          ],
          [
           "The Alaskan Eskimo"
          ],
          [
           "The Amazing Maurice"
          ],
          [
           "The Anderson Platoon (La Section Anderson)"
          ],
          [
           "The Animal Kingdom"
          ],
          [
           "The Apartment"
          ],
          [
           "The Apartment"
          ],
          [
           "The Apostate"
          ],
          [
           "The Appointments of Dennis Jennings"
          ],
          [
           "The Ardennes"
          ],
          [
           "The Artist"
          ],
          [
           "The Assault (De Aanslag)"
          ],
          [
           "The Aviator"
          ],
          [
           "The Aviator"
          ],
          [
           "The Aviator"
          ],
          [
           "The Awful Truth"
          ],
          [
           "The Awful Truth"
          ],
          [
           "The Bachelor and the Bobby-Soxer"
          ],
          [
           "The Bad and the Beautiful"
          ],
          [
           "The Banshees of Inisherin"
          ],
          [
           "The Barbarian Invasions"
          ],
          [
           "The Barefoot Contessa"
          ],
          [
           "The Battle of Midway"
          ],
          [
           "The Bells of St. Mary's"
          ],
          [
           "The Bespoke Overcoat"
          ],
          [
           "The Best Years of Our Lives"
          ],
          [
           "The Big Broadcast of 1938"
          ],
          [
           "The Big Country"
          ],
          [
           "The Big House"
          ],
          [
           "The Big Short"
          ],
          [
           "The Big Sick"
          ],
          [
           "The Bishop's Wife"
          ],
          [
           "The Black Swan"
          ],
          [
           "The Blind Side"
          ],
          [
           "The Blood of Yingzhou District"
          ],
          [
           "The Bolero"
          ],
          [
           "The Bourne Ultimatum"
          ],
          [
           "The Box"
          ],
          [
           "The Brand New Testament"
          ],
          [
           "The Brave One"
          ],
          [
           "The Bride"
          ],
          [
           "The Bridge of San Luis Rey"
          ],
          [
           "The Bridge on the River Kwai"
          ],
          [
           "The Bridges at Toko-Ri"
          ],
          [
           "The Broadway Melody"
          ],
          [
           "The Buddy Holly Story"
          ],
          [
           "The Burning Cold"
          ],
          [
           "The Candidate"
          ],
          [
           "The Candidate"
          ],
          [
           "The Candidate"
          ],
          [
           "The Candidate"
          ],
          [
           "The Captain"
          ],
          [
           "The Champ"
          ],
          [
           "The Charge of the Light Brigade"
          ],
          [
           "The Charge of the Light Brigade"
          ],
          [
           "The Charge of the Light Brigade"
          ],
          [
           "The Chicken (Le Poulet)"
          ],
          [
           "The Chronicles of Narnia: The Lion, the Witch and the Wardrobe"
          ],
          [
           "The ChubbChubbs!"
          ],
          [
           "The Cider House Rules"
          ],
          [
           "The Clan"
          ],
          [
           "The Color of Money"
          ],
          [
           "The Commune"
          ],
          [
           "The Constant Gardener"
          ],
          [
           "The Counterfeiters (Die Fälscher)"
          ],
          [
           "The Country Girl"
          ],
          [
           "The Cove"
          ],
          [
           "The Cowboy and the Lady"
          ],
          [
           "The Crying Game"
          ],
          [
           "The Curious Case of Benjamin Button"
          ],
          [
           "The Dancer"
          ],
          [
           "The Danish Girl"
          ],
          [
           "The Danish Poet"
          ],
          [
           "The Dark Angel"
          ],
          [
           "The Dark Angel"
          ],
          [
           "The Dark Knight"
          ],
          [
           "The Daughter"
          ],
          [
           "The Dawn Patrol"
          ],
          [
           "The Death of Stalin"
          ],
          [
           "The Deer Hunter"
          ],
          [
           "The Defiant Ones"
          ],
          [
           "The Departed"
          ],
          [
           "The Descendants"
          ],
          [
           "The Diary of Anne Frank"
          ],
          [
           "The Diary of Anne Frank"
          ],
          [
           "The Dirty Dozen"
          ],
          [
           "The Disaster Artist"
          ],
          [
           "The Discreet Charm of the Bourgeoisie (Le charme discret de la bourgeoisie)"
          ],
          [
           "The Divine Lady"
          ],
          [
           "The Divorcee"
          ],
          [
           "The Dollar Bottom"
          ],
          [
           "The Dot and the Line (The Dot and the Line: A Romance in Lower Mathematics)"
          ],
          [
           "The Dove"
          ],
          [
           "The Dressmaker"
          ],
          [
           "The Duchess"
          ],
          [
           "The Eleanor Roosevelt Story"
          ],
          [
           "The Elephant Whisperers"
          ],
          [
           "The Empire Strikes Back"
          ],
          [
           "The End of the Game"
          ],
          [
           "The Endless River"
          ],
          [
           "The Enemy Below"
          ],
          [
           "The English Patient"
          ],
          [
           "The Eremites"
          ],
          [
           "The Event"
          ],
          [
           "The Exorcist"
          ],
          [
           "The Eyes of Tammy Faye"
          ],
          [
           "The Fabelmans"
          ],
          [
           "The Face of Lincoln"
          ],
          [
           "The Facts of Life"
          ],
          [
           "The Fantastic Flying Books of Mr. Morris Lessmore"
          ],
          [
           "The Farmer's Daughter"
          ],
          [
           "The Farmer's Daughter"
          ],
          [
           "The Father"
          ],
          [
           "The Fencer"
          ],
          [
           "The Fighter"
          ],
          [
           "The Fighter"
          ],
          [
           "The Fighter"
          ],
          [
           "The Fighting Lady"
          ],
          [
           "The Fisher King"
          ],
          [
           "The Five Devils"
          ],
          [
           "The Flight of the Gossamer Condor"
          ],
          [
           "The Florida Project"
          ],
          [
           "The Fly"
          ],
          [
           "The Fly"
          ],
          [
           "The Fly (A Légy)"
          ],
          [
           "The Fog of War"
          ],
          [
           "The Fortress"
          ],
          [
           "The Fortune Cookie"
          ],
          [
           "The French Connection"
          ],
          [
           "The Fugitive"
          ],
          [
           "The Fugitive"
          ],
          [
           "The Fugitive"
          ],
          [
           "The Fugitive"
          ],
          [
           "The Full Monty"
          ],
          [
           "The Garden of the Finzi-Continis (Il Giardino dei Finzi-Contini)"
          ],
          [
           "The Gay Divorcee"
          ],
          [
           "The Ghost and the Darkness"
          ],
          [
           "The Girl with the Dragon Tattoo"
          ],
          [
           "The Girl with the Dragon Tattoo"
          ],
          [
           "The Glenn Miller Story"
          ],
          [
           "The Godfather"
          ],
          [
           "The Godfather: Part II"
          ],
          [
           "The Golden Compass"
          ],
          [
           "The Golden Fish (Histoire d'un poisson rouge)"
          ],
          [
           "The Good Earth"
          ],
          [
           "The Goodbye Girl"
          ],
          [
           "The Graduate"
          ],
          [
           "The Grand Budapest Hotel"
          ],
          [
           "The Grapes of Wrath"
          ],
          [
           "The Great American Cowboy"
          ],
          [
           "The Great Beauty"
          ],
          [
           "The Great Caruso"
          ],
          [
           "The Great Gatsby"
          ],
          [
           "The Great Gatsby"
          ],
          [
           "The Great Gatsby"
          ],
          [
           "The Great Gatsby"
          ],
          [
           "The Great Lie"
          ],
          [
           "The Great McGinty"
          ],
          [
           "The Great Race"
          ],
          [
           "The Great Waltz"
          ],
          [
           "The Great Ziegfeld"
          ],
          [
           "The Greatest Show on Earth"
          ],
          [
           "The Guns of Navarone"
          ],
          [
           "The Happiest Day in the Life of Olli Mäki"
          ],
          [
           "The Harvey Girls"
          ],
          [
           "The Hateful Eight"
          ],
          [
           "The Heiress"
          ],
          [
           "The Hellstrom Chronicle"
          ],
          [
           "The Help"
          ],
          [
           "The Here After"
          ],
          [
           "The High Sun"
          ],
          [
           "The High and the Mighty"
          ],
          [
           "The Holdovers"
          ],
          [
           "The Hole"
          ],
          [
           "The Hole"
          ],
          [
           "The Hole"
          ],
          [
           "The Hole"
          ],
          [
           "The Hole"
          ],
          [
           "The Hole"
          ],
          [
           "The Horse with the Flying Tail"
          ],
          [
           "The Hospital"
          ],
          [
           "The Hours"
          ],
          [
           "The House on 92nd Street"
          ],
          [
           "The Human Comedy"
          ],
          [
           "The Human Comedy"
          ],
          [
           "The Hungry Lion"
          ],
          [
           "The Hunt for Red October"
          ],
          [
           "The Hurricane"
          ],
          [
           "The Hurricane"
          ],
          [
           "The Hurt Locker"
          ],
          [
           "The Hustler"
          ],
          [
           "The Idol"
          ],
          [
           "The Imitation Game"
          ],
          [
           "The Incredibles"
          ],
          [
           "The Informer"
          ],
          [
           "The Informer"
          ],
          [
           "The Innocent"
          ],
          [
           "The Insult"
          ],
          [
           "The Iron Lady"
          ],
          [
           "The Johnstown Flood"
          ],
          [
           "The Joker Is Wild"
          ],
          [
           "The Jolson Story"
          ],
          [
           "The Jungle Book"
          ],
          [
           "The Jungle Book"
          ],
          [
           "The Jungle Book"
          ],
          [
           "The Killing Fields"
          ],
          [
           "The Killing of a Sacred Deer"
          ],
          [
           "The King and I"
          ],
          [
           "The King and I"
          ],
          [
           "The King's Speech"
          ],
          [
           "The LEGO Batman Movie"
          ],
          [
           "The Lady in Number 6"
          ],
          [
           "The Last Command"
          ],
          [
           "The Last Days"
          ],
          [
           "The Last Emperor"
          ],
          [
           "The Last King of Scotland"
          ],
          [
           "The Last Picture Show"
          ],
          [
           "The Last of the Mohicans"
          ],
          [
           "The Last of the Mohicans"
          ],
          [
           "The Last of the Mohicans"
          ],
          [
           "The Last of the Mohicans"
          ],
          [
           "The Last of the Mohicans"
          ],
          [
           "The Lavender Hill Mob"
          ],
          [
           "The Life of Emile Zola"
          ],
          [
           "The Lion King"
          ],
          [
           "The Lion in Winter"
          ],
          [
           "The Lion in Winter"
          ],
          [
           "The Little Mermaid"
          ],
          [
           "The Little Mermaid"
          ],
          [
           "The Little Mermaid"
          ],
          [
           "The Little Mermaid"
          ],
          [
           "The Little Mermaid"
          ],
          [
           "The Lives of Others (Das Leben der Anderen)"
          ],
          [
           "The Lives of a Bengal Lancer"
          ],
          [
           "The Living Desert"
          ],
          [
           "The Lobster"
          ],
          [
           "The Long Goodbye"
          ],
          [
           "The Long Way Home"
          ],
          [
           "The Long Way Home"
          ],
          [
           "The Longest Day"
          ],
          [
           "The Lord of the Rings: The Fellowship of the Ring"
          ],
          [
           "The Lord of the Rings: The Return of the King"
          ],
          [
           "The Lord of the Rings: The Two Towers"
          ],
          [
           "The Lost Arcade"
          ],
          [
           "The Lost Thing"
          ],
          [
           "The Lost Weekend"
          ],
          [
           "The Love Witch"
          ],
          [
           "The Lunch Date"
          ],
          [
           "The Madness of King George"
          ],
          [
           "The Man Who Knew Too Much"
          ],
          [
           "The Man Who Knew Too Much"
          ],
          [
           "The Man Who Planted Trees (L' Homme qui plantait des arbres)"
          ],
          [
           "The Man Who Skied Down Everest"
          ],
          [
           "The Man in the Wall"
          ],
          [
           "The Martian"
          ],
          [
           "The Matrix"
          ],
          [
           "The Measure of a Man"
          ],
          [
           "The Merry Widow"
          ],
          [
           "The Merry Widow"
          ],
          [
           "The Merry Widow"
          ],
          [
           "The Merry Widow"
          ],
          [
           "The Merry Widow"
          ],
          [
           "The Milagro Beanfield War"
          ],
          [
           "The Milky Way"
          ],
          [
           "The Milky Way"
          ],
          [
           "The Milky Way"
          ],
          [
           "The Miracle Worker"
          ],
          [
           "The Miracle Worker"
          ],
          [
           "The Mission"
          ],
          [
           "The Mission"
          ],
          [
           "The More the Merrier"
          ],
          [
           "The Motorcycle Diaries"
          ],
          [
           "The Muppets"
          ],
          [
           "The Music Box"
          ],
          [
           "The Music Man"
          ],
          [
           "The Music Man"
          ],
          [
           "The Naked City"
          ],
          [
           "The New Tenants"
          ],
          [
           "The Night of the Iguana"
          ],
          [
           "The Nutty Professor"
          ],
          [
           "The Nutty Professor"
          ],
          [
           "The Nutty Professor"
          ],
          [
           "The Official Story (La Historia Oficial)"
          ],
          [
           "The Old Man and the Sea"
          ],
          [
           "The Old Man and the Sea"
          ],
          [
           "The Old Mill"
          ],
          [
           "The Omen"
          ],
          [
           "The Omen"
          ],
          [
           "The Other Side of Hope"
          ],
          [
           "The Paleface"
          ],
          [
           "The Paleface"
          ],
          [
           "The Panama Deception"
          ],
          [
           "The Paper Chase"
          ],
          [
           "The Patriot"
          ],
          [
           "The People vs. Fritz Bauer"
          ],
          [
           "The Personals"
          ],
          [
           "The Personals"
          ],
          [
           "The Personals"
          ],
          [
           "The Philadelphia Story"
          ],
          [
           "The Phone Call"
          ],
          [
           "The Pianist"
          ],
          [
           "The Pianist"
          ],
          [
           "The Pianist"
          ],
          [
           "The Piano"
          ],
          [
           "The Picture of Dorian Gray"
          ],
          [
           "The Picture of Dorian Gray"
          ],
          [
           "The Picture of Dorian Gray"
          ],
          [
           "The Place"
          ],
          [
           "The Poseidon Adventure"
          ],
          [
           "The Poseidon Adventure"
          ],
          [
           "The Power of the Dog"
          ],
          [
           "The Pride of the Yankees"
          ],
          [
           "The Prime of Miss Jean Brodie"
          ],
          [
           "The Prince of Egypt"
          ],
          [
           "The Private Life of Henry VIII"
          ],
          [
           "The Private Life of the Gannets"
          ],
          [
           "The Producers"
          ],
          [
           "The Public Pays"
          ],
          [
           "The Queen"
          ],
          [
           "The Queen of Basketball"
          ],
          [
           "The Quiet Man"
          ],
          [
           "The Rains Came"
          ],
          [
           "The Rapture"
          ],
          [
           "The Razor's Edge"
          ],
          [
           "The Razor's Edge"
          ],
          [
           "The Reader"
          ],
          [
           "The Reader"
          ],
          [
           "The Red Balloon (Le ballon rouge)"
          ],
          [
           "The Red Shoes"
          ],
          [
           "The Red Shoes"
          ],
          [
           "The Red Shoes"
          ],
          [
           "The Red Violin (Le violon rouge)"
          ],
          [
           "The Resurrection of Broncho Billy"
          ],
          [
           "The Revenant"
          ],
          [
           "The Revenant"
          ],
          [
           "The Rider"
          ],
          [
           "The Right Stuff"
          ],
          [
           "The Robe"
          ],
          [
           "The Rose Tattoo"
          ],
          [
           "The Salesman"
          ],
          [
           "The Sand Castle (Le Château de sable)"
          ],
          [
           "The Sandpiper"
          ],
          [
           "The Scoundrel"
          ],
          [
           "The Scoundrel"
          ],
          [
           "The Sea Around Us"
          ],
          [
           "The Sea Inside"
          ],
          [
           "The Search"
          ],
          [
           "The Secret Land"
          ],
          [
           "The Secret in Their Eyes"
          ],
          [
           "The Secret in Their Eyes"
          ],
          [
           "The Seventh Veil"
          ],
          [
           "The Shape of Water"
          ],
          [
           "The Shop on Main Street (Obchod na korze)"
          ],
          [
           "The Shore"
          ],
          [
           "The Silence of the Lambs"
          ],
          [
           "The Silent World (Le Monde du silence)"
          ],
          [
           "The Sin of Madelon Claudet"
          ],
          [
           "The Sixth Child"
          ],
          [
           "The Snake Pit"
          ],
          [
           "The Social Network"
          ],
          [
           "The Solid Gold Cadillac"
          ],
          [
           "The Song of Bernadette"
          ],
          [
           "The Song of Scorpions"
          ],
          [
           "The Sound of Music"
          ],
          [
           "The Square"
          ],
          [
           "The Sting"
          ],
          [
           "The Stone Carvers"
          ],
          [
           "The Story of Louis Pasteur"
          ],
          [
           "The Stratton Story"
          ],
          [
           "The Subject Was Roses"
          ],
          [
           "The Substitute"
          ],
          [
           "The Sunshine Boys"
          ],
          [
           "The Ten Commandments"
          ],
          [
           "The Ten Commandments"
          ],
          [
           "The Ten Commandments"
          ],
          [
           "The Ten-Year Lunch"
          ],
          [
           "The Theory of Everything"
          ],
          [
           "The Thief of Bagdad"
          ],
          [
           "The Thief of Bagdad"
          ],
          [
           "The Thief of Bagdad"
          ],
          [
           "The Third Man"
          ],
          [
           "The Thomas Crown Affair"
          ],
          [
           "The Thomas Crown Affair"
          ],
          [
           "The Three Faces of Eve"
          ],
          [
           "The Time Machine"
          ],
          [
           "The Time Machine"
          ],
          [
           "The Times of Harvey Milk"
          ],
          [
           "The Tin Drum (Die Blechtrommel)"
          ],
          [
           "The Titan: Story of Michelangelo"
          ],
          [
           "The Tortoise and the Hare"
          ],
          [
           "The Towering Inferno"
          ],
          [
           "The Treasure of the Sierra Madre"
          ],
          [
           "The Trip to Bountiful"
          ],
          [
           "The True Glory"
          ],
          [
           "The True Story of the Civil War"
          ],
          [
           "The Ugly Duckling"
          ],
          [
           "The Unknown Soldier"
          ],
          [
           "The Untouchables"
          ],
          [
           "The Usual Suspects"
          ],
          [
           "The V.I.P.s"
          ],
          [
           "The Vanishing Prairie"
          ],
          [
           "The Virgin Spring (Jungfrukällan)"
          ],
          [
           "The War Game"
          ],
          [
           "The War Show"
          ],
          [
           "The War of the Worlds"
          ],
          [
           "The Way We Were"
          ],
          [
           "The Way of All Flesh"
          ],
          [
           "The Westerner"
          ],
          [
           "The Wetback Hound"
          ],
          [
           "The Whale"
          ],
          [
           "The Whiskey Bandit"
          ],
          [
           "The White Helmets"
          ],
          [
           "The White Knights"
          ],
          [
           "The Windshield Wiper"
          ],
          [
           "The Wizard of Oz"
          ],
          [
           "The Wizard of Oz"
          ],
          [
           "The Wizard of Oz"
          ],
          [
           "The Wizard of Oz"
          ],
          [
           "The Wolfman"
          ],
          [
           "The Woman in Red"
          ],
          [
           "The Woman in Red"
          ],
          [
           "The Wonderful Story of Henry Sugar"
          ],
          [
           "The Wonderful World of the Brothers Grimm"
          ],
          [
           "The Workshop"
          ],
          [
           "The Worst Ones"
          ],
          [
           "The Wrong Trousers"
          ],
          [
           "The Year of Living Dangerously"
          ],
          [
           "The Yearling"
          ],
          [
           "The Yearling"
          ],
          [
           "The Young Victoria"
          ],
          [
           "The Zone of Interest"
          ],
          [
           "Thelma & Louise"
          ],
          [
           "There Will Be Blood"
          ],
          [
           "They Shoot Horses, Don't They?"
          ],
          [
           "Thirty Seconds Over Tokyo"
          ],
          [
           "This Above All"
          ],
          [
           "This Charming Man (Der Er En Yndig Mand)"
          ],
          [
           "This Is the Army"
          ],
          [
           "This Land Is Mine"
          ],
          [
           "This Mechanical Age"
          ],
          [
           "This Summer Feeling"
          ],
          [
           "This Tiny World"
          ],
          [
           "Thoroughly Modern Millie"
          ],
          [
           "Thoth"
          ],
          [
           "Three Billboards Outside Ebbing, Missouri"
          ],
          [
           "Three Coins in the Fountain"
          ],
          [
           "Three Orphan Kittens"
          ],
          [
           "Three Times Nothing"
          ],
          [
           "Through a Glass Darkly (Såsom i en spegel)"
          ],
          [
           "Thunderball"
          ],
          [
           "Thursday's Children"
          ],
          [
           "Tin Pan Alley"
          ],
          [
           "Tin Toy"
          ],
          [
           "Titanic"
          ],
          [
           "Titanic"
          ],
          [
           "Titanic"
          ],
          [
           "Titanic"
          ],
          [
           "Tiwa's Baggage"
          ],
          [
           "To Be Alive!"
          ],
          [
           "To Catch a Thief"
          ],
          [
           "To Catch a Thief"
          ],
          [
           "To Each His Own"
          ],
          [
           "To Kill a Mockingbird"
          ],
          [
           "Tom Jones"
          ],
          [
           "Tomorrow"
          ],
          [
           "Toni Erdmann"
          ],
          [
           "Too Young To Die! Wakakushite Shinu"
          ],
          [
           "Tootsie"
          ],
          [
           "Top Gun"
          ],
          [
           "Top Gun"
          ],
          [
           "Top Gun: Maverick"
          ],
          [
           "Topkapi"
          ],
          [
           "Topsy-Turvy"
          ],
          [
           "Tora! Tora! Tora!"
          ],
          [
           "Torture Money"
          ],
          [
           "Toward Independence"
          ],
          [
           "Toy Story 3"
          ],
          [
           "Toyland"
          ],
          [
           "Traffic"
          ],
          [
           "Training Day"
          ],
          [
           "Travels with My Aunt"
          ],
          [
           "Trevor"
          ],
          [
           "Triangle of Sadness"
          ],
          [
           "True Grit"
          ],
          [
           "True Grit"
          ],
          [
           "Truman"
          ],
          [
           "Tsotsi"
          ],
          [
           "Twelve O'Clock High"
          ],
          [
           "Twin Towers"
          ],
          [
           "Two Arabian Knights"
          ],
          [
           "Two Soldiers"
          ],
          [
           "Two Women (La Ciociara)"
          ],
          [
           "Tár"
          ],
          [
           "U-571"
          ],
          [
           "Uncharted"
          ],
          [
           "Undefeated"
          ],
          [
           "Undefeated"
          ],
          [
           "Underworld"
          ],
          [
           "Unforgiven"
          ],
          [
           "United States of Love"
          ],
          [
           "Up"
          ],
          [
           "Up"
          ],
          [
           "Vacation from Marriage (UK title Perfect Strangers)"
          ],
          [
           "Valérian and the City of a Thousand Planets"
          ],
          [
           "Van Gogh"
          ],
          [
           "Vice"
          ],
          [
           "Vice"
          ],
          [
           "Vicky Cristina Barcelona"
          ],
          [
           "Victor/Victoria"
          ],
          [
           "Victor/Victoria"
          ],
          [
           "Victoria"
          ],
          [
           "Victoria and Abdul"
          ],
          [
           "Viften"
          ],
          [
           "Vincent Must Die"
          ],
          [
           "Visas and Virtue"
          ],
          [
           "Viva Villa!"
          ],
          [
           "Viva Zapata!"
          ],
          [
           "WALL-E"
          ],
          [
           "Waikiki Wedding"
          ],
          [
           "Wajib"
          ],
          [
           "Walk the Line"
          ],
          [
           "Wall Street"
          ],
          [
           "Wall Street"
          ],
          [
           "Wallace & Gromit: The Curse of the Were-Rabbit"
          ],
          [
           "War and Peace (Voyna i mir)"
          ],
          [
           "Wasp"
          ],
          [
           "Watch on the Rhine"
          ],
          [
           "Water Birds"
          ],
          [
           "We Won't Kill Each Other with Guns"
          ],
          [
           "Welcome to Germany"
          ],
          [
           "West Bank Story"
          ],
          [
           "West Side Story"
          ],
          [
           "Western"
          ],
          [
           "What Dreams May Come"
          ],
          [
           "What Ever Happened to Baby Jane?"
          ],
          [
           "What Ever Happened to Baby Jane?"
          ],
          [
           "What Will People Say"
          ],
          [
           "When Magoo Flew"
          ],
          [
           "When Tomorrow Comes"
          ],
          [
           "When We Were Kings"
          ],
          [
           "When Worlds Collide"
          ],
          [
           "Whiplash"
          ],
          [
           "White Nights"
          ],
          [
           "White Shadows in the South Seas"
          ],
          [
           "White Wilderness"
          ],
          [
           "Who Are the DeBolts? And Where Did They Get Nineteen Kids?"
          ],
          [
           "Who Framed Roger Rabbit"
          ],
          [
           "Who's Afraid of Virginia Woolf?"
          ],
          [
           "Who's Who in Animal Land"
          ],
          [
           "Why Korea?"
          ],
          [
           "Why Man Creates"
          ],
          [
           "Wild"
          ],
          [
           "Wild Wings"
          ],
          [
           "Will-o'-the-Wisp"
          ],
          [
           "Wilson"
          ],
          [
           "Wilson"
          ],
          [
           "Wings"
          ],
          [
           "Wings Over Everest"
          ],
          [
           "Winnie the Pooh and the Blustery Day"
          ],
          [
           "With Byrd at the South Pole"
          ],
          [
           "With a Song in My Heart"
          ],
          [
           "With the Marines at Tarawa"
          ],
          [
           "Witness"
          ],
          [
           "Witness to War: Dr. Charlie Clements"
          ],
          [
           "Woman of the Year"
          ],
          [
           "Women Talking"
          ],
          [
           "Women in Love"
          ],
          [
           "Women – for America, for the World"
          ],
          [
           "Wonder Boys"
          ],
          [
           "Wonder Man"
          ],
          [
           "Woodstock"
          ],
          [
           "Work Experience"
          ],
          [
           "Working Girl"
          ],
          [
           "World Without Sun (Le Monde sans soleil)"
          ],
          [
           "World of Kids"
          ],
          [
           "Wrestling Swordfish"
          ],
          [
           "Written on the Wind"
          ],
          [
           "Wuthering Heights"
          ],
          [
           "Wuthering Heights"
          ],
          [
           "Wuthering Heights"
          ],
          [
           "Wuthering Heights"
          ],
          [
           "Wuthering Heights"
          ],
          [
           "Wuthering Heights"
          ],
          [
           "Wuthering Heights"
          ],
          [
           "Yankee Doodle Dandy"
          ],
          [
           "Yentl"
          ],
          [
           "Yesterday, Today and Tomorrow (Ieri, oggi, domani)"
          ],
          [
           "You Can't Take It with You"
          ],
          [
           "You Light Up My Life"
          ],
          [
           "Young at Heart"
          ],
          [
           "Young at Heart"
          ],
          [
           "Youth"
          ],
          [
           "Youth"
          ],
          [
           "Z"
          ],
          [
           "Zootopia"
          ],
          [
           "Zorba the Greek (Alexis Zorbas)"
          ],
          [
           "tom thumb"
          ]
         ],
         "hovertemplate": "Runtime=%{x}<br>num_awards=%{y}<br>title=%{customdata[0]}<extra></extra>",
         "legendgroup": "",
         "marker": {
          "color": "#636efa",
          "symbol": "circle"
         },
         "mode": "markers",
         "name": "",
         "showlegend": false,
         "type": "scattergl",
         "x": [
          92,
          81,
          134,
          113,
          121,
          91,
          95,
          91,
          101,
          122,
          50,
          178,
          95,
          125,
          156,
          118,
          115,
          93,
          116,
          60,
          118,
          140,
          21,
          18,
          96,
          118,
          31,
          116,
          98,
          107,
          104,
          80,
          109,
          151,
          91,
          97,
          7,
          88,
          120,
          87,
          103,
          124,
          110,
          116,
          103,
          120,
          120,
          120,
          142,
          76,
          124,
          116,
          108,
          39,
          164,
          105,
          122,
          17,
          117,
          124,
          117,
          100,
          123,
          25,
          111,
          182,
          139,
          28,
          127,
          119,
          156,
          76,
          118,
          20,
          106,
          129,
          115,
          92,
          119,
          97,
          25,
          197,
          117,
          110,
          108,
          115,
          101,
          124,
          137,
          104,
          90,
          49,
          98,
          85,
          120,
          106,
          110,
          112,
          10,
          52,
          58,
          76,
          83,
          75,
          72,
          81,
          90,
          192,
          51,
          150,
          108,
          46,
          116,
          137,
          139,
          101,
          148,
          145,
          128,
          147,
          97,
          122,
          105,
          128,
          138,
          152,
          90,
          29,
          180,
          123,
          153,
          70,
          100,
          102,
          117,
          133,
          133,
          94,
          10,
          100,
          103,
          128,
          92,
          115,
          96,
          28,
          122,
          105,
          95,
          150,
          111,
          143,
          60,
          8,
          53,
          93,
          133,
          144,
          135,
          108,
          128,
          117,
          146,
          107,
          94,
          117,
          141,
          102,
          153,
          140,
          115,
          10,
          140,
          23,
          120,
          83,
          110,
          120,
          112,
          116,
          97,
          107,
          91,
          114,
          139,
          102,
          122,
          94,
          98,
          90,
          178,
          192,
          141,
          140,
          109,
          89,
          143,
          103,
          189,
          116,
          90,
          7,
          8,
          97,
          114,
          187,
          104,
          126,
          182,
          118,
          33,
          11,
          106,
          93,
          90,
          85,
          68,
          89,
          129,
          94,
          148,
          139,
          92,
          100,
          105,
          130,
          98,
          109,
          143,
          219,
          125,
          112,
          111,
          22,
          102,
          35,
          160,
          119,
          119,
          7,
          113,
          140,
          101,
          100,
          161,
          12,
          103,
          90,
          164,
          99,
          78,
          125,
          101,
          96,
          98,
          90,
          100,
          98,
          101,
          12,
          79,
          92,
          102,
          60,
          70,
          104,
          107,
          96,
          132,
          130,
          104,
          112,
          10,
          100,
          95,
          10,
          102,
          100,
          85,
          145,
          146,
          120,
          125,
          153,
          118,
          100,
          93,
          22,
          94,
          112,
          123,
          80,
          95,
          71,
          175,
          114,
          101,
          5,
          115,
          35,
          142,
          104,
          122,
          101,
          134,
          96,
          70,
          112,
          130,
          98,
          114,
          7,
          128,
          135,
          10,
          110,
          109,
          115,
          111,
          119,
          103,
          97,
          95,
          103,
          114,
          132,
          178,
          98,
          147,
          82,
          115,
          105,
          118,
          102,
          20,
          96,
          112,
          53,
          100,
          152,
          90,
          122,
          83,
          113,
          5,
          124,
          103,
          39,
          118,
          80,
          76,
          119,
          130,
          110,
          83,
          21,
          123,
          174,
          119,
          114,
          114,
          20,
          88,
          125,
          102,
          248,
          177,
          104,
          21,
          105,
          137,
          70,
          30,
          11,
          92,
          118,
          125,
          109,
          105,
          120,
          154,
          111,
          99,
          105,
          126,
          199,
          91,
          81,
          72,
          116,
          127,
          76,
          116,
          113,
          107,
          15,
          112,
          106,
          9,
          112,
          5,
          13,
          40,
          145,
          120,
          134,
          68,
          82,
          93,
          100,
          112,
          130,
          135,
          141,
          22,
          117,
          224,
          79,
          119,
          110,
          100,
          125,
          127,
          94,
          133,
          153,
          160,
          78,
          116,
          15,
          47,
          93,
          28,
          117,
          122,
          129,
          27,
          38,
          103,
          140,
          98,
          127,
          34,
          138,
          17,
          42,
          100,
          130,
          8,
          86,
          140,
          92,
          48,
          117,
          92,
          100,
          329,
          61,
          101,
          97,
          90,
          17,
          105,
          152,
          200,
          101,
          125,
          104,
          19,
          100,
          110,
          90,
          57,
          98,
          100,
          130,
          88,
          179,
          99,
          64,
          137,
          134,
          106,
          30,
          115,
          86,
          129,
          102,
          115,
          103,
          127,
          30,
          11,
          123,
          115,
          130,
          147,
          159,
          125,
          119,
          102,
          130,
          117,
          108,
          6,
          139,
          135,
          60,
          108,
          212,
          94,
          111,
          15,
          10,
          100,
          81,
          134,
          123,
          134,
          133,
          101,
          97,
          118,
          79,
          95,
          8,
          139,
          181,
          125,
          105,
          100,
          106,
          110,
          108,
          10,
          29,
          94,
          110,
          82,
          166,
          3,
          125,
          136,
          110,
          108,
          9,
          113,
          23,
          100,
          38,
          103,
          110,
          120,
          87,
          118,
          360,
          115,
          120,
          102,
          165,
          127,
          188,
          84,
          114,
          89,
          83,
          118,
          8,
          5,
          104,
          108,
          128,
          201,
          114,
          82,
          115,
          77,
          127,
          106,
          28,
          22,
          101,
          155,
          129,
          140,
          100,
          124,
          97,
          18,
          138,
          99,
          105,
          127,
          125,
          126,
          121,
          98,
          111,
          110,
          234,
          135,
          126,
          11,
          114,
          151,
          146,
          137,
          128,
          134,
          29,
          131,
          112,
          71,
          176,
          109,
          26,
          143,
          111,
          147,
          140,
          94,
          104,
          108,
          107,
          131,
          94,
          2,
          64,
          111,
          153,
          140,
          117,
          135,
          238,
          111,
          168,
          106,
          78,
          107,
          108,
          225,
          103,
          115,
          111,
          109,
          90,
          23,
          51,
          80,
          75,
          112,
          129,
          112,
          101,
          40,
          22,
          22,
          102,
          146,
          99,
          137,
          135,
          137,
          126,
          94,
          217,
          127,
          85,
          90,
          112,
          20,
          128,
          101,
          117,
          103,
          108,
          118,
          104,
          162,
          91,
          11,
          136,
          112,
          115,
          128,
          116,
          267,
          93,
          82,
          90,
          120,
          131,
          18,
          117,
          26,
          100,
          119,
          121,
          88,
          82,
          26,
          32,
          97,
          95,
          94,
          118,
          106,
          109,
          37,
          94,
          148,
          95,
          110,
          153,
          118,
          100,
          156,
          152,
          110,
          97,
          40,
          120,
          95,
          106,
          22,
          117,
          115,
          121,
          95,
          99,
          147,
          103,
          8,
          65,
          182,
          119,
          206,
          105,
          130,
          138,
          97,
          104,
          87,
          146,
          140,
          102,
          102,
          90,
          107,
          47,
          105,
          126,
          186,
          116,
          138,
          99,
          106,
          120,
          119,
          200,
          115,
          91,
          100,
          127,
          90,
          26,
          90,
          95,
          92,
          101,
          96,
          144,
          80,
          103,
          100,
          173,
          99,
          94,
          120,
          97,
          108,
          114,
          9,
          105,
          77,
          26,
          105,
          96,
          136,
          20,
          97,
          95,
          177,
          103,
          128,
          12,
          108,
          140,
          112,
          93,
          89,
          97,
          123,
          88,
          90,
          228,
          121,
          110,
          110,
          130,
          14,
          108,
          114,
          359,
          279,
          108,
          188,
          105,
          102,
          123,
          174,
          159,
          360,
          142,
          81,
          94,
          140,
          39,
          116,
          120,
          10,
          118,
          81,
          60,
          75,
          95,
          137,
          118,
          102,
          82,
          98,
          135,
          115,
          121,
          200,
          118,
          102,
          98,
          137,
          16,
          116,
          134,
          150,
          87,
          104,
          92,
          80,
          102,
          122,
          88,
          113,
          99,
          135,
          110,
          96,
          91,
          128,
          104,
          122,
          116,
          120,
          74,
          120,
          105,
          20,
          96,
          94,
          135,
          93,
          7,
          115,
          93,
          80,
          127,
          124,
          149,
          123,
          88,
          93,
          128,
          94,
          139,
          120,
          138,
          83,
          82,
          107,
          96,
          95,
          145,
          104,
          30,
          97,
          144,
          119,
          113,
          121,
          100,
          95,
          94,
          114,
          40,
          111,
          128,
          100,
          133,
          66,
          96,
          114,
          114,
          104,
          122,
          111,
          126,
          123,
          113,
          140,
          24,
          110,
          130,
          7,
          109,
          90,
          127,
          86,
          112,
          95,
          90,
          111,
          102,
          107,
          150,
          107,
          137,
          70,
          119,
          127,
          126,
          11,
          115,
          129,
          125,
          134,
          105,
          120,
          9,
          111,
          127,
          100,
          114,
          33,
          97,
          132,
          179,
          120,
          172,
          103,
          119,
          108,
          106,
          30,
          116,
          138,
          113,
          161,
          123,
          33,
          105,
          98,
          97,
          8,
          101,
          93,
          121,
          97,
          189,
          94,
          235,
          110,
          90,
          20,
          123,
          120,
          107,
          98,
          80,
          163,
          115,
          113,
          123,
          25,
          126,
          117,
          100,
          118,
          141,
          28,
          79,
          467,
          92,
          95,
          99,
          10,
          180,
          153,
          10,
          116,
          90,
          109,
          98,
          108,
          85,
          94,
          112,
          129,
          85,
          91,
          83,
          39,
          68,
          15,
          94,
          180,
          124,
          80,
          107,
          88,
          160,
          9,
          165,
          100,
          118,
          96,
          98,
          102,
          96,
          85,
          98,
          115,
          170,
          30,
          184,
          157,
          10,
          110,
          123,
          97,
          77,
          130,
          93,
          125,
          113,
          49,
          120,
          102,
          82,
          88,
          49,
          108,
          105,
          6,
          151,
          113,
          105,
          120,
          105,
          45,
          91,
          103,
          122,
          141,
          138,
          152,
          86,
          110,
          8,
          105,
          53,
          99,
          118,
          94,
          30,
          130,
          168,
          111,
          92,
          95,
          90,
          107,
          12,
          100,
          10,
          187,
          118,
          101,
          93,
          129,
          115,
          104,
          133,
          93,
          162,
          66,
          107,
          111,
          107,
          99,
          178,
          23,
          119,
          123,
          130,
          190,
          85,
          88,
          194,
          80,
          117,
          109,
          110,
          68,
          117,
          117,
          41,
          102,
          120,
          148,
          133,
          128,
          148,
          117,
          95,
          70,
          124,
          138,
          92,
          138,
          165,
          105,
          118,
          118,
          120,
          136,
          133,
          93,
          94,
          206,
          78,
          113,
          127,
          102,
          122,
          110,
          134,
          115,
          15,
          88,
          107,
          100,
          91,
          169,
          147,
          112,
          90,
          107,
          137,
          186,
          27,
          83,
          28,
          20,
          128,
          140,
          18,
          100,
          134,
          100,
          31,
          103,
          94,
          98,
          99,
          137,
          110,
          117,
          80,
          103,
          105,
          149,
          108,
          92,
          127,
          122,
          95,
          172,
          98,
          108,
          27,
          118,
          85,
          104,
          148,
          84,
          120,
          39,
          89,
          10,
          28,
          65,
          122,
          114,
          102,
          107,
          141,
          94,
          122,
          103,
          20,
          150,
          100,
          171,
          135,
          91,
          188,
          177,
          8,
          84,
          109,
          98,
          148,
          30,
          115,
          104,
          82,
          110,
          97,
          112,
          109,
          127,
          123,
          124,
          96,
          127,
          99,
          115,
          95,
          10,
          120,
          120,
          126,
          121,
          152,
          22,
          97,
          100,
          118,
          101,
          147,
          40,
          102,
          120,
          12,
          135,
          123,
          96,
          104,
          106,
          4,
          111,
          94,
          104,
          104,
          20,
          99,
          122,
          117,
          113,
          120,
          110,
          134,
          104,
          18,
          126,
          118,
          134,
          112,
          103,
          100,
          88,
          106,
          19,
          25,
          98,
          140,
          100,
          103,
          132,
          186,
          89,
          128,
          10,
          110,
          145,
          38,
          121,
          40,
          128,
          101,
          110,
          103,
          102,
          106,
          81,
          139,
          120,
          137,
          27,
          93,
          65,
          128,
          125,
          87,
          80,
          26,
          93,
          100,
          91,
          75,
          96,
          170,
          68,
          91,
          95,
          119,
          114,
          111,
          128,
          50,
          126,
          33,
          168,
          94,
          166,
          87,
          130,
          119,
          109,
          85,
          129,
          39,
          26,
          116,
          115,
          113,
          122,
          93,
          120,
          155,
          103,
          100,
          113,
          116,
          110,
          129,
          90,
          84,
          118,
          121,
          12,
          115,
          131,
          15,
          150,
          5,
          125,
          110,
          120,
          112,
          129,
          99,
          104,
          91,
          91,
          111,
          166,
          108,
          120,
          15,
          80,
          110,
          153,
          96,
          103,
          106,
          183,
          96,
          151,
          114,
          180,
          109,
          150,
          105,
          102,
          99,
          84,
          33,
          10,
          105,
          118,
          110,
          90,
          41,
          124,
          29,
          108,
          97,
          155,
          100,
          74,
          120,
          78,
          151,
          20,
          103,
          15,
          97,
          58,
          97,
          93,
          78,
          96,
          116,
          61,
          137,
          96,
          27,
          115,
          93,
          96,
          96,
          107,
          140,
          125,
          104,
          17,
          104,
          77,
          130,
          91,
          94,
          105,
          110,
          152,
          158,
          115,
          177,
          202,
          114,
          19,
          138,
          110,
          106,
          99,
          128,
          89,
          141,
          109,
          80,
          91,
          144,
          100,
          107,
          83,
          146,
          102,
          186,
          152,
          156,
          96,
          102,
          167,
          116,
          90,
          145,
          102,
          123,
          148,
          133,
          103,
          100,
          95,
          102,
          92,
          9,
          48,
          103,
          110,
          88,
          118,
          100,
          78,
          135,
          110,
          145,
          130,
          135,
          100,
          114,
          116,
          83,
          91,
          99,
          112,
          104,
          60,
          126,
          104,
          89,
          112,
          107,
          142,
          109,
          133,
          90,
          119,
          105,
          39,
          88,
          87,
          160,
          121,
          126,
          39,
          230,
          91,
          80,
          112,
          81,
          116,
          87,
          135,
          167,
          29,
          84,
          82,
          49,
          135,
          137,
          109,
          69,
          118,
          112,
          120,
          112,
          178,
          178,
          250,
          179,
          79,
          15,
          99,
          120,
          12,
          109,
          75,
          120,
          30,
          90,
          92,
          141,
          135,
          93,
          70,
          150,
          99,
          105,
          110,
          120,
          89,
          105,
          98,
          106,
          90,
          126,
          81,
          104,
          124,
          98,
          28,
          151,
          180,
          96,
          21,
          125,
          107,
          95,
          75,
          112,
          86,
          20,
          9,
          111,
          105,
          98,
          20,
          92,
          91,
          111,
          165,
          105,
          92,
          104,
          40,
          112,
          24,
          112,
          90,
          142,
          114,
          80,
          110,
          100,
          105,
          117,
          173,
          126,
          127,
          116,
          100,
          96,
          10,
          88,
          19,
          103,
          22,
          129,
          103,
          97,
          146,
          128,
          97,
          119,
          34,
          128,
          103,
          97,
          130,
          23,
          115,
          157,
          103,
          193,
          134,
          117,
          123,
          13,
          117,
          76,
          97,
          61,
          125,
          105,
          71,
          129,
          111,
          90,
          123,
          128,
          29,
          118,
          86,
          75,
          92,
          107,
          120,
          99,
          156,
          119,
          172,
          152,
          129,
          30,
          87,
          102,
          107,
          114,
          111,
          146,
          220,
          88,
          56,
          123,
          139,
          106,
          91,
          93,
          102,
          120,
          91,
          103,
          96,
          87,
          142,
          70,
          9,
          165,
          126,
          108,
          87,
          29,
          7,
          179,
          120,
          108,
          119,
          71,
          89,
          121,
          100,
          85,
          118,
          94,
          99,
          18,
          117,
          126,
          41,
          112,
          15,
          9,
          103,
          28,
          40,
          103,
          68,
          87,
          40,
          135,
          114,
          96,
          29,
          115,
          128,
          90,
          105,
          106,
          128,
          158,
          129,
          138,
          110,
          30,
          125,
          103,
          10,
          106,
          15,
          153,
          40,
          115,
          102,
          9,
          84,
          90,
          130,
          21,
          92,
          5,
          85,
          103,
          173,
          194,
          91,
          18,
          66,
          106,
          122,
          124,
          121,
          118,
          162,
          125,
          116,
          73,
          110,
          130,
          119,
          160,
          144,
          21,
          30,
          102,
          13,
          147,
          122,
          109,
          18,
          149,
          127,
          111,
          108,
          94,
          132,
          34,
          92,
          40,
          101,
          158,
          117,
          116,
          90,
          113,
          121,
          131,
          104,
          14,
          96,
          102,
          137,
          158,
          98,
          96,
          97,
          132,
          146,
          140,
          112,
          95,
          108,
          26,
          115,
          113,
          98,
          89,
          96,
          135,
          68,
          126,
          85,
          208,
          26,
          114,
          30,
          100,
          116,
          21,
          152,
          120,
          113,
          135,
          94,
          107,
          6,
          90,
          89,
          82,
          91,
          125,
          89,
          72,
          72,
          104,
          131,
          10,
          30,
          29,
          88,
          34,
          67,
          154,
          101,
          141,
          22,
          25,
          82,
          117,
          18,
          112,
          29,
          114,
          104,
          131,
          30,
          112,
          98,
          330,
          11,
          110,
          93,
          10,
          8,
          95,
          104,
          104,
          143,
          112,
          88,
          123,
          91,
          126,
          132,
          119,
          126,
          91,
          120,
          29,
          118,
          136,
          127,
          108,
          142,
          98
         ],
         "xaxis": "x",
         "y": [
          5,
          1,
          3,
          1,
          3,
          13,
          3,
          1,
          2,
          2,
          2,
          2,
          2,
          1,
          1,
          1,
          1,
          3,
          1,
          3,
          1,
          4,
          1,
          1,
          1,
          1,
          1,
          1,
          1,
          2,
          1,
          2,
          1,
          2,
          1,
          1,
          1,
          1,
          1,
          1,
          2,
          1,
          1,
          3,
          2,
          6,
          6,
          1,
          2,
          2,
          2,
          2,
          1,
          1,
          2,
          1,
          6,
          1,
          1,
          1,
          3,
          1,
          1,
          1,
          1,
          1,
          1,
          1,
          4,
          4,
          4,
          1,
          1,
          1,
          1,
          1,
          1,
          1,
          1,
          1,
          1,
          5,
          1,
          1,
          2,
          1,
          4,
          1,
          1,
          1,
          2,
          2,
          1,
          1,
          4,
          1,
          7,
          1,
          2,
          2,
          2,
          2,
          2,
          2,
          2,
          2,
          2,
          2,
          2,
          2,
          2,
          2,
          1,
          2,
          6,
          1,
          4,
          4,
          4,
          6,
          5,
          4,
          2,
          3,
          4,
          1,
          1,
          1,
          8,
          1,
          1,
          5,
          5,
          1,
          1,
          1,
          1,
          1,
          1,
          1,
          1,
          2,
          1,
          6,
          2,
          1,
          2,
          1,
          1,
          3,
          1,
          1,
          1,
          1,
          1,
          1,
          1,
          1,
          1,
          1,
          2,
          1,
          1,
          1,
          4,
          12,
          4,
          1,
          2,
          2,
          1,
          1,
          3,
          3,
          3,
          1,
          1,
          5,
          1,
          3,
          2,
          2,
          1,
          1,
          2,
          2,
          1,
          1,
          1,
          3,
          3,
          2,
          14,
          3,
          1,
          1,
          1,
          1,
          1,
          1,
          2,
          1,
          1,
          1,
          1,
          4,
          1,
          1,
          1,
          2,
          1,
          1,
          1,
          2,
          2,
          2,
          2,
          2,
          2,
          2,
          1,
          1,
          1,
          2,
          1,
          1,
          1,
          1,
          11,
          11,
          11,
          8,
          1,
          1,
          1,
          1,
          1,
          1,
          4,
          1,
          1,
          2,
          2,
          1,
          1,
          1,
          1,
          1,
          2,
          1,
          1,
          1,
          1,
          1,
          1,
          1,
          1,
          1,
          1,
          1,
          1,
          2,
          1,
          1,
          1,
          1,
          1,
          1,
          1,
          1,
          1,
          2,
          1,
          2,
          2,
          2,
          1,
          1,
          1,
          2,
          2,
          1,
          1,
          1,
          1,
          1,
          2,
          1,
          1,
          1,
          3,
          1,
          1,
          5,
          5,
          2,
          1,
          1,
          8,
          1,
          2,
          1,
          1,
          1,
          3,
          1,
          1,
          1,
          2,
          1,
          1,
          1,
          1,
          1,
          1,
          4,
          1,
          2,
          3,
          8,
          1,
          1,
          1,
          1,
          1,
          4,
          3,
          1,
          6,
          1,
          1,
          4,
          1,
          3,
          1,
          1,
          3,
          1,
          1,
          1,
          1,
          1,
          1,
          1,
          1,
          4,
          1,
          1,
          6,
          6,
          1,
          1,
          1,
          3,
          1,
          1,
          3,
          1,
          1,
          1,
          1,
          1,
          4,
          4,
          4,
          4,
          4,
          4,
          1,
          10,
          1,
          1,
          1,
          1,
          1,
          1,
          1,
          2,
          2,
          2,
          1,
          1,
          1,
          1,
          3,
          3,
          3,
          1,
          1,
          1,
          1,
          1,
          7,
          3,
          1,
          1,
          3,
          1,
          1,
          2,
          1,
          1,
          1,
          1,
          4,
          1,
          1,
          1,
          1,
          1,
          1,
          1,
          1,
          1,
          1,
          3,
          7,
          1,
          3,
          3,
          1,
          3,
          3,
          3,
          3,
          3,
          3,
          3,
          1,
          1,
          1,
          1,
          1,
          1,
          1,
          1,
          1,
          1,
          1,
          1,
          1,
          1,
          1,
          1,
          1,
          1,
          1,
          1,
          1,
          1,
          1,
          1,
          1,
          1,
          1,
          1,
          3,
          3,
          3,
          1,
          1,
          1,
          1,
          2,
          5,
          1,
          1,
          1,
          1,
          2,
          4,
          2,
          1,
          1,
          1,
          2,
          1,
          1,
          4,
          1,
          6,
          3,
          4,
          1,
          4,
          7,
          1,
          1,
          1,
          1,
          2,
          1,
          1,
          1,
          1,
          4,
          3,
          2,
          1,
          1,
          1,
          1,
          1,
          1,
          1,
          8,
          1,
          1,
          1,
          1,
          1,
          1,
          1,
          1,
          1,
          1,
          2,
          2,
          4,
          2,
          2,
          2,
          1,
          1,
          1,
          2,
          2,
          3,
          1,
          1,
          1,
          1,
          1,
          4,
          1,
          1,
          1,
          1,
          1,
          1,
          1,
          1,
          6,
          6,
          3,
          1,
          3,
          1,
          1,
          1,
          1,
          1,
          2,
          2,
          8,
          8,
          1,
          1,
          2,
          1,
          1,
          8,
          2,
          2,
          1,
          1,
          3,
          1,
          1,
          2,
          1,
          2,
          1,
          1,
          9,
          9,
          7,
          1,
          1,
          1,
          1,
          5,
          5,
          1,
          2,
          3,
          3,
          3,
          1,
          2,
          1,
          1,
          3,
          1,
          7,
          4,
          1,
          1,
          5,
          8,
          1,
          2,
          1,
          1,
          1,
          1,
          1,
          4,
          1,
          1,
          1,
          1,
          3,
          3,
          3,
          1,
          1,
          2,
          1,
          1,
          1,
          1,
          2,
          1,
          14,
          1,
          4,
          4,
          4,
          4,
          4,
          4,
          4,
          4,
          4,
          1,
          3,
          1,
          2,
          1,
          1,
          1,
          1,
          1,
          1,
          1,
          1,
          1,
          1,
          1,
          1,
          1,
          1,
          1,
          1,
          1,
          1,
          1,
          3,
          1,
          1,
          1,
          1,
          1,
          2,
          1,
          1,
          4,
          4,
          1,
          1,
          6,
          1,
          4,
          1,
          8,
          5,
          1,
          3,
          1,
          1,
          3,
          3,
          3,
          5,
          1,
          1,
          1,
          1,
          1,
          1,
          1,
          1,
          1,
          1,
          5,
          2,
          1,
          1,
          1,
          1,
          1,
          1,
          1,
          2,
          1,
          1,
          5,
          1,
          1,
          4,
          1,
          1,
          1,
          1,
          1,
          1,
          1,
          1,
          1,
          1,
          1,
          1,
          1,
          1,
          1,
          1,
          4,
          1,
          1,
          1,
          1,
          1,
          5,
          1,
          1,
          2,
          6,
          3,
          1,
          1,
          2,
          2,
          2,
          2,
          1,
          1,
          1,
          1,
          1,
          1,
          2,
          2,
          3,
          3,
          4,
          1,
          1,
          1,
          1,
          1,
          1,
          9,
          3,
          1,
          1,
          1,
          1,
          1,
          1,
          2,
          1,
          2,
          2,
          2,
          2,
          1,
          1,
          1,
          1,
          1,
          1,
          1,
          1,
          1,
          1,
          5,
          1,
          2,
          1,
          1,
          1,
          1,
          1,
          7,
          1,
          1,
          2,
          1,
          2,
          2,
          1,
          8,
          1,
          1,
          7,
          1,
          1,
          1,
          1,
          1,
          1,
          1,
          3,
          3,
          3,
          3,
          3,
          3,
          3,
          3,
          3,
          3,
          1,
          1,
          2,
          1,
          1,
          3,
          4,
          1,
          3,
          1,
          1,
          1,
          1,
          1,
          14,
          2,
          2,
          1,
          1,
          1,
          1,
          1,
          1,
          1,
          13,
          1,
          1,
          1,
          2,
          2,
          1,
          1,
          1,
          1,
          3,
          1,
          1,
          1,
          1,
          1,
          1,
          1,
          1,
          4,
          1,
          1,
          1,
          2,
          1,
          16,
          1,
          1,
          1,
          1,
          9,
          1,
          1,
          3,
          1,
          1,
          1,
          1,
          1,
          1,
          1,
          1,
          1,
          4,
          5,
          1,
          2,
          1,
          3,
          1,
          1,
          2,
          3,
          1,
          1,
          1,
          1,
          1,
          3,
          2,
          1,
          1,
          1,
          1,
          1,
          1,
          2,
          4,
          4,
          1,
          3,
          3,
          3,
          1,
          1,
          1,
          1,
          1,
          1,
          1,
          1,
          7,
          4,
          1,
          1,
          1,
          2,
          1,
          1,
          1,
          1,
          11,
          3,
          1,
          1,
          1,
          2,
          2,
          2,
          2,
          1,
          1,
          1,
          1,
          1,
          6,
          2,
          1,
          1,
          1,
          1,
          1,
          1,
          1,
          4,
          1,
          1,
          1,
          8,
          1,
          2,
          1,
          3,
          1,
          1,
          2,
          1,
          1,
          2,
          1,
          1,
          6,
          1,
          1,
          1,
          1,
          4,
          1,
          2,
          1,
          1,
          1,
          1,
          1,
          4,
          1,
          1,
          1,
          1,
          1,
          1,
          1,
          2,
          1,
          1,
          1,
          1,
          1,
          1,
          1,
          1,
          1,
          1,
          1,
          1,
          1,
          2,
          5,
          1,
          17,
          3,
          1,
          1,
          8,
          1,
          1,
          1,
          5,
          1,
          1,
          2,
          1,
          1,
          1,
          1,
          7,
          4,
          4,
          1,
          1,
          7,
          1,
          9,
          1,
          3,
          1,
          1,
          1,
          5,
          4,
          4,
          1,
          7,
          1,
          1,
          1,
          1,
          1,
          1,
          1,
          1,
          1,
          2,
          2,
          2,
          2,
          1,
          1,
          1,
          2,
          2,
          2,
          2,
          1,
          1,
          2,
          1,
          4,
          1,
          2,
          2,
          1,
          1,
          6,
          1,
          1,
          1,
          2,
          1,
          1,
          1,
          1,
          1,
          1,
          1,
          1,
          1,
          1,
          1,
          1,
          1,
          1,
          1,
          1,
          1,
          2,
          1,
          1,
          1,
          2,
          4,
          1,
          4,
          1,
          1,
          1,
          1,
          1,
          1,
          3,
          2,
          1,
          1,
          1,
          2,
          2,
          2,
          1,
          3,
          1,
          2,
          1,
          1,
          1,
          1,
          1,
          1,
          1,
          3,
          3,
          5,
          3,
          3,
          3,
          3,
          2,
          2,
          2,
          2,
          2,
          2,
          2,
          5,
          2,
          2,
          1,
          1,
          3,
          1,
          2,
          1,
          1,
          1,
          1,
          1,
          2,
          2,
          1,
          1,
          1,
          1,
          1,
          1,
          5,
          4,
          4,
          1,
          1,
          1,
          7,
          1,
          1,
          1,
          1,
          1,
          1,
          2,
          2,
          2,
          1,
          1,
          1,
          1,
          1,
          1,
          7,
          1,
          1,
          1,
          1,
          1,
          2,
          3,
          1,
          1,
          1,
          2,
          1,
          1,
          1,
          1,
          1,
          1,
          1,
          1,
          1,
          8,
          1,
          1,
          1,
          1,
          1,
          1,
          2,
          1,
          1,
          1,
          1,
          1,
          1,
          1,
          1,
          2,
          1,
          1,
          1,
          4,
          4,
          1,
          2,
          1,
          1,
          2,
          2,
          2,
          2,
          1,
          1,
          1,
          1,
          1,
          1,
          1,
          1,
          1,
          4,
          2,
          2,
          2,
          1,
          1,
          2,
          1,
          6,
          1,
          1,
          1,
          1,
          1,
          1,
          1,
          1,
          1,
          1,
          1,
          1,
          1,
          1,
          1,
          1,
          1,
          1,
          3,
          3,
          1,
          1,
          1,
          3,
          1,
          1,
          1,
          10,
          1,
          1,
          1,
          1,
          1,
          1,
          1,
          1,
          6,
          1,
          1,
          1,
          1,
          1,
          1,
          2,
          1,
          5,
          3,
          1,
          1,
          1,
          1,
          1,
          1,
          1,
          1,
          1,
          1,
          1,
          1,
          3,
          1,
          1,
          1,
          1,
          1,
          1,
          1,
          1,
          12,
          5,
          5,
          1,
          1,
          1,
          5,
          1,
          5,
          5,
          5,
          1,
          1,
          1,
          5,
          1,
          1,
          1,
          1,
          1,
          1,
          7,
          1,
          1,
          2,
          2,
          1,
          1,
          1,
          1,
          1,
          1,
          3,
          1,
          2,
          1,
          1,
          1,
          7,
          1,
          1,
          1,
          1,
          1,
          1,
          1,
          1,
          1,
          2,
          1,
          1,
          1,
          1,
          1,
          1,
          2,
          1,
          1,
          2,
          1,
          1,
          2,
          1,
          1,
          1,
          3,
          1,
          2,
          1,
          1,
          1,
          2,
          10,
          1,
          2,
          5,
          2,
          4,
          1,
          3,
          3,
          1,
          1,
          1,
          1,
          1,
          1,
          1,
          1,
          11,
          1,
          1,
          1,
          1,
          1,
          1,
          1,
          9,
          1,
          1,
          2,
          2,
          1,
          1,
          1,
          1,
          1,
          1,
          2,
          1,
          2,
          2,
          2,
          1,
          1,
          2,
          1,
          1,
          1,
          1,
          1,
          1,
          1,
          1,
          5,
          1,
          1,
          1,
          1,
          1,
          1,
          1,
          1,
          1,
          1,
          1,
          3,
          6,
          1,
          1,
          2,
          1,
          1,
          4,
          2,
          1,
          1,
          1,
          2,
          2,
          2,
          2,
          1,
          1,
          1,
          1,
          3,
          2,
          1,
          2,
          1,
          1,
          4,
          1,
          1,
          1,
          2,
          1,
          1,
          1,
          1,
          1,
          1,
          1,
          1,
          1,
          1,
          1,
          1,
          1,
          1,
          1,
          1,
          1,
          1,
          6,
          2,
          1,
          1,
          2,
          4,
          4,
          1,
          1,
          2,
          1,
          1,
          2,
          1,
          1,
          4,
          3,
          3,
          5,
          5,
          4,
          1,
          1,
          1,
          1,
          9,
          1,
          2,
          1,
          1,
          1,
          1,
          1,
          1,
          3,
          2,
          3,
          3,
          2,
          2,
          2,
          2,
          2,
          1,
          1,
          1,
          6,
          1,
          1,
          1,
          2,
          4,
          11,
          2,
          1,
          1,
          4,
          1,
          1,
          1,
          1,
          1,
          1,
          1,
          1,
          1,
          4,
          1,
          1,
          1,
          1,
          1,
          1,
          1,
          1,
          1,
          1,
          2,
          2,
          1,
          1,
          1,
          1,
          1,
          1,
          1,
          1,
          2,
          1,
          1,
          1,
          1,
          1,
          1,
          1,
          1,
          1,
          1,
          1,
          4,
          1,
          1,
          1,
          1,
          1,
          1,
          1,
          1,
          1,
          2,
          1,
          3,
          3,
          3,
          3,
          1,
          1,
          1,
          1,
          1,
          1,
          1,
          1,
          1,
          1,
          1,
          1,
          1,
          1,
          1,
          1,
          2,
          1,
          2,
          1,
          1,
          1,
          1,
          1,
          2,
          2,
          2,
          1,
          1,
          3,
          3,
          1,
          4,
          2,
          3,
          1,
          1,
          1,
          1,
          1,
          1,
          1,
          1,
          1,
          1,
          1,
          1,
          6,
          1,
          1,
          5,
          1,
          1,
          1,
          1,
          3,
          1,
          4,
          1,
          5,
          5,
          7,
          1,
          3,
          1,
          1,
          1,
          1,
          1,
          1,
          1,
          1,
          1,
          3,
          3,
          3,
          1,
          1,
          1,
          1,
          1,
          1,
          1,
          1,
          1,
          1,
          3,
          3,
          1,
          1,
          1,
          1,
          1,
          1,
          2,
          1,
          1,
          1,
          1,
          1,
          1,
          2,
          1,
          1,
          1,
          13,
          8,
          1,
          1,
          1,
          2,
          2,
          2,
          2,
          1,
          1,
          1,
          1,
          1,
          1,
          1,
          1,
          1,
          2,
          2,
          1,
          7,
          1,
          2,
          1,
          1,
          1,
          1,
          1,
          1,
          1,
          1,
          1,
          1,
          1,
          3,
          2,
          1,
          1,
          1,
          1,
          1,
          1,
          1,
          1,
          1,
          1,
          1,
          1,
          1,
          1,
          1,
          1,
          3,
          4,
          1,
          7,
          1,
          1,
          1,
          1,
          3,
          1,
          2,
          1,
          1,
          1,
          2,
          1,
          4,
          1,
          1,
          1,
          10,
          1,
          1,
          1,
          1,
          2,
          1,
          1,
          1,
          1,
          2,
          1,
          1,
          1,
          1,
          1,
          4,
          1,
          1,
          1,
          1,
          1,
          1,
          1,
          1,
          1,
          1,
          1,
          4,
          1,
          2,
          1,
          1,
          1,
          1,
          1,
          1,
          1,
          1,
          1,
          1,
          1,
          1,
          1,
          1,
          1,
          1,
          1,
          1,
          10,
          2,
          1,
          1,
          1,
          4,
          1,
          1,
          1,
          1,
          3,
          1,
          1,
          1,
          1,
          3,
          5,
          1,
          1,
          1,
          1,
          1,
          1,
          5,
          5,
          2,
          1,
          1,
          1,
          1,
          1,
          2,
          1,
          1,
          1,
          1,
          1,
          1,
          1,
          1,
          1,
          1,
          1,
          1,
          1,
          1,
          1,
          1,
          1,
          1,
          1,
          1,
          1,
          3,
          1,
          1,
          2,
          1,
          1,
          1,
          6,
          1,
          2,
          1,
          3,
          1
         ],
         "yaxis": "y"
        }
       ],
       "layout": {
        "legend": {
         "tracegroupgap": 0
        },
        "template": {
         "data": {
          "bar": [
           {
            "error_x": {
             "color": "#2a3f5f"
            },
            "error_y": {
             "color": "#2a3f5f"
            },
            "marker": {
             "line": {
              "color": "#E5ECF6",
              "width": 0.5
             },
             "pattern": {
              "fillmode": "overlay",
              "size": 10,
              "solidity": 0.2
             }
            },
            "type": "bar"
           }
          ],
          "barpolar": [
           {
            "marker": {
             "line": {
              "color": "#E5ECF6",
              "width": 0.5
             },
             "pattern": {
              "fillmode": "overlay",
              "size": 10,
              "solidity": 0.2
             }
            },
            "type": "barpolar"
           }
          ],
          "carpet": [
           {
            "aaxis": {
             "endlinecolor": "#2a3f5f",
             "gridcolor": "white",
             "linecolor": "white",
             "minorgridcolor": "white",
             "startlinecolor": "#2a3f5f"
            },
            "baxis": {
             "endlinecolor": "#2a3f5f",
             "gridcolor": "white",
             "linecolor": "white",
             "minorgridcolor": "white",
             "startlinecolor": "#2a3f5f"
            },
            "type": "carpet"
           }
          ],
          "choropleth": [
           {
            "colorbar": {
             "outlinewidth": 0,
             "ticks": ""
            },
            "type": "choropleth"
           }
          ],
          "contour": [
           {
            "colorbar": {
             "outlinewidth": 0,
             "ticks": ""
            },
            "colorscale": [
             [
              0,
              "#0d0887"
             ],
             [
              0.1111111111111111,
              "#46039f"
             ],
             [
              0.2222222222222222,
              "#7201a8"
             ],
             [
              0.3333333333333333,
              "#9c179e"
             ],
             [
              0.4444444444444444,
              "#bd3786"
             ],
             [
              0.5555555555555556,
              "#d8576b"
             ],
             [
              0.6666666666666666,
              "#ed7953"
             ],
             [
              0.7777777777777778,
              "#fb9f3a"
             ],
             [
              0.8888888888888888,
              "#fdca26"
             ],
             [
              1,
              "#f0f921"
             ]
            ],
            "type": "contour"
           }
          ],
          "contourcarpet": [
           {
            "colorbar": {
             "outlinewidth": 0,
             "ticks": ""
            },
            "type": "contourcarpet"
           }
          ],
          "heatmap": [
           {
            "colorbar": {
             "outlinewidth": 0,
             "ticks": ""
            },
            "colorscale": [
             [
              0,
              "#0d0887"
             ],
             [
              0.1111111111111111,
              "#46039f"
             ],
             [
              0.2222222222222222,
              "#7201a8"
             ],
             [
              0.3333333333333333,
              "#9c179e"
             ],
             [
              0.4444444444444444,
              "#bd3786"
             ],
             [
              0.5555555555555556,
              "#d8576b"
             ],
             [
              0.6666666666666666,
              "#ed7953"
             ],
             [
              0.7777777777777778,
              "#fb9f3a"
             ],
             [
              0.8888888888888888,
              "#fdca26"
             ],
             [
              1,
              "#f0f921"
             ]
            ],
            "type": "heatmap"
           }
          ],
          "heatmapgl": [
           {
            "colorbar": {
             "outlinewidth": 0,
             "ticks": ""
            },
            "colorscale": [
             [
              0,
              "#0d0887"
             ],
             [
              0.1111111111111111,
              "#46039f"
             ],
             [
              0.2222222222222222,
              "#7201a8"
             ],
             [
              0.3333333333333333,
              "#9c179e"
             ],
             [
              0.4444444444444444,
              "#bd3786"
             ],
             [
              0.5555555555555556,
              "#d8576b"
             ],
             [
              0.6666666666666666,
              "#ed7953"
             ],
             [
              0.7777777777777778,
              "#fb9f3a"
             ],
             [
              0.8888888888888888,
              "#fdca26"
             ],
             [
              1,
              "#f0f921"
             ]
            ],
            "type": "heatmapgl"
           }
          ],
          "histogram": [
           {
            "marker": {
             "pattern": {
              "fillmode": "overlay",
              "size": 10,
              "solidity": 0.2
             }
            },
            "type": "histogram"
           }
          ],
          "histogram2d": [
           {
            "colorbar": {
             "outlinewidth": 0,
             "ticks": ""
            },
            "colorscale": [
             [
              0,
              "#0d0887"
             ],
             [
              0.1111111111111111,
              "#46039f"
             ],
             [
              0.2222222222222222,
              "#7201a8"
             ],
             [
              0.3333333333333333,
              "#9c179e"
             ],
             [
              0.4444444444444444,
              "#bd3786"
             ],
             [
              0.5555555555555556,
              "#d8576b"
             ],
             [
              0.6666666666666666,
              "#ed7953"
             ],
             [
              0.7777777777777778,
              "#fb9f3a"
             ],
             [
              0.8888888888888888,
              "#fdca26"
             ],
             [
              1,
              "#f0f921"
             ]
            ],
            "type": "histogram2d"
           }
          ],
          "histogram2dcontour": [
           {
            "colorbar": {
             "outlinewidth": 0,
             "ticks": ""
            },
            "colorscale": [
             [
              0,
              "#0d0887"
             ],
             [
              0.1111111111111111,
              "#46039f"
             ],
             [
              0.2222222222222222,
              "#7201a8"
             ],
             [
              0.3333333333333333,
              "#9c179e"
             ],
             [
              0.4444444444444444,
              "#bd3786"
             ],
             [
              0.5555555555555556,
              "#d8576b"
             ],
             [
              0.6666666666666666,
              "#ed7953"
             ],
             [
              0.7777777777777778,
              "#fb9f3a"
             ],
             [
              0.8888888888888888,
              "#fdca26"
             ],
             [
              1,
              "#f0f921"
             ]
            ],
            "type": "histogram2dcontour"
           }
          ],
          "mesh3d": [
           {
            "colorbar": {
             "outlinewidth": 0,
             "ticks": ""
            },
            "type": "mesh3d"
           }
          ],
          "parcoords": [
           {
            "line": {
             "colorbar": {
              "outlinewidth": 0,
              "ticks": ""
             }
            },
            "type": "parcoords"
           }
          ],
          "pie": [
           {
            "automargin": true,
            "type": "pie"
           }
          ],
          "scatter": [
           {
            "fillpattern": {
             "fillmode": "overlay",
             "size": 10,
             "solidity": 0.2
            },
            "type": "scatter"
           }
          ],
          "scatter3d": [
           {
            "line": {
             "colorbar": {
              "outlinewidth": 0,
              "ticks": ""
             }
            },
            "marker": {
             "colorbar": {
              "outlinewidth": 0,
              "ticks": ""
             }
            },
            "type": "scatter3d"
           }
          ],
          "scattercarpet": [
           {
            "marker": {
             "colorbar": {
              "outlinewidth": 0,
              "ticks": ""
             }
            },
            "type": "scattercarpet"
           }
          ],
          "scattergeo": [
           {
            "marker": {
             "colorbar": {
              "outlinewidth": 0,
              "ticks": ""
             }
            },
            "type": "scattergeo"
           }
          ],
          "scattergl": [
           {
            "marker": {
             "colorbar": {
              "outlinewidth": 0,
              "ticks": ""
             }
            },
            "type": "scattergl"
           }
          ],
          "scattermapbox": [
           {
            "marker": {
             "colorbar": {
              "outlinewidth": 0,
              "ticks": ""
             }
            },
            "type": "scattermapbox"
           }
          ],
          "scatterpolar": [
           {
            "marker": {
             "colorbar": {
              "outlinewidth": 0,
              "ticks": ""
             }
            },
            "type": "scatterpolar"
           }
          ],
          "scatterpolargl": [
           {
            "marker": {
             "colorbar": {
              "outlinewidth": 0,
              "ticks": ""
             }
            },
            "type": "scatterpolargl"
           }
          ],
          "scatterternary": [
           {
            "marker": {
             "colorbar": {
              "outlinewidth": 0,
              "ticks": ""
             }
            },
            "type": "scatterternary"
           }
          ],
          "surface": [
           {
            "colorbar": {
             "outlinewidth": 0,
             "ticks": ""
            },
            "colorscale": [
             [
              0,
              "#0d0887"
             ],
             [
              0.1111111111111111,
              "#46039f"
             ],
             [
              0.2222222222222222,
              "#7201a8"
             ],
             [
              0.3333333333333333,
              "#9c179e"
             ],
             [
              0.4444444444444444,
              "#bd3786"
             ],
             [
              0.5555555555555556,
              "#d8576b"
             ],
             [
              0.6666666666666666,
              "#ed7953"
             ],
             [
              0.7777777777777778,
              "#fb9f3a"
             ],
             [
              0.8888888888888888,
              "#fdca26"
             ],
             [
              1,
              "#f0f921"
             ]
            ],
            "type": "surface"
           }
          ],
          "table": [
           {
            "cells": {
             "fill": {
              "color": "#EBF0F8"
             },
             "line": {
              "color": "white"
             }
            },
            "header": {
             "fill": {
              "color": "#C8D4E3"
             },
             "line": {
              "color": "white"
             }
            },
            "type": "table"
           }
          ]
         },
         "layout": {
          "annotationdefaults": {
           "arrowcolor": "#2a3f5f",
           "arrowhead": 0,
           "arrowwidth": 1
          },
          "autotypenumbers": "strict",
          "coloraxis": {
           "colorbar": {
            "outlinewidth": 0,
            "ticks": ""
           }
          },
          "colorscale": {
           "diverging": [
            [
             0,
             "#8e0152"
            ],
            [
             0.1,
             "#c51b7d"
            ],
            [
             0.2,
             "#de77ae"
            ],
            [
             0.3,
             "#f1b6da"
            ],
            [
             0.4,
             "#fde0ef"
            ],
            [
             0.5,
             "#f7f7f7"
            ],
            [
             0.6,
             "#e6f5d0"
            ],
            [
             0.7,
             "#b8e186"
            ],
            [
             0.8,
             "#7fbc41"
            ],
            [
             0.9,
             "#4d9221"
            ],
            [
             1,
             "#276419"
            ]
           ],
           "sequential": [
            [
             0,
             "#0d0887"
            ],
            [
             0.1111111111111111,
             "#46039f"
            ],
            [
             0.2222222222222222,
             "#7201a8"
            ],
            [
             0.3333333333333333,
             "#9c179e"
            ],
            [
             0.4444444444444444,
             "#bd3786"
            ],
            [
             0.5555555555555556,
             "#d8576b"
            ],
            [
             0.6666666666666666,
             "#ed7953"
            ],
            [
             0.7777777777777778,
             "#fb9f3a"
            ],
            [
             0.8888888888888888,
             "#fdca26"
            ],
            [
             1,
             "#f0f921"
            ]
           ],
           "sequentialminus": [
            [
             0,
             "#0d0887"
            ],
            [
             0.1111111111111111,
             "#46039f"
            ],
            [
             0.2222222222222222,
             "#7201a8"
            ],
            [
             0.3333333333333333,
             "#9c179e"
            ],
            [
             0.4444444444444444,
             "#bd3786"
            ],
            [
             0.5555555555555556,
             "#d8576b"
            ],
            [
             0.6666666666666666,
             "#ed7953"
            ],
            [
             0.7777777777777778,
             "#fb9f3a"
            ],
            [
             0.8888888888888888,
             "#fdca26"
            ],
            [
             1,
             "#f0f921"
            ]
           ]
          },
          "colorway": [
           "#636efa",
           "#EF553B",
           "#00cc96",
           "#ab63fa",
           "#FFA15A",
           "#19d3f3",
           "#FF6692",
           "#B6E880",
           "#FF97FF",
           "#FECB52"
          ],
          "font": {
           "color": "#2a3f5f"
          },
          "geo": {
           "bgcolor": "white",
           "lakecolor": "white",
           "landcolor": "#E5ECF6",
           "showlakes": true,
           "showland": true,
           "subunitcolor": "white"
          },
          "hoverlabel": {
           "align": "left"
          },
          "hovermode": "closest",
          "mapbox": {
           "style": "light"
          },
          "paper_bgcolor": "white",
          "plot_bgcolor": "#E5ECF6",
          "polar": {
           "angularaxis": {
            "gridcolor": "white",
            "linecolor": "white",
            "ticks": ""
           },
           "bgcolor": "#E5ECF6",
           "radialaxis": {
            "gridcolor": "white",
            "linecolor": "white",
            "ticks": ""
           }
          },
          "scene": {
           "xaxis": {
            "backgroundcolor": "#E5ECF6",
            "gridcolor": "white",
            "gridwidth": 2,
            "linecolor": "white",
            "showbackground": true,
            "ticks": "",
            "zerolinecolor": "white"
           },
           "yaxis": {
            "backgroundcolor": "#E5ECF6",
            "gridcolor": "white",
            "gridwidth": 2,
            "linecolor": "white",
            "showbackground": true,
            "ticks": "",
            "zerolinecolor": "white"
           },
           "zaxis": {
            "backgroundcolor": "#E5ECF6",
            "gridcolor": "white",
            "gridwidth": 2,
            "linecolor": "white",
            "showbackground": true,
            "ticks": "",
            "zerolinecolor": "white"
           }
          },
          "shapedefaults": {
           "line": {
            "color": "#2a3f5f"
           }
          },
          "ternary": {
           "aaxis": {
            "gridcolor": "white",
            "linecolor": "white",
            "ticks": ""
           },
           "baxis": {
            "gridcolor": "white",
            "linecolor": "white",
            "ticks": ""
           },
           "bgcolor": "#E5ECF6",
           "caxis": {
            "gridcolor": "white",
            "linecolor": "white",
            "ticks": ""
           }
          },
          "title": {
           "x": 0.05
          },
          "xaxis": {
           "automargin": true,
           "gridcolor": "white",
           "linecolor": "white",
           "ticks": "",
           "title": {
            "standoff": 15
           },
           "zerolinecolor": "white",
           "zerolinewidth": 2
          },
          "yaxis": {
           "automargin": true,
           "gridcolor": "white",
           "linecolor": "white",
           "ticks": "",
           "title": {
            "standoff": 15
           },
           "zerolinecolor": "white",
           "zerolinewidth": 2
          }
         }
        },
        "title": {
         "text": "Runtime vs. Awards Received"
        },
        "xaxis": {
         "anchor": "y",
         "domain": [
          0,
          1
         ],
         "title": {
          "text": "Runtime"
         }
        },
        "yaxis": {
         "anchor": "x",
         "domain": [
          0,
          1
         ],
         "title": {
          "text": "num_awards"
         }
        }
       }
      }
     },
     "metadata": {},
     "output_type": "display_data"
    },
    {
     "data": {
      "application/vnd.plotly.v1+json": {
       "config": {
        "plotlyServerURL": "https://plot.ly"
       },
       "data": [
        {
         "customdata": [
          [
           "1%"
          ],
          [
           "11 Minutes"
          ],
          [
           "12 Years a Slave"
          ],
          [
           "13 Minutes"
          ],
          [
           "150 Milligrams"
          ],
          [
           "1917"
          ],
          [
           "1945"
          ],
          [
           "20 Days in Mariupol"
          ],
          [
           "20 Feet from Stardom"
          ],
          [
           "20,000 Species of Bees"
          ],
          [
           "2067"
          ],
          [
           "20th Century Women"
          ],
          [
           "3 Days in Quiberon"
          ],
          [
           "45 Years"
          ],
          [
           "7th Heaven"
          ],
          [
           "A Christmas Carol"
          ],
          [
           "A Ciambra"
          ],
          [
           "A Fantastic Woman"
          ],
          [
           "A Farewell to Arms"
          ],
          [
           "A Flying Jatt"
          ],
          [
           "A Good American"
          ],
          [
           "A Greek Tragedy"
          ],
          [
           "A House Made of Splinters"
          ],
          [
           "A Land Imagined"
          ],
          [
           "A Man Called Ove"
          ],
          [
           "A Midsummer Night's Dream"
          ],
          [
           "A Monster Calls"
          ],
          [
           "A Prayer Before Dawn"
          ],
          [
           "A Private War"
          ],
          [
           "A Room with a View"
          ],
          [
           "A Star Is Born"
          ],
          [
           "A Syrian Love Story"
          ],
          [
           "A Tree Grows in Brooklyn"
          ],
          [
           "A War"
          ],
          [
           "A White, White Day"
          ],
          [
           "A Woman's Life"
          ],
          [
           "A Woman, a Part"
          ],
          [
           "About Dry Grasses"
          ],
          [
           "Acasă, My Home"
          ],
          [
           "Advantages of Travelling by Train"
          ],
          [
           "Aferim!"
          ],
          [
           "Aftersun"
          ],
          [
           "Aladdin"
          ],
          [
           "Alcarràs"
          ],
          [
           "Ali's Wedding"
          ],
          [
           "All About My Mother (Todo sobre mi madre)"
          ],
          [
           "All Quiet on the Western Front"
          ],
          [
           "All Quiet on the Western Front"
          ],
          [
           "All That Breathes"
          ],
          [
           "All of Us Strangers"
          ],
          [
           "All the King's Men"
          ],
          [
           "AlphaGo"
          ],
          [
           "American Factory"
          ],
          [
           "American Fiction"
          ],
          [
           "American Sniper"
          ],
          [
           "Amy"
          ],
          [
           "An Impossible Love"
          ],
          [
           "An Officer and a Spy"
          ],
          [
           "Anatomy of a Fall"
          ],
          [
           "Anchor and Hope"
          ],
          [
           "And Then We Danced"
          ],
          [
           "And Tomorrow the Entire World"
          ],
          [
           "Aniara"
          ],
          [
           "Anon"
          ],
          [
           "Another Round"
          ],
          [
           "Anthropoid"
          ],
          [
           "Antonia's Line (Antonia)"
          ],
          [
           "Apples"
          ],
          [
           "Argentina, 1985"
          ],
          [
           "Around the World in 80 Days"
          ],
          [
           "Arrival"
          ],
          [
           "Arthur Rubinstein – The Love of Life (L'amour de la vie - Artur Rubinstein)"
          ],
          [
           "Artie Shaw: Time Is All You've Got"
          ],
          [
           "As I Open My Eyes"
          ],
          [
           "Asako I & II"
          ],
          [
           "Ash Is Purest White"
          ],
          [
           "At Eternity's Gate"
          ],
          [
           "Atlantique"
          ],
          [
           "Austerlitz"
          ],
          [
           "Australia Day"
          ],
          [
           "Avatar: The Way of Water"
          ],
          [
           "Avengers: Age of Ultron"
          ],
          [
           "Avengers: Infinity War"
          ],
          [
           "BPM (Beats per Minute)"
          ],
          [
           "Babette's Feast (Babettes gæstebud)"
          ],
          [
           "Babylon"
          ],
          [
           "Babyteeth"
          ],
          [
           "Bad Girl"
          ],
          [
           "Bad Tales"
          ],
          [
           "Bao"
          ],
          [
           "Barbara"
          ],
          [
           "Barbie"
          ],
          [
           "Bathtubs Over Broadway"
          ],
          [
           "Batman v Superman: Dawn of Justice"
          ],
          [
           "Beanpole"
          ],
          [
           "Bear Story"
          ],
          [
           "Beast"
          ],
          [
           "Beats"
          ],
          [
           "Beauty and the Beast"
          ],
          [
           "Before Dawn"
          ],
          [
           "Beginning"
          ],
          [
           "Belfast"
          ],
          [
           "Belle Epoque (The Beautiful Era)"
          ],
          [
           "Ben-Hur"
          ],
          [
           "Berlin Alexanderplatz"
          ],
          [
           "Berlin Syndrome"
          ],
          [
           "Bhonsle"
          ],
          [
           "Big Hero 6"
          ],
          [
           "Bird"
          ],
          [
           "Bird Box"
          ],
          [
           "Birdman or (The Unexpected Virtue of Ignorance)"
          ],
          [
           "Birds of Passage"
          ],
          [
           "BlacKkKlansman"
          ],
          [
           "Black Orpheus (Orfeu Negro)"
          ],
          [
           "Black Panther"
          ],
          [
           "Black Panther: Wakanda Forever"
          ],
          [
           "Black Rider (Schwarzfahrer)"
          ],
          [
           "Black and White in Color (Noirs et blancs en couleur)"
          ],
          [
           "Blindspotting"
          ],
          [
           "Blithe Spirit"
          ],
          [
           "Blue Jasmine"
          ],
          [
           "Bohemian Rhapsody"
          ],
          [
           "Bombshell"
          ],
          [
           "Bone Tomahawk"
          ],
          [
           "Bones and All"
          ],
          [
           "Borat Subsequent Moviefilm"
          ],
          [
           "Border"
          ],
          [
           "Borg McEnroe"
          ],
          [
           "Born into Brothels"
          ],
          [
           "Boy Erased"
          ],
          [
           "Boy from Heaven"
          ],
          [
           "Boys in the Trees"
          ],
          [
           "Breath"
          ],
          [
           "Bridge of Spies"
          ],
          [
           "Bridgend"
          ],
          [
           "Bridget Jones's Baby"
          ],
          [
           "Brooklyn"
          ],
          [
           "Brothers' Nest"
          ],
          [
           "Bunny"
          ],
          [
           "Burnt by the Sun (Utomlyonnye solntsem)"
          ],
          [
           "C'est la vie!"
          ],
          [
           "CODA"
          ],
          [
           "Call Me by Your Name"
          ],
          [
           "Captain America: Civil War"
          ],
          [
           "Cargo"
          ],
          [
           "Carol"
          ],
          [
           "Casablanca"
          ],
          [
           "Cavalcade"
          ],
          [
           "Champion"
          ],
          [
           "Character (Karakter)"
          ],
          [
           "Charlatan"
          ],
          [
           "Chocolat"
          ],
          [
           "Chuck Norris vs Communism"
          ],
          [
           "Cimarron"
          ],
          [
           "Cinema Paradiso"
          ],
          [
           "Cities of Last Things"
          ],
          [
           "Citizenfour"
          ],
          [
           "Climax"
          ],
          [
           "Close"
          ],
          [
           "Closely Watched Trains (Ostre sledované vlaky)"
          ],
          [
           "Closeness"
          ],
          [
           "Coco"
          ],
          [
           "Cold War"
          ],
          [
           "Colette"
          ],
          [
           "Collective"
          ],
          [
           "Communion"
          ],
          [
           "Corpus Christi"
          ],
          [
           "Corsage"
          ],
          [
           "Crash"
          ],
          [
           "Crisis Hotline: Veterans Press 1"
          ],
          [
           "Cruella"
          ],
          [
           "Crumbs"
          ],
          [
           "Custody"
          ],
          [
           "DAU. Natasha"
          ],
          [
           "Dallas Buyers Club"
          ],
          [
           "Danger Close: The Battle of Long Tan"
          ],
          [
           "Dangerous Moves (La Diagonale du fou)"
          ],
          [
           "Darkest Hour"
          ],
          [
           "Day for Night (La Nuit américaine)"
          ],
          [
           "Days of Waiting"
          ],
          [
           "Death on the Nile"
          ],
          [
           "Decision to Leave"
          ],
          [
           "Demolition"
          ],
          [
           "Diamantino"
          ],
          [
           "Diary of a Fleeting Affair"
          ],
          [
           "Dirt Music"
          ],
          [
           "Dirty God"
          ],
          [
           "Disraeli"
          ],
          [
           "Divorce Italian Style"
          ],
          [
           "Dogman"
          ],
          [
           "Dogs"
          ],
          [
           "Don't Tell"
          ],
          [
           "Donbass"
          ],
          [
           "Down Under"
          ],
          [
           "Dr. Jekyll and Mr. Hyde"
          ],
          [
           "Dream Scenario"
          ],
          [
           "Dreams Rewired"
          ],
          [
           "Drive My Car"
          ],
          [
           "Dumbo"
          ],
          [
           "Dune"
          ],
          [
           "Dunkirk"
          ],
          [
           "E.T.: The Extra-Terrestrial"
          ],
          [
           "EO"
          ],
          [
           "Early Man"
          ],
          [
           "Election Night (Valgaften)"
          ],
          [
           "Elle"
          ],
          [
           "Elvis"
          ],
          [
           "Embrace of the Serpent"
          ],
          [
           "Empire of Light"
          ],
          [
           "Encanto"
          ],
          [
           "Escape from Pretoria"
          ],
          [
           "Eskimo"
          ],
          [
           "Ex Machina"
          ],
          [
           "Fallen Leaves"
          ],
          [
           "Falling"
          ],
          [
           "Fanny & Alexander (Fanny och Alexander)"
          ],
          [
           "Fantastic Beasts and Where to Find Them"
          ],
          [
           "Fantastic Beasts: The Crimes of Grindelwald"
          ],
          [
           "Fatima"
          ],
          [
           "Feast"
          ],
          [
           "Federico Fellini's 8½"
          ],
          [
           "Fences"
          ],
          [
           "Film Stars Don't Die in Liverpool"
          ],
          [
           "Fire at Sea"
          ],
          [
           "First Man"
          ],
          [
           "Florence Foster Jenkins"
          ],
          [
           "Folies Bergere"
          ],
          [
           "For Sama"
          ],
          [
           "Ford v Ferrari"
          ],
          [
           "Forever Young"
          ],
          [
           "Four Daughters"
          ],
          [
           "Foxtrot"
          ],
          [
           "Frantz"
          ],
          [
           "Free In Deed"
          ],
          [
           "Free Solo"
          ],
          [
           "Freeheld"
          ],
          [
           "Frida"
          ],
          [
           "From the Land of the Moon"
          ],
          [
           "Frozen"
          ],
          [
           "Gabriel and the Mountain"
          ],
          [
           "Gagarine"
          ],
          [
           "Gate of Hell (Jigokumon)"
          ],
          [
           "Get Out"
          ],
          [
           "Get Out Your Handkerchiefs (Préparez vos mouchoirs)"
          ],
          [
           "Giant"
          ],
          [
           "Girl"
          ],
          [
           "Girl Asleep"
          ],
          [
           "Girls Lost"
          ],
          [
           "Give Me Liberty"
          ],
          [
           "Glass (Glas)"
          ],
          [
           "Glass Onion: A Knives Out Mystery"
          ],
          [
           "Gloria Bell"
          ],
          [
           "Glory"
          ],
          [
           "God Exists, Her Name Is Petrunija"
          ],
          [
           "Godland"
          ],
          [
           "Gods of Egypt"
          ],
          [
           "Godzilla Minus One"
          ],
          [
           "Gold"
          ],
          [
           "Goldstone"
          ],
          [
           "Good Manners"
          ],
          [
           "Graduation"
          ],
          [
           "Gran Turismo"
          ],
          [
           "Great (Great (Isambard Kingdom Brunel))"
          ],
          [
           "Great Expectations"
          ],
          [
           "Green Book"
          ],
          [
           "Green Border"
          ],
          [
           "Green Room"
          ],
          [
           "Gunda"
          ],
          [
           "Gutland"
          ],
          [
           "H Is for Happiness"
          ],
          [
           "Hacksaw Ridge"
          ],
          [
           "Hail Satan?"
          ],
          [
           "Hanagatami"
          ],
          [
           "Happy Anniversary (Heureux Anniversaire)"
          ],
          [
           "Happy End"
          ],
          [
           "Happy as Lazzaro"
          ],
          [
           "Harpoon"
          ],
          [
           "Heart of Oak"
          ],
          [
           "Heart of a Dog"
          ],
          [
           "Heart of the World (2018 film)"
          ],
          [
           "Hearts and Bones"
          ],
          [
           "Heartstone"
          ],
          [
           "Heaven Is a Traffic Jam on the 405"
          ],
          [
           "Helium"
          ],
          [
           "Hell or High Water"
          ],
          [
           "Hello, Dolly!"
          ],
          [
           "Henry V"
          ],
          [
           "Her"
          ],
          [
           "Hidden Figures"
          ],
          [
           "High-Rise"
          ],
          [
           "Holding the Man"
          ],
          [
           "Holy Spider"
          ],
          [
           "Home"
          ],
          [
           "Honeyland"
          ],
          [
           "Hope"
          ],
          [
           "Hotel Mumbai"
          ],
          [
           "Hounds of Love"
          ],
          [
           "How the Grinch Stole Christmas"
          ],
          [
           "How to Have Sex"
          ],
          [
           "I Am Mother"
          ],
          [
           "I Am Not a Witch"
          ],
          [
           "I Am Woman"
          ],
          [
           "I Do Not Care If We Go Down in History as Barbarians"
          ],
          [
           "I, Daniel Blake"
          ],
          [
           "I, Tonya"
          ],
          [
           "Icarus"
          ],
          [
           "Ida"
          ],
          [
           "If Beale Street Could Talk"
          ],
          [
           "In Bed with Victoria"
          ],
          [
           "In My Room"
          ],
          [
           "In the Fade"
          ],
          [
           "Indivisible"
          ],
          [
           "Innocence of Memories"
          ],
          [
           "Inocente"
          ],
          [
           "Inside Out"
          ],
          [
           "Investigation of a Citizen Above Suspicion (Indagine su un cittadino al di sopra di ogni sospetto)"
          ],
          [
           "Io capitano"
          ],
          [
           "Is It Always Right to Be Right?"
          ],
          [
           "Jasper Jones"
          ],
          [
           "Jeune Femme"
          ],
          [
           "Jezebel"
          ],
          [
           "Joan of Arc"
          ],
          [
           "Joe Cinque's Consolation"
          ],
          [
           "Jojo Rabbit"
          ],
          [
           "Joker"
          ],
          [
           "Journey into Self"
          ],
          [
           "Journey of Hope (Reise der Hoffnung)"
          ],
          [
           "Judas and the Black Messiah"
          ],
          [
           "Judy"
          ],
          [
           "Judy and Punch"
          ],
          [
           "Julieta"
          ],
          [
           "Jumbo"
          ],
          [
           "Jungle"
          ],
          [
           "Jupiter's Moon"
          ],
          [
           "Kill the Jockey"
          ],
          [
           "King Richard"
          ],
          [
           "King of Jazz"
          ],
          [
           "King of the Belgians"
          ],
          [
           "Kitchen Brigade"
          ],
          [
           "Kitty Foyle (Kitty Foyle: The Natural History of a Woman)"
          ],
          [
           "Knife+Heart"
          ],
          [
           "Koko-di Koko-da"
          ],
          [
           "Kokoda Front Line!"
          ],
          [
           "La La Land"
          ],
          [
           "La Strada (The Road)"
          ],
          [
           "La Vie en rose"
          ],
          [
           "Ladies in Black"
          ],
          [
           "Lady Bird"
          ],
          [
           "Lady Macbeth"
          ],
          [
           "Lamb"
          ],
          [
           "Last Cab To Darwin"
          ],
          [
           "Lean on Pete"
          ],
          [
           "Leisure"
          ],
          [
           "Les Misérables"
          ],
          [
           "Let the Corpses Tan"
          ],
          [
           "Let the Sunshine In"
          ],
          [
           "Life Is Beautiful (La vita è bella)"
          ],
          [
           "Like Crazy"
          ],
          [
           "Limelight"
          ],
          [
           "Lion"
          ],
          [
           "Little Monsters"
          ],
          [
           "Little Wing"
          ],
          [
           "Little Women"
          ],
          [
           "Little Women"
          ],
          [
           "Little Women"
          ],
          [
           "Living"
          ],
          [
           "Liza, the Fox-Fairy"
          ],
          [
           "Long Day's Journey into Night"
          ],
          [
           "Lost and Beautiful"
          ],
          [
           "Love & Friendship"
          ],
          [
           "Loveless"
          ],
          [
           "Loveling"
          ],
          [
           "M*A*S*H"
          ],
          [
           "Ma Rainey's Black Bottom"
          ],
          [
           "Mad Max: Fury Road"
          ],
          [
           "Madame Rosa (La Vie devant soi)"
          ],
          [
           "Mamma Mia! Here We Go Again"
          ],
          [
           "Mammal"
          ],
          [
           "Manchester by the Sea"
          ],
          [
           "Manipulation"
          ],
          [
           "Mank"
          ],
          [
           "March of the Penguins (La Marche de l'empereur)"
          ],
          [
           "Marguerite"
          ],
          [
           "Maria"
          ],
          [
           "Marlina the Murderer in Four Acts"
          ],
          [
           "Marona's Fantastic Tale"
          ],
          [
           "Marriage Story"
          ],
          [
           "Martin Eden"
          ],
          [
           "Mary Magdalene"
          ],
          [
           "Mediterranea"
          ],
          [
           "Men & Chicken"
          ],
          [
           "Minari"
          ],
          [
           "Miss Fisher and the Crypt of Tears"
          ],
          [
           "Miss Marx"
          ],
          [
           "Missing"
          ],
          [
           "Molly's Game"
          ],
          [
           "Mon roi"
          ],
          [
           "Mona Lisa Descending a Staircase"
          ],
          [
           "Monster"
          ],
          [
           "Monster"
          ],
          [
           "Moonlight"
          ],
          [
           "Morning Glory"
          ],
          [
           "Moscow Does Not Believe in Tears"
          ],
          [
           "Mother"
          ],
          [
           "Mountains May Depart"
          ],
          [
           "Mr Hublot"
          ],
          [
           "Mudbound"
          ],
          [
           "Murder on a Sunday Morning (Un coupable idéal)"
          ],
          [
           "Murder on the Orient Express"
          ],
          [
           "Mustang"
          ],
          [
           "My Donkey, My Lover & I"
          ],
          [
           "My Little Sister"
          ],
          [
           "My Mother"
          ],
          [
           "My Octopus Teacher"
          ],
          [
           "My Uncle (Mon oncle)"
          ],
          [
           "Napoli velata"
          ],
          [
           "Navalny"
          ],
          [
           "Neon Bull"
          ],
          [
           "Never Look Away"
          ],
          [
           "Never on Sunday (Pote tin Kyriaki)"
          ],
          [
           "Nico, 1988"
          ],
          [
           "Night Comes On"
          ],
          [
           "Nights of Cabiria (Le Notti di Cabiria)"
          ],
          [
           "Nina"
          ],
          [
           "No Date, No Signature"
          ],
          [
           "No Men Beyond This Point"
          ],
          [
           "No Time to Die"
          ],
          [
           "Nocturnal Animals"
          ],
          [
           "Nomadland"
          ],
          [
           "None But the Lonely Heart"
          ],
          [
           "North West Mounted Police"
          ],
          [
           "Nostalgia"
          ],
          [
           "Now Add Honey"
          ],
          [
           "Nowhere in Africa (Nirgendwo in Afrika)"
          ],
          [
           "Number One"
          ],
          [
           "Nuts!"
          ],
          [
           "O.J.: Made in America"
          ],
          [
           "Oblivion Verses"
          ],
          [
           "Oddball"
          ],
          [
           "Of Fathers and Sons"
          ],
          [
           "On Body and Soul"
          ],
          [
           "On the Adamant"
          ],
          [
           "Once Upon a Time in Hollywood"
          ],
          [
           "One Fine Morning"
          ],
          [
           "One-Eyed Men Are Kings (...borgnes sont rois, Les)"
          ],
          [
           "Operation Avalanche"
          ],
          [
           "Oppenheimer"
          ],
          [
           "Our Time"
          ],
          [
           "Over the Moon"
          ],
          [
           "Pacifiction"
          ],
          [
           "Pain and Glory"
          ],
          [
           "Pan's Labyrinth (El laberinto del fauno)"
          ],
          [
           "Paper Planes"
          ],
          [
           "Parasite"
          ],
          [
           "Partisan"
          ],
          [
           "Paths of the Soul"
          ],
          [
           "Pelican Blood"
          ],
          [
           "Pelle the Conqueror (Pelle erobreren)"
          ],
          [
           "Penguin Bloom"
          ],
          [
           "Perfect Days"
          ],
          [
           "Perfect Strangers"
          ],
          [
           "Period. End of Sentence."
          ],
          [
           "Peter & the Wolf"
          ],
          [
           "Peter Rabbit"
          ],
          [
           "Phantom Thread"
          ],
          [
           "Pin Cushion"
          ],
          [
           "Pinocchio"
          ],
          [
           "Pinocchio"
          ],
          [
           "Piper"
          ],
          [
           "Piranhas"
          ],
          [
           "Poor Things"
          ],
          [
           "Portrait of a Lady on Fire"
          ],
          [
           "Precious"
          ],
          [
           "Present.Perfect."
          ],
          [
           "Queen of Hearts"
          ],
          [
           "Quest"
          ],
          [
           "Quo Vadis, Aida?"
          ],
          [
           "RRR"
          ],
          [
           "Rabiye Kurnaz vs. George W. Bush"
          ],
          [
           "Radiance"
          ],
          [
           "Radio Dreams"
          ],
          [
           "Rafiki"
          ],
          [
           "Raiders of the Lost Ark"
          ],
          [
           "Raiders!: The Story of the Greatest Fan Film Ever Made"
          ],
          [
           "Rams"
          ],
          [
           "Rams"
          ],
          [
           "Raw"
          ],
          [
           "Ray & Liz"
          ],
          [
           "Ray & Liz"
          ],
          [
           "Real Love"
          ],
          [
           "Rebecca"
          ],
          [
           "Red Dog: True Blue"
          ],
          [
           "Relic"
          ],
          [
           "Ride Like a Girl"
          ],
          [
           "Robert Frost: A Lover's Quarrel with the World"
          ],
          [
           "Robot Dreams"
          ],
          [
           "Rocketman"
          ],
          [
           "Rogue One: A Star Wars Story"
          ],
          [
           "Roma"
          ],
          [
           "Room"
          ],
          [
           "Rosie"
          ],
          [
           "Ruben Guthrie"
          ],
          [
           "S Is for Stanley"
          ],
          [
           "Saint Omer"
          ],
          [
           "Sami Blood"
          ],
          [
           "Samson and Delilah"
          ],
          [
           "Sand Storm"
          ],
          [
           "Satan's Slaves"
          ],
          [
           "Saudi Runaway"
          ],
          [
           "Saving Brinton"
          ],
          [
           "Saving Face"
          ],
          [
           "Scary Mother"
          ],
          [
           "Selma"
          ],
          [
           "Separate Tables"
          ],
          [
           "Shadow"
          ],
          [
           "Shaft"
          ],
          [
           "Shoplifters"
          ],
          [
           "Showing Up"
          ],
          [
           "Silver Linings Playbook"
          ],
          [
           "Sing"
          ],
          [
           "Sink or Swim"
          ],
          [
           "Skin"
          ],
          [
           "Slalom"
          ],
          [
           "Slow West"
          ],
          [
           "So Long, My Son"
          ],
          [
           "Sofia"
          ],
          [
           "Sole"
          ],
          [
           "Son of Saul"
          ],
          [
           "Song Without a Name"
          ],
          [
           "Sonic the Hedgehog 2"
          ],
          [
           "Sorry Angel"
          ],
          [
           "Soul"
          ],
          [
           "Sound of Metal"
          ],
          [
           "Special Delivery"
          ],
          [
           "Spectre"
          ],
          [
           "Spider-Man: Into the Spider-Verse"
          ],
          [
           "Spotlight"
          ],
          [
           "Standing Tall"
          ],
          [
           "Star Wars"
          ],
          [
           "Star Wars: Episode VIII – The Last Jedi"
          ],
          [
           "Still Alice"
          ],
          [
           "Straight Outta Compton"
          ],
          [
           "Street Angel"
          ],
          [
           "Stutterer"
          ],
          [
           "Styx"
          ],
          [
           "Suburra"
          ],
          [
           "Suicide Squad"
          ],
          [
           "Summer 1993"
          ],
          [
           "Summer of 85"
          ],
          [
           "Summertime"
          ],
          [
           "Summertime"
          ],
          [
           "Sundae in New York"
          ],
          [
           "Sundays and Cybele (Le Dimanches de Ville d'Avray)"
          ],
          [
           "Sunrise"
          ],
          [
           "Sunset"
          ],
          [
           "Suntan"
          ],
          [
           "Suzume"
          ],
          [
           "Sweet Bean"
          ],
          [
           "Sweet Bird of Youth"
          ],
          [
           "Sweet Country"
          ],
          [
           "Sweet Dreams"
          ],
          [
           "System Crasher"
          ],
          [
           "Tabu"
          ],
          [
           "Take Me Somewhere Nice"
          ],
          [
           "Tale of Tales"
          ],
          [
           "Talk to Her (Hable con ella)"
          ],
          [
           "Talking About Trees"
          ],
          [
           "Tanna"
          ],
          [
           "Tel Aviv on Fire"
          ],
          [
           "Tempest"
          ],
          [
           "Tenet"
          ],
          [
           "Tess"
          ],
          [
           "The Accountant"
          ],
          [
           "The Accused"
          ],
          [
           "The Anderson Platoon (La Section Anderson)"
          ],
          [
           "The Animal Kingdom"
          ],
          [
           "The Apostate"
          ],
          [
           "The Assault (De Aanslag)"
          ],
          [
           "The Banshees of Inisherin"
          ],
          [
           "The Big Hit"
          ],
          [
           "The Big House"
          ],
          [
           "The Big Short"
          ],
          [
           "The Big Sick"
          ],
          [
           "The Box"
          ],
          [
           "The Brand New Testament"
          ],
          [
           "The Brave One"
          ],
          [
           "The Bridge of San Luis Rey"
          ],
          [
           "The Butterfly Tree"
          ],
          [
           "The Captain"
          ],
          [
           "The Cave"
          ],
          [
           "The Champ"
          ],
          [
           "The Chicken (Le Poulet)"
          ],
          [
           "The Clan"
          ],
          [
           "The Cleaners"
          ],
          [
           "The Commune"
          ],
          [
           "The Counterfeiters (Die Fälscher)"
          ],
          [
           "The Dancer"
          ],
          [
           "The Danish Girl"
          ],
          [
           "The Daughter"
          ],
          [
           "The Dawn Patrol"
          ],
          [
           "The Days to Come"
          ],
          [
           "The Death and Life of Otto Bloom"
          ],
          [
           "The Death of Stalin"
          ],
          [
           "The Disaster Artist"
          ],
          [
           "The Discreet Charm of the Bourgeoisie (Le charme discret de la bourgeoisie)"
          ],
          [
           "The Distant Barking of Dogs"
          ],
          [
           "The Donut King"
          ],
          [
           "The Dot and the Line (The Dot and the Line: A Romance in Lower Mathematics)"
          ],
          [
           "The Dove"
          ],
          [
           "The Dressmaker"
          ],
          [
           "The Dry"
          ],
          [
           "The Elephant Whisperers"
          ],
          [
           "The Empire Strikes Back"
          ],
          [
           "The Fabelmans"
          ],
          [
           "The Fantastic Flying Books of Mr. Morris Lessmore"
          ],
          [
           "The Father"
          ],
          [
           "The Favourite"
          ],
          [
           "The Fencer"
          ],
          [
           "The Five Devils"
          ],
          [
           "The Florida Project"
          ],
          [
           "The Fly (A Légy)"
          ],
          [
           "The Fog of War"
          ],
          [
           "The Fortress"
          ],
          [
           "The Furnace"
          ],
          [
           "The Garden of the Finzi-Continis (Il Giardino dei Finzi-Contini)"
          ],
          [
           "The Godfather: Part II"
          ],
          [
           "The Golden Fish (Histoire d'un poisson rouge)"
          ],
          [
           "The Grand Budapest Hotel"
          ],
          [
           "The Great Beauty"
          ],
          [
           "The Guilty"
          ],
          [
           "The Happiest Day in the Life of Olli Mäki"
          ],
          [
           "The Happy Prince"
          ],
          [
           "The Hateful Eight"
          ],
          [
           "The Here After"
          ],
          [
           "The Holdovers"
          ],
          [
           "The Idol"
          ],
          [
           "The Imitation Game"
          ],
          [
           "The Informer"
          ],
          [
           "The Innocent"
          ],
          [
           "The Innocent"
          ],
          [
           "The Insult"
          ],
          [
           "The Invisible Man"
          ],
          [
           "The Jungle Book"
          ],
          [
           "The Killing Ground"
          ],
          [
           "The Killing of a Sacred Deer"
          ],
          [
           "The LEGO Batman Movie"
          ],
          [
           "The Lady in Number 6"
          ],
          [
           "The Last Command"
          ],
          [
           "The Little Mermaid"
          ],
          [
           "The Little Mermaid"
          ],
          [
           "The Lives of Others (Das Leben der Anderen)"
          ],
          [
           "The Load"
          ],
          [
           "The Lobster"
          ],
          [
           "The Lost Arcade"
          ],
          [
           "The Lost Thing"
          ],
          [
           "The Love Witch"
          ],
          [
           "The Macaluso Sisters"
          ],
          [
           "The Man Who Planted Trees (L' Homme qui plantait des arbres)"
          ],
          [
           "The Martian"
          ],
          [
           "The Measure of a Man"
          ],
          [
           "The Night Eats the World"
          ],
          [
           "The Nightingale"
          ],
          [
           "The Official Story (La Historia Oficial)"
          ],
          [
           "The Other Side of Hope"
          ],
          [
           "The Painted Bird"
          ],
          [
           "The Patriot"
          ],
          [
           "The People vs. Fritz Bauer"
          ],
          [
           "The Power of the Dog"
          ],
          [
           "The Prayer"
          ],
          [
           "The Producers"
          ],
          [
           "The Queen of Basketball"
          ],
          [
           "The Rains Came"
          ],
          [
           "The Realm"
          ],
          [
           "The Red Balloon (Le ballon rouge)"
          ],
          [
           "The Red Violin (Le violon rouge)"
          ],
          [
           "The Reports on Sarah and Saleem"
          ],
          [
           "The Revenant"
          ],
          [
           "The Rider"
          ],
          [
           "The River"
          ],
          [
           "The Salesman"
          ],
          [
           "The Sand Castle (Le Château de sable)"
          ],
          [
           "The Secret in Their Eyes"
          ],
          [
           "The Shape of Water"
          ],
          [
           "The Shop on Main Street (Obchod na korze)"
          ],
          [
           "The Silence of Others"
          ],
          [
           "The Silent World (Le Monde du silence)"
          ],
          [
           "The Spy Gone North"
          ],
          [
           "The Square"
          ],
          [
           "The Substitute"
          ],
          [
           "The Theory of Everything"
          ],
          [
           "The Tin Drum (Die Blechtrommel)"
          ],
          [
           "The Traitor"
          ],
          [
           "The Ugly Duckling"
          ],
          [
           "The Unknown Saint"
          ],
          [
           "The Villainess"
          ],
          [
           "The Virgin Spring (Jungfrukällan)"
          ],
          [
           "The War Show"
          ],
          [
           "The Whale"
          ],
          [
           "The White Helmets"
          ],
          [
           "The White Knights"
          ],
          [
           "The Windshield Wiper"
          ],
          [
           "The Wonderful Story of Henry Sugar"
          ],
          [
           "The Workshop"
          ],
          [
           "The Zone of Interest"
          ],
          [
           "They Shall Not Grow Old"
          ],
          [
           "Thirty Seconds Over Tokyo"
          ],
          [
           "This Charming Man (Der Er En Yndig Mand)"
          ],
          [
           "Three Faces"
          ],
          [
           "Through a Glass Darkly (Såsom i en spegel)"
          ],
          [
           "Tigers"
          ],
          [
           "Tomorrow"
          ],
          [
           "Toni Erdmann"
          ],
          [
           "Top End Wedding"
          ],
          [
           "Top Gun: Maverick"
          ],
          [
           "Topsy-Turvy"
          ],
          [
           "Touch Me Not"
          ],
          [
           "Toy Story 4"
          ],
          [
           "Traffic"
          ],
          [
           "Transatlantic"
          ],
          [
           "True History of the Kelly Gang"
          ],
          [
           "Truman"
          ],
          [
           "Two Women (La Ciociara)"
          ],
          [
           "Tár"
          ],
          [
           "U – July 22"
          ],
          [
           "Uncharted"
          ],
          [
           "Underground"
          ],
          [
           "Underworld"
          ],
          [
           "Undine"
          ],
          [
           "United States of Love"
          ],
          [
           "Upgrade"
          ],
          [
           "Vacation from Marriage (UK title Perfect Strangers)"
          ],
          [
           "Valérian and the City of a Thousand Planets"
          ],
          [
           "Van Gogh"
          ],
          [
           "Vice"
          ],
          [
           "Victoria"
          ],
          [
           "Victoria and Abdul"
          ],
          [
           "Vincent Must Die"
          ],
          [
           "Wajib"
          ],
          [
           "War and Peace (Voyna i mir)"
          ],
          [
           "Wasp"
          ],
          [
           "Western"
          ],
          [
           "What Will People Say"
          ],
          [
           "What You Gonna Do When the World's on Fire?"
          ],
          [
           "Wilson"
          ],
          [
           "Winchester"
          ],
          [
           "Wolfwalkers"
          ],
          [
           "Woman at War"
          ],
          [
           "Women – for America, for the World"
          ],
          [
           "World Without Sun (Le Monde sans soleil)"
          ],
          [
           "Yesterday, Today and Tomorrow (Ieri, oggi, domani)"
          ],
          [
           "You Can't Take It with You"
          ],
          [
           "Young Ahmed"
          ],
          [
           "Youth"
          ],
          [
           "Youth"
          ],
          [
           "Z"
          ],
          [
           "Zootopia"
          ],
          [
           "Zorba the Greek (Alexis Zorbas)"
          ],
          [
           "tom thumb"
          ]
         ],
         "hovertemplate": "Review Scores=%{x}<br>num_awards=%{y}<br>title=%{customdata[0]}<extra></extra>",
         "legendgroup": "",
         "marker": {
          "color": "#636efa",
          "symbol": "circle"
         },
         "mode": "markers",
         "name": "",
         "orientation": "v",
         "showlegend": false,
         "type": "scatter",
         "x": [
          0.325,
          0.6799999999999999,
          0.9066666666666666,
          0.6633333333333334,
          0.6599999999999999,
          0.8333333333333334,
          0.87,
          0.915,
          0.8533333333333334,
          0.865,
          0.405,
          0.8300000000000001,
          0.79,
          0.9233333333333332,
          0.52,
          0.5833333333333334,
          0.81,
          0.8633333333333333,
          0.76,
          0.4549999999999999,
          0.77,
          0.53,
          0.84,
          0.74,
          0.7766666666666667,
          0.625,
          0.7933333333333333,
          0.835,
          0.7799999999999999,
          0.85,
          0.86,
          0.87,
          0.87,
          0.8266666666666667,
          0.8366666666666666,
          0.75,
          0.7749999999999999,
          0.905,
          0.875,
          0.875,
          0.87,
          0.955,
          0.5633333333333334,
          0.92,
          0.81,
          0.8766666666666666,
          0.8133333333333335,
          0.8300000000000001,
          0.93,
          0.93,
          0.49,
          0.9,
          0.8866666666666667,
          0.875,
          0.7233333333333333,
          0.88,
          0.865,
          0.6633333333333334,
          0.8766666666666666,
          0.71,
          0.8600000000000001,
          0.7600000000000001,
          0.705,
          0.4733333333333333,
          0.8333333333333334,
          0.63,
          0.715,
          0.86,
          0.88,
          0.4666666666666667,
          0.8633333333333333,
          0.6799999999999999,
          0.71,
          0.8133333333333334,
          0.755,
          0.8833333333333333,
          0.7566666666666667,
          0.87,
          0.7949999999999999,
          0.5549999999999999,
          0.7533333333333333,
          0.7000000000000001,
          0.7633333333333333,
          0.8766666666666666,
          0.8433333333333334,
          0.5800000000000001,
          0.82,
          0.64,
          0.47,
          0.815,
          0.77,
          0.8400000000000001,
          0.91,
          0.41,
          0.85,
          0.77,
          0.7966666666666665,
          0.875,
          0.6766666666666666,
          0.7933333333333333,
          0.9,
          0.7766666666666667,
          0.83,
          0.3633333333333333,
          0.5066666666666667,
          0.7033333333333335,
          0.8,
          0.8066666666666666,
          0.73,
          0.5766666666666667,
          0.8500000000000001,
          0.875,
          0.8733333333333334,
          0.81,
          0.85,
          0.7399999999999999,
          0.76,
          0.835,
          0.8366666666666666,
          0.3566666666666667,
          0.8033333333333333,
          0.5666666666666667,
          0.66,
          0.7833333333333332,
          0.78,
          0.75,
          0.8366666666666666,
          0.7066666666666667,
          0.8166666666666668,
          0.7266666666666667,
          0.84,
          0.6950000000000001,
          0.73,
          0.8525,
          0.6666666666666666,
          0.6666666666666666,
          0.8966666666666666,
          0.795,
          0.67,
          0.795,
          0.75,
          0.82,
          0.9166666666666666,
          0.81,
          0.75,
          0.9133333333333332,
          0.9466666666666668,
          0.65,
          0.76,
          0.845,
          0.78,
          0.85,
          0.915,
          0.6,
          0.8533333333333334,
          0.73,
          0.88,
          0.68,
          0.8600000000000001,
          0.8300000000000001,
          0.7266666666666666,
          0.8700000000000001,
          0.88,
          0.7600000000000001,
          0.9466666666666668,
          0.8200000000000001,
          0.89,
          0.8049999999999999,
          0.7200000000000001,
          0.75,
          0.69,
          0.85,
          0.88,
          0.865,
          0.8266666666666667,
          0.4676666666666667,
          0.665,
          0.7733333333333333,
          0.89,
          0.75,
          0.5700000000000001,
          0.87,
          0.5366666666666667,
          0.7949999999999999,
          0.92,
          0.37,
          0.86,
          0.61,
          0.895,
          0.77,
          0.65,
          0.72,
          0.7966666666666665,
          0.66,
          0.835,
          0.825,
          0.72,
          0.8766666666666666,
          0.5066666666666667,
          0.4666666666666666,
          0.91,
          0.9,
          0.905,
          0.7200000000000001,
          0.75,
          0.8666666666666667,
          0.7050000000000001,
          0.87,
          0.495,
          0.735,
          0.685,
          0.7,
          0.8233333333333333,
          0.92,
          0.6433333333333334,
          0.6799999999999999,
          0.6933333333333334,
          0.47,
          0.76,
          0.5366666666666667,
          0.8099999999999999,
          0.8233333333333334,
          0.7066666666666667,
          0.8666666666666667,
          0.84,
          0.7633333333333333,
          0.65,
          0.9233333333333332,
          0.8333333333333334,
          0.47,
          0.88,
          0.8799999999999999,
          0.7933333333333333,
          0.9,
          0.895,
          0.5166666666666666,
          0.89,
          0.3966666666666666,
          0.7933333333333333,
          0.745,
          0.845,
          0.8200000000000001,
          0.89,
          0.7649999999999999,
          0.675,
          0.77,
          0.745,
          0.7449999999999999,
          0.8,
          0.4866666666666666,
          0.77,
          0.8166666666666668,
          0.85,
          0.82,
          0.8600000000000001,
          0.2566666666666666,
          0.895,
          0.4766666666666666,
          0.735,
          0.845,
          0.885,
          0.565,
          0.5833333333333334,
          0.5399999999999999,
          0.7266666666666666,
          0.92,
          0.82,
          0.895,
          0.7050000000000001,
          0.72,
          0.7566666666666667,
          0.86,
          0.815,
          0.685,
          0.6999999999999998,
          0.845,
          0.855,
          0.6066666666666666,
          0.88,
          0.5549999999999999,
          0.755,
          0.7466666666666666,
          0.985,
          0.72,
          0.8999999999999999,
          0.5466666666666666,
          0.8533333333333334,
          0.8866666666666667,
          0.8099999999999999,
          0.63,
          0.755,
          0.745,
          0.55,
          0.8966666666666666,
          0.925,
          0.6866666666666666,
          0.7799999999999999,
          0.5266666666666667,
          0.88,
          0.8049999999999999,
          0.855,
          0.64,
          0.905,
          0.8333333333333334,
          0.8166666666666668,
          0.8200000000000001,
          0.8666666666666667,
          0.8933333333333332,
          0.6766666666666666,
          0.755,
          0.6933333333333334,
          0.8,
          0.8400000000000001,
          0.73,
          0.91,
          0.8966666666666666,
          0.875,
          0.63,
          0.71,
          0.875,
          0.815,
          0.5800000000000001,
          0.7,
          0.7133333333333334,
          0.6666666666666666,
          0.6599999999999999,
          0.79,
          0.85,
          0.7266666666666667,
          0.715,
          0.77,
          0.73,
          0.5599999999999999,
          0.525,
          0.835,
          0.8033333333333333,
          0.67,
          0.7949999999999999,
          0.9,
          0.72,
          0.755,
          0.71,
          0.58,
          0.9066666666666666,
          0.89,
          0.6366666666666667,
          0.785,
          0.9333333333333332,
          0.8000000000000002,
          0.7000000000000001,
          0.8,
          0.8300000000000001,
          0.6,
          0.8066666666666666,
          0.67,
          0.7933333333333333,
          0.75,
          0.7949999999999999,
          0.84,
          0.7566666666666667,
          0.6866666666666666,
          0.72,
          0.88,
          0.395,
          0.9033333333333332,
          0.875,
          1,
          0.8600000000000001,
          0.77,
          0.8833333333333333,
          0.8799999999999999,
          0.87,
          0.8000000000000002,
          0.8866666666666667,
          0.91,
          0.8049999999999999,
          0.6733333333333333,
          0.705,
          0.9333333333333332,
          0.6799999999999999,
          0.7933333333333333,
          0.8266666666666667,
          0.8233333333333333,
          0.7,
          0.885,
          0.88,
          0.9233333333333332,
          0.7866666666666666,
          0.4933333333333333,
          0.7966666666666667,
          0.7233333333333333,
          0.9133333333333332,
          0.595,
          0.505,
          0.77,
          0.7433333333333333,
          0.68,
          0.6900000000000001,
          0.645,
          0.875,
          0.9566666666666668,
          0.5933333333333333,
          0.6000000000000001,
          0.7966666666666667,
          0.8300000000000001,
          0.72,
          0.88,
          0.79,
          0.5766666666666667,
          0.87,
          0.79,
          0.94,
          0.7566666666666665,
          0.8566666666666666,
          0.855,
          0.765,
          0.905,
          0.7949999999999999,
          0.73,
          0.7,
          0.79,
          0.87,
          0.905,
          0.18,
          0.7833333333333333,
          0.535,
          0.7466666666666667,
          0.7000000000000001,
          0.9,
          0.64,
          0.63,
          0.825,
          0.285,
          0.7733333333333334,
          0.88,
          0.865,
          0.9633333333333334,
          0.715,
          0.74,
          0.8166666666666668,
          0.835,
          0.865,
          0.8233333333333334,
          0.89,
          0.6599999999999999,
          0.6766666666666666,
          0.905,
          0.6100000000000001,
          0.75,
          0.87,
          0.8866666666666667,
          0.9166666666666666,
          0.74,
          0.9633333333333334,
          0.59,
          0.855,
          0.72,
          0.8049999999999999,
          0.6066666666666667,
          0.88,
          0.72,
          0.745,
          0.7566666666666667,
          0.5700000000000001,
          0.8866666666666667,
          0.825,
          0.7233333333333333,
          0.3349999999999999,
          0.915,
          0.575,
          0.9,
          0.94,
          0.8099999999999999,
          0.895,
          0.87,
          0.885,
          0.95,
          0.88,
          0.5,
          0.625,
          0.835,
          0.8300000000000001,
          0.8733333333333334,
          0.8200000000000001,
          0.8466666666666667,
          0.7949999999999999,
          0.84,
          0.8433333333333334,
          0.8433333333333334,
          0.865,
          0.46,
          0.83,
          0.8400000000000001,
          0.6033333333333333,
          0.65,
          0.925,
          0.7799999999999999,
          0.7466666666666666,
          0.9366666666666666,
          0.88,
          0.865,
          0.575,
          0.7050000000000001,
          0.925,
          0.8266666666666667,
          0.62,
          0.7966666666666665,
          0.7949999999999999,
          0.81,
          0.87,
          0.7566666666666667,
          0.78,
          0.8433333333333334,
          0.6966666666666668,
          0.85,
          0.4066666666666667,
          0.9333333333333332,
          0.865,
          0.8333333333333334,
          0.6466666666666666,
          0.76,
          0.6733333333333333,
          1,
          0.7966666666666665,
          0.9133333333333332,
          0.8,
          0.85,
          0.92,
          0.93,
          0.5833333333333334,
          0.745,
          0.86,
          0.87,
          0.64,
          0.6233333333333334,
          0.9066666666666666,
          0.9266666666666667,
          0.6833333333333332,
          0.8966666666666666,
          0.8125,
          0.7733333333333334,
          0.7833333333333332,
          0.73,
          0.77,
          0.8266666666666668,
          0.825,
          0.38,
          0.905,
          0.7000000000000001,
          0.7666666666666666,
          0.7366666666666667,
          0.49,
          0.665,
          0.9133333333333334,
          0.635,
          0.66,
          0.865,
          0.7233333333333333,
          0.66,
          0.8866666666666667,
          0.525,
          0.865,
          0.7933333333333333,
          0.8300000000000001,
          0.7533333333333333,
          0.8533333333333334,
          0.92,
          0.81,
          0.7600000000000001,
          0.595,
          0.69,
          0.7866666666666666,
          0.5366666666666667,
          0.77,
          0.6799999999999999,
          0.82,
          0.765,
          0.5633333333333334,
          0.915,
          0.62,
          0.7333333333333334,
          0.8266666666666667,
          0.89,
          0.4833333333333333,
          0.7399999999999999,
          0.5533333333333333,
          0.2633333333333333,
          0.49,
          0.7949999999999999,
          0.8766666666666666,
          0.4866666666666666,
          0.73,
          0.7666666666666666,
          0.8049999999999999,
          0.65,
          0.82,
          0.4766666666666666,
          0.66,
          0.73,
          0.75,
          0.8400000000000001,
          0.495,
          0.8766666666666666,
          0.8166666666666668,
          0.8966666666666666,
          0.8500000000000001,
          0.86,
          0.75,
          0.62,
          0.5466666666666666,
          0.77,
          1,
          0.8799999999999999,
          0.88,
          0.78,
          0.8933333333333332,
          0.8966666666666666,
          0.7133333333333334,
          0.77,
          0.92,
          0.8266666666666667,
          0.88,
          0.63,
          0.8,
          0.835,
          0.92,
          0.67,
          0.87,
          0.8466666666666667,
          0.8666666666666667,
          0.8566666666666666,
          0.67,
          0.7200000000000001,
          0.745,
          0.895,
          0.74,
          0.8033333333333333,
          0.61,
          0.415,
          0.8300000000000001,
          0.7733333333333334,
          0.8000000000000002,
          0.8266666666666667,
          0.685,
          0.7666666666666666,
          0.7999999999999999,
          0.8,
          0.87,
          0.305,
          0.63,
          0.8833333333333334,
          0.92,
          0.8133333333333334,
          0.6300000000000001,
          0.73,
          0.8466666666666667,
          0.875,
          0.85,
          0.8333333333333334,
          0.8200000000000001,
          0.79,
          0.7933333333333333,
          0.885,
          0.8433333333333333,
          0.7633333333333333,
          0.6566666666666666,
          0.7333333333333333,
          0.8366666666666666,
          0.775,
          0.8733333333333334,
          0.72,
          0.675,
          0.8300000000000001,
          0.885,
          0.6866666666666666,
          0.845,
          0.77,
          0.9033333333333332,
          0.85,
          0.8666666666666667,
          0.71,
          0.4566666666666667,
          0.8766666666666668,
          0.91,
          0.85,
          0.6900000000000001,
          0.855,
          0.7766666666666667,
          0.4766666666666666,
          0.7633333333333333,
          0.7366666666666667,
          0.7333333333333334,
          0.7,
          0.835,
          0.7233333333333333,
          0.8400000000000001,
          0.85,
          0.62,
          0.875,
          0.8,
          0.6799999999999999,
          0.845,
          0.7949999999999999,
          0.925,
          0.9233333333333332,
          0.86,
          0.6799999999999999,
          0.885,
          0.8766666666666666,
          0.63,
          0.79,
          0.8966666666666668,
          0.8,
          0.87,
          0.8433333333333333,
          0.585,
          0.88,
          0.85,
          0.6599999999999999,
          0.7466666666666667,
          0.885,
          0.825,
          0.915,
          0.75,
          0.4566666666666667,
          0.6799999999999999,
          0.4766666666666666,
          0.79,
          0.76,
          0.7599999999999999,
          0.71,
          0.51,
          0.74,
          0.6433333333333334,
          0.7833333333333333,
          0.6166666666666667,
          0.94,
          0.88,
          0.585,
          0.75,
          0.8566666666666668,
          0.74,
          0.7849999999999999,
          0.5033333333333333,
          0.26,
          0.9099999999999998,
          0.8533333333333334,
          0.5700000000000001,
          0.75,
          0.75,
          0.86,
          0.6333333333333333,
          0.6833333333333332,
          0.73,
          0.835,
          0.8566666666666666,
          0.775,
          0.8200000000000001
         ],
         "xaxis": "x",
         "y": [
          5,
          1,
          3,
          1,
          3,
          3,
          13,
          3,
          1,
          1,
          1,
          1,
          1,
          3,
          3,
          1,
          1,
          1,
          2,
          2,
          1,
          1,
          1,
          1,
          3,
          2,
          1,
          1,
          1,
          3,
          1,
          1,
          1,
          1,
          1,
          1,
          1,
          5,
          1,
          1,
          2,
          4,
          2,
          4,
          7,
          1,
          4,
          6,
          5,
          2,
          3,
          1,
          1,
          1,
          1,
          2,
          1,
          4,
          3,
          1,
          2,
          1,
          1,
          1,
          7,
          11,
          1,
          1,
          3,
          5,
          3,
          1,
          1,
          2,
          1,
          1,
          1,
          1,
          1,
          1,
          2,
          14,
          1,
          3,
          1,
          1,
          12,
          2,
          2,
          1,
          1,
          1,
          1,
          1,
          1,
          1,
          1,
          1,
          2,
          2,
          1,
          1,
          1,
          11,
          3,
          8,
          1,
          1,
          1,
          1,
          4,
          1,
          1,
          1,
          3,
          1,
          1,
          1,
          2,
          1,
          1,
          4,
          1,
          1,
          1,
          1,
          5,
          2,
          1,
          6,
          1,
          1,
          8,
          2,
          1,
          1,
          1,
          1,
          1,
          1,
          2,
          3,
          4,
          6,
          4,
          1,
          3,
          3,
          1,
          1,
          1,
          3,
          1,
          3,
          1,
          1,
          1,
          1,
          10,
          1,
          1,
          2,
          6,
          1,
          2,
          1,
          6,
          3,
          3,
          1,
          1,
          1,
          1,
          1,
          3,
          3,
          1,
          3,
          1,
          1,
          1,
          1,
          1,
          2,
          1,
          1,
          1,
          1,
          1,
          7,
          1,
          4,
          1,
          2,
          1,
          1,
          1,
          1,
          1,
          6,
          4,
          4,
          7,
          1,
          1,
          4,
          2,
          1,
          1,
          1,
          1,
          1,
          1,
          1,
          1,
          4,
          2,
          1,
          1,
          1,
          2,
          2,
          1,
          4,
          1,
          1,
          1,
          1,
          2,
          1,
          6,
          3,
          3,
          1,
          1,
          1,
          2,
          1,
          2,
          1,
          1,
          1,
          2,
          1,
          1,
          4,
          7,
          1,
          1,
          1,
          2,
          1,
          3,
          2,
          2,
          3,
          1,
          4,
          5,
          1,
          4,
          1,
          1,
          2,
          3,
          1,
          1,
          1,
          1,
          8,
          14,
          1,
          1,
          1,
          2,
          9,
          1,
          1,
          1,
          1,
          3,
          1,
          1,
          1,
          1,
          3,
          1,
          1,
          1,
          1,
          6,
          4,
          1,
          1,
          2,
          12,
          8,
          1,
          1,
          1,
          1,
          7,
          1,
          5,
          2,
          1,
          1,
          1,
          1,
          1,
          1,
          1,
          1,
          1,
          1,
          1,
          4,
          1,
          6,
          1,
          2,
          2,
          1,
          1,
          2,
          1,
          1,
          2,
          1,
          9,
          4,
          1,
          1,
          9,
          2,
          1,
          1,
          1,
          1,
          1,
          1,
          1,
          1,
          7,
          1,
          2,
          9,
          2,
          2,
          1,
          8,
          1,
          1,
          6,
          2,
          2,
          3,
          3,
          1,
          14,
          2,
          1,
          1,
          1,
          1,
          1,
          13,
          1,
          1,
          1,
          4,
          1,
          1,
          2,
          16,
          1,
          1,
          1,
          9,
          1,
          2,
          1,
          1,
          1,
          1,
          1,
          1,
          5,
          3,
          1,
          1,
          1,
          1,
          1,
          1,
          1,
          4,
          1,
          1,
          2,
          11,
          1,
          1,
          1,
          1,
          1,
          1,
          1,
          1,
          4,
          6,
          1,
          3,
          1,
          1,
          1,
          6,
          1,
          3,
          1,
          1,
          1,
          1,
          1,
          1,
          1,
          1,
          1,
          3,
          1,
          1,
          1,
          1,
          1,
          1,
          1,
          1,
          1,
          1,
          1,
          17,
          1,
          2,
          1,
          1,
          1,
          7,
          1,
          1,
          9,
          5,
          3,
          5,
          8,
          4,
          1,
          1,
          1,
          8,
          1,
          1,
          1,
          1,
          2,
          1,
          1,
          3,
          2,
          1,
          2,
          6,
          4,
          2,
          1,
          2,
          1,
          11,
          2,
          1,
          1,
          1,
          1,
          4,
          1,
          1,
          5,
          3,
          2,
          2,
          1,
          2,
          1,
          5,
          3,
          1,
          1,
          1,
          5,
          6,
          5,
          1,
          3,
          1,
          1,
          2,
          2,
          1,
          1,
          2,
          1,
          1,
          1,
          1,
          2,
          1,
          1,
          1,
          3,
          1,
          1,
          1,
          1,
          1,
          1,
          3,
          1,
          1,
          1,
          1,
          1,
          1,
          2,
          2,
          1,
          2,
          1,
          4,
          2,
          6,
          1,
          1,
          1,
          1,
          1,
          2,
          1,
          1,
          1,
          1,
          1,
          1,
          1,
          1,
          3,
          1,
          1,
          3,
          1,
          1,
          10,
          1,
          3,
          1,
          1,
          1,
          1,
          1,
          6,
          2,
          1,
          1,
          3,
          1,
          2,
          1,
          12,
          1,
          1,
          1,
          1,
          2,
          2,
          1,
          1,
          2,
          1,
          1,
          3,
          1,
          1,
          2,
          1,
          1,
          1,
          2,
          1,
          1,
          2,
          10,
          1,
          1,
          2,
          2,
          1,
          1,
          1,
          3,
          1,
          1,
          11,
          11,
          1,
          1,
          1,
          1,
          2,
          7,
          1,
          2,
          1,
          1,
          1,
          1,
          5,
          1,
          6,
          1,
          4,
          1,
          3,
          2,
          1,
          1,
          1,
          1,
          1,
          1,
          4,
          1,
          1,
          1,
          8,
          4,
          1,
          3,
          1,
          1,
          1,
          2,
          2,
          1,
          1,
          6,
          1,
          1,
          1,
          1,
          1,
          1,
          1,
          1,
          12,
          1,
          4,
          4,
          1,
          1,
          1,
          1,
          1,
          1,
          1,
          1,
          1,
          1,
          1,
          3,
          1,
          1,
          1,
          1,
          1,
          6,
          1,
          1,
          1,
          1,
          5,
          1,
          1,
          1,
          5,
          1,
          1,
          1,
          1,
          1,
          13,
          1,
          1,
          1,
          1,
          1,
          7,
          1,
          1,
          1,
          6,
          1,
          5,
          1,
          7,
          3,
          3,
          2,
          1,
          1,
          4,
          1,
          10,
          1,
          1,
          2,
          1,
          1,
          4,
          1,
          2,
          1,
          5,
          1,
          1,
          1,
          1,
          4,
          1,
          1,
          1,
          1,
          1,
          2,
          4,
          1,
          5,
          2,
          2,
          2,
          1,
          1,
          1,
          2,
          1,
          6,
          1,
          2,
          1,
          3,
          1
         ],
         "yaxis": "y"
        }
       ],
       "layout": {
        "legend": {
         "tracegroupgap": 0
        },
        "template": {
         "data": {
          "bar": [
           {
            "error_x": {
             "color": "#2a3f5f"
            },
            "error_y": {
             "color": "#2a3f5f"
            },
            "marker": {
             "line": {
              "color": "#E5ECF6",
              "width": 0.5
             },
             "pattern": {
              "fillmode": "overlay",
              "size": 10,
              "solidity": 0.2
             }
            },
            "type": "bar"
           }
          ],
          "barpolar": [
           {
            "marker": {
             "line": {
              "color": "#E5ECF6",
              "width": 0.5
             },
             "pattern": {
              "fillmode": "overlay",
              "size": 10,
              "solidity": 0.2
             }
            },
            "type": "barpolar"
           }
          ],
          "carpet": [
           {
            "aaxis": {
             "endlinecolor": "#2a3f5f",
             "gridcolor": "white",
             "linecolor": "white",
             "minorgridcolor": "white",
             "startlinecolor": "#2a3f5f"
            },
            "baxis": {
             "endlinecolor": "#2a3f5f",
             "gridcolor": "white",
             "linecolor": "white",
             "minorgridcolor": "white",
             "startlinecolor": "#2a3f5f"
            },
            "type": "carpet"
           }
          ],
          "choropleth": [
           {
            "colorbar": {
             "outlinewidth": 0,
             "ticks": ""
            },
            "type": "choropleth"
           }
          ],
          "contour": [
           {
            "colorbar": {
             "outlinewidth": 0,
             "ticks": ""
            },
            "colorscale": [
             [
              0,
              "#0d0887"
             ],
             [
              0.1111111111111111,
              "#46039f"
             ],
             [
              0.2222222222222222,
              "#7201a8"
             ],
             [
              0.3333333333333333,
              "#9c179e"
             ],
             [
              0.4444444444444444,
              "#bd3786"
             ],
             [
              0.5555555555555556,
              "#d8576b"
             ],
             [
              0.6666666666666666,
              "#ed7953"
             ],
             [
              0.7777777777777778,
              "#fb9f3a"
             ],
             [
              0.8888888888888888,
              "#fdca26"
             ],
             [
              1,
              "#f0f921"
             ]
            ],
            "type": "contour"
           }
          ],
          "contourcarpet": [
           {
            "colorbar": {
             "outlinewidth": 0,
             "ticks": ""
            },
            "type": "contourcarpet"
           }
          ],
          "heatmap": [
           {
            "colorbar": {
             "outlinewidth": 0,
             "ticks": ""
            },
            "colorscale": [
             [
              0,
              "#0d0887"
             ],
             [
              0.1111111111111111,
              "#46039f"
             ],
             [
              0.2222222222222222,
              "#7201a8"
             ],
             [
              0.3333333333333333,
              "#9c179e"
             ],
             [
              0.4444444444444444,
              "#bd3786"
             ],
             [
              0.5555555555555556,
              "#d8576b"
             ],
             [
              0.6666666666666666,
              "#ed7953"
             ],
             [
              0.7777777777777778,
              "#fb9f3a"
             ],
             [
              0.8888888888888888,
              "#fdca26"
             ],
             [
              1,
              "#f0f921"
             ]
            ],
            "type": "heatmap"
           }
          ],
          "heatmapgl": [
           {
            "colorbar": {
             "outlinewidth": 0,
             "ticks": ""
            },
            "colorscale": [
             [
              0,
              "#0d0887"
             ],
             [
              0.1111111111111111,
              "#46039f"
             ],
             [
              0.2222222222222222,
              "#7201a8"
             ],
             [
              0.3333333333333333,
              "#9c179e"
             ],
             [
              0.4444444444444444,
              "#bd3786"
             ],
             [
              0.5555555555555556,
              "#d8576b"
             ],
             [
              0.6666666666666666,
              "#ed7953"
             ],
             [
              0.7777777777777778,
              "#fb9f3a"
             ],
             [
              0.8888888888888888,
              "#fdca26"
             ],
             [
              1,
              "#f0f921"
             ]
            ],
            "type": "heatmapgl"
           }
          ],
          "histogram": [
           {
            "marker": {
             "pattern": {
              "fillmode": "overlay",
              "size": 10,
              "solidity": 0.2
             }
            },
            "type": "histogram"
           }
          ],
          "histogram2d": [
           {
            "colorbar": {
             "outlinewidth": 0,
             "ticks": ""
            },
            "colorscale": [
             [
              0,
              "#0d0887"
             ],
             [
              0.1111111111111111,
              "#46039f"
             ],
             [
              0.2222222222222222,
              "#7201a8"
             ],
             [
              0.3333333333333333,
              "#9c179e"
             ],
             [
              0.4444444444444444,
              "#bd3786"
             ],
             [
              0.5555555555555556,
              "#d8576b"
             ],
             [
              0.6666666666666666,
              "#ed7953"
             ],
             [
              0.7777777777777778,
              "#fb9f3a"
             ],
             [
              0.8888888888888888,
              "#fdca26"
             ],
             [
              1,
              "#f0f921"
             ]
            ],
            "type": "histogram2d"
           }
          ],
          "histogram2dcontour": [
           {
            "colorbar": {
             "outlinewidth": 0,
             "ticks": ""
            },
            "colorscale": [
             [
              0,
              "#0d0887"
             ],
             [
              0.1111111111111111,
              "#46039f"
             ],
             [
              0.2222222222222222,
              "#7201a8"
             ],
             [
              0.3333333333333333,
              "#9c179e"
             ],
             [
              0.4444444444444444,
              "#bd3786"
             ],
             [
              0.5555555555555556,
              "#d8576b"
             ],
             [
              0.6666666666666666,
              "#ed7953"
             ],
             [
              0.7777777777777778,
              "#fb9f3a"
             ],
             [
              0.8888888888888888,
              "#fdca26"
             ],
             [
              1,
              "#f0f921"
             ]
            ],
            "type": "histogram2dcontour"
           }
          ],
          "mesh3d": [
           {
            "colorbar": {
             "outlinewidth": 0,
             "ticks": ""
            },
            "type": "mesh3d"
           }
          ],
          "parcoords": [
           {
            "line": {
             "colorbar": {
              "outlinewidth": 0,
              "ticks": ""
             }
            },
            "type": "parcoords"
           }
          ],
          "pie": [
           {
            "automargin": true,
            "type": "pie"
           }
          ],
          "scatter": [
           {
            "fillpattern": {
             "fillmode": "overlay",
             "size": 10,
             "solidity": 0.2
            },
            "type": "scatter"
           }
          ],
          "scatter3d": [
           {
            "line": {
             "colorbar": {
              "outlinewidth": 0,
              "ticks": ""
             }
            },
            "marker": {
             "colorbar": {
              "outlinewidth": 0,
              "ticks": ""
             }
            },
            "type": "scatter3d"
           }
          ],
          "scattercarpet": [
           {
            "marker": {
             "colorbar": {
              "outlinewidth": 0,
              "ticks": ""
             }
            },
            "type": "scattercarpet"
           }
          ],
          "scattergeo": [
           {
            "marker": {
             "colorbar": {
              "outlinewidth": 0,
              "ticks": ""
             }
            },
            "type": "scattergeo"
           }
          ],
          "scattergl": [
           {
            "marker": {
             "colorbar": {
              "outlinewidth": 0,
              "ticks": ""
             }
            },
            "type": "scattergl"
           }
          ],
          "scattermapbox": [
           {
            "marker": {
             "colorbar": {
              "outlinewidth": 0,
              "ticks": ""
             }
            },
            "type": "scattermapbox"
           }
          ],
          "scatterpolar": [
           {
            "marker": {
             "colorbar": {
              "outlinewidth": 0,
              "ticks": ""
             }
            },
            "type": "scatterpolar"
           }
          ],
          "scatterpolargl": [
           {
            "marker": {
             "colorbar": {
              "outlinewidth": 0,
              "ticks": ""
             }
            },
            "type": "scatterpolargl"
           }
          ],
          "scatterternary": [
           {
            "marker": {
             "colorbar": {
              "outlinewidth": 0,
              "ticks": ""
             }
            },
            "type": "scatterternary"
           }
          ],
          "surface": [
           {
            "colorbar": {
             "outlinewidth": 0,
             "ticks": ""
            },
            "colorscale": [
             [
              0,
              "#0d0887"
             ],
             [
              0.1111111111111111,
              "#46039f"
             ],
             [
              0.2222222222222222,
              "#7201a8"
             ],
             [
              0.3333333333333333,
              "#9c179e"
             ],
             [
              0.4444444444444444,
              "#bd3786"
             ],
             [
              0.5555555555555556,
              "#d8576b"
             ],
             [
              0.6666666666666666,
              "#ed7953"
             ],
             [
              0.7777777777777778,
              "#fb9f3a"
             ],
             [
              0.8888888888888888,
              "#fdca26"
             ],
             [
              1,
              "#f0f921"
             ]
            ],
            "type": "surface"
           }
          ],
          "table": [
           {
            "cells": {
             "fill": {
              "color": "#EBF0F8"
             },
             "line": {
              "color": "white"
             }
            },
            "header": {
             "fill": {
              "color": "#C8D4E3"
             },
             "line": {
              "color": "white"
             }
            },
            "type": "table"
           }
          ]
         },
         "layout": {
          "annotationdefaults": {
           "arrowcolor": "#2a3f5f",
           "arrowhead": 0,
           "arrowwidth": 1
          },
          "autotypenumbers": "strict",
          "coloraxis": {
           "colorbar": {
            "outlinewidth": 0,
            "ticks": ""
           }
          },
          "colorscale": {
           "diverging": [
            [
             0,
             "#8e0152"
            ],
            [
             0.1,
             "#c51b7d"
            ],
            [
             0.2,
             "#de77ae"
            ],
            [
             0.3,
             "#f1b6da"
            ],
            [
             0.4,
             "#fde0ef"
            ],
            [
             0.5,
             "#f7f7f7"
            ],
            [
             0.6,
             "#e6f5d0"
            ],
            [
             0.7,
             "#b8e186"
            ],
            [
             0.8,
             "#7fbc41"
            ],
            [
             0.9,
             "#4d9221"
            ],
            [
             1,
             "#276419"
            ]
           ],
           "sequential": [
            [
             0,
             "#0d0887"
            ],
            [
             0.1111111111111111,
             "#46039f"
            ],
            [
             0.2222222222222222,
             "#7201a8"
            ],
            [
             0.3333333333333333,
             "#9c179e"
            ],
            [
             0.4444444444444444,
             "#bd3786"
            ],
            [
             0.5555555555555556,
             "#d8576b"
            ],
            [
             0.6666666666666666,
             "#ed7953"
            ],
            [
             0.7777777777777778,
             "#fb9f3a"
            ],
            [
             0.8888888888888888,
             "#fdca26"
            ],
            [
             1,
             "#f0f921"
            ]
           ],
           "sequentialminus": [
            [
             0,
             "#0d0887"
            ],
            [
             0.1111111111111111,
             "#46039f"
            ],
            [
             0.2222222222222222,
             "#7201a8"
            ],
            [
             0.3333333333333333,
             "#9c179e"
            ],
            [
             0.4444444444444444,
             "#bd3786"
            ],
            [
             0.5555555555555556,
             "#d8576b"
            ],
            [
             0.6666666666666666,
             "#ed7953"
            ],
            [
             0.7777777777777778,
             "#fb9f3a"
            ],
            [
             0.8888888888888888,
             "#fdca26"
            ],
            [
             1,
             "#f0f921"
            ]
           ]
          },
          "colorway": [
           "#636efa",
           "#EF553B",
           "#00cc96",
           "#ab63fa",
           "#FFA15A",
           "#19d3f3",
           "#FF6692",
           "#B6E880",
           "#FF97FF",
           "#FECB52"
          ],
          "font": {
           "color": "#2a3f5f"
          },
          "geo": {
           "bgcolor": "white",
           "lakecolor": "white",
           "landcolor": "#E5ECF6",
           "showlakes": true,
           "showland": true,
           "subunitcolor": "white"
          },
          "hoverlabel": {
           "align": "left"
          },
          "hovermode": "closest",
          "mapbox": {
           "style": "light"
          },
          "paper_bgcolor": "white",
          "plot_bgcolor": "#E5ECF6",
          "polar": {
           "angularaxis": {
            "gridcolor": "white",
            "linecolor": "white",
            "ticks": ""
           },
           "bgcolor": "#E5ECF6",
           "radialaxis": {
            "gridcolor": "white",
            "linecolor": "white",
            "ticks": ""
           }
          },
          "scene": {
           "xaxis": {
            "backgroundcolor": "#E5ECF6",
            "gridcolor": "white",
            "gridwidth": 2,
            "linecolor": "white",
            "showbackground": true,
            "ticks": "",
            "zerolinecolor": "white"
           },
           "yaxis": {
            "backgroundcolor": "#E5ECF6",
            "gridcolor": "white",
            "gridwidth": 2,
            "linecolor": "white",
            "showbackground": true,
            "ticks": "",
            "zerolinecolor": "white"
           },
           "zaxis": {
            "backgroundcolor": "#E5ECF6",
            "gridcolor": "white",
            "gridwidth": 2,
            "linecolor": "white",
            "showbackground": true,
            "ticks": "",
            "zerolinecolor": "white"
           }
          },
          "shapedefaults": {
           "line": {
            "color": "#2a3f5f"
           }
          },
          "ternary": {
           "aaxis": {
            "gridcolor": "white",
            "linecolor": "white",
            "ticks": ""
           },
           "baxis": {
            "gridcolor": "white",
            "linecolor": "white",
            "ticks": ""
           },
           "bgcolor": "#E5ECF6",
           "caxis": {
            "gridcolor": "white",
            "linecolor": "white",
            "ticks": ""
           }
          },
          "title": {
           "x": 0.05
          },
          "xaxis": {
           "automargin": true,
           "gridcolor": "white",
           "linecolor": "white",
           "ticks": "",
           "title": {
            "standoff": 15
           },
           "zerolinecolor": "white",
           "zerolinewidth": 2
          },
          "yaxis": {
           "automargin": true,
           "gridcolor": "white",
           "linecolor": "white",
           "ticks": "",
           "title": {
            "standoff": 15
           },
           "zerolinecolor": "white",
           "zerolinewidth": 2
          }
         }
        },
        "title": {
         "text": "Review Scores vs. Awards Received"
        },
        "xaxis": {
         "anchor": "y",
         "domain": [
          0,
          1
         ],
         "title": {
          "text": "Review Scores"
         }
        },
        "yaxis": {
         "anchor": "x",
         "domain": [
          0,
          1
         ],
         "title": {
          "text": "num_awards"
         }
        }
       }
      }
     },
     "metadata": {},
     "output_type": "display_data"
    }
   ],
   "source": [
    "from turtle import color\n",
    "\n",
    "\n",
    "df_plot1 = movies_df[['box_office', 'num_awards', 'title', 'release_date']]\n",
    "df_plot1 = df_plot1[df_plot1['num_awards'] > 0].dropna()\n",
    "df_plot1['release_date'] = df_plot1['release_date'].apply(lambda x: x.split(\"-\")[0])\n",
    "\n",
    "\n",
    "fig1 = px.scatter(\n",
    "    df_plot1,\n",
    "    x='box_office',\n",
    "    y='num_awards',\n",
    "    title='Box Office Revenue vs. Awards Received',\n",
    "    labels={'box_office': 'Box Office Revenue', 'awardsReceived': 'Awards Received'},\n",
    "    color = 'release_date',\n",
    "    log_x=True,  # Use log scale for box office\n",
    "    hover_data=['title']\n",
    ")\n",
    "fig1.show()\n",
    "\n",
    "df_plot2 = movies_df[['runtime', 'num_awards', 'title']]\n",
    "df_plot2 = df_plot2[df_plot2['num_awards'] > 0].dropna()\n",
    "\n",
    "fig2 = px.scatter(\n",
    "    df_plot2,\n",
    "    x='runtime',\n",
    "    y='num_awards',\n",
    "    title='Runtime vs. Awards Received',\n",
    "    labels={'runtime': 'Runtime', 'awardsReceived': 'Awards Received'},\n",
    "    hover_data=['title']\n",
    ")\n",
    "\n",
    "fig2.show()\n",
    "\n",
    "\n",
    "\n",
    "df_plot3 = movies_df[['reviewScores', 'num_awards', 'title']]\n",
    "df_plot3 = df_plot3[df_plot3['num_awards'] > 0].dropna()\n",
    "\n",
    "fig3 = px.scatter(\n",
    "    df_plot3,\n",
    "    x='reviewScores',\n",
    "    y='num_awards',\n",
    "    title='Review Scores vs. Awards Received',\n",
    "    labels={'reviewScores': 'Review Scores', 'awardsReceived': 'Awards Received'},\n",
    "    hover_data=['title']\n",
    ")\n",
    "\n",
    "fig3.show()"
   ]
  },
  {
   "cell_type": "code",
   "execution_count": 8,
   "metadata": {},
   "outputs": [],
   "source": [
    "import re\n",
    "\n",
    "\n",
    "cleaned_data = movies_df.copy()\n",
    "cleaned_data['categories'] = cleaned_data['categories'].apply(lambda x: x.replace(\"[\", \"\").replace(\"]\", \"\").replace(\"'\", \"\").split(\",\") if isinstance(x, str) else x)\n",
    "def strip(x):\n",
    "    try :\n",
    "        return [i.strip() for i in x]\n",
    "    except:\n",
    "        return x\n",
    "cleaned_data['categories'] = cleaned_data['categories'].apply(strip)"
   ]
  },
  {
   "cell_type": "code",
   "execution_count": 9,
   "metadata": {},
   "outputs": [
    {
     "data": {
      "application/vnd.plotly.v1+json": {
       "config": {
        "plotlyServerURL": "https://plot.ly"
       },
       "data": [
        {
         "alignmentgroup": "True",
         "hovertemplate": "categories=%{x}<br>num_awards=%{y}<extra></extra>",
         "legendgroup": "",
         "marker": {
          "color": "#636efa",
          "pattern": {
           "shape": ""
          }
         },
         "name": "",
         "offsetgroup": "",
         "orientation": "v",
         "showlegend": false,
         "textposition": "auto",
         "type": "bar",
         "x": [
          "Drama",
          "Other",
          "Action & Adventure",
          "Romance",
          "Comedy",
          "Historical & Period",
          "Thriller & Mystery",
          "Documentary",
          "Fantasy & Sci-Fi",
          "War & Political",
          "Music & Dance",
          "Experimental & Art",
          "Animated & Family",
          "Horror",
          "Sports",
          "",
          "Religious & Spiritual"
         ],
         "xaxis": "x",
         "y": [
          3149,
          1268,
          1063,
          943,
          936,
          932,
          668,
          514,
          411,
          392,
          390,
          344,
          336,
          152,
          85,
          72,
          45
         ],
         "yaxis": "y"
        }
       ],
       "layout": {
        "barmode": "relative",
        "legend": {
         "tracegroupgap": 0
        },
        "template": {
         "data": {
          "bar": [
           {
            "error_x": {
             "color": "#2a3f5f"
            },
            "error_y": {
             "color": "#2a3f5f"
            },
            "marker": {
             "line": {
              "color": "#E5ECF6",
              "width": 0.5
             },
             "pattern": {
              "fillmode": "overlay",
              "size": 10,
              "solidity": 0.2
             }
            },
            "type": "bar"
           }
          ],
          "barpolar": [
           {
            "marker": {
             "line": {
              "color": "#E5ECF6",
              "width": 0.5
             },
             "pattern": {
              "fillmode": "overlay",
              "size": 10,
              "solidity": 0.2
             }
            },
            "type": "barpolar"
           }
          ],
          "carpet": [
           {
            "aaxis": {
             "endlinecolor": "#2a3f5f",
             "gridcolor": "white",
             "linecolor": "white",
             "minorgridcolor": "white",
             "startlinecolor": "#2a3f5f"
            },
            "baxis": {
             "endlinecolor": "#2a3f5f",
             "gridcolor": "white",
             "linecolor": "white",
             "minorgridcolor": "white",
             "startlinecolor": "#2a3f5f"
            },
            "type": "carpet"
           }
          ],
          "choropleth": [
           {
            "colorbar": {
             "outlinewidth": 0,
             "ticks": ""
            },
            "type": "choropleth"
           }
          ],
          "contour": [
           {
            "colorbar": {
             "outlinewidth": 0,
             "ticks": ""
            },
            "colorscale": [
             [
              0,
              "#0d0887"
             ],
             [
              0.1111111111111111,
              "#46039f"
             ],
             [
              0.2222222222222222,
              "#7201a8"
             ],
             [
              0.3333333333333333,
              "#9c179e"
             ],
             [
              0.4444444444444444,
              "#bd3786"
             ],
             [
              0.5555555555555556,
              "#d8576b"
             ],
             [
              0.6666666666666666,
              "#ed7953"
             ],
             [
              0.7777777777777778,
              "#fb9f3a"
             ],
             [
              0.8888888888888888,
              "#fdca26"
             ],
             [
              1,
              "#f0f921"
             ]
            ],
            "type": "contour"
           }
          ],
          "contourcarpet": [
           {
            "colorbar": {
             "outlinewidth": 0,
             "ticks": ""
            },
            "type": "contourcarpet"
           }
          ],
          "heatmap": [
           {
            "colorbar": {
             "outlinewidth": 0,
             "ticks": ""
            },
            "colorscale": [
             [
              0,
              "#0d0887"
             ],
             [
              0.1111111111111111,
              "#46039f"
             ],
             [
              0.2222222222222222,
              "#7201a8"
             ],
             [
              0.3333333333333333,
              "#9c179e"
             ],
             [
              0.4444444444444444,
              "#bd3786"
             ],
             [
              0.5555555555555556,
              "#d8576b"
             ],
             [
              0.6666666666666666,
              "#ed7953"
             ],
             [
              0.7777777777777778,
              "#fb9f3a"
             ],
             [
              0.8888888888888888,
              "#fdca26"
             ],
             [
              1,
              "#f0f921"
             ]
            ],
            "type": "heatmap"
           }
          ],
          "heatmapgl": [
           {
            "colorbar": {
             "outlinewidth": 0,
             "ticks": ""
            },
            "colorscale": [
             [
              0,
              "#0d0887"
             ],
             [
              0.1111111111111111,
              "#46039f"
             ],
             [
              0.2222222222222222,
              "#7201a8"
             ],
             [
              0.3333333333333333,
              "#9c179e"
             ],
             [
              0.4444444444444444,
              "#bd3786"
             ],
             [
              0.5555555555555556,
              "#d8576b"
             ],
             [
              0.6666666666666666,
              "#ed7953"
             ],
             [
              0.7777777777777778,
              "#fb9f3a"
             ],
             [
              0.8888888888888888,
              "#fdca26"
             ],
             [
              1,
              "#f0f921"
             ]
            ],
            "type": "heatmapgl"
           }
          ],
          "histogram": [
           {
            "marker": {
             "pattern": {
              "fillmode": "overlay",
              "size": 10,
              "solidity": 0.2
             }
            },
            "type": "histogram"
           }
          ],
          "histogram2d": [
           {
            "colorbar": {
             "outlinewidth": 0,
             "ticks": ""
            },
            "colorscale": [
             [
              0,
              "#0d0887"
             ],
             [
              0.1111111111111111,
              "#46039f"
             ],
             [
              0.2222222222222222,
              "#7201a8"
             ],
             [
              0.3333333333333333,
              "#9c179e"
             ],
             [
              0.4444444444444444,
              "#bd3786"
             ],
             [
              0.5555555555555556,
              "#d8576b"
             ],
             [
              0.6666666666666666,
              "#ed7953"
             ],
             [
              0.7777777777777778,
              "#fb9f3a"
             ],
             [
              0.8888888888888888,
              "#fdca26"
             ],
             [
              1,
              "#f0f921"
             ]
            ],
            "type": "histogram2d"
           }
          ],
          "histogram2dcontour": [
           {
            "colorbar": {
             "outlinewidth": 0,
             "ticks": ""
            },
            "colorscale": [
             [
              0,
              "#0d0887"
             ],
             [
              0.1111111111111111,
              "#46039f"
             ],
             [
              0.2222222222222222,
              "#7201a8"
             ],
             [
              0.3333333333333333,
              "#9c179e"
             ],
             [
              0.4444444444444444,
              "#bd3786"
             ],
             [
              0.5555555555555556,
              "#d8576b"
             ],
             [
              0.6666666666666666,
              "#ed7953"
             ],
             [
              0.7777777777777778,
              "#fb9f3a"
             ],
             [
              0.8888888888888888,
              "#fdca26"
             ],
             [
              1,
              "#f0f921"
             ]
            ],
            "type": "histogram2dcontour"
           }
          ],
          "mesh3d": [
           {
            "colorbar": {
             "outlinewidth": 0,
             "ticks": ""
            },
            "type": "mesh3d"
           }
          ],
          "parcoords": [
           {
            "line": {
             "colorbar": {
              "outlinewidth": 0,
              "ticks": ""
             }
            },
            "type": "parcoords"
           }
          ],
          "pie": [
           {
            "automargin": true,
            "type": "pie"
           }
          ],
          "scatter": [
           {
            "fillpattern": {
             "fillmode": "overlay",
             "size": 10,
             "solidity": 0.2
            },
            "type": "scatter"
           }
          ],
          "scatter3d": [
           {
            "line": {
             "colorbar": {
              "outlinewidth": 0,
              "ticks": ""
             }
            },
            "marker": {
             "colorbar": {
              "outlinewidth": 0,
              "ticks": ""
             }
            },
            "type": "scatter3d"
           }
          ],
          "scattercarpet": [
           {
            "marker": {
             "colorbar": {
              "outlinewidth": 0,
              "ticks": ""
             }
            },
            "type": "scattercarpet"
           }
          ],
          "scattergeo": [
           {
            "marker": {
             "colorbar": {
              "outlinewidth": 0,
              "ticks": ""
             }
            },
            "type": "scattergeo"
           }
          ],
          "scattergl": [
           {
            "marker": {
             "colorbar": {
              "outlinewidth": 0,
              "ticks": ""
             }
            },
            "type": "scattergl"
           }
          ],
          "scattermapbox": [
           {
            "marker": {
             "colorbar": {
              "outlinewidth": 0,
              "ticks": ""
             }
            },
            "type": "scattermapbox"
           }
          ],
          "scatterpolar": [
           {
            "marker": {
             "colorbar": {
              "outlinewidth": 0,
              "ticks": ""
             }
            },
            "type": "scatterpolar"
           }
          ],
          "scatterpolargl": [
           {
            "marker": {
             "colorbar": {
              "outlinewidth": 0,
              "ticks": ""
             }
            },
            "type": "scatterpolargl"
           }
          ],
          "scatterternary": [
           {
            "marker": {
             "colorbar": {
              "outlinewidth": 0,
              "ticks": ""
             }
            },
            "type": "scatterternary"
           }
          ],
          "surface": [
           {
            "colorbar": {
             "outlinewidth": 0,
             "ticks": ""
            },
            "colorscale": [
             [
              0,
              "#0d0887"
             ],
             [
              0.1111111111111111,
              "#46039f"
             ],
             [
              0.2222222222222222,
              "#7201a8"
             ],
             [
              0.3333333333333333,
              "#9c179e"
             ],
             [
              0.4444444444444444,
              "#bd3786"
             ],
             [
              0.5555555555555556,
              "#d8576b"
             ],
             [
              0.6666666666666666,
              "#ed7953"
             ],
             [
              0.7777777777777778,
              "#fb9f3a"
             ],
             [
              0.8888888888888888,
              "#fdca26"
             ],
             [
              1,
              "#f0f921"
             ]
            ],
            "type": "surface"
           }
          ],
          "table": [
           {
            "cells": {
             "fill": {
              "color": "#EBF0F8"
             },
             "line": {
              "color": "white"
             }
            },
            "header": {
             "fill": {
              "color": "#C8D4E3"
             },
             "line": {
              "color": "white"
             }
            },
            "type": "table"
           }
          ]
         },
         "layout": {
          "annotationdefaults": {
           "arrowcolor": "#2a3f5f",
           "arrowhead": 0,
           "arrowwidth": 1
          },
          "autotypenumbers": "strict",
          "coloraxis": {
           "colorbar": {
            "outlinewidth": 0,
            "ticks": ""
           }
          },
          "colorscale": {
           "diverging": [
            [
             0,
             "#8e0152"
            ],
            [
             0.1,
             "#c51b7d"
            ],
            [
             0.2,
             "#de77ae"
            ],
            [
             0.3,
             "#f1b6da"
            ],
            [
             0.4,
             "#fde0ef"
            ],
            [
             0.5,
             "#f7f7f7"
            ],
            [
             0.6,
             "#e6f5d0"
            ],
            [
             0.7,
             "#b8e186"
            ],
            [
             0.8,
             "#7fbc41"
            ],
            [
             0.9,
             "#4d9221"
            ],
            [
             1,
             "#276419"
            ]
           ],
           "sequential": [
            [
             0,
             "#0d0887"
            ],
            [
             0.1111111111111111,
             "#46039f"
            ],
            [
             0.2222222222222222,
             "#7201a8"
            ],
            [
             0.3333333333333333,
             "#9c179e"
            ],
            [
             0.4444444444444444,
             "#bd3786"
            ],
            [
             0.5555555555555556,
             "#d8576b"
            ],
            [
             0.6666666666666666,
             "#ed7953"
            ],
            [
             0.7777777777777778,
             "#fb9f3a"
            ],
            [
             0.8888888888888888,
             "#fdca26"
            ],
            [
             1,
             "#f0f921"
            ]
           ],
           "sequentialminus": [
            [
             0,
             "#0d0887"
            ],
            [
             0.1111111111111111,
             "#46039f"
            ],
            [
             0.2222222222222222,
             "#7201a8"
            ],
            [
             0.3333333333333333,
             "#9c179e"
            ],
            [
             0.4444444444444444,
             "#bd3786"
            ],
            [
             0.5555555555555556,
             "#d8576b"
            ],
            [
             0.6666666666666666,
             "#ed7953"
            ],
            [
             0.7777777777777778,
             "#fb9f3a"
            ],
            [
             0.8888888888888888,
             "#fdca26"
            ],
            [
             1,
             "#f0f921"
            ]
           ]
          },
          "colorway": [
           "#636efa",
           "#EF553B",
           "#00cc96",
           "#ab63fa",
           "#FFA15A",
           "#19d3f3",
           "#FF6692",
           "#B6E880",
           "#FF97FF",
           "#FECB52"
          ],
          "font": {
           "color": "#2a3f5f"
          },
          "geo": {
           "bgcolor": "white",
           "lakecolor": "white",
           "landcolor": "#E5ECF6",
           "showlakes": true,
           "showland": true,
           "subunitcolor": "white"
          },
          "hoverlabel": {
           "align": "left"
          },
          "hovermode": "closest",
          "mapbox": {
           "style": "light"
          },
          "paper_bgcolor": "white",
          "plot_bgcolor": "#E5ECF6",
          "polar": {
           "angularaxis": {
            "gridcolor": "white",
            "linecolor": "white",
            "ticks": ""
           },
           "bgcolor": "#E5ECF6",
           "radialaxis": {
            "gridcolor": "white",
            "linecolor": "white",
            "ticks": ""
           }
          },
          "scene": {
           "xaxis": {
            "backgroundcolor": "#E5ECF6",
            "gridcolor": "white",
            "gridwidth": 2,
            "linecolor": "white",
            "showbackground": true,
            "ticks": "",
            "zerolinecolor": "white"
           },
           "yaxis": {
            "backgroundcolor": "#E5ECF6",
            "gridcolor": "white",
            "gridwidth": 2,
            "linecolor": "white",
            "showbackground": true,
            "ticks": "",
            "zerolinecolor": "white"
           },
           "zaxis": {
            "backgroundcolor": "#E5ECF6",
            "gridcolor": "white",
            "gridwidth": 2,
            "linecolor": "white",
            "showbackground": true,
            "ticks": "",
            "zerolinecolor": "white"
           }
          },
          "shapedefaults": {
           "line": {
            "color": "#2a3f5f"
           }
          },
          "ternary": {
           "aaxis": {
            "gridcolor": "white",
            "linecolor": "white",
            "ticks": ""
           },
           "baxis": {
            "gridcolor": "white",
            "linecolor": "white",
            "ticks": ""
           },
           "bgcolor": "#E5ECF6",
           "caxis": {
            "gridcolor": "white",
            "linecolor": "white",
            "ticks": ""
           }
          },
          "title": {
           "x": 0.05
          },
          "xaxis": {
           "automargin": true,
           "gridcolor": "white",
           "linecolor": "white",
           "ticks": "",
           "title": {
            "standoff": 15
           },
           "zerolinecolor": "white",
           "zerolinewidth": 2
          },
          "yaxis": {
           "automargin": true,
           "gridcolor": "white",
           "linecolor": "white",
           "ticks": "",
           "title": {
            "standoff": 15
           },
           "zerolinecolor": "white",
           "zerolinewidth": 2
          }
         }
        },
        "title": {
         "text": "Award Nominations by Genre"
        },
        "xaxis": {
         "anchor": "y",
         "domain": [
          0,
          1
         ],
         "title": {
          "text": "categories"
         }
        },
        "yaxis": {
         "anchor": "x",
         "domain": [
          0,
          1
         ],
         "title": {
          "text": "num_awards"
         }
        }
       }
      }
     },
     "metadata": {},
     "output_type": "display_data"
    },
    {
     "data": {
      "application/vnd.plotly.v1+json": {
       "config": {
        "plotlyServerURL": "https://plot.ly"
       },
       "data": [
        {
         "hovertemplate": "Month=%{x}<br>Awards Received=%{y}<extra></extra>",
         "legendgroup": "",
         "line": {
          "color": "#636efa",
          "dash": "solid"
         },
         "marker": {
          "symbol": "circle"
         },
         "mode": "lines",
         "name": "",
         "orientation": "v",
         "showlegend": false,
         "type": "scatter",
         "x": [
          "01",
          "02",
          "03",
          "04",
          "05",
          "06",
          "07",
          "08",
          "09",
          "10",
          "11",
          "12"
         ],
         "xaxis": "x",
         "y": [
          1398,
          217,
          193,
          159,
          373,
          186,
          162,
          248,
          418,
          288,
          300,
          483
         ],
         "yaxis": "y"
        }
       ],
       "layout": {
        "legend": {
         "tracegroupgap": 0
        },
        "template": {
         "data": {
          "bar": [
           {
            "error_x": {
             "color": "#2a3f5f"
            },
            "error_y": {
             "color": "#2a3f5f"
            },
            "marker": {
             "line": {
              "color": "#E5ECF6",
              "width": 0.5
             },
             "pattern": {
              "fillmode": "overlay",
              "size": 10,
              "solidity": 0.2
             }
            },
            "type": "bar"
           }
          ],
          "barpolar": [
           {
            "marker": {
             "line": {
              "color": "#E5ECF6",
              "width": 0.5
             },
             "pattern": {
              "fillmode": "overlay",
              "size": 10,
              "solidity": 0.2
             }
            },
            "type": "barpolar"
           }
          ],
          "carpet": [
           {
            "aaxis": {
             "endlinecolor": "#2a3f5f",
             "gridcolor": "white",
             "linecolor": "white",
             "minorgridcolor": "white",
             "startlinecolor": "#2a3f5f"
            },
            "baxis": {
             "endlinecolor": "#2a3f5f",
             "gridcolor": "white",
             "linecolor": "white",
             "minorgridcolor": "white",
             "startlinecolor": "#2a3f5f"
            },
            "type": "carpet"
           }
          ],
          "choropleth": [
           {
            "colorbar": {
             "outlinewidth": 0,
             "ticks": ""
            },
            "type": "choropleth"
           }
          ],
          "contour": [
           {
            "colorbar": {
             "outlinewidth": 0,
             "ticks": ""
            },
            "colorscale": [
             [
              0,
              "#0d0887"
             ],
             [
              0.1111111111111111,
              "#46039f"
             ],
             [
              0.2222222222222222,
              "#7201a8"
             ],
             [
              0.3333333333333333,
              "#9c179e"
             ],
             [
              0.4444444444444444,
              "#bd3786"
             ],
             [
              0.5555555555555556,
              "#d8576b"
             ],
             [
              0.6666666666666666,
              "#ed7953"
             ],
             [
              0.7777777777777778,
              "#fb9f3a"
             ],
             [
              0.8888888888888888,
              "#fdca26"
             ],
             [
              1,
              "#f0f921"
             ]
            ],
            "type": "contour"
           }
          ],
          "contourcarpet": [
           {
            "colorbar": {
             "outlinewidth": 0,
             "ticks": ""
            },
            "type": "contourcarpet"
           }
          ],
          "heatmap": [
           {
            "colorbar": {
             "outlinewidth": 0,
             "ticks": ""
            },
            "colorscale": [
             [
              0,
              "#0d0887"
             ],
             [
              0.1111111111111111,
              "#46039f"
             ],
             [
              0.2222222222222222,
              "#7201a8"
             ],
             [
              0.3333333333333333,
              "#9c179e"
             ],
             [
              0.4444444444444444,
              "#bd3786"
             ],
             [
              0.5555555555555556,
              "#d8576b"
             ],
             [
              0.6666666666666666,
              "#ed7953"
             ],
             [
              0.7777777777777778,
              "#fb9f3a"
             ],
             [
              0.8888888888888888,
              "#fdca26"
             ],
             [
              1,
              "#f0f921"
             ]
            ],
            "type": "heatmap"
           }
          ],
          "heatmapgl": [
           {
            "colorbar": {
             "outlinewidth": 0,
             "ticks": ""
            },
            "colorscale": [
             [
              0,
              "#0d0887"
             ],
             [
              0.1111111111111111,
              "#46039f"
             ],
             [
              0.2222222222222222,
              "#7201a8"
             ],
             [
              0.3333333333333333,
              "#9c179e"
             ],
             [
              0.4444444444444444,
              "#bd3786"
             ],
             [
              0.5555555555555556,
              "#d8576b"
             ],
             [
              0.6666666666666666,
              "#ed7953"
             ],
             [
              0.7777777777777778,
              "#fb9f3a"
             ],
             [
              0.8888888888888888,
              "#fdca26"
             ],
             [
              1,
              "#f0f921"
             ]
            ],
            "type": "heatmapgl"
           }
          ],
          "histogram": [
           {
            "marker": {
             "pattern": {
              "fillmode": "overlay",
              "size": 10,
              "solidity": 0.2
             }
            },
            "type": "histogram"
           }
          ],
          "histogram2d": [
           {
            "colorbar": {
             "outlinewidth": 0,
             "ticks": ""
            },
            "colorscale": [
             [
              0,
              "#0d0887"
             ],
             [
              0.1111111111111111,
              "#46039f"
             ],
             [
              0.2222222222222222,
              "#7201a8"
             ],
             [
              0.3333333333333333,
              "#9c179e"
             ],
             [
              0.4444444444444444,
              "#bd3786"
             ],
             [
              0.5555555555555556,
              "#d8576b"
             ],
             [
              0.6666666666666666,
              "#ed7953"
             ],
             [
              0.7777777777777778,
              "#fb9f3a"
             ],
             [
              0.8888888888888888,
              "#fdca26"
             ],
             [
              1,
              "#f0f921"
             ]
            ],
            "type": "histogram2d"
           }
          ],
          "histogram2dcontour": [
           {
            "colorbar": {
             "outlinewidth": 0,
             "ticks": ""
            },
            "colorscale": [
             [
              0,
              "#0d0887"
             ],
             [
              0.1111111111111111,
              "#46039f"
             ],
             [
              0.2222222222222222,
              "#7201a8"
             ],
             [
              0.3333333333333333,
              "#9c179e"
             ],
             [
              0.4444444444444444,
              "#bd3786"
             ],
             [
              0.5555555555555556,
              "#d8576b"
             ],
             [
              0.6666666666666666,
              "#ed7953"
             ],
             [
              0.7777777777777778,
              "#fb9f3a"
             ],
             [
              0.8888888888888888,
              "#fdca26"
             ],
             [
              1,
              "#f0f921"
             ]
            ],
            "type": "histogram2dcontour"
           }
          ],
          "mesh3d": [
           {
            "colorbar": {
             "outlinewidth": 0,
             "ticks": ""
            },
            "type": "mesh3d"
           }
          ],
          "parcoords": [
           {
            "line": {
             "colorbar": {
              "outlinewidth": 0,
              "ticks": ""
             }
            },
            "type": "parcoords"
           }
          ],
          "pie": [
           {
            "automargin": true,
            "type": "pie"
           }
          ],
          "scatter": [
           {
            "fillpattern": {
             "fillmode": "overlay",
             "size": 10,
             "solidity": 0.2
            },
            "type": "scatter"
           }
          ],
          "scatter3d": [
           {
            "line": {
             "colorbar": {
              "outlinewidth": 0,
              "ticks": ""
             }
            },
            "marker": {
             "colorbar": {
              "outlinewidth": 0,
              "ticks": ""
             }
            },
            "type": "scatter3d"
           }
          ],
          "scattercarpet": [
           {
            "marker": {
             "colorbar": {
              "outlinewidth": 0,
              "ticks": ""
             }
            },
            "type": "scattercarpet"
           }
          ],
          "scattergeo": [
           {
            "marker": {
             "colorbar": {
              "outlinewidth": 0,
              "ticks": ""
             }
            },
            "type": "scattergeo"
           }
          ],
          "scattergl": [
           {
            "marker": {
             "colorbar": {
              "outlinewidth": 0,
              "ticks": ""
             }
            },
            "type": "scattergl"
           }
          ],
          "scattermapbox": [
           {
            "marker": {
             "colorbar": {
              "outlinewidth": 0,
              "ticks": ""
             }
            },
            "type": "scattermapbox"
           }
          ],
          "scatterpolar": [
           {
            "marker": {
             "colorbar": {
              "outlinewidth": 0,
              "ticks": ""
             }
            },
            "type": "scatterpolar"
           }
          ],
          "scatterpolargl": [
           {
            "marker": {
             "colorbar": {
              "outlinewidth": 0,
              "ticks": ""
             }
            },
            "type": "scatterpolargl"
           }
          ],
          "scatterternary": [
           {
            "marker": {
             "colorbar": {
              "outlinewidth": 0,
              "ticks": ""
             }
            },
            "type": "scatterternary"
           }
          ],
          "surface": [
           {
            "colorbar": {
             "outlinewidth": 0,
             "ticks": ""
            },
            "colorscale": [
             [
              0,
              "#0d0887"
             ],
             [
              0.1111111111111111,
              "#46039f"
             ],
             [
              0.2222222222222222,
              "#7201a8"
             ],
             [
              0.3333333333333333,
              "#9c179e"
             ],
             [
              0.4444444444444444,
              "#bd3786"
             ],
             [
              0.5555555555555556,
              "#d8576b"
             ],
             [
              0.6666666666666666,
              "#ed7953"
             ],
             [
              0.7777777777777778,
              "#fb9f3a"
             ],
             [
              0.8888888888888888,
              "#fdca26"
             ],
             [
              1,
              "#f0f921"
             ]
            ],
            "type": "surface"
           }
          ],
          "table": [
           {
            "cells": {
             "fill": {
              "color": "#EBF0F8"
             },
             "line": {
              "color": "white"
             }
            },
            "header": {
             "fill": {
              "color": "#C8D4E3"
             },
             "line": {
              "color": "white"
             }
            },
            "type": "table"
           }
          ]
         },
         "layout": {
          "annotationdefaults": {
           "arrowcolor": "#2a3f5f",
           "arrowhead": 0,
           "arrowwidth": 1
          },
          "autotypenumbers": "strict",
          "coloraxis": {
           "colorbar": {
            "outlinewidth": 0,
            "ticks": ""
           }
          },
          "colorscale": {
           "diverging": [
            [
             0,
             "#8e0152"
            ],
            [
             0.1,
             "#c51b7d"
            ],
            [
             0.2,
             "#de77ae"
            ],
            [
             0.3,
             "#f1b6da"
            ],
            [
             0.4,
             "#fde0ef"
            ],
            [
             0.5,
             "#f7f7f7"
            ],
            [
             0.6,
             "#e6f5d0"
            ],
            [
             0.7,
             "#b8e186"
            ],
            [
             0.8,
             "#7fbc41"
            ],
            [
             0.9,
             "#4d9221"
            ],
            [
             1,
             "#276419"
            ]
           ],
           "sequential": [
            [
             0,
             "#0d0887"
            ],
            [
             0.1111111111111111,
             "#46039f"
            ],
            [
             0.2222222222222222,
             "#7201a8"
            ],
            [
             0.3333333333333333,
             "#9c179e"
            ],
            [
             0.4444444444444444,
             "#bd3786"
            ],
            [
             0.5555555555555556,
             "#d8576b"
            ],
            [
             0.6666666666666666,
             "#ed7953"
            ],
            [
             0.7777777777777778,
             "#fb9f3a"
            ],
            [
             0.8888888888888888,
             "#fdca26"
            ],
            [
             1,
             "#f0f921"
            ]
           ],
           "sequentialminus": [
            [
             0,
             "#0d0887"
            ],
            [
             0.1111111111111111,
             "#46039f"
            ],
            [
             0.2222222222222222,
             "#7201a8"
            ],
            [
             0.3333333333333333,
             "#9c179e"
            ],
            [
             0.4444444444444444,
             "#bd3786"
            ],
            [
             0.5555555555555556,
             "#d8576b"
            ],
            [
             0.6666666666666666,
             "#ed7953"
            ],
            [
             0.7777777777777778,
             "#fb9f3a"
            ],
            [
             0.8888888888888888,
             "#fdca26"
            ],
            [
             1,
             "#f0f921"
            ]
           ]
          },
          "colorway": [
           "#636efa",
           "#EF553B",
           "#00cc96",
           "#ab63fa",
           "#FFA15A",
           "#19d3f3",
           "#FF6692",
           "#B6E880",
           "#FF97FF",
           "#FECB52"
          ],
          "font": {
           "color": "#2a3f5f"
          },
          "geo": {
           "bgcolor": "white",
           "lakecolor": "white",
           "landcolor": "#E5ECF6",
           "showlakes": true,
           "showland": true,
           "subunitcolor": "white"
          },
          "hoverlabel": {
           "align": "left"
          },
          "hovermode": "closest",
          "mapbox": {
           "style": "light"
          },
          "paper_bgcolor": "white",
          "plot_bgcolor": "#E5ECF6",
          "polar": {
           "angularaxis": {
            "gridcolor": "white",
            "linecolor": "white",
            "ticks": ""
           },
           "bgcolor": "#E5ECF6",
           "radialaxis": {
            "gridcolor": "white",
            "linecolor": "white",
            "ticks": ""
           }
          },
          "scene": {
           "xaxis": {
            "backgroundcolor": "#E5ECF6",
            "gridcolor": "white",
            "gridwidth": 2,
            "linecolor": "white",
            "showbackground": true,
            "ticks": "",
            "zerolinecolor": "white"
           },
           "yaxis": {
            "backgroundcolor": "#E5ECF6",
            "gridcolor": "white",
            "gridwidth": 2,
            "linecolor": "white",
            "showbackground": true,
            "ticks": "",
            "zerolinecolor": "white"
           },
           "zaxis": {
            "backgroundcolor": "#E5ECF6",
            "gridcolor": "white",
            "gridwidth": 2,
            "linecolor": "white",
            "showbackground": true,
            "ticks": "",
            "zerolinecolor": "white"
           }
          },
          "shapedefaults": {
           "line": {
            "color": "#2a3f5f"
           }
          },
          "ternary": {
           "aaxis": {
            "gridcolor": "white",
            "linecolor": "white",
            "ticks": ""
           },
           "baxis": {
            "gridcolor": "white",
            "linecolor": "white",
            "ticks": ""
           },
           "bgcolor": "#E5ECF6",
           "caxis": {
            "gridcolor": "white",
            "linecolor": "white",
            "ticks": ""
           }
          },
          "title": {
           "x": 0.05
          },
          "xaxis": {
           "automargin": true,
           "gridcolor": "white",
           "linecolor": "white",
           "ticks": "",
           "title": {
            "standoff": 15
           },
           "zerolinecolor": "white",
           "zerolinewidth": 2
          },
          "yaxis": {
           "automargin": true,
           "gridcolor": "white",
           "linecolor": "white",
           "ticks": "",
           "title": {
            "standoff": 15
           },
           "zerolinecolor": "white",
           "zerolinewidth": 2
          }
         }
        },
        "title": {
         "text": "Award-Winning Movies by Release Month"
        },
        "xaxis": {
         "anchor": "y",
         "domain": [
          0,
          1
         ],
         "title": {
          "text": "Month"
         }
        },
        "yaxis": {
         "anchor": "x",
         "domain": [
          0,
          1
         ],
         "title": {
          "text": "Awards Received"
         }
        }
       }
      }
     },
     "metadata": {},
     "output_type": "display_data"
    }
   ],
   "source": [
    "import plotly.express as px\n",
    "\n",
    "cat_awards = cleaned_data.explode('categories').groupby('categories')['num_awards'].sum().reset_index().sort_values('num_awards', ascending=False)\n",
    "\n",
    "fig = px.bar(cat_awards,\n",
    "              x='categories', y='num_awards', title=\"Award Nominations by Genre\")\n",
    "fig.show()\n",
    "\n",
    "cleaned_data['release_month'] = cleaned_data['release_date'].apply(lambda x: x.split(\"-\")[1] if isinstance(x, str) else x)\n",
    "fig = px.line(cleaned_data.groupby('release_month')['num_awards'].sum().reset_index(),\n",
    "              x='release_month', y='num_awards', \n",
    "              title=\"Award-Winning Movies by Release Month\",\n",
    "              labels={'release_month': 'Month', 'num_awards': 'Awards Received'})\n",
    "fig.show()\n",
    "\n"
   ]
  },
  {
   "cell_type": "code",
   "execution_count": 10,
   "metadata": {},
   "outputs": [
    {
     "data": {
      "application/vnd.plotly.v1+json": {
       "config": {
        "plotlyServerURL": "https://plot.ly"
       },
       "data": [
        {
         "hovertemplate": "Year=%{x}<br>Awards Received=%{y}<extra></extra>",
         "legendgroup": "",
         "line": {
          "color": "#636efa",
          "dash": "solid"
         },
         "marker": {
          "symbol": "circle"
         },
         "mode": "lines",
         "name": "",
         "orientation": "v",
         "showlegend": false,
         "type": "scatter",
         "x": [
          "2015",
          "2016",
          "2017",
          "2018",
          "2019",
          "2020",
          "2021",
          "2022",
          "2023",
          "2024"
         ],
         "xaxis": "x",
         "y": [
          324,
          254,
          265,
          251,
          237,
          162,
          23,
          197,
          105,
          14
         ],
         "yaxis": "y"
        }
       ],
       "layout": {
        "legend": {
         "tracegroupgap": 0
        },
        "template": {
         "data": {
          "bar": [
           {
            "error_x": {
             "color": "#2a3f5f"
            },
            "error_y": {
             "color": "#2a3f5f"
            },
            "marker": {
             "line": {
              "color": "#E5ECF6",
              "width": 0.5
             },
             "pattern": {
              "fillmode": "overlay",
              "size": 10,
              "solidity": 0.2
             }
            },
            "type": "bar"
           }
          ],
          "barpolar": [
           {
            "marker": {
             "line": {
              "color": "#E5ECF6",
              "width": 0.5
             },
             "pattern": {
              "fillmode": "overlay",
              "size": 10,
              "solidity": 0.2
             }
            },
            "type": "barpolar"
           }
          ],
          "carpet": [
           {
            "aaxis": {
             "endlinecolor": "#2a3f5f",
             "gridcolor": "white",
             "linecolor": "white",
             "minorgridcolor": "white",
             "startlinecolor": "#2a3f5f"
            },
            "baxis": {
             "endlinecolor": "#2a3f5f",
             "gridcolor": "white",
             "linecolor": "white",
             "minorgridcolor": "white",
             "startlinecolor": "#2a3f5f"
            },
            "type": "carpet"
           }
          ],
          "choropleth": [
           {
            "colorbar": {
             "outlinewidth": 0,
             "ticks": ""
            },
            "type": "choropleth"
           }
          ],
          "contour": [
           {
            "colorbar": {
             "outlinewidth": 0,
             "ticks": ""
            },
            "colorscale": [
             [
              0,
              "#0d0887"
             ],
             [
              0.1111111111111111,
              "#46039f"
             ],
             [
              0.2222222222222222,
              "#7201a8"
             ],
             [
              0.3333333333333333,
              "#9c179e"
             ],
             [
              0.4444444444444444,
              "#bd3786"
             ],
             [
              0.5555555555555556,
              "#d8576b"
             ],
             [
              0.6666666666666666,
              "#ed7953"
             ],
             [
              0.7777777777777778,
              "#fb9f3a"
             ],
             [
              0.8888888888888888,
              "#fdca26"
             ],
             [
              1,
              "#f0f921"
             ]
            ],
            "type": "contour"
           }
          ],
          "contourcarpet": [
           {
            "colorbar": {
             "outlinewidth": 0,
             "ticks": ""
            },
            "type": "contourcarpet"
           }
          ],
          "heatmap": [
           {
            "colorbar": {
             "outlinewidth": 0,
             "ticks": ""
            },
            "colorscale": [
             [
              0,
              "#0d0887"
             ],
             [
              0.1111111111111111,
              "#46039f"
             ],
             [
              0.2222222222222222,
              "#7201a8"
             ],
             [
              0.3333333333333333,
              "#9c179e"
             ],
             [
              0.4444444444444444,
              "#bd3786"
             ],
             [
              0.5555555555555556,
              "#d8576b"
             ],
             [
              0.6666666666666666,
              "#ed7953"
             ],
             [
              0.7777777777777778,
              "#fb9f3a"
             ],
             [
              0.8888888888888888,
              "#fdca26"
             ],
             [
              1,
              "#f0f921"
             ]
            ],
            "type": "heatmap"
           }
          ],
          "heatmapgl": [
           {
            "colorbar": {
             "outlinewidth": 0,
             "ticks": ""
            },
            "colorscale": [
             [
              0,
              "#0d0887"
             ],
             [
              0.1111111111111111,
              "#46039f"
             ],
             [
              0.2222222222222222,
              "#7201a8"
             ],
             [
              0.3333333333333333,
              "#9c179e"
             ],
             [
              0.4444444444444444,
              "#bd3786"
             ],
             [
              0.5555555555555556,
              "#d8576b"
             ],
             [
              0.6666666666666666,
              "#ed7953"
             ],
             [
              0.7777777777777778,
              "#fb9f3a"
             ],
             [
              0.8888888888888888,
              "#fdca26"
             ],
             [
              1,
              "#f0f921"
             ]
            ],
            "type": "heatmapgl"
           }
          ],
          "histogram": [
           {
            "marker": {
             "pattern": {
              "fillmode": "overlay",
              "size": 10,
              "solidity": 0.2
             }
            },
            "type": "histogram"
           }
          ],
          "histogram2d": [
           {
            "colorbar": {
             "outlinewidth": 0,
             "ticks": ""
            },
            "colorscale": [
             [
              0,
              "#0d0887"
             ],
             [
              0.1111111111111111,
              "#46039f"
             ],
             [
              0.2222222222222222,
              "#7201a8"
             ],
             [
              0.3333333333333333,
              "#9c179e"
             ],
             [
              0.4444444444444444,
              "#bd3786"
             ],
             [
              0.5555555555555556,
              "#d8576b"
             ],
             [
              0.6666666666666666,
              "#ed7953"
             ],
             [
              0.7777777777777778,
              "#fb9f3a"
             ],
             [
              0.8888888888888888,
              "#fdca26"
             ],
             [
              1,
              "#f0f921"
             ]
            ],
            "type": "histogram2d"
           }
          ],
          "histogram2dcontour": [
           {
            "colorbar": {
             "outlinewidth": 0,
             "ticks": ""
            },
            "colorscale": [
             [
              0,
              "#0d0887"
             ],
             [
              0.1111111111111111,
              "#46039f"
             ],
             [
              0.2222222222222222,
              "#7201a8"
             ],
             [
              0.3333333333333333,
              "#9c179e"
             ],
             [
              0.4444444444444444,
              "#bd3786"
             ],
             [
              0.5555555555555556,
              "#d8576b"
             ],
             [
              0.6666666666666666,
              "#ed7953"
             ],
             [
              0.7777777777777778,
              "#fb9f3a"
             ],
             [
              0.8888888888888888,
              "#fdca26"
             ],
             [
              1,
              "#f0f921"
             ]
            ],
            "type": "histogram2dcontour"
           }
          ],
          "mesh3d": [
           {
            "colorbar": {
             "outlinewidth": 0,
             "ticks": ""
            },
            "type": "mesh3d"
           }
          ],
          "parcoords": [
           {
            "line": {
             "colorbar": {
              "outlinewidth": 0,
              "ticks": ""
             }
            },
            "type": "parcoords"
           }
          ],
          "pie": [
           {
            "automargin": true,
            "type": "pie"
           }
          ],
          "scatter": [
           {
            "fillpattern": {
             "fillmode": "overlay",
             "size": 10,
             "solidity": 0.2
            },
            "type": "scatter"
           }
          ],
          "scatter3d": [
           {
            "line": {
             "colorbar": {
              "outlinewidth": 0,
              "ticks": ""
             }
            },
            "marker": {
             "colorbar": {
              "outlinewidth": 0,
              "ticks": ""
             }
            },
            "type": "scatter3d"
           }
          ],
          "scattercarpet": [
           {
            "marker": {
             "colorbar": {
              "outlinewidth": 0,
              "ticks": ""
             }
            },
            "type": "scattercarpet"
           }
          ],
          "scattergeo": [
           {
            "marker": {
             "colorbar": {
              "outlinewidth": 0,
              "ticks": ""
             }
            },
            "type": "scattergeo"
           }
          ],
          "scattergl": [
           {
            "marker": {
             "colorbar": {
              "outlinewidth": 0,
              "ticks": ""
             }
            },
            "type": "scattergl"
           }
          ],
          "scattermapbox": [
           {
            "marker": {
             "colorbar": {
              "outlinewidth": 0,
              "ticks": ""
             }
            },
            "type": "scattermapbox"
           }
          ],
          "scatterpolar": [
           {
            "marker": {
             "colorbar": {
              "outlinewidth": 0,
              "ticks": ""
             }
            },
            "type": "scatterpolar"
           }
          ],
          "scatterpolargl": [
           {
            "marker": {
             "colorbar": {
              "outlinewidth": 0,
              "ticks": ""
             }
            },
            "type": "scatterpolargl"
           }
          ],
          "scatterternary": [
           {
            "marker": {
             "colorbar": {
              "outlinewidth": 0,
              "ticks": ""
             }
            },
            "type": "scatterternary"
           }
          ],
          "surface": [
           {
            "colorbar": {
             "outlinewidth": 0,
             "ticks": ""
            },
            "colorscale": [
             [
              0,
              "#0d0887"
             ],
             [
              0.1111111111111111,
              "#46039f"
             ],
             [
              0.2222222222222222,
              "#7201a8"
             ],
             [
              0.3333333333333333,
              "#9c179e"
             ],
             [
              0.4444444444444444,
              "#bd3786"
             ],
             [
              0.5555555555555556,
              "#d8576b"
             ],
             [
              0.6666666666666666,
              "#ed7953"
             ],
             [
              0.7777777777777778,
              "#fb9f3a"
             ],
             [
              0.8888888888888888,
              "#fdca26"
             ],
             [
              1,
              "#f0f921"
             ]
            ],
            "type": "surface"
           }
          ],
          "table": [
           {
            "cells": {
             "fill": {
              "color": "#EBF0F8"
             },
             "line": {
              "color": "white"
             }
            },
            "header": {
             "fill": {
              "color": "#C8D4E3"
             },
             "line": {
              "color": "white"
             }
            },
            "type": "table"
           }
          ]
         },
         "layout": {
          "annotationdefaults": {
           "arrowcolor": "#2a3f5f",
           "arrowhead": 0,
           "arrowwidth": 1
          },
          "autotypenumbers": "strict",
          "coloraxis": {
           "colorbar": {
            "outlinewidth": 0,
            "ticks": ""
           }
          },
          "colorscale": {
           "diverging": [
            [
             0,
             "#8e0152"
            ],
            [
             0.1,
             "#c51b7d"
            ],
            [
             0.2,
             "#de77ae"
            ],
            [
             0.3,
             "#f1b6da"
            ],
            [
             0.4,
             "#fde0ef"
            ],
            [
             0.5,
             "#f7f7f7"
            ],
            [
             0.6,
             "#e6f5d0"
            ],
            [
             0.7,
             "#b8e186"
            ],
            [
             0.8,
             "#7fbc41"
            ],
            [
             0.9,
             "#4d9221"
            ],
            [
             1,
             "#276419"
            ]
           ],
           "sequential": [
            [
             0,
             "#0d0887"
            ],
            [
             0.1111111111111111,
             "#46039f"
            ],
            [
             0.2222222222222222,
             "#7201a8"
            ],
            [
             0.3333333333333333,
             "#9c179e"
            ],
            [
             0.4444444444444444,
             "#bd3786"
            ],
            [
             0.5555555555555556,
             "#d8576b"
            ],
            [
             0.6666666666666666,
             "#ed7953"
            ],
            [
             0.7777777777777778,
             "#fb9f3a"
            ],
            [
             0.8888888888888888,
             "#fdca26"
            ],
            [
             1,
             "#f0f921"
            ]
           ],
           "sequentialminus": [
            [
             0,
             "#0d0887"
            ],
            [
             0.1111111111111111,
             "#46039f"
            ],
            [
             0.2222222222222222,
             "#7201a8"
            ],
            [
             0.3333333333333333,
             "#9c179e"
            ],
            [
             0.4444444444444444,
             "#bd3786"
            ],
            [
             0.5555555555555556,
             "#d8576b"
            ],
            [
             0.6666666666666666,
             "#ed7953"
            ],
            [
             0.7777777777777778,
             "#fb9f3a"
            ],
            [
             0.8888888888888888,
             "#fdca26"
            ],
            [
             1,
             "#f0f921"
            ]
           ]
          },
          "colorway": [
           "#636efa",
           "#EF553B",
           "#00cc96",
           "#ab63fa",
           "#FFA15A",
           "#19d3f3",
           "#FF6692",
           "#B6E880",
           "#FF97FF",
           "#FECB52"
          ],
          "font": {
           "color": "#2a3f5f"
          },
          "geo": {
           "bgcolor": "white",
           "lakecolor": "white",
           "landcolor": "#E5ECF6",
           "showlakes": true,
           "showland": true,
           "subunitcolor": "white"
          },
          "hoverlabel": {
           "align": "left"
          },
          "hovermode": "closest",
          "mapbox": {
           "style": "light"
          },
          "paper_bgcolor": "white",
          "plot_bgcolor": "#E5ECF6",
          "polar": {
           "angularaxis": {
            "gridcolor": "white",
            "linecolor": "white",
            "ticks": ""
           },
           "bgcolor": "#E5ECF6",
           "radialaxis": {
            "gridcolor": "white",
            "linecolor": "white",
            "ticks": ""
           }
          },
          "scene": {
           "xaxis": {
            "backgroundcolor": "#E5ECF6",
            "gridcolor": "white",
            "gridwidth": 2,
            "linecolor": "white",
            "showbackground": true,
            "ticks": "",
            "zerolinecolor": "white"
           },
           "yaxis": {
            "backgroundcolor": "#E5ECF6",
            "gridcolor": "white",
            "gridwidth": 2,
            "linecolor": "white",
            "showbackground": true,
            "ticks": "",
            "zerolinecolor": "white"
           },
           "zaxis": {
            "backgroundcolor": "#E5ECF6",
            "gridcolor": "white",
            "gridwidth": 2,
            "linecolor": "white",
            "showbackground": true,
            "ticks": "",
            "zerolinecolor": "white"
           }
          },
          "shapedefaults": {
           "line": {
            "color": "#2a3f5f"
           }
          },
          "ternary": {
           "aaxis": {
            "gridcolor": "white",
            "linecolor": "white",
            "ticks": ""
           },
           "baxis": {
            "gridcolor": "white",
            "linecolor": "white",
            "ticks": ""
           },
           "bgcolor": "#E5ECF6",
           "caxis": {
            "gridcolor": "white",
            "linecolor": "white",
            "ticks": ""
           }
          },
          "title": {
           "x": 0.05
          },
          "xaxis": {
           "automargin": true,
           "gridcolor": "white",
           "linecolor": "white",
           "ticks": "",
           "title": {
            "standoff": 15
           },
           "zerolinecolor": "white",
           "zerolinewidth": 2
          },
          "yaxis": {
           "automargin": true,
           "gridcolor": "white",
           "linecolor": "white",
           "ticks": "",
           "title": {
            "standoff": 15
           },
           "zerolinecolor": "white",
           "zerolinewidth": 2
          }
         }
        },
        "title": {
         "text": "Awards per Year"
        },
        "xaxis": {
         "anchor": "y",
         "domain": [
          0,
          1
         ],
         "title": {
          "text": "Year"
         }
        },
        "yaxis": {
         "anchor": "x",
         "domain": [
          0,
          1
         ],
         "title": {
          "text": "Awards Received"
         }
        }
       }
      }
     },
     "metadata": {},
     "output_type": "display_data"
    }
   ],
   "source": [
    "cleaned_data['release_year'] = cleaned_data['release_date'].apply(lambda x: x.split(\"-\")[0] if isinstance(x, str) else 0)\n",
    "cleaned_data = cleaned_data[cleaned_data['release_year'].astype(int) >=2015]\n",
    "fig = px.line(cleaned_data.groupby('release_year')['num_awards'].sum().reset_index(),\n",
    "              x='release_year', y='num_awards', \n",
    "              title=\"Awards per Year\",\n",
    "              labels={'release_year': 'Year', 'num_awards': 'Awards Received'})\n",
    "fig.show()\n"
   ]
  }
 ],
 "metadata": {
  "kernelspec": {
   "display_name": "ada",
   "language": "python",
   "name": "python3"
  },
  "language_info": {
   "codemirror_mode": {
    "name": "ipython",
    "version": 3
   },
   "file_extension": ".py",
   "mimetype": "text/x-python",
   "name": "python",
   "nbconvert_exporter": "python",
   "pygments_lexer": "ipython3",
   "version": "3.11.9"
  }
 },
 "nbformat": 4,
 "nbformat_minor": 2
}
