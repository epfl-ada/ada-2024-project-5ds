{
 "cells": [
  {
   "cell_type": "code",
   "execution_count": 21,
   "metadata": {},
   "outputs": [
    {
     "name": "stdout",
     "output_type": "stream",
     "text": [
      "The autoreload extension is already loaded. To reload it, use:\n",
      "  %reload_ext autoreload\n"
     ]
    }
   ],
   "source": [
    "from src.utils.data_utils import load_dataframe_from_csv\n",
    "from src.data.dataloader import load_initial_dataset\n",
    "from clean_cmu import clean_movies_cmu\n",
    "#from config import *\n",
    "\n",
    "import pandas as pd\n",
    "import seaborn as sns\n",
    "import matplotlib.pyplot as plt\n",
    "import numpy as np\n",
    "%load_ext autoreload\n",
    "%autoreload 2"
   ]
  },
  {
   "cell_type": "code",
   "execution_count": 22,
   "metadata": {},
   "outputs": [],
   "source": [
    "movie = load_dataframe_from_csv('movie_cmu.csv')\n",
    "character = load_dataframe_from_csv('character.csv')\n",
    "plot_summaries = load_dataframe_from_csv('plot_summaries.csv')\n",
    "tvtropes = load_dataframe_from_csv('tvtropes.csv')\n",
    "name_clusters = load_dataframe_from_csv('name_clusters.csv')\n",
    "oscar_winning_films = load_dataframe_from_csv('oscar_winning_films_ids.csv')\n",
    "oscar_winning_actors = load_dataframe_from_csv('oscar_winning_actors.csv')\n",
    "oscar_winning_actresses = load_dataframe_from_csv('oscar_winning_actresses.csv')\n",
    "oscar_supporting_actors = load_dataframe_from_csv('oscar_winning_supporting_actors.csv')\n",
    "oscar_supporting_actresses = load_dataframe_from_csv('oscar_winning_supporting_actresses.csv')\n",
    "extended_films = load_dataframe_from_csv('film_2015_2024.csv')\n",
    "academy_award_winning_films = load_dataframe_from_csv('acedemy_award_winning_films')\n",
    "winning_actors_info = load_dataframe_from_csv('winning_actors_information.csv')"
   ]
  },
  {
   "cell_type": "code",
   "execution_count": 23,
   "metadata": {},
   "outputs": [],
   "source": [
    "extended_films[\"Movie genres\"] = extended_films[\"genres\"]\n",
    "extended_films[\"Movie release date\"] = extended_films[\"release_date\"]\n",
    "extended_films[\"Movie languages\"] = extended_films[\"languages\"]\n",
    "extended_films[\"Movie countries\"] = extended_films[\"countries\"]\n",
    "extended_films[\"Movie name\"] = extended_films[\"film\"]\n",
    "extended_films[\"Movie box office revenue\"] = extended_films[\"box_office\"]\n",
    "extended_films[\"Movie runtime\"] = extended_films[\"runtime\"]\n",
    "extended_films[\"Wikipedia movie ID\"] = extended_films[\"page_id\"]\n",
    "extended_films = extended_films.drop(columns=[\"genres\", \"release_date\", \"languages\", \"countries\", \"release date\", \"film\", \"box_office\", \"runtime\", \"page_id\"])"
   ]
  },
  {
   "cell_type": "code",
   "execution_count": 24,
   "metadata": {},
   "outputs": [
    {
     "data": {
      "text/html": [
       "<div>\n",
       "<style scoped>\n",
       "    .dataframe tbody tr th:only-of-type {\n",
       "        vertical-align: middle;\n",
       "    }\n",
       "\n",
       "    .dataframe tbody tr th {\n",
       "        vertical-align: top;\n",
       "    }\n",
       "\n",
       "    .dataframe thead th {\n",
       "        text-align: right;\n",
       "    }\n",
       "</style>\n",
       "<table border=\"1\" class=\"dataframe\">\n",
       "  <thead>\n",
       "    <tr style=\"text-align: right;\">\n",
       "      <th></th>\n",
       "      <th>page_id</th>\n",
       "      <th>wikidata_id</th>\n",
       "      <th>actor</th>\n",
       "      <th>sexLabel</th>\n",
       "      <th>nativeLanguageLabel</th>\n",
       "      <th>countryOfCitizenshipLabel</th>\n",
       "      <th>ethnicGroupLabel</th>\n",
       "    </tr>\n",
       "  </thead>\n",
       "  <tbody>\n",
       "    <tr>\n",
       "      <th>0</th>\n",
       "      <td>106405</td>\n",
       "      <td>Q77181</td>\n",
       "      <td>Emil Jannings</td>\n",
       "      <td>male</td>\n",
       "      <td>NaN</td>\n",
       "      <td>Germany</td>\n",
       "      <td>NaN</td>\n",
       "    </tr>\n",
       "    <tr>\n",
       "      <th>1</th>\n",
       "      <td>142784</td>\n",
       "      <td>Q312073</td>\n",
       "      <td>Warner Baxter</td>\n",
       "      <td>male</td>\n",
       "      <td>English</td>\n",
       "      <td>United States of America</td>\n",
       "      <td>NaN</td>\n",
       "    </tr>\n",
       "    <tr>\n",
       "      <th>2</th>\n",
       "      <td>7605117</td>\n",
       "      <td>Q182229</td>\n",
       "      <td>George Arliss</td>\n",
       "      <td>male</td>\n",
       "      <td>NaN</td>\n",
       "      <td>United Kingdom</td>\n",
       "      <td>NaN</td>\n",
       "    </tr>\n",
       "    <tr>\n",
       "      <th>3</th>\n",
       "      <td>67022</td>\n",
       "      <td>Q295593</td>\n",
       "      <td>Lionel Barrymore</td>\n",
       "      <td>male</td>\n",
       "      <td>English</td>\n",
       "      <td>United States of America</td>\n",
       "      <td>NaN</td>\n",
       "    </tr>\n",
       "    <tr>\n",
       "      <th>4</th>\n",
       "      <td>142834</td>\n",
       "      <td>Q322179</td>\n",
       "      <td>Wallace Beery</td>\n",
       "      <td>male</td>\n",
       "      <td>English</td>\n",
       "      <td>United States of America</td>\n",
       "      <td>NaN</td>\n",
       "    </tr>\n",
       "    <tr>\n",
       "      <th>...</th>\n",
       "      <td>...</td>\n",
       "      <td>...</td>\n",
       "      <td>...</td>\n",
       "      <td>...</td>\n",
       "      <td>...</td>\n",
       "      <td>...</td>\n",
       "      <td>...</td>\n",
       "    </tr>\n",
       "    <tr>\n",
       "      <th>312</th>\n",
       "      <td>3762237</td>\n",
       "      <td>Q220901</td>\n",
       "      <td>Laura Dern</td>\n",
       "      <td>female</td>\n",
       "      <td>American English</td>\n",
       "      <td>United States of America</td>\n",
       "      <td>NaN</td>\n",
       "    </tr>\n",
       "    <tr>\n",
       "      <th>313</th>\n",
       "      <td>26143279</td>\n",
       "      <td>Q491013</td>\n",
       "      <td>Youn Yuh-jung</td>\n",
       "      <td>female</td>\n",
       "      <td>Korean</td>\n",
       "      <td>South Korea</td>\n",
       "      <td>NaN</td>\n",
       "    </tr>\n",
       "    <tr>\n",
       "      <th>314</th>\n",
       "      <td>51868604</td>\n",
       "      <td>Q27733932</td>\n",
       "      <td>Ariana DeBose</td>\n",
       "      <td>female</td>\n",
       "      <td>English</td>\n",
       "      <td>United States of America</td>\n",
       "      <td>NaN</td>\n",
       "    </tr>\n",
       "    <tr>\n",
       "      <th>315</th>\n",
       "      <td>68378</td>\n",
       "      <td>Q106997</td>\n",
       "      <td>Jamie Lee Curtis</td>\n",
       "      <td>female</td>\n",
       "      <td>English</td>\n",
       "      <td>United States of America</td>\n",
       "      <td>NaN</td>\n",
       "    </tr>\n",
       "    <tr>\n",
       "      <th>316</th>\n",
       "      <td>35719670</td>\n",
       "      <td>Q5243751</td>\n",
       "      <td>Da'Vine Joy Randolph</td>\n",
       "      <td>female</td>\n",
       "      <td>NaN</td>\n",
       "      <td>United States of America</td>\n",
       "      <td>NaN</td>\n",
       "    </tr>\n",
       "  </tbody>\n",
       "</table>\n",
       "<p>317 rows × 7 columns</p>\n",
       "</div>"
      ],
      "text/plain": [
       "      page_id wikidata_id                 actor sexLabel nativeLanguageLabel  \\\n",
       "0      106405      Q77181         Emil Jannings     male                 NaN   \n",
       "1      142784     Q312073         Warner Baxter     male             English   \n",
       "2     7605117     Q182229         George Arliss     male                 NaN   \n",
       "3       67022     Q295593      Lionel Barrymore     male             English   \n",
       "4      142834     Q322179         Wallace Beery     male             English   \n",
       "..        ...         ...                   ...      ...                 ...   \n",
       "312   3762237     Q220901            Laura Dern   female    American English   \n",
       "313  26143279     Q491013         Youn Yuh-jung   female              Korean   \n",
       "314  51868604   Q27733932         Ariana DeBose   female             English   \n",
       "315     68378     Q106997      Jamie Lee Curtis   female             English   \n",
       "316  35719670    Q5243751  Da'Vine Joy Randolph   female                 NaN   \n",
       "\n",
       "    countryOfCitizenshipLabel ethnicGroupLabel  \n",
       "0                     Germany              NaN  \n",
       "1    United States of America              NaN  \n",
       "2              United Kingdom              NaN  \n",
       "3    United States of America              NaN  \n",
       "4    United States of America              NaN  \n",
       "..                        ...              ...  \n",
       "312  United States of America              NaN  \n",
       "313               South Korea              NaN  \n",
       "314  United States of America              NaN  \n",
       "315  United States of America              NaN  \n",
       "316  United States of America              NaN  \n",
       "\n",
       "[317 rows x 7 columns]"
      ]
     },
     "execution_count": 24,
     "metadata": {},
     "output_type": "execute_result"
    }
   ],
   "source": [
    "winning_actors_info"
   ]
  },
  {
   "cell_type": "code",
   "execution_count": 25,
   "metadata": {},
   "outputs": [
    {
     "data": {
      "text/html": [
       "<div>\n",
       "<style scoped>\n",
       "    .dataframe tbody tr th:only-of-type {\n",
       "        vertical-align: middle;\n",
       "    }\n",
       "\n",
       "    .dataframe tbody tr th {\n",
       "        vertical-align: top;\n",
       "    }\n",
       "\n",
       "    .dataframe thead th {\n",
       "        text-align: right;\n",
       "    }\n",
       "</style>\n",
       "<table border=\"1\" class=\"dataframe\">\n",
       "  <thead>\n",
       "    <tr style=\"text-align: right;\">\n",
       "      <th></th>\n",
       "      <th>Wikipedia movie ID</th>\n",
       "      <th>Freebase movie ID</th>\n",
       "      <th>Movie release date</th>\n",
       "      <th>Character name</th>\n",
       "      <th>Actor date of birth</th>\n",
       "      <th>Actor gender</th>\n",
       "      <th>Actor height)</th>\n",
       "      <th>Actor ethnicity</th>\n",
       "      <th>Actor name</th>\n",
       "      <th>Actor age at movie release</th>\n",
       "      <th>Freebase character</th>\n",
       "      <th>Freebase character ID</th>\n",
       "      <th>Freebase actor ID</th>\n",
       "    </tr>\n",
       "  </thead>\n",
       "  <tbody>\n",
       "    <tr>\n",
       "      <th>0</th>\n",
       "      <td>975900</td>\n",
       "      <td>/m/03vyhn</td>\n",
       "      <td>2001.0</td>\n",
       "      <td>Akooshay</td>\n",
       "      <td>1958.0</td>\n",
       "      <td>F</td>\n",
       "      <td>1.620</td>\n",
       "      <td>NaN</td>\n",
       "      <td>Wanda De Jesus</td>\n",
       "      <td>42.0</td>\n",
       "      <td>/m/0bgchxw</td>\n",
       "      <td>/m/0bgcj3x</td>\n",
       "      <td>/m/03wcfv7</td>\n",
       "    </tr>\n",
       "    <tr>\n",
       "      <th>1</th>\n",
       "      <td>975900</td>\n",
       "      <td>/m/03vyhn</td>\n",
       "      <td>2001.0</td>\n",
       "      <td>Lieutenant Melanie Ballard</td>\n",
       "      <td>1974.0</td>\n",
       "      <td>F</td>\n",
       "      <td>1.780</td>\n",
       "      <td>NaN</td>\n",
       "      <td>Natasha Henstridge</td>\n",
       "      <td>27.0</td>\n",
       "      <td>/m/0jys3m</td>\n",
       "      <td>/m/0bgchn4</td>\n",
       "      <td>/m/0346l4</td>\n",
       "    </tr>\n",
       "    <tr>\n",
       "      <th>2</th>\n",
       "      <td>975900</td>\n",
       "      <td>/m/03vyhn</td>\n",
       "      <td>2001.0</td>\n",
       "      <td>Desolation Williams</td>\n",
       "      <td>1969.0</td>\n",
       "      <td>M</td>\n",
       "      <td>1.727</td>\n",
       "      <td>African Americans</td>\n",
       "      <td>Ice Cube</td>\n",
       "      <td>32.0</td>\n",
       "      <td>/m/0jys3g</td>\n",
       "      <td>/m/0bgchn_</td>\n",
       "      <td>/m/01vw26l</td>\n",
       "    </tr>\n",
       "    <tr>\n",
       "      <th>3</th>\n",
       "      <td>975900</td>\n",
       "      <td>/m/03vyhn</td>\n",
       "      <td>2001.0</td>\n",
       "      <td>Sgt Jericho Butler</td>\n",
       "      <td>1967.0</td>\n",
       "      <td>M</td>\n",
       "      <td>1.750</td>\n",
       "      <td>NaN</td>\n",
       "      <td>Jason Statham</td>\n",
       "      <td>33.0</td>\n",
       "      <td>/m/02vchl6</td>\n",
       "      <td>/m/0bgchnq</td>\n",
       "      <td>/m/034hyc</td>\n",
       "    </tr>\n",
       "    <tr>\n",
       "      <th>4</th>\n",
       "      <td>975900</td>\n",
       "      <td>/m/03vyhn</td>\n",
       "      <td>2001.0</td>\n",
       "      <td>Bashira Kincaid</td>\n",
       "      <td>1977.0</td>\n",
       "      <td>F</td>\n",
       "      <td>1.650</td>\n",
       "      <td>NaN</td>\n",
       "      <td>Clea DuVall</td>\n",
       "      <td>23.0</td>\n",
       "      <td>/m/02vbb3r</td>\n",
       "      <td>/m/0bgchp9</td>\n",
       "      <td>/m/01y9xg</td>\n",
       "    </tr>\n",
       "    <tr>\n",
       "      <th>...</th>\n",
       "      <td>...</td>\n",
       "      <td>...</td>\n",
       "      <td>...</td>\n",
       "      <td>...</td>\n",
       "      <td>...</td>\n",
       "      <td>...</td>\n",
       "      <td>...</td>\n",
       "      <td>...</td>\n",
       "      <td>...</td>\n",
       "      <td>...</td>\n",
       "      <td>...</td>\n",
       "      <td>...</td>\n",
       "      <td>...</td>\n",
       "    </tr>\n",
       "    <tr>\n",
       "      <th>450664</th>\n",
       "      <td>913762</td>\n",
       "      <td>/m/03pcrp</td>\n",
       "      <td>1992.0</td>\n",
       "      <td>Elensh</td>\n",
       "      <td>NaN</td>\n",
       "      <td>F</td>\n",
       "      <td>NaN</td>\n",
       "      <td>NaN</td>\n",
       "      <td>Dorothy Elias-Fahn</td>\n",
       "      <td>NaN</td>\n",
       "      <td>/m/0kr406c</td>\n",
       "      <td>/m/0kr406h</td>\n",
       "      <td>/m/0b_vcv</td>\n",
       "    </tr>\n",
       "    <tr>\n",
       "      <th>450665</th>\n",
       "      <td>913762</td>\n",
       "      <td>/m/03pcrp</td>\n",
       "      <td>1992.0</td>\n",
       "      <td>Hibiki</td>\n",
       "      <td>1965.0</td>\n",
       "      <td>M</td>\n",
       "      <td>NaN</td>\n",
       "      <td>NaN</td>\n",
       "      <td>Jonathan Fahn</td>\n",
       "      <td>27.0</td>\n",
       "      <td>/m/0kr405_</td>\n",
       "      <td>/m/0kr4090</td>\n",
       "      <td>/m/0bx7_j</td>\n",
       "    </tr>\n",
       "    <tr>\n",
       "      <th>450666</th>\n",
       "      <td>28308153</td>\n",
       "      <td>/m/0cp05t9</td>\n",
       "      <td>NaN</td>\n",
       "      <td>NaN</td>\n",
       "      <td>1941.0</td>\n",
       "      <td>M</td>\n",
       "      <td>1.730</td>\n",
       "      <td>English people</td>\n",
       "      <td>David Hemmings</td>\n",
       "      <td>15.0</td>\n",
       "      <td>/m/0g8ngmc</td>\n",
       "      <td>NaN</td>\n",
       "      <td>/m/022g44</td>\n",
       "    </tr>\n",
       "    <tr>\n",
       "      <th>450667</th>\n",
       "      <td>28308153</td>\n",
       "      <td>/m/0cp05t9</td>\n",
       "      <td>NaN</td>\n",
       "      <td>NaN</td>\n",
       "      <td>NaN</td>\n",
       "      <td>NaN</td>\n",
       "      <td>NaN</td>\n",
       "      <td>NaN</td>\n",
       "      <td>Roberta Paterson</td>\n",
       "      <td>NaN</td>\n",
       "      <td>/m/0g8ngmj</td>\n",
       "      <td>NaN</td>\n",
       "      <td>/m/0g8ngmm</td>\n",
       "    </tr>\n",
       "    <tr>\n",
       "      <th>450668</th>\n",
       "      <td>28308153</td>\n",
       "      <td>/m/0cp05t9</td>\n",
       "      <td>NaN</td>\n",
       "      <td>NaN</td>\n",
       "      <td>NaN</td>\n",
       "      <td>NaN</td>\n",
       "      <td>NaN</td>\n",
       "      <td>NaN</td>\n",
       "      <td>John Rogers</td>\n",
       "      <td>NaN</td>\n",
       "      <td>/m/0g8ngmw</td>\n",
       "      <td>NaN</td>\n",
       "      <td>/m/0btz19d</td>\n",
       "    </tr>\n",
       "  </tbody>\n",
       "</table>\n",
       "<p>450669 rows × 13 columns</p>\n",
       "</div>"
      ],
      "text/plain": [
       "        Wikipedia movie ID Freebase movie ID  Movie release date  \\\n",
       "0                   975900         /m/03vyhn              2001.0   \n",
       "1                   975900         /m/03vyhn              2001.0   \n",
       "2                   975900         /m/03vyhn              2001.0   \n",
       "3                   975900         /m/03vyhn              2001.0   \n",
       "4                   975900         /m/03vyhn              2001.0   \n",
       "...                    ...               ...                 ...   \n",
       "450664              913762         /m/03pcrp              1992.0   \n",
       "450665              913762         /m/03pcrp              1992.0   \n",
       "450666            28308153        /m/0cp05t9                 NaN   \n",
       "450667            28308153        /m/0cp05t9                 NaN   \n",
       "450668            28308153        /m/0cp05t9                 NaN   \n",
       "\n",
       "                    Character name  Actor date of birth  Actor gender  \\\n",
       "0                         Akooshay               1958.0             F   \n",
       "1       Lieutenant Melanie Ballard               1974.0             F   \n",
       "2              Desolation Williams               1969.0             M   \n",
       "3               Sgt Jericho Butler               1967.0             M   \n",
       "4                  Bashira Kincaid               1977.0             F   \n",
       "...                            ...                  ...           ...   \n",
       "450664                      Elensh                  NaN             F   \n",
       "450665                      Hibiki               1965.0             M   \n",
       "450666                         NaN               1941.0             M   \n",
       "450667                         NaN                  NaN           NaN   \n",
       "450668                         NaN                  NaN           NaN   \n",
       "\n",
       "        Actor height)    Actor ethnicity          Actor name  \\\n",
       "0               1.620                NaN      Wanda De Jesus   \n",
       "1               1.780                NaN  Natasha Henstridge   \n",
       "2               1.727  African Americans            Ice Cube   \n",
       "3               1.750                NaN       Jason Statham   \n",
       "4               1.650                NaN         Clea DuVall   \n",
       "...               ...                ...                 ...   \n",
       "450664            NaN                NaN  Dorothy Elias-Fahn   \n",
       "450665            NaN                NaN       Jonathan Fahn   \n",
       "450666          1.730     English people      David Hemmings   \n",
       "450667            NaN                NaN    Roberta Paterson   \n",
       "450668            NaN                NaN         John Rogers   \n",
       "\n",
       "        Actor age at movie release Freebase character Freebase character ID  \\\n",
       "0                             42.0         /m/0bgchxw            /m/0bgcj3x   \n",
       "1                             27.0          /m/0jys3m            /m/0bgchn4   \n",
       "2                             32.0          /m/0jys3g            /m/0bgchn_   \n",
       "3                             33.0         /m/02vchl6            /m/0bgchnq   \n",
       "4                             23.0         /m/02vbb3r            /m/0bgchp9   \n",
       "...                            ...                ...                   ...   \n",
       "450664                         NaN         /m/0kr406c            /m/0kr406h   \n",
       "450665                        27.0         /m/0kr405_            /m/0kr4090   \n",
       "450666                        15.0         /m/0g8ngmc                   NaN   \n",
       "450667                         NaN         /m/0g8ngmj                   NaN   \n",
       "450668                         NaN         /m/0g8ngmw                   NaN   \n",
       "\n",
       "       Freebase actor ID  \n",
       "0             /m/03wcfv7  \n",
       "1              /m/0346l4  \n",
       "2             /m/01vw26l  \n",
       "3              /m/034hyc  \n",
       "4              /m/01y9xg  \n",
       "...                  ...  \n",
       "450664         /m/0b_vcv  \n",
       "450665         /m/0bx7_j  \n",
       "450666         /m/022g44  \n",
       "450667        /m/0g8ngmm  \n",
       "450668        /m/0btz19d  \n",
       "\n",
       "[450669 rows x 13 columns]"
      ]
     },
     "execution_count": 25,
     "metadata": {},
     "output_type": "execute_result"
    }
   ],
   "source": [
    "character"
   ]
  },
  {
   "cell_type": "code",
   "execution_count": 26,
   "metadata": {},
   "outputs": [
    {
     "data": {
      "text/html": [
       "<div>\n",
       "<style scoped>\n",
       "    .dataframe tbody tr th:only-of-type {\n",
       "        vertical-align: middle;\n",
       "    }\n",
       "\n",
       "    .dataframe tbody tr th {\n",
       "        vertical-align: top;\n",
       "    }\n",
       "\n",
       "    .dataframe thead th {\n",
       "        text-align: right;\n",
       "    }\n",
       "</style>\n",
       "<table border=\"1\" class=\"dataframe\">\n",
       "  <thead>\n",
       "    <tr style=\"text-align: right;\">\n",
       "      <th></th>\n",
       "      <th>page_id</th>\n",
       "      <th>wikidata_id</th>\n",
       "      <th>actor</th>\n",
       "      <th>sexLabel</th>\n",
       "      <th>nativeLanguageLabel</th>\n",
       "      <th>countryOfCitizenshipLabel</th>\n",
       "      <th>ethnicGroupLabel</th>\n",
       "    </tr>\n",
       "  </thead>\n",
       "  <tbody>\n",
       "    <tr>\n",
       "      <th>0</th>\n",
       "      <td>106405</td>\n",
       "      <td>Q77181</td>\n",
       "      <td>Emil Jannings</td>\n",
       "      <td>male</td>\n",
       "      <td>NaN</td>\n",
       "      <td>Germany</td>\n",
       "      <td>NaN</td>\n",
       "    </tr>\n",
       "    <tr>\n",
       "      <th>1</th>\n",
       "      <td>142784</td>\n",
       "      <td>Q312073</td>\n",
       "      <td>Warner Baxter</td>\n",
       "      <td>male</td>\n",
       "      <td>English</td>\n",
       "      <td>United States of America</td>\n",
       "      <td>NaN</td>\n",
       "    </tr>\n",
       "    <tr>\n",
       "      <th>2</th>\n",
       "      <td>7605117</td>\n",
       "      <td>Q182229</td>\n",
       "      <td>George Arliss</td>\n",
       "      <td>male</td>\n",
       "      <td>NaN</td>\n",
       "      <td>United Kingdom</td>\n",
       "      <td>NaN</td>\n",
       "    </tr>\n",
       "    <tr>\n",
       "      <th>3</th>\n",
       "      <td>67022</td>\n",
       "      <td>Q295593</td>\n",
       "      <td>Lionel Barrymore</td>\n",
       "      <td>male</td>\n",
       "      <td>English</td>\n",
       "      <td>United States of America</td>\n",
       "      <td>NaN</td>\n",
       "    </tr>\n",
       "    <tr>\n",
       "      <th>4</th>\n",
       "      <td>142834</td>\n",
       "      <td>Q322179</td>\n",
       "      <td>Wallace Beery</td>\n",
       "      <td>male</td>\n",
       "      <td>English</td>\n",
       "      <td>United States of America</td>\n",
       "      <td>NaN</td>\n",
       "    </tr>\n",
       "    <tr>\n",
       "      <th>...</th>\n",
       "      <td>...</td>\n",
       "      <td>...</td>\n",
       "      <td>...</td>\n",
       "      <td>...</td>\n",
       "      <td>...</td>\n",
       "      <td>...</td>\n",
       "      <td>...</td>\n",
       "    </tr>\n",
       "    <tr>\n",
       "      <th>312</th>\n",
       "      <td>3762237</td>\n",
       "      <td>Q220901</td>\n",
       "      <td>Laura Dern</td>\n",
       "      <td>female</td>\n",
       "      <td>American English</td>\n",
       "      <td>United States of America</td>\n",
       "      <td>NaN</td>\n",
       "    </tr>\n",
       "    <tr>\n",
       "      <th>313</th>\n",
       "      <td>26143279</td>\n",
       "      <td>Q491013</td>\n",
       "      <td>Youn Yuh-jung</td>\n",
       "      <td>female</td>\n",
       "      <td>Korean</td>\n",
       "      <td>South Korea</td>\n",
       "      <td>NaN</td>\n",
       "    </tr>\n",
       "    <tr>\n",
       "      <th>314</th>\n",
       "      <td>51868604</td>\n",
       "      <td>Q27733932</td>\n",
       "      <td>Ariana DeBose</td>\n",
       "      <td>female</td>\n",
       "      <td>English</td>\n",
       "      <td>United States of America</td>\n",
       "      <td>NaN</td>\n",
       "    </tr>\n",
       "    <tr>\n",
       "      <th>315</th>\n",
       "      <td>68378</td>\n",
       "      <td>Q106997</td>\n",
       "      <td>Jamie Lee Curtis</td>\n",
       "      <td>female</td>\n",
       "      <td>English</td>\n",
       "      <td>United States of America</td>\n",
       "      <td>NaN</td>\n",
       "    </tr>\n",
       "    <tr>\n",
       "      <th>316</th>\n",
       "      <td>35719670</td>\n",
       "      <td>Q5243751</td>\n",
       "      <td>Da'Vine Joy Randolph</td>\n",
       "      <td>female</td>\n",
       "      <td>NaN</td>\n",
       "      <td>United States of America</td>\n",
       "      <td>NaN</td>\n",
       "    </tr>\n",
       "  </tbody>\n",
       "</table>\n",
       "<p>317 rows × 7 columns</p>\n",
       "</div>"
      ],
      "text/plain": [
       "      page_id wikidata_id                 actor sexLabel nativeLanguageLabel  \\\n",
       "0      106405      Q77181         Emil Jannings     male                 NaN   \n",
       "1      142784     Q312073         Warner Baxter     male             English   \n",
       "2     7605117     Q182229         George Arliss     male                 NaN   \n",
       "3       67022     Q295593      Lionel Barrymore     male             English   \n",
       "4      142834     Q322179         Wallace Beery     male             English   \n",
       "..        ...         ...                   ...      ...                 ...   \n",
       "312   3762237     Q220901            Laura Dern   female    American English   \n",
       "313  26143279     Q491013         Youn Yuh-jung   female              Korean   \n",
       "314  51868604   Q27733932         Ariana DeBose   female             English   \n",
       "315     68378     Q106997      Jamie Lee Curtis   female             English   \n",
       "316  35719670    Q5243751  Da'Vine Joy Randolph   female                 NaN   \n",
       "\n",
       "    countryOfCitizenshipLabel ethnicGroupLabel  \n",
       "0                     Germany              NaN  \n",
       "1    United States of America              NaN  \n",
       "2              United Kingdom              NaN  \n",
       "3    United States of America              NaN  \n",
       "4    United States of America              NaN  \n",
       "..                        ...              ...  \n",
       "312  United States of America              NaN  \n",
       "313               South Korea              NaN  \n",
       "314  United States of America              NaN  \n",
       "315  United States of America              NaN  \n",
       "316  United States of America              NaN  \n",
       "\n",
       "[317 rows x 7 columns]"
      ]
     },
     "execution_count": 26,
     "metadata": {},
     "output_type": "execute_result"
    }
   ],
   "source": [
    "winning_actors_info"
   ]
  },
  {
   "cell_type": "code",
   "execution_count": 27,
   "metadata": {},
   "outputs": [],
   "source": [
    "#winning_actors_info[\"Wikipedia movie ID\"] = winning_actors_info[\"wikidata_id\"]\n",
    "#winning_actors_info = winning_actors_info.drop(columns=[\"wikidata_id\"])\n",
    "winning_actors_info[\"Actor name\"] = winning_actors_info[\"actor\"]\n",
    "winning_actors_info = winning_actors_info.drop(columns=[\"actor\"])\n",
    "\n",
    "#winning_actors_info = pd.merge(winning_actors_info, character, on='Actor name')"
   ]
  },
  {
   "cell_type": "code",
   "execution_count": 28,
   "metadata": {},
   "outputs": [],
   "source": [
    "#winning_actors_info.head(25)"
   ]
  },
  {
   "cell_type": "code",
   "execution_count": 29,
   "metadata": {},
   "outputs": [
    {
     "data": {
      "text/html": [
       "<div>\n",
       "<style scoped>\n",
       "    .dataframe tbody tr th:only-of-type {\n",
       "        vertical-align: middle;\n",
       "    }\n",
       "\n",
       "    .dataframe tbody tr th {\n",
       "        vertical-align: top;\n",
       "    }\n",
       "\n",
       "    .dataframe thead th {\n",
       "        text-align: right;\n",
       "    }\n",
       "</style>\n",
       "<table border=\"1\" class=\"dataframe\">\n",
       "  <thead>\n",
       "    <tr style=\"text-align: right;\">\n",
       "      <th></th>\n",
       "      <th>wikidata_id</th>\n",
       "      <th>reviewScores</th>\n",
       "      <th>awardsReceived</th>\n",
       "      <th>awardsNominated</th>\n",
       "      <th>capitalCost</th>\n",
       "      <th>Movie genres</th>\n",
       "      <th>Movie release date</th>\n",
       "      <th>Movie languages</th>\n",
       "      <th>Movie countries</th>\n",
       "      <th>Movie name</th>\n",
       "      <th>Movie box office revenue</th>\n",
       "      <th>Movie runtime</th>\n",
       "      <th>Wikipedia movie ID</th>\n",
       "    </tr>\n",
       "  </thead>\n",
       "  <tbody>\n",
       "    <tr>\n",
       "      <th>0</th>\n",
       "      <td>Q21646407</td>\n",
       "      <td>['']</td>\n",
       "      <td>['']</td>\n",
       "      <td>['']</td>\n",
       "      <td>NaN</td>\n",
       "      <td>['drama']</td>\n",
       "      <td>2015-01-01T00:00:00Z</td>\n",
       "      <td>Kannada</td>\n",
       "      <td>India</td>\n",
       "      <td>First Rank Raju</td>\n",
       "      <td>NaN</td>\n",
       "      <td>NaN</td>\n",
       "      <td>48716179</td>\n",
       "    </tr>\n",
       "    <tr>\n",
       "      <th>1</th>\n",
       "      <td>Q20311376</td>\n",
       "      <td>['']</td>\n",
       "      <td>['']</td>\n",
       "      <td>['']</td>\n",
       "      <td>NaN</td>\n",
       "      <td>['musical']</td>\n",
       "      <td>2015-01-01T00:00:00Z</td>\n",
       "      <td>Kannada</td>\n",
       "      <td>India</td>\n",
       "      <td>A 2nd Hand Lover</td>\n",
       "      <td>NaN</td>\n",
       "      <td>NaN</td>\n",
       "      <td>46967307</td>\n",
       "    </tr>\n",
       "    <tr>\n",
       "      <th>2</th>\n",
       "      <td>Q24521064</td>\n",
       "      <td>['100%', '7.7/10']</td>\n",
       "      <td>['Sundance Special Jury Prize Documentary']</td>\n",
       "      <td>['']</td>\n",
       "      <td>NaN</td>\n",
       "      <td>['documentary', 'crime']</td>\n",
       "      <td>2015-01-24T00:00:00Z</td>\n",
       "      <td>English</td>\n",
       "      <td>United States of America</td>\n",
       "      <td>3 1/2 Minutes, 10 Bullets</td>\n",
       "      <td>NaN</td>\n",
       "      <td>98</td>\n",
       "      <td>48837152</td>\n",
       "    </tr>\n",
       "    <tr>\n",
       "      <th>3</th>\n",
       "      <td>Q18701869</td>\n",
       "      <td>['']</td>\n",
       "      <td>['']</td>\n",
       "      <td>['']</td>\n",
       "      <td>NaN</td>\n",
       "      <td>['adventure', \"children's\"]</td>\n",
       "      <td>2015-01-01T00:00:00Z</td>\n",
       "      <td>Urdu</td>\n",
       "      <td>Pakistan</td>\n",
       "      <td>3 Bahadur</td>\n",
       "      <td>NaN</td>\n",
       "      <td>94</td>\n",
       "      <td>44838624</td>\n",
       "    </tr>\n",
       "    <tr>\n",
       "      <th>4</th>\n",
       "      <td>Q20770561</td>\n",
       "      <td>['31%', '5/10']</td>\n",
       "      <td>['']</td>\n",
       "      <td>['']</td>\n",
       "      <td>NaN</td>\n",
       "      <td>['drama', 'LGBT-related', 'comedy']</td>\n",
       "      <td>2015-09-18T00:00:00Z</td>\n",
       "      <td>English, Spanish</td>\n",
       "      <td>United States of America</td>\n",
       "      <td>3 Generations</td>\n",
       "      <td>NaN</td>\n",
       "      <td>87</td>\n",
       "      <td>46896101</td>\n",
       "    </tr>\n",
       "    <tr>\n",
       "      <th>...</th>\n",
       "      <td>...</td>\n",
       "      <td>...</td>\n",
       "      <td>...</td>\n",
       "      <td>...</td>\n",
       "      <td>...</td>\n",
       "      <td>...</td>\n",
       "      <td>...</td>\n",
       "      <td>...</td>\n",
       "      <td>...</td>\n",
       "      <td>...</td>\n",
       "      <td>...</td>\n",
       "      <td>...</td>\n",
       "      <td>...</td>\n",
       "    </tr>\n",
       "    <tr>\n",
       "      <th>27002</th>\n",
       "      <td>Q129815195</td>\n",
       "      <td>NaN</td>\n",
       "      <td>NaN</td>\n",
       "      <td>NaN</td>\n",
       "      <td>NaN</td>\n",
       "      <td>NaN</td>\n",
       "      <td>NaN</td>\n",
       "      <td>NaN</td>\n",
       "      <td>NaN</td>\n",
       "      <td>Yudhra</td>\n",
       "      <td>NaN</td>\n",
       "      <td>NaN</td>\n",
       "      <td>77719767</td>\n",
       "    </tr>\n",
       "    <tr>\n",
       "      <th>27003</th>\n",
       "      <td>Q124694939</td>\n",
       "      <td>NaN</td>\n",
       "      <td>NaN</td>\n",
       "      <td>NaN</td>\n",
       "      <td>NaN</td>\n",
       "      <td>NaN</td>\n",
       "      <td>NaN</td>\n",
       "      <td>NaN</td>\n",
       "      <td>NaN</td>\n",
       "      <td>Yumi's Cells: The Movie</td>\n",
       "      <td>NaN</td>\n",
       "      <td>NaN</td>\n",
       "      <td>76212902</td>\n",
       "    </tr>\n",
       "    <tr>\n",
       "      <th>27004</th>\n",
       "      <td>Q122194265</td>\n",
       "      <td>['']</td>\n",
       "      <td>['']</td>\n",
       "      <td>['']</td>\n",
       "      <td>NaN</td>\n",
       "      <td>['']</td>\n",
       "      <td>2023-12-22T00:00:00Z</td>\n",
       "      <td>NaN</td>\n",
       "      <td>India</td>\n",
       "      <td>Yuva</td>\n",
       "      <td>NaN</td>\n",
       "      <td>NaN</td>\n",
       "      <td>74732328</td>\n",
       "    </tr>\n",
       "    <tr>\n",
       "      <th>27005</th>\n",
       "      <td>Q130014181</td>\n",
       "      <td>NaN</td>\n",
       "      <td>NaN</td>\n",
       "      <td>NaN</td>\n",
       "      <td>NaN</td>\n",
       "      <td>NaN</td>\n",
       "      <td>NaN</td>\n",
       "      <td>NaN</td>\n",
       "      <td>NaN</td>\n",
       "      <td>Z-Mom</td>\n",
       "      <td>NaN</td>\n",
       "      <td>NaN</td>\n",
       "      <td>77736917</td>\n",
       "    </tr>\n",
       "    <tr>\n",
       "      <th>27006</th>\n",
       "      <td>Q130375724</td>\n",
       "      <td>NaN</td>\n",
       "      <td>NaN</td>\n",
       "      <td>NaN</td>\n",
       "      <td>NaN</td>\n",
       "      <td>NaN</td>\n",
       "      <td>NaN</td>\n",
       "      <td>NaN</td>\n",
       "      <td>NaN</td>\n",
       "      <td>Zebra (film)</td>\n",
       "      <td>NaN</td>\n",
       "      <td>NaN</td>\n",
       "      <td>77981763</td>\n",
       "    </tr>\n",
       "  </tbody>\n",
       "</table>\n",
       "<p>27007 rows × 13 columns</p>\n",
       "</div>"
      ],
      "text/plain": [
       "      wikidata_id        reviewScores  \\\n",
       "0       Q21646407                ['']   \n",
       "1       Q20311376                ['']   \n",
       "2       Q24521064  ['100%', '7.7/10']   \n",
       "3       Q18701869                ['']   \n",
       "4       Q20770561     ['31%', '5/10']   \n",
       "...           ...                 ...   \n",
       "27002  Q129815195                 NaN   \n",
       "27003  Q124694939                 NaN   \n",
       "27004  Q122194265                ['']   \n",
       "27005  Q130014181                 NaN   \n",
       "27006  Q130375724                 NaN   \n",
       "\n",
       "                                    awardsReceived awardsNominated  \\\n",
       "0                                             ['']            ['']   \n",
       "1                                             ['']            ['']   \n",
       "2      ['Sundance Special Jury Prize Documentary']            ['']   \n",
       "3                                             ['']            ['']   \n",
       "4                                             ['']            ['']   \n",
       "...                                            ...             ...   \n",
       "27002                                          NaN             NaN   \n",
       "27003                                          NaN             NaN   \n",
       "27004                                         ['']            ['']   \n",
       "27005                                          NaN             NaN   \n",
       "27006                                          NaN             NaN   \n",
       "\n",
       "       capitalCost                         Movie genres    Movie release date  \\\n",
       "0              NaN                            ['drama']  2015-01-01T00:00:00Z   \n",
       "1              NaN                          ['musical']  2015-01-01T00:00:00Z   \n",
       "2              NaN             ['documentary', 'crime']  2015-01-24T00:00:00Z   \n",
       "3              NaN          ['adventure', \"children's\"]  2015-01-01T00:00:00Z   \n",
       "4              NaN  ['drama', 'LGBT-related', 'comedy']  2015-09-18T00:00:00Z   \n",
       "...            ...                                  ...                   ...   \n",
       "27002          NaN                                  NaN                   NaN   \n",
       "27003          NaN                                  NaN                   NaN   \n",
       "27004          NaN                                 ['']  2023-12-22T00:00:00Z   \n",
       "27005          NaN                                  NaN                   NaN   \n",
       "27006          NaN                                  NaN                   NaN   \n",
       "\n",
       "        Movie languages           Movie countries                 Movie name  \\\n",
       "0               Kannada                     India            First Rank Raju   \n",
       "1               Kannada                     India           A 2nd Hand Lover   \n",
       "2               English  United States of America  3 1/2 Minutes, 10 Bullets   \n",
       "3                  Urdu                  Pakistan                  3 Bahadur   \n",
       "4      English, Spanish  United States of America              3 Generations   \n",
       "...                 ...                       ...                        ...   \n",
       "27002               NaN                       NaN                     Yudhra   \n",
       "27003               NaN                       NaN    Yumi's Cells: The Movie   \n",
       "27004               NaN                     India                       Yuva   \n",
       "27005               NaN                       NaN                      Z-Mom   \n",
       "27006               NaN                       NaN               Zebra (film)   \n",
       "\n",
       "       Movie box office revenue Movie runtime  Wikipedia movie ID  \n",
       "0                           NaN           NaN            48716179  \n",
       "1                           NaN           NaN            46967307  \n",
       "2                           NaN            98            48837152  \n",
       "3                           NaN            94            44838624  \n",
       "4                           NaN            87            46896101  \n",
       "...                         ...           ...                 ...  \n",
       "27002                       NaN           NaN            77719767  \n",
       "27003                       NaN           NaN            76212902  \n",
       "27004                       NaN           NaN            74732328  \n",
       "27005                       NaN           NaN            77736917  \n",
       "27006                       NaN           NaN            77981763  \n",
       "\n",
       "[27007 rows x 13 columns]"
      ]
     },
     "execution_count": 29,
     "metadata": {},
     "output_type": "execute_result"
    }
   ],
   "source": [
    "extended_films"
   ]
  },
  {
   "cell_type": "code",
   "execution_count": 30,
   "metadata": {},
   "outputs": [
    {
     "data": {
      "text/html": [
       "<div>\n",
       "<style scoped>\n",
       "    .dataframe tbody tr th:only-of-type {\n",
       "        vertical-align: middle;\n",
       "    }\n",
       "\n",
       "    .dataframe tbody tr th {\n",
       "        vertical-align: top;\n",
       "    }\n",
       "\n",
       "    .dataframe thead th {\n",
       "        text-align: right;\n",
       "    }\n",
       "</style>\n",
       "<table border=\"1\" class=\"dataframe\">\n",
       "  <thead>\n",
       "    <tr style=\"text-align: right;\">\n",
       "      <th></th>\n",
       "      <th>Wikipedia movie ID</th>\n",
       "      <th>Freebase movie ID</th>\n",
       "      <th>Movie name</th>\n",
       "      <th>Movie release date</th>\n",
       "      <th>Movie box office revenue</th>\n",
       "      <th>Movie runtime</th>\n",
       "      <th>Movie languages</th>\n",
       "      <th>Movie countries</th>\n",
       "      <th>Movie genres</th>\n",
       "      <th>Actors id</th>\n",
       "    </tr>\n",
       "  </thead>\n",
       "  <tbody>\n",
       "    <tr>\n",
       "      <th>0</th>\n",
       "      <td>4836072</td>\n",
       "      <td>/m/0cq7kw</td>\n",
       "      <td>My Fair Lady</td>\n",
       "      <td>1964.0</td>\n",
       "      <td>72000000.0</td>\n",
       "      <td>172.0</td>\n",
       "      <td>English Language</td>\n",
       "      <td>United States of America</td>\n",
       "      <td>Costume drama, Roadshow theatrical release, Mu...</td>\n",
       "      <td>99019</td>\n",
       "    </tr>\n",
       "    <tr>\n",
       "      <th>1</th>\n",
       "      <td>163462</td>\n",
       "      <td>/m/015qtl</td>\n",
       "      <td>Harry and Tonto</td>\n",
       "      <td>1974.0</td>\n",
       "      <td>NaN</td>\n",
       "      <td>115.0</td>\n",
       "      <td>English Language</td>\n",
       "      <td>United States of America</td>\n",
       "      <td>Road movie, Americana, Comedy-drama, Drama, Co...</td>\n",
       "      <td>163461</td>\n",
       "    </tr>\n",
       "    <tr>\n",
       "      <th>2</th>\n",
       "      <td>142443</td>\n",
       "      <td>/m/011yl_</td>\n",
       "      <td>Shine</td>\n",
       "      <td>1996.0</td>\n",
       "      <td>35892330.0</td>\n",
       "      <td>105.0</td>\n",
       "      <td>English Language</td>\n",
       "      <td>United States of America</td>\n",
       "      <td>Biography, World cinema, Musical, Drama, Music...</td>\n",
       "      <td>171515</td>\n",
       "    </tr>\n",
       "    <tr>\n",
       "      <th>3</th>\n",
       "      <td>2528212</td>\n",
       "      <td>/m/07l450</td>\n",
       "      <td>The Last King of Scotland</td>\n",
       "      <td>2006.0</td>\n",
       "      <td>48362207.0</td>\n",
       "      <td>121.0</td>\n",
       "      <td>French Language</td>\n",
       "      <td>United Kingdom</td>\n",
       "      <td>Thriller, Docudrama, Period piece, Drama, War ...</td>\n",
       "      <td>634431</td>\n",
       "    </tr>\n",
       "    <tr>\n",
       "      <th>4</th>\n",
       "      <td>1172795</td>\n",
       "      <td>/m/04dc58</td>\n",
       "      <td>The Way of All Flesh</td>\n",
       "      <td>NaN</td>\n",
       "      <td>NaN</td>\n",
       "      <td>94.0</td>\n",
       "      <td>Silent film</td>\n",
       "      <td>United States of America</td>\n",
       "      <td>Silent film, Drama, Indie, Black-and-white</td>\n",
       "      <td>106405</td>\n",
       "    </tr>\n",
       "    <tr>\n",
       "      <th>...</th>\n",
       "      <td>...</td>\n",
       "      <td>...</td>\n",
       "      <td>...</td>\n",
       "      <td>...</td>\n",
       "      <td>...</td>\n",
       "      <td>...</td>\n",
       "      <td>...</td>\n",
       "      <td>...</td>\n",
       "      <td>...</td>\n",
       "      <td>...</td>\n",
       "    </tr>\n",
       "    <tr>\n",
       "      <th>81</th>\n",
       "      <td>54160</td>\n",
       "      <td>/m/0f4vx</td>\n",
       "      <td>Leaving Las Vegas</td>\n",
       "      <td>1995.0</td>\n",
       "      <td>32029928.0</td>\n",
       "      <td>110.0</td>\n",
       "      <td>Russian Language</td>\n",
       "      <td>United States of America</td>\n",
       "      <td>Tragedy, Erotica, World cinema, Addiction Dram...</td>\n",
       "      <td>21111</td>\n",
       "    </tr>\n",
       "    <tr>\n",
       "      <th>82</th>\n",
       "      <td>3213691</td>\n",
       "      <td>/m/08zrbl</td>\n",
       "      <td>There Will Be Blood</td>\n",
       "      <td>2007.0</td>\n",
       "      <td>76181545.0</td>\n",
       "      <td>158.0</td>\n",
       "      <td>English Language</td>\n",
       "      <td>United States of America</td>\n",
       "      <td>Period piece, Family Drama, Drama</td>\n",
       "      <td>171003</td>\n",
       "    </tr>\n",
       "    <tr>\n",
       "      <th>83</th>\n",
       "      <td>99463</td>\n",
       "      <td>/m/0pd64</td>\n",
       "      <td>The French Connection</td>\n",
       "      <td>1971.0</td>\n",
       "      <td>51700000.0</td>\n",
       "      <td>104.0</td>\n",
       "      <td>French Language</td>\n",
       "      <td>United States of America</td>\n",
       "      <td>Thriller, Crime Fiction, Detective fiction, Ch...</td>\n",
       "      <td>12561</td>\n",
       "    </tr>\n",
       "    <tr>\n",
       "      <th>84</th>\n",
       "      <td>1096473</td>\n",
       "      <td>/m/045pct</td>\n",
       "      <td>The Last Command</td>\n",
       "      <td>NaN</td>\n",
       "      <td>NaN</td>\n",
       "      <td>88.0</td>\n",
       "      <td>Silent film</td>\n",
       "      <td>United States of America</td>\n",
       "      <td>Silent film, Indie, Black-and-white, Period pi...</td>\n",
       "      <td>106405</td>\n",
       "    </tr>\n",
       "    <tr>\n",
       "      <th>85</th>\n",
       "      <td>369508</td>\n",
       "      <td>/m/0209hj</td>\n",
       "      <td>Gandhi</td>\n",
       "      <td>1982.0</td>\n",
       "      <td>52767889.0</td>\n",
       "      <td>188.0</td>\n",
       "      <td>Hindi Language</td>\n",
       "      <td>India</td>\n",
       "      <td>British Empire Film, History, Historical ficti...</td>\n",
       "      <td>168480</td>\n",
       "    </tr>\n",
       "  </tbody>\n",
       "</table>\n",
       "<p>86 rows × 10 columns</p>\n",
       "</div>"
      ],
      "text/plain": [
       "    Wikipedia movie ID Freebase movie ID                 Movie name  \\\n",
       "0              4836072         /m/0cq7kw               My Fair Lady   \n",
       "1               163462         /m/015qtl            Harry and Tonto   \n",
       "2               142443         /m/011yl_                      Shine   \n",
       "3              2528212         /m/07l450  The Last King of Scotland   \n",
       "4              1172795         /m/04dc58       The Way of All Flesh   \n",
       "..                 ...               ...                        ...   \n",
       "81               54160          /m/0f4vx          Leaving Las Vegas   \n",
       "82             3213691         /m/08zrbl        There Will Be Blood   \n",
       "83               99463          /m/0pd64      The French Connection   \n",
       "84             1096473         /m/045pct           The Last Command   \n",
       "85              369508         /m/0209hj                     Gandhi   \n",
       "\n",
       "    Movie release date  Movie box office revenue  Movie runtime  \\\n",
       "0               1964.0                72000000.0          172.0   \n",
       "1               1974.0                       NaN          115.0   \n",
       "2               1996.0                35892330.0          105.0   \n",
       "3               2006.0                48362207.0          121.0   \n",
       "4                  NaN                       NaN           94.0   \n",
       "..                 ...                       ...            ...   \n",
       "81              1995.0                32029928.0          110.0   \n",
       "82              2007.0                76181545.0          158.0   \n",
       "83              1971.0                51700000.0          104.0   \n",
       "84                 NaN                       NaN           88.0   \n",
       "85              1982.0                52767889.0          188.0   \n",
       "\n",
       "     Movie languages           Movie countries  \\\n",
       "0   English Language  United States of America   \n",
       "1   English Language  United States of America   \n",
       "2   English Language  United States of America   \n",
       "3    French Language            United Kingdom   \n",
       "4        Silent film  United States of America   \n",
       "..               ...                       ...   \n",
       "81  Russian Language  United States of America   \n",
       "82  English Language  United States of America   \n",
       "83   French Language  United States of America   \n",
       "84       Silent film  United States of America   \n",
       "85    Hindi Language                     India   \n",
       "\n",
       "                                         Movie genres  Actors id  \n",
       "0   Costume drama, Roadshow theatrical release, Mu...      99019  \n",
       "1   Road movie, Americana, Comedy-drama, Drama, Co...     163461  \n",
       "2   Biography, World cinema, Musical, Drama, Music...     171515  \n",
       "3   Thriller, Docudrama, Period piece, Drama, War ...     634431  \n",
       "4          Silent film, Drama, Indie, Black-and-white     106405  \n",
       "..                                                ...        ...  \n",
       "81  Tragedy, Erotica, World cinema, Addiction Dram...      21111  \n",
       "82                  Period piece, Family Drama, Drama     171003  \n",
       "83  Thriller, Crime Fiction, Detective fiction, Ch...      12561  \n",
       "84  Silent film, Indie, Black-and-white, Period pi...     106405  \n",
       "85  British Empire Film, History, Historical ficti...     168480  \n",
       "\n",
       "[86 rows x 10 columns]"
      ]
     },
     "execution_count": 30,
     "metadata": {},
     "output_type": "execute_result"
    }
   ],
   "source": [
    "oscar_actors_movies = movie[movie['Wikipedia movie ID'].isin(oscar_winning_actors['film_id'])]\n",
    "\n",
    "oscar_actors_movies = pd.merge(oscar_actors_movies, oscar_winning_actors, left_on='Wikipedia movie ID', right_on='film_id')\n",
    "oscar_actors_movies = oscar_actors_movies.drop(columns=[\"film_id\"])\n",
    "\n",
    "oscar_actors_extended = extended_films[extended_films['Wikipedia movie ID'].isin(oscar_winning_actors['film_id'])]\n",
    "oscar_actors_extended = pd.merge(oscar_actors_extended, oscar_winning_actors, left_on='Wikipedia movie ID', right_on='film_id')\n",
    "oscar_actors_extended = oscar_actors_extended.drop(columns=[\"film_id\"])\n",
    "\n",
    "oscar_actors_movies"
   ]
  },
  {
   "cell_type": "code",
   "execution_count": 31,
   "metadata": {},
   "outputs": [
    {
     "data": {
      "text/plain": [
       "Index(['Wikipedia movie ID', 'Freebase movie ID', 'Movie release date',\n",
       "       'Character name', 'Actor date of birth', ' Actor gender',\n",
       "       'Actor height)', 'Actor ethnicity', 'Actor name',\n",
       "       'Actor age at movie release', 'Freebase character',\n",
       "       'Freebase character ID', 'Freebase actor ID'],\n",
       "      dtype='object')"
      ]
     },
     "execution_count": 31,
     "metadata": {},
     "output_type": "execute_result"
    }
   ],
   "source": [
    "#oscar_actors_movies = pd.concat([oscar_actors_movies, oscar_actors_extended])\n",
    "winning_actors_info[\"Actors id\"] = winning_actors_info[\"page_id\"]\n",
    "winning_actors_info = winning_actors_info.drop(columns=[\"page_id\"])\n",
    "\n",
    "character.columns"
   ]
  },
  {
   "cell_type": "code",
   "execution_count": 32,
   "metadata": {},
   "outputs": [
    {
     "data": {
      "text/html": [
       "<div>\n",
       "<style scoped>\n",
       "    .dataframe tbody tr th:only-of-type {\n",
       "        vertical-align: middle;\n",
       "    }\n",
       "\n",
       "    .dataframe tbody tr th {\n",
       "        vertical-align: top;\n",
       "    }\n",
       "\n",
       "    .dataframe thead th {\n",
       "        text-align: right;\n",
       "    }\n",
       "</style>\n",
       "<table border=\"1\" class=\"dataframe\">\n",
       "  <thead>\n",
       "    <tr style=\"text-align: right;\">\n",
       "      <th></th>\n",
       "      <th>Wikipedia movie ID</th>\n",
       "      <th>Freebase movie ID</th>\n",
       "      <th>Movie name</th>\n",
       "      <th>Movie release date</th>\n",
       "      <th>Movie box office revenue</th>\n",
       "      <th>Movie runtime</th>\n",
       "      <th>Movie languages</th>\n",
       "      <th>Movie countries</th>\n",
       "      <th>Movie genres</th>\n",
       "      <th>Actors id</th>\n",
       "      <th>wikidata_id</th>\n",
       "      <th>sexLabel</th>\n",
       "      <th>nativeLanguageLabel</th>\n",
       "      <th>countryOfCitizenshipLabel</th>\n",
       "      <th>ethnicGroupLabel</th>\n",
       "      <th>Actor name</th>\n",
       "      <th>Actor age at movie release</th>\n",
       "      <th>Actor date of birth</th>\n",
       "      <th>Actor ethnicity</th>\n",
       "    </tr>\n",
       "  </thead>\n",
       "  <tbody>\n",
       "    <tr>\n",
       "      <th>0</th>\n",
       "      <td>4836072</td>\n",
       "      <td>/m/0cq7kw</td>\n",
       "      <td>My Fair Lady</td>\n",
       "      <td>1964.0</td>\n",
       "      <td>72000000.0</td>\n",
       "      <td>172.0</td>\n",
       "      <td>English Language</td>\n",
       "      <td>United States of America</td>\n",
       "      <td>Costume drama, Roadshow theatrical release, Mu...</td>\n",
       "      <td>99019</td>\n",
       "      <td>Q181887</td>\n",
       "      <td>male</td>\n",
       "      <td>British English</td>\n",
       "      <td>United Kingdom</td>\n",
       "      <td>NaN</td>\n",
       "      <td>Rex Harrison</td>\n",
       "      <td>56.0</td>\n",
       "      <td>1908.0</td>\n",
       "      <td>NaN</td>\n",
       "    </tr>\n",
       "    <tr>\n",
       "      <th>1</th>\n",
       "      <td>163462</td>\n",
       "      <td>/m/015qtl</td>\n",
       "      <td>Harry and Tonto</td>\n",
       "      <td>1974.0</td>\n",
       "      <td>NaN</td>\n",
       "      <td>115.0</td>\n",
       "      <td>English Language</td>\n",
       "      <td>United States of America</td>\n",
       "      <td>Road movie, Americana, Comedy-drama, Drama, Co...</td>\n",
       "      <td>163461</td>\n",
       "      <td>Q182431</td>\n",
       "      <td>male</td>\n",
       "      <td>English</td>\n",
       "      <td>United States of America</td>\n",
       "      <td>NaN</td>\n",
       "      <td>Art Carney</td>\n",
       "      <td>55.0</td>\n",
       "      <td>1918.0</td>\n",
       "      <td>Irish Americans</td>\n",
       "    </tr>\n",
       "    <tr>\n",
       "      <th>2</th>\n",
       "      <td>142443</td>\n",
       "      <td>/m/011yl_</td>\n",
       "      <td>Shine</td>\n",
       "      <td>1996.0</td>\n",
       "      <td>35892330.0</td>\n",
       "      <td>105.0</td>\n",
       "      <td>English Language</td>\n",
       "      <td>United States of America</td>\n",
       "      <td>Biography, World cinema, Musical, Drama, Music...</td>\n",
       "      <td>171515</td>\n",
       "      <td>Q166272</td>\n",
       "      <td>male</td>\n",
       "      <td>NaN</td>\n",
       "      <td>Australia</td>\n",
       "      <td>NaN</td>\n",
       "      <td>Geoffrey Rush</td>\n",
       "      <td>44.0</td>\n",
       "      <td>1951.0</td>\n",
       "      <td>NaN</td>\n",
       "    </tr>\n",
       "    <tr>\n",
       "      <th>3</th>\n",
       "      <td>2528212</td>\n",
       "      <td>/m/07l450</td>\n",
       "      <td>The Last King of Scotland</td>\n",
       "      <td>2006.0</td>\n",
       "      <td>48362207.0</td>\n",
       "      <td>121.0</td>\n",
       "      <td>French Language</td>\n",
       "      <td>United Kingdom</td>\n",
       "      <td>Thriller, Docudrama, Period piece, Drama, War ...</td>\n",
       "      <td>634431</td>\n",
       "      <td>Q182763</td>\n",
       "      <td>male</td>\n",
       "      <td>English</td>\n",
       "      <td>United States of America</td>\n",
       "      <td>NaN</td>\n",
       "      <td>Forest Whitaker</td>\n",
       "      <td>45.0</td>\n",
       "      <td>1961.0</td>\n",
       "      <td>Akan people</td>\n",
       "    </tr>\n",
       "    <tr>\n",
       "      <th>4</th>\n",
       "      <td>1172795</td>\n",
       "      <td>/m/04dc58</td>\n",
       "      <td>The Way of All Flesh</td>\n",
       "      <td>NaN</td>\n",
       "      <td>NaN</td>\n",
       "      <td>94.0</td>\n",
       "      <td>Silent film</td>\n",
       "      <td>United States of America</td>\n",
       "      <td>Silent film, Drama, Indie, Black-and-white</td>\n",
       "      <td>106405</td>\n",
       "      <td>Q77181</td>\n",
       "      <td>male</td>\n",
       "      <td>NaN</td>\n",
       "      <td>Germany</td>\n",
       "      <td>NaN</td>\n",
       "      <td>Emil Jannings</td>\n",
       "      <td>NaN</td>\n",
       "      <td>1884.0</td>\n",
       "      <td>NaN</td>\n",
       "    </tr>\n",
       "    <tr>\n",
       "      <th>...</th>\n",
       "      <td>...</td>\n",
       "      <td>...</td>\n",
       "      <td>...</td>\n",
       "      <td>...</td>\n",
       "      <td>...</td>\n",
       "      <td>...</td>\n",
       "      <td>...</td>\n",
       "      <td>...</td>\n",
       "      <td>...</td>\n",
       "      <td>...</td>\n",
       "      <td>...</td>\n",
       "      <td>...</td>\n",
       "      <td>...</td>\n",
       "      <td>...</td>\n",
       "      <td>...</td>\n",
       "      <td>...</td>\n",
       "      <td>...</td>\n",
       "      <td>...</td>\n",
       "      <td>...</td>\n",
       "    </tr>\n",
       "    <tr>\n",
       "      <th>83</th>\n",
       "      <td>54160</td>\n",
       "      <td>/m/0f4vx</td>\n",
       "      <td>Leaving Las Vegas</td>\n",
       "      <td>1995.0</td>\n",
       "      <td>32029928.0</td>\n",
       "      <td>110.0</td>\n",
       "      <td>Russian Language</td>\n",
       "      <td>United States of America</td>\n",
       "      <td>Tragedy, Erotica, World cinema, Addiction Dram...</td>\n",
       "      <td>21111</td>\n",
       "      <td>Q42869</td>\n",
       "      <td>male</td>\n",
       "      <td>English</td>\n",
       "      <td>United States of America</td>\n",
       "      <td>Italian Americans</td>\n",
       "      <td>Nicolas Cage</td>\n",
       "      <td>31.0</td>\n",
       "      <td>1964.0</td>\n",
       "      <td>German Americans</td>\n",
       "    </tr>\n",
       "    <tr>\n",
       "      <th>84</th>\n",
       "      <td>3213691</td>\n",
       "      <td>/m/08zrbl</td>\n",
       "      <td>There Will Be Blood</td>\n",
       "      <td>2007.0</td>\n",
       "      <td>76181545.0</td>\n",
       "      <td>158.0</td>\n",
       "      <td>English Language</td>\n",
       "      <td>United States of America</td>\n",
       "      <td>Period piece, Family Drama, Drama</td>\n",
       "      <td>171003</td>\n",
       "      <td>Q166389</td>\n",
       "      <td>male</td>\n",
       "      <td>NaN</td>\n",
       "      <td>United Kingdom</td>\n",
       "      <td>Jewish people</td>\n",
       "      <td>Daniel Day-Lewis</td>\n",
       "      <td>50.0</td>\n",
       "      <td>1957.0</td>\n",
       "      <td>Jewish people</td>\n",
       "    </tr>\n",
       "    <tr>\n",
       "      <th>85</th>\n",
       "      <td>99463</td>\n",
       "      <td>/m/0pd64</td>\n",
       "      <td>The French Connection</td>\n",
       "      <td>1971.0</td>\n",
       "      <td>51700000.0</td>\n",
       "      <td>104.0</td>\n",
       "      <td>French Language</td>\n",
       "      <td>United States of America</td>\n",
       "      <td>Thriller, Crime Fiction, Detective fiction, Ch...</td>\n",
       "      <td>12561</td>\n",
       "      <td>Q150943</td>\n",
       "      <td>male</td>\n",
       "      <td>English</td>\n",
       "      <td>United States of America</td>\n",
       "      <td>NaN</td>\n",
       "      <td>Gene Hackman</td>\n",
       "      <td>41.0</td>\n",
       "      <td>1930.0</td>\n",
       "      <td>White Americans</td>\n",
       "    </tr>\n",
       "    <tr>\n",
       "      <th>86</th>\n",
       "      <td>1096473</td>\n",
       "      <td>/m/045pct</td>\n",
       "      <td>The Last Command</td>\n",
       "      <td>NaN</td>\n",
       "      <td>NaN</td>\n",
       "      <td>88.0</td>\n",
       "      <td>Silent film</td>\n",
       "      <td>United States of America</td>\n",
       "      <td>Silent film, Indie, Black-and-white, Period pi...</td>\n",
       "      <td>106405</td>\n",
       "      <td>Q77181</td>\n",
       "      <td>male</td>\n",
       "      <td>NaN</td>\n",
       "      <td>Germany</td>\n",
       "      <td>NaN</td>\n",
       "      <td>Emil Jannings</td>\n",
       "      <td>NaN</td>\n",
       "      <td>1884.0</td>\n",
       "      <td>NaN</td>\n",
       "    </tr>\n",
       "    <tr>\n",
       "      <th>87</th>\n",
       "      <td>369508</td>\n",
       "      <td>/m/0209hj</td>\n",
       "      <td>Gandhi</td>\n",
       "      <td>1982.0</td>\n",
       "      <td>52767889.0</td>\n",
       "      <td>188.0</td>\n",
       "      <td>Hindi Language</td>\n",
       "      <td>India</td>\n",
       "      <td>British Empire Film, History, Historical ficti...</td>\n",
       "      <td>168480</td>\n",
       "      <td>Q173158</td>\n",
       "      <td>male</td>\n",
       "      <td>NaN</td>\n",
       "      <td>United Kingdom</td>\n",
       "      <td>NaN</td>\n",
       "      <td>Ben Kingsley</td>\n",
       "      <td>38.0</td>\n",
       "      <td>1943.0</td>\n",
       "      <td>Indians</td>\n",
       "    </tr>\n",
       "  </tbody>\n",
       "</table>\n",
       "<p>88 rows × 19 columns</p>\n",
       "</div>"
      ],
      "text/plain": [
       "    Wikipedia movie ID Freebase movie ID                 Movie name  \\\n",
       "0              4836072         /m/0cq7kw               My Fair Lady   \n",
       "1               163462         /m/015qtl            Harry and Tonto   \n",
       "2               142443         /m/011yl_                      Shine   \n",
       "3              2528212         /m/07l450  The Last King of Scotland   \n",
       "4              1172795         /m/04dc58       The Way of All Flesh   \n",
       "..                 ...               ...                        ...   \n",
       "83               54160          /m/0f4vx          Leaving Las Vegas   \n",
       "84             3213691         /m/08zrbl        There Will Be Blood   \n",
       "85               99463          /m/0pd64      The French Connection   \n",
       "86             1096473         /m/045pct           The Last Command   \n",
       "87              369508         /m/0209hj                     Gandhi   \n",
       "\n",
       "    Movie release date  Movie box office revenue  Movie runtime  \\\n",
       "0               1964.0                72000000.0          172.0   \n",
       "1               1974.0                       NaN          115.0   \n",
       "2               1996.0                35892330.0          105.0   \n",
       "3               2006.0                48362207.0          121.0   \n",
       "4                  NaN                       NaN           94.0   \n",
       "..                 ...                       ...            ...   \n",
       "83              1995.0                32029928.0          110.0   \n",
       "84              2007.0                76181545.0          158.0   \n",
       "85              1971.0                51700000.0          104.0   \n",
       "86                 NaN                       NaN           88.0   \n",
       "87              1982.0                52767889.0          188.0   \n",
       "\n",
       "     Movie languages           Movie countries  \\\n",
       "0   English Language  United States of America   \n",
       "1   English Language  United States of America   \n",
       "2   English Language  United States of America   \n",
       "3    French Language            United Kingdom   \n",
       "4        Silent film  United States of America   \n",
       "..               ...                       ...   \n",
       "83  Russian Language  United States of America   \n",
       "84  English Language  United States of America   \n",
       "85   French Language  United States of America   \n",
       "86       Silent film  United States of America   \n",
       "87    Hindi Language                     India   \n",
       "\n",
       "                                         Movie genres  Actors id wikidata_id  \\\n",
       "0   Costume drama, Roadshow theatrical release, Mu...      99019     Q181887   \n",
       "1   Road movie, Americana, Comedy-drama, Drama, Co...     163461     Q182431   \n",
       "2   Biography, World cinema, Musical, Drama, Music...     171515     Q166272   \n",
       "3   Thriller, Docudrama, Period piece, Drama, War ...     634431     Q182763   \n",
       "4          Silent film, Drama, Indie, Black-and-white     106405      Q77181   \n",
       "..                                                ...        ...         ...   \n",
       "83  Tragedy, Erotica, World cinema, Addiction Dram...      21111      Q42869   \n",
       "84                  Period piece, Family Drama, Drama     171003     Q166389   \n",
       "85  Thriller, Crime Fiction, Detective fiction, Ch...      12561     Q150943   \n",
       "86  Silent film, Indie, Black-and-white, Period pi...     106405      Q77181   \n",
       "87  British Empire Film, History, Historical ficti...     168480     Q173158   \n",
       "\n",
       "   sexLabel nativeLanguageLabel countryOfCitizenshipLabel   ethnicGroupLabel  \\\n",
       "0      male     British English            United Kingdom                NaN   \n",
       "1      male             English  United States of America                NaN   \n",
       "2      male                 NaN                 Australia                NaN   \n",
       "3      male             English  United States of America                NaN   \n",
       "4      male                 NaN                   Germany                NaN   \n",
       "..      ...                 ...                       ...                ...   \n",
       "83     male             English  United States of America  Italian Americans   \n",
       "84     male                 NaN            United Kingdom      Jewish people   \n",
       "85     male             English  United States of America                NaN   \n",
       "86     male                 NaN                   Germany                NaN   \n",
       "87     male                 NaN            United Kingdom                NaN   \n",
       "\n",
       "          Actor name  Actor age at movie release  Actor date of birth  \\\n",
       "0       Rex Harrison                        56.0               1908.0   \n",
       "1         Art Carney                        55.0               1918.0   \n",
       "2      Geoffrey Rush                        44.0               1951.0   \n",
       "3    Forest Whitaker                        45.0               1961.0   \n",
       "4      Emil Jannings                         NaN               1884.0   \n",
       "..               ...                         ...                  ...   \n",
       "83      Nicolas Cage                        31.0               1964.0   \n",
       "84  Daniel Day-Lewis                        50.0               1957.0   \n",
       "85      Gene Hackman                        41.0               1930.0   \n",
       "86     Emil Jannings                         NaN               1884.0   \n",
       "87      Ben Kingsley                        38.0               1943.0   \n",
       "\n",
       "     Actor ethnicity  \n",
       "0                NaN  \n",
       "1    Irish Americans  \n",
       "2                NaN  \n",
       "3        Akan people  \n",
       "4                NaN  \n",
       "..               ...  \n",
       "83  German Americans  \n",
       "84     Jewish people  \n",
       "85   White Americans  \n",
       "86               NaN  \n",
       "87           Indians  \n",
       "\n",
       "[88 rows x 19 columns]"
      ]
     },
     "execution_count": 32,
     "metadata": {},
     "output_type": "execute_result"
    }
   ],
   "source": [
    "oscar_actors_movies = oscar_actors_movies.merge(winning_actors_info, on='Actors id')\n",
    "oscar_actors_movies = oscar_actors_movies.merge(character[['Wikipedia movie ID', 'Actor name', 'Actor age at movie release', 'Actor date of birth', 'Actor ethnicity']], on=['Wikipedia movie ID', 'Actor name'])\n",
    "oscar_actors_movies"
   ]
  },
  {
   "cell_type": "code",
   "execution_count": 33,
   "metadata": {},
   "outputs": [
    {
     "data": {
      "application/vnd.plotly.v1+json": {
       "config": {
        "plotlyServerURL": "https://plot.ly"
       },
       "data": [
        {
         "alignmentgroup": "True",
         "bingroup": "x",
         "histfunc": "sum",
         "hovertemplate": "Age at Movie Release=%{x}<br>sum of actors=%{y}<extra></extra>",
         "legendgroup": "",
         "marker": {
          "color": "#636efa",
          "pattern": {
           "shape": ""
          }
         },
         "name": "",
         "nbinsx": 17,
         "offsetgroup": "",
         "orientation": "v",
         "showlegend": false,
         "type": "histogram",
         "x": [
          41,
          36,
          38,
          37,
          44,
          45,
          46,
          60,
          42,
          52,
          43,
          33,
          40,
          30,
          31,
          35,
          50,
          55,
          39,
          32,
          48,
          51,
          61,
          34,
          76,
          47,
          62,
          53,
          29,
          56
         ],
         "xaxis": "x",
         "y": [
          6,
          6,
          5,
          5,
          3,
          3,
          3,
          3,
          3,
          2,
          2,
          2,
          2,
          2,
          2,
          2,
          2,
          2,
          2,
          2,
          2,
          2,
          1,
          1,
          1,
          1,
          1,
          1,
          1,
          1
         ],
         "yaxis": "y"
        }
       ],
       "layout": {
        "bargap": 0.1,
        "barmode": "relative",
        "legend": {
         "tracegroupgap": 0
        },
        "template": {
         "data": {
          "bar": [
           {
            "error_x": {
             "color": "#2a3f5f"
            },
            "error_y": {
             "color": "#2a3f5f"
            },
            "marker": {
             "line": {
              "color": "#E5ECF6",
              "width": 0.5
             },
             "pattern": {
              "fillmode": "overlay",
              "size": 10,
              "solidity": 0.2
             }
            },
            "type": "bar"
           }
          ],
          "barpolar": [
           {
            "marker": {
             "line": {
              "color": "#E5ECF6",
              "width": 0.5
             },
             "pattern": {
              "fillmode": "overlay",
              "size": 10,
              "solidity": 0.2
             }
            },
            "type": "barpolar"
           }
          ],
          "carpet": [
           {
            "aaxis": {
             "endlinecolor": "#2a3f5f",
             "gridcolor": "white",
             "linecolor": "white",
             "minorgridcolor": "white",
             "startlinecolor": "#2a3f5f"
            },
            "baxis": {
             "endlinecolor": "#2a3f5f",
             "gridcolor": "white",
             "linecolor": "white",
             "minorgridcolor": "white",
             "startlinecolor": "#2a3f5f"
            },
            "type": "carpet"
           }
          ],
          "choropleth": [
           {
            "colorbar": {
             "outlinewidth": 0,
             "ticks": ""
            },
            "type": "choropleth"
           }
          ],
          "contour": [
           {
            "colorbar": {
             "outlinewidth": 0,
             "ticks": ""
            },
            "colorscale": [
             [
              0,
              "#0d0887"
             ],
             [
              0.1111111111111111,
              "#46039f"
             ],
             [
              0.2222222222222222,
              "#7201a8"
             ],
             [
              0.3333333333333333,
              "#9c179e"
             ],
             [
              0.4444444444444444,
              "#bd3786"
             ],
             [
              0.5555555555555556,
              "#d8576b"
             ],
             [
              0.6666666666666666,
              "#ed7953"
             ],
             [
              0.7777777777777778,
              "#fb9f3a"
             ],
             [
              0.8888888888888888,
              "#fdca26"
             ],
             [
              1,
              "#f0f921"
             ]
            ],
            "type": "contour"
           }
          ],
          "contourcarpet": [
           {
            "colorbar": {
             "outlinewidth": 0,
             "ticks": ""
            },
            "type": "contourcarpet"
           }
          ],
          "heatmap": [
           {
            "colorbar": {
             "outlinewidth": 0,
             "ticks": ""
            },
            "colorscale": [
             [
              0,
              "#0d0887"
             ],
             [
              0.1111111111111111,
              "#46039f"
             ],
             [
              0.2222222222222222,
              "#7201a8"
             ],
             [
              0.3333333333333333,
              "#9c179e"
             ],
             [
              0.4444444444444444,
              "#bd3786"
             ],
             [
              0.5555555555555556,
              "#d8576b"
             ],
             [
              0.6666666666666666,
              "#ed7953"
             ],
             [
              0.7777777777777778,
              "#fb9f3a"
             ],
             [
              0.8888888888888888,
              "#fdca26"
             ],
             [
              1,
              "#f0f921"
             ]
            ],
            "type": "heatmap"
           }
          ],
          "heatmapgl": [
           {
            "colorbar": {
             "outlinewidth": 0,
             "ticks": ""
            },
            "colorscale": [
             [
              0,
              "#0d0887"
             ],
             [
              0.1111111111111111,
              "#46039f"
             ],
             [
              0.2222222222222222,
              "#7201a8"
             ],
             [
              0.3333333333333333,
              "#9c179e"
             ],
             [
              0.4444444444444444,
              "#bd3786"
             ],
             [
              0.5555555555555556,
              "#d8576b"
             ],
             [
              0.6666666666666666,
              "#ed7953"
             ],
             [
              0.7777777777777778,
              "#fb9f3a"
             ],
             [
              0.8888888888888888,
              "#fdca26"
             ],
             [
              1,
              "#f0f921"
             ]
            ],
            "type": "heatmapgl"
           }
          ],
          "histogram": [
           {
            "marker": {
             "pattern": {
              "fillmode": "overlay",
              "size": 10,
              "solidity": 0.2
             }
            },
            "type": "histogram"
           }
          ],
          "histogram2d": [
           {
            "colorbar": {
             "outlinewidth": 0,
             "ticks": ""
            },
            "colorscale": [
             [
              0,
              "#0d0887"
             ],
             [
              0.1111111111111111,
              "#46039f"
             ],
             [
              0.2222222222222222,
              "#7201a8"
             ],
             [
              0.3333333333333333,
              "#9c179e"
             ],
             [
              0.4444444444444444,
              "#bd3786"
             ],
             [
              0.5555555555555556,
              "#d8576b"
             ],
             [
              0.6666666666666666,
              "#ed7953"
             ],
             [
              0.7777777777777778,
              "#fb9f3a"
             ],
             [
              0.8888888888888888,
              "#fdca26"
             ],
             [
              1,
              "#f0f921"
             ]
            ],
            "type": "histogram2d"
           }
          ],
          "histogram2dcontour": [
           {
            "colorbar": {
             "outlinewidth": 0,
             "ticks": ""
            },
            "colorscale": [
             [
              0,
              "#0d0887"
             ],
             [
              0.1111111111111111,
              "#46039f"
             ],
             [
              0.2222222222222222,
              "#7201a8"
             ],
             [
              0.3333333333333333,
              "#9c179e"
             ],
             [
              0.4444444444444444,
              "#bd3786"
             ],
             [
              0.5555555555555556,
              "#d8576b"
             ],
             [
              0.6666666666666666,
              "#ed7953"
             ],
             [
              0.7777777777777778,
              "#fb9f3a"
             ],
             [
              0.8888888888888888,
              "#fdca26"
             ],
             [
              1,
              "#f0f921"
             ]
            ],
            "type": "histogram2dcontour"
           }
          ],
          "mesh3d": [
           {
            "colorbar": {
             "outlinewidth": 0,
             "ticks": ""
            },
            "type": "mesh3d"
           }
          ],
          "parcoords": [
           {
            "line": {
             "colorbar": {
              "outlinewidth": 0,
              "ticks": ""
             }
            },
            "type": "parcoords"
           }
          ],
          "pie": [
           {
            "automargin": true,
            "type": "pie"
           }
          ],
          "scatter": [
           {
            "fillpattern": {
             "fillmode": "overlay",
             "size": 10,
             "solidity": 0.2
            },
            "type": "scatter"
           }
          ],
          "scatter3d": [
           {
            "line": {
             "colorbar": {
              "outlinewidth": 0,
              "ticks": ""
             }
            },
            "marker": {
             "colorbar": {
              "outlinewidth": 0,
              "ticks": ""
             }
            },
            "type": "scatter3d"
           }
          ],
          "scattercarpet": [
           {
            "marker": {
             "colorbar": {
              "outlinewidth": 0,
              "ticks": ""
             }
            },
            "type": "scattercarpet"
           }
          ],
          "scattergeo": [
           {
            "marker": {
             "colorbar": {
              "outlinewidth": 0,
              "ticks": ""
             }
            },
            "type": "scattergeo"
           }
          ],
          "scattergl": [
           {
            "marker": {
             "colorbar": {
              "outlinewidth": 0,
              "ticks": ""
             }
            },
            "type": "scattergl"
           }
          ],
          "scattermapbox": [
           {
            "marker": {
             "colorbar": {
              "outlinewidth": 0,
              "ticks": ""
             }
            },
            "type": "scattermapbox"
           }
          ],
          "scatterpolar": [
           {
            "marker": {
             "colorbar": {
              "outlinewidth": 0,
              "ticks": ""
             }
            },
            "type": "scatterpolar"
           }
          ],
          "scatterpolargl": [
           {
            "marker": {
             "colorbar": {
              "outlinewidth": 0,
              "ticks": ""
             }
            },
            "type": "scatterpolargl"
           }
          ],
          "scatterternary": [
           {
            "marker": {
             "colorbar": {
              "outlinewidth": 0,
              "ticks": ""
             }
            },
            "type": "scatterternary"
           }
          ],
          "surface": [
           {
            "colorbar": {
             "outlinewidth": 0,
             "ticks": ""
            },
            "colorscale": [
             [
              0,
              "#0d0887"
             ],
             [
              0.1111111111111111,
              "#46039f"
             ],
             [
              0.2222222222222222,
              "#7201a8"
             ],
             [
              0.3333333333333333,
              "#9c179e"
             ],
             [
              0.4444444444444444,
              "#bd3786"
             ],
             [
              0.5555555555555556,
              "#d8576b"
             ],
             [
              0.6666666666666666,
              "#ed7953"
             ],
             [
              0.7777777777777778,
              "#fb9f3a"
             ],
             [
              0.8888888888888888,
              "#fdca26"
             ],
             [
              1,
              "#f0f921"
             ]
            ],
            "type": "surface"
           }
          ],
          "table": [
           {
            "cells": {
             "fill": {
              "color": "#EBF0F8"
             },
             "line": {
              "color": "white"
             }
            },
            "header": {
             "fill": {
              "color": "#C8D4E3"
             },
             "line": {
              "color": "white"
             }
            },
            "type": "table"
           }
          ]
         },
         "layout": {
          "annotationdefaults": {
           "arrowcolor": "#2a3f5f",
           "arrowhead": 0,
           "arrowwidth": 1
          },
          "autotypenumbers": "strict",
          "coloraxis": {
           "colorbar": {
            "outlinewidth": 0,
            "ticks": ""
           }
          },
          "colorscale": {
           "diverging": [
            [
             0,
             "#8e0152"
            ],
            [
             0.1,
             "#c51b7d"
            ],
            [
             0.2,
             "#de77ae"
            ],
            [
             0.3,
             "#f1b6da"
            ],
            [
             0.4,
             "#fde0ef"
            ],
            [
             0.5,
             "#f7f7f7"
            ],
            [
             0.6,
             "#e6f5d0"
            ],
            [
             0.7,
             "#b8e186"
            ],
            [
             0.8,
             "#7fbc41"
            ],
            [
             0.9,
             "#4d9221"
            ],
            [
             1,
             "#276419"
            ]
           ],
           "sequential": [
            [
             0,
             "#0d0887"
            ],
            [
             0.1111111111111111,
             "#46039f"
            ],
            [
             0.2222222222222222,
             "#7201a8"
            ],
            [
             0.3333333333333333,
             "#9c179e"
            ],
            [
             0.4444444444444444,
             "#bd3786"
            ],
            [
             0.5555555555555556,
             "#d8576b"
            ],
            [
             0.6666666666666666,
             "#ed7953"
            ],
            [
             0.7777777777777778,
             "#fb9f3a"
            ],
            [
             0.8888888888888888,
             "#fdca26"
            ],
            [
             1,
             "#f0f921"
            ]
           ],
           "sequentialminus": [
            [
             0,
             "#0d0887"
            ],
            [
             0.1111111111111111,
             "#46039f"
            ],
            [
             0.2222222222222222,
             "#7201a8"
            ],
            [
             0.3333333333333333,
             "#9c179e"
            ],
            [
             0.4444444444444444,
             "#bd3786"
            ],
            [
             0.5555555555555556,
             "#d8576b"
            ],
            [
             0.6666666666666666,
             "#ed7953"
            ],
            [
             0.7777777777777778,
             "#fb9f3a"
            ],
            [
             0.8888888888888888,
             "#fdca26"
            ],
            [
             1,
             "#f0f921"
            ]
           ]
          },
          "colorway": [
           "#636efa",
           "#EF553B",
           "#00cc96",
           "#ab63fa",
           "#FFA15A",
           "#19d3f3",
           "#FF6692",
           "#B6E880",
           "#FF97FF",
           "#FECB52"
          ],
          "font": {
           "color": "#2a3f5f"
          },
          "geo": {
           "bgcolor": "white",
           "lakecolor": "white",
           "landcolor": "#E5ECF6",
           "showlakes": true,
           "showland": true,
           "subunitcolor": "white"
          },
          "hoverlabel": {
           "align": "left"
          },
          "hovermode": "closest",
          "mapbox": {
           "style": "light"
          },
          "paper_bgcolor": "white",
          "plot_bgcolor": "#E5ECF6",
          "polar": {
           "angularaxis": {
            "gridcolor": "white",
            "linecolor": "white",
            "ticks": ""
           },
           "bgcolor": "#E5ECF6",
           "radialaxis": {
            "gridcolor": "white",
            "linecolor": "white",
            "ticks": ""
           }
          },
          "scene": {
           "xaxis": {
            "backgroundcolor": "#E5ECF6",
            "gridcolor": "white",
            "gridwidth": 2,
            "linecolor": "white",
            "showbackground": true,
            "ticks": "",
            "zerolinecolor": "white"
           },
           "yaxis": {
            "backgroundcolor": "#E5ECF6",
            "gridcolor": "white",
            "gridwidth": 2,
            "linecolor": "white",
            "showbackground": true,
            "ticks": "",
            "zerolinecolor": "white"
           },
           "zaxis": {
            "backgroundcolor": "#E5ECF6",
            "gridcolor": "white",
            "gridwidth": 2,
            "linecolor": "white",
            "showbackground": true,
            "ticks": "",
            "zerolinecolor": "white"
           }
          },
          "shapedefaults": {
           "line": {
            "color": "#2a3f5f"
           }
          },
          "ternary": {
           "aaxis": {
            "gridcolor": "white",
            "linecolor": "white",
            "ticks": ""
           },
           "baxis": {
            "gridcolor": "white",
            "linecolor": "white",
            "ticks": ""
           },
           "bgcolor": "#E5ECF6",
           "caxis": {
            "gridcolor": "white",
            "linecolor": "white",
            "ticks": ""
           }
          },
          "title": {
           "x": 0.05
          },
          "xaxis": {
           "automargin": true,
           "gridcolor": "white",
           "linecolor": "white",
           "ticks": "",
           "title": {
            "standoff": 15
           },
           "zerolinecolor": "white",
           "zerolinewidth": 2
          },
          "yaxis": {
           "automargin": true,
           "gridcolor": "white",
           "linecolor": "white",
           "ticks": "",
           "title": {
            "standoff": 15
           },
           "zerolinecolor": "white",
           "zerolinewidth": 2
          }
         }
        },
        "title": {
         "text": "Number of Oscar winning actors by age at movie release"
        },
        "xaxis": {
         "anchor": "y",
         "domain": [
          0,
          1
         ],
         "title": {
          "text": "Age at Movie Release"
         }
        },
        "yaxis": {
         "anchor": "x",
         "domain": [
          0,
          1
         ],
         "title": {
          "text": "sum of actors"
         }
        }
       }
      }
     },
     "metadata": {},
     "output_type": "display_data"
    }
   ],
   "source": [
    "import plotly.express as px\n",
    "fig = px.histogram(oscar_actors_movies, \n",
    "                   x=oscar_actors_movies[\"Actor age at movie release\"].value_counts().index,\n",
    "                   y=oscar_actors_movies[\"Actor age at movie release\"].value_counts().values, \n",
    "                   title=\"Number of Oscar winning actors by age at movie release\",\n",
    "                   labels={'x': 'Age at Movie Release', 'y': 'actors'},\n",
    "                   nbins=17)\n",
    "fig.update_layout( bargap=0.1)\n",
    "fig.show()"
   ]
  },
  {
   "cell_type": "code",
   "execution_count": 38,
   "metadata": {},
   "outputs": [
    {
     "data": {
      "application/vnd.plotly.v1+json": {
       "config": {
        "plotlyServerURL": "https://plot.ly"
       },
       "data": [
        {
         "coloraxis": "coloraxis",
         "geo": "geo",
         "hovertemplate": "<b>%{hovertext}</b><br><br>Country=%{location}<br>Count=%{z}<extra></extra>",
         "hovertext": [
          "United States of America",
          "United Kingdom",
          "Germany",
          "Australia",
          "France",
          "New Zealand",
          "Far Eastern Republic",
          "Switzerland",
          "Italy"
         ],
         "locationmode": "country names",
         "locations": [
          "United States of America",
          "United Kingdom",
          "Germany",
          "Australia",
          "France",
          "New Zealand",
          "Far Eastern Republic",
          "Switzerland",
          "Italy"
         ],
         "name": "",
         "type": "choropleth",
         "z": [
          62,
          18,
          2,
          1,
          1,
          1,
          1,
          1,
          1
         ]
        }
       ],
       "layout": {
        "coloraxis": {
         "colorbar": {
          "title": {
           "text": "Count"
          }
         },
         "colorscale": [
          [
           0,
           "#0d0887"
          ],
          [
           0.1111111111111111,
           "#46039f"
          ],
          [
           0.2222222222222222,
           "#7201a8"
          ],
          [
           0.3333333333333333,
           "#9c179e"
          ],
          [
           0.4444444444444444,
           "#bd3786"
          ],
          [
           0.5555555555555556,
           "#d8576b"
          ],
          [
           0.6666666666666666,
           "#ed7953"
          ],
          [
           0.7777777777777778,
           "#fb9f3a"
          ],
          [
           0.8888888888888888,
           "#fdca26"
          ],
          [
           1,
           "#f0f921"
          ]
         ]
        },
        "geo": {
         "center": {},
         "domain": {
          "x": [
           0,
           1
          ],
          "y": [
           0,
           1
          ]
         },
         "showcountries": true
        },
        "legend": {
         "tracegroupgap": 0
        },
        "template": {
         "data": {
          "bar": [
           {
            "error_x": {
             "color": "#2a3f5f"
            },
            "error_y": {
             "color": "#2a3f5f"
            },
            "marker": {
             "line": {
              "color": "#E5ECF6",
              "width": 0.5
             },
             "pattern": {
              "fillmode": "overlay",
              "size": 10,
              "solidity": 0.2
             }
            },
            "type": "bar"
           }
          ],
          "barpolar": [
           {
            "marker": {
             "line": {
              "color": "#E5ECF6",
              "width": 0.5
             },
             "pattern": {
              "fillmode": "overlay",
              "size": 10,
              "solidity": 0.2
             }
            },
            "type": "barpolar"
           }
          ],
          "carpet": [
           {
            "aaxis": {
             "endlinecolor": "#2a3f5f",
             "gridcolor": "white",
             "linecolor": "white",
             "minorgridcolor": "white",
             "startlinecolor": "#2a3f5f"
            },
            "baxis": {
             "endlinecolor": "#2a3f5f",
             "gridcolor": "white",
             "linecolor": "white",
             "minorgridcolor": "white",
             "startlinecolor": "#2a3f5f"
            },
            "type": "carpet"
           }
          ],
          "choropleth": [
           {
            "colorbar": {
             "outlinewidth": 0,
             "ticks": ""
            },
            "type": "choropleth"
           }
          ],
          "contour": [
           {
            "colorbar": {
             "outlinewidth": 0,
             "ticks": ""
            },
            "colorscale": [
             [
              0,
              "#0d0887"
             ],
             [
              0.1111111111111111,
              "#46039f"
             ],
             [
              0.2222222222222222,
              "#7201a8"
             ],
             [
              0.3333333333333333,
              "#9c179e"
             ],
             [
              0.4444444444444444,
              "#bd3786"
             ],
             [
              0.5555555555555556,
              "#d8576b"
             ],
             [
              0.6666666666666666,
              "#ed7953"
             ],
             [
              0.7777777777777778,
              "#fb9f3a"
             ],
             [
              0.8888888888888888,
              "#fdca26"
             ],
             [
              1,
              "#f0f921"
             ]
            ],
            "type": "contour"
           }
          ],
          "contourcarpet": [
           {
            "colorbar": {
             "outlinewidth": 0,
             "ticks": ""
            },
            "type": "contourcarpet"
           }
          ],
          "heatmap": [
           {
            "colorbar": {
             "outlinewidth": 0,
             "ticks": ""
            },
            "colorscale": [
             [
              0,
              "#0d0887"
             ],
             [
              0.1111111111111111,
              "#46039f"
             ],
             [
              0.2222222222222222,
              "#7201a8"
             ],
             [
              0.3333333333333333,
              "#9c179e"
             ],
             [
              0.4444444444444444,
              "#bd3786"
             ],
             [
              0.5555555555555556,
              "#d8576b"
             ],
             [
              0.6666666666666666,
              "#ed7953"
             ],
             [
              0.7777777777777778,
              "#fb9f3a"
             ],
             [
              0.8888888888888888,
              "#fdca26"
             ],
             [
              1,
              "#f0f921"
             ]
            ],
            "type": "heatmap"
           }
          ],
          "heatmapgl": [
           {
            "colorbar": {
             "outlinewidth": 0,
             "ticks": ""
            },
            "colorscale": [
             [
              0,
              "#0d0887"
             ],
             [
              0.1111111111111111,
              "#46039f"
             ],
             [
              0.2222222222222222,
              "#7201a8"
             ],
             [
              0.3333333333333333,
              "#9c179e"
             ],
             [
              0.4444444444444444,
              "#bd3786"
             ],
             [
              0.5555555555555556,
              "#d8576b"
             ],
             [
              0.6666666666666666,
              "#ed7953"
             ],
             [
              0.7777777777777778,
              "#fb9f3a"
             ],
             [
              0.8888888888888888,
              "#fdca26"
             ],
             [
              1,
              "#f0f921"
             ]
            ],
            "type": "heatmapgl"
           }
          ],
          "histogram": [
           {
            "marker": {
             "pattern": {
              "fillmode": "overlay",
              "size": 10,
              "solidity": 0.2
             }
            },
            "type": "histogram"
           }
          ],
          "histogram2d": [
           {
            "colorbar": {
             "outlinewidth": 0,
             "ticks": ""
            },
            "colorscale": [
             [
              0,
              "#0d0887"
             ],
             [
              0.1111111111111111,
              "#46039f"
             ],
             [
              0.2222222222222222,
              "#7201a8"
             ],
             [
              0.3333333333333333,
              "#9c179e"
             ],
             [
              0.4444444444444444,
              "#bd3786"
             ],
             [
              0.5555555555555556,
              "#d8576b"
             ],
             [
              0.6666666666666666,
              "#ed7953"
             ],
             [
              0.7777777777777778,
              "#fb9f3a"
             ],
             [
              0.8888888888888888,
              "#fdca26"
             ],
             [
              1,
              "#f0f921"
             ]
            ],
            "type": "histogram2d"
           }
          ],
          "histogram2dcontour": [
           {
            "colorbar": {
             "outlinewidth": 0,
             "ticks": ""
            },
            "colorscale": [
             [
              0,
              "#0d0887"
             ],
             [
              0.1111111111111111,
              "#46039f"
             ],
             [
              0.2222222222222222,
              "#7201a8"
             ],
             [
              0.3333333333333333,
              "#9c179e"
             ],
             [
              0.4444444444444444,
              "#bd3786"
             ],
             [
              0.5555555555555556,
              "#d8576b"
             ],
             [
              0.6666666666666666,
              "#ed7953"
             ],
             [
              0.7777777777777778,
              "#fb9f3a"
             ],
             [
              0.8888888888888888,
              "#fdca26"
             ],
             [
              1,
              "#f0f921"
             ]
            ],
            "type": "histogram2dcontour"
           }
          ],
          "mesh3d": [
           {
            "colorbar": {
             "outlinewidth": 0,
             "ticks": ""
            },
            "type": "mesh3d"
           }
          ],
          "parcoords": [
           {
            "line": {
             "colorbar": {
              "outlinewidth": 0,
              "ticks": ""
             }
            },
            "type": "parcoords"
           }
          ],
          "pie": [
           {
            "automargin": true,
            "type": "pie"
           }
          ],
          "scatter": [
           {
            "fillpattern": {
             "fillmode": "overlay",
             "size": 10,
             "solidity": 0.2
            },
            "type": "scatter"
           }
          ],
          "scatter3d": [
           {
            "line": {
             "colorbar": {
              "outlinewidth": 0,
              "ticks": ""
             }
            },
            "marker": {
             "colorbar": {
              "outlinewidth": 0,
              "ticks": ""
             }
            },
            "type": "scatter3d"
           }
          ],
          "scattercarpet": [
           {
            "marker": {
             "colorbar": {
              "outlinewidth": 0,
              "ticks": ""
             }
            },
            "type": "scattercarpet"
           }
          ],
          "scattergeo": [
           {
            "marker": {
             "colorbar": {
              "outlinewidth": 0,
              "ticks": ""
             }
            },
            "type": "scattergeo"
           }
          ],
          "scattergl": [
           {
            "marker": {
             "colorbar": {
              "outlinewidth": 0,
              "ticks": ""
             }
            },
            "type": "scattergl"
           }
          ],
          "scattermapbox": [
           {
            "marker": {
             "colorbar": {
              "outlinewidth": 0,
              "ticks": ""
             }
            },
            "type": "scattermapbox"
           }
          ],
          "scatterpolar": [
           {
            "marker": {
             "colorbar": {
              "outlinewidth": 0,
              "ticks": ""
             }
            },
            "type": "scatterpolar"
           }
          ],
          "scatterpolargl": [
           {
            "marker": {
             "colorbar": {
              "outlinewidth": 0,
              "ticks": ""
             }
            },
            "type": "scatterpolargl"
           }
          ],
          "scatterternary": [
           {
            "marker": {
             "colorbar": {
              "outlinewidth": 0,
              "ticks": ""
             }
            },
            "type": "scatterternary"
           }
          ],
          "surface": [
           {
            "colorbar": {
             "outlinewidth": 0,
             "ticks": ""
            },
            "colorscale": [
             [
              0,
              "#0d0887"
             ],
             [
              0.1111111111111111,
              "#46039f"
             ],
             [
              0.2222222222222222,
              "#7201a8"
             ],
             [
              0.3333333333333333,
              "#9c179e"
             ],
             [
              0.4444444444444444,
              "#bd3786"
             ],
             [
              0.5555555555555556,
              "#d8576b"
             ],
             [
              0.6666666666666666,
              "#ed7953"
             ],
             [
              0.7777777777777778,
              "#fb9f3a"
             ],
             [
              0.8888888888888888,
              "#fdca26"
             ],
             [
              1,
              "#f0f921"
             ]
            ],
            "type": "surface"
           }
          ],
          "table": [
           {
            "cells": {
             "fill": {
              "color": "#EBF0F8"
             },
             "line": {
              "color": "white"
             }
            },
            "header": {
             "fill": {
              "color": "#C8D4E3"
             },
             "line": {
              "color": "white"
             }
            },
            "type": "table"
           }
          ]
         },
         "layout": {
          "annotationdefaults": {
           "arrowcolor": "#2a3f5f",
           "arrowhead": 0,
           "arrowwidth": 1
          },
          "autotypenumbers": "strict",
          "coloraxis": {
           "colorbar": {
            "outlinewidth": 0,
            "ticks": ""
           }
          },
          "colorscale": {
           "diverging": [
            [
             0,
             "#8e0152"
            ],
            [
             0.1,
             "#c51b7d"
            ],
            [
             0.2,
             "#de77ae"
            ],
            [
             0.3,
             "#f1b6da"
            ],
            [
             0.4,
             "#fde0ef"
            ],
            [
             0.5,
             "#f7f7f7"
            ],
            [
             0.6,
             "#e6f5d0"
            ],
            [
             0.7,
             "#b8e186"
            ],
            [
             0.8,
             "#7fbc41"
            ],
            [
             0.9,
             "#4d9221"
            ],
            [
             1,
             "#276419"
            ]
           ],
           "sequential": [
            [
             0,
             "#0d0887"
            ],
            [
             0.1111111111111111,
             "#46039f"
            ],
            [
             0.2222222222222222,
             "#7201a8"
            ],
            [
             0.3333333333333333,
             "#9c179e"
            ],
            [
             0.4444444444444444,
             "#bd3786"
            ],
            [
             0.5555555555555556,
             "#d8576b"
            ],
            [
             0.6666666666666666,
             "#ed7953"
            ],
            [
             0.7777777777777778,
             "#fb9f3a"
            ],
            [
             0.8888888888888888,
             "#fdca26"
            ],
            [
             1,
             "#f0f921"
            ]
           ],
           "sequentialminus": [
            [
             0,
             "#0d0887"
            ],
            [
             0.1111111111111111,
             "#46039f"
            ],
            [
             0.2222222222222222,
             "#7201a8"
            ],
            [
             0.3333333333333333,
             "#9c179e"
            ],
            [
             0.4444444444444444,
             "#bd3786"
            ],
            [
             0.5555555555555556,
             "#d8576b"
            ],
            [
             0.6666666666666666,
             "#ed7953"
            ],
            [
             0.7777777777777778,
             "#fb9f3a"
            ],
            [
             0.8888888888888888,
             "#fdca26"
            ],
            [
             1,
             "#f0f921"
            ]
           ]
          },
          "colorway": [
           "#636efa",
           "#EF553B",
           "#00cc96",
           "#ab63fa",
           "#FFA15A",
           "#19d3f3",
           "#FF6692",
           "#B6E880",
           "#FF97FF",
           "#FECB52"
          ],
          "font": {
           "color": "#2a3f5f"
          },
          "geo": {
           "bgcolor": "white",
           "lakecolor": "white",
           "landcolor": "#E5ECF6",
           "showlakes": true,
           "showland": true,
           "subunitcolor": "white"
          },
          "hoverlabel": {
           "align": "left"
          },
          "hovermode": "closest",
          "mapbox": {
           "style": "light"
          },
          "paper_bgcolor": "white",
          "plot_bgcolor": "#E5ECF6",
          "polar": {
           "angularaxis": {
            "gridcolor": "white",
            "linecolor": "white",
            "ticks": ""
           },
           "bgcolor": "#E5ECF6",
           "radialaxis": {
            "gridcolor": "white",
            "linecolor": "white",
            "ticks": ""
           }
          },
          "scene": {
           "xaxis": {
            "backgroundcolor": "#E5ECF6",
            "gridcolor": "white",
            "gridwidth": 2,
            "linecolor": "white",
            "showbackground": true,
            "ticks": "",
            "zerolinecolor": "white"
           },
           "yaxis": {
            "backgroundcolor": "#E5ECF6",
            "gridcolor": "white",
            "gridwidth": 2,
            "linecolor": "white",
            "showbackground": true,
            "ticks": "",
            "zerolinecolor": "white"
           },
           "zaxis": {
            "backgroundcolor": "#E5ECF6",
            "gridcolor": "white",
            "gridwidth": 2,
            "linecolor": "white",
            "showbackground": true,
            "ticks": "",
            "zerolinecolor": "white"
           }
          },
          "shapedefaults": {
           "line": {
            "color": "#2a3f5f"
           }
          },
          "ternary": {
           "aaxis": {
            "gridcolor": "white",
            "linecolor": "white",
            "ticks": ""
           },
           "baxis": {
            "gridcolor": "white",
            "linecolor": "white",
            "ticks": ""
           },
           "bgcolor": "#E5ECF6",
           "caxis": {
            "gridcolor": "white",
            "linecolor": "white",
            "ticks": ""
           }
          },
          "title": {
           "x": 0.05
          },
          "xaxis": {
           "automargin": true,
           "gridcolor": "white",
           "linecolor": "white",
           "ticks": "",
           "title": {
            "standoff": 15
           },
           "zerolinecolor": "white",
           "zerolinewidth": 2
          },
          "yaxis": {
           "automargin": true,
           "gridcolor": "white",
           "linecolor": "white",
           "ticks": "",
           "title": {
            "standoff": 15
           },
           "zerolinecolor": "white",
           "zerolinewidth": 2
          }
         }
        },
        "title": {
         "text": "Heatmap of Oscar Winning Actors by Country"
        }
       }
      }
     },
     "metadata": {},
     "output_type": "display_data"
    }
   ],
   "source": [
    "#fig = px.scatter_geo()\n",
    "\n",
    "\n",
    "country_counts = oscar_actors_movies['countryOfCitizenshipLabel'].value_counts()\n",
    "country_counts = country_counts.reset_index()\n",
    "country_counts.columns = ['Country', 'Count']\n",
    "\n",
    "fig = px.choropleth(country_counts, \n",
    "                    locations=\"Country\", \n",
    "                    locationmode='country names', \n",
    "                    color=\"Count\", \n",
    "                    hover_name=\"Country\", \n",
    "                    title=\"Heatmap of Oscar Winning Actors by Country\")\n",
    "fig.update_geos(showcountries=True)\n",
    "fig.show()"
   ]
  },
  {
   "cell_type": "code",
   "execution_count": 41,
   "metadata": {},
   "outputs": [
    {
     "data": {
      "application/vnd.plotly.v1+json": {
       "config": {
        "plotlyServerURL": "https://plot.ly"
       },
       "data": [
        {
         "coloraxis": "coloraxis",
         "geo": "geo",
         "hovertemplate": "<b>%{hovertext}</b><br><br>Country=%{location}<br>Count=%{z}<extra></extra>",
         "hovertext": [
          "United States of America",
          "United Kingdom",
          "Germany",
          "Australia",
          "France",
          "New Zealand",
          "Far Eastern Republic",
          "Switzerland",
          "Italy"
         ],
         "locationmode": "country names",
         "locations": [
          "United States of America",
          "United Kingdom",
          "Germany",
          "Australia",
          "France",
          "New Zealand",
          "Far Eastern Republic",
          "Switzerland",
          "Italy"
         ],
         "name": "",
         "type": "choropleth",
         "z": [
          62,
          18,
          2,
          1,
          1,
          1,
          1,
          1,
          1
         ]
        }
       ],
       "layout": {
        "coloraxis": {
         "colorbar": {
          "title": {
           "text": "Count"
          }
         },
         "colorscale": [
          [
           0,
           "#0d0887"
          ],
          [
           0.1111111111111111,
           "#46039f"
          ],
          [
           0.2222222222222222,
           "#7201a8"
          ],
          [
           0.3333333333333333,
           "#9c179e"
          ],
          [
           0.4444444444444444,
           "#bd3786"
          ],
          [
           0.5555555555555556,
           "#d8576b"
          ],
          [
           0.6666666666666666,
           "#ed7953"
          ],
          [
           0.7777777777777778,
           "#fb9f3a"
          ],
          [
           0.8888888888888888,
           "#fdca26"
          ],
          [
           1,
           "#f0f921"
          ]
         ]
        },
        "geo": {
         "center": {},
         "domain": {
          "x": [
           0,
           1
          ],
          "y": [
           0,
           1
          ]
         },
         "lataxis": {
          "range": [
           35,
           70
          ]
         },
         "lonaxis": {
          "range": [
           -10,
           40
          ]
         },
         "showcountries": true,
         "visible": true
        },
        "legend": {
         "tracegroupgap": 0
        },
        "template": {
         "data": {
          "bar": [
           {
            "error_x": {
             "color": "#2a3f5f"
            },
            "error_y": {
             "color": "#2a3f5f"
            },
            "marker": {
             "line": {
              "color": "#E5ECF6",
              "width": 0.5
             },
             "pattern": {
              "fillmode": "overlay",
              "size": 10,
              "solidity": 0.2
             }
            },
            "type": "bar"
           }
          ],
          "barpolar": [
           {
            "marker": {
             "line": {
              "color": "#E5ECF6",
              "width": 0.5
             },
             "pattern": {
              "fillmode": "overlay",
              "size": 10,
              "solidity": 0.2
             }
            },
            "type": "barpolar"
           }
          ],
          "carpet": [
           {
            "aaxis": {
             "endlinecolor": "#2a3f5f",
             "gridcolor": "white",
             "linecolor": "white",
             "minorgridcolor": "white",
             "startlinecolor": "#2a3f5f"
            },
            "baxis": {
             "endlinecolor": "#2a3f5f",
             "gridcolor": "white",
             "linecolor": "white",
             "minorgridcolor": "white",
             "startlinecolor": "#2a3f5f"
            },
            "type": "carpet"
           }
          ],
          "choropleth": [
           {
            "colorbar": {
             "outlinewidth": 0,
             "ticks": ""
            },
            "type": "choropleth"
           }
          ],
          "contour": [
           {
            "colorbar": {
             "outlinewidth": 0,
             "ticks": ""
            },
            "colorscale": [
             [
              0,
              "#0d0887"
             ],
             [
              0.1111111111111111,
              "#46039f"
             ],
             [
              0.2222222222222222,
              "#7201a8"
             ],
             [
              0.3333333333333333,
              "#9c179e"
             ],
             [
              0.4444444444444444,
              "#bd3786"
             ],
             [
              0.5555555555555556,
              "#d8576b"
             ],
             [
              0.6666666666666666,
              "#ed7953"
             ],
             [
              0.7777777777777778,
              "#fb9f3a"
             ],
             [
              0.8888888888888888,
              "#fdca26"
             ],
             [
              1,
              "#f0f921"
             ]
            ],
            "type": "contour"
           }
          ],
          "contourcarpet": [
           {
            "colorbar": {
             "outlinewidth": 0,
             "ticks": ""
            },
            "type": "contourcarpet"
           }
          ],
          "heatmap": [
           {
            "colorbar": {
             "outlinewidth": 0,
             "ticks": ""
            },
            "colorscale": [
             [
              0,
              "#0d0887"
             ],
             [
              0.1111111111111111,
              "#46039f"
             ],
             [
              0.2222222222222222,
              "#7201a8"
             ],
             [
              0.3333333333333333,
              "#9c179e"
             ],
             [
              0.4444444444444444,
              "#bd3786"
             ],
             [
              0.5555555555555556,
              "#d8576b"
             ],
             [
              0.6666666666666666,
              "#ed7953"
             ],
             [
              0.7777777777777778,
              "#fb9f3a"
             ],
             [
              0.8888888888888888,
              "#fdca26"
             ],
             [
              1,
              "#f0f921"
             ]
            ],
            "type": "heatmap"
           }
          ],
          "heatmapgl": [
           {
            "colorbar": {
             "outlinewidth": 0,
             "ticks": ""
            },
            "colorscale": [
             [
              0,
              "#0d0887"
             ],
             [
              0.1111111111111111,
              "#46039f"
             ],
             [
              0.2222222222222222,
              "#7201a8"
             ],
             [
              0.3333333333333333,
              "#9c179e"
             ],
             [
              0.4444444444444444,
              "#bd3786"
             ],
             [
              0.5555555555555556,
              "#d8576b"
             ],
             [
              0.6666666666666666,
              "#ed7953"
             ],
             [
              0.7777777777777778,
              "#fb9f3a"
             ],
             [
              0.8888888888888888,
              "#fdca26"
             ],
             [
              1,
              "#f0f921"
             ]
            ],
            "type": "heatmapgl"
           }
          ],
          "histogram": [
           {
            "marker": {
             "pattern": {
              "fillmode": "overlay",
              "size": 10,
              "solidity": 0.2
             }
            },
            "type": "histogram"
           }
          ],
          "histogram2d": [
           {
            "colorbar": {
             "outlinewidth": 0,
             "ticks": ""
            },
            "colorscale": [
             [
              0,
              "#0d0887"
             ],
             [
              0.1111111111111111,
              "#46039f"
             ],
             [
              0.2222222222222222,
              "#7201a8"
             ],
             [
              0.3333333333333333,
              "#9c179e"
             ],
             [
              0.4444444444444444,
              "#bd3786"
             ],
             [
              0.5555555555555556,
              "#d8576b"
             ],
             [
              0.6666666666666666,
              "#ed7953"
             ],
             [
              0.7777777777777778,
              "#fb9f3a"
             ],
             [
              0.8888888888888888,
              "#fdca26"
             ],
             [
              1,
              "#f0f921"
             ]
            ],
            "type": "histogram2d"
           }
          ],
          "histogram2dcontour": [
           {
            "colorbar": {
             "outlinewidth": 0,
             "ticks": ""
            },
            "colorscale": [
             [
              0,
              "#0d0887"
             ],
             [
              0.1111111111111111,
              "#46039f"
             ],
             [
              0.2222222222222222,
              "#7201a8"
             ],
             [
              0.3333333333333333,
              "#9c179e"
             ],
             [
              0.4444444444444444,
              "#bd3786"
             ],
             [
              0.5555555555555556,
              "#d8576b"
             ],
             [
              0.6666666666666666,
              "#ed7953"
             ],
             [
              0.7777777777777778,
              "#fb9f3a"
             ],
             [
              0.8888888888888888,
              "#fdca26"
             ],
             [
              1,
              "#f0f921"
             ]
            ],
            "type": "histogram2dcontour"
           }
          ],
          "mesh3d": [
           {
            "colorbar": {
             "outlinewidth": 0,
             "ticks": ""
            },
            "type": "mesh3d"
           }
          ],
          "parcoords": [
           {
            "line": {
             "colorbar": {
              "outlinewidth": 0,
              "ticks": ""
             }
            },
            "type": "parcoords"
           }
          ],
          "pie": [
           {
            "automargin": true,
            "type": "pie"
           }
          ],
          "scatter": [
           {
            "fillpattern": {
             "fillmode": "overlay",
             "size": 10,
             "solidity": 0.2
            },
            "type": "scatter"
           }
          ],
          "scatter3d": [
           {
            "line": {
             "colorbar": {
              "outlinewidth": 0,
              "ticks": ""
             }
            },
            "marker": {
             "colorbar": {
              "outlinewidth": 0,
              "ticks": ""
             }
            },
            "type": "scatter3d"
           }
          ],
          "scattercarpet": [
           {
            "marker": {
             "colorbar": {
              "outlinewidth": 0,
              "ticks": ""
             }
            },
            "type": "scattercarpet"
           }
          ],
          "scattergeo": [
           {
            "marker": {
             "colorbar": {
              "outlinewidth": 0,
              "ticks": ""
             }
            },
            "type": "scattergeo"
           }
          ],
          "scattergl": [
           {
            "marker": {
             "colorbar": {
              "outlinewidth": 0,
              "ticks": ""
             }
            },
            "type": "scattergl"
           }
          ],
          "scattermapbox": [
           {
            "marker": {
             "colorbar": {
              "outlinewidth": 0,
              "ticks": ""
             }
            },
            "type": "scattermapbox"
           }
          ],
          "scatterpolar": [
           {
            "marker": {
             "colorbar": {
              "outlinewidth": 0,
              "ticks": ""
             }
            },
            "type": "scatterpolar"
           }
          ],
          "scatterpolargl": [
           {
            "marker": {
             "colorbar": {
              "outlinewidth": 0,
              "ticks": ""
             }
            },
            "type": "scatterpolargl"
           }
          ],
          "scatterternary": [
           {
            "marker": {
             "colorbar": {
              "outlinewidth": 0,
              "ticks": ""
             }
            },
            "type": "scatterternary"
           }
          ],
          "surface": [
           {
            "colorbar": {
             "outlinewidth": 0,
             "ticks": ""
            },
            "colorscale": [
             [
              0,
              "#0d0887"
             ],
             [
              0.1111111111111111,
              "#46039f"
             ],
             [
              0.2222222222222222,
              "#7201a8"
             ],
             [
              0.3333333333333333,
              "#9c179e"
             ],
             [
              0.4444444444444444,
              "#bd3786"
             ],
             [
              0.5555555555555556,
              "#d8576b"
             ],
             [
              0.6666666666666666,
              "#ed7953"
             ],
             [
              0.7777777777777778,
              "#fb9f3a"
             ],
             [
              0.8888888888888888,
              "#fdca26"
             ],
             [
              1,
              "#f0f921"
             ]
            ],
            "type": "surface"
           }
          ],
          "table": [
           {
            "cells": {
             "fill": {
              "color": "#EBF0F8"
             },
             "line": {
              "color": "white"
             }
            },
            "header": {
             "fill": {
              "color": "#C8D4E3"
             },
             "line": {
              "color": "white"
             }
            },
            "type": "table"
           }
          ]
         },
         "layout": {
          "annotationdefaults": {
           "arrowcolor": "#2a3f5f",
           "arrowhead": 0,
           "arrowwidth": 1
          },
          "autotypenumbers": "strict",
          "coloraxis": {
           "colorbar": {
            "outlinewidth": 0,
            "ticks": ""
           }
          },
          "colorscale": {
           "diverging": [
            [
             0,
             "#8e0152"
            ],
            [
             0.1,
             "#c51b7d"
            ],
            [
             0.2,
             "#de77ae"
            ],
            [
             0.3,
             "#f1b6da"
            ],
            [
             0.4,
             "#fde0ef"
            ],
            [
             0.5,
             "#f7f7f7"
            ],
            [
             0.6,
             "#e6f5d0"
            ],
            [
             0.7,
             "#b8e186"
            ],
            [
             0.8,
             "#7fbc41"
            ],
            [
             0.9,
             "#4d9221"
            ],
            [
             1,
             "#276419"
            ]
           ],
           "sequential": [
            [
             0,
             "#0d0887"
            ],
            [
             0.1111111111111111,
             "#46039f"
            ],
            [
             0.2222222222222222,
             "#7201a8"
            ],
            [
             0.3333333333333333,
             "#9c179e"
            ],
            [
             0.4444444444444444,
             "#bd3786"
            ],
            [
             0.5555555555555556,
             "#d8576b"
            ],
            [
             0.6666666666666666,
             "#ed7953"
            ],
            [
             0.7777777777777778,
             "#fb9f3a"
            ],
            [
             0.8888888888888888,
             "#fdca26"
            ],
            [
             1,
             "#f0f921"
            ]
           ],
           "sequentialminus": [
            [
             0,
             "#0d0887"
            ],
            [
             0.1111111111111111,
             "#46039f"
            ],
            [
             0.2222222222222222,
             "#7201a8"
            ],
            [
             0.3333333333333333,
             "#9c179e"
            ],
            [
             0.4444444444444444,
             "#bd3786"
            ],
            [
             0.5555555555555556,
             "#d8576b"
            ],
            [
             0.6666666666666666,
             "#ed7953"
            ],
            [
             0.7777777777777778,
             "#fb9f3a"
            ],
            [
             0.8888888888888888,
             "#fdca26"
            ],
            [
             1,
             "#f0f921"
            ]
           ]
          },
          "colorway": [
           "#636efa",
           "#EF553B",
           "#00cc96",
           "#ab63fa",
           "#FFA15A",
           "#19d3f3",
           "#FF6692",
           "#B6E880",
           "#FF97FF",
           "#FECB52"
          ],
          "font": {
           "color": "#2a3f5f"
          },
          "geo": {
           "bgcolor": "white",
           "lakecolor": "white",
           "landcolor": "#E5ECF6",
           "showlakes": true,
           "showland": true,
           "subunitcolor": "white"
          },
          "hoverlabel": {
           "align": "left"
          },
          "hovermode": "closest",
          "mapbox": {
           "style": "light"
          },
          "paper_bgcolor": "white",
          "plot_bgcolor": "#E5ECF6",
          "polar": {
           "angularaxis": {
            "gridcolor": "white",
            "linecolor": "white",
            "ticks": ""
           },
           "bgcolor": "#E5ECF6",
           "radialaxis": {
            "gridcolor": "white",
            "linecolor": "white",
            "ticks": ""
           }
          },
          "scene": {
           "xaxis": {
            "backgroundcolor": "#E5ECF6",
            "gridcolor": "white",
            "gridwidth": 2,
            "linecolor": "white",
            "showbackground": true,
            "ticks": "",
            "zerolinecolor": "white"
           },
           "yaxis": {
            "backgroundcolor": "#E5ECF6",
            "gridcolor": "white",
            "gridwidth": 2,
            "linecolor": "white",
            "showbackground": true,
            "ticks": "",
            "zerolinecolor": "white"
           },
           "zaxis": {
            "backgroundcolor": "#E5ECF6",
            "gridcolor": "white",
            "gridwidth": 2,
            "linecolor": "white",
            "showbackground": true,
            "ticks": "",
            "zerolinecolor": "white"
           }
          },
          "shapedefaults": {
           "line": {
            "color": "#2a3f5f"
           }
          },
          "ternary": {
           "aaxis": {
            "gridcolor": "white",
            "linecolor": "white",
            "ticks": ""
           },
           "baxis": {
            "gridcolor": "white",
            "linecolor": "white",
            "ticks": ""
           },
           "bgcolor": "#E5ECF6",
           "caxis": {
            "gridcolor": "white",
            "linecolor": "white",
            "ticks": ""
           }
          },
          "title": {
           "x": 0.05
          },
          "xaxis": {
           "automargin": true,
           "gridcolor": "white",
           "linecolor": "white",
           "ticks": "",
           "title": {
            "standoff": 15
           },
           "zerolinecolor": "white",
           "zerolinewidth": 2
          },
          "yaxis": {
           "automargin": true,
           "gridcolor": "white",
           "linecolor": "white",
           "ticks": "",
           "title": {
            "standoff": 15
           },
           "zerolinecolor": "white",
           "zerolinewidth": 2
          }
         }
        },
        "title": {
         "text": "Heatmap of Oscar Winning Actors by Country"
        }
       }
      }
     },
     "metadata": {},
     "output_type": "display_data"
    }
   ],
   "source": [
    "country_counts = oscar_actors_movies['countryOfCitizenshipLabel'].value_counts()\n",
    "country_counts = country_counts.reset_index()\n",
    "country_counts.columns = ['Country', 'Count']\n",
    "\n",
    "fig = px.choropleth(country_counts, \n",
    "                    locations=\"Country\", \n",
    "                    locationmode='country names', \n",
    "                    color=\"Count\", \n",
    "                    hover_name=\"Country\", \n",
    "                    title=\"Heatmap of Oscar Winning Actors by Country\")\n",
    "fig.update_geos(showcountries=True, visible=True)\n",
    "fig.update_geos(lonaxis_range=[-10, 40], lataxis_range=[35, 70])\n",
    "fig.show()"
   ]
  },
  {
   "cell_type": "code",
   "execution_count": 43,
   "metadata": {},
   "outputs": [
    {
     "name": "stdout",
     "output_type": "stream",
     "text": [
      "Index(['Wikipedia movie ID', 'Freebase movie ID', 'Movie name',\n",
      "       'Movie release date', 'Movie box office revenue', 'Movie runtime',\n",
      "       'Movie languages', 'Movie countries', 'Movie genres', 'Actors id',\n",
      "       'wikidata_id', 'sexLabel', 'nativeLanguageLabel',\n",
      "       'countryOfCitizenshipLabel', 'ethnicGroupLabel', 'Actor name',\n",
      "       'Actor age at movie release', 'Actor date of birth', 'Actor ethnicity'],\n",
      "      dtype='object')\n"
     ]
    }
   ],
   "source": [
    "print(oscar_actors_movies.columns)"
   ]
  },
  {
   "cell_type": "code",
   "execution_count": 54,
   "metadata": {},
   "outputs": [
    {
     "ename": "ValueError",
     "evalue": "Pandas data cast to numpy dtype of object. Check input data with np.asarray(data).",
     "output_type": "error",
     "traceback": [
      "\u001b[1;31m---------------------------------------------------------------------------\u001b[0m",
      "\u001b[1;31mValueError\u001b[0m                                Traceback (most recent call last)",
      "Cell \u001b[1;32mIn[54], line 16\u001b[0m\n\u001b[0;32m     13\u001b[0m X \u001b[38;5;241m=\u001b[39m sm\u001b[38;5;241m.\u001b[39madd_constant(X)\n\u001b[0;32m     15\u001b[0m \u001b[38;5;66;03m# Train the OLS model\u001b[39;00m\n\u001b[1;32m---> 16\u001b[0m model \u001b[38;5;241m=\u001b[39m sm\u001b[38;5;241m.\u001b[39mOLS(y, X)\u001b[38;5;241m.\u001b[39mfit()\n\u001b[0;32m     18\u001b[0m \u001b[38;5;66;03m# Print the summary of the model\u001b[39;00m\n\u001b[0;32m     19\u001b[0m \u001b[38;5;28mprint\u001b[39m(model\u001b[38;5;241m.\u001b[39msummary())\n",
      "File \u001b[1;32md:\\Anaconda\\envs\\ada\\Lib\\site-packages\\statsmodels\\regression\\linear_model.py:921\u001b[0m, in \u001b[0;36mOLS.__init__\u001b[1;34m(self, endog, exog, missing, hasconst, **kwargs)\u001b[0m\n\u001b[0;32m    918\u001b[0m     msg \u001b[38;5;241m=\u001b[39m (\u001b[38;5;124m\"\u001b[39m\u001b[38;5;124mWeights are not supported in OLS and will be ignored\u001b[39m\u001b[38;5;124m\"\u001b[39m\n\u001b[0;32m    919\u001b[0m            \u001b[38;5;124m\"\u001b[39m\u001b[38;5;124mAn exception will be raised in the next version.\u001b[39m\u001b[38;5;124m\"\u001b[39m)\n\u001b[0;32m    920\u001b[0m     warnings\u001b[38;5;241m.\u001b[39mwarn(msg, ValueWarning)\n\u001b[1;32m--> 921\u001b[0m \u001b[38;5;28msuper\u001b[39m()\u001b[38;5;241m.\u001b[39m\u001b[38;5;21m__init__\u001b[39m(endog, exog, missing\u001b[38;5;241m=\u001b[39mmissing,\n\u001b[0;32m    922\u001b[0m                           hasconst\u001b[38;5;241m=\u001b[39mhasconst, \u001b[38;5;241m*\u001b[39m\u001b[38;5;241m*\u001b[39mkwargs)\n\u001b[0;32m    923\u001b[0m \u001b[38;5;28;01mif\u001b[39;00m \u001b[38;5;124m\"\u001b[39m\u001b[38;5;124mweights\u001b[39m\u001b[38;5;124m\"\u001b[39m \u001b[38;5;129;01min\u001b[39;00m \u001b[38;5;28mself\u001b[39m\u001b[38;5;241m.\u001b[39m_init_keys:\n\u001b[0;32m    924\u001b[0m     \u001b[38;5;28mself\u001b[39m\u001b[38;5;241m.\u001b[39m_init_keys\u001b[38;5;241m.\u001b[39mremove(\u001b[38;5;124m\"\u001b[39m\u001b[38;5;124mweights\u001b[39m\u001b[38;5;124m\"\u001b[39m)\n",
      "File \u001b[1;32md:\\Anaconda\\envs\\ada\\Lib\\site-packages\\statsmodels\\regression\\linear_model.py:746\u001b[0m, in \u001b[0;36mWLS.__init__\u001b[1;34m(self, endog, exog, weights, missing, hasconst, **kwargs)\u001b[0m\n\u001b[0;32m    744\u001b[0m \u001b[38;5;28;01melse\u001b[39;00m:\n\u001b[0;32m    745\u001b[0m     weights \u001b[38;5;241m=\u001b[39m weights\u001b[38;5;241m.\u001b[39msqueeze()\n\u001b[1;32m--> 746\u001b[0m \u001b[38;5;28msuper\u001b[39m()\u001b[38;5;241m.\u001b[39m\u001b[38;5;21m__init__\u001b[39m(endog, exog, missing\u001b[38;5;241m=\u001b[39mmissing,\n\u001b[0;32m    747\u001b[0m                           weights\u001b[38;5;241m=\u001b[39mweights, hasconst\u001b[38;5;241m=\u001b[39mhasconst, \u001b[38;5;241m*\u001b[39m\u001b[38;5;241m*\u001b[39mkwargs)\n\u001b[0;32m    748\u001b[0m nobs \u001b[38;5;241m=\u001b[39m \u001b[38;5;28mself\u001b[39m\u001b[38;5;241m.\u001b[39mexog\u001b[38;5;241m.\u001b[39mshape[\u001b[38;5;241m0\u001b[39m]\n\u001b[0;32m    749\u001b[0m weights \u001b[38;5;241m=\u001b[39m \u001b[38;5;28mself\u001b[39m\u001b[38;5;241m.\u001b[39mweights\n",
      "File \u001b[1;32md:\\Anaconda\\envs\\ada\\Lib\\site-packages\\statsmodels\\regression\\linear_model.py:200\u001b[0m, in \u001b[0;36mRegressionModel.__init__\u001b[1;34m(self, endog, exog, **kwargs)\u001b[0m\n\u001b[0;32m    199\u001b[0m \u001b[38;5;28;01mdef\u001b[39;00m \u001b[38;5;21m__init__\u001b[39m(\u001b[38;5;28mself\u001b[39m, endog, exog, \u001b[38;5;241m*\u001b[39m\u001b[38;5;241m*\u001b[39mkwargs):\n\u001b[1;32m--> 200\u001b[0m     \u001b[38;5;28msuper\u001b[39m()\u001b[38;5;241m.\u001b[39m\u001b[38;5;21m__init__\u001b[39m(endog, exog, \u001b[38;5;241m*\u001b[39m\u001b[38;5;241m*\u001b[39mkwargs)\n\u001b[0;32m    201\u001b[0m     \u001b[38;5;28mself\u001b[39m\u001b[38;5;241m.\u001b[39mpinv_wexog: Float64Array \u001b[38;5;241m|\u001b[39m \u001b[38;5;28;01mNone\u001b[39;00m \u001b[38;5;241m=\u001b[39m \u001b[38;5;28;01mNone\u001b[39;00m\n\u001b[0;32m    202\u001b[0m     \u001b[38;5;28mself\u001b[39m\u001b[38;5;241m.\u001b[39m_data_attr\u001b[38;5;241m.\u001b[39mextend([\u001b[38;5;124m'\u001b[39m\u001b[38;5;124mpinv_wexog\u001b[39m\u001b[38;5;124m'\u001b[39m, \u001b[38;5;124m'\u001b[39m\u001b[38;5;124mwendog\u001b[39m\u001b[38;5;124m'\u001b[39m, \u001b[38;5;124m'\u001b[39m\u001b[38;5;124mwexog\u001b[39m\u001b[38;5;124m'\u001b[39m, \u001b[38;5;124m'\u001b[39m\u001b[38;5;124mweights\u001b[39m\u001b[38;5;124m'\u001b[39m])\n",
      "File \u001b[1;32md:\\Anaconda\\envs\\ada\\Lib\\site-packages\\statsmodels\\base\\model.py:270\u001b[0m, in \u001b[0;36mLikelihoodModel.__init__\u001b[1;34m(self, endog, exog, **kwargs)\u001b[0m\n\u001b[0;32m    269\u001b[0m \u001b[38;5;28;01mdef\u001b[39;00m \u001b[38;5;21m__init__\u001b[39m(\u001b[38;5;28mself\u001b[39m, endog, exog\u001b[38;5;241m=\u001b[39m\u001b[38;5;28;01mNone\u001b[39;00m, \u001b[38;5;241m*\u001b[39m\u001b[38;5;241m*\u001b[39mkwargs):\n\u001b[1;32m--> 270\u001b[0m     \u001b[38;5;28msuper\u001b[39m()\u001b[38;5;241m.\u001b[39m\u001b[38;5;21m__init__\u001b[39m(endog, exog, \u001b[38;5;241m*\u001b[39m\u001b[38;5;241m*\u001b[39mkwargs)\n\u001b[0;32m    271\u001b[0m     \u001b[38;5;28mself\u001b[39m\u001b[38;5;241m.\u001b[39minitialize()\n",
      "File \u001b[1;32md:\\Anaconda\\envs\\ada\\Lib\\site-packages\\statsmodels\\base\\model.py:95\u001b[0m, in \u001b[0;36mModel.__init__\u001b[1;34m(self, endog, exog, **kwargs)\u001b[0m\n\u001b[0;32m     93\u001b[0m missing \u001b[38;5;241m=\u001b[39m kwargs\u001b[38;5;241m.\u001b[39mpop(\u001b[38;5;124m'\u001b[39m\u001b[38;5;124mmissing\u001b[39m\u001b[38;5;124m'\u001b[39m, \u001b[38;5;124m'\u001b[39m\u001b[38;5;124mnone\u001b[39m\u001b[38;5;124m'\u001b[39m)\n\u001b[0;32m     94\u001b[0m hasconst \u001b[38;5;241m=\u001b[39m kwargs\u001b[38;5;241m.\u001b[39mpop(\u001b[38;5;124m'\u001b[39m\u001b[38;5;124mhasconst\u001b[39m\u001b[38;5;124m'\u001b[39m, \u001b[38;5;28;01mNone\u001b[39;00m)\n\u001b[1;32m---> 95\u001b[0m \u001b[38;5;28mself\u001b[39m\u001b[38;5;241m.\u001b[39mdata \u001b[38;5;241m=\u001b[39m \u001b[38;5;28mself\u001b[39m\u001b[38;5;241m.\u001b[39m_handle_data(endog, exog, missing, hasconst,\n\u001b[0;32m     96\u001b[0m                               \u001b[38;5;241m*\u001b[39m\u001b[38;5;241m*\u001b[39mkwargs)\n\u001b[0;32m     97\u001b[0m \u001b[38;5;28mself\u001b[39m\u001b[38;5;241m.\u001b[39mk_constant \u001b[38;5;241m=\u001b[39m \u001b[38;5;28mself\u001b[39m\u001b[38;5;241m.\u001b[39mdata\u001b[38;5;241m.\u001b[39mk_constant\n\u001b[0;32m     98\u001b[0m \u001b[38;5;28mself\u001b[39m\u001b[38;5;241m.\u001b[39mexog \u001b[38;5;241m=\u001b[39m \u001b[38;5;28mself\u001b[39m\u001b[38;5;241m.\u001b[39mdata\u001b[38;5;241m.\u001b[39mexog\n",
      "File \u001b[1;32md:\\Anaconda\\envs\\ada\\Lib\\site-packages\\statsmodels\\base\\model.py:135\u001b[0m, in \u001b[0;36mModel._handle_data\u001b[1;34m(self, endog, exog, missing, hasconst, **kwargs)\u001b[0m\n\u001b[0;32m    134\u001b[0m \u001b[38;5;28;01mdef\u001b[39;00m \u001b[38;5;21m_handle_data\u001b[39m(\u001b[38;5;28mself\u001b[39m, endog, exog, missing, hasconst, \u001b[38;5;241m*\u001b[39m\u001b[38;5;241m*\u001b[39mkwargs):\n\u001b[1;32m--> 135\u001b[0m     data \u001b[38;5;241m=\u001b[39m handle_data(endog, exog, missing, hasconst, \u001b[38;5;241m*\u001b[39m\u001b[38;5;241m*\u001b[39mkwargs)\n\u001b[0;32m    136\u001b[0m     \u001b[38;5;66;03m# kwargs arrays could have changed, easier to just attach here\u001b[39;00m\n\u001b[0;32m    137\u001b[0m     \u001b[38;5;28;01mfor\u001b[39;00m key \u001b[38;5;129;01min\u001b[39;00m kwargs:\n",
      "File \u001b[1;32md:\\Anaconda\\envs\\ada\\Lib\\site-packages\\statsmodels\\base\\data.py:675\u001b[0m, in \u001b[0;36mhandle_data\u001b[1;34m(endog, exog, missing, hasconst, **kwargs)\u001b[0m\n\u001b[0;32m    672\u001b[0m     exog \u001b[38;5;241m=\u001b[39m np\u001b[38;5;241m.\u001b[39masarray(exog)\n\u001b[0;32m    674\u001b[0m klass \u001b[38;5;241m=\u001b[39m handle_data_class_factory(endog, exog)\n\u001b[1;32m--> 675\u001b[0m \u001b[38;5;28;01mreturn\u001b[39;00m klass(endog, exog\u001b[38;5;241m=\u001b[39mexog, missing\u001b[38;5;241m=\u001b[39mmissing, hasconst\u001b[38;5;241m=\u001b[39mhasconst,\n\u001b[0;32m    676\u001b[0m              \u001b[38;5;241m*\u001b[39m\u001b[38;5;241m*\u001b[39mkwargs)\n",
      "File \u001b[1;32md:\\Anaconda\\envs\\ada\\Lib\\site-packages\\statsmodels\\base\\data.py:84\u001b[0m, in \u001b[0;36mModelData.__init__\u001b[1;34m(self, endog, exog, missing, hasconst, **kwargs)\u001b[0m\n\u001b[0;32m     82\u001b[0m     \u001b[38;5;28mself\u001b[39m\u001b[38;5;241m.\u001b[39morig_endog \u001b[38;5;241m=\u001b[39m endog\n\u001b[0;32m     83\u001b[0m     \u001b[38;5;28mself\u001b[39m\u001b[38;5;241m.\u001b[39morig_exog \u001b[38;5;241m=\u001b[39m exog\n\u001b[1;32m---> 84\u001b[0m     \u001b[38;5;28mself\u001b[39m\u001b[38;5;241m.\u001b[39mendog, \u001b[38;5;28mself\u001b[39m\u001b[38;5;241m.\u001b[39mexog \u001b[38;5;241m=\u001b[39m \u001b[38;5;28mself\u001b[39m\u001b[38;5;241m.\u001b[39m_convert_endog_exog(endog, exog)\n\u001b[0;32m     86\u001b[0m \u001b[38;5;28mself\u001b[39m\u001b[38;5;241m.\u001b[39mconst_idx \u001b[38;5;241m=\u001b[39m \u001b[38;5;28;01mNone\u001b[39;00m\n\u001b[0;32m     87\u001b[0m \u001b[38;5;28mself\u001b[39m\u001b[38;5;241m.\u001b[39mk_constant \u001b[38;5;241m=\u001b[39m \u001b[38;5;241m0\u001b[39m\n",
      "File \u001b[1;32md:\\Anaconda\\envs\\ada\\Lib\\site-packages\\statsmodels\\base\\data.py:509\u001b[0m, in \u001b[0;36mPandasData._convert_endog_exog\u001b[1;34m(self, endog, exog)\u001b[0m\n\u001b[0;32m    507\u001b[0m exog \u001b[38;5;241m=\u001b[39m exog \u001b[38;5;28;01mif\u001b[39;00m exog \u001b[38;5;129;01mis\u001b[39;00m \u001b[38;5;28;01mNone\u001b[39;00m \u001b[38;5;28;01melse\u001b[39;00m np\u001b[38;5;241m.\u001b[39masarray(exog)\n\u001b[0;32m    508\u001b[0m \u001b[38;5;28;01mif\u001b[39;00m endog\u001b[38;5;241m.\u001b[39mdtype \u001b[38;5;241m==\u001b[39m \u001b[38;5;28mobject\u001b[39m \u001b[38;5;129;01mor\u001b[39;00m exog \u001b[38;5;129;01mis\u001b[39;00m \u001b[38;5;129;01mnot\u001b[39;00m \u001b[38;5;28;01mNone\u001b[39;00m \u001b[38;5;129;01mand\u001b[39;00m exog\u001b[38;5;241m.\u001b[39mdtype \u001b[38;5;241m==\u001b[39m \u001b[38;5;28mobject\u001b[39m:\n\u001b[1;32m--> 509\u001b[0m     \u001b[38;5;28;01mraise\u001b[39;00m \u001b[38;5;167;01mValueError\u001b[39;00m(\u001b[38;5;124m\"\u001b[39m\u001b[38;5;124mPandas data cast to numpy dtype of object. \u001b[39m\u001b[38;5;124m\"\u001b[39m\n\u001b[0;32m    510\u001b[0m                      \u001b[38;5;124m\"\u001b[39m\u001b[38;5;124mCheck input data with np.asarray(data).\u001b[39m\u001b[38;5;124m\"\u001b[39m)\n\u001b[0;32m    511\u001b[0m \u001b[38;5;28;01mreturn\u001b[39;00m \u001b[38;5;28msuper\u001b[39m()\u001b[38;5;241m.\u001b[39m_convert_endog_exog(endog, exog)\n",
      "\u001b[1;31mValueError\u001b[0m: Pandas data cast to numpy dtype of object. Check input data with np.asarray(data)."
     ]
    }
   ],
   "source": [
    "import statsmodels.api as sm\n",
    "\n",
    "# Select relevant features and target variable\n",
    "oscar_actors_movies[\"Awards won\"] = 1\n",
    "features = ['Actor age at movie release', 'Movie box office revenue', 'Movie runtime', 'nativeLanguageLabel', 'Movie countries', 'countryOfCitizenshipLabel']\n",
    "target = \"Awards won\"\n",
    "\n",
    "# Prepare the data\n",
    "X = pd.get_dummies(oscar_actors_movies[features].dropna())\n",
    "y = oscar_actors_movies.loc[X.index, target].astype(float)\n",
    "\n",
    "# Add a constant to the features (intercept term)\n",
    "X = sm.add_constant(X)\n",
    "\n",
    "# Train the OLS model\n",
    "model = sm.OLS(y, X).fit()\n",
    "\n",
    "# Print the summary of the model\n",
    "print(model.summary())"
   ]
  },
  {
   "cell_type": "code",
   "execution_count": null,
   "metadata": {},
   "outputs": [],
   "source": [
    "# Select relevant features and target variable\n",
    "features = ['Actor age at movie release', 'Movie box office revenue', 'Movie runtime', 'Movie Languages', 'nativeLanguageLabel', 'Movie countries', 'countryOfCitizenshipLabel']\n",
    "target = \n",
    "\n",
    "# Prepare the data\n",
    "X = oscar_actors_movies[features].dropna()\n",
    "y = oscar_actors_movies.loc[X.index, target]\n",
    "\n",
    "# Add a constant to the features (intercept term)\n",
    "X = sm.add_constant(X)\n",
    "\n",
    "# Train the OLS model\n",
    "model = sm.OLS(y, X).fit()\n",
    "\n",
    "# Print the summary of the model\n",
    "print(model.summary())"
   ]
  },
  {
   "cell_type": "code",
   "execution_count": null,
   "metadata": {},
   "outputs": [],
   "source": []
  }
 ],
 "metadata": {
  "kernelspec": {
   "display_name": "ada",
   "language": "python",
   "name": "python3"
  },
  "language_info": {
   "codemirror_mode": {
    "name": "ipython",
    "version": 3
   },
   "file_extension": ".py",
   "mimetype": "text/x-python",
   "name": "python",
   "nbconvert_exporter": "python",
   "pygments_lexer": "ipython3",
   "version": "3.11.9"
  }
 },
 "nbformat": 4,
 "nbformat_minor": 2
}
