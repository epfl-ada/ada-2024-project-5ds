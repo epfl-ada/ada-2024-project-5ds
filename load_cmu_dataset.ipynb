{
 "cells": [
  {
   "cell_type": "markdown",
   "id": "579b567a-2b80-4bf1-8cc1-c514da76ca50",
   "metadata": {},
   "source": [
    "# (ADA) Homework 1: Scoring the Language Model Olympics\n",
    "\n",
    "---\n",
    "\n",
    "By the end of this homework, we expect you to be able to:\n",
    "\n",
    "- Load data and handle data using pandas;\n",
    "- Navigate the documentation of Python packages by yourself;\n",
    "- Filter and tidy up noisy real-world datasets;\n",
    "- Aggregate your data in different (and hopefully helpful) ways;\n",
    "- Create meaningful visualizations to analyze the data;\n",
    "- Communicate your findings in a clear and concise manner\n",
    "\n",
    "---\n",
    "\n",
    "**Important Dates.**\n",
    "\n",
    "- Homework release: Fri 04 Oct 2024\n",
    "- Homework due: Sat 18 Oct 2024, 23:59\n",
    "- Grade release: Mon 04 Nov 2024\n",
    "\n",
    "**Some rules**\n",
    "\n",
    "- You are allowed to use any built-in Python library that comes with Anaconda. If you want to use an external library, you may do so, but must justify your choice.\n",
    "- Make sure you use the data folder provided in the repository in read-only mode. (Or alternatively, be sure you don’t change any of the files.)\n",
    "- Be sure to provide a concise textual description of your thought process, the assumptions you made, the solution you implemented, and explanations for your answers. A notebook that only has code cells will not suffice. To avoid confusion: use short comments for longer code answers.\n",
    "- For questions containing the /Discuss:/ prefix, answer not with code, but with a textual explanation (in markdown).\n",
    "- Back up any hypotheses and claims with data, since this is an important aspect of the course.\n",
    "- Please write all your comments in English, and use meaningful variable names in your code. Your repo should have a single notebook (plus the required data files) in the master/main branch. If there are multiple notebooks present, we will not grade anything.\n",
    "- We will not run your notebook for you! Rather, we will grade it as is, which means that only the results contained in your evaluated code cells will be considered, and we will not see the results in unevaluated code cells. Thus, be sure to hand in a fully-run and evaluated notebook. In order to check whether everything looks as intended, you can check the rendered notebook on the GitHub website once you have pushed your solution there.\n",
    "- In continuation to the previous point, interactive plots, such as those generated using the ‘plotly’ package, should be strictly avoided! Make sure to print results and/or dataframes that confirm you have properly addressed the task.\n",
    "\n",
    "**A Note on using Language Models (LMs)**\n",
    "\n",
    "If you try hard enough, you will likely get away with cheating. Fortunately, our job is not to police, but rather to educate! So, please consider the following:\n",
    "- Presumably, you are taking this course to learn something! LMs are not always right ([they often fail in silly ways](https://community.openai.com/t/why-9-11-is-larger-than-9-9-incredible/869824/4)). This course should prepare you to detect when they are wrong!\n",
    "- Some of the TAs on this course literally published many works on detecting machine-generated text.\n",
    "---"
   ]
  },
  {
   "cell_type": "code",
   "execution_count": null,
   "id": "b666deed-9c5a-4d3f-9e83-98131dc9344a",
   "metadata": {},
   "outputs": [],
   "source": []
  },
  {
   "cell_type": "markdown",
   "id": "4f85896e-c0ae-4ae3-af41-46149faa2278",
   "metadata": {},
   "source": [
    "## Context\n",
    "\n",
    "Context\n",
    "AI is booming! Newspapers, influencers, and your relatives all agree that AI is important. But while almost everyone agrees that AI is the future, much is unclear about what that future looks like…\n",
    "\n",
    "Freshly graduated from the EPFL, you are hired by the Swiss government to advise on a large-scale “AI integration” initiative code-named **\"NEUTRALITY\"** (Navigating Efficient Upgrades Through Robust Artificial Learning Integration Techniques Yearly). Convinced by the stunning progress in language modeling, the government would like to battle the growing shortages in the education sector by using LMs. Your job description: investigate which LMs might be best suited!\n",
    "\n",
    "You are given the results of three LMs on the [“Massive Multitask Language Understanding (MMLU)”](https://arxiv.org/abs/2009.03300) dataset to compare. This famous dataset consists of 57 subjects with multiple-choice questions, covering diverse subjects like mathematics, computer science, history, and law. Most providers of state-of-the-art LMs use this dataset to showcase the versatility of their latest models. Unfortunately, Horta-Ribeiro, the intern responsible for collecting the results, didn’t take EPFL’s famous ADA course. As a result, the collected datasets are slightly corrupted.\n",
    "\n",
    "### A very brief primer on Language Models\n",
    "Language models (LMs) are sophisticated statistical models designed to understand and generate human-like text. At their core, LMs are trained to predict the most likely continuation of a given input text. For example, given the input \"The cat sat on the,\" an LM might predict \"mat\" as a likely continuation.\n",
    "LMs are trained on vast text samples from various sources, including books, websites, and social media. This extensive training allows them to capture patterns and relationships in language, enabling them to generate coherent and contextually appropriate text across a wide range of topics and styles.\n",
    "\n",
    "While LMs can produce text that appears to be written by intelligent humans, it's important to note that their capabilities can diverge from human intelligence in unexpected ways. They may sometimes generate factually incorrect information or struggle with complex reasoning tasks.\n",
    "\n",
    "Two key concepts in understanding LMs are:\n",
    "1. **Tokens**: LMs process text using \"tokens\" rather than individual characters. Tokens can be words, parts of words, or punctuation marks. For example, the sentence \"I love AI!\" might be tokenized as [\"I\", \"love\", \"AI\", \"!\"]. Tokenization is the first step in both training and using an LM.\n",
    "2. **Context**: The input text provided to an LM is called the \"context.\" This context informs the model's predictions or generations. A longer or more specific context often leads to more accurate and relevant outputs.\n",
    "\n",
    "[See: Wikipedia entry on language models](https://en.wikipedia.org/wiki/Large_language_model)\n",
    "\n",
    "###  Files for this assignment\n",
    "This assignment is divided into three tasks, each of which should bring you a step closer to providing a recommendation toward project NEUTRALITY’s objectives:\n",
    "\n",
    "- **Task 1**: Inspecting the results and getting your first model ranking\n",
    "- **Task 2**: Inspecting the underlying data used to generate the results for possible biases\n",
    "- **Task 3**: Learning about tokens and providing a final recommendation\n",
    "\n",
    "\n",
    "```\n",
    "📁 PROJECT_NEUTRALITY\n",
    "│\n",
    "├── 📄 analysis.ipynb (the file you're currently reading!)\n",
    "├── 📄 requirements.txt (install into your environment)\n",
    "│\n",
    "├── 📁 task_1\n",
    "├── 📁 task_2\n",
    "└── 📁 task_2.5\n",
    "```   \n",
    " "
   ]
  },
  {
   "cell_type": "code",
   "execution_count": 2,
   "id": "95ce4c12-9681-401e-9489-aa0765b19d5d",
   "metadata": {},
   "outputs": [],
   "source": [
    "# please make sure you install the packages listed in the requirements.txt file in your environment!\n",
    "# using pip\n",
    "# pip install -r requirements.txt\n",
    "#\n",
    "# using Conda:\n",
    "# conda create --name <env_name> --file requirements.txt\n",
    "#\n",
    "# some basic imports\n",
    "import os\n",
    "import seaborn as sns\n",
    "import pandas as pd\n",
    "import numpy as np\n",
    "import matplotlib.pyplot as plt\n",
    "import warnings\n",
    "from scipy.stats import ttest_ind"
   ]
  },
  {
   "cell_type": "markdown",
   "id": "e62594ad-4f5f-4a46-80bc-deacf66b62e9",
   "metadata": {},
   "source": [
    "## Task 1 (18 points): What's in an average anyway?\n",
    "\n",
    "The files needed to complete task 1 can be found in the folder \"`data/task_1/`:\n",
    "```\n",
    "task_1/\n",
    "│\n",
    "├── mmlu_data/\n",
    "│   └── test.csv\n",
    "│\n",
    "└── lm_scores/\n",
    "    ├── lm_X.csv\n",
    "    ├── lm_Y.csv\n",
    "    └── lm_Z.csv\n",
    "```\n",
    "\n",
    "We will start by loading, (manually) inspecting, and cleaning the data. Although it doesn't seem \"glamorous\" (nor is it particularly fun...) - manually inspecting data is extremely important! In fact, it's one of the few things most AI and Data Science researchers agree on :). Next, we will take a first pass on ordering our Olympic podium between three LMs."
   ]
  },
  {
   "cell_type": "markdown",
   "id": "f8605646-79fa-4cb3-8137-b6951bd1e064",
   "metadata": {},
   "source": [
    "### 1.1 (1 pt)\n",
    " \n",
    "Load the subfiles contained in the `mmlu_data` and `lm_scores` folders into separate dataframes:\n",
    "- `df_test`\n",
    "- `df_x`\n",
    "- `df_y`\n",
    "- `df_z`\n",
    "\n",
    "for each, print their sizes."
   ]
  },
  {
   "cell_type": "code",
   "execution_count": 3,
   "id": "e6ce5e96-7de6-463d-a00b-6a4b2cfc8cb3",
   "metadata": {},
   "outputs": [],
   "source": [
    "data_folder = 'ada-2024-homework-1-5ds/task_1/'\n",
    "df_test = pd.read_csv(data_folder + 'mmlu_data/test.csv')\n",
    "\n",
    "df_x = pd.read_csv(data_folder + 'lm_scores/lm_X.csv')\n",
    "df_y = pd.read_csv(data_folder + 'lm_scores/lm_Y.csv')\n",
    "df_z = pd.read_csv(data_folder + 'lm_scores/lm_Z.csv')"
   ]
  },
  {
   "cell_type": "code",
   "execution_count": 4,
   "id": "4041493f-af52-4ac4-89dc-e5a18e65fc89",
   "metadata": {},
   "outputs": [
    {
     "data": {
      "text/plain": [
       "112336"
      ]
     },
     "execution_count": 4,
     "metadata": {},
     "output_type": "execute_result"
    }
   ],
   "source": [
    "df_test.size"
   ]
  },
  {
   "cell_type": "code",
   "execution_count": 5,
   "id": "784fd5a5-7e40-41fb-ad17-d70342551583",
   "metadata": {},
   "outputs": [
    {
     "data": {
      "text/plain": [
       "27764"
      ]
     },
     "execution_count": 5,
     "metadata": {},
     "output_type": "execute_result"
    }
   ],
   "source": [
    "df_x.size"
   ]
  },
  {
   "cell_type": "code",
   "execution_count": 6,
   "id": "627d880c-1016-4036-ba51-93d5abded775",
   "metadata": {},
   "outputs": [
    {
     "data": {
      "text/plain": [
       "27956"
      ]
     },
     "execution_count": 6,
     "metadata": {},
     "output_type": "execute_result"
    }
   ],
   "source": [
    "df_y.size"
   ]
  },
  {
   "cell_type": "code",
   "execution_count": 7,
   "id": "5a8e459b-88b1-442f-858c-01a68fa7322b",
   "metadata": {},
   "outputs": [
    {
     "data": {
      "text/plain": [
       "27846"
      ]
     },
     "execution_count": 7,
     "metadata": {},
     "output_type": "execute_result"
    }
   ],
   "source": [
    "df_z.size"
   ]
  },
  {
   "cell_type": "markdown",
   "id": "acbda57d-7df2-4e33-b31c-52bc0af6753e",
   "metadata": {},
   "source": [
    "### 1.2 (4 pt)\n",
    "Unfortunately, LMs don't always output the format we want. In the column `result`, the value should be one of A, B, C, or D. \n",
    "\n",
    "A. For each of the LM score dataframes, use a `value_counts()` operation and print the results. \n",
    "\n",
    "B. /Discuss:/ Inspect the results and describe the types of answer formats you see. Besides the \"expected\" case, you should be able to find at least four unexpected formats."
   ]
  },
  {
   "cell_type": "code",
   "execution_count": 8,
   "id": "1a413784-92f4-4993-b523-4524b89d248a",
   "metadata": {},
   "outputs": [
    {
     "data": {
      "text/plain": [
       "result\n",
       "D                                                                                                2894\n",
       "Answer: D                                                                                        1718\n",
       "C                                                                                                1701\n",
       "B                                                                                                1240\n",
       "D                                                                                                1145\n",
       "                                                                                                 ... \n",
       "Where the energy of interaction between the atoms is at its minimum value, so the answer is A       1\n",
       "leaves more viable offspring than others of its species., so the answer is D                        1\n",
       "A and C only, so the answer is D                                                                    1\n",
       "ADP + P → ATP, so the answer is D                                                                   1\n",
       "Monoclonal antibodies, so the answer is C                                                           1\n",
       "Name: count, Length: 141, dtype: int64"
      ]
     },
     "execution_count": 8,
     "metadata": {},
     "output_type": "execute_result"
    }
   ],
   "source": [
    "df_y['result'].value_counts()"
   ]
  },
  {
   "cell_type": "code",
   "execution_count": 9,
   "id": "8ee16eba-c96a-455a-95b8-c7c70a8fdf50",
   "metadata": {},
   "outputs": [
    {
     "data": {
      "text/plain": [
       "result\n",
       "D                                                                                   2257\n",
       "C                                                                                   2191\n",
       "B                                                                                   2127\n",
       "A                                                                                   2060\n",
       "Answer: D                                                                            777\n",
       "                                                                                    ... \n",
       "omission of a universal suffrage clause, so the answer is D                            1\n",
       "declare war, so the answer is D                                                        1\n",
       "state and local governments, by means of federal funding, so the answer is B           1\n",
       "less clearly identified with consistent political ideologies, so the answer is B       1\n",
       "Rahit, so the answer is B                                                              1\n",
       "Name: count, Length: 560, dtype: int64"
      ]
     },
     "execution_count": 9,
     "metadata": {},
     "output_type": "execute_result"
    }
   ],
   "source": [
    "df_z['result'].value_counts()"
   ]
  },
  {
   "cell_type": "markdown",
   "id": "1e6f9f45-7581-4fa7-8535-b37bf1e6fd33",
   "metadata": {},
   "source": [
    "B)\\\n",
    "After we displayed the value count for the 3 LMs result we can see that it's not always the expected format A,B,C,D, we observe different formats :"
   ]
  },
  {
   "cell_type": "code",
   "execution_count": 10,
   "id": "2864b1e5-eb04-4b9f-9c39-0e656f7a59b7",
   "metadata": {},
   "outputs": [
    {
     "data": {
      "text/plain": [
       "array(['B', 'C', 'D ', 'B ', 'Answer: B', 'A', 'Answer: D', 'Answer: C',\n",
       "       'Answer: A', 'Not Sure', 'A ', 'C ', nan, 'D', 'None of the above',\n",
       "       '3, so the answer is B',\n",
       "       'is prevented from everting by papillary muscles., so the answer is B',\n",
       "       'lingual branch of the mandibular trigeminal nerve., so the answer is A',\n",
       "       'These craters contain the only permanently shadowed regions on Mercury, so the answer is D',\n",
       "       'Unsafe practices, Wants, Fear, Trivial, so the answer is A',\n",
       "       'phosphofructokinase., so the answer is D',\n",
       "       'They provide access to phosphorus, an essential element that is limited in many kinds of soils., so the answer is C',\n",
       "       'Lead to death due to an inability of the cell to pass electrons to oxygen, thus stopping aerobic respiration and asphyxiating the cells., so the answer is A',\n",
       "       'creatine phosphorylation., so the answer is B',\n",
       "       'Mass of the moon, so the answer is A', '5, so the answer is A',\n",
       "       'True, True, so the answer is A',\n",
       "       'By overwriting the return address to point to the location of that code, so the answer is A',\n",
       "       'passes into the air above, so the answer is B',\n",
       "       'torques, so the answer is B',\n",
       "       'one-quarter the value for a tube open at both ends, so the answer is A',\n",
       "       'ejected neutrons, so the answer is D',\n",
       "       'internal reflection, so the answer is A',\n",
       "       'No, so the answer is B', 'crystal filter., so the answer is B',\n",
       "       'Inductance., so the answer is B',\n",
       "       'Both 2 and 3., so the answer is D',\n",
       "       'in parallel., so the answer is B', 'C =8π, so the answer is B',\n",
       "       'Invalid. Counterexample when L is true and K is false, so the answer is D',\n",
       "       '(∀x)(Rx ⊃ Ax), so the answer is C', '80%, so the answer is C',\n",
       "       'The appendix has a substantial amount of defensive lymphatic tissue., so the answer is C',\n",
       "       'proximal convoluted tubule, so the answer is B',\n",
       "       'Chemiosmosis, so the answer is B',\n",
       "       'temporary dipoles created by the position of electrons around the nuclei in a molecule, so the answer is A',\n",
       "       'Second order, so the answer is C',\n",
       "       '1 and 2 because they both reduce copper ions, so the answer is C',\n",
       "       'David Hume, so the answer is D',\n",
       "       'A congressperson who retires to take a position teaching political science at a university, so the answer is A',\n",
       "       'creating insurmountable obstacles to the founding of factions, so the answer is A',\n",
       "       'judicial activism, so the answer is A',\n",
       "       'voters select the winner by caucus instead of by individual ballots, so the answer is A',\n",
       "       'Fifty-one percent, so the answer is B', '13, so the answer is C',\n",
       "       '(–3, 2), so the answer is C', 'sweet, so the answer is B',\n",
       "       'remembering how to tie a tie, so the answer is B',\n",
       "       'anger, so the answer is A',\n",
       "       'the conditioned stimulus without the unconditioned stimulus, so the answer is B',\n",
       "       '70 minutes to 264 minutes, so the answer is C',\n",
       "       '6.68%, so the answer is D',\n",
       "       'Conservation, trust-busting, consumer protection, so the answer is A',\n",
       "       'it was the first time the presidency shifted from one political party to another., so the answer is B',\n",
       "       'Unregulated currency and federal debts after the War of 1812, so the answer is B',\n",
       "       'H. Ross Perot, Reform Party, 1996, so the answer is D',\n",
       "       'Overhunting and depletion of furbearing animals, so the answer is D',\n",
       "       'The world engages in subtler forms of discrimination., so the answer is B',\n",
       "       'All adult men born within the geographic boundaries of the state, so the answer is A',\n",
       "       'Large-scale military losses and resentment of the working classes, so the answer is C',\n",
       "       'One can make funeral and estate plans with the loved one, so the answer is B',\n",
       "       'Changes a lot past age 50, so the answer is A',\n",
       "       'experienced guilt, so the answer is C',\n",
       "       'No, according to the literal interpretation of the relevant provision of the State, the provisional measures are not binding, so the answer is A',\n",
       "       'False, False, so the answer is B',\n",
       "       'Linear hard-margin SVM., so the answer is A',\n",
       "       'Whether we assume full class covariance matrices or diagonal class covariance matrices, so the answer is B',\n",
       "       'True, False, so the answer is C',\n",
       "       'Adam Smith, so the answer is C',\n",
       "       'quantity demanded barely changes with a change in price, so the answer is B',\n",
       "       'Autosomal recessive, so the answer is B',\n",
       "       '6*10^14 J, so the answer is C', 'white, so the answer is C',\n",
       "       'six years, so the answer is C', 'Paris, so the answer is A',\n",
       "       'up to 250, so the answer is A', 'Chordates, so the answer is B',\n",
       "       'Losing the curl, so the answer is C',\n",
       "       'Bill Viola, so the answer is A',\n",
       "       'Conceptual artists, so the answer is D',\n",
       "       'the type of drug used, so the answer is A',\n",
       "       'Not wrong, Wrong, so the answer is C',\n",
       "       'Wrong, Wrong, so the answer is A',\n",
       "       'Not wrong, Not wrong, so the answer is D',\n",
       "       'Vitamin D, so the answer is B',\n",
       "       'Folate, vitamins B6 and B12, so the answer is D',\n",
       "       'purely physical and natural, so the answer is B',\n",
       "       'logical nominalism, so the answer is A',\n",
       "       'enlightened egoism., so the answer is A',\n",
       "       'food surpluses, specialists, urban settlements, and a system of record keeping, so the answer is A',\n",
       "       'philosophy and religion., so the answer is B',\n",
       "       'Acheulean, so the answer is B',\n",
       "       'Neandertals used caves in Europe where their remains were preserved., so the answer is B',\n",
       "       'tribute in the form of gold, jade, feathers, cloth, and jewels., so the answer is A',\n",
       "       'No, because Long did not have authority to enter into the contract., so the answer is D',\n",
       "       '$100,000, so the answer is A', '10%, so the answer is A',\n",
       "       '$480,000, so the answer is B',\n",
       "       \"not recover, because the dairy's negligence only caused mental disturbance., so the answer is C\",\n",
       "       'constitutional, because the election code is nonviolative of the equal protection clause., so the answer is D',\n",
       "       'Because window tinting is permitted on vehicles in neighboring states, this law denies the company the equal protection of laws., so the answer is A',\n",
       "       'No, she is not a member of a suspect class as there cannot be a \"class-of-one\" in the employment law context., so the answer is A',\n",
       "       'Yes, because the aluminum sheets were nonconforming goods., so the answer is A',\n",
       "       'the contract price of$10,000., so the answer is C',\n",
       "       'recover, if a reasonable consumer would not expect the presence of such a pebble in the chowder., so the answer is A',\n",
       "       \"The zoning ordinance provision would be upheld as constitutional under the state's police power., so the answer is D\",\n",
       "       'Although the contract violates the law and is void, the court will require the homeowner to pay the contractor the reasonable value of the work accepted., so the answer is A',\n",
       "       'it is necessary to further a compelling state interest., so the answer is B',\n",
       "       'No, because the retailer is a citizen of State B., so the answer is B',\n",
       "       'first-degree murder., so the answer is A',\n",
       "       'The defendant is compelled to stand trial in street clothing., so the answer is B',\n",
       "       'They committed a larceny by placing the three dresses in the shopping bag., so the answer is A',\n",
       "       'the right to remove oil is an incident of a defeasible fee simple., so the answer is A',\n",
       "       'sustain the objection, because the radar results are not conclusive evidence of speeding., so the answer is A',\n",
       "       'Cytokine secretion by natural killer cells, so the answer is A',\n",
       "       'Apocrine gland, so the answer is A',\n",
       "       'needs analysis., so the answer is A',\n",
       "       'goals serve 2 purposes: they are a basis for motivation and they direct behaviors, so the answer is A',\n",
       "       'effect of an IV at diff levels of the other IVs, so the answer is A',\n",
       "       'Cognitive behavioral therapy, so the answer is A',\n",
       "       'high ability and low motivation., so the answer is C',\n",
       "       'brain damage, intellectual disability, or emotional disturbance, so the answer is D',\n",
       "       'the student should be listed as the first author., so the answer is A',\n",
       "       'we tend to remember unfinished tasks better than finished ones., so the answer is A',\n",
       "       'only if the employee was referred to the program by the supervisor., so the answer is B',\n",
       "       'a simultaneous event produced the fluctuation, so the answer is A',\n",
       "       'Random assignment, random selection, so the answer is B',\n",
       "       'to interpret trends for management, so the answer is B',\n",
       "       'Strategic studies are the central concern of international relations, within strategic studies, the subset of security studies focuses on military security., so the answer is A',\n",
       "       'Complete eradication of threats., so the answer is A',\n",
       "       'Category B agents include food and water security threats, with moderate morbidity rates., so the answer is C',\n",
       "       'It is when considering the military and the security institutions that some of the greatest contradictions with the concept of environmental security are raised. War impacts negatively on the sustainable growth of the nation but armed forces may be required to manage the effects., so the answer is B',\n",
       "       'household account book, so the answer is C',\n",
       "       'China, so the answer is D',\n",
       "       'It criticized international organizations, rather than trying to strengthen them, so the answer is A',\n",
       "       'Brahminic orthodoxy, so the answer is A'], dtype=object)"
      ]
     },
     "execution_count": 10,
     "metadata": {},
     "output_type": "execute_result"
    }
   ],
   "source": [
    "df_x['result'].unique()"
   ]
  },
  {
   "cell_type": "markdown",
   "id": "3dbbd4eb-7f32-4d6b-9a2b-1ae8cec95da3",
   "metadata": {},
   "source": [
    "1 - Some values in the result column contain a text followed or precced by the actual answer"
   ]
  },
  {
   "cell_type": "markdown",
   "id": "ca4d69c0-3281-46e7-bcde-fa1117105d1c",
   "metadata": {},
   "source": [
    "2 - Since the answer is a string, there can be a space or no space after the answer letter, and this is counted differently, see example below, where the first one count the number of A with a space after and the second one without :"
   ]
  },
  {
   "cell_type": "code",
   "execution_count": 11,
   "id": "0554638b-aece-4fa4-9fb4-634cf01cbc16",
   "metadata": {},
   "outputs": [
    {
     "data": {
      "text/plain": [
       "1657"
      ]
     },
     "execution_count": 11,
     "metadata": {},
     "output_type": "execute_result"
    }
   ],
   "source": [
    "np.count_nonzero(df_x['result'] == 'A ')"
   ]
  },
  {
   "cell_type": "code",
   "execution_count": 12,
   "id": "bb05d113-9b40-41cc-8539-2b5ebedd943f",
   "metadata": {},
   "outputs": [
    {
     "data": {
      "text/plain": [
       "2733"
      ]
     },
     "execution_count": 12,
     "metadata": {},
     "output_type": "execute_result"
    }
   ],
   "source": [
    "np.count_nonzero(df_x['result'] == 'A')"
   ]
  },
  {
   "cell_type": "markdown",
   "id": "150d1803-ba5c-4767-9bab-652e0e4d0a75",
   "metadata": {},
   "source": [
    "As we can see when we do the np.unqique on df_x, some results doesnt have any answers and instead have not sure or none of the above or even a Nan"
   ]
  },
  {
   "cell_type": "markdown",
   "id": "88c5551d-1968-427b-bdd6-51d996898e7c",
   "metadata": {},
   "source": [
    "### 1.3 (5 pt)\n",
    "Oh oh... That doesn't look great. Simply dropping all invalid answers seems overly wasteful, yet fixing all of these looks like a mess! Instead, let's focus for now on fixing just those answers of length < 10 characters that require only a single `str.replace()` operation. \n",
    "\n",
    "For example, if the answer looks like `--A--`, we could fix this by using the following simple function:\n",
    "\n",
    "```\n",
    "def clean_answer(s, pattern='-'):\n",
    "    return str(s).replace(pattern, '')\n",
    "\n",
    "dirty_answer = '--A--'\n",
    "clean_answer = clean_answer(dirty_answer)\n",
    "```\n",
    "\n",
    "A. Filter the three score dataframes to include only answers with less than 10 characters. Make a deep copy of the dataframes as you filter them.\n",
    "\n",
    "B. Modify the `clean_answer()` example function to clean the answers in the filtered data frames using the `apply()` functionality. Finally, make sure **all remaining answers are one of `A, B, C, or D`.**\n",
    "\n",
    "C. /Discuss:/ Compare the sizes of the original and filtered data frames. What do you see? Why might this be a problem?"
   ]
  },
  {
   "cell_type": "code",
   "execution_count": 13,
   "id": "aef1f933-20bf-426a-ac9d-a35e273b9bd2",
   "metadata": {},
   "outputs": [],
   "source": [
    "# A\n",
    "df_x_filter = df_x.query('result.str.len() < 10 & result != \"Not Sure\"').copy(deep = True)\n",
    "df_y_filter = df_y.query('result.str.len() < 10 & result != \"Not Sure\"').copy(deep = True)\n",
    "df_z_filter = df_z.query('result.str.len() < 10 & result != \"Not Sure\"').copy(deep = True)"
   ]
  },
  {
   "cell_type": "code",
   "execution_count": 14,
   "id": "f0c14241-89c8-4263-8e3c-995d01690b2c",
   "metadata": {},
   "outputs": [
    {
     "data": {
      "text/plain": [
       "array(['A', 'A ', 'Answer: A', 'Answer: B', 'Answer: C', 'Answer: D', 'B',\n",
       "       'B ', 'C', 'C ', 'D', 'D '], dtype=object)"
      ]
     },
     "execution_count": 14,
     "metadata": {},
     "output_type": "execute_result"
    }
   ],
   "source": [
    "np.unique(df_x_filter['result'])"
   ]
  },
  {
   "cell_type": "code",
   "execution_count": 15,
   "id": "fd54f296",
   "metadata": {},
   "outputs": [],
   "source": [
    "# B\n",
    "def clean_answer(s, pattern='Answer: '):\n",
    "    return str(s).replace(pattern, '').strip()\n",
    "\n",
    "df_x_filter['result'] = df_x_filter['result'].apply(clean_answer)\n",
    "df_y_filter['result'] = df_y_filter['result'].apply(clean_answer)\n",
    "df_z_filter['result'] = df_z_filter['result'].apply(clean_answer)"
   ]
  },
  {
   "cell_type": "code",
   "execution_count": 16,
   "id": "e0ca9d49-2bbf-479a-9a4d-008873b587d4",
   "metadata": {},
   "outputs": [],
   "source": [
    "df_x_filter['result'] = df_x_filter['result'].apply(lambda s : clean_answer(s)).copy(deep = True).dropna()\n",
    "df_y_filter['result'] = df_y_filter['result'].apply(lambda s : clean_answer(s)).copy(deep = True).dropna()\n",
    "df_z_filter['result'] = df_z_filter['result'].apply(lambda s : clean_answer(s)).copy(deep = True).dropna()"
   ]
  },
  {
   "cell_type": "markdown",
   "id": "9212925a-828b-4742-aa6a-7df5652ea6fe",
   "metadata": {},
   "source": [
    "Let's make sure the remaining answers are indeed A, B, C or D"
   ]
  },
  {
   "cell_type": "code",
   "execution_count": 17,
   "id": "2bc24abf-dc69-47e7-9929-d1e9b25ea502",
   "metadata": {},
   "outputs": [
    {
     "data": {
      "text/plain": [
       "result\n",
       "A    5788\n",
       "B    2965\n",
       "C    2350\n",
       "D    2333\n",
       "Name: count, dtype: int64"
      ]
     },
     "execution_count": 17,
     "metadata": {},
     "output_type": "execute_result"
    }
   ],
   "source": [
    "df_x_filter['result'].value_counts()"
   ]
  },
  {
   "cell_type": "code",
   "execution_count": 18,
   "id": "bb1de63f-2690-4d16-bf31-9ed50f2ddb91",
   "metadata": {},
   "outputs": [
    {
     "data": {
      "text/plain": [
       "(13436, 2)"
      ]
     },
     "execution_count": 18,
     "metadata": {},
     "output_type": "execute_result"
    }
   ],
   "source": [
    "df_x_filter.shape"
   ]
  },
  {
   "cell_type": "code",
   "execution_count": 19,
   "id": "24778a28-b189-44a3-9121-cda511434e97",
   "metadata": {},
   "outputs": [
    {
     "data": {
      "text/plain": [
       "result\n",
       "D    5757\n",
       "C    3242\n",
       "B    2519\n",
       "A    2033\n",
       "Name: count, dtype: int64"
      ]
     },
     "execution_count": 19,
     "metadata": {},
     "output_type": "execute_result"
    }
   ],
   "source": [
    "df_y_filter['result'].value_counts()"
   ]
  },
  {
   "cell_type": "code",
   "execution_count": 20,
   "id": "bc37df06-01ac-4733-8f6a-4777fa49fb52",
   "metadata": {},
   "outputs": [
    {
     "data": {
      "text/plain": [
       "26872"
      ]
     },
     "execution_count": 20,
     "metadata": {},
     "output_type": "execute_result"
    }
   ],
   "source": [
    "df_x_filter.size"
   ]
  },
  {
   "cell_type": "code",
   "execution_count": 21,
   "id": "35e3c738-0f51-4129-8c1e-badf73a1839e",
   "metadata": {},
   "outputs": [
    {
     "data": {
      "text/plain": [
       "27102"
      ]
     },
     "execution_count": 21,
     "metadata": {},
     "output_type": "execute_result"
    }
   ],
   "source": [
    "df_y_filter.size"
   ]
  },
  {
   "cell_type": "code",
   "execution_count": 22,
   "id": "6e7d2924-fddc-4255-b7e9-29257fd60342",
   "metadata": {},
   "outputs": [
    {
     "data": {
      "text/plain": [
       "25506"
      ]
     },
     "execution_count": 22,
     "metadata": {},
     "output_type": "execute_result"
    }
   ],
   "source": [
    "df_z_filter.size"
   ]
  },
  {
   "cell_type": "code",
   "execution_count": 23,
   "id": "510b7380-a198-4452-8b51-4cb493d49bac",
   "metadata": {},
   "outputs": [
    {
     "data": {
      "text/plain": [
       "result\n",
       "D    3348\n",
       "C    3255\n",
       "B    3124\n",
       "A    3026\n",
       "Name: count, dtype: int64"
      ]
     },
     "execution_count": 23,
     "metadata": {},
     "output_type": "execute_result"
    }
   ],
   "source": [
    "df_z_filter['result'].value_counts()"
   ]
  },
  {
   "cell_type": "code",
   "execution_count": 24,
   "id": "5a218ad3-4f1d-4b31-9603-e870bcf319ce",
   "metadata": {},
   "outputs": [
    {
     "data": {
      "text/plain": [
       "0"
      ]
     },
     "execution_count": 24,
     "metadata": {},
     "output_type": "execute_result"
    }
   ],
   "source": [
    "pd.isnull(df_x_filter['result']).sum()"
   ]
  },
  {
   "cell_type": "markdown",
   "id": "3352b954-2482-4e36-9e67-91a8cb765ac0",
   "metadata": {},
   "source": [
    "Seems like the clean answer worked"
   ]
  },
  {
   "cell_type": "markdown",
   "id": "2415cd9b",
   "metadata": {},
   "source": [
    "C. /Discuss:/"
   ]
  },
  {
   "cell_type": "code",
   "execution_count": 25,
   "id": "9cd6b809-d149-47a7-a1a7-44c5556ffd54",
   "metadata": {},
   "outputs": [],
   "source": [
    "reduction_percentage_x = 100 - (df_x_filter.size / df_x.size) * 100\n",
    "reduction_percentage_y = 100 - (df_y_filter.size / df_y.size) * 100\n",
    "reduction_percentage_z = 100 - (df_z_filter.size / df_z.size) * 100"
   ]
  },
  {
   "cell_type": "code",
   "execution_count": 26,
   "id": "6ec84135-7c43-4dbe-90fe-37b4843f791a",
   "metadata": {
    "scrolled": true
   },
   "outputs": [
    {
     "name": "stdout",
     "output_type": "stream",
     "text": [
      "After we filtered the LM x answers, we had a size diminution of : 3.2127935455986147%\n",
      "After we filtered the LM y answers, we had a size diminution of : 3.05480040062956%\n",
      "After we filtered the LM z answers, we had a size diminution of : 8.403361344537814%\n"
     ]
    }
   ],
   "source": [
    "print(f'After we filtered the LM x answers, we had a size diminution of : {reduction_percentage_x}%')\n",
    "print(f'After we filtered the LM y answers, we had a size diminution of : {reduction_percentage_y}%')\n",
    "print(f'After we filtered the LM z answers, we had a size diminution of : {reduction_percentage_z}%')"
   ]
  },
  {
   "cell_type": "markdown",
   "id": "8b75b7fd-871f-4765-a5ca-fdec5e248626",
   "metadata": {},
   "source": [
    "LMs x and y had almost the same percentage of answers with less than 10 characters, but this cant be say for LM z that has more than twice the percentage amount of answers of length more than 10. This can lead to incorrect conclusions because of an unbalance dataset."
   ]
  },
  {
   "cell_type": "markdown",
   "id": "da1cf129-09dd-47b1-9737-2c4d57eb8853",
   "metadata": {},
   "source": [
    "### 1.4 (3 pt)\n",
    "\n",
    "Now that our answer columns are nicely formatted, let's take a look at model performance:\n",
    "\n",
    "A. Both the `MMLU` dataframes and the language model score data frames have the columns `question_id`. For each of the language model score data frames, use an inner join operation with the `df_test` dataframe on the `question_id` column.\n",
    "\n",
    "B. Add a new column to each of the resulting dataframes called `correct`, that checks if the model's answer in `result` is the same as the expected answer in the column `answer`. Then, print the average score of each model."
   ]
  },
  {
   "cell_type": "code",
   "execution_count": 27,
   "id": "de5060c1-76b3-4bb5-83a2-229781b38a4a",
   "metadata": {},
   "outputs": [],
   "source": [
    "# A"
   ]
  },
  {
   "cell_type": "code",
   "execution_count": 28,
   "id": "e66b36f3-f5a4-4237-9b48-39b21716d7aa",
   "metadata": {},
   "outputs": [],
   "source": [
    "df_x_merged = df_x_filter.merge(right = df_test, how = 'inner', on = 'question_id')\n",
    "df_y_merged = df_y_filter.merge(right = df_test, how = 'inner', on = 'question_id')\n",
    "df_z_merged = df_z_filter.merge(right = df_test, how = 'inner', on = 'question_id')"
   ]
  },
  {
   "cell_type": "code",
   "execution_count": 29,
   "id": "b183b8e3-ad6b-418b-834b-3b747e955952",
   "metadata": {},
   "outputs": [],
   "source": [
    "# B"
   ]
  },
  {
   "cell_type": "code",
   "execution_count": 30,
   "id": "50b024d2",
   "metadata": {},
   "outputs": [],
   "source": [
    "df_x_merged['correct'] = df_x_merged['result'] == df_x_merged['answer']\n",
    "df_y_merged['correct'] = df_y_merged['result'] == df_y_merged['answer']\n",
    "df_z_merged['correct'] = df_z_merged['result'] == df_z_merged['answer']"
   ]
  },
  {
   "cell_type": "code",
   "execution_count": 31,
   "id": "06005710-dd33-4a89-81d4-f27379ab3460",
   "metadata": {},
   "outputs": [],
   "source": [
    "score_x = (df_x_merged['correct'].sum()/(len(df_x_merged['correct'])))*100\n",
    "score_y = (df_y_merged['correct'].sum()/(len(df_y_merged['correct'])))*100\n",
    "score_z = (df_z_merged['correct'].sum()/(len(df_z_merged['correct'])))*100"
   ]
  },
  {
   "cell_type": "code",
   "execution_count": 32,
   "id": "54a89363-2bb2-49b8-b32c-d67a79619c74",
   "metadata": {},
   "outputs": [
    {
     "name": "stdout",
     "output_type": "stream",
     "text": [
      "In average the model x answers 76.74903245013397% of the time correclty \n",
      "In average the model x answers 74.58490148328536% of the time correclty \n",
      "In average the model x answers 66.3294911001333% of the time correclty \n"
     ]
    }
   ],
   "source": [
    "print(f'In average the model x answers {score_x}% of the time correclty ')\n",
    "print(f'In average the model x answers {score_y}% of the time correclty ')\n",
    "print(f'In average the model x answers {score_z}% of the time correclty ')"
   ]
  },
  {
   "cell_type": "markdown",
   "id": "69decfd8-8083-4c2f-8263-a153d55efede",
   "metadata": {},
   "source": [
    "### 1.5 (5 pt)\n",
    "\n",
    "Hmmm, something doesn't seem quite right. Let's investigate how \"balanced\" this dataset is:\n",
    "\n",
    "A. For each of the 57 subjects in the MMLU, compare the number of questions answered by each model. Print the subjects for which there is a more than 10% difference.\n",
    "\n",
    "B. Propose and implement a reasonable way to rebalance the results. (e.g., while throwing away 100% of the results perfectly rebalances the results, it is not reasonable).\n",
    "\n",
    "C. Finally, print the updated accuracy on the rebalanced data.\n",
    "\n",
    "**hint:**:\n",
    "- (A) For a given subject, let model X and model Y have answered 181 and 200 questions respectively. You can consider this a 10% difference from the perspective of X since: (200 - 181) / 181 > 0.10"
   ]
  },
  {
   "cell_type": "code",
   "execution_count": 33,
   "id": "a052d09e-7b31-41ec-bb94-22c21bc89655",
   "metadata": {},
   "outputs": [
    {
     "data": {
      "text/html": [
       "<div>\n",
       "<style scoped>\n",
       "    .dataframe tbody tr th:only-of-type {\n",
       "        vertical-align: middle;\n",
       "    }\n",
       "\n",
       "    .dataframe tbody tr th {\n",
       "        vertical-align: top;\n",
       "    }\n",
       "\n",
       "    .dataframe thead th {\n",
       "        text-align: right;\n",
       "    }\n",
       "</style>\n",
       "<table border=\"1\" class=\"dataframe\">\n",
       "  <thead>\n",
       "    <tr style=\"text-align: right;\">\n",
       "      <th></th>\n",
       "      <th>question_id</th>\n",
       "      <th>result</th>\n",
       "      <th>question</th>\n",
       "      <th>A</th>\n",
       "      <th>B</th>\n",
       "      <th>C</th>\n",
       "      <th>D</th>\n",
       "      <th>answer</th>\n",
       "      <th>subject</th>\n",
       "      <th>correct</th>\n",
       "    </tr>\n",
       "  </thead>\n",
       "  <tbody>\n",
       "    <tr>\n",
       "      <th>0</th>\n",
       "      <td>0</td>\n",
       "      <td>B</td>\n",
       "      <td>Find the degree for the given field extension ...</td>\n",
       "      <td>0</td>\n",
       "      <td>4</td>\n",
       "      <td>2</td>\n",
       "      <td>6</td>\n",
       "      <td>B</td>\n",
       "      <td>abstract algebra</td>\n",
       "      <td>True</td>\n",
       "    </tr>\n",
       "    <tr>\n",
       "      <th>1</th>\n",
       "      <td>1</td>\n",
       "      <td>C</td>\n",
       "      <td>Let p = (1, 2, 5, 4)(2, 3) in S_5 . Find the i...</td>\n",
       "      <td>8</td>\n",
       "      <td>2</td>\n",
       "      <td>24</td>\n",
       "      <td>120</td>\n",
       "      <td>C</td>\n",
       "      <td>abstract algebra</td>\n",
       "      <td>True</td>\n",
       "    </tr>\n",
       "    <tr>\n",
       "      <th>2</th>\n",
       "      <td>2</td>\n",
       "      <td>D</td>\n",
       "      <td>Find all zeros in the indicated finite field o...</td>\n",
       "      <td>0</td>\n",
       "      <td>1</td>\n",
       "      <td>0,1</td>\n",
       "      <td>0,4</td>\n",
       "      <td>D</td>\n",
       "      <td>abstract algebra</td>\n",
       "      <td>True</td>\n",
       "    </tr>\n",
       "    <tr>\n",
       "      <th>3</th>\n",
       "      <td>3</td>\n",
       "      <td>B</td>\n",
       "      <td>Statement 1 | A factor group of a non-Abelian ...</td>\n",
       "      <td>True, True</td>\n",
       "      <td>False, False</td>\n",
       "      <td>True, False</td>\n",
       "      <td>False, True</td>\n",
       "      <td>B</td>\n",
       "      <td>abstract algebra</td>\n",
       "      <td>True</td>\n",
       "    </tr>\n",
       "    <tr>\n",
       "      <th>4</th>\n",
       "      <td>4</td>\n",
       "      <td>B</td>\n",
       "      <td>Find the product of the given polynomials in t...</td>\n",
       "      <td>2x^2 + 5</td>\n",
       "      <td>6x^2 + 4x + 6</td>\n",
       "      <td>0</td>\n",
       "      <td>x^2 + 1</td>\n",
       "      <td>B</td>\n",
       "      <td>abstract algebra</td>\n",
       "      <td>True</td>\n",
       "    </tr>\n",
       "    <tr>\n",
       "      <th>...</th>\n",
       "      <td>...</td>\n",
       "      <td>...</td>\n",
       "      <td>...</td>\n",
       "      <td>...</td>\n",
       "      <td>...</td>\n",
       "      <td>...</td>\n",
       "      <td>...</td>\n",
       "      <td>...</td>\n",
       "      <td>...</td>\n",
       "      <td>...</td>\n",
       "    </tr>\n",
       "    <tr>\n",
       "      <th>13431</th>\n",
       "      <td>14037</td>\n",
       "      <td>A</td>\n",
       "      <td>What has been a central focus of religious tra...</td>\n",
       "      <td>Peace and harmony</td>\n",
       "      <td>Power and influence</td>\n",
       "      <td>Truth and love</td>\n",
       "      <td>Wisdom and ethics</td>\n",
       "      <td>A</td>\n",
       "      <td>world religions</td>\n",
       "      <td>True</td>\n",
       "    </tr>\n",
       "    <tr>\n",
       "      <th>13432</th>\n",
       "      <td>14038</td>\n",
       "      <td>A</td>\n",
       "      <td>To whom did ordinary folk appeal during a dro...</td>\n",
       "      <td>The Buddha</td>\n",
       "      <td>Laozi</td>\n",
       "      <td>The Queen Mother of the West</td>\n",
       "      <td>Confucius</td>\n",
       "      <td>C</td>\n",
       "      <td>world religions</td>\n",
       "      <td>False</td>\n",
       "    </tr>\n",
       "    <tr>\n",
       "      <th>13433</th>\n",
       "      <td>14039</td>\n",
       "      <td>B</td>\n",
       "      <td>The theological term homoousios means which o...</td>\n",
       "      <td>of a similar substance</td>\n",
       "      <td>of the same substance</td>\n",
       "      <td>of like substance</td>\n",
       "      <td>of human substance</td>\n",
       "      <td>B</td>\n",
       "      <td>world religions</td>\n",
       "      <td>True</td>\n",
       "    </tr>\n",
       "    <tr>\n",
       "      <th>13434</th>\n",
       "      <td>14040</td>\n",
       "      <td>B</td>\n",
       "      <td>According to the Japanese origin myth, who giv...</td>\n",
       "      <td>Es</td>\n",
       "      <td>Izanagi</td>\n",
       "      <td>Izanami</td>\n",
       "      <td>Kami</td>\n",
       "      <td>B</td>\n",
       "      <td>world religions</td>\n",
       "      <td>True</td>\n",
       "    </tr>\n",
       "    <tr>\n",
       "      <th>13435</th>\n",
       "      <td>14041</td>\n",
       "      <td>A</td>\n",
       "      <td>The numen of Augustus referred to which of th...</td>\n",
       "      <td>Divine power</td>\n",
       "      <td>Sexual virility</td>\n",
       "      <td>Military acumen</td>\n",
       "      <td>Philosophical intellect</td>\n",
       "      <td>A</td>\n",
       "      <td>world religions</td>\n",
       "      <td>True</td>\n",
       "    </tr>\n",
       "  </tbody>\n",
       "</table>\n",
       "<p>13436 rows × 10 columns</p>\n",
       "</div>"
      ],
      "text/plain": [
       "       question_id result                                           question  \\\n",
       "0                0      B  Find the degree for the given field extension ...   \n",
       "1                1      C  Let p = (1, 2, 5, 4)(2, 3) in S_5 . Find the i...   \n",
       "2                2      D  Find all zeros in the indicated finite field o...   \n",
       "3                3      B  Statement 1 | A factor group of a non-Abelian ...   \n",
       "4                4      B  Find the product of the given polynomials in t...   \n",
       "...            ...    ...                                                ...   \n",
       "13431        14037      A  What has been a central focus of religious tra...   \n",
       "13432        14038      A   To whom did ordinary folk appeal during a dro...   \n",
       "13433        14039      B   The theological term homoousios means which o...   \n",
       "13434        14040      B  According to the Japanese origin myth, who giv...   \n",
       "13435        14041      A   The numen of Augustus referred to which of th...   \n",
       "\n",
       "                            A                      B  \\\n",
       "0                           0                      4   \n",
       "1                           8                      2   \n",
       "2                           0                      1   \n",
       "3                  True, True           False, False   \n",
       "4                    2x^2 + 5          6x^2 + 4x + 6   \n",
       "...                       ...                    ...   \n",
       "13431       Peace and harmony    Power and influence   \n",
       "13432              The Buddha                  Laozi   \n",
       "13433  of a similar substance  of the same substance   \n",
       "13434                      Es                Izanagi   \n",
       "13435            Divine power        Sexual virility   \n",
       "\n",
       "                                  C                        D answer  \\\n",
       "0                                 2                        6      B   \n",
       "1                                24                      120      C   \n",
       "2                               0,1                      0,4      D   \n",
       "3                       True, False              False, True      B   \n",
       "4                                 0                  x^2 + 1      B   \n",
       "...                             ...                      ...    ...   \n",
       "13431                Truth and love        Wisdom and ethics      A   \n",
       "13432  The Queen Mother of the West                Confucius      C   \n",
       "13433             of like substance       of human substance      B   \n",
       "13434                       Izanami                     Kami      B   \n",
       "13435               Military acumen  Philosophical intellect      A   \n",
       "\n",
       "                subject  correct  \n",
       "0      abstract algebra     True  \n",
       "1      abstract algebra     True  \n",
       "2      abstract algebra     True  \n",
       "3      abstract algebra     True  \n",
       "4      abstract algebra     True  \n",
       "...                 ...      ...  \n",
       "13431   world religions     True  \n",
       "13432   world religions    False  \n",
       "13433   world religions     True  \n",
       "13434   world religions     True  \n",
       "13435   world religions     True  \n",
       "\n",
       "[13436 rows x 10 columns]"
      ]
     },
     "execution_count": 33,
     "metadata": {},
     "output_type": "execute_result"
    }
   ],
   "source": [
    "df_x_merged"
   ]
  },
  {
   "cell_type": "code",
   "execution_count": 34,
   "id": "19463002-732b-405b-8b44-77f702bdb665",
   "metadata": {},
   "outputs": [],
   "source": [
    "# A\n",
    "df_x_number_questions_per_subject = df_x_merged.groupby('subject').aggregate({\"question_id\" : 'count'}).rename(columns={'question_id': 'count'})\n",
    "df_y_number_questions_per_subject = df_y_merged.groupby('subject').aggregate({\"question_id\" : 'count'}).rename(columns={'question_id': 'count'})\n",
    "df_z_number_questions_per_subject = df_z_merged.groupby('subject').aggregate({\"question_id\" : 'count'}).rename(columns={'question_id': 'count'})"
   ]
  },
  {
   "cell_type": "code",
   "execution_count": 35,
   "id": "c2c90387-f51b-4a89-8496-aa5f32c3813e",
   "metadata": {},
   "outputs": [],
   "source": [
    "difference_x_y = (np.abs(df_x_number_questions_per_subject - df_y_number_questions_per_subject)/df_y_number_questions_per_subject).rename(columns={'count': 'percentage_difference'})\n",
    "difference_x_z = (np.abs(df_x_number_questions_per_subject - df_z_number_questions_per_subject)/df_z_number_questions_per_subject).rename(columns={'count': 'percentage_difference'})\n",
    "difference_y_z = (np.abs(df_y_number_questions_per_subject - df_z_number_questions_per_subject)/df_z_number_questions_per_subject).rename(columns={'count': 'percentage_difference'})"
   ]
  },
  {
   "cell_type": "code",
   "execution_count": 36,
   "id": "6cd57cee-25b4-4029-9a2d-9df4c4ef1c19",
   "metadata": {},
   "outputs": [],
   "source": [
    "subject_difference_x_y = list(difference_x_y[difference_x_y['percentage_difference'] > 0.10].index)\n",
    "subject_difference_x_z = list(difference_x_z[difference_x_z['percentage_difference'] > 0.10].index)\n",
    "subject_difference_y_z = list(difference_y_z[difference_y_z['percentage_difference'] > 0.10].index)"
   ]
  },
  {
   "cell_type": "code",
   "execution_count": 37,
   "id": "9f913582-157a-4bee-ba51-4e58bf70eca3",
   "metadata": {},
   "outputs": [],
   "source": [
    "different_subject = list(set(subject_difference_x_y + subject_difference_x_z + subject_difference_y_z))"
   ]
  },
  {
   "cell_type": "code",
   "execution_count": 38,
   "id": "df5da664-29ad-413e-8695-fa30447500d2",
   "metadata": {},
   "outputs": [
    {
     "name": "stdout",
     "output_type": "stream",
     "text": [
      "The subjects where there is a number of questions difference more than 10 % are : ['moral scenarios', 'college computer science', 'formal logic', 'high school geography', 'medical genetics', 'logical fallacies', 'moral disputes', 'college chemistry', 'computer security']\n"
     ]
    }
   ],
   "source": [
    "print(f'The subjects where there is a number of questions difference more than 10 % are : {different_subject}')"
   ]
  },
  {
   "cell_type": "code",
   "execution_count": 39,
   "id": "2fb8c324",
   "metadata": {},
   "outputs": [],
   "source": [
    "# B"
   ]
  },
  {
   "cell_type": "markdown",
   "id": "ea312525-d9ac-4b3f-97db-17c6446d2267",
   "metadata": {},
   "source": [
    "To rebalance the results we could see how many times the model is right for each subject and create randomly with the same correct subject percentage some answers to match the number of the other LMs."
   ]
  },
  {
   "cell_type": "markdown",
   "id": "5a31335b-3532-4339-bf4d-86ba29c4d211",
   "metadata": {},
   "source": [
    "Let's compute for each subject the average correct answer prediction"
   ]
  },
  {
   "cell_type": "code",
   "execution_count": 40,
   "id": "0d18dfda-76f6-434b-a45f-b962501f4d1e",
   "metadata": {},
   "outputs": [],
   "source": [
    "df_x_correct_percentage_subject = (df_x_merged.groupby('subject').aggregate({'correct' : 'sum'})/df_x_merged.groupby('subject').aggregate({'correct' : 'count'})).reset_index()\n",
    "df_y_correct_percentage_subject = (df_y_merged.groupby('subject').aggregate({'correct' : 'sum'})/df_y_merged.groupby('subject').aggregate({'correct' : 'count'})).reset_index()\n",
    "df_z_correct_percentage_subject = (df_z_merged.groupby('subject').aggregate({'correct' : 'sum'})/df_z_merged.groupby('subject').aggregate({'correct' : 'count'})).reset_index()"
   ]
  },
  {
   "cell_type": "code",
   "execution_count": 41,
   "id": "a6eefdd3-7ce9-4420-9d14-03a7ad748aa5",
   "metadata": {},
   "outputs": [
    {
     "data": {
      "text/html": [
       "<div>\n",
       "<style scoped>\n",
       "    .dataframe tbody tr th:only-of-type {\n",
       "        vertical-align: middle;\n",
       "    }\n",
       "\n",
       "    .dataframe tbody tr th {\n",
       "        vertical-align: top;\n",
       "    }\n",
       "\n",
       "    .dataframe thead th {\n",
       "        text-align: right;\n",
       "    }\n",
       "</style>\n",
       "<table border=\"1\" class=\"dataframe\">\n",
       "  <thead>\n",
       "    <tr style=\"text-align: right;\">\n",
       "      <th></th>\n",
       "      <th>subject</th>\n",
       "      <th>correct</th>\n",
       "    </tr>\n",
       "  </thead>\n",
       "  <tbody>\n",
       "    <tr>\n",
       "      <th>0</th>\n",
       "      <td>abstract algebra</td>\n",
       "      <td>0.736842</td>\n",
       "    </tr>\n",
       "    <tr>\n",
       "      <th>1</th>\n",
       "      <td>anatomy</td>\n",
       "      <td>0.775194</td>\n",
       "    </tr>\n",
       "    <tr>\n",
       "      <th>2</th>\n",
       "      <td>astronomy</td>\n",
       "      <td>0.750000</td>\n",
       "    </tr>\n",
       "    <tr>\n",
       "      <th>3</th>\n",
       "      <td>business ethics</td>\n",
       "      <td>0.734694</td>\n",
       "    </tr>\n",
       "    <tr>\n",
       "      <th>4</th>\n",
       "      <td>clinical knowledge</td>\n",
       "      <td>0.791506</td>\n",
       "    </tr>\n",
       "    <tr>\n",
       "      <th>5</th>\n",
       "      <td>college biology</td>\n",
       "      <td>0.820144</td>\n",
       "    </tr>\n",
       "    <tr>\n",
       "      <th>6</th>\n",
       "      <td>college chemistry</td>\n",
       "      <td>0.750000</td>\n",
       "    </tr>\n",
       "    <tr>\n",
       "      <th>7</th>\n",
       "      <td>college computer science</td>\n",
       "      <td>0.752577</td>\n",
       "    </tr>\n",
       "    <tr>\n",
       "      <th>8</th>\n",
       "      <td>college mathematics</td>\n",
       "      <td>0.777778</td>\n",
       "    </tr>\n",
       "    <tr>\n",
       "      <th>9</th>\n",
       "      <td>college medicine</td>\n",
       "      <td>0.732143</td>\n",
       "    </tr>\n",
       "    <tr>\n",
       "      <th>10</th>\n",
       "      <td>college physics</td>\n",
       "      <td>0.785714</td>\n",
       "    </tr>\n",
       "    <tr>\n",
       "      <th>11</th>\n",
       "      <td>computer security</td>\n",
       "      <td>0.810526</td>\n",
       "    </tr>\n",
       "    <tr>\n",
       "      <th>12</th>\n",
       "      <td>conceptual physics</td>\n",
       "      <td>0.774336</td>\n",
       "    </tr>\n",
       "    <tr>\n",
       "      <th>13</th>\n",
       "      <td>econometrics</td>\n",
       "      <td>0.803571</td>\n",
       "    </tr>\n",
       "    <tr>\n",
       "      <th>14</th>\n",
       "      <td>electrical engineering</td>\n",
       "      <td>0.780142</td>\n",
       "    </tr>\n",
       "    <tr>\n",
       "      <th>15</th>\n",
       "      <td>elementary mathematics</td>\n",
       "      <td>0.765668</td>\n",
       "    </tr>\n",
       "    <tr>\n",
       "      <th>16</th>\n",
       "      <td>formal logic</td>\n",
       "      <td>0.788991</td>\n",
       "    </tr>\n",
       "    <tr>\n",
       "      <th>17</th>\n",
       "      <td>global facts</td>\n",
       "      <td>0.755102</td>\n",
       "    </tr>\n",
       "    <tr>\n",
       "      <th>18</th>\n",
       "      <td>high school biology</td>\n",
       "      <td>0.750842</td>\n",
       "    </tr>\n",
       "    <tr>\n",
       "      <th>19</th>\n",
       "      <td>high school chemistry</td>\n",
       "      <td>0.760204</td>\n",
       "    </tr>\n",
       "    <tr>\n",
       "      <th>20</th>\n",
       "      <td>high school computer science</td>\n",
       "      <td>0.775510</td>\n",
       "    </tr>\n",
       "    <tr>\n",
       "      <th>21</th>\n",
       "      <td>high school european history</td>\n",
       "      <td>0.721519</td>\n",
       "    </tr>\n",
       "    <tr>\n",
       "      <th>22</th>\n",
       "      <td>high school geography</td>\n",
       "      <td>0.733333</td>\n",
       "    </tr>\n",
       "    <tr>\n",
       "      <th>23</th>\n",
       "      <td>high school government and politics</td>\n",
       "      <td>0.762162</td>\n",
       "    </tr>\n",
       "    <tr>\n",
       "      <th>24</th>\n",
       "      <td>high school macroeconomics</td>\n",
       "      <td>0.771654</td>\n",
       "    </tr>\n",
       "    <tr>\n",
       "      <th>25</th>\n",
       "      <td>high school mathematics</td>\n",
       "      <td>0.731061</td>\n",
       "    </tr>\n",
       "    <tr>\n",
       "      <th>26</th>\n",
       "      <td>high school microeconomics</td>\n",
       "      <td>0.738197</td>\n",
       "    </tr>\n",
       "    <tr>\n",
       "      <th>27</th>\n",
       "      <td>high school physics</td>\n",
       "      <td>0.751678</td>\n",
       "    </tr>\n",
       "    <tr>\n",
       "      <th>28</th>\n",
       "      <td>high school psychology</td>\n",
       "      <td>0.755639</td>\n",
       "    </tr>\n",
       "    <tr>\n",
       "      <th>29</th>\n",
       "      <td>high school statistics</td>\n",
       "      <td>0.704762</td>\n",
       "    </tr>\n",
       "    <tr>\n",
       "      <th>30</th>\n",
       "      <td>high school us history</td>\n",
       "      <td>0.823232</td>\n",
       "    </tr>\n",
       "    <tr>\n",
       "      <th>31</th>\n",
       "      <td>high school world history</td>\n",
       "      <td>0.790179</td>\n",
       "    </tr>\n",
       "    <tr>\n",
       "      <th>32</th>\n",
       "      <td>human aging</td>\n",
       "      <td>0.819444</td>\n",
       "    </tr>\n",
       "    <tr>\n",
       "      <th>33</th>\n",
       "      <td>human sexuality</td>\n",
       "      <td>0.728682</td>\n",
       "    </tr>\n",
       "    <tr>\n",
       "      <th>34</th>\n",
       "      <td>international law</td>\n",
       "      <td>0.692982</td>\n",
       "    </tr>\n",
       "    <tr>\n",
       "      <th>35</th>\n",
       "      <td>jurisprudence</td>\n",
       "      <td>0.794118</td>\n",
       "    </tr>\n",
       "    <tr>\n",
       "      <th>36</th>\n",
       "      <td>logical fallacies</td>\n",
       "      <td>0.746753</td>\n",
       "    </tr>\n",
       "    <tr>\n",
       "      <th>37</th>\n",
       "      <td>machine learning</td>\n",
       "      <td>0.737864</td>\n",
       "    </tr>\n",
       "    <tr>\n",
       "      <th>38</th>\n",
       "      <td>management</td>\n",
       "      <td>0.715686</td>\n",
       "    </tr>\n",
       "    <tr>\n",
       "      <th>39</th>\n",
       "      <td>marketing</td>\n",
       "      <td>0.807860</td>\n",
       "    </tr>\n",
       "    <tr>\n",
       "      <th>40</th>\n",
       "      <td>medical genetics</td>\n",
       "      <td>0.793814</td>\n",
       "    </tr>\n",
       "    <tr>\n",
       "      <th>41</th>\n",
       "      <td>miscellaneous</td>\n",
       "      <td>0.772069</td>\n",
       "    </tr>\n",
       "    <tr>\n",
       "      <th>42</th>\n",
       "      <td>moral disputes</td>\n",
       "      <td>0.790274</td>\n",
       "    </tr>\n",
       "    <tr>\n",
       "      <th>43</th>\n",
       "      <td>moral scenarios</td>\n",
       "      <td>0.781547</td>\n",
       "    </tr>\n",
       "    <tr>\n",
       "      <th>44</th>\n",
       "      <td>nutrition</td>\n",
       "      <td>0.791246</td>\n",
       "    </tr>\n",
       "    <tr>\n",
       "      <th>45</th>\n",
       "      <td>philosophy</td>\n",
       "      <td>0.766667</td>\n",
       "    </tr>\n",
       "    <tr>\n",
       "      <th>46</th>\n",
       "      <td>prehistory</td>\n",
       "      <td>0.798701</td>\n",
       "    </tr>\n",
       "    <tr>\n",
       "      <th>47</th>\n",
       "      <td>professional accounting</td>\n",
       "      <td>0.742647</td>\n",
       "    </tr>\n",
       "    <tr>\n",
       "      <th>48</th>\n",
       "      <td>professional law</td>\n",
       "      <td>0.761074</td>\n",
       "    </tr>\n",
       "    <tr>\n",
       "      <th>49</th>\n",
       "      <td>professional medicine</td>\n",
       "      <td>0.728302</td>\n",
       "    </tr>\n",
       "    <tr>\n",
       "      <th>50</th>\n",
       "      <td>professional psychology</td>\n",
       "      <td>0.766610</td>\n",
       "    </tr>\n",
       "    <tr>\n",
       "      <th>51</th>\n",
       "      <td>public relations</td>\n",
       "      <td>0.783019</td>\n",
       "    </tr>\n",
       "    <tr>\n",
       "      <th>52</th>\n",
       "      <td>security studies</td>\n",
       "      <td>0.787879</td>\n",
       "    </tr>\n",
       "    <tr>\n",
       "      <th>53</th>\n",
       "      <td>sociology</td>\n",
       "      <td>0.758974</td>\n",
       "    </tr>\n",
       "    <tr>\n",
       "      <th>54</th>\n",
       "      <td>us foreign policy</td>\n",
       "      <td>0.778947</td>\n",
       "    </tr>\n",
       "    <tr>\n",
       "      <th>55</th>\n",
       "      <td>virology</td>\n",
       "      <td>0.814815</td>\n",
       "    </tr>\n",
       "    <tr>\n",
       "      <th>56</th>\n",
       "      <td>world religions</td>\n",
       "      <td>0.796407</td>\n",
       "    </tr>\n",
       "  </tbody>\n",
       "</table>\n",
       "</div>"
      ],
      "text/plain": [
       "                                subject   correct\n",
       "0                      abstract algebra  0.736842\n",
       "1                               anatomy  0.775194\n",
       "2                             astronomy  0.750000\n",
       "3                       business ethics  0.734694\n",
       "4                    clinical knowledge  0.791506\n",
       "5                       college biology  0.820144\n",
       "6                     college chemistry  0.750000\n",
       "7              college computer science  0.752577\n",
       "8                   college mathematics  0.777778\n",
       "9                      college medicine  0.732143\n",
       "10                      college physics  0.785714\n",
       "11                    computer security  0.810526\n",
       "12                   conceptual physics  0.774336\n",
       "13                         econometrics  0.803571\n",
       "14               electrical engineering  0.780142\n",
       "15               elementary mathematics  0.765668\n",
       "16                         formal logic  0.788991\n",
       "17                         global facts  0.755102\n",
       "18                  high school biology  0.750842\n",
       "19                high school chemistry  0.760204\n",
       "20         high school computer science  0.775510\n",
       "21         high school european history  0.721519\n",
       "22                high school geography  0.733333\n",
       "23  high school government and politics  0.762162\n",
       "24           high school macroeconomics  0.771654\n",
       "25              high school mathematics  0.731061\n",
       "26           high school microeconomics  0.738197\n",
       "27                  high school physics  0.751678\n",
       "28               high school psychology  0.755639\n",
       "29               high school statistics  0.704762\n",
       "30               high school us history  0.823232\n",
       "31            high school world history  0.790179\n",
       "32                          human aging  0.819444\n",
       "33                      human sexuality  0.728682\n",
       "34                    international law  0.692982\n",
       "35                        jurisprudence  0.794118\n",
       "36                    logical fallacies  0.746753\n",
       "37                     machine learning  0.737864\n",
       "38                           management  0.715686\n",
       "39                            marketing  0.807860\n",
       "40                     medical genetics  0.793814\n",
       "41                        miscellaneous  0.772069\n",
       "42                       moral disputes  0.790274\n",
       "43                      moral scenarios  0.781547\n",
       "44                            nutrition  0.791246\n",
       "45                           philosophy  0.766667\n",
       "46                           prehistory  0.798701\n",
       "47              professional accounting  0.742647\n",
       "48                     professional law  0.761074\n",
       "49                professional medicine  0.728302\n",
       "50              professional psychology  0.766610\n",
       "51                     public relations  0.783019\n",
       "52                     security studies  0.787879\n",
       "53                            sociology  0.758974\n",
       "54                    us foreign policy  0.778947\n",
       "55                             virology  0.814815\n",
       "56                      world religions  0.796407"
      ]
     },
     "execution_count": 41,
     "metadata": {},
     "output_type": "execute_result"
    }
   ],
   "source": [
    "df_x_correct_percentage_subject"
   ]
  },
  {
   "cell_type": "code",
   "execution_count": 42,
   "id": "380d4ae2-5ca5-41c1-beee-76ddc825b967",
   "metadata": {},
   "outputs": [
    {
     "data": {
      "text/plain": [
       "['college chemistry',\n",
       " 'college computer science',\n",
       " 'high school geography',\n",
       " 'moral disputes']"
      ]
     },
     "execution_count": 42,
     "metadata": {},
     "output_type": "execute_result"
    }
   ],
   "source": [
    "subject_difference_x_z"
   ]
  },
  {
   "cell_type": "code",
   "execution_count": 43,
   "id": "657c9919-5db4-4cfc-aaf4-d2af6613cddd",
   "metadata": {},
   "outputs": [
    {
     "data": {
      "text/plain": [
       "['college chemistry',\n",
       " 'college computer science',\n",
       " 'computer security',\n",
       " 'medical genetics',\n",
       " 'moral disputes',\n",
       " 'moral scenarios']"
      ]
     },
     "execution_count": 43,
     "metadata": {},
     "output_type": "execute_result"
    }
   ],
   "source": [
    "subject_difference_y_z"
   ]
  },
  {
   "cell_type": "markdown",
   "id": "d3cd28dd-07a3-40c9-8121-3262a387d17e",
   "metadata": {},
   "source": [
    "Let's see for subject x, as we can see we have for subject x we dont have any unbalance subject compared to the others, because if we look at the difference of x with respect to y and z there is not subject that is present in both, which mean it is x and y that are at fault in those cases. Let's create enough data to match the average differences bewteen subject less than 10%"
   ]
  },
  {
   "cell_type": "code",
   "execution_count": 44,
   "id": "7a4ff14c-d829-455d-95b5-5e59524975cf",
   "metadata": {},
   "outputs": [
    {
     "data": {
      "text/plain": [
       "set()"
      ]
     },
     "execution_count": 44,
     "metadata": {},
     "output_type": "execute_result"
    }
   ],
   "source": [
    "set(subject_difference_x_y).intersection(set(subject_difference_x_z))"
   ]
  },
  {
   "cell_type": "markdown",
   "id": "84837719-99ce-4bd2-a451-ac70472f598a",
   "metadata": {},
   "source": [
    "For LM y, we need to create more data for moral scenarios "
   ]
  },
  {
   "cell_type": "code",
   "execution_count": 45,
   "id": "c65587a7-32a6-4bd1-a716-db37341dfd0f",
   "metadata": {},
   "outputs": [
    {
     "data": {
      "text/plain": [
       "{'moral scenarios'}"
      ]
     },
     "execution_count": 45,
     "metadata": {},
     "output_type": "execute_result"
    }
   ],
   "source": [
    "imbalance_subject = set(subject_difference_x_y).intersection(set(subject_difference_y_z))\n",
    "imbalance_subject"
   ]
  },
  {
   "cell_type": "code",
   "execution_count": 46,
   "id": "a2933c31-611b-4c62-a6a4-b4f278dc90f3",
   "metadata": {},
   "outputs": [
    {
     "data": {
      "text/plain": [
       "{'college chemistry', 'college computer science', 'moral disputes'}"
      ]
     },
     "execution_count": 46,
     "metadata": {},
     "output_type": "execute_result"
    }
   ],
   "source": [
    "imbalance_subject = set(subject_difference_x_z).intersection(set(subject_difference_y_z))\n",
    "imbalance_subject"
   ]
  },
  {
   "cell_type": "code",
   "execution_count": 47,
   "id": "affc3746",
   "metadata": {},
   "outputs": [],
   "source": [
    "# C"
   ]
  },
  {
   "cell_type": "markdown",
   "id": "292b2f61-0529-4b6d-a3a7-af786a4d79ae",
   "metadata": {},
   "source": [
    "## Task 2 (26 points): What do you mean A > D > B > C...?\n",
    "\n",
    "Nice work! Having successfully inspected, cleaned, and rebalanced the provided data, you head over to director of the government's NEUTRALITY project. Ms. Sakota is happy with your work so far, but worried that the sloppy intern might have done more undetected damage. To be sure, she orders a new set of evaluations of all models on both MMLU and another dataset.\n",
    "\n",
    "After cleaning up and rebalancing, you are left with the concatenated score files in the second folder `task_2`:\n",
    "```\n",
    "task_2/\n",
    "│\n",
    "└── lm_scores_mmlu.csv\n",
    "│\n",
    "└── lm_scores_other.csv\n",
    "```\n",
    "\n",
    "Each has a new column called `model_name`, which is one of `X, Y` or `Z`.\n",
    "\n",
    "\n",
    "\n",
    "_NOTE: **only** use data from `task_2` and `task_2_5` for this assignment! The values in `lm_scores_mmlu.csv` will NOT be the same as the dataframes you finished in task 1. This is due to \"randomness\" or \"temperature\" in language model inference. This can slightly shift around generative results. (Conveniently: it also ensures any mistakes made in Task 1 don't propogate further ;) )_"
   ]
  },
  {
   "cell_type": "code",
   "execution_count": 48,
   "id": "a889a76b-e034-4d2f-929e-0ef1f250a0a0",
   "metadata": {},
   "outputs": [],
   "source": [
    "# PROVIDED CODE\n",
    "df_mmlu = pd.read_csv('ada-2024-homework-1-5ds/task_2/lm_scores_mmlu.csv')\n",
    "df_other = pd.read_csv('ada-2024-homework-1-5ds/task_2/lm_scores_other.csv')"
   ]
  },
  {
   "cell_type": "markdown",
   "id": "c31edde3-cc91-4d08-81c7-b5e98cf0ff9c",
   "metadata": {},
   "source": [
    "### 2.1 (4 pt)\n",
    "\n",
    "Let's explore the new results:\n",
    "\n",
    "A. Compute the mean accuracy and standard errors of each model on both datasets and print the results.\n",
    "\n",
    "B. Then, show your results in a bar plot using standard errors with a 95% confidence interval around the mean. Make sure the plot is easy to read and well annotated.\n",
    "\n",
    "C. /Discuss:/ the plot you created: (i) can you say that one of the models is the best? (ii) is there anything that seems odd?"
   ]
  },
  {
   "cell_type": "code",
   "execution_count": 49,
   "id": "534bc2e4-6e75-48a4-8ed9-9f6a9a834c4d",
   "metadata": {},
   "outputs": [
    {
     "data": {
      "text/html": [
       "<div>\n",
       "<style scoped>\n",
       "    .dataframe tbody tr th:only-of-type {\n",
       "        vertical-align: middle;\n",
       "    }\n",
       "\n",
       "    .dataframe tbody tr th {\n",
       "        vertical-align: top;\n",
       "    }\n",
       "\n",
       "    .dataframe thead th {\n",
       "        text-align: right;\n",
       "    }\n",
       "</style>\n",
       "<table border=\"1\" class=\"dataframe\">\n",
       "  <thead>\n",
       "    <tr style=\"text-align: right;\">\n",
       "      <th></th>\n",
       "      <th>result</th>\n",
       "      <th>question_id</th>\n",
       "      <th>question</th>\n",
       "      <th>A</th>\n",
       "      <th>B</th>\n",
       "      <th>C</th>\n",
       "      <th>D</th>\n",
       "      <th>answer</th>\n",
       "      <th>subject</th>\n",
       "      <th>correct</th>\n",
       "      <th>model_name</th>\n",
       "    </tr>\n",
       "  </thead>\n",
       "  <tbody>\n",
       "    <tr>\n",
       "      <th>0</th>\n",
       "      <td>B</td>\n",
       "      <td>0</td>\n",
       "      <td>Find the degree for the given field extension ...</td>\n",
       "      <td>0</td>\n",
       "      <td>4</td>\n",
       "      <td>2</td>\n",
       "      <td>6</td>\n",
       "      <td>B</td>\n",
       "      <td>abstract algebra</td>\n",
       "      <td>True</td>\n",
       "      <td>X</td>\n",
       "    </tr>\n",
       "    <tr>\n",
       "      <th>1</th>\n",
       "      <td>C</td>\n",
       "      <td>1</td>\n",
       "      <td>Let p = (1, 2, 5, 4)(2, 3) in S_5 . Find the i...</td>\n",
       "      <td>8</td>\n",
       "      <td>2</td>\n",
       "      <td>24</td>\n",
       "      <td>120</td>\n",
       "      <td>C</td>\n",
       "      <td>abstract algebra</td>\n",
       "      <td>True</td>\n",
       "      <td>X</td>\n",
       "    </tr>\n",
       "    <tr>\n",
       "      <th>2</th>\n",
       "      <td>D</td>\n",
       "      <td>2</td>\n",
       "      <td>Find all zeros in the indicated finite field o...</td>\n",
       "      <td>0</td>\n",
       "      <td>1</td>\n",
       "      <td>0,1</td>\n",
       "      <td>0,4</td>\n",
       "      <td>D</td>\n",
       "      <td>abstract algebra</td>\n",
       "      <td>True</td>\n",
       "      <td>X</td>\n",
       "    </tr>\n",
       "    <tr>\n",
       "      <th>3</th>\n",
       "      <td>B</td>\n",
       "      <td>3</td>\n",
       "      <td>Statement 1 | A factor group of a non-Abelian ...</td>\n",
       "      <td>True, True</td>\n",
       "      <td>False, False</td>\n",
       "      <td>True, False</td>\n",
       "      <td>False, True</td>\n",
       "      <td>B</td>\n",
       "      <td>abstract algebra</td>\n",
       "      <td>True</td>\n",
       "      <td>X</td>\n",
       "    </tr>\n",
       "    <tr>\n",
       "      <th>4</th>\n",
       "      <td>D</td>\n",
       "      <td>7</td>\n",
       "      <td>Statement 1 | A ring homomorphism is one to on...</td>\n",
       "      <td>True, True</td>\n",
       "      <td>False, False</td>\n",
       "      <td>True, False</td>\n",
       "      <td>False, True</td>\n",
       "      <td>D</td>\n",
       "      <td>abstract algebra</td>\n",
       "      <td>True</td>\n",
       "      <td>X</td>\n",
       "    </tr>\n",
       "    <tr>\n",
       "      <th>...</th>\n",
       "      <td>...</td>\n",
       "      <td>...</td>\n",
       "      <td>...</td>\n",
       "      <td>...</td>\n",
       "      <td>...</td>\n",
       "      <td>...</td>\n",
       "      <td>...</td>\n",
       "      <td>...</td>\n",
       "      <td>...</td>\n",
       "      <td>...</td>\n",
       "      <td>...</td>\n",
       "    </tr>\n",
       "    <tr>\n",
       "      <th>35083</th>\n",
       "      <td>A</td>\n",
       "      <td>14037</td>\n",
       "      <td>What has been a central focus of religious tra...</td>\n",
       "      <td>Peace and harmony</td>\n",
       "      <td>Power and influence</td>\n",
       "      <td>Truth and love</td>\n",
       "      <td>Wisdom and ethics</td>\n",
       "      <td>A</td>\n",
       "      <td>world religions</td>\n",
       "      <td>True</td>\n",
       "      <td>Z</td>\n",
       "    </tr>\n",
       "    <tr>\n",
       "      <th>35084</th>\n",
       "      <td>C</td>\n",
       "      <td>14038</td>\n",
       "      <td>To whom did ordinary folk appeal during a dro...</td>\n",
       "      <td>The Buddha</td>\n",
       "      <td>Laozi</td>\n",
       "      <td>The Queen Mother of the West</td>\n",
       "      <td>Confucius</td>\n",
       "      <td>C</td>\n",
       "      <td>world religions</td>\n",
       "      <td>True</td>\n",
       "      <td>Z</td>\n",
       "    </tr>\n",
       "    <tr>\n",
       "      <th>35085</th>\n",
       "      <td>B</td>\n",
       "      <td>14039</td>\n",
       "      <td>The theological term homoousios means which o...</td>\n",
       "      <td>of a similar substance</td>\n",
       "      <td>of the same substance</td>\n",
       "      <td>of like substance</td>\n",
       "      <td>of human substance</td>\n",
       "      <td>B</td>\n",
       "      <td>world religions</td>\n",
       "      <td>True</td>\n",
       "      <td>Z</td>\n",
       "    </tr>\n",
       "    <tr>\n",
       "      <th>35086</th>\n",
       "      <td>B</td>\n",
       "      <td>14040</td>\n",
       "      <td>According to the Japanese origin myth, who giv...</td>\n",
       "      <td>Es</td>\n",
       "      <td>Izanagi</td>\n",
       "      <td>Izanami</td>\n",
       "      <td>Kami</td>\n",
       "      <td>B</td>\n",
       "      <td>world religions</td>\n",
       "      <td>True</td>\n",
       "      <td>Z</td>\n",
       "    </tr>\n",
       "    <tr>\n",
       "      <th>35087</th>\n",
       "      <td>A</td>\n",
       "      <td>14041</td>\n",
       "      <td>The numen of Augustus referred to which of th...</td>\n",
       "      <td>Divine power</td>\n",
       "      <td>Sexual virility</td>\n",
       "      <td>Military acumen</td>\n",
       "      <td>Philosophical intellect</td>\n",
       "      <td>A</td>\n",
       "      <td>world religions</td>\n",
       "      <td>True</td>\n",
       "      <td>Z</td>\n",
       "    </tr>\n",
       "  </tbody>\n",
       "</table>\n",
       "<p>35088 rows × 11 columns</p>\n",
       "</div>"
      ],
      "text/plain": [
       "      result  question_id                                           question  \\\n",
       "0          B            0  Find the degree for the given field extension ...   \n",
       "1          C            1  Let p = (1, 2, 5, 4)(2, 3) in S_5 . Find the i...   \n",
       "2          D            2  Find all zeros in the indicated finite field o...   \n",
       "3          B            3  Statement 1 | A factor group of a non-Abelian ...   \n",
       "4          D            7  Statement 1 | A ring homomorphism is one to on...   \n",
       "...      ...          ...                                                ...   \n",
       "35083      A        14037  What has been a central focus of religious tra...   \n",
       "35084      C        14038   To whom did ordinary folk appeal during a dro...   \n",
       "35085      B        14039   The theological term homoousios means which o...   \n",
       "35086      B        14040  According to the Japanese origin myth, who giv...   \n",
       "35087      A        14041   The numen of Augustus referred to which of th...   \n",
       "\n",
       "                            A                      B  \\\n",
       "0                           0                      4   \n",
       "1                           8                      2   \n",
       "2                           0                      1   \n",
       "3                  True, True           False, False   \n",
       "4                  True, True           False, False   \n",
       "...                       ...                    ...   \n",
       "35083       Peace and harmony    Power and influence   \n",
       "35084              The Buddha                  Laozi   \n",
       "35085  of a similar substance  of the same substance   \n",
       "35086                      Es                Izanagi   \n",
       "35087            Divine power        Sexual virility   \n",
       "\n",
       "                                  C                        D answer  \\\n",
       "0                                 2                        6      B   \n",
       "1                                24                      120      C   \n",
       "2                               0,1                      0,4      D   \n",
       "3                       True, False              False, True      B   \n",
       "4                       True, False              False, True      D   \n",
       "...                             ...                      ...    ...   \n",
       "35083                Truth and love        Wisdom and ethics      A   \n",
       "35084  The Queen Mother of the West                Confucius      C   \n",
       "35085             of like substance       of human substance      B   \n",
       "35086                       Izanami                     Kami      B   \n",
       "35087               Military acumen  Philosophical intellect      A   \n",
       "\n",
       "                subject  correct model_name  \n",
       "0      abstract algebra     True          X  \n",
       "1      abstract algebra     True          X  \n",
       "2      abstract algebra     True          X  \n",
       "3      abstract algebra     True          X  \n",
       "4      abstract algebra     True          X  \n",
       "...                 ...      ...        ...  \n",
       "35083   world religions     True          Z  \n",
       "35084   world religions     True          Z  \n",
       "35085   world religions     True          Z  \n",
       "35086   world religions     True          Z  \n",
       "35087   world religions     True          Z  \n",
       "\n",
       "[35088 rows x 11 columns]"
      ]
     },
     "execution_count": 49,
     "metadata": {},
     "output_type": "execute_result"
    }
   ],
   "source": [
    "df_mmlu"
   ]
  },
  {
   "cell_type": "code",
   "execution_count": 50,
   "id": "56fe8cca-acd1-4f5e-a938-e8d3a850f220",
   "metadata": {},
   "outputs": [],
   "source": [
    "# A"
   ]
  },
  {
   "cell_type": "code",
   "execution_count": 51,
   "id": "52e5d2c6-ec19-4f0b-af3c-9644d7820692",
   "metadata": {},
   "outputs": [
    {
     "data": {
      "text/html": [
       "<div>\n",
       "<style scoped>\n",
       "    .dataframe tbody tr th:only-of-type {\n",
       "        vertical-align: middle;\n",
       "    }\n",
       "\n",
       "    .dataframe tbody tr th {\n",
       "        vertical-align: top;\n",
       "    }\n",
       "\n",
       "    .dataframe thead th {\n",
       "        text-align: right;\n",
       "    }\n",
       "</style>\n",
       "<table border=\"1\" class=\"dataframe\">\n",
       "  <thead>\n",
       "    <tr style=\"text-align: right;\">\n",
       "      <th></th>\n",
       "      <th></th>\n",
       "      <th>mean</th>\n",
       "    </tr>\n",
       "    <tr>\n",
       "      <th>model_name</th>\n",
       "      <th>dataset</th>\n",
       "      <th></th>\n",
       "    </tr>\n",
       "  </thead>\n",
       "  <tbody>\n",
       "    <tr>\n",
       "      <th rowspan=\"2\" valign=\"top\">X</th>\n",
       "      <th>mmlu</th>\n",
       "      <td>0.743588</td>\n",
       "    </tr>\n",
       "    <tr>\n",
       "      <th>other</th>\n",
       "      <td>0.787976</td>\n",
       "    </tr>\n",
       "    <tr>\n",
       "      <th rowspan=\"2\" valign=\"top\">Y</th>\n",
       "      <th>mmlu</th>\n",
       "      <td>0.761542</td>\n",
       "    </tr>\n",
       "    <tr>\n",
       "      <th>other</th>\n",
       "      <td>0.720936</td>\n",
       "    </tr>\n",
       "    <tr>\n",
       "      <th rowspan=\"2\" valign=\"top\">Z</th>\n",
       "      <th>mmlu</th>\n",
       "      <td>0.655951</td>\n",
       "    </tr>\n",
       "    <tr>\n",
       "      <th>other</th>\n",
       "      <td>0.671721</td>\n",
       "    </tr>\n",
       "  </tbody>\n",
       "</table>\n",
       "</div>"
      ],
      "text/plain": [
       "                        mean\n",
       "model_name dataset          \n",
       "X          mmlu     0.743588\n",
       "           other    0.787976\n",
       "Y          mmlu     0.761542\n",
       "           other    0.720936\n",
       "Z          mmlu     0.655951\n",
       "           other    0.671721"
      ]
     },
     "execution_count": 51,
     "metadata": {},
     "output_type": "execute_result"
    }
   ],
   "source": [
    "df_mmlu['dataset'] = 'mmlu'\n",
    "df_other['dataset'] = 'other'\n",
    "\n",
    "combined_dataset = pd.concat([df_mmlu, df_other])\n",
    "combined_dataset.groupby(['model_name', 'dataset']).aggregate({'correct' : 'mean'}).rename(columns={'correct' : 'mean'})"
   ]
  },
  {
   "cell_type": "code",
   "execution_count": 52,
   "id": "a991fa7f-d1d4-44bf-851f-2445eb8c4b7b",
   "metadata": {},
   "outputs": [
    {
     "data": {
      "text/html": [
       "<div>\n",
       "<style scoped>\n",
       "    .dataframe tbody tr th:only-of-type {\n",
       "        vertical-align: middle;\n",
       "    }\n",
       "\n",
       "    .dataframe tbody tr th {\n",
       "        vertical-align: top;\n",
       "    }\n",
       "\n",
       "    .dataframe thead th {\n",
       "        text-align: right;\n",
       "    }\n",
       "</style>\n",
       "<table border=\"1\" class=\"dataframe\">\n",
       "  <thead>\n",
       "    <tr style=\"text-align: right;\">\n",
       "      <th></th>\n",
       "      <th></th>\n",
       "      <th>sem</th>\n",
       "    </tr>\n",
       "    <tr>\n",
       "      <th>model_name</th>\n",
       "      <th>dataset</th>\n",
       "      <th></th>\n",
       "    </tr>\n",
       "  </thead>\n",
       "  <tbody>\n",
       "    <tr>\n",
       "      <th rowspan=\"2\" valign=\"top\">X</th>\n",
       "      <th>mmlu</th>\n",
       "      <td>0.004038</td>\n",
       "    </tr>\n",
       "    <tr>\n",
       "      <th>other</th>\n",
       "      <td>0.006668</td>\n",
       "    </tr>\n",
       "    <tr>\n",
       "      <th rowspan=\"2\" valign=\"top\">Y</th>\n",
       "      <th>mmlu</th>\n",
       "      <td>0.003941</td>\n",
       "    </tr>\n",
       "    <tr>\n",
       "      <th>other</th>\n",
       "      <td>0.007317</td>\n",
       "    </tr>\n",
       "    <tr>\n",
       "      <th rowspan=\"2\" valign=\"top\">Z</th>\n",
       "      <th>mmlu</th>\n",
       "      <td>0.004393</td>\n",
       "    </tr>\n",
       "    <tr>\n",
       "      <th>other</th>\n",
       "      <td>0.007660</td>\n",
       "    </tr>\n",
       "  </tbody>\n",
       "</table>\n",
       "</div>"
      ],
      "text/plain": [
       "                         sem\n",
       "model_name dataset          \n",
       "X          mmlu     0.004038\n",
       "           other    0.006668\n",
       "Y          mmlu     0.003941\n",
       "           other    0.007317\n",
       "Z          mmlu     0.004393\n",
       "           other    0.007660"
      ]
     },
     "execution_count": 52,
     "metadata": {},
     "output_type": "execute_result"
    }
   ],
   "source": [
    "combined_dataset.groupby(['model_name', 'dataset']).aggregate({'correct' : 'sem'}).rename(columns={'correct' : 'sem'})"
   ]
  },
  {
   "cell_type": "code",
   "execution_count": 53,
   "id": "ee868a6a-5311-4d5d-b4d0-6a5e82013c61",
   "metadata": {},
   "outputs": [
    {
     "data": {
      "image/png": "[encoded data removed]",
      "text/plain": [
       "<Figure size 640x480 with 1 Axes>"
      ]
     },
     "metadata": {},
     "output_type": "display_data"
    }
   ],
   "source": [
    "import seaborn as sns\n",
    "\n",
    "axes = sns.barplot(combined_dataset, x = 'model_name', y = 'correct', hue=\"dataset\", estimator='mean', errorbar=('ci', 95), palette = 'Set1')\n",
    "# Adding annotations\n",
    "for container in axes.containers:\n",
    "    # Optional: you can filter the containers for the bars if there are other objects like error bars\n",
    "    axes.bar_label(container, fmt='%.2f', padding=3)\n",
    "plt.ylabel('mean')\n",
    "\n",
    "plt.title('Mean comparison with 95% confidence interval between the 2 datasets')\n",
    "plt.show()"
   ]
  },
  {
   "cell_type": "markdown",
   "id": "65c9fbfe",
   "metadata": {},
   "source": [
    "C. /Discuss:/\n",
    "We can't say for sure which model is the best between model X and model Y since the 2 models mean confidence interval intersect each other for both dataset.\n",
    "Model z seems far less efficient, which is odd"
   ]
  },
  {
   "cell_type": "markdown",
   "id": "eee0ec62-f2d1-4bae-a6f6-221320d602cb",
   "metadata": {},
   "source": [
    "### 2.2 (5 pt)\n",
    "\n",
    "Ms. Sakota has assured you that both datasets contain questions of similar difficulty, so, what could be going on here?\n",
    "\n",
    "A. What is the distribution of correct answers (A, B, C, D) for each dataset? Create a bar chart to visualize this.\n",
    "\n",
    "B. Perform a chi-square test at $\\alpha = 0.05$, of independence to determine if there's a significant difference in the distribution of correct answers between the two datasets. What do you conclude?\n",
    "\n",
    "**hints**:\n",
    "- for (A), keep in mind that df_mmlu and df_other contain the results of all models, i.e., the `question_id` column is duplicated.\n",
    "- for (A), take care to clearly annotate the bar chart, e.g., title, y-label, legend.\n",
    "- for (B), clearly state the null hypothesis and alternative hypothesis\n",
    "- use the `chi2_contingency` function from `scipy.stats`\n",
    "- format your results from answer (A) as a 2D array"
   ]
  },
  {
   "cell_type": "code",
   "execution_count": 54,
   "id": "2ff67e89-fc2d-4893-82df-f58d8b9b37eb",
   "metadata": {},
   "outputs": [],
   "source": [
    "# A"
   ]
  },
  {
   "cell_type": "code",
   "execution_count": 55,
   "id": "5a9c847e-49c3-449e-815f-e52ce0f95fc4",
   "metadata": {},
   "outputs": [
    {
     "data": {
      "text/plain": [
       "<Axes: xlabel='answer', ylabel='correct'>"
      ]
     },
     "execution_count": 55,
     "metadata": {},
     "output_type": "execute_result"
    },
    {
     "data": {
      "image/png": "[encoded data removed]",
      "text/plain": [
       "<Figure size 640x480 with 1 Axes>"
      ]
     },
     "metadata": {},
     "output_type": "display_data"
    }
   ],
   "source": [
    "df_question = combined_dataset.groupby(['dataset', 'answer'])['correct'].sum()\n",
    "\n",
    "sns.barplot(x='answer', y='correct', hue='dataset', data=df_question.reset_index(), estimator=np.mean, errorbar=('ci', 95), palette='Set1')"
   ]
  },
  {
   "cell_type": "code",
   "execution_count": 56,
   "id": "eabe8057-3548-4d64-9dfc-f847e31cabbe",
   "metadata": {},
   "outputs": [],
   "source": [
    "df_question = df_question.reset_index()"
   ]
  },
  {
   "cell_type": "code",
   "execution_count": 57,
   "id": "5b10479c-f922-4f87-aae3-1dd3702bd082",
   "metadata": {},
   "outputs": [
    {
     "data": {
      "text/html": [
       "<div>\n",
       "<style scoped>\n",
       "    .dataframe tbody tr th:only-of-type {\n",
       "        vertical-align: middle;\n",
       "    }\n",
       "\n",
       "    .dataframe tbody tr th {\n",
       "        vertical-align: top;\n",
       "    }\n",
       "\n",
       "    .dataframe thead th {\n",
       "        text-align: right;\n",
       "    }\n",
       "</style>\n",
       "<table border=\"1\" class=\"dataframe\">\n",
       "  <thead>\n",
       "    <tr style=\"text-align: right;\">\n",
       "      <th></th>\n",
       "      <th>dataset</th>\n",
       "      <th>answer</th>\n",
       "      <th>correct</th>\n",
       "    </tr>\n",
       "  </thead>\n",
       "  <tbody>\n",
       "    <tr>\n",
       "      <th>0</th>\n",
       "      <td>mmlu</td>\n",
       "      <td>A</td>\n",
       "      <td>3608</td>\n",
       "    </tr>\n",
       "    <tr>\n",
       "      <th>1</th>\n",
       "      <td>mmlu</td>\n",
       "      <td>B</td>\n",
       "      <td>6264</td>\n",
       "    </tr>\n",
       "    <tr>\n",
       "      <th>2</th>\n",
       "      <td>mmlu</td>\n",
       "      <td>C</td>\n",
       "      <td>7182</td>\n",
       "    </tr>\n",
       "    <tr>\n",
       "      <th>3</th>\n",
       "      <td>mmlu</td>\n",
       "      <td>D</td>\n",
       "      <td>8222</td>\n",
       "    </tr>\n",
       "    <tr>\n",
       "      <th>4</th>\n",
       "      <td>other</td>\n",
       "      <td>A</td>\n",
       "      <td>2458</td>\n",
       "    </tr>\n",
       "    <tr>\n",
       "      <th>5</th>\n",
       "      <td>other</td>\n",
       "      <td>B</td>\n",
       "      <td>2386</td>\n",
       "    </tr>\n",
       "    <tr>\n",
       "      <th>6</th>\n",
       "      <td>other</td>\n",
       "      <td>C</td>\n",
       "      <td>1942</td>\n",
       "    </tr>\n",
       "    <tr>\n",
       "      <th>7</th>\n",
       "      <td>other</td>\n",
       "      <td>D</td>\n",
       "      <td>1411</td>\n",
       "    </tr>\n",
       "  </tbody>\n",
       "</table>\n",
       "</div>"
      ],
      "text/plain": [
       "  dataset answer  correct\n",
       "0    mmlu      A     3608\n",
       "1    mmlu      B     6264\n",
       "2    mmlu      C     7182\n",
       "3    mmlu      D     8222\n",
       "4   other      A     2458\n",
       "5   other      B     2386\n",
       "6   other      C     1942\n",
       "7   other      D     1411"
      ]
     },
     "execution_count": 57,
     "metadata": {},
     "output_type": "execute_result"
    }
   ],
   "source": [
    "df_question"
   ]
  },
  {
   "cell_type": "code",
   "execution_count": 58,
   "id": "196136bd-31de-445c-96b4-d77be08a7b38",
   "metadata": {},
   "outputs": [],
   "source": [
    "pivot_correct_answers = df_question.pivot(index='dataset', columns='answer', values='correct')\n",
    "\n",
    "\n",
    "array_2d = pivot_correct_answers.to_numpy()"
   ]
  },
  {
   "cell_type": "code",
   "execution_count": 59,
   "id": "109fe6c2-7f29-434e-9110-64b999a6b1d4",
   "metadata": {},
   "outputs": [
    {
     "data": {
      "text/html": [
       "<div>\n",
       "<style scoped>\n",
       "    .dataframe tbody tr th:only-of-type {\n",
       "        vertical-align: middle;\n",
       "    }\n",
       "\n",
       "    .dataframe tbody tr th {\n",
       "        vertical-align: top;\n",
       "    }\n",
       "\n",
       "    .dataframe thead th {\n",
       "        text-align: right;\n",
       "    }\n",
       "</style>\n",
       "<table border=\"1\" class=\"dataframe\">\n",
       "  <thead>\n",
       "    <tr style=\"text-align: right;\">\n",
       "      <th>answer</th>\n",
       "      <th>A</th>\n",
       "      <th>B</th>\n",
       "      <th>C</th>\n",
       "      <th>D</th>\n",
       "    </tr>\n",
       "    <tr>\n",
       "      <th>dataset</th>\n",
       "      <th></th>\n",
       "      <th></th>\n",
       "      <th></th>\n",
       "      <th></th>\n",
       "    </tr>\n",
       "  </thead>\n",
       "  <tbody>\n",
       "    <tr>\n",
       "      <th>mmlu</th>\n",
       "      <td>3608</td>\n",
       "      <td>6264</td>\n",
       "      <td>7182</td>\n",
       "      <td>8222</td>\n",
       "    </tr>\n",
       "    <tr>\n",
       "      <th>other</th>\n",
       "      <td>2458</td>\n",
       "      <td>2386</td>\n",
       "      <td>1942</td>\n",
       "      <td>1411</td>\n",
       "    </tr>\n",
       "  </tbody>\n",
       "</table>\n",
       "</div>"
      ],
      "text/plain": [
       "answer      A     B     C     D\n",
       "dataset                        \n",
       "mmlu     3608  6264  7182  8222\n",
       "other    2458  2386  1942  1411"
      ]
     },
     "execution_count": 59,
     "metadata": {},
     "output_type": "execute_result"
    }
   ],
   "source": [
    "pivot_correct_answers"
   ]
  },
  {
   "cell_type": "code",
   "execution_count": 60,
   "id": "d10b7214-f471-46f5-a159-46ce235a86b6",
   "metadata": {},
   "outputs": [
    {
     "data": {
      "text/plain": [
       "array([[3608, 6264, 7182, 8222],\n",
       "       [2458, 2386, 1942, 1411]])"
      ]
     },
     "execution_count": 60,
     "metadata": {},
     "output_type": "execute_result"
    }
   ],
   "source": [
    "array_2d"
   ]
  },
  {
   "cell_type": "markdown",
   "id": "6b9dc3d9-19c3-4abe-bbfe-bbd19a05c758",
   "metadata": {},
   "source": [
    "The null hypothesis is : The distribution are the same.\n",
    "The alternative hypothesis would be : the distributions are different.\n",
    "\n",
    "So we have to do a two sided test"
   ]
  },
  {
   "cell_type": "code",
   "execution_count": 61,
   "id": "92392cd7",
   "metadata": {},
   "outputs": [],
   "source": [
    "# B\n",
    "from scipy.stats import chi2_contingency\n",
    "\n",
    "res = chi2_contingency(array_2d)"
   ]
  },
  {
   "cell_type": "code",
   "execution_count": 62,
   "id": "52da73d5-0008-47d3-b91a-b4b593797e9f",
   "metadata": {},
   "outputs": [
    {
     "data": {
      "text/plain": [
       "0.0"
      ]
     },
     "execution_count": 62,
     "metadata": {},
     "output_type": "execute_result"
    }
   ],
   "source": [
    "res.pvalue"
   ]
  },
  {
   "cell_type": "code",
   "execution_count": 63,
   "id": "b3305663-78b4-49f0-9b7c-248f9813f4f6",
   "metadata": {},
   "outputs": [
    {
     "data": {
      "text/plain": [
       "3"
      ]
     },
     "execution_count": 63,
     "metadata": {},
     "output_type": "execute_result"
    }
   ],
   "source": [
    "res.dof"
   ]
  },
  {
   "cell_type": "code",
   "execution_count": 64,
   "id": "8776c444-f74f-4268-b35a-259c5d57fa43",
   "metadata": {},
   "outputs": [
    {
     "name": "stdout",
     "output_type": "stream",
     "text": [
      "We can reject the null hypothesis at maximum 100.0% significance\n"
     ]
    }
   ],
   "source": [
    "print(f'We can reject the null hypothesis at maximum {(1 - res.pvalue)*100}% significance')"
   ]
  },
  {
   "cell_type": "markdown",
   "id": "ba9c39b1-e2fb-47be-b9d0-e2d7b1e59a73",
   "metadata": {},
   "source": [
    "So we can't reject the null hypothesis, we should keep looking for another explanation of the data, since 0.05 < pvalue"
   ]
  },
  {
   "cell_type": "markdown",
   "id": "2d3125ad-5a7e-44e7-999a-a0ff99855d39",
   "metadata": {},
   "source": [
    "### 2.3 (7 pt)\n",
    "\n",
    "Let's dive in deeper:\n",
    "\n",
    "A. What is language model X's mean accuracy conditioned on the four answer options for each dataset?\n",
    "\n",
    "B. Compare LM X's performance when the correct answer is \"A\" between the two datasets. Use a T-test with CI = 0.95. What do you conclude?\n",
    "\n",
    "C. Compare LM X's performance when the correct answer is \"A\" vs. \"C or D\" for each dataset. Use a T-test with CI = 0.95. What do you conclude?"
   ]
  },
  {
   "cell_type": "code",
   "execution_count": 65,
   "id": "39097a11-8efe-46d1-8bc3-5587bb58d199",
   "metadata": {},
   "outputs": [
    {
     "data": {
      "text/html": [
       "<div>\n",
       "<style scoped>\n",
       "    .dataframe tbody tr th:only-of-type {\n",
       "        vertical-align: middle;\n",
       "    }\n",
       "\n",
       "    .dataframe tbody tr th {\n",
       "        vertical-align: top;\n",
       "    }\n",
       "\n",
       "    .dataframe thead th {\n",
       "        text-align: right;\n",
       "    }\n",
       "</style>\n",
       "<table border=\"1\" class=\"dataframe\">\n",
       "  <thead>\n",
       "    <tr style=\"text-align: right;\">\n",
       "      <th>answer</th>\n",
       "      <th>A</th>\n",
       "      <th>B</th>\n",
       "      <th>C</th>\n",
       "      <th>D</th>\n",
       "    </tr>\n",
       "    <tr>\n",
       "      <th>dataset</th>\n",
       "      <th></th>\n",
       "      <th></th>\n",
       "      <th></th>\n",
       "      <th></th>\n",
       "    </tr>\n",
       "  </thead>\n",
       "  <tbody>\n",
       "    <tr>\n",
       "      <th>mmlu</th>\n",
       "      <td>0.972688</td>\n",
       "      <td>0.799185</td>\n",
       "      <td>0.707905</td>\n",
       "      <td>0.633592</td>\n",
       "    </tr>\n",
       "    <tr>\n",
       "      <th>other</th>\n",
       "      <td>0.974026</td>\n",
       "      <td>0.806452</td>\n",
       "      <td>0.676407</td>\n",
       "      <td>0.603744</td>\n",
       "    </tr>\n",
       "  </tbody>\n",
       "</table>\n",
       "</div>"
      ],
      "text/plain": [
       "answer          A         B         C         D\n",
       "dataset                                        \n",
       "mmlu     0.972688  0.799185  0.707905  0.633592\n",
       "other    0.974026  0.806452  0.676407  0.603744"
      ]
     },
     "execution_count": 65,
     "metadata": {},
     "output_type": "execute_result"
    }
   ],
   "source": [
    "# A\n",
    "combined_dataset[combined_dataset['model_name'] == 'X'].groupby(['dataset', 'answer']).aggregate({'correct' : 'mean'}).reset_index().rename(columns={'correct' : 'mean'}).pivot(index='dataset', columns='answer', values='mean')"
   ]
  },
  {
   "cell_type": "code",
   "execution_count": 66,
   "id": "9ae67c09",
   "metadata": {},
   "outputs": [],
   "source": [
    "# B\n",
    "performance_mmlu_A = combined_dataset[(combined_dataset['model_name'] == 'X') & \n",
    "                                      (combined_dataset['dataset'] == 'mmlu') & \n",
    "                                      (combined_dataset['answer'] == 'A')]['correct']\n",
    "\n",
    "performance_other_A = combined_dataset[(combined_dataset['model_name'] == 'X') & \n",
    "                                       (combined_dataset['dataset'] == 'other') & \n",
    "                                       (combined_dataset['answer'] == 'A')]['correct']\n",
    "\n",
    "t_stat, p_value = ttest_ind(performance_mmlu_A, performance_other_A)"
   ]
  },
  {
   "cell_type": "code",
   "execution_count": 67,
   "id": "f4640800-0967-41c7-b5cf-5a1baf9d4598",
   "metadata": {},
   "outputs": [
    {
     "data": {
      "text/plain": [
       "-0.21059510911432247"
      ]
     },
     "execution_count": 67,
     "metadata": {},
     "output_type": "execute_result"
    }
   ],
   "source": [
    "t_stat"
   ]
  },
  {
   "cell_type": "code",
   "execution_count": 68,
   "id": "fe1ee776-371e-455e-9435-f5f9169abaaa",
   "metadata": {},
   "outputs": [
    {
     "data": {
      "text/plain": [
       "0.8332191972699248"
      ]
     },
     "execution_count": 68,
     "metadata": {},
     "output_type": "execute_result"
    }
   ],
   "source": [
    "p_value"
   ]
  },
  {
   "cell_type": "markdown",
   "id": "43ad8343-b2b2-41ed-9083-5fc9a5f9ad8e",
   "metadata": {},
   "source": [
    "p > 0.05 so we can't reject the null hypothesis, we have to keep looking"
   ]
  },
  {
   "cell_type": "code",
   "execution_count": 69,
   "id": "636af6a6",
   "metadata": {},
   "outputs": [],
   "source": [
    "# C\n",
    "performance_other_C_or_D = combined_dataset[(combined_dataset['model_name'] == 'X') & \n",
    "                                       (combined_dataset['dataset'] == 'other') & \n",
    "                                       (combined_dataset['answer'].isin(['C', 'D']))]['correct']\n",
    "\n",
    "performance_mmlu_C_or_D = combined_dataset[(combined_dataset['model_name'] == 'X') & \n",
    "                                       (combined_dataset['dataset'] == 'mmlu') & \n",
    "                                       (combined_dataset['answer'].isin(['C', 'D']))]['correct']"
   ]
  },
  {
   "cell_type": "code",
   "execution_count": 70,
   "id": "205df7f2-9a84-4454-8c1e-e14a1ec96a7e",
   "metadata": {},
   "outputs": [],
   "source": [
    "t_stat_other, p_value_other = ttest_ind(performance_other_A, performance_other_C_or_D)"
   ]
  },
  {
   "cell_type": "code",
   "execution_count": 71,
   "id": "f7de182e-b03c-491b-9f78-b73a3f553379",
   "metadata": {},
   "outputs": [],
   "source": [
    "t_stat_mmlu, p_value_mmlu = ttest_ind(performance_mmlu_A, performance_mmlu_C_or_D)"
   ]
  },
  {
   "cell_type": "code",
   "execution_count": 72,
   "id": "07a07603-3627-48b0-86d8-da6d3bc8dc00",
   "metadata": {},
   "outputs": [
    {
     "data": {
      "text/plain": [
       "5.900859805611251e-96"
      ]
     },
     "execution_count": 72,
     "metadata": {},
     "output_type": "execute_result"
    }
   ],
   "source": [
    "p_value_other"
   ]
  },
  {
   "cell_type": "code",
   "execution_count": 73,
   "id": "4ca07fa5-1a31-4327-80e0-58d994bd0a70",
   "metadata": {},
   "outputs": [
    {
     "data": {
      "text/plain": [
       "5.334906497224946e-139"
      ]
     },
     "execution_count": 73,
     "metadata": {},
     "output_type": "execute_result"
    }
   ],
   "source": [
    "p_value_mmlu"
   ]
  },
  {
   "cell_type": "code",
   "execution_count": 74,
   "id": "c3c7c90b-b778-4f40-abfd-e0a36267e95f",
   "metadata": {},
   "outputs": [
    {
     "data": {
      "text/plain": [
       "-0.21059510911432247"
      ]
     },
     "execution_count": 74,
     "metadata": {},
     "output_type": "execute_result"
    }
   ],
   "source": [
    "t_stat"
   ]
  },
  {
   "cell_type": "markdown",
   "id": "d6ceb19a-ddba-416a-9b3d-21319fafd35f",
   "metadata": {},
   "source": [
    "p is very small, we have p < 0.05, we can reject the null hypothesis that is the distriubtion of answering A is the same as C or D. Which would mean that the model is biased on answers A."
   ]
  },
  {
   "cell_type": "markdown",
   "id": "33848ff9-2604-4e48-b5df-3207dc81e9a9",
   "metadata": {},
   "source": [
    "### 2.4 (2 pt)\n",
    "\n",
    "What an intriguing finding! \n",
    "\n",
    "A. Print the mean accuracies conditioned on the correct answer for all LMs for each dataset.\n",
    "\n",
    "B. /Discuss:/ What do you observe?"
   ]
  },
  {
   "cell_type": "code",
   "execution_count": 75,
   "id": "ec53ce2c-866e-440a-ac79-7813cb756782",
   "metadata": {},
   "outputs": [
    {
     "data": {
      "text/html": [
       "<div>\n",
       "<style scoped>\n",
       "    .dataframe tbody tr th:only-of-type {\n",
       "        vertical-align: middle;\n",
       "    }\n",
       "\n",
       "    .dataframe tbody tr th {\n",
       "        vertical-align: top;\n",
       "    }\n",
       "\n",
       "    .dataframe thead th {\n",
       "        text-align: right;\n",
       "    }\n",
       "</style>\n",
       "<table border=\"1\" class=\"dataframe\">\n",
       "  <thead>\n",
       "    <tr style=\"text-align: right;\">\n",
       "      <th></th>\n",
       "      <th>answer</th>\n",
       "      <th>A</th>\n",
       "      <th>B</th>\n",
       "      <th>C</th>\n",
       "      <th>D</th>\n",
       "    </tr>\n",
       "    <tr>\n",
       "      <th>dataset</th>\n",
       "      <th>model_name</th>\n",
       "      <th></th>\n",
       "      <th></th>\n",
       "      <th></th>\n",
       "      <th></th>\n",
       "    </tr>\n",
       "  </thead>\n",
       "  <tbody>\n",
       "    <tr>\n",
       "      <th rowspan=\"3\" valign=\"top\">mmlu</th>\n",
       "      <th>X</th>\n",
       "      <td>0.972688</td>\n",
       "      <td>0.799185</td>\n",
       "      <td>0.707905</td>\n",
       "      <td>0.633592</td>\n",
       "    </tr>\n",
       "    <tr>\n",
       "      <th>Y</th>\n",
       "      <td>0.623836</td>\n",
       "      <td>0.688073</td>\n",
       "      <td>0.733470</td>\n",
       "      <td>0.904252</td>\n",
       "    </tr>\n",
       "    <tr>\n",
       "      <th>Z</th>\n",
       "      <td>0.643079</td>\n",
       "      <td>0.641182</td>\n",
       "      <td>0.669115</td>\n",
       "      <td>0.661139</td>\n",
       "    </tr>\n",
       "    <tr>\n",
       "      <th rowspan=\"3\" valign=\"top\">other</th>\n",
       "      <th>X</th>\n",
       "      <td>0.974026</td>\n",
       "      <td>0.806452</td>\n",
       "      <td>0.676407</td>\n",
       "      <td>0.603744</td>\n",
       "    </tr>\n",
       "    <tr>\n",
       "      <th>Y</th>\n",
       "      <td>0.625232</td>\n",
       "      <td>0.663978</td>\n",
       "      <td>0.762987</td>\n",
       "      <td>0.920437</td>\n",
       "    </tr>\n",
       "    <tr>\n",
       "      <th>Z</th>\n",
       "      <td>0.680891</td>\n",
       "      <td>0.667563</td>\n",
       "      <td>0.662338</td>\n",
       "      <td>0.677067</td>\n",
       "    </tr>\n",
       "  </tbody>\n",
       "</table>\n",
       "</div>"
      ],
      "text/plain": [
       "answer                     A         B         C         D\n",
       "dataset model_name                                        \n",
       "mmlu    X           0.972688  0.799185  0.707905  0.633592\n",
       "        Y           0.623836  0.688073  0.733470  0.904252\n",
       "        Z           0.643079  0.641182  0.669115  0.661139\n",
       "other   X           0.974026  0.806452  0.676407  0.603744\n",
       "        Y           0.625232  0.663978  0.762987  0.920437\n",
       "        Z           0.680891  0.667563  0.662338  0.677067"
      ]
     },
     "execution_count": 75,
     "metadata": {},
     "output_type": "execute_result"
    }
   ],
   "source": [
    "# A\n",
    "model_answer_accuracy = combined_dataset.groupby(['dataset', 'model_name', 'answer']).aggregate({'correct' : 'mean'}).reset_index().rename(columns={'correct' : 'accuracy'})\n",
    "model_answer_accuracy.pivot(index=['dataset','model_name'], columns='answer', values='accuracy')"
   ]
  },
  {
   "cell_type": "markdown",
   "id": "4ce58e47",
   "metadata": {},
   "source": [
    "B. /Discuss:/\n",
    "The model X seems to work very well for question A and B in both dataset, TODO BIASED\n"
   ]
  },
  {
   "cell_type": "markdown",
   "id": "ccdd9d3c-5a03-4b30-84f7-a7dfbee1373e",
   "metadata": {},
   "source": [
    "### 2.5 (2 pt)\n",
    "\n",
    "Concerned with your findings so far, you quickly consult with Ms. Sakota. After thinking it over, Ms. Sakota concludes that more tests are needed. She orders a second round of MMLU results. However, the clever Ms. Sakota thinks of the following twist: while keeping questions fixed, she randomly permutes the position of the correct answer. The new results can be found in the folder `data/task_2_5/`:\n",
    "```\n",
    "task_2_5/\n",
    "│\n",
    "└── lm_scores_mmlu_shuffle.csv\n",
    "```\n",
    "\n",
    "/Discuss:/ Why would Ms. Sakota do this?"
   ]
  },
  {
   "cell_type": "markdown",
   "id": "9d073adc-bc7e-4f50-ada7-83e07a452f95",
   "metadata": {},
   "source": [
    "She thinks that maybe the LLms learned that it's better to guess A,B than the other, so she wants to see if the suffle model will guess more on the answers that took the place of A, B in the non shuffle."
   ]
  },
  {
   "cell_type": "markdown",
   "id": "64cc586a",
   "metadata": {},
   "source": [
    "/Discuss:/"
   ]
  },
  {
   "cell_type": "markdown",
   "id": "b9150ae0-dbaa-4c88-bf80-ec03127c6945",
   "metadata": {},
   "source": [
    "### 2.6 (4 pt)\n",
    "\n",
    "Increasingly sceptical of the language models' performance, you read up on proper testing practices. You stumble upon the concept of [test-rested stability](https://en.wikipedia.org/wiki/Repeatability), which roughtly states that:\n",
    "\n",
    "\"_Measurements taken by a single person or instrument on the same item, under the same conditions, and in a short period of time, should have the same results._\"\n",
    "\n",
    "In our case, we would assume an LM would have the same performance on a given question regardless of the correct answer position. One way of testing this is by using the following metric:\n",
    "\n",
    "$$\\text{test-retest metric} = \\frac{1}{N}\\sum_{i=1}^N \\frac{1}{M}\\sum_{j=1}^M c^i_0 c_j^i,$$\n",
    "\n",
    "where $c^i_0 \\in \\{0, 1\\}$ indicates whether the model answers the $i^{\\text{th}}$ question correctly (1 if correct, 0 if incorrect). $c_j^i$ indicates whether the model answers the $i^{\\text{th}}$ question correctly in the $j^{\\text{th}}$ shuffled version of the answer label content. Finally, $M$ is the total number of shuffles and $N$ is the dataset size.\n",
    "\n",
    "Task: compute the test-retest metric for each language model using the original `lm_scores_mmlu.csv` file and the new `lm_scores_mmlu_shuffle.csv` file. Using a bar plot, visualize your results by comparing the accuracy of the original `lm_scores_mmlu.csv` and the test-retest scores.\n",
    "\n",
    "**hints**\n",
    "- what is $M$ in our case?\n",
    "\n",
    "(bonus: no points, but so much sweet, sweet knowledge - check out [the following article](https://arxiv.org/pdf/2406.19470v1))"
   ]
  },
  {
   "cell_type": "markdown",
   "id": "d6f8fa24-58db-4ae6-bb9b-890fa57465a2",
   "metadata": {},
   "source": [
    "In our case we have M = 1 because we only have one shifted version."
   ]
  },
  {
   "cell_type": "code",
   "execution_count": 76,
   "id": "e25a2182-66f4-4abe-a7fb-d3143fd8d516",
   "metadata": {},
   "outputs": [],
   "source": [
    "df_mmlu_shuffle = pd.read_csv('ada-2024-homework-1-5ds//task_2_5/lm_scores_mmlu_shuffle.csv')"
   ]
  },
  {
   "cell_type": "code",
   "execution_count": 77,
   "id": "4d1171f0-616d-4988-ad31-6fb2a0234a2e",
   "metadata": {},
   "outputs": [],
   "source": [
    "test_retest_metric = np.mean(df_mmlu_shuffle['correct']*df_mmlu['correct'])"
   ]
  },
  {
   "cell_type": "code",
   "execution_count": 78,
   "id": "86cce1a0-b3eb-4001-ab4a-0bbd86f946c9",
   "metadata": {},
   "outputs": [
    {
     "name": "stdout",
     "output_type": "stream",
     "text": [
      "The test retest metric is 0.5338862289101687\n"
     ]
    }
   ],
   "source": [
    "print(f'The test retest metric is {test_retest_metric}')"
   ]
  },
  {
   "cell_type": "markdown",
   "id": "b70bee6e-0c81-4f5a-b1a8-16a96aa2ae17",
   "metadata": {},
   "source": [
    "### 2.7 (2 pt)\n",
    "\n",
    "A. Using the unshuffled data: For each LM, print the distribution of the answers they give as well as the accuracy conditioned on the answer they give.\n",
    "\n",
    "B. /Discuss:/ Describe what you observe\n",
    "\n",
    "[bonus: not scored, but again _that sweet, sweet knowledge_] Could you think of a plausible explanation?"
   ]
  },
  {
   "cell_type": "code",
   "execution_count": 79,
   "id": "4956581b-d047-46cb-ae71-1508a9a0b466",
   "metadata": {},
   "outputs": [],
   "source": [
    "# A\n",
    "df_mmlu_stats = df_mmlu.groupby(['model_name', 'result']).agg(\n",
    "    distribution=('result', 'count'),  # Count the occurrences of each result\n",
    "    accuracy=('correct', 'mean')       # Calculate the mean accuracy\n",
    ").reset_index()\n",
    "\n",
    "\n",
    "total_count = df_mmlu_stats.groupby('model_name')['distribution'].transform('sum')\n"
   ]
  },
  {
   "cell_type": "code",
   "execution_count": 80,
   "id": "7eede7bd-c82a-4ccd-bcbc-69a41764ef07",
   "metadata": {},
   "outputs": [
    {
     "data": {
      "text/html": [
       "<div>\n",
       "<style scoped>\n",
       "    .dataframe tbody tr th:only-of-type {\n",
       "        vertical-align: middle;\n",
       "    }\n",
       "\n",
       "    .dataframe tbody tr th {\n",
       "        vertical-align: top;\n",
       "    }\n",
       "\n",
       "    .dataframe thead tr th {\n",
       "        text-align: left;\n",
       "    }\n",
       "\n",
       "    .dataframe thead tr:last-of-type th {\n",
       "        text-align: right;\n",
       "    }\n",
       "</style>\n",
       "<table border=\"1\" class=\"dataframe\">\n",
       "  <thead>\n",
       "    <tr>\n",
       "      <th></th>\n",
       "      <th colspan=\"4\" halign=\"left\">accuracy</th>\n",
       "      <th colspan=\"4\" halign=\"left\">distribution</th>\n",
       "    </tr>\n",
       "    <tr>\n",
       "      <th>result</th>\n",
       "      <th>A</th>\n",
       "      <th>B</th>\n",
       "      <th>C</th>\n",
       "      <th>D</th>\n",
       "      <th>A</th>\n",
       "      <th>B</th>\n",
       "      <th>C</th>\n",
       "      <th>D</th>\n",
       "    </tr>\n",
       "    <tr>\n",
       "      <th>model_name</th>\n",
       "      <th></th>\n",
       "      <th></th>\n",
       "      <th></th>\n",
       "      <th></th>\n",
       "      <th></th>\n",
       "      <th></th>\n",
       "      <th></th>\n",
       "      <th></th>\n",
       "    </tr>\n",
       "  </thead>\n",
       "  <tbody>\n",
       "    <tr>\n",
       "      <th>X</th>\n",
       "      <td>0.367927</td>\n",
       "      <td>0.884543</td>\n",
       "      <td>1.000000</td>\n",
       "      <td>1.000000</td>\n",
       "      <td>4259.0</td>\n",
       "      <td>2659.0</td>\n",
       "      <td>2409.0</td>\n",
       "      <td>2369.0</td>\n",
       "    </tr>\n",
       "    <tr>\n",
       "      <th>Y</th>\n",
       "      <td>0.937500</td>\n",
       "      <td>0.897606</td>\n",
       "      <td>0.827861</td>\n",
       "      <td>0.631608</td>\n",
       "      <td>1072.0</td>\n",
       "      <td>2256.0</td>\n",
       "      <td>3015.0</td>\n",
       "      <td>5353.0</td>\n",
       "    </tr>\n",
       "    <tr>\n",
       "      <th>Z</th>\n",
       "      <td>0.476103</td>\n",
       "      <td>0.654073</td>\n",
       "      <td>0.703429</td>\n",
       "      <td>0.727487</td>\n",
       "      <td>2176.0</td>\n",
       "      <td>2885.0</td>\n",
       "      <td>3237.0</td>\n",
       "      <td>3398.0</td>\n",
       "    </tr>\n",
       "  </tbody>\n",
       "</table>\n",
       "</div>"
      ],
      "text/plain": [
       "            accuracy                               distribution          \\\n",
       "result             A         B         C         D            A       B   \n",
       "model_name                                                                \n",
       "X           0.367927  0.884543  1.000000  1.000000       4259.0  2659.0   \n",
       "Y           0.937500  0.897606  0.827861  0.631608       1072.0  2256.0   \n",
       "Z           0.476103  0.654073  0.703429  0.727487       2176.0  2885.0   \n",
       "\n",
       "                            \n",
       "result           C       D  \n",
       "model_name                  \n",
       "X           2409.0  2369.0  \n",
       "Y           3015.0  5353.0  \n",
       "Z           3237.0  3398.0  "
      ]
     },
     "execution_count": 80,
     "metadata": {},
     "output_type": "execute_result"
    }
   ],
   "source": [
    "df_mmlu_stats.pivot(index= 'model_name', columns='result', values=['accuracy', 'distribution'])"
   ]
  },
  {
   "cell_type": "markdown",
   "id": "65639228",
   "metadata": {},
   "source": [
    "B. /Discuss:/"
   ]
  },
  {
   "cell_type": "markdown",
   "id": "ce3186fe-ef8e-4af3-9a07-a6081d454e5a",
   "metadata": {},
   "source": [
    "## Task 3 (16 points): What do Questions and Answers look like for a Language Model?\n",
    "\n",
    "While you feel pretty good about the tests you conducted so far, something still bothers you: what if the language models don't see the data like you do? Suddenly, you receive a phone call from a wise AI sage in the West, _Westoda_:\n",
    "\n",
    "```\n",
    "\"Hmm, correct you are, young padawan, to question how the world is seen by large language models! Simple 'text' it is not, hmm? No, no, no! Characters and words, the way of puny humans, this is not, heh heh heh.\n",
    "\n",
    "'Tokens', they use, yes! Mysterious and powerful, these tokens are. Expand our vocabulary, they do, beyond the simple 'a to Z'. Chunky blocks of text, they become, yes! 'Hello world', a simple phrase it may seem. But to a language model, '[24912, 2375]' it might appear, yes! Confusing, it is, hmm?\n",
    "\n",
    "Wise, it would be, to explore these MMLU data points through the eyes of a language model, you think? Yes, yes! Much to learn, there is. The ways of the tokens, understand you must, if truly comprehend the great LMs, you wish to.\n",
    "Meditate on this, you should. The force of natural language processing, strong it is. But patience, you must have, my young padawan. For only through great study and contemplation, will the mysteries of the tokens reveal themselves to you, they will. Yes, hmmm!\"\n",
    "```\n",
    "\n",
    "Admittingly, Westoda at times speaks in riddles… However, he was explaining a crucial aspect of modern LMs called [Tokenization](https://learn.microsoft.com/en-us/dotnet/ai/conceptual/understanding-tokens):\n",
    "\n",
    "\n",
    "“Tokens are words, character sets, or combinations of words and punctuation that are used by [language models (LMs)] to decompose text into. Tokenization is the first step in training”\n",
    "\n",
    "Instead of characters, LMs process natural language using “tokens”. While this is useful for a number of reasons, it does at times introduce some “unintuitive” behavior…"
   ]
  },
  {
   "cell_type": "code",
   "execution_count": 81,
   "id": "e2c66517-938b-4331-9eea-1b23fe4ad9e7",
   "metadata": {},
   "outputs": [
    {
     "name": "stdout",
     "output_type": "stream",
     "text": [
      "humans see: \"hello world\" --> language models see: [24912, 2375]\n"
     ]
    }
   ],
   "source": [
    "# PROVIDED CODE\n",
    "\n",
    "try:\n",
    "    import tiktoken\n",
    "except Exception as e:\n",
    "    print('installing tiktoken package')\n",
    "    \n",
    "    !pip install tiktoken\n",
    "    \n",
    "    import tiktoken\n",
    "\n",
    "def tokenize_text(s):\n",
    "    enc = tiktoken.encoding_for_model('gpt-4o')\n",
    "    tokens = enc.encode(str(s))\n",
    "    return tokens\n",
    "\n",
    "example_string = 'hello world'\n",
    "print(f'humans see: \"{example_string}\" --> language models see: {tokenize_text(example_string)}')"
   ]
  },
  {
   "cell_type": "markdown",
   "id": "3c8019ee-7d52-496f-afff-c96f2f9db08c",
   "metadata": {},
   "source": [
    "### 3.1 (5 pt)\n",
    "\n",
    "Use the provided code in the cell above to \"see the world through the eyes of a language model\":\n",
    "\n",
    "A. Tokenize the questions of the original MMLU data provided in task 1: `task_1/mmlu_data/test.csv` and plot the token distribution (the frequency of each token).\n",
    "\n",
    "B. Same as (A), but now for the answers in columns (columns \"A\", \"B\", \"C\", and \"D\").\n",
    "\n",
    "C. Isolate the tokens for the strings \"A\", \"B\", \"C\", and \"D\", then, for their occurances in both questions and answers, print their relative distribution to each other.\n",
    "\n",
    "**hint**\n",
    "- There are a _lot_ of tokens, consider using a cutoff point and log scale\n",
    "- For (c), they should sum to 1"
   ]
  },
  {
   "cell_type": "code",
   "execution_count": 82,
   "id": "f9e30f10-aaef-4b0f-a6f0-84d6d156ff52",
   "metadata": {},
   "outputs": [],
   "source": [
    "# A\n",
    "cutoff_frequency = 10000\n",
    "tokens = df_test['question'].apply(tokenize_text).explode()\n",
    "frequency = tokens.value_counts(normalize = True).head(cutoff_frequency)"
   ]
  },
  {
   "cell_type": "code",
   "execution_count": 83,
   "id": "fa563ecb-7003-4c96-ae93-dbb8c4ed7573",
   "metadata": {},
   "outputs": [
    {
     "data": {
      "image/png": "[encoded data removed]",
      "text/plain": [
       "<Figure size 1200x600 with 1 Axes>"
      ]
     },
     "metadata": {},
     "output_type": "display_data"
    }
   ],
   "source": [
    "plt.figure(figsize=(12, 6))\n",
    "sns.histplot(frequency, bins=100, kde=False)\n",
    "plt.xlim(0, 200000)\n",
    "plt.yscale('log')\n",
    "plt.title('Token Frequency Distribution')\n",
    "plt.xlabel('Token')\n",
    "plt.ylabel('Frequency (log scale)')\n",
    "plt.show()"
   ]
  },
  {
   "cell_type": "code",
   "execution_count": 84,
   "id": "fe1f8be8",
   "metadata": {},
   "outputs": [
    {
     "data": {
      "image/png": "[encoded data removed]",
      "text/plain": [
       "<Figure size 1200x600 with 1 Axes>"
      ]
     },
     "metadata": {},
     "output_type": "display_data"
    }
   ],
   "source": [
    "# B\n",
    "tokens_A = df_test['A'].apply(tokenize_text).explode()\n",
    "tokens_B = df_test['B'].apply(tokenize_text).explode()\n",
    "tokens_C = df_test['C'].apply(tokenize_text).explode()\n",
    "tokens_D = df_test['D'].apply(tokenize_text).explode()\n",
    "\n",
    "\n",
    "combined_tokens = (list(tokens_A) + list(tokens_B) + list(tokens_C)+ list(tokens_D))\n",
    "\n",
    "plt.figure(figsize=(12, 6))\n",
    "sns.histplot(combined_tokens, bins=100, kde=False)\n",
    "plt.xlim(0, 200000)\n",
    "plt.yscale('log')\n",
    "plt.title('Token Frequency Distribution across answers A B C and D')\n",
    "plt.xlabel('Token')\n",
    "plt.ylabel('Frequency (log scale)')\n",
    "plt.show()"
   ]
  },
  {
   "cell_type": "code",
   "execution_count": 98,
   "id": "feca57f3-6ae4-46d8-8aa6-cac5cd782dd2",
   "metadata": {},
   "outputs": [
    {
     "data": {
      "text/plain": [
       "0"
      ]
     },
     "execution_count": 98,
     "metadata": {},
     "output_type": "execute_result"
    }
   ],
   "source": [
    "np.sum(np.isnan(list(combined_tokens)))"
   ]
  },
  {
   "cell_type": "code",
   "execution_count": 86,
   "id": "cd392df7",
   "metadata": {},
   "outputs": [
    {
     "name": "stdout",
     "output_type": "stream",
     "text": [
      "A has a distribution of 0.7916865742952699\n",
      "B has a distribution of 0.06020066889632107\n",
      "C has a distribution of 0.10152890587673197\n",
      "D has a distribution of 0.046583850931677016\n"
     ]
    }
   ],
   "source": [
    "# C\n",
    "token_A = tokenize_text(\"A\")[0]\n",
    "token_B = tokenize_text(\"B\")[0]\n",
    "token_C = tokenize_text(\"C\")[0]\n",
    "token_D = tokenize_text(\"D\")[0]\n",
    "\n",
    "combined_tokens_answers_questions = list(tokens) + combined_tokens\n",
    "\n",
    "occurence_A = combined_tokens_answers_questions.count(token_A)\n",
    "occurence_B = combined_tokens_answers_questions.count(token_B)\n",
    "occurence_C = combined_tokens_answers_questions.count(token_C)\n",
    "occurence_D = combined_tokens_answers_questions.count(token_D)\n",
    "\n",
    "total_occurences = occurence_A + occurence_B + occurence_C + occurence_D\n",
    "\n",
    "print(f'A has a distribution of {occurence_A/total_occurences}')\n",
    "print(f'B has a distribution of {occurence_B/total_occurences}')\n",
    "print(f'C has a distribution of {occurence_C/total_occurences}')\n",
    "print(f'D has a distribution of {occurence_D/total_occurences}')"
   ]
  },
  {
   "cell_type": "markdown",
   "id": "a674929c-68e1-4cd8-97b3-efa0cdae4874",
   "metadata": {},
   "source": [
    "### 3.2 (3 pt)\n",
    "\n",
    "What if the number of \"A\", \"B\", \"C\", and \"D\" tokens in the question and answer pairs could influence a language model's decisions?\n",
    "\n",
    "A. For each combined question-answers pair, compute: \n",
    "1. the number of \"A\", \"B\", \"C\", and \"D\" tokens; and\n",
    "2. the total number of tokens.\n",
    "3. then, group by the \"correct\" answer and compute the mean frequency of A, B, C, and D tokens and the total number of tokens. \n",
    "4. finally, print your results\n",
    "\n",
    "B. /Discuss:/ What do you think of the hypothesis that the frequency of A, B, C, and D tokens could influence answers?\n"
   ]
  },
  {
   "cell_type": "code",
   "execution_count": 87,
   "id": "59806c78-9a5d-4f89-a69b-b2113b498c0c",
   "metadata": {},
   "outputs": [
    {
     "data": {
      "text/html": [
       "<div>\n",
       "<style scoped>\n",
       "    .dataframe tbody tr th:only-of-type {\n",
       "        vertical-align: middle;\n",
       "    }\n",
       "\n",
       "    .dataframe tbody tr th {\n",
       "        vertical-align: top;\n",
       "    }\n",
       "\n",
       "    .dataframe thead th {\n",
       "        text-align: right;\n",
       "    }\n",
       "</style>\n",
       "<table border=\"1\" class=\"dataframe\">\n",
       "  <thead>\n",
       "    <tr style=\"text-align: right;\">\n",
       "      <th></th>\n",
       "      <th>question</th>\n",
       "      <th>A</th>\n",
       "      <th>B</th>\n",
       "      <th>C</th>\n",
       "      <th>D</th>\n",
       "      <th>answer</th>\n",
       "      <th>subject</th>\n",
       "      <th>question_id</th>\n",
       "    </tr>\n",
       "  </thead>\n",
       "  <tbody>\n",
       "    <tr>\n",
       "      <th>0</th>\n",
       "      <td>Find the degree for the given field extension ...</td>\n",
       "      <td>0</td>\n",
       "      <td>4</td>\n",
       "      <td>2</td>\n",
       "      <td>6</td>\n",
       "      <td>B</td>\n",
       "      <td>abstract algebra</td>\n",
       "      <td>0</td>\n",
       "    </tr>\n",
       "  </tbody>\n",
       "</table>\n",
       "</div>"
      ],
      "text/plain": [
       "                                            question  A  B  C  D answer  \\\n",
       "0  Find the degree for the given field extension ...  0  4  2  6      B   \n",
       "\n",
       "            subject  question_id  \n",
       "0  abstract algebra            0  "
      ]
     },
     "execution_count": 87,
     "metadata": {},
     "output_type": "execute_result"
    }
   ],
   "source": [
    "df_test.head(1)"
   ]
  },
  {
   "cell_type": "code",
   "execution_count": 88,
   "id": "581ab7d2-4c3a-4734-ba47-c8ffea61b81c",
   "metadata": {},
   "outputs": [],
   "source": [
    "df_test['tokens'] = df_test['A'].apply(tokenize_text)+df_test['B'].apply(tokenize_text)+df_test['C'].apply(tokenize_text)+df_test['D'].apply(tokenize_text)+df_test['question'].apply(tokenize_text)\n"
   ]
  },
  {
   "cell_type": "code",
   "execution_count": 89,
   "id": "9e7924dd-d591-4123-9666-7c7185e38475",
   "metadata": {},
   "outputs": [
    {
     "data": {
      "text/plain": [
       "Index(['question', 'A', 'B', 'C', 'D', 'answer', 'subject', 'question_id',\n",
       "       'tokens'],\n",
       "      dtype='object')"
      ]
     },
     "execution_count": 89,
     "metadata": {},
     "output_type": "execute_result"
    }
   ],
   "source": [
    "df_test.keys()"
   ]
  },
  {
   "cell_type": "code",
   "execution_count": 90,
   "id": "85f40a89-0d41-43bf-8519-f73804de8a30",
   "metadata": {},
   "outputs": [],
   "source": [
    "df_test['total_token_number'] = df_test['tokens'].apply(len)"
   ]
  },
  {
   "cell_type": "code",
   "execution_count": 91,
   "id": "25419cc1-f058-4c51-a0aa-577272b8b578",
   "metadata": {},
   "outputs": [],
   "source": [
    "# A\n",
    "df_test['token_A'] = df_test['tokens'].apply(lambda x : x.count(token_A))\n",
    "df_test['token_B'] = df_test['tokens'].apply(lambda x : x.count(token_B))\n",
    "df_test['token_C'] = df_test['tokens'].apply(lambda x : x.count(token_C))\n",
    "df_test['token_D'] = df_test['tokens'].apply(lambda x : x.count(token_D))\n"
   ]
  },
  {
   "cell_type": "code",
   "execution_count": 92,
   "id": "5b743167-433a-421d-955f-420109787c32",
   "metadata": {},
   "outputs": [
    {
     "data": {
      "text/html": [
       "<div>\n",
       "<style scoped>\n",
       "    .dataframe tbody tr th:only-of-type {\n",
       "        vertical-align: middle;\n",
       "    }\n",
       "\n",
       "    .dataframe tbody tr th {\n",
       "        vertical-align: top;\n",
       "    }\n",
       "\n",
       "    .dataframe thead th {\n",
       "        text-align: right;\n",
       "    }\n",
       "</style>\n",
       "<table border=\"1\" class=\"dataframe\">\n",
       "  <thead>\n",
       "    <tr style=\"text-align: right;\">\n",
       "      <th></th>\n",
       "      <th>frequency_A</th>\n",
       "      <th>frequency_B</th>\n",
       "      <th>frequency_C</th>\n",
       "      <th>frequency_D</th>\n",
       "      <th>mean_token_number</th>\n",
       "    </tr>\n",
       "    <tr>\n",
       "      <th>answer</th>\n",
       "      <th></th>\n",
       "      <th></th>\n",
       "      <th></th>\n",
       "      <th></th>\n",
       "      <th></th>\n",
       "    </tr>\n",
       "  </thead>\n",
       "  <tbody>\n",
       "    <tr>\n",
       "      <th>A</th>\n",
       "      <td>0.243017</td>\n",
       "      <td>0.018932</td>\n",
       "      <td>0.025140</td>\n",
       "      <td>0.013035</td>\n",
       "      <td>93.187151</td>\n",
       "    </tr>\n",
       "    <tr>\n",
       "      <th>B</th>\n",
       "      <td>0.231947</td>\n",
       "      <td>0.019642</td>\n",
       "      <td>0.029463</td>\n",
       "      <td>0.012709</td>\n",
       "      <td>88.846332</td>\n",
       "    </tr>\n",
       "    <tr>\n",
       "      <th>C</th>\n",
       "      <td>0.226410</td>\n",
       "      <td>0.018984</td>\n",
       "      <td>0.034897</td>\n",
       "      <td>0.015355</td>\n",
       "      <td>92.653825</td>\n",
       "    </tr>\n",
       "    <tr>\n",
       "      <th>D</th>\n",
       "      <td>0.242850</td>\n",
       "      <td>0.014566</td>\n",
       "      <td>0.030985</td>\n",
       "      <td>0.014301</td>\n",
       "      <td>92.110169</td>\n",
       "    </tr>\n",
       "  </tbody>\n",
       "</table>\n",
       "</div>"
      ],
      "text/plain": [
       "        frequency_A  frequency_B  frequency_C  frequency_D  mean_token_number\n",
       "answer                                                                       \n",
       "A          0.243017     0.018932     0.025140     0.013035          93.187151\n",
       "B          0.231947     0.019642     0.029463     0.012709          88.846332\n",
       "C          0.226410     0.018984     0.034897     0.015355          92.653825\n",
       "D          0.242850     0.014566     0.030985     0.014301          92.110169"
      ]
     },
     "execution_count": 92,
     "metadata": {},
     "output_type": "execute_result"
    }
   ],
   "source": [
    "df_test.groupby('answer').agg(frequency_A=('token_A', 'mean'),frequency_B=('token_B', 'mean'),frequency_C=('token_C', 'mean'),frequency_D=('token_D', 'mean'),mean_token_number=('total_token_number', 'mean'))"
   ]
  },
  {
   "cell_type": "markdown",
   "id": "3ea8a279",
   "metadata": {},
   "source": [
    "B. /Discuss:/\n",
    "It doesn't seem like it because every tokens have almost the same frequency in each answer cases, so it doesn't seem like influencing the model."
   ]
  },
  {
   "cell_type": "markdown",
   "id": "af25ef95-d2ce-4112-87f7-8b0a52755e2a",
   "metadata": {},
   "source": [
    "### 3.3 (4 pt)\n",
    "\n",
    "Three of the most important considerations when deciding between language models are:\n",
    "\n",
    "Quality\n",
    "Costs\n",
    "Speed\n",
    "\n",
    "So far, much of your analysis has focused on quality. However, the government has indicated that they are quite concerned about both the total costs and speed as well. Specifically, it has been brought to their attention that a new `turbo` model has been launched! \n",
    "\n",
    "This model is both cheaper and faster than the models you evaluated so far. However, there is a catch: the context length* is much smaller than that of the other LMS. Namely, it can only process **300** tokens during inference. Meanwhile, the other models can process up to 100K tokens! \n",
    "\n",
    "*_The “context length” refers to the number of tokens that can be given to an LM as input._\n",
    "\n",
    "A. Are there subjects where using the cheaper model might be problematic? I.e., where part of the question and answer(s) might not fit completely in the context?\n",
    "\n",
    "B. /Discuss:/ Can you think of a strategy that would balance the needs of the government?\n",
    "\n",
    "**hint**:\n",
    "- An LM needs to have both the question and the different answer options in its context"
   ]
  },
  {
   "cell_type": "code",
   "execution_count": 93,
   "id": "a88a6fa3-2735-44d7-9944-076cc9f679ed",
   "metadata": {},
   "outputs": [],
   "source": [
    "# A\n",
    "max_subject_token = df_test.groupby('subject').agg(max_token_number = ('total_token_number', 'max'))"
   ]
  },
  {
   "cell_type": "code",
   "execution_count": 94,
   "id": "afcd7cb0-7175-41e4-aabb-8c9e30e8aa7d",
   "metadata": {},
   "outputs": [],
   "source": [
    "problematic_subject = max_subject_token[max_subject_token['max_token_number'] > 300]"
   ]
  },
  {
   "cell_type": "code",
   "execution_count": 95,
   "id": "4aa8b3a5-7a22-4d7b-9ae8-46440d4c1bde",
   "metadata": {},
   "outputs": [
    {
     "name": "stdout",
     "output_type": "stream",
     "text": [
      "It would be problematic for this subject : college medicine\n",
      "It would be problematic for this subject : high school computer science\n",
      "It would be problematic for this subject : high school european history\n",
      "It would be problematic for this subject : high school statistics\n",
      "It would be problematic for this subject : high school us history\n",
      "It would be problematic for this subject : high school world history\n",
      "It would be problematic for this subject : professional law\n",
      "It would be problematic for this subject : professional medicine\n",
      "It would be problematic for this subject : security studies\n",
      "It would be problematic for this subject : virology\n"
     ]
    }
   ],
   "source": [
    "for subject in problematic_subject.index : \n",
    "    print(f'It would be problematic for this subject : {subject}')"
   ]
  },
  {
   "cell_type": "markdown",
   "id": "47f8a44a",
   "metadata": {},
   "source": [
    "B. /Dicsuss:/\n",
    "We could use a combination of several models, if the tokens are less than 300 use the faster model else use another model."
   ]
  },
  {
   "cell_type": "markdown",
   "id": "110f07bf-558f-467c-8f66-d88db561d455",
   "metadata": {},
   "source": [
    "### 3.4 (4 pt)\n",
    "\n",
    "/Discuss:/ The time has come to give your final recommendation on the use of LMs in education to the government! Taking into account everything you analyzed in all the preceding tasks (1, 2, and 3), please write a short recommendation consisting of 4 bullet points discussing your concerns.\n",
    "\n",
    "**hint**\n",
    "- Try to use the MECE framework: _Mutually Exclusive Collectively Exhaustive_"
   ]
  },
  {
   "cell_type": "markdown",
   "id": "434a5fa5",
   "metadata": {},
   "source": [
    "/Discuss:/\n",
    "1. \n",
    "\n",
    "2. \n",
    "\n",
    "3. \n",
    "\n",
    "4. "
   ]
  },
  {
   "cell_type": "code",
   "execution_count": null,
   "id": "b817f3f7-2dbd-453f-88ff-6b977b9f9acf",
   "metadata": {},
   "outputs": [],
   "source": []
  }
 ],
 "metadata": {
  "kernelspec": {
   "display_name": "Python 3 (ipykernel)",
   "language": "python",
   "name": "python3"
  },
  "language_info": {
   "codemirror_mode": {
    "name": "ipython",
    "version": 3
   },
   "file_extension": ".py",
   "mimetype": "text/x-python",
   "name": "python",
   "nbconvert_exporter": "python",
   "pygments_lexer": "ipython3",
   "version": "3.11.8"
  }
 },
 "nbformat": 4,
 "nbformat_minor": 5
}
