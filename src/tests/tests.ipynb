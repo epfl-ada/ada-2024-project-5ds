{
 "cells": [
  {
   "cell_type": "code",
   "execution_count": 9,
   "metadata": {},
   "outputs": [],
   "source": [
    "import os\n",
    "import sys\n",
    "import pandas as pd\n",
    "current_directory = os.getcwd()\n",
    "parent_directory = os.path.abspath(os.path.join(current_directory, '..'))\n",
    "sys.path.insert(0, parent_directory)\n",
    "\n",
    "\n",
    "from data.extend_dataset import get_film_info"
   ]
  },
  {
   "cell_type": "markdown",
   "metadata": {},
   "source": [
    "Test the function to get information about a film"
   ]
  },
  {
   "cell_type": "code",
   "execution_count": 10,
   "metadata": {},
   "outputs": [
    {
     "data": {
      "text/html": [
       "<div>\n",
       "<style scoped>\n",
       "    .dataframe tbody tr th:only-of-type {\n",
       "        vertical-align: middle;\n",
       "    }\n",
       "\n",
       "    .dataframe tbody tr th {\n",
       "        vertical-align: top;\n",
       "    }\n",
       "\n",
       "    .dataframe thead th {\n",
       "        text-align: right;\n",
       "    }\n",
       "</style>\n",
       "<table border=\"1\" class=\"dataframe\">\n",
       "  <thead>\n",
       "    <tr style=\"text-align: right;\">\n",
       "      <th></th>\n",
       "      <th>wikidata_id</th>\n",
       "      <th>film</th>\n",
       "      <th>release_date</th>\n",
       "      <th>box_office</th>\n",
       "      <th>runtime</th>\n",
       "      <th>languages</th>\n",
       "      <th>countries</th>\n",
       "      <th>genres</th>\n",
       "      <th>reviewScores</th>\n",
       "      <th>awardsReceived</th>\n",
       "      <th>awardsNominated</th>\n",
       "      <th>capitalCost</th>\n",
       "    </tr>\n",
       "    <tr>\n",
       "      <th>page_id</th>\n",
       "      <th></th>\n",
       "      <th></th>\n",
       "      <th></th>\n",
       "      <th></th>\n",
       "      <th></th>\n",
       "      <th></th>\n",
       "      <th></th>\n",
       "      <th></th>\n",
       "      <th></th>\n",
       "      <th></th>\n",
       "      <th></th>\n",
       "      <th></th>\n",
       "    </tr>\n",
       "  </thead>\n",
       "  <tbody>\n",
       "    <tr>\n",
       "      <th>2466773</th>\n",
       "      <td>Q47703</td>\n",
       "      <td>The Godfather</td>\n",
       "      <td>1972-03-15T00:00:00Z</td>\n",
       "      <td>250341816</td>\n",
       "      <td>175</td>\n",
       "      <td>Italian, English</td>\n",
       "      <td>Italy, United States of America</td>\n",
       "      <td>[gangster, historical, drama, epic, crime, thr...</td>\n",
       "      <td>[9.4/10, 100/100, 97%]</td>\n",
       "      <td>[Academy Award for Best Picture, Academy Award...</td>\n",
       "      <td>[Academy Award for Best Picture, Academy Award...</td>\n",
       "      <td>6000000</td>\n",
       "    </tr>\n",
       "  </tbody>\n",
       "</table>\n",
       "</div>"
      ],
      "text/plain": [
       "        wikidata_id           film          release_date box_office runtime  \\\n",
       "page_id                                                                       \n",
       "2466773      Q47703  The Godfather  1972-03-15T00:00:00Z  250341816     175   \n",
       "\n",
       "                languages                        countries  \\\n",
       "page_id                                                      \n",
       "2466773  Italian, English  Italy, United States of America   \n",
       "\n",
       "                                                    genres  \\\n",
       "page_id                                                      \n",
       "2466773  [gangster, historical, drama, epic, crime, thr...   \n",
       "\n",
       "                   reviewScores  \\\n",
       "page_id                           \n",
       "2466773  [9.4/10, 100/100, 97%]   \n",
       "\n",
       "                                            awardsReceived  \\\n",
       "page_id                                                      \n",
       "2466773  [Academy Award for Best Picture, Academy Award...   \n",
       "\n",
       "                                           awardsNominated capitalCost  \n",
       "page_id                                                                 \n",
       "2466773  [Academy Award for Best Picture, Academy Award...     6000000  "
      ]
     },
     "execution_count": 10,
     "metadata": {},
     "output_type": "execute_result"
    }
   ],
   "source": [
    "infos = get_film_info(\"The Godfather\")\n",
    "df = pd.DataFrame.from_dict(infos, orient='index').T\n",
    "df.set_index('page_id', inplace=True)\n",
    "df"
   ]
  },
  {
   "cell_type": "code",
   "execution_count": null,
   "metadata": {},
   "outputs": [],
   "source": []
  }
 ],
 "metadata": {
  "kernelspec": {
   "display_name": "ada",
   "language": "python",
   "name": "python3"
  },
  "language_info": {
   "codemirror_mode": {
    "name": "ipython",
    "version": 3
   },
   "file_extension": ".py",
   "mimetype": "text/x-python",
   "name": "python",
   "nbconvert_exporter": "python",
   "pygments_lexer": "ipython3",
   "version": "3.11.8"
  }
 },
 "nbformat": 4,
 "nbformat_minor": 2
}
