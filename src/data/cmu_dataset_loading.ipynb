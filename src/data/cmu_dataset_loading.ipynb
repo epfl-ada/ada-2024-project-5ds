{
 "cells": [
  {
   "cell_type": "code",
   "execution_count": 11,
   "id": "b41cfad6-7c40-4b85-9ece-6cf3f4021f8f",
   "metadata": {},
   "outputs": [
    {
     "ename": "ModuleNotFoundError",
     "evalue": "No module named 'utils'",
     "output_type": "error",
     "traceback": [
      "\u001b[0;31m---------------------------------------------------------------------------\u001b[0m",
      "\u001b[0;31mModuleNotFoundError\u001b[0m                       Traceback (most recent call last)",
      "Cell \u001b[0;32mIn[11], line 1\u001b[0m\n\u001b[0;32m----> 1\u001b[0m \u001b[38;5;28;01mimport\u001b[39;00m \u001b[38;5;21;01mutils\u001b[39;00m\n\u001b[1;32m      2\u001b[0m \u001b[38;5;28;01mimport\u001b[39;00m \u001b[38;5;21;01mos\u001b[39;00m\n\u001b[1;32m      3\u001b[0m \u001b[38;5;28;01mimport\u001b[39;00m \u001b[38;5;21;01msys\u001b[39;00m\n",
      "\u001b[0;31mModuleNotFoundError\u001b[0m: No module named 'utils'"
     ]
    }
   ],
   "source": [
    "import utils\n",
    "import os\n",
    "import sys\n",
    "\n",
    "current_directory = os.path.dirname(os.path.abspath(__file__))\n",
    "parent_directory = os.path.abspath(os.path.join(current_directory, '..'))\n",
    "sys.path.insert(0, parent_directory)\n",
    "\n",
    "import pandas as pd\n",
    "from utils.csv import load_dataframe_from_csv\n",
    "import time\n",
    "\n",
    "import dataloader\n",
    "import importlib\n",
    "importlib.reload(dataloader)\n",
    "\n",
    "from dataloader import load_initial_dataset, load_oscar_winning_films, load_oscar_winning_actors, load_oscar_winning_actresses, load_reviews\n",
    "\n",
    "\n"
   ]
  },
  {
   "cell_type": "markdown",
   "id": "06809fd6",
   "metadata": {},
   "source": [
    "Load the initial CMU datasets"
   ]
  },
  {
   "cell_type": "code",
   "execution_count": 45,
   "id": "5e1eab32-9324-4020-be8a-c34dac5dfb0b",
   "metadata": {},
   "outputs": [],
   "source": [
    "PATH_IN = 'dataset'\n",
    "movie, character, plot_summaries,  tvtropes, name_clusters = load_initial_dataset(PATH_IN)\n"
   ]
  },
  {
   "cell_type": "markdown",
   "id": "48808869-7b0b-42ba-b860-bc72fa961567",
   "metadata": {},
   "source": [
    "Generate the data frame containing the dataframes and save it into csv files"
   ]
  },
  {
   "cell_type": "code",
   "execution_count": 80,
   "id": "ae540e66",
   "metadata": {},
   "outputs": [],
   "source": [
    "OS = 'MAC'\n",
    "load_oscar_winning_films(OS)\n",
    "load_oscar_winning_actors(OS)\n",
    "load_oscar_winning_actresses(OS)"
   ]
  },
  {
   "cell_type": "markdown",
   "id": "8d440a48",
   "metadata": {},
   "source": [
    "Load the csv files"
   ]
  },
  {
   "cell_type": "code",
   "execution_count": 81,
   "id": "34da8366",
   "metadata": {},
   "outputs": [],
   "source": [
    "oscar_winning_films = load_dataframe_from_csv('oscar_winning_films')\n",
    "oscar_winning_actors = load_dataframe_from_csv('oscar_winning_actors')\n",
    "oscar_winning_actresses = load_dataframe_from_csv('oscar_winning_actresses')"
   ]
  },
  {
   "cell_type": "code",
   "execution_count": 1,
   "id": "28c733b8",
   "metadata": {},
   "outputs": [
    {
     "ename": "NameError",
     "evalue": "name 'load_reviews' is not defined",
     "output_type": "error",
     "traceback": [
      "\u001b[0;31m---------------------------------------------------------------------------\u001b[0m",
      "\u001b[0;31mNameError\u001b[0m                                 Traceback (most recent call last)",
      "Cell \u001b[0;32mIn[1], line 2\u001b[0m\n\u001b[1;32m      1\u001b[0m OS \u001b[38;5;241m=\u001b[39m \u001b[38;5;124m'\u001b[39m\u001b[38;5;124mMAC\u001b[39m\u001b[38;5;124m'\u001b[39m\n\u001b[0;32m----> 2\u001b[0m load_reviews(oscar_winning_films\u001b[38;5;241m.\u001b[39mvalues, \u001b[38;5;241m20\u001b[39m, OS)\n",
      "\u001b[0;31mNameError\u001b[0m: name 'load_reviews' is not defined"
     ]
    }
   ],
   "source": [
    "OS = 'MAC'\n",
    "load_reviews(oscar_winning_films.values, 20, OS)"
   ]
  },
  {
   "cell_type": "markdown",
   "id": "765a7bb6",
   "metadata": {},
   "source": [
    "Generate the data frame containing the actors that won an oscar"
   ]
  },
  {
   "cell_type": "code",
   "execution_count": 35,
   "id": "07831f1f",
   "metadata": {},
   "outputs": [
    {
     "name": "stdout",
     "output_type": "stream",
     "text": [
      "No more 'Load More' button found, exiting loop.\n"
     ]
    },
    {
     "ename": "NoSuchWindowException",
     "evalue": "Message: no such window: target window already closed\nfrom unknown error: web view not found\n  (Session info: chrome=130.0.6723.92)\nStacktrace:\n0   chromedriver                        0x00000001012fd5dc cxxbridge1$str$ptr + 3653648\n1   chromedriver                        0x00000001012f5e3c cxxbridge1$str$ptr + 3623024\n2   chromedriver                        0x0000000100d60100 cxxbridge1$string$len + 88404\n3   chromedriver                        0x0000000100d3bb78 core::str::slice_error_fail::h1cab30ac4b13c655 + 3792\n4   chromedriver                        0x0000000100dc8664 cxxbridge1$string$len + 515768\n5   chromedriver                        0x0000000100ddb630 cxxbridge1$string$len + 593540\n6   chromedriver                        0x0000000100d970fc cxxbridge1$string$len + 313680\n7   chromedriver                        0x0000000100d97d4c cxxbridge1$string$len + 316832\n8   chromedriver                        0x00000001012c864c cxxbridge1$str$ptr + 3436672\n9   chromedriver                        0x00000001012cb988 cxxbridge1$str$ptr + 3449788\n10  chromedriver                        0x00000001012afa5c cxxbridge1$str$ptr + 3335312\n11  chromedriver                        0x00000001012cc24c cxxbridge1$str$ptr + 3452032\n12  chromedriver                        0x00000001012a0ce8 cxxbridge1$str$ptr + 3274524\n13  chromedriver                        0x00000001012e69dc cxxbridge1$str$ptr + 3560464\n14  chromedriver                        0x00000001012e6b58 cxxbridge1$str$ptr + 3560844\n15  chromedriver                        0x00000001012f5ad4 cxxbridge1$str$ptr + 3622152\n16  libsystem_pthread.dylib             0x00000001890032e4 _pthread_start + 136\n17  libsystem_pthread.dylib             0x0000000188ffe0fc thread_start + 8\n",
     "output_type": "error",
     "traceback": [
      "\u001b[0;31m---------------------------------------------------------------------------\u001b[0m",
      "\u001b[0;31mNoSuchWindowException\u001b[0m                     Traceback (most recent call last)",
      "Cell \u001b[0;32mIn[35], line 71\u001b[0m\n\u001b[1;32m     69\u001b[0m \u001b[38;5;66;03m# Iterate over each review element and extract the text\u001b[39;00m\n\u001b[1;32m     70\u001b[0m \u001b[38;5;28;01mfor\u001b[39;00m review \u001b[38;5;129;01min\u001b[39;00m reviews:\n\u001b[0;32m---> 71\u001b[0m     review_text \u001b[38;5;241m=\u001b[39m review\u001b[38;5;241m.\u001b[39mtext\u001b[38;5;241m.\u001b[39mstrip()\n\u001b[1;32m     72\u001b[0m     new_row \u001b[38;5;241m=\u001b[39m pd\u001b[38;5;241m.\u001b[39mDataFrame([{\u001b[38;5;124m'\u001b[39m\u001b[38;5;124mMovie name\u001b[39m\u001b[38;5;124m'\u001b[39m: title_name, \u001b[38;5;124m'\u001b[39m\u001b[38;5;124mReview\u001b[39m\u001b[38;5;124m'\u001b[39m: review_text}])\n\u001b[1;32m     73\u001b[0m     movie_reviews \u001b[38;5;241m=\u001b[39m pd\u001b[38;5;241m.\u001b[39mconcat([movie_reviews, new_row], ignore_index\u001b[38;5;241m=\u001b[39m\u001b[38;5;28;01mTrue\u001b[39;00m)\n",
      "File \u001b[0;32m/opt/homebrew/Caskroom/miniconda/base/envs/ada/lib/python3.11/site-packages/selenium/webdriver/remote/webelement.py:90\u001b[0m, in \u001b[0;36mWebElement.text\u001b[0;34m(self)\u001b[0m\n\u001b[1;32m     87\u001b[0m \u001b[38;5;129m@property\u001b[39m\n\u001b[1;32m     88\u001b[0m \u001b[38;5;28;01mdef\u001b[39;00m \u001b[38;5;21mtext\u001b[39m(\u001b[38;5;28mself\u001b[39m) \u001b[38;5;241m-\u001b[39m\u001b[38;5;241m>\u001b[39m \u001b[38;5;28mstr\u001b[39m:\n\u001b[1;32m     89\u001b[0m \u001b[38;5;250m    \u001b[39m\u001b[38;5;124;03m\"\"\"The text of the element.\"\"\"\u001b[39;00m\n\u001b[0;32m---> 90\u001b[0m     \u001b[38;5;28;01mreturn\u001b[39;00m \u001b[38;5;28mself\u001b[39m\u001b[38;5;241m.\u001b[39m_execute(Command\u001b[38;5;241m.\u001b[39mGET_ELEMENT_TEXT)[\u001b[38;5;124m\"\u001b[39m\u001b[38;5;124mvalue\u001b[39m\u001b[38;5;124m\"\u001b[39m]\n",
      "File \u001b[0;32m/opt/homebrew/Caskroom/miniconda/base/envs/ada/lib/python3.11/site-packages/selenium/webdriver/remote/webelement.py:395\u001b[0m, in \u001b[0;36mWebElement._execute\u001b[0;34m(self, command, params)\u001b[0m\n\u001b[1;32m    393\u001b[0m     params \u001b[38;5;241m=\u001b[39m {}\n\u001b[1;32m    394\u001b[0m params[\u001b[38;5;124m\"\u001b[39m\u001b[38;5;124mid\u001b[39m\u001b[38;5;124m\"\u001b[39m] \u001b[38;5;241m=\u001b[39m \u001b[38;5;28mself\u001b[39m\u001b[38;5;241m.\u001b[39m_id\n\u001b[0;32m--> 395\u001b[0m \u001b[38;5;28;01mreturn\u001b[39;00m \u001b[38;5;28mself\u001b[39m\u001b[38;5;241m.\u001b[39m_parent\u001b[38;5;241m.\u001b[39mexecute(command, params)\n",
      "File \u001b[0;32m/opt/homebrew/Caskroom/miniconda/base/envs/ada/lib/python3.11/site-packages/selenium/webdriver/remote/webdriver.py:354\u001b[0m, in \u001b[0;36mWebDriver.execute\u001b[0;34m(self, driver_command, params)\u001b[0m\n\u001b[1;32m    352\u001b[0m response \u001b[38;5;241m=\u001b[39m \u001b[38;5;28mself\u001b[39m\u001b[38;5;241m.\u001b[39mcommand_executor\u001b[38;5;241m.\u001b[39mexecute(driver_command, params)\n\u001b[1;32m    353\u001b[0m \u001b[38;5;28;01mif\u001b[39;00m response:\n\u001b[0;32m--> 354\u001b[0m     \u001b[38;5;28mself\u001b[39m\u001b[38;5;241m.\u001b[39merror_handler\u001b[38;5;241m.\u001b[39mcheck_response(response)\n\u001b[1;32m    355\u001b[0m     response[\u001b[38;5;124m\"\u001b[39m\u001b[38;5;124mvalue\u001b[39m\u001b[38;5;124m\"\u001b[39m] \u001b[38;5;241m=\u001b[39m \u001b[38;5;28mself\u001b[39m\u001b[38;5;241m.\u001b[39m_unwrap_value(response\u001b[38;5;241m.\u001b[39mget(\u001b[38;5;124m\"\u001b[39m\u001b[38;5;124mvalue\u001b[39m\u001b[38;5;124m\"\u001b[39m, \u001b[38;5;28;01mNone\u001b[39;00m))\n\u001b[1;32m    356\u001b[0m     \u001b[38;5;28;01mreturn\u001b[39;00m response\n",
      "File \u001b[0;32m/opt/homebrew/Caskroom/miniconda/base/envs/ada/lib/python3.11/site-packages/selenium/webdriver/remote/errorhandler.py:229\u001b[0m, in \u001b[0;36mErrorHandler.check_response\u001b[0;34m(self, response)\u001b[0m\n\u001b[1;32m    227\u001b[0m         alert_text \u001b[38;5;241m=\u001b[39m value[\u001b[38;5;124m\"\u001b[39m\u001b[38;5;124malert\u001b[39m\u001b[38;5;124m\"\u001b[39m]\u001b[38;5;241m.\u001b[39mget(\u001b[38;5;124m\"\u001b[39m\u001b[38;5;124mtext\u001b[39m\u001b[38;5;124m\"\u001b[39m)\n\u001b[1;32m    228\u001b[0m     \u001b[38;5;28;01mraise\u001b[39;00m exception_class(message, screen, stacktrace, alert_text)  \u001b[38;5;66;03m# type: ignore[call-arg]  # mypy is not smart enough here\u001b[39;00m\n\u001b[0;32m--> 229\u001b[0m \u001b[38;5;28;01mraise\u001b[39;00m exception_class(message, screen, stacktrace)\n",
      "\u001b[0;31mNoSuchWindowException\u001b[0m: Message: no such window: target window already closed\nfrom unknown error: web view not found\n  (Session info: chrome=130.0.6723.92)\nStacktrace:\n0   chromedriver                        0x00000001012fd5dc cxxbridge1$str$ptr + 3653648\n1   chromedriver                        0x00000001012f5e3c cxxbridge1$str$ptr + 3623024\n2   chromedriver                        0x0000000100d60100 cxxbridge1$string$len + 88404\n3   chromedriver                        0x0000000100d3bb78 core::str::slice_error_fail::h1cab30ac4b13c655 + 3792\n4   chromedriver                        0x0000000100dc8664 cxxbridge1$string$len + 515768\n5   chromedriver                        0x0000000100ddb630 cxxbridge1$string$len + 593540\n6   chromedriver                        0x0000000100d970fc cxxbridge1$string$len + 313680\n7   chromedriver                        0x0000000100d97d4c cxxbridge1$string$len + 316832\n8   chromedriver                        0x00000001012c864c cxxbridge1$str$ptr + 3436672\n9   chromedriver                        0x00000001012cb988 cxxbridge1$str$ptr + 3449788\n10  chromedriver                        0x00000001012afa5c cxxbridge1$str$ptr + 3335312\n11  chromedriver                        0x00000001012cc24c cxxbridge1$str$ptr + 3452032\n12  chromedriver                        0x00000001012a0ce8 cxxbridge1$str$ptr + 3274524\n13  chromedriver                        0x00000001012e69dc cxxbridge1$str$ptr + 3560464\n14  chromedriver                        0x00000001012e6b58 cxxbridge1$str$ptr + 3560844\n15  chromedriver                        0x00000001012f5ad4 cxxbridge1$str$ptr + 3622152\n16  libsystem_pthread.dylib             0x00000001890032e4 _pthread_start + 136\n17  libsystem_pthread.dylib             0x0000000188ffe0fc thread_start + 8\n"
     ]
    }
   ],
   "source": [
    "from selenium import webdriver\n",
    "from selenium.webdriver.common.by import By\n",
    "from selenium.webdriver.support.ui import WebDriverWait\n",
    "from selenium.webdriver.support import expected_conditions as EC\n",
    "#We can then adapt it for the movies which got an award\n",
    "movie_titles = movies_oscar_winning['Movie name'].unique()\n",
    "real_movie_titles = []\n",
    "movie_reviews = pd.DataFrame(columns=['Movie name', 'Review'])\n",
    "\n",
    "\n",
    "\n",
    "# For Windows users \n",
    "#service = Service('C:\\webdrivers\\chromedriver.exe')\n",
    "#options = webdriver.ChromeOptions()\n",
    "#driver = webdriver.Chrome(service = service, options = options)\n",
    "\n",
    "#For mac users\n",
    "driver = webdriver.Chrome()\n",
    "\n",
    "nb_reviews_per_movie = 1\n",
    "\n",
    "\n",
    "movie_titles_dict = {}\n",
    "\n",
    "for movie_title in movie_titles:\n",
    "    url = f\"https://www.rottentomatoes.com/search?search={movie_title.replace(' ', '_').lower()}\"\n",
    "    driver.get(url)\n",
    "    time.sleep(5)\n",
    "    link = WebDriverWait(driver, 15).until(\n",
    "        EC.presence_of_element_located((By.XPATH, \"//a[@data-qa='info-name']\"))  # Replace with your actual locator\n",
    "    )\n",
    "    link.click()\n",
    "    time.sleep(5)\n",
    "    # Wait until the rt-text element with the slot attribute is present\n",
    "    rt_text_element = WebDriverWait(driver, 15).until(\n",
    "        EC.presence_of_element_located((By.XPATH, \"//rt-text[@slot='title']\"))\n",
    "    )\n",
    "\n",
    "\n",
    "    title_name = rt_text_element.text\n",
    "    real_movie_titles.append(title_name)\n",
    "    base_url = driver.current_url\n",
    "    \n",
    "    reviews_url = f\"{base_url}/reviews?type=user\"\n",
    "    \n",
    "\n",
    "    driver.get(reviews_url)\n",
    "   \n",
    "    time.sleep(1)  \n",
    "    reviews = WebDriverWait(driver, 15).until(\n",
    "        EC.presence_of_all_elements_located((By.XPATH, \"//p[@class='audience-reviews__review js-review-text']\"))\n",
    "    )\n",
    "    while True:\n",
    "        try:\n",
    "            # Locate and click the \"Load More\" button\n",
    "            load_more_button = WebDriverWait(driver, 10).until(\n",
    "                EC.element_to_be_clickable((By.XPATH, \"//rt-button[@data-qa='load-more-btn']\"))\n",
    "            )\n",
    "            driver.execute_script(\"arguments[0].scrollIntoView(true);\", load_more_button)\n",
    "            load_more_button.click()\n",
    "\n",
    "            # Wait for the new reviews to load\n",
    "            time.sleep(3)  # Adjust if necessary based on your internet speed\n",
    "\n",
    "        except:\n",
    "            # If the \"Load More\" button is not found, break the loop\n",
    "            print(\"No more 'Load More' button found, exiting loop.\")\n",
    "            break\n",
    "    # Iterate over each review element and extract the text\n",
    "    for review in reviews:\n",
    "        review_text = review.text.strip()\n",
    "        new_row = pd.DataFrame([{'Movie name': title_name, 'Review': review_text}])\n",
    "        movie_reviews = pd.concat([movie_reviews, new_row], ignore_index=True)\n",
    "\n",
    "\n",
    "driver.quit()\n"
   ]
  },
  {
   "cell_type": "code",
   "execution_count": null,
   "id": "2b2f8602",
   "metadata": {},
   "outputs": [],
   "source": []
  }
 ],
 "metadata": {
  "kernelspec": {
   "display_name": "ada",
   "language": "python",
   "name": "python3"
  },
  "language_info": {
   "codemirror_mode": {
    "name": "ipython",
    "version": 3
   },
   "file_extension": ".py",
   "mimetype": "text/x-python",
   "name": "python",
   "nbconvert_exporter": "python",
   "pygments_lexer": "ipython3",
   "version": "3.11.8"
  }
 },
 "nbformat": 4,
 "nbformat_minor": 5
}
