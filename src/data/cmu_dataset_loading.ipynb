{
 "cells": [
  {
   "cell_type": "code",
   "execution_count": 13,
   "id": "b41cfad6-7c40-4b85-9ece-6cf3f4021f8f",
   "metadata": {},
   "outputs": [],
   "source": [
    "\n",
    "import os\n",
    "import sys\n",
    "\n",
    "current_directory = os.getcwd()\n",
    "parent_directory = os.path.abspath(os.path.join(current_directory, '..'))\n",
    "sys.path.insert(0, parent_directory)\n",
    "\n",
    "import pandas as pd\n",
    "from utils.csv import load_dataframe_from_csv\n",
    "import time\n",
    "\n",
    "import dataloader\n",
    "import importlib\n",
    "importlib.reload(dataloader)\n",
    "\n",
    "from dataloader import load_initial_dataset, load_oscar_winning_films, load_oscar_winning_actors, load_oscar_winning_actresses, load_reviews\n",
    "\n",
    "\n"
   ]
  },
  {
   "cell_type": "markdown",
   "id": "06809fd6",
   "metadata": {},
   "source": [
    "Load the initial CMU datasets"
   ]
  },
  {
   "cell_type": "code",
   "execution_count": 14,
   "id": "5e1eab32-9324-4020-be8a-c34dac5dfb0b",
   "metadata": {},
   "outputs": [],
   "source": [
    "PATH_IN = 'dataset'\n",
    "movie, character, plot_summaries,  tvtropes, name_clusters = load_initial_dataset(PATH_IN)\n"
   ]
  },
  {
   "cell_type": "markdown",
   "id": "48808869-7b0b-42ba-b860-bc72fa961567",
   "metadata": {},
   "source": [
    "Generate the data frame containing the dataframes and save it into csv files"
   ]
  },
  {
   "cell_type": "code",
   "execution_count": 15,
   "id": "ae540e66",
   "metadata": {},
   "outputs": [],
   "source": [
    "OS = 'MAC'\n",
    "load_oscar_winning_films(OS)\n",
    "load_oscar_winning_actors(OS)\n",
    "load_oscar_winning_actresses(OS)"
   ]
  },
  {
   "cell_type": "markdown",
   "id": "8d440a48",
   "metadata": {},
   "source": [
    "Load the csv files"
   ]
  },
  {
   "cell_type": "code",
   "execution_count": 17,
   "id": "34da8366",
   "metadata": {},
   "outputs": [],
   "source": [
    "oscar_winning_films = load_dataframe_from_csv('oscar_winning_films')\n",
    "oscar_winning_actors = load_dataframe_from_csv('oscar_winning_actors')\n",
    "oscar_winning_actresses = load_dataframe_from_csv('oscar_winning_actresses')"
   ]
  },
  {
   "cell_type": "code",
   "execution_count": 18,
   "id": "28c733b8",
   "metadata": {},
   "outputs": [
    {
     "name": "stdout",
     "output_type": "stream",
     "text": [
      "Sunrise: A Song of Two Humans\n",
      "White Shadows in the South Seas\n",
      "With Byrd at the South Pole\n",
      "Tabu: A Story of the South Seas\n",
      "Shanghai Express\n",
      "A Farewell to Arms\n",
      "Cleopatra\n",
      "A Midsummer Night's Dream\n",
      "Anthony Adverse\n",
      "The Garden of Allah\n",
      "The Good Earth\n",
      "A Star Is Born\n",
      "The Great Waltz\n",
      "Sweethearts\n",
      "Wuthering Heights\n",
      "Gone with the Wind\n",
      "Rebecca\n",
      "The Thief of Bagdad\n",
      "How Green Was My Valley\n",
      "Blood and Sand\n",
      "Mrs. Miniver\n",
      "The Black Swan\n",
      "The Song of Bernadette\n",
      "Phantom of the Opera\n",
      "Laura\n",
      "Wilson\n",
      "The Picture of Dorian Gray\n",
      "Leave Her to Heaven\n",
      "Anna and the King of Siam\n",
      "The Yearling\n",
      "Great Expectations\n",
      "Black Narcissus\n",
      "The Naked City\n",
      "Joan of Arc\n",
      "Battleground\n",
      "She Wore a Yellow Ribbon\n",
      "The Third Man\n",
      "King Solomon's Mines\n",
      "A Place in the Sun\n",
      "An American in Paris\n",
      "The Bad and the Beautiful\n",
      "The Quiet Man\n",
      "From Here to Eternity\n",
      "Shane\n",
      "On the Waterfront\n",
      "Three Coins in the Fountain\n",
      "The Rose Tattoo\n",
      "To Catch a Thief\n",
      "Somebody Up There Likes Me\n",
      "Around the World in 80 Days\n",
      "The Bridge on the River Kwai\n",
      "The Defiant Ones\n",
      "Gigi\n",
      "The Diary of Anne Frank\n",
      "Ben-Hur\n",
      "Sons and Lovers\n",
      "Spartacus\n",
      "The Hustler\n",
      "West Side Story\n",
      "The Longest Day\n",
      "Lawrence of Arabia\n",
      "Hud\n",
      "Cleopatra\n",
      "Zorba the Greek\n",
      "My Fair Lady\n"
     ]
    },
    {
     "ename": "WebDriverException",
     "evalue": "Message: disconnected: not connected to DevTools\n  (failed to check if window was closed: disconnected: not connected to DevTools)\n  (Session info: chrome=130.0.6723.117)\nStacktrace:\n0   chromedriver                        0x000000010487d5dc cxxbridge1$str$ptr + 3653648\n1   chromedriver                        0x0000000104875e3c cxxbridge1$str$ptr + 3623024\n2   chromedriver                        0x00000001042e0100 cxxbridge1$string$len + 88404\n3   chromedriver                        0x00000001042ca3d8 core::str::slice_error_fail::h1cab30ac4b13c655 + 63280\n4   chromedriver                        0x00000001042ca318 core::str::slice_error_fail::h1cab30ac4b13c655 + 63088\n5   chromedriver                        0x000000010435b64c cxxbridge1$string$len + 593568\n6   chromedriver                        0x00000001043170fc cxxbridge1$string$len + 313680\n7   chromedriver                        0x0000000104317d4c cxxbridge1$string$len + 316832\n8   chromedriver                        0x000000010484864c cxxbridge1$str$ptr + 3436672\n9   chromedriver                        0x000000010484b988 cxxbridge1$str$ptr + 3449788\n10  chromedriver                        0x000000010482fa5c cxxbridge1$str$ptr + 3335312\n11  chromedriver                        0x000000010484c24c cxxbridge1$str$ptr + 3452032\n12  chromedriver                        0x0000000104820ce8 cxxbridge1$str$ptr + 3274524\n13  chromedriver                        0x00000001048669dc cxxbridge1$str$ptr + 3560464\n14  chromedriver                        0x0000000104866b58 cxxbridge1$str$ptr + 3560844\n15  chromedriver                        0x0000000104875ad4 cxxbridge1$str$ptr + 3622152\n16  libsystem_pthread.dylib             0x00000001890032e4 _pthread_start + 136\n17  libsystem_pthread.dylib             0x0000000188ffe0fc thread_start + 8\n",
     "output_type": "error",
     "traceback": [
      "\u001b[0;31m---------------------------------------------------------------------------\u001b[0m",
      "\u001b[0;31mWebDriverException\u001b[0m                        Traceback (most recent call last)",
      "Cell \u001b[0;32mIn[18], line 2\u001b[0m\n\u001b[1;32m      1\u001b[0m OS \u001b[38;5;241m=\u001b[39m \u001b[38;5;124m'\u001b[39m\u001b[38;5;124mMAC\u001b[39m\u001b[38;5;124m'\u001b[39m\n\u001b[0;32m----> 2\u001b[0m load_reviews(oscar_winning_films\u001b[38;5;241m.\u001b[39mvalues, \u001b[38;5;241m20\u001b[39m, OS)\n",
      "File \u001b[0;32m~/Desktop/ADA/ada-2024-project-5ds/src/data/dataloader.py:102\u001b[0m, in \u001b[0;36mload_reviews\u001b[0;34m(movies_list, max_number_of_reviews, OS)\u001b[0m\n\u001b[1;32m    100\u001b[0m time\u001b[38;5;241m.\u001b[39msleep(\u001b[38;5;241m5\u001b[39m)\n\u001b[1;32m    101\u001b[0m \u001b[38;5;66;03m# Wait until the rt-text element with the slot attribute is present\u001b[39;00m\n\u001b[0;32m--> 102\u001b[0m rt_text_element \u001b[38;5;241m=\u001b[39m WebDriverWait(driver, \u001b[38;5;241m15\u001b[39m)\u001b[38;5;241m.\u001b[39muntil(\n\u001b[1;32m    103\u001b[0m     EC\u001b[38;5;241m.\u001b[39mpresence_of_element_located((By\u001b[38;5;241m.\u001b[39mXPATH, \u001b[38;5;124m\"\u001b[39m\u001b[38;5;124m//rt-text[@slot=\u001b[39m\u001b[38;5;124m'\u001b[39m\u001b[38;5;124mtitle\u001b[39m\u001b[38;5;124m'\u001b[39m\u001b[38;5;124m]\u001b[39m\u001b[38;5;124m\"\u001b[39m))\n\u001b[1;32m    104\u001b[0m )\n\u001b[1;32m    107\u001b[0m title_name \u001b[38;5;241m=\u001b[39m rt_text_element\u001b[38;5;241m.\u001b[39mtext\n\u001b[1;32m    108\u001b[0m real_movie_titles\u001b[38;5;241m.\u001b[39mappend(title_name)\n",
      "File \u001b[0;32m/opt/homebrew/Caskroom/miniconda/base/envs/ada/lib/python3.11/site-packages/selenium/webdriver/support/wait.py:96\u001b[0m, in \u001b[0;36mWebDriverWait.until\u001b[0;34m(self, method, message)\u001b[0m\n\u001b[1;32m     94\u001b[0m \u001b[38;5;28;01mwhile\u001b[39;00m \u001b[38;5;28;01mTrue\u001b[39;00m:\n\u001b[1;32m     95\u001b[0m     \u001b[38;5;28;01mtry\u001b[39;00m:\n\u001b[0;32m---> 96\u001b[0m         value \u001b[38;5;241m=\u001b[39m method(\u001b[38;5;28mself\u001b[39m\u001b[38;5;241m.\u001b[39m_driver)\n\u001b[1;32m     97\u001b[0m         \u001b[38;5;28;01mif\u001b[39;00m value:\n\u001b[1;32m     98\u001b[0m             \u001b[38;5;28;01mreturn\u001b[39;00m value\n",
      "File \u001b[0;32m/opt/homebrew/Caskroom/miniconda/base/envs/ada/lib/python3.11/site-packages/selenium/webdriver/support/expected_conditions.py:84\u001b[0m, in \u001b[0;36mpresence_of_element_located.<locals>._predicate\u001b[0;34m(driver)\u001b[0m\n\u001b[1;32m     83\u001b[0m \u001b[38;5;28;01mdef\u001b[39;00m \u001b[38;5;21m_predicate\u001b[39m(driver: WebDriverOrWebElement):\n\u001b[0;32m---> 84\u001b[0m     \u001b[38;5;28;01mreturn\u001b[39;00m driver\u001b[38;5;241m.\u001b[39mfind_element(\u001b[38;5;241m*\u001b[39mlocator)\n",
      "File \u001b[0;32m/opt/homebrew/Caskroom/miniconda/base/envs/ada/lib/python3.11/site-packages/selenium/webdriver/remote/webdriver.py:748\u001b[0m, in \u001b[0;36mWebDriver.find_element\u001b[0;34m(self, by, value)\u001b[0m\n\u001b[1;32m    745\u001b[0m     by \u001b[38;5;241m=\u001b[39m By\u001b[38;5;241m.\u001b[39mCSS_SELECTOR\n\u001b[1;32m    746\u001b[0m     value \u001b[38;5;241m=\u001b[39m \u001b[38;5;124mf\u001b[39m\u001b[38;5;124m'\u001b[39m\u001b[38;5;124m[name=\u001b[39m\u001b[38;5;124m\"\u001b[39m\u001b[38;5;132;01m{\u001b[39;00mvalue\u001b[38;5;132;01m}\u001b[39;00m\u001b[38;5;124m\"\u001b[39m\u001b[38;5;124m]\u001b[39m\u001b[38;5;124m'\u001b[39m\n\u001b[0;32m--> 748\u001b[0m \u001b[38;5;28;01mreturn\u001b[39;00m \u001b[38;5;28mself\u001b[39m\u001b[38;5;241m.\u001b[39mexecute(Command\u001b[38;5;241m.\u001b[39mFIND_ELEMENT, {\u001b[38;5;124m\"\u001b[39m\u001b[38;5;124musing\u001b[39m\u001b[38;5;124m\"\u001b[39m: by, \u001b[38;5;124m\"\u001b[39m\u001b[38;5;124mvalue\u001b[39m\u001b[38;5;124m\"\u001b[39m: value})[\u001b[38;5;124m\"\u001b[39m\u001b[38;5;124mvalue\u001b[39m\u001b[38;5;124m\"\u001b[39m]\n",
      "File \u001b[0;32m/opt/homebrew/Caskroom/miniconda/base/envs/ada/lib/python3.11/site-packages/selenium/webdriver/remote/webdriver.py:354\u001b[0m, in \u001b[0;36mWebDriver.execute\u001b[0;34m(self, driver_command, params)\u001b[0m\n\u001b[1;32m    352\u001b[0m response \u001b[38;5;241m=\u001b[39m \u001b[38;5;28mself\u001b[39m\u001b[38;5;241m.\u001b[39mcommand_executor\u001b[38;5;241m.\u001b[39mexecute(driver_command, params)\n\u001b[1;32m    353\u001b[0m \u001b[38;5;28;01mif\u001b[39;00m response:\n\u001b[0;32m--> 354\u001b[0m     \u001b[38;5;28mself\u001b[39m\u001b[38;5;241m.\u001b[39merror_handler\u001b[38;5;241m.\u001b[39mcheck_response(response)\n\u001b[1;32m    355\u001b[0m     response[\u001b[38;5;124m\"\u001b[39m\u001b[38;5;124mvalue\u001b[39m\u001b[38;5;124m\"\u001b[39m] \u001b[38;5;241m=\u001b[39m \u001b[38;5;28mself\u001b[39m\u001b[38;5;241m.\u001b[39m_unwrap_value(response\u001b[38;5;241m.\u001b[39mget(\u001b[38;5;124m\"\u001b[39m\u001b[38;5;124mvalue\u001b[39m\u001b[38;5;124m\"\u001b[39m, \u001b[38;5;28;01mNone\u001b[39;00m))\n\u001b[1;32m    356\u001b[0m     \u001b[38;5;28;01mreturn\u001b[39;00m response\n",
      "File \u001b[0;32m/opt/homebrew/Caskroom/miniconda/base/envs/ada/lib/python3.11/site-packages/selenium/webdriver/remote/errorhandler.py:229\u001b[0m, in \u001b[0;36mErrorHandler.check_response\u001b[0;34m(self, response)\u001b[0m\n\u001b[1;32m    227\u001b[0m         alert_text \u001b[38;5;241m=\u001b[39m value[\u001b[38;5;124m\"\u001b[39m\u001b[38;5;124malert\u001b[39m\u001b[38;5;124m\"\u001b[39m]\u001b[38;5;241m.\u001b[39mget(\u001b[38;5;124m\"\u001b[39m\u001b[38;5;124mtext\u001b[39m\u001b[38;5;124m\"\u001b[39m)\n\u001b[1;32m    228\u001b[0m     \u001b[38;5;28;01mraise\u001b[39;00m exception_class(message, screen, stacktrace, alert_text)  \u001b[38;5;66;03m# type: ignore[call-arg]  # mypy is not smart enough here\u001b[39;00m\n\u001b[0;32m--> 229\u001b[0m \u001b[38;5;28;01mraise\u001b[39;00m exception_class(message, screen, stacktrace)\n",
      "\u001b[0;31mWebDriverException\u001b[0m: Message: disconnected: not connected to DevTools\n  (failed to check if window was closed: disconnected: not connected to DevTools)\n  (Session info: chrome=130.0.6723.117)\nStacktrace:\n0   chromedriver                        0x000000010487d5dc cxxbridge1$str$ptr + 3653648\n1   chromedriver                        0x0000000104875e3c cxxbridge1$str$ptr + 3623024\n2   chromedriver                        0x00000001042e0100 cxxbridge1$string$len + 88404\n3   chromedriver                        0x00000001042ca3d8 core::str::slice_error_fail::h1cab30ac4b13c655 + 63280\n4   chromedriver                        0x00000001042ca318 core::str::slice_error_fail::h1cab30ac4b13c655 + 63088\n5   chromedriver                        0x000000010435b64c cxxbridge1$string$len + 593568\n6   chromedriver                        0x00000001043170fc cxxbridge1$string$len + 313680\n7   chromedriver                        0x0000000104317d4c cxxbridge1$string$len + 316832\n8   chromedriver                        0x000000010484864c cxxbridge1$str$ptr + 3436672\n9   chromedriver                        0x000000010484b988 cxxbridge1$str$ptr + 3449788\n10  chromedriver                        0x000000010482fa5c cxxbridge1$str$ptr + 3335312\n11  chromedriver                        0x000000010484c24c cxxbridge1$str$ptr + 3452032\n12  chromedriver                        0x0000000104820ce8 cxxbridge1$str$ptr + 3274524\n13  chromedriver                        0x00000001048669dc cxxbridge1$str$ptr + 3560464\n14  chromedriver                        0x0000000104866b58 cxxbridge1$str$ptr + 3560844\n15  chromedriver                        0x0000000104875ad4 cxxbridge1$str$ptr + 3622152\n16  libsystem_pthread.dylib             0x00000001890032e4 _pthread_start + 136\n17  libsystem_pthread.dylib             0x0000000188ffe0fc thread_start + 8\n"
     ]
    }
   ],
   "source": [
    "OS = 'MAC'\n",
    "load_reviews(oscar_winning_films.values, 20, OS)"
   ]
  },
  {
   "cell_type": "markdown",
   "id": "765a7bb6",
   "metadata": {},
   "source": [
    "Generate the data frame containing the actors that won an oscar"
   ]
  },
  {
   "cell_type": "code",
   "execution_count": null,
   "id": "2b2f8602",
   "metadata": {},
   "outputs": [],
   "source": []
  }
 ],
 "metadata": {
  "kernelspec": {
   "display_name": "ada",
   "language": "python",
   "name": "python3"
  },
  "language_info": {
   "codemirror_mode": {
    "name": "ipython",
    "version": 3
   },
   "file_extension": ".py",
   "mimetype": "text/x-python",
   "name": "python",
   "nbconvert_exporter": "python",
   "pygments_lexer": "ipython3",
   "version": "3.11.8"
  }
 },
 "nbformat": 4,
 "nbformat_minor": 5
}
