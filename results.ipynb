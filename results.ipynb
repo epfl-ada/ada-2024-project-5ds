{
 "cells": [
  {
   "cell_type": "code",
   "execution_count": 73,
   "metadata": {},
   "outputs": [
    {
     "name": "stdout",
     "output_type": "stream",
     "text": [
      "The autoreload extension is already loaded. To reload it, use:\n",
      "  %reload_ext autoreload\n"
     ]
    }
   ],
   "source": [
    "from src.utils.data_utils import load_dataframe_from_csv, save_dataframe_to_csv\n",
    "from src.data.dataloader import load_initial_dataset, get_page_id_from_url\n",
    "import pandas as pd\n",
    "%load_ext autoreload\n",
    "%autoreload 2"
   ]
  },
  {
   "cell_type": "code",
   "execution_count": 70,
   "metadata": {},
   "outputs": [],
   "source": [
    "movie = load_dataframe_from_csv('movie_cmu.csv')\n",
    "character = load_dataframe_from_csv('character.csv')\n",
    "plot_summaries = load_dataframe_from_csv('plot_summaries.csv')\n",
    "tvtropes = load_dataframe_from_csv('tvtropes.csv')\n",
    "name_clusters = load_dataframe_from_csv('name_clusters.csv')\n",
    "oscar_winning_films = load_dataframe_from_csv('oscar_winning_films_ids.csv')\n",
    "oscar_winning_actors = load_dataframe_from_csv('oscar_winning_actors.csv')\n",
    "oscar_winning_actresses = load_dataframe_from_csv('oscar_winning_actresses.csv')\n",
    "oscar_supporting_actors = load_dataframe_from_csv('oscar_winning_supporting_actors.csv')\n",
    "oscar_supporting_actresses = load_dataframe_from_csv('oscar_winning_supporting_actresses.csv')\n",
    "extended_films = load_dataframe_from_csv('film_2015_2024.csv')\n",
    "academy_award_winning_films = load_dataframe_from_csv('acedemy_award_winning_films')\n",
    "winning_actors_info = load_dataframe_from_csv('winning_actors_information.csv')"
   ]
  },
  {
   "cell_type": "code",
   "execution_count": 72,
   "metadata": {},
   "outputs": [],
   "source": [
    "save_dataframe_to_csv(character, 'aa.csv')"
   ]
  },
  {
   "cell_type": "code",
   "execution_count": 43,
   "metadata": {},
   "outputs": [
    {
     "data": {
      "text/plain": [
       "'58342225'"
      ]
     },
     "execution_count": 43,
     "metadata": {},
     "output_type": "execute_result"
    }
   ],
   "source": [
    "get_page_id_from_url('https://en.wikipedia.org/wiki/Everything_Everywhere_All_at_Once')"
   ]
  },
  {
   "cell_type": "code",
   "execution_count": 52,
   "metadata": {},
   "outputs": [
    {
     "data": {
      "text/html": [
       "<div>\n",
       "<style scoped>\n",
       "    .dataframe tbody tr th:only-of-type {\n",
       "        vertical-align: middle;\n",
       "    }\n",
       "\n",
       "    .dataframe tbody tr th {\n",
       "        vertical-align: top;\n",
       "    }\n",
       "\n",
       "    .dataframe thead th {\n",
       "        text-align: right;\n",
       "    }\n",
       "</style>\n",
       "<table border=\"1\" class=\"dataframe\">\n",
       "  <thead>\n",
       "    <tr style=\"text-align: right;\">\n",
       "      <th></th>\n",
       "      <th>page_id</th>\n",
       "      <th>wikidata_id</th>\n",
       "      <th>actor</th>\n",
       "      <th>sexLabel</th>\n",
       "      <th>nativeLanguageLabel</th>\n",
       "      <th>countryOfCitizenshipLabel</th>\n",
       "      <th>ethnicGroupLabel</th>\n",
       "    </tr>\n",
       "  </thead>\n",
       "  <tbody>\n",
       "    <tr>\n",
       "      <th>0</th>\n",
       "      <td>106405</td>\n",
       "      <td>Q77181</td>\n",
       "      <td>Emil Jannings</td>\n",
       "      <td>male</td>\n",
       "      <td>NaN</td>\n",
       "      <td>Germany</td>\n",
       "      <td>NaN</td>\n",
       "    </tr>\n",
       "    <tr>\n",
       "      <th>1</th>\n",
       "      <td>142784</td>\n",
       "      <td>Q312073</td>\n",
       "      <td>Warner Baxter</td>\n",
       "      <td>male</td>\n",
       "      <td>English</td>\n",
       "      <td>United States of America</td>\n",
       "      <td>NaN</td>\n",
       "    </tr>\n",
       "    <tr>\n",
       "      <th>2</th>\n",
       "      <td>7605117</td>\n",
       "      <td>Q182229</td>\n",
       "      <td>George Arliss</td>\n",
       "      <td>male</td>\n",
       "      <td>NaN</td>\n",
       "      <td>United Kingdom</td>\n",
       "      <td>NaN</td>\n",
       "    </tr>\n",
       "    <tr>\n",
       "      <th>3</th>\n",
       "      <td>67022</td>\n",
       "      <td>Q295593</td>\n",
       "      <td>Lionel Barrymore</td>\n",
       "      <td>male</td>\n",
       "      <td>English</td>\n",
       "      <td>United States of America</td>\n",
       "      <td>NaN</td>\n",
       "    </tr>\n",
       "    <tr>\n",
       "      <th>4</th>\n",
       "      <td>142834</td>\n",
       "      <td>Q322179</td>\n",
       "      <td>Wallace Beery</td>\n",
       "      <td>male</td>\n",
       "      <td>English</td>\n",
       "      <td>United States of America</td>\n",
       "      <td>NaN</td>\n",
       "    </tr>\n",
       "    <tr>\n",
       "      <th>...</th>\n",
       "      <td>...</td>\n",
       "      <td>...</td>\n",
       "      <td>...</td>\n",
       "      <td>...</td>\n",
       "      <td>...</td>\n",
       "      <td>...</td>\n",
       "      <td>...</td>\n",
       "    </tr>\n",
       "    <tr>\n",
       "      <th>312</th>\n",
       "      <td>3762237</td>\n",
       "      <td>Q220901</td>\n",
       "      <td>Laura Dern</td>\n",
       "      <td>female</td>\n",
       "      <td>American English</td>\n",
       "      <td>United States of America</td>\n",
       "      <td>NaN</td>\n",
       "    </tr>\n",
       "    <tr>\n",
       "      <th>313</th>\n",
       "      <td>26143279</td>\n",
       "      <td>Q491013</td>\n",
       "      <td>Youn Yuh-jung</td>\n",
       "      <td>female</td>\n",
       "      <td>Korean</td>\n",
       "      <td>South Korea</td>\n",
       "      <td>NaN</td>\n",
       "    </tr>\n",
       "    <tr>\n",
       "      <th>314</th>\n",
       "      <td>51868604</td>\n",
       "      <td>Q27733932</td>\n",
       "      <td>Ariana DeBose</td>\n",
       "      <td>female</td>\n",
       "      <td>English</td>\n",
       "      <td>United States of America</td>\n",
       "      <td>NaN</td>\n",
       "    </tr>\n",
       "    <tr>\n",
       "      <th>315</th>\n",
       "      <td>68378</td>\n",
       "      <td>Q106997</td>\n",
       "      <td>Jamie Lee Curtis</td>\n",
       "      <td>female</td>\n",
       "      <td>English</td>\n",
       "      <td>United States of America</td>\n",
       "      <td>NaN</td>\n",
       "    </tr>\n",
       "    <tr>\n",
       "      <th>316</th>\n",
       "      <td>35719670</td>\n",
       "      <td>Q5243751</td>\n",
       "      <td>Da'Vine Joy Randolph</td>\n",
       "      <td>female</td>\n",
       "      <td>NaN</td>\n",
       "      <td>United States of America</td>\n",
       "      <td>NaN</td>\n",
       "    </tr>\n",
       "  </tbody>\n",
       "</table>\n",
       "<p>317 rows × 7 columns</p>\n",
       "</div>"
      ],
      "text/plain": [
       "      page_id wikidata_id                 actor sexLabel nativeLanguageLabel  \\\n",
       "0      106405      Q77181         Emil Jannings     male                 NaN   \n",
       "1      142784     Q312073         Warner Baxter     male             English   \n",
       "2     7605117     Q182229         George Arliss     male                 NaN   \n",
       "3       67022     Q295593      Lionel Barrymore     male             English   \n",
       "4      142834     Q322179         Wallace Beery     male             English   \n",
       "..        ...         ...                   ...      ...                 ...   \n",
       "312   3762237     Q220901            Laura Dern   female    American English   \n",
       "313  26143279     Q491013         Youn Yuh-jung   female              Korean   \n",
       "314  51868604   Q27733932         Ariana DeBose   female             English   \n",
       "315     68378     Q106997      Jamie Lee Curtis   female             English   \n",
       "316  35719670    Q5243751  Da'Vine Joy Randolph   female                 NaN   \n",
       "\n",
       "    countryOfCitizenshipLabel ethnicGroupLabel  \n",
       "0                     Germany              NaN  \n",
       "1    United States of America              NaN  \n",
       "2              United Kingdom              NaN  \n",
       "3    United States of America              NaN  \n",
       "4    United States of America              NaN  \n",
       "..                        ...              ...  \n",
       "312  United States of America              NaN  \n",
       "313               South Korea              NaN  \n",
       "314  United States of America              NaN  \n",
       "315  United States of America              NaN  \n",
       "316  United States of America              NaN  \n",
       "\n",
       "[317 rows x 7 columns]"
      ]
     },
     "execution_count": 52,
     "metadata": {},
     "output_type": "execute_result"
    }
   ],
   "source": [
    "winning_actors_info"
   ]
  },
  {
   "cell_type": "code",
   "execution_count": null,
   "metadata": {},
   "outputs": [],
   "source": []
  }
 ],
 "metadata": {
  "kernelspec": {
   "display_name": "ada",
   "language": "python",
   "name": "python3"
  },
  "language_info": {
   "codemirror_mode": {
    "name": "ipython",
    "version": 3
   },
   "file_extension": ".py",
   "mimetype": "text/x-python",
   "name": "python",
   "nbconvert_exporter": "python",
   "pygments_lexer": "ipython3",
   "version": "3.11.8"
  }
 },
 "nbformat": 4,
 "nbformat_minor": 2
}
