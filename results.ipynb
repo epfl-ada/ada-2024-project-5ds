{
 "cells": [
  {
   "cell_type": "code",
   "execution_count": 34,
   "metadata": {},
   "outputs": [
    {
     "name": "stdout",
     "output_type": "stream",
     "text": [
      "The autoreload extension is already loaded. To reload it, use:\n",
      "  %reload_ext autoreload\n"
     ]
    }
   ],
   "source": [
    "from src.utils.data_utils import load_dataframe_from_csv\n",
    "from src.data.dataloader import load_initial_dataset, get_page_id_from_url\n",
    "import pandas as pd\n",
    "%load_ext autoreload\n",
    "%autoreload 2"
   ]
  },
  {
   "cell_type": "code",
   "execution_count": 50,
   "metadata": {},
   "outputs": [],
   "source": [
    "movie, character, plot_summaries,  tvtropes, name_clusters = load_initial_dataset('data')\n",
    "oscar_winning_films = load_dataframe_from_csv('oscar_winning_films_ids.csv')\n",
    "oscar_winning_actors = load_dataframe_from_csv('oscar_winning_actors.csv')\n",
    "oscar_winning_actresses = load_dataframe_from_csv('oscar_winning_actresses.csv')\n",
    "oscar_supporting_actors = load_dataframe_from_csv('oscar_winning_supporting_actors.csv')\n",
    "oscar_supporting_actresses = load_dataframe_from_csv('oscar_winning_supporting_actresses.csv')\n",
    "extended_films = load_dataframe_from_csv('film_2015_2024.csv')\n",
    "academy_award_winning_films = load_dataframe_from_csv('acedemy_award_winning_films')\n",
    "winning_actors_info = load_dataframe_from_csv('winning_actors_information.csv')"
   ]
  },
  {
   "cell_type": "code",
   "execution_count": 43,
   "metadata": {},
   "outputs": [
    {
     "data": {
      "text/plain": [
       "'58342225'"
      ]
     },
     "execution_count": 43,
     "metadata": {},
     "output_type": "execute_result"
    }
   ],
   "source": [
    "get_page_id_from_url('https://en.wikipedia.org/wiki/Everything_Everywhere_All_at_Once')"
   ]
  }
 ],
 "metadata": {
  "kernelspec": {
   "display_name": "ada",
   "language": "python",
   "name": "python3"
  },
  "language_info": {
   "codemirror_mode": {
    "name": "ipython",
    "version": 3
   },
   "file_extension": ".py",
   "mimetype": "text/x-python",
   "name": "python",
   "nbconvert_exporter": "python",
   "pygments_lexer": "ipython3",
   "version": "3.11.8"
  }
 },
 "nbformat": 4,
 "nbformat_minor": 2
}
